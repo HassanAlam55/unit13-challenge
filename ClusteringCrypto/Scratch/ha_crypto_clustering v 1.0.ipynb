{
 "cells": [
  {
   "cell_type": "markdown",
   "metadata": {},
   "source": [
    "# Clustering Crypto"
   ]
  },
  {
   "cell_type": "code",
   "execution_count": 144,
   "metadata": {},
   "outputs": [],
   "source": [
    "# Initial imports\n",
    "import requests\n",
    "import pandas as pd\n",
    "import matplotlib.pyplot as plt\n",
    "import hvplot.pandas\n",
    "import plotly.express as px\n",
    "from sklearn.preprocessing import StandardScaler, MinMaxScaler\n",
    "from sklearn.decomposition import PCA\n",
    "from sklearn.cluster import KMeans"
   ]
  },
  {
   "cell_type": "code",
   "execution_count": 145,
   "metadata": {},
   "outputs": [],
   "source": [
    "# delete\n",
    "# !pip install plotly-express\n"
   ]
  },
  {
   "cell_type": "markdown",
   "metadata": {},
   "source": [
    "### additional imports"
   ]
  },
  {
   "cell_type": "code",
   "execution_count": 146,
   "metadata": {},
   "outputs": [],
   "source": [
    "from pathlib import Path"
   ]
  },
  {
   "cell_type": "markdown",
   "metadata": {},
   "source": [
    "### Fetching Cryptocurrency Data"
   ]
  },
  {
   "cell_type": "code",
   "execution_count": 147,
   "metadata": {},
   "outputs": [],
   "source": [
    "# Use the following endpoint to fetch json data\n",
    "url = \"https://min-api.cryptocompare.com/data/all/coinlist\""
   ]
  },
  {
   "cell_type": "code",
   "execution_count": 148,
   "metadata": {},
   "outputs": [],
   "source": [
    "# Create a DataFrame \n",
    "# HINT: You will need to use the 'Data' key from the json response, then transpose the DataFrame."
   ]
  },
  {
   "cell_type": "code",
   "execution_count": 149,
   "metadata": {},
   "outputs": [],
   "source": [
    "# Alternatively, use the provided csv file:\n",
    "file_path = Path(\"Resources/crypto_data.csv\")\n",
    "\n",
    "# Create a DataFrame\n",
    "df = pd.read_csv(file_path)"
   ]
  },
  {
   "cell_type": "code",
   "execution_count": 150,
   "metadata": {},
   "outputs": [],
   "source": [
    "# df.columns"
   ]
  },
  {
   "cell_type": "code",
   "execution_count": 151,
   "metadata": {},
   "outputs": [
    {
     "data": {
      "text/html": [
       "<div>\n",
       "<style scoped>\n",
       "    .dataframe tbody tr th:only-of-type {\n",
       "        vertical-align: middle;\n",
       "    }\n",
       "\n",
       "    .dataframe tbody tr th {\n",
       "        vertical-align: top;\n",
       "    }\n",
       "\n",
       "    .dataframe thead th {\n",
       "        text-align: right;\n",
       "    }\n",
       "</style>\n",
       "<table border=\"1\" class=\"dataframe\">\n",
       "  <thead>\n",
       "    <tr style=\"text-align: right;\">\n",
       "      <th></th>\n",
       "      <th>Unnamed: 0</th>\n",
       "      <th>CoinName</th>\n",
       "      <th>Algorithm</th>\n",
       "      <th>IsTrading</th>\n",
       "      <th>ProofType</th>\n",
       "      <th>TotalCoinsMined</th>\n",
       "      <th>TotalCoinSupply</th>\n",
       "    </tr>\n",
       "  </thead>\n",
       "  <tbody>\n",
       "    <tr>\n",
       "      <th>0</th>\n",
       "      <td>42</td>\n",
       "      <td>42 Coin</td>\n",
       "      <td>Scrypt</td>\n",
       "      <td>True</td>\n",
       "      <td>PoW/PoS</td>\n",
       "      <td>4.199995e+01</td>\n",
       "      <td>42</td>\n",
       "    </tr>\n",
       "    <tr>\n",
       "      <th>1</th>\n",
       "      <td>365</td>\n",
       "      <td>365Coin</td>\n",
       "      <td>X11</td>\n",
       "      <td>True</td>\n",
       "      <td>PoW/PoS</td>\n",
       "      <td>NaN</td>\n",
       "      <td>2300000000</td>\n",
       "    </tr>\n",
       "    <tr>\n",
       "      <th>2</th>\n",
       "      <td>404</td>\n",
       "      <td>404Coin</td>\n",
       "      <td>Scrypt</td>\n",
       "      <td>True</td>\n",
       "      <td>PoW/PoS</td>\n",
       "      <td>1.055185e+09</td>\n",
       "      <td>532000000</td>\n",
       "    </tr>\n",
       "    <tr>\n",
       "      <th>3</th>\n",
       "      <td>611</td>\n",
       "      <td>SixEleven</td>\n",
       "      <td>SHA-256</td>\n",
       "      <td>True</td>\n",
       "      <td>PoW</td>\n",
       "      <td>NaN</td>\n",
       "      <td>611000</td>\n",
       "    </tr>\n",
       "    <tr>\n",
       "      <th>4</th>\n",
       "      <td>808</td>\n",
       "      <td>808</td>\n",
       "      <td>SHA-256</td>\n",
       "      <td>True</td>\n",
       "      <td>PoW/PoS</td>\n",
       "      <td>0.000000e+00</td>\n",
       "      <td>0</td>\n",
       "    </tr>\n",
       "  </tbody>\n",
       "</table>\n",
       "</div>"
      ],
      "text/plain": [
       "  Unnamed: 0   CoinName Algorithm  IsTrading ProofType  TotalCoinsMined  \\\n",
       "0         42    42 Coin    Scrypt       True   PoW/PoS     4.199995e+01   \n",
       "1        365    365Coin       X11       True   PoW/PoS              NaN   \n",
       "2        404    404Coin    Scrypt       True   PoW/PoS     1.055185e+09   \n",
       "3        611  SixEleven   SHA-256       True       PoW              NaN   \n",
       "4        808        808   SHA-256       True   PoW/PoS     0.000000e+00   \n",
       "\n",
       "  TotalCoinSupply  \n",
       "0              42  \n",
       "1      2300000000  \n",
       "2       532000000  \n",
       "3          611000  \n",
       "4               0  "
      ]
     },
     "execution_count": 151,
     "metadata": {},
     "output_type": "execute_result"
    }
   ],
   "source": [
    "df.head(5)"
   ]
  },
  {
   "cell_type": "markdown",
   "metadata": {},
   "source": [
    "### Data Preprocessing"
   ]
  },
  {
   "cell_type": "code",
   "execution_count": 152,
   "metadata": {},
   "outputs": [
    {
     "data": {
      "text/html": [
       "<div>\n",
       "<style scoped>\n",
       "    .dataframe tbody tr th:only-of-type {\n",
       "        vertical-align: middle;\n",
       "    }\n",
       "\n",
       "    .dataframe tbody tr th {\n",
       "        vertical-align: top;\n",
       "    }\n",
       "\n",
       "    .dataframe thead th {\n",
       "        text-align: right;\n",
       "    }\n",
       "</style>\n",
       "<table border=\"1\" class=\"dataframe\">\n",
       "  <thead>\n",
       "    <tr style=\"text-align: right;\">\n",
       "      <th></th>\n",
       "      <th>CoinName</th>\n",
       "      <th>Algorithm</th>\n",
       "      <th>IsTrading</th>\n",
       "      <th>ProofType</th>\n",
       "      <th>TotalCoinsMined</th>\n",
       "      <th>TotalCoinSupply</th>\n",
       "    </tr>\n",
       "  </thead>\n",
       "  <tbody>\n",
       "    <tr>\n",
       "      <th>0</th>\n",
       "      <td>42 Coin</td>\n",
       "      <td>Scrypt</td>\n",
       "      <td>True</td>\n",
       "      <td>PoW/PoS</td>\n",
       "      <td>4.199995e+01</td>\n",
       "      <td>42</td>\n",
       "    </tr>\n",
       "    <tr>\n",
       "      <th>1</th>\n",
       "      <td>365Coin</td>\n",
       "      <td>X11</td>\n",
       "      <td>True</td>\n",
       "      <td>PoW/PoS</td>\n",
       "      <td>NaN</td>\n",
       "      <td>2300000000</td>\n",
       "    </tr>\n",
       "    <tr>\n",
       "      <th>2</th>\n",
       "      <td>404Coin</td>\n",
       "      <td>Scrypt</td>\n",
       "      <td>True</td>\n",
       "      <td>PoW/PoS</td>\n",
       "      <td>1.055185e+09</td>\n",
       "      <td>532000000</td>\n",
       "    </tr>\n",
       "    <tr>\n",
       "      <th>3</th>\n",
       "      <td>SixEleven</td>\n",
       "      <td>SHA-256</td>\n",
       "      <td>True</td>\n",
       "      <td>PoW</td>\n",
       "      <td>NaN</td>\n",
       "      <td>611000</td>\n",
       "    </tr>\n",
       "    <tr>\n",
       "      <th>4</th>\n",
       "      <td>808</td>\n",
       "      <td>SHA-256</td>\n",
       "      <td>True</td>\n",
       "      <td>PoW/PoS</td>\n",
       "      <td>0.000000e+00</td>\n",
       "      <td>0</td>\n",
       "    </tr>\n",
       "  </tbody>\n",
       "</table>\n",
       "</div>"
      ],
      "text/plain": [
       "    CoinName Algorithm  IsTrading ProofType  TotalCoinsMined TotalCoinSupply\n",
       "0    42 Coin    Scrypt       True   PoW/PoS     4.199995e+01              42\n",
       "1    365Coin       X11       True   PoW/PoS              NaN      2300000000\n",
       "2    404Coin    Scrypt       True   PoW/PoS     1.055185e+09       532000000\n",
       "3  SixEleven   SHA-256       True       PoW              NaN          611000\n",
       "4        808   SHA-256       True   PoW/PoS     0.000000e+00               0"
      ]
     },
     "execution_count": 152,
     "metadata": {},
     "output_type": "execute_result"
    }
   ],
   "source": [
    "# Keep only necessary columns:\n",
    "# 'CoinName','Algorithm','IsTrading','ProofType','TotalCoinsMined','TotalCoinSupply'\n",
    "df_test = df.iloc[: , 1:]\n",
    "df_test.head(5)"
   ]
  },
  {
   "cell_type": "code",
   "execution_count": 153,
   "metadata": {},
   "outputs": [],
   "source": [
    "# Keep only cryptocurrencies that are trading\n",
    "df_test = df_test [df_test['IsTrading'] == True]"
   ]
  },
  {
   "cell_type": "code",
   "execution_count": 154,
   "metadata": {},
   "outputs": [
    {
     "data": {
      "text/plain": [
       "0"
      ]
     },
     "execution_count": 154,
     "metadata": {},
     "output_type": "execute_result"
    }
   ],
   "source": [
    "df_test['Algorithm'].isnull().sum()"
   ]
  },
  {
   "cell_type": "code",
   "execution_count": 155,
   "metadata": {},
   "outputs": [],
   "source": [
    "# Keep only cryptocurrencies with a working algorithm\n"
   ]
  },
  {
   "cell_type": "code",
   "execution_count": 156,
   "metadata": {},
   "outputs": [],
   "source": [
    "# Remove the \"IsTrading\" column\n",
    "df_test.drop('IsTrading', inplace = True, axis = 1)\n"
   ]
  },
  {
   "cell_type": "code",
   "execution_count": 157,
   "metadata": {},
   "outputs": [
    {
     "data": {
      "text/plain": [
       "CoinName             0\n",
       "Algorithm            0\n",
       "ProofType            0\n",
       "TotalCoinsMined    459\n",
       "TotalCoinSupply      0\n",
       "dtype: int64"
      ]
     },
     "execution_count": 157,
     "metadata": {},
     "output_type": "execute_result"
    }
   ],
   "source": [
    "df_test.isnull().sum()"
   ]
  },
  {
   "cell_type": "code",
   "execution_count": 158,
   "metadata": {},
   "outputs": [
    {
     "data": {
      "text/html": [
       "<div>\n",
       "<style scoped>\n",
       "    .dataframe tbody tr th:only-of-type {\n",
       "        vertical-align: middle;\n",
       "    }\n",
       "\n",
       "    .dataframe tbody tr th {\n",
       "        vertical-align: top;\n",
       "    }\n",
       "\n",
       "    .dataframe thead th {\n",
       "        text-align: right;\n",
       "    }\n",
       "</style>\n",
       "<table border=\"1\" class=\"dataframe\">\n",
       "  <thead>\n",
       "    <tr style=\"text-align: right;\">\n",
       "      <th></th>\n",
       "      <th>CoinName</th>\n",
       "      <th>Algorithm</th>\n",
       "      <th>ProofType</th>\n",
       "      <th>TotalCoinsMined</th>\n",
       "      <th>TotalCoinSupply</th>\n",
       "    </tr>\n",
       "  </thead>\n",
       "  <tbody>\n",
       "    <tr>\n",
       "      <th>0</th>\n",
       "      <td>42 Coin</td>\n",
       "      <td>Scrypt</td>\n",
       "      <td>PoW/PoS</td>\n",
       "      <td>4.199995e+01</td>\n",
       "      <td>42</td>\n",
       "    </tr>\n",
       "    <tr>\n",
       "      <th>2</th>\n",
       "      <td>404Coin</td>\n",
       "      <td>Scrypt</td>\n",
       "      <td>PoW/PoS</td>\n",
       "      <td>1.055185e+09</td>\n",
       "      <td>532000000</td>\n",
       "    </tr>\n",
       "    <tr>\n",
       "      <th>4</th>\n",
       "      <td>808</td>\n",
       "      <td>SHA-256</td>\n",
       "      <td>PoW/PoS</td>\n",
       "      <td>0.000000e+00</td>\n",
       "      <td>0</td>\n",
       "    </tr>\n",
       "    <tr>\n",
       "      <th>5</th>\n",
       "      <td>EliteCoin</td>\n",
       "      <td>X13</td>\n",
       "      <td>PoW/PoS</td>\n",
       "      <td>2.927942e+10</td>\n",
       "      <td>314159265359</td>\n",
       "    </tr>\n",
       "    <tr>\n",
       "      <th>7</th>\n",
       "      <td>Bitcoin</td>\n",
       "      <td>SHA-256</td>\n",
       "      <td>PoW</td>\n",
       "      <td>1.792718e+07</td>\n",
       "      <td>21000000</td>\n",
       "    </tr>\n",
       "  </tbody>\n",
       "</table>\n",
       "</div>"
      ],
      "text/plain": [
       "    CoinName Algorithm ProofType  TotalCoinsMined TotalCoinSupply\n",
       "0    42 Coin    Scrypt   PoW/PoS     4.199995e+01              42\n",
       "2    404Coin    Scrypt   PoW/PoS     1.055185e+09       532000000\n",
       "4        808   SHA-256   PoW/PoS     0.000000e+00               0\n",
       "5  EliteCoin       X13   PoW/PoS     2.927942e+10    314159265359\n",
       "7    Bitcoin   SHA-256       PoW     1.792718e+07        21000000"
      ]
     },
     "execution_count": 158,
     "metadata": {},
     "output_type": "execute_result"
    }
   ],
   "source": [
    "# Remove rows with at least 1 null value\n",
    "df_test.dropna(inplace = True)\n",
    "df_test.head()"
   ]
  },
  {
   "cell_type": "code",
   "execution_count": null,
   "metadata": {},
   "outputs": [],
   "source": []
  },
  {
   "cell_type": "code",
   "execution_count": 159,
   "metadata": {},
   "outputs": [
    {
     "data": {
      "text/plain": [
       "CoinName            object\n",
       "Algorithm           object\n",
       "ProofType           object\n",
       "TotalCoinsMined    float64\n",
       "TotalCoinSupply    float64\n",
       "dtype: object"
      ]
     },
     "execution_count": 159,
     "metadata": {},
     "output_type": "execute_result"
    }
   ],
   "source": [
    "df_test.dtypes\n",
    "# df['a'] = pd.to_numeric(df['a'],errors = 'coerce')\n",
    "df_test['TotalCoinSupply'] = pd.to_numeric(df_test['TotalCoinSupply'] ,errors = 'coerce')\n",
    "df_test.dtypes"
   ]
  },
  {
   "cell_type": "code",
   "execution_count": 163,
   "metadata": {},
   "outputs": [
    {
     "data": {
      "text/html": [
       "<div>\n",
       "<style scoped>\n",
       "    .dataframe tbody tr th:only-of-type {\n",
       "        vertical-align: middle;\n",
       "    }\n",
       "\n",
       "    .dataframe tbody tr th {\n",
       "        vertical-align: top;\n",
       "    }\n",
       "\n",
       "    .dataframe thead th {\n",
       "        text-align: right;\n",
       "    }\n",
       "</style>\n",
       "<table border=\"1\" class=\"dataframe\">\n",
       "  <thead>\n",
       "    <tr style=\"text-align: right;\">\n",
       "      <th></th>\n",
       "      <th>CoinName</th>\n",
       "      <th>Algorithm</th>\n",
       "      <th>ProofType</th>\n",
       "      <th>TotalCoinsMined</th>\n",
       "      <th>TotalCoinSupply</th>\n",
       "    </tr>\n",
       "  </thead>\n",
       "  <tbody>\n",
       "    <tr>\n",
       "      <th>0</th>\n",
       "      <td>42 Coin</td>\n",
       "      <td>Scrypt</td>\n",
       "      <td>PoW/PoS</td>\n",
       "      <td>4.199995e+01</td>\n",
       "      <td>4.200000e+01</td>\n",
       "    </tr>\n",
       "    <tr>\n",
       "      <th>2</th>\n",
       "      <td>404Coin</td>\n",
       "      <td>Scrypt</td>\n",
       "      <td>PoW/PoS</td>\n",
       "      <td>1.055185e+09</td>\n",
       "      <td>5.320000e+08</td>\n",
       "    </tr>\n",
       "    <tr>\n",
       "      <th>5</th>\n",
       "      <td>EliteCoin</td>\n",
       "      <td>X13</td>\n",
       "      <td>PoW/PoS</td>\n",
       "      <td>2.927942e+10</td>\n",
       "      <td>3.141593e+11</td>\n",
       "    </tr>\n",
       "    <tr>\n",
       "      <th>7</th>\n",
       "      <td>Bitcoin</td>\n",
       "      <td>SHA-256</td>\n",
       "      <td>PoW</td>\n",
       "      <td>1.792718e+07</td>\n",
       "      <td>2.100000e+07</td>\n",
       "    </tr>\n",
       "    <tr>\n",
       "      <th>9</th>\n",
       "      <td>Litecoin</td>\n",
       "      <td>Scrypt</td>\n",
       "      <td>PoW</td>\n",
       "      <td>6.303924e+07</td>\n",
       "      <td>8.400000e+07</td>\n",
       "    </tr>\n",
       "  </tbody>\n",
       "</table>\n",
       "</div>"
      ],
      "text/plain": [
       "    CoinName Algorithm ProofType  TotalCoinsMined  TotalCoinSupply\n",
       "0    42 Coin    Scrypt   PoW/PoS     4.199995e+01     4.200000e+01\n",
       "2    404Coin    Scrypt   PoW/PoS     1.055185e+09     5.320000e+08\n",
       "5  EliteCoin       X13   PoW/PoS     2.927942e+10     3.141593e+11\n",
       "7    Bitcoin   SHA-256       PoW     1.792718e+07     2.100000e+07\n",
       "9   Litecoin    Scrypt       PoW     6.303924e+07     8.400000e+07"
      ]
     },
     "execution_count": 163,
     "metadata": {},
     "output_type": "execute_result"
    }
   ],
   "source": [
    "# Remove rows with cryptocurrencies having no coins mined\n",
    "df_test = df_test [df_test['TotalCoinSupply'] != 0]\n",
    "df_test.head(5)"
   ]
  },
  {
   "cell_type": "code",
   "execution_count": 164,
   "metadata": {},
   "outputs": [],
   "source": [
    "# create dataframe to add later\n",
    "coin_df = df_test.copy()"
   ]
  },
  {
   "cell_type": "code",
   "execution_count": 161,
   "metadata": {},
   "outputs": [],
   "source": [
    "# Drop rows where there are 'N/A' text values\n",
    "# aldready done..???\n"
   ]
  },
  {
   "cell_type": "code",
   "execution_count": 212,
   "metadata": {},
   "outputs": [
    {
     "data": {
      "text/html": [
       "<div>\n",
       "<style scoped>\n",
       "    .dataframe tbody tr th:only-of-type {\n",
       "        vertical-align: middle;\n",
       "    }\n",
       "\n",
       "    .dataframe tbody tr th {\n",
       "        vertical-align: top;\n",
       "    }\n",
       "\n",
       "    .dataframe thead th {\n",
       "        text-align: right;\n",
       "    }\n",
       "</style>\n",
       "<table border=\"1\" class=\"dataframe\">\n",
       "  <thead>\n",
       "    <tr style=\"text-align: right;\">\n",
       "      <th></th>\n",
       "      <th>CoinName</th>\n",
       "    </tr>\n",
       "  </thead>\n",
       "  <tbody>\n",
       "    <tr>\n",
       "      <th>0</th>\n",
       "      <td>42 Coin</td>\n",
       "    </tr>\n",
       "    <tr>\n",
       "      <th>2</th>\n",
       "      <td>404Coin</td>\n",
       "    </tr>\n",
       "    <tr>\n",
       "      <th>5</th>\n",
       "      <td>EliteCoin</td>\n",
       "    </tr>\n",
       "    <tr>\n",
       "      <th>7</th>\n",
       "      <td>Bitcoin</td>\n",
       "    </tr>\n",
       "    <tr>\n",
       "      <th>9</th>\n",
       "      <td>Litecoin</td>\n",
       "    </tr>\n",
       "  </tbody>\n",
       "</table>\n",
       "</div>"
      ],
      "text/plain": [
       "    CoinName\n",
       "0    42 Coin\n",
       "2    404Coin\n",
       "5  EliteCoin\n",
       "7    Bitcoin\n",
       "9   Litecoin"
      ]
     },
     "execution_count": 212,
     "metadata": {},
     "output_type": "execute_result"
    }
   ],
   "source": [
    "# Store the 'CoinName'column in its own DataFrame prior to dropping it from crypto_df\n",
    "coin_name = df_test.filter(['CoinName'], axis = 1)\n",
    "# df_CoinName.column = ['CoinName']\n",
    "coin_name.head()"
   ]
  },
  {
   "cell_type": "code",
   "execution_count": 124,
   "metadata": {},
   "outputs": [
    {
     "data": {
      "text/html": [
       "<div>\n",
       "<style scoped>\n",
       "    .dataframe tbody tr th:only-of-type {\n",
       "        vertical-align: middle;\n",
       "    }\n",
       "\n",
       "    .dataframe tbody tr th {\n",
       "        vertical-align: top;\n",
       "    }\n",
       "\n",
       "    .dataframe thead th {\n",
       "        text-align: right;\n",
       "    }\n",
       "</style>\n",
       "<table border=\"1\" class=\"dataframe\">\n",
       "  <thead>\n",
       "    <tr style=\"text-align: right;\">\n",
       "      <th></th>\n",
       "      <th>Algorithm</th>\n",
       "      <th>ProofType</th>\n",
       "      <th>TotalCoinsMined</th>\n",
       "      <th>TotalCoinSupply</th>\n",
       "    </tr>\n",
       "  </thead>\n",
       "  <tbody>\n",
       "    <tr>\n",
       "      <th>0</th>\n",
       "      <td>Scrypt</td>\n",
       "      <td>PoW/PoS</td>\n",
       "      <td>4.199995e+01</td>\n",
       "      <td>4.200000e+01</td>\n",
       "    </tr>\n",
       "    <tr>\n",
       "      <th>2</th>\n",
       "      <td>Scrypt</td>\n",
       "      <td>PoW/PoS</td>\n",
       "      <td>1.055185e+09</td>\n",
       "      <td>5.320000e+08</td>\n",
       "    </tr>\n",
       "    <tr>\n",
       "      <th>5</th>\n",
       "      <td>X13</td>\n",
       "      <td>PoW/PoS</td>\n",
       "      <td>2.927942e+10</td>\n",
       "      <td>3.141593e+11</td>\n",
       "    </tr>\n",
       "    <tr>\n",
       "      <th>7</th>\n",
       "      <td>SHA-256</td>\n",
       "      <td>PoW</td>\n",
       "      <td>1.792718e+07</td>\n",
       "      <td>2.100000e+07</td>\n",
       "    </tr>\n",
       "    <tr>\n",
       "      <th>9</th>\n",
       "      <td>Scrypt</td>\n",
       "      <td>PoW</td>\n",
       "      <td>6.303924e+07</td>\n",
       "      <td>8.400000e+07</td>\n",
       "    </tr>\n",
       "  </tbody>\n",
       "</table>\n",
       "</div>"
      ],
      "text/plain": [
       "  Algorithm ProofType  TotalCoinsMined  TotalCoinSupply\n",
       "0    Scrypt   PoW/PoS     4.199995e+01     4.200000e+01\n",
       "2    Scrypt   PoW/PoS     1.055185e+09     5.320000e+08\n",
       "5       X13   PoW/PoS     2.927942e+10     3.141593e+11\n",
       "7   SHA-256       PoW     1.792718e+07     2.100000e+07\n",
       "9    Scrypt       PoW     6.303924e+07     8.400000e+07"
      ]
     },
     "execution_count": 124,
     "metadata": {},
     "output_type": "execute_result"
    }
   ],
   "source": [
    "# Drop the 'CoinName' column since it's not going to be used on the clustering algorithm\n",
    "df_test.drop(['CoinName'], axis = 1, inplace = True)\n",
    "df_test.head()\n"
   ]
  },
  {
   "cell_type": "code",
   "execution_count": 126,
   "metadata": {},
   "outputs": [
    {
     "data": {
      "text/html": [
       "<div>\n",
       "<style scoped>\n",
       "    .dataframe tbody tr th:only-of-type {\n",
       "        vertical-align: middle;\n",
       "    }\n",
       "\n",
       "    .dataframe tbody tr th {\n",
       "        vertical-align: top;\n",
       "    }\n",
       "\n",
       "    .dataframe thead th {\n",
       "        text-align: right;\n",
       "    }\n",
       "</style>\n",
       "<table border=\"1\" class=\"dataframe\">\n",
       "  <thead>\n",
       "    <tr style=\"text-align: right;\">\n",
       "      <th></th>\n",
       "      <th>TotalCoinsMined</th>\n",
       "      <th>TotalCoinSupply</th>\n",
       "      <th>Algorithm_1GB AES Pattern Search</th>\n",
       "      <th>Algorithm_536</th>\n",
       "      <th>Algorithm_Argon2</th>\n",
       "      <th>Algorithm_BLAKE256</th>\n",
       "      <th>Algorithm_Blake</th>\n",
       "      <th>Algorithm_Blake2S</th>\n",
       "      <th>Algorithm_Blake2b</th>\n",
       "      <th>Algorithm_C11</th>\n",
       "      <th>...</th>\n",
       "      <th>ProofType_PoW/PoS</th>\n",
       "      <th>ProofType_PoW/PoS</th>\n",
       "      <th>ProofType_PoW/PoW</th>\n",
       "      <th>ProofType_PoW/nPoS</th>\n",
       "      <th>ProofType_Pos</th>\n",
       "      <th>ProofType_Proof of Authority</th>\n",
       "      <th>ProofType_Proof of Trust</th>\n",
       "      <th>ProofType_TPoS</th>\n",
       "      <th>ProofType_Zero-Knowledge Proof</th>\n",
       "      <th>ProofType_dPoW/PoW</th>\n",
       "    </tr>\n",
       "  </thead>\n",
       "  <tbody>\n",
       "    <tr>\n",
       "      <th>0</th>\n",
       "      <td>4.199995e+01</td>\n",
       "      <td>4.200000e+01</td>\n",
       "      <td>0</td>\n",
       "      <td>0</td>\n",
       "      <td>0</td>\n",
       "      <td>0</td>\n",
       "      <td>0</td>\n",
       "      <td>0</td>\n",
       "      <td>0</td>\n",
       "      <td>0</td>\n",
       "      <td>...</td>\n",
       "      <td>1</td>\n",
       "      <td>0</td>\n",
       "      <td>0</td>\n",
       "      <td>0</td>\n",
       "      <td>0</td>\n",
       "      <td>0</td>\n",
       "      <td>0</td>\n",
       "      <td>0</td>\n",
       "      <td>0</td>\n",
       "      <td>0</td>\n",
       "    </tr>\n",
       "    <tr>\n",
       "      <th>2</th>\n",
       "      <td>1.055185e+09</td>\n",
       "      <td>5.320000e+08</td>\n",
       "      <td>0</td>\n",
       "      <td>0</td>\n",
       "      <td>0</td>\n",
       "      <td>0</td>\n",
       "      <td>0</td>\n",
       "      <td>0</td>\n",
       "      <td>0</td>\n",
       "      <td>0</td>\n",
       "      <td>...</td>\n",
       "      <td>1</td>\n",
       "      <td>0</td>\n",
       "      <td>0</td>\n",
       "      <td>0</td>\n",
       "      <td>0</td>\n",
       "      <td>0</td>\n",
       "      <td>0</td>\n",
       "      <td>0</td>\n",
       "      <td>0</td>\n",
       "      <td>0</td>\n",
       "    </tr>\n",
       "    <tr>\n",
       "      <th>5</th>\n",
       "      <td>2.927942e+10</td>\n",
       "      <td>3.141593e+11</td>\n",
       "      <td>0</td>\n",
       "      <td>0</td>\n",
       "      <td>0</td>\n",
       "      <td>0</td>\n",
       "      <td>0</td>\n",
       "      <td>0</td>\n",
       "      <td>0</td>\n",
       "      <td>0</td>\n",
       "      <td>...</td>\n",
       "      <td>1</td>\n",
       "      <td>0</td>\n",
       "      <td>0</td>\n",
       "      <td>0</td>\n",
       "      <td>0</td>\n",
       "      <td>0</td>\n",
       "      <td>0</td>\n",
       "      <td>0</td>\n",
       "      <td>0</td>\n",
       "      <td>0</td>\n",
       "    </tr>\n",
       "    <tr>\n",
       "      <th>7</th>\n",
       "      <td>1.792718e+07</td>\n",
       "      <td>2.100000e+07</td>\n",
       "      <td>0</td>\n",
       "      <td>0</td>\n",
       "      <td>0</td>\n",
       "      <td>0</td>\n",
       "      <td>0</td>\n",
       "      <td>0</td>\n",
       "      <td>0</td>\n",
       "      <td>0</td>\n",
       "      <td>...</td>\n",
       "      <td>0</td>\n",
       "      <td>0</td>\n",
       "      <td>0</td>\n",
       "      <td>0</td>\n",
       "      <td>0</td>\n",
       "      <td>0</td>\n",
       "      <td>0</td>\n",
       "      <td>0</td>\n",
       "      <td>0</td>\n",
       "      <td>0</td>\n",
       "    </tr>\n",
       "    <tr>\n",
       "      <th>9</th>\n",
       "      <td>6.303924e+07</td>\n",
       "      <td>8.400000e+07</td>\n",
       "      <td>0</td>\n",
       "      <td>0</td>\n",
       "      <td>0</td>\n",
       "      <td>0</td>\n",
       "      <td>0</td>\n",
       "      <td>0</td>\n",
       "      <td>0</td>\n",
       "      <td>0</td>\n",
       "      <td>...</td>\n",
       "      <td>0</td>\n",
       "      <td>0</td>\n",
       "      <td>0</td>\n",
       "      <td>0</td>\n",
       "      <td>0</td>\n",
       "      <td>0</td>\n",
       "      <td>0</td>\n",
       "      <td>0</td>\n",
       "      <td>0</td>\n",
       "      <td>0</td>\n",
       "    </tr>\n",
       "  </tbody>\n",
       "</table>\n",
       "<p>5 rows × 105 columns</p>\n",
       "</div>"
      ],
      "text/plain": [
       "   TotalCoinsMined  TotalCoinSupply  Algorithm_1GB AES Pattern Search  \\\n",
       "0     4.199995e+01     4.200000e+01                                 0   \n",
       "2     1.055185e+09     5.320000e+08                                 0   \n",
       "5     2.927942e+10     3.141593e+11                                 0   \n",
       "7     1.792718e+07     2.100000e+07                                 0   \n",
       "9     6.303924e+07     8.400000e+07                                 0   \n",
       "\n",
       "   Algorithm_536  Algorithm_Argon2  Algorithm_BLAKE256  Algorithm_Blake  \\\n",
       "0              0                 0                   0                0   \n",
       "2              0                 0                   0                0   \n",
       "5              0                 0                   0                0   \n",
       "7              0                 0                   0                0   \n",
       "9              0                 0                   0                0   \n",
       "\n",
       "   Algorithm_Blake2S  Algorithm_Blake2b  Algorithm_C11  ...  \\\n",
       "0                  0                  0              0  ...   \n",
       "2                  0                  0              0  ...   \n",
       "5                  0                  0              0  ...   \n",
       "7                  0                  0              0  ...   \n",
       "9                  0                  0              0  ...   \n",
       "\n",
       "   ProofType_PoW/PoS  ProofType_PoW/PoS   ProofType_PoW/PoW  \\\n",
       "0                  1                   0                  0   \n",
       "2                  1                   0                  0   \n",
       "5                  1                   0                  0   \n",
       "7                  0                   0                  0   \n",
       "9                  0                   0                  0   \n",
       "\n",
       "   ProofType_PoW/nPoS  ProofType_Pos  ProofType_Proof of Authority  \\\n",
       "0                   0              0                             0   \n",
       "2                   0              0                             0   \n",
       "5                   0              0                             0   \n",
       "7                   0              0                             0   \n",
       "9                   0              0                             0   \n",
       "\n",
       "   ProofType_Proof of Trust  ProofType_TPoS  ProofType_Zero-Knowledge Proof  \\\n",
       "0                         0               0                               0   \n",
       "2                         0               0                               0   \n",
       "5                         0               0                               0   \n",
       "7                         0               0                               0   \n",
       "9                         0               0                               0   \n",
       "\n",
       "   ProofType_dPoW/PoW  \n",
       "0                   0  \n",
       "2                   0  \n",
       "5                   0  \n",
       "7                   0  \n",
       "9                   0  \n",
       "\n",
       "[5 rows x 105 columns]"
      ]
     },
     "execution_count": 126,
     "metadata": {},
     "output_type": "execute_result"
    }
   ],
   "source": [
    "# Create dummy variables for text features\n",
    "# -- delete\n",
    "# test = df_test.copy()\n",
    "# # df.dtypes[df.dtypes == 'float64'].index.tolist()\n",
    "# -- end delete\n",
    "# # get a list of object types\n",
    "obj_columns = df_test.dtypes[df_test.dtypes == 'object'].index.tolist()\n",
    "# convert text columns to dummies\n",
    "df_test = pd.get_dummies(df_test, columns= obj_columns)\n",
    "df_test.head()"
   ]
  },
  {
   "cell_type": "code",
   "execution_count": 131,
   "metadata": {},
   "outputs": [
    {
     "name": "stdout",
     "output_type": "stream",
     "text": [
      "[[-0.09782131 -0.03965512 -0.03965258 -0.03965258 -0.03965258 -0.05612135\n",
      "  -0.07949286 -0.03965258 -0.03965258 -0.05612135 -0.03965258 -0.03965258\n",
      "  -0.18913582 -0.05612135 -0.03965258 -0.03965258 -0.07949286 -0.03965258\n",
      "  -0.08894601 -0.06878853 -0.03965258 -0.03965258 -0.17052613 -0.03965258\n",
      "  -0.03965258 -0.13856406 -0.03965258 -0.03965258 -0.06878853 -0.03965258\n",
      "  -0.03965258 -0.03965258 -0.03965258 -0.06878853 -0.03965258 -0.07949286\n",
      "  -0.08894601 -0.07949286 -0.03965258 -0.03965258 -0.11971303 -0.13255899\n",
      "  -0.14433757 -0.03965258 -0.05612135 -0.03965258 -0.06878853 -0.17052613\n",
      "  -0.03965258 -0.03965258 -0.03965258 -0.05612135 -0.18004141 -0.33998043\n",
      "  -0.03965258 -0.08894601 -0.06878853 -0.05612135 -0.03965258  1.42090019\n",
      "  -0.06878853 -0.03965258 -0.03965258 -0.06878853 -0.06878853 -0.03965258\n",
      "  -0.03965258 -0.03965258 -0.03965258 -0.03965258 -0.03965258 -0.03965258\n",
      "  -0.4108617  -0.03965258 -0.18004141 -0.03965258 -0.09751265 -0.07949286\n",
      "  -0.09751265 -0.03965258 -0.03965258 -0.03965258 -0.11277677 -0.03965258\n",
      "  -0.03965258 -0.03965258 -0.03965258 -0.03965258 -0.06878853 -0.41866067\n",
      "  -0.03965258 -0.03965258 -0.9435082  -0.03965258 -0.03965258  1.42090019\n",
      "  -0.03965258 -0.03965258 -0.03965258 -0.03965258 -0.03965258 -0.03965258\n",
      "  -0.03965258 -0.03965258 -0.03965258]]\n"
     ]
    }
   ],
   "source": [
    "# Standardize data\n",
    "# test = df_test.copy()\n",
    "cryto_scaled = StandardScaler().fit_transform(df_test)\n",
    "print(cryto_scaled[:1])\n"
   ]
  },
  {
   "cell_type": "markdown",
   "metadata": {},
   "source": [
    "### Reducing Dimensions Using PCA"
   ]
  },
  {
   "cell_type": "code",
   "execution_count": 132,
   "metadata": {},
   "outputs": [],
   "source": [
    "# Use PCA to reduce dimensions to 3 principal components\n",
    "pca = PCA(n_components=3)\n",
    "crypto_pca = pca.fit_transform(cryto_scaled)"
   ]
  },
  {
   "cell_type": "code",
   "execution_count": 141,
   "metadata": {},
   "outputs": [
    {
     "data": {
      "text/html": [
       "<div>\n",
       "<style scoped>\n",
       "    .dataframe tbody tr th:only-of-type {\n",
       "        vertical-align: middle;\n",
       "    }\n",
       "\n",
       "    .dataframe tbody tr th {\n",
       "        vertical-align: top;\n",
       "    }\n",
       "\n",
       "    .dataframe thead th {\n",
       "        text-align: right;\n",
       "    }\n",
       "</style>\n",
       "<table border=\"1\" class=\"dataframe\">\n",
       "  <thead>\n",
       "    <tr style=\"text-align: right;\">\n",
       "      <th></th>\n",
       "      <th>PC 1</th>\n",
       "      <th>PC 2</th>\n",
       "      <th>PC 3</th>\n",
       "    </tr>\n",
       "  </thead>\n",
       "  <tbody>\n",
       "    <tr>\n",
       "      <th>0</th>\n",
       "      <td>-0.158738</td>\n",
       "      <td>1.194114</td>\n",
       "      <td>-0.502622</td>\n",
       "    </tr>\n",
       "    <tr>\n",
       "      <th>1</th>\n",
       "      <td>-0.144370</td>\n",
       "      <td>1.192410</td>\n",
       "      <td>-0.503154</td>\n",
       "    </tr>\n",
       "    <tr>\n",
       "      <th>2</th>\n",
       "      <td>0.422945</td>\n",
       "      <td>1.971415</td>\n",
       "      <td>-0.524873</td>\n",
       "    </tr>\n",
       "    <tr>\n",
       "      <th>3</th>\n",
       "      <td>-0.236922</td>\n",
       "      <td>-1.396870</td>\n",
       "      <td>0.179556</td>\n",
       "    </tr>\n",
       "    <tr>\n",
       "      <th>4</th>\n",
       "      <td>-0.318301</td>\n",
       "      <td>-1.065963</td>\n",
       "      <td>-0.051723</td>\n",
       "    </tr>\n",
       "  </tbody>\n",
       "</table>\n",
       "</div>"
      ],
      "text/plain": [
       "       PC 1      PC 2      PC 3\n",
       "0 -0.158738  1.194114 -0.502622\n",
       "1 -0.144370  1.192410 -0.503154\n",
       "2  0.422945  1.971415 -0.524873\n",
       "3 -0.236922 -1.396870  0.179556\n",
       "4 -0.318301 -1.065963 -0.051723"
      ]
     },
     "execution_count": 141,
     "metadata": {},
     "output_type": "execute_result"
    }
   ],
   "source": [
    "# Create a DataFrame with the principal components data\n",
    "# df_iris_pca = pd.DataFrame(\n",
    "#     data=iris_pca, columns=[\"principal component 1\", \"principal component 2\"]\n",
    "# )\n",
    "# df_iris_pca.head()\n",
    "clustered_df = pd.DataFrame(\n",
    "    data=crypto_pca, columns=[\"PC 1\", \"PC 2\", \"PC 3\"]\n",
    ")\n",
    "df_crypto_pca.head()"
   ]
  },
  {
   "cell_type": "markdown",
   "metadata": {},
   "source": [
    "### Clustering Crytocurrencies Using K-Means\n",
    "\n",
    "#### Find the Best Value for `k` Using the Elbow Curve"
   ]
  },
  {
   "cell_type": "code",
   "execution_count": 134,
   "metadata": {},
   "outputs": [
    {
     "name": "stderr",
     "output_type": "stream",
     "text": [
      "C:\\Users\\Hassan\\Anaconda3\\lib\\site-packages\\sklearn\\cluster\\_kmeans.py:882: UserWarning: KMeans is known to have a memory leak on Windows with MKL, when there are less chunks than available threads. You can avoid it by setting the environment variable OMP_NUM_THREADS=3.\n",
      "  f\"KMeans is known to have a memory leak on Windows \"\n"
     ]
    },
    {
     "data": {},
     "metadata": {},
     "output_type": "display_data"
    },
    {
     "data": {
      "application/vnd.holoviews_exec.v0+json": "",
      "text/html": [
       "<div id='1002'>\n",
       "\n",
       "\n",
       "\n",
       "\n",
       "\n",
       "  <div class=\"bk-root\" id=\"4504f098-1715-44d1-8169-5a5720fa4a55\" data-root-id=\"1002\"></div>\n",
       "</div>\n",
       "<script type=\"application/javascript\">(function(root) {\n",
       "  function embed_document(root) {\n",
       "    var docs_json = {\"fbdbc95f-1416-4464-b59b-e2baa449db00\":{\"defs\":[{\"extends\":null,\"module\":null,\"name\":\"DataModel\",\"overrides\":[],\"properties\":[]}],\"roots\":{\"references\":[{\"attributes\":{\"margin\":[5,5,5,5],\"name\":\"HSpacer01630\",\"sizing_mode\":\"stretch_width\"},\"id\":\"1073\",\"type\":\"Spacer\"},{\"attributes\":{},\"id\":\"1012\",\"type\":\"LinearScale\"},{\"attributes\":{\"ticks\":[1,2,3,4,5,6,7,8,9,10]},\"id\":\"1046\",\"type\":\"FixedTicker\"},{\"attributes\":{\"line_alpha\":0.1,\"line_color\":\"#30a2da\",\"line_width\":2,\"x\":{\"field\":\"k\"},\"y\":{\"field\":\"inertia\"}},\"id\":\"1041\",\"type\":\"Line\"},{\"attributes\":{\"active_multi\":null,\"tools\":[{\"id\":\"1006\"},{\"id\":\"1024\"},{\"id\":\"1025\"},{\"id\":\"1026\"},{\"id\":\"1027\"},{\"id\":\"1028\"}]},\"id\":\"1030\",\"type\":\"Toolbar\"},{\"attributes\":{\"line_color\":\"#30a2da\",\"line_width\":2,\"x\":{\"field\":\"k\"},\"y\":{\"field\":\"inertia\"}},\"id\":\"1040\",\"type\":\"Line\"},{\"attributes\":{},\"id\":\"1024\",\"type\":\"SaveTool\"},{\"attributes\":{\"children\":[{\"id\":\"1003\"},{\"id\":\"1007\"},{\"id\":\"1073\"}],\"margin\":[0,0,0,0],\"name\":\"Row01625\",\"tags\":[\"embedded\"]},\"id\":\"1002\",\"type\":\"Row\"},{\"attributes\":{\"data_source\":{\"id\":\"1037\"},\"glyph\":{\"id\":\"1040\"},\"hover_glyph\":null,\"muted_glyph\":{\"id\":\"1042\"},\"nonselection_glyph\":{\"id\":\"1041\"},\"selection_glyph\":{\"id\":\"1045\"},\"view\":{\"id\":\"1044\"}},\"id\":\"1043\",\"type\":\"GlyphRenderer\"},{\"attributes\":{\"source\":{\"id\":\"1037\"}},\"id\":\"1044\",\"type\":\"CDSView\"},{\"attributes\":{\"axis_label\":\"inertia\",\"formatter\":{\"id\":\"1053\"},\"major_label_policy\":{\"id\":\"1054\"},\"ticker\":{\"id\":\"1021\"}},\"id\":\"1020\",\"type\":\"LinearAxis\"},{\"attributes\":{\"callback\":null,\"renderers\":[{\"id\":\"1043\"}],\"tags\":[\"hv_created\"],\"tooltips\":[[\"k\",\"@{k}\"],[\"inertia\",\"@{inertia}\"]]},\"id\":\"1006\",\"type\":\"HoverTool\"},{\"attributes\":{},\"id\":\"1054\",\"type\":\"AllLabels\"},{\"attributes\":{\"overlay\":{\"id\":\"1029\"}},\"id\":\"1027\",\"type\":\"BoxZoomTool\"},{\"attributes\":{},\"id\":\"1028\",\"type\":\"ResetTool\"},{\"attributes\":{\"text\":\"Elbow Curve\",\"text_color\":\"black\",\"text_font_size\":\"12pt\"},\"id\":\"1008\",\"type\":\"Title\"},{\"attributes\":{},\"id\":\"1021\",\"type\":\"BasicTicker\"},{\"attributes\":{\"margin\":[5,5,5,5],\"name\":\"HSpacer01629\",\"sizing_mode\":\"stretch_width\"},\"id\":\"1003\",\"type\":\"Spacer\"},{\"attributes\":{},\"id\":\"1048\",\"type\":\"BasicTickFormatter\"},{\"attributes\":{\"end\":10.0,\"reset_end\":10.0,\"reset_start\":1.0,\"start\":1.0,\"tags\":[[[\"k\",\"k\",null]]]},\"id\":\"1004\",\"type\":\"Range1d\"},{\"attributes\":{\"line_alpha\":0.2,\"line_color\":\"#30a2da\",\"line_width\":2,\"x\":{\"field\":\"k\"},\"y\":{\"field\":\"inertia\"}},\"id\":\"1042\",\"type\":\"Line\"},{\"attributes\":{\"bottom_units\":\"screen\",\"fill_alpha\":0.5,\"fill_color\":\"lightgrey\",\"left_units\":\"screen\",\"level\":\"overlay\",\"line_alpha\":1.0,\"line_color\":\"black\",\"line_dash\":[4,4],\"line_width\":2,\"right_units\":\"screen\",\"syncable\":false,\"top_units\":\"screen\"},\"id\":\"1029\",\"type\":\"BoxAnnotation\"},{\"attributes\":{\"line_color\":\"#30a2da\",\"line_width\":2,\"x\":{\"field\":\"k\"},\"y\":{\"field\":\"inertia\"}},\"id\":\"1045\",\"type\":\"Line\"},{\"attributes\":{\"axis_label\":\"k\",\"formatter\":{\"id\":\"1048\"},\"major_label_policy\":{\"id\":\"1049\"},\"ticker\":{\"id\":\"1046\"}},\"id\":\"1016\",\"type\":\"LinearAxis\"},{\"attributes\":{},\"id\":\"1049\",\"type\":\"AllLabels\"},{\"attributes\":{},\"id\":\"1038\",\"type\":\"Selection\"},{\"attributes\":{\"below\":[{\"id\":\"1016\"}],\"center\":[{\"id\":\"1019\"},{\"id\":\"1023\"}],\"height\":300,\"left\":[{\"id\":\"1020\"}],\"margin\":[5,5,5,5],\"min_border_bottom\":10,\"min_border_left\":10,\"min_border_right\":10,\"min_border_top\":10,\"renderers\":[{\"id\":\"1043\"}],\"sizing_mode\":\"fixed\",\"title\":{\"id\":\"1008\"},\"toolbar\":{\"id\":\"1030\"},\"width\":700,\"x_range\":{\"id\":\"1004\"},\"x_scale\":{\"id\":\"1012\"},\"y_range\":{\"id\":\"1005\"},\"y_scale\":{\"id\":\"1014\"}},\"id\":\"1007\",\"subtype\":\"Figure\",\"type\":\"Plot\"},{\"attributes\":{},\"id\":\"1025\",\"type\":\"PanTool\"},{\"attributes\":{},\"id\":\"1053\",\"type\":\"BasicTickFormatter\"},{\"attributes\":{},\"id\":\"1026\",\"type\":\"WheelZoomTool\"},{\"attributes\":{\"axis\":{\"id\":\"1020\"},\"dimension\":1,\"grid_line_color\":null,\"ticker\":null},\"id\":\"1023\",\"type\":\"Grid\"},{\"attributes\":{},\"id\":\"1061\",\"type\":\"UnionRenderers\"},{\"attributes\":{\"axis\":{\"id\":\"1016\"},\"grid_line_color\":null,\"ticker\":null},\"id\":\"1019\",\"type\":\"Grid\"},{\"attributes\":{\"data\":{\"inertia\":{\"__ndarray__\":\"Xit8umG5r0Bh50b2JzCmQLtN9MYouZlA6uLKpGwXg0D7ARgU3xdzQAyw02uriW1ALIqlcuyCZ0Aycd7nFxxiQKUK+L7rx11AXVUBW9s4WEA=\",\"dtype\":\"float64\",\"order\":\"little\",\"shape\":[10]},\"k\":[1,2,3,4,5,6,7,8,9,10]},\"selected\":{\"id\":\"1038\"},\"selection_policy\":{\"id\":\"1061\"}},\"id\":\"1037\",\"type\":\"ColumnDataSource\"},{\"attributes\":{\"end\":4457.071124642556,\"reset_end\":4457.071124642556,\"reset_start\":-299.49186035308554,\"start\":-299.49186035308554,\"tags\":[[[\"inertia\",\"inertia\",null]]]},\"id\":\"1005\",\"type\":\"Range1d\"},{\"attributes\":{},\"id\":\"1014\",\"type\":\"LinearScale\"}],\"root_ids\":[\"1002\"]},\"title\":\"Bokeh Application\",\"version\":\"2.3.0\"}};\n",
       "    var render_items = [{\"docid\":\"fbdbc95f-1416-4464-b59b-e2baa449db00\",\"root_ids\":[\"1002\"],\"roots\":{\"1002\":\"4504f098-1715-44d1-8169-5a5720fa4a55\"}}];\n",
       "    root.Bokeh.embed.embed_items_notebook(docs_json, render_items);\n",
       "  }\n",
       "  if (root.Bokeh !== undefined && root.Bokeh.Panel !== undefined) {\n",
       "    embed_document(root);\n",
       "  } else {\n",
       "    var attempts = 0;\n",
       "    var timer = setInterval(function(root) {\n",
       "      if (root.Bokeh !== undefined && root.Bokeh.Panel !== undefined) {\n",
       "        clearInterval(timer);\n",
       "        embed_document(root);\n",
       "      } else if (document.readyState == \"complete\") {\n",
       "        attempts++;\n",
       "        if (attempts > 100) {\n",
       "          clearInterval(timer);\n",
       "          console.log(\"Bokeh: ERROR: Unable to run BokehJS code because BokehJS library is missing\");\n",
       "        }\n",
       "      }\n",
       "    }, 10, root)\n",
       "  }\n",
       "})(window);</script>"
      ],
      "text/plain": [
       ":Curve   [k]   (inertia)"
      ]
     },
     "execution_count": 134,
     "metadata": {
      "application/vnd.holoviews_exec.v0+json": {
       "id": "1002"
      }
     },
     "output_type": "execute_result"
    }
   ],
   "source": [
    "inertia = []\n",
    "k = list(range(1, 11))\n",
    "\n",
    "# Calculate the inertia for the range of k values\n",
    "for i in k:\n",
    "    km = KMeans(n_clusters=i, random_state=0)\n",
    "    km.fit(df_crypto_pca)\n",
    "    inertia.append(km.inertia_)\n",
    "\n",
    "# Create the Elbow Curve using hvPlot\n",
    "elbow_data = {\"k\": k, \"inertia\": inertia}\n",
    "df_elbow = pd.DataFrame(elbow_data)\n",
    "df_elbow.hvplot.line(x=\"k\", y=\"inertia\", xticks=k, title=\"Elbow Curve\")\n",
    "\n"
   ]
  },
  {
   "cell_type": "markdown",
   "metadata": {},
   "source": [
    "### HV plot did not work used normal plot"
   ]
  },
  {
   "cell_type": "code",
   "execution_count": 137,
   "metadata": {},
   "outputs": [
    {
     "data": {
      "text/plain": [
       "<AxesSubplot:xlabel='k'>"
      ]
     },
     "execution_count": 137,
     "metadata": {},
     "output_type": "execute_result"
    },
    {
     "data": {
      "image/png": "[encoded data removed]",
      "text/plain": [
       "<Figure size 432x288 with 1 Axes>"
      ]
     },
     "metadata": {
      "needs_background": "light"
     },
     "output_type": "display_data"
    }
   ],
   "source": [
    "df_elbow.plot(x = 'k', y = 'inertia')"
   ]
  },
  {
   "cell_type": "markdown",
   "metadata": {},
   "source": [
    "Running K-Means with `k=<your best value for k here>`"
   ]
  },
  {
   "cell_type": "code",
   "execution_count": 208,
   "metadata": {},
   "outputs": [
    {
     "data": {
      "text/html": [
       "<div>\n",
       "<style scoped>\n",
       "    .dataframe tbody tr th:only-of-type {\n",
       "        vertical-align: middle;\n",
       "    }\n",
       "\n",
       "    .dataframe tbody tr th {\n",
       "        vertical-align: top;\n",
       "    }\n",
       "\n",
       "    .dataframe thead th {\n",
       "        text-align: right;\n",
       "    }\n",
       "</style>\n",
       "<table border=\"1\" class=\"dataframe\">\n",
       "  <thead>\n",
       "    <tr style=\"text-align: right;\">\n",
       "      <th></th>\n",
       "      <th>PC 1</th>\n",
       "      <th>PC 2</th>\n",
       "      <th>PC 3</th>\n",
       "      <th>class</th>\n",
       "      <th>Class</th>\n",
       "    </tr>\n",
       "  </thead>\n",
       "  <tbody>\n",
       "    <tr>\n",
       "      <th>0</th>\n",
       "      <td>-0.158738</td>\n",
       "      <td>1.194114</td>\n",
       "      <td>-0.502622</td>\n",
       "      <td>0</td>\n",
       "      <td>0</td>\n",
       "    </tr>\n",
       "    <tr>\n",
       "      <th>1</th>\n",
       "      <td>-0.144370</td>\n",
       "      <td>1.192410</td>\n",
       "      <td>-0.503154</td>\n",
       "      <td>0</td>\n",
       "      <td>0</td>\n",
       "    </tr>\n",
       "    <tr>\n",
       "      <th>2</th>\n",
       "      <td>0.422945</td>\n",
       "      <td>1.971415</td>\n",
       "      <td>-0.524873</td>\n",
       "      <td>0</td>\n",
       "      <td>0</td>\n",
       "    </tr>\n",
       "    <tr>\n",
       "      <th>3</th>\n",
       "      <td>-0.236922</td>\n",
       "      <td>-1.396870</td>\n",
       "      <td>0.179556</td>\n",
       "      <td>1</td>\n",
       "      <td>1</td>\n",
       "    </tr>\n",
       "    <tr>\n",
       "      <th>4</th>\n",
       "      <td>-0.318301</td>\n",
       "      <td>-1.065963</td>\n",
       "      <td>-0.051723</td>\n",
       "      <td>1</td>\n",
       "      <td>1</td>\n",
       "    </tr>\n",
       "  </tbody>\n",
       "</table>\n",
       "</div>"
      ],
      "text/plain": [
       "       PC 1      PC 2      PC 3  class  Class\n",
       "0 -0.158738  1.194114 -0.502622      0      0\n",
       "1 -0.144370  1.192410 -0.503154      0      0\n",
       "2  0.422945  1.971415 -0.524873      0      0\n",
       "3 -0.236922 -1.396870  0.179556      1      1\n",
       "4 -0.318301 -1.065963 -0.051723      1      1"
      ]
     },
     "execution_count": 208,
     "metadata": {},
     "output_type": "execute_result"
    }
   ],
   "source": [
    "# Initialize the K-Means model\n",
    "model = KMeans(n_clusters=4, random_state=0)\n",
    "# Fit the model\n",
    "model.fit(df_crypto_pca)\n",
    "# Predict clusters\n",
    "predictions = model.predict(df_crypto_pca)\n",
    "# Create a new DataFrame including predicted clusters and cryptocurrencies features\n",
    "df_crypto_pca[\"Class\"] = model.labels_\n",
    "df_crypto_pca.head()"
   ]
  },
  {
   "cell_type": "code",
   "execution_count": 209,
   "metadata": {},
   "outputs": [
    {
     "data": {
      "text/html": [
       "<div>\n",
       "<style scoped>\n",
       "    .dataframe tbody tr th:only-of-type {\n",
       "        vertical-align: middle;\n",
       "    }\n",
       "\n",
       "    .dataframe tbody tr th {\n",
       "        vertical-align: top;\n",
       "    }\n",
       "\n",
       "    .dataframe thead th {\n",
       "        text-align: right;\n",
       "    }\n",
       "</style>\n",
       "<table border=\"1\" class=\"dataframe\">\n",
       "  <thead>\n",
       "    <tr style=\"text-align: right;\">\n",
       "      <th></th>\n",
       "      <th>CoinName</th>\n",
       "      <th>Algorithm</th>\n",
       "      <th>ProofType</th>\n",
       "      <th>TotalCoinsMined</th>\n",
       "      <th>TotalCoinSupply</th>\n",
       "      <th>PC 1</th>\n",
       "      <th>PC 2</th>\n",
       "      <th>PC 3</th>\n",
       "      <th>class</th>\n",
       "      <th>Class</th>\n",
       "    </tr>\n",
       "  </thead>\n",
       "  <tbody>\n",
       "    <tr>\n",
       "      <th>0</th>\n",
       "      <td>42 Coin</td>\n",
       "      <td>Scrypt</td>\n",
       "      <td>PoW/PoS</td>\n",
       "      <td>4.199995e+01</td>\n",
       "      <td>4.200000e+01</td>\n",
       "      <td>-0.158738</td>\n",
       "      <td>1.194114</td>\n",
       "      <td>-0.502622</td>\n",
       "      <td>0.0</td>\n",
       "      <td>0.0</td>\n",
       "    </tr>\n",
       "    <tr>\n",
       "      <th>2</th>\n",
       "      <td>404Coin</td>\n",
       "      <td>Scrypt</td>\n",
       "      <td>PoW/PoS</td>\n",
       "      <td>1.055185e+09</td>\n",
       "      <td>5.320000e+08</td>\n",
       "      <td>0.422945</td>\n",
       "      <td>1.971415</td>\n",
       "      <td>-0.524873</td>\n",
       "      <td>0.0</td>\n",
       "      <td>0.0</td>\n",
       "    </tr>\n",
       "    <tr>\n",
       "      <th>5</th>\n",
       "      <td>EliteCoin</td>\n",
       "      <td>X13</td>\n",
       "      <td>PoW/PoS</td>\n",
       "      <td>2.927942e+10</td>\n",
       "      <td>3.141593e+11</td>\n",
       "      <td>-0.143718</td>\n",
       "      <td>1.497754</td>\n",
       "      <td>-0.392534</td>\n",
       "      <td>0.0</td>\n",
       "      <td>0.0</td>\n",
       "    </tr>\n",
       "    <tr>\n",
       "      <th>7</th>\n",
       "      <td>Bitcoin</td>\n",
       "      <td>SHA-256</td>\n",
       "      <td>PoW</td>\n",
       "      <td>1.792718e+07</td>\n",
       "      <td>2.100000e+07</td>\n",
       "      <td>-0.285340</td>\n",
       "      <td>-1.917873</td>\n",
       "      <td>0.415800</td>\n",
       "      <td>1.0</td>\n",
       "      <td>1.0</td>\n",
       "    </tr>\n",
       "    <tr>\n",
       "      <th>9</th>\n",
       "      <td>Litecoin</td>\n",
       "      <td>Scrypt</td>\n",
       "      <td>PoW</td>\n",
       "      <td>6.303924e+07</td>\n",
       "      <td>8.400000e+07</td>\n",
       "      <td>-0.138700</td>\n",
       "      <td>-1.732802</td>\n",
       "      <td>0.214999</td>\n",
       "      <td>1.0</td>\n",
       "      <td>1.0</td>\n",
       "    </tr>\n",
       "  </tbody>\n",
       "</table>\n",
       "</div>"
      ],
      "text/plain": [
       "    CoinName Algorithm ProofType  TotalCoinsMined  TotalCoinSupply      PC 1  \\\n",
       "0    42 Coin    Scrypt   PoW/PoS     4.199995e+01     4.200000e+01 -0.158738   \n",
       "2    404Coin    Scrypt   PoW/PoS     1.055185e+09     5.320000e+08  0.422945   \n",
       "5  EliteCoin       X13   PoW/PoS     2.927942e+10     3.141593e+11 -0.143718   \n",
       "7    Bitcoin   SHA-256       PoW     1.792718e+07     2.100000e+07 -0.285340   \n",
       "9   Litecoin    Scrypt       PoW     6.303924e+07     8.400000e+07 -0.138700   \n",
       "\n",
       "       PC 2      PC 3  class  Class  \n",
       "0  1.194114 -0.502622    0.0    0.0  \n",
       "2  1.971415 -0.524873    0.0    0.0  \n",
       "5  1.497754 -0.392534    0.0    0.0  \n",
       "7 -1.917873  0.415800    1.0    1.0  \n",
       "9 -1.732802  0.214999    1.0    1.0  "
      ]
     },
     "execution_count": 209,
     "metadata": {},
     "output_type": "execute_result"
    }
   ],
   "source": [
    "# clustered_df = pd.concat ([coin_df, df_crypto_pca], join = 'outer')\n",
    "# clustered_df.head()\n",
    "clustered_df = coin_df.copy().dropna()\n",
    "\n",
    "col_list = df_crypto_pca.columns.tolist()\n",
    "for columnName in col_list:\n",
    "    clustered_df[columnName] = df_crypto_pca[columnName]\n",
    "clustered_df.head()\n"
   ]
  },
  {
   "cell_type": "markdown",
   "metadata": {},
   "source": [
    "### Visualizing Results\n",
    "\n",
    "#### 3D-Scatter with Clusters"
   ]
  },
  {
   "cell_type": "code",
   "execution_count": 206,
   "metadata": {},
   "outputs": [
    {
     "data": {
      "application/vnd.plotly.v1+json": {
       "config": {
        "plotlyServerURL": "https://plot.ly"
       },
       "data": [
        {
         "customdata": [
          [
           "Scrypt"
          ],
          [
           "Scrypt"
          ],
          [
           "X13"
          ],
          [
           "SHA-256"
          ],
          [
           "Scrypt"
          ],
          [
           "X11"
          ],
          [
           "Ethash"
          ],
          [
           "Equihash"
          ],
          [
           "SHA-512"
          ],
          [
           "Multiple"
          ],
          [
           "SHA-256"
          ],
          [
           "X11"
          ],
          [
           "SHA-256"
          ],
          [
           "Scrypt"
          ],
          [
           "X15"
          ],
          [
           "X11"
          ],
          [
           "SHA-256"
          ],
          [
           "X13"
          ],
          [
           "X13"
          ],
          [
           "Scrypt"
          ],
          [
           "Scrypt"
          ],
          [
           "Scrypt"
          ],
          [
           "SHA-256"
          ],
          [
           "Multiple"
          ],
          [
           "Scrypt"
          ],
          [
           "SHA-256"
          ],
          [
           "Scrypt"
          ],
          [
           "Scrypt"
          ],
          [
           "Quark"
          ],
          [
           "Groestl"
          ],
          [
           "Scrypt"
          ],
          [
           "X11"
          ],
          [
           "Scrypt"
          ],
          [
           "Scrypt"
          ],
          [
           "Scrypt"
          ],
          [
           "Scrypt"
          ],
          [
           "Scrypt"
          ],
          [
           "Scrypt"
          ],
          [
           "Multiple"
          ],
          [
           "Scrypt"
          ],
          [
           "X11"
          ],
          [
           "Scrypt"
          ],
          [
           "Groestl"
          ],
          [
           "Multiple"
          ],
          [
           "X11"
          ],
          [
           "Scrypt"
          ],
          [
           "SHA-256"
          ],
          [
           "Scrypt"
          ],
          [
           "Scrypt"
          ],
          [
           "Scrypt"
          ],
          [
           "Scrypt"
          ],
          [
           "Scrypt"
          ],
          [
           "Scrypt"
          ],
          [
           "X11"
          ],
          [
           "NIST5"
          ],
          [
           "SHA-256"
          ],
          [
           "Scrypt"
          ],
          [
           "NeoScrypt"
          ],
          [
           "Scrypt"
          ],
          [
           "Scrypt"
          ],
          [
           "Scrypt"
          ],
          [
           "X11"
          ],
          [
           "Scrypt"
          ],
          [
           "Multiple"
          ],
          [
           "Scrypt"
          ],
          [
           "X11"
          ],
          [
           "SHA-256"
          ],
          [
           "X11"
          ],
          [
           "X13"
          ],
          [
           "Scrypt"
          ],
          [
           "Scrypt"
          ],
          [
           "Scrypt"
          ],
          [
           "Scrypt"
          ],
          [
           "X11"
          ],
          [
           "SHA3"
          ],
          [
           "Scrypt"
          ],
          [
           "HybridScryptHash256"
          ],
          [
           "Scrypt"
          ],
          [
           "SHA-256"
          ],
          [
           "Scrypt"
          ],
          [
           "SHA-256"
          ],
          [
           "Scrypt"
          ],
          [
           "SHA-256"
          ],
          [
           "Scrypt"
          ],
          [
           "NeoScrypt"
          ],
          [
           "Scrypt"
          ],
          [
           "Scrypt"
          ],
          [
           "Scrypt"
          ],
          [
           "Scrypt"
          ],
          [
           "Scrypt"
          ],
          [
           "X15"
          ],
          [
           "Scrypt"
          ],
          [
           "Scrypt"
          ],
          [
           "Scrypt-n"
          ],
          [
           "Scrypt"
          ],
          [
           "X11"
          ],
          [
           "SHA-256"
          ],
          [
           "Multiple"
          ],
          [
           "SHA-256"
          ],
          [
           "PHI1612"
          ],
          [
           "X11"
          ],
          [
           "SHA-256"
          ],
          [
           "SHA-256"
          ],
          [
           "SHA-256"
          ],
          [
           "SHA-256"
          ],
          [
           "Scrypt"
          ],
          [
           "Scrypt"
          ],
          [
           "Scrypt"
          ],
          [
           "Lyra2REv2"
          ],
          [
           "Scrypt"
          ],
          [
           "Scrypt"
          ],
          [
           "X11"
          ],
          [
           "SHA-256"
          ],
          [
           "Scrypt"
          ],
          [
           "Scrypt"
          ],
          [
           "CryptoNight"
          ],
          [
           "CryptoNight"
          ],
          [
           "Shabal256"
          ],
          [
           "Counterparty"
          ],
          [
           "Scrypt"
          ],
          [
           "SHA-256"
          ],
          [
           "SHA-256"
          ],
          [
           "Scrypt"
          ],
          [
           "Scrypt"
          ],
          [
           "Scrypt"
          ],
          [
           "X13"
          ],
          [
           "Scrypt"
          ],
          [
           "Scrypt"
          ],
          [
           "Scrypt"
          ],
          [
           "SHA-256"
          ],
          [
           "X13"
          ],
          [
           "X13"
          ],
          [
           "Scrypt"
          ],
          [
           "X11"
          ],
          [
           "Momentum"
          ],
          [
           "Stanford Folding"
          ],
          [
           "X11"
          ],
          [
           "Scrypt"
          ],
          [
           "Scrypt"
          ],
          [
           "Scrypt"
          ],
          [
           "M7 POW"
          ],
          [
           "Scrypt"
          ],
          [
           "X11"
          ],
          [
           "Scrypt"
          ],
          [
           "SHA-256"
          ],
          [
           "Scrypt"
          ],
          [
           "X11"
          ],
          [
           "SHA3"
          ],
          [
           "X11"
          ],
          [
           "Lyra2RE"
          ],
          [
           "SHA-256"
          ],
          [
           "QUAIT"
          ],
          [
           "X11"
          ],
          [
           "Scrypt"
          ],
          [
           "Scrypt"
          ],
          [
           "Scrypt"
          ],
          [
           "Ethash"
          ],
          [
           "X11"
          ],
          [
           "X13"
          ],
          [
           "SHA-256"
          ],
          [
           "X13"
          ],
          [
           "X15"
          ],
          [
           "X11"
          ],
          [
           "SHA-256"
          ],
          [
           "BLAKE256"
          ],
          [
           "Scrypt"
          ],
          [
           "Scrypt"
          ],
          [
           "1GB AES Pattern Search"
          ],
          [
           "SHA-256"
          ],
          [
           "X11"
          ],
          [
           "Scrypt"
          ],
          [
           "CryptoNight"
          ],
          [
           "SHA-256"
          ],
          [
           "Quark"
          ],
          [
           "SHA-256"
          ],
          [
           "Blake"
          ],
          [
           "Scrypt"
          ],
          [
           "Scrypt"
          ],
          [
           "SHA-256"
          ],
          [
           "X11"
          ],
          [
           "Scrypt"
          ],
          [
           "Scrypt-n"
          ],
          [
           "X11"
          ],
          [
           "Scrypt"
          ],
          [
           "Dagger"
          ],
          [
           "Scrypt"
          ],
          [
           "SHA-256"
          ],
          [
           "CryptoNight-Lite"
          ],
          [
           "X11GOST"
          ],
          [
           "X11"
          ],
          [
           "SHA-256"
          ],
          [
           "Scrypt"
          ],
          [
           "SHA-256"
          ],
          [
           "Scrypt"
          ],
          [
           "PoS"
          ],
          [
           "Scrypt"
          ],
          [
           "X11"
          ],
          [
           "X11"
          ],
          [
           "X11"
          ],
          [
           "X11"
          ],
          [
           "PoS"
          ],
          [
           "SHA-256"
          ],
          [
           "SHA-256"
          ],
          [
           "SHA-256"
          ],
          [
           "NIST5"
          ],
          [
           "X15"
          ],
          [
           "X11"
          ],
          [
           "NIST5"
          ],
          [
           "Scrypt"
          ],
          [
           "Scrypt"
          ],
          [
           "Scrypt"
          ],
          [
           "POS 3.0"
          ],
          [
           "Scrypt"
          ],
          [
           "Scrypt"
          ],
          [
           "Scrypt"
          ],
          [
           "X13"
          ],
          [
           "X11"
          ],
          [
           "X11"
          ],
          [
           "Equihash"
          ],
          [
           "X11"
          ],
          [
           "X11"
          ],
          [
           "Scrypt"
          ],
          [
           "CryptoNight"
          ],
          [
           "SHA-256"
          ],
          [
           "SHA-256"
          ],
          [
           "X11"
          ],
          [
           "Scrypt"
          ],
          [
           "Multiple"
          ],
          [
           "Scrypt"
          ],
          [
           "X11"
          ],
          [
           "SHA-256"
          ],
          [
           "Scrypt"
          ],
          [
           "Scrypt"
          ],
          [
           "SHA-256D"
          ],
          [
           "PoS"
          ],
          [
           "Scrypt"
          ],
          [
           "X11"
          ],
          [
           "Scrypt-n"
          ],
          [
           "Lyra2Z"
          ],
          [
           "SHA-256"
          ],
          [
           "PoS"
          ],
          [
           "X13"
          ],
          [
           "Quark"
          ],
          [
           "X14"
          ],
          [
           "PoS"
          ],
          [
           "SHA-256D"
          ],
          [
           "Ethash"
          ],
          [
           "SHA-256"
          ],
          [
           "Equihash"
          ],
          [
           "DPoS"
          ],
          [
           "X11"
          ],
          [
           "Scrypt"
          ],
          [
           "Scrypt"
          ],
          [
           "Equihash"
          ],
          [
           "X11"
          ],
          [
           "X13"
          ],
          [
           "X11"
          ],
          [
           "PoS"
          ],
          [
           "SHA-256D"
          ],
          [
           "Scrypt"
          ],
          [
           "Scrypt"
          ],
          [
           "Scrypt"
          ],
          [
           "X11"
          ],
          [
           "PoS"
          ],
          [
           "X11"
          ],
          [
           "SHA-256"
          ],
          [
           "Scrypt"
          ],
          [
           "X11"
          ],
          [
           "Scrypt"
          ],
          [
           "Scrypt"
          ],
          [
           "X11"
          ],
          [
           "CryptoNight"
          ],
          [
           "Scrypt"
          ],
          [
           "Scrypt"
          ],
          [
           "Scrypt"
          ],
          [
           "Scrypt"
          ],
          [
           "Quark"
          ],
          [
           "QuBit"
          ],
          [
           "Scrypt"
          ],
          [
           "CryptoNight"
          ],
          [
           "X11"
          ],
          [
           "Lyra2RE"
          ],
          [
           "X13"
          ],
          [
           "PoS"
          ],
          [
           "Scrypt"
          ],
          [
           "SHA-256"
          ],
          [
           "X11"
          ],
          [
           "X11"
          ],
          [
           "X11"
          ],
          [
           "Scrypt"
          ],
          [
           "X11"
          ],
          [
           "Scrypt"
          ],
          [
           "Scrypt"
          ],
          [
           "CryptoNight-V7"
          ],
          [
           "Scrypt"
          ],
          [
           "Scrypt"
          ],
          [
           "Keccak"
          ],
          [
           "Scrypt"
          ],
          [
           "X13"
          ],
          [
           "X11"
          ],
          [
           "Equihash"
          ],
          [
           "Scrypt"
          ],
          [
           "Scrypt"
          ],
          [
           "Lyra2RE"
          ],
          [
           "Ethash"
          ],
          [
           "X11"
          ],
          [
           "Scrypt"
          ],
          [
           "Dagger-Hashimoto"
          ],
          [
           "X11"
          ],
          [
           "Blake2S"
          ],
          [
           "X11"
          ],
          [
           "Scrypt"
          ],
          [
           "Scrypt"
          ],
          [
           "PoS"
          ],
          [
           "X11"
          ],
          [
           "NIST5"
          ],
          [
           "PoS"
          ],
          [
           "X11"
          ],
          [
           "Scrypt"
          ],
          [
           "Scrypt"
          ],
          [
           "Scrypt"
          ],
          [
           "Scrypt"
          ],
          [
           "SHA-256"
          ],
          [
           "X11"
          ],
          [
           "Scrypt"
          ],
          [
           "Scrypt"
          ],
          [
           "Scrypt"
          ],
          [
           "SHA-256"
          ],
          [
           "PoS"
          ],
          [
           "Scrypt"
          ],
          [
           "X11"
          ],
          [
           "X15"
          ],
          [
           "SHA-256"
          ],
          [
           "Scrypt"
          ],
          [
           "POS 3.0"
          ],
          [
           "CryptoNight-V7"
          ],
          [
           "536"
          ],
          [
           "Blake2b"
          ],
          [
           "Cloverhash"
          ],
          [
           "CryptoNight"
          ],
          [
           "NIST5"
          ],
          [
           "X11"
          ],
          [
           "NIST5"
          ],
          [
           "Skein"
          ],
          [
           "Scrypt"
          ],
          [
           "X13"
          ],
          [
           "Scrypt"
          ],
          [
           "X11"
          ],
          [
           "X11"
          ],
          [
           "X11"
          ],
          [
           "Scrypt"
          ],
          [
           "CryptoNight"
          ],
          [
           "X13"
          ],
          [
           "Time Travel"
          ],
          [
           "Scrypt"
          ],
          [
           "Keccak"
          ],
          [
           "SkunkHash v2 Raptor"
          ],
          [
           "X11"
          ],
          [
           "Skein"
          ],
          [
           "SHA-256"
          ],
          [
           "X11"
          ],
          [
           "Scrypt"
          ],
          [
           "Scrypt"
          ],
          [
           "VeChainThor Authority"
          ],
          [
           "Scrypt"
          ],
          [
           "PoS"
          ],
          [
           "Scrypt"
          ],
          [
           "Scrypt"
          ],
          [
           "Scrypt"
          ],
          [
           "Scrypt"
          ],
          [
           "Scrypt"
          ],
          [
           "Scrypt"
          ],
          [
           "Scrypt"
          ],
          [
           "CryptoNight"
          ],
          [
           "SHA-512"
          ],
          [
           "Ouroboros"
          ],
          [
           "X11"
          ],
          [
           "Equihash"
          ],
          [
           "NeoScrypt"
          ],
          [
           "X11"
          ],
          [
           "Scrypt"
          ],
          [
           "NeoScrypt"
          ],
          [
           "Lyra2REv2"
          ],
          [
           "Equihash"
          ],
          [
           "Scrypt"
          ],
          [
           "SHA-256"
          ],
          [
           "NIST5"
          ],
          [
           "PHI1612"
          ],
          [
           "Dagger"
          ],
          [
           "Scrypt"
          ],
          [
           "Quark"
          ],
          [
           "Scrypt"
          ],
          [
           "POS 2.0"
          ],
          [
           "Scrypt"
          ],
          [
           "SkunkHash"
          ],
          [
           "X11"
          ],
          [
           "Quark"
          ],
          [
           "SHA-256"
          ],
          [
           "X11"
          ],
          [
           "NeoScrypt"
          ],
          [
           "Scrypt"
          ],
          [
           "Ethash"
          ],
          [
           "Scrypt"
          ],
          [
           "NeoScrypt"
          ],
          [
           "Quark"
          ],
          [
           "X11"
          ],
          [
           "DPoS"
          ],
          [
           "NIST5"
          ],
          [
           "X13"
          ],
          [
           "Multiple"
          ],
          [
           "Scrypt"
          ],
          [
           "CryptoNight"
          ],
          [
           "CryptoNight"
          ],
          [
           "Ethash"
          ],
          [
           "NIST5"
          ],
          [
           "Quark"
          ],
          [
           "X11"
          ],
          [
           "SHA-256"
          ],
          [
           "CryptoNight-V7"
          ],
          [
           "Scrypt"
          ],
          [
           "Scrypt"
          ],
          [
           "Scrypt"
          ],
          [
           "X11"
          ],
          [
           "SHA-256"
          ],
          [
           "BLAKE256"
          ],
          [
           "X11"
          ],
          [
           "Scrypt"
          ],
          [
           "NeoScrypt"
          ],
          [
           "Quark"
          ],
          [
           "NeoScrypt"
          ],
          [
           "Scrypt"
          ],
          [
           "Scrypt"
          ],
          [
           "Scrypt"
          ],
          [
           "X11"
          ],
          [
           "X11"
          ],
          [
           "SHA-256"
          ],
          [
           "C11"
          ],
          [
           "Scrypt"
          ],
          [
           "Scrypt"
          ],
          [
           "POS 3.0"
          ],
          [
           "Ethash"
          ],
          [
           "Scrypt"
          ],
          [
           "CryptoNight"
          ],
          [
           "SkunkHash"
          ],
          [
           "Scrypt"
          ],
          [
           "CryptoNight"
          ],
          [
           "Equihash"
          ],
          [
           "Skein"
          ],
          [
           "Scrypt"
          ],
          [
           "Dagger"
          ],
          [
           "Lyra2REv2"
          ],
          [
           "X13"
          ],
          [
           "Proof-of-BibleHash"
          ],
          [
           "SHA-256 + Hive"
          ],
          [
           "Scrypt"
          ],
          [
           "Scrypt"
          ],
          [
           "Scrypt"
          ],
          [
           "NeoScrypt"
          ],
          [
           "Equihash"
          ],
          [
           "X11"
          ],
          [
           "C11"
          ],
          [
           "Proof-of-Authority"
          ],
          [
           "X11"
          ],
          [
           "XEVAN"
          ],
          [
           "Scrypt"
          ],
          [
           "VBFT"
          ],
          [
           "Ethash"
          ],
          [
           "X11"
          ],
          [
           "CryptoNight"
          ],
          [
           "NeoScrypt"
          ],
          [
           "Scrypt"
          ],
          [
           "IMesh"
          ],
          [
           "NIST5"
          ],
          [
           "Equihash"
          ],
          [
           "Scrypt"
          ],
          [
           "Scrypt"
          ],
          [
           "Equihash"
          ],
          [
           "Equihash"
          ],
          [
           "Scrypt"
          ],
          [
           "Lyra2Z"
          ],
          [
           "Equihash"
          ],
          [
           "Green Protocol"
          ],
          [
           "PoS"
          ],
          [
           "Scrypt"
          ],
          [
           "Scrypt"
          ],
          [
           "Semux BFT consensus"
          ],
          [
           "Scrypt"
          ],
          [
           "X11"
          ],
          [
           "Quark"
          ],
          [
           "PoS"
          ],
          [
           "CryptoNight"
          ],
          [
           "X16R"
          ],
          [
           "Scrypt"
          ],
          [
           "NIST5"
          ],
          [
           "Lyra2RE"
          ],
          [
           "XEVAN"
          ],
          [
           "Tribus"
          ],
          [
           "Scrypt"
          ],
          [
           "Lyra2Z"
          ],
          [
           "CryptoNight"
          ],
          [
           "CryptoNight Heavy"
          ],
          [
           "CryptoNight"
          ],
          [
           "Scrypt"
          ],
          [
           "Scrypt"
          ],
          [
           "Jump Consistent Hash"
          ],
          [
           "SHA-256D"
          ],
          [
           "CryptoNight"
          ],
          [
           "Scrypt"
          ],
          [
           "X15"
          ],
          [
           "Scrypt"
          ],
          [
           "Quark"
          ],
          [
           "SHA-256"
          ],
          [
           "DPoS"
          ],
          [
           "X16R"
          ],
          [
           "HMQ1725"
          ],
          [
           "X11"
          ],
          [
           "X16R"
          ],
          [
           "Quark"
          ],
          [
           "Quark"
          ],
          [
           "Scrypt"
          ],
          [
           "Zhash"
          ],
          [
           "Lyra2REv2"
          ],
          [
           "Quark"
          ],
          [
           "Scrypt"
          ],
          [
           "Scrypt"
          ],
          [
           "CryptoNight-V7"
          ],
          [
           "Cryptonight-GPU"
          ],
          [
           "Scrypt"
          ],
          [
           "XEVAN"
          ],
          [
           "CryptoNight Heavy"
          ],
          [
           "X11"
          ],
          [
           "X11"
          ],
          [
           "Scrypt"
          ],
          [
           "PoS"
          ],
          [
           "Lyra2REv2"
          ],
          [
           "Scrypt"
          ],
          [
           "SHA-256"
          ],
          [
           "Scrypt"
          ],
          [
           "Keccak"
          ],
          [
           "X11"
          ],
          [
           "X11"
          ],
          [
           "Quark"
          ],
          [
           "Scrypt"
          ],
          [
           "SHA-512"
          ],
          [
           "X16R"
          ],
          [
           "ECC 256K1"
          ],
          [
           "NeoScrypt"
          ],
          [
           "Equihash"
          ],
          [
           "XEVAN"
          ],
          [
           "Quark"
          ],
          [
           "CryptoNight Heavy X"
          ],
          [
           "Lyra2Z"
          ],
          [
           "Ethash"
          ],
          [
           "SHA-256"
          ],
          [
           "XEVAN"
          ],
          [
           "Ethash"
          ],
          [
           "CryptoNight"
          ],
          [
           "Quark"
          ],
          [
           "SkunkHash"
          ],
          [
           "Quark"
          ],
          [
           "Argon2"
          ],
          [
           "Blake"
          ],
          [
           "Blake"
          ],
          [
           "SHA-256"
          ],
          [
           "Equihash"
          ],
          [
           "Exosis"
          ],
          [
           "Scrypt"
          ],
          [
           "Scrypt"
          ],
          [
           "Equihash"
          ],
          [
           "Quark"
          ],
          [
           "Equihash"
          ],
          [
           "Quark"
          ],
          [
           "Scrypt"
          ],
          [
           "QuBit"
          ],
          [
           "X11"
          ],
          [
           "Scrypt"
          ],
          [
           "Equihash1927"
          ],
          [
           "XEVAN"
          ],
          [
           "SHA-256D"
          ],
          [
           "X11"
          ],
          [
           "SHA-256"
          ],
          [
           "SHA-256"
          ],
          [
           "X13"
          ],
          [
           "SHA-256"
          ],
          [
           "X11"
          ],
          [
           "DPoS"
          ],
          [
           "X11"
          ],
          [
           "Scrypt"
          ],
          [
           "X11"
          ],
          [
           "Scrypt"
          ],
          [
           "NeoScrypt"
          ],
          [
           "Scrypt"
          ],
          [
           "Blake"
          ],
          [
           "Scrypt"
          ],
          [
           "SHA-256"
          ],
          [
           "X11"
          ],
          [
           "CryptoNight"
          ],
          [
           "Scrypt"
          ],
          [
           "Scrypt"
          ],
          [
           "SHA-256"
          ],
          [
           "X11"
          ],
          [
           "SHA-256"
          ],
          [
           "Scrypt"
          ],
          [
           "CryptoNight"
          ],
          [
           "Scrypt"
          ],
          [
           "SHA-256"
          ],
          [
           "Scrypt"
          ],
          [
           "Groestl"
          ],
          [
           "X11"
          ],
          [
           "Scrypt"
          ],
          [
           "PoS"
          ],
          [
           "Scrypt"
          ],
          [
           "Scrypt"
          ],
          [
           "X11"
          ],
          [
           "SHA-256"
          ],
          [
           "DPoS"
          ],
          [
           "Scrypt"
          ],
          [
           "Scrypt"
          ],
          [
           "Scrypt"
          ],
          [
           "NeoScrypt"
          ],
          [
           "Scrypt"
          ],
          [
           "SHA3-256"
          ],
          [
           "Multiple"
          ],
          [
           "X13"
          ],
          [
           "Equihash+Scrypt"
          ],
          [
           "Ethash"
          ],
          [
           "Ethash"
          ],
          [
           "SHA-256"
          ],
          [
           "Leased POS"
          ],
          [
           "PoS"
          ],
          [
           "TRC10"
          ],
          [
           "PoS"
          ],
          [
           "SHA-256"
          ],
          [
           "Scrypt"
          ],
          [
           "CryptoNight"
          ],
          [
           "Equihash"
          ],
          [
           "Scrypt"
          ]
         ],
         "hovertemplate": "<b>%{hovertext}</b><br><br>PC 1=%{z}<br>PC 2=%{y}<br>Algorithm=%{customdata[0]}<br>class=%{marker.color}<extra></extra>",
         "hovertext": [
          "42 Coin",
          "404Coin",
          "EliteCoin",
          "Bitcoin",
          "Litecoin",
          "Dash",
          "Ethereum Classic",
          "ZCash",
          "Bitshares",
          "DigiByte",
          "BitcoinDark",
          "Bitstake",
          "PayCoin",
          "ProsperCoin",
          "KoboCoin",
          "Spreadcoin",
          "ACoin",
          "Aero Coin",
          "ApexCoin",
          "ArchCoin",
          "Argentum",
          "Aurora Coin",
          "BetaCoin",
          "MyriadCoin",
          "MoonCoin",
          "ZetaCoin",
          "SexCoin",
          "Quatloo",
          "QuarkCoin",
          "Riecoin",
          "Digitalcoin ",
          "LimeCoinX",
          "BitBar",
          "BitMark",
          "CashCoin",
          "Catcoin",
          "CryptoBullion",
          "CannaCoin",
          "CinderCoin",
          "CoolCoin",
          "CryptCoin",
          "CasinoCoin",
          "Diamond",
          "Verge",
          "DarkCash",
          "DarkShibe",
          "DevCoin",
          "EarthCoin",
          "E-Gulden",
          "Elacoin",
          "Einsteinium",
          "Emerald",
          "Flappy Coin",
          "Fuel2Coin",
          "FIBRE",
          "FireRoosterCoin",
          "Franko",
          "FeatherCoin",
          "GrandCoin",
          "GlobalCoin",
          "GoldCoin",
          "GlyphCoin",
          "HoboNickels",
          "HunterCoin",
          "Infinite Coin",
          "IOCoin",
          "IXcoin",
          "JumBucks Coin",
          "JudgeCoin",
          "KrugerCoin",
          "LuckyCoin",
          "Litebar ",
          "LitecoinDark",
          "LibrexCoin",
          "MaxCoin",
          "MegaCoin",
          "MediterraneanCoin",
          "MinCoin",
          "MazaCoin",
          "Nautilus Coin",
          "NoirBits",
          "NobleCoin",
          "Namecoin",
          "NyanCoin",
          "Orbitcoin",
          "PotCoin",
          "PhoenixCoin",
          "RipOffCoin",
          "RonPaulCoin",
          "StableCoin",
          "ShieldCoin",
          "SilkCoin",
          "SmartCoin",
          "SpainCoin",
          "SecureCoin",
          "SyncCoin",
          "SysCoin",
          "TeslaCoin",
          "TigerCoin",
          "TittieCoin",
          "TorCoin",
          "TerraCoin",
          "Umbrella",
          "UnbreakableCoin",
          "Unobtanium",
          "UnitaryStatus Dollar",
          "UltraCoin",
          "ViaCoin",
          "Vertcoin",
          "WorldCoin",
          "SocialXbotCoin",
          "X11 Coin",
          "JouleCoin",
          "XXXCoin",
          "ZCC Coin",
          "ByteCoin",
          "DigitalNote ",
          "BurstCoin",
          "StorjCoin",
          "MonaCoin",
          "Neutron",
          "Sling Coin",
          "KryptCoin",
          "Gulden",
          "PesetaCoin",
          "Kore",
          "Wild Beast Coin",
          "Dnotes",
          "Flo",
          "MaieutiCoin",
          "Sativa Coin",
          "AeroMe",
          "ArtByte",
          "MasterTraderCoin",
          "BitCredit",
          "Folding Coin",
          "Ucoin",
          "OmniCron",
          "Vtorrent",
          "GreenCoin",
          "Cryptonite",
          "Gridmaster",
          "ConSpiracy Coin ",
          "MasterCoin",
          "SoonCoin",
          "1Credit",
          "Quicksilver coin",
          "Nexus",
          "MarsCoin ",
          "Crypto",
          "Anarchists Prime",
          "Droidz",
          "BowsCoin",
          "Song Coin",
          "BitZeny",
          "Diggits",
          "Expanse",
          "MapCoin",
          "Paycon",
          "Emercoin",
          "BlitzCoin",
          "EverGreenCoin",
          "MindCoin",
          "I0coin",
          "Decred",
          "DogeCoinDark",
          "Revolution VR",
          "HOdlcoin",
          "EDRCoin",
          "Hitcoin",
          "Gamecredits",
          "Dashcoin",
          "DubaiCoin",
          "BiosCrypto",
          "CarpeDiemCoin",
          "TrumpCoin",
          "BillaryCoin",
          "EthereumScrypt",
          "Phalanx",
          "SunShotCoin",
          "GPU Coin",
          "HempCoin",
          "Adzcoin",
          "VirtaCoin",
          "SoilCoin",
          "YoCoin",
          "Universal Currency",
          "AEON",
          "SibCoin",
          "EuropeCoin",
          "Anti Bitcoin",
          "ZeitCoin",
          "SwingCoin",
          "SafeExchangeCoin",
          "Nebuchadnezzar",
          "Francs",
          "BolivarCoin",
          "GIZMOcoin",
          "SecretCoin",
          "Ratecoin",
          "Digital Bullion Gold",
          "Revenu",
          "Clinton",
          "Clockcoin",
          "VIP Tokens",
          "OrlyCoin",
          "BitSend",
          "16BitCoin",
          "ChessCoin",
          "ReeCoin",
          "Omni",
          "Let it Ride",
          "PutinCoin",
          "iBankCoin",
          "Frankywillcoin",
          "MudraCoin",
          "PizzaCoin",
          "Lutetium Coin",
          "Komodo",
          "GoldBlocks",
          "WayCoin",
          "CarterCoin",
          "Karbo",
          "BitTokens",
          "ZayedCoin",
          "MustangCoin",
          "ZoneCoin",
          "Circuits of Value",
          "DopeCoin",
          "PROUD Money",
          "DollarCoin",
          "Swiscoin",
          "Shilling",
          "BuzzCoin",
          "Opair",
          "GBR Coin",
          "Halloween Coin",
          "FujiCoin",
          "ZCoin",
          "LeaCoin",
          "CoffeeCoin",
          "RoyalCoin",
          "Zurcoin",
          "GanjaCoin V2",
          "TeamUP",
          "LanaCoin",
          "Elementrem",
          "CashOut",
          "ZClassic",
          "ARK",
          "InsaneCoin",
          "LuckChain",
          "KiloCoin",
          "Hush",
          "ArtexCoin",
          "EmberCoin",
          "XenixCoin",
          "FreeCoin",
          "NPCcoin",
          "PLNCoin",
          "Icobid",
          "AquariusCoin",
          "Kurrent",
          "Creatio",
          "Eternity",
          "Eurocoin",
          "BitcoinFast",
          "Stakenet",
          "BitConnect Coin",
          "MoneyCoin",
          "Enigma",
          "Cannabis Industry Coin",
          "Russiacoin",
          "PandaCoin",
          "GameUnits",
          "GAKHcoin",
          "Allsafe",
          "LiteCreed",
          "OsmiumCoin",
          "Bikercoins",
          "NeptuneClassic",
          "HexxCoin",
          "GoldenBird",
          "Ride My Car",
          "Klingon Empire Darsek",
          "Internet of People",
          "KushCoin",
          "Eryllium",
          "MarxCoin",
          "Printerium",
          "PacCoin",
          "Impeach",
          "Solarflarecoin",
          "Citadel",
          "Zilbercoin",
          "FirstCoin",
          "CreativeChain",
          "BeaverCoin",
          "FindCoin",
          "VaultCoin",
          "Zero",
          "OpenChat",
          "Canada eCoin",
          "Zoin",
          "Musicoin",
          "BnrtxCoin",
          "RenosCoin",
          "DubaiCoin",
          "VirtacoinPlus",
          "TajCoin",
          "Impact",
          "EB3coin",
          "Universe",
          "Atmos",
          "HappyCoin",
          "Coinonat",
          "MacronCoin",
          "Condensate",
          "Independent Money System",
          "ArgusCoin",
          "LomoCoin",
          "Bitcoin Scrypt",
          "ProCurrency",
          "GoldReserve",
          "BenjiRolls",
          "ParallelCoin",
          "GrowthCoin",
          "ILCoin",
          "Phreak",
          "Degas Coin",
          "ZSEcoin",
          "HTML5 Coin",
          "Ultimate Secure Cash",
          "EquiTrader",
          "QTUM",
          "Quantum Resistant Ledger",
          "Espers",
          "Nano",
          "ChanCoin",
          "Dinastycoin",
          "Denarius",
          "DigitalPrice",
          "Virta Unique Coin",
          "Bitcoin Planet",
          "Unify",
          "BritCoin",
          "SocialCoin",
          "Octanox",
          "ArcticCoin",
          "DAS",
          "Linda",
          "LeviarCoin",
          "DeepOnion",
          "Bitcore",
          "gCn Coin",
          "SmartCash",
          "Signatum",
          "Onix",
          "Cream",
          "Bitcoin Cash",
          "Monoeci",
          "CampusCoin",
          "Draftcoin",
          "Vechain",
          "Sojourn Coin",
          "Stakecoin",
          "LiteBitcoin",
          "FrazCoin",
          "Kronecoin",
          "AdCoin",
          "Linx",
          "CoinonatX",
          "Ethereum Dark",
          "Sumokoin",
          "Obsidian",
          "Cardano",
          "Regalcoin",
          "BitcoinZ",
          "TrezarCoin",
          "Elements",
          "TerraNovaCoin",
          "VIVO Coin",
          "Rupee",
          "Bitcoin Gold",
          "WomenCoin",
          "Theresa May Coin",
          "NamoCoin",
          "LUXCoin",
          "Pirl",
          "Xios",
          "Bitcloud 2.0",
          "eBoost",
          "KekCoin",
          "BlackholeCoin",
          "AltCommunity Coin",
          "Pure",
          "Rupaya",
          "Infinity Economics",
          "Pura",
          "Innova",
          "Bitdeal",
          "Ellaism",
          "Sakuracoin",
          "GoByte",
          "Castle",
          "Magnet",
          "Lamden Tau",
          "Electra",
          "Bitcoin Diamond",
          "SHIELD",
          "Cash & Back Coin",
          "UltraNote",
          "BitCoal",
          "DaxxCoin",
          "Bulwark",
          "Kalkulus",
          "AC3",
          "CHIPS",
          "Lethean",
          "GermanCoin",
          "LiteCoin Ultra",
          "PopularCoin",
          "PhantomX",
          "HTML Coin",
          "Photon",
          "Sucre",
          "Fantasy Cash",
          "SparksPay",
          "Digiwage",
          "GunCoin",
          "IrishCoin",
          "Trollcoin",
          "Litecoin Plus",
          "Monkey Project",
          "Pioneer Coin",
          "UnitedBitcoin",
          "Interzone",
          "OP Coin",
          "Valorbit",
          "TokenPay",
          "1717 Masonic Commemorative Token",
          "My Big Coin",
          "TurtleCoin",
          "MUNcoin",
          "Unified Society USDEX",
          "Niobio Cash",
          "Bitcoin Private",
          "Skeincoin",
          "ShareChain",
          "Travelflex",
          "KREDS",
          "Tokyo Coin",
          "BiblePay",
          "LitecoinCash",
          "BitFlip",
          "LottoCoin",
          "LeafCoin",
          "Cerberus",
          "Bitcoin Hush",
          "Crypto Improvement Fund",
          "Stipend",
          "Poa Network",
          "Pushi",
          "Ellerium",
          "Velox",
          "Ontology",
          "Callisto Network",
          "Curium",
          "BitTube",
          "Dinero",
          "Poseidon",
          "Aidos Kuneen",
          "Bitspace",
          "Snowgem",
          "Briacoin",
          "Ignition",
          "Bitrolium",
          "Bitcoin Interest",
          "MedicCoin",
          "Alpenschillling",
          "Zelcash",
          "Bitcoin Green",
          "Deviant Coin",
          "Abjcoin",
          "Profit Hunters Coin",
          "Semux",
          "BitBlocks",
          "FuturoCoin",
          "Carebit",
          "Zealium",
          "Monero Classic",
          "Proton",
          "iDealCash",
          "Jumpcoin",
          "Infinex",
          "Bitcoin Incognito",
          "KEYCO",
          "HollyWoodCoin",
          "GINcoin",
          "PlatinCoin",
          "Loki",
          "Newton Coin",
          "Swisscoin",
          "Xt3ch",
          "MassGrid",
          "TheVig",
          "PluraCoin",
          "EmaratCoin",
          "Dekado",
          "Lynx",
          "Poseidon Quark",
          "BitcoinWSpectrum",
          "Muse",
          "Motion",
          "PlusOneCoin",
          "Axe",
          "Trivechain",
          "Dystem",
          "Giant",
          "Peony Coin",
          "SafeCoin",
          "Absolute Coin",
          "Vitae",
          "HexCoin",
          "TPCash",
          "Webchain",
          "Ryo",
          "MUSDcoin",
          "Urals Coin",
          "Qwertycoin",
          "ARENON",
          "EUNO",
          "MMOCoin",
          "Ketan",
          "NIX",
          "Safe Trade Coin",
          "Project Pai",
          "Mont Blanc",
          "XDNA",
          "PAXEX",
          "Azart",
          "Apollon",
          "ThunderStake",
          "Kcash",
          "Xchange",
          "Acute Angle Cloud",
          "Traid",
          "CrypticCoin",
          "Bettex coin",
          "ZestCoin",
          "X-CASH",
          "Actinium",
          "ETHER-1",
          "Bitcoin SV",
          "BitMoney",
          "Bitcoiin2Gen",
          "FREDEnergy",
          "Zenad",
          "C25 Coin",
          "HerbCoin",
          "Aquachain",
          "Universal Molecule",
          "Lithium",
          "Smart Bitcoin",
          "PirateCash",
          "Exosis",
          "Block-Logic",
          "Oduwa",
          "Beam",
          "Galilel",
          "Bithereum",
          "Crypto Sports",
          "Credit",
          "SLICE",
          "Dash Platinum",
          "Nasdacoin",
          "Vidulum",
          "Beetle Coin",
          "Titan Coin",
          "Award",
          "BlockStamp",
          "BLAST",
          "Bitcoin Rhodium",
          "GlobalToken",
          "Insane Coin",
          "ALAX",
          "The Freedom Coin",
          "LiteDoge",
          "Boolberry",
          "SolarCoin",
          "UFO Coin",
          "OrangeCoin",
          "BlakeCoin",
          "BitstarCoin",
          "NeosCoin",
          "PinkCoin",
          "FantomCoin ",
          "Crypto Escudo",
          "AudioCoin",
          "IncaKoin",
          "Piggy Coin",
          "Crown Coin",
          "Genstake",
          "Quazar Coin",
          "SmileyCoin",
          "ParkByte",
          "XiaoMiCoin",
          "Groestlcoin",
          "CapriCoin",
          " ClubCoin",
          "Radium",
          "Bata",
          "Pakcoin",
          "Creditbit ",
          "OKCash",
          "Lisk",
          "HiCoin",
          "WhiteCoin",
          "Dotcoin",
          "FriendshipCoin",
          "The Hempcoin",
          "Fiii",
          "JoinCoin",
          "Triangles Coin",
          "Vollar",
          "Reality Clash",
          "iOlite",
          "TigerCash",
          "Waves",
          "Particl",
          "BitTorrent",
          "Nxt",
          "ZEPHYR",
          "Gapcoin",
          "Beldex",
          "Horizen",
          "BitcoinPlus"
         ],
         "legendgroup": "",
         "marker": {
          "color": [
           0,
           0,
           0,
           1,
           1,
           0,
           0,
           1,
           0,
           1,
           1,
           0,
           0,
           1,
           1,
           1,
           1,
           1,
           1,
           0,
           1,
           0,
           1,
           0,
           1,
           1,
           1,
           1,
           1,
           1,
           1,
           0,
           0,
           1,
           1,
           0,
           0,
           1,
           1,
           1,
           0,
           0,
           1,
           1,
           0,
           0,
           1,
           1,
           1,
           1,
           0,
           0,
           1,
           0,
           1,
           1,
           0,
           1,
           0,
           0,
           1,
           1,
           1,
           1,
           1,
           0,
           0,
           1,
           0,
           0,
           0,
           1,
           0,
           0,
           0,
           0,
           0,
           1,
           1,
           1,
           1,
           1,
           1,
           0,
           1,
           0,
           1,
           1,
           0,
           1,
           1,
           1,
           0,
           1,
           0,
           0,
           0,
           1,
           0,
           1,
           1,
           1,
           1,
           0,
           1,
           0,
           1,
           0,
           1,
           0,
           0,
           0,
           0,
           0,
           0,
           1,
           0,
           0,
           0,
           1,
           0,
           0,
           0,
           0,
           1,
           1,
           0,
           0,
           1,
           0,
           1,
           0,
           1,
           0,
           0,
           0,
           1,
           0,
           1,
           0,
           0,
           0,
           0,
           0,
           0,
           0,
           0,
           0,
           0,
           0,
           0,
           1,
           1,
           1,
           0,
           1,
           0,
           0,
           1,
           1,
           0,
           0,
           0,
           0,
           1,
           0,
           1,
           0,
           1,
           1,
           1,
           0,
           1,
           0,
           0,
           1,
           0,
           1,
           1,
           1,
           0,
           1,
           1,
           1,
           0,
           1,
           0,
           1,
           0,
           2,
           1,
           1,
           0,
           0,
           1,
           0,
           0,
           1,
           0,
           1,
           0,
           0,
           1,
           1,
           0,
           0,
           1,
           0,
           1,
           1,
           0,
           0,
           0,
           0,
           0,
           1,
           0,
           0,
           1,
           0,
           1,
           1,
           2,
           1,
           1,
           1,
           1,
           1,
           0,
           1,
           0,
           1,
           0,
           1,
           0,
           1,
           0,
           0,
           1,
           0,
           0,
           0,
           0,
           0,
           1,
           1,
           1,
           0,
           1,
           0,
           0,
           1,
           0,
           1,
           1,
           1,
           1,
           1,
           1,
           0,
           0,
           1,
           0,
           0,
           1,
           1,
           0,
           1,
           1,
           0,
           1,
           0,
           0,
           0,
           0,
           0,
           0,
           0,
           1,
           0,
           1,
           1,
           0,
           null,
           null,
           null,
           null,
           null,
           null,
           null,
           null,
           null,
           null,
           null,
           null,
           null,
           null,
           null,
           null,
           null,
           null,
           null,
           null,
           null,
           null,
           null,
           null,
           null,
           null,
           null,
           null,
           null,
           null,
           null,
           null,
           null,
           null,
           null,
           null,
           null,
           null,
           null,
           null,
           null,
           null,
           null,
           null,
           null,
           null,
           null,
           null,
           null,
           null,
           null,
           null,
           null,
           null,
           null,
           null,
           null,
           null,
           null,
           null,
           null,
           null,
           null,
           null,
           null,
           null,
           null,
           null,
           null,
           null,
           null,
           null,
           null,
           null,
           null,
           null,
           null,
           null,
           null,
           null,
           null,
           null,
           null,
           null,
           null,
           null,
           null,
           null,
           null,
           null,
           null,
           null,
           null,
           null,
           null,
           null,
           null,
           null,
           null,
           null,
           null,
           null,
           null,
           null,
           null,
           null,
           null,
           null,
           null,
           null,
           null,
           null,
           null,
           null,
           null,
           null,
           null,
           null,
           null,
           null,
           null,
           null,
           null,
           null,
           null,
           null,
           null,
           null,
           null,
           null,
           null,
           null,
           null,
           null,
           null,
           null,
           null,
           null,
           null,
           null,
           null,
           null,
           null,
           null,
           null,
           null,
           null,
           null,
           null,
           null,
           null,
           null,
           null,
           null,
           null,
           null,
           null,
           null,
           null,
           null,
           null,
           null,
           null,
           null,
           null,
           null,
           null,
           null,
           null,
           null,
           null,
           null,
           null,
           null,
           null,
           null,
           null,
           null,
           null,
           null,
           null,
           null,
           null,
           null,
           null,
           null,
           null,
           null,
           null,
           null,
           null,
           null,
           null,
           null,
           null,
           null,
           null,
           null,
           null,
           null,
           null,
           null,
           null,
           null,
           null,
           null,
           null,
           null,
           null,
           null,
           null,
           null,
           null,
           null,
           null,
           null,
           null,
           null,
           null,
           null,
           null,
           null,
           null,
           null,
           null,
           null,
           null,
           null,
           null,
           null,
           null,
           null,
           null,
           null,
           null,
           null,
           null,
           null,
           null,
           null,
           null,
           null,
           null,
           null,
           null,
           null,
           null,
           null,
           null,
           null,
           null,
           null,
           null,
           null,
           null,
           null,
           null,
           null,
           null,
           null,
           null,
           null,
           null,
           null,
           null,
           null,
           null,
           null,
           null,
           null,
           null,
           null,
           null,
           null,
           null,
           null,
           null,
           null,
           null,
           null,
           null,
           null,
           null,
           null,
           null,
           null,
           null,
           null,
           null,
           null,
           null,
           null,
           null,
           null,
           null,
           null,
           null,
           null,
           null,
           null,
           null,
           null,
           null,
           null,
           null,
           null,
           null,
           null,
           null,
           null,
           null,
           null,
           null,
           null,
           null,
           null,
           null,
           null,
           null,
           null,
           null,
           null,
           null,
           null,
           null,
           null,
           null,
           null,
           null,
           null,
           null,
           null,
           null,
           null,
           null,
           null,
           null,
           null,
           null,
           null,
           null,
           null,
           null,
           null,
           null,
           null,
           null,
           null,
           null,
           null,
           null,
           null,
           null,
           null
          ],
          "coloraxis": "coloraxis",
          "symbol": "circle"
         },
         "mode": "markers",
         "name": "",
         "scene": "scene",
         "showlegend": false,
         "type": "scatter3d",
         "x": [
          -0.15873809013501916,
          0.4229450739792552,
          -0.14371809521765067,
          -0.28533995257711275,
          -0.13870026029953858,
          -0.07672766674333166,
          0.024772967406620515,
          -0.31908081105473163,
          0.019601504748619256,
          -0.3041105160802487,
          -0.23716648505203808,
          0.024245530178299005,
          -0.0573832474347563,
          -0.31899315141423373,
          -0.3191600245017239,
          -0.31905916706006443,
          -0.31252813314887623,
          -0.3187039629610148,
          -0.31906104387503365,
          -0.15872394098041087,
          -0.3190953054696356,
          -0.05738324758000109,
          -0.3041942984983098,
          -0.1438410749890609,
          -0.3191593585255004,
          0.018478483936696762,
          -0.14841468520683612,
          -0.3188746190226821,
          -0.31617896424764075,
          -0.31889386939702197,
          -0.31915953226624033,
          -0.04248623185566372,
          -0.05954993809957501,
          -0.3191437978733173,
          -0.318592089757958,
          -0.14384107499475954,
          -0.1575225364802078,
          -0.29401955315664347,
          0.9144895503916589,
          -0.3191443205872823,
          -0.1438410749843349,
          -0.09573142889320578,
          -0.39998475663802935,
          -0.319080322252277,
          -0.05476949595772227,
          -0.05716292317822997,
          -0.23716648513613037,
          -0.28694048478183565,
          -0.23696581843752684,
          -0.3146015988672525,
          -0.16056933668020512,
          -0.1557058791881686,
          -0.3188296190366051,
          0.01925369075959972,
          -0.31881084680026417,
          -0.3835751001269904,
          -0.14384105895530327,
          -0.2365736413067943,
          0.1304596509712135,
          -0.14382157737905216,
          -0.2368541721393539,
          -0.23713546345128686,
          -0.3188441111517834,
          -0.308298061148187,
          -0.23663275384692647,
          -0.15873809079380707,
          -0.15672289843335416,
          2.281588336362384,
          -0.022143171362818008,
          -0.07621249435304267,
          -0.057383247435793254,
          -0.31728677074461425,
          0.024273070221754886,
          -0.05500507923046876,
          0.02460962606643076,
          0.024342168284574868,
          0.024245530167874296,
          -0.3717624496801007,
          -0.31902128079300307,
          -0.2563800265607776,
          -0.3191509230453033,
          -0.23699678066788046,
          -0.3042623428549473,
          -0.10378716046535892,
          -0.40265645986559423,
          -0.059775739164995366,
          -0.31871591478967465,
          -0.3495617899266753,
          -0.04248623168579182,
          -0.3040462712495449,
          -0.31915938718975717,
          -0.31629977336214454,
          -0.07669524680732552,
          -0.31820839533142187,
          -0.07667537508967637,
          -0.04250742823425034,
          -0.1586155542279423,
          -0.30426234670685837,
          -0.05683206891706326,
          -0.38357510872733297,
          -0.3036480723267786,
          -0.3191593950082502,
          -0.3191506920567211,
          -0.0767452175991068,
          -0.40534583294462834,
          -0.14369935908769169,
          -0.2371664851222308,
          -0.05879538022694283,
          -0.30407641419025644,
          -0.14384107498277127,
          -0.14200883053200827,
          0.08362771928850495,
          -0.07651831929462907,
          -0.1435089857766597,
          -0.15873809083666388,
          -0.319150964305032,
          -0.14766615569796748,
          -0.15737638348798028,
          0.12566845851154804,
          0.0387951686816871,
          -0.04248623185566372,
          -0.15815030305870945,
          -0.07673710927001878,
          -0.14383211990507616,
          -0.28040248124161327,
          -0.3175682687617459,
          -0.14384109235702666,
          -0.16487524563849162,
          -0.3190079476056635,
          0.2314710756271806,
          -0.3191593586739755,
          -0.14023693145536445,
          -0.23716648852414396,
          0.08565280712272709,
          0.12563441785839274,
          0.08387035710392392,
          -0.3493478621573827,
          -0.15873809244437778,
          -0.29304187475049437,
          -0.14378860395370413,
          0.08390006075835732,
          -0.14375842650070028,
          -0.158462426397775,
          -0.19640387625920996,
          0.4030527752267506,
          0.22609869459780574,
          0.024245529406874345,
          -0.14376401465722227,
          -0.15857711339756306,
          -0.05734345005140478,
          -0.14512101851738887,
          -0.317799783623534,
          -0.40259105671617135,
          -0.21983335763456238,
          -0.15873128390741417,
          -0.3191593585584356,
          0.025978634600925168,
          -0.14360725107397276,
          -0.3188832574426347,
          -0.21922262426826047,
          0.0837828208115801,
          -0.14384107861993425,
          0.5729104155303976,
          0.02475046865315553,
          -0.3189731668608196,
          0.11237025019457927,
          -0.3620198342147398,
          0.5375269543468016,
          -0.35448898676195506,
          -0.36639618358917503,
          -0.2002233142228222,
          -0.05949313609879364,
          -0.3037838529510623,
          -0.05869285141859092,
          -0.08192219239858296,
          -0.3190889886780445,
          -0.14384107499633308,
          -0.3039077221009501,
          -0.3042266267978854,
          -0.22467011637805637,
          0.024543975810925416,
          1.9011736108193606,
          -0.3124610349492948,
          -0.30259458488659075,
          -0.08137032724553037,
          -0.23692143781116276,
          -0.1436699184219564,
          -0.31915936027676645,
          -0.057129107936776086,
          6.707727195814289,
          -0.31915936025939207,
          -0.3187148057453337,
          -0.15847201877647116,
          -0.15868089900373888,
          -0.22474113152176423,
          0.7703767851545642,
          -0.07549175485934945,
          -0.3551696225523304,
          0.12501883114073603,
          -0.3177977874533972,
          -0.15851528074783883,
          0.14716327563617787,
          -0.3191593587045545,
          -0.32095504096000305,
          4.530299165235408,
          0.026744726208902975,
          -0.34261170037191985,
          0.22618636120434207,
          -0.23716648508574442,
          -0.3569513672655083,
          -0.15862344334372533,
          -0.14322593445636916,
          -0.15873809071492712,
          0.22632721488718105,
          -0.15069009181858536,
          -0.2721273092272353,
          -0.1587380941818207,
          -0.3189889135143749,
          -0.08790656088585322,
          -0.22074283974570955,
          -0.32981552426413874,
          -0.2854404881998763,
          0.3320132600239604,
          -0.3189898791276064,
          -0.12183417585520578,
          -0.3191593950082502,
          -0.2854404881998763,
          -0.30138508810227393,
          -0.15448330309761396,
          -0.34633295908934647,
          -0.15872199324401953,
          -0.2844688354796064,
          -0.053743436056118574,
          -0.3685257037616686,
          0.08392561426211911,
          -0.22464485581342744,
          -0.06128697667927609,
          -0.019843954373565346,
          -0.3575796050489016,
          -0.15844397104778143,
          1.6945701725107325,
          -0.16219900205224316,
          0.12468123615508667,
          0.22685493369597926,
          -0.3191400677546564,
          -0.36274774889190264,
          -0.33573273319119257,
          0.08375472719018763,
          -0.30899489768662464,
          -0.042424891853386416,
          0.4192958528034469,
          -0.3229902371766445,
          -0.05304174448529657,
          -0.03582063783166809,
          -0.3497047050474557,
          -0.36363942267873983,
          -0.23716648508574398,
          -0.3928033560857977,
          -0.31867888412819195,
          -0.15853686376086232,
          0.12484934600962895,
          -0.2850980080843432,
          0.22598181828743988,
          0.261017751254661,
          -0.240401096666968,
          -0.3526051901030456,
          -0.022915258453902954,
          -0.23716648523168965,
          -0.23645439612116795,
          7.21914458788208,
          -0.3039655003530319,
          -0.15845789864379672,
          0.16754134460781037,
          -0.13711096503300524,
          -0.07674521727767991,
          -0.1532324840645097,
          -0.141099082411147,
          -0.15732706423670567,
          -0.2939741684364603,
          0.024247447169589976,
          -0.34937125077118525,
          -0.34970470661115455,
          4.3561874623689505,
          null,
          null,
          null,
          null,
          null,
          null,
          null,
          null,
          null,
          null,
          null,
          null,
          null,
          null,
          null,
          null,
          null,
          null,
          null,
          null,
          null,
          null,
          null,
          null,
          null,
          null,
          null,
          null,
          null,
          null,
          null,
          null,
          null,
          null,
          null,
          null,
          null,
          null,
          null,
          null,
          null,
          null,
          null,
          null,
          null,
          null,
          null,
          null,
          null,
          null,
          null,
          null,
          null,
          null,
          null,
          null,
          null,
          null,
          null,
          null,
          null,
          null,
          null,
          null,
          null,
          null,
          null,
          null,
          null,
          null,
          null,
          null,
          null,
          null,
          null,
          null,
          null,
          null,
          null,
          null,
          null,
          null,
          null,
          null,
          null,
          null,
          null,
          null,
          null,
          null,
          null,
          null,
          null,
          null,
          null,
          null,
          null,
          null,
          null,
          null,
          null,
          null,
          null,
          null,
          null,
          null,
          null,
          null,
          null,
          null,
          null,
          null,
          null,
          null,
          null,
          null,
          null,
          null,
          null,
          null,
          null,
          null,
          null,
          null,
          null,
          null,
          null,
          null,
          null,
          null,
          null,
          null,
          null,
          null,
          null,
          null,
          null,
          null,
          null,
          null,
          null,
          null,
          null,
          null,
          null,
          null,
          null,
          null,
          null,
          null,
          null,
          null,
          null,
          null,
          null,
          null,
          null,
          null,
          null,
          null,
          null,
          null,
          null,
          null,
          null,
          null,
          null,
          null,
          null,
          null,
          null,
          null,
          null,
          null,
          null,
          null,
          null,
          null,
          null,
          null,
          null,
          null,
          null,
          null,
          null,
          null,
          null,
          null,
          null,
          null,
          null,
          null,
          null,
          null,
          null,
          null,
          null,
          null,
          null,
          null,
          null,
          null,
          null,
          null,
          null,
          null,
          null,
          null,
          null,
          null,
          null,
          null,
          null,
          null,
          null,
          null,
          null,
          null,
          null,
          null,
          null,
          null,
          null,
          null,
          null,
          null,
          null,
          null,
          null,
          null,
          null,
          null,
          null,
          null,
          null,
          null,
          null,
          null,
          null,
          null,
          null,
          null,
          null,
          null,
          null,
          null,
          null,
          null,
          null,
          null,
          null,
          null,
          null,
          null,
          null,
          null,
          null,
          null,
          null,
          null,
          null,
          null,
          null,
          null,
          null,
          null,
          null,
          null,
          null,
          null,
          null,
          null,
          null,
          null,
          null,
          null,
          null,
          null,
          null,
          null,
          null,
          null,
          null,
          null,
          null,
          null,
          null,
          null,
          null,
          null,
          null,
          null,
          null,
          null,
          null,
          null,
          null,
          null,
          null,
          null,
          null,
          null,
          null,
          null,
          null,
          null,
          null,
          null,
          null,
          null,
          null,
          null,
          null,
          null,
          null,
          null,
          null,
          null,
          null,
          null,
          null,
          null,
          null,
          null,
          null,
          null,
          null,
          null,
          null,
          null,
          null,
          null,
          null,
          null,
          null,
          null,
          null,
          null,
          null,
          null,
          null,
          null,
          null,
          null,
          null,
          null,
          null,
          null,
          null,
          null,
          null,
          null,
          null,
          null
         ],
         "y": [
          1.1941140209126266,
          1.971414566997819,
          1.4977540482145835,
          -1.9178733117795863,
          -1.732802111196301,
          0.8631323599564992,
          0.5041316759973165,
          -1.0658705369103987,
          2.159700887857617,
          -0.7622246161012828,
          -1.3968408024365673,
          2.018691732983489,
          0.8351306261203627,
          -1.0658809317206812,
          -1.0658572000863764,
          -1.0658731027851711,
          -1.4270749487424008,
          -1.065915225736069,
          -1.0658728810314826,
          1.1941123430238656,
          -1.0658688181488674,
          0.8351306269960638,
          -0.7622146806562834,
          1.4977686317701888,
          -1.0658612224337158,
          -1.4271566344623445,
          -1.0861091007282413,
          -1.0658949885062825,
          -1.0662146539667807,
          -1.0658927055583862,
          -1.0658601749262588,
          1.1387852377468368,
          1.7595373046939653,
          -1.0658630676229404,
          -1.065928492142811,
          1.4977686318045473,
          1.1939698738650673,
          -1.7143835517257484,
          -1.2121544251735523,
          -1.065863005737629,
          1.4977686317416965,
          2.1529694384412013,
          -2.1466524213299203,
          -1.065870594988743,
          0.8605284414774901,
          0.8351044986308422,
          -1.396840801929564,
          -1.0696817925864324,
          -1.3968645985931814,
          -1.0664017078586043,
          0.7532712452819119,
          1.1937544458764506,
          -1.0659003225464496,
          2.159742130324807,
          -1.065902550722189,
          -2.160952204794638,
          1.4977686298306099,
          -1.3969111052478833,
          1.7347625216503724,
          1.4977663196809274,
          -1.3968778381236873,
          -1.3968444803751887,
          -1.0658986063080382,
          -1.431994288472634,
          -1.3969040953180207,
          1.1941140215042125,
          1.19387505660741,
          -2.507939947453173,
          0.5411721682724163,
          0.8630712679270426,
          0.8351306261266149,
          -1.0660832844175676,
          2.018688467167143,
          0.8348486123911655,
          0.5041510459503554,
          2.018680273047678,
          2.0186917330463405,
          -2.121157144287727,
          -1.0658775965781064,
          -1.0733059023748195,
          -1.0658622227825996,
          -1.396860926889979,
          -0.7622066113586695,
          2.170935359560703,
          -2.1884452140085195,
          2.2127200263206928,
          -1.0659138067459015,
          -2.0242591769281715,
          1.1387852367226574,
          -0.7622322347133705,
          -1.0658610496128635,
          -1.066200328556203,
          0.8631285153890544,
          -1.0659739930095435,
          0.8631261587530821,
          0.18660120905495503,
          1.1940994902369306,
          -0.7622065881349543,
          0.835065265878708,
          -2.1609521529419595,
          -0.7622794550402588,
          -1.0658610024740647,
          -1.065862248452252,
          0.8631344431820578,
          -2.1526398967427784,
          1.4977518300795662,
          -1.3968408020133656,
          0.3743567300371434,
          -0.7622286600744541,
          1.4977686317322683,
          1.497551353005107,
          1.5135670512916741,
          0.8631075393361637,
          1.497729251854819,
          1.1941140217626027,
          -1.065862217889783,
          1.1928010592576987,
          1.1939525418846975,
          1.6597002659766176,
          -1.2150129999164259,
          1.1387852377468368,
          1.1940443182119762,
          0.8631334797026261,
          1.4977675698105335,
          -1.7159983410281585,
          -1.0660499022016585,
          1.4977687364841075,
          0.3349795802401789,
          -1.0658791774409595,
          2.1504076676046795,
          -1.0658612215385392,
          1.4973412442904797,
          -1.3968407815027504,
          1.5133269034259966,
          1.659704300711096,
          1.513538280654115,
          -2.024284545782732,
          1.1941140314557366,
          -0.7635372028473323,
          1.4977624094139852,
          1.5135347553153933,
          1.4977588313513837,
          1.1940813312477516,
          0.8963226009602743,
          0.7805294534608935,
          1.3766036648594147,
          2.0186917376345166,
          1.4977594935113312,
          1.1940949314466411,
          0.8351259070834591,
          1.1924992300229418,
          -1.0660224486864016,
          -2.1884529704004687,
          -0.5004542852005569,
          1.1941132240550203,
          -1.065861222235146,
          0.503989470183898,
          1.4977409037779756,
          -1.0658939639569938,
          -1.3989686768161664,
          1.5135486584955795,
          1.497768653661238,
          2.094086829338294,
          0.5041343459725821,
          -1.065883301537204,
          1.5206702343053773,
          -2.1277238944116506,
          2.158969481027674,
          -2.112736925062937,
          -2.063350979036052,
          -2.213632410088619,
          1.7595305688385512,
          -0.7622633531240017,
          1.7594356669915698,
          1.5384564011382789,
          -1.0658695665999545,
          1.4977686318140349,
          -0.7622486643231403,
          -0.7622108469464418,
          -2.2107333688381954,
          2.018656341486452,
          -1.3291607324648327,
          -1.4633667102434562,
          -0.7624043740178907,
          1.5383909573693284,
          -1.3968698615372923,
          1.49774833496766,
          -1.0658612118750852,
          0.835100488611567,
          0.9469970953501597,
          -1.0658612119798379,
          -1.0659139393956947,
          1.1940824689312028,
          1.1941072388584264,
          -2.210724947041032,
          1.4294686207449394,
          0.8629857982660464,
          -2.138060417358838,
          1.7355544528879476,
          -1.066022685405275,
          1.194087598874262,
          0.48961792734893056,
          -1.065861221354174,
          -1.5067082152217566,
          0.5046016165478469,
          2.018395364114089,
          -2.0250832613551073,
          1.3765932688328226,
          -1.3968408022333463,
          -2.1283249370918784,
          1.1941004268888098,
          1.4976956848693188,
          1.1941140210286343,
          1.3765765665114311,
          1.193159646027923,
          -1.0953217350407918,
          1.1941140419310257,
          2.1602888639327067,
          -0.12325299369671398,
          0.33190592159330534,
          -1.3964509297127765,
          -1.9178613896097743,
          2.7955853139141764,
          -1.0658813200162323,
          -1.0892611404863752,
          -1.0658610024740647,
          -1.9178613896097743,
          -0.7625478101961064,
          1.4261996072430194,
          -2.0246420061698243,
          1.194112112089659,
          -1.9179766140229821,
          0.8346989985154876,
          -2.106856397532578,
          1.5135317257125744,
          -2.210736364766277,
          0.6679265110398112,
          1.1776431532138887,
          -2.091853715687223,
          1.1940791432157212,
          0.10589145385184524,
          1.0268573942195032,
          1.7355944851020877,
          1.3765139859680733,
          -1.0658635098531164,
          -2.12763755664907,
          -2.1343357666002425,
          1.513551991868887,
          -1.431911652116842,
          1.138777963649325,
          2.2308038791003137,
          -1.2330739759004732,
          1.0672059288412292,
          -0.5243711992799603,
          -2.0242422282677897,
          -2.1113088699665266,
          -1.3968408022333492,
          -2.2504471345869357,
          -1.0659181990099407,
          1.1940901583924943,
          1.7355745496817623,
          -1.9179020030339062,
          1.3766175247977923,
          1.1443374038570868,
          -1.092239284702352,
          -2.0756947403986934,
          2.18057430409374,
          -1.3968408013534224,
          -1.3969252459452224,
          -0.11329814455837618,
          -1.7144282827255888,
          1.1940807945354406,
          0.8341653492654082,
          1.4969705416708616,
          0.8631344412441299,
          1.1934611343465507,
          1.497443470505637,
          1.193946693902391,
          -1.7143889341444076,
          2.0186915055937757,
          -2.0242817722260127,
          -2.02424221884003,
          -0.37109756874978933,
          null,
          null,
          null,
          null,
          null,
          null,
          null,
          null,
          null,
          null,
          null,
          null,
          null,
          null,
          null,
          null,
          null,
          null,
          null,
          null,
          null,
          null,
          null,
          null,
          null,
          null,
          null,
          null,
          null,
          null,
          null,
          null,
          null,
          null,
          null,
          null,
          null,
          null,
          null,
          null,
          null,
          null,
          null,
          null,
          null,
          null,
          null,
          null,
          null,
          null,
          null,
          null,
          null,
          null,
          null,
          null,
          null,
          null,
          null,
          null,
          null,
          null,
          null,
          null,
          null,
          null,
          null,
          null,
          null,
          null,
          null,
          null,
          null,
          null,
          null,
          null,
          null,
          null,
          null,
          null,
          null,
          null,
          null,
          null,
          null,
          null,
          null,
          null,
          null,
          null,
          null,
          null,
          null,
          null,
          null,
          null,
          null,
          null,
          null,
          null,
          null,
          null,
          null,
          null,
          null,
          null,
          null,
          null,
          null,
          null,
          null,
          null,
          null,
          null,
          null,
          null,
          null,
          null,
          null,
          null,
          null,
          null,
          null,
          null,
          null,
          null,
          null,
          null,
          null,
          null,
          null,
          null,
          null,
          null,
          null,
          null,
          null,
          null,
          null,
          null,
          null,
          null,
          null,
          null,
          null,
          null,
          null,
          null,
          null,
          null,
          null,
          null,
          null,
          null,
          null,
          null,
          null,
          null,
          null,
          null,
          null,
          null,
          null,
          null,
          null,
          null,
          null,
          null,
          null,
          null,
          null,
          null,
          null,
          null,
          null,
          null,
          null,
          null,
          null,
          null,
          null,
          null,
          null,
          null,
          null,
          null,
          null,
          null,
          null,
          null,
          null,
          null,
          null,
          null,
          null,
          null,
          null,
          null,
          null,
          null,
          null,
          null,
          null,
          null,
          null,
          null,
          null,
          null,
          null,
          null,
          null,
          null,
          null,
          null,
          null,
          null,
          null,
          null,
          null,
          null,
          null,
          null,
          null,
          null,
          null,
          null,
          null,
          null,
          null,
          null,
          null,
          null,
          null,
          null,
          null,
          null,
          null,
          null,
          null,
          null,
          null,
          null,
          null,
          null,
          null,
          null,
          null,
          null,
          null,
          null,
          null,
          null,
          null,
          null,
          null,
          null,
          null,
          null,
          null,
          null,
          null,
          null,
          null,
          null,
          null,
          null,
          null,
          null,
          null,
          null,
          null,
          null,
          null,
          null,
          null,
          null,
          null,
          null,
          null,
          null,
          null,
          null,
          null,
          null,
          null,
          null,
          null,
          null,
          null,
          null,
          null,
          null,
          null,
          null,
          null,
          null,
          null,
          null,
          null,
          null,
          null,
          null,
          null,
          null,
          null,
          null,
          null,
          null,
          null,
          null,
          null,
          null,
          null,
          null,
          null,
          null,
          null,
          null,
          null,
          null,
          null,
          null,
          null,
          null,
          null,
          null,
          null,
          null,
          null,
          null,
          null,
          null,
          null,
          null,
          null,
          null,
          null,
          null,
          null,
          null,
          null,
          null,
          null,
          null,
          null,
          null,
          null,
          null,
          null,
          null,
          null,
          null,
          null,
          null
         ],
         "z": [
          -0.15873809013501916,
          0.4229450739792552,
          -0.14371809521765067,
          -0.28533995257711275,
          -0.13870026029953858,
          -0.07672766674333166,
          0.024772967406620515,
          -0.31908081105473163,
          0.019601504748619256,
          -0.3041105160802487,
          -0.23716648505203808,
          0.024245530178299005,
          -0.0573832474347563,
          -0.31899315141423373,
          -0.3191600245017239,
          -0.31905916706006443,
          -0.31252813314887623,
          -0.3187039629610148,
          -0.31906104387503365,
          -0.15872394098041087,
          -0.3190953054696356,
          -0.05738324758000109,
          -0.3041942984983098,
          -0.1438410749890609,
          -0.3191593585255004,
          0.018478483936696762,
          -0.14841468520683612,
          -0.3188746190226821,
          -0.31617896424764075,
          -0.31889386939702197,
          -0.31915953226624033,
          -0.04248623185566372,
          -0.05954993809957501,
          -0.3191437978733173,
          -0.318592089757958,
          -0.14384107499475954,
          -0.1575225364802078,
          -0.29401955315664347,
          0.9144895503916589,
          -0.3191443205872823,
          -0.1438410749843349,
          -0.09573142889320578,
          -0.39998475663802935,
          -0.319080322252277,
          -0.05476949595772227,
          -0.05716292317822997,
          -0.23716648513613037,
          -0.28694048478183565,
          -0.23696581843752684,
          -0.3146015988672525,
          -0.16056933668020512,
          -0.1557058791881686,
          -0.3188296190366051,
          0.01925369075959972,
          -0.31881084680026417,
          -0.3835751001269904,
          -0.14384105895530327,
          -0.2365736413067943,
          0.1304596509712135,
          -0.14382157737905216,
          -0.2368541721393539,
          -0.23713546345128686,
          -0.3188441111517834,
          -0.308298061148187,
          -0.23663275384692647,
          -0.15873809079380707,
          -0.15672289843335416,
          2.281588336362384,
          -0.022143171362818008,
          -0.07621249435304267,
          -0.057383247435793254,
          -0.31728677074461425,
          0.024273070221754886,
          -0.05500507923046876,
          0.02460962606643076,
          0.024342168284574868,
          0.024245530167874296,
          -0.3717624496801007,
          -0.31902128079300307,
          -0.2563800265607776,
          -0.3191509230453033,
          -0.23699678066788046,
          -0.3042623428549473,
          -0.10378716046535892,
          -0.40265645986559423,
          -0.059775739164995366,
          -0.31871591478967465,
          -0.3495617899266753,
          -0.04248623168579182,
          -0.3040462712495449,
          -0.31915938718975717,
          -0.31629977336214454,
          -0.07669524680732552,
          -0.31820839533142187,
          -0.07667537508967637,
          -0.04250742823425034,
          -0.1586155542279423,
          -0.30426234670685837,
          -0.05683206891706326,
          -0.38357510872733297,
          -0.3036480723267786,
          -0.3191593950082502,
          -0.3191506920567211,
          -0.0767452175991068,
          -0.40534583294462834,
          -0.14369935908769169,
          -0.2371664851222308,
          -0.05879538022694283,
          -0.30407641419025644,
          -0.14384107498277127,
          -0.14200883053200827,
          0.08362771928850495,
          -0.07651831929462907,
          -0.1435089857766597,
          -0.15873809083666388,
          -0.319150964305032,
          -0.14766615569796748,
          -0.15737638348798028,
          0.12566845851154804,
          0.0387951686816871,
          -0.04248623185566372,
          -0.15815030305870945,
          -0.07673710927001878,
          -0.14383211990507616,
          -0.28040248124161327,
          -0.3175682687617459,
          -0.14384109235702666,
          -0.16487524563849162,
          -0.3190079476056635,
          0.2314710756271806,
          -0.3191593586739755,
          -0.14023693145536445,
          -0.23716648852414396,
          0.08565280712272709,
          0.12563441785839274,
          0.08387035710392392,
          -0.3493478621573827,
          -0.15873809244437778,
          -0.29304187475049437,
          -0.14378860395370413,
          0.08390006075835732,
          -0.14375842650070028,
          -0.158462426397775,
          -0.19640387625920996,
          0.4030527752267506,
          0.22609869459780574,
          0.024245529406874345,
          -0.14376401465722227,
          -0.15857711339756306,
          -0.05734345005140478,
          -0.14512101851738887,
          -0.317799783623534,
          -0.40259105671617135,
          -0.21983335763456238,
          -0.15873128390741417,
          -0.3191593585584356,
          0.025978634600925168,
          -0.14360725107397276,
          -0.3188832574426347,
          -0.21922262426826047,
          0.0837828208115801,
          -0.14384107861993425,
          0.5729104155303976,
          0.02475046865315553,
          -0.3189731668608196,
          0.11237025019457927,
          -0.3620198342147398,
          0.5375269543468016,
          -0.35448898676195506,
          -0.36639618358917503,
          -0.2002233142228222,
          -0.05949313609879364,
          -0.3037838529510623,
          -0.05869285141859092,
          -0.08192219239858296,
          -0.3190889886780445,
          -0.14384107499633308,
          -0.3039077221009501,
          -0.3042266267978854,
          -0.22467011637805637,
          0.024543975810925416,
          1.9011736108193606,
          -0.3124610349492948,
          -0.30259458488659075,
          -0.08137032724553037,
          -0.23692143781116276,
          -0.1436699184219564,
          -0.31915936027676645,
          -0.057129107936776086,
          6.707727195814289,
          -0.31915936025939207,
          -0.3187148057453337,
          -0.15847201877647116,
          -0.15868089900373888,
          -0.22474113152176423,
          0.7703767851545642,
          -0.07549175485934945,
          -0.3551696225523304,
          0.12501883114073603,
          -0.3177977874533972,
          -0.15851528074783883,
          0.14716327563617787,
          -0.3191593587045545,
          -0.32095504096000305,
          4.530299165235408,
          0.026744726208902975,
          -0.34261170037191985,
          0.22618636120434207,
          -0.23716648508574442,
          -0.3569513672655083,
          -0.15862344334372533,
          -0.14322593445636916,
          -0.15873809071492712,
          0.22632721488718105,
          -0.15069009181858536,
          -0.2721273092272353,
          -0.1587380941818207,
          -0.3189889135143749,
          -0.08790656088585322,
          -0.22074283974570955,
          -0.32981552426413874,
          -0.2854404881998763,
          0.3320132600239604,
          -0.3189898791276064,
          -0.12183417585520578,
          -0.3191593950082502,
          -0.2854404881998763,
          -0.30138508810227393,
          -0.15448330309761396,
          -0.34633295908934647,
          -0.15872199324401953,
          -0.2844688354796064,
          -0.053743436056118574,
          -0.3685257037616686,
          0.08392561426211911,
          -0.22464485581342744,
          -0.06128697667927609,
          -0.019843954373565346,
          -0.3575796050489016,
          -0.15844397104778143,
          1.6945701725107325,
          -0.16219900205224316,
          0.12468123615508667,
          0.22685493369597926,
          -0.3191400677546564,
          -0.36274774889190264,
          -0.33573273319119257,
          0.08375472719018763,
          -0.30899489768662464,
          -0.042424891853386416,
          0.4192958528034469,
          -0.3229902371766445,
          -0.05304174448529657,
          -0.03582063783166809,
          -0.3497047050474557,
          -0.36363942267873983,
          -0.23716648508574398,
          -0.3928033560857977,
          -0.31867888412819195,
          -0.15853686376086232,
          0.12484934600962895,
          -0.2850980080843432,
          0.22598181828743988,
          0.261017751254661,
          -0.240401096666968,
          -0.3526051901030456,
          -0.022915258453902954,
          -0.23716648523168965,
          -0.23645439612116795,
          7.21914458788208,
          -0.3039655003530319,
          -0.15845789864379672,
          0.16754134460781037,
          -0.13711096503300524,
          -0.07674521727767991,
          -0.1532324840645097,
          -0.141099082411147,
          -0.15732706423670567,
          -0.2939741684364603,
          0.024247447169589976,
          -0.34937125077118525,
          -0.34970470661115455,
          4.3561874623689505,
          null,
          null,
          null,
          null,
          null,
          null,
          null,
          null,
          null,
          null,
          null,
          null,
          null,
          null,
          null,
          null,
          null,
          null,
          null,
          null,
          null,
          null,
          null,
          null,
          null,
          null,
          null,
          null,
          null,
          null,
          null,
          null,
          null,
          null,
          null,
          null,
          null,
          null,
          null,
          null,
          null,
          null,
          null,
          null,
          null,
          null,
          null,
          null,
          null,
          null,
          null,
          null,
          null,
          null,
          null,
          null,
          null,
          null,
          null,
          null,
          null,
          null,
          null,
          null,
          null,
          null,
          null,
          null,
          null,
          null,
          null,
          null,
          null,
          null,
          null,
          null,
          null,
          null,
          null,
          null,
          null,
          null,
          null,
          null,
          null,
          null,
          null,
          null,
          null,
          null,
          null,
          null,
          null,
          null,
          null,
          null,
          null,
          null,
          null,
          null,
          null,
          null,
          null,
          null,
          null,
          null,
          null,
          null,
          null,
          null,
          null,
          null,
          null,
          null,
          null,
          null,
          null,
          null,
          null,
          null,
          null,
          null,
          null,
          null,
          null,
          null,
          null,
          null,
          null,
          null,
          null,
          null,
          null,
          null,
          null,
          null,
          null,
          null,
          null,
          null,
          null,
          null,
          null,
          null,
          null,
          null,
          null,
          null,
          null,
          null,
          null,
          null,
          null,
          null,
          null,
          null,
          null,
          null,
          null,
          null,
          null,
          null,
          null,
          null,
          null,
          null,
          null,
          null,
          null,
          null,
          null,
          null,
          null,
          null,
          null,
          null,
          null,
          null,
          null,
          null,
          null,
          null,
          null,
          null,
          null,
          null,
          null,
          null,
          null,
          null,
          null,
          null,
          null,
          null,
          null,
          null,
          null,
          null,
          null,
          null,
          null,
          null,
          null,
          null,
          null,
          null,
          null,
          null,
          null,
          null,
          null,
          null,
          null,
          null,
          null,
          null,
          null,
          null,
          null,
          null,
          null,
          null,
          null,
          null,
          null,
          null,
          null,
          null,
          null,
          null,
          null,
          null,
          null,
          null,
          null,
          null,
          null,
          null,
          null,
          null,
          null,
          null,
          null,
          null,
          null,
          null,
          null,
          null,
          null,
          null,
          null,
          null,
          null,
          null,
          null,
          null,
          null,
          null,
          null,
          null,
          null,
          null,
          null,
          null,
          null,
          null,
          null,
          null,
          null,
          null,
          null,
          null,
          null,
          null,
          null,
          null,
          null,
          null,
          null,
          null,
          null,
          null,
          null,
          null,
          null,
          null,
          null,
          null,
          null,
          null,
          null,
          null,
          null,
          null,
          null,
          null,
          null,
          null,
          null,
          null,
          null,
          null,
          null,
          null,
          null,
          null,
          null,
          null,
          null,
          null,
          null,
          null,
          null,
          null,
          null,
          null,
          null,
          null,
          null,
          null,
          null,
          null,
          null,
          null,
          null,
          null,
          null,
          null,
          null,
          null,
          null,
          null,
          null,
          null,
          null,
          null,
          null,
          null,
          null,
          null,
          null,
          null,
          null,
          null,
          null,
          null,
          null,
          null,
          null,
          null,
          null,
          null,
          null,
          null
         ]
        }
       ],
       "layout": {
        "autosize": true,
        "coloraxis": {
         "colorbar": {
          "title": {
           "text": "class"
          }
         },
         "colorscale": [
          [
           0,
           "#0d0887"
          ],
          [
           0.1111111111111111,
           "#46039f"
          ],
          [
           0.2222222222222222,
           "#7201a8"
          ],
          [
           0.3333333333333333,
           "#9c179e"
          ],
          [
           0.4444444444444444,
           "#bd3786"
          ],
          [
           0.5555555555555556,
           "#d8576b"
          ],
          [
           0.6666666666666666,
           "#ed7953"
          ],
          [
           0.7777777777777778,
           "#fb9f3a"
          ],
          [
           0.8888888888888888,
           "#fdca26"
          ],
          [
           1,
           "#f0f921"
          ]
         ]
        },
        "legend": {
         "tracegroupgap": 0,
         "x": 0,
         "y": 1
        },
        "margin": {
         "t": 60
        },
        "scene": {
         "aspectmode": "auto",
         "aspectratio": {
          "x": 1.1286225599778086,
          "y": 0.7850594501425553,
          "z": 1.1286225599778086
         },
         "camera": {
          "center": {
           "x": 0,
           "y": 0,
           "z": 0
          },
          "eye": {
           "x": 1.0217870551730697,
           "y": 1.5809494148137238,
           "z": 1.0696028055689137
          },
          "projection": {
           "type": "perspective"
          },
          "up": {
           "x": 0,
           "y": 0,
           "z": 1
          }
         },
         "domain": {
          "x": [
           0,
           1
          ],
          "y": [
           0,
           1
          ]
         },
         "xaxis": {
          "title": {
           "text": "PC 1"
          },
          "type": "linear"
         },
         "yaxis": {
          "title": {
           "text": "PC 2"
          },
          "type": "linear"
         },
         "zaxis": {
          "title": {
           "text": "PC 1"
          },
          "type": "linear"
         }
        },
        "template": {
         "data": {
          "bar": [
           {
            "error_x": {
             "color": "#2a3f5f"
            },
            "error_y": {
             "color": "#2a3f5f"
            },
            "marker": {
             "line": {
              "color": "#E5ECF6",
              "width": 0.5
             }
            },
            "type": "bar"
           }
          ],
          "barpolar": [
           {
            "marker": {
             "line": {
              "color": "#E5ECF6",
              "width": 0.5
             }
            },
            "type": "barpolar"
           }
          ],
          "carpet": [
           {
            "aaxis": {
             "endlinecolor": "#2a3f5f",
             "gridcolor": "white",
             "linecolor": "white",
             "minorgridcolor": "white",
             "startlinecolor": "#2a3f5f"
            },
            "baxis": {
             "endlinecolor": "#2a3f5f",
             "gridcolor": "white",
             "linecolor": "white",
             "minorgridcolor": "white",
             "startlinecolor": "#2a3f5f"
            },
            "type": "carpet"
           }
          ],
          "choropleth": [
           {
            "colorbar": {
             "outlinewidth": 0,
             "ticks": ""
            },
            "type": "choropleth"
           }
          ],
          "contour": [
           {
            "colorbar": {
             "outlinewidth": 0,
             "ticks": ""
            },
            "colorscale": [
             [
              0,
              "#0d0887"
             ],
             [
              0.1111111111111111,
              "#46039f"
             ],
             [
              0.2222222222222222,
              "#7201a8"
             ],
             [
              0.3333333333333333,
              "#9c179e"
             ],
             [
              0.4444444444444444,
              "#bd3786"
             ],
             [
              0.5555555555555556,
              "#d8576b"
             ],
             [
              0.6666666666666666,
              "#ed7953"
             ],
             [
              0.7777777777777778,
              "#fb9f3a"
             ],
             [
              0.8888888888888888,
              "#fdca26"
             ],
             [
              1,
              "#f0f921"
             ]
            ],
            "type": "contour"
           }
          ],
          "contourcarpet": [
           {
            "colorbar": {
             "outlinewidth": 0,
             "ticks": ""
            },
            "type": "contourcarpet"
           }
          ],
          "heatmap": [
           {
            "colorbar": {
             "outlinewidth": 0,
             "ticks": ""
            },
            "colorscale": [
             [
              0,
              "#0d0887"
             ],
             [
              0.1111111111111111,
              "#46039f"
             ],
             [
              0.2222222222222222,
              "#7201a8"
             ],
             [
              0.3333333333333333,
              "#9c179e"
             ],
             [
              0.4444444444444444,
              "#bd3786"
             ],
             [
              0.5555555555555556,
              "#d8576b"
             ],
             [
              0.6666666666666666,
              "#ed7953"
             ],
             [
              0.7777777777777778,
              "#fb9f3a"
             ],
             [
              0.8888888888888888,
              "#fdca26"
             ],
             [
              1,
              "#f0f921"
             ]
            ],
            "type": "heatmap"
           }
          ],
          "heatmapgl": [
           {
            "colorbar": {
             "outlinewidth": 0,
             "ticks": ""
            },
            "colorscale": [
             [
              0,
              "#0d0887"
             ],
             [
              0.1111111111111111,
              "#46039f"
             ],
             [
              0.2222222222222222,
              "#7201a8"
             ],
             [
              0.3333333333333333,
              "#9c179e"
             ],
             [
              0.4444444444444444,
              "#bd3786"
             ],
             [
              0.5555555555555556,
              "#d8576b"
             ],
             [
              0.6666666666666666,
              "#ed7953"
             ],
             [
              0.7777777777777778,
              "#fb9f3a"
             ],
             [
              0.8888888888888888,
              "#fdca26"
             ],
             [
              1,
              "#f0f921"
             ]
            ],
            "type": "heatmapgl"
           }
          ],
          "histogram": [
           {
            "marker": {
             "colorbar": {
              "outlinewidth": 0,
              "ticks": ""
             }
            },
            "type": "histogram"
           }
          ],
          "histogram2d": [
           {
            "colorbar": {
             "outlinewidth": 0,
             "ticks": ""
            },
            "colorscale": [
             [
              0,
              "#0d0887"
             ],
             [
              0.1111111111111111,
              "#46039f"
             ],
             [
              0.2222222222222222,
              "#7201a8"
             ],
             [
              0.3333333333333333,
              "#9c179e"
             ],
             [
              0.4444444444444444,
              "#bd3786"
             ],
             [
              0.5555555555555556,
              "#d8576b"
             ],
             [
              0.6666666666666666,
              "#ed7953"
             ],
             [
              0.7777777777777778,
              "#fb9f3a"
             ],
             [
              0.8888888888888888,
              "#fdca26"
             ],
             [
              1,
              "#f0f921"
             ]
            ],
            "type": "histogram2d"
           }
          ],
          "histogram2dcontour": [
           {
            "colorbar": {
             "outlinewidth": 0,
             "ticks": ""
            },
            "colorscale": [
             [
              0,
              "#0d0887"
             ],
             [
              0.1111111111111111,
              "#46039f"
             ],
             [
              0.2222222222222222,
              "#7201a8"
             ],
             [
              0.3333333333333333,
              "#9c179e"
             ],
             [
              0.4444444444444444,
              "#bd3786"
             ],
             [
              0.5555555555555556,
              "#d8576b"
             ],
             [
              0.6666666666666666,
              "#ed7953"
             ],
             [
              0.7777777777777778,
              "#fb9f3a"
             ],
             [
              0.8888888888888888,
              "#fdca26"
             ],
             [
              1,
              "#f0f921"
             ]
            ],
            "type": "histogram2dcontour"
           }
          ],
          "mesh3d": [
           {
            "colorbar": {
             "outlinewidth": 0,
             "ticks": ""
            },
            "type": "mesh3d"
           }
          ],
          "parcoords": [
           {
            "line": {
             "colorbar": {
              "outlinewidth": 0,
              "ticks": ""
             }
            },
            "type": "parcoords"
           }
          ],
          "pie": [
           {
            "automargin": true,
            "type": "pie"
           }
          ],
          "scatter": [
           {
            "marker": {
             "colorbar": {
              "outlinewidth": 0,
              "ticks": ""
             }
            },
            "type": "scatter"
           }
          ],
          "scatter3d": [
           {
            "line": {
             "colorbar": {
              "outlinewidth": 0,
              "ticks": ""
             }
            },
            "marker": {
             "colorbar": {
              "outlinewidth": 0,
              "ticks": ""
             }
            },
            "type": "scatter3d"
           }
          ],
          "scattercarpet": [
           {
            "marker": {
             "colorbar": {
              "outlinewidth": 0,
              "ticks": ""
             }
            },
            "type": "scattercarpet"
           }
          ],
          "scattergeo": [
           {
            "marker": {
             "colorbar": {
              "outlinewidth": 0,
              "ticks": ""
             }
            },
            "type": "scattergeo"
           }
          ],
          "scattergl": [
           {
            "marker": {
             "colorbar": {
              "outlinewidth": 0,
              "ticks": ""
             }
            },
            "type": "scattergl"
           }
          ],
          "scattermapbox": [
           {
            "marker": {
             "colorbar": {
              "outlinewidth": 0,
              "ticks": ""
             }
            },
            "type": "scattermapbox"
           }
          ],
          "scatterpolar": [
           {
            "marker": {
             "colorbar": {
              "outlinewidth": 0,
              "ticks": ""
             }
            },
            "type": "scatterpolar"
           }
          ],
          "scatterpolargl": [
           {
            "marker": {
             "colorbar": {
              "outlinewidth": 0,
              "ticks": ""
             }
            },
            "type": "scatterpolargl"
           }
          ],
          "scatterternary": [
           {
            "marker": {
             "colorbar": {
              "outlinewidth": 0,
              "ticks": ""
             }
            },
            "type": "scatterternary"
           }
          ],
          "surface": [
           {
            "colorbar": {
             "outlinewidth": 0,
             "ticks": ""
            },
            "colorscale": [
             [
              0,
              "#0d0887"
             ],
             [
              0.1111111111111111,
              "#46039f"
             ],
             [
              0.2222222222222222,
              "#7201a8"
             ],
             [
              0.3333333333333333,
              "#9c179e"
             ],
             [
              0.4444444444444444,
              "#bd3786"
             ],
             [
              0.5555555555555556,
              "#d8576b"
             ],
             [
              0.6666666666666666,
              "#ed7953"
             ],
             [
              0.7777777777777778,
              "#fb9f3a"
             ],
             [
              0.8888888888888888,
              "#fdca26"
             ],
             [
              1,
              "#f0f921"
             ]
            ],
            "type": "surface"
           }
          ],
          "table": [
           {
            "cells": {
             "fill": {
              "color": "#EBF0F8"
             },
             "line": {
              "color": "white"
             }
            },
            "header": {
             "fill": {
              "color": "#C8D4E3"
             },
             "line": {
              "color": "white"
             }
            },
            "type": "table"
           }
          ]
         },
         "layout": {
          "annotationdefaults": {
           "arrowcolor": "#2a3f5f",
           "arrowhead": 0,
           "arrowwidth": 1
          },
          "autotypenumbers": "strict",
          "coloraxis": {
           "colorbar": {
            "outlinewidth": 0,
            "ticks": ""
           }
          },
          "colorscale": {
           "diverging": [
            [
             0,
             "#8e0152"
            ],
            [
             0.1,
             "#c51b7d"
            ],
            [
             0.2,
             "#de77ae"
            ],
            [
             0.3,
             "#f1b6da"
            ],
            [
             0.4,
             "#fde0ef"
            ],
            [
             0.5,
             "#f7f7f7"
            ],
            [
             0.6,
             "#e6f5d0"
            ],
            [
             0.7,
             "#b8e186"
            ],
            [
             0.8,
             "#7fbc41"
            ],
            [
             0.9,
             "#4d9221"
            ],
            [
             1,
             "#276419"
            ]
           ],
           "sequential": [
            [
             0,
             "#0d0887"
            ],
            [
             0.1111111111111111,
             "#46039f"
            ],
            [
             0.2222222222222222,
             "#7201a8"
            ],
            [
             0.3333333333333333,
             "#9c179e"
            ],
            [
             0.4444444444444444,
             "#bd3786"
            ],
            [
             0.5555555555555556,
             "#d8576b"
            ],
            [
             0.6666666666666666,
             "#ed7953"
            ],
            [
             0.7777777777777778,
             "#fb9f3a"
            ],
            [
             0.8888888888888888,
             "#fdca26"
            ],
            [
             1,
             "#f0f921"
            ]
           ],
           "sequentialminus": [
            [
             0,
             "#0d0887"
            ],
            [
             0.1111111111111111,
             "#46039f"
            ],
            [
             0.2222222222222222,
             "#7201a8"
            ],
            [
             0.3333333333333333,
             "#9c179e"
            ],
            [
             0.4444444444444444,
             "#bd3786"
            ],
            [
             0.5555555555555556,
             "#d8576b"
            ],
            [
             0.6666666666666666,
             "#ed7953"
            ],
            [
             0.7777777777777778,
             "#fb9f3a"
            ],
            [
             0.8888888888888888,
             "#fdca26"
            ],
            [
             1,
             "#f0f921"
            ]
           ]
          },
          "colorway": [
           "#636efa",
           "#EF553B",
           "#00cc96",
           "#ab63fa",
           "#FFA15A",
           "#19d3f3",
           "#FF6692",
           "#B6E880",
           "#FF97FF",
           "#FECB52"
          ],
          "font": {
           "color": "#2a3f5f"
          },
          "geo": {
           "bgcolor": "white",
           "lakecolor": "white",
           "landcolor": "#E5ECF6",
           "showlakes": true,
           "showland": true,
           "subunitcolor": "white"
          },
          "hoverlabel": {
           "align": "left"
          },
          "hovermode": "closest",
          "mapbox": {
           "style": "light"
          },
          "paper_bgcolor": "white",
          "plot_bgcolor": "#E5ECF6",
          "polar": {
           "angularaxis": {
            "gridcolor": "white",
            "linecolor": "white",
            "ticks": ""
           },
           "bgcolor": "#E5ECF6",
           "radialaxis": {
            "gridcolor": "white",
            "linecolor": "white",
            "ticks": ""
           }
          },
          "scene": {
           "xaxis": {
            "backgroundcolor": "#E5ECF6",
            "gridcolor": "white",
            "gridwidth": 2,
            "linecolor": "white",
            "showbackground": true,
            "ticks": "",
            "zerolinecolor": "white"
           },
           "yaxis": {
            "backgroundcolor": "#E5ECF6",
            "gridcolor": "white",
            "gridwidth": 2,
            "linecolor": "white",
            "showbackground": true,
            "ticks": "",
            "zerolinecolor": "white"
           },
           "zaxis": {
            "backgroundcolor": "#E5ECF6",
            "gridcolor": "white",
            "gridwidth": 2,
            "linecolor": "white",
            "showbackground": true,
            "ticks": "",
            "zerolinecolor": "white"
           }
          },
          "shapedefaults": {
           "line": {
            "color": "#2a3f5f"
           }
          },
          "ternary": {
           "aaxis": {
            "gridcolor": "white",
            "linecolor": "white",
            "ticks": ""
           },
           "baxis": {
            "gridcolor": "white",
            "linecolor": "white",
            "ticks": ""
           },
           "bgcolor": "#E5ECF6",
           "caxis": {
            "gridcolor": "white",
            "linecolor": "white",
            "ticks": ""
           }
          },
          "title": {
           "x": 0.05
          },
          "xaxis": {
           "automargin": true,
           "gridcolor": "white",
           "linecolor": "white",
           "ticks": "",
           "title": {
            "standoff": 15
           },
           "zerolinecolor": "white",
           "zerolinewidth": 2
          },
          "yaxis": {
           "automargin": true,
           "gridcolor": "white",
           "linecolor": "white",
           "ticks": "",
           "title": {
            "standoff": 15
           },
           "zerolinecolor": "white",
           "zerolinewidth": 2
          }
         }
        }
       }
      },
      "image/png": "[encoded data removed]",
      "text/html": [
       "<div>                            <div id=\"7fb8c044-ed73-4e53-8c92-113b2092f407\" class=\"plotly-graph-div\" style=\"height:525px; width:800px;\"></div>            <script type=\"text/javascript\">                require([\"plotly\"], function(Plotly) {                    window.PLOTLYENV=window.PLOTLYENV || {};                                    if (document.getElementById(\"7fb8c044-ed73-4e53-8c92-113b2092f407\")) {                    Plotly.newPlot(                        \"7fb8c044-ed73-4e53-8c92-113b2092f407\",                        [{\"customdata\": [[\"Scrypt\"], [\"Scrypt\"], [\"X13\"], [\"SHA-256\"], [\"Scrypt\"], [\"X11\"], [\"Ethash\"], [\"Equihash\"], [\"SHA-512\"], [\"Multiple\"], [\"SHA-256\"], [\"X11\"], [\"SHA-256\"], [\"Scrypt\"], [\"X15\"], [\"X11\"], [\"SHA-256\"], [\"X13\"], [\"X13\"], [\"Scrypt\"], [\"Scrypt\"], [\"Scrypt\"], [\"SHA-256\"], [\"Multiple\"], [\"Scrypt\"], [\"SHA-256\"], [\"Scrypt\"], [\"Scrypt\"], [\"Quark\"], [\"Groestl\"], [\"Scrypt\"], [\"X11\"], [\"Scrypt\"], [\"Scrypt\"], [\"Scrypt\"], [\"Scrypt\"], [\"Scrypt\"], [\"Scrypt\"], [\"Multiple\"], [\"Scrypt\"], [\"X11\"], [\"Scrypt\"], [\"Groestl\"], [\"Multiple\"], [\"X11\"], [\"Scrypt\"], [\"SHA-256\"], [\"Scrypt\"], [\"Scrypt\"], [\"Scrypt\"], [\"Scrypt\"], [\"Scrypt\"], [\"Scrypt\"], [\"X11\"], [\"NIST5\"], [\"SHA-256\"], [\"Scrypt\"], [\"NeoScrypt\"], [\"Scrypt\"], [\"Scrypt\"], [\"Scrypt\"], [\"X11\"], [\"Scrypt\"], [\"Multiple\"], [\"Scrypt\"], [\"X11\"], [\"SHA-256\"], [\"X11\"], [\"X13\"], [\"Scrypt\"], [\"Scrypt\"], [\"Scrypt\"], [\"Scrypt\"], [\"X11\"], [\"SHA3\"], [\"Scrypt\"], [\"HybridScryptHash256\"], [\"Scrypt\"], [\"SHA-256\"], [\"Scrypt\"], [\"SHA-256\"], [\"Scrypt\"], [\"SHA-256\"], [\"Scrypt\"], [\"NeoScrypt\"], [\"Scrypt\"], [\"Scrypt\"], [\"Scrypt\"], [\"Scrypt\"], [\"Scrypt\"], [\"X15\"], [\"Scrypt\"], [\"Scrypt\"], [\"Scrypt-n\"], [\"Scrypt\"], [\"X11\"], [\"SHA-256\"], [\"Multiple\"], [\"SHA-256\"], [\"PHI1612\"], [\"X11\"], [\"SHA-256\"], [\"SHA-256\"], [\"SHA-256\"], [\"SHA-256\"], [\"Scrypt\"], [\"Scrypt\"], [\"Scrypt\"], [\"Lyra2REv2\"], [\"Scrypt\"], [\"Scrypt\"], [\"X11\"], [\"SHA-256\"], [\"Scrypt\"], [\"Scrypt\"], [\"CryptoNight\"], [\"CryptoNight\"], [\"Shabal256\"], [\"Counterparty\"], [\"Scrypt\"], [\"SHA-256\"], [\"SHA-256\"], [\"Scrypt\"], [\"Scrypt\"], [\"Scrypt\"], [\"X13\"], [\"Scrypt\"], [\"Scrypt\"], [\"Scrypt\"], [\"SHA-256\"], [\"X13\"], [\"X13\"], [\"Scrypt\"], [\"X11\"], [\"Momentum\"], [\"Stanford Folding\"], [\"X11\"], [\"Scrypt\"], [\"Scrypt\"], [\"Scrypt\"], [\"M7 POW\"], [\"Scrypt\"], [\"X11\"], [\"Scrypt\"], [\"SHA-256\"], [\"Scrypt\"], [\"X11\"], [\"SHA3\"], [\"X11\"], [\"Lyra2RE\"], [\"SHA-256\"], [\"QUAIT\"], [\"X11\"], [\"Scrypt\"], [\"Scrypt\"], [\"Scrypt\"], [\"Ethash\"], [\"X11\"], [\"X13\"], [\"SHA-256\"], [\"X13\"], [\"X15\"], [\"X11\"], [\"SHA-256\"], [\"BLAKE256\"], [\"Scrypt\"], [\"Scrypt\"], [\"1GB AES Pattern Search\"], [\"SHA-256\"], [\"X11\"], [\"Scrypt\"], [\"CryptoNight\"], [\"SHA-256\"], [\"Quark\"], [\"SHA-256\"], [\"Blake\"], [\"Scrypt\"], [\"Scrypt\"], [\"SHA-256\"], [\"X11\"], [\"Scrypt\"], [\"Scrypt-n\"], [\"X11\"], [\"Scrypt\"], [\"Dagger\"], [\"Scrypt\"], [\"SHA-256\"], [\"CryptoNight-Lite\"], [\"X11GOST\"], [\"X11\"], [\"SHA-256\"], [\"Scrypt\"], [\"SHA-256\"], [\"Scrypt\"], [\"PoS\"], [\"Scrypt\"], [\"X11\"], [\"X11\"], [\"X11\"], [\"X11\"], [\"PoS\"], [\"SHA-256\"], [\"SHA-256\"], [\"SHA-256\"], [\"NIST5\"], [\"X15\"], [\"X11\"], [\"NIST5\"], [\"Scrypt\"], [\"Scrypt\"], [\"Scrypt\"], [\"POS 3.0\"], [\"Scrypt\"], [\"Scrypt\"], [\"Scrypt\"], [\"X13\"], [\"X11\"], [\"X11\"], [\"Equihash\"], [\"X11\"], [\"X11\"], [\"Scrypt\"], [\"CryptoNight\"], [\"SHA-256\"], [\"SHA-256\"], [\"X11\"], [\"Scrypt\"], [\"Multiple\"], [\"Scrypt\"], [\"X11\"], [\"SHA-256\"], [\"Scrypt\"], [\"Scrypt\"], [\"SHA-256D\"], [\"PoS\"], [\"Scrypt\"], [\"X11\"], [\"Scrypt-n\"], [\"Lyra2Z\"], [\"SHA-256\"], [\"PoS\"], [\"X13\"], [\"Quark\"], [\"X14\"], [\"PoS\"], [\"SHA-256D\"], [\"Ethash\"], [\"SHA-256\"], [\"Equihash\"], [\"DPoS\"], [\"X11\"], [\"Scrypt\"], [\"Scrypt\"], [\"Equihash\"], [\"X11\"], [\"X13\"], [\"X11\"], [\"PoS\"], [\"SHA-256D\"], [\"Scrypt\"], [\"Scrypt\"], [\"Scrypt\"], [\"X11\"], [\"PoS\"], [\"X11\"], [\"SHA-256\"], [\"Scrypt\"], [\"X11\"], [\"Scrypt\"], [\"Scrypt\"], [\"X11\"], [\"CryptoNight\"], [\"Scrypt\"], [\"Scrypt\"], [\"Scrypt\"], [\"Scrypt\"], [\"Quark\"], [\"QuBit\"], [\"Scrypt\"], [\"CryptoNight\"], [\"X11\"], [\"Lyra2RE\"], [\"X13\"], [\"PoS\"], [\"Scrypt\"], [\"SHA-256\"], [\"X11\"], [\"X11\"], [\"X11\"], [\"Scrypt\"], [\"X11\"], [\"Scrypt\"], [\"Scrypt\"], [\"CryptoNight-V7\"], [\"Scrypt\"], [\"Scrypt\"], [\"Keccak\"], [\"Scrypt\"], [\"X13\"], [\"X11\"], [\"Equihash\"], [\"Scrypt\"], [\"Scrypt\"], [\"Lyra2RE\"], [\"Ethash\"], [\"X11\"], [\"Scrypt\"], [\"Dagger-Hashimoto\"], [\"X11\"], [\"Blake2S\"], [\"X11\"], [\"Scrypt\"], [\"Scrypt\"], [\"PoS\"], [\"X11\"], [\"NIST5\"], [\"PoS\"], [\"X11\"], [\"Scrypt\"], [\"Scrypt\"], [\"Scrypt\"], [\"Scrypt\"], [\"SHA-256\"], [\"X11\"], [\"Scrypt\"], [\"Scrypt\"], [\"Scrypt\"], [\"SHA-256\"], [\"PoS\"], [\"Scrypt\"], [\"X11\"], [\"X15\"], [\"SHA-256\"], [\"Scrypt\"], [\"POS 3.0\"], [\"CryptoNight-V7\"], [\"536\"], [\"Blake2b\"], [\"Cloverhash\"], [\"CryptoNight\"], [\"NIST5\"], [\"X11\"], [\"NIST5\"], [\"Skein\"], [\"Scrypt\"], [\"X13\"], [\"Scrypt\"], [\"X11\"], [\"X11\"], [\"X11\"], [\"Scrypt\"], [\"CryptoNight\"], [\"X13\"], [\"Time Travel\"], [\"Scrypt\"], [\"Keccak\"], [\"SkunkHash v2 Raptor\"], [\"X11\"], [\"Skein\"], [\"SHA-256\"], [\"X11\"], [\"Scrypt\"], [\"Scrypt\"], [\"VeChainThor Authority\"], [\"Scrypt\"], [\"PoS\"], [\"Scrypt\"], [\"Scrypt\"], [\"Scrypt\"], [\"Scrypt\"], [\"Scrypt\"], [\"Scrypt\"], [\"Scrypt\"], [\"CryptoNight\"], [\"SHA-512\"], [\"Ouroboros\"], [\"X11\"], [\"Equihash\"], [\"NeoScrypt\"], [\"X11\"], [\"Scrypt\"], [\"NeoScrypt\"], [\"Lyra2REv2\"], [\"Equihash\"], [\"Scrypt\"], [\"SHA-256\"], [\"NIST5\"], [\"PHI1612\"], [\"Dagger\"], [\"Scrypt\"], [\"Quark\"], [\"Scrypt\"], [\"POS 2.0\"], [\"Scrypt\"], [\"SkunkHash\"], [\"X11\"], [\"Quark\"], [\"SHA-256\"], [\"X11\"], [\"NeoScrypt\"], [\"Scrypt\"], [\"Ethash\"], [\"Scrypt\"], [\"NeoScrypt\"], [\"Quark\"], [\"X11\"], [\"DPoS\"], [\"NIST5\"], [\"X13\"], [\"Multiple\"], [\"Scrypt\"], [\"CryptoNight\"], [\"CryptoNight\"], [\"Ethash\"], [\"NIST5\"], [\"Quark\"], [\"X11\"], [\"SHA-256\"], [\"CryptoNight-V7\"], [\"Scrypt\"], [\"Scrypt\"], [\"Scrypt\"], [\"X11\"], [\"SHA-256\"], [\"BLAKE256\"], [\"X11\"], [\"Scrypt\"], [\"NeoScrypt\"], [\"Quark\"], [\"NeoScrypt\"], [\"Scrypt\"], [\"Scrypt\"], [\"Scrypt\"], [\"X11\"], [\"X11\"], [\"SHA-256\"], [\"C11\"], [\"Scrypt\"], [\"Scrypt\"], [\"POS 3.0\"], [\"Ethash\"], [\"Scrypt\"], [\"CryptoNight\"], [\"SkunkHash\"], [\"Scrypt\"], [\"CryptoNight\"], [\"Equihash\"], [\"Skein\"], [\"Scrypt\"], [\"Dagger\"], [\"Lyra2REv2\"], [\"X13\"], [\"Proof-of-BibleHash\"], [\"SHA-256 + Hive\"], [\"Scrypt\"], [\"Scrypt\"], [\"Scrypt\"], [\"NeoScrypt\"], [\"Equihash\"], [\"X11\"], [\"C11\"], [\"Proof-of-Authority\"], [\"X11\"], [\"XEVAN\"], [\"Scrypt\"], [\"VBFT\"], [\"Ethash\"], [\"X11\"], [\"CryptoNight\"], [\"NeoScrypt\"], [\"Scrypt\"], [\"IMesh\"], [\"NIST5\"], [\"Equihash\"], [\"Scrypt\"], [\"Scrypt\"], [\"Equihash\"], [\"Equihash\"], [\"Scrypt\"], [\"Lyra2Z\"], [\"Equihash\"], [\"Green Protocol\"], [\"PoS\"], [\"Scrypt\"], [\"Scrypt\"], [\"Semux BFT consensus\"], [\"Scrypt\"], [\"X11\"], [\"Quark\"], [\"PoS\"], [\"CryptoNight\"], [\"X16R\"], [\"Scrypt\"], [\"NIST5\"], [\"Lyra2RE\"], [\"XEVAN\"], [\"Tribus\"], [\"Scrypt\"], [\"Lyra2Z\"], [\"CryptoNight\"], [\"CryptoNight Heavy\"], [\"CryptoNight\"], [\"Scrypt\"], [\"Scrypt\"], [\"Jump Consistent Hash\"], [\"SHA-256D\"], [\"CryptoNight\"], [\"Scrypt\"], [\"X15\"], [\"Scrypt\"], [\"Quark\"], [\"SHA-256\"], [\"DPoS\"], [\"X16R\"], [\"HMQ1725\"], [\"X11\"], [\"X16R\"], [\"Quark\"], [\"Quark\"], [\"Scrypt\"], [\"Zhash\"], [\"Lyra2REv2\"], [\"Quark\"], [\"Scrypt\"], [\"Scrypt\"], [\"CryptoNight-V7\"], [\"Cryptonight-GPU\"], [\"Scrypt\"], [\"XEVAN\"], [\"CryptoNight Heavy\"], [\"X11\"], [\"X11\"], [\"Scrypt\"], [\"PoS\"], [\"Lyra2REv2\"], [\"Scrypt\"], [\"SHA-256\"], [\"Scrypt\"], [\"Keccak\"], [\"X11\"], [\"X11\"], [\"Quark\"], [\"Scrypt\"], [\"SHA-512\"], [\"X16R\"], [\"ECC 256K1\"], [\"NeoScrypt\"], [\"Equihash\"], [\"XEVAN\"], [\"Quark\"], [\"CryptoNight Heavy X\"], [\"Lyra2Z\"], [\"Ethash\"], [\"SHA-256\"], [\"XEVAN\"], [\"Ethash\"], [\"CryptoNight\"], [\"Quark\"], [\"SkunkHash\"], [\"Quark\"], [\"Argon2\"], [\"Blake\"], [\"Blake\"], [\"SHA-256\"], [\"Equihash\"], [\"Exosis\"], [\"Scrypt\"], [\"Scrypt\"], [\"Equihash\"], [\"Quark\"], [\"Equihash\"], [\"Quark\"], [\"Scrypt\"], [\"QuBit\"], [\"X11\"], [\"Scrypt\"], [\"Equihash1927\"], [\"XEVAN\"], [\"SHA-256D\"], [\"X11\"], [\"SHA-256\"], [\"SHA-256\"], [\"X13\"], [\"SHA-256\"], [\"X11\"], [\"DPoS\"], [\"X11\"], [\"Scrypt\"], [\"X11\"], [\"Scrypt\"], [\"NeoScrypt\"], [\"Scrypt\"], [\"Blake\"], [\"Scrypt\"], [\"SHA-256\"], [\"X11\"], [\"CryptoNight\"], [\"Scrypt\"], [\"Scrypt\"], [\"SHA-256\"], [\"X11\"], [\"SHA-256\"], [\"Scrypt\"], [\"CryptoNight\"], [\"Scrypt\"], [\"SHA-256\"], [\"Scrypt\"], [\"Groestl\"], [\"X11\"], [\"Scrypt\"], [\"PoS\"], [\"Scrypt\"], [\"Scrypt\"], [\"X11\"], [\"SHA-256\"], [\"DPoS\"], [\"Scrypt\"], [\"Scrypt\"], [\"Scrypt\"], [\"NeoScrypt\"], [\"Scrypt\"], [\"SHA3-256\"], [\"Multiple\"], [\"X13\"], [\"Equihash+Scrypt\"], [\"Ethash\"], [\"Ethash\"], [\"SHA-256\"], [\"Leased POS\"], [\"PoS\"], [\"TRC10\"], [\"PoS\"], [\"SHA-256\"], [\"Scrypt\"], [\"CryptoNight\"], [\"Equihash\"], [\"Scrypt\"]], \"hovertemplate\": \"<b>%{hovertext}</b><br><br>PC 1=%{z}<br>PC 2=%{y}<br>Algorithm=%{customdata[0]}<br>class=%{marker.color}<extra></extra>\", \"hovertext\": [\"42 Coin\", \"404Coin\", \"EliteCoin\", \"Bitcoin\", \"Litecoin\", \"Dash\", \"Ethereum Classic\", \"ZCash\", \"Bitshares\", \"DigiByte\", \"BitcoinDark\", \"Bitstake\", \"PayCoin\", \"ProsperCoin\", \"KoboCoin\", \"Spreadcoin\", \"ACoin\", \"Aero Coin\", \"ApexCoin\", \"ArchCoin\", \"Argentum\", \"Aurora Coin\", \"BetaCoin\", \"MyriadCoin\", \"MoonCoin\", \"ZetaCoin\", \"SexCoin\", \"Quatloo\", \"QuarkCoin\", \"Riecoin\", \"Digitalcoin \", \"LimeCoinX\", \"BitBar\", \"BitMark\", \"CashCoin\", \"Catcoin\", \"CryptoBullion\", \"CannaCoin\", \"CinderCoin\", \"CoolCoin\", \"CryptCoin\", \"CasinoCoin\", \"Diamond\", \"Verge\", \"DarkCash\", \"DarkShibe\", \"DevCoin\", \"EarthCoin\", \"E-Gulden\", \"Elacoin\", \"Einsteinium\", \"Emerald\", \"Flappy Coin\", \"Fuel2Coin\", \"FIBRE\", \"FireRoosterCoin\", \"Franko\", \"FeatherCoin\", \"GrandCoin\", \"GlobalCoin\", \"GoldCoin\", \"GlyphCoin\", \"HoboNickels\", \"HunterCoin\", \"Infinite Coin\", \"IOCoin\", \"IXcoin\", \"JumBucks Coin\", \"JudgeCoin\", \"KrugerCoin\", \"LuckyCoin\", \"Litebar \", \"LitecoinDark\", \"LibrexCoin\", \"MaxCoin\", \"MegaCoin\", \"MediterraneanCoin\", \"MinCoin\", \"MazaCoin\", \"Nautilus Coin\", \"NoirBits\", \"NobleCoin\", \"Namecoin\", \"NyanCoin\", \"Orbitcoin\", \"PotCoin\", \"PhoenixCoin\", \"RipOffCoin\", \"RonPaulCoin\", \"StableCoin\", \"ShieldCoin\", \"SilkCoin\", \"SmartCoin\", \"SpainCoin\", \"SecureCoin\", \"SyncCoin\", \"SysCoin\", \"TeslaCoin\", \"TigerCoin\", \"TittieCoin\", \"TorCoin\", \"TerraCoin\", \"Umbrella\", \"UnbreakableCoin\", \"Unobtanium\", \"UnitaryStatus Dollar\", \"UltraCoin\", \"ViaCoin\", \"Vertcoin\", \"WorldCoin\", \"SocialXbotCoin\", \"X11 Coin\", \"JouleCoin\", \"XXXCoin\", \"ZCC Coin\", \"ByteCoin\", \"DigitalNote \", \"BurstCoin\", \"StorjCoin\", \"MonaCoin\", \"Neutron\", \"Sling Coin\", \"KryptCoin\", \"Gulden\", \"PesetaCoin\", \"Kore\", \"Wild Beast Coin\", \"Dnotes\", \"Flo\", \"MaieutiCoin\", \"Sativa Coin\", \"AeroMe\", \"ArtByte\", \"MasterTraderCoin\", \"BitCredit\", \"Folding Coin\", \"Ucoin\", \"OmniCron\", \"Vtorrent\", \"GreenCoin\", \"Cryptonite\", \"Gridmaster\", \"ConSpiracy Coin \", \"MasterCoin\", \"SoonCoin\", \"1Credit\", \"Quicksilver coin\", \"Nexus\", \"MarsCoin \", \"Crypto\", \"Anarchists Prime\", \"Droidz\", \"BowsCoin\", \"Song Coin\", \"BitZeny\", \"Diggits\", \"Expanse\", \"MapCoin\", \"Paycon\", \"Emercoin\", \"BlitzCoin\", \"EverGreenCoin\", \"MindCoin\", \"I0coin\", \"Decred\", \"DogeCoinDark\", \"Revolution VR\", \"HOdlcoin\", \"EDRCoin\", \"Hitcoin\", \"Gamecredits\", \"Dashcoin\", \"DubaiCoin\", \"BiosCrypto\", \"CarpeDiemCoin\", \"TrumpCoin\", \"BillaryCoin\", \"EthereumScrypt\", \"Phalanx\", \"SunShotCoin\", \"GPU Coin\", \"HempCoin\", \"Adzcoin\", \"VirtaCoin\", \"SoilCoin\", \"YoCoin\", \"Universal Currency\", \"AEON\", \"SibCoin\", \"EuropeCoin\", \"Anti Bitcoin\", \"ZeitCoin\", \"SwingCoin\", \"SafeExchangeCoin\", \"Nebuchadnezzar\", \"Francs\", \"BolivarCoin\", \"GIZMOcoin\", \"SecretCoin\", \"Ratecoin\", \"Digital Bullion Gold\", \"Revenu\", \"Clinton\", \"Clockcoin\", \"VIP Tokens\", \"OrlyCoin\", \"BitSend\", \"16BitCoin\", \"ChessCoin\", \"ReeCoin\", \"Omni\", \"Let it Ride\", \"PutinCoin\", \"iBankCoin\", \"Frankywillcoin\", \"MudraCoin\", \"PizzaCoin\", \"Lutetium Coin\", \"Komodo\", \"GoldBlocks\", \"WayCoin\", \"CarterCoin\", \"Karbo\", \"BitTokens\", \"ZayedCoin\", \"MustangCoin\", \"ZoneCoin\", \"Circuits of Value\", \"DopeCoin\", \"PROUD Money\", \"DollarCoin\", \"Swiscoin\", \"Shilling\", \"BuzzCoin\", \"Opair\", \"GBR Coin\", \"Halloween Coin\", \"FujiCoin\", \"ZCoin\", \"LeaCoin\", \"CoffeeCoin\", \"RoyalCoin\", \"Zurcoin\", \"GanjaCoin V2\", \"TeamUP\", \"LanaCoin\", \"Elementrem\", \"CashOut\", \"ZClassic\", \"ARK\", \"InsaneCoin\", \"LuckChain\", \"KiloCoin\", \"Hush\", \"ArtexCoin\", \"EmberCoin\", \"XenixCoin\", \"FreeCoin\", \"NPCcoin\", \"PLNCoin\", \"Icobid\", \"AquariusCoin\", \"Kurrent\", \"Creatio\", \"Eternity\", \"Eurocoin\", \"BitcoinFast\", \"Stakenet\", \"BitConnect Coin\", \"MoneyCoin\", \"Enigma\", \"Cannabis Industry Coin\", \"Russiacoin\", \"PandaCoin\", \"GameUnits\", \"GAKHcoin\", \"Allsafe\", \"LiteCreed\", \"OsmiumCoin\", \"Bikercoins\", \"NeptuneClassic\", \"HexxCoin\", \"GoldenBird\", \"Ride My Car\", \"Klingon Empire Darsek\", \"Internet of People\", \"KushCoin\", \"Eryllium\", \"MarxCoin\", \"Printerium\", \"PacCoin\", \"Impeach\", \"Solarflarecoin\", \"Citadel\", \"Zilbercoin\", \"FirstCoin\", \"CreativeChain\", \"BeaverCoin\", \"FindCoin\", \"VaultCoin\", \"Zero\", \"OpenChat\", \"Canada eCoin\", \"Zoin\", \"Musicoin\", \"BnrtxCoin\", \"RenosCoin\", \"DubaiCoin\", \"VirtacoinPlus\", \"TajCoin\", \"Impact\", \"EB3coin\", \"Universe\", \"Atmos\", \"HappyCoin\", \"Coinonat\", \"MacronCoin\", \"Condensate\", \"Independent Money System\", \"ArgusCoin\", \"LomoCoin\", \"Bitcoin Scrypt\", \"ProCurrency\", \"GoldReserve\", \"BenjiRolls\", \"ParallelCoin\", \"GrowthCoin\", \"ILCoin\", \"Phreak\", \"Degas Coin\", \"ZSEcoin\", \"HTML5 Coin\", \"Ultimate Secure Cash\", \"EquiTrader\", \"QTUM\", \"Quantum Resistant Ledger\", \"Espers\", \"Nano\", \"ChanCoin\", \"Dinastycoin\", \"Denarius\", \"DigitalPrice\", \"Virta Unique Coin\", \"Bitcoin Planet\", \"Unify\", \"BritCoin\", \"SocialCoin\", \"Octanox\", \"ArcticCoin\", \"DAS\", \"Linda\", \"LeviarCoin\", \"DeepOnion\", \"Bitcore\", \"gCn Coin\", \"SmartCash\", \"Signatum\", \"Onix\", \"Cream\", \"Bitcoin Cash\", \"Monoeci\", \"CampusCoin\", \"Draftcoin\", \"Vechain\", \"Sojourn Coin\", \"Stakecoin\", \"LiteBitcoin\", \"FrazCoin\", \"Kronecoin\", \"AdCoin\", \"Linx\", \"CoinonatX\", \"Ethereum Dark\", \"Sumokoin\", \"Obsidian\", \"Cardano\", \"Regalcoin\", \"BitcoinZ\", \"TrezarCoin\", \"Elements\", \"TerraNovaCoin\", \"VIVO Coin\", \"Rupee\", \"Bitcoin Gold\", \"WomenCoin\", \"Theresa May Coin\", \"NamoCoin\", \"LUXCoin\", \"Pirl\", \"Xios\", \"Bitcloud 2.0\", \"eBoost\", \"KekCoin\", \"BlackholeCoin\", \"AltCommunity Coin\", \"Pure\", \"Rupaya\", \"Infinity Economics\", \"Pura\", \"Innova\", \"Bitdeal\", \"Ellaism\", \"Sakuracoin\", \"GoByte\", \"Castle\", \"Magnet\", \"Lamden Tau\", \"Electra\", \"Bitcoin Diamond\", \"SHIELD\", \"Cash & Back Coin\", \"UltraNote\", \"BitCoal\", \"DaxxCoin\", \"Bulwark\", \"Kalkulus\", \"AC3\", \"CHIPS\", \"Lethean\", \"GermanCoin\", \"LiteCoin Ultra\", \"PopularCoin\", \"PhantomX\", \"HTML Coin\", \"Photon\", \"Sucre\", \"Fantasy Cash\", \"SparksPay\", \"Digiwage\", \"GunCoin\", \"IrishCoin\", \"Trollcoin\", \"Litecoin Plus\", \"Monkey Project\", \"Pioneer Coin\", \"UnitedBitcoin\", \"Interzone\", \"OP Coin\", \"Valorbit\", \"TokenPay\", \"1717 Masonic Commemorative Token\", \"My Big Coin\", \"TurtleCoin\", \"MUNcoin\", \"Unified Society USDEX\", \"Niobio Cash\", \"Bitcoin Private\", \"Skeincoin\", \"ShareChain\", \"Travelflex\", \"KREDS\", \"Tokyo Coin\", \"BiblePay\", \"LitecoinCash\", \"BitFlip\", \"LottoCoin\", \"LeafCoin\", \"Cerberus\", \"Bitcoin Hush\", \"Crypto Improvement Fund\", \"Stipend\", \"Poa Network\", \"Pushi\", \"Ellerium\", \"Velox\", \"Ontology\", \"Callisto Network\", \"Curium\", \"BitTube\", \"Dinero\", \"Poseidon\", \"Aidos Kuneen\", \"Bitspace\", \"Snowgem\", \"Briacoin\", \"Ignition\", \"Bitrolium\", \"Bitcoin Interest\", \"MedicCoin\", \"Alpenschillling\", \"Zelcash\", \"Bitcoin Green\", \"Deviant Coin\", \"Abjcoin\", \"Profit Hunters Coin\", \"Semux\", \"BitBlocks\", \"FuturoCoin\", \"Carebit\", \"Zealium\", \"Monero Classic\", \"Proton\", \"iDealCash\", \"Jumpcoin\", \"Infinex\", \"Bitcoin Incognito\", \"KEYCO\", \"HollyWoodCoin\", \"GINcoin\", \"PlatinCoin\", \"Loki\", \"Newton Coin\", \"Swisscoin\", \"Xt3ch\", \"MassGrid\", \"TheVig\", \"PluraCoin\", \"EmaratCoin\", \"Dekado\", \"Lynx\", \"Poseidon Quark\", \"BitcoinWSpectrum\", \"Muse\", \"Motion\", \"PlusOneCoin\", \"Axe\", \"Trivechain\", \"Dystem\", \"Giant\", \"Peony Coin\", \"SafeCoin\", \"Absolute Coin\", \"Vitae\", \"HexCoin\", \"TPCash\", \"Webchain\", \"Ryo\", \"MUSDcoin\", \"Urals Coin\", \"Qwertycoin\", \"ARENON\", \"EUNO\", \"MMOCoin\", \"Ketan\", \"NIX\", \"Safe Trade Coin\", \"Project Pai\", \"Mont Blanc\", \"XDNA\", \"PAXEX\", \"Azart\", \"Apollon\", \"ThunderStake\", \"Kcash\", \"Xchange\", \"Acute Angle Cloud\", \"Traid\", \"CrypticCoin\", \"Bettex coin\", \"ZestCoin\", \"X-CASH\", \"Actinium\", \"ETHER-1\", \"Bitcoin SV\", \"BitMoney\", \"Bitcoiin2Gen\", \"FREDEnergy\", \"Zenad\", \"C25 Coin\", \"HerbCoin\", \"Aquachain\", \"Universal Molecule\", \"Lithium\", \"Smart Bitcoin\", \"PirateCash\", \"Exosis\", \"Block-Logic\", \"Oduwa\", \"Beam\", \"Galilel\", \"Bithereum\", \"Crypto Sports\", \"Credit\", \"SLICE\", \"Dash Platinum\", \"Nasdacoin\", \"Vidulum\", \"Beetle Coin\", \"Titan Coin\", \"Award\", \"BlockStamp\", \"BLAST\", \"Bitcoin Rhodium\", \"GlobalToken\", \"Insane Coin\", \"ALAX\", \"The Freedom Coin\", \"LiteDoge\", \"Boolberry\", \"SolarCoin\", \"UFO Coin\", \"OrangeCoin\", \"BlakeCoin\", \"BitstarCoin\", \"NeosCoin\", \"PinkCoin\", \"FantomCoin \", \"Crypto Escudo\", \"AudioCoin\", \"IncaKoin\", \"Piggy Coin\", \"Crown Coin\", \"Genstake\", \"Quazar Coin\", \"SmileyCoin\", \"ParkByte\", \"XiaoMiCoin\", \"Groestlcoin\", \"CapriCoin\", \" ClubCoin\", \"Radium\", \"Bata\", \"Pakcoin\", \"Creditbit \", \"OKCash\", \"Lisk\", \"HiCoin\", \"WhiteCoin\", \"Dotcoin\", \"FriendshipCoin\", \"The Hempcoin\", \"Fiii\", \"JoinCoin\", \"Triangles Coin\", \"Vollar\", \"Reality Clash\", \"iOlite\", \"TigerCash\", \"Waves\", \"Particl\", \"BitTorrent\", \"Nxt\", \"ZEPHYR\", \"Gapcoin\", \"Beldex\", \"Horizen\", \"BitcoinPlus\"], \"legendgroup\": \"\", \"marker\": {\"color\": [0.0, 0.0, 0.0, 1.0, 1.0, 0.0, 0.0, 1.0, 0.0, 1.0, 1.0, 0.0, 0.0, 1.0, 1.0, 1.0, 1.0, 1.0, 1.0, 0.0, 1.0, 0.0, 1.0, 0.0, 1.0, 1.0, 1.0, 1.0, 1.0, 1.0, 1.0, 0.0, 0.0, 1.0, 1.0, 0.0, 0.0, 1.0, 1.0, 1.0, 0.0, 0.0, 1.0, 1.0, 0.0, 0.0, 1.0, 1.0, 1.0, 1.0, 0.0, 0.0, 1.0, 0.0, 1.0, 1.0, 0.0, 1.0, 0.0, 0.0, 1.0, 1.0, 1.0, 1.0, 1.0, 0.0, 0.0, 1.0, 0.0, 0.0, 0.0, 1.0, 0.0, 0.0, 0.0, 0.0, 0.0, 1.0, 1.0, 1.0, 1.0, 1.0, 1.0, 0.0, 1.0, 0.0, 1.0, 1.0, 0.0, 1.0, 1.0, 1.0, 0.0, 1.0, 0.0, 0.0, 0.0, 1.0, 0.0, 1.0, 1.0, 1.0, 1.0, 0.0, 1.0, 0.0, 1.0, 0.0, 1.0, 0.0, 0.0, 0.0, 0.0, 0.0, 0.0, 1.0, 0.0, 0.0, 0.0, 1.0, 0.0, 0.0, 0.0, 0.0, 1.0, 1.0, 0.0, 0.0, 1.0, 0.0, 1.0, 0.0, 1.0, 0.0, 0.0, 0.0, 1.0, 0.0, 1.0, 0.0, 0.0, 0.0, 0.0, 0.0, 0.0, 0.0, 0.0, 0.0, 0.0, 0.0, 0.0, 1.0, 1.0, 1.0, 0.0, 1.0, 0.0, 0.0, 1.0, 1.0, 0.0, 0.0, 0.0, 0.0, 1.0, 0.0, 1.0, 0.0, 1.0, 1.0, 1.0, 0.0, 1.0, 0.0, 0.0, 1.0, 0.0, 1.0, 1.0, 1.0, 0.0, 1.0, 1.0, 1.0, 0.0, 1.0, 0.0, 1.0, 0.0, 2.0, 1.0, 1.0, 0.0, 0.0, 1.0, 0.0, 0.0, 1.0, 0.0, 1.0, 0.0, 0.0, 1.0, 1.0, 0.0, 0.0, 1.0, 0.0, 1.0, 1.0, 0.0, 0.0, 0.0, 0.0, 0.0, 1.0, 0.0, 0.0, 1.0, 0.0, 1.0, 1.0, 2.0, 1.0, 1.0, 1.0, 1.0, 1.0, 0.0, 1.0, 0.0, 1.0, 0.0, 1.0, 0.0, 1.0, 0.0, 0.0, 1.0, 0.0, 0.0, 0.0, 0.0, 0.0, 1.0, 1.0, 1.0, 0.0, 1.0, 0.0, 0.0, 1.0, 0.0, 1.0, 1.0, 1.0, 1.0, 1.0, 1.0, 0.0, 0.0, 1.0, 0.0, 0.0, 1.0, 1.0, 0.0, 1.0, 1.0, 0.0, 1.0, 0.0, 0.0, 0.0, 0.0, 0.0, 0.0, 0.0, 1.0, 0.0, 1.0, 1.0, 0.0, null, null, null, null, null, null, null, null, null, null, null, null, null, null, null, null, null, null, null, null, null, null, null, null, null, null, null, null, null, null, null, null, null, null, null, null, null, null, null, null, null, null, null, null, null, null, null, null, null, null, null, null, null, null, null, null, null, null, null, null, null, null, null, null, null, null, null, null, null, null, null, null, null, null, null, null, null, null, null, null, null, null, null, null, null, null, null, null, null, null, null, null, null, null, null, null, null, null, null, null, null, null, null, null, null, null, null, null, null, null, null, null, null, null, null, null, null, null, null, null, null, null, null, null, null, null, null, null, null, null, null, null, null, null, null, null, null, null, null, null, null, null, null, null, null, null, null, null, null, null, null, null, null, null, null, null, null, null, null, null, null, null, null, null, null, null, null, null, null, null, null, null, null, null, null, null, null, null, null, null, null, null, null, null, null, null, null, null, null, null, null, null, null, null, null, null, null, null, null, null, null, null, null, null, null, null, null, null, null, null, null, null, null, null, null, null, null, null, null, null, null, null, null, null, null, null, null, null, null, null, null, null, null, null, null, null, null, null, null, null, null, null, null, null, null, null, null, null, null, null, null, null, null, null, null, null, null, null, null, null, null, null, null, null, null, null, null, null, null, null, null, null, null, null, null, null, null, null, null, null, null, null, null, null, null, null, null, null, null, null, null, null, null, null, null, null, null, null, null, null, null, null, null, null, null, null, null, null, null, null, null, null, null, null, null, null, null, null, null, null, null, null, null, null, null, null, null, null, null, null, null, null, null, null, null, null, null, null, null, null, null, null, null, null, null, null, null, null, null, null, null, null, null, null], \"coloraxis\": \"coloraxis\", \"symbol\": \"circle\"}, \"mode\": \"markers\", \"name\": \"\", \"scene\": \"scene\", \"showlegend\": false, \"type\": \"scatter3d\", \"x\": [-0.15873809013501916, 0.4229450739792552, -0.14371809521765067, -0.28533995257711275, -0.13870026029953858, -0.07672766674333166, 0.024772967406620515, -0.31908081105473163, 0.019601504748619256, -0.3041105160802487, -0.23716648505203808, 0.024245530178299005, -0.0573832474347563, -0.31899315141423373, -0.3191600245017239, -0.31905916706006443, -0.31252813314887623, -0.3187039629610148, -0.31906104387503365, -0.15872394098041087, -0.3190953054696356, -0.05738324758000109, -0.3041942984983098, -0.1438410749890609, -0.3191593585255004, 0.018478483936696762, -0.14841468520683612, -0.3188746190226821, -0.31617896424764075, -0.31889386939702197, -0.31915953226624033, -0.04248623185566372, -0.05954993809957501, -0.3191437978733173, -0.318592089757958, -0.14384107499475954, -0.1575225364802078, -0.29401955315664347, 0.9144895503916589, -0.3191443205872823, -0.1438410749843349, -0.09573142889320578, -0.39998475663802935, -0.319080322252277, -0.05476949595772227, -0.05716292317822997, -0.23716648513613037, -0.28694048478183565, -0.23696581843752684, -0.3146015988672525, -0.16056933668020512, -0.1557058791881686, -0.3188296190366051, 0.01925369075959972, -0.31881084680026417, -0.3835751001269904, -0.14384105895530327, -0.2365736413067943, 0.1304596509712135, -0.14382157737905216, -0.2368541721393539, -0.23713546345128686, -0.3188441111517834, -0.308298061148187, -0.23663275384692647, -0.15873809079380707, -0.15672289843335416, 2.281588336362384, -0.022143171362818008, -0.07621249435304267, -0.057383247435793254, -0.31728677074461425, 0.024273070221754886, -0.05500507923046876, 0.02460962606643076, 0.024342168284574868, 0.024245530167874296, -0.3717624496801007, -0.31902128079300307, -0.2563800265607776, -0.3191509230453033, -0.23699678066788046, -0.3042623428549473, -0.10378716046535892, -0.40265645986559423, -0.059775739164995366, -0.31871591478967465, -0.3495617899266753, -0.04248623168579182, -0.3040462712495449, -0.31915938718975717, -0.31629977336214454, -0.07669524680732552, -0.31820839533142187, -0.07667537508967637, -0.04250742823425034, -0.1586155542279423, -0.30426234670685837, -0.05683206891706326, -0.38357510872733297, -0.3036480723267786, -0.3191593950082502, -0.3191506920567211, -0.0767452175991068, -0.40534583294462834, -0.14369935908769169, -0.2371664851222308, -0.05879538022694283, -0.30407641419025644, -0.14384107498277127, -0.14200883053200827, 0.08362771928850495, -0.07651831929462907, -0.1435089857766597, -0.15873809083666388, -0.319150964305032, -0.14766615569796748, -0.15737638348798028, 0.12566845851154804, 0.0387951686816871, -0.04248623185566372, -0.15815030305870945, -0.07673710927001878, -0.14383211990507616, -0.28040248124161327, -0.3175682687617459, -0.14384109235702666, -0.16487524563849162, -0.3190079476056635, 0.2314710756271806, -0.3191593586739755, -0.14023693145536445, -0.23716648852414396, 0.08565280712272709, 0.12563441785839274, 0.08387035710392392, -0.3493478621573827, -0.15873809244437778, -0.29304187475049437, -0.14378860395370413, 0.08390006075835732, -0.14375842650070028, -0.158462426397775, -0.19640387625920996, 0.4030527752267506, 0.22609869459780574, 0.024245529406874345, -0.14376401465722227, -0.15857711339756306, -0.05734345005140478, -0.14512101851738887, -0.317799783623534, -0.40259105671617135, -0.21983335763456238, -0.15873128390741417, -0.3191593585584356, 0.025978634600925168, -0.14360725107397276, -0.3188832574426347, -0.21922262426826047, 0.0837828208115801, -0.14384107861993425, 0.5729104155303976, 0.02475046865315553, -0.3189731668608196, 0.11237025019457927, -0.3620198342147398, 0.5375269543468016, -0.35448898676195506, -0.36639618358917503, -0.2002233142228222, -0.05949313609879364, -0.3037838529510623, -0.05869285141859092, -0.08192219239858296, -0.3190889886780445, -0.14384107499633308, -0.3039077221009501, -0.3042266267978854, -0.22467011637805637, 0.024543975810925416, 1.9011736108193606, -0.3124610349492948, -0.30259458488659075, -0.08137032724553037, -0.23692143781116276, -0.1436699184219564, -0.31915936027676645, -0.057129107936776086, 6.707727195814289, -0.31915936025939207, -0.3187148057453337, -0.15847201877647116, -0.15868089900373888, -0.22474113152176423, 0.7703767851545642, -0.07549175485934945, -0.3551696225523304, 0.12501883114073603, -0.3177977874533972, -0.15851528074783883, 0.14716327563617787, -0.3191593587045545, -0.32095504096000305, 4.530299165235408, 0.026744726208902975, -0.34261170037191985, 0.22618636120434207, -0.23716648508574442, -0.3569513672655083, -0.15862344334372533, -0.14322593445636916, -0.15873809071492712, 0.22632721488718105, -0.15069009181858536, -0.2721273092272353, -0.1587380941818207, -0.3189889135143749, -0.08790656088585322, -0.22074283974570955, -0.32981552426413874, -0.2854404881998763, 0.3320132600239604, -0.3189898791276064, -0.12183417585520578, -0.3191593950082502, -0.2854404881998763, -0.30138508810227393, -0.15448330309761396, -0.34633295908934647, -0.15872199324401953, -0.2844688354796064, -0.053743436056118574, -0.3685257037616686, 0.08392561426211911, -0.22464485581342744, -0.06128697667927609, -0.019843954373565346, -0.3575796050489016, -0.15844397104778143, 1.6945701725107325, -0.16219900205224316, 0.12468123615508667, 0.22685493369597926, -0.3191400677546564, -0.36274774889190264, -0.33573273319119257, 0.08375472719018763, -0.30899489768662464, -0.042424891853386416, 0.4192958528034469, -0.3229902371766445, -0.05304174448529657, -0.03582063783166809, -0.3497047050474557, -0.36363942267873983, -0.23716648508574398, -0.3928033560857977, -0.31867888412819195, -0.15853686376086232, 0.12484934600962895, -0.2850980080843432, 0.22598181828743988, 0.261017751254661, -0.240401096666968, -0.3526051901030456, -0.022915258453902954, -0.23716648523168965, -0.23645439612116795, 7.21914458788208, -0.3039655003530319, -0.15845789864379672, 0.16754134460781037, -0.13711096503300524, -0.07674521727767991, -0.1532324840645097, -0.141099082411147, -0.15732706423670567, -0.2939741684364603, 0.024247447169589976, -0.34937125077118525, -0.34970470661115455, 4.3561874623689505, null, null, null, null, null, null, null, null, null, null, null, null, null, null, null, null, null, null, null, null, null, null, null, null, null, null, null, null, null, null, null, null, null, null, null, null, null, null, null, null, null, null, null, null, null, null, null, null, null, null, null, null, null, null, null, null, null, null, null, null, null, null, null, null, null, null, null, null, null, null, null, null, null, null, null, null, null, null, null, null, null, null, null, null, null, null, null, null, null, null, null, null, null, null, null, null, null, null, null, null, null, null, null, null, null, null, null, null, null, null, null, null, null, null, null, null, null, null, null, null, null, null, null, null, null, null, null, null, null, null, null, null, null, null, null, null, null, null, null, null, null, null, null, null, null, null, null, null, null, null, null, null, null, null, null, null, null, null, null, null, null, null, null, null, null, null, null, null, null, null, null, null, null, null, null, null, null, null, null, null, null, null, null, null, null, null, null, null, null, null, null, null, null, null, null, null, null, null, null, null, null, null, null, null, null, null, null, null, null, null, null, null, null, null, null, null, null, null, null, null, null, null, null, null, null, null, null, null, null, null, null, null, null, null, null, null, null, null, null, null, null, null, null, null, null, null, null, null, null, null, null, null, null, null, null, null, null, null, null, null, null, null, null, null, null, null, null, null, null, null, null, null, null, null, null, null, null, null, null, null, null, null, null, null, null, null, null, null, null, null, null, null, null, null, null, null, null, null, null, null, null, null, null, null, null, null, null, null, null, null, null, null, null, null, null, null, null, null, null, null, null, null, null, null, null, null, null, null, null, null, null, null, null, null, null, null, null, null, null, null, null, null, null, null, null, null, null, null, null, null, null, null, null, null], \"y\": [1.1941140209126266, 1.971414566997819, 1.4977540482145835, -1.9178733117795863, -1.732802111196301, 0.8631323599564992, 0.5041316759973165, -1.0658705369103987, 2.159700887857617, -0.7622246161012828, -1.3968408024365673, 2.018691732983489, 0.8351306261203627, -1.0658809317206812, -1.0658572000863764, -1.0658731027851711, -1.4270749487424008, -1.065915225736069, -1.0658728810314826, 1.1941123430238656, -1.0658688181488674, 0.8351306269960638, -0.7622146806562834, 1.4977686317701888, -1.0658612224337158, -1.4271566344623445, -1.0861091007282413, -1.0658949885062825, -1.0662146539667807, -1.0658927055583862, -1.0658601749262588, 1.1387852377468368, 1.7595373046939653, -1.0658630676229404, -1.065928492142811, 1.4977686318045473, 1.1939698738650673, -1.7143835517257484, -1.2121544251735523, -1.065863005737629, 1.4977686317416965, 2.1529694384412013, -2.1466524213299203, -1.065870594988743, 0.8605284414774901, 0.8351044986308422, -1.396840801929564, -1.0696817925864324, -1.3968645985931814, -1.0664017078586043, 0.7532712452819119, 1.1937544458764506, -1.0659003225464496, 2.159742130324807, -1.065902550722189, -2.160952204794638, 1.4977686298306099, -1.3969111052478833, 1.7347625216503724, 1.4977663196809274, -1.3968778381236873, -1.3968444803751887, -1.0658986063080382, -1.431994288472634, -1.3969040953180207, 1.1941140215042125, 1.19387505660741, -2.507939947453173, 0.5411721682724163, 0.8630712679270426, 0.8351306261266149, -1.0660832844175676, 2.018688467167143, 0.8348486123911655, 0.5041510459503554, 2.018680273047678, 2.0186917330463405, -2.121157144287727, -1.0658775965781064, -1.0733059023748195, -1.0658622227825996, -1.396860926889979, -0.7622066113586695, 2.170935359560703, -2.1884452140085195, 2.2127200263206928, -1.0659138067459015, -2.0242591769281715, 1.1387852367226574, -0.7622322347133705, -1.0658610496128635, -1.066200328556203, 0.8631285153890544, -1.0659739930095435, 0.8631261587530821, 0.18660120905495503, 1.1940994902369306, -0.7622065881349543, 0.835065265878708, -2.1609521529419595, -0.7622794550402588, -1.0658610024740647, -1.065862248452252, 0.8631344431820578, -2.1526398967427784, 1.4977518300795662, -1.3968408020133656, 0.3743567300371434, -0.7622286600744541, 1.4977686317322683, 1.497551353005107, 1.5135670512916741, 0.8631075393361637, 1.497729251854819, 1.1941140217626027, -1.065862217889783, 1.1928010592576987, 1.1939525418846975, 1.6597002659766176, -1.2150129999164259, 1.1387852377468368, 1.1940443182119762, 0.8631334797026261, 1.4977675698105335, -1.7159983410281585, -1.0660499022016585, 1.4977687364841075, 0.3349795802401789, -1.0658791774409595, 2.1504076676046795, -1.0658612215385392, 1.4973412442904797, -1.3968407815027504, 1.5133269034259966, 1.659704300711096, 1.513538280654115, -2.024284545782732, 1.1941140314557366, -0.7635372028473323, 1.4977624094139852, 1.5135347553153933, 1.4977588313513837, 1.1940813312477516, 0.8963226009602743, 0.7805294534608935, 1.3766036648594147, 2.0186917376345166, 1.4977594935113312, 1.1940949314466411, 0.8351259070834591, 1.1924992300229418, -1.0660224486864016, -2.1884529704004687, -0.5004542852005569, 1.1941132240550203, -1.065861222235146, 0.503989470183898, 1.4977409037779756, -1.0658939639569938, -1.3989686768161664, 1.5135486584955795, 1.497768653661238, 2.094086829338294, 0.5041343459725821, -1.065883301537204, 1.5206702343053773, -2.1277238944116506, 2.158969481027674, -2.112736925062937, -2.063350979036052, -2.213632410088619, 1.7595305688385512, -0.7622633531240017, 1.7594356669915698, 1.5384564011382789, -1.0658695665999545, 1.4977686318140349, -0.7622486643231403, -0.7622108469464418, -2.2107333688381954, 2.018656341486452, -1.3291607324648327, -1.4633667102434562, -0.7624043740178907, 1.5383909573693284, -1.3968698615372923, 1.49774833496766, -1.0658612118750852, 0.835100488611567, 0.9469970953501597, -1.0658612119798379, -1.0659139393956947, 1.1940824689312028, 1.1941072388584264, -2.210724947041032, 1.4294686207449394, 0.8629857982660464, -2.138060417358838, 1.7355544528879476, -1.066022685405275, 1.194087598874262, 0.48961792734893056, -1.065861221354174, -1.5067082152217566, 0.5046016165478469, 2.018395364114089, -2.0250832613551073, 1.3765932688328226, -1.3968408022333463, -2.1283249370918784, 1.1941004268888098, 1.4976956848693188, 1.1941140210286343, 1.3765765665114311, 1.193159646027923, -1.0953217350407918, 1.1941140419310257, 2.1602888639327067, -0.12325299369671398, 0.33190592159330534, -1.3964509297127765, -1.9178613896097743, 2.7955853139141764, -1.0658813200162323, -1.0892611404863752, -1.0658610024740647, -1.9178613896097743, -0.7625478101961064, 1.4261996072430194, -2.0246420061698243, 1.194112112089659, -1.9179766140229821, 0.8346989985154876, -2.106856397532578, 1.5135317257125744, -2.210736364766277, 0.6679265110398112, 1.1776431532138887, -2.091853715687223, 1.1940791432157212, 0.10589145385184524, 1.0268573942195032, 1.7355944851020877, 1.3765139859680733, -1.0658635098531164, -2.12763755664907, -2.1343357666002425, 1.513551991868887, -1.431911652116842, 1.138777963649325, 2.2308038791003137, -1.2330739759004732, 1.0672059288412292, -0.5243711992799603, -2.0242422282677897, -2.1113088699665266, -1.3968408022333492, -2.2504471345869357, -1.0659181990099407, 1.1940901583924943, 1.7355745496817623, -1.9179020030339062, 1.3766175247977923, 1.1443374038570868, -1.092239284702352, -2.0756947403986934, 2.18057430409374, -1.3968408013534224, -1.3969252459452224, -0.11329814455837618, -1.7144282827255888, 1.1940807945354406, 0.8341653492654082, 1.4969705416708616, 0.8631344412441299, 1.1934611343465507, 1.497443470505637, 1.193946693902391, -1.7143889341444076, 2.0186915055937757, -2.0242817722260127, -2.02424221884003, -0.37109756874978933, null, null, null, null, null, null, null, null, null, null, null, null, null, null, null, null, null, null, null, null, null, null, null, null, null, null, null, null, null, null, null, null, null, null, null, null, null, null, null, null, null, null, null, null, null, null, null, null, null, null, null, null, null, null, null, null, null, null, null, null, null, null, null, null, null, null, null, null, null, null, null, null, null, null, null, null, null, null, null, null, null, null, null, null, null, null, null, null, null, null, null, null, null, null, null, null, null, null, null, null, null, null, null, null, null, null, null, null, null, null, null, null, null, null, null, null, null, null, null, null, null, null, null, null, null, null, null, null, null, null, null, null, null, null, null, null, null, null, null, null, null, null, null, null, null, null, null, null, null, null, null, null, null, null, null, null, null, null, null, null, null, null, null, null, null, null, null, null, null, null, null, null, null, null, null, null, null, null, null, null, null, null, null, null, null, null, null, null, null, null, null, null, null, null, null, null, null, null, null, null, null, null, null, null, null, null, null, null, null, null, null, null, null, null, null, null, null, null, null, null, null, null, null, null, null, null, null, null, null, null, null, null, null, null, null, null, null, null, null, null, null, null, null, null, null, null, null, null, null, null, null, null, null, null, null, null, null, null, null, null, null, null, null, null, null, null, null, null, null, null, null, null, null, null, null, null, null, null, null, null, null, null, null, null, null, null, null, null, null, null, null, null, null, null, null, null, null, null, null, null, null, null, null, null, null, null, null, null, null, null, null, null, null, null, null, null, null, null, null, null, null, null, null, null, null, null, null, null, null, null, null, null, null, null, null, null, null, null, null, null, null, null, null, null, null, null, null, null, null, null, null, null, null, null], \"z\": [-0.15873809013501916, 0.4229450739792552, -0.14371809521765067, -0.28533995257711275, -0.13870026029953858, -0.07672766674333166, 0.024772967406620515, -0.31908081105473163, 0.019601504748619256, -0.3041105160802487, -0.23716648505203808, 0.024245530178299005, -0.0573832474347563, -0.31899315141423373, -0.3191600245017239, -0.31905916706006443, -0.31252813314887623, -0.3187039629610148, -0.31906104387503365, -0.15872394098041087, -0.3190953054696356, -0.05738324758000109, -0.3041942984983098, -0.1438410749890609, -0.3191593585255004, 0.018478483936696762, -0.14841468520683612, -0.3188746190226821, -0.31617896424764075, -0.31889386939702197, -0.31915953226624033, -0.04248623185566372, -0.05954993809957501, -0.3191437978733173, -0.318592089757958, -0.14384107499475954, -0.1575225364802078, -0.29401955315664347, 0.9144895503916589, -0.3191443205872823, -0.1438410749843349, -0.09573142889320578, -0.39998475663802935, -0.319080322252277, -0.05476949595772227, -0.05716292317822997, -0.23716648513613037, -0.28694048478183565, -0.23696581843752684, -0.3146015988672525, -0.16056933668020512, -0.1557058791881686, -0.3188296190366051, 0.01925369075959972, -0.31881084680026417, -0.3835751001269904, -0.14384105895530327, -0.2365736413067943, 0.1304596509712135, -0.14382157737905216, -0.2368541721393539, -0.23713546345128686, -0.3188441111517834, -0.308298061148187, -0.23663275384692647, -0.15873809079380707, -0.15672289843335416, 2.281588336362384, -0.022143171362818008, -0.07621249435304267, -0.057383247435793254, -0.31728677074461425, 0.024273070221754886, -0.05500507923046876, 0.02460962606643076, 0.024342168284574868, 0.024245530167874296, -0.3717624496801007, -0.31902128079300307, -0.2563800265607776, -0.3191509230453033, -0.23699678066788046, -0.3042623428549473, -0.10378716046535892, -0.40265645986559423, -0.059775739164995366, -0.31871591478967465, -0.3495617899266753, -0.04248623168579182, -0.3040462712495449, -0.31915938718975717, -0.31629977336214454, -0.07669524680732552, -0.31820839533142187, -0.07667537508967637, -0.04250742823425034, -0.1586155542279423, -0.30426234670685837, -0.05683206891706326, -0.38357510872733297, -0.3036480723267786, -0.3191593950082502, -0.3191506920567211, -0.0767452175991068, -0.40534583294462834, -0.14369935908769169, -0.2371664851222308, -0.05879538022694283, -0.30407641419025644, -0.14384107498277127, -0.14200883053200827, 0.08362771928850495, -0.07651831929462907, -0.1435089857766597, -0.15873809083666388, -0.319150964305032, -0.14766615569796748, -0.15737638348798028, 0.12566845851154804, 0.0387951686816871, -0.04248623185566372, -0.15815030305870945, -0.07673710927001878, -0.14383211990507616, -0.28040248124161327, -0.3175682687617459, -0.14384109235702666, -0.16487524563849162, -0.3190079476056635, 0.2314710756271806, -0.3191593586739755, -0.14023693145536445, -0.23716648852414396, 0.08565280712272709, 0.12563441785839274, 0.08387035710392392, -0.3493478621573827, -0.15873809244437778, -0.29304187475049437, -0.14378860395370413, 0.08390006075835732, -0.14375842650070028, -0.158462426397775, -0.19640387625920996, 0.4030527752267506, 0.22609869459780574, 0.024245529406874345, -0.14376401465722227, -0.15857711339756306, -0.05734345005140478, -0.14512101851738887, -0.317799783623534, -0.40259105671617135, -0.21983335763456238, -0.15873128390741417, -0.3191593585584356, 0.025978634600925168, -0.14360725107397276, -0.3188832574426347, -0.21922262426826047, 0.0837828208115801, -0.14384107861993425, 0.5729104155303976, 0.02475046865315553, -0.3189731668608196, 0.11237025019457927, -0.3620198342147398, 0.5375269543468016, -0.35448898676195506, -0.36639618358917503, -0.2002233142228222, -0.05949313609879364, -0.3037838529510623, -0.05869285141859092, -0.08192219239858296, -0.3190889886780445, -0.14384107499633308, -0.3039077221009501, -0.3042266267978854, -0.22467011637805637, 0.024543975810925416, 1.9011736108193606, -0.3124610349492948, -0.30259458488659075, -0.08137032724553037, -0.23692143781116276, -0.1436699184219564, -0.31915936027676645, -0.057129107936776086, 6.707727195814289, -0.31915936025939207, -0.3187148057453337, -0.15847201877647116, -0.15868089900373888, -0.22474113152176423, 0.7703767851545642, -0.07549175485934945, -0.3551696225523304, 0.12501883114073603, -0.3177977874533972, -0.15851528074783883, 0.14716327563617787, -0.3191593587045545, -0.32095504096000305, 4.530299165235408, 0.026744726208902975, -0.34261170037191985, 0.22618636120434207, -0.23716648508574442, -0.3569513672655083, -0.15862344334372533, -0.14322593445636916, -0.15873809071492712, 0.22632721488718105, -0.15069009181858536, -0.2721273092272353, -0.1587380941818207, -0.3189889135143749, -0.08790656088585322, -0.22074283974570955, -0.32981552426413874, -0.2854404881998763, 0.3320132600239604, -0.3189898791276064, -0.12183417585520578, -0.3191593950082502, -0.2854404881998763, -0.30138508810227393, -0.15448330309761396, -0.34633295908934647, -0.15872199324401953, -0.2844688354796064, -0.053743436056118574, -0.3685257037616686, 0.08392561426211911, -0.22464485581342744, -0.06128697667927609, -0.019843954373565346, -0.3575796050489016, -0.15844397104778143, 1.6945701725107325, -0.16219900205224316, 0.12468123615508667, 0.22685493369597926, -0.3191400677546564, -0.36274774889190264, -0.33573273319119257, 0.08375472719018763, -0.30899489768662464, -0.042424891853386416, 0.4192958528034469, -0.3229902371766445, -0.05304174448529657, -0.03582063783166809, -0.3497047050474557, -0.36363942267873983, -0.23716648508574398, -0.3928033560857977, -0.31867888412819195, -0.15853686376086232, 0.12484934600962895, -0.2850980080843432, 0.22598181828743988, 0.261017751254661, -0.240401096666968, -0.3526051901030456, -0.022915258453902954, -0.23716648523168965, -0.23645439612116795, 7.21914458788208, -0.3039655003530319, -0.15845789864379672, 0.16754134460781037, -0.13711096503300524, -0.07674521727767991, -0.1532324840645097, -0.141099082411147, -0.15732706423670567, -0.2939741684364603, 0.024247447169589976, -0.34937125077118525, -0.34970470661115455, 4.3561874623689505, null, null, null, null, null, null, null, null, null, null, null, null, null, null, null, null, null, null, null, null, null, null, null, null, null, null, null, null, null, null, null, null, null, null, null, null, null, null, null, null, null, null, null, null, null, null, null, null, null, null, null, null, null, null, null, null, null, null, null, null, null, null, null, null, null, null, null, null, null, null, null, null, null, null, null, null, null, null, null, null, null, null, null, null, null, null, null, null, null, null, null, null, null, null, null, null, null, null, null, null, null, null, null, null, null, null, null, null, null, null, null, null, null, null, null, null, null, null, null, null, null, null, null, null, null, null, null, null, null, null, null, null, null, null, null, null, null, null, null, null, null, null, null, null, null, null, null, null, null, null, null, null, null, null, null, null, null, null, null, null, null, null, null, null, null, null, null, null, null, null, null, null, null, null, null, null, null, null, null, null, null, null, null, null, null, null, null, null, null, null, null, null, null, null, null, null, null, null, null, null, null, null, null, null, null, null, null, null, null, null, null, null, null, null, null, null, null, null, null, null, null, null, null, null, null, null, null, null, null, null, null, null, null, null, null, null, null, null, null, null, null, null, null, null, null, null, null, null, null, null, null, null, null, null, null, null, null, null, null, null, null, null, null, null, null, null, null, null, null, null, null, null, null, null, null, null, null, null, null, null, null, null, null, null, null, null, null, null, null, null, null, null, null, null, null, null, null, null, null, null, null, null, null, null, null, null, null, null, null, null, null, null, null, null, null, null, null, null, null, null, null, null, null, null, null, null, null, null, null, null, null, null, null, null, null, null, null, null, null, null, null, null, null, null, null, null, null, null, null, null, null, null, null, null]}],                        {\"coloraxis\": {\"colorbar\": {\"title\": {\"text\": \"class\"}}, \"colorscale\": [[0.0, \"#0d0887\"], [0.1111111111111111, \"#46039f\"], [0.2222222222222222, \"#7201a8\"], [0.3333333333333333, \"#9c179e\"], [0.4444444444444444, \"#bd3786\"], [0.5555555555555556, \"#d8576b\"], [0.6666666666666666, \"#ed7953\"], [0.7777777777777778, \"#fb9f3a\"], [0.8888888888888888, \"#fdca26\"], [1.0, \"#f0f921\"]]}, \"legend\": {\"tracegroupgap\": 0, \"x\": 0, \"y\": 1}, \"margin\": {\"t\": 60}, \"scene\": {\"domain\": {\"x\": [0.0, 1.0], \"y\": [0.0, 1.0]}, \"xaxis\": {\"title\": {\"text\": \"PC 1\"}}, \"yaxis\": {\"title\": {\"text\": \"PC 2\"}}, \"zaxis\": {\"title\": {\"text\": \"PC 1\"}}}, \"template\": {\"data\": {\"bar\": [{\"error_x\": {\"color\": \"#2a3f5f\"}, \"error_y\": {\"color\": \"#2a3f5f\"}, \"marker\": {\"line\": {\"color\": \"#E5ECF6\", \"width\": 0.5}}, \"type\": \"bar\"}], \"barpolar\": [{\"marker\": {\"line\": {\"color\": \"#E5ECF6\", \"width\": 0.5}}, \"type\": \"barpolar\"}], \"carpet\": [{\"aaxis\": {\"endlinecolor\": \"#2a3f5f\", \"gridcolor\": \"white\", \"linecolor\": \"white\", \"minorgridcolor\": \"white\", \"startlinecolor\": \"#2a3f5f\"}, \"baxis\": {\"endlinecolor\": \"#2a3f5f\", \"gridcolor\": \"white\", \"linecolor\": \"white\", \"minorgridcolor\": \"white\", \"startlinecolor\": \"#2a3f5f\"}, \"type\": \"carpet\"}], \"choropleth\": [{\"colorbar\": {\"outlinewidth\": 0, \"ticks\": \"\"}, \"type\": \"choropleth\"}], \"contour\": [{\"colorbar\": {\"outlinewidth\": 0, \"ticks\": \"\"}, \"colorscale\": [[0.0, \"#0d0887\"], [0.1111111111111111, \"#46039f\"], [0.2222222222222222, \"#7201a8\"], [0.3333333333333333, \"#9c179e\"], [0.4444444444444444, \"#bd3786\"], [0.5555555555555556, \"#d8576b\"], [0.6666666666666666, \"#ed7953\"], [0.7777777777777778, \"#fb9f3a\"], [0.8888888888888888, \"#fdca26\"], [1.0, \"#f0f921\"]], \"type\": \"contour\"}], \"contourcarpet\": [{\"colorbar\": {\"outlinewidth\": 0, \"ticks\": \"\"}, \"type\": \"contourcarpet\"}], \"heatmap\": [{\"colorbar\": {\"outlinewidth\": 0, \"ticks\": \"\"}, \"colorscale\": [[0.0, \"#0d0887\"], [0.1111111111111111, \"#46039f\"], [0.2222222222222222, \"#7201a8\"], [0.3333333333333333, \"#9c179e\"], [0.4444444444444444, \"#bd3786\"], [0.5555555555555556, \"#d8576b\"], [0.6666666666666666, \"#ed7953\"], [0.7777777777777778, \"#fb9f3a\"], [0.8888888888888888, \"#fdca26\"], [1.0, \"#f0f921\"]], \"type\": \"heatmap\"}], \"heatmapgl\": [{\"colorbar\": {\"outlinewidth\": 0, \"ticks\": \"\"}, \"colorscale\": [[0.0, \"#0d0887\"], [0.1111111111111111, \"#46039f\"], [0.2222222222222222, \"#7201a8\"], [0.3333333333333333, \"#9c179e\"], [0.4444444444444444, \"#bd3786\"], [0.5555555555555556, \"#d8576b\"], [0.6666666666666666, \"#ed7953\"], [0.7777777777777778, \"#fb9f3a\"], [0.8888888888888888, \"#fdca26\"], [1.0, \"#f0f921\"]], \"type\": \"heatmapgl\"}], \"histogram\": [{\"marker\": {\"colorbar\": {\"outlinewidth\": 0, \"ticks\": \"\"}}, \"type\": \"histogram\"}], \"histogram2d\": [{\"colorbar\": {\"outlinewidth\": 0, \"ticks\": \"\"}, \"colorscale\": [[0.0, \"#0d0887\"], [0.1111111111111111, \"#46039f\"], [0.2222222222222222, \"#7201a8\"], [0.3333333333333333, \"#9c179e\"], [0.4444444444444444, \"#bd3786\"], [0.5555555555555556, \"#d8576b\"], [0.6666666666666666, \"#ed7953\"], [0.7777777777777778, \"#fb9f3a\"], [0.8888888888888888, \"#fdca26\"], [1.0, \"#f0f921\"]], \"type\": \"histogram2d\"}], \"histogram2dcontour\": [{\"colorbar\": {\"outlinewidth\": 0, \"ticks\": \"\"}, \"colorscale\": [[0.0, \"#0d0887\"], [0.1111111111111111, \"#46039f\"], [0.2222222222222222, \"#7201a8\"], [0.3333333333333333, \"#9c179e\"], [0.4444444444444444, \"#bd3786\"], [0.5555555555555556, \"#d8576b\"], [0.6666666666666666, \"#ed7953\"], [0.7777777777777778, \"#fb9f3a\"], [0.8888888888888888, \"#fdca26\"], [1.0, \"#f0f921\"]], \"type\": \"histogram2dcontour\"}], \"mesh3d\": [{\"colorbar\": {\"outlinewidth\": 0, \"ticks\": \"\"}, \"type\": \"mesh3d\"}], \"parcoords\": [{\"line\": {\"colorbar\": {\"outlinewidth\": 0, \"ticks\": \"\"}}, \"type\": \"parcoords\"}], \"pie\": [{\"automargin\": true, \"type\": \"pie\"}], \"scatter\": [{\"marker\": {\"colorbar\": {\"outlinewidth\": 0, \"ticks\": \"\"}}, \"type\": \"scatter\"}], \"scatter3d\": [{\"line\": {\"colorbar\": {\"outlinewidth\": 0, \"ticks\": \"\"}}, \"marker\": {\"colorbar\": {\"outlinewidth\": 0, \"ticks\": \"\"}}, \"type\": \"scatter3d\"}], \"scattercarpet\": [{\"marker\": {\"colorbar\": {\"outlinewidth\": 0, \"ticks\": \"\"}}, \"type\": \"scattercarpet\"}], \"scattergeo\": [{\"marker\": {\"colorbar\": {\"outlinewidth\": 0, \"ticks\": \"\"}}, \"type\": \"scattergeo\"}], \"scattergl\": [{\"marker\": {\"colorbar\": {\"outlinewidth\": 0, \"ticks\": \"\"}}, \"type\": \"scattergl\"}], \"scattermapbox\": [{\"marker\": {\"colorbar\": {\"outlinewidth\": 0, \"ticks\": \"\"}}, \"type\": \"scattermapbox\"}], \"scatterpolar\": [{\"marker\": {\"colorbar\": {\"outlinewidth\": 0, \"ticks\": \"\"}}, \"type\": \"scatterpolar\"}], \"scatterpolargl\": [{\"marker\": {\"colorbar\": {\"outlinewidth\": 0, \"ticks\": \"\"}}, \"type\": \"scatterpolargl\"}], \"scatterternary\": [{\"marker\": {\"colorbar\": {\"outlinewidth\": 0, \"ticks\": \"\"}}, \"type\": \"scatterternary\"}], \"surface\": [{\"colorbar\": {\"outlinewidth\": 0, \"ticks\": \"\"}, \"colorscale\": [[0.0, \"#0d0887\"], [0.1111111111111111, \"#46039f\"], [0.2222222222222222, \"#7201a8\"], [0.3333333333333333, \"#9c179e\"], [0.4444444444444444, \"#bd3786\"], [0.5555555555555556, \"#d8576b\"], [0.6666666666666666, \"#ed7953\"], [0.7777777777777778, \"#fb9f3a\"], [0.8888888888888888, \"#fdca26\"], [1.0, \"#f0f921\"]], \"type\": \"surface\"}], \"table\": [{\"cells\": {\"fill\": {\"color\": \"#EBF0F8\"}, \"line\": {\"color\": \"white\"}}, \"header\": {\"fill\": {\"color\": \"#C8D4E3\"}, \"line\": {\"color\": \"white\"}}, \"type\": \"table\"}]}, \"layout\": {\"annotationdefaults\": {\"arrowcolor\": \"#2a3f5f\", \"arrowhead\": 0, \"arrowwidth\": 1}, \"autotypenumbers\": \"strict\", \"coloraxis\": {\"colorbar\": {\"outlinewidth\": 0, \"ticks\": \"\"}}, \"colorscale\": {\"diverging\": [[0, \"#8e0152\"], [0.1, \"#c51b7d\"], [0.2, \"#de77ae\"], [0.3, \"#f1b6da\"], [0.4, \"#fde0ef\"], [0.5, \"#f7f7f7\"], [0.6, \"#e6f5d0\"], [0.7, \"#b8e186\"], [0.8, \"#7fbc41\"], [0.9, \"#4d9221\"], [1, \"#276419\"]], \"sequential\": [[0.0, \"#0d0887\"], [0.1111111111111111, \"#46039f\"], [0.2222222222222222, \"#7201a8\"], [0.3333333333333333, \"#9c179e\"], [0.4444444444444444, \"#bd3786\"], [0.5555555555555556, \"#d8576b\"], [0.6666666666666666, \"#ed7953\"], [0.7777777777777778, \"#fb9f3a\"], [0.8888888888888888, \"#fdca26\"], [1.0, \"#f0f921\"]], \"sequentialminus\": [[0.0, \"#0d0887\"], [0.1111111111111111, \"#46039f\"], [0.2222222222222222, \"#7201a8\"], [0.3333333333333333, \"#9c179e\"], [0.4444444444444444, \"#bd3786\"], [0.5555555555555556, \"#d8576b\"], [0.6666666666666666, \"#ed7953\"], [0.7777777777777778, \"#fb9f3a\"], [0.8888888888888888, \"#fdca26\"], [1.0, \"#f0f921\"]]}, \"colorway\": [\"#636efa\", \"#EF553B\", \"#00cc96\", \"#ab63fa\", \"#FFA15A\", \"#19d3f3\", \"#FF6692\", \"#B6E880\", \"#FF97FF\", \"#FECB52\"], \"font\": {\"color\": \"#2a3f5f\"}, \"geo\": {\"bgcolor\": \"white\", \"lakecolor\": \"white\", \"landcolor\": \"#E5ECF6\", \"showlakes\": true, \"showland\": true, \"subunitcolor\": \"white\"}, \"hoverlabel\": {\"align\": \"left\"}, \"hovermode\": \"closest\", \"mapbox\": {\"style\": \"light\"}, \"paper_bgcolor\": \"white\", \"plot_bgcolor\": \"#E5ECF6\", \"polar\": {\"angularaxis\": {\"gridcolor\": \"white\", \"linecolor\": \"white\", \"ticks\": \"\"}, \"bgcolor\": \"#E5ECF6\", \"radialaxis\": {\"gridcolor\": \"white\", \"linecolor\": \"white\", \"ticks\": \"\"}}, \"scene\": {\"xaxis\": {\"backgroundcolor\": \"#E5ECF6\", \"gridcolor\": \"white\", \"gridwidth\": 2, \"linecolor\": \"white\", \"showbackground\": true, \"ticks\": \"\", \"zerolinecolor\": \"white\"}, \"yaxis\": {\"backgroundcolor\": \"#E5ECF6\", \"gridcolor\": \"white\", \"gridwidth\": 2, \"linecolor\": \"white\", \"showbackground\": true, \"ticks\": \"\", \"zerolinecolor\": \"white\"}, \"zaxis\": {\"backgroundcolor\": \"#E5ECF6\", \"gridcolor\": \"white\", \"gridwidth\": 2, \"linecolor\": \"white\", \"showbackground\": true, \"ticks\": \"\", \"zerolinecolor\": \"white\"}}, \"shapedefaults\": {\"line\": {\"color\": \"#2a3f5f\"}}, \"ternary\": {\"aaxis\": {\"gridcolor\": \"white\", \"linecolor\": \"white\", \"ticks\": \"\"}, \"baxis\": {\"gridcolor\": \"white\", \"linecolor\": \"white\", \"ticks\": \"\"}, \"bgcolor\": \"#E5ECF6\", \"caxis\": {\"gridcolor\": \"white\", \"linecolor\": \"white\", \"ticks\": \"\"}}, \"title\": {\"x\": 0.05}, \"xaxis\": {\"automargin\": true, \"gridcolor\": \"white\", \"linecolor\": \"white\", \"ticks\": \"\", \"title\": {\"standoff\": 15}, \"zerolinecolor\": \"white\", \"zerolinewidth\": 2}, \"yaxis\": {\"automargin\": true, \"gridcolor\": \"white\", \"linecolor\": \"white\", \"ticks\": \"\", \"title\": {\"standoff\": 15}, \"zerolinecolor\": \"white\", \"zerolinewidth\": 2}}}, \"width\": 800},                        {\"responsive\": true}                    ).then(function(){\n",
       "                            \n",
       "var gd = document.getElementById('7fb8c044-ed73-4e53-8c92-113b2092f407');\n",
       "var x = new MutationObserver(function (mutations, observer) {{\n",
       "        var display = window.getComputedStyle(gd).display;\n",
       "        if (!display || display === 'none') {{\n",
       "            console.log([gd, 'removed!']);\n",
       "            Plotly.purge(gd);\n",
       "            observer.disconnect();\n",
       "        }}\n",
       "}});\n",
       "\n",
       "// Listen for the removal of the full notebook cells\n",
       "var notebookContainer = gd.closest('#notebook-container');\n",
       "if (notebookContainer) {{\n",
       "    x.observe(notebookContainer, {childList: true});\n",
       "}}\n",
       "\n",
       "// Listen for the clearing of the current output cell\n",
       "var outputEl = gd.closest('.output');\n",
       "if (outputEl) {{\n",
       "    x.observe(outputEl, {childList: true});\n",
       "}}\n",
       "\n",
       "                        })                };                });            </script>        </div>"
      ]
     },
     "metadata": {},
     "output_type": "display_data"
    }
   ],
   "source": [
    "# Create a 3D-Scatter with the PCA data and the clusters\n",
    "# fig = px.scatter_3d(\n",
    "#     df_shopping_pca,\n",
    "#     x=\"principal component 3\",\n",
    "#     y=\"principal component 2\",\n",
    "#     z=\"principal component 1\",\n",
    "#     color=\"class\",\n",
    "#     symbol=\"class\",\n",
    "#     width=800,\n",
    "# )\n",
    "# fig.update_layout(legend=dict(x=0, y=1))\n",
    "# fig.show()\n",
    "fig = px.scatter_3d(\n",
    "    clustered_df,\n",
    "    x=\"PC 1\",\n",
    "    y=\"PC 2\",\n",
    "    z=\"PC 1\",\n",
    "    color=\"Class\",\n",
    "#     symbol=\"class\",\n",
    "    hover_name=\"CoinName\",\n",
    "    hover_data=[\"Algorithm\"],\n",
    "    width=800,\n",
    ")\n",
    "fig.update_layout(legend=dict(x=0, y=1))\n",
    "fig.show()"
   ]
  },
  {
   "cell_type": "markdown",
   "metadata": {},
   "source": [
    "#### Table of Tradable Cryptocurrencies"
   ]
  },
  {
   "cell_type": "code",
   "execution_count": 210,
   "metadata": {},
   "outputs": [
    {
     "data": {},
     "metadata": {},
     "output_type": "display_data"
    },
    {
     "data": {
      "application/vnd.holoviews_exec.v0+json": "",
      "text/html": [
       "<div id='1120'>\n",
       "\n",
       "\n",
       "\n",
       "\n",
       "\n",
       "  <div class=\"bk-root\" id=\"23344e37-b454-41d9-9919-13932d4b4095\" data-root-id=\"1120\"></div>\n",
       "</div>\n",
       "<script type=\"application/javascript\">(function(root) {\n",
       "  function embed_document(root) {\n",
       "    var docs_json = {\"e4dfd042-9a95-4144-b96d-2b71b4e97b4a\":{\"defs\":[{\"extends\":null,\"module\":null,\"name\":\"DataModel\",\"overrides\":[],\"properties\":[]}],\"roots\":{\"references\":[{\"attributes\":{},\"id\":\"1135\",\"type\":\"StringEditor\"},{\"attributes\":{\"margin\":[5,5,5,5],\"name\":\"HSpacer01828\",\"sizing_mode\":\"stretch_width\"},\"id\":\"1161\",\"type\":\"Spacer\"},{\"attributes\":{},\"id\":\"1123\",\"type\":\"Selection\"},{\"attributes\":{\"editor\":{\"id\":\"1130\"},\"field\":\"Algorithm\",\"formatter\":{\"id\":\"1129\"},\"title\":\"Algorithm\"},\"id\":\"1131\",\"type\":\"TableColumn\"},{\"attributes\":{},\"id\":\"1134\",\"type\":\"StringFormatter\"},{\"attributes\":{\"format\":\"0,0.0[00000]\"},\"id\":\"1149\",\"type\":\"NumberFormatter\"},{\"attributes\":{},\"id\":\"1124\",\"type\":\"StringFormatter\"},{\"attributes\":{},\"id\":\"1145\",\"type\":\"NumberEditor\"},{\"attributes\":{},\"id\":\"1157\",\"type\":\"UnionRenderers\"},{\"attributes\":{\"source\":{\"id\":\"1122\"}},\"id\":\"1156\",\"type\":\"CDSView\"},{\"attributes\":{\"editor\":{\"id\":\"1140\"},\"field\":\"TotalCoinSupply\",\"formatter\":{\"id\":\"1139\"},\"title\":\"TotalCoinSupply\"},\"id\":\"1141\",\"type\":\"TableColumn\"},{\"attributes\":{\"editor\":{\"id\":\"1135\"},\"field\":\"ProofType\",\"formatter\":{\"id\":\"1134\"},\"title\":\"ProofType\"},\"id\":\"1136\",\"type\":\"TableColumn\"},{\"attributes\":{\"data\":{\"Algorithm\":[\"Scrypt\",\"Scrypt\",\"X13\",\"SHA-256\",\"Scrypt\",\"X11\",\"Ethash\",\"Equihash\",\"SHA-512\",\"Multiple\",\"SHA-256\",\"X11\",\"SHA-256\",\"Scrypt\",\"X15\",\"X11\",\"SHA-256\",\"X13\",\"X13\",\"Scrypt\",\"Scrypt\",\"Scrypt\",\"SHA-256\",\"Multiple\",\"Scrypt\",\"SHA-256\",\"Scrypt\",\"Scrypt\",\"Quark\",\"Groestl\",\"Scrypt\",\"X11\",\"Scrypt\",\"Scrypt\",\"Scrypt\",\"Scrypt\",\"Scrypt\",\"Scrypt\",\"Multiple\",\"Scrypt\",\"X11\",\"Scrypt\",\"Groestl\",\"Multiple\",\"X11\",\"Scrypt\",\"SHA-256\",\"Scrypt\",\"Scrypt\",\"Scrypt\",\"Scrypt\",\"Scrypt\",\"Scrypt\",\"X11\",\"NIST5\",\"SHA-256\",\"Scrypt\",\"NeoScrypt\",\"Scrypt\",\"Scrypt\",\"Scrypt\",\"X11\",\"Scrypt\",\"Multiple\",\"Scrypt\",\"X11\",\"SHA-256\",\"X11\",\"X13\",\"Scrypt\",\"Scrypt\",\"Scrypt\",\"Scrypt\",\"X11\",\"SHA3\",\"Scrypt\",\"HybridScryptHash256\",\"Scrypt\",\"SHA-256\",\"Scrypt\",\"SHA-256\",\"Scrypt\",\"SHA-256\",\"Scrypt\",\"NeoScrypt\",\"Scrypt\",\"Scrypt\",\"Scrypt\",\"Scrypt\",\"Scrypt\",\"X15\",\"Scrypt\",\"Scrypt\",\"Scrypt-n\",\"Scrypt\",\"X11\",\"SHA-256\",\"Multiple\",\"SHA-256\",\"PHI1612\",\"X11\",\"SHA-256\",\"SHA-256\",\"SHA-256\",\"SHA-256\",\"Scrypt\",\"Scrypt\",\"Scrypt\",\"Lyra2REv2\",\"Scrypt\",\"Scrypt\",\"X11\",\"SHA-256\",\"Scrypt\",\"Scrypt\",\"CryptoNight\",\"CryptoNight\",\"Shabal256\",\"Counterparty\",\"Scrypt\",\"SHA-256\",\"SHA-256\",\"Scrypt\",\"Scrypt\",\"Scrypt\",\"X13\",\"Scrypt\",\"Scrypt\",\"Scrypt\",\"SHA-256\",\"X13\",\"X13\",\"Scrypt\",\"X11\",\"Momentum\",\"Stanford Folding\",\"X11\",\"Scrypt\",\"Scrypt\",\"Scrypt\",\"M7 POW\",\"Scrypt\",\"X11\",\"Scrypt\",\"SHA-256\",\"Scrypt\",\"X11\",\"SHA3\",\"X11\",\"Lyra2RE\",\"SHA-256\",\"QUAIT\",\"X11\",\"Scrypt\",\"Scrypt\",\"Scrypt\",\"Ethash\",\"X11\",\"X13\",\"SHA-256\",\"X13\",\"X15\",\"X11\",\"SHA-256\",\"BLAKE256\",\"Scrypt\",\"Scrypt\",\"1GB AES Pattern Search\",\"SHA-256\",\"X11\",\"Scrypt\",\"CryptoNight\",\"SHA-256\",\"Quark\",\"SHA-256\",\"Blake\",\"Scrypt\",\"Scrypt\",\"SHA-256\",\"X11\",\"Scrypt\",\"Scrypt-n\",\"X11\",\"Scrypt\",\"Dagger\",\"Scrypt\",\"SHA-256\",\"CryptoNight-Lite\",\"X11GOST\",\"X11\",\"SHA-256\",\"Scrypt\",\"SHA-256\",\"Scrypt\",\"PoS\",\"Scrypt\",\"X11\",\"X11\",\"X11\",\"X11\",\"PoS\",\"SHA-256\",\"SHA-256\",\"SHA-256\",\"NIST5\",\"X15\",\"X11\",\"NIST5\",\"Scrypt\",\"Scrypt\",\"Scrypt\",\"POS 3.0\",\"Scrypt\",\"Scrypt\",\"Scrypt\",\"X13\",\"X11\",\"X11\",\"Equihash\",\"X11\",\"X11\",\"Scrypt\",\"CryptoNight\",\"SHA-256\",\"SHA-256\",\"X11\",\"Scrypt\",\"Multiple\",\"Scrypt\",\"X11\",\"SHA-256\",\"Scrypt\",\"Scrypt\",\"SHA-256D\",\"PoS\",\"Scrypt\",\"X11\",\"Scrypt-n\",\"Lyra2Z\",\"SHA-256\",\"PoS\",\"X13\",\"Quark\",\"X14\",\"PoS\",\"SHA-256D\",\"Ethash\",\"SHA-256\",\"Equihash\",\"DPoS\",\"X11\",\"Scrypt\",\"Scrypt\",\"Equihash\",\"X11\",\"X13\",\"X11\",\"PoS\",\"SHA-256D\",\"Scrypt\",\"Scrypt\",\"Scrypt\",\"X11\",\"PoS\",\"X11\",\"SHA-256\",\"Scrypt\",\"X11\",\"Scrypt\",\"Scrypt\",\"X11\",\"CryptoNight\",\"Scrypt\",\"Scrypt\",\"Scrypt\",\"Scrypt\",\"Quark\",\"QuBit\",\"Scrypt\",\"CryptoNight\",\"X11\",\"Lyra2RE\",\"X13\",\"PoS\",\"Scrypt\",\"SHA-256\",\"X11\",\"X11\",\"X11\",\"Scrypt\",\"X11\",\"Scrypt\",\"Scrypt\",\"CryptoNight-V7\",\"Scrypt\",\"Scrypt\",\"Keccak\",\"Scrypt\",\"X13\",\"X11\",\"Equihash\",\"Scrypt\",\"Scrypt\",\"Lyra2RE\",\"Ethash\",\"X11\",\"Scrypt\",\"Dagger-Hashimoto\",\"X11\",\"Blake2S\",\"X11\",\"Scrypt\",\"Scrypt\",\"PoS\",\"X11\",\"NIST5\",\"PoS\",\"X11\",\"Scrypt\",\"Scrypt\",\"Scrypt\",\"Scrypt\",\"SHA-256\",\"X11\",\"Scrypt\",\"Scrypt\",\"Scrypt\",\"SHA-256\",\"PoS\",\"Scrypt\",\"X11\",\"X15\",\"SHA-256\",\"Scrypt\",\"POS 3.0\",\"CryptoNight-V7\",\"536\",\"Blake2b\",\"Cloverhash\",\"CryptoNight\",\"NIST5\",\"X11\",\"NIST5\",\"Skein\",\"Scrypt\",\"X13\",\"Scrypt\",\"X11\",\"X11\",\"X11\",\"Scrypt\",\"CryptoNight\",\"X13\",\"Time Travel\",\"Scrypt\",\"Keccak\",\"SkunkHash v2 Raptor\",\"X11\",\"Skein\",\"SHA-256\",\"X11\",\"Scrypt\",\"Scrypt\",\"VeChainThor Authority\",\"Scrypt\",\"PoS\",\"Scrypt\",\"Scrypt\",\"Scrypt\",\"Scrypt\",\"Scrypt\",\"Scrypt\",\"Scrypt\",\"CryptoNight\",\"SHA-512\",\"Ouroboros\",\"X11\",\"Equihash\",\"NeoScrypt\",\"X11\",\"Scrypt\",\"NeoScrypt\",\"Lyra2REv2\",\"Equihash\",\"Scrypt\",\"SHA-256\",\"NIST5\",\"PHI1612\",\"Dagger\",\"Scrypt\",\"Quark\",\"Scrypt\",\"POS 2.0\",\"Scrypt\",\"SkunkHash\",\"X11\",\"Quark\",\"SHA-256\",\"X11\",\"NeoScrypt\",\"Scrypt\",\"Ethash\",\"Scrypt\",\"NeoScrypt\",\"Quark\",\"X11\",\"DPoS\",\"NIST5\",\"X13\",\"Multiple\",\"Scrypt\",\"CryptoNight\",\"CryptoNight\",\"Ethash\",\"NIST5\",\"Quark\",\"X11\",\"SHA-256\",\"CryptoNight-V7\",\"Scrypt\",\"Scrypt\",\"Scrypt\",\"X11\",\"SHA-256\",\"BLAKE256\",\"X11\",\"Scrypt\",\"NeoScrypt\",\"Quark\",\"NeoScrypt\",\"Scrypt\",\"Scrypt\",\"Scrypt\",\"X11\",\"X11\",\"SHA-256\",\"C11\",\"Scrypt\",\"Scrypt\",\"POS 3.0\",\"Ethash\",\"Scrypt\",\"CryptoNight\",\"SkunkHash\",\"Scrypt\",\"CryptoNight\",\"Equihash\",\"Skein\",\"Scrypt\",\"Dagger\",\"Lyra2REv2\",\"X13\",\"Proof-of-BibleHash\",\"SHA-256 + Hive\",\"Scrypt\",\"Scrypt\",\"Scrypt\",\"NeoScrypt\",\"Equihash\",\"X11\",\"C11\",\"Proof-of-Authority\",\"X11\",\"XEVAN\",\"Scrypt\",\"VBFT\",\"Ethash\",\"X11\",\"CryptoNight\",\"NeoScrypt\",\"Scrypt\",\"IMesh\",\"NIST5\",\"Equihash\",\"Scrypt\",\"Scrypt\",\"Equihash\",\"Equihash\",\"Scrypt\",\"Lyra2Z\",\"Equihash\",\"Green Protocol\",\"PoS\",\"Scrypt\",\"Scrypt\",\"Semux BFT consensus\",\"Scrypt\",\"X11\",\"Quark\",\"PoS\",\"CryptoNight\",\"X16R\",\"Scrypt\",\"NIST5\",\"Lyra2RE\",\"XEVAN\",\"Tribus\",\"Scrypt\",\"Lyra2Z\",\"CryptoNight\",\"CryptoNight Heavy\",\"CryptoNight\",\"Scrypt\",\"Scrypt\",\"Jump Consistent Hash\",\"SHA-256D\",\"CryptoNight\",\"Scrypt\",\"X15\",\"Scrypt\",\"Quark\",\"SHA-256\",\"DPoS\",\"X16R\",\"HMQ1725\",\"X11\",\"X16R\",\"Quark\",\"Quark\",\"Scrypt\",\"Zhash\",\"Lyra2REv2\",\"Quark\",\"Scrypt\",\"Scrypt\",\"CryptoNight-V7\",\"Cryptonight-GPU\",\"Scrypt\",\"XEVAN\",\"CryptoNight Heavy\",\"X11\",\"X11\",\"Scrypt\",\"PoS\",\"Lyra2REv2\",\"Scrypt\",\"SHA-256\",\"Scrypt\",\"Keccak\",\"X11\",\"X11\",\"Quark\",\"Scrypt\",\"SHA-512\",\"X16R\",\"ECC 256K1\",\"NeoScrypt\",\"Equihash\",\"XEVAN\",\"Quark\",\"CryptoNight Heavy X\",\"Lyra2Z\",\"Ethash\",\"SHA-256\",\"XEVAN\",\"Ethash\",\"CryptoNight\",\"Quark\",\"SkunkHash\",\"Quark\",\"Argon2\",\"Blake\",\"Blake\",\"SHA-256\",\"Equihash\",\"Exosis\",\"Scrypt\",\"Scrypt\",\"Equihash\",\"Quark\",\"Equihash\",\"Quark\",\"Scrypt\",\"QuBit\",\"X11\",\"Scrypt\",\"Equihash1927\",\"XEVAN\",\"SHA-256D\",\"X11\",\"SHA-256\",\"SHA-256\",\"X13\",\"SHA-256\",\"X11\",\"DPoS\",\"X11\",\"Scrypt\",\"X11\",\"Scrypt\",\"NeoScrypt\",\"Scrypt\",\"Blake\",\"Scrypt\",\"SHA-256\",\"X11\",\"CryptoNight\",\"Scrypt\",\"Scrypt\",\"SHA-256\",\"X11\",\"SHA-256\",\"Scrypt\",\"CryptoNight\",\"Scrypt\",\"SHA-256\",\"Scrypt\",\"Groestl\",\"X11\",\"Scrypt\",\"PoS\",\"Scrypt\",\"Scrypt\",\"X11\",\"SHA-256\",\"DPoS\",\"Scrypt\",\"Scrypt\",\"Scrypt\",\"NeoScrypt\",\"Scrypt\",\"SHA3-256\",\"Multiple\",\"X13\",\"Equihash+Scrypt\",\"Ethash\",\"Ethash\",\"SHA-256\",\"Leased POS\",\"PoS\",\"TRC10\",\"PoS\",\"SHA-256\",\"Scrypt\",\"CryptoNight\",\"Equihash\",\"Scrypt\"],\"Class\":{\"__ndarray__\":\"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\",\"dtype\":\"float64\",\"order\":\"little\",\"shape\":[637]},\"CoinName\":[\"42 Coin\",\"404Coin\",\"EliteCoin\",\"Bitcoin\",\"Litecoin\",\"Dash\",\"Ethereum Classic\",\"ZCash\",\"Bitshares\",\"DigiByte\",\"BitcoinDark\",\"Bitstake\",\"PayCoin\",\"ProsperCoin\",\"KoboCoin\",\"Spreadcoin\",\"ACoin\",\"Aero Coin\",\"ApexCoin\",\"ArchCoin\",\"Argentum\",\"Aurora Coin\",\"BetaCoin\",\"MyriadCoin\",\"MoonCoin\",\"ZetaCoin\",\"SexCoin\",\"Quatloo\",\"QuarkCoin\",\"Riecoin\",\"Digitalcoin \",\"LimeCoinX\",\"BitBar\",\"BitMark\",\"CashCoin\",\"Catcoin\",\"CryptoBullion\",\"CannaCoin\",\"CinderCoin\",\"CoolCoin\",\"CryptCoin\",\"CasinoCoin\",\"Diamond\",\"Verge\",\"DarkCash\",\"DarkShibe\",\"DevCoin\",\"EarthCoin\",\"E-Gulden\",\"Elacoin\",\"Einsteinium\",\"Emerald\",\"Flappy Coin\",\"Fuel2Coin\",\"FIBRE\",\"FireRoosterCoin\",\"Franko\",\"FeatherCoin\",\"GrandCoin\",\"GlobalCoin\",\"GoldCoin\",\"GlyphCoin\",\"HoboNickels\",\"HunterCoin\",\"Infinite Coin\",\"IOCoin\",\"IXcoin\",\"JumBucks Coin\",\"JudgeCoin\",\"KrugerCoin\",\"LuckyCoin\",\"Litebar \",\"LitecoinDark\",\"LibrexCoin\",\"MaxCoin\",\"MegaCoin\",\"MediterraneanCoin\",\"MinCoin\",\"MazaCoin\",\"Nautilus Coin\",\"NoirBits\",\"NobleCoin\",\"Namecoin\",\"NyanCoin\",\"Orbitcoin\",\"PotCoin\",\"PhoenixCoin\",\"RipOffCoin\",\"RonPaulCoin\",\"StableCoin\",\"ShieldCoin\",\"SilkCoin\",\"SmartCoin\",\"SpainCoin\",\"SecureCoin\",\"SyncCoin\",\"SysCoin\",\"TeslaCoin\",\"TigerCoin\",\"TittieCoin\",\"TorCoin\",\"TerraCoin\",\"Umbrella\",\"UnbreakableCoin\",\"Unobtanium\",\"UnitaryStatus Dollar\",\"UltraCoin\",\"ViaCoin\",\"Vertcoin\",\"WorldCoin\",\"SocialXbotCoin\",\"X11 Coin\",\"JouleCoin\",\"XXXCoin\",\"ZCC Coin\",\"ByteCoin\",\"DigitalNote \",\"BurstCoin\",\"StorjCoin\",\"MonaCoin\",\"Neutron\",\"Sling Coin\",\"KryptCoin\",\"Gulden\",\"PesetaCoin\",\"Kore\",\"Wild Beast Coin\",\"Dnotes\",\"Flo\",\"MaieutiCoin\",\"Sativa Coin\",\"AeroMe\",\"ArtByte\",\"MasterTraderCoin\",\"BitCredit\",\"Folding Coin\",\"Ucoin\",\"OmniCron\",\"Vtorrent\",\"GreenCoin\",\"Cryptonite\",\"Gridmaster\",\"ConSpiracy Coin \",\"MasterCoin\",\"SoonCoin\",\"1Credit\",\"Quicksilver coin\",\"Nexus\",\"MarsCoin \",\"Crypto\",\"Anarchists Prime\",\"Droidz\",\"BowsCoin\",\"Song Coin\",\"BitZeny\",\"Diggits\",\"Expanse\",\"MapCoin\",\"Paycon\",\"Emercoin\",\"BlitzCoin\",\"EverGreenCoin\",\"MindCoin\",\"I0coin\",\"Decred\",\"DogeCoinDark\",\"Revolution VR\",\"HOdlcoin\",\"EDRCoin\",\"Hitcoin\",\"Gamecredits\",\"Dashcoin\",\"DubaiCoin\",\"BiosCrypto\",\"CarpeDiemCoin\",\"TrumpCoin\",\"BillaryCoin\",\"EthereumScrypt\",\"Phalanx\",\"SunShotCoin\",\"GPU Coin\",\"HempCoin\",\"Adzcoin\",\"VirtaCoin\",\"SoilCoin\",\"YoCoin\",\"Universal Currency\",\"AEON\",\"SibCoin\",\"EuropeCoin\",\"Anti Bitcoin\",\"ZeitCoin\",\"SwingCoin\",\"SafeExchangeCoin\",\"Nebuchadnezzar\",\"Francs\",\"BolivarCoin\",\"GIZMOcoin\",\"SecretCoin\",\"Ratecoin\",\"Digital Bullion Gold\",\"Revenu\",\"Clinton\",\"Clockcoin\",\"VIP Tokens\",\"OrlyCoin\",\"BitSend\",\"16BitCoin\",\"ChessCoin\",\"ReeCoin\",\"Omni\",\"Let it Ride\",\"PutinCoin\",\"iBankCoin\",\"Frankywillcoin\",\"MudraCoin\",\"PizzaCoin\",\"Lutetium Coin\",\"Komodo\",\"GoldBlocks\",\"WayCoin\",\"CarterCoin\",\"Karbo\",\"BitTokens\",\"ZayedCoin\",\"MustangCoin\",\"ZoneCoin\",\"Circuits of Value\",\"DopeCoin\",\"PROUD Money\",\"DollarCoin\",\"Swiscoin\",\"Shilling\",\"BuzzCoin\",\"Opair\",\"GBR Coin\",\"Halloween Coin\",\"FujiCoin\",\"ZCoin\",\"LeaCoin\",\"CoffeeCoin\",\"RoyalCoin\",\"Zurcoin\",\"GanjaCoin V2\",\"TeamUP\",\"LanaCoin\",\"Elementrem\",\"CashOut\",\"ZClassic\",\"ARK\",\"InsaneCoin\",\"LuckChain\",\"KiloCoin\",\"Hush\",\"ArtexCoin\",\"EmberCoin\",\"XenixCoin\",\"FreeCoin\",\"NPCcoin\",\"PLNCoin\",\"Icobid\",\"AquariusCoin\",\"Kurrent\",\"Creatio\",\"Eternity\",\"Eurocoin\",\"BitcoinFast\",\"Stakenet\",\"BitConnect Coin\",\"MoneyCoin\",\"Enigma\",\"Cannabis Industry Coin\",\"Russiacoin\",\"PandaCoin\",\"GameUnits\",\"GAKHcoin\",\"Allsafe\",\"LiteCreed\",\"OsmiumCoin\",\"Bikercoins\",\"NeptuneClassic\",\"HexxCoin\",\"GoldenBird\",\"Ride My Car\",\"Klingon Empire Darsek\",\"Internet of People\",\"KushCoin\",\"Eryllium\",\"MarxCoin\",\"Printerium\",\"PacCoin\",\"Impeach\",\"Solarflarecoin\",\"Citadel\",\"Zilbercoin\",\"FirstCoin\",\"CreativeChain\",\"BeaverCoin\",\"FindCoin\",\"VaultCoin\",\"Zero\",\"OpenChat\",\"Canada eCoin\",\"Zoin\",\"Musicoin\",\"BnrtxCoin\",\"RenosCoin\",\"DubaiCoin\",\"VirtacoinPlus\",\"TajCoin\",\"Impact\",\"EB3coin\",\"Universe\",\"Atmos\",\"HappyCoin\",\"Coinonat\",\"MacronCoin\",\"Condensate\",\"Independent Money System\",\"ArgusCoin\",\"LomoCoin\",\"Bitcoin Scrypt\",\"ProCurrency\",\"GoldReserve\",\"BenjiRolls\",\"ParallelCoin\",\"GrowthCoin\",\"ILCoin\",\"Phreak\",\"Degas Coin\",\"ZSEcoin\",\"HTML5 Coin\",\"Ultimate Secure Cash\",\"EquiTrader\",\"QTUM\",\"Quantum Resistant Ledger\",\"Espers\",\"Nano\",\"ChanCoin\",\"Dinastycoin\",\"Denarius\",\"DigitalPrice\",\"Virta Unique Coin\",\"Bitcoin Planet\",\"Unify\",\"BritCoin\",\"SocialCoin\",\"Octanox\",\"ArcticCoin\",\"DAS\",\"Linda\",\"LeviarCoin\",\"DeepOnion\",\"Bitcore\",\"gCn Coin\",\"SmartCash\",\"Signatum\",\"Onix\",\"Cream\",\"Bitcoin Cash\",\"Monoeci\",\"CampusCoin\",\"Draftcoin\",\"Vechain\",\"Sojourn Coin\",\"Stakecoin\",\"LiteBitcoin\",\"FrazCoin\",\"Kronecoin\",\"AdCoin\",\"Linx\",\"CoinonatX\",\"Ethereum Dark\",\"Sumokoin\",\"Obsidian\",\"Cardano\",\"Regalcoin\",\"BitcoinZ\",\"TrezarCoin\",\"Elements\",\"TerraNovaCoin\",\"VIVO Coin\",\"Rupee\",\"Bitcoin Gold\",\"WomenCoin\",\"Theresa May Coin\",\"NamoCoin\",\"LUXCoin\",\"Pirl\",\"Xios\",\"Bitcloud 2.0\",\"eBoost\",\"KekCoin\",\"BlackholeCoin\",\"AltCommunity Coin\",\"Pure\",\"Rupaya\",\"Infinity Economics\",\"Pura\",\"Innova\",\"Bitdeal\",\"Ellaism\",\"Sakuracoin\",\"GoByte\",\"Castle\",\"Magnet\",\"Lamden Tau\",\"Electra\",\"Bitcoin Diamond\",\"SHIELD\",\"Cash & Back Coin\",\"UltraNote\",\"BitCoal\",\"DaxxCoin\",\"Bulwark\",\"Kalkulus\",\"AC3\",\"CHIPS\",\"Lethean\",\"GermanCoin\",\"LiteCoin Ultra\",\"PopularCoin\",\"PhantomX\",\"HTML Coin\",\"Photon\",\"Sucre\",\"Fantasy Cash\",\"SparksPay\",\"Digiwage\",\"GunCoin\",\"IrishCoin\",\"Trollcoin\",\"Litecoin Plus\",\"Monkey Project\",\"Pioneer Coin\",\"UnitedBitcoin\",\"Interzone\",\"OP Coin\",\"Valorbit\",\"TokenPay\",\"1717 Masonic Commemorative Token\",\"My Big Coin\",\"TurtleCoin\",\"MUNcoin\",\"Unified Society USDEX\",\"Niobio Cash\",\"Bitcoin Private\",\"Skeincoin\",\"ShareChain\",\"Travelflex\",\"KREDS\",\"Tokyo Coin\",\"BiblePay\",\"LitecoinCash\",\"BitFlip\",\"LottoCoin\",\"LeafCoin\",\"Cerberus\",\"Bitcoin Hush\",\"Crypto Improvement Fund\",\"Stipend\",\"Poa Network\",\"Pushi\",\"Ellerium\",\"Velox\",\"Ontology\",\"Callisto Network\",\"Curium\",\"BitTube\",\"Dinero\",\"Poseidon\",\"Aidos Kuneen\",\"Bitspace\",\"Snowgem\",\"Briacoin\",\"Ignition\",\"Bitrolium\",\"Bitcoin Interest\",\"MedicCoin\",\"Alpenschillling\",\"Zelcash\",\"Bitcoin Green\",\"Deviant Coin\",\"Abjcoin\",\"Profit Hunters Coin\",\"Semux\",\"BitBlocks\",\"FuturoCoin\",\"Carebit\",\"Zealium\",\"Monero Classic\",\"Proton\",\"iDealCash\",\"Jumpcoin\",\"Infinex\",\"Bitcoin Incognito\",\"KEYCO\",\"HollyWoodCoin\",\"GINcoin\",\"PlatinCoin\",\"Loki\",\"Newton Coin\",\"Swisscoin\",\"Xt3ch\",\"MassGrid\",\"TheVig\",\"PluraCoin\",\"EmaratCoin\",\"Dekado\",\"Lynx\",\"Poseidon Quark\",\"BitcoinWSpectrum\",\"Muse\",\"Motion\",\"PlusOneCoin\",\"Axe\",\"Trivechain\",\"Dystem\",\"Giant\",\"Peony Coin\",\"SafeCoin\",\"Absolute Coin\",\"Vitae\",\"HexCoin\",\"TPCash\",\"Webchain\",\"Ryo\",\"MUSDcoin\",\"Urals Coin\",\"Qwertycoin\",\"ARENON\",\"EUNO\",\"MMOCoin\",\"Ketan\",\"NIX\",\"Safe Trade Coin\",\"Project Pai\",\"Mont Blanc\",\"XDNA\",\"PAXEX\",\"Azart\",\"Apollon\",\"ThunderStake\",\"Kcash\",\"Xchange\",\"Acute Angle Cloud\",\"Traid\",\"CrypticCoin\",\"Bettex coin\",\"ZestCoin\",\"X-CASH\",\"Actinium\",\"ETHER-1\",\"Bitcoin SV\",\"BitMoney\",\"Bitcoiin2Gen\",\"FREDEnergy\",\"Zenad\",\"C25 Coin\",\"HerbCoin\",\"Aquachain\",\"Universal Molecule\",\"Lithium\",\"Smart Bitcoin\",\"PirateCash\",\"Exosis\",\"Block-Logic\",\"Oduwa\",\"Beam\",\"Galilel\",\"Bithereum\",\"Crypto Sports\",\"Credit\",\"SLICE\",\"Dash Platinum\",\"Nasdacoin\",\"Vidulum\",\"Beetle Coin\",\"Titan Coin\",\"Award\",\"BlockStamp\",\"BLAST\",\"Bitcoin Rhodium\",\"GlobalToken\",\"Insane Coin\",\"ALAX\",\"The Freedom Coin\",\"LiteDoge\",\"Boolberry\",\"SolarCoin\",\"UFO Coin\",\"OrangeCoin\",\"BlakeCoin\",\"BitstarCoin\",\"NeosCoin\",\"PinkCoin\",\"FantomCoin \",\"Crypto Escudo\",\"AudioCoin\",\"IncaKoin\",\"Piggy Coin\",\"Crown Coin\",\"Genstake\",\"Quazar Coin\",\"SmileyCoin\",\"ParkByte\",\"XiaoMiCoin\",\"Groestlcoin\",\"CapriCoin\",\" ClubCoin\",\"Radium\",\"Bata\",\"Pakcoin\",\"Creditbit \",\"OKCash\",\"Lisk\",\"HiCoin\",\"WhiteCoin\",\"Dotcoin\",\"FriendshipCoin\",\"The Hempcoin\",\"Fiii\",\"JoinCoin\",\"Triangles Coin\",\"Vollar\",\"Reality Clash\",\"iOlite\",\"TigerCash\",\"Waves\",\"Particl\",\"BitTorrent\",\"Nxt\",\"ZEPHYR\",\"Gapcoin\",\"Beldex\",\"Horizen\",\"BitcoinPlus\"],\"ProofType\":[\"PoW/PoS\",\"PoW/PoS\",\"PoW/PoS\",\"PoW\",\"PoW\",\"PoW/PoS\",\"PoW\",\"PoW\",\"PoS\",\"PoW\",\"PoW/PoS\",\"PoW/PoS\",\"PoS\",\"PoW\",\"PoW/PoS\",\"PoW\",\"PoW\",\"PoS\",\"PoW/PoS\",\"PoS\",\"PoW\",\"PoW/PoS\",\"PoW\",\"PoW\",\"PoW\",\"PoW\",\"PoW\",\"PoW\",\"PoW\",\"PoW\",\"PoW\",\"PoW\",\"PoW/PoS\",\"PoW\",\"PoW/PoS\",\"PoW\",\"PoW/PoS\",\"PoW\",\"PoW/PoS\",\"PoS\",\"PoW\",\"PoC\",\"PoW/PoS\",\"PoW\",\"PoW/PoS\",\"PoW\",\"PoW\",\"PoW\",\"PoW\",\"PoW\",\"PoW\",\"PoW\",\"PoW\",\"PoS\",\"PoW/PoS\",\"PoW\",\"PoW\",\"PoW\",\"PoW\",\"PoW\",\"PoW\",\"PoW/PoS\",\"PoW/PoS\",\"PoW\",\"PoW\",\"PoW/PoS\",\"PoW\",\"PoW/PoS\",\"PoW/PoS\",\"PoW\",\"PoW\",\"PoW\",\"PoW\",\"PoW/PoS\",\"PoW/PoS\",\"PoW\",\"PoW\",\"PoW\",\"PoW/PoS\",\"PoS\",\"PoW\",\"PoW\",\"PoW\",\"PoW\",\"PoW/PoS\",\"PoW/PoS\",\"PoW/PoS\",\"PoW\",\"PoW\",\"PoW\",\"PoW/PoS\",\"PoW/PoS\",\"PoW\",\"PoW\",\"PoW\",\"PoW/PoS\",\"PoW\",\"PoS\",\"PoW\",\"PoS\",\"PoW/PoS\",\"PoW\",\"PoW\",\"PoW\",\"PoW\",\"PoW/PoS\",\"PoW/PoS\",\"PoW\",\"PoW\",\"PoW\",\"PoW/PoS\",\"PoW/PoS\",\"PoW\",\"PoW/PoS\",\"PoW/PoS\",\"PoW\",\"PoW\",\"PoC\",\"PoS\",\"PoW\",\"PoW/PoS\",\"PoW\",\"PoS\",\"PoW\",\"PoW\",\"PoW/PoS\",\"PoW\",\"PoS\",\"PoW\",\"PoS\",\"PoW/PoS\",\"PoW/PoS\",\"PoW\",\"PoW/PoS\",\"PoW\",\"PoW\",\"PoS\",\"PoW\",\"PoW/PoS\",\"PoW\",\"PoW\",\"PoW\",\"PoW\",\"PoW\",\"PoW\",\"PoW\",\"PoW\",\"PoW/nPoS\",\"PoW\",\"PoW\",\"PoW\",\"PoW/PoS\",\"PoW\",\"PoW\",\"PoW\",\"PoS\",\"PoW\",\"PoS\",\"PoW/PoS\",\"PoW/PoS\",\"PoS\",\"PoW/PoS\",\"PoW\",\"PoW\",\"PoW/PoS\",\"PoW\",\"PoW\",\"PoW\",\"PoW/PoS\",\"PoW/PoS\",\"PoW\",\"PoW\",\"PoW/PoS\",\"PoW/PoS\",\"PoW\",\"PoS\",\"PoW/PoS\",\"PoW/PoS\",\"PoW\",\"PoW\",\"PoS\",\"PoW\",\"PoW\",\"PoW\",\"PoW\",\"PoW\",\"PoW/PoS\",\"PoW\",\"PoW\",\"PoW/PoS\",\"PoW\",\"PoS\",\"PoW/PoS\",\"PoC\",\"PoS\",\"PoW\",\"PoW\",\"PoW/PoS\",\"PoW/PoS\",\"PoW/PoS\",\"PoS\",\"PoW/PoS\",\"PoW\",\"PoW/PoS\",\"PoW/PoS\",\"PoW/PoS\",\"PoW/PoS\",\"PoW/PoS\",\"PoW/PoS\",\"PoW/PoS\",\"PoW\",\"PoS\",\"PoW/PoS\",\"PoW/PoS\",\"PoW/PoS\",\"PoS\",\"PoW\",\"PoS\",\"dPoW/PoW\",\"PoW/PoS\",\"PoS\",\"PoW/PoS\",\"PoW\",\"PoW/PoS\",\"PoW\",\"PoW/PoS\",\"PoW/PoS\",\"PoW\",\"PoW\",\"PoW/PoS\",\"PoW\",\"PoW/PoW\",\"PoW\",\"PoW/PoS\",\"PoS\",\"PoW\",\"PoW/PoS\",\"PoW\",\"PoW\",\"PoW\",\"PoS\",\"PoS\",\"PoW\",\"PoW/PoS\",\"PoS\",\"PoW/PoS\",\"PoW\",\"PoW\",\"PoW\",\"DPoS\",\"PoW/PoS\",\"PoW/PoS\",\"PoW\",\"PoW\",\"PoW\",\"PoW/PoS\",\"PoW/PoS\",\"PoS\",\"PoW/PoS\",\"PoW/PoS\",\"PoW/PoS\",\"PoW/PoS\",\"PoW\",\"PoS\",\"PoW/PoS\",\"PoW/PoS\",\"PoW/PoS\",\"TPoS\",\"PoW/PoS\",\"PoW/PoS\",\"PoW/PoS\",\"PoW\",\"PoW/PoS\",\"PoS\",\"PoW/PoS\",\"PoW/PoS\",\"PoS\",\"PoW/PoS\",\"PoW\",\"PoW\",\"PoW/PoS\",\"PoW\",\"PoW/PoS\",\"PoS\",\"PoW/PoS\",\"PoW/PoS\",\"PoW/PoS\",\"PoW/PoS\",\"PoW\",\"PoW/PoS\",\"PoW\",\"PoW/PoS\",\"PoW\",\"PoW\",\"PoS\",\"PoW/PoS \",\"PoW\",\"PoW\",\"PoS\",\"PoW\",\"PoW\",\"PoW/PoS\",\"PoW\",\"PoW\",\"PoW\",\"PoW\",\"PoS\",\"PoW\",\"PoW/PoS\",\"PoW/PoS\",\"PoW/PoS\",\"PoW\",\"PoS\",\"PoS\",\"PoW/PoS\",\"PoW\",\"PoS\",\"PoW/PoS\",\"PoW/PoS\",\"PoW/PoS\",\"PoW/PoS\",\"PoW\",\"PoS\",\"PoW/PoS\",\"PoW\",\"PoW\",\"PoS\",\"PoW\",\"PoS\",\"PoW/PoS\",\"PoW/PoS\",\"PoW/PoS\",\"PoS\",\"PoW\",\"PoS\",\"PoW\",\"PoW/PoS\",\"PoW\",\"PoW\",\"PoW\",\"PoW/PoS\",\"PoW\",\"PoW/PoS\",\"PoW/PoS\",\"PoW\",\"PoW/PoS\",\"PoW\",\"PoW/PoS\",\"PoW\",\"PoW\",\"PoW/PoS\",\"PoW\",\"PoW/PoS\",\"PoW\",\"PoW\",\"PoW\",\"PoS\",\"PoW\",\"PoW/PoS\",\"PoW\",\"PoW/PoS\",\"PoW\",\"PoS\",\"Proof of Authority\",\"PoW\",\"PoS\",\"PoW\",\"PoW\",\"PoW\",\"PoW\",\"PoW\",\"PoW/PoS\",\"PoW/PoS\",\"PoW\",\"PoS\",\"PoS\",\"PoW/PoS\",\"PoW\",\"PoW/PoS\",\"PoW\",\"PoW/PoS\",\"PoW\",\"PoS\",\"PoW\",\"PoW/PoS\",\"PoW/PoS\",\"PoW/PoS\",\"PoW/PoS\",\"PoW\",\"PoW/PoS\",\"PoW/PoS\",\"PoW\",\"PoS\",\"PoW/PoS\",\"PoW/PoS\",\"PoW/PoS\",\"PoS\",\"PoS\",\"PoW\",\"PoW\",\"PoW\",\"PoW\",\"PoW\",\"PoW\",\"DPoS\",\"PoW/PoS\",\"DPoS\",\"PoW/PoS\",\"PoW/PoS\",\"PoW\",\"PoW/PoS\",\"PoW\",\"PoW\",\"PoW\",\"PoS\",\"PoS\",\"PoW\",\"PoW\",\"PoW\",\"PoW/PoS\",\"PoW/PoS\",\"PoW\",\"PoW/PoS\",\"PoW/PoS\",\"PoW\",\"PoW\",\"PoW/PoS\",\"PoW\",\"PoS\",\"PoW\",\"PoW\",\"PoW/PoS\",\"PoW/PoS\",\"PoS\",\"PoW\",\"PoW\",\"PoW\",\"PoW/PoS\",\"PoW/PoS\",\"PoS\",\"PoS\",\"PoW and PoS\",\"PoW\",\"PoW\",\"PoW/PoS\",\"PoW\",\"PoW\",\"PoW\",\"PoW\",\"PoW\",\"PoW\",\"PoS\",\"POBh\",\"PoW + Hive\",\"PoW\",\"PoW\",\"PoW\",\"PoW\",\"PoW\",\"PoW\",\"PoW/PoS\",\"PoA\",\"PoW/PoS\",\"PoW/PoS\",\"PoS\",\"PoS\",\"PoW\",\"PoW\",\"PoW\",\"PoW\",\"PoW\",\"PoW\",\"PoW/PoS\",\"PoW\",\"PoW/PoS\",\"PoW/PoS\",\"PoW\",\"PoW\",\"PoS\",\"PoW\",\"PoW/PoS\",\"PoS\",\"PoS\",\"PoW/PoS\",\"PoW/PoS\",\"DPoS\",\"PoW/PoS\",\"PoW\",\"PoW/PoS\",\"PoS\",\"PoW\",\"PoS\",\"PoW/PoS\",\"PoW\",\"PoW\",\"PoS/PoW\",\"PoW\",\"PoS\",\"PoW\",\"PoW\",\"PoW\",\"PoW\",\"PoW/PoS\",\"PoS\",\"PoW\",\"PoW/PoS\",\"PoW\",\"PoW/PoS\",\"PoS\",\"HPoW\",\"PoS\",\"PoS\",\"PoS\",\"PoW\",\"PoW\",\"PoW\",\"PoW/PoS\",\"PoS\",\"PoW/PoS\",\"PoS\",\"PoW/PoS\",\"PoW/PoS\",\"PoS\",\"PoW\",\"PoW/PoS\",\"PoW\",\"PoW\",\"PoW/PoS\",\"PoW\",\"PoW\",\"PoS\",\"PoW/PoS\",\"PoS\",\"PoS\",\"PoW\",\"PoS\",\"PoW\",\"PoS\",\"PoW/PoS\",\"PoS\",\"PoW\",\"PoW/PoS\",\"PoW/PoS\",\"Zero-Knowledge Proof\",\"PoW\",\"DPOS\",\"PoW/PoS\",\"PoW\",\"PoS\",\"PoW\",\"PoW\",\"PoW\",\"PoW\",\"PoW\",\"Pos\",\"PoW\",\"PoW\",\"POS / MN\",\"PoW\",\"PoW/PoS\",\"PoW\",\"PoW\",\"PoW\",\"PoW\",\"PoS\",\"PoW\",\"PoW\",\"PoW/PoS\",\"PoW\",\"PoW/PoS\",\"PoW\",\"PoS\",\"PoW/PoS\",\"PoW\",\"PoS\",\"PoW/PoS\",\"PoW\",\"PoW/PoS\",\"PoW/PoS\",\"PoW/PoS\",\"PoW\",\"PoW\",\"PoW\",\"PoW\",\"PoW/PoS\",\"DPoS\",\"PoS\",\"PoW/PoS\",\"PoW\",\"PoW\",\"PoW\",\"PoW/PoS\",\"PoW\",\"PoW/PoS\",\"PoS\",\"PoW/PoS\",\"PoW\",\"PoW\",\"PoW/PoS\",\"PoW/PoS\",\"PoW/PoS\",\"PoW\",\"PoW/PoS\",\"PoW\",\"PoW\",\"PoW/PoS\",\"PoW/PoS\",\"PoW\",\"PoW/PoS\",\"PoW/PoS\",\"PoS\",\"PoW\",\"PoW\",\"Proof of Trust\",\"PoW/PoS\",\"DPoS\",\"PoS\",\"PoW/PoS\",\"PoW\",\"PoW/PoS\",\"PoW/PoS\",\"DPoC\",\"PoW\",\"PoW/PoS\",\"PoW\",\"PoW\",\"PoW\",\"PoS\",\"LPoS\",\"PoS\",\"DPoS\",\"PoS/LPoS\",\"DPoS\",\"PoW/PoS\",\"PoW\",\"PoW\",\"PoS\"],\"TotalCoinSupply\":{\"__ndarray__\":\"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\",\"dtype\":\"float64\",\"order\":\"little\",\"shape\":[637]},\"TotalCoinsMined\":{\"__ndarray__\":\"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\",\"dtype\":\"float64\",\"order\":\"little\",\"shape\":[637]}},\"selected\":{\"id\":\"1123\"},\"selection_policy\":{\"id\":\"1157\"}},\"id\":\"1122\",\"type\":\"ColumnDataSource\"},{\"attributes\":{},\"id\":\"1125\",\"type\":\"StringEditor\"},{\"attributes\":{\"format\":\"0,0.0[00000]\"},\"id\":\"1139\",\"type\":\"NumberFormatter\"},{\"attributes\":{\"columns\":[{\"id\":\"1126\"},{\"id\":\"1131\"},{\"id\":\"1136\"},{\"id\":\"1141\"},{\"id\":\"1146\"},{\"id\":\"1151\"}],\"height\":300,\"reorderable\":false,\"source\":{\"id\":\"1122\"},\"view\":{\"id\":\"1156\"},\"width\":700},\"id\":\"1154\",\"type\":\"DataTable\"},{\"attributes\":{\"children\":[{\"id\":\"1121\"},{\"id\":\"1154\"},{\"id\":\"1161\"}],\"margin\":[0,0,0,0],\"name\":\"Row01823\",\"tags\":[\"embedded\"]},\"id\":\"1120\",\"type\":\"Row\"},{\"attributes\":{\"editor\":{\"id\":\"1125\"},\"field\":\"CoinName\",\"formatter\":{\"id\":\"1124\"},\"title\":\"CoinName\"},\"id\":\"1126\",\"type\":\"TableColumn\"},{\"attributes\":{\"editor\":{\"id\":\"1150\"},\"field\":\"Class\",\"formatter\":{\"id\":\"1149\"},\"title\":\"Class\"},\"id\":\"1151\",\"type\":\"TableColumn\"},{\"attributes\":{},\"id\":\"1129\",\"type\":\"StringFormatter\"},{\"attributes\":{},\"id\":\"1150\",\"type\":\"NumberEditor\"},{\"attributes\":{\"editor\":{\"id\":\"1145\"},\"field\":\"TotalCoinsMined\",\"formatter\":{\"id\":\"1144\"},\"title\":\"TotalCoinsMined\"},\"id\":\"1146\",\"type\":\"TableColumn\"},{\"attributes\":{\"margin\":[5,5,5,5],\"name\":\"HSpacer01827\",\"sizing_mode\":\"stretch_width\"},\"id\":\"1121\",\"type\":\"Spacer\"},{\"attributes\":{},\"id\":\"1130\",\"type\":\"StringEditor\"},{\"attributes\":{},\"id\":\"1140\",\"type\":\"NumberEditor\"},{\"attributes\":{\"format\":\"0,0.0[00000]\"},\"id\":\"1144\",\"type\":\"NumberFormatter\"}],\"root_ids\":[\"1120\"]},\"title\":\"Bokeh Application\",\"version\":\"2.3.0\"}};\n",
       "    var render_items = [{\"docid\":\"e4dfd042-9a95-4144-b96d-2b71b4e97b4a\",\"root_ids\":[\"1120\"],\"roots\":{\"1120\":\"23344e37-b454-41d9-9919-13932d4b4095\"}}];\n",
       "    root.Bokeh.embed.embed_items_notebook(docs_json, render_items);\n",
       "  }\n",
       "  if (root.Bokeh !== undefined && root.Bokeh.Panel !== undefined) {\n",
       "    embed_document(root);\n",
       "  } else {\n",
       "    var attempts = 0;\n",
       "    var timer = setInterval(function(root) {\n",
       "      if (root.Bokeh !== undefined && root.Bokeh.Panel !== undefined) {\n",
       "        clearInterval(timer);\n",
       "        embed_document(root);\n",
       "      } else if (document.readyState == \"complete\") {\n",
       "        attempts++;\n",
       "        if (attempts > 100) {\n",
       "          clearInterval(timer);\n",
       "          console.log(\"Bokeh: ERROR: Unable to run BokehJS code because BokehJS library is missing\");\n",
       "        }\n",
       "      }\n",
       "    }, 10, root)\n",
       "  }\n",
       "})(window);</script>"
      ],
      "text/plain": [
       ":Table   [CoinName,Algorithm,ProofType,TotalCoinSupply,TotalCoinsMined,Class]"
      ]
     },
     "execution_count": 210,
     "metadata": {
      "application/vnd.holoviews_exec.v0+json": {
       "id": "1120"
      }
     },
     "output_type": "execute_result"
    }
   ],
   "source": [
    "# Table with tradable cryptos\n",
    "# df.hvplot.table(columns=['origin', 'name', 'yr'], sortable=True, selectable=True)\n",
    "col_list = [\"CoinName\", \"Algorithm\", \"ProofType\", \"TotalCoinSupply\", \"TotalCoinsMined\", \"Class\"]\n",
    "clustered_df.hvplot.table(columns =col_list)"
   ]
  },
  {
   "cell_type": "code",
   "execution_count": null,
   "metadata": {},
   "outputs": [],
   "source": [
    "# Print the total number of tradable cryptocurrencies\n",
    "print (f'Total Tradable Cr)"
   ]
  },
  {
   "cell_type": "markdown",
   "metadata": {},
   "source": [
    "#### Scatter Plot with Tradable Cryptocurrencies"
   ]
  },
  {
   "cell_type": "code",
   "execution_count": null,
   "metadata": {},
   "outputs": [],
   "source": [
    "# Scale data to create the scatter plot\n"
   ]
  },
  {
   "cell_type": "code",
   "execution_count": null,
   "metadata": {},
   "outputs": [],
   "source": [
    "# Plot the scatter with x=\"TotalCoinsMined\" and y=\"TotalCoinSupply\"\n"
   ]
  },
  {
   "cell_type": "markdown",
   "metadata": {},
   "source": [
    "## questions what are:\n",
    "number of tradable cryptocurrencies\n",
    "keep only the cryptocurrencies with a working algorithm."
   ]
  },
  {
   "cell_type": "code",
   "execution_count": null,
   "metadata": {},
   "outputs": [],
   "source": []
  }
 ],
 "metadata": {
  "file_extension": ".py",
  "kernelspec": {
   "display_name": "Python [conda env:root]",
   "language": "python",
   "name": "conda-root-py"
  },
  "language_info": {
   "codemirror_mode": {
    "name": "ipython",
    "version": 3
   },
   "file_extension": ".py",
   "mimetype": "text/x-python",
   "name": "python",
   "nbconvert_exporter": "python",
   "pygments_lexer": "ipython3",
   "version": "3.7.10"
  },
  "mimetype": "text/x-python",
  "name": "python",
  "npconvert_exporter": "python",
  "pygments_lexer": "ipython3",
  "version": 3
 },
 "nbformat": 4,
 "nbformat_minor": 4
}

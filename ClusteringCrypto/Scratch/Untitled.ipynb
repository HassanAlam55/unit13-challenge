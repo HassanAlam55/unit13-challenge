{
 "cells": [
  {
   "cell_type": "code",
   "execution_count": 1,
   "metadata": {},
   "outputs": [
    {
     "name": "stdout",
     "output_type": "stream",
     "text": [
      "Collecting altair\n",
      "  Downloading altair-4.1.0-py3-none-any.whl (727 kB)\n",
      "Requirement already satisfied, skipping upgrade: entrypoints in c:\\users\\hassan\\anaconda3\\envs\\pyvizenv\\lib\\site-packages (from altair) (0.3)\n",
      "Requirement already satisfied, skipping upgrade: numpy in c:\\users\\hassan\\anaconda3\\envs\\pyvizenv\\lib\\site-packages (from altair) (1.19.5)\n",
      "Requirement already satisfied, skipping upgrade: toolz in c:\\users\\hassan\\anaconda3\\envs\\pyvizenv\\lib\\site-packages (from altair) (0.11.1)\n",
      "Requirement already satisfied, skipping upgrade: jsonschema in c:\\users\\hassan\\anaconda3\\envs\\pyvizenv\\lib\\site-packages (from altair) (3.2.0)\n",
      "Requirement already satisfied, skipping upgrade: jinja2 in c:\\users\\hassan\\anaconda3\\envs\\pyvizenv\\lib\\site-packages (from altair) (2.11.2)\n",
      "Requirement already satisfied, skipping upgrade: pandas>=0.18 in c:\\users\\hassan\\anaconda3\\envs\\pyvizenv\\lib\\site-packages (from altair) (0.25.0)\n",
      "Requirement already satisfied, skipping upgrade: six>=1.11.0 in c:\\users\\hassan\\appdata\\roaming\\python\\python37\\site-packages (from jsonschema->altair) (1.15.0)\n",
      "Requirement already satisfied, skipping upgrade: importlib-metadata; python_version < \"3.8\" in c:\\users\\hassan\\anaconda3\\envs\\pyvizenv\\lib\\site-packages (from jsonschema->altair) (2.0.0)\n",
      "Requirement already satisfied, skipping upgrade: pyrsistent>=0.14.0 in c:\\users\\hassan\\anaconda3\\envs\\pyvizenv\\lib\\site-packages (from jsonschema->altair) (0.17.3)\n",
      "Requirement already satisfied, skipping upgrade: setuptools in c:\\users\\hassan\\anaconda3\\envs\\pyvizenv\\lib\\site-packages (from jsonschema->altair) (50.3.1.post20201107)\n",
      "Requirement already satisfied, skipping upgrade: attrs>=17.4.0 in c:\\users\\hassan\\anaconda3\\envs\\pyvizenv\\lib\\site-packages (from jsonschema->altair) (20.3.0)\n",
      "Requirement already satisfied, skipping upgrade: MarkupSafe>=0.23 in c:\\users\\hassan\\anaconda3\\envs\\pyvizenv\\lib\\site-packages (from jinja2->altair) (1.1.1)\n",
      "Requirement already satisfied, skipping upgrade: pytz>=2017.2 in c:\\users\\hassan\\anaconda3\\envs\\pyvizenv\\lib\\site-packages (from pandas>=0.18->altair) (2020.1)\n",
      "Requirement already satisfied, skipping upgrade: python-dateutil>=2.6.1 in c:\\users\\hassan\\appdata\\roaming\\python\\python37\\site-packages (from pandas>=0.18->altair) (2.8.1)\n",
      "Requirement already satisfied, skipping upgrade: zipp>=0.5 in c:\\users\\hassan\\anaconda3\\envs\\pyvizenv\\lib\\site-packages (from importlib-metadata; python_version < \"3.8\"->jsonschema->altair) (3.4.0)\n",
      "Installing collected packages: altair\n",
      "Successfully installed altair-4.1.0\n"
     ]
    }
   ],
   "source": [
    "!pip install -U altair"
   ]
  },
  {
   "cell_type": "code",
   "execution_count": null,
   "metadata": {},
   "outputs": [],
   "source": []
  }
 ],
 "metadata": {
  "kernelspec": {
   "display_name": "Python [conda env:pyvizenv] *",
   "language": "python",
   "name": "conda-env-pyvizenv-py"
  },
  "language_info": {
   "codemirror_mode": {
    "name": "ipython",
    "version": 3
   },
   "file_extension": ".py",
   "mimetype": "text/x-python",
   "name": "python",
   "nbconvert_exporter": "python",
   "pygments_lexer": "ipython3",
   "version": "3.7.9"
  }
 },
 "nbformat": 4,
 "nbformat_minor": 4
}

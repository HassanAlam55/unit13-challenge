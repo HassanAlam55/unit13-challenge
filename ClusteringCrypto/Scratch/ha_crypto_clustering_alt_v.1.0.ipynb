{
 "cells": [
  {
   "cell_type": "markdown",
   "metadata": {},
   "source": [
    "# Clustering Crypto"
   ]
  },
  {
   "cell_type": "code",
   "execution_count": 69,
   "metadata": {},
   "outputs": [],
   "source": [
    "# Initial imports\n",
    "import requests\n",
    "import pandas as pd\n",
    "import matplotlib.pyplot as plt\n",
    "import hvplot.pandas\n",
    "import plotly.express as px\n",
    "from sklearn.preprocessing import StandardScaler, MinMaxScaler\n",
    "from sklearn.decomposition import PCA\n",
    "from sklearn.cluster import KMeans"
   ]
  },
  {
   "cell_type": "code",
   "execution_count": 70,
   "metadata": {},
   "outputs": [],
   "source": [
    "import numpy as np"
   ]
  },
  {
   "cell_type": "markdown",
   "metadata": {},
   "source": [
    "### additional imports"
   ]
  },
  {
   "cell_type": "code",
   "execution_count": 105,
   "metadata": {},
   "outputs": [],
   "source": [
    "from pathlib import Path\n",
    "# import holoviews.plotting.bokeh\n",
    "# import holoviews as hv\n",
    "# hv.extension('bokeh')\n",
    "# from bokeh.plotting import show\n",
    "import altair as alt\n",
    "# from vega_datasets import data"
   ]
  },
  {
   "cell_type": "markdown",
   "metadata": {},
   "source": [
    "### Fetching Cryptocurrency Data"
   ]
  },
  {
   "cell_type": "code",
   "execution_count": 72,
   "metadata": {},
   "outputs": [],
   "source": [
    "# Use the following endpoint to fetch json data\n",
    "url = \"https://min-api.cryptocompare.com/data/all/coinlist\""
   ]
  },
  {
   "cell_type": "code",
   "execution_count": 73,
   "metadata": {},
   "outputs": [],
   "source": [
    "# Create a DataFrame \n",
    "# HINT: You will need to use the 'Data' key from the json response, then transpose the DataFrame."
   ]
  },
  {
   "cell_type": "code",
   "execution_count": 74,
   "metadata": {},
   "outputs": [],
   "source": [
    "# Alternatively, use the provided csv file:\n",
    "file_path = Path(\"Resources/crypto_data.csv\")\n",
    "\n",
    "# Create a DataFrame\n",
    "df = pd.read_csv(file_path)"
   ]
  },
  {
   "cell_type": "code",
   "execution_count": 75,
   "metadata": {},
   "outputs": [
    {
     "data": {
      "text/html": [
       "<div>\n",
       "<style scoped>\n",
       "    .dataframe tbody tr th:only-of-type {\n",
       "        vertical-align: middle;\n",
       "    }\n",
       "\n",
       "    .dataframe tbody tr th {\n",
       "        vertical-align: top;\n",
       "    }\n",
       "\n",
       "    .dataframe thead th {\n",
       "        text-align: right;\n",
       "    }\n",
       "</style>\n",
       "<table border=\"1\" class=\"dataframe\">\n",
       "  <thead>\n",
       "    <tr style=\"text-align: right;\">\n",
       "      <th></th>\n",
       "      <th>Unnamed: 0</th>\n",
       "      <th>CoinName</th>\n",
       "      <th>Algorithm</th>\n",
       "      <th>IsTrading</th>\n",
       "      <th>ProofType</th>\n",
       "      <th>TotalCoinsMined</th>\n",
       "      <th>TotalCoinSupply</th>\n",
       "    </tr>\n",
       "  </thead>\n",
       "  <tbody>\n",
       "    <tr>\n",
       "      <th>0</th>\n",
       "      <td>42</td>\n",
       "      <td>42 Coin</td>\n",
       "      <td>Scrypt</td>\n",
       "      <td>True</td>\n",
       "      <td>PoW/PoS</td>\n",
       "      <td>4.199995e+01</td>\n",
       "      <td>42</td>\n",
       "    </tr>\n",
       "    <tr>\n",
       "      <th>1</th>\n",
       "      <td>365</td>\n",
       "      <td>365Coin</td>\n",
       "      <td>X11</td>\n",
       "      <td>True</td>\n",
       "      <td>PoW/PoS</td>\n",
       "      <td>NaN</td>\n",
       "      <td>2300000000</td>\n",
       "    </tr>\n",
       "    <tr>\n",
       "      <th>2</th>\n",
       "      <td>404</td>\n",
       "      <td>404Coin</td>\n",
       "      <td>Scrypt</td>\n",
       "      <td>True</td>\n",
       "      <td>PoW/PoS</td>\n",
       "      <td>1.055185e+09</td>\n",
       "      <td>532000000</td>\n",
       "    </tr>\n",
       "    <tr>\n",
       "      <th>3</th>\n",
       "      <td>611</td>\n",
       "      <td>SixEleven</td>\n",
       "      <td>SHA-256</td>\n",
       "      <td>True</td>\n",
       "      <td>PoW</td>\n",
       "      <td>NaN</td>\n",
       "      <td>611000</td>\n",
       "    </tr>\n",
       "    <tr>\n",
       "      <th>4</th>\n",
       "      <td>808</td>\n",
       "      <td>808</td>\n",
       "      <td>SHA-256</td>\n",
       "      <td>True</td>\n",
       "      <td>PoW/PoS</td>\n",
       "      <td>0.000000e+00</td>\n",
       "      <td>0</td>\n",
       "    </tr>\n",
       "  </tbody>\n",
       "</table>\n",
       "</div>"
      ],
      "text/plain": [
       "  Unnamed: 0   CoinName Algorithm  IsTrading ProofType  TotalCoinsMined  \\\n",
       "0         42    42 Coin    Scrypt       True   PoW/PoS     4.199995e+01   \n",
       "1        365    365Coin       X11       True   PoW/PoS              NaN   \n",
       "2        404    404Coin    Scrypt       True   PoW/PoS     1.055185e+09   \n",
       "3        611  SixEleven   SHA-256       True       PoW              NaN   \n",
       "4        808        808   SHA-256       True   PoW/PoS     0.000000e+00   \n",
       "\n",
       "  TotalCoinSupply  \n",
       "0              42  \n",
       "1      2300000000  \n",
       "2       532000000  \n",
       "3          611000  \n",
       "4               0  "
      ]
     },
     "execution_count": 75,
     "metadata": {},
     "output_type": "execute_result"
    }
   ],
   "source": [
    "df.head(5)"
   ]
  },
  {
   "cell_type": "markdown",
   "metadata": {},
   "source": [
    "### Data Preprocessing"
   ]
  },
  {
   "cell_type": "code",
   "execution_count": 76,
   "metadata": {},
   "outputs": [
    {
     "data": {
      "text/html": [
       "<div>\n",
       "<style scoped>\n",
       "    .dataframe tbody tr th:only-of-type {\n",
       "        vertical-align: middle;\n",
       "    }\n",
       "\n",
       "    .dataframe tbody tr th {\n",
       "        vertical-align: top;\n",
       "    }\n",
       "\n",
       "    .dataframe thead th {\n",
       "        text-align: right;\n",
       "    }\n",
       "</style>\n",
       "<table border=\"1\" class=\"dataframe\">\n",
       "  <thead>\n",
       "    <tr style=\"text-align: right;\">\n",
       "      <th></th>\n",
       "      <th>CoinName</th>\n",
       "      <th>Algorithm</th>\n",
       "      <th>IsTrading</th>\n",
       "      <th>ProofType</th>\n",
       "      <th>TotalCoinsMined</th>\n",
       "      <th>TotalCoinSupply</th>\n",
       "    </tr>\n",
       "  </thead>\n",
       "  <tbody>\n",
       "    <tr>\n",
       "      <th>0</th>\n",
       "      <td>42 Coin</td>\n",
       "      <td>Scrypt</td>\n",
       "      <td>True</td>\n",
       "      <td>PoW/PoS</td>\n",
       "      <td>4.199995e+01</td>\n",
       "      <td>42</td>\n",
       "    </tr>\n",
       "    <tr>\n",
       "      <th>1</th>\n",
       "      <td>365Coin</td>\n",
       "      <td>X11</td>\n",
       "      <td>True</td>\n",
       "      <td>PoW/PoS</td>\n",
       "      <td>NaN</td>\n",
       "      <td>2300000000</td>\n",
       "    </tr>\n",
       "    <tr>\n",
       "      <th>2</th>\n",
       "      <td>404Coin</td>\n",
       "      <td>Scrypt</td>\n",
       "      <td>True</td>\n",
       "      <td>PoW/PoS</td>\n",
       "      <td>1.055185e+09</td>\n",
       "      <td>532000000</td>\n",
       "    </tr>\n",
       "    <tr>\n",
       "      <th>3</th>\n",
       "      <td>SixEleven</td>\n",
       "      <td>SHA-256</td>\n",
       "      <td>True</td>\n",
       "      <td>PoW</td>\n",
       "      <td>NaN</td>\n",
       "      <td>611000</td>\n",
       "    </tr>\n",
       "    <tr>\n",
       "      <th>4</th>\n",
       "      <td>808</td>\n",
       "      <td>SHA-256</td>\n",
       "      <td>True</td>\n",
       "      <td>PoW/PoS</td>\n",
       "      <td>0.000000e+00</td>\n",
       "      <td>0</td>\n",
       "    </tr>\n",
       "  </tbody>\n",
       "</table>\n",
       "</div>"
      ],
      "text/plain": [
       "    CoinName Algorithm  IsTrading ProofType  TotalCoinsMined TotalCoinSupply\n",
       "0    42 Coin    Scrypt       True   PoW/PoS     4.199995e+01              42\n",
       "1    365Coin       X11       True   PoW/PoS              NaN      2300000000\n",
       "2    404Coin    Scrypt       True   PoW/PoS     1.055185e+09       532000000\n",
       "3  SixEleven   SHA-256       True       PoW              NaN          611000\n",
       "4        808   SHA-256       True   PoW/PoS     0.000000e+00               0"
      ]
     },
     "execution_count": 76,
     "metadata": {},
     "output_type": "execute_result"
    }
   ],
   "source": [
    "# Keep only necessary columns:\n",
    "# 'CoinName','Algorithm','IsTrading','ProofType','TotalCoinsMined','TotalCoinSupply'\n",
    "crypto_df = df.iloc[: , 1:]\n",
    "crypto_df.head(5)"
   ]
  },
  {
   "cell_type": "code",
   "execution_count": 77,
   "metadata": {},
   "outputs": [],
   "source": [
    "# Keep only cryptocurrencies that are trading\n",
    "crypto_df = crypto_df [crypto_df['IsTrading'] == True]"
   ]
  },
  {
   "cell_type": "code",
   "execution_count": 78,
   "metadata": {},
   "outputs": [],
   "source": [
    "# Keep only cryptocurrencies with a working algorithm\n",
    "\n",
    "crypto_df.dropna(subset = ['Algorithm'], inplace = True)\n"
   ]
  },
  {
   "cell_type": "code",
   "execution_count": 79,
   "metadata": {},
   "outputs": [],
   "source": [
    "# Remove the \"IsTrading\" column\n",
    "crypto_df.drop('IsTrading', inplace = True, axis = 1)\n"
   ]
  },
  {
   "cell_type": "code",
   "execution_count": 80,
   "metadata": {},
   "outputs": [
    {
     "data": {
      "text/plain": [
       "CoinName             0\n",
       "Algorithm            0\n",
       "ProofType            0\n",
       "TotalCoinsMined    459\n",
       "TotalCoinSupply      0\n",
       "dtype: int64"
      ]
     },
     "execution_count": 80,
     "metadata": {},
     "output_type": "execute_result"
    }
   ],
   "source": [
    "crypto_df.isnull().sum()"
   ]
  },
  {
   "cell_type": "code",
   "execution_count": 81,
   "metadata": {},
   "outputs": [
    {
     "data": {
      "text/html": [
       "<div>\n",
       "<style scoped>\n",
       "    .dataframe tbody tr th:only-of-type {\n",
       "        vertical-align: middle;\n",
       "    }\n",
       "\n",
       "    .dataframe tbody tr th {\n",
       "        vertical-align: top;\n",
       "    }\n",
       "\n",
       "    .dataframe thead th {\n",
       "        text-align: right;\n",
       "    }\n",
       "</style>\n",
       "<table border=\"1\" class=\"dataframe\">\n",
       "  <thead>\n",
       "    <tr style=\"text-align: right;\">\n",
       "      <th></th>\n",
       "      <th>CoinName</th>\n",
       "      <th>Algorithm</th>\n",
       "      <th>ProofType</th>\n",
       "      <th>TotalCoinsMined</th>\n",
       "      <th>TotalCoinSupply</th>\n",
       "    </tr>\n",
       "  </thead>\n",
       "  <tbody>\n",
       "    <tr>\n",
       "      <th>0</th>\n",
       "      <td>42 Coin</td>\n",
       "      <td>Scrypt</td>\n",
       "      <td>PoW/PoS</td>\n",
       "      <td>4.199995e+01</td>\n",
       "      <td>42</td>\n",
       "    </tr>\n",
       "    <tr>\n",
       "      <th>2</th>\n",
       "      <td>404Coin</td>\n",
       "      <td>Scrypt</td>\n",
       "      <td>PoW/PoS</td>\n",
       "      <td>1.055185e+09</td>\n",
       "      <td>532000000</td>\n",
       "    </tr>\n",
       "    <tr>\n",
       "      <th>4</th>\n",
       "      <td>808</td>\n",
       "      <td>SHA-256</td>\n",
       "      <td>PoW/PoS</td>\n",
       "      <td>0.000000e+00</td>\n",
       "      <td>0</td>\n",
       "    </tr>\n",
       "    <tr>\n",
       "      <th>5</th>\n",
       "      <td>EliteCoin</td>\n",
       "      <td>X13</td>\n",
       "      <td>PoW/PoS</td>\n",
       "      <td>2.927942e+10</td>\n",
       "      <td>314159265359</td>\n",
       "    </tr>\n",
       "    <tr>\n",
       "      <th>7</th>\n",
       "      <td>Bitcoin</td>\n",
       "      <td>SHA-256</td>\n",
       "      <td>PoW</td>\n",
       "      <td>1.792718e+07</td>\n",
       "      <td>21000000</td>\n",
       "    </tr>\n",
       "  </tbody>\n",
       "</table>\n",
       "</div>"
      ],
      "text/plain": [
       "    CoinName Algorithm ProofType  TotalCoinsMined TotalCoinSupply\n",
       "0    42 Coin    Scrypt   PoW/PoS     4.199995e+01              42\n",
       "2    404Coin    Scrypt   PoW/PoS     1.055185e+09       532000000\n",
       "4        808   SHA-256   PoW/PoS     0.000000e+00               0\n",
       "5  EliteCoin       X13   PoW/PoS     2.927942e+10    314159265359\n",
       "7    Bitcoin   SHA-256       PoW     1.792718e+07        21000000"
      ]
     },
     "execution_count": 81,
     "metadata": {},
     "output_type": "execute_result"
    }
   ],
   "source": [
    "# Remove rows with at least 1 null value\n",
    "crypto_df.dropna(inplace = True)\n",
    "crypto_df.head()"
   ]
  },
  {
   "cell_type": "code",
   "execution_count": 82,
   "metadata": {},
   "outputs": [
    {
     "data": {
      "text/plain": [
       "CoinName            object\n",
       "Algorithm           object\n",
       "ProofType           object\n",
       "TotalCoinsMined    float64\n",
       "TotalCoinSupply    float64\n",
       "dtype: object"
      ]
     },
     "execution_count": 82,
     "metadata": {},
     "output_type": "execute_result"
    }
   ],
   "source": [
    "crypto_df.dtypes\n",
    "# df['a'] = pd.to_numeric(df['a'],errors = 'coerce')\n",
    "crypto_df['TotalCoinSupply'] = pd.to_numeric(crypto_df['TotalCoinSupply'] ,errors = 'coerce')\n",
    "crypto_df.dtypes"
   ]
  },
  {
   "cell_type": "code",
   "execution_count": 83,
   "metadata": {},
   "outputs": [
    {
     "data": {
      "text/html": [
       "<div>\n",
       "<style scoped>\n",
       "    .dataframe tbody tr th:only-of-type {\n",
       "        vertical-align: middle;\n",
       "    }\n",
       "\n",
       "    .dataframe tbody tr th {\n",
       "        vertical-align: top;\n",
       "    }\n",
       "\n",
       "    .dataframe thead th {\n",
       "        text-align: right;\n",
       "    }\n",
       "</style>\n",
       "<table border=\"1\" class=\"dataframe\">\n",
       "  <thead>\n",
       "    <tr style=\"text-align: right;\">\n",
       "      <th></th>\n",
       "      <th>CoinName</th>\n",
       "      <th>Algorithm</th>\n",
       "      <th>ProofType</th>\n",
       "      <th>TotalCoinsMined</th>\n",
       "      <th>TotalCoinSupply</th>\n",
       "    </tr>\n",
       "  </thead>\n",
       "  <tbody>\n",
       "    <tr>\n",
       "      <th>0</th>\n",
       "      <td>42 Coin</td>\n",
       "      <td>Scrypt</td>\n",
       "      <td>PoW/PoS</td>\n",
       "      <td>4.199995e+01</td>\n",
       "      <td>4.200000e+01</td>\n",
       "    </tr>\n",
       "    <tr>\n",
       "      <th>2</th>\n",
       "      <td>404Coin</td>\n",
       "      <td>Scrypt</td>\n",
       "      <td>PoW/PoS</td>\n",
       "      <td>1.055185e+09</td>\n",
       "      <td>5.320000e+08</td>\n",
       "    </tr>\n",
       "    <tr>\n",
       "      <th>5</th>\n",
       "      <td>EliteCoin</td>\n",
       "      <td>X13</td>\n",
       "      <td>PoW/PoS</td>\n",
       "      <td>2.927942e+10</td>\n",
       "      <td>3.141593e+11</td>\n",
       "    </tr>\n",
       "    <tr>\n",
       "      <th>7</th>\n",
       "      <td>Bitcoin</td>\n",
       "      <td>SHA-256</td>\n",
       "      <td>PoW</td>\n",
       "      <td>1.792718e+07</td>\n",
       "      <td>2.100000e+07</td>\n",
       "    </tr>\n",
       "    <tr>\n",
       "      <th>9</th>\n",
       "      <td>Litecoin</td>\n",
       "      <td>Scrypt</td>\n",
       "      <td>PoW</td>\n",
       "      <td>6.303924e+07</td>\n",
       "      <td>8.400000e+07</td>\n",
       "    </tr>\n",
       "  </tbody>\n",
       "</table>\n",
       "</div>"
      ],
      "text/plain": [
       "    CoinName Algorithm ProofType  TotalCoinsMined  TotalCoinSupply\n",
       "0    42 Coin    Scrypt   PoW/PoS     4.199995e+01     4.200000e+01\n",
       "2    404Coin    Scrypt   PoW/PoS     1.055185e+09     5.320000e+08\n",
       "5  EliteCoin       X13   PoW/PoS     2.927942e+10     3.141593e+11\n",
       "7    Bitcoin   SHA-256       PoW     1.792718e+07     2.100000e+07\n",
       "9   Litecoin    Scrypt       PoW     6.303924e+07     8.400000e+07"
      ]
     },
     "execution_count": 83,
     "metadata": {},
     "output_type": "execute_result"
    }
   ],
   "source": [
    "# Remove rows with cryptocurrencies having no coins mined\n",
    "crypto_df = crypto_df [crypto_df['TotalCoinSupply'] != 0]\n",
    "crypto_df.head(5)"
   ]
  },
  {
   "cell_type": "code",
   "execution_count": 84,
   "metadata": {},
   "outputs": [],
   "source": [
    "# create dataframe to add later\n",
    "coin_df = crypto_df.copy()"
   ]
  },
  {
   "cell_type": "code",
   "execution_count": 85,
   "metadata": {},
   "outputs": [],
   "source": [
    "# Drop rows where there are 'N/A' text values\n",
    "# aldready done..???"
   ]
  },
  {
   "cell_type": "code",
   "execution_count": 86,
   "metadata": {},
   "outputs": [
    {
     "data": {
      "text/html": [
       "<div>\n",
       "<style scoped>\n",
       "    .dataframe tbody tr th:only-of-type {\n",
       "        vertical-align: middle;\n",
       "    }\n",
       "\n",
       "    .dataframe tbody tr th {\n",
       "        vertical-align: top;\n",
       "    }\n",
       "\n",
       "    .dataframe thead th {\n",
       "        text-align: right;\n",
       "    }\n",
       "</style>\n",
       "<table border=\"1\" class=\"dataframe\">\n",
       "  <thead>\n",
       "    <tr style=\"text-align: right;\">\n",
       "      <th></th>\n",
       "      <th>CoinName</th>\n",
       "    </tr>\n",
       "  </thead>\n",
       "  <tbody>\n",
       "    <tr>\n",
       "      <th>0</th>\n",
       "      <td>42 Coin</td>\n",
       "    </tr>\n",
       "    <tr>\n",
       "      <th>2</th>\n",
       "      <td>404Coin</td>\n",
       "    </tr>\n",
       "    <tr>\n",
       "      <th>5</th>\n",
       "      <td>EliteCoin</td>\n",
       "    </tr>\n",
       "    <tr>\n",
       "      <th>7</th>\n",
       "      <td>Bitcoin</td>\n",
       "    </tr>\n",
       "    <tr>\n",
       "      <th>9</th>\n",
       "      <td>Litecoin</td>\n",
       "    </tr>\n",
       "  </tbody>\n",
       "</table>\n",
       "</div>"
      ],
      "text/plain": [
       "    CoinName\n",
       "0    42 Coin\n",
       "2    404Coin\n",
       "5  EliteCoin\n",
       "7    Bitcoin\n",
       "9   Litecoin"
      ]
     },
     "execution_count": 86,
     "metadata": {},
     "output_type": "execute_result"
    }
   ],
   "source": [
    "# Store the 'CoinName'column in its own DataFrame prior to dropping it from crypto_df\n",
    "coin_name = crypto_df.filter(['CoinName'], axis = 1)\n",
    "# df_CoinName.column = ['CoinName']\n",
    "coin_name.head()"
   ]
  },
  {
   "cell_type": "code",
   "execution_count": 87,
   "metadata": {},
   "outputs": [],
   "source": [
    "coin_name = crypto_df"
   ]
  },
  {
   "cell_type": "code",
   "execution_count": 88,
   "metadata": {},
   "outputs": [
    {
     "data": {
      "text/html": [
       "<div>\n",
       "<style scoped>\n",
       "    .dataframe tbody tr th:only-of-type {\n",
       "        vertical-align: middle;\n",
       "    }\n",
       "\n",
       "    .dataframe tbody tr th {\n",
       "        vertical-align: top;\n",
       "    }\n",
       "\n",
       "    .dataframe thead th {\n",
       "        text-align: right;\n",
       "    }\n",
       "</style>\n",
       "<table border=\"1\" class=\"dataframe\">\n",
       "  <thead>\n",
       "    <tr style=\"text-align: right;\">\n",
       "      <th></th>\n",
       "      <th>Algorithm</th>\n",
       "      <th>ProofType</th>\n",
       "      <th>TotalCoinsMined</th>\n",
       "      <th>TotalCoinSupply</th>\n",
       "    </tr>\n",
       "  </thead>\n",
       "  <tbody>\n",
       "    <tr>\n",
       "      <th>0</th>\n",
       "      <td>Scrypt</td>\n",
       "      <td>PoW/PoS</td>\n",
       "      <td>4.199995e+01</td>\n",
       "      <td>4.200000e+01</td>\n",
       "    </tr>\n",
       "    <tr>\n",
       "      <th>2</th>\n",
       "      <td>Scrypt</td>\n",
       "      <td>PoW/PoS</td>\n",
       "      <td>1.055185e+09</td>\n",
       "      <td>5.320000e+08</td>\n",
       "    </tr>\n",
       "    <tr>\n",
       "      <th>5</th>\n",
       "      <td>X13</td>\n",
       "      <td>PoW/PoS</td>\n",
       "      <td>2.927942e+10</td>\n",
       "      <td>3.141593e+11</td>\n",
       "    </tr>\n",
       "    <tr>\n",
       "      <th>7</th>\n",
       "      <td>SHA-256</td>\n",
       "      <td>PoW</td>\n",
       "      <td>1.792718e+07</td>\n",
       "      <td>2.100000e+07</td>\n",
       "    </tr>\n",
       "    <tr>\n",
       "      <th>9</th>\n",
       "      <td>Scrypt</td>\n",
       "      <td>PoW</td>\n",
       "      <td>6.303924e+07</td>\n",
       "      <td>8.400000e+07</td>\n",
       "    </tr>\n",
       "  </tbody>\n",
       "</table>\n",
       "</div>"
      ],
      "text/plain": [
       "  Algorithm ProofType  TotalCoinsMined  TotalCoinSupply\n",
       "0    Scrypt   PoW/PoS     4.199995e+01     4.200000e+01\n",
       "2    Scrypt   PoW/PoS     1.055185e+09     5.320000e+08\n",
       "5       X13   PoW/PoS     2.927942e+10     3.141593e+11\n",
       "7   SHA-256       PoW     1.792718e+07     2.100000e+07\n",
       "9    Scrypt       PoW     6.303924e+07     8.400000e+07"
      ]
     },
     "execution_count": 88,
     "metadata": {},
     "output_type": "execute_result"
    }
   ],
   "source": [
    "# Drop the 'CoinName' column since it's not going to be used on the clustering algorithm\n",
    "crypto_df.drop(['CoinName'], axis = 1, inplace = True)\n",
    "crypto_df.head()\n"
   ]
  },
  {
   "cell_type": "code",
   "execution_count": 89,
   "metadata": {},
   "outputs": [
    {
     "data": {
      "text/html": [
       "<div>\n",
       "<style scoped>\n",
       "    .dataframe tbody tr th:only-of-type {\n",
       "        vertical-align: middle;\n",
       "    }\n",
       "\n",
       "    .dataframe tbody tr th {\n",
       "        vertical-align: top;\n",
       "    }\n",
       "\n",
       "    .dataframe thead th {\n",
       "        text-align: right;\n",
       "    }\n",
       "</style>\n",
       "<table border=\"1\" class=\"dataframe\">\n",
       "  <thead>\n",
       "    <tr style=\"text-align: right;\">\n",
       "      <th></th>\n",
       "      <th>TotalCoinsMined</th>\n",
       "      <th>TotalCoinSupply</th>\n",
       "      <th>Algorithm_1GB AES Pattern Search</th>\n",
       "      <th>Algorithm_536</th>\n",
       "      <th>Algorithm_Argon2</th>\n",
       "      <th>Algorithm_BLAKE256</th>\n",
       "      <th>Algorithm_Blake</th>\n",
       "      <th>Algorithm_Blake2S</th>\n",
       "      <th>Algorithm_Blake2b</th>\n",
       "      <th>Algorithm_C11</th>\n",
       "      <th>...</th>\n",
       "      <th>ProofType_PoW/PoS</th>\n",
       "      <th>ProofType_PoW/PoS</th>\n",
       "      <th>ProofType_PoW/PoW</th>\n",
       "      <th>ProofType_PoW/nPoS</th>\n",
       "      <th>ProofType_Pos</th>\n",
       "      <th>ProofType_Proof of Authority</th>\n",
       "      <th>ProofType_Proof of Trust</th>\n",
       "      <th>ProofType_TPoS</th>\n",
       "      <th>ProofType_Zero-Knowledge Proof</th>\n",
       "      <th>ProofType_dPoW/PoW</th>\n",
       "    </tr>\n",
       "  </thead>\n",
       "  <tbody>\n",
       "    <tr>\n",
       "      <th>0</th>\n",
       "      <td>4.199995e+01</td>\n",
       "      <td>4.200000e+01</td>\n",
       "      <td>0</td>\n",
       "      <td>0</td>\n",
       "      <td>0</td>\n",
       "      <td>0</td>\n",
       "      <td>0</td>\n",
       "      <td>0</td>\n",
       "      <td>0</td>\n",
       "      <td>0</td>\n",
       "      <td>...</td>\n",
       "      <td>1</td>\n",
       "      <td>0</td>\n",
       "      <td>0</td>\n",
       "      <td>0</td>\n",
       "      <td>0</td>\n",
       "      <td>0</td>\n",
       "      <td>0</td>\n",
       "      <td>0</td>\n",
       "      <td>0</td>\n",
       "      <td>0</td>\n",
       "    </tr>\n",
       "    <tr>\n",
       "      <th>2</th>\n",
       "      <td>1.055185e+09</td>\n",
       "      <td>5.320000e+08</td>\n",
       "      <td>0</td>\n",
       "      <td>0</td>\n",
       "      <td>0</td>\n",
       "      <td>0</td>\n",
       "      <td>0</td>\n",
       "      <td>0</td>\n",
       "      <td>0</td>\n",
       "      <td>0</td>\n",
       "      <td>...</td>\n",
       "      <td>1</td>\n",
       "      <td>0</td>\n",
       "      <td>0</td>\n",
       "      <td>0</td>\n",
       "      <td>0</td>\n",
       "      <td>0</td>\n",
       "      <td>0</td>\n",
       "      <td>0</td>\n",
       "      <td>0</td>\n",
       "      <td>0</td>\n",
       "    </tr>\n",
       "    <tr>\n",
       "      <th>5</th>\n",
       "      <td>2.927942e+10</td>\n",
       "      <td>3.141593e+11</td>\n",
       "      <td>0</td>\n",
       "      <td>0</td>\n",
       "      <td>0</td>\n",
       "      <td>0</td>\n",
       "      <td>0</td>\n",
       "      <td>0</td>\n",
       "      <td>0</td>\n",
       "      <td>0</td>\n",
       "      <td>...</td>\n",
       "      <td>1</td>\n",
       "      <td>0</td>\n",
       "      <td>0</td>\n",
       "      <td>0</td>\n",
       "      <td>0</td>\n",
       "      <td>0</td>\n",
       "      <td>0</td>\n",
       "      <td>0</td>\n",
       "      <td>0</td>\n",
       "      <td>0</td>\n",
       "    </tr>\n",
       "    <tr>\n",
       "      <th>7</th>\n",
       "      <td>1.792718e+07</td>\n",
       "      <td>2.100000e+07</td>\n",
       "      <td>0</td>\n",
       "      <td>0</td>\n",
       "      <td>0</td>\n",
       "      <td>0</td>\n",
       "      <td>0</td>\n",
       "      <td>0</td>\n",
       "      <td>0</td>\n",
       "      <td>0</td>\n",
       "      <td>...</td>\n",
       "      <td>0</td>\n",
       "      <td>0</td>\n",
       "      <td>0</td>\n",
       "      <td>0</td>\n",
       "      <td>0</td>\n",
       "      <td>0</td>\n",
       "      <td>0</td>\n",
       "      <td>0</td>\n",
       "      <td>0</td>\n",
       "      <td>0</td>\n",
       "    </tr>\n",
       "    <tr>\n",
       "      <th>9</th>\n",
       "      <td>6.303924e+07</td>\n",
       "      <td>8.400000e+07</td>\n",
       "      <td>0</td>\n",
       "      <td>0</td>\n",
       "      <td>0</td>\n",
       "      <td>0</td>\n",
       "      <td>0</td>\n",
       "      <td>0</td>\n",
       "      <td>0</td>\n",
       "      <td>0</td>\n",
       "      <td>...</td>\n",
       "      <td>0</td>\n",
       "      <td>0</td>\n",
       "      <td>0</td>\n",
       "      <td>0</td>\n",
       "      <td>0</td>\n",
       "      <td>0</td>\n",
       "      <td>0</td>\n",
       "      <td>0</td>\n",
       "      <td>0</td>\n",
       "      <td>0</td>\n",
       "    </tr>\n",
       "  </tbody>\n",
       "</table>\n",
       "<p>5 rows × 105 columns</p>\n",
       "</div>"
      ],
      "text/plain": [
       "   TotalCoinsMined  TotalCoinSupply  Algorithm_1GB AES Pattern Search  \\\n",
       "0     4.199995e+01     4.200000e+01                                 0   \n",
       "2     1.055185e+09     5.320000e+08                                 0   \n",
       "5     2.927942e+10     3.141593e+11                                 0   \n",
       "7     1.792718e+07     2.100000e+07                                 0   \n",
       "9     6.303924e+07     8.400000e+07                                 0   \n",
       "\n",
       "   Algorithm_536  Algorithm_Argon2  Algorithm_BLAKE256  Algorithm_Blake  \\\n",
       "0              0                 0                   0                0   \n",
       "2              0                 0                   0                0   \n",
       "5              0                 0                   0                0   \n",
       "7              0                 0                   0                0   \n",
       "9              0                 0                   0                0   \n",
       "\n",
       "   Algorithm_Blake2S  Algorithm_Blake2b  Algorithm_C11  ...  \\\n",
       "0                  0                  0              0  ...   \n",
       "2                  0                  0              0  ...   \n",
       "5                  0                  0              0  ...   \n",
       "7                  0                  0              0  ...   \n",
       "9                  0                  0              0  ...   \n",
       "\n",
       "   ProofType_PoW/PoS  ProofType_PoW/PoS   ProofType_PoW/PoW  \\\n",
       "0                  1                   0                  0   \n",
       "2                  1                   0                  0   \n",
       "5                  1                   0                  0   \n",
       "7                  0                   0                  0   \n",
       "9                  0                   0                  0   \n",
       "\n",
       "   ProofType_PoW/nPoS  ProofType_Pos  ProofType_Proof of Authority  \\\n",
       "0                   0              0                             0   \n",
       "2                   0              0                             0   \n",
       "5                   0              0                             0   \n",
       "7                   0              0                             0   \n",
       "9                   0              0                             0   \n",
       "\n",
       "   ProofType_Proof of Trust  ProofType_TPoS  ProofType_Zero-Knowledge Proof  \\\n",
       "0                         0               0                               0   \n",
       "2                         0               0                               0   \n",
       "5                         0               0                               0   \n",
       "7                         0               0                               0   \n",
       "9                         0               0                               0   \n",
       "\n",
       "   ProofType_dPoW/PoW  \n",
       "0                   0  \n",
       "2                   0  \n",
       "5                   0  \n",
       "7                   0  \n",
       "9                   0  \n",
       "\n",
       "[5 rows x 105 columns]"
      ]
     },
     "execution_count": 89,
     "metadata": {},
     "output_type": "execute_result"
    }
   ],
   "source": [
    "# Create dummy variables for text features\n",
    "# -- delete\n",
    "# test = crypto_df.copy()\n",
    "# # df.dtypes[df.dtypes == 'float64'].index.tolist()\n",
    "# -- end delete\n",
    "# # get a list of object types\n",
    "obj_columns = crypto_df.dtypes[crypto_df.dtypes == 'object'].index.tolist()\n",
    "# convert text columns to dummies\n",
    "crypto_df = pd.get_dummies(crypto_df, columns= obj_columns)\n",
    "crypto_df.head()"
   ]
  },
  {
   "cell_type": "code",
   "execution_count": 90,
   "metadata": {},
   "outputs": [
    {
     "name": "stdout",
     "output_type": "stream",
     "text": [
      "[[-0.09782131 -0.03965512 -0.03965258 -0.03965258 -0.03965258 -0.05612135\n",
      "  -0.07949286 -0.03965258 -0.03965258 -0.05612135 -0.03965258 -0.03965258\n",
      "  -0.18913582 -0.05612135 -0.03965258 -0.03965258 -0.07949286 -0.03965258\n",
      "  -0.08894601 -0.06878853 -0.03965258 -0.03965258 -0.17052613 -0.03965258\n",
      "  -0.03965258 -0.13856406 -0.03965258 -0.03965258 -0.06878853 -0.03965258\n",
      "  -0.03965258 -0.03965258 -0.03965258 -0.06878853 -0.03965258 -0.07949286\n",
      "  -0.08894601 -0.07949286 -0.03965258 -0.03965258 -0.11971303 -0.13255899\n",
      "  -0.14433757 -0.03965258 -0.05612135 -0.03965258 -0.06878853 -0.17052613\n",
      "  -0.03965258 -0.03965258 -0.03965258 -0.05612135 -0.18004141 -0.33998043\n",
      "  -0.03965258 -0.08894601 -0.06878853 -0.05612135 -0.03965258  1.42090019\n",
      "  -0.06878853 -0.03965258 -0.03965258 -0.06878853 -0.06878853 -0.03965258\n",
      "  -0.03965258 -0.03965258 -0.03965258 -0.03965258 -0.03965258 -0.03965258\n",
      "  -0.4108617  -0.03965258 -0.18004141 -0.03965258 -0.09751265 -0.07949286\n",
      "  -0.09751265 -0.03965258 -0.03965258 -0.03965258 -0.11277677 -0.03965258\n",
      "  -0.03965258 -0.03965258 -0.03965258 -0.03965258 -0.06878853 -0.41866067\n",
      "  -0.03965258 -0.03965258 -0.9435082  -0.03965258 -0.03965258  1.42090019\n",
      "  -0.03965258 -0.03965258 -0.03965258 -0.03965258 -0.03965258 -0.03965258\n",
      "  -0.03965258 -0.03965258 -0.03965258]]\n"
     ]
    }
   ],
   "source": [
    "# Standardize data\n",
    "# test = crypto_df.copy()\n",
    "cryto_scaled = StandardScaler().fit_transform(crypto_df)\n",
    "print(cryto_scaled[:1])\n"
   ]
  },
  {
   "cell_type": "markdown",
   "metadata": {},
   "source": [
    "### Reducing Dimensions Using PCA"
   ]
  },
  {
   "cell_type": "code",
   "execution_count": 91,
   "metadata": {},
   "outputs": [],
   "source": [
    "# Use PCA to reduce dimensions to 3 principal components\n",
    "pca = PCA(n_components=3)\n",
    "crypto_pca = pca.fit_transform(cryto_scaled)"
   ]
  },
  {
   "cell_type": "code",
   "execution_count": 92,
   "metadata": {},
   "outputs": [
    {
     "data": {
      "text/html": [
       "<div>\n",
       "<style scoped>\n",
       "    .dataframe tbody tr th:only-of-type {\n",
       "        vertical-align: middle;\n",
       "    }\n",
       "\n",
       "    .dataframe tbody tr th {\n",
       "        vertical-align: top;\n",
       "    }\n",
       "\n",
       "    .dataframe thead th {\n",
       "        text-align: right;\n",
       "    }\n",
       "</style>\n",
       "<table border=\"1\" class=\"dataframe\">\n",
       "  <thead>\n",
       "    <tr style=\"text-align: right;\">\n",
       "      <th></th>\n",
       "      <th>PC 1</th>\n",
       "      <th>PC 2</th>\n",
       "      <th>PC 3</th>\n",
       "    </tr>\n",
       "  </thead>\n",
       "  <tbody>\n",
       "    <tr>\n",
       "      <th>0</th>\n",
       "      <td>-0.172443</td>\n",
       "      <td>-1.193404</td>\n",
       "      <td>-0.301775</td>\n",
       "    </tr>\n",
       "    <tr>\n",
       "      <th>2</th>\n",
       "      <td>-0.157874</td>\n",
       "      <td>-1.191477</td>\n",
       "      <td>-0.301987</td>\n",
       "    </tr>\n",
       "    <tr>\n",
       "      <th>5</th>\n",
       "      <td>0.416076</td>\n",
       "      <td>-1.896789</td>\n",
       "      <td>-0.369776</td>\n",
       "    </tr>\n",
       "    <tr>\n",
       "      <th>7</th>\n",
       "      <td>-0.248180</td>\n",
       "      <td>1.403862</td>\n",
       "      <td>0.105885</td>\n",
       "    </tr>\n",
       "    <tr>\n",
       "      <th>9</th>\n",
       "      <td>-0.321038</td>\n",
       "      <td>1.052202</td>\n",
       "      <td>0.017631</td>\n",
       "    </tr>\n",
       "  </tbody>\n",
       "</table>\n",
       "</div>"
      ],
      "text/plain": [
       "       PC 1      PC 2      PC 3\n",
       "0 -0.172443 -1.193404 -0.301775\n",
       "2 -0.157874 -1.191477 -0.301987\n",
       "5  0.416076 -1.896789 -0.369776\n",
       "7 -0.248180  1.403862  0.105885\n",
       "9 -0.321038  1.052202  0.017631"
      ]
     },
     "execution_count": 92,
     "metadata": {},
     "output_type": "execute_result"
    }
   ],
   "source": [
    "# Create a DataFrame with the principal components data\n",
    "# df_iris_pca = pd.DataFrame(\n",
    "#     data=iris_pca, columns=[\"principal component 1\", \"principal component 2\"]\n",
    "# )\n",
    "# df_iris_pca.head()\n",
    "pcs_df  = pd.DataFrame(\n",
    "    data=crypto_pca, columns=[\"PC 1\", \"PC 2\", \"PC 3\"], index = crypto_df.index\n",
    ")\n",
    "pcs_df.head()"
   ]
  },
  {
   "cell_type": "markdown",
   "metadata": {},
   "source": [
    "### Clustering Crytocurrencies Using K-Means\n",
    "\n",
    "#### Find the Best Value for `k` Using the Elbow Curve"
   ]
  },
  {
   "cell_type": "code",
   "execution_count": 93,
   "metadata": {},
   "outputs": [
    {
     "name": "stderr",
     "output_type": "stream",
     "text": [
      "C:\\Users\\Hassan\\Anaconda3\\envs\\pyvizenv\\lib\\site-packages\\sklearn\\cluster\\_kmeans.py:882: UserWarning:\n",
      "\n",
      "KMeans is known to have a memory leak on Windows with MKL, when there are less chunks than available threads. You can avoid it by setting the environment variable OMP_NUM_THREADS=3.\n",
      "\n"
     ]
    },
    {
     "data": {},
     "metadata": {},
     "output_type": "display_data"
    },
    {
     "data": {
      "application/vnd.holoviews_exec.v0+json": "",
      "text/html": [
       "<div id='1259'>\n",
       "\n",
       "\n",
       "\n",
       "\n",
       "\n",
       "  <div class=\"bk-root\" id=\"93f80e63-268c-46b2-96ec-421e16b71ca9\" data-root-id=\"1259\"></div>\n",
       "</div>\n",
       "<script type=\"application/javascript\">(function(root) {\n",
       "  function embed_document(root) {\n",
       "    var docs_json = {\"1bbeddd6-35a2-42f2-9d56-9587e6bb468a\":{\"roots\":{\"references\":[{\"attributes\":{},\"id\":\"1278\",\"type\":\"BasicTicker\"},{\"attributes\":{\"callback\":null,\"renderers\":[{\"id\":\"1300\"}],\"tags\":[\"hv_created\"],\"tooltips\":[[\"k\",\"@{k}\"],[\"inertia\",\"@{inertia}\"]]},\"id\":\"1263\",\"type\":\"HoverTool\"},{\"attributes\":{\"bottom_units\":\"screen\",\"fill_alpha\":0.5,\"fill_color\":\"lightgrey\",\"left_units\":\"screen\",\"level\":\"overlay\",\"line_alpha\":1.0,\"line_color\":\"black\",\"line_dash\":[4,4],\"line_width\":2,\"right_units\":\"screen\",\"top_units\":\"screen\"},\"id\":\"1286\",\"type\":\"BoxAnnotation\"},{\"attributes\":{\"margin\":[5,5,5,5],\"name\":\"HSpacer02003\",\"sizing_mode\":\"stretch_width\"},\"id\":\"1323\",\"type\":\"Spacer\"},{\"attributes\":{\"line_color\":\"#30a2da\",\"line_width\":2,\"x\":{\"field\":\"k\"},\"y\":{\"field\":\"inertia\"}},\"id\":\"1297\",\"type\":\"Line\"},{\"attributes\":{\"active_drag\":\"auto\",\"active_inspect\":\"auto\",\"active_multi\":null,\"active_scroll\":\"auto\",\"active_tap\":\"auto\",\"tools\":[{\"id\":\"1263\"},{\"id\":\"1281\"},{\"id\":\"1282\"},{\"id\":\"1283\"},{\"id\":\"1284\"},{\"id\":\"1285\"}]},\"id\":\"1287\",\"type\":\"Toolbar\"},{\"attributes\":{\"line_alpha\":0.2,\"line_color\":\"#30a2da\",\"line_width\":2,\"x\":{\"field\":\"k\"},\"y\":{\"field\":\"inertia\"}},\"id\":\"1299\",\"type\":\"Line\"},{\"attributes\":{\"source\":{\"id\":\"1294\"}},\"id\":\"1301\",\"type\":\"CDSView\"},{\"attributes\":{},\"id\":\"1269\",\"type\":\"LinearScale\"},{\"attributes\":{\"axis\":{\"id\":\"1277\"},\"dimension\":1,\"grid_line_color\":null,\"ticker\":null},\"id\":\"1280\",\"type\":\"Grid\"},{\"attributes\":{\"line_alpha\":0.1,\"line_color\":\"#30a2da\",\"line_width\":2,\"x\":{\"field\":\"k\"},\"y\":{\"field\":\"inertia\"}},\"id\":\"1298\",\"type\":\"Line\"},{\"attributes\":{\"below\":[{\"id\":\"1273\"}],\"center\":[{\"id\":\"1276\"},{\"id\":\"1280\"}],\"left\":[{\"id\":\"1277\"}],\"margin\":[5,5,5,5],\"min_border_bottom\":10,\"min_border_left\":10,\"min_border_right\":10,\"min_border_top\":10,\"plot_height\":300,\"plot_width\":700,\"renderers\":[{\"id\":\"1300\"}],\"sizing_mode\":\"fixed\",\"title\":{\"id\":\"1265\"},\"toolbar\":{\"id\":\"1287\"},\"x_range\":{\"id\":\"1261\"},\"x_scale\":{\"id\":\"1269\"},\"y_range\":{\"id\":\"1262\"},\"y_scale\":{\"id\":\"1271\"}},\"id\":\"1264\",\"subtype\":\"Figure\",\"type\":\"Plot\"},{\"attributes\":{\"ticks\":[1,2,3,4,5,6,7,8,9,10]},\"id\":\"1302\",\"type\":\"FixedTicker\"},{\"attributes\":{},\"id\":\"1281\",\"type\":\"SaveTool\"},{\"attributes\":{},\"id\":\"1282\",\"type\":\"PanTool\"},{\"attributes\":{},\"id\":\"1285\",\"type\":\"ResetTool\"},{\"attributes\":{},\"id\":\"1295\",\"type\":\"Selection\"},{\"attributes\":{},\"id\":\"1283\",\"type\":\"WheelZoomTool\"},{\"attributes\":{\"children\":[{\"id\":\"1260\"},{\"id\":\"1264\"},{\"id\":\"1323\"}],\"margin\":[0,0,0,0],\"name\":\"Row01998\",\"tags\":[\"embedded\"]},\"id\":\"1259\",\"type\":\"Row\"},{\"attributes\":{\"data\":{\"inertia\":{\"__ndarray__\":\"gqNV6X62r0D/unkAw1ymQN5NXefBhptAMSMIiUg7hkCcFRZwjvp3QIZhTnwm6nFAHrOoWp1na0AOVCWYQ6RkQH/DAdC94l9A8S/59paTW0A=\",\"dtype\":\"float64\",\"order\":\"little\",\"shape\":[10]},\"k\":[1,2,3,4,5,6,7,8,9,10]},\"selected\":{\"id\":\"1295\"},\"selection_policy\":{\"id\":\"1314\"}},\"id\":\"1294\",\"type\":\"ColumnDataSource\"},{\"attributes\":{\"data_source\":{\"id\":\"1294\"},\"glyph\":{\"id\":\"1297\"},\"hover_glyph\":null,\"muted_glyph\":{\"id\":\"1299\"},\"nonselection_glyph\":{\"id\":\"1298\"},\"selection_glyph\":null,\"view\":{\"id\":\"1301\"}},\"id\":\"1300\",\"type\":\"GlyphRenderer\"},{\"attributes\":{\"overlay\":{\"id\":\"1286\"}},\"id\":\"1284\",\"type\":\"BoxZoomTool\"},{\"attributes\":{\"margin\":[5,5,5,5],\"name\":\"HSpacer02002\",\"sizing_mode\":\"stretch_width\"},\"id\":\"1260\",\"type\":\"Spacer\"},{\"attributes\":{\"axis_label\":\"k\",\"bounds\":\"auto\",\"formatter\":{\"id\":\"1304\"},\"major_label_orientation\":\"horizontal\",\"ticker\":{\"id\":\"1302\"}},\"id\":\"1273\",\"type\":\"LinearAxis\"},{\"attributes\":{},\"id\":\"1304\",\"type\":\"BasicTickFormatter\"},{\"attributes\":{\"end\":10.0,\"reset_end\":10.0,\"reset_start\":1.0,\"start\":1.0,\"tags\":[[[\"k\",\"k\",null]]]},\"id\":\"1261\",\"type\":\"Range1d\"},{\"attributes\":{\"end\":4454.142052430626,\"reset_end\":4454.142052430626,\"reset_start\":-284.588089322986,\"start\":-284.588089322986,\"tags\":[[[\"inertia\",\"inertia\",null]]]},\"id\":\"1262\",\"type\":\"Range1d\"},{\"attributes\":{},\"id\":\"1271\",\"type\":\"LinearScale\"},{\"attributes\":{\"axis_label\":\"inertia\",\"bounds\":\"auto\",\"formatter\":{\"id\":\"1308\"},\"major_label_orientation\":\"horizontal\",\"ticker\":{\"id\":\"1278\"}},\"id\":\"1277\",\"type\":\"LinearAxis\"},{\"attributes\":{\"text\":\"Elbow Curve\",\"text_color\":{\"value\":\"black\"},\"text_font_size\":{\"value\":\"12pt\"}},\"id\":\"1265\",\"type\":\"Title\"},{\"attributes\":{\"axis\":{\"id\":\"1273\"},\"grid_line_color\":null,\"ticker\":null},\"id\":\"1276\",\"type\":\"Grid\"},{\"attributes\":{},\"id\":\"1308\",\"type\":\"BasicTickFormatter\"},{\"attributes\":{},\"id\":\"1314\",\"type\":\"UnionRenderers\"}],\"root_ids\":[\"1259\"]},\"title\":\"Bokeh Application\",\"version\":\"2.2.3\"}};\n",
       "    var render_items = [{\"docid\":\"1bbeddd6-35a2-42f2-9d56-9587e6bb468a\",\"root_ids\":[\"1259\"],\"roots\":{\"1259\":\"93f80e63-268c-46b2-96ec-421e16b71ca9\"}}];\n",
       "    root.Bokeh.embed.embed_items_notebook(docs_json, render_items);\n",
       "  }\n",
       "  if (root.Bokeh !== undefined && root.Bokeh.Panel !== undefined) {\n",
       "    embed_document(root);\n",
       "  } else {\n",
       "    var attempts = 0;\n",
       "    var timer = setInterval(function(root) {\n",
       "      if (root.Bokeh !== undefined && root.Bokeh.Panel !== undefined) {\n",
       "        clearInterval(timer);\n",
       "        embed_document(root);\n",
       "      } else if (document.readyState == \"complete\") {\n",
       "        attempts++;\n",
       "        if (attempts > 100) {\n",
       "          clearInterval(timer);\n",
       "          console.log(\"Bokeh: ERROR: Unable to run BokehJS code because BokehJS library is missing\");\n",
       "        }\n",
       "      }\n",
       "    }, 10, root)\n",
       "  }\n",
       "})(window);</script>"
      ],
      "text/plain": [
       ":Curve   [k]   (inertia)"
      ]
     },
     "execution_count": 93,
     "metadata": {
      "application/vnd.holoviews_exec.v0+json": {
       "id": "1259"
      }
     },
     "output_type": "execute_result"
    }
   ],
   "source": [
    "inertia = []\n",
    "k = list(range(1, 11))\n",
    "\n",
    "# Calculate the inertia for the range of k values\n",
    "for i in k:\n",
    "    km = KMeans(n_clusters=i, random_state=0)\n",
    "    km.fit(pcs_df)\n",
    "    inertia.append(km.inertia_)\n",
    "\n",
    "# Create the Elbow Curve using hvPlot\n",
    "elbow_data = {\"k\": k, \"inertia\": inertia}\n",
    "df_elbow = pd.DataFrame(elbow_data)\n",
    "# df_elbow.hvplot.line(x=\"k\", y=\"inertia\", xticks=k, title=\"Elbow Curve\")\n",
    "\n",
    "# show(hv.render(plot))"
   ]
  },
  {
   "cell_type": "code",
   "execution_count": 103,
   "metadata": {},
   "outputs": [
    {
     "data": {
      "text/html": [
       "\n",
       "<div id=\"altair-viz-74912ee5cb6a4162a803af1e3b64a061\"></div>\n",
       "<script type=\"text/javascript\">\n",
       "  (function(spec, embedOpt){\n",
       "    let outputDiv = document.currentScript.previousElementSibling;\n",
       "    if (outputDiv.id !== \"altair-viz-74912ee5cb6a4162a803af1e3b64a061\") {\n",
       "      outputDiv = document.getElementById(\"altair-viz-74912ee5cb6a4162a803af1e3b64a061\");\n",
       "    }\n",
       "    const paths = {\n",
       "      \"vega\": \"https://cdn.jsdelivr.net/npm//vega@5?noext\",\n",
       "      \"vega-lib\": \"https://cdn.jsdelivr.net/npm//vega-lib?noext\",\n",
       "      \"vega-lite\": \"https://cdn.jsdelivr.net/npm//vega-lite@4.8.1?noext\",\n",
       "      \"vega-embed\": \"https://cdn.jsdelivr.net/npm//vega-embed@6?noext\",\n",
       "    };\n",
       "\n",
       "    function loadScript(lib) {\n",
       "      return new Promise(function(resolve, reject) {\n",
       "        var s = document.createElement('script');\n",
       "        s.src = paths[lib];\n",
       "        s.async = true;\n",
       "        s.onload = () => resolve(paths[lib]);\n",
       "        s.onerror = () => reject(`Error loading script: ${paths[lib]}`);\n",
       "        document.getElementsByTagName(\"head\")[0].appendChild(s);\n",
       "      });\n",
       "    }\n",
       "\n",
       "    function showError(err) {\n",
       "      outputDiv.innerHTML = `<div class=\"error\" style=\"color:red;\">${err}</div>`;\n",
       "      throw err;\n",
       "    }\n",
       "\n",
       "    function displayChart(vegaEmbed) {\n",
       "      vegaEmbed(outputDiv, spec, embedOpt)\n",
       "        .catch(err => showError(`Javascript Error: ${err.message}<br>This usually means there's a typo in your chart specification. See the javascript console for the full traceback.`));\n",
       "    }\n",
       "\n",
       "    if(typeof define === \"function\" && define.amd) {\n",
       "      requirejs.config({paths});\n",
       "      require([\"vega-embed\"], displayChart, err => showError(`Error loading script: ${err.message}`));\n",
       "    } else if (typeof vegaEmbed === \"function\") {\n",
       "      displayChart(vegaEmbed);\n",
       "    } else {\n",
       "      loadScript(\"vega\")\n",
       "        .then(() => loadScript(\"vega-lite\"))\n",
       "        .then(() => loadScript(\"vega-embed\"))\n",
       "        .catch(showError)\n",
       "        .then(() => displayChart(vegaEmbed));\n",
       "    }\n",
       "  })({\"config\": {\"view\": {\"continuousWidth\": 400, \"continuousHeight\": 300}}, \"data\": {\"name\": \"data-127f3969cda2bb0e2f9d7a9f8ac2567f\"}, \"mark\": \"line\", \"encoding\": {\"x\": {\"type\": \"quantitative\", \"field\": \"k\"}, \"y\": {\"type\": \"quantitative\", \"field\": \"inertia\"}}, \"$schema\": \"https://vega.github.io/schema/vega-lite/v4.8.1.json\", \"datasets\": {\"data-127f3969cda2bb0e2f9d7a9f8ac2567f\": [{\"k\": 1, \"inertia\": 4059.247873951158}, {\"k\": 2, \"inertia\": 2862.38086300285}, {\"k\": 3, \"inertia\": 1761.6893591479088}, {\"k\": 4, \"inertia\": 711.4104176173915}, {\"k\": 5, \"inertia\": 383.6597748625443}, {\"k\": 6, \"inertia\": 286.63439589135703}, {\"k\": 7, \"inertia\": 219.23795826863437}, {\"k\": 8, \"inertia\": 165.133251259715}, {\"k\": 9, \"inertia\": 127.54283523723824}, {\"k\": 10, \"inertia\": 110.30608915648169}]}}, {\"mode\": \"vega-lite\"});\n",
       "</script>"
      ],
      "text/plain": [
       "alt.Chart(...)"
      ]
     },
     "execution_count": 103,
     "metadata": {},
     "output_type": "execute_result"
    }
   ],
   "source": [
    "# altair plot\n",
    "# import altair as alt\n",
    "# import numpy as np\n",
    "# import pandas as pd\n",
    "\n",
    "# x = np.arange(100)\n",
    "# source = pd.DataFrame({\n",
    "#   'x': x,\n",
    "#   'f(x)': np.sin(x / 5)\n",
    "# })\n",
    "\n",
    "alt.Chart(df_elbow).mark_line().encode(\n",
    "    x='k',\n",
    "    y='inertia'\n",
    ")"
   ]
  },
  {
   "cell_type": "markdown",
   "metadata": {},
   "source": [
    "Running K-Means with `k=<your best value for k here>`"
   ]
  },
  {
   "cell_type": "code",
   "execution_count": 94,
   "metadata": {},
   "outputs": [
    {
     "data": {
      "text/html": [
       "<div>\n",
       "<style scoped>\n",
       "    .dataframe tbody tr th:only-of-type {\n",
       "        vertical-align: middle;\n",
       "    }\n",
       "\n",
       "    .dataframe tbody tr th {\n",
       "        vertical-align: top;\n",
       "    }\n",
       "\n",
       "    .dataframe thead th {\n",
       "        text-align: right;\n",
       "    }\n",
       "</style>\n",
       "<table border=\"1\" class=\"dataframe\">\n",
       "  <thead>\n",
       "    <tr style=\"text-align: right;\">\n",
       "      <th></th>\n",
       "      <th>PC 1</th>\n",
       "      <th>PC 2</th>\n",
       "      <th>PC 3</th>\n",
       "      <th>Class</th>\n",
       "    </tr>\n",
       "  </thead>\n",
       "  <tbody>\n",
       "    <tr>\n",
       "      <th>0</th>\n",
       "      <td>-0.172443</td>\n",
       "      <td>-1.193404</td>\n",
       "      <td>-0.301775</td>\n",
       "      <td>0</td>\n",
       "    </tr>\n",
       "    <tr>\n",
       "      <th>2</th>\n",
       "      <td>-0.157874</td>\n",
       "      <td>-1.191477</td>\n",
       "      <td>-0.301987</td>\n",
       "      <td>0</td>\n",
       "    </tr>\n",
       "    <tr>\n",
       "      <th>5</th>\n",
       "      <td>0.416076</td>\n",
       "      <td>-1.896789</td>\n",
       "      <td>-0.369776</td>\n",
       "      <td>0</td>\n",
       "    </tr>\n",
       "    <tr>\n",
       "      <th>7</th>\n",
       "      <td>-0.248180</td>\n",
       "      <td>1.403862</td>\n",
       "      <td>0.105885</td>\n",
       "      <td>1</td>\n",
       "    </tr>\n",
       "    <tr>\n",
       "      <th>9</th>\n",
       "      <td>-0.321038</td>\n",
       "      <td>1.052202</td>\n",
       "      <td>0.017631</td>\n",
       "      <td>1</td>\n",
       "    </tr>\n",
       "  </tbody>\n",
       "</table>\n",
       "</div>"
      ],
      "text/plain": [
       "       PC 1      PC 2      PC 3  Class\n",
       "0 -0.172443 -1.193404 -0.301775      0\n",
       "2 -0.157874 -1.191477 -0.301987      0\n",
       "5  0.416076 -1.896789 -0.369776      0\n",
       "7 -0.248180  1.403862  0.105885      1\n",
       "9 -0.321038  1.052202  0.017631      1"
      ]
     },
     "execution_count": 94,
     "metadata": {},
     "output_type": "execute_result"
    }
   ],
   "source": [
    "# Initialize the K-Means model\n",
    "model = KMeans(n_clusters=4, random_state=0)\n",
    "# Fit the model\n",
    "model.fit(pcs_df)\n",
    "# Predict clusters\n",
    "predictions = model.predict(pcs_df)\n",
    "# Create a new DataFrame including predicted clusters and cryptocurrencies features\n",
    "pcs_df[\"Class\"] = model.labels_\n",
    "pcs_df.head()"
   ]
  },
  {
   "cell_type": "code",
   "execution_count": 95,
   "metadata": {},
   "outputs": [
    {
     "data": {
      "text/html": [
       "<div>\n",
       "<style scoped>\n",
       "    .dataframe tbody tr th:only-of-type {\n",
       "        vertical-align: middle;\n",
       "    }\n",
       "\n",
       "    .dataframe tbody tr th {\n",
       "        vertical-align: top;\n",
       "    }\n",
       "\n",
       "    .dataframe thead th {\n",
       "        text-align: right;\n",
       "    }\n",
       "</style>\n",
       "<table border=\"1\" class=\"dataframe\">\n",
       "  <thead>\n",
       "    <tr style=\"text-align: right;\">\n",
       "      <th></th>\n",
       "      <th>CoinName</th>\n",
       "      <th>Algorithm</th>\n",
       "      <th>ProofType</th>\n",
       "      <th>TotalCoinsMined</th>\n",
       "      <th>TotalCoinSupply</th>\n",
       "      <th>PC 1</th>\n",
       "      <th>PC 2</th>\n",
       "      <th>PC 3</th>\n",
       "      <th>Class</th>\n",
       "    </tr>\n",
       "  </thead>\n",
       "  <tbody>\n",
       "    <tr>\n",
       "      <th>0</th>\n",
       "      <td>42 Coin</td>\n",
       "      <td>Scrypt</td>\n",
       "      <td>PoW/PoS</td>\n",
       "      <td>4.199995e+01</td>\n",
       "      <td>4.200000e+01</td>\n",
       "      <td>-0.172443</td>\n",
       "      <td>-1.193404</td>\n",
       "      <td>-0.301775</td>\n",
       "      <td>0</td>\n",
       "    </tr>\n",
       "    <tr>\n",
       "      <th>2</th>\n",
       "      <td>404Coin</td>\n",
       "      <td>Scrypt</td>\n",
       "      <td>PoW/PoS</td>\n",
       "      <td>1.055185e+09</td>\n",
       "      <td>5.320000e+08</td>\n",
       "      <td>-0.157874</td>\n",
       "      <td>-1.191477</td>\n",
       "      <td>-0.301987</td>\n",
       "      <td>0</td>\n",
       "    </tr>\n",
       "    <tr>\n",
       "      <th>5</th>\n",
       "      <td>EliteCoin</td>\n",
       "      <td>X13</td>\n",
       "      <td>PoW/PoS</td>\n",
       "      <td>2.927942e+10</td>\n",
       "      <td>3.141593e+11</td>\n",
       "      <td>0.416076</td>\n",
       "      <td>-1.896789</td>\n",
       "      <td>-0.369776</td>\n",
       "      <td>0</td>\n",
       "    </tr>\n",
       "    <tr>\n",
       "      <th>7</th>\n",
       "      <td>Bitcoin</td>\n",
       "      <td>SHA-256</td>\n",
       "      <td>PoW</td>\n",
       "      <td>1.792718e+07</td>\n",
       "      <td>2.100000e+07</td>\n",
       "      <td>-0.248180</td>\n",
       "      <td>1.403862</td>\n",
       "      <td>0.105885</td>\n",
       "      <td>1</td>\n",
       "    </tr>\n",
       "    <tr>\n",
       "      <th>9</th>\n",
       "      <td>Litecoin</td>\n",
       "      <td>Scrypt</td>\n",
       "      <td>PoW</td>\n",
       "      <td>6.303924e+07</td>\n",
       "      <td>8.400000e+07</td>\n",
       "      <td>-0.321038</td>\n",
       "      <td>1.052202</td>\n",
       "      <td>0.017631</td>\n",
       "      <td>1</td>\n",
       "    </tr>\n",
       "  </tbody>\n",
       "</table>\n",
       "</div>"
      ],
      "text/plain": [
       "    CoinName Algorithm ProofType  TotalCoinsMined  TotalCoinSupply      PC 1  \\\n",
       "0    42 Coin    Scrypt   PoW/PoS     4.199995e+01     4.200000e+01 -0.172443   \n",
       "2    404Coin    Scrypt   PoW/PoS     1.055185e+09     5.320000e+08 -0.157874   \n",
       "5  EliteCoin       X13   PoW/PoS     2.927942e+10     3.141593e+11  0.416076   \n",
       "7    Bitcoin   SHA-256       PoW     1.792718e+07     2.100000e+07 -0.248180   \n",
       "9   Litecoin    Scrypt       PoW     6.303924e+07     8.400000e+07 -0.321038   \n",
       "\n",
       "       PC 2      PC 3  Class  \n",
       "0 -1.193404 -0.301775      0  \n",
       "2 -1.191477 -0.301987      0  \n",
       "5 -1.896789 -0.369776      0  \n",
       "7  1.403862  0.105885      1  \n",
       "9  1.052202  0.017631      1  "
      ]
     },
     "execution_count": 95,
     "metadata": {},
     "output_type": "execute_result"
    }
   ],
   "source": [
    "# clustered_df = pd.concat ([coin_df, df_crypto_pca], join = 'outer')\n",
    "# clustered_df.head()\n",
    "clustered_df = coin_df.copy().dropna()\n",
    "\n",
    "col_list = pcs_df.columns.tolist()\n",
    "for columnName in col_list:\n",
    "    clustered_df[columnName] = pcs_df[columnName]\n",
    "clustered_df.head()\n"
   ]
  },
  {
   "cell_type": "markdown",
   "metadata": {},
   "source": [
    "### Visualizing Results\n",
    "\n",
    "#### 3D-Scatter with Clusters"
   ]
  },
  {
   "cell_type": "code",
   "execution_count": 96,
   "metadata": {},
   "outputs": [
    {
     "data": {
      "application/vnd.plotly.v1+json": {
       "config": {
        "plotlyServerURL": "https://plot.ly"
       },
       "data": [
        {
         "customdata": [
          [
           "Scrypt"
          ],
          [
           "Scrypt"
          ],
          [
           "X13"
          ],
          [
           "SHA-256"
          ],
          [
           "Scrypt"
          ],
          [
           "X11"
          ],
          [
           "Ethash"
          ],
          [
           "Equihash"
          ],
          [
           "SHA-512"
          ],
          [
           "Multiple"
          ],
          [
           "SHA-256"
          ],
          [
           "X11"
          ],
          [
           "SHA-256"
          ],
          [
           "Scrypt"
          ],
          [
           "X15"
          ],
          [
           "X11"
          ],
          [
           "SHA-256"
          ],
          [
           "X13"
          ],
          [
           "X13"
          ],
          [
           "Scrypt"
          ],
          [
           "Scrypt"
          ],
          [
           "Scrypt"
          ],
          [
           "SHA-256"
          ],
          [
           "Multiple"
          ],
          [
           "Scrypt"
          ],
          [
           "SHA-256"
          ],
          [
           "Scrypt"
          ],
          [
           "Scrypt"
          ],
          [
           "Quark"
          ],
          [
           "Groestl"
          ],
          [
           "Scrypt"
          ],
          [
           "X11"
          ],
          [
           "Scrypt"
          ],
          [
           "Scrypt"
          ],
          [
           "Scrypt"
          ],
          [
           "Scrypt"
          ],
          [
           "Scrypt"
          ],
          [
           "Scrypt"
          ],
          [
           "Multiple"
          ],
          [
           "Scrypt"
          ],
          [
           "X11"
          ],
          [
           "Scrypt"
          ],
          [
           "Groestl"
          ],
          [
           "Multiple"
          ],
          [
           "X11"
          ],
          [
           "Scrypt"
          ],
          [
           "SHA-256"
          ],
          [
           "Scrypt"
          ],
          [
           "Scrypt"
          ],
          [
           "Scrypt"
          ],
          [
           "Scrypt"
          ],
          [
           "Scrypt"
          ],
          [
           "Scrypt"
          ],
          [
           "X11"
          ],
          [
           "NIST5"
          ],
          [
           "SHA-256"
          ],
          [
           "Scrypt"
          ],
          [
           "NeoScrypt"
          ],
          [
           "Scrypt"
          ],
          [
           "Scrypt"
          ],
          [
           "Scrypt"
          ],
          [
           "X11"
          ],
          [
           "Scrypt"
          ],
          [
           "Multiple"
          ],
          [
           "Scrypt"
          ],
          [
           "X11"
          ],
          [
           "SHA-256"
          ],
          [
           "X11"
          ],
          [
           "X13"
          ],
          [
           "Scrypt"
          ],
          [
           "Scrypt"
          ],
          [
           "Scrypt"
          ],
          [
           "Scrypt"
          ],
          [
           "X11"
          ],
          [
           "SHA3"
          ],
          [
           "Scrypt"
          ],
          [
           "HybridScryptHash256"
          ],
          [
           "Scrypt"
          ],
          [
           "SHA-256"
          ],
          [
           "Scrypt"
          ],
          [
           "SHA-256"
          ],
          [
           "Scrypt"
          ],
          [
           "SHA-256"
          ],
          [
           "Scrypt"
          ],
          [
           "NeoScrypt"
          ],
          [
           "Scrypt"
          ],
          [
           "Scrypt"
          ],
          [
           "Scrypt"
          ],
          [
           "Scrypt"
          ],
          [
           "Scrypt"
          ],
          [
           "X15"
          ],
          [
           "Scrypt"
          ],
          [
           "Scrypt"
          ],
          [
           "Scrypt-n"
          ],
          [
           "Scrypt"
          ],
          [
           "X11"
          ],
          [
           "SHA-256"
          ],
          [
           "Multiple"
          ],
          [
           "SHA-256"
          ],
          [
           "PHI1612"
          ],
          [
           "X11"
          ],
          [
           "SHA-256"
          ],
          [
           "SHA-256"
          ],
          [
           "SHA-256"
          ],
          [
           "SHA-256"
          ],
          [
           "Scrypt"
          ],
          [
           "Scrypt"
          ],
          [
           "Scrypt"
          ],
          [
           "Lyra2REv2"
          ],
          [
           "Scrypt"
          ],
          [
           "Scrypt"
          ],
          [
           "X11"
          ],
          [
           "SHA-256"
          ],
          [
           "Scrypt"
          ],
          [
           "Scrypt"
          ],
          [
           "CryptoNight"
          ],
          [
           "CryptoNight"
          ],
          [
           "Shabal256"
          ],
          [
           "Counterparty"
          ],
          [
           "Scrypt"
          ],
          [
           "SHA-256"
          ],
          [
           "SHA-256"
          ],
          [
           "Scrypt"
          ],
          [
           "Scrypt"
          ],
          [
           "Scrypt"
          ],
          [
           "X13"
          ],
          [
           "Scrypt"
          ],
          [
           "Scrypt"
          ],
          [
           "Scrypt"
          ],
          [
           "SHA-256"
          ],
          [
           "X13"
          ],
          [
           "X13"
          ],
          [
           "Scrypt"
          ],
          [
           "X11"
          ],
          [
           "Momentum"
          ],
          [
           "Stanford Folding"
          ],
          [
           "X11"
          ],
          [
           "Scrypt"
          ],
          [
           "Scrypt"
          ],
          [
           "Scrypt"
          ],
          [
           "M7 POW"
          ],
          [
           "Scrypt"
          ],
          [
           "X11"
          ],
          [
           "Scrypt"
          ],
          [
           "SHA-256"
          ],
          [
           "Scrypt"
          ],
          [
           "X11"
          ],
          [
           "SHA3"
          ],
          [
           "X11"
          ],
          [
           "Lyra2RE"
          ],
          [
           "SHA-256"
          ],
          [
           "QUAIT"
          ],
          [
           "X11"
          ],
          [
           "Scrypt"
          ],
          [
           "Scrypt"
          ],
          [
           "Scrypt"
          ],
          [
           "Ethash"
          ],
          [
           "X11"
          ],
          [
           "X13"
          ],
          [
           "SHA-256"
          ],
          [
           "X13"
          ],
          [
           "X15"
          ],
          [
           "X11"
          ],
          [
           "SHA-256"
          ],
          [
           "BLAKE256"
          ],
          [
           "Scrypt"
          ],
          [
           "Scrypt"
          ],
          [
           "1GB AES Pattern Search"
          ],
          [
           "SHA-256"
          ],
          [
           "X11"
          ],
          [
           "Scrypt"
          ],
          [
           "CryptoNight"
          ],
          [
           "SHA-256"
          ],
          [
           "Quark"
          ],
          [
           "SHA-256"
          ],
          [
           "Blake"
          ],
          [
           "Scrypt"
          ],
          [
           "Scrypt"
          ],
          [
           "SHA-256"
          ],
          [
           "X11"
          ],
          [
           "Scrypt"
          ],
          [
           "Scrypt-n"
          ],
          [
           "X11"
          ],
          [
           "Scrypt"
          ],
          [
           "Dagger"
          ],
          [
           "Scrypt"
          ],
          [
           "SHA-256"
          ],
          [
           "CryptoNight-Lite"
          ],
          [
           "X11GOST"
          ],
          [
           "X11"
          ],
          [
           "SHA-256"
          ],
          [
           "Scrypt"
          ],
          [
           "SHA-256"
          ],
          [
           "Scrypt"
          ],
          [
           "PoS"
          ],
          [
           "Scrypt"
          ],
          [
           "X11"
          ],
          [
           "X11"
          ],
          [
           "X11"
          ],
          [
           "X11"
          ],
          [
           "PoS"
          ],
          [
           "SHA-256"
          ],
          [
           "SHA-256"
          ],
          [
           "SHA-256"
          ],
          [
           "NIST5"
          ],
          [
           "X15"
          ],
          [
           "X11"
          ],
          [
           "NIST5"
          ],
          [
           "Scrypt"
          ],
          [
           "Scrypt"
          ],
          [
           "Scrypt"
          ],
          [
           "POS 3.0"
          ],
          [
           "Scrypt"
          ],
          [
           "Scrypt"
          ],
          [
           "Scrypt"
          ],
          [
           "X13"
          ],
          [
           "X11"
          ],
          [
           "X11"
          ],
          [
           "Equihash"
          ],
          [
           "X11"
          ],
          [
           "X11"
          ],
          [
           "Scrypt"
          ],
          [
           "CryptoNight"
          ],
          [
           "SHA-256"
          ],
          [
           "SHA-256"
          ],
          [
           "X11"
          ],
          [
           "Scrypt"
          ],
          [
           "Multiple"
          ],
          [
           "Scrypt"
          ],
          [
           "X11"
          ],
          [
           "SHA-256"
          ],
          [
           "Scrypt"
          ],
          [
           "Scrypt"
          ],
          [
           "SHA-256D"
          ],
          [
           "PoS"
          ],
          [
           "Scrypt"
          ],
          [
           "X11"
          ],
          [
           "Scrypt-n"
          ],
          [
           "Lyra2Z"
          ],
          [
           "SHA-256"
          ],
          [
           "PoS"
          ],
          [
           "X13"
          ],
          [
           "Quark"
          ],
          [
           "X14"
          ],
          [
           "PoS"
          ],
          [
           "SHA-256D"
          ],
          [
           "Ethash"
          ],
          [
           "SHA-256"
          ],
          [
           "Equihash"
          ],
          [
           "DPoS"
          ],
          [
           "X11"
          ],
          [
           "Scrypt"
          ],
          [
           "Scrypt"
          ],
          [
           "Equihash"
          ],
          [
           "X11"
          ],
          [
           "X13"
          ],
          [
           "X11"
          ],
          [
           "PoS"
          ],
          [
           "SHA-256D"
          ],
          [
           "Scrypt"
          ],
          [
           "Scrypt"
          ],
          [
           "Scrypt"
          ],
          [
           "X11"
          ],
          [
           "PoS"
          ],
          [
           "X11"
          ],
          [
           "SHA-256"
          ],
          [
           "Scrypt"
          ],
          [
           "X11"
          ],
          [
           "Scrypt"
          ],
          [
           "Scrypt"
          ],
          [
           "X11"
          ],
          [
           "CryptoNight"
          ],
          [
           "Scrypt"
          ],
          [
           "Scrypt"
          ],
          [
           "Scrypt"
          ],
          [
           "Scrypt"
          ],
          [
           "Quark"
          ],
          [
           "QuBit"
          ],
          [
           "Scrypt"
          ],
          [
           "CryptoNight"
          ],
          [
           "X11"
          ],
          [
           "Lyra2RE"
          ],
          [
           "X13"
          ],
          [
           "PoS"
          ],
          [
           "Scrypt"
          ],
          [
           "SHA-256"
          ],
          [
           "X11"
          ],
          [
           "X11"
          ],
          [
           "X11"
          ],
          [
           "Scrypt"
          ],
          [
           "X11"
          ],
          [
           "Scrypt"
          ],
          [
           "Scrypt"
          ],
          [
           "CryptoNight-V7"
          ],
          [
           "Scrypt"
          ],
          [
           "Scrypt"
          ],
          [
           "Keccak"
          ],
          [
           "Scrypt"
          ],
          [
           "X13"
          ],
          [
           "X11"
          ],
          [
           "Equihash"
          ],
          [
           "Scrypt"
          ],
          [
           "Scrypt"
          ],
          [
           "Lyra2RE"
          ],
          [
           "Ethash"
          ],
          [
           "X11"
          ],
          [
           "Scrypt"
          ],
          [
           "Dagger-Hashimoto"
          ],
          [
           "X11"
          ],
          [
           "Blake2S"
          ],
          [
           "X11"
          ],
          [
           "Scrypt"
          ],
          [
           "Scrypt"
          ],
          [
           "PoS"
          ],
          [
           "X11"
          ],
          [
           "NIST5"
          ],
          [
           "PoS"
          ],
          [
           "X11"
          ],
          [
           "Scrypt"
          ],
          [
           "Scrypt"
          ],
          [
           "Scrypt"
          ],
          [
           "Scrypt"
          ],
          [
           "SHA-256"
          ],
          [
           "X11"
          ],
          [
           "Scrypt"
          ],
          [
           "Scrypt"
          ],
          [
           "Scrypt"
          ],
          [
           "SHA-256"
          ],
          [
           "PoS"
          ],
          [
           "Scrypt"
          ],
          [
           "X11"
          ],
          [
           "X15"
          ],
          [
           "SHA-256"
          ],
          [
           "Scrypt"
          ],
          [
           "POS 3.0"
          ],
          [
           "CryptoNight-V7"
          ],
          [
           "536"
          ],
          [
           "Blake2b"
          ],
          [
           "Cloverhash"
          ],
          [
           "CryptoNight"
          ],
          [
           "NIST5"
          ],
          [
           "X11"
          ],
          [
           "NIST5"
          ],
          [
           "Skein"
          ],
          [
           "Scrypt"
          ],
          [
           "X13"
          ],
          [
           "Scrypt"
          ],
          [
           "X11"
          ],
          [
           "X11"
          ],
          [
           "X11"
          ],
          [
           "Scrypt"
          ],
          [
           "CryptoNight"
          ],
          [
           "X13"
          ],
          [
           "Time Travel"
          ],
          [
           "Scrypt"
          ],
          [
           "Keccak"
          ],
          [
           "SkunkHash v2 Raptor"
          ],
          [
           "X11"
          ],
          [
           "Skein"
          ],
          [
           "SHA-256"
          ],
          [
           "X11"
          ],
          [
           "Scrypt"
          ],
          [
           "Scrypt"
          ],
          [
           "VeChainThor Authority"
          ],
          [
           "Scrypt"
          ],
          [
           "PoS"
          ],
          [
           "Scrypt"
          ],
          [
           "Scrypt"
          ],
          [
           "Scrypt"
          ],
          [
           "Scrypt"
          ],
          [
           "Scrypt"
          ],
          [
           "Scrypt"
          ],
          [
           "Scrypt"
          ],
          [
           "CryptoNight"
          ],
          [
           "SHA-512"
          ],
          [
           "Ouroboros"
          ],
          [
           "X11"
          ],
          [
           "Equihash"
          ],
          [
           "NeoScrypt"
          ],
          [
           "X11"
          ],
          [
           "Scrypt"
          ],
          [
           "NeoScrypt"
          ],
          [
           "Lyra2REv2"
          ],
          [
           "Equihash"
          ],
          [
           "Scrypt"
          ],
          [
           "SHA-256"
          ],
          [
           "NIST5"
          ],
          [
           "PHI1612"
          ],
          [
           "Dagger"
          ],
          [
           "Scrypt"
          ],
          [
           "Quark"
          ],
          [
           "Scrypt"
          ],
          [
           "POS 2.0"
          ],
          [
           "Scrypt"
          ],
          [
           "SkunkHash"
          ],
          [
           "X11"
          ],
          [
           "Quark"
          ],
          [
           "SHA-256"
          ],
          [
           "X11"
          ],
          [
           "NeoScrypt"
          ],
          [
           "Scrypt"
          ],
          [
           "Ethash"
          ],
          [
           "Scrypt"
          ],
          [
           "NeoScrypt"
          ],
          [
           "Quark"
          ],
          [
           "X11"
          ],
          [
           "DPoS"
          ],
          [
           "NIST5"
          ],
          [
           "X13"
          ],
          [
           "Multiple"
          ],
          [
           "Scrypt"
          ],
          [
           "CryptoNight"
          ],
          [
           "CryptoNight"
          ],
          [
           "Ethash"
          ],
          [
           "NIST5"
          ],
          [
           "Quark"
          ],
          [
           "X11"
          ],
          [
           "SHA-256"
          ],
          [
           "CryptoNight-V7"
          ],
          [
           "Scrypt"
          ],
          [
           "Scrypt"
          ],
          [
           "Scrypt"
          ],
          [
           "X11"
          ],
          [
           "SHA-256"
          ],
          [
           "BLAKE256"
          ],
          [
           "X11"
          ],
          [
           "Scrypt"
          ],
          [
           "NeoScrypt"
          ],
          [
           "Quark"
          ],
          [
           "NeoScrypt"
          ],
          [
           "Scrypt"
          ],
          [
           "Scrypt"
          ],
          [
           "Scrypt"
          ],
          [
           "X11"
          ],
          [
           "X11"
          ],
          [
           "SHA-256"
          ],
          [
           "C11"
          ],
          [
           "Scrypt"
          ],
          [
           "Scrypt"
          ],
          [
           "POS 3.0"
          ],
          [
           "Ethash"
          ],
          [
           "Scrypt"
          ],
          [
           "CryptoNight"
          ],
          [
           "SkunkHash"
          ],
          [
           "Scrypt"
          ],
          [
           "CryptoNight"
          ],
          [
           "Equihash"
          ],
          [
           "Skein"
          ],
          [
           "Scrypt"
          ],
          [
           "Dagger"
          ],
          [
           "Lyra2REv2"
          ],
          [
           "X13"
          ],
          [
           "Proof-of-BibleHash"
          ],
          [
           "SHA-256 + Hive"
          ],
          [
           "Scrypt"
          ],
          [
           "Scrypt"
          ],
          [
           "Scrypt"
          ],
          [
           "NeoScrypt"
          ],
          [
           "Equihash"
          ],
          [
           "X11"
          ],
          [
           "C11"
          ],
          [
           "Proof-of-Authority"
          ],
          [
           "X11"
          ],
          [
           "XEVAN"
          ],
          [
           "Scrypt"
          ],
          [
           "VBFT"
          ],
          [
           "Ethash"
          ],
          [
           "X11"
          ],
          [
           "CryptoNight"
          ],
          [
           "NeoScrypt"
          ],
          [
           "Scrypt"
          ],
          [
           "IMesh"
          ],
          [
           "NIST5"
          ],
          [
           "Equihash"
          ],
          [
           "Scrypt"
          ],
          [
           "Scrypt"
          ],
          [
           "Equihash"
          ],
          [
           "Equihash"
          ],
          [
           "Scrypt"
          ],
          [
           "Lyra2Z"
          ],
          [
           "Equihash"
          ],
          [
           "Green Protocol"
          ],
          [
           "PoS"
          ],
          [
           "Scrypt"
          ],
          [
           "Scrypt"
          ],
          [
           "Semux BFT consensus"
          ],
          [
           "Scrypt"
          ],
          [
           "X11"
          ],
          [
           "Quark"
          ],
          [
           "PoS"
          ],
          [
           "CryptoNight"
          ],
          [
           "X16R"
          ],
          [
           "Scrypt"
          ],
          [
           "NIST5"
          ],
          [
           "Lyra2RE"
          ],
          [
           "XEVAN"
          ],
          [
           "Tribus"
          ],
          [
           "Scrypt"
          ],
          [
           "Lyra2Z"
          ],
          [
           "CryptoNight"
          ],
          [
           "CryptoNight Heavy"
          ],
          [
           "CryptoNight"
          ],
          [
           "Scrypt"
          ],
          [
           "Scrypt"
          ],
          [
           "Jump Consistent Hash"
          ],
          [
           "SHA-256D"
          ],
          [
           "CryptoNight"
          ],
          [
           "Scrypt"
          ],
          [
           "X15"
          ],
          [
           "Scrypt"
          ],
          [
           "Quark"
          ],
          [
           "SHA-256"
          ],
          [
           "DPoS"
          ],
          [
           "X16R"
          ],
          [
           "HMQ1725"
          ],
          [
           "X11"
          ],
          [
           "X16R"
          ],
          [
           "Quark"
          ],
          [
           "Quark"
          ],
          [
           "Scrypt"
          ],
          [
           "Zhash"
          ],
          [
           "Lyra2REv2"
          ],
          [
           "Quark"
          ],
          [
           "Scrypt"
          ],
          [
           "Scrypt"
          ],
          [
           "CryptoNight-V7"
          ],
          [
           "Cryptonight-GPU"
          ],
          [
           "Scrypt"
          ],
          [
           "XEVAN"
          ],
          [
           "CryptoNight Heavy"
          ],
          [
           "X11"
          ],
          [
           "X11"
          ],
          [
           "Scrypt"
          ],
          [
           "PoS"
          ],
          [
           "Lyra2REv2"
          ],
          [
           "Scrypt"
          ],
          [
           "SHA-256"
          ],
          [
           "Scrypt"
          ],
          [
           "Keccak"
          ],
          [
           "X11"
          ],
          [
           "X11"
          ],
          [
           "Quark"
          ],
          [
           "Scrypt"
          ],
          [
           "SHA-512"
          ],
          [
           "X16R"
          ],
          [
           "ECC 256K1"
          ],
          [
           "NeoScrypt"
          ],
          [
           "Equihash"
          ],
          [
           "XEVAN"
          ],
          [
           "Quark"
          ],
          [
           "CryptoNight Heavy X"
          ],
          [
           "Lyra2Z"
          ],
          [
           "Ethash"
          ],
          [
           "SHA-256"
          ],
          [
           "XEVAN"
          ],
          [
           "Ethash"
          ],
          [
           "CryptoNight"
          ],
          [
           "Quark"
          ],
          [
           "SkunkHash"
          ],
          [
           "Quark"
          ],
          [
           "Argon2"
          ],
          [
           "Blake"
          ],
          [
           "Blake"
          ],
          [
           "SHA-256"
          ],
          [
           "Equihash"
          ],
          [
           "Exosis"
          ],
          [
           "Scrypt"
          ],
          [
           "Scrypt"
          ],
          [
           "Equihash"
          ],
          [
           "Quark"
          ],
          [
           "Equihash"
          ],
          [
           "Quark"
          ],
          [
           "Scrypt"
          ],
          [
           "QuBit"
          ],
          [
           "X11"
          ],
          [
           "Scrypt"
          ],
          [
           "Equihash1927"
          ],
          [
           "XEVAN"
          ],
          [
           "SHA-256D"
          ],
          [
           "X11"
          ],
          [
           "SHA-256"
          ],
          [
           "SHA-256"
          ],
          [
           "X13"
          ],
          [
           "SHA-256"
          ],
          [
           "X11"
          ],
          [
           "DPoS"
          ],
          [
           "X11"
          ],
          [
           "Scrypt"
          ],
          [
           "X11"
          ],
          [
           "Scrypt"
          ],
          [
           "NeoScrypt"
          ],
          [
           "Scrypt"
          ],
          [
           "Blake"
          ],
          [
           "Scrypt"
          ],
          [
           "SHA-256"
          ],
          [
           "X11"
          ],
          [
           "CryptoNight"
          ],
          [
           "Scrypt"
          ],
          [
           "Scrypt"
          ],
          [
           "SHA-256"
          ],
          [
           "X11"
          ],
          [
           "SHA-256"
          ],
          [
           "Scrypt"
          ],
          [
           "CryptoNight"
          ],
          [
           "Scrypt"
          ],
          [
           "SHA-256"
          ],
          [
           "Scrypt"
          ],
          [
           "Groestl"
          ],
          [
           "X11"
          ],
          [
           "Scrypt"
          ],
          [
           "PoS"
          ],
          [
           "Scrypt"
          ],
          [
           "Scrypt"
          ],
          [
           "X11"
          ],
          [
           "SHA-256"
          ],
          [
           "DPoS"
          ],
          [
           "Scrypt"
          ],
          [
           "Scrypt"
          ],
          [
           "Scrypt"
          ],
          [
           "NeoScrypt"
          ],
          [
           "Scrypt"
          ],
          [
           "SHA3-256"
          ],
          [
           "Multiple"
          ],
          [
           "X13"
          ],
          [
           "Equihash+Scrypt"
          ],
          [
           "Ethash"
          ],
          [
           "Ethash"
          ],
          [
           "SHA-256"
          ],
          [
           "Leased POS"
          ],
          [
           "PoS"
          ],
          [
           "TRC10"
          ],
          [
           "PoS"
          ],
          [
           "SHA-256"
          ],
          [
           "Scrypt"
          ],
          [
           "CryptoNight"
          ],
          [
           "Equihash"
          ],
          [
           "Scrypt"
          ]
         ],
         "hovertemplate": "<b>%{hovertext}</b><br><br>PC 1=%{z}<br>PC 2=%{y}<br>Algorithm=%{customdata[0]}<br>Class=%{marker.color}<extra></extra>",
         "hovertext": [
          "42 Coin",
          "404Coin",
          "EliteCoin",
          "Bitcoin",
          "Litecoin",
          "Dash",
          "Ethereum Classic",
          "ZCash",
          "Bitshares",
          "DigiByte",
          "BitcoinDark",
          "Bitstake",
          "PayCoin",
          "ProsperCoin",
          "KoboCoin",
          "Spreadcoin",
          "ACoin",
          "Aero Coin",
          "ApexCoin",
          "ArchCoin",
          "Argentum",
          "Aurora Coin",
          "BetaCoin",
          "MyriadCoin",
          "MoonCoin",
          "ZetaCoin",
          "SexCoin",
          "Quatloo",
          "QuarkCoin",
          "Riecoin",
          "Digitalcoin ",
          "LimeCoinX",
          "BitBar",
          "BitMark",
          "CashCoin",
          "Catcoin",
          "CryptoBullion",
          "CannaCoin",
          "CinderCoin",
          "CoolCoin",
          "CryptCoin",
          "CasinoCoin",
          "Diamond",
          "Verge",
          "DarkCash",
          "DarkShibe",
          "DevCoin",
          "EarthCoin",
          "E-Gulden",
          "Elacoin",
          "Einsteinium",
          "Emerald",
          "Flappy Coin",
          "Fuel2Coin",
          "FIBRE",
          "FireRoosterCoin",
          "Franko",
          "FeatherCoin",
          "GrandCoin",
          "GlobalCoin",
          "GoldCoin",
          "GlyphCoin",
          "HoboNickels",
          "HunterCoin",
          "Infinite Coin",
          "IOCoin",
          "IXcoin",
          "JumBucks Coin",
          "JudgeCoin",
          "KrugerCoin",
          "LuckyCoin",
          "Litebar ",
          "LitecoinDark",
          "LibrexCoin",
          "MaxCoin",
          "MegaCoin",
          "MediterraneanCoin",
          "MinCoin",
          "MazaCoin",
          "Nautilus Coin",
          "NoirBits",
          "NobleCoin",
          "Namecoin",
          "NyanCoin",
          "Orbitcoin",
          "PotCoin",
          "PhoenixCoin",
          "RipOffCoin",
          "RonPaulCoin",
          "StableCoin",
          "ShieldCoin",
          "SilkCoin",
          "SmartCoin",
          "SpainCoin",
          "SecureCoin",
          "SyncCoin",
          "SysCoin",
          "TeslaCoin",
          "TigerCoin",
          "TittieCoin",
          "TorCoin",
          "TerraCoin",
          "Umbrella",
          "UnbreakableCoin",
          "Unobtanium",
          "UnitaryStatus Dollar",
          "UltraCoin",
          "ViaCoin",
          "Vertcoin",
          "WorldCoin",
          "SocialXbotCoin",
          "X11 Coin",
          "JouleCoin",
          "XXXCoin",
          "ZCC Coin",
          "ByteCoin",
          "DigitalNote ",
          "BurstCoin",
          "StorjCoin",
          "MonaCoin",
          "Neutron",
          "Sling Coin",
          "KryptCoin",
          "Gulden",
          "PesetaCoin",
          "Kore",
          "Wild Beast Coin",
          "Dnotes",
          "Flo",
          "MaieutiCoin",
          "Sativa Coin",
          "AeroMe",
          "ArtByte",
          "MasterTraderCoin",
          "BitCredit",
          "Folding Coin",
          "Ucoin",
          "OmniCron",
          "Vtorrent",
          "GreenCoin",
          "Cryptonite",
          "Gridmaster",
          "ConSpiracy Coin ",
          "MasterCoin",
          "SoonCoin",
          "1Credit",
          "Quicksilver coin",
          "Nexus",
          "MarsCoin ",
          "Crypto",
          "Anarchists Prime",
          "Droidz",
          "BowsCoin",
          "Song Coin",
          "BitZeny",
          "Diggits",
          "Expanse",
          "MapCoin",
          "Paycon",
          "Emercoin",
          "BlitzCoin",
          "EverGreenCoin",
          "MindCoin",
          "I0coin",
          "Decred",
          "DogeCoinDark",
          "Revolution VR",
          "HOdlcoin",
          "EDRCoin",
          "Hitcoin",
          "Gamecredits",
          "Dashcoin",
          "DubaiCoin",
          "BiosCrypto",
          "CarpeDiemCoin",
          "TrumpCoin",
          "BillaryCoin",
          "EthereumScrypt",
          "Phalanx",
          "SunShotCoin",
          "GPU Coin",
          "HempCoin",
          "Adzcoin",
          "VirtaCoin",
          "SoilCoin",
          "YoCoin",
          "Universal Currency",
          "AEON",
          "SibCoin",
          "EuropeCoin",
          "Anti Bitcoin",
          "ZeitCoin",
          "SwingCoin",
          "SafeExchangeCoin",
          "Nebuchadnezzar",
          "Francs",
          "BolivarCoin",
          "GIZMOcoin",
          "SecretCoin",
          "Ratecoin",
          "Digital Bullion Gold",
          "Revenu",
          "Clinton",
          "Clockcoin",
          "VIP Tokens",
          "OrlyCoin",
          "BitSend",
          "16BitCoin",
          "ChessCoin",
          "ReeCoin",
          "Omni",
          "Let it Ride",
          "PutinCoin",
          "iBankCoin",
          "Frankywillcoin",
          "MudraCoin",
          "PizzaCoin",
          "Lutetium Coin",
          "Komodo",
          "GoldBlocks",
          "WayCoin",
          "CarterCoin",
          "Karbo",
          "BitTokens",
          "ZayedCoin",
          "MustangCoin",
          "ZoneCoin",
          "Circuits of Value",
          "DopeCoin",
          "PROUD Money",
          "DollarCoin",
          "Swiscoin",
          "Shilling",
          "BuzzCoin",
          "Opair",
          "GBR Coin",
          "Halloween Coin",
          "FujiCoin",
          "ZCoin",
          "LeaCoin",
          "CoffeeCoin",
          "RoyalCoin",
          "Zurcoin",
          "GanjaCoin V2",
          "TeamUP",
          "LanaCoin",
          "Elementrem",
          "CashOut",
          "ZClassic",
          "ARK",
          "InsaneCoin",
          "LuckChain",
          "KiloCoin",
          "Hush",
          "ArtexCoin",
          "EmberCoin",
          "XenixCoin",
          "FreeCoin",
          "NPCcoin",
          "PLNCoin",
          "Icobid",
          "AquariusCoin",
          "Kurrent",
          "Creatio",
          "Eternity",
          "Eurocoin",
          "BitcoinFast",
          "Stakenet",
          "BitConnect Coin",
          "MoneyCoin",
          "Enigma",
          "Cannabis Industry Coin",
          "Russiacoin",
          "PandaCoin",
          "GameUnits",
          "GAKHcoin",
          "Allsafe",
          "LiteCreed",
          "OsmiumCoin",
          "Bikercoins",
          "NeptuneClassic",
          "HexxCoin",
          "GoldenBird",
          "Ride My Car",
          "Klingon Empire Darsek",
          "Internet of People",
          "KushCoin",
          "Eryllium",
          "MarxCoin",
          "Printerium",
          "PacCoin",
          "Impeach",
          "Solarflarecoin",
          "Citadel",
          "Zilbercoin",
          "FirstCoin",
          "CreativeChain",
          "BeaverCoin",
          "FindCoin",
          "VaultCoin",
          "Zero",
          "OpenChat",
          "Canada eCoin",
          "Zoin",
          "Musicoin",
          "BnrtxCoin",
          "RenosCoin",
          "DubaiCoin",
          "VirtacoinPlus",
          "TajCoin",
          "Impact",
          "EB3coin",
          "Universe",
          "Atmos",
          "HappyCoin",
          "Coinonat",
          "MacronCoin",
          "Condensate",
          "Independent Money System",
          "ArgusCoin",
          "LomoCoin",
          "Bitcoin Scrypt",
          "ProCurrency",
          "GoldReserve",
          "BenjiRolls",
          "ParallelCoin",
          "GrowthCoin",
          "ILCoin",
          "Phreak",
          "Degas Coin",
          "ZSEcoin",
          "HTML5 Coin",
          "Ultimate Secure Cash",
          "EquiTrader",
          "QTUM",
          "Quantum Resistant Ledger",
          "Espers",
          "Nano",
          "ChanCoin",
          "Dinastycoin",
          "Denarius",
          "DigitalPrice",
          "Virta Unique Coin",
          "Bitcoin Planet",
          "Unify",
          "BritCoin",
          "SocialCoin",
          "Octanox",
          "ArcticCoin",
          "DAS",
          "Linda",
          "LeviarCoin",
          "DeepOnion",
          "Bitcore",
          "gCn Coin",
          "SmartCash",
          "Signatum",
          "Onix",
          "Cream",
          "Bitcoin Cash",
          "Monoeci",
          "CampusCoin",
          "Draftcoin",
          "Vechain",
          "Sojourn Coin",
          "Stakecoin",
          "LiteBitcoin",
          "FrazCoin",
          "Kronecoin",
          "AdCoin",
          "Linx",
          "CoinonatX",
          "Ethereum Dark",
          "Sumokoin",
          "Obsidian",
          "Cardano",
          "Regalcoin",
          "BitcoinZ",
          "TrezarCoin",
          "Elements",
          "TerraNovaCoin",
          "VIVO Coin",
          "Rupee",
          "Bitcoin Gold",
          "WomenCoin",
          "Theresa May Coin",
          "NamoCoin",
          "LUXCoin",
          "Pirl",
          "Xios",
          "Bitcloud 2.0",
          "eBoost",
          "KekCoin",
          "BlackholeCoin",
          "AltCommunity Coin",
          "Pure",
          "Rupaya",
          "Infinity Economics",
          "Pura",
          "Innova",
          "Bitdeal",
          "Ellaism",
          "Sakuracoin",
          "GoByte",
          "Castle",
          "Magnet",
          "Lamden Tau",
          "Electra",
          "Bitcoin Diamond",
          "SHIELD",
          "Cash & Back Coin",
          "UltraNote",
          "BitCoal",
          "DaxxCoin",
          "Bulwark",
          "Kalkulus",
          "AC3",
          "CHIPS",
          "Lethean",
          "GermanCoin",
          "LiteCoin Ultra",
          "PopularCoin",
          "PhantomX",
          "HTML Coin",
          "Photon",
          "Sucre",
          "Fantasy Cash",
          "SparksPay",
          "Digiwage",
          "GunCoin",
          "IrishCoin",
          "Trollcoin",
          "Litecoin Plus",
          "Monkey Project",
          "Pioneer Coin",
          "UnitedBitcoin",
          "Interzone",
          "OP Coin",
          "Valorbit",
          "TokenPay",
          "1717 Masonic Commemorative Token",
          "My Big Coin",
          "TurtleCoin",
          "MUNcoin",
          "Unified Society USDEX",
          "Niobio Cash",
          "Bitcoin Private",
          "Skeincoin",
          "ShareChain",
          "Travelflex",
          "KREDS",
          "Tokyo Coin",
          "BiblePay",
          "LitecoinCash",
          "BitFlip",
          "LottoCoin",
          "LeafCoin",
          "Cerberus",
          "Bitcoin Hush",
          "Crypto Improvement Fund",
          "Stipend",
          "Poa Network",
          "Pushi",
          "Ellerium",
          "Velox",
          "Ontology",
          "Callisto Network",
          "Curium",
          "BitTube",
          "Dinero",
          "Poseidon",
          "Aidos Kuneen",
          "Bitspace",
          "Snowgem",
          "Briacoin",
          "Ignition",
          "Bitrolium",
          "Bitcoin Interest",
          "MedicCoin",
          "Alpenschillling",
          "Zelcash",
          "Bitcoin Green",
          "Deviant Coin",
          "Abjcoin",
          "Profit Hunters Coin",
          "Semux",
          "BitBlocks",
          "FuturoCoin",
          "Carebit",
          "Zealium",
          "Monero Classic",
          "Proton",
          "iDealCash",
          "Jumpcoin",
          "Infinex",
          "Bitcoin Incognito",
          "KEYCO",
          "HollyWoodCoin",
          "GINcoin",
          "PlatinCoin",
          "Loki",
          "Newton Coin",
          "Swisscoin",
          "Xt3ch",
          "MassGrid",
          "TheVig",
          "PluraCoin",
          "EmaratCoin",
          "Dekado",
          "Lynx",
          "Poseidon Quark",
          "BitcoinWSpectrum",
          "Muse",
          "Motion",
          "PlusOneCoin",
          "Axe",
          "Trivechain",
          "Dystem",
          "Giant",
          "Peony Coin",
          "SafeCoin",
          "Absolute Coin",
          "Vitae",
          "HexCoin",
          "TPCash",
          "Webchain",
          "Ryo",
          "MUSDcoin",
          "Urals Coin",
          "Qwertycoin",
          "ARENON",
          "EUNO",
          "MMOCoin",
          "Ketan",
          "NIX",
          "Safe Trade Coin",
          "Project Pai",
          "Mont Blanc",
          "XDNA",
          "PAXEX",
          "Azart",
          "Apollon",
          "ThunderStake",
          "Kcash",
          "Xchange",
          "Acute Angle Cloud",
          "Traid",
          "CrypticCoin",
          "Bettex coin",
          "ZestCoin",
          "X-CASH",
          "Actinium",
          "ETHER-1",
          "Bitcoin SV",
          "BitMoney",
          "Bitcoiin2Gen",
          "FREDEnergy",
          "Zenad",
          "C25 Coin",
          "HerbCoin",
          "Aquachain",
          "Universal Molecule",
          "Lithium",
          "Smart Bitcoin",
          "PirateCash",
          "Exosis",
          "Block-Logic",
          "Oduwa",
          "Beam",
          "Galilel",
          "Bithereum",
          "Crypto Sports",
          "Credit",
          "SLICE",
          "Dash Platinum",
          "Nasdacoin",
          "Vidulum",
          "Beetle Coin",
          "Titan Coin",
          "Award",
          "BlockStamp",
          "BLAST",
          "Bitcoin Rhodium",
          "GlobalToken",
          "Insane Coin",
          "ALAX",
          "The Freedom Coin",
          "LiteDoge",
          "Boolberry",
          "SolarCoin",
          "UFO Coin",
          "OrangeCoin",
          "BlakeCoin",
          "BitstarCoin",
          "NeosCoin",
          "PinkCoin",
          "FantomCoin ",
          "Crypto Escudo",
          "AudioCoin",
          "IncaKoin",
          "Piggy Coin",
          "Crown Coin",
          "Genstake",
          "Quazar Coin",
          "SmileyCoin",
          "ParkByte",
          "XiaoMiCoin",
          "Groestlcoin",
          "CapriCoin",
          " ClubCoin",
          "Radium",
          "Bata",
          "Pakcoin",
          "Creditbit ",
          "OKCash",
          "Lisk",
          "HiCoin",
          "WhiteCoin",
          "Dotcoin",
          "FriendshipCoin",
          "The Hempcoin",
          "Fiii",
          "JoinCoin",
          "Triangles Coin",
          "Vollar",
          "Reality Clash",
          "iOlite",
          "TigerCash",
          "Waves",
          "Particl",
          "BitTorrent",
          "Nxt",
          "ZEPHYR",
          "Gapcoin",
          "Beldex",
          "Horizen",
          "BitcoinPlus"
         ],
         "legendgroup": "",
         "marker": {
          "color": [
           0,
           0,
           0,
           1,
           1,
           0,
           1,
           1,
           0,
           1,
           0,
           0,
           0,
           1,
           0,
           1,
           1,
           0,
           0,
           0,
           1,
           0,
           1,
           1,
           1,
           1,
           1,
           1,
           1,
           1,
           1,
           1,
           0,
           1,
           0,
           1,
           0,
           1,
           0,
           0,
           1,
           0,
           0,
           1,
           0,
           1,
           1,
           1,
           1,
           1,
           1,
           1,
           1,
           0,
           0,
           1,
           1,
           1,
           1,
           1,
           1,
           0,
           0,
           1,
           1,
           0,
           1,
           0,
           0,
           1,
           1,
           1,
           1,
           0,
           0,
           1,
           1,
           1,
           0,
           0,
           1,
           1,
           1,
           1,
           0,
           0,
           0,
           1,
           1,
           1,
           0,
           0,
           1,
           1,
           1,
           0,
           1,
           0,
           1,
           0,
           0,
           1,
           1,
           1,
           1,
           0,
           0,
           1,
           1,
           1,
           0,
           0,
           1,
           0,
           0,
           1,
           1,
           0,
           0,
           1,
           0,
           1,
           0,
           1,
           1,
           0,
           1,
           0,
           1,
           0,
           0,
           0,
           1,
           0,
           1,
           1,
           0,
           1,
           0,
           1,
           1,
           1,
           1,
           1,
           1,
           1,
           1,
           0,
           1,
           1,
           1,
           0,
           1,
           1,
           1,
           0,
           1,
           0,
           0,
           0,
           0,
           0,
           1,
           1,
           0,
           1,
           1,
           1,
           0,
           0,
           1,
           1,
           0,
           0,
           1,
           0,
           0,
           0,
           1,
           1,
           0,
           1,
           1,
           1,
           1,
           1,
           0,
           1,
           1,
           0,
           1,
           0,
           0,
           0,
           0,
           1,
           1,
           0,
           0,
           0,
           0,
           0,
           1,
           0,
           0,
           0,
           0,
           0,
           0,
           0,
           1,
           0,
           0,
           0,
           0,
           0,
           1,
           0,
           1,
           0,
           0,
           0,
           1,
           0,
           1,
           0,
           0,
           1,
           1,
           0,
           1,
           0,
           1,
           0,
           0,
           1,
           0,
           1,
           1,
           1,
           0,
           0,
           1,
           0,
           0,
           0,
           1,
           1,
           1,
           0,
           0,
           0,
           1,
           1,
           1,
           0,
           0,
           0,
           0,
           0,
           0,
           0,
           1,
           0,
           0,
           0,
           0,
           0,
           0,
           0,
           0,
           1,
           0,
           0,
           0,
           0,
           0,
           0,
           1,
           1,
           0,
           1,
           0,
           0,
           0,
           0,
           0,
           0,
           1,
           0,
           1,
           0,
           1,
           1,
           0,
           0,
           1,
           1,
           0,
           1,
           1,
           0,
           1,
           1,
           1,
           1,
           0,
           1,
           0,
           0,
           0,
           1,
           0,
           0,
           0,
           1,
           0,
           0,
           0,
           0,
           0,
           1,
           0,
           0,
           1,
           1,
           0,
           1,
           0,
           0,
           0,
           0,
           0,
           1,
           0,
           1,
           0,
           1,
           1,
           1,
           0,
           1,
           0,
           0,
           1,
           0,
           1,
           0,
           1,
           1,
           0,
           1,
           0,
           1,
           1,
           1,
           0,
           1,
           0,
           1,
           0,
           1,
           0,
           0,
           1,
           0,
           1,
           1,
           1,
           1,
           1,
           0,
           0,
           1,
           0,
           0,
           0,
           1,
           0,
           1,
           0,
           1,
           0,
           1,
           0,
           0,
           0,
           0,
           1,
           0,
           0,
           1,
           0,
           0,
           0,
           0,
           0,
           0,
           1,
           1,
           1,
           1,
           1,
           1,
           0,
           0,
           0,
           0,
           0,
           1,
           0,
           1,
           1,
           1,
           0,
           0,
           1,
           1,
           1,
           0,
           0,
           1,
           0,
           0,
           1,
           1,
           0,
           1,
           0,
           1,
           1,
           0,
           0,
           0,
           1,
           1,
           1,
           0,
           0,
           0,
           1,
           0,
           1,
           1,
           0,
           1,
           1,
           1,
           1,
           1,
           1,
           0,
           3,
           3,
           1,
           1,
           1,
           1,
           1,
           1,
           0,
           0,
           0,
           0,
           0,
           0,
           1,
           1,
           1,
           1,
           1,
           1,
           0,
           1,
           0,
           0,
           1,
           1,
           0,
           1,
           0,
           0,
           0,
           0,
           0,
           0,
           0,
           1,
           0,
           0,
           1,
           0,
           0,
           1,
           1,
           0,
           1,
           0,
           1,
           1,
           1,
           1,
           0,
           0,
           1,
           0,
           1,
           0,
           0,
           0,
           0,
           0,
           0,
           1,
           1,
           1,
           0,
           0,
           0,
           0,
           0,
           0,
           0,
           1,
           0,
           1,
           1,
           0,
           1,
           1,
           0,
           0,
           0,
           0,
           1,
           0,
           1,
           0,
           0,
           0,
           1,
           0,
           0,
           0,
           1,
           0,
           0,
           1,
           0,
           1,
           1,
           1,
           1,
           1,
           0,
           1,
           1,
           0,
           1,
           0,
           1,
           1,
           1,
           1,
           0,
           1,
           1,
           0,
           1,
           0,
           1,
           0,
           0,
           1,
           0,
           0,
           1,
           0,
           0,
           0,
           1,
           1,
           1,
           1,
           0,
           0,
           0,
           0,
           1,
           1,
           1,
           0,
           1,
           0,
           0,
           0,
           1,
           1,
           0,
           0,
           0,
           1,
           0,
           1,
           1,
           0,
           0,
           1,
           0,
           0,
           0,
           1,
           1,
           0,
           0,
           0,
           0,
           0,
           1,
           0,
           0,
           3,
           1,
           0,
           1,
           1,
           1,
           0,
           0,
           0,
           2,
           0,
           0,
           0,
           1,
           1,
           0
          ],
          "coloraxis": "coloraxis",
          "symbol": "circle"
         },
         "mode": "markers",
         "name": "",
         "scene": "scene",
         "showlegend": false,
         "type": "scatter3d",
         "x": [
          -0.17244324574203496,
          -0.15787372561031912,
          0.4160761530887279,
          -0.24818028956839794,
          -0.321037682688551,
          -0.13935642610865717,
          -0.3418733682732275,
          -0.3442028741258849,
          0.33144042493847137,
          -0.13474114671860685,
          -0.09894517001772936,
          -0.13948112615509475,
          0.027523637239299552,
          -0.32182845404643695,
          -0.004795774867752914,
          -0.28879202957922157,
          -0.24842781995994517,
          0.13812036838170774,
          0.01179939133144192,
          -0.04612226929353781,
          -0.32173956818593563,
          -0.17219284499131257,
          -0.24842782000307617,
          -0.2689224351082337,
          -0.3219086438581819,
          -0.2460777140651227,
          -0.32012774159926927,
          -0.3218065072629949,
          -0.07142997449418238,
          -0.34410683725906605,
          -0.3214463344968104,
          -0.28894598012381945,
          -0.1724426584042748,
          -0.32190810030185485,
          -0.17244324638924755,
          -0.3218084103584225,
          -0.17242889866512384,
          -0.32184315121558366,
          -0.14276823853672688,
          -0.046122269412143084,
          -0.28887698396765504,
          0.9883067927999845,
          -0.19528050103132596,
          -0.07228527672335096,
          -0.13948112615852803,
          -0.3219081002656246,
          0.01079318281304049,
          -0.14877500257666082,
          -0.3216193777480135,
          -0.32190810036913325,
          -0.3188860153755379,
          -0.3216388973976932,
          -0.321908242140465,
          -0.013160149243443341,
          -0.09435389394869333,
          -0.24842781996136734,
          -0.32189232194394496,
          -0.3344001773558526,
          -0.30970048840285086,
          -0.32100132079306587,
          -0.3213328963747925,
          -0.1394811261631814,
          -0.17121068857363653,
          -0.2922330923753502,
          0.9289974331516125,
          -0.13923741025415157,
          -0.24813662768329625,
          -0.13948112615792185,
          0.01179939130930914,
          -0.31981697918699603,
          -0.3216412511151052,
          -0.32189285197315576,
          -0.3219081003790691,
          -0.1394811261546686,
          0.008572885477876975,
          -0.3213813145601103,
          -0.37260467649723245,
          -0.32182795841026246,
          -0.07667984195488424,
          -0.04589886308557845,
          -0.2484278200286141,
          -0.2892385356109829,
          -0.2482243463633467,
          -0.31728658539589255,
          -0.1877720636762213,
          -0.16936861931633657,
          -0.17142204985629358,
          -0.3219081002797502,
          -0.3218928545803917,
          -0.32157374821219264,
          -0.005148454286650321,
          -0.17244324632336863,
          -0.32155471345323705,
          -0.3681096595839491,
          -0.32190810029251904,
          -0.1394811099017615,
          -0.2406495220631325,
          -0.015339060857869354,
          -0.24782668335064775,
          0.12098364169906627,
          -0.13946135580885752,
          -0.24811113832127196,
          -0.24842781996139945,
          -0.24839636439429602,
          -0.24842504585781877,
          -0.15726940241819584,
          -0.1717496211231996,
          -0.32158844312460305,
          -0.32090020454205515,
          -0.32025662146151207,
          -0.17244324632478736,
          -0.13938515219224232,
          -0.24788662277265483,
          -0.17244324639288874,
          -0.17039986468541785,
          2.334277929715863,
          -0.1118712437915916,
          1.4102071021378824,
          0.15660955853879854,
          -0.32096649882383177,
          -0.09842279124977382,
          -0.24842781995909416,
          -0.04612226929438469,
          -0.3161775205077642,
          -0.32000931819615885,
          0.011827316614059533,
          -0.32190558840685457,
          -0.043710834504147034,
          -0.31980561521335266,
          0.02735801103478129,
          0.011897381237398912,
          0.011799391322929136,
          -0.3109651015926149,
          -0.13948112616759362,
          -0.36716188818247053,
          -0.35792146916319517,
          -0.01312300940817417,
          -0.3217680910663741,
          -0.17228301353618633,
          -0.2582505916740488,
          -0.3909511983988225,
          -0.32190810038190215,
          -0.28894598014084455,
          -0.32189954678828253,
          -0.24825574170122142,
          -0.3219070127845722,
          -0.28894598014084455,
          0.1843235378228481,
          -0.28850107903855543,
          -0.4009509492254241,
          -0.2482241972882506,
          -0.12150235516526627,
          -0.28872693934665383,
          -0.3214584534550909,
          -0.3208640494006201,
          -0.04474151411150743,
          -0.34329367399992705,
          -0.013160149104727905,
          0.012117553245150079,
          -0.09836841703646783,
          0.13812036838617353,
          -0.004961630447594107,
          -0.2887268860769242,
          -0.248137896212656,
          0.07325842954489284,
          -0.3219081236725519,
          -0.3190085144293331,
          -0.40493117587958727,
          -0.09891229658344725,
          0.012351081204914068,
          -0.32094383472939486,
          -0.2072343041533993,
          -0.09889214689912201,
          0.07445103045564475,
          0.05174796412582614,
          -0.038172596890780466,
          -0.172318995757245,
          -0.1724432463279084,
          -0.2484278199789569,
          -0.28894598328627413,
          -0.04556338068093421,
          -0.3681096666068969,
          -0.28832311702343827,
          -0.3219081300570503,
          -0.36377870757445796,
          -0.3218993125110465,
          -0.09896296631484358,
          -0.39618488721667855,
          -0.3372847634087932,
          -0.13933742776880856,
          -0.24842782001726388,
          0.4643598916975969,
          -0.09890252928731455,
          0.46565625781861086,
          0.16058005509474532,
          -0.321817373516085,
          -0.28875745066163916,
          -0.13948112615339178,
          -0.13948112618304437,
          -0.13762325177744583,
          0.1603039040417122,
          -0.09894645905808962,
          -0.24842781996111044,
          -0.09873289399137294,
          -0.09320164821267375,
          -0.005148454336307397,
          -0.13914439155170705,
          -0.09435389397050871,
          -0.1724432464278854,
          -0.17244324681852177,
          -0.32189958862516377,
          0.13275051874329774,
          -0.16121643359555832,
          -0.1723807489262949,
          -0.17106249116319183,
          0.13818940587291553,
          -0.28892695446747874,
          -0.004088587708526031,
          -0.23442953023049773,
          -0.13926622722275728,
          -0.013160149243443341,
          -0.17184723652034373,
          -0.20712629548693423,
          -0.09895474462921565,
          -0.2483416078197253,
          -0.13947204580880687,
          -0.17240759566410827,
          -0.2784255410119373,
          -0.3202947538673303,
          -0.13948114034102385,
          -0.24830207853649994,
          -0.1346796823125585,
          -0.3217545713618999,
          0.2043712063064096,
          0.16132612966958787,
          -0.32190810038686785,
          -0.13582656643895513,
          -0.3681096595271978,
          -0.3471421802347966,
          -0.2484278227952301,
          0.16235731932609937,
          0.1381548889827441,
          -0.07501382363525068,
          -0.11173644530607584,
          0.16054993603444404,
          -0.0510080933415334,
          -0.34307675375161906,
          -0.24842782009955292,
          -0.3442273066772329,
          6.89696087729436,
          -0.13922785683303018,
          -0.17244324774072728,
          -0.31919771981087625,
          -0.34430481606641156,
          -0.2775685571261755,
          1.2847566766874807,
          -0.13942792114499175,
          0.16099428164237287,
          -0.06595011057530528,
          -0.17220728081877204,
          -0.17244324660570517,
          -0.17240942371153298,
          -0.28809868250928355,
          0.16058005509474532,
          -0.13939732154287424,
          -0.09879152381776449,
          -0.1721637259392882,
          -0.14178553160497326,
          -0.1722902487001069,
          -0.17229254584002257,
          -0.13946987754732862,
          -0.20722079836808652,
          -0.17232756860072568,
          0.4207544602298434,
          -0.17239529294353126,
          -0.17239746339427858,
          0.20091723221929775,
          -0.12541975135769062,
          -0.32189575595519165,
          -0.20710510567415166,
          -0.13948112650794456,
          -0.4011147977381916,
          0.011799390701504632,
          0.16030390392111604,
          -0.1721123438871314,
          -0.09892808708424938,
          -0.13940298788531513,
          -0.1394811262951278,
          -0.2889459802368108,
          -0.1722800172143386,
          -0.28153171352154643,
          -0.17243899115519026,
          -0.3219081002911004,
          -0.3586160867011163,
          -0.046081915201069676,
          -0.13445475520607503,
          -0.33058844419024985,
          -0.3218650861775285,
          0.1383209210277881,
          -0.2885264315586257,
          -0.34420924495762323,
          -0.15863569473437006,
          -0.32052950725194607,
          -0.40088463121554135,
          -0.34343858872864164,
          -0.2889459803919683,
          -0.04562450199347271,
          -0.35666466846071604,
          -0.13929938093941607,
          -0.09678490305738091,
          -0.13795359136495602,
          -0.32102309630234627,
          -0.04612226942916839,
          0.1618384178652675,
          -0.13918396950070883,
          -0.24367897133644825,
          0.16584655076767646,
          -0.13780122469002354,
          -0.17236911451125236,
          -0.17242739081802824,
          -0.17243634396422394,
          -0.32190810029251904,
          0.028746195330130342,
          -0.13924403144284384,
          -0.32162813699939263,
          -0.32190810026414357,
          -0.042047173511972714,
          -0.23023295504937458,
          0.1604611751693248,
          -0.17214833420484102,
          -0.13948112912346028,
          0.5562529918613281,
          0.027500823831907637,
          -0.3217193040807825,
          0.13359844312092617,
          -0.3578143275727802,
          0.5421900247482507,
          -0.43301590815778557,
          -0.3489639989768425,
          -0.18224999347454846,
          -0.0942962973839213,
          -0.2884607969760011,
          -0.09348481808116872,
          -0.16240446357721422,
          -0.32165772523893726,
          0.012093051605025558,
          -0.3218367460418957,
          -0.13948112616446637,
          -0.28858639885265297,
          -0.28890976448336525,
          -0.047554953823162355,
          -0.2070387643582534,
          0.012102011701599056,
          -0.32445174533195037,
          1.9294835176697362,
          -0.29964559850535627,
          0.14026026640331965,
          -0.2872548927856264,
          -0.16184487879461049,
          -0.24817934492953925,
          -0.13930757540802305,
          -0.32190810169569,
          -0.04586457482754092,
          7.050552344544671,
          -0.321901415541863,
          0.1603591341876226,
          -0.3219081016815021,
          -0.32177411121680943,
          -0.321667106811843,
          -0.32145732893496537,
          -0.32144255768466723,
          -0.1721734524933763,
          -0.1723852546052818,
          -0.207110772867814,
          0.2939312456467383,
          0.7769159541132805,
          -0.13938085019039972,
          -0.2723460479754469,
          -0.18529474367937573,
          -0.2516261597316059,
          -0.17242749558644185,
          -0.33722386466182847,
          -0.045489576096447146,
          -0.34406729355384097,
          0.49666345277731244,
          -0.0976919698585005,
          -0.0866138892767767,
          -0.0276230087522869,
          -0.3633881620557881,
          -0.17241356442073705,
          0.07487508156237743,
          -0.32052748315887575,
          0.17694805076239908,
          -0.17221731963563502,
          -0.11479651752867187,
          -0.13948112615848074,
          0.20077200742956644,
          0.1516259751849242,
          -0.28652667832990036,
          -0.337193359778357,
          -0.32190810068835823,
          -0.34326245426697827,
          -0.3219081004118383,
          -0.3372008566004271,
          4.366339754403242,
          -0.1389536972346124,
          6.899444696533391,
          0.2977688353213214,
          0.01433354681914738,
          -0.28558157291950986,
          -0.17091092612342934,
          0.059000346502596855,
          -0.2071721701564336,
          -0.33624636140809017,
          0.03214999418913371,
          0.20100612513024763,
          -0.2878370105889305,
          -0.24842781998746952,
          -0.35267496131721343,
          -0.10462751695020513,
          -0.17232699519093717,
          -0.26717218848495583,
          -0.1388573808683739,
          -0.09896309370686619,
          0.33911506661063356,
          -0.2888875874211926,
          -0.17244324632847616,
          -0.337173032840634,
          0.20114894914437806,
          -0.3331419110237801,
          -0.32128009073887615,
          -0.16428266967787664,
          -0.17240866550128203,
          -0.013099295765757715,
          -0.28882891825159285,
          -0.24814937687236013,
          -0.3232304636806928,
          -0.17244324915950454,
          -0.30330236382289155,
          0.1324999952435964,
          -0.06763041601666463,
          -0.2269897260365703,
          0.5264953685585718,
          -0.2641948420149046,
          -0.16920059438797394,
          -0.20538502495587344,
          -0.34430481606641156,
          -0.3119632689892206,
          -0.1838325843869298,
          -0.3623755397041771,
          -0.31271754371379773,
          0.1413002318708618,
          0.5023187406422729,
          0.2702045006463695,
          -0.32173625013396506,
          -0.12182267664429237,
          -0.3219081300570503,
          -0.3372813864863277,
          -0.34430481606641156,
          -0.2860284774597002,
          -0.1737747951528464,
          0.1572203954038814,
          -0.13945119380112742,
          -0.2592266484431251,
          -0.045769210134461794,
          0.09395860849067014,
          -0.34001967523546334,
          -0.28894598012523814,
          -0.20612902359067378,
          -0.33728138658351364,
          -0.3218519006225206,
          -0.32326702262423257,
          -0.09416351748512998,
          -0.3443048161559309,
          -0.17243157013727234,
          -0.1724269236819308,
          -0.3433195716049602,
          -0.34430481606825625,
          -0.04243154314549324,
          -0.3468691746488149,
          -0.19483996239378573,
          0.18758993834903834,
          0.16060596607071267,
          -0.17230682080428528,
          -0.17244324646382755,
          7.548372144572433,
          -0.17244324703133848,
          -0.28850687987488655,
          0.07638049208638838,
          0.1604568261074396,
          -0.20701315045465743,
          -0.03514715071768478,
          -0.15305527407156072,
          -0.2435278318031902,
          -0.4010703161318653,
          -0.5055164731951776,
          -0.3671197089766083,
          -0.0455878229837374,
          -0.3471502145796115,
          -0.20723314100177623,
          0.26029139123717454,
          0.36294170882452403,
          -0.031606220128638854,
          -0.04601691770304044,
          -0.41282522882769473,
          -0.0654911628021571,
          -0.19950088907006197,
          -0.17214501241369257,
          0.121590673285385,
          1.7383977009861498,
          0.20080951158608762,
          0.028156239353204823,
          2.7301503520408845,
          -0.31088158906754976,
          -0.2943861818163181,
          -0.2888770385878031,
          -0.16101911557943968,
          0.20086979801254878,
          0.07453276414572642,
          -0.04610790557705995,
          -0.05394926208776098,
          -0.1719578436317801,
          0.20168404981068813,
          -0.3218885396437111,
          -0.17236863445132897,
          -0.3585524239406474,
          -0.33867615840347426,
          -0.17244324646382755,
          -0.40849368347323445,
          1.634611515513162,
          -0.01289408439969533,
          -0.13905625227120852,
          -0.044634314320704166,
          0.16043268862897472,
          -0.32160678857529434,
          -0.04612227046203849,
          -0.21943196162375836,
          -0.04612226936957976,
          -0.1810590746230096,
          -0.013097951201676348,
          -0.28887672308156104,
          0.07445103012959603,
          -0.15780789971004075,
          0.5778686702384224,
          -0.31085911202005423,
          0.2933768121007806,
          -0.18781653285839284,
          -0.2858283002400135,
          -0.1328177430874875,
          -0.07501382349805484,
          -0.2929617942568747,
          -0.3470584158540234,
          -0.34343858810263156,
          -0.24817938738776432,
          -0.4976294091281389,
          -0.3434385882251197,
          -0.18145485646230322,
          0.14763569456857814,
          -0.26426137147100753,
          0.07493860528410334,
          -0.3851816392866301,
          -0.3139366358124625,
          -0.31373962345839596,
          -0.248427819987469,
          -0.06833291571342043,
          -0.37106534616043896,
          -0.32142090483028474,
          -0.17223920455518135,
          -0.34381205908540663,
          0.07470322556825938,
          -0.3439575452488797,
          0.20079872101293822,
          0.25318427233749535,
          -0.27512350305247135,
          -0.013150267623830363,
          -0.17215954916382625,
          -0.30335919933692074,
          -0.25648558926113785,
          -0.05357355339775071,
          -0.13926821104336987,
          -0.24842782010664677,
          -0.24770577012733283,
          -0.13764930372807327,
          -0.24725952033274773,
          -0.13915283836340747,
          6.909274423049058,
          -0.01316014913703503,
          0.03907304939034612,
          -0.28894598012020134,
          -0.32114102170728087,
          -0.2844718510809373,
          -0.17239440721958865,
          -0.31363593767960973,
          -0.17215913484265,
          0.0274186573435457,
          -0.13345615106297265,
          -0.207234304153333,
          -0.31113530108512544,
          -0.15890174484016617,
          0.1487407381964499,
          -0.13265687337794088,
          -0.24811042677546358,
          -0.17161479316284994,
          -0.2072343041533993,
          0.08657432951413714,
          -0.09896296605236966,
          -0.16686062572202331,
          -0.3437789131691433,
          -0.1367007778238112,
          -0.17101248200115937,
          0.16035666610335114,
          -0.32183833683613816,
          -0.3209459287087533,
          -0.0801596325395675,
          -0.09793187244078434,
          6.897123945219046,
          0.09195662499330885,
          -0.16896366656209724,
          -0.32190810152543653,
          -0.18780106281088194,
          -0.17244324674758296,
          -0.5650134816104555,
          -0.29218707281564915,
          0.011801335136076094,
          -0.3537957354765998,
          -0.34310046953186507,
          -0.3434385895020196,
          0.041165562622363754,
          0.26197406160105463,
          0.16043208146461171,
          32.24695208890699,
          0.29866591806904846,
          4.220540861083331,
          -0.17223708546542318,
          -0.19369983067534008,
          -0.34420406873811765,
          -0.04612049738988025
         ],
         "y": [
          -1.1934040416658773,
          -1.1914774447086502,
          -1.8967894666280454,
          1.4038622621919035,
          1.0522017115355,
          -1.4687515707096586,
          2.024067681158994,
          1.9198381061826346,
          -1.6153243178028753,
          1.7604785516776658,
          -0.8416587712033381,
          -1.4687680602059077,
          -0.49799757299156655,
          1.0520971444661107,
          -2.0626855635872405,
          0.7767429516710462,
          1.403829530188833,
          -1.6066038424442146,
          -1.9502454921832058,
          -0.8497623921820967,
          1.0521088978129844,
          -1.1933709300703503,
          1.4038295298364865,
          1.7427352823693563,
          1.0520821621410714,
          1.404140294931857,
          1.052322035860531,
          1.052100045702012,
          0.4940158398015996,
          1.445281163780882,
          1.0521476738013142,
          0.7767225939826571,
          -1.1934039640048673,
          1.052086612354671,
          -1.1934040422923335,
          1.052099794946674,
          -1.1934021444890737,
          1.052095201073023,
          -0.5058378393652782,
          -0.8497623931510137,
          0.7767317177355516,
          -0.4372266379050125,
          -0.8002939242287391,
          1.768737465172235,
          -1.468768060233956,
          1.0520866126506427,
          1.4381074250447772,
          1.0749807439609467,
          1.0521247917067227,
          1.0520866118050567,
          1.0524862351754845,
          1.052122210397029,
          1.052085453639454,
          -1.1251264115992923,
          -1.7825262142094875,
          1.4038295301772148,
          1.0520886989949363,
          1.5358495665878693,
          1.0537008721486845,
          1.0522065200167035,
          1.052162674036494,
          -1.4687680602719728,
          -1.1932410556231046,
          1.739652815886122,
          1.2174992899194965,
          -1.468735832627481,
          1.4038680358288653,
          -1.4687680602290076,
          -1.9502454923640153,
          1.0523631294062181,
          1.0521218992896313,
          1.0520886290191573,
          1.0520866117238872,
          -1.4687680602024307,
          -2.199803954492617,
          1.0521562717942383,
          2.131261975367846,
          1.0520972101320765,
          -0.838714539016953,
          -0.8497328500208661,
          1.40382952962786,
          1.0564065071855266,
          1.4038564363339834,
          1.0526977356521916,
          -0.7100162008815052,
          -1.192997472695955,
          -1.1932690047681431,
          1.0520866125352488,
          1.052088628450325,
          1.052130822925085,
          -2.0627321962318588,
          -1.193404041754152,
          1.0521333422566035,
          2.150421713311523,
          1.0520866124309354,
          -1.4687680580418336,
          1.4048580846539265,
          -0.16204964635277003,
          1.4039090210748832,
          -1.6145859904676636,
          -1.4687654459699457,
          1.4038714061796194,
          1.4038295301769528,
          1.4038336888270413,
          1.4038298970381033,
          -1.1913975441045748,
          -1.193312321234285,
          1.0521288823292128,
          1.33569870656542,
          1.0523049932337383,
          -1.1934040417657426,
          -1.4687553691201634,
          1.4039010949979525,
          -1.1934040423220793,
          -1.193133846219918,
          2.575998448212332,
          2.2525334770770784,
          -0.8469469441474899,
          -1.3995181184733725,
          1.0522111243053849,
          -0.8415896948808135,
          1.4038295301957873,
          -0.8497623921890148,
          1.0528443777263004,
          1.052337696553225,
          -1.950241799547029,
          1.0520869448000638,
          -0.8494435211984921,
          1.0523646333253314,
          -0.49801947445895806,
          -1.950232534516595,
          -1.9502454922527483,
          1.0535336506001352,
          -1.4687680603080184,
          2.0787985118756853,
          2.13471772541373,
          -1.1251214994945105,
          1.0521051267762718,
          -1.1933828535603794,
          1.060504260344346,
          2.1194804143905075,
          1.0520866117007437,
          0.7767225938435729,
          1.0520877437374467,
          1.4038522847660297,
          1.0520857074254357,
          0.7767225938435729,
          -2.327254428160187,
          0.7767814254180563,
          2.0963514380946124,
          1.4038564556734006,
          -2.1839576753468455,
          0.7767515588778447,
          1.052146069400675,
          1.052224670070617,
          -0.8495798087341739,
          2.023879868986496,
          -1.1251264104660914,
          -1.9502034204890437,
          -0.8415825153246296,
          -1.6066038424077298,
          -2.062707491837541,
          0.7767515659789906,
          1.4038678680846652,
          -1.0954372676029813,
          1.052086421433578,
          1.0524700375157232,
          2.105389528760452,
          -0.8416544241790503,
          -1.4486908046396838,
          1.0522141215366725,
          2.2399232400548086,
          -0.8416517595509144,
          -1.751948722922419,
          1.4435230805189665,
          -0.17493042607236023,
          -1.1933876119264868,
          -1.1934040417912415,
          1.4038295300335222,
          0.7767225681477696,
          -0.8496884897829662,
          2.150421655939297,
          0.7768049576744749,
          1.0520863692770084,
          2.141016224982298,
          1.052087772804536,
          -0.8416611266434908,
          2.111670865111894,
          2.1178904535816163,
          -1.4687490625886823,
          1.4038295297205827,
          -0.782259823701951,
          -0.8416531328042002,
          -0.506338990493449,
          -1.5490732861310113,
          1.0520986097133678,
          0.7767475241632008,
          -1.4687680601919997,
          -1.4687680604342381,
          -1.4685223847054865,
          -1.5491098029564272,
          -0.8416589439486285,
          1.4038295301793144,
          -0.8416307065817242,
          -1.7823738478137183,
          -2.0627321966375205,
          -1.4687235336173385,
          -1.7825262143877012,
          -1.1934040426079746,
          -1.193404045799184,
          1.052087738205174,
          -1.4950178828388199,
          -1.191919485018501,
          -1.1933957778941209,
          -1.1932214584847567,
          -1.6065947154603097,
          0.7767251097980145,
          -1.123926838436479,
          1.1888281663127669,
          -1.468739643563603,
          -1.1251264115992923,
          -1.193325229309242,
          2.239937522695882,
          -0.8416600372923477,
          1.4038409303733863,
          -1.4687668594841248,
          -1.1933993277110917,
          1.7414786466328964,
          1.052299951534412,
          -1.4687681760943279,
          1.4038461575247259,
          -0.3846663865672977,
          1.0521069142530997,
          -2.1236175676863294,
          -1.5489746294458575,
          1.0520866116601775,
          -1.4682848159567965,
          2.150421713775137,
          2.1650546190973072,
          1.4038295070266797,
          -1.5488382695149483,
          -1.6065992775552336,
          0.4935419302681065,
          -2.0917756867815838,
          -1.5490772721343464,
          -2.1573875512361553,
          2.0239085533671464,
          1.403829529048342,
          1.9198348753399601,
          -0.08336943287239026,
          -1.468734569420403,
          -1.1934040533329102,
          1.0524449062764636,
          1.9198246258724285,
          0.7782270840256408,
          -1.7819157742284495,
          -1.468761024661277,
          -1.5490185111536692,
          -2.1593634057087923,
          -1.1933728392427534,
          -1.1934040440606313,
          -1.1933995696827178,
          0.7768346341694157,
          -1.5490732861310113,
          -1.4687569789578054,
          -0.8416384537486122,
          -1.1933670796925342,
          -1.0448981896523049,
          -1.193383810394758,
          -1.1933841212574796,
          -1.4687665727864976,
          2.2399250259655594,
          -1.1933887467210118,
          -0.7880252373888824,
          -1.193397700767479,
          -1.1933979876669838,
          -1.4082878692976564,
          -1.1186995972223126,
          1.0520882449950317,
          2.2399403245634124,
          -1.4687680630884274,
          2.096329772194236,
          -1.9502454973293213,
          -1.5491098039416062,
          -1.1933602905030265,
          -0.8416565122272618,
          -1.4687577276700785,
          -1.468768061349875,
          0.7767225930596019,
          -1.1933824573412397,
          0.7777018807795228,
          -1.1934034793099464,
          1.0520866124425259,
          2.1340811632838377,
          -0.849757056391785,
          -0.4034078020769995,
          1.4438089707883615,
          1.0520923006110416,
          -1.606577322416053,
          0.7767780618967183,
          1.9198372637801988,
          -1.1915782091645117,
          1.0522689100201248,
          2.096360208178879,
          2.023860701167884,
          0.7767225917920813,
          -0.8496965700422893,
          2.104141133551408,
          -1.4687440282212167,
          -2.0917593762007067,
          -1.4685660676172743,
          1.0522035957156992,
          -0.8497623932900978,
          -1.5489068873411875,
          -1.4687287667695874,
          0.4629829230410675,
          -1.5483768744946245,
          -1.4685459238306349,
          -1.1933942391515835,
          -1.193401945413367,
          -1.1934031404108263,
          1.0520866124309354,
          -0.4978367628729281,
          -1.4687367083867666,
          1.0521236332600237,
          1.0520866126627424,
          -0.8492235438025321,
          1.4062355028198028,
          -1.5490890063526102,
          -1.193365045184855,
          -1.4687680844552358,
          -1.9884962047918497,
          -0.49800059186542583,
          1.052111577349225,
          -1.4949057581698508,
          2.1341871849535554,
          -2.040064817612189,
          2.0519711886626175,
          2.1400350551547693,
          2.2432270221188717,
          -1.7825185980246598,
          0.7767867513596068,
          -1.7824112931725111,
          -1.5051364959321092,
          1.0521197208392532,
          -1.9502066602396237,
          1.052096047356904,
          -1.4687680602824693,
          0.7767701428297562,
          0.7767273829881042,
          -1.1768899868437126,
          2.2399490968881555,
          -1.9502054752731077,
          2.056816506593651,
          1.3497974935026442,
          1.4479006476559435,
          -1.4597369914525256,
          0.7769462029067957,
          -1.5050624991412536,
          1.4038623871063942,
          -1.4687451107863305,
          1.0520866009680807,
          -0.8497283159210912,
          -1.1481096854632735,
          1.0520873769008228,
          -1.5491025001198633,
          1.052086601083984,
          1.0521043305110214,
          1.0521184795273104,
          1.052146219358827,
          1.052148172637674,
          -1.1933683660590164,
          -1.1933963732457342,
          2.2399395744325665,
          -1.6202843106227907,
          -1.2850579867247665,
          -1.468754800489362,
          1.9293398668429473,
          -0.7096886165598353,
          0.7816575666244251,
          -1.1934019591207208,
          1.535476179330297,
          -0.5661999123906349,
          1.9198560347031055,
          -1.1049248863174643,
          -0.8414930549521759,
          -1.7815027270244184,
          -1.9611745645662884,
          2.1410678673965045,
          -1.1934001169906607,
          -1.751892650501038,
          1.0522691776764233,
          -1.4650735162934072,
          -1.1933741664566089,
          -0.7734985046121391,
          -1.4687680602335718,
          -1.408307073807097,
          -0.48158698127474286,
          0.7770425070237983,
          1.5354802129436078,
          1.0520866091972285,
          2.0238839943333145,
          1.0520866114561875,
          1.5354792217505566,
          -0.5972342470511249,
          -1.4686983171782317,
          -0.0830409888802224,
          -1.730674139117961,
          -1.9499103900185901,
          1.7405323736689906,
          -1.1932014175097172,
          2.2751278562728974,
          2.2399314564224917,
          2.024811657755707,
          -1.4388603774886046,
          -1.4082761145851614,
          0.7768692327295416,
          1.4038295299639798,
          2.134866779742873,
          -1.18443698713501,
          -1.193388670964485,
          1.0593245684551997,
          -1.4686855796949667,
          -0.8416621673409086,
          1.2049724702584699,
          0.7767303155655074,
          -1.1934040417958776,
          1.5354829011534112,
          -1.4082572293671363,
          1.5360159517846423,
          1.0521696568929488,
          -1.192324936736049,
          -1.19339946898735,
          -1.125118363728292,
          0.7767380736568442,
          1.4038663499471464,
          1.089712241522602,
          -1.1934040649232596,
          -2.262425026830229,
          -1.495051010760363,
          0.12201465603136703,
          -0.4544556084713521,
          2.336936708154556,
          1.4720009472064532,
          -1.1929752517466745,
          2.2401677761895002,
          1.9198246258724285,
          0.7403417357421069,
          1.0703449384548325,
          2.1412017723309837,
          1.3367807305551447,
          -1.6061833616861607,
          -3.0514171288672514,
          -3.1529795894651436,
          1.052109336849828,
          1.0785447335057814,
          1.0520863692770084,
          1.535468572870537,
          1.9198246258724285,
          0.7771083849919326,
          -1.1557796274872385,
          -2.989304772415327,
          -1.4687641023661304,
          -1.6005857449213534,
          -0.849715706569814,
          -1.4879983210380792,
          2.0243127328563806,
          0.7767225939710667,
          2.240069385829474,
          1.5354685720765986,
          1.0520940440040523,
          2.181647655701938,
          -1.7825010403078057,
          1.9198246251411242,
          -1.1934024977744624,
          -1.1934018833724394,
          1.9199549092860657,
          1.919824625857361,
          -0.8492743538836314,
          2.165090716861554,
          -0.3256660307350422,
          -1.4091153957076208,
          -1.5490698605639923,
          -1.193386001832636,
          -1.1934040429015969,
          0.13875459011641947,
          -1.1934040475377363,
          0.7767806575794738,
          -1.751693582279098,
          -1.549089582021701,
          2.239952484353081,
          -0.7449913560948068,
          -1.1908403282710847,
          0.4630029093142288,
          2.096335654041532,
          -1.1501779886247507,
          2.1726388459580757,
          -0.849691719690986,
          2.165053556798616,
          2.2399233872330613,
          2.2511931117409127,
          2.315318466204301,
          -1.1747805494464518,
          -0.8497484613109211,
          2.045769920662563,
          -2.1593026379914684,
          2.240945858348265,
          -1.193364605687768,
          -1.7190352532894815,
          -0.16676591373132924,
          -1.4083021209950237,
          -0.4979139217419616,
          -0.894606597125675,
          1.1568644447479182,
          2.240714256024411,
          0.7767317104786386,
          -1.0885736310686522,
          -1.4082941418366355,
          -1.7519379146822334,
          -0.8497606850847073,
          -2.1484365475708254,
          -0.9098610394488669,
          -1.408186470009593,
          1.0520891990241228,
          -1.193394186831637,
          2.134089563894736,
          2.1481080008200086,
          -1.1934040429015969,
          0.6449310664031177,
          2.4329244701655046,
          -1.1250912279553746,
          -1.468711877489439,
          -0.849565634975668,
          -1.5490927753277106,
          1.3356052702654926,
          -0.8497624017278717,
          1.4076637786212824,
          -0.8497623928033031,
          -0.8016731552555566,
          -1.1251181868304436,
          0.7767317521540501,
          -1.7519487255859916,
          -1.1914689393923088,
          -1.9402750336995096,
          1.1568674161156456,
          -2.9376091830236377,
          -0.7100220841020296,
          1.9275571916712722,
          -1.256932467842209,
          0.49354193138889313,
          2.1716045562475825,
          2.1650656949809273,
          2.0238607062819187,
          1.4038623814919229,
          -1.1512747537058203,
          2.02386070528128,
          2.243332097871061,
          -1.7079903354698303,
          1.4719921497920065,
          -1.75188424876587,
          2.1206753861982204,
          1.7269214592103896,
          1.7269475120842042,
          1.4038295299639825,
          0.018000225162473137,
          2.086229969176603,
          1.0521510356785768,
          -1.193377060483575,
          1.9198897829201587,
          -1.751915373844764,
          1.9198705471765338,
          -1.4083035406290128,
          -1.1371219658603455,
          1.1267594662672782,
          -1.1251251039859678,
          -1.1933665279574452,
          2.2644578393387067,
          -1.6002232855018566,
          -2.157726766716723,
          -1.4687399101134788,
          1.403829528990391,
          1.403925009862245,
          0.2952472990506269,
          1.403984018595404,
          -1.4687246493400508,
          -0.08174115898962687,
          -1.1251264107300163,
          -1.1654345467615395,
          0.7767225940122126,
          1.0521869288318035,
          1.5424518056993604,
          -1.1933975857759314,
          1.7269611434596808,
          -1.193366472830451,
          -0.49801145512322653,
          -1.46797135226538,
          2.23992324005535,
          1.0535111442407017,
          -1.1916134986724274,
          -0.8089059840549833,
          -1.4678656653433348,
          1.4038715002710025,
          -1.1932944912663133,
          2.2399232400548086,
          1.106101787540121,
          -0.8416611244992763,
          -1.192665827499639,
          1.4453245266403738,
          -1.4684004027186761,
          -1.1932148461986993,
          -1.5491028258876316,
          1.0520958377961431,
          1.0522138435214803,
          -0.9131874095279188,
          -0.8415247785687984,
          -0.08334786995523086,
          -0.8315036195705346,
          -1.1929439223298812,
          1.0520866023589228,
          -0.7100200362302036,
          -1.1934040452196666,
          -3.2482142163600627,
          1.739658901737574,
          -1.950245235076815,
          2.091102742489976,
          2.0239054173264144,
          2.0238606948499664,
          -0.4961936418808842,
          -2.8357309358047007,
          -1.5490928533200736,
          3.4571169632425933,
          -1.7992076750675066,
          0.3167050171548085,
          -1.1933767828765998,
          2.2417129577483585,
          1.9198379482128725,
          -0.8497621576984712
         ],
         "z": [
          -0.17244324574203496,
          -0.15787372561031912,
          0.4160761530887279,
          -0.24818028956839794,
          -0.321037682688551,
          -0.13935642610865717,
          -0.3418733682732275,
          -0.3442028741258849,
          0.33144042493847137,
          -0.13474114671860685,
          -0.09894517001772936,
          -0.13948112615509475,
          0.027523637239299552,
          -0.32182845404643695,
          -0.004795774867752914,
          -0.28879202957922157,
          -0.24842781995994517,
          0.13812036838170774,
          0.01179939133144192,
          -0.04612226929353781,
          -0.32173956818593563,
          -0.17219284499131257,
          -0.24842782000307617,
          -0.2689224351082337,
          -0.3219086438581819,
          -0.2460777140651227,
          -0.32012774159926927,
          -0.3218065072629949,
          -0.07142997449418238,
          -0.34410683725906605,
          -0.3214463344968104,
          -0.28894598012381945,
          -0.1724426584042748,
          -0.32190810030185485,
          -0.17244324638924755,
          -0.3218084103584225,
          -0.17242889866512384,
          -0.32184315121558366,
          -0.14276823853672688,
          -0.046122269412143084,
          -0.28887698396765504,
          0.9883067927999845,
          -0.19528050103132596,
          -0.07228527672335096,
          -0.13948112615852803,
          -0.3219081002656246,
          0.01079318281304049,
          -0.14877500257666082,
          -0.3216193777480135,
          -0.32190810036913325,
          -0.3188860153755379,
          -0.3216388973976932,
          -0.321908242140465,
          -0.013160149243443341,
          -0.09435389394869333,
          -0.24842781996136734,
          -0.32189232194394496,
          -0.3344001773558526,
          -0.30970048840285086,
          -0.32100132079306587,
          -0.3213328963747925,
          -0.1394811261631814,
          -0.17121068857363653,
          -0.2922330923753502,
          0.9289974331516125,
          -0.13923741025415157,
          -0.24813662768329625,
          -0.13948112615792185,
          0.01179939130930914,
          -0.31981697918699603,
          -0.3216412511151052,
          -0.32189285197315576,
          -0.3219081003790691,
          -0.1394811261546686,
          0.008572885477876975,
          -0.3213813145601103,
          -0.37260467649723245,
          -0.32182795841026246,
          -0.07667984195488424,
          -0.04589886308557845,
          -0.2484278200286141,
          -0.2892385356109829,
          -0.2482243463633467,
          -0.31728658539589255,
          -0.1877720636762213,
          -0.16936861931633657,
          -0.17142204985629358,
          -0.3219081002797502,
          -0.3218928545803917,
          -0.32157374821219264,
          -0.005148454286650321,
          -0.17244324632336863,
          -0.32155471345323705,
          -0.3681096595839491,
          -0.32190810029251904,
          -0.1394811099017615,
          -0.2406495220631325,
          -0.015339060857869354,
          -0.24782668335064775,
          0.12098364169906627,
          -0.13946135580885752,
          -0.24811113832127196,
          -0.24842781996139945,
          -0.24839636439429602,
          -0.24842504585781877,
          -0.15726940241819584,
          -0.1717496211231996,
          -0.32158844312460305,
          -0.32090020454205515,
          -0.32025662146151207,
          -0.17244324632478736,
          -0.13938515219224232,
          -0.24788662277265483,
          -0.17244324639288874,
          -0.17039986468541785,
          2.334277929715863,
          -0.1118712437915916,
          1.4102071021378824,
          0.15660955853879854,
          -0.32096649882383177,
          -0.09842279124977382,
          -0.24842781995909416,
          -0.04612226929438469,
          -0.3161775205077642,
          -0.32000931819615885,
          0.011827316614059533,
          -0.32190558840685457,
          -0.043710834504147034,
          -0.31980561521335266,
          0.02735801103478129,
          0.011897381237398912,
          0.011799391322929136,
          -0.3109651015926149,
          -0.13948112616759362,
          -0.36716188818247053,
          -0.35792146916319517,
          -0.01312300940817417,
          -0.3217680910663741,
          -0.17228301353618633,
          -0.2582505916740488,
          -0.3909511983988225,
          -0.32190810038190215,
          -0.28894598014084455,
          -0.32189954678828253,
          -0.24825574170122142,
          -0.3219070127845722,
          -0.28894598014084455,
          0.1843235378228481,
          -0.28850107903855543,
          -0.4009509492254241,
          -0.2482241972882506,
          -0.12150235516526627,
          -0.28872693934665383,
          -0.3214584534550909,
          -0.3208640494006201,
          -0.04474151411150743,
          -0.34329367399992705,
          -0.013160149104727905,
          0.012117553245150079,
          -0.09836841703646783,
          0.13812036838617353,
          -0.004961630447594107,
          -0.2887268860769242,
          -0.248137896212656,
          0.07325842954489284,
          -0.3219081236725519,
          -0.3190085144293331,
          -0.40493117587958727,
          -0.09891229658344725,
          0.012351081204914068,
          -0.32094383472939486,
          -0.2072343041533993,
          -0.09889214689912201,
          0.07445103045564475,
          0.05174796412582614,
          -0.038172596890780466,
          -0.172318995757245,
          -0.1724432463279084,
          -0.2484278199789569,
          -0.28894598328627413,
          -0.04556338068093421,
          -0.3681096666068969,
          -0.28832311702343827,
          -0.3219081300570503,
          -0.36377870757445796,
          -0.3218993125110465,
          -0.09896296631484358,
          -0.39618488721667855,
          -0.3372847634087932,
          -0.13933742776880856,
          -0.24842782001726388,
          0.4643598916975969,
          -0.09890252928731455,
          0.46565625781861086,
          0.16058005509474532,
          -0.321817373516085,
          -0.28875745066163916,
          -0.13948112615339178,
          -0.13948112618304437,
          -0.13762325177744583,
          0.1603039040417122,
          -0.09894645905808962,
          -0.24842781996111044,
          -0.09873289399137294,
          -0.09320164821267375,
          -0.005148454336307397,
          -0.13914439155170705,
          -0.09435389397050871,
          -0.1724432464278854,
          -0.17244324681852177,
          -0.32189958862516377,
          0.13275051874329774,
          -0.16121643359555832,
          -0.1723807489262949,
          -0.17106249116319183,
          0.13818940587291553,
          -0.28892695446747874,
          -0.004088587708526031,
          -0.23442953023049773,
          -0.13926622722275728,
          -0.013160149243443341,
          -0.17184723652034373,
          -0.20712629548693423,
          -0.09895474462921565,
          -0.2483416078197253,
          -0.13947204580880687,
          -0.17240759566410827,
          -0.2784255410119373,
          -0.3202947538673303,
          -0.13948114034102385,
          -0.24830207853649994,
          -0.1346796823125585,
          -0.3217545713618999,
          0.2043712063064096,
          0.16132612966958787,
          -0.32190810038686785,
          -0.13582656643895513,
          -0.3681096595271978,
          -0.3471421802347966,
          -0.2484278227952301,
          0.16235731932609937,
          0.1381548889827441,
          -0.07501382363525068,
          -0.11173644530607584,
          0.16054993603444404,
          -0.0510080933415334,
          -0.34307675375161906,
          -0.24842782009955292,
          -0.3442273066772329,
          6.89696087729436,
          -0.13922785683303018,
          -0.17244324774072728,
          -0.31919771981087625,
          -0.34430481606641156,
          -0.2775685571261755,
          1.2847566766874807,
          -0.13942792114499175,
          0.16099428164237287,
          -0.06595011057530528,
          -0.17220728081877204,
          -0.17244324660570517,
          -0.17240942371153298,
          -0.28809868250928355,
          0.16058005509474532,
          -0.13939732154287424,
          -0.09879152381776449,
          -0.1721637259392882,
          -0.14178553160497326,
          -0.1722902487001069,
          -0.17229254584002257,
          -0.13946987754732862,
          -0.20722079836808652,
          -0.17232756860072568,
          0.4207544602298434,
          -0.17239529294353126,
          -0.17239746339427858,
          0.20091723221929775,
          -0.12541975135769062,
          -0.32189575595519165,
          -0.20710510567415166,
          -0.13948112650794456,
          -0.4011147977381916,
          0.011799390701504632,
          0.16030390392111604,
          -0.1721123438871314,
          -0.09892808708424938,
          -0.13940298788531513,
          -0.1394811262951278,
          -0.2889459802368108,
          -0.1722800172143386,
          -0.28153171352154643,
          -0.17243899115519026,
          -0.3219081002911004,
          -0.3586160867011163,
          -0.046081915201069676,
          -0.13445475520607503,
          -0.33058844419024985,
          -0.3218650861775285,
          0.1383209210277881,
          -0.2885264315586257,
          -0.34420924495762323,
          -0.15863569473437006,
          -0.32052950725194607,
          -0.40088463121554135,
          -0.34343858872864164,
          -0.2889459803919683,
          -0.04562450199347271,
          -0.35666466846071604,
          -0.13929938093941607,
          -0.09678490305738091,
          -0.13795359136495602,
          -0.32102309630234627,
          -0.04612226942916839,
          0.1618384178652675,
          -0.13918396950070883,
          -0.24367897133644825,
          0.16584655076767646,
          -0.13780122469002354,
          -0.17236911451125236,
          -0.17242739081802824,
          -0.17243634396422394,
          -0.32190810029251904,
          0.028746195330130342,
          -0.13924403144284384,
          -0.32162813699939263,
          -0.32190810026414357,
          -0.042047173511972714,
          -0.23023295504937458,
          0.1604611751693248,
          -0.17214833420484102,
          -0.13948112912346028,
          0.5562529918613281,
          0.027500823831907637,
          -0.3217193040807825,
          0.13359844312092617,
          -0.3578143275727802,
          0.5421900247482507,
          -0.43301590815778557,
          -0.3489639989768425,
          -0.18224999347454846,
          -0.0942962973839213,
          -0.2884607969760011,
          -0.09348481808116872,
          -0.16240446357721422,
          -0.32165772523893726,
          0.012093051605025558,
          -0.3218367460418957,
          -0.13948112616446637,
          -0.28858639885265297,
          -0.28890976448336525,
          -0.047554953823162355,
          -0.2070387643582534,
          0.012102011701599056,
          -0.32445174533195037,
          1.9294835176697362,
          -0.29964559850535627,
          0.14026026640331965,
          -0.2872548927856264,
          -0.16184487879461049,
          -0.24817934492953925,
          -0.13930757540802305,
          -0.32190810169569,
          -0.04586457482754092,
          7.050552344544671,
          -0.321901415541863,
          0.1603591341876226,
          -0.3219081016815021,
          -0.32177411121680943,
          -0.321667106811843,
          -0.32145732893496537,
          -0.32144255768466723,
          -0.1721734524933763,
          -0.1723852546052818,
          -0.207110772867814,
          0.2939312456467383,
          0.7769159541132805,
          -0.13938085019039972,
          -0.2723460479754469,
          -0.18529474367937573,
          -0.2516261597316059,
          -0.17242749558644185,
          -0.33722386466182847,
          -0.045489576096447146,
          -0.34406729355384097,
          0.49666345277731244,
          -0.0976919698585005,
          -0.0866138892767767,
          -0.0276230087522869,
          -0.3633881620557881,
          -0.17241356442073705,
          0.07487508156237743,
          -0.32052748315887575,
          0.17694805076239908,
          -0.17221731963563502,
          -0.11479651752867187,
          -0.13948112615848074,
          0.20077200742956644,
          0.1516259751849242,
          -0.28652667832990036,
          -0.337193359778357,
          -0.32190810068835823,
          -0.34326245426697827,
          -0.3219081004118383,
          -0.3372008566004271,
          4.366339754403242,
          -0.1389536972346124,
          6.899444696533391,
          0.2977688353213214,
          0.01433354681914738,
          -0.28558157291950986,
          -0.17091092612342934,
          0.059000346502596855,
          -0.2071721701564336,
          -0.33624636140809017,
          0.03214999418913371,
          0.20100612513024763,
          -0.2878370105889305,
          -0.24842781998746952,
          -0.35267496131721343,
          -0.10462751695020513,
          -0.17232699519093717,
          -0.26717218848495583,
          -0.1388573808683739,
          -0.09896309370686619,
          0.33911506661063356,
          -0.2888875874211926,
          -0.17244324632847616,
          -0.337173032840634,
          0.20114894914437806,
          -0.3331419110237801,
          -0.32128009073887615,
          -0.16428266967787664,
          -0.17240866550128203,
          -0.013099295765757715,
          -0.28882891825159285,
          -0.24814937687236013,
          -0.3232304636806928,
          -0.17244324915950454,
          -0.30330236382289155,
          0.1324999952435964,
          -0.06763041601666463,
          -0.2269897260365703,
          0.5264953685585718,
          -0.2641948420149046,
          -0.16920059438797394,
          -0.20538502495587344,
          -0.34430481606641156,
          -0.3119632689892206,
          -0.1838325843869298,
          -0.3623755397041771,
          -0.31271754371379773,
          0.1413002318708618,
          0.5023187406422729,
          0.2702045006463695,
          -0.32173625013396506,
          -0.12182267664429237,
          -0.3219081300570503,
          -0.3372813864863277,
          -0.34430481606641156,
          -0.2860284774597002,
          -0.1737747951528464,
          0.1572203954038814,
          -0.13945119380112742,
          -0.2592266484431251,
          -0.045769210134461794,
          0.09395860849067014,
          -0.34001967523546334,
          -0.28894598012523814,
          -0.20612902359067378,
          -0.33728138658351364,
          -0.3218519006225206,
          -0.32326702262423257,
          -0.09416351748512998,
          -0.3443048161559309,
          -0.17243157013727234,
          -0.1724269236819308,
          -0.3433195716049602,
          -0.34430481606825625,
          -0.04243154314549324,
          -0.3468691746488149,
          -0.19483996239378573,
          0.18758993834903834,
          0.16060596607071267,
          -0.17230682080428528,
          -0.17244324646382755,
          7.548372144572433,
          -0.17244324703133848,
          -0.28850687987488655,
          0.07638049208638838,
          0.1604568261074396,
          -0.20701315045465743,
          -0.03514715071768478,
          -0.15305527407156072,
          -0.2435278318031902,
          -0.4010703161318653,
          -0.5055164731951776,
          -0.3671197089766083,
          -0.0455878229837374,
          -0.3471502145796115,
          -0.20723314100177623,
          0.26029139123717454,
          0.36294170882452403,
          -0.031606220128638854,
          -0.04601691770304044,
          -0.41282522882769473,
          -0.0654911628021571,
          -0.19950088907006197,
          -0.17214501241369257,
          0.121590673285385,
          1.7383977009861498,
          0.20080951158608762,
          0.028156239353204823,
          2.7301503520408845,
          -0.31088158906754976,
          -0.2943861818163181,
          -0.2888770385878031,
          -0.16101911557943968,
          0.20086979801254878,
          0.07453276414572642,
          -0.04610790557705995,
          -0.05394926208776098,
          -0.1719578436317801,
          0.20168404981068813,
          -0.3218885396437111,
          -0.17236863445132897,
          -0.3585524239406474,
          -0.33867615840347426,
          -0.17244324646382755,
          -0.40849368347323445,
          1.634611515513162,
          -0.01289408439969533,
          -0.13905625227120852,
          -0.044634314320704166,
          0.16043268862897472,
          -0.32160678857529434,
          -0.04612227046203849,
          -0.21943196162375836,
          -0.04612226936957976,
          -0.1810590746230096,
          -0.013097951201676348,
          -0.28887672308156104,
          0.07445103012959603,
          -0.15780789971004075,
          0.5778686702384224,
          -0.31085911202005423,
          0.2933768121007806,
          -0.18781653285839284,
          -0.2858283002400135,
          -0.1328177430874875,
          -0.07501382349805484,
          -0.2929617942568747,
          -0.3470584158540234,
          -0.34343858810263156,
          -0.24817938738776432,
          -0.4976294091281389,
          -0.3434385882251197,
          -0.18145485646230322,
          0.14763569456857814,
          -0.26426137147100753,
          0.07493860528410334,
          -0.3851816392866301,
          -0.3139366358124625,
          -0.31373962345839596,
          -0.248427819987469,
          -0.06833291571342043,
          -0.37106534616043896,
          -0.32142090483028474,
          -0.17223920455518135,
          -0.34381205908540663,
          0.07470322556825938,
          -0.3439575452488797,
          0.20079872101293822,
          0.25318427233749535,
          -0.27512350305247135,
          -0.013150267623830363,
          -0.17215954916382625,
          -0.30335919933692074,
          -0.25648558926113785,
          -0.05357355339775071,
          -0.13926821104336987,
          -0.24842782010664677,
          -0.24770577012733283,
          -0.13764930372807327,
          -0.24725952033274773,
          -0.13915283836340747,
          6.909274423049058,
          -0.01316014913703503,
          0.03907304939034612,
          -0.28894598012020134,
          -0.32114102170728087,
          -0.2844718510809373,
          -0.17239440721958865,
          -0.31363593767960973,
          -0.17215913484265,
          0.0274186573435457,
          -0.13345615106297265,
          -0.207234304153333,
          -0.31113530108512544,
          -0.15890174484016617,
          0.1487407381964499,
          -0.13265687337794088,
          -0.24811042677546358,
          -0.17161479316284994,
          -0.2072343041533993,
          0.08657432951413714,
          -0.09896296605236966,
          -0.16686062572202331,
          -0.3437789131691433,
          -0.1367007778238112,
          -0.17101248200115937,
          0.16035666610335114,
          -0.32183833683613816,
          -0.3209459287087533,
          -0.0801596325395675,
          -0.09793187244078434,
          6.897123945219046,
          0.09195662499330885,
          -0.16896366656209724,
          -0.32190810152543653,
          -0.18780106281088194,
          -0.17244324674758296,
          -0.5650134816104555,
          -0.29218707281564915,
          0.011801335136076094,
          -0.3537957354765998,
          -0.34310046953186507,
          -0.3434385895020196,
          0.041165562622363754,
          0.26197406160105463,
          0.16043208146461171,
          32.24695208890699,
          0.29866591806904846,
          4.220540861083331,
          -0.17223708546542318,
          -0.19369983067534008,
          -0.34420406873811765,
          -0.04612049738988025
         ]
        }
       ],
       "layout": {
        "autosize": true,
        "coloraxis": {
         "colorbar": {
          "title": {
           "text": "Class"
          }
         },
         "colorscale": [
          [
           0,
           "#0d0887"
          ],
          [
           0.1111111111111111,
           "#46039f"
          ],
          [
           0.2222222222222222,
           "#7201a8"
          ],
          [
           0.3333333333333333,
           "#9c179e"
          ],
          [
           0.4444444444444444,
           "#bd3786"
          ],
          [
           0.5555555555555556,
           "#d8576b"
          ],
          [
           0.6666666666666666,
           "#ed7953"
          ],
          [
           0.7777777777777778,
           "#fb9f3a"
          ],
          [
           0.8888888888888888,
           "#fdca26"
          ],
          [
           1,
           "#f0f921"
          ]
         ]
        },
        "legend": {
         "tracegroupgap": 0,
         "x": 0,
         "y": 1
        },
        "margin": {
         "t": 60
        },
        "scene": {
         "aspectmode": "auto",
         "aspectratio": {
          "x": 1,
          "y": 1,
          "z": 1
         },
         "camera": {
          "center": {
           "x": 0,
           "y": 0,
           "z": 0
          },
          "eye": {
           "x": 1.204765689414901,
           "y": 1.326104910557209,
           "z": 1.2155185723816384
          },
          "projection": {
           "type": "perspective"
          },
          "up": {
           "x": 0,
           "y": 0,
           "z": 1
          }
         },
         "domain": {
          "x": [
           0,
           1
          ],
          "y": [
           0,
           1
          ]
         },
         "xaxis": {
          "title": {
           "text": "PC 1"
          },
          "type": "linear"
         },
         "yaxis": {
          "title": {
           "text": "PC 2"
          },
          "type": "linear"
         },
         "zaxis": {
          "title": {
           "text": "PC 1"
          },
          "type": "linear"
         }
        },
        "template": {
         "data": {
          "bar": [
           {
            "error_x": {
             "color": "#2a3f5f"
            },
            "error_y": {
             "color": "#2a3f5f"
            },
            "marker": {
             "line": {
              "color": "#E5ECF6",
              "width": 0.5
             }
            },
            "type": "bar"
           }
          ],
          "barpolar": [
           {
            "marker": {
             "line": {
              "color": "#E5ECF6",
              "width": 0.5
             }
            },
            "type": "barpolar"
           }
          ],
          "carpet": [
           {
            "aaxis": {
             "endlinecolor": "#2a3f5f",
             "gridcolor": "white",
             "linecolor": "white",
             "minorgridcolor": "white",
             "startlinecolor": "#2a3f5f"
            },
            "baxis": {
             "endlinecolor": "#2a3f5f",
             "gridcolor": "white",
             "linecolor": "white",
             "minorgridcolor": "white",
             "startlinecolor": "#2a3f5f"
            },
            "type": "carpet"
           }
          ],
          "choropleth": [
           {
            "colorbar": {
             "outlinewidth": 0,
             "ticks": ""
            },
            "type": "choropleth"
           }
          ],
          "contour": [
           {
            "colorbar": {
             "outlinewidth": 0,
             "ticks": ""
            },
            "colorscale": [
             [
              0,
              "#0d0887"
             ],
             [
              0.1111111111111111,
              "#46039f"
             ],
             [
              0.2222222222222222,
              "#7201a8"
             ],
             [
              0.3333333333333333,
              "#9c179e"
             ],
             [
              0.4444444444444444,
              "#bd3786"
             ],
             [
              0.5555555555555556,
              "#d8576b"
             ],
             [
              0.6666666666666666,
              "#ed7953"
             ],
             [
              0.7777777777777778,
              "#fb9f3a"
             ],
             [
              0.8888888888888888,
              "#fdca26"
             ],
             [
              1,
              "#f0f921"
             ]
            ],
            "type": "contour"
           }
          ],
          "contourcarpet": [
           {
            "colorbar": {
             "outlinewidth": 0,
             "ticks": ""
            },
            "type": "contourcarpet"
           }
          ],
          "heatmap": [
           {
            "colorbar": {
             "outlinewidth": 0,
             "ticks": ""
            },
            "colorscale": [
             [
              0,
              "#0d0887"
             ],
             [
              0.1111111111111111,
              "#46039f"
             ],
             [
              0.2222222222222222,
              "#7201a8"
             ],
             [
              0.3333333333333333,
              "#9c179e"
             ],
             [
              0.4444444444444444,
              "#bd3786"
             ],
             [
              0.5555555555555556,
              "#d8576b"
             ],
             [
              0.6666666666666666,
              "#ed7953"
             ],
             [
              0.7777777777777778,
              "#fb9f3a"
             ],
             [
              0.8888888888888888,
              "#fdca26"
             ],
             [
              1,
              "#f0f921"
             ]
            ],
            "type": "heatmap"
           }
          ],
          "heatmapgl": [
           {
            "colorbar": {
             "outlinewidth": 0,
             "ticks": ""
            },
            "colorscale": [
             [
              0,
              "#0d0887"
             ],
             [
              0.1111111111111111,
              "#46039f"
             ],
             [
              0.2222222222222222,
              "#7201a8"
             ],
             [
              0.3333333333333333,
              "#9c179e"
             ],
             [
              0.4444444444444444,
              "#bd3786"
             ],
             [
              0.5555555555555556,
              "#d8576b"
             ],
             [
              0.6666666666666666,
              "#ed7953"
             ],
             [
              0.7777777777777778,
              "#fb9f3a"
             ],
             [
              0.8888888888888888,
              "#fdca26"
             ],
             [
              1,
              "#f0f921"
             ]
            ],
            "type": "heatmapgl"
           }
          ],
          "histogram": [
           {
            "marker": {
             "colorbar": {
              "outlinewidth": 0,
              "ticks": ""
             }
            },
            "type": "histogram"
           }
          ],
          "histogram2d": [
           {
            "colorbar": {
             "outlinewidth": 0,
             "ticks": ""
            },
            "colorscale": [
             [
              0,
              "#0d0887"
             ],
             [
              0.1111111111111111,
              "#46039f"
             ],
             [
              0.2222222222222222,
              "#7201a8"
             ],
             [
              0.3333333333333333,
              "#9c179e"
             ],
             [
              0.4444444444444444,
              "#bd3786"
             ],
             [
              0.5555555555555556,
              "#d8576b"
             ],
             [
              0.6666666666666666,
              "#ed7953"
             ],
             [
              0.7777777777777778,
              "#fb9f3a"
             ],
             [
              0.8888888888888888,
              "#fdca26"
             ],
             [
              1,
              "#f0f921"
             ]
            ],
            "type": "histogram2d"
           }
          ],
          "histogram2dcontour": [
           {
            "colorbar": {
             "outlinewidth": 0,
             "ticks": ""
            },
            "colorscale": [
             [
              0,
              "#0d0887"
             ],
             [
              0.1111111111111111,
              "#46039f"
             ],
             [
              0.2222222222222222,
              "#7201a8"
             ],
             [
              0.3333333333333333,
              "#9c179e"
             ],
             [
              0.4444444444444444,
              "#bd3786"
             ],
             [
              0.5555555555555556,
              "#d8576b"
             ],
             [
              0.6666666666666666,
              "#ed7953"
             ],
             [
              0.7777777777777778,
              "#fb9f3a"
             ],
             [
              0.8888888888888888,
              "#fdca26"
             ],
             [
              1,
              "#f0f921"
             ]
            ],
            "type": "histogram2dcontour"
           }
          ],
          "mesh3d": [
           {
            "colorbar": {
             "outlinewidth": 0,
             "ticks": ""
            },
            "type": "mesh3d"
           }
          ],
          "parcoords": [
           {
            "line": {
             "colorbar": {
              "outlinewidth": 0,
              "ticks": ""
             }
            },
            "type": "parcoords"
           }
          ],
          "pie": [
           {
            "automargin": true,
            "type": "pie"
           }
          ],
          "scatter": [
           {
            "marker": {
             "colorbar": {
              "outlinewidth": 0,
              "ticks": ""
             }
            },
            "type": "scatter"
           }
          ],
          "scatter3d": [
           {
            "line": {
             "colorbar": {
              "outlinewidth": 0,
              "ticks": ""
             }
            },
            "marker": {
             "colorbar": {
              "outlinewidth": 0,
              "ticks": ""
             }
            },
            "type": "scatter3d"
           }
          ],
          "scattercarpet": [
           {
            "marker": {
             "colorbar": {
              "outlinewidth": 0,
              "ticks": ""
             }
            },
            "type": "scattercarpet"
           }
          ],
          "scattergeo": [
           {
            "marker": {
             "colorbar": {
              "outlinewidth": 0,
              "ticks": ""
             }
            },
            "type": "scattergeo"
           }
          ],
          "scattergl": [
           {
            "marker": {
             "colorbar": {
              "outlinewidth": 0,
              "ticks": ""
             }
            },
            "type": "scattergl"
           }
          ],
          "scattermapbox": [
           {
            "marker": {
             "colorbar": {
              "outlinewidth": 0,
              "ticks": ""
             }
            },
            "type": "scattermapbox"
           }
          ],
          "scatterpolar": [
           {
            "marker": {
             "colorbar": {
              "outlinewidth": 0,
              "ticks": ""
             }
            },
            "type": "scatterpolar"
           }
          ],
          "scatterpolargl": [
           {
            "marker": {
             "colorbar": {
              "outlinewidth": 0,
              "ticks": ""
             }
            },
            "type": "scatterpolargl"
           }
          ],
          "scatterternary": [
           {
            "marker": {
             "colorbar": {
              "outlinewidth": 0,
              "ticks": ""
             }
            },
            "type": "scatterternary"
           }
          ],
          "surface": [
           {
            "colorbar": {
             "outlinewidth": 0,
             "ticks": ""
            },
            "colorscale": [
             [
              0,
              "#0d0887"
             ],
             [
              0.1111111111111111,
              "#46039f"
             ],
             [
              0.2222222222222222,
              "#7201a8"
             ],
             [
              0.3333333333333333,
              "#9c179e"
             ],
             [
              0.4444444444444444,
              "#bd3786"
             ],
             [
              0.5555555555555556,
              "#d8576b"
             ],
             [
              0.6666666666666666,
              "#ed7953"
             ],
             [
              0.7777777777777778,
              "#fb9f3a"
             ],
             [
              0.8888888888888888,
              "#fdca26"
             ],
             [
              1,
              "#f0f921"
             ]
            ],
            "type": "surface"
           }
          ],
          "table": [
           {
            "cells": {
             "fill": {
              "color": "#EBF0F8"
             },
             "line": {
              "color": "white"
             }
            },
            "header": {
             "fill": {
              "color": "#C8D4E3"
             },
             "line": {
              "color": "white"
             }
            },
            "type": "table"
           }
          ]
         },
         "layout": {
          "annotationdefaults": {
           "arrowcolor": "#2a3f5f",
           "arrowhead": 0,
           "arrowwidth": 1
          },
          "autotypenumbers": "strict",
          "coloraxis": {
           "colorbar": {
            "outlinewidth": 0,
            "ticks": ""
           }
          },
          "colorscale": {
           "diverging": [
            [
             0,
             "#8e0152"
            ],
            [
             0.1,
             "#c51b7d"
            ],
            [
             0.2,
             "#de77ae"
            ],
            [
             0.3,
             "#f1b6da"
            ],
            [
             0.4,
             "#fde0ef"
            ],
            [
             0.5,
             "#f7f7f7"
            ],
            [
             0.6,
             "#e6f5d0"
            ],
            [
             0.7,
             "#b8e186"
            ],
            [
             0.8,
             "#7fbc41"
            ],
            [
             0.9,
             "#4d9221"
            ],
            [
             1,
             "#276419"
            ]
           ],
           "sequential": [
            [
             0,
             "#0d0887"
            ],
            [
             0.1111111111111111,
             "#46039f"
            ],
            [
             0.2222222222222222,
             "#7201a8"
            ],
            [
             0.3333333333333333,
             "#9c179e"
            ],
            [
             0.4444444444444444,
             "#bd3786"
            ],
            [
             0.5555555555555556,
             "#d8576b"
            ],
            [
             0.6666666666666666,
             "#ed7953"
            ],
            [
             0.7777777777777778,
             "#fb9f3a"
            ],
            [
             0.8888888888888888,
             "#fdca26"
            ],
            [
             1,
             "#f0f921"
            ]
           ],
           "sequentialminus": [
            [
             0,
             "#0d0887"
            ],
            [
             0.1111111111111111,
             "#46039f"
            ],
            [
             0.2222222222222222,
             "#7201a8"
            ],
            [
             0.3333333333333333,
             "#9c179e"
            ],
            [
             0.4444444444444444,
             "#bd3786"
            ],
            [
             0.5555555555555556,
             "#d8576b"
            ],
            [
             0.6666666666666666,
             "#ed7953"
            ],
            [
             0.7777777777777778,
             "#fb9f3a"
            ],
            [
             0.8888888888888888,
             "#fdca26"
            ],
            [
             1,
             "#f0f921"
            ]
           ]
          },
          "colorway": [
           "#636efa",
           "#EF553B",
           "#00cc96",
           "#ab63fa",
           "#FFA15A",
           "#19d3f3",
           "#FF6692",
           "#B6E880",
           "#FF97FF",
           "#FECB52"
          ],
          "font": {
           "color": "#2a3f5f"
          },
          "geo": {
           "bgcolor": "white",
           "lakecolor": "white",
           "landcolor": "#E5ECF6",
           "showlakes": true,
           "showland": true,
           "subunitcolor": "white"
          },
          "hoverlabel": {
           "align": "left"
          },
          "hovermode": "closest",
          "mapbox": {
           "style": "light"
          },
          "paper_bgcolor": "white",
          "plot_bgcolor": "#E5ECF6",
          "polar": {
           "angularaxis": {
            "gridcolor": "white",
            "linecolor": "white",
            "ticks": ""
           },
           "bgcolor": "#E5ECF6",
           "radialaxis": {
            "gridcolor": "white",
            "linecolor": "white",
            "ticks": ""
           }
          },
          "scene": {
           "xaxis": {
            "backgroundcolor": "#E5ECF6",
            "gridcolor": "white",
            "gridwidth": 2,
            "linecolor": "white",
            "showbackground": true,
            "ticks": "",
            "zerolinecolor": "white"
           },
           "yaxis": {
            "backgroundcolor": "#E5ECF6",
            "gridcolor": "white",
            "gridwidth": 2,
            "linecolor": "white",
            "showbackground": true,
            "ticks": "",
            "zerolinecolor": "white"
           },
           "zaxis": {
            "backgroundcolor": "#E5ECF6",
            "gridcolor": "white",
            "gridwidth": 2,
            "linecolor": "white",
            "showbackground": true,
            "ticks": "",
            "zerolinecolor": "white"
           }
          },
          "shapedefaults": {
           "line": {
            "color": "#2a3f5f"
           }
          },
          "ternary": {
           "aaxis": {
            "gridcolor": "white",
            "linecolor": "white",
            "ticks": ""
           },
           "baxis": {
            "gridcolor": "white",
            "linecolor": "white",
            "ticks": ""
           },
           "bgcolor": "#E5ECF6",
           "caxis": {
            "gridcolor": "white",
            "linecolor": "white",
            "ticks": ""
           }
          },
          "title": {
           "x": 0.05
          },
          "xaxis": {
           "automargin": true,
           "gridcolor": "white",
           "linecolor": "white",
           "ticks": "",
           "title": {
            "standoff": 15
           },
           "zerolinecolor": "white",
           "zerolinewidth": 2
          },
          "yaxis": {
           "automargin": true,
           "gridcolor": "white",
           "linecolor": "white",
           "ticks": "",
           "title": {
            "standoff": 15
           },
           "zerolinecolor": "white",
           "zerolinewidth": 2
          }
         }
        }
       }
      },
      "image/png": "[encoded data removed]",
      "text/html": [
       "<div>                            <div id=\"4601fdcf-bf68-47f1-bd8e-1acd326a1fe8\" class=\"plotly-graph-div\" style=\"height:525px; width:800px;\"></div>            <script type=\"text/javascript\">                require([\"plotly\"], function(Plotly) {                    window.PLOTLYENV=window.PLOTLYENV || {};                                    if (document.getElementById(\"4601fdcf-bf68-47f1-bd8e-1acd326a1fe8\")) {                    Plotly.newPlot(                        \"4601fdcf-bf68-47f1-bd8e-1acd326a1fe8\",                        [{\"customdata\": [[\"Scrypt\"], [\"Scrypt\"], [\"X13\"], [\"SHA-256\"], [\"Scrypt\"], [\"X11\"], [\"Ethash\"], [\"Equihash\"], [\"SHA-512\"], [\"Multiple\"], [\"SHA-256\"], [\"X11\"], [\"SHA-256\"], [\"Scrypt\"], [\"X15\"], [\"X11\"], [\"SHA-256\"], [\"X13\"], [\"X13\"], [\"Scrypt\"], [\"Scrypt\"], [\"Scrypt\"], [\"SHA-256\"], [\"Multiple\"], [\"Scrypt\"], [\"SHA-256\"], [\"Scrypt\"], [\"Scrypt\"], [\"Quark\"], [\"Groestl\"], [\"Scrypt\"], [\"X11\"], [\"Scrypt\"], [\"Scrypt\"], [\"Scrypt\"], [\"Scrypt\"], [\"Scrypt\"], [\"Scrypt\"], [\"Multiple\"], [\"Scrypt\"], [\"X11\"], [\"Scrypt\"], [\"Groestl\"], [\"Multiple\"], [\"X11\"], [\"Scrypt\"], [\"SHA-256\"], [\"Scrypt\"], [\"Scrypt\"], [\"Scrypt\"], [\"Scrypt\"], [\"Scrypt\"], [\"Scrypt\"], [\"X11\"], [\"NIST5\"], [\"SHA-256\"], [\"Scrypt\"], [\"NeoScrypt\"], [\"Scrypt\"], [\"Scrypt\"], [\"Scrypt\"], [\"X11\"], [\"Scrypt\"], [\"Multiple\"], [\"Scrypt\"], [\"X11\"], [\"SHA-256\"], [\"X11\"], [\"X13\"], [\"Scrypt\"], [\"Scrypt\"], [\"Scrypt\"], [\"Scrypt\"], [\"X11\"], [\"SHA3\"], [\"Scrypt\"], [\"HybridScryptHash256\"], [\"Scrypt\"], [\"SHA-256\"], [\"Scrypt\"], [\"SHA-256\"], [\"Scrypt\"], [\"SHA-256\"], [\"Scrypt\"], [\"NeoScrypt\"], [\"Scrypt\"], [\"Scrypt\"], [\"Scrypt\"], [\"Scrypt\"], [\"Scrypt\"], [\"X15\"], [\"Scrypt\"], [\"Scrypt\"], [\"Scrypt-n\"], [\"Scrypt\"], [\"X11\"], [\"SHA-256\"], [\"Multiple\"], [\"SHA-256\"], [\"PHI1612\"], [\"X11\"], [\"SHA-256\"], [\"SHA-256\"], [\"SHA-256\"], [\"SHA-256\"], [\"Scrypt\"], [\"Scrypt\"], [\"Scrypt\"], [\"Lyra2REv2\"], [\"Scrypt\"], [\"Scrypt\"], [\"X11\"], [\"SHA-256\"], [\"Scrypt\"], [\"Scrypt\"], [\"CryptoNight\"], [\"CryptoNight\"], [\"Shabal256\"], [\"Counterparty\"], [\"Scrypt\"], [\"SHA-256\"], [\"SHA-256\"], [\"Scrypt\"], [\"Scrypt\"], [\"Scrypt\"], [\"X13\"], [\"Scrypt\"], [\"Scrypt\"], [\"Scrypt\"], [\"SHA-256\"], [\"X13\"], [\"X13\"], [\"Scrypt\"], [\"X11\"], [\"Momentum\"], [\"Stanford Folding\"], [\"X11\"], [\"Scrypt\"], [\"Scrypt\"], [\"Scrypt\"], [\"M7 POW\"], [\"Scrypt\"], [\"X11\"], [\"Scrypt\"], [\"SHA-256\"], [\"Scrypt\"], [\"X11\"], [\"SHA3\"], [\"X11\"], [\"Lyra2RE\"], [\"SHA-256\"], [\"QUAIT\"], [\"X11\"], [\"Scrypt\"], [\"Scrypt\"], [\"Scrypt\"], [\"Ethash\"], [\"X11\"], [\"X13\"], [\"SHA-256\"], [\"X13\"], [\"X15\"], [\"X11\"], [\"SHA-256\"], [\"BLAKE256\"], [\"Scrypt\"], [\"Scrypt\"], [\"1GB AES Pattern Search\"], [\"SHA-256\"], [\"X11\"], [\"Scrypt\"], [\"CryptoNight\"], [\"SHA-256\"], [\"Quark\"], [\"SHA-256\"], [\"Blake\"], [\"Scrypt\"], [\"Scrypt\"], [\"SHA-256\"], [\"X11\"], [\"Scrypt\"], [\"Scrypt-n\"], [\"X11\"], [\"Scrypt\"], [\"Dagger\"], [\"Scrypt\"], [\"SHA-256\"], [\"CryptoNight-Lite\"], [\"X11GOST\"], [\"X11\"], [\"SHA-256\"], [\"Scrypt\"], [\"SHA-256\"], [\"Scrypt\"], [\"PoS\"], [\"Scrypt\"], [\"X11\"], [\"X11\"], [\"X11\"], [\"X11\"], [\"PoS\"], [\"SHA-256\"], [\"SHA-256\"], [\"SHA-256\"], [\"NIST5\"], [\"X15\"], [\"X11\"], [\"NIST5\"], [\"Scrypt\"], [\"Scrypt\"], [\"Scrypt\"], [\"POS 3.0\"], [\"Scrypt\"], [\"Scrypt\"], [\"Scrypt\"], [\"X13\"], [\"X11\"], [\"X11\"], [\"Equihash\"], [\"X11\"], [\"X11\"], [\"Scrypt\"], [\"CryptoNight\"], [\"SHA-256\"], [\"SHA-256\"], [\"X11\"], [\"Scrypt\"], [\"Multiple\"], [\"Scrypt\"], [\"X11\"], [\"SHA-256\"], [\"Scrypt\"], [\"Scrypt\"], [\"SHA-256D\"], [\"PoS\"], [\"Scrypt\"], [\"X11\"], [\"Scrypt-n\"], [\"Lyra2Z\"], [\"SHA-256\"], [\"PoS\"], [\"X13\"], [\"Quark\"], [\"X14\"], [\"PoS\"], [\"SHA-256D\"], [\"Ethash\"], [\"SHA-256\"], [\"Equihash\"], [\"DPoS\"], [\"X11\"], [\"Scrypt\"], [\"Scrypt\"], [\"Equihash\"], [\"X11\"], [\"X13\"], [\"X11\"], [\"PoS\"], [\"SHA-256D\"], [\"Scrypt\"], [\"Scrypt\"], [\"Scrypt\"], [\"X11\"], [\"PoS\"], [\"X11\"], [\"SHA-256\"], [\"Scrypt\"], [\"X11\"], [\"Scrypt\"], [\"Scrypt\"], [\"X11\"], [\"CryptoNight\"], [\"Scrypt\"], [\"Scrypt\"], [\"Scrypt\"], [\"Scrypt\"], [\"Quark\"], [\"QuBit\"], [\"Scrypt\"], [\"CryptoNight\"], [\"X11\"], [\"Lyra2RE\"], [\"X13\"], [\"PoS\"], [\"Scrypt\"], [\"SHA-256\"], [\"X11\"], [\"X11\"], [\"X11\"], [\"Scrypt\"], [\"X11\"], [\"Scrypt\"], [\"Scrypt\"], [\"CryptoNight-V7\"], [\"Scrypt\"], [\"Scrypt\"], [\"Keccak\"], [\"Scrypt\"], [\"X13\"], [\"X11\"], [\"Equihash\"], [\"Scrypt\"], [\"Scrypt\"], [\"Lyra2RE\"], [\"Ethash\"], [\"X11\"], [\"Scrypt\"], [\"Dagger-Hashimoto\"], [\"X11\"], [\"Blake2S\"], [\"X11\"], [\"Scrypt\"], [\"Scrypt\"], [\"PoS\"], [\"X11\"], [\"NIST5\"], [\"PoS\"], [\"X11\"], [\"Scrypt\"], [\"Scrypt\"], [\"Scrypt\"], [\"Scrypt\"], [\"SHA-256\"], [\"X11\"], [\"Scrypt\"], [\"Scrypt\"], [\"Scrypt\"], [\"SHA-256\"], [\"PoS\"], [\"Scrypt\"], [\"X11\"], [\"X15\"], [\"SHA-256\"], [\"Scrypt\"], [\"POS 3.0\"], [\"CryptoNight-V7\"], [\"536\"], [\"Blake2b\"], [\"Cloverhash\"], [\"CryptoNight\"], [\"NIST5\"], [\"X11\"], [\"NIST5\"], [\"Skein\"], [\"Scrypt\"], [\"X13\"], [\"Scrypt\"], [\"X11\"], [\"X11\"], [\"X11\"], [\"Scrypt\"], [\"CryptoNight\"], [\"X13\"], [\"Time Travel\"], [\"Scrypt\"], [\"Keccak\"], [\"SkunkHash v2 Raptor\"], [\"X11\"], [\"Skein\"], [\"SHA-256\"], [\"X11\"], [\"Scrypt\"], [\"Scrypt\"], [\"VeChainThor Authority\"], [\"Scrypt\"], [\"PoS\"], [\"Scrypt\"], [\"Scrypt\"], [\"Scrypt\"], [\"Scrypt\"], [\"Scrypt\"], [\"Scrypt\"], [\"Scrypt\"], [\"CryptoNight\"], [\"SHA-512\"], [\"Ouroboros\"], [\"X11\"], [\"Equihash\"], [\"NeoScrypt\"], [\"X11\"], [\"Scrypt\"], [\"NeoScrypt\"], [\"Lyra2REv2\"], [\"Equihash\"], [\"Scrypt\"], [\"SHA-256\"], [\"NIST5\"], [\"PHI1612\"], [\"Dagger\"], [\"Scrypt\"], [\"Quark\"], [\"Scrypt\"], [\"POS 2.0\"], [\"Scrypt\"], [\"SkunkHash\"], [\"X11\"], [\"Quark\"], [\"SHA-256\"], [\"X11\"], [\"NeoScrypt\"], [\"Scrypt\"], [\"Ethash\"], [\"Scrypt\"], [\"NeoScrypt\"], [\"Quark\"], [\"X11\"], [\"DPoS\"], [\"NIST5\"], [\"X13\"], [\"Multiple\"], [\"Scrypt\"], [\"CryptoNight\"], [\"CryptoNight\"], [\"Ethash\"], [\"NIST5\"], [\"Quark\"], [\"X11\"], [\"SHA-256\"], [\"CryptoNight-V7\"], [\"Scrypt\"], [\"Scrypt\"], [\"Scrypt\"], [\"X11\"], [\"SHA-256\"], [\"BLAKE256\"], [\"X11\"], [\"Scrypt\"], [\"NeoScrypt\"], [\"Quark\"], [\"NeoScrypt\"], [\"Scrypt\"], [\"Scrypt\"], [\"Scrypt\"], [\"X11\"], [\"X11\"], [\"SHA-256\"], [\"C11\"], [\"Scrypt\"], [\"Scrypt\"], [\"POS 3.0\"], [\"Ethash\"], [\"Scrypt\"], [\"CryptoNight\"], [\"SkunkHash\"], [\"Scrypt\"], [\"CryptoNight\"], [\"Equihash\"], [\"Skein\"], [\"Scrypt\"], [\"Dagger\"], [\"Lyra2REv2\"], [\"X13\"], [\"Proof-of-BibleHash\"], [\"SHA-256 + Hive\"], [\"Scrypt\"], [\"Scrypt\"], [\"Scrypt\"], [\"NeoScrypt\"], [\"Equihash\"], [\"X11\"], [\"C11\"], [\"Proof-of-Authority\"], [\"X11\"], [\"XEVAN\"], [\"Scrypt\"], [\"VBFT\"], [\"Ethash\"], [\"X11\"], [\"CryptoNight\"], [\"NeoScrypt\"], [\"Scrypt\"], [\"IMesh\"], [\"NIST5\"], [\"Equihash\"], [\"Scrypt\"], [\"Scrypt\"], [\"Equihash\"], [\"Equihash\"], [\"Scrypt\"], [\"Lyra2Z\"], [\"Equihash\"], [\"Green Protocol\"], [\"PoS\"], [\"Scrypt\"], [\"Scrypt\"], [\"Semux BFT consensus\"], [\"Scrypt\"], [\"X11\"], [\"Quark\"], [\"PoS\"], [\"CryptoNight\"], [\"X16R\"], [\"Scrypt\"], [\"NIST5\"], [\"Lyra2RE\"], [\"XEVAN\"], [\"Tribus\"], [\"Scrypt\"], [\"Lyra2Z\"], [\"CryptoNight\"], [\"CryptoNight Heavy\"], [\"CryptoNight\"], [\"Scrypt\"], [\"Scrypt\"], [\"Jump Consistent Hash\"], [\"SHA-256D\"], [\"CryptoNight\"], [\"Scrypt\"], [\"X15\"], [\"Scrypt\"], [\"Quark\"], [\"SHA-256\"], [\"DPoS\"], [\"X16R\"], [\"HMQ1725\"], [\"X11\"], [\"X16R\"], [\"Quark\"], [\"Quark\"], [\"Scrypt\"], [\"Zhash\"], [\"Lyra2REv2\"], [\"Quark\"], [\"Scrypt\"], [\"Scrypt\"], [\"CryptoNight-V7\"], [\"Cryptonight-GPU\"], [\"Scrypt\"], [\"XEVAN\"], [\"CryptoNight Heavy\"], [\"X11\"], [\"X11\"], [\"Scrypt\"], [\"PoS\"], [\"Lyra2REv2\"], [\"Scrypt\"], [\"SHA-256\"], [\"Scrypt\"], [\"Keccak\"], [\"X11\"], [\"X11\"], [\"Quark\"], [\"Scrypt\"], [\"SHA-512\"], [\"X16R\"], [\"ECC 256K1\"], [\"NeoScrypt\"], [\"Equihash\"], [\"XEVAN\"], [\"Quark\"], [\"CryptoNight Heavy X\"], [\"Lyra2Z\"], [\"Ethash\"], [\"SHA-256\"], [\"XEVAN\"], [\"Ethash\"], [\"CryptoNight\"], [\"Quark\"], [\"SkunkHash\"], [\"Quark\"], [\"Argon2\"], [\"Blake\"], [\"Blake\"], [\"SHA-256\"], [\"Equihash\"], [\"Exosis\"], [\"Scrypt\"], [\"Scrypt\"], [\"Equihash\"], [\"Quark\"], [\"Equihash\"], [\"Quark\"], [\"Scrypt\"], [\"QuBit\"], [\"X11\"], [\"Scrypt\"], [\"Equihash1927\"], [\"XEVAN\"], [\"SHA-256D\"], [\"X11\"], [\"SHA-256\"], [\"SHA-256\"], [\"X13\"], [\"SHA-256\"], [\"X11\"], [\"DPoS\"], [\"X11\"], [\"Scrypt\"], [\"X11\"], [\"Scrypt\"], [\"NeoScrypt\"], [\"Scrypt\"], [\"Blake\"], [\"Scrypt\"], [\"SHA-256\"], [\"X11\"], [\"CryptoNight\"], [\"Scrypt\"], [\"Scrypt\"], [\"SHA-256\"], [\"X11\"], [\"SHA-256\"], [\"Scrypt\"], [\"CryptoNight\"], [\"Scrypt\"], [\"SHA-256\"], [\"Scrypt\"], [\"Groestl\"], [\"X11\"], [\"Scrypt\"], [\"PoS\"], [\"Scrypt\"], [\"Scrypt\"], [\"X11\"], [\"SHA-256\"], [\"DPoS\"], [\"Scrypt\"], [\"Scrypt\"], [\"Scrypt\"], [\"NeoScrypt\"], [\"Scrypt\"], [\"SHA3-256\"], [\"Multiple\"], [\"X13\"], [\"Equihash+Scrypt\"], [\"Ethash\"], [\"Ethash\"], [\"SHA-256\"], [\"Leased POS\"], [\"PoS\"], [\"TRC10\"], [\"PoS\"], [\"SHA-256\"], [\"Scrypt\"], [\"CryptoNight\"], [\"Equihash\"], [\"Scrypt\"]], \"hovertemplate\": \"<b>%{hovertext}</b><br><br>PC 1=%{z}<br>PC 2=%{y}<br>Algorithm=%{customdata[0]}<br>Class=%{marker.color}<extra></extra>\", \"hovertext\": [\"42 Coin\", \"404Coin\", \"EliteCoin\", \"Bitcoin\", \"Litecoin\", \"Dash\", \"Ethereum Classic\", \"ZCash\", \"Bitshares\", \"DigiByte\", \"BitcoinDark\", \"Bitstake\", \"PayCoin\", \"ProsperCoin\", \"KoboCoin\", \"Spreadcoin\", \"ACoin\", \"Aero Coin\", \"ApexCoin\", \"ArchCoin\", \"Argentum\", \"Aurora Coin\", \"BetaCoin\", \"MyriadCoin\", \"MoonCoin\", \"ZetaCoin\", \"SexCoin\", \"Quatloo\", \"QuarkCoin\", \"Riecoin\", \"Digitalcoin \", \"LimeCoinX\", \"BitBar\", \"BitMark\", \"CashCoin\", \"Catcoin\", \"CryptoBullion\", \"CannaCoin\", \"CinderCoin\", \"CoolCoin\", \"CryptCoin\", \"CasinoCoin\", \"Diamond\", \"Verge\", \"DarkCash\", \"DarkShibe\", \"DevCoin\", \"EarthCoin\", \"E-Gulden\", \"Elacoin\", \"Einsteinium\", \"Emerald\", \"Flappy Coin\", \"Fuel2Coin\", \"FIBRE\", \"FireRoosterCoin\", \"Franko\", \"FeatherCoin\", \"GrandCoin\", \"GlobalCoin\", \"GoldCoin\", \"GlyphCoin\", \"HoboNickels\", \"HunterCoin\", \"Infinite Coin\", \"IOCoin\", \"IXcoin\", \"JumBucks Coin\", \"JudgeCoin\", \"KrugerCoin\", \"LuckyCoin\", \"Litebar \", \"LitecoinDark\", \"LibrexCoin\", \"MaxCoin\", \"MegaCoin\", \"MediterraneanCoin\", \"MinCoin\", \"MazaCoin\", \"Nautilus Coin\", \"NoirBits\", \"NobleCoin\", \"Namecoin\", \"NyanCoin\", \"Orbitcoin\", \"PotCoin\", \"PhoenixCoin\", \"RipOffCoin\", \"RonPaulCoin\", \"StableCoin\", \"ShieldCoin\", \"SilkCoin\", \"SmartCoin\", \"SpainCoin\", \"SecureCoin\", \"SyncCoin\", \"SysCoin\", \"TeslaCoin\", \"TigerCoin\", \"TittieCoin\", \"TorCoin\", \"TerraCoin\", \"Umbrella\", \"UnbreakableCoin\", \"Unobtanium\", \"UnitaryStatus Dollar\", \"UltraCoin\", \"ViaCoin\", \"Vertcoin\", \"WorldCoin\", \"SocialXbotCoin\", \"X11 Coin\", \"JouleCoin\", \"XXXCoin\", \"ZCC Coin\", \"ByteCoin\", \"DigitalNote \", \"BurstCoin\", \"StorjCoin\", \"MonaCoin\", \"Neutron\", \"Sling Coin\", \"KryptCoin\", \"Gulden\", \"PesetaCoin\", \"Kore\", \"Wild Beast Coin\", \"Dnotes\", \"Flo\", \"MaieutiCoin\", \"Sativa Coin\", \"AeroMe\", \"ArtByte\", \"MasterTraderCoin\", \"BitCredit\", \"Folding Coin\", \"Ucoin\", \"OmniCron\", \"Vtorrent\", \"GreenCoin\", \"Cryptonite\", \"Gridmaster\", \"ConSpiracy Coin \", \"MasterCoin\", \"SoonCoin\", \"1Credit\", \"Quicksilver coin\", \"Nexus\", \"MarsCoin \", \"Crypto\", \"Anarchists Prime\", \"Droidz\", \"BowsCoin\", \"Song Coin\", \"BitZeny\", \"Diggits\", \"Expanse\", \"MapCoin\", \"Paycon\", \"Emercoin\", \"BlitzCoin\", \"EverGreenCoin\", \"MindCoin\", \"I0coin\", \"Decred\", \"DogeCoinDark\", \"Revolution VR\", \"HOdlcoin\", \"EDRCoin\", \"Hitcoin\", \"Gamecredits\", \"Dashcoin\", \"DubaiCoin\", \"BiosCrypto\", \"CarpeDiemCoin\", \"TrumpCoin\", \"BillaryCoin\", \"EthereumScrypt\", \"Phalanx\", \"SunShotCoin\", \"GPU Coin\", \"HempCoin\", \"Adzcoin\", \"VirtaCoin\", \"SoilCoin\", \"YoCoin\", \"Universal Currency\", \"AEON\", \"SibCoin\", \"EuropeCoin\", \"Anti Bitcoin\", \"ZeitCoin\", \"SwingCoin\", \"SafeExchangeCoin\", \"Nebuchadnezzar\", \"Francs\", \"BolivarCoin\", \"GIZMOcoin\", \"SecretCoin\", \"Ratecoin\", \"Digital Bullion Gold\", \"Revenu\", \"Clinton\", \"Clockcoin\", \"VIP Tokens\", \"OrlyCoin\", \"BitSend\", \"16BitCoin\", \"ChessCoin\", \"ReeCoin\", \"Omni\", \"Let it Ride\", \"PutinCoin\", \"iBankCoin\", \"Frankywillcoin\", \"MudraCoin\", \"PizzaCoin\", \"Lutetium Coin\", \"Komodo\", \"GoldBlocks\", \"WayCoin\", \"CarterCoin\", \"Karbo\", \"BitTokens\", \"ZayedCoin\", \"MustangCoin\", \"ZoneCoin\", \"Circuits of Value\", \"DopeCoin\", \"PROUD Money\", \"DollarCoin\", \"Swiscoin\", \"Shilling\", \"BuzzCoin\", \"Opair\", \"GBR Coin\", \"Halloween Coin\", \"FujiCoin\", \"ZCoin\", \"LeaCoin\", \"CoffeeCoin\", \"RoyalCoin\", \"Zurcoin\", \"GanjaCoin V2\", \"TeamUP\", \"LanaCoin\", \"Elementrem\", \"CashOut\", \"ZClassic\", \"ARK\", \"InsaneCoin\", \"LuckChain\", \"KiloCoin\", \"Hush\", \"ArtexCoin\", \"EmberCoin\", \"XenixCoin\", \"FreeCoin\", \"NPCcoin\", \"PLNCoin\", \"Icobid\", \"AquariusCoin\", \"Kurrent\", \"Creatio\", \"Eternity\", \"Eurocoin\", \"BitcoinFast\", \"Stakenet\", \"BitConnect Coin\", \"MoneyCoin\", \"Enigma\", \"Cannabis Industry Coin\", \"Russiacoin\", \"PandaCoin\", \"GameUnits\", \"GAKHcoin\", \"Allsafe\", \"LiteCreed\", \"OsmiumCoin\", \"Bikercoins\", \"NeptuneClassic\", \"HexxCoin\", \"GoldenBird\", \"Ride My Car\", \"Klingon Empire Darsek\", \"Internet of People\", \"KushCoin\", \"Eryllium\", \"MarxCoin\", \"Printerium\", \"PacCoin\", \"Impeach\", \"Solarflarecoin\", \"Citadel\", \"Zilbercoin\", \"FirstCoin\", \"CreativeChain\", \"BeaverCoin\", \"FindCoin\", \"VaultCoin\", \"Zero\", \"OpenChat\", \"Canada eCoin\", \"Zoin\", \"Musicoin\", \"BnrtxCoin\", \"RenosCoin\", \"DubaiCoin\", \"VirtacoinPlus\", \"TajCoin\", \"Impact\", \"EB3coin\", \"Universe\", \"Atmos\", \"HappyCoin\", \"Coinonat\", \"MacronCoin\", \"Condensate\", \"Independent Money System\", \"ArgusCoin\", \"LomoCoin\", \"Bitcoin Scrypt\", \"ProCurrency\", \"GoldReserve\", \"BenjiRolls\", \"ParallelCoin\", \"GrowthCoin\", \"ILCoin\", \"Phreak\", \"Degas Coin\", \"ZSEcoin\", \"HTML5 Coin\", \"Ultimate Secure Cash\", \"EquiTrader\", \"QTUM\", \"Quantum Resistant Ledger\", \"Espers\", \"Nano\", \"ChanCoin\", \"Dinastycoin\", \"Denarius\", \"DigitalPrice\", \"Virta Unique Coin\", \"Bitcoin Planet\", \"Unify\", \"BritCoin\", \"SocialCoin\", \"Octanox\", \"ArcticCoin\", \"DAS\", \"Linda\", \"LeviarCoin\", \"DeepOnion\", \"Bitcore\", \"gCn Coin\", \"SmartCash\", \"Signatum\", \"Onix\", \"Cream\", \"Bitcoin Cash\", \"Monoeci\", \"CampusCoin\", \"Draftcoin\", \"Vechain\", \"Sojourn Coin\", \"Stakecoin\", \"LiteBitcoin\", \"FrazCoin\", \"Kronecoin\", \"AdCoin\", \"Linx\", \"CoinonatX\", \"Ethereum Dark\", \"Sumokoin\", \"Obsidian\", \"Cardano\", \"Regalcoin\", \"BitcoinZ\", \"TrezarCoin\", \"Elements\", \"TerraNovaCoin\", \"VIVO Coin\", \"Rupee\", \"Bitcoin Gold\", \"WomenCoin\", \"Theresa May Coin\", \"NamoCoin\", \"LUXCoin\", \"Pirl\", \"Xios\", \"Bitcloud 2.0\", \"eBoost\", \"KekCoin\", \"BlackholeCoin\", \"AltCommunity Coin\", \"Pure\", \"Rupaya\", \"Infinity Economics\", \"Pura\", \"Innova\", \"Bitdeal\", \"Ellaism\", \"Sakuracoin\", \"GoByte\", \"Castle\", \"Magnet\", \"Lamden Tau\", \"Electra\", \"Bitcoin Diamond\", \"SHIELD\", \"Cash & Back Coin\", \"UltraNote\", \"BitCoal\", \"DaxxCoin\", \"Bulwark\", \"Kalkulus\", \"AC3\", \"CHIPS\", \"Lethean\", \"GermanCoin\", \"LiteCoin Ultra\", \"PopularCoin\", \"PhantomX\", \"HTML Coin\", \"Photon\", \"Sucre\", \"Fantasy Cash\", \"SparksPay\", \"Digiwage\", \"GunCoin\", \"IrishCoin\", \"Trollcoin\", \"Litecoin Plus\", \"Monkey Project\", \"Pioneer Coin\", \"UnitedBitcoin\", \"Interzone\", \"OP Coin\", \"Valorbit\", \"TokenPay\", \"1717 Masonic Commemorative Token\", \"My Big Coin\", \"TurtleCoin\", \"MUNcoin\", \"Unified Society USDEX\", \"Niobio Cash\", \"Bitcoin Private\", \"Skeincoin\", \"ShareChain\", \"Travelflex\", \"KREDS\", \"Tokyo Coin\", \"BiblePay\", \"LitecoinCash\", \"BitFlip\", \"LottoCoin\", \"LeafCoin\", \"Cerberus\", \"Bitcoin Hush\", \"Crypto Improvement Fund\", \"Stipend\", \"Poa Network\", \"Pushi\", \"Ellerium\", \"Velox\", \"Ontology\", \"Callisto Network\", \"Curium\", \"BitTube\", \"Dinero\", \"Poseidon\", \"Aidos Kuneen\", \"Bitspace\", \"Snowgem\", \"Briacoin\", \"Ignition\", \"Bitrolium\", \"Bitcoin Interest\", \"MedicCoin\", \"Alpenschillling\", \"Zelcash\", \"Bitcoin Green\", \"Deviant Coin\", \"Abjcoin\", \"Profit Hunters Coin\", \"Semux\", \"BitBlocks\", \"FuturoCoin\", \"Carebit\", \"Zealium\", \"Monero Classic\", \"Proton\", \"iDealCash\", \"Jumpcoin\", \"Infinex\", \"Bitcoin Incognito\", \"KEYCO\", \"HollyWoodCoin\", \"GINcoin\", \"PlatinCoin\", \"Loki\", \"Newton Coin\", \"Swisscoin\", \"Xt3ch\", \"MassGrid\", \"TheVig\", \"PluraCoin\", \"EmaratCoin\", \"Dekado\", \"Lynx\", \"Poseidon Quark\", \"BitcoinWSpectrum\", \"Muse\", \"Motion\", \"PlusOneCoin\", \"Axe\", \"Trivechain\", \"Dystem\", \"Giant\", \"Peony Coin\", \"SafeCoin\", \"Absolute Coin\", \"Vitae\", \"HexCoin\", \"TPCash\", \"Webchain\", \"Ryo\", \"MUSDcoin\", \"Urals Coin\", \"Qwertycoin\", \"ARENON\", \"EUNO\", \"MMOCoin\", \"Ketan\", \"NIX\", \"Safe Trade Coin\", \"Project Pai\", \"Mont Blanc\", \"XDNA\", \"PAXEX\", \"Azart\", \"Apollon\", \"ThunderStake\", \"Kcash\", \"Xchange\", \"Acute Angle Cloud\", \"Traid\", \"CrypticCoin\", \"Bettex coin\", \"ZestCoin\", \"X-CASH\", \"Actinium\", \"ETHER-1\", \"Bitcoin SV\", \"BitMoney\", \"Bitcoiin2Gen\", \"FREDEnergy\", \"Zenad\", \"C25 Coin\", \"HerbCoin\", \"Aquachain\", \"Universal Molecule\", \"Lithium\", \"Smart Bitcoin\", \"PirateCash\", \"Exosis\", \"Block-Logic\", \"Oduwa\", \"Beam\", \"Galilel\", \"Bithereum\", \"Crypto Sports\", \"Credit\", \"SLICE\", \"Dash Platinum\", \"Nasdacoin\", \"Vidulum\", \"Beetle Coin\", \"Titan Coin\", \"Award\", \"BlockStamp\", \"BLAST\", \"Bitcoin Rhodium\", \"GlobalToken\", \"Insane Coin\", \"ALAX\", \"The Freedom Coin\", \"LiteDoge\", \"Boolberry\", \"SolarCoin\", \"UFO Coin\", \"OrangeCoin\", \"BlakeCoin\", \"BitstarCoin\", \"NeosCoin\", \"PinkCoin\", \"FantomCoin \", \"Crypto Escudo\", \"AudioCoin\", \"IncaKoin\", \"Piggy Coin\", \"Crown Coin\", \"Genstake\", \"Quazar Coin\", \"SmileyCoin\", \"ParkByte\", \"XiaoMiCoin\", \"Groestlcoin\", \"CapriCoin\", \" ClubCoin\", \"Radium\", \"Bata\", \"Pakcoin\", \"Creditbit \", \"OKCash\", \"Lisk\", \"HiCoin\", \"WhiteCoin\", \"Dotcoin\", \"FriendshipCoin\", \"The Hempcoin\", \"Fiii\", \"JoinCoin\", \"Triangles Coin\", \"Vollar\", \"Reality Clash\", \"iOlite\", \"TigerCash\", \"Waves\", \"Particl\", \"BitTorrent\", \"Nxt\", \"ZEPHYR\", \"Gapcoin\", \"Beldex\", \"Horizen\", \"BitcoinPlus\"], \"legendgroup\": \"\", \"marker\": {\"color\": [0, 0, 0, 1, 1, 0, 1, 1, 0, 1, 0, 0, 0, 1, 0, 1, 1, 0, 0, 0, 1, 0, 1, 1, 1, 1, 1, 1, 1, 1, 1, 1, 0, 1, 0, 1, 0, 1, 0, 0, 1, 0, 0, 1, 0, 1, 1, 1, 1, 1, 1, 1, 1, 0, 0, 1, 1, 1, 1, 1, 1, 0, 0, 1, 1, 0, 1, 0, 0, 1, 1, 1, 1, 0, 0, 1, 1, 1, 0, 0, 1, 1, 1, 1, 0, 0, 0, 1, 1, 1, 0, 0, 1, 1, 1, 0, 1, 0, 1, 0, 0, 1, 1, 1, 1, 0, 0, 1, 1, 1, 0, 0, 1, 0, 0, 1, 1, 0, 0, 1, 0, 1, 0, 1, 1, 0, 1, 0, 1, 0, 0, 0, 1, 0, 1, 1, 0, 1, 0, 1, 1, 1, 1, 1, 1, 1, 1, 0, 1, 1, 1, 0, 1, 1, 1, 0, 1, 0, 0, 0, 0, 0, 1, 1, 0, 1, 1, 1, 0, 0, 1, 1, 0, 0, 1, 0, 0, 0, 1, 1, 0, 1, 1, 1, 1, 1, 0, 1, 1, 0, 1, 0, 0, 0, 0, 1, 1, 0, 0, 0, 0, 0, 1, 0, 0, 0, 0, 0, 0, 0, 1, 0, 0, 0, 0, 0, 1, 0, 1, 0, 0, 0, 1, 0, 1, 0, 0, 1, 1, 0, 1, 0, 1, 0, 0, 1, 0, 1, 1, 1, 0, 0, 1, 0, 0, 0, 1, 1, 1, 0, 0, 0, 1, 1, 1, 0, 0, 0, 0, 0, 0, 0, 1, 0, 0, 0, 0, 0, 0, 0, 0, 1, 0, 0, 0, 0, 0, 0, 1, 1, 0, 1, 0, 0, 0, 0, 0, 0, 1, 0, 1, 0, 1, 1, 0, 0, 1, 1, 0, 1, 1, 0, 1, 1, 1, 1, 0, 1, 0, 0, 0, 1, 0, 0, 0, 1, 0, 0, 0, 0, 0, 1, 0, 0, 1, 1, 0, 1, 0, 0, 0, 0, 0, 1, 0, 1, 0, 1, 1, 1, 0, 1, 0, 0, 1, 0, 1, 0, 1, 1, 0, 1, 0, 1, 1, 1, 0, 1, 0, 1, 0, 1, 0, 0, 1, 0, 1, 1, 1, 1, 1, 0, 0, 1, 0, 0, 0, 1, 0, 1, 0, 1, 0, 1, 0, 0, 0, 0, 1, 0, 0, 1, 0, 0, 0, 0, 0, 0, 1, 1, 1, 1, 1, 1, 0, 0, 0, 0, 0, 1, 0, 1, 1, 1, 0, 0, 1, 1, 1, 0, 0, 1, 0, 0, 1, 1, 0, 1, 0, 1, 1, 0, 0, 0, 1, 1, 1, 0, 0, 0, 1, 0, 1, 1, 0, 1, 1, 1, 1, 1, 1, 0, 3, 3, 1, 1, 1, 1, 1, 1, 0, 0, 0, 0, 0, 0, 1, 1, 1, 1, 1, 1, 0, 1, 0, 0, 1, 1, 0, 1, 0, 0, 0, 0, 0, 0, 0, 1, 0, 0, 1, 0, 0, 1, 1, 0, 1, 0, 1, 1, 1, 1, 0, 0, 1, 0, 1, 0, 0, 0, 0, 0, 0, 1, 1, 1, 0, 0, 0, 0, 0, 0, 0, 1, 0, 1, 1, 0, 1, 1, 0, 0, 0, 0, 1, 0, 1, 0, 0, 0, 1, 0, 0, 0, 1, 0, 0, 1, 0, 1, 1, 1, 1, 1, 0, 1, 1, 0, 1, 0, 1, 1, 1, 1, 0, 1, 1, 0, 1, 0, 1, 0, 0, 1, 0, 0, 1, 0, 0, 0, 1, 1, 1, 1, 0, 0, 0, 0, 1, 1, 1, 0, 1, 0, 0, 0, 1, 1, 0, 0, 0, 1, 0, 1, 1, 0, 0, 1, 0, 0, 0, 1, 1, 0, 0, 0, 0, 0, 1, 0, 0, 3, 1, 0, 1, 1, 1, 0, 0, 0, 2, 0, 0, 0, 1, 1, 0], \"coloraxis\": \"coloraxis\", \"symbol\": \"circle\"}, \"mode\": \"markers\", \"name\": \"\", \"scene\": \"scene\", \"showlegend\": false, \"type\": \"scatter3d\", \"x\": [-0.17244324574203496, -0.15787372561031912, 0.4160761530887279, -0.24818028956839794, -0.321037682688551, -0.13935642610865717, -0.3418733682732275, -0.3442028741258849, 0.33144042493847137, -0.13474114671860685, -0.09894517001772936, -0.13948112615509475, 0.027523637239299552, -0.32182845404643695, -0.004795774867752914, -0.28879202957922157, -0.24842781995994517, 0.13812036838170774, 0.01179939133144192, -0.04612226929353781, -0.32173956818593563, -0.17219284499131257, -0.24842782000307617, -0.2689224351082337, -0.3219086438581819, -0.2460777140651227, -0.32012774159926927, -0.3218065072629949, -0.07142997449418238, -0.34410683725906605, -0.3214463344968104, -0.28894598012381945, -0.1724426584042748, -0.32190810030185485, -0.17244324638924755, -0.3218084103584225, -0.17242889866512384, -0.32184315121558366, -0.14276823853672688, -0.046122269412143084, -0.28887698396765504, 0.9883067927999845, -0.19528050103132596, -0.07228527672335096, -0.13948112615852803, -0.3219081002656246, 0.01079318281304049, -0.14877500257666082, -0.3216193777480135, -0.32190810036913325, -0.3188860153755379, -0.3216388973976932, -0.321908242140465, -0.013160149243443341, -0.09435389394869333, -0.24842781996136734, -0.32189232194394496, -0.3344001773558526, -0.30970048840285086, -0.32100132079306587, -0.3213328963747925, -0.1394811261631814, -0.17121068857363653, -0.2922330923753502, 0.9289974331516125, -0.13923741025415157, -0.24813662768329625, -0.13948112615792185, 0.01179939130930914, -0.31981697918699603, -0.3216412511151052, -0.32189285197315576, -0.3219081003790691, -0.1394811261546686, 0.008572885477876975, -0.3213813145601103, -0.37260467649723245, -0.32182795841026246, -0.07667984195488424, -0.04589886308557845, -0.2484278200286141, -0.2892385356109829, -0.2482243463633467, -0.31728658539589255, -0.1877720636762213, -0.16936861931633657, -0.17142204985629358, -0.3219081002797502, -0.3218928545803917, -0.32157374821219264, -0.005148454286650321, -0.17244324632336863, -0.32155471345323705, -0.3681096595839491, -0.32190810029251904, -0.1394811099017615, -0.2406495220631325, -0.015339060857869354, -0.24782668335064775, 0.12098364169906627, -0.13946135580885752, -0.24811113832127196, -0.24842781996139945, -0.24839636439429602, -0.24842504585781877, -0.15726940241819584, -0.1717496211231996, -0.32158844312460305, -0.32090020454205515, -0.32025662146151207, -0.17244324632478736, -0.13938515219224232, -0.24788662277265483, -0.17244324639288874, -0.17039986468541785, 2.334277929715863, -0.1118712437915916, 1.4102071021378824, 0.15660955853879854, -0.32096649882383177, -0.09842279124977382, -0.24842781995909416, -0.04612226929438469, -0.3161775205077642, -0.32000931819615885, 0.011827316614059533, -0.32190558840685457, -0.043710834504147034, -0.31980561521335266, 0.02735801103478129, 0.011897381237398912, 0.011799391322929136, -0.3109651015926149, -0.13948112616759362, -0.36716188818247053, -0.35792146916319517, -0.01312300940817417, -0.3217680910663741, -0.17228301353618633, -0.2582505916740488, -0.3909511983988225, -0.32190810038190215, -0.28894598014084455, -0.32189954678828253, -0.24825574170122142, -0.3219070127845722, -0.28894598014084455, 0.1843235378228481, -0.28850107903855543, -0.4009509492254241, -0.2482241972882506, -0.12150235516526627, -0.28872693934665383, -0.3214584534550909, -0.3208640494006201, -0.04474151411150743, -0.34329367399992705, -0.013160149104727905, 0.012117553245150079, -0.09836841703646783, 0.13812036838617353, -0.004961630447594107, -0.2887268860769242, -0.248137896212656, 0.07325842954489284, -0.3219081236725519, -0.3190085144293331, -0.40493117587958727, -0.09891229658344725, 0.012351081204914068, -0.32094383472939486, -0.2072343041533993, -0.09889214689912201, 0.07445103045564475, 0.05174796412582614, -0.038172596890780466, -0.172318995757245, -0.1724432463279084, -0.2484278199789569, -0.28894598328627413, -0.04556338068093421, -0.3681096666068969, -0.28832311702343827, -0.3219081300570503, -0.36377870757445796, -0.3218993125110465, -0.09896296631484358, -0.39618488721667855, -0.3372847634087932, -0.13933742776880856, -0.24842782001726388, 0.4643598916975969, -0.09890252928731455, 0.46565625781861086, 0.16058005509474532, -0.321817373516085, -0.28875745066163916, -0.13948112615339178, -0.13948112618304437, -0.13762325177744583, 0.1603039040417122, -0.09894645905808962, -0.24842781996111044, -0.09873289399137294, -0.09320164821267375, -0.005148454336307397, -0.13914439155170705, -0.09435389397050871, -0.1724432464278854, -0.17244324681852177, -0.32189958862516377, 0.13275051874329774, -0.16121643359555832, -0.1723807489262949, -0.17106249116319183, 0.13818940587291553, -0.28892695446747874, -0.004088587708526031, -0.23442953023049773, -0.13926622722275728, -0.013160149243443341, -0.17184723652034373, -0.20712629548693423, -0.09895474462921565, -0.2483416078197253, -0.13947204580880687, -0.17240759566410827, -0.2784255410119373, -0.3202947538673303, -0.13948114034102385, -0.24830207853649994, -0.1346796823125585, -0.3217545713618999, 0.2043712063064096, 0.16132612966958787, -0.32190810038686785, -0.13582656643895513, -0.3681096595271978, -0.3471421802347966, -0.2484278227952301, 0.16235731932609937, 0.1381548889827441, -0.07501382363525068, -0.11173644530607584, 0.16054993603444404, -0.0510080933415334, -0.34307675375161906, -0.24842782009955292, -0.3442273066772329, 6.89696087729436, -0.13922785683303018, -0.17244324774072728, -0.31919771981087625, -0.34430481606641156, -0.2775685571261755, 1.2847566766874807, -0.13942792114499175, 0.16099428164237287, -0.06595011057530528, -0.17220728081877204, -0.17244324660570517, -0.17240942371153298, -0.28809868250928355, 0.16058005509474532, -0.13939732154287424, -0.09879152381776449, -0.1721637259392882, -0.14178553160497326, -0.1722902487001069, -0.17229254584002257, -0.13946987754732862, -0.20722079836808652, -0.17232756860072568, 0.4207544602298434, -0.17239529294353126, -0.17239746339427858, 0.20091723221929775, -0.12541975135769062, -0.32189575595519165, -0.20710510567415166, -0.13948112650794456, -0.4011147977381916, 0.011799390701504632, 0.16030390392111604, -0.1721123438871314, -0.09892808708424938, -0.13940298788531513, -0.1394811262951278, -0.2889459802368108, -0.1722800172143386, -0.28153171352154643, -0.17243899115519026, -0.3219081002911004, -0.3586160867011163, -0.046081915201069676, -0.13445475520607503, -0.33058844419024985, -0.3218650861775285, 0.1383209210277881, -0.2885264315586257, -0.34420924495762323, -0.15863569473437006, -0.32052950725194607, -0.40088463121554135, -0.34343858872864164, -0.2889459803919683, -0.04562450199347271, -0.35666466846071604, -0.13929938093941607, -0.09678490305738091, -0.13795359136495602, -0.32102309630234627, -0.04612226942916839, 0.1618384178652675, -0.13918396950070883, -0.24367897133644825, 0.16584655076767646, -0.13780122469002354, -0.17236911451125236, -0.17242739081802824, -0.17243634396422394, -0.32190810029251904, 0.028746195330130342, -0.13924403144284384, -0.32162813699939263, -0.32190810026414357, -0.042047173511972714, -0.23023295504937458, 0.1604611751693248, -0.17214833420484102, -0.13948112912346028, 0.5562529918613281, 0.027500823831907637, -0.3217193040807825, 0.13359844312092617, -0.3578143275727802, 0.5421900247482507, -0.43301590815778557, -0.3489639989768425, -0.18224999347454846, -0.0942962973839213, -0.2884607969760011, -0.09348481808116872, -0.16240446357721422, -0.32165772523893726, 0.012093051605025558, -0.3218367460418957, -0.13948112616446637, -0.28858639885265297, -0.28890976448336525, -0.047554953823162355, -0.2070387643582534, 0.012102011701599056, -0.32445174533195037, 1.9294835176697362, -0.29964559850535627, 0.14026026640331965, -0.2872548927856264, -0.16184487879461049, -0.24817934492953925, -0.13930757540802305, -0.32190810169569, -0.04586457482754092, 7.050552344544671, -0.321901415541863, 0.1603591341876226, -0.3219081016815021, -0.32177411121680943, -0.321667106811843, -0.32145732893496537, -0.32144255768466723, -0.1721734524933763, -0.1723852546052818, -0.207110772867814, 0.2939312456467383, 0.7769159541132805, -0.13938085019039972, -0.2723460479754469, -0.18529474367937573, -0.2516261597316059, -0.17242749558644185, -0.33722386466182847, -0.045489576096447146, -0.34406729355384097, 0.49666345277731244, -0.0976919698585005, -0.0866138892767767, -0.0276230087522869, -0.3633881620557881, -0.17241356442073705, 0.07487508156237743, -0.32052748315887575, 0.17694805076239908, -0.17221731963563502, -0.11479651752867187, -0.13948112615848074, 0.20077200742956644, 0.1516259751849242, -0.28652667832990036, -0.337193359778357, -0.32190810068835823, -0.34326245426697827, -0.3219081004118383, -0.3372008566004271, 4.366339754403242, -0.1389536972346124, 6.899444696533391, 0.2977688353213214, 0.01433354681914738, -0.28558157291950986, -0.17091092612342934, 0.059000346502596855, -0.2071721701564336, -0.33624636140809017, 0.03214999418913371, 0.20100612513024763, -0.2878370105889305, -0.24842781998746952, -0.35267496131721343, -0.10462751695020513, -0.17232699519093717, -0.26717218848495583, -0.1388573808683739, -0.09896309370686619, 0.33911506661063356, -0.2888875874211926, -0.17244324632847616, -0.337173032840634, 0.20114894914437806, -0.3331419110237801, -0.32128009073887615, -0.16428266967787664, -0.17240866550128203, -0.013099295765757715, -0.28882891825159285, -0.24814937687236013, -0.3232304636806928, -0.17244324915950454, -0.30330236382289155, 0.1324999952435964, -0.06763041601666463, -0.2269897260365703, 0.5264953685585718, -0.2641948420149046, -0.16920059438797394, -0.20538502495587344, -0.34430481606641156, -0.3119632689892206, -0.1838325843869298, -0.3623755397041771, -0.31271754371379773, 0.1413002318708618, 0.5023187406422729, 0.2702045006463695, -0.32173625013396506, -0.12182267664429237, -0.3219081300570503, -0.3372813864863277, -0.34430481606641156, -0.2860284774597002, -0.1737747951528464, 0.1572203954038814, -0.13945119380112742, -0.2592266484431251, -0.045769210134461794, 0.09395860849067014, -0.34001967523546334, -0.28894598012523814, -0.20612902359067378, -0.33728138658351364, -0.3218519006225206, -0.32326702262423257, -0.09416351748512998, -0.3443048161559309, -0.17243157013727234, -0.1724269236819308, -0.3433195716049602, -0.34430481606825625, -0.04243154314549324, -0.3468691746488149, -0.19483996239378573, 0.18758993834903834, 0.16060596607071267, -0.17230682080428528, -0.17244324646382755, 7.548372144572433, -0.17244324703133848, -0.28850687987488655, 0.07638049208638838, 0.1604568261074396, -0.20701315045465743, -0.03514715071768478, -0.15305527407156072, -0.2435278318031902, -0.4010703161318653, -0.5055164731951776, -0.3671197089766083, -0.0455878229837374, -0.3471502145796115, -0.20723314100177623, 0.26029139123717454, 0.36294170882452403, -0.031606220128638854, -0.04601691770304044, -0.41282522882769473, -0.0654911628021571, -0.19950088907006197, -0.17214501241369257, 0.121590673285385, 1.7383977009861498, 0.20080951158608762, 0.028156239353204823, 2.7301503520408845, -0.31088158906754976, -0.2943861818163181, -0.2888770385878031, -0.16101911557943968, 0.20086979801254878, 0.07453276414572642, -0.04610790557705995, -0.05394926208776098, -0.1719578436317801, 0.20168404981068813, -0.3218885396437111, -0.17236863445132897, -0.3585524239406474, -0.33867615840347426, -0.17244324646382755, -0.40849368347323445, 1.634611515513162, -0.01289408439969533, -0.13905625227120852, -0.044634314320704166, 0.16043268862897472, -0.32160678857529434, -0.04612227046203849, -0.21943196162375836, -0.04612226936957976, -0.1810590746230096, -0.013097951201676348, -0.28887672308156104, 0.07445103012959603, -0.15780789971004075, 0.5778686702384224, -0.31085911202005423, 0.2933768121007806, -0.18781653285839284, -0.2858283002400135, -0.1328177430874875, -0.07501382349805484, -0.2929617942568747, -0.3470584158540234, -0.34343858810263156, -0.24817938738776432, -0.4976294091281389, -0.3434385882251197, -0.18145485646230322, 0.14763569456857814, -0.26426137147100753, 0.07493860528410334, -0.3851816392866301, -0.3139366358124625, -0.31373962345839596, -0.248427819987469, -0.06833291571342043, -0.37106534616043896, -0.32142090483028474, -0.17223920455518135, -0.34381205908540663, 0.07470322556825938, -0.3439575452488797, 0.20079872101293822, 0.25318427233749535, -0.27512350305247135, -0.013150267623830363, -0.17215954916382625, -0.30335919933692074, -0.25648558926113785, -0.05357355339775071, -0.13926821104336987, -0.24842782010664677, -0.24770577012733283, -0.13764930372807327, -0.24725952033274773, -0.13915283836340747, 6.909274423049058, -0.01316014913703503, 0.03907304939034612, -0.28894598012020134, -0.32114102170728087, -0.2844718510809373, -0.17239440721958865, -0.31363593767960973, -0.17215913484265, 0.0274186573435457, -0.13345615106297265, -0.207234304153333, -0.31113530108512544, -0.15890174484016617, 0.1487407381964499, -0.13265687337794088, -0.24811042677546358, -0.17161479316284994, -0.2072343041533993, 0.08657432951413714, -0.09896296605236966, -0.16686062572202331, -0.3437789131691433, -0.1367007778238112, -0.17101248200115937, 0.16035666610335114, -0.32183833683613816, -0.3209459287087533, -0.0801596325395675, -0.09793187244078434, 6.897123945219046, 0.09195662499330885, -0.16896366656209724, -0.32190810152543653, -0.18780106281088194, -0.17244324674758296, -0.5650134816104555, -0.29218707281564915, 0.011801335136076094, -0.3537957354765998, -0.34310046953186507, -0.3434385895020196, 0.041165562622363754, 0.26197406160105463, 0.16043208146461171, 32.24695208890699, 0.29866591806904846, 4.220540861083331, -0.17223708546542318, -0.19369983067534008, -0.34420406873811765, -0.04612049738988025], \"y\": [-1.1934040416658773, -1.1914774447086502, -1.8967894666280454, 1.4038622621919035, 1.0522017115355, -1.4687515707096586, 2.024067681158994, 1.9198381061826346, -1.6153243178028753, 1.7604785516776658, -0.8416587712033381, -1.4687680602059077, -0.49799757299156655, 1.0520971444661107, -2.0626855635872405, 0.7767429516710462, 1.403829530188833, -1.6066038424442146, -1.9502454921832058, -0.8497623921820967, 1.0521088978129844, -1.1933709300703503, 1.4038295298364865, 1.7427352823693563, 1.0520821621410714, 1.404140294931857, 1.052322035860531, 1.052100045702012, 0.4940158398015996, 1.445281163780882, 1.0521476738013142, 0.7767225939826571, -1.1934039640048673, 1.052086612354671, -1.1934040422923335, 1.052099794946674, -1.1934021444890737, 1.052095201073023, -0.5058378393652782, -0.8497623931510137, 0.7767317177355516, -0.4372266379050125, -0.8002939242287391, 1.768737465172235, -1.468768060233956, 1.0520866126506427, 1.4381074250447772, 1.0749807439609467, 1.0521247917067227, 1.0520866118050567, 1.0524862351754845, 1.052122210397029, 1.052085453639454, -1.1251264115992923, -1.7825262142094875, 1.4038295301772148, 1.0520886989949363, 1.5358495665878693, 1.0537008721486845, 1.0522065200167035, 1.052162674036494, -1.4687680602719728, -1.1932410556231046, 1.739652815886122, 1.2174992899194965, -1.468735832627481, 1.4038680358288653, -1.4687680602290076, -1.9502454923640153, 1.0523631294062181, 1.0521218992896313, 1.0520886290191573, 1.0520866117238872, -1.4687680602024307, -2.199803954492617, 1.0521562717942383, 2.131261975367846, 1.0520972101320765, -0.838714539016953, -0.8497328500208661, 1.40382952962786, 1.0564065071855266, 1.4038564363339834, 1.0526977356521916, -0.7100162008815052, -1.192997472695955, -1.1932690047681431, 1.0520866125352488, 1.052088628450325, 1.052130822925085, -2.0627321962318588, -1.193404041754152, 1.0521333422566035, 2.150421713311523, 1.0520866124309354, -1.4687680580418336, 1.4048580846539265, -0.16204964635277003, 1.4039090210748832, -1.6145859904676636, -1.4687654459699457, 1.4038714061796194, 1.4038295301769528, 1.4038336888270413, 1.4038298970381033, -1.1913975441045748, -1.193312321234285, 1.0521288823292128, 1.33569870656542, 1.0523049932337383, -1.1934040417657426, -1.4687553691201634, 1.4039010949979525, -1.1934040423220793, -1.193133846219918, 2.575998448212332, 2.2525334770770784, -0.8469469441474899, -1.3995181184733725, 1.0522111243053849, -0.8415896948808135, 1.4038295301957873, -0.8497623921890148, 1.0528443777263004, 1.052337696553225, -1.950241799547029, 1.0520869448000638, -0.8494435211984921, 1.0523646333253314, -0.49801947445895806, -1.950232534516595, -1.9502454922527483, 1.0535336506001352, -1.4687680603080184, 2.0787985118756853, 2.13471772541373, -1.1251214994945105, 1.0521051267762718, -1.1933828535603794, 1.060504260344346, 2.1194804143905075, 1.0520866117007437, 0.7767225938435729, 1.0520877437374467, 1.4038522847660297, 1.0520857074254357, 0.7767225938435729, -2.327254428160187, 0.7767814254180563, 2.0963514380946124, 1.4038564556734006, -2.1839576753468455, 0.7767515588778447, 1.052146069400675, 1.052224670070617, -0.8495798087341739, 2.023879868986496, -1.1251264104660914, -1.9502034204890437, -0.8415825153246296, -1.6066038424077298, -2.062707491837541, 0.7767515659789906, 1.4038678680846652, -1.0954372676029813, 1.052086421433578, 1.0524700375157232, 2.105389528760452, -0.8416544241790503, -1.4486908046396838, 1.0522141215366725, 2.2399232400548086, -0.8416517595509144, -1.751948722922419, 1.4435230805189665, -0.17493042607236023, -1.1933876119264868, -1.1934040417912415, 1.4038295300335222, 0.7767225681477696, -0.8496884897829662, 2.150421655939297, 0.7768049576744749, 1.0520863692770084, 2.141016224982298, 1.052087772804536, -0.8416611266434908, 2.111670865111894, 2.1178904535816163, -1.4687490625886823, 1.4038295297205827, -0.782259823701951, -0.8416531328042002, -0.506338990493449, -1.5490732861310113, 1.0520986097133678, 0.7767475241632008, -1.4687680601919997, -1.4687680604342381, -1.4685223847054865, -1.5491098029564272, -0.8416589439486285, 1.4038295301793144, -0.8416307065817242, -1.7823738478137183, -2.0627321966375205, -1.4687235336173385, -1.7825262143877012, -1.1934040426079746, -1.193404045799184, 1.052087738205174, -1.4950178828388199, -1.191919485018501, -1.1933957778941209, -1.1932214584847567, -1.6065947154603097, 0.7767251097980145, -1.123926838436479, 1.1888281663127669, -1.468739643563603, -1.1251264115992923, -1.193325229309242, 2.239937522695882, -0.8416600372923477, 1.4038409303733863, -1.4687668594841248, -1.1933993277110917, 1.7414786466328964, 1.052299951534412, -1.4687681760943279, 1.4038461575247259, -0.3846663865672977, 1.0521069142530997, -2.1236175676863294, -1.5489746294458575, 1.0520866116601775, -1.4682848159567965, 2.150421713775137, 2.1650546190973072, 1.4038295070266797, -1.5488382695149483, -1.6065992775552336, 0.4935419302681065, -2.0917756867815838, -1.5490772721343464, -2.1573875512361553, 2.0239085533671464, 1.403829529048342, 1.9198348753399601, -0.08336943287239026, -1.468734569420403, -1.1934040533329102, 1.0524449062764636, 1.9198246258724285, 0.7782270840256408, -1.7819157742284495, -1.468761024661277, -1.5490185111536692, -2.1593634057087923, -1.1933728392427534, -1.1934040440606313, -1.1933995696827178, 0.7768346341694157, -1.5490732861310113, -1.4687569789578054, -0.8416384537486122, -1.1933670796925342, -1.0448981896523049, -1.193383810394758, -1.1933841212574796, -1.4687665727864976, 2.2399250259655594, -1.1933887467210118, -0.7880252373888824, -1.193397700767479, -1.1933979876669838, -1.4082878692976564, -1.1186995972223126, 1.0520882449950317, 2.2399403245634124, -1.4687680630884274, 2.096329772194236, -1.9502454973293213, -1.5491098039416062, -1.1933602905030265, -0.8416565122272618, -1.4687577276700785, -1.468768061349875, 0.7767225930596019, -1.1933824573412397, 0.7777018807795228, -1.1934034793099464, 1.0520866124425259, 2.1340811632838377, -0.849757056391785, -0.4034078020769995, 1.4438089707883615, 1.0520923006110416, -1.606577322416053, 0.7767780618967183, 1.9198372637801988, -1.1915782091645117, 1.0522689100201248, 2.096360208178879, 2.023860701167884, 0.7767225917920813, -0.8496965700422893, 2.104141133551408, -1.4687440282212167, -2.0917593762007067, -1.4685660676172743, 1.0522035957156992, -0.8497623932900978, -1.5489068873411875, -1.4687287667695874, 0.4629829230410675, -1.5483768744946245, -1.4685459238306349, -1.1933942391515835, -1.193401945413367, -1.1934031404108263, 1.0520866124309354, -0.4978367628729281, -1.4687367083867666, 1.0521236332600237, 1.0520866126627424, -0.8492235438025321, 1.4062355028198028, -1.5490890063526102, -1.193365045184855, -1.4687680844552358, -1.9884962047918497, -0.49800059186542583, 1.052111577349225, -1.4949057581698508, 2.1341871849535554, -2.040064817612189, 2.0519711886626175, 2.1400350551547693, 2.2432270221188717, -1.7825185980246598, 0.7767867513596068, -1.7824112931725111, -1.5051364959321092, 1.0521197208392532, -1.9502066602396237, 1.052096047356904, -1.4687680602824693, 0.7767701428297562, 0.7767273829881042, -1.1768899868437126, 2.2399490968881555, -1.9502054752731077, 2.056816506593651, 1.3497974935026442, 1.4479006476559435, -1.4597369914525256, 0.7769462029067957, -1.5050624991412536, 1.4038623871063942, -1.4687451107863305, 1.0520866009680807, -0.8497283159210912, -1.1481096854632735, 1.0520873769008228, -1.5491025001198633, 1.052086601083984, 1.0521043305110214, 1.0521184795273104, 1.052146219358827, 1.052148172637674, -1.1933683660590164, -1.1933963732457342, 2.2399395744325665, -1.6202843106227907, -1.2850579867247665, -1.468754800489362, 1.9293398668429473, -0.7096886165598353, 0.7816575666244251, -1.1934019591207208, 1.535476179330297, -0.5661999123906349, 1.9198560347031055, -1.1049248863174643, -0.8414930549521759, -1.7815027270244184, -1.9611745645662884, 2.1410678673965045, -1.1934001169906607, -1.751892650501038, 1.0522691776764233, -1.4650735162934072, -1.1933741664566089, -0.7734985046121391, -1.4687680602335718, -1.408307073807097, -0.48158698127474286, 0.7770425070237983, 1.5354802129436078, 1.0520866091972285, 2.0238839943333145, 1.0520866114561875, 1.5354792217505566, -0.5972342470511249, -1.4686983171782317, -0.0830409888802224, -1.730674139117961, -1.9499103900185901, 1.7405323736689906, -1.1932014175097172, 2.2751278562728974, 2.2399314564224917, 2.024811657755707, -1.4388603774886046, -1.4082761145851614, 0.7768692327295416, 1.4038295299639798, 2.134866779742873, -1.18443698713501, -1.193388670964485, 1.0593245684551997, -1.4686855796949667, -0.8416621673409086, 1.2049724702584699, 0.7767303155655074, -1.1934040417958776, 1.5354829011534112, -1.4082572293671363, 1.5360159517846423, 1.0521696568929488, -1.192324936736049, -1.19339946898735, -1.125118363728292, 0.7767380736568442, 1.4038663499471464, 1.089712241522602, -1.1934040649232596, -2.262425026830229, -1.495051010760363, 0.12201465603136703, -0.4544556084713521, 2.336936708154556, 1.4720009472064532, -1.1929752517466745, 2.2401677761895002, 1.9198246258724285, 0.7403417357421069, 1.0703449384548325, 2.1412017723309837, 1.3367807305551447, -1.6061833616861607, -3.0514171288672514, -3.1529795894651436, 1.052109336849828, 1.0785447335057814, 1.0520863692770084, 1.535468572870537, 1.9198246258724285, 0.7771083849919326, -1.1557796274872385, -2.989304772415327, -1.4687641023661304, -1.6005857449213534, -0.849715706569814, -1.4879983210380792, 2.0243127328563806, 0.7767225939710667, 2.240069385829474, 1.5354685720765986, 1.0520940440040523, 2.181647655701938, -1.7825010403078057, 1.9198246251411242, -1.1934024977744624, -1.1934018833724394, 1.9199549092860657, 1.919824625857361, -0.8492743538836314, 2.165090716861554, -0.3256660307350422, -1.4091153957076208, -1.5490698605639923, -1.193386001832636, -1.1934040429015969, 0.13875459011641947, -1.1934040475377363, 0.7767806575794738, -1.751693582279098, -1.549089582021701, 2.239952484353081, -0.7449913560948068, -1.1908403282710847, 0.4630029093142288, 2.096335654041532, -1.1501779886247507, 2.1726388459580757, -0.849691719690986, 2.165053556798616, 2.2399233872330613, 2.2511931117409127, 2.315318466204301, -1.1747805494464518, -0.8497484613109211, 2.045769920662563, -2.1593026379914684, 2.240945858348265, -1.193364605687768, -1.7190352532894815, -0.16676591373132924, -1.4083021209950237, -0.4979139217419616, -0.894606597125675, 1.1568644447479182, 2.240714256024411, 0.7767317104786386, -1.0885736310686522, -1.4082941418366355, -1.7519379146822334, -0.8497606850847073, -2.1484365475708254, -0.9098610394488669, -1.408186470009593, 1.0520891990241228, -1.193394186831637, 2.134089563894736, 2.1481080008200086, -1.1934040429015969, 0.6449310664031177, 2.4329244701655046, -1.1250912279553746, -1.468711877489439, -0.849565634975668, -1.5490927753277106, 1.3356052702654926, -0.8497624017278717, 1.4076637786212824, -0.8497623928033031, -0.8016731552555566, -1.1251181868304436, 0.7767317521540501, -1.7519487255859916, -1.1914689393923088, -1.9402750336995096, 1.1568674161156456, -2.9376091830236377, -0.7100220841020296, 1.9275571916712722, -1.256932467842209, 0.49354193138889313, 2.1716045562475825, 2.1650656949809273, 2.0238607062819187, 1.4038623814919229, -1.1512747537058203, 2.02386070528128, 2.243332097871061, -1.7079903354698303, 1.4719921497920065, -1.75188424876587, 2.1206753861982204, 1.7269214592103896, 1.7269475120842042, 1.4038295299639825, 0.018000225162473137, 2.086229969176603, 1.0521510356785768, -1.193377060483575, 1.9198897829201587, -1.751915373844764, 1.9198705471765338, -1.4083035406290128, -1.1371219658603455, 1.1267594662672782, -1.1251251039859678, -1.1933665279574452, 2.2644578393387067, -1.6002232855018566, -2.157726766716723, -1.4687399101134788, 1.403829528990391, 1.403925009862245, 0.2952472990506269, 1.403984018595404, -1.4687246493400508, -0.08174115898962687, -1.1251264107300163, -1.1654345467615395, 0.7767225940122126, 1.0521869288318035, 1.5424518056993604, -1.1933975857759314, 1.7269611434596808, -1.193366472830451, -0.49801145512322653, -1.46797135226538, 2.23992324005535, 1.0535111442407017, -1.1916134986724274, -0.8089059840549833, -1.4678656653433348, 1.4038715002710025, -1.1932944912663133, 2.2399232400548086, 1.106101787540121, -0.8416611244992763, -1.192665827499639, 1.4453245266403738, -1.4684004027186761, -1.1932148461986993, -1.5491028258876316, 1.0520958377961431, 1.0522138435214803, -0.9131874095279188, -0.8415247785687984, -0.08334786995523086, -0.8315036195705346, -1.1929439223298812, 1.0520866023589228, -0.7100200362302036, -1.1934040452196666, -3.2482142163600627, 1.739658901737574, -1.950245235076815, 2.091102742489976, 2.0239054173264144, 2.0238606948499664, -0.4961936418808842, -2.8357309358047007, -1.5490928533200736, 3.4571169632425933, -1.7992076750675066, 0.3167050171548085, -1.1933767828765998, 2.2417129577483585, 1.9198379482128725, -0.8497621576984712], \"z\": [-0.17244324574203496, -0.15787372561031912, 0.4160761530887279, -0.24818028956839794, -0.321037682688551, -0.13935642610865717, -0.3418733682732275, -0.3442028741258849, 0.33144042493847137, -0.13474114671860685, -0.09894517001772936, -0.13948112615509475, 0.027523637239299552, -0.32182845404643695, -0.004795774867752914, -0.28879202957922157, -0.24842781995994517, 0.13812036838170774, 0.01179939133144192, -0.04612226929353781, -0.32173956818593563, -0.17219284499131257, -0.24842782000307617, -0.2689224351082337, -0.3219086438581819, -0.2460777140651227, -0.32012774159926927, -0.3218065072629949, -0.07142997449418238, -0.34410683725906605, -0.3214463344968104, -0.28894598012381945, -0.1724426584042748, -0.32190810030185485, -0.17244324638924755, -0.3218084103584225, -0.17242889866512384, -0.32184315121558366, -0.14276823853672688, -0.046122269412143084, -0.28887698396765504, 0.9883067927999845, -0.19528050103132596, -0.07228527672335096, -0.13948112615852803, -0.3219081002656246, 0.01079318281304049, -0.14877500257666082, -0.3216193777480135, -0.32190810036913325, -0.3188860153755379, -0.3216388973976932, -0.321908242140465, -0.013160149243443341, -0.09435389394869333, -0.24842781996136734, -0.32189232194394496, -0.3344001773558526, -0.30970048840285086, -0.32100132079306587, -0.3213328963747925, -0.1394811261631814, -0.17121068857363653, -0.2922330923753502, 0.9289974331516125, -0.13923741025415157, -0.24813662768329625, -0.13948112615792185, 0.01179939130930914, -0.31981697918699603, -0.3216412511151052, -0.32189285197315576, -0.3219081003790691, -0.1394811261546686, 0.008572885477876975, -0.3213813145601103, -0.37260467649723245, -0.32182795841026246, -0.07667984195488424, -0.04589886308557845, -0.2484278200286141, -0.2892385356109829, -0.2482243463633467, -0.31728658539589255, -0.1877720636762213, -0.16936861931633657, -0.17142204985629358, -0.3219081002797502, -0.3218928545803917, -0.32157374821219264, -0.005148454286650321, -0.17244324632336863, -0.32155471345323705, -0.3681096595839491, -0.32190810029251904, -0.1394811099017615, -0.2406495220631325, -0.015339060857869354, -0.24782668335064775, 0.12098364169906627, -0.13946135580885752, -0.24811113832127196, -0.24842781996139945, -0.24839636439429602, -0.24842504585781877, -0.15726940241819584, -0.1717496211231996, -0.32158844312460305, -0.32090020454205515, -0.32025662146151207, -0.17244324632478736, -0.13938515219224232, -0.24788662277265483, -0.17244324639288874, -0.17039986468541785, 2.334277929715863, -0.1118712437915916, 1.4102071021378824, 0.15660955853879854, -0.32096649882383177, -0.09842279124977382, -0.24842781995909416, -0.04612226929438469, -0.3161775205077642, -0.32000931819615885, 0.011827316614059533, -0.32190558840685457, -0.043710834504147034, -0.31980561521335266, 0.02735801103478129, 0.011897381237398912, 0.011799391322929136, -0.3109651015926149, -0.13948112616759362, -0.36716188818247053, -0.35792146916319517, -0.01312300940817417, -0.3217680910663741, -0.17228301353618633, -0.2582505916740488, -0.3909511983988225, -0.32190810038190215, -0.28894598014084455, -0.32189954678828253, -0.24825574170122142, -0.3219070127845722, -0.28894598014084455, 0.1843235378228481, -0.28850107903855543, -0.4009509492254241, -0.2482241972882506, -0.12150235516526627, -0.28872693934665383, -0.3214584534550909, -0.3208640494006201, -0.04474151411150743, -0.34329367399992705, -0.013160149104727905, 0.012117553245150079, -0.09836841703646783, 0.13812036838617353, -0.004961630447594107, -0.2887268860769242, -0.248137896212656, 0.07325842954489284, -0.3219081236725519, -0.3190085144293331, -0.40493117587958727, -0.09891229658344725, 0.012351081204914068, -0.32094383472939486, -0.2072343041533993, -0.09889214689912201, 0.07445103045564475, 0.05174796412582614, -0.038172596890780466, -0.172318995757245, -0.1724432463279084, -0.2484278199789569, -0.28894598328627413, -0.04556338068093421, -0.3681096666068969, -0.28832311702343827, -0.3219081300570503, -0.36377870757445796, -0.3218993125110465, -0.09896296631484358, -0.39618488721667855, -0.3372847634087932, -0.13933742776880856, -0.24842782001726388, 0.4643598916975969, -0.09890252928731455, 0.46565625781861086, 0.16058005509474532, -0.321817373516085, -0.28875745066163916, -0.13948112615339178, -0.13948112618304437, -0.13762325177744583, 0.1603039040417122, -0.09894645905808962, -0.24842781996111044, -0.09873289399137294, -0.09320164821267375, -0.005148454336307397, -0.13914439155170705, -0.09435389397050871, -0.1724432464278854, -0.17244324681852177, -0.32189958862516377, 0.13275051874329774, -0.16121643359555832, -0.1723807489262949, -0.17106249116319183, 0.13818940587291553, -0.28892695446747874, -0.004088587708526031, -0.23442953023049773, -0.13926622722275728, -0.013160149243443341, -0.17184723652034373, -0.20712629548693423, -0.09895474462921565, -0.2483416078197253, -0.13947204580880687, -0.17240759566410827, -0.2784255410119373, -0.3202947538673303, -0.13948114034102385, -0.24830207853649994, -0.1346796823125585, -0.3217545713618999, 0.2043712063064096, 0.16132612966958787, -0.32190810038686785, -0.13582656643895513, -0.3681096595271978, -0.3471421802347966, -0.2484278227952301, 0.16235731932609937, 0.1381548889827441, -0.07501382363525068, -0.11173644530607584, 0.16054993603444404, -0.0510080933415334, -0.34307675375161906, -0.24842782009955292, -0.3442273066772329, 6.89696087729436, -0.13922785683303018, -0.17244324774072728, -0.31919771981087625, -0.34430481606641156, -0.2775685571261755, 1.2847566766874807, -0.13942792114499175, 0.16099428164237287, -0.06595011057530528, -0.17220728081877204, -0.17244324660570517, -0.17240942371153298, -0.28809868250928355, 0.16058005509474532, -0.13939732154287424, -0.09879152381776449, -0.1721637259392882, -0.14178553160497326, -0.1722902487001069, -0.17229254584002257, -0.13946987754732862, -0.20722079836808652, -0.17232756860072568, 0.4207544602298434, -0.17239529294353126, -0.17239746339427858, 0.20091723221929775, -0.12541975135769062, -0.32189575595519165, -0.20710510567415166, -0.13948112650794456, -0.4011147977381916, 0.011799390701504632, 0.16030390392111604, -0.1721123438871314, -0.09892808708424938, -0.13940298788531513, -0.1394811262951278, -0.2889459802368108, -0.1722800172143386, -0.28153171352154643, -0.17243899115519026, -0.3219081002911004, -0.3586160867011163, -0.046081915201069676, -0.13445475520607503, -0.33058844419024985, -0.3218650861775285, 0.1383209210277881, -0.2885264315586257, -0.34420924495762323, -0.15863569473437006, -0.32052950725194607, -0.40088463121554135, -0.34343858872864164, -0.2889459803919683, -0.04562450199347271, -0.35666466846071604, -0.13929938093941607, -0.09678490305738091, -0.13795359136495602, -0.32102309630234627, -0.04612226942916839, 0.1618384178652675, -0.13918396950070883, -0.24367897133644825, 0.16584655076767646, -0.13780122469002354, -0.17236911451125236, -0.17242739081802824, -0.17243634396422394, -0.32190810029251904, 0.028746195330130342, -0.13924403144284384, -0.32162813699939263, -0.32190810026414357, -0.042047173511972714, -0.23023295504937458, 0.1604611751693248, -0.17214833420484102, -0.13948112912346028, 0.5562529918613281, 0.027500823831907637, -0.3217193040807825, 0.13359844312092617, -0.3578143275727802, 0.5421900247482507, -0.43301590815778557, -0.3489639989768425, -0.18224999347454846, -0.0942962973839213, -0.2884607969760011, -0.09348481808116872, -0.16240446357721422, -0.32165772523893726, 0.012093051605025558, -0.3218367460418957, -0.13948112616446637, -0.28858639885265297, -0.28890976448336525, -0.047554953823162355, -0.2070387643582534, 0.012102011701599056, -0.32445174533195037, 1.9294835176697362, -0.29964559850535627, 0.14026026640331965, -0.2872548927856264, -0.16184487879461049, -0.24817934492953925, -0.13930757540802305, -0.32190810169569, -0.04586457482754092, 7.050552344544671, -0.321901415541863, 0.1603591341876226, -0.3219081016815021, -0.32177411121680943, -0.321667106811843, -0.32145732893496537, -0.32144255768466723, -0.1721734524933763, -0.1723852546052818, -0.207110772867814, 0.2939312456467383, 0.7769159541132805, -0.13938085019039972, -0.2723460479754469, -0.18529474367937573, -0.2516261597316059, -0.17242749558644185, -0.33722386466182847, -0.045489576096447146, -0.34406729355384097, 0.49666345277731244, -0.0976919698585005, -0.0866138892767767, -0.0276230087522869, -0.3633881620557881, -0.17241356442073705, 0.07487508156237743, -0.32052748315887575, 0.17694805076239908, -0.17221731963563502, -0.11479651752867187, -0.13948112615848074, 0.20077200742956644, 0.1516259751849242, -0.28652667832990036, -0.337193359778357, -0.32190810068835823, -0.34326245426697827, -0.3219081004118383, -0.3372008566004271, 4.366339754403242, -0.1389536972346124, 6.899444696533391, 0.2977688353213214, 0.01433354681914738, -0.28558157291950986, -0.17091092612342934, 0.059000346502596855, -0.2071721701564336, -0.33624636140809017, 0.03214999418913371, 0.20100612513024763, -0.2878370105889305, -0.24842781998746952, -0.35267496131721343, -0.10462751695020513, -0.17232699519093717, -0.26717218848495583, -0.1388573808683739, -0.09896309370686619, 0.33911506661063356, -0.2888875874211926, -0.17244324632847616, -0.337173032840634, 0.20114894914437806, -0.3331419110237801, -0.32128009073887615, -0.16428266967787664, -0.17240866550128203, -0.013099295765757715, -0.28882891825159285, -0.24814937687236013, -0.3232304636806928, -0.17244324915950454, -0.30330236382289155, 0.1324999952435964, -0.06763041601666463, -0.2269897260365703, 0.5264953685585718, -0.2641948420149046, -0.16920059438797394, -0.20538502495587344, -0.34430481606641156, -0.3119632689892206, -0.1838325843869298, -0.3623755397041771, -0.31271754371379773, 0.1413002318708618, 0.5023187406422729, 0.2702045006463695, -0.32173625013396506, -0.12182267664429237, -0.3219081300570503, -0.3372813864863277, -0.34430481606641156, -0.2860284774597002, -0.1737747951528464, 0.1572203954038814, -0.13945119380112742, -0.2592266484431251, -0.045769210134461794, 0.09395860849067014, -0.34001967523546334, -0.28894598012523814, -0.20612902359067378, -0.33728138658351364, -0.3218519006225206, -0.32326702262423257, -0.09416351748512998, -0.3443048161559309, -0.17243157013727234, -0.1724269236819308, -0.3433195716049602, -0.34430481606825625, -0.04243154314549324, -0.3468691746488149, -0.19483996239378573, 0.18758993834903834, 0.16060596607071267, -0.17230682080428528, -0.17244324646382755, 7.548372144572433, -0.17244324703133848, -0.28850687987488655, 0.07638049208638838, 0.1604568261074396, -0.20701315045465743, -0.03514715071768478, -0.15305527407156072, -0.2435278318031902, -0.4010703161318653, -0.5055164731951776, -0.3671197089766083, -0.0455878229837374, -0.3471502145796115, -0.20723314100177623, 0.26029139123717454, 0.36294170882452403, -0.031606220128638854, -0.04601691770304044, -0.41282522882769473, -0.0654911628021571, -0.19950088907006197, -0.17214501241369257, 0.121590673285385, 1.7383977009861498, 0.20080951158608762, 0.028156239353204823, 2.7301503520408845, -0.31088158906754976, -0.2943861818163181, -0.2888770385878031, -0.16101911557943968, 0.20086979801254878, 0.07453276414572642, -0.04610790557705995, -0.05394926208776098, -0.1719578436317801, 0.20168404981068813, -0.3218885396437111, -0.17236863445132897, -0.3585524239406474, -0.33867615840347426, -0.17244324646382755, -0.40849368347323445, 1.634611515513162, -0.01289408439969533, -0.13905625227120852, -0.044634314320704166, 0.16043268862897472, -0.32160678857529434, -0.04612227046203849, -0.21943196162375836, -0.04612226936957976, -0.1810590746230096, -0.013097951201676348, -0.28887672308156104, 0.07445103012959603, -0.15780789971004075, 0.5778686702384224, -0.31085911202005423, 0.2933768121007806, -0.18781653285839284, -0.2858283002400135, -0.1328177430874875, -0.07501382349805484, -0.2929617942568747, -0.3470584158540234, -0.34343858810263156, -0.24817938738776432, -0.4976294091281389, -0.3434385882251197, -0.18145485646230322, 0.14763569456857814, -0.26426137147100753, 0.07493860528410334, -0.3851816392866301, -0.3139366358124625, -0.31373962345839596, -0.248427819987469, -0.06833291571342043, -0.37106534616043896, -0.32142090483028474, -0.17223920455518135, -0.34381205908540663, 0.07470322556825938, -0.3439575452488797, 0.20079872101293822, 0.25318427233749535, -0.27512350305247135, -0.013150267623830363, -0.17215954916382625, -0.30335919933692074, -0.25648558926113785, -0.05357355339775071, -0.13926821104336987, -0.24842782010664677, -0.24770577012733283, -0.13764930372807327, -0.24725952033274773, -0.13915283836340747, 6.909274423049058, -0.01316014913703503, 0.03907304939034612, -0.28894598012020134, -0.32114102170728087, -0.2844718510809373, -0.17239440721958865, -0.31363593767960973, -0.17215913484265, 0.0274186573435457, -0.13345615106297265, -0.207234304153333, -0.31113530108512544, -0.15890174484016617, 0.1487407381964499, -0.13265687337794088, -0.24811042677546358, -0.17161479316284994, -0.2072343041533993, 0.08657432951413714, -0.09896296605236966, -0.16686062572202331, -0.3437789131691433, -0.1367007778238112, -0.17101248200115937, 0.16035666610335114, -0.32183833683613816, -0.3209459287087533, -0.0801596325395675, -0.09793187244078434, 6.897123945219046, 0.09195662499330885, -0.16896366656209724, -0.32190810152543653, -0.18780106281088194, -0.17244324674758296, -0.5650134816104555, -0.29218707281564915, 0.011801335136076094, -0.3537957354765998, -0.34310046953186507, -0.3434385895020196, 0.041165562622363754, 0.26197406160105463, 0.16043208146461171, 32.24695208890699, 0.29866591806904846, 4.220540861083331, -0.17223708546542318, -0.19369983067534008, -0.34420406873811765, -0.04612049738988025]}],                        {\"coloraxis\": {\"colorbar\": {\"title\": {\"text\": \"Class\"}}, \"colorscale\": [[0.0, \"#0d0887\"], [0.1111111111111111, \"#46039f\"], [0.2222222222222222, \"#7201a8\"], [0.3333333333333333, \"#9c179e\"], [0.4444444444444444, \"#bd3786\"], [0.5555555555555556, \"#d8576b\"], [0.6666666666666666, \"#ed7953\"], [0.7777777777777778, \"#fb9f3a\"], [0.8888888888888888, \"#fdca26\"], [1.0, \"#f0f921\"]]}, \"legend\": {\"tracegroupgap\": 0, \"x\": 0, \"y\": 1}, \"margin\": {\"t\": 60}, \"scene\": {\"domain\": {\"x\": [0.0, 1.0], \"y\": [0.0, 1.0]}, \"xaxis\": {\"title\": {\"text\": \"PC 1\"}}, \"yaxis\": {\"title\": {\"text\": \"PC 2\"}}, \"zaxis\": {\"title\": {\"text\": \"PC 1\"}}}, \"template\": {\"data\": {\"bar\": [{\"error_x\": {\"color\": \"#2a3f5f\"}, \"error_y\": {\"color\": \"#2a3f5f\"}, \"marker\": {\"line\": {\"color\": \"#E5ECF6\", \"width\": 0.5}}, \"type\": \"bar\"}], \"barpolar\": [{\"marker\": {\"line\": {\"color\": \"#E5ECF6\", \"width\": 0.5}}, \"type\": \"barpolar\"}], \"carpet\": [{\"aaxis\": {\"endlinecolor\": \"#2a3f5f\", \"gridcolor\": \"white\", \"linecolor\": \"white\", \"minorgridcolor\": \"white\", \"startlinecolor\": \"#2a3f5f\"}, \"baxis\": {\"endlinecolor\": \"#2a3f5f\", \"gridcolor\": \"white\", \"linecolor\": \"white\", \"minorgridcolor\": \"white\", \"startlinecolor\": \"#2a3f5f\"}, \"type\": \"carpet\"}], \"choropleth\": [{\"colorbar\": {\"outlinewidth\": 0, \"ticks\": \"\"}, \"type\": \"choropleth\"}], \"contour\": [{\"colorbar\": {\"outlinewidth\": 0, \"ticks\": \"\"}, \"colorscale\": [[0.0, \"#0d0887\"], [0.1111111111111111, \"#46039f\"], [0.2222222222222222, \"#7201a8\"], [0.3333333333333333, \"#9c179e\"], [0.4444444444444444, \"#bd3786\"], [0.5555555555555556, \"#d8576b\"], [0.6666666666666666, \"#ed7953\"], [0.7777777777777778, \"#fb9f3a\"], [0.8888888888888888, \"#fdca26\"], [1.0, \"#f0f921\"]], \"type\": \"contour\"}], \"contourcarpet\": [{\"colorbar\": {\"outlinewidth\": 0, \"ticks\": \"\"}, \"type\": \"contourcarpet\"}], \"heatmap\": [{\"colorbar\": {\"outlinewidth\": 0, \"ticks\": \"\"}, \"colorscale\": [[0.0, \"#0d0887\"], [0.1111111111111111, \"#46039f\"], [0.2222222222222222, \"#7201a8\"], [0.3333333333333333, \"#9c179e\"], [0.4444444444444444, \"#bd3786\"], [0.5555555555555556, \"#d8576b\"], [0.6666666666666666, \"#ed7953\"], [0.7777777777777778, \"#fb9f3a\"], [0.8888888888888888, \"#fdca26\"], [1.0, \"#f0f921\"]], \"type\": \"heatmap\"}], \"heatmapgl\": [{\"colorbar\": {\"outlinewidth\": 0, \"ticks\": \"\"}, \"colorscale\": [[0.0, \"#0d0887\"], [0.1111111111111111, \"#46039f\"], [0.2222222222222222, \"#7201a8\"], [0.3333333333333333, \"#9c179e\"], [0.4444444444444444, \"#bd3786\"], [0.5555555555555556, \"#d8576b\"], [0.6666666666666666, \"#ed7953\"], [0.7777777777777778, \"#fb9f3a\"], [0.8888888888888888, \"#fdca26\"], [1.0, \"#f0f921\"]], \"type\": \"heatmapgl\"}], \"histogram\": [{\"marker\": {\"colorbar\": {\"outlinewidth\": 0, \"ticks\": \"\"}}, \"type\": \"histogram\"}], \"histogram2d\": [{\"colorbar\": {\"outlinewidth\": 0, \"ticks\": \"\"}, \"colorscale\": [[0.0, \"#0d0887\"], [0.1111111111111111, \"#46039f\"], [0.2222222222222222, \"#7201a8\"], [0.3333333333333333, \"#9c179e\"], [0.4444444444444444, \"#bd3786\"], [0.5555555555555556, \"#d8576b\"], [0.6666666666666666, \"#ed7953\"], [0.7777777777777778, \"#fb9f3a\"], [0.8888888888888888, \"#fdca26\"], [1.0, \"#f0f921\"]], \"type\": \"histogram2d\"}], \"histogram2dcontour\": [{\"colorbar\": {\"outlinewidth\": 0, \"ticks\": \"\"}, \"colorscale\": [[0.0, \"#0d0887\"], [0.1111111111111111, \"#46039f\"], [0.2222222222222222, \"#7201a8\"], [0.3333333333333333, \"#9c179e\"], [0.4444444444444444, \"#bd3786\"], [0.5555555555555556, \"#d8576b\"], [0.6666666666666666, \"#ed7953\"], [0.7777777777777778, \"#fb9f3a\"], [0.8888888888888888, \"#fdca26\"], [1.0, \"#f0f921\"]], \"type\": \"histogram2dcontour\"}], \"mesh3d\": [{\"colorbar\": {\"outlinewidth\": 0, \"ticks\": \"\"}, \"type\": \"mesh3d\"}], \"parcoords\": [{\"line\": {\"colorbar\": {\"outlinewidth\": 0, \"ticks\": \"\"}}, \"type\": \"parcoords\"}], \"pie\": [{\"automargin\": true, \"type\": \"pie\"}], \"scatter\": [{\"marker\": {\"colorbar\": {\"outlinewidth\": 0, \"ticks\": \"\"}}, \"type\": \"scatter\"}], \"scatter3d\": [{\"line\": {\"colorbar\": {\"outlinewidth\": 0, \"ticks\": \"\"}}, \"marker\": {\"colorbar\": {\"outlinewidth\": 0, \"ticks\": \"\"}}, \"type\": \"scatter3d\"}], \"scattercarpet\": [{\"marker\": {\"colorbar\": {\"outlinewidth\": 0, \"ticks\": \"\"}}, \"type\": \"scattercarpet\"}], \"scattergeo\": [{\"marker\": {\"colorbar\": {\"outlinewidth\": 0, \"ticks\": \"\"}}, \"type\": \"scattergeo\"}], \"scattergl\": [{\"marker\": {\"colorbar\": {\"outlinewidth\": 0, \"ticks\": \"\"}}, \"type\": \"scattergl\"}], \"scattermapbox\": [{\"marker\": {\"colorbar\": {\"outlinewidth\": 0, \"ticks\": \"\"}}, \"type\": \"scattermapbox\"}], \"scatterpolar\": [{\"marker\": {\"colorbar\": {\"outlinewidth\": 0, \"ticks\": \"\"}}, \"type\": \"scatterpolar\"}], \"scatterpolargl\": [{\"marker\": {\"colorbar\": {\"outlinewidth\": 0, \"ticks\": \"\"}}, \"type\": \"scatterpolargl\"}], \"scatterternary\": [{\"marker\": {\"colorbar\": {\"outlinewidth\": 0, \"ticks\": \"\"}}, \"type\": \"scatterternary\"}], \"surface\": [{\"colorbar\": {\"outlinewidth\": 0, \"ticks\": \"\"}, \"colorscale\": [[0.0, \"#0d0887\"], [0.1111111111111111, \"#46039f\"], [0.2222222222222222, \"#7201a8\"], [0.3333333333333333, \"#9c179e\"], [0.4444444444444444, \"#bd3786\"], [0.5555555555555556, \"#d8576b\"], [0.6666666666666666, \"#ed7953\"], [0.7777777777777778, \"#fb9f3a\"], [0.8888888888888888, \"#fdca26\"], [1.0, \"#f0f921\"]], \"type\": \"surface\"}], \"table\": [{\"cells\": {\"fill\": {\"color\": \"#EBF0F8\"}, \"line\": {\"color\": \"white\"}}, \"header\": {\"fill\": {\"color\": \"#C8D4E3\"}, \"line\": {\"color\": \"white\"}}, \"type\": \"table\"}]}, \"layout\": {\"annotationdefaults\": {\"arrowcolor\": \"#2a3f5f\", \"arrowhead\": 0, \"arrowwidth\": 1}, \"autotypenumbers\": \"strict\", \"coloraxis\": {\"colorbar\": {\"outlinewidth\": 0, \"ticks\": \"\"}}, \"colorscale\": {\"diverging\": [[0, \"#8e0152\"], [0.1, \"#c51b7d\"], [0.2, \"#de77ae\"], [0.3, \"#f1b6da\"], [0.4, \"#fde0ef\"], [0.5, \"#f7f7f7\"], [0.6, \"#e6f5d0\"], [0.7, \"#b8e186\"], [0.8, \"#7fbc41\"], [0.9, \"#4d9221\"], [1, \"#276419\"]], \"sequential\": [[0.0, \"#0d0887\"], [0.1111111111111111, \"#46039f\"], [0.2222222222222222, \"#7201a8\"], [0.3333333333333333, \"#9c179e\"], [0.4444444444444444, \"#bd3786\"], [0.5555555555555556, \"#d8576b\"], [0.6666666666666666, \"#ed7953\"], [0.7777777777777778, \"#fb9f3a\"], [0.8888888888888888, \"#fdca26\"], [1.0, \"#f0f921\"]], \"sequentialminus\": [[0.0, \"#0d0887\"], [0.1111111111111111, \"#46039f\"], [0.2222222222222222, \"#7201a8\"], [0.3333333333333333, \"#9c179e\"], [0.4444444444444444, \"#bd3786\"], [0.5555555555555556, \"#d8576b\"], [0.6666666666666666, \"#ed7953\"], [0.7777777777777778, \"#fb9f3a\"], [0.8888888888888888, \"#fdca26\"], [1.0, \"#f0f921\"]]}, \"colorway\": [\"#636efa\", \"#EF553B\", \"#00cc96\", \"#ab63fa\", \"#FFA15A\", \"#19d3f3\", \"#FF6692\", \"#B6E880\", \"#FF97FF\", \"#FECB52\"], \"font\": {\"color\": \"#2a3f5f\"}, \"geo\": {\"bgcolor\": \"white\", \"lakecolor\": \"white\", \"landcolor\": \"#E5ECF6\", \"showlakes\": true, \"showland\": true, \"subunitcolor\": \"white\"}, \"hoverlabel\": {\"align\": \"left\"}, \"hovermode\": \"closest\", \"mapbox\": {\"style\": \"light\"}, \"paper_bgcolor\": \"white\", \"plot_bgcolor\": \"#E5ECF6\", \"polar\": {\"angularaxis\": {\"gridcolor\": \"white\", \"linecolor\": \"white\", \"ticks\": \"\"}, \"bgcolor\": \"#E5ECF6\", \"radialaxis\": {\"gridcolor\": \"white\", \"linecolor\": \"white\", \"ticks\": \"\"}}, \"scene\": {\"xaxis\": {\"backgroundcolor\": \"#E5ECF6\", \"gridcolor\": \"white\", \"gridwidth\": 2, \"linecolor\": \"white\", \"showbackground\": true, \"ticks\": \"\", \"zerolinecolor\": \"white\"}, \"yaxis\": {\"backgroundcolor\": \"#E5ECF6\", \"gridcolor\": \"white\", \"gridwidth\": 2, \"linecolor\": \"white\", \"showbackground\": true, \"ticks\": \"\", \"zerolinecolor\": \"white\"}, \"zaxis\": {\"backgroundcolor\": \"#E5ECF6\", \"gridcolor\": \"white\", \"gridwidth\": 2, \"linecolor\": \"white\", \"showbackground\": true, \"ticks\": \"\", \"zerolinecolor\": \"white\"}}, \"shapedefaults\": {\"line\": {\"color\": \"#2a3f5f\"}}, \"ternary\": {\"aaxis\": {\"gridcolor\": \"white\", \"linecolor\": \"white\", \"ticks\": \"\"}, \"baxis\": {\"gridcolor\": \"white\", \"linecolor\": \"white\", \"ticks\": \"\"}, \"bgcolor\": \"#E5ECF6\", \"caxis\": {\"gridcolor\": \"white\", \"linecolor\": \"white\", \"ticks\": \"\"}}, \"title\": {\"x\": 0.05}, \"xaxis\": {\"automargin\": true, \"gridcolor\": \"white\", \"linecolor\": \"white\", \"ticks\": \"\", \"title\": {\"standoff\": 15}, \"zerolinecolor\": \"white\", \"zerolinewidth\": 2}, \"yaxis\": {\"automargin\": true, \"gridcolor\": \"white\", \"linecolor\": \"white\", \"ticks\": \"\", \"title\": {\"standoff\": 15}, \"zerolinecolor\": \"white\", \"zerolinewidth\": 2}}}, \"width\": 800},                        {\"responsive\": true}                    ).then(function(){\n",
       "                            \n",
       "var gd = document.getElementById('4601fdcf-bf68-47f1-bd8e-1acd326a1fe8');\n",
       "var x = new MutationObserver(function (mutations, observer) {{\n",
       "        var display = window.getComputedStyle(gd).display;\n",
       "        if (!display || display === 'none') {{\n",
       "            console.log([gd, 'removed!']);\n",
       "            Plotly.purge(gd);\n",
       "            observer.disconnect();\n",
       "        }}\n",
       "}});\n",
       "\n",
       "// Listen for the removal of the full notebook cells\n",
       "var notebookContainer = gd.closest('#notebook-container');\n",
       "if (notebookContainer) {{\n",
       "    x.observe(notebookContainer, {childList: true});\n",
       "}}\n",
       "\n",
       "// Listen for the clearing of the current output cell\n",
       "var outputEl = gd.closest('.output');\n",
       "if (outputEl) {{\n",
       "    x.observe(outputEl, {childList: true});\n",
       "}}\n",
       "\n",
       "                        })                };                });            </script>        </div>"
      ]
     },
     "metadata": {},
     "output_type": "display_data"
    }
   ],
   "source": [
    "# Create a 3D-Scatter with the PCA data and the clusters\n",
    "\n",
    "# fig.update_layout(legend=dict(x=0, y=1))\n",
    "# fig.show()\n",
    "fig = px.scatter_3d(\n",
    "    clustered_df,\n",
    "    x=\"PC 1\",\n",
    "    y=\"PC 2\",\n",
    "    z=\"PC 1\",\n",
    "    color=\"Class\",\n",
    "#     symbol=\"class\",\n",
    "    hover_name=\"CoinName\",\n",
    "    hover_data=[\"Algorithm\"],\n",
    "    width=800,\n",
    ")\n",
    "fig.update_layout(legend=dict(x=0, y=1))\n",
    "fig.show()"
   ]
  },
  {
   "cell_type": "code",
   "execution_count": 110,
   "metadata": {},
   "outputs": [
    {
     "data": {
      "text/plain": [
       "CoinName            object\n",
       "Algorithm           object\n",
       "ProofType           object\n",
       "TotalCoinsMined    float64\n",
       "TotalCoinSupply    float64\n",
       "PC 1               float64\n",
       "PC 2               float64\n",
       "PC 3               float64\n",
       "Class                int32\n",
       "dtype: object"
      ]
     },
     "execution_count": 110,
     "metadata": {},
     "output_type": "execute_result"
    }
   ],
   "source": [
    "# delete\n",
    "# transform objects to strings.\n",
    "# clustered_df.dtypes"
   ]
  },
  {
   "cell_type": "code",
   "execution_count": 111,
   "metadata": {},
   "outputs": [],
   "source": [
    "# delete\n",
    "# df['column'] = df['column'].astype('str') \n",
    "# change objects columns to string\n",
    "# make a copy\n",
    "# alt_clust_df = clustered_df.copy()\n",
    "# change objects to sting (assuming all objects are strings)\n",
    "\n",
    "# sample code\n",
    "# all_btc_tokens = []\n",
    "# for index, row in bitcoin_df.iterrows():\n",
    "#     all_btc_tokens.extend(row['tokens'])"
   ]
  },
  {
   "cell_type": "code",
   "execution_count": 118,
   "metadata": {},
   "outputs": [
    {
     "data": {
      "text/html": [
       "\n",
       "<div id=\"altair-viz-ae61da8dd13b43ec8060a5f256a69bad\"></div>\n",
       "<script type=\"text/javascript\">\n",
       "  (function(spec, embedOpt){\n",
       "    let outputDiv = document.currentScript.previousElementSibling;\n",
       "    if (outputDiv.id !== \"altair-viz-ae61da8dd13b43ec8060a5f256a69bad\") {\n",
       "      outputDiv = document.getElementById(\"altair-viz-ae61da8dd13b43ec8060a5f256a69bad\");\n",
       "    }\n",
       "    const paths = {\n",
       "      \"vega\": \"https://cdn.jsdelivr.net/npm//vega@5?noext\",\n",
       "      \"vega-lib\": \"https://cdn.jsdelivr.net/npm//vega-lib?noext\",\n",
       "      \"vega-lite\": \"https://cdn.jsdelivr.net/npm//vega-lite@4.8.1?noext\",\n",
       "      \"vega-embed\": \"https://cdn.jsdelivr.net/npm//vega-embed@6?noext\",\n",
       "    };\n",
       "\n",
       "    function loadScript(lib) {\n",
       "      return new Promise(function(resolve, reject) {\n",
       "        var s = document.createElement('script');\n",
       "        s.src = paths[lib];\n",
       "        s.async = true;\n",
       "        s.onload = () => resolve(paths[lib]);\n",
       "        s.onerror = () => reject(`Error loading script: ${paths[lib]}`);\n",
       "        document.getElementsByTagName(\"head\")[0].appendChild(s);\n",
       "      });\n",
       "    }\n",
       "\n",
       "    function showError(err) {\n",
       "      outputDiv.innerHTML = `<div class=\"error\" style=\"color:red;\">${err}</div>`;\n",
       "      throw err;\n",
       "    }\n",
       "\n",
       "    function displayChart(vegaEmbed) {\n",
       "      vegaEmbed(outputDiv, spec, embedOpt)\n",
       "        .catch(err => showError(`Javascript Error: ${err.message}<br>This usually means there's a typo in your chart specification. See the javascript console for the full traceback.`));\n",
       "    }\n",
       "\n",
       "    if(typeof define === \"function\" && define.amd) {\n",
       "      requirejs.config({paths});\n",
       "      require([\"vega-embed\"], displayChart, err => showError(`Error loading script: ${err.message}`));\n",
       "    } else if (typeof vegaEmbed === \"function\") {\n",
       "      displayChart(vegaEmbed);\n",
       "    } else {\n",
       "      loadScript(\"vega\")\n",
       "        .then(() => loadScript(\"vega-lite\"))\n",
       "        .then(() => loadScript(\"vega-embed\"))\n",
       "        .catch(showError)\n",
       "        .then(() => displayChart(vegaEmbed));\n",
       "    }\n",
       "  })({\"config\": {\"view\": {\"continuousWidth\": 400, \"continuousHeight\": 300}}, \"data\": {\"name\": \"data-9676e0b6c1c81313b7ca95f63287bca1\"}, \"mark\": {\"type\": \"circle\", \"size\": 60}, \"encoding\": {\"color\": {\"type\": \"nominal\", \"field\": \"Algorithm\"}, \"tooltip\": [{\"type\": \"nominal\", \"field\": \"CoinName\"}, {\"type\": \"nominal\", \"field\": \"Algorithm\"}, {\"type\": \"quantitative\", \"field\": \"TotalCoinsMined\"}, {\"type\": \"quantitative\", \"field\": \"TotalCoinSupply\"}], \"x\": {\"type\": \"quantitative\", \"field\": \"PC 1\"}, \"y\": {\"type\": \"quantitative\", \"field\": \"PC 2\"}}, \"selection\": {\"selector008\": {\"type\": \"interval\", \"bind\": \"scales\", \"encodings\": [\"x\", \"y\"]}}, \"$schema\": \"https://vega.github.io/schema/vega-lite/v4.8.1.json\", \"datasets\": {\"data-9676e0b6c1c81313b7ca95f63287bca1\": [{\"CoinName\": \"42 Coin\", \"Algorithm\": \"Scrypt\", \"ProofType\": \"PoW/PoS\", \"TotalCoinsMined\": 41.99995383, \"TotalCoinSupply\": 42.0, \"PC 1\": -0.17244324574203496, \"PC 2\": -1.1934040416658773, \"PC 3\": -0.3017753393671299, \"Class\": 0}, {\"CoinName\": \"404Coin\", \"Algorithm\": \"Scrypt\", \"ProofType\": \"PoW/PoS\", \"TotalCoinsMined\": 1055184902.04, \"TotalCoinSupply\": 532000000.0, \"PC 1\": -0.15787372561031912, \"PC 2\": -1.1914774447086502, \"PC 3\": -0.3019872750502766, \"Class\": 0}, {\"CoinName\": \"EliteCoin\", \"Algorithm\": \"X13\", \"ProofType\": \"PoW/PoS\", \"TotalCoinsMined\": 29279424622.5027, \"TotalCoinSupply\": 314159265359.0, \"PC 1\": 0.4160761530887279, \"PC 2\": -1.8967894666280454, \"PC 3\": -0.3697755437113198, \"Class\": 0}, {\"CoinName\": \"Bitcoin\", \"Algorithm\": \"SHA-256\", \"ProofType\": \"PoW\", \"TotalCoinsMined\": 17927175.0, \"TotalCoinSupply\": 21000000.0, \"PC 1\": -0.24818028956839794, \"PC 2\": 1.4038622621919035, \"PC 3\": 0.10588453827420559, \"Class\": 1}, {\"CoinName\": \"Litecoin\", \"Algorithm\": \"Scrypt\", \"ProofType\": \"PoW\", \"TotalCoinsMined\": 63039243.30000489, \"TotalCoinSupply\": 84000000.0, \"PC 1\": -0.321037682688551, \"PC 2\": 1.0522017115355, \"PC 3\": 0.017630744496037295, \"Class\": 1}, {\"CoinName\": \"Dash\", \"Algorithm\": \"X11\", \"ProofType\": \"PoW/PoS\", \"TotalCoinsMined\": 9031294.37563393, \"TotalCoinSupply\": 22000000.0, \"PC 1\": -0.13935642610865717, \"PC 2\": -1.4687515707096586, \"PC 3\": -0.31638532232512423, \"Class\": 0}, {\"CoinName\": \"Ethereum Classic\", \"Algorithm\": \"Ethash\", \"ProofType\": \"PoW\", \"TotalCoinsMined\": 113359703.0, \"TotalCoinSupply\": 210000000.0, \"PC 1\": -0.3418733682732275, \"PC 2\": 2.024067681158994, \"PC 3\": 0.1603703843379527, \"Class\": 1}, {\"CoinName\": \"ZCash\", \"Algorithm\": \"Equihash\", \"ProofType\": \"PoW\", \"TotalCoinsMined\": 7383056.25, \"TotalCoinSupply\": 21000000.0, \"PC 1\": -0.3442028741258849, \"PC 2\": 1.9198381061826346, \"PC 3\": 0.15927225553449922, \"Class\": 1}, {\"CoinName\": \"Bitshares\", \"Algorithm\": \"SHA-512\", \"ProofType\": \"PoS\", \"TotalCoinsMined\": 2741570000.0, \"TotalCoinSupply\": 3600570502.0, \"PC 1\": 0.33144042493847137, \"PC 2\": -1.6153243178028753, \"PC 3\": -0.2432498645399979, \"Class\": 0}, {\"CoinName\": \"DigiByte\", \"Algorithm\": \"Multiple\", \"ProofType\": \"PoW\", \"TotalCoinsMined\": 11406219141.0, \"TotalCoinSupply\": 21000000000.0, \"PC 1\": -0.13474114671860685, \"PC 2\": 1.7604785516776658, \"PC 3\": 0.17300566548493432, \"Class\": 1}, {\"CoinName\": \"BitcoinDark\", \"Algorithm\": \"SHA-256\", \"ProofType\": \"PoW/PoS\", \"TotalCoinsMined\": 1288862.0, \"TotalCoinSupply\": 22000000.0, \"PC 1\": -0.09894517001772936, \"PC 2\": -0.8416587712033381, \"PC 3\": -0.2135308654466177, \"Class\": 0}, {\"CoinName\": \"Bitstake\", \"Algorithm\": \"X11\", \"ProofType\": \"PoW/PoS\", \"TotalCoinsMined\": 0.0, \"TotalCoinSupply\": 1300000.0, \"PC 1\": -0.13948112615509475, \"PC 2\": -1.4687680602059077, \"PC 3\": -0.31638350833229534, \"Class\": 0}, {\"CoinName\": \"PayCoin\", \"Algorithm\": \"SHA-256\", \"ProofType\": \"PoS\", \"TotalCoinsMined\": 11995334.8847328, \"TotalCoinSupply\": 12500000.0, \"PC 1\": 0.027523637239299552, \"PC 2\": -0.49799757299156655, \"PC 3\": -0.054590383179736746, \"Class\": 0}, {\"CoinName\": \"ProsperCoin\", \"Algorithm\": \"Scrypt\", \"ProofType\": \"PoW\", \"TotalCoinsMined\": 5768310.0, \"TotalCoinSupply\": 21000000.0, \"PC 1\": -0.32182845404643695, \"PC 2\": 1.0520971444661107, \"PC 3\": 0.01764224754947379, \"Class\": 1}, {\"CoinName\": \"KoboCoin\", \"Algorithm\": \"X15\", \"ProofType\": \"PoW/PoS\", \"TotalCoinsMined\": 25542535.5881841, \"TotalCoinSupply\": 350000000.0, \"PC 1\": -0.004795774867752914, \"PC 2\": -2.0626855635872405, \"PC 3\": -0.43668501966973317, \"Class\": 0}, {\"CoinName\": \"Spreadcoin\", \"Algorithm\": \"X11\", \"ProofType\": \"PoW\", \"TotalCoinsMined\": 11149733.9976203, \"TotalCoinSupply\": 20000000.0, \"PC 1\": -0.28879202957922157, \"PC 2\": 0.7767429516710462, \"PC 3\": 0.003032997720672758, \"Class\": 1}, {\"CoinName\": \"ACoin\", \"Algorithm\": \"SHA-256\", \"ProofType\": \"PoW\", \"TotalCoinsMined\": 0.0, \"TotalCoinSupply\": 1600000.0, \"PC 1\": -0.24842781995994517, \"PC 2\": 1.403829530188833, \"PC 3\": 0.10588813900483354, \"Class\": 1}, {\"CoinName\": \"Aero Coin\", \"Algorithm\": \"X13\", \"ProofType\": \"PoS\", \"TotalCoinsMined\": 0.0, \"TotalCoinSupply\": 7000000.0, \"PC 1\": 0.13812036838170774, \"PC 2\": -1.6066038424442146, \"PC 3\": -0.20495131146147225, \"Class\": 0}, {\"CoinName\": \"ApexCoin\", \"Algorithm\": \"X13\", \"ProofType\": \"PoW/PoS\", \"TotalCoinsMined\": 0.0, \"TotalCoinSupply\": 6000000.0, \"PC 1\": 0.01179939133144192, \"PC 2\": -1.9502454921832058, \"PC 3\": -0.36389394410047166, \"Class\": 0}, {\"CoinName\": \"ArchCoin\", \"Algorithm\": \"Scrypt\", \"ProofType\": \"PoS\", \"TotalCoinsMined\": 0.0, \"TotalCoinSupply\": 16403135.0, \"PC 1\": -0.04612226929353781, \"PC 2\": -0.8497623921820967, \"PC 3\": -0.14283270675967394, \"Class\": 0}, {\"CoinName\": \"Argentum\", \"Algorithm\": \"Scrypt\", \"ProofType\": \"PoW\", \"TotalCoinsMined\": 12205795.444954902, \"TotalCoinSupply\": 64000000.0, \"PC 1\": -0.32173956818593563, \"PC 2\": 1.0521088978129844, \"PC 3\": 0.017640954466327484, \"Class\": 1}, {\"CoinName\": \"Aurora Coin\", \"Algorithm\": \"Scrypt\", \"ProofType\": \"PoW/PoS\", \"TotalCoinsMined\": 18135099.992959, \"TotalCoinSupply\": 16768584.0, \"PC 1\": -0.17219284499131257, \"PC 2\": -1.1933709300703503, \"PC 3\": -0.30177898184432284, \"Class\": 0}, {\"CoinName\": \"BetaCoin\", \"Algorithm\": \"SHA-256\", \"ProofType\": \"PoW\", \"TotalCoinsMined\": 0.0, \"TotalCoinSupply\": 32000000.0, \"PC 1\": -0.24842782000307617, \"PC 2\": 1.4038295298364865, \"PC 3\": 0.10588813892592536, \"Class\": 1}, {\"CoinName\": \"MyriadCoin\", \"Algorithm\": \"Multiple\", \"ProofType\": \"PoW\", \"TotalCoinsMined\": 1688254250.0, \"TotalCoinSupply\": 2000000000.0, \"PC 1\": -0.2689224351082337, \"PC 2\": 1.7427352823693563, \"PC 3\": 0.1749575719476165, \"Class\": 1}, {\"CoinName\": \"MoonCoin\", \"Algorithm\": \"Scrypt\", \"ProofType\": \"PoW\", \"TotalCoinsMined\": 88.0, \"TotalCoinSupply\": 384000000000.0, \"PC 1\": -0.3219086438581819, \"PC 2\": 1.0520821621410714, \"PC 3\": 0.017642409420745967, \"Class\": 1}, {\"CoinName\": \"ZetaCoin\", \"Algorithm\": \"SHA-256\", \"ProofType\": \"PoW\", \"TotalCoinsMined\": 170204389.754849, \"TotalCoinSupply\": 169795588.0, \"PC 1\": -0.2460777140651227, \"PC 2\": 1.404140294931857, \"PC 3\": 0.10585395294832256, \"Class\": 1}, {\"CoinName\": \"SexCoin\", \"Algorithm\": \"Scrypt\", \"ProofType\": \"PoW\", \"TotalCoinsMined\": 128940951.183046, \"TotalCoinSupply\": 250000000.0, \"PC 1\": -0.32012774159926927, \"PC 2\": 1.052322035860531, \"PC 3\": 0.01761750768069515, \"Class\": 1}, {\"CoinName\": \"Quatloo\", \"Algorithm\": \"Scrypt\", \"ProofType\": \"PoW\", \"TotalCoinsMined\": 7357794.7925, \"TotalCoinSupply\": 100000000.0, \"PC 1\": -0.3218065072629949, \"PC 2\": 1.052100045702012, \"PC 3\": 0.017641928095758812, \"Class\": 1}, {\"CoinName\": \"QuarkCoin\", \"Algorithm\": \"Quark\", \"ProofType\": \"PoW\", \"TotalCoinsMined\": 259557164.91477, \"TotalCoinSupply\": 247000000.0, \"PC 1\": -0.07142997449418238, \"PC 2\": 0.4940158398015996, \"PC 3\": 0.04745210106672896, \"Class\": 1}, {\"CoinName\": \"Riecoin\", \"Algorithm\": \"Groestl\", \"ProofType\": \"PoW\", \"TotalCoinsMined\": 49548585.14129171, \"TotalCoinSupply\": 84000000.0, \"PC 1\": -0.34410683725906605, \"PC 2\": 1.445281163780882, \"PC 3\": 0.10777152739720884, \"Class\": 1}, {\"CoinName\": \"Digitalcoin \", \"Algorithm\": \"Scrypt\", \"ProofType\": \"PoW\", \"TotalCoinsMined\": 33442988.3440364, \"TotalCoinSupply\": 48166000.0, \"PC 1\": -0.3214463344968104, \"PC 2\": 1.0521476738013142, \"PC 3\": 0.017636689008717163, \"Class\": 1}, {\"CoinName\": \"LimeCoinX\", \"Algorithm\": \"X11\", \"ProofType\": \"PoW\", \"TotalCoinsMined\": 0.0, \"TotalCoinSupply\": 21000000.0, \"PC 1\": -0.28894598012381945, \"PC 2\": 0.7767225939826571, \"PC 3\": 0.0030352371466213805, \"Class\": 1}, {\"CoinName\": \"BitBar\", \"Algorithm\": \"Scrypt\", \"ProofType\": \"PoW/PoS\", \"TotalCoinsMined\": 42579.476901, \"TotalCoinSupply\": 500000.0, \"PC 1\": -0.1724426584042748, \"PC 2\": -1.1934039640048673, \"PC 3\": -0.30177534791209437, \"Class\": 0}, {\"CoinName\": \"BitMark\", \"Algorithm\": \"Scrypt\", \"ProofType\": \"PoW\", \"TotalCoinsMined\": 0.0, \"TotalCoinSupply\": 27580000.0, \"PC 1\": -0.32190810030185485, \"PC 2\": 1.052086612354671, \"PC 3\": 0.01764340609977071, \"Class\": 1}, {\"CoinName\": \"CashCoin\", \"Algorithm\": \"Scrypt\", \"ProofType\": \"PoW/PoS\", \"TotalCoinsMined\": 0.0, \"TotalCoinSupply\": 47433600.0, \"PC 1\": -0.17244324638924755, \"PC 2\": -1.1934040422923335, \"PC 3\": -0.3017753394818129, \"Class\": 0}, {\"CoinName\": \"Catcoin\", \"Algorithm\": \"Scrypt\", \"ProofType\": \"PoW\", \"TotalCoinsMined\": 7219956.64626131, \"TotalCoinSupply\": 21000000.0, \"PC 1\": -0.3218084103584225, \"PC 2\": 1.052099794946674, \"PC 3\": 0.01764195598566259, \"Class\": 1}, {\"CoinName\": \"CryptoBullion\", \"Algorithm\": \"Scrypt\", \"ProofType\": \"PoW/PoS\", \"TotalCoinsMined\": 1039116.65144562, \"TotalCoinSupply\": 1000000.0, \"PC 1\": -0.17242889866512384, \"PC 2\": -1.1934021444890737, \"PC 3\": -0.30177554806828305, \"Class\": 0}, {\"CoinName\": \"CannaCoin\", \"Algorithm\": \"Scrypt\", \"ProofType\": \"PoW\", \"TotalCoinsMined\": 4703879.51824446, \"TotalCoinSupply\": 13140000.0, \"PC 1\": -0.32184315121558366, \"PC 2\": 1.052095201073023, \"PC 3\": 0.017642461361164753, \"Class\": 1}, {\"CoinName\": \"CinderCoin\", \"Algorithm\": \"Multiple\", \"ProofType\": \"PoW/PoS\", \"TotalCoinsMined\": 0.0, \"TotalCoinSupply\": 114000000.0, \"PC 1\": -0.14276823853672688, \"PC 2\": -0.5058378393652782, \"PC 3\": -0.14412208214393551, \"Class\": 0}, {\"CoinName\": \"CoolCoin\", \"Algorithm\": \"Scrypt\", \"ProofType\": \"PoS\", \"TotalCoinsMined\": 0.0, \"TotalCoinSupply\": 100000000.0, \"PC 1\": -0.046122269412143084, \"PC 2\": -0.8497623931510137, \"PC 3\": -0.14283270697666267, \"Class\": 0}, {\"CoinName\": \"CryptCoin\", \"Algorithm\": \"X11\", \"ProofType\": \"PoW\", \"TotalCoinsMined\": 4996986.20575291, \"TotalCoinSupply\": 18000000.0, \"PC 1\": -0.28887698396765504, \"PC 2\": 0.7767317177355516, \"PC 3\": 0.0030342335077252, \"Class\": 1}, {\"CoinName\": \"CasinoCoin\", \"Algorithm\": \"Scrypt\", \"ProofType\": \"PoC\", \"TotalCoinsMined\": 39999997299.8568, \"TotalCoinSupply\": 40000000000.0, \"PC 1\": 0.9883067927999845, \"PC 2\": -0.4372266379050125, \"PC 3\": -0.5548847911132864, \"Class\": 0}, {\"CoinName\": \"Diamond\", \"Algorithm\": \"Groestl\", \"ProofType\": \"PoW/PoS\", \"TotalCoinsMined\": 3304487.74735637, \"TotalCoinSupply\": 4380000.0, \"PC 1\": -0.19528050103132596, \"PC 2\": -0.8002939242287391, \"PC 3\": -0.21163792978067025, \"Class\": 0}, {\"CoinName\": \"Verge\", \"Algorithm\": \"Multiple\", \"ProofType\": \"PoW\", \"TotalCoinsMined\": 15929530669.1206, \"TotalCoinSupply\": 16555000000.0, \"PC 1\": -0.07228527672335096, \"PC 2\": 1.768737465172235, \"PC 3\": 0.1720971680884105, \"Class\": 1}, {\"CoinName\": \"DarkCash\", \"Algorithm\": \"X11\", \"ProofType\": \"PoW/PoS\", \"TotalCoinsMined\": 0.0, \"TotalCoinSupply\": 3720000.0, \"PC 1\": -0.13948112615852803, \"PC 2\": -1.468768060233956, \"PC 3\": -0.3163835083385766, \"Class\": 0}, {\"CoinName\": \"DarkShibe\", \"Algorithm\": \"Scrypt\", \"ProofType\": \"PoW\", \"TotalCoinsMined\": 0.0, \"TotalCoinSupply\": 2043962.0, \"PC 1\": -0.3219081002656246, \"PC 2\": 1.0520866126506427, \"PC 3\": 0.017643406166053654, \"Class\": 1}, {\"CoinName\": \"DevCoin\", \"Algorithm\": \"SHA-256\", \"ProofType\": \"PoW\", \"TotalCoinsMined\": 18773857500.0, \"TotalCoinSupply\": 21000000000.0, \"PC 1\": 0.01079318281304049, \"PC 2\": 1.4381074250447772, \"PC 3\": 0.10211734769314457, \"Class\": 1}, {\"CoinName\": \"EarthCoin\", \"Algorithm\": \"Scrypt\", \"ProofType\": \"PoW\", \"TotalCoinsMined\": 12539015186.821999, \"TotalCoinSupply\": 13500000000.0, \"PC 1\": -0.14877500257666082, \"PC 2\": 1.0749807439609467, \"PC 3\": 0.015124904901670254, \"Class\": 1}, {\"CoinName\": \"E-Gulden\", \"Algorithm\": \"Scrypt\", \"ProofType\": \"PoW\", \"TotalCoinsMined\": 20910478.806249898, \"TotalCoinSupply\": 21000000.0, \"PC 1\": -0.3216193777480135, \"PC 2\": 1.0521247917067227, \"PC 3\": 0.017639206238797098, \"Class\": 1}, {\"CoinName\": \"Elacoin\", \"Algorithm\": \"Scrypt\", \"ProofType\": \"PoW\", \"TotalCoinsMined\": 0.0, \"TotalCoinSupply\": 75000000.0, \"PC 1\": -0.32190810036913325, \"PC 2\": 1.0520866118050567, \"PC 3\": 0.017643405976684626, \"Class\": 1}, {\"CoinName\": \"Einsteinium\", \"Algorithm\": \"Scrypt\", \"ProofType\": \"PoW\", \"TotalCoinsMined\": 218871896.499999, \"TotalCoinSupply\": 299792458.0, \"PC 1\": -0.3188860153755379, \"PC 2\": 1.0524862351754845, \"PC 3\": 0.0175994448850228, \"Class\": 1}, {\"CoinName\": \"Emerald\", \"Algorithm\": \"Scrypt\", \"ProofType\": \"PoW\", \"TotalCoinsMined\": 19496786.31025, \"TotalCoinSupply\": 32000000.0, \"PC 1\": -0.3216388973976932, \"PC 2\": 1.052122210397029, \"PC 3\": 0.01763949015094955, \"Class\": 1}, {\"CoinName\": \"Flappy Coin\", \"Algorithm\": \"Scrypt\", \"ProofType\": \"PoW\", \"TotalCoinsMined\": 0.0, \"TotalCoinSupply\": 100000000000.0, \"PC 1\": -0.321908242140465, \"PC 2\": 1.052085453639454, \"PC 3\": 0.017643146605489816, \"Class\": 1}, {\"CoinName\": \"Fuel2Coin\", \"Algorithm\": \"X11\", \"ProofType\": \"PoS\", \"TotalCoinsMined\": 0.0, \"TotalCoinSupply\": 100000000.0, \"PC 1\": -0.013160149243443341, \"PC 2\": -1.1251264115992923, \"PC 3\": -0.15744087594689157, \"Class\": 0}, {\"CoinName\": \"FIBRE\", \"Algorithm\": \"NIST5\", \"ProofType\": \"PoW/PoS\", \"TotalCoinsMined\": 0.0, \"TotalCoinSupply\": 624000.0, \"PC 1\": -0.09435389394869333, \"PC 2\": -1.7825262142094875, \"PC 3\": -0.33558487470109843, \"Class\": 0}, {\"CoinName\": \"FireRoosterCoin\", \"Algorithm\": \"SHA-256\", \"ProofType\": \"PoW\", \"TotalCoinsMined\": 0.0, \"TotalCoinSupply\": 2602410.0, \"PC 1\": -0.24842781996136734, \"PC 2\": 1.4038295301772148, \"PC 3\": 0.10588813900223168, \"Class\": 1}, {\"CoinName\": \"Franko\", \"Algorithm\": \"Scrypt\", \"ProofType\": \"PoW\", \"TotalCoinsMined\": 1142732.14912776, \"TotalCoinSupply\": 11235813.0, \"PC 1\": -0.32189232194394496, \"PC 2\": 1.0520886989949363, \"PC 3\": 0.017643176623984336, \"Class\": 1}, {\"CoinName\": \"FeatherCoin\", \"Algorithm\": \"NeoScrypt\", \"ProofType\": \"PoW\", \"TotalCoinsMined\": 208669093.00773, \"TotalCoinSupply\": 336000000.0, \"PC 1\": -0.3344001773558526, \"PC 2\": 1.5358495665878693, \"PC 3\": 0.12618781915350274, \"Class\": 1}, {\"CoinName\": \"GrandCoin\", \"Algorithm\": \"Scrypt\", \"ProofType\": \"PoW\", \"TotalCoinsMined\": 884125802.0, \"TotalCoinSupply\": 1420609614.0, \"PC 1\": -0.30970048840285086, \"PC 2\": 1.0537008721486845, \"PC 3\": 0.017465825462083744, \"Class\": 1}, {\"CoinName\": \"GlobalCoin\", \"Algorithm\": \"Scrypt\", \"ProofType\": \"PoW\", \"TotalCoinsMined\": 65672720.470874794, \"TotalCoinSupply\": 70000000.0, \"PC 1\": -0.32100132079306587, \"PC 2\": 1.0522065200167035, \"PC 3\": 0.01763021559742225, \"Class\": 1}, {\"CoinName\": \"GoldCoin\", \"Algorithm\": \"Scrypt\", \"ProofType\": \"PoW\", \"TotalCoinsMined\": 41658647.9999715, \"TotalCoinSupply\": 72245700.0, \"PC 1\": -0.3213328963747925, \"PC 2\": 1.052162674036494, \"PC 3\": 0.017635038827678418, \"Class\": 1}, {\"CoinName\": \"GlyphCoin\", \"Algorithm\": \"X11\", \"ProofType\": \"PoW/PoS\", \"TotalCoinsMined\": 0.0, \"TotalCoinSupply\": 7000000.0, \"PC 1\": -0.1394811261631814, \"PC 2\": -1.4687680602719728, \"PC 3\": -0.31638350834709006, \"Class\": 0}, {\"CoinName\": \"HoboNickels\", \"Algorithm\": \"Scrypt\", \"ProofType\": \"PoW/PoS\", \"TotalCoinsMined\": 89266933.684704, \"TotalCoinSupply\": 120000000.0, \"PC 1\": -0.17121068857363653, \"PC 2\": -1.1932410556231046, \"PC 3\": -0.30179326896959646, \"Class\": 0}, {\"CoinName\": \"HunterCoin\", \"Algorithm\": \"Multiple\", \"ProofType\": \"PoW\", \"TotalCoinsMined\": 0.0, \"TotalCoinSupply\": 42000000.0, \"PC 1\": -0.2922330923753502, \"PC 2\": 1.739652815886122, \"PC 3\": 0.17529666357300216, \"Class\": 1}, {\"CoinName\": \"Infinite Coin\", \"Algorithm\": \"Scrypt\", \"ProofType\": \"PoW\", \"TotalCoinsMined\": 90595753018.6314, \"TotalCoinSupply\": 90600000000.0, \"PC 1\": 0.9289974331516125, \"PC 2\": 1.2174992899194965, \"PC 3\": -0.0005530223171275147, \"Class\": 1}, {\"CoinName\": \"IOCoin\", \"Algorithm\": \"X11\", \"ProofType\": \"PoW/PoS\", \"TotalCoinsMined\": 17650913.974345602, \"TotalCoinSupply\": 22000000.0, \"PC 1\": -0.13923741025415157, \"PC 2\": -1.468735832627481, \"PC 3\": -0.3163870535791747, \"Class\": 0}, {\"CoinName\": \"IXcoin\", \"Algorithm\": \"SHA-256\", \"ProofType\": \"PoW\", \"TotalCoinsMined\": 21089348.999, \"TotalCoinSupply\": 21000000.0, \"PC 1\": -0.24813662768329625, \"PC 2\": 1.4038680358288653, \"PC 3\": 0.10588390315027468, \"Class\": 1}, {\"CoinName\": \"JumBucks Coin\", \"Algorithm\": \"X11\", \"ProofType\": \"PoW/PoS\", \"TotalCoinsMined\": 0.0, \"TotalCoinSupply\": 3293010.0, \"PC 1\": -0.13948112615792185, \"PC 2\": -1.4687680602290076, \"PC 3\": -0.316383508337468, \"Class\": 0}, {\"CoinName\": \"JudgeCoin\", \"Algorithm\": \"X13\", \"ProofType\": \"PoW/PoS\", \"TotalCoinsMined\": 0.0, \"TotalCoinSupply\": 21600000.0, \"PC 1\": 0.01179939130930914, \"PC 2\": -1.9502454923640153, \"PC 3\": -0.3638939441409638, \"Class\": 0}, {\"CoinName\": \"KrugerCoin\", \"Algorithm\": \"Scrypt\", \"ProofType\": \"PoW\", \"TotalCoinsMined\": 151447649.8, \"TotalCoinSupply\": 265420800.0, \"PC 1\": -0.31981697918699603, \"PC 2\": 1.0523631294062181, \"PC 3\": 0.01761298716122595, \"Class\": 1}, {\"CoinName\": \"LuckyCoin\", \"Algorithm\": \"Scrypt\", \"ProofType\": \"PoW\", \"TotalCoinsMined\": 19326319.14375, \"TotalCoinSupply\": 20000000.0, \"PC 1\": -0.3216412511151052, \"PC 2\": 1.0521218992896313, \"PC 3\": 0.017639524420496256, \"Class\": 1}, {\"CoinName\": \"Litebar \", \"Algorithm\": \"Scrypt\", \"ProofType\": \"PoW\", \"TotalCoinsMined\": 1104344.22938102, \"TotalCoinSupply\": 1350000.0, \"PC 1\": -0.32189285197315576, \"PC 2\": 1.0520886290191573, \"PC 3\": 0.017643184359873616, \"Class\": 1}, {\"CoinName\": \"LitecoinDark\", \"Algorithm\": \"Scrypt\", \"ProofType\": \"PoW\", \"TotalCoinsMined\": 0.0, \"TotalCoinSupply\": 82003200.0, \"PC 1\": -0.3219081003790691, \"PC 2\": 1.0520866117238872, \"PC 3\": 0.017643405958506678, \"Class\": 1}, {\"CoinName\": \"LibrexCoin\", \"Algorithm\": \"X11\", \"ProofType\": \"PoW/PoS\", \"TotalCoinsMined\": 0.0, \"TotalCoinSupply\": 1000000.0, \"PC 1\": -0.1394811261546686, \"PC 2\": -1.4687680602024307, \"PC 3\": -0.3163835083315159, \"Class\": 0}, {\"CoinName\": \"MaxCoin\", \"Algorithm\": \"SHA3\", \"ProofType\": \"PoW/PoS\", \"TotalCoinsMined\": 61445805.0, \"TotalCoinSupply\": 100000000.0, \"PC 1\": 0.008572885477876975, \"PC 2\": -2.199803954492617, \"PC 3\": -0.6223663670700993, \"Class\": 0}, {\"CoinName\": \"MegaCoin\", \"Algorithm\": \"Scrypt\", \"ProofType\": \"PoW\", \"TotalCoinsMined\": 38151999.993099704, \"TotalCoinSupply\": 42000000.0, \"PC 1\": -0.3213813145601103, \"PC 2\": 1.0521562717942383, \"PC 3\": 0.01763574321784425, \"Class\": 1}, {\"CoinName\": \"MediterraneanCoin\", \"Algorithm\": \"HybridScryptHash256\", \"ProofType\": \"PoW\", \"TotalCoinsMined\": 40431856.9, \"TotalCoinSupply\": 200000000.0, \"PC 1\": -0.37260467649723245, \"PC 2\": 2.131261975367846, \"PC 3\": 0.3560951973384643, \"Class\": 1}, {\"CoinName\": \"MinCoin\", \"Algorithm\": \"Scrypt\", \"ProofType\": \"PoW\", \"TotalCoinsMined\": 5804204.88794916, \"TotalCoinSupply\": 10000000.0, \"PC 1\": -0.32182795841026246, \"PC 2\": 1.0520972101320765, \"PC 3\": 0.017642240368523295, \"Class\": 1}, {\"CoinName\": \"MazaCoin\", \"Algorithm\": \"SHA-256\", \"ProofType\": \"PoW/PoS\", \"TotalCoinsMined\": 1613836099.99999, \"TotalCoinSupply\": 2419200000.0, \"PC 1\": -0.07667984195488424, \"PC 2\": -0.838714539016953, \"PC 3\": -0.21385475242829902, \"Class\": 0}, {\"CoinName\": \"Nautilus Coin\", \"Algorithm\": \"Scrypt\", \"ProofType\": \"PoS\", \"TotalCoinsMined\": 16180000.0, \"TotalCoinSupply\": 16180000.0, \"PC 1\": -0.04589886308557845, \"PC 2\": -0.8497328500208661, \"PC 3\": -0.14283595651858258, \"Class\": 0}, {\"CoinName\": \"NoirBits\", \"Algorithm\": \"SHA-256\", \"ProofType\": \"PoW\", \"TotalCoinsMined\": 0.0, \"TotalCoinSupply\": 50000000.0, \"PC 1\": -0.2484278200286141, \"PC 2\": 1.40382952962786, \"PC 3\": 0.10588813887920354, \"Class\": 1}, {\"CoinName\": \"NobleCoin\", \"Algorithm\": \"Scrypt\", \"ProofType\": \"PoW\", \"TotalCoinsMined\": 2366066305.76482, \"TotalCoinSupply\": 15000000000.0, \"PC 1\": -0.2892385356109829, \"PC 2\": 1.0564065071855266, \"PC 3\": 0.017168141870196198, \"Class\": 1}, {\"CoinName\": \"Namecoin\", \"Algorithm\": \"SHA-256\", \"ProofType\": \"PoW\", \"TotalCoinsMined\": 14736400.0, \"TotalCoinSupply\": 21000000.0, \"PC 1\": -0.2482243463633467, \"PC 2\": 1.4038564363339834, \"PC 3\": 0.10588517914262847, \"Class\": 1}, {\"CoinName\": \"NyanCoin\", \"Algorithm\": \"Scrypt\", \"ProofType\": \"PoW\", \"TotalCoinsMined\": 334709223.48313797, \"TotalCoinSupply\": 337000000.0, \"PC 1\": -0.31728658539589255, \"PC 2\": 1.0526977356521916, \"PC 3\": 0.017576178814870475, \"Class\": 1}, {\"CoinName\": \"Orbitcoin\", \"Algorithm\": \"NeoScrypt\", \"ProofType\": \"PoW/PoS\", \"TotalCoinsMined\": 3220616.279225, \"TotalCoinSupply\": 3770000.0, \"PC 1\": -0.1877720636762213, \"PC 2\": -0.7100162008815052, \"PC 3\": -0.19318966110525862, \"Class\": 0}, {\"CoinName\": \"PotCoin\", \"Algorithm\": \"Scrypt\", \"ProofType\": \"PoW/PoS\", \"TotalCoinsMined\": 222677226.014206, \"TotalCoinSupply\": 420000000.0, \"PC 1\": -0.16936861931633657, \"PC 2\": -1.192997472695955, \"PC 3\": -0.30182006525900457, \"Class\": 0}, {\"CoinName\": \"PhoenixCoin\", \"Algorithm\": \"Scrypt\", \"ProofType\": \"PoW/PoS\", \"TotalCoinsMined\": 73959274.625, \"TotalCoinSupply\": 98000000.0, \"PC 1\": -0.17142204985629358, \"PC 2\": -1.1932690047681431, \"PC 3\": -0.30179019436303167, \"Class\": 0}, {\"CoinName\": \"RipOffCoin\", \"Algorithm\": \"Scrypt\", \"ProofType\": \"PoW\", \"TotalCoinsMined\": 0.0, \"TotalCoinSupply\": 12000000.0, \"PC 1\": -0.3219081002797502, \"PC 2\": 1.0520866125352488, \"PC 3\": 0.017643406140211027, \"Class\": 1}, {\"CoinName\": \"RonPaulCoin\", \"Algorithm\": \"Scrypt\", \"ProofType\": \"PoW\", \"TotalCoinsMined\": 1104157.42169891, \"TotalCoinSupply\": 21000000.0, \"PC 1\": -0.3218928545803917, \"PC 2\": 1.052088628450325, \"PC 3\": 0.017643184346389305, \"Class\": 1}, {\"CoinName\": \"StableCoin\", \"Algorithm\": \"Scrypt\", \"ProofType\": \"PoW\", \"TotalCoinsMined\": 24215181.725, \"TotalCoinSupply\": 250000000.0, \"PC 1\": -0.32157374821219264, \"PC 2\": 1.052130822925085, \"PC 3\": 0.017638541893484905, \"Class\": 1}, {\"CoinName\": \"ShieldCoin\", \"Algorithm\": \"X15\", \"ProofType\": \"PoW/PoS\", \"TotalCoinsMined\": 0.0, \"TotalCoinSupply\": 1000000.0, \"PC 1\": -0.005148454286650321, \"PC 2\": -2.0627321962318588, \"PC 3\": -0.43667988853533296, \"Class\": 0}, {\"CoinName\": \"SilkCoin\", \"Algorithm\": \"Scrypt\", \"ProofType\": \"PoW/PoS\", \"TotalCoinsMined\": 0.0, \"TotalCoinSupply\": 1000000.0, \"PC 1\": -0.17244324632336863, \"PC 2\": -1.193404041754152, \"PC 3\": -0.30177533936128736, \"Class\": 0}, {\"CoinName\": \"SmartCoin\", \"Algorithm\": \"Scrypt\", \"ProofType\": \"PoW\", \"TotalCoinsMined\": 25593737.1355044, \"TotalCoinSupply\": 51200000.0, \"PC 1\": -0.32155471345323705, \"PC 2\": 1.0521333422566035, \"PC 3\": 0.017638265526094828, \"Class\": 1}, {\"CoinName\": \"SpainCoin\", \"Algorithm\": \"Scrypt-n\", \"ProofType\": \"PoW\", \"TotalCoinsMined\": 0.0, \"TotalCoinSupply\": 50000000.0, \"PC 1\": -0.3681096595839491, \"PC 2\": 2.150421713311523, \"PC 3\": 0.2314478147174555, \"Class\": 1}, {\"CoinName\": \"SecureCoin\", \"Algorithm\": \"Scrypt\", \"ProofType\": \"PoW\", \"TotalCoinsMined\": 0.0, \"TotalCoinSupply\": 21000000.0, \"PC 1\": -0.32190810029251904, \"PC 2\": 1.0520866124309354, \"PC 3\": 0.017643406116850342, \"Class\": 1}, {\"CoinName\": \"SyncCoin\", \"Algorithm\": \"X11\", \"ProofType\": \"PoW/PoS\", \"TotalCoinsMined\": 1177.0, \"TotalCoinSupply\": 1000.0, \"PC 1\": -0.1394811099017615, \"PC 2\": -1.4687680580418336, \"PC 3\": -0.3163835085653238, \"Class\": 0}, {\"CoinName\": \"SysCoin\", \"Algorithm\": \"SHA-256\", \"ProofType\": \"PoW\", \"TotalCoinsMined\": 563336541.299966, \"TotalCoinSupply\": 888000000.0, \"PC 1\": -0.2406495220631325, \"PC 2\": 1.4048580846539265, \"PC 3\": 0.10577499033382907, \"Class\": 1}, {\"CoinName\": \"TeslaCoin\", \"Algorithm\": \"Multiple\", \"ProofType\": \"PoS\", \"TotalCoinsMined\": 80260463.7331396, \"TotalCoinSupply\": 100000000.0, \"PC 1\": -0.015339060857869354, \"PC 2\": -0.16204964635277003, \"PC 3\": 0.014804430187673774, \"Class\": 0}, {\"CoinName\": \"TigerCoin\", \"Algorithm\": \"SHA-256\", \"ProofType\": \"PoW\", \"TotalCoinsMined\": 43536800.0, \"TotalCoinSupply\": 47011968.0, \"PC 1\": -0.24782668335064775, \"PC 2\": 1.4039090210748832, \"PC 3\": 0.10587939450322147, \"Class\": 1}, {\"CoinName\": \"TittieCoin\", \"Algorithm\": \"PHI1612\", \"ProofType\": \"PoS\", \"TotalCoinsMined\": 1622326490.46336, \"TotalCoinSupply\": 2300000000.0, \"PC 1\": 0.12098364169906627, \"PC 2\": -1.6145859904676636, \"PC 3\": -0.21645018208716071, \"Class\": 0}, {\"CoinName\": \"TorCoin\", \"Algorithm\": \"X11\", \"ProofType\": \"PoW/PoS\", \"TotalCoinsMined\": 1431851.00002479, \"TotalCoinSupply\": 10000000.0, \"PC 1\": -0.13946135580885752, \"PC 2\": -1.4687654459699457, \"PC 3\": -0.31638379594272437, \"Class\": 0}, {\"CoinName\": \"TerraCoin\", \"Algorithm\": \"SHA-256\", \"ProofType\": \"PoW\", \"TotalCoinsMined\": 22935396.0, \"TotalCoinSupply\": 42000000.0, \"PC 1\": -0.24811113832127196, \"PC 2\": 1.4038714061796194, \"PC 3\": 0.10588353231648552, \"Class\": 1}, {\"CoinName\": \"Umbrella\", \"Algorithm\": \"SHA-256\", \"ProofType\": \"PoW\", \"TotalCoinsMined\": 0.0, \"TotalCoinSupply\": 2625000.0, \"PC 1\": -0.24842781996139945, \"PC 2\": 1.4038295301769528, \"PC 3\": 0.10588813900217285, \"Class\": 1}, {\"CoinName\": \"UnbreakableCoin\", \"Algorithm\": \"SHA-256\", \"ProofType\": \"PoW\", \"TotalCoinsMined\": 2278150.0, \"TotalCoinSupply\": 80000000.0, \"PC 1\": -0.24839636439429602, \"PC 2\": 1.4038336888270413, \"PC 3\": 0.10588768123399286, \"Class\": 1}, {\"CoinName\": \"Unobtanium\", \"Algorithm\": \"SHA-256\", \"ProofType\": \"PoW\", \"TotalCoinsMined\": 200911.79151896, \"TotalCoinSupply\": 250000.0, \"PC 1\": -0.24842504585781877, \"PC 2\": 1.4038298970381033, \"PC 3\": 0.10588809865512375, \"Class\": 1}, {\"CoinName\": \"UnitaryStatus Dollar\", \"Algorithm\": \"Scrypt\", \"ProofType\": \"PoW/PoS\", \"TotalCoinsMined\": 1098952592.6, \"TotalCoinSupply\": 1600000000.0, \"PC 1\": -0.15726940241819584, \"PC 2\": -1.1913975441045748, \"PC 3\": -0.3019960685806384, \"Class\": 0}, {\"CoinName\": \"UltraCoin\", \"Algorithm\": \"Scrypt\", \"ProofType\": \"PoW/PoS\", \"TotalCoinsMined\": 50235211.141939, \"TotalCoinSupply\": 100000000.0, \"PC 1\": -0.1717496211231996, \"PC 2\": -1.193312321234285, \"PC 3\": -0.3017854293805592, \"Class\": 0}, {\"CoinName\": \"ViaCoin\", \"Algorithm\": \"Scrypt\", \"ProofType\": \"PoW\", \"TotalCoinsMined\": 23150892.167968698, \"TotalCoinSupply\": 23000000.0, \"PC 1\": -0.32158844312460305, \"PC 2\": 1.0521288823292128, \"PC 3\": 0.01763875624568371, \"Class\": 1}, {\"CoinName\": \"Vertcoin\", \"Algorithm\": \"Lyra2REv2\", \"ProofType\": \"PoW\", \"TotalCoinsMined\": 51173723.81663471, \"TotalCoinSupply\": 84000000.0, \"PC 1\": -0.32090020454205515, \"PC 2\": 1.33569870656542, \"PC 3\": 0.12940179098736146, \"Class\": 1}, {\"CoinName\": \"WorldCoin\", \"Algorithm\": \"Scrypt\", \"ProofType\": \"PoW\", \"TotalCoinsMined\": 119606941.0, \"TotalCoinSupply\": 265420800.0, \"PC 1\": -0.32025662146151207, \"PC 2\": 1.0523049932337383, \"PC 3\": 0.017619382380356187, \"Class\": 1}, {\"CoinName\": \"SocialXbotCoin\", \"Algorithm\": \"Scrypt\", \"ProofType\": \"PoW/PoS\", \"TotalCoinsMined\": 0.0, \"TotalCoinSupply\": 2000000.0, \"PC 1\": -0.17244324632478736, \"PC 2\": -1.1934040417657426, \"PC 3\": -0.3017753393638827, \"Class\": 0}, {\"CoinName\": \"X11 Coin\", \"Algorithm\": \"X11\", \"ProofType\": \"PoW/PoS\", \"TotalCoinsMined\": 6950831.0970606, \"TotalCoinSupply\": 5500000.0, \"PC 1\": -0.13938515219224232, \"PC 2\": -1.4687553691201634, \"PC 3\": -0.3163849044204095, \"Class\": 0}, {\"CoinName\": \"JouleCoin\", \"Algorithm\": \"SHA-256\", \"ProofType\": \"PoW\", \"TotalCoinsMined\": 39195739.362088, \"TotalCoinSupply\": 45000000.0, \"PC 1\": -0.24788662277265483, \"PC 2\": 1.4039010949979525, \"PC 3\": 0.1058802664122139, \"Class\": 1}, {\"CoinName\": \"XXXCoin\", \"Algorithm\": \"Scrypt\", \"ProofType\": \"PoW/PoS\", \"TotalCoinsMined\": 0.0, \"TotalCoinSupply\": 50000000.0, \"PC 1\": -0.17244324639288874, \"PC 2\": -1.1934040423220793, \"PC 3\": -0.30177533948847457, \"Class\": 0}, {\"CoinName\": \"ZCC Coin\", \"Algorithm\": \"Scrypt\", \"ProofType\": \"PoW/PoS\", \"TotalCoinsMined\": 147990237.978331, \"TotalCoinSupply\": 1000000000.0, \"PC 1\": -0.17039986468541785, \"PC 2\": -1.193133846219918, \"PC 3\": -0.30180506585299083, \"Class\": 0}, {\"CoinName\": \"ByteCoin\", \"Algorithm\": \"CryptoNight\", \"ProofType\": \"PoW\", \"TotalCoinsMined\": 184066828814.0, \"TotalCoinSupply\": 184467440735.0, \"PC 1\": 2.334277929715863, \"PC 2\": 2.575998448212332, \"PC 3\": 0.18403277173617205, \"Class\": 1}, {\"CoinName\": \"DigitalNote \", \"Algorithm\": \"CryptoNight\", \"ProofType\": \"PoW\", \"TotalCoinsMined\": 6906587610.38292, \"TotalCoinSupply\": 10000000000.0, \"PC 1\": -0.1118712437915916, \"PC 2\": 2.2525334770770784, \"PC 3\": 0.2196159300793833, \"Class\": 1}, {\"CoinName\": \"BurstCoin\", \"Algorithm\": \"Shabal256\", \"ProofType\": \"PoC\", \"TotalCoinsMined\": 1813033920.0, \"TotalCoinSupply\": 2158812800.0, \"PC 1\": 1.4102071021378824, \"PC 2\": -0.8469469441474899, \"PC 3\": -1.2240056476354713, \"Class\": 0}, {\"CoinName\": \"StorjCoin\", \"Algorithm\": \"Counterparty\", \"ProofType\": \"PoS\", \"TotalCoinsMined\": 51173144.0, \"TotalCoinSupply\": 500000000.0, \"PC 1\": 0.15660955853879854, \"PC 2\": -1.3995181184733725, \"PC 3\": -0.16376388547814805, \"Class\": 0}, {\"CoinName\": \"MonaCoin\", \"Algorithm\": \"Scrypt\", \"ProofType\": \"PoW\", \"TotalCoinsMined\": 68194674.8711679, \"TotalCoinSupply\": 105120000.0, \"PC 1\": -0.32096649882383177, \"PC 2\": 1.0522111243053849, \"PC 3\": 0.017629708970710287, \"Class\": 1}, {\"CoinName\": \"Neutron\", \"Algorithm\": \"SHA-256\", \"ProofType\": \"PoW/PoS\", \"TotalCoinsMined\": 39121694.0, \"TotalCoinSupply\": 68000000.0, \"PC 1\": -0.09842279124977382, \"PC 2\": -0.8415896948808135, \"PC 3\": -0.21353846430549617, \"Class\": 0}, {\"CoinName\": \"Sling Coin\", \"Algorithm\": \"SHA-256\", \"ProofType\": \"PoW\", \"TotalCoinsMined\": 0.0, \"TotalCoinSupply\": 1000000.0, \"PC 1\": -0.24842781995909416, \"PC 2\": 1.4038295301957873, \"PC 3\": 0.10588813900639095, \"Class\": 1}, {\"CoinName\": \"KryptCoin\", \"Algorithm\": \"Scrypt\", \"ProofType\": \"PoS\", \"TotalCoinsMined\": 0.0, \"TotalCoinSupply\": 17000000.0, \"PC 1\": -0.04612226929438469, \"PC 2\": -0.8497623921890148, \"PC 3\": -0.14283270676122312, \"Class\": 0}, {\"CoinName\": \"Gulden\", \"Algorithm\": \"Scrypt\", \"ProofType\": \"PoW\", \"TotalCoinsMined\": 415032420.0, \"TotalCoinSupply\": 1680000000.0, \"PC 1\": -0.3161775205077642, \"PC 2\": 1.0528443777263004, \"PC 3\": 0.017560042382671493, \"Class\": 1}, {\"CoinName\": \"PesetaCoin\", \"Algorithm\": \"Scrypt\", \"ProofType\": \"PoW\", \"TotalCoinsMined\": 137517654.41397, \"TotalCoinSupply\": 166386000.0, \"PC 1\": -0.32000931819615885, \"PC 2\": 1.052337696553225, \"PC 3\": 0.017615785263445455, \"Class\": 1}, {\"CoinName\": \"Kore\", \"Algorithm\": \"X13\", \"ProofType\": \"PoW/PoS\", \"TotalCoinsMined\": 2022464.886973, \"TotalCoinSupply\": 12000000.0, \"PC 1\": 0.011827316614059533, \"PC 2\": -1.950241799547029, \"PC 3\": -0.36389435032892903, \"Class\": 0}, {\"CoinName\": \"Wild Beast Coin\", \"Algorithm\": \"Scrypt\", \"ProofType\": \"PoW\", \"TotalCoinsMined\": 181919.2435974, \"TotalCoinSupply\": 2628000.0, \"PC 1\": -0.32190558840685457, \"PC 2\": 1.0520869448000638, \"PC 3\": 0.017643369625984735, \"Class\": 1}, {\"CoinName\": \"Dnotes\", \"Algorithm\": \"Scrypt\", \"ProofType\": \"PoS\", \"TotalCoinsMined\": 174646113.934655, \"TotalCoinSupply\": 500000000.0, \"PC 1\": -0.043710834504147034, \"PC 2\": -0.8494435211984921, \"PC 3\": -0.1428677857569414, \"Class\": 0}, {\"CoinName\": \"Flo\", \"Algorithm\": \"Scrypt\", \"ProofType\": \"PoW\", \"TotalCoinsMined\": 152270664.860648, \"TotalCoinSupply\": 160000000.0, \"PC 1\": -0.31980561521335266, \"PC 2\": 1.0523646333253314, \"PC 3\": 0.017612822131957428, \"Class\": 1}, {\"CoinName\": \"MaieutiCoin\", \"Algorithm\": \"SHA-256\", \"ProofType\": \"PoS\", \"TotalCoinsMined\": 0.0, \"TotalCoinSupply\": 2014.0, \"PC 1\": 0.02735801103478129, \"PC 2\": -0.49801947445895806, \"PC 3\": -0.054587973879474616, \"Class\": 0}, {\"CoinName\": \"Sativa Coin\", \"Algorithm\": \"X13\", \"ProofType\": \"PoW/PoS\", \"TotalCoinsMined\": 7096834.0, \"TotalCoinSupply\": 10000000.0, \"PC 1\": 0.011897381237398912, \"PC 2\": -1.950232534516595, \"PC 3\": -0.36389536951280876, \"Class\": 0}, {\"CoinName\": \"AeroMe\", \"Algorithm\": \"X13\", \"ProofType\": \"PoW/PoS\", \"TotalCoinsMined\": 0.0, \"TotalCoinSupply\": 12000000.0, \"PC 1\": 0.011799391322929136, \"PC 2\": -1.9502454922527483, \"PC 3\": -0.36389394411604564, \"Class\": 0}, {\"CoinName\": \"ArtByte\", \"Algorithm\": \"Scrypt\", \"ProofType\": \"PoW\", \"TotalCoinsMined\": 792537250.0, \"TotalCoinSupply\": 1000000000.0, \"PC 1\": -0.3109651015926149, \"PC 2\": 1.0535336506001352, \"PC 3\": 0.017484222151238155, \"Class\": 1}, {\"CoinName\": \"MasterTraderCoin\", \"Algorithm\": \"X11\", \"ProofType\": \"PoW/PoS\", \"TotalCoinsMined\": 0.0, \"TotalCoinSupply\": 10110000.0, \"PC 1\": -0.13948112616759362, \"PC 2\": -1.4687680603080184, \"PC 3\": -0.31638350835516243, \"Class\": 0}, {\"CoinName\": \"BitCredit\", \"Algorithm\": \"Momentum\", \"ProofType\": \"PoW\", \"TotalCoinsMined\": 0.0, \"TotalCoinSupply\": 210000000.0, \"PC 1\": -0.36716188818247053, \"PC 2\": 2.0787985118756853, \"PC 3\": 0.2317273794157376, \"Class\": 1}, {\"CoinName\": \"Folding Coin\", \"Algorithm\": \"Stanford Folding\", \"ProofType\": \"PoW\", \"TotalCoinsMined\": 719416990.0, \"TotalCoinSupply\": 1000000000.0, \"PC 1\": -0.35792146916319517, \"PC 2\": 2.13471772541373, \"PC 3\": 0.19371274873661465, \"Class\": 1}, {\"CoinName\": \"Ucoin\", \"Algorithm\": \"X11\", \"ProofType\": \"PoS\", \"TotalCoinsMined\": 2689812.0, \"TotalCoinSupply\": 20000000.0, \"PC 1\": -0.01312300940817417, \"PC 2\": -1.1251214994945105, \"PC 3\": -0.15744141598905775, \"Class\": 0}, {\"CoinName\": \"OmniCron\", \"Algorithm\": \"Scrypt\", \"ProofType\": \"PoW\", \"TotalCoinsMined\": 10140044.443029301, \"TotalCoinSupply\": 3371337.0, \"PC 1\": -0.3217680910663741, \"PC 2\": 1.0521051267762718, \"PC 3\": 0.017641369530615875, \"Class\": 1}, {\"CoinName\": \"Vtorrent\", \"Algorithm\": \"Scrypt\", \"ProofType\": \"PoW/PoS\", \"TotalCoinsMined\": 11604722.0, \"TotalCoinSupply\": 20000000.0, \"PC 1\": -0.17228301353618633, \"PC 2\": -1.1933828535603794, \"PC 3\": -0.3017776702236717, \"Class\": 0}, {\"CoinName\": \"GreenCoin\", \"Algorithm\": \"Scrypt\", \"ProofType\": \"PoW\", \"TotalCoinsMined\": 4610340640.89, \"TotalCoinSupply\": 10000000000.0, \"PC 1\": -0.2582505916740488, \"PC 2\": 1.060504260344346, \"PC 3\": 0.016717391448347642, \"Class\": 1}, {\"CoinName\": \"Cryptonite\", \"Algorithm\": \"M7 POW\", \"ProofType\": \"PoW\", \"TotalCoinsMined\": 708506520.0, \"TotalCoinSupply\": 1840000000.0, \"PC 1\": -0.3909511983988225, \"PC 2\": 2.1194804143905075, \"PC 3\": 0.2892712572934196, \"Class\": 1}, {\"CoinName\": \"Gridmaster\", \"Algorithm\": \"Scrypt\", \"ProofType\": \"PoW\", \"TotalCoinsMined\": 0.0, \"TotalCoinSupply\": 84000000.0, \"PC 1\": -0.32190810038190215, \"PC 2\": 1.0520866117007437, \"PC 3\": 0.01764340595332381, \"Class\": 1}, {\"CoinName\": \"ConSpiracy Coin \", \"Algorithm\": \"X11\", \"ProofType\": \"PoW\", \"TotalCoinsMined\": 0.0, \"TotalCoinSupply\": 33000000.0, \"PC 1\": -0.28894598014084455, \"PC 2\": 0.7767225938435729, \"PC 3\": 0.003035237115473496, \"Class\": 1}, {\"CoinName\": \"MasterCoin\", \"Algorithm\": \"Scrypt\", \"ProofType\": \"PoW\", \"TotalCoinsMined\": 619478.0, \"TotalCoinSupply\": 619478.0, \"PC 1\": -0.32189954678828253, \"PC 2\": 1.0520877437374467, \"PC 3\": 0.01764328174734637, \"Class\": 1}, {\"CoinName\": \"SoonCoin\", \"Algorithm\": \"SHA-256\", \"ProofType\": \"PoW\", \"TotalCoinsMined\": 12462620.0, \"TotalCoinSupply\": 21000000.0, \"PC 1\": -0.24825574170122142, \"PC 2\": 1.4038522847660297, \"PC 3\": 0.1058856358322534, \"Class\": 1}, {\"CoinName\": \"1Credit\", \"Algorithm\": \"Scrypt\", \"ProofType\": \"PoW\", \"TotalCoinsMined\": 88213.0, \"TotalCoinSupply\": 92000000000.0, \"PC 1\": -0.3219070127845722, \"PC 2\": 1.0520857074254357, \"PC 3\": 0.01764314965314286, \"Class\": 1}, {\"CoinName\": \"Quicksilver coin\", \"Algorithm\": \"X11\", \"ProofType\": \"PoW\", \"TotalCoinsMined\": 0.0, \"TotalCoinSupply\": 33000000.0, \"PC 1\": -0.28894598014084455, \"PC 2\": 0.7767225938435729, \"PC 3\": 0.003035237115473496, \"Class\": 1}, {\"CoinName\": \"Nexus\", \"Algorithm\": \"SHA3\", \"ProofType\": \"PoW/nPoS\", \"TotalCoinsMined\": 63657220.0, \"TotalCoinSupply\": 78000000.0, \"PC 1\": 0.1843235378228481, \"PC 2\": -2.327254428160187, \"PC 3\": -0.8857150397111803, \"Class\": 0}, {\"CoinName\": \"MarsCoin \", \"Algorithm\": \"X11\", \"ProofType\": \"PoW\", \"TotalCoinsMined\": 32221574.820996, \"TotalCoinSupply\": 33000000.0, \"PC 1\": -0.28850107903855543, \"PC 2\": 0.7767814254180563, \"PC 3\": 0.003028765399250238, \"Class\": 1}, {\"CoinName\": \"Crypto\", \"Algorithm\": \"Lyra2RE\", \"ProofType\": \"PoW\", \"TotalCoinsMined\": 13742738.0, \"TotalCoinSupply\": 65789100.0, \"PC 1\": -0.4009509492254241, \"PC 2\": 2.0963514380946124, \"PC 3\": 0.23665890217071872, \"Class\": 1}, {\"CoinName\": \"Anarchists Prime\", \"Algorithm\": \"SHA-256\", \"ProofType\": \"PoW\", \"TotalCoinsMined\": 14747200.0002, \"TotalCoinSupply\": 53760000.0, \"PC 1\": -0.2482241972882506, \"PC 2\": 1.4038564556734006, \"PC 3\": 0.10588517688841052, \"Class\": 1}, {\"CoinName\": \"Droidz\", \"Algorithm\": \"QUAIT\", \"ProofType\": \"PoW/PoS\", \"TotalCoinsMined\": 8568038.35935056, \"TotalCoinSupply\": 5060000.0, \"PC 1\": -0.12150235516526627, \"PC 2\": -2.1839576753468455, \"PC 3\": -0.4382065719861002, \"Class\": 0}, {\"CoinName\": \"BowsCoin\", \"Algorithm\": \"X11\", \"ProofType\": \"PoW\", \"TotalCoinsMined\": 15863837.5, \"TotalCoinSupply\": 21000000.0, \"PC 1\": -0.28872693934665383, \"PC 2\": 0.7767515588778447, \"PC 3\": 0.0030320508884983124, \"Class\": 1}, {\"CoinName\": \"Song Coin\", \"Algorithm\": \"Scrypt\", \"ProofType\": \"PoW\", \"TotalCoinsMined\": 32565300.0, \"TotalCoinSupply\": 210240000.0, \"PC 1\": -0.3214584534550909, \"PC 2\": 1.052146069400675, \"PC 3\": 0.017636864872084428, \"Class\": 1}, {\"CoinName\": \"BitZeny\", \"Algorithm\": \"Scrypt\", \"ProofType\": \"PoW\", \"TotalCoinsMined\": 75614500.0, \"TotalCoinSupply\": 250000000.0, \"PC 1\": -0.3208640494006201, \"PC 2\": 1.052224670070617, \"PC 3\": 0.017628218319798706, \"Class\": 1}, {\"CoinName\": \"Diggits\", \"Algorithm\": \"Scrypt\", \"ProofType\": \"PoS\", \"TotalCoinsMined\": 100000000.0, \"TotalCoinSupply\": 100000000.0, \"PC 1\": -0.04474151411150743, \"PC 2\": -0.8495798087341739, \"PC 3\": -0.14285279201676182, \"Class\": 0}, {\"CoinName\": \"Expanse\", \"Algorithm\": \"Ethash\", \"ProofType\": \"PoW\", \"TotalCoinsMined\": 10495278.0, \"TotalCoinSupply\": 16906397.0, \"PC 1\": -0.34329367399992705, \"PC 2\": 2.023879868986496, \"PC 3\": 0.16039104520016564, \"Class\": 1}, {\"CoinName\": \"MapCoin\", \"Algorithm\": \"X11\", \"ProofType\": \"PoS\", \"TotalCoinsMined\": 0.0, \"TotalCoinSupply\": 2228921.184, \"PC 1\": -0.013160149104727905, \"PC 2\": -1.1251264104660914, \"PC 3\": -0.15744087569311122, \"Class\": 0}, {\"CoinName\": \"Paycon\", \"Algorithm\": \"X13\", \"ProofType\": \"PoW/PoS\", \"TotalCoinsMined\": 23042604.0, \"TotalCoinSupply\": 50000000.0, \"PC 1\": 0.012117553245150079, \"PC 2\": -1.9502034204890437, \"PC 3\": -0.36389857233093403, \"Class\": 0}, {\"CoinName\": \"Emercoin\", \"Algorithm\": \"SHA-256\", \"ProofType\": \"PoW/PoS\", \"TotalCoinsMined\": 43059794.804778, \"TotalCoinSupply\": 1000000000.0, \"PC 1\": -0.09836841703646783, \"PC 2\": -0.8415825153246296, \"PC 3\": -0.2135392576937759, \"Class\": 0}, {\"CoinName\": \"BlitzCoin\", \"Algorithm\": \"X13\", \"ProofType\": \"PoS\", \"TotalCoinsMined\": 0.0, \"TotalCoinSupply\": 3852156.0, \"PC 1\": 0.13812036838617353, \"PC 2\": -1.6066038424077298, \"PC 3\": -0.2049513114533019, \"Class\": 0}, {\"CoinName\": \"EverGreenCoin\", \"Algorithm\": \"X15\", \"ProofType\": \"PoW/PoS\", \"TotalCoinsMined\": 13530556.4180753, \"TotalCoinSupply\": 26298000.0, \"PC 1\": -0.004961630447594107, \"PC 2\": -2.062707491837541, \"PC 3\": -0.4366826062186798, \"Class\": 0}, {\"CoinName\": \"MindCoin\", \"Algorithm\": \"X11\", \"ProofType\": \"PoW\", \"TotalCoinsMined\": 15867695.0, \"TotalCoinSupply\": 16000000.0, \"PC 1\": -0.2887268860769242, \"PC 2\": 0.7767515659789906, \"PC 3\": 0.003032050126696154, \"Class\": 1}, {\"CoinName\": \"I0coin\", \"Algorithm\": \"SHA-256\", \"ProofType\": \"PoW\", \"TotalCoinsMined\": 20997476.865023103, \"TotalCoinSupply\": 21000000.0, \"PC 1\": -0.248137896212656, \"PC 2\": 1.4038678680846652, \"PC 3\": 0.10588392160282974, \"Class\": 1}, {\"CoinName\": \"Decred\", \"Algorithm\": \"BLAKE256\", \"ProofType\": \"PoW/PoS\", \"TotalCoinsMined\": 10365046.928166099, \"TotalCoinSupply\": 21000000.0, \"PC 1\": 0.07325842954489284, \"PC 2\": -1.0954372676029813, \"PC 3\": -0.2311365147550255, \"Class\": 0}, {\"CoinName\": \"DogeCoinDark\", \"Algorithm\": \"Scrypt\", \"ProofType\": \"PoW\", \"TotalCoinsMined\": 0.0, \"TotalCoinSupply\": 16500000000.0, \"PC 1\": -0.3219081236725519, \"PC 2\": 1.052086421433578, \"PC 3\": 0.017643363342990673, \"Class\": 1}, {\"CoinName\": \"Revolution VR\", \"Algorithm\": \"Scrypt\", \"ProofType\": \"PoW\", \"TotalCoinsMined\": 210000000.0, \"TotalCoinSupply\": 210000000.0, \"PC 1\": -0.3190085144293331, \"PC 2\": 1.0524700375157232, \"PC 3\": 0.01760122704206283, \"Class\": 1}, {\"CoinName\": \"HOdlcoin\", \"Algorithm\": \"1GB AES Pattern Search\", \"ProofType\": \"PoW\", \"TotalCoinsMined\": 11448949.0, \"TotalCoinSupply\": 81962100.0, \"PC 1\": -0.40493117587958727, \"PC 2\": 2.105389528760452, \"PC 3\": 0.24483194131862765, \"Class\": 1}, {\"CoinName\": \"EDRCoin\", \"Algorithm\": \"SHA-256\", \"ProofType\": \"PoW/PoS\", \"TotalCoinsMined\": 3669691.84494672, \"TotalCoinSupply\": 22000000.0, \"PC 1\": -0.09891229658344725, \"PC 2\": -0.8416544241790503, \"PC 3\": -0.21353134363724707, \"Class\": 0}, {\"CoinName\": \"Hitcoin\", \"Algorithm\": \"X11\", \"ProofType\": \"PoW/PoS\", \"TotalCoinsMined\": 10996318099.0, \"TotalCoinSupply\": 26550000000.0, \"PC 1\": 0.012351081204914068, \"PC 2\": -1.4486908046396838, \"PC 3\": -0.31859219214325957, \"Class\": 0}, {\"CoinName\": \"Gamecredits\", \"Algorithm\": \"Scrypt\", \"ProofType\": \"PoW\", \"TotalCoinsMined\": 69836100.0, \"TotalCoinSupply\": 84000000.0, \"PC 1\": -0.32094383472939486, \"PC 2\": 1.0522141215366725, \"PC 3\": 0.017629379344635234, \"Class\": 1}, {\"CoinName\": \"Dashcoin\", \"Algorithm\": \"CryptoNight\", \"ProofType\": \"PoW\", \"TotalCoinsMined\": 0.0, \"TotalCoinSupply\": 18446744.0, \"PC 1\": -0.2072343041533993, \"PC 2\": 2.2399232400548086, \"PC 3\": 0.221003146879109, \"Class\": 1}, {\"CoinName\": \"DubaiCoin\", \"Algorithm\": \"SHA-256\", \"ProofType\": \"PoW/PoS\", \"TotalCoinsMined\": 5129014.0, \"TotalCoinSupply\": 10500000.0, \"PC 1\": -0.09889214689912201, \"PC 2\": -0.8416517595509144, \"PC 3\": -0.213531636712837, \"Class\": 0}, {\"CoinName\": \"BiosCrypto\", \"Algorithm\": \"Quark\", \"ProofType\": \"PoW/PoS\", \"TotalCoinsMined\": 0.0, \"TotalCoinSupply\": 20190463.54969237, \"PC 1\": 0.07445103045564475, \"PC 2\": -1.751948722922419, \"PC 3\": -0.2719145117139485, \"Class\": 0}, {\"CoinName\": \"CarpeDiemCoin\", \"Algorithm\": \"SHA-256\", \"ProofType\": \"PoW\", \"TotalCoinsMined\": 21739971929.0, \"TotalCoinSupply\": 21626280000.0, \"PC 1\": 0.05174796412582614, \"PC 2\": 1.4435230805189665, \"PC 3\": 0.10152160079508768, \"Class\": 1}, {\"CoinName\": \"TrumpCoin\", \"Algorithm\": \"Blake\", \"ProofType\": \"PoS\", \"TotalCoinsMined\": 0.0, \"TotalCoinSupply\": 12000000.0, \"PC 1\": -0.038172596890780466, \"PC 2\": -0.17493042607236023, \"PC 3\": 0.027856442371338237, \"Class\": 0}, {\"CoinName\": \"BillaryCoin\", \"Algorithm\": \"Scrypt\", \"ProofType\": \"PoW/PoS\", \"TotalCoinsMined\": 8998743.2411911, \"TotalCoinSupply\": 42000000.0, \"PC 1\": -0.172318995757245, \"PC 2\": -1.1933876119264868, \"PC 3\": -0.3017771468688975, \"Class\": 0}, {\"CoinName\": \"EthereumScrypt\", \"Algorithm\": \"Scrypt\", \"ProofType\": \"PoW/PoS\", \"TotalCoinsMined\": 0.0, \"TotalCoinSupply\": 4200000.0, \"PC 1\": -0.1724432463279084, \"PC 2\": -1.1934040417912415, \"PC 3\": -0.30177533936959305, \"Class\": 0}, {\"CoinName\": \"Phalanx\", \"Algorithm\": \"SHA-256\", \"ProofType\": \"PoW\", \"TotalCoinsMined\": 0.0, \"TotalCoinSupply\": 15000000.0, \"PC 1\": -0.2484278199789569, \"PC 2\": 1.4038295300335222, \"PC 3\": 0.10588813897005167, \"Class\": 1}, {\"CoinName\": \"SunShotCoin\", \"Algorithm\": \"X11\", \"ProofType\": \"PoW\", \"TotalCoinsMined\": 0.0, \"TotalCoinSupply\": 2250000000.0, \"PC 1\": -0.28894598328627413, \"PC 2\": 0.7767225681477696, \"PC 3\": 0.003035231360898183, \"Class\": 1}, {\"CoinName\": \"GPU Coin\", \"Algorithm\": \"Scrypt\", \"ProofType\": \"PoS\", \"TotalCoinsMined\": 40477042.0, \"TotalCoinSupply\": 221052632.0, \"PC 1\": -0.04556338068093421, \"PC 2\": -0.8496884897829662, \"PC 3\": -0.14284083712099066, \"Class\": 0}, {\"CoinName\": \"HempCoin\", \"Algorithm\": \"Scrypt-n\", \"ProofType\": \"PoW\", \"TotalCoinsMined\": 0.0, \"TotalCoinSupply\": 5000000000.0, \"PC 1\": -0.3681096666068969, \"PC 2\": 2.150421655939297, \"PC 3\": 0.23144780186894498, \"Class\": 1}, {\"CoinName\": \"Adzcoin\", \"Algorithm\": \"X11\", \"ProofType\": \"PoW\", \"TotalCoinsMined\": 45110324.0, \"TotalCoinSupply\": 84000000.0, \"PC 1\": -0.28832311702343827, \"PC 2\": 0.7768049576744749, \"PC 3\": 0.0030261765564307194, \"Class\": 1}, {\"CoinName\": \"VirtaCoin\", \"Algorithm\": \"Scrypt\", \"ProofType\": \"PoW\", \"TotalCoinsMined\": 0.0, \"TotalCoinSupply\": 21000000000.0, \"PC 1\": -0.3219081300570503, \"PC 2\": 1.0520863692770084, \"PC 3\": 0.017643351662526608, \"Class\": 1}, {\"CoinName\": \"SoilCoin\", \"Algorithm\": \"Dagger\", \"ProofType\": \"PoW\", \"TotalCoinsMined\": 5702048.0, \"TotalCoinSupply\": 30000000.0, \"PC 1\": -0.36377870757445796, \"PC 2\": 2.141016224982298, \"PC 3\": 0.16638593156526674, \"Class\": 1}, {\"CoinName\": \"YoCoin\", \"Algorithm\": \"Scrypt\", \"ProofType\": \"PoW\", \"TotalCoinsMined\": 636462.55983338, \"TotalCoinSupply\": 168351300.0, \"PC 1\": -0.3218993125110465, \"PC 2\": 1.052087772804536, \"PC 3\": 0.017643277900616212, \"Class\": 1}, {\"CoinName\": \"Universal Currency\", \"Algorithm\": \"SHA-256\", \"ProofType\": \"PoW/PoS\", \"TotalCoinsMined\": 0.0, \"TotalCoinSupply\": 210000000.0, \"PC 1\": -0.09896296631484358, \"PC 2\": -0.8416611266434908, \"PC 3\": -0.21353060706615254, \"Class\": 0}, {\"CoinName\": \"AEON\", \"Algorithm\": \"CryptoNight-Lite\", \"ProofType\": \"PoW\", \"TotalCoinsMined\": 0.0, \"TotalCoinSupply\": 18400000.0, \"PC 1\": -0.39618488721667855, \"PC 2\": 2.111670865111894, \"PC 3\": 0.17141568734971246, \"Class\": 1}, {\"CoinName\": \"SibCoin\", \"Algorithm\": \"X11GOST\", \"ProofType\": \"PoW\", \"TotalCoinsMined\": 17263355.0, \"TotalCoinSupply\": 24000000.0, \"PC 1\": -0.3372847634087932, \"PC 2\": 2.1178904535816163, \"PC 3\": 0.2532965551566759, \"Class\": 1}, {\"CoinName\": \"EuropeCoin\", \"Algorithm\": \"X11\", \"ProofType\": \"PoW/PoS\", \"TotalCoinsMined\": 10407269.788186802, \"TotalCoinSupply\": 384000000.0, \"PC 1\": -0.13933742776880856, \"PC 2\": -1.4687490625886823, \"PC 3\": -0.31638559962996365, \"Class\": 0}, {\"CoinName\": \"Anti Bitcoin\", \"Algorithm\": \"SHA-256\", \"ProofType\": \"PoW\", \"TotalCoinsMined\": 0.0, \"TotalCoinSupply\": 42000000.0, \"PC 1\": -0.24842782001726388, \"PC 2\": 1.4038295297205827, \"PC 3\": 0.10588813889996887, \"Class\": 1}, {\"CoinName\": \"ZeitCoin\", \"Algorithm\": \"Scrypt\", \"ProofType\": \"PoS\", \"TotalCoinsMined\": 36971236046.8073, \"TotalCoinSupply\": 99000000000.0, \"PC 1\": 0.4643598916975969, \"PC 2\": -0.782259823701951, \"PC 3\": -0.15025865127241525, \"Class\": 0}, {\"CoinName\": \"SwingCoin\", \"Algorithm\": \"SHA-256\", \"ProofType\": \"PoW/PoS\", \"TotalCoinsMined\": 4377081.60953993, \"TotalCoinSupply\": 40000000.0, \"PC 1\": -0.09890252928731455, \"PC 2\": -0.8416531328042002, \"PC 3\": -0.21353148576348682, \"Class\": 0}, {\"CoinName\": \"SafeExchangeCoin\", \"Algorithm\": \"Scrypt\", \"ProofType\": \"PoC\", \"TotalCoinsMined\": 2147483647.0, \"TotalCoinSupply\": 2147483647.0, \"PC 1\": 0.46565625781861086, \"PC 2\": -0.506338990493449, \"PC 3\": -0.5472820003154064, \"Class\": 0}, {\"CoinName\": \"Nebuchadnezzar\", \"Algorithm\": \"PoS\", \"ProofType\": \"PoS\", \"TotalCoinsMined\": 20000000.0, \"TotalCoinSupply\": 20000000.0, \"PC 1\": 0.16058005509474532, \"PC 2\": -1.5490732861310113, \"PC 3\": -0.11344935096746299, \"Class\": 0}, {\"CoinName\": \"Francs\", \"Algorithm\": \"Scrypt\", \"ProofType\": \"PoW\", \"TotalCoinsMined\": 6570807.65677618, \"TotalCoinSupply\": 20000000.0, \"PC 1\": -0.321817373516085, \"PC 2\": 1.0520986097133678, \"PC 3\": 0.017642086370093152, \"Class\": 1}, {\"CoinName\": \"BolivarCoin\", \"Algorithm\": \"X11\", \"ProofType\": \"PoW\", \"TotalCoinsMined\": 13654082.4987998, \"TotalCoinSupply\": 25000000.0, \"PC 1\": -0.28875745066163916, \"PC 2\": 0.7767475241632008, \"PC 3\": 0.0030324947082937268, \"Class\": 1}, {\"CoinName\": \"GIZMOcoin\", \"Algorithm\": \"X11\", \"ProofType\": \"PoW/PoS\", \"TotalCoinsMined\": 0.0, \"TotalCoinSupply\": 100000.0, \"PC 1\": -0.13948112615339178, \"PC 2\": -1.4687680601919997, \"PC 3\": -0.31638350832917994, \"Class\": 0}, {\"CoinName\": \"SecretCoin\", \"Algorithm\": \"X11\", \"ProofType\": \"PoW/PoS\", \"TotalCoinsMined\": 0.0, \"TotalCoinSupply\": 21000000.0, \"PC 1\": -0.13948112618304437, \"PC 2\": -1.4687680604342381, \"PC 3\": -0.3163835083834291, \"Class\": 0}, {\"CoinName\": \"Ratecoin\", \"Algorithm\": \"X11\", \"ProofType\": \"PoW/PoS\", \"TotalCoinsMined\": 134554941.15118998, \"TotalCoinSupply\": 75000000.0, \"PC 1\": -0.13762325177744583, \"PC 2\": -1.4685223847054865, \"PC 3\": -0.3164105339374805, \"Class\": 0}, {\"CoinName\": \"Digital Bullion Gold\", \"Algorithm\": \"PoS\", \"ProofType\": \"PoS\", \"TotalCoinsMined\": 0.0, \"TotalCoinSupply\": 15000000.0, \"PC 1\": 0.1603039040417122, \"PC 2\": -1.5491098029564272, \"PC 3\": -0.11344533394646486, \"Class\": 0}, {\"CoinName\": \"Revenu\", \"Algorithm\": \"SHA-256\", \"ProofType\": \"PoW/PoS\", \"TotalCoinsMined\": 1195525.0, \"TotalCoinSupply\": 222725000.0, \"PC 1\": -0.09894645905808962, \"PC 2\": -0.8416589439486285, \"PC 3\": -0.2135308472208578, \"Class\": 0}, {\"CoinName\": \"Clinton\", \"Algorithm\": \"SHA-256\", \"ProofType\": \"PoW\", \"TotalCoinsMined\": 0.0, \"TotalCoinSupply\": 2421227.0, \"PC 1\": -0.24842781996111044, \"PC 2\": 1.4038295301793144, \"PC 3\": 0.10588813900270191, \"Class\": 1}, {\"CoinName\": \"Clockcoin\", \"Algorithm\": \"SHA-256\", \"ProofType\": \"PoW/PoS\", \"TotalCoinsMined\": 16662820.0, \"TotalCoinSupply\": 525000000.0, \"PC 1\": -0.09873289399137294, \"PC 2\": -0.8416307065817242, \"PC 3\": -0.21353395461786365, \"Class\": 0}, {\"CoinName\": \"VIP Tokens\", \"Algorithm\": \"NIST5\", \"ProofType\": \"PoW/PoS\", \"TotalCoinsMined\": 83450403.0, \"TotalCoinSupply\": 90000000.0, \"PC 1\": -0.09320164821267375, \"PC 2\": -1.7823738478137183, \"PC 3\": -0.3356016359799935, \"Class\": 0}, {\"CoinName\": \"OrlyCoin\", \"Algorithm\": \"X15\", \"ProofType\": \"PoW/PoS\", \"TotalCoinsMined\": 0.0, \"TotalCoinSupply\": 36000000.0, \"PC 1\": -0.005148454336307397, \"PC 2\": -2.0627321966375205, \"PC 3\": -0.4366798886261813, \"Class\": 0}, {\"CoinName\": \"BitSend\", \"Algorithm\": \"X11\", \"ProofType\": \"PoW/PoS\", \"TotalCoinsMined\": 24387724.5010828, \"TotalCoinSupply\": 139000000.0, \"PC 1\": -0.13914439155170705, \"PC 2\": -1.4687235336173385, \"PC 3\": -0.3163884069739625, \"Class\": 0}, {\"CoinName\": \"16BitCoin\", \"Algorithm\": \"NIST5\", \"ProofType\": \"PoW/PoS\", \"TotalCoinsMined\": 0.0, \"TotalCoinSupply\": 16000000.0, \"PC 1\": -0.09435389397050871, \"PC 2\": -1.7825262143877012, \"PC 3\": -0.3355848747410093, \"Class\": 0}, {\"CoinName\": \"ChessCoin\", \"Algorithm\": \"Scrypt\", \"ProofType\": \"PoW/PoS\", \"TotalCoinsMined\": 0.0, \"TotalCoinSupply\": 74666667.0, \"PC 1\": -0.1724432464278854, \"PC 2\": -1.1934040426079746, \"PC 3\": -0.3017753395525009, \"Class\": 0}, {\"CoinName\": \"ReeCoin\", \"Algorithm\": \"Scrypt\", \"ProofType\": \"PoW/PoS\", \"TotalCoinsMined\": 0.0, \"TotalCoinSupply\": 350000000.0, \"PC 1\": -0.17244324681852177, \"PC 2\": -1.193404045799184, \"PC 3\": -0.3017753402671722, \"Class\": 0}, {\"CoinName\": \"Omni\", \"Algorithm\": \"Scrypt\", \"ProofType\": \"PoW\", \"TotalCoinsMined\": 616448.0, \"TotalCoinSupply\": 616448.0, \"PC 1\": -0.32189958862516377, \"PC 2\": 1.052087738205174, \"PC 3\": 0.017643282355930864, \"Class\": 1}, {\"CoinName\": \"Let it Ride\", \"Algorithm\": \"POS 3.0\", \"ProofType\": \"PoS\", \"TotalCoinsMined\": 38589808.6658096, \"TotalCoinSupply\": 33500000.0, \"PC 1\": 0.13275051874329774, \"PC 2\": -1.4950178828388199, \"PC 3\": -0.1159055006458257, \"Class\": 0}, {\"CoinName\": \"PutinCoin\", \"Algorithm\": \"Scrypt\", \"ProofType\": \"PoW/PoS\", \"TotalCoinsMined\": 813092338.575672, \"TotalCoinSupply\": 2000000000.0, \"PC 1\": -0.16121643359555832, \"PC 2\": -1.191919485018501, \"PC 3\": -0.30193865447225404, \"Class\": 0}, {\"CoinName\": \"iBankCoin\", \"Algorithm\": \"Scrypt\", \"ProofType\": \"PoW/PoS\", \"TotalCoinsMined\": 4526324.0, \"TotalCoinSupply\": 44333333.0, \"PC 1\": -0.1723807489262949, \"PC 2\": -1.1933957778941209, \"PC 3\": -0.30177624858775637, \"Class\": 0}, {\"CoinName\": \"Frankywillcoin\", \"Algorithm\": \"Scrypt\", \"ProofType\": \"PoW/PoS\", \"TotalCoinsMined\": 100000000.0, \"TotalCoinSupply\": 100000000.0, \"PC 1\": -0.17106249116319183, \"PC 2\": -1.1932214584847567, \"PC 3\": -0.3017954246583565, \"Class\": 0}, {\"CoinName\": \"MudraCoin\", \"Algorithm\": \"X13\", \"ProofType\": \"PoS\", \"TotalCoinsMined\": 5000000.0, \"TotalCoinSupply\": 200000000.0, \"PC 1\": 0.13818940587291553, \"PC 2\": -1.6065947154603097, \"PC 3\": -0.20495231621443946, \"Class\": 0}, {\"CoinName\": \"PizzaCoin\", \"Algorithm\": \"X11\", \"ProofType\": \"PoW\", \"TotalCoinsMined\": 1377917.0, \"TotalCoinSupply\": 25000000.0, \"PC 1\": -0.28892695446747874, \"PC 2\": 0.7767251097980145, \"PC 3\": 0.0030349603810567965, \"Class\": 1}, {\"CoinName\": \"Lutetium Coin\", \"Algorithm\": \"X11\", \"ProofType\": \"PoS\", \"TotalCoinsMined\": 657000000.0, \"TotalCoinSupply\": 657000000.0, \"PC 1\": -0.004088587708526031, \"PC 2\": -1.123926838436479, \"PC 3\": -0.1575728361061241, \"Class\": 0}, {\"CoinName\": \"Komodo\", \"Algorithm\": \"Equihash\", \"ProofType\": \"dPoW/PoW\", \"TotalCoinsMined\": 115898131.0, \"TotalCoinSupply\": 200000000.0, \"PC 1\": -0.23442953023049773, \"PC 2\": 1.1888281663127669, \"PC 3\": 0.013236829463575092, \"Class\": 1}, {\"CoinName\": \"GoldBlocks\", \"Algorithm\": \"X11\", \"ProofType\": \"PoW/PoS\", \"TotalCoinsMined\": 15563873.0, \"TotalCoinSupply\": 50000000.0, \"PC 1\": -0.13926622722275728, \"PC 2\": -1.468739643563603, \"PC 3\": -0.31638663446883636, \"Class\": 0}, {\"CoinName\": \"WayCoin\", \"Algorithm\": \"X11\", \"ProofType\": \"PoS\", \"TotalCoinsMined\": 0.0, \"TotalCoinSupply\": 100000000.0, \"PC 1\": -0.013160149243443341, \"PC 2\": -1.1251264115992923, \"PC 3\": -0.15744087594689157, \"Class\": 0}, {\"CoinName\": \"CarterCoin\", \"Algorithm\": \"Scrypt\", \"ProofType\": \"PoW/PoS\", \"TotalCoinsMined\": 43165500.0, \"TotalCoinSupply\": 90000000.0, \"PC 1\": -0.17184723652034373, \"PC 2\": -1.193325229309242, \"PC 3\": -0.30178400940028477, \"Class\": 0}, {\"CoinName\": \"Karbo\", \"Algorithm\": \"CryptoNight\", \"ProofType\": \"PoW\", \"TotalCoinsMined\": 7822432.72439746, \"TotalCoinSupply\": 10000000.0, \"PC 1\": -0.20712629548693423, \"PC 2\": 2.239937522695882, \"PC 3\": 0.22100157576228444, \"Class\": 1}, {\"CoinName\": \"BitTokens\", \"Algorithm\": \"SHA-256\", \"ProofType\": \"PoW/PoS\", \"TotalCoinsMined\": 595429.0, \"TotalCoinSupply\": 21000000.0, \"PC 1\": -0.09895474462921565, \"PC 2\": -0.8416600372923477, \"PC 3\": -0.2135307261677261, \"Class\": 0}, {\"CoinName\": \"ZayedCoin\", \"Algorithm\": \"SHA-256\", \"ProofType\": \"PoW\", \"TotalCoinsMined\": 6243840.0, \"TotalCoinSupply\": 9736000.0, \"PC 1\": -0.2483416078197253, \"PC 2\": 1.4038409303733863, \"PC 3\": 0.10588688490594744, \"Class\": 1}, {\"CoinName\": \"MustangCoin\", \"Algorithm\": \"X11\", \"ProofType\": \"PoW/PoS\", \"TotalCoinsMined\": 657636.34549789, \"TotalCoinSupply\": 3000000.0, \"PC 1\": -0.13947204580880687, \"PC 2\": -1.4687668594841248, \"PC 3\": -0.31638364042323125, \"Class\": 0}, {\"CoinName\": \"ZoneCoin\", \"Algorithm\": \"Scrypt\", \"ProofType\": \"PoW/PoS\", \"TotalCoinsMined\": 2581970.0, \"TotalCoinSupply\": 21000000.0, \"PC 1\": -0.17240759566410827, \"PC 2\": -1.1933993277110917, \"PC 3\": -0.3017758580029103, \"Class\": 0}, {\"CoinName\": \"Circuits of Value\", \"Algorithm\": \"Multiple\", \"ProofType\": \"PoW\", \"TotalCoinsMined\": 1000000000.0, \"TotalCoinSupply\": 1200000000.0, \"PC 1\": -0.2784255410119373, \"PC 2\": 1.7414786466328964, \"PC 3\": 0.17509581016623918, \"Class\": 1}, {\"CoinName\": \"DopeCoin\", \"Algorithm\": \"Scrypt\", \"ProofType\": \"PoW\", \"TotalCoinsMined\": 116845228.0, \"TotalCoinSupply\": 200000000.0, \"PC 1\": -0.3202947538673303, \"PC 2\": 1.052299951534412, \"PC 3\": 0.01761993724132981, \"Class\": 1}, {\"CoinName\": \"PROUD Money\", \"Algorithm\": \"X11\", \"ProofType\": \"PoW/PoS\", \"TotalCoinsMined\": 0.0, \"TotalCoinSupply\": 10000000000.0, \"PC 1\": -0.13948114034102385, \"PC 2\": -1.4687681760943279, \"PC 3\": -0.31638353428550714, \"Class\": 0}, {\"CoinName\": \"DollarCoin\", \"Algorithm\": \"SHA-256\", \"ProofType\": \"PoW\", \"TotalCoinsMined\": 9106714.0, \"TotalCoinSupply\": 10638298.0, \"PC 1\": -0.24830207853649994, \"PC 2\": 1.4038461575247259, \"PC 3\": 0.10588630989421446, \"Class\": 1}, {\"CoinName\": \"Swiscoin\", \"Algorithm\": \"Scrypt\", \"ProofType\": \"PoW/PoW\", \"TotalCoinsMined\": 665200057.0, \"TotalCoinSupply\": 3100000000.0, \"PC 1\": -0.1346796823125585, \"PC 2\": -0.3846663865672977, \"PC 3\": -0.10777979511498297, \"Class\": 0}, {\"CoinName\": \"Shilling\", \"Algorithm\": \"Scrypt\", \"ProofType\": \"PoW\", \"TotalCoinsMined\": 11119200.0, \"TotalCoinSupply\": 30000000.0, \"PC 1\": -0.3217545713618999, \"PC 2\": 1.0521069142530997, \"PC 3\": 0.017641172797710533, \"Class\": 1}, {\"CoinName\": \"BuzzCoin\", \"Algorithm\": \"SHA-256D\", \"ProofType\": \"PoW/PoS\", \"TotalCoinsMined\": 19577787259.0, \"TotalCoinSupply\": 20000000000.0, \"PC 1\": 0.2043712063064096, \"PC 2\": -2.1236175676863294, \"PC 3\": -0.4721610460585837, \"Class\": 0}, {\"CoinName\": \"Opair\", \"Algorithm\": \"PoS\", \"ProofType\": \"PoS\", \"TotalCoinsMined\": 74033806.79496829, \"TotalCoinSupply\": 74000000.0, \"PC 1\": 0.16132612966958787, \"PC 2\": -1.5489746294458575, \"PC 3\": -0.11346020381939051, \"Class\": 0}, {\"CoinName\": \"GBR Coin\", \"Algorithm\": \"Scrypt\", \"ProofType\": \"PoW\", \"TotalCoinsMined\": 0.0, \"TotalCoinSupply\": 87500000.0, \"PC 1\": -0.32190810038686785, \"PC 2\": 1.0520866116601775, \"PC 3\": 0.01764340594423896, \"Class\": 1}, {\"CoinName\": \"Halloween Coin\", \"Algorithm\": \"X11\", \"ProofType\": \"PoW/PoS\", \"TotalCoinsMined\": 264678458.28861898, \"TotalCoinSupply\": 1500000000.0, \"PC 1\": -0.13582656643895513, \"PC 2\": -1.4682848159567965, \"PC 3\": -0.3164366729968892, \"Class\": 0}, {\"CoinName\": \"FujiCoin\", \"Algorithm\": \"Scrypt-n\", \"ProofType\": \"PoW\", \"TotalCoinsMined\": 0.0, \"TotalCoinSupply\": 10000000.0, \"PC 1\": -0.3681096595271978, \"PC 2\": 2.150421713775137, \"PC 3\": 0.23144781482128174, \"Class\": 1}, {\"CoinName\": \"ZCoin\", \"Algorithm\": \"Lyra2Z\", \"ProofType\": \"PoW\", \"TotalCoinsMined\": 7568281.24956067, \"TotalCoinSupply\": 21400000.0, \"PC 1\": -0.3471421802347966, \"PC 2\": 2.1650546190973072, \"PC 3\": 0.21245446199669576, \"Class\": 1}, {\"CoinName\": \"LeaCoin\", \"Algorithm\": \"SHA-256\", \"ProofType\": \"PoW\", \"TotalCoinsMined\": 0.0, \"TotalCoinSupply\": 2000000000.0, \"PC 1\": -0.2484278227952301, \"PC 2\": 1.4038295070266797, \"PC 3\": 0.10588813381766911, \"Class\": 1}, {\"CoinName\": \"CoffeeCoin\", \"Algorithm\": \"PoS\", \"ProofType\": \"PoS\", \"TotalCoinsMined\": 148716816.0, \"TotalCoinSupply\": 39999898.0, \"PC 1\": 0.16235731932609937, \"PC 2\": -1.5488382695149483, \"PC 3\": -0.11347520384348386, \"Class\": 0}, {\"CoinName\": \"RoyalCoin\", \"Algorithm\": \"X13\", \"ProofType\": \"PoS\", \"TotalCoinsMined\": 2500124.0, \"TotalCoinSupply\": 2500124.0, \"PC 1\": 0.1381548889827441, \"PC 2\": -1.6065992775552336, \"PC 3\": -0.20495181360070042, \"Class\": 0}, {\"CoinName\": \"Zurcoin\", \"Algorithm\": \"Quark\", \"ProofType\": \"PoW\", \"TotalCoinsMined\": 0.0, \"TotalCoinSupply\": 126000000.0, \"PC 1\": -0.07501382363525068, \"PC 2\": 0.4935419302681065, \"PC 3\": 0.04750423354145659, \"Class\": 1}, {\"CoinName\": \"GanjaCoin V2\", \"Algorithm\": \"X14\", \"ProofType\": \"PoW/PoS\", \"TotalCoinsMined\": 100000000.0, \"TotalCoinSupply\": 100000000.0, \"PC 1\": -0.11173644530607584, \"PC 2\": -2.0917756867815838, \"PC 3\": -0.4414774623489506, \"Class\": 0}, {\"CoinName\": \"TeamUP\", \"Algorithm\": \"PoS\", \"ProofType\": \"PoS\", \"TotalCoinsMined\": 17818682.1654, \"TotalCoinSupply\": 301000000.0, \"PC 1\": 0.16054993603444404, \"PC 2\": -1.5490772721343464, \"PC 3\": -0.11344891357828163, \"Class\": 0}, {\"CoinName\": \"LanaCoin\", \"Algorithm\": \"SHA-256D\", \"ProofType\": \"PoW/PoS\", \"TotalCoinsMined\": 1082162635.5368302, \"TotalCoinSupply\": 7506000000.0, \"PC 1\": -0.0510080933415334, \"PC 2\": -2.1573875512361553, \"PC 3\": -0.46844616000623585, \"Class\": 0}, {\"CoinName\": \"Elementrem\", \"Algorithm\": \"Ethash\", \"ProofType\": \"PoW\", \"TotalCoinsMined\": 26205539.0, \"TotalCoinSupply\": 26205539.0, \"PC 1\": -0.34307675375161906, \"PC 2\": 2.0239085533671464, \"PC 3\": 0.1603878897638069, \"Class\": 1}, {\"CoinName\": \"CashOut\", \"Algorithm\": \"SHA-256\", \"ProofType\": \"PoW\", \"TotalCoinsMined\": 0.0, \"TotalCoinSupply\": 100000000.0, \"PC 1\": -0.24842782009955292, \"PC 2\": 1.403829529048342, \"PC 3\": 0.10588813874942068, \"Class\": 1}, {\"CoinName\": \"ZClassic\", \"Algorithm\": \"Equihash\", \"ProofType\": \"PoW\", \"TotalCoinsMined\": 5613550.0, \"TotalCoinSupply\": 21000000.0, \"PC 1\": -0.3442273066772329, \"PC 2\": 1.9198348753399601, \"PC 3\": 0.15927261094053694, \"Class\": 1}, {\"CoinName\": \"ARK\", \"Algorithm\": \"DPoS\", \"ProofType\": \"DPoS\", \"TotalCoinsMined\": 108202084.0, \"TotalCoinSupply\": 125000000.0, \"PC 1\": 6.89696087729436, \"PC 2\": -0.08336943287239026, \"PC 3\": 0.035958274740700444, \"Class\": 0}, {\"CoinName\": \"InsaneCoin\", \"Algorithm\": \"X11\", \"ProofType\": \"PoW/PoS\", \"TotalCoinsMined\": 18342813.0, \"TotalCoinSupply\": 30000000.0, \"PC 1\": -0.13922785683303018, \"PC 2\": -1.468734569420403, \"PC 3\": -0.31638719256813647, \"Class\": 0}, {\"CoinName\": \"LuckChain\", \"Algorithm\": \"Scrypt\", \"ProofType\": \"PoW/PoS\", \"TotalCoinsMined\": 0.0, \"TotalCoinSupply\": 1000000000.0, \"PC 1\": -0.17244324774072728, \"PC 2\": -1.1934040533329102, \"PC 3\": -0.30177534195435035, \"Class\": 0}, {\"CoinName\": \"KiloCoin\", \"Algorithm\": \"Scrypt\", \"ProofType\": \"PoW\", \"TotalCoinsMined\": 196297971.0, \"TotalCoinSupply\": 10000000000.0, \"PC 1\": -0.31919771981087625, \"PC 2\": 1.0524449062764636, \"PC 3\": 0.017603953688583196, \"Class\": 1}, {\"CoinName\": \"Hush\", \"Algorithm\": \"Equihash\", \"ProofType\": \"PoW\", \"TotalCoinsMined\": 0.0, \"TotalCoinSupply\": 21000000.0, \"PC 1\": -0.34430481606641156, \"PC 2\": 1.9198246258724285, \"PC 3\": 0.1592737384243055, \"Class\": 1}, {\"CoinName\": \"ArtexCoin\", \"Algorithm\": \"X11\", \"ProofType\": \"PoW\", \"TotalCoinsMined\": 824000000.0, \"TotalCoinSupply\": 500000000.0, \"PC 1\": -0.2775685571261755, \"PC 2\": 0.7782270840256408, \"PC 3\": 0.002869735172884946, \"Class\": 1}, {\"CoinName\": \"EmberCoin\", \"Algorithm\": \"X13\", \"ProofType\": \"PoW/PoS\", \"TotalCoinsMined\": 92192822723.0, \"TotalCoinSupply\": 850000000.0, \"PC 1\": 1.2847566766874807, \"PC 2\": -1.7819157742284495, \"PC 3\": -0.38241091170354785, \"Class\": 0}, {\"CoinName\": \"XenixCoin\", \"Algorithm\": \"X11\", \"ProofType\": \"PoW/PoS\", \"TotalCoinsMined\": 3853326.77707314, \"TotalCoinSupply\": 3853326.77707314, \"PC 1\": -0.13942792114499175, \"PC 2\": -1.468761024661277, \"PC 3\": -0.31638428228115084, \"Class\": 0}, {\"CoinName\": \"FreeCoin\", \"Algorithm\": \"PoS\", \"ProofType\": \"PoS\", \"TotalCoinsMined\": 50000000.0, \"TotalCoinSupply\": 50000000.0, \"PC 1\": 0.16099428164237287, \"PC 2\": -1.5490185111536692, \"PC 3\": -0.11345537655736261, \"Class\": 0}, {\"CoinName\": \"NPCcoin\", \"Algorithm\": \"SHA-256D\", \"ProofType\": \"PoW/PoS\", \"TotalCoinsMined\": 0.0, \"TotalCoinSupply\": 7000000000.0, \"PC 1\": -0.06595011057530528, \"PC 2\": -2.1593634057087923, \"PC 3\": -0.4682288058935479, \"Class\": 0}, {\"CoinName\": \"PLNCoin\", \"Algorithm\": \"Scrypt\", \"ProofType\": \"PoW/PoS\", \"TotalCoinsMined\": 17089600.0, \"TotalCoinSupply\": 38540000.0, \"PC 1\": -0.17220728081877204, \"PC 2\": -1.1933728392427534, \"PC 3\": -0.3017787719117411, \"Class\": 0}, {\"CoinName\": \"Icobid\", \"Algorithm\": \"Scrypt\", \"ProofType\": \"PoW/PoS\", \"TotalCoinsMined\": 0.0, \"TotalCoinSupply\": 200000000.0, \"PC 1\": -0.17244324660570517, \"PC 2\": -1.1934040440606313, \"PC 3\": -0.3017753398778234, \"Class\": 0}, {\"CoinName\": \"AquariusCoin\", \"Algorithm\": \"Scrypt\", \"ProofType\": \"PoW/PoS\", \"TotalCoinsMined\": 2449577.41533168, \"TotalCoinSupply\": 42000000.0, \"PC 1\": -0.17240942371153298, \"PC 2\": -1.1933995696827178, \"PC 3\": -0.3017758314663153, \"Class\": 0}, {\"CoinName\": \"Kurrent\", \"Algorithm\": \"X11\", \"ProofType\": \"PoW\", \"TotalCoinsMined\": 61364813.0, \"TotalCoinSupply\": 228000000.0, \"PC 1\": -0.28809868250928355, \"PC 2\": 0.7768346341694157, \"PC 3\": 0.0030229114620223744, \"Class\": 1}, {\"CoinName\": \"Creatio\", \"Algorithm\": \"PoS\", \"ProofType\": \"PoS\", \"TotalCoinsMined\": 20000000.0, \"TotalCoinSupply\": 20000000.0, \"PC 1\": 0.16058005509474532, \"PC 2\": -1.5490732861310113, \"PC 3\": -0.11344935096746299, \"Class\": 0}, {\"CoinName\": \"Eternity\", \"Algorithm\": \"X11\", \"ProofType\": \"PoW/PoS\", \"TotalCoinsMined\": 6069482.07721352, \"TotalCoinSupply\": 60000000.0, \"PC 1\": -0.13939732154287424, \"PC 2\": -1.4687569789578054, \"PC 3\": -0.3163847275425691, \"Class\": 0}, {\"CoinName\": \"Eurocoin\", \"Algorithm\": \"SHA-256\", \"ProofType\": \"PoW/PoS\", \"TotalCoinsMined\": 12416554.0, \"TotalCoinSupply\": 20000000.0, \"PC 1\": -0.09879152381776449, \"PC 2\": -0.8416384537486122, \"PC 3\": -0.21353310044282706, \"Class\": 0}, {\"CoinName\": \"BitcoinFast\", \"Algorithm\": \"Scrypt\", \"ProofType\": \"PoW/PoS\", \"TotalCoinsMined\": 20244023.640728, \"TotalCoinSupply\": 33000000.0, \"PC 1\": -0.1721637259392882, \"PC 2\": -1.1933670796925342, \"PC 3\": -0.30177940546461424, \"Class\": 0}, {\"CoinName\": \"Stakenet\", \"Algorithm\": \"X11\", \"ProofType\": \"TPoS\", \"TotalCoinsMined\": 75590369.0, \"TotalCoinSupply\": 76500000.0, \"PC 1\": -0.14178553160497326, \"PC 2\": -1.0448981896523049, \"PC 3\": -0.12655461733683088, \"Class\": 0}, {\"CoinName\": \"BitConnect Coin\", \"Algorithm\": \"Scrypt\", \"ProofType\": \"PoW/PoS\", \"TotalCoinsMined\": 11080722.3769581, \"TotalCoinSupply\": 28000000.0, \"PC 1\": -0.1722902487001069, \"PC 2\": -1.193383810394758, \"PC 3\": -0.3017775649989026, \"Class\": 0}, {\"CoinName\": \"MoneyCoin\", \"Algorithm\": \"Scrypt\", \"ProofType\": \"PoW/PoS\", \"TotalCoinsMined\": 10914418.0, \"TotalCoinSupply\": 650659833.0, \"PC 1\": -0.17229254584002257, \"PC 2\": -1.1933841212574796, \"PC 3\": -0.3017775332128142, \"Class\": 0}, {\"CoinName\": \"Enigma\", \"Algorithm\": \"X11\", \"ProofType\": \"PoW/PoS\", \"TotalCoinsMined\": 814671.0, \"TotalCoinSupply\": 5000000.0, \"PC 1\": -0.13946987754732862, \"PC 2\": -1.4687665727864976, \"PC 3\": -0.31638367196889594, \"Class\": 0}, {\"CoinName\": \"Cannabis Industry Coin\", \"Algorithm\": \"CryptoNight\", \"ProofType\": \"PoW\", \"TotalCoinsMined\": 978145.0, \"TotalCoinSupply\": 21000000.0, \"PC 1\": -0.20722079836808652, \"PC 2\": 2.2399250259655594, \"PC 3\": 0.22100295041166595, \"Class\": 1}, {\"CoinName\": \"Russiacoin\", \"Algorithm\": \"Scrypt\", \"ProofType\": \"PoW/PoS\", \"TotalCoinsMined\": 8377873.0, \"TotalCoinSupply\": 144000000.0, \"PC 1\": -0.17232756860072568, \"PC 2\": -1.1933887467210118, \"PC 3\": -0.301777022431618, \"Class\": 0}, {\"CoinName\": \"PandaCoin\", \"Algorithm\": \"Scrypt\", \"ProofType\": \"PoS\", \"TotalCoinsMined\": 33813143821.8337, \"TotalCoinSupply\": 32514916898.0, \"PC 1\": 0.4207544602298434, \"PC 2\": -0.7880252373888824, \"PC 3\": -0.14962417461008098, \"Class\": 0}, {\"CoinName\": \"GameUnits\", \"Algorithm\": \"Scrypt\", \"ProofType\": \"PoW/PoS\", \"TotalCoinsMined\": 3472983.0, \"TotalCoinSupply\": 13000000.0, \"PC 1\": -0.17239529294353126, \"PC 2\": -1.193397700767479, \"PC 3\": -0.30177603694246324, \"Class\": 0}, {\"CoinName\": \"GAKHcoin\", \"Algorithm\": \"Scrypt\", \"ProofType\": \"PoW/PoS\", \"TotalCoinsMined\": 3315789.0, \"TotalCoinSupply\": 3315789.0, \"PC 1\": -0.17239746339427858, \"PC 2\": -1.1933979876669838, \"PC 3\": -0.30177600534484855, \"Class\": 0}, {\"CoinName\": \"Allsafe\", \"Algorithm\": \"Quark\", \"ProofType\": \"PoS\", \"TotalCoinsMined\": 10517772.7391666, \"TotalCoinSupply\": 15000000.0, \"PC 1\": 0.20091723221929775, \"PC 2\": -1.4082878692976564, \"PC 3\": -0.11297399155775344, \"Class\": 0}, {\"CoinName\": \"LiteCreed\", \"Algorithm\": \"QuBit\", \"ProofType\": \"PoW/PoS\", \"TotalCoinsMined\": 30227750.0, \"TotalCoinSupply\": 78835200.0, \"PC 1\": -0.12541975135769062, \"PC 2\": -1.1186995972223126, \"PC 3\": -0.25460402491182094, \"Class\": 0}, {\"CoinName\": \"OsmiumCoin\", \"Algorithm\": \"Scrypt\", \"ProofType\": \"PoW\", \"TotalCoinsMined\": 894026.0, \"TotalCoinSupply\": 2714286.0, \"PC 1\": -0.32189575595519165, \"PC 2\": 1.0520882449950317, \"PC 3\": 0.01764322659883327, \"Class\": 1}, {\"CoinName\": \"Bikercoins\", \"Algorithm\": \"CryptoNight\", \"ProofType\": \"PoW\", \"TotalCoinsMined\": 9357088.0, \"TotalCoinSupply\": 25000000.0, \"PC 1\": -0.20710510567415166, \"PC 2\": 2.2399403245634124, \"PC 3\": 0.22100126748722207, \"Class\": 1}, {\"CoinName\": \"NeptuneClassic\", \"Algorithm\": \"X11\", \"ProofType\": \"PoW/PoS\", \"TotalCoinsMined\": 0.0, \"TotalCoinSupply\": 250000000.0, \"PC 1\": -0.13948112650794456, \"PC 2\": -1.4687680630884274, \"PC 3\": -0.31638350897783507, \"Class\": 0}, {\"CoinName\": \"HexxCoin\", \"Algorithm\": \"Lyra2RE\", \"ProofType\": \"PoW\", \"TotalCoinsMined\": 1876146.4435959999, \"TotalCoinSupply\": 9999999.0, \"PC 1\": -0.4011147977381916, \"PC 2\": 2.096329772194236, \"PC 3\": 0.2366612857252002, \"Class\": 1}, {\"CoinName\": \"GoldenBird\", \"Algorithm\": \"X13\", \"ProofType\": \"PoW/PoS\", \"TotalCoinsMined\": 0.0, \"TotalCoinSupply\": 450000000.0, \"PC 1\": 0.011799390701504632, \"PC 2\": -1.9502454973293213, \"PC 3\": -0.3638939452529442, \"Class\": 0}, {\"CoinName\": \"Ride My Car\", \"Algorithm\": \"PoS\", \"ProofType\": \"PoS\", \"TotalCoinsMined\": 0.0, \"TotalCoinSupply\": 100000000.0, \"PC 1\": 0.16030390392111604, \"PC 2\": -1.5491098039416062, \"PC 3\": -0.11344533416709592, \"Class\": 0}, {\"CoinName\": \"Klingon Empire Darsek\", \"Algorithm\": \"Scrypt\", \"ProofType\": \"PoW/PoS\", \"TotalCoinsMined\": 23965372.0, \"TotalCoinSupply\": 500000000.0, \"PC 1\": -0.1721123438871314, \"PC 2\": -1.1933602905030265, \"PC 3\": -0.3017801541110972, \"Class\": 0}, {\"CoinName\": \"Internet of People\", \"Algorithm\": \"SHA-256\", \"ProofType\": \"PoW/PoS\", \"TotalCoinsMined\": 2526078.47525448, \"TotalCoinSupply\": 21000000.0, \"PC 1\": -0.09892808708424938, \"PC 2\": -0.8416565122272618, \"PC 3\": -0.2135311139394477, \"Class\": 0}, {\"CoinName\": \"KushCoin\", \"Algorithm\": \"X11\", \"ProofType\": \"PoW/PoS\", \"TotalCoinsMined\": 5659096.95728771, \"TotalCoinSupply\": 9354000.0, \"PC 1\": -0.13940298788531513, \"PC 2\": -1.4687577276700785, \"PC 3\": -0.3163846449850932, \"Class\": 0}, {\"CoinName\": \"Eryllium\", \"Algorithm\": \"X11\", \"ProofType\": \"PoW/PoS\", \"TotalCoinsMined\": 0.0, \"TotalCoinSupply\": 100000000.0, \"PC 1\": -0.1394811262951278, \"PC 2\": -1.468768061349875, \"PC 3\": -0.3163835085884867, \"Class\": 0}, {\"CoinName\": \"MarxCoin\", \"Algorithm\": \"X11\", \"ProofType\": \"PoW\", \"TotalCoinsMined\": 0.0, \"TotalCoinSupply\": 100640000.0, \"PC 1\": -0.2889459802368108, \"PC 2\": 0.7767225930596019, \"PC 3\": 0.003035236939903138, \"Class\": 1}, {\"CoinName\": \"Printerium\", \"Algorithm\": \"Scrypt\", \"ProofType\": \"PoW/PoS\", \"TotalCoinsMined\": 11821728.0, \"TotalCoinSupply\": 20000000.0, \"PC 1\": -0.1722800172143386, \"PC 2\": -1.1933824573412397, \"PC 3\": -0.3017777138094141, \"Class\": 0}, {\"CoinName\": \"PacCoin\", \"Algorithm\": \"X11\", \"ProofType\": \"PoW\", \"TotalCoinsMined\": 536982074.0, \"TotalCoinSupply\": 100000000000.0, \"PC 1\": -0.28153171352154643, \"PC 2\": 0.7777018807795228, \"PC 3\": 0.0029271245703733585, \"Class\": 1}, {\"CoinName\": \"Impeach\", \"Algorithm\": \"Scrypt\", \"ProofType\": \"PoW/PoS\", \"TotalCoinsMined\": 308179.0, \"TotalCoinSupply\": 21933333.0, \"PC 1\": -0.17243899115519026, \"PC 2\": -1.1934034793099464, \"PC 3\": -0.3017754013134987, \"Class\": 0}, {\"CoinName\": \"Solarflarecoin\", \"Algorithm\": \"Scrypt\", \"ProofType\": \"PoW\", \"TotalCoinsMined\": 0.0, \"TotalCoinSupply\": 20000000.0, \"PC 1\": -0.3219081002911004, \"PC 2\": 1.0520866124425259, \"PC 3\": 0.017643406119445863, \"Class\": 1}, {\"CoinName\": \"Citadel\", \"Algorithm\": \"CryptoNight-V7\", \"ProofType\": \"PoW\", \"TotalCoinsMined\": 10969318.522954, \"TotalCoinSupply\": 185000000.0, \"PC 1\": -0.3586160867011163, \"PC 2\": 2.1340811632838377, \"PC 3\": 0.19321498349335123, \"Class\": 1}, {\"CoinName\": \"Zilbercoin\", \"Algorithm\": \"Scrypt\", \"ProofType\": \"PoS\", \"TotalCoinsMined\": 2922613.96424908, \"TotalCoinSupply\": 55000000.0, \"PC 1\": -0.046081915201069676, \"PC 2\": -0.849757056391785, \"PC 3\": -0.14283329386804472, \"Class\": 0}, {\"CoinName\": \"FirstCoin\", \"Algorithm\": \"Scrypt\", \"ProofType\": \"PoW/PoS \", \"TotalCoinsMined\": 110000000.0, \"TotalCoinSupply\": 110000000.0, \"PC 1\": -0.13445475520607503, \"PC 2\": -0.4034078020769995, \"PC 3\": -0.16959235809967552, \"Class\": 0}, {\"CoinName\": \"CreativeChain\", \"Algorithm\": \"Keccak\", \"ProofType\": \"PoW\", \"TotalCoinsMined\": 0.0, \"TotalCoinSupply\": 115000000.0, \"PC 1\": -0.33058844419024985, \"PC 2\": 1.4438089707883615, \"PC 3\": 0.11577654559134684, \"Class\": 1}, {\"CoinName\": \"BeaverCoin\", \"Algorithm\": \"Scrypt\", \"ProofType\": \"PoW\", \"TotalCoinsMined\": 3115258.0, \"TotalCoinSupply\": 3360000.0, \"PC 1\": -0.3218650861775285, \"PC 2\": 1.0520923006110416, \"PC 3\": 0.017642780461819253, \"Class\": 1}, {\"CoinName\": \"FindCoin\", \"Algorithm\": \"X13\", \"ProofType\": \"PoS\", \"TotalCoinsMined\": 14524851.4827, \"TotalCoinSupply\": 14524851.4827, \"PC 1\": 0.1383209210277881, \"PC 2\": -1.606577322416053, \"PC 3\": -0.20495422880324907, \"Class\": 0}, {\"CoinName\": \"VaultCoin\", \"Algorithm\": \"X11\", \"ProofType\": \"PoW\", \"TotalCoinsMined\": 30385540.0, \"TotalCoinSupply\": 1000000000.0, \"PC 1\": -0.2885264315586257, \"PC 2\": 0.7767780618967183, \"PC 3\": 0.0030291316575782974, \"Class\": 1}, {\"CoinName\": \"Zero\", \"Algorithm\": \"Equihash\", \"ProofType\": \"PoW\", \"TotalCoinsMined\": 6921653.89980891, \"TotalCoinSupply\": 17000000.0, \"PC 1\": -0.34420924495762323, \"PC 2\": 1.9198372637801988, \"PC 3\": 0.15927234821772676, \"Class\": 1}, {\"CoinName\": \"OpenChat\", \"Algorithm\": \"Scrypt\", \"ProofType\": \"PoW/PoS\", \"TotalCoinsMined\": 1000000000.0, \"TotalCoinSupply\": 1000000000.0, \"PC 1\": -0.15863569473437006, \"PC 2\": -1.1915782091645117, \"PC 3\": -0.3019761923553406, \"Class\": 0}, {\"CoinName\": \"Canada eCoin\", \"Algorithm\": \"Scrypt\", \"ProofType\": \"PoW\", \"TotalCoinsMined\": 99843408.3158479, \"TotalCoinSupply\": 100000000.0, \"PC 1\": -0.32052950725194607, \"PC 2\": 1.0522689100201248, \"PC 3\": 0.01762335232319689, \"Class\": 1}, {\"CoinName\": \"Zoin\", \"Algorithm\": \"Lyra2RE\", \"ProofType\": \"PoW\", \"TotalCoinsMined\": 18545757.5, \"TotalCoinSupply\": 21000000.0, \"PC 1\": -0.40088463121554135, \"PC 2\": 2.096360208178879, \"PC 3\": 0.23665793759858308, \"Class\": 1}, {\"CoinName\": \"Musicoin\", \"Algorithm\": \"Ethash\", \"ProofType\": \"PoW\", \"TotalCoinsMined\": 0.0, \"TotalCoinSupply\": 454898394.0, \"PC 1\": -0.34343858872864164, \"PC 2\": 2.023860701167884, \"PC 3\": 0.1603931520440827, \"Class\": 1}, {\"CoinName\": \"BnrtxCoin\", \"Algorithm\": \"X11\", \"ProofType\": \"PoW\", \"TotalCoinsMined\": 0.0, \"TotalCoinSupply\": 210000000.0, \"PC 1\": -0.2889459803919683, \"PC 2\": 0.7767225917920813, \"PC 3\": 0.003035236656041859, \"Class\": 1}, {\"CoinName\": \"RenosCoin\", \"Algorithm\": \"Scrypt\", \"ProofType\": \"PoS\", \"TotalCoinsMined\": 36050365.0, \"TotalCoinSupply\": 34426423.0, \"PC 1\": -0.04562450199347271, \"PC 2\": -0.8496965700422893, \"PC 3\": -0.14283994753672216, \"Class\": 0}, {\"CoinName\": \"DubaiCoin\", \"Algorithm\": \"Dagger-Hashimoto\", \"ProofType\": \"PoW\", \"TotalCoinsMined\": 2232901.0, \"TotalCoinSupply\": 2232901.0, \"PC 1\": -0.35666466846071604, \"PC 2\": 2.104141133551408, \"PC 3\": 0.22517978947858133, \"Class\": 1}, {\"CoinName\": \"VirtacoinPlus\", \"Algorithm\": \"X11\", \"ProofType\": \"PoW/PoS\", \"TotalCoinsMined\": 13162749.085802699, \"TotalCoinSupply\": 100000000.0, \"PC 1\": -0.13929938093941607, \"PC 2\": -1.4687440282212167, \"PC 3\": -0.3163861523319183, \"Class\": 0}, {\"CoinName\": \"TajCoin\", \"Algorithm\": \"Blake2S\", \"ProofType\": \"PoW/PoS\", \"TotalCoinsMined\": 12184195.9258495, \"TotalCoinSupply\": 36900000.0, \"PC 1\": -0.09678490305738091, \"PC 2\": -2.0917593762007067, \"PC 3\": -0.4616628833596087, \"Class\": 0}, {\"CoinName\": \"Impact\", \"Algorithm\": \"X11\", \"ProofType\": \"PoW/PoS\", \"TotalCoinsMined\": 110630387.85047099, \"TotalCoinSupply\": 110000000.0, \"PC 1\": -0.13795359136495602, \"PC 2\": -1.4685660676172743, \"PC 3\": -0.3164057287722041, \"Class\": 0}, {\"CoinName\": \"EB3coin\", \"Algorithm\": \"Scrypt\", \"ProofType\": \"PoW\", \"TotalCoinsMined\": 64096052.0, \"TotalCoinSupply\": 4000000000.0, \"PC 1\": -0.32102309630234627, \"PC 2\": 1.0522035957156992, \"PC 3\": 0.017630522070978302, \"Class\": 1}, {\"CoinName\": \"Universe\", \"Algorithm\": \"Scrypt\", \"ProofType\": \"PoS\", \"TotalCoinsMined\": 0.0, \"TotalCoinSupply\": 112000000.0, \"PC 1\": -0.04612226942916839, \"PC 2\": -0.8497623932900978, \"PC 3\": -0.14283270700781062, \"Class\": 0}, {\"CoinName\": \"Atmos\", \"Algorithm\": \"PoS\", \"ProofType\": \"PoS\", \"TotalCoinsMined\": 111135836.889, \"TotalCoinSupply\": 110290030.0, \"PC 1\": 0.1618384178652675, \"PC 2\": -1.5489068873411875, \"PC 3\": -0.11346765587120916, \"Class\": 0}, {\"CoinName\": \"HappyCoin\", \"Algorithm\": \"X11\", \"ProofType\": \"PoW/PoS\", \"TotalCoinsMined\": 21521322.0099142, \"TotalCoinSupply\": 100000000.0, \"PC 1\": -0.13918396950070883, \"PC 2\": -1.4687287667695874, \"PC 3\": -0.31638783115464186, \"Class\": 0}, {\"CoinName\": \"Coinonat\", \"Algorithm\": \"NIST5\", \"ProofType\": \"PoW\", \"TotalCoinsMined\": 10123200.0, \"TotalCoinSupply\": 48252000.0, \"PC 1\": -0.24367897133644825, \"PC 2\": 0.4629829230410675, \"PC 3\": -0.016168162543452998, \"Class\": 1}, {\"CoinName\": \"MacronCoin\", \"Algorithm\": \"PoS\", \"ProofType\": \"PoS\", \"TotalCoinsMined\": 401421401.0, \"TotalCoinSupply\": 400000000.0, \"PC 1\": 0.16584655076767646, \"PC 2\": -1.5483768744946245, \"PC 3\": -0.1135259605951506, \"Class\": 0}, {\"CoinName\": \"Condensate\", \"Algorithm\": \"X11\", \"ProofType\": \"PoW/PoS\", \"TotalCoinsMined\": 121665451.643876, \"TotalCoinSupply\": 500000000.0, \"PC 1\": -0.13780122469002354, \"PC 2\": -1.4685459238306349, \"PC 3\": -0.3164079461814995, \"Class\": 0}, {\"CoinName\": \"Independent Money System\", \"Algorithm\": \"Scrypt\", \"ProofType\": \"PoW/PoS\", \"TotalCoinsMined\": 5368934.0, \"TotalCoinSupply\": 21212121.0, \"PC 1\": -0.17236911451125236, \"PC 2\": -1.1933942391515835, \"PC 3\": -0.30177641776629766, \"Class\": 0}, {\"CoinName\": \"ArgusCoin\", \"Algorithm\": \"Scrypt\", \"ProofType\": \"PoW/PoS\", \"TotalCoinsMined\": 1148324.0, \"TotalCoinSupply\": 28600000.0, \"PC 1\": -0.17242739081802824, \"PC 2\": -1.193401945413367, \"PC 3\": -0.30177557007426314, \"Class\": 0}, {\"CoinName\": \"LomoCoin\", \"Algorithm\": \"Scrypt\", \"ProofType\": \"PoW/PoS\", \"TotalCoinsMined\": 500000.0, \"TotalCoinSupply\": 1000000000.0, \"PC 1\": -0.17243634396422394, \"PC 2\": -1.1934031404108263, \"PC 3\": -0.3017754423795509, \"Class\": 0}, {\"CoinName\": \"Bitcoin Scrypt\", \"Algorithm\": \"Scrypt\", \"ProofType\": \"PoW\", \"TotalCoinsMined\": 0.0, \"TotalCoinSupply\": 21000000.0, \"PC 1\": -0.32190810029251904, \"PC 2\": 1.0520866124309354, \"PC 3\": 0.017643406116850342, \"Class\": 1}, {\"CoinName\": \"ProCurrency\", \"Algorithm\": \"SHA-256\", \"ProofType\": \"PoS\", \"TotalCoinsMined\": 100545745.0, \"TotalCoinSupply\": 75000000000.0, \"PC 1\": 0.028746195330130342, \"PC 2\": -0.4978367628729281, \"PC 3\": -0.054608363207072505, \"Class\": 0}, {\"CoinName\": \"GoldReserve\", \"Algorithm\": \"X11\", \"ProofType\": \"PoW/PoS\", \"TotalCoinsMined\": 17171382.0, \"TotalCoinSupply\": 40000000.0, \"PC 1\": -0.13924403144284384, \"PC 2\": -1.4687367083867666, \"PC 3\": -0.31638695731170713, \"Class\": 0}, {\"CoinName\": \"BenjiRolls\", \"Algorithm\": \"Scrypt\", \"ProofType\": \"PoW\", \"TotalCoinsMined\": 20276099.146523997, \"TotalCoinSupply\": 35520400.0, \"PC 1\": -0.32162813699939263, \"PC 2\": 1.0521236332600237, \"PC 3\": 0.017639333616516147, \"Class\": 1}, {\"CoinName\": \"ParallelCoin\", \"Algorithm\": \"Scrypt\", \"ProofType\": \"PoW\", \"TotalCoinsMined\": 0.0, \"TotalCoinSupply\": 1000000.0, \"PC 1\": -0.32190810026414357, \"PC 2\": 1.0520866126627424, \"PC 3\": 0.017643406168763604, \"Class\": 1}, {\"CoinName\": \"GrowthCoin\", \"Algorithm\": \"Scrypt\", \"ProofType\": \"PoS\", \"TotalCoinsMined\": 295135466.361878, \"TotalCoinSupply\": 2000000000.0, \"PC 1\": -0.042047173511972714, \"PC 2\": -0.8492235438025321, \"PC 3\": -0.14289198998517938, \"Class\": 0}, {\"CoinName\": \"ILCoin\", \"Algorithm\": \"SHA-256\", \"ProofType\": \"PoW\", \"TotalCoinsMined\": 1317747500.0, \"TotalCoinSupply\": 2500000000.0, \"PC 1\": -0.23023295504937458, \"PC 2\": 1.4062355028198028, \"PC 3\": 0.10562346240606067, \"Class\": 1}, {\"CoinName\": \"Phreak\", \"Algorithm\": \"PoS\", \"ProofType\": \"PoS\", \"TotalCoinsMined\": 11390225.974277198, \"TotalCoinSupply\": 30000000.0, \"PC 1\": 0.1604611751693248, \"PC 2\": -1.5490890063526102, \"PC 3\": -0.11344762171685427, \"Class\": 0}, {\"CoinName\": \"Degas Coin\", \"Algorithm\": \"Scrypt\", \"ProofType\": \"PoW/PoS\", \"TotalCoinsMined\": 21358764.0, \"TotalCoinSupply\": 105000000.0, \"PC 1\": -0.17214833420484102, \"PC 2\": -1.193365045184855, \"PC 3\": -0.3017796295475498, \"Class\": 0}, {\"CoinName\": \"ZSEcoin\", \"Algorithm\": \"X11\", \"ProofType\": \"PoW/PoS\", \"TotalCoinsMined\": 0.0, \"TotalCoinSupply\": 2093500000.0, \"PC 1\": -0.13948112912346028, \"PC 2\": -1.4687680844552358, \"PC 3\": -0.3163835137629319, \"Class\": 0}, {\"CoinName\": \"HTML5 Coin\", \"Algorithm\": \"X15\", \"ProofType\": \"PoW/PoS\", \"TotalCoinsMined\": 40659020000.0, \"TotalCoinSupply\": 90000000000.0, \"PC 1\": 0.5562529918613281, \"PC 2\": -1.9884962047918497, \"PC 3\": -0.444846502612892, \"Class\": 0}, {\"CoinName\": \"Ultimate Secure Cash\", \"Algorithm\": \"SHA-256\", \"ProofType\": \"PoS\", \"TotalCoinsMined\": 10343113.0, \"TotalCoinSupply\": 200084200.0, \"PC 1\": 0.027500823831907637, \"PC 2\": -0.49800059186542583, \"PC 3\": -0.05459005181721318, \"Class\": 0}, {\"CoinName\": \"EquiTrader\", \"Algorithm\": \"Scrypt\", \"ProofType\": \"PoW\", \"TotalCoinsMined\": 13673406.4325268, \"TotalCoinSupply\": 72000000.0, \"PC 1\": -0.3217193040807825, \"PC 2\": 1.052111577349225, \"PC 3\": 0.01764065967530682, \"Class\": 1}, {\"CoinName\": \"QTUM\", \"Algorithm\": \"POS 3.0\", \"ProofType\": \"PoS\", \"TotalCoinsMined\": 100000000.0, \"TotalCoinSupply\": 100000000.0, \"PC 1\": 0.13359844312092617, \"PC 2\": -1.4949057581698508, \"PC 3\": -0.11591783507999136, \"Class\": 0}, {\"CoinName\": \"Quantum Resistant Ledger\", \"Algorithm\": \"CryptoNight-V7\", \"ProofType\": \"PoW\", \"TotalCoinsMined\": 69036016.8340164, \"TotalCoinSupply\": 105000000.0, \"PC 1\": -0.3578143275727802, \"PC 2\": 2.1341871849535554, \"PC 3\": 0.19320332098136364, \"Class\": 1}, {\"CoinName\": \"Espers\", \"Algorithm\": \"536\", \"ProofType\": \"PoW/PoS\", \"TotalCoinsMined\": 22801882871.0, \"TotalCoinSupply\": 50000000000.0, \"PC 1\": 0.5421900247482507, \"PC 2\": -2.040064817612189, \"PC 3\": -0.5199143252051589, \"Class\": 0}, {\"CoinName\": \"Nano\", \"Algorithm\": \"Blake2b\", \"ProofType\": \"PoW\", \"TotalCoinsMined\": 133248297.0, \"TotalCoinSupply\": 340282367.0, \"PC 1\": -0.43301590815778557, \"PC 2\": 2.0519711886626175, \"PC 3\": 0.2792035984780321, \"Class\": 1}, {\"CoinName\": \"ChanCoin\", \"Algorithm\": \"Cloverhash\", \"ProofType\": \"PoW\", \"TotalCoinsMined\": 18407259.0885883, \"TotalCoinSupply\": 30000000.0, \"PC 1\": -0.3489639989768425, \"PC 2\": 2.1400350551547693, \"PC 3\": 0.20350185116165576, \"Class\": 1}, {\"CoinName\": \"Dinastycoin\", \"Algorithm\": \"CryptoNight\", \"ProofType\": \"PoW\", \"TotalCoinsMined\": 1809467143.0, \"TotalCoinSupply\": 2000000000.0, \"PC 1\": -0.18224999347454846, \"PC 2\": 2.2432270221188717, \"PC 3\": 0.22063970953442244, \"Class\": 1}, {\"CoinName\": \"Denarius\", \"Algorithm\": \"NIST5\", \"ProofType\": \"PoW/PoS\", \"TotalCoinsMined\": 4171382.0, \"TotalCoinSupply\": 10000000.0, \"PC 1\": -0.0942962973839213, \"PC 2\": -1.7825185980246598, \"PC 3\": -0.3355857125491828, \"Class\": 0}, {\"CoinName\": \"DigitalPrice\", \"Algorithm\": \"X11\", \"ProofType\": \"PoW\", \"TotalCoinsMined\": 35138975.0, \"TotalCoinSupply\": 100000000.0, \"PC 1\": -0.2884607969760011, \"PC 2\": 0.7767867513596068, \"PC 3\": 0.0030281792643452737, \"Class\": 1}, {\"CoinName\": \"Virta Unique Coin\", \"Algorithm\": \"NIST5\", \"ProofType\": \"PoW/PoS\", \"TotalCoinsMined\": 62942075.0, \"TotalCoinSupply\": 120000000.0, \"PC 1\": -0.09348481808116872, \"PC 2\": -1.7824112931725111, \"PC 3\": -0.33559751695196044, \"Class\": 0}, {\"CoinName\": \"Bitcoin Planet\", \"Algorithm\": \"Skein\", \"ProofType\": \"PoW/PoS\", \"TotalCoinsMined\": 6804362.0, \"TotalCoinSupply\": 100000000.0, \"PC 1\": -0.16240446357721422, \"PC 2\": -1.5051364959321092, \"PC 3\": -0.3279229471202745, \"Class\": 0}, {\"CoinName\": \"Unify\", \"Algorithm\": \"Scrypt\", \"ProofType\": \"PoW\", \"TotalCoinsMined\": 18133195.0, \"TotalCoinSupply\": 19276800.0, \"PC 1\": -0.32165772523893726, \"PC 2\": 1.0521197208392532, \"PC 3\": 0.017639764061836156, \"Class\": 1}, {\"CoinName\": \"BritCoin\", \"Algorithm\": \"X13\", \"ProofType\": \"PoW/PoS\", \"TotalCoinsMined\": 21268092.0, \"TotalCoinSupply\": 30000000.0, \"PC 1\": 0.012093051605025558, \"PC 2\": -1.9502066602396237, \"PC 3\": -0.3638982158675735, \"Class\": 0}, {\"CoinName\": \"SocialCoin\", \"Algorithm\": \"Scrypt\", \"ProofType\": \"PoW\", \"TotalCoinsMined\": 5167775.0, \"TotalCoinSupply\": 75000000.0, \"PC 1\": -0.3218367460418957, \"PC 2\": 1.052096047356904, \"PC 3\": 0.01764236802700366, \"Class\": 1}, {\"CoinName\": \"Octanox\", \"Algorithm\": \"X11\", \"ProofType\": \"PoW/PoS\", \"TotalCoinsMined\": 0.0, \"TotalCoinSupply\": 7905634.0, \"PC 1\": -0.13948112616446637, \"PC 2\": -1.4687680602824693, \"PC 3\": -0.31638350834944107, \"Class\": 0}, {\"CoinName\": \"ArcticCoin\", \"Algorithm\": \"X11\", \"ProofType\": \"PoW\", \"TotalCoinsMined\": 26042364.373555303, \"TotalCoinSupply\": 60000000.0, \"PC 1\": -0.28858639885265297, \"PC 2\": 0.7767701428297562, \"PC 3\": 0.0030300064260635542, \"Class\": 1}, {\"CoinName\": \"DAS\", \"Algorithm\": \"X11\", \"ProofType\": \"PoW\", \"TotalCoinsMined\": 2622886.0, \"TotalCoinSupply\": 18900000.0, \"PC 1\": -0.28890976448336525, \"PC 2\": 0.7767273829881042, \"PC 3\": 0.0030347103443674607, \"Class\": 1}, {\"CoinName\": \"Linda\", \"Algorithm\": \"Scrypt\", \"ProofType\": \"PoW/PoS\", \"TotalCoinsMined\": 9044930943.24243, \"TotalCoinSupply\": 50000000000.0, \"PC 1\": -0.047554953823162355, \"PC 2\": -1.1768899868437126, \"PC 3\": -0.3035921471485062, \"Class\": 0}, {\"CoinName\": \"LeviarCoin\", \"Algorithm\": \"CryptoNight\", \"ProofType\": \"PoW\", \"TotalCoinsMined\": 14161803.0, \"TotalCoinSupply\": 54000000.0, \"PC 1\": -0.2070387643582534, \"PC 2\": 2.2399490968881555, \"PC 3\": 0.2210003023830132, \"Class\": 1}, {\"CoinName\": \"DeepOnion\", \"Algorithm\": \"X13\", \"ProofType\": \"PoW/PoS\", \"TotalCoinsMined\": 21917018.0492836, \"TotalCoinSupply\": 18898187.6216583, \"PC 1\": 0.012102011701599056, \"PC 2\": -1.9502054752731077, \"PC 3\": -0.36389834617581457, \"Class\": 0}, {\"CoinName\": \"Bitcore\", \"Algorithm\": \"Time Travel\", \"ProofType\": \"PoW\", \"TotalCoinsMined\": 17801865.1605478, \"TotalCoinSupply\": 21000000.0, \"PC 1\": -0.32445174533195037, \"PC 2\": 2.056816506593651, \"PC 3\": 0.13863682996375168, \"Class\": 1}, {\"CoinName\": \"gCn Coin\", \"Algorithm\": \"Scrypt\", \"ProofType\": \"PoW\", \"TotalCoinsMined\": 163055097500.0, \"TotalCoinSupply\": 200000000000.0, \"PC 1\": 1.9294835176697362, \"PC 2\": 1.3497974935026442, \"PC 3\": -0.015106794676764727, \"Class\": 1}, {\"CoinName\": \"SmartCash\", \"Algorithm\": \"Keccak\", \"ProofType\": \"PoW\", \"TotalCoinsMined\": 2241009149.22257, \"TotalCoinSupply\": 5000000000.0, \"PC 1\": -0.29964559850535627, \"PC 2\": 1.4479006476559435, \"PC 3\": 0.11532642532530987, \"Class\": 1}, {\"CoinName\": \"Signatum\", \"Algorithm\": \"SkunkHash v2 Raptor\", \"ProofType\": \"PoS\", \"TotalCoinsMined\": 107972766.0, \"TotalCoinSupply\": 137500000.0, \"PC 1\": 0.14026026640331965, \"PC 2\": -1.4597369914525256, \"PC 3\": -0.10530239012190243, \"Class\": 0}, {\"CoinName\": \"Onix\", \"Algorithm\": \"X11\", \"ProofType\": \"PoW\", \"TotalCoinsMined\": 122475638.389743, \"TotalCoinSupply\": 1100000000.0, \"PC 1\": -0.2872548927856264, \"PC 2\": 0.7769462029067957, \"PC 3\": 0.0030106350648234715, \"Class\": 1}, {\"CoinName\": \"Cream\", \"Algorithm\": \"Skein\", \"ProofType\": \"PoW/PoS\", \"TotalCoinsMined\": 47331802.477423795, \"TotalCoinSupply\": 100000000.0, \"PC 1\": -0.16184487879461049, \"PC 2\": -1.5050624991412536, \"PC 3\": -0.32793108707294605, \"Class\": 0}, {\"CoinName\": \"Bitcoin Cash\", \"Algorithm\": \"SHA-256\", \"ProofType\": \"PoW\", \"TotalCoinsMined\": 17995589.6469082, \"TotalCoinSupply\": 21000000.0, \"PC 1\": -0.24817934492953925, \"PC 2\": 1.4038623871063942, \"PC 3\": 0.10588452453308123, \"Class\": 1}, {\"CoinName\": \"Monoeci\", \"Algorithm\": \"X11\", \"ProofType\": \"PoW/PoS\", \"TotalCoinsMined\": 12569262.535930699, \"TotalCoinSupply\": 9507271.0, \"PC 1\": -0.13930757540802305, \"PC 2\": -1.4687451107863305, \"PC 3\": -0.3163860328950188, \"Class\": 0}, {\"CoinName\": \"CampusCoin\", \"Algorithm\": \"Scrypt\", \"ProofType\": \"PoW\", \"TotalCoinsMined\": 0.0, \"TotalCoinSupply\": 1010000000.0, \"PC 1\": -0.32190810169569, \"PC 2\": 1.0520866009680807, \"PC 3\": 0.017643403549743787, \"Class\": 1}, {\"CoinName\": \"Draftcoin\", \"Algorithm\": \"Scrypt\", \"ProofType\": \"PoS\", \"TotalCoinsMined\": 18663297.348979898, \"TotalCoinSupply\": 17405891.19707116, \"PC 1\": -0.04586457482754092, \"PC 2\": -0.8497283159210912, \"PC 3\": -0.142836455293033, \"Class\": 0}, {\"CoinName\": \"Vechain\", \"Algorithm\": \"VeChainThor Authority\", \"ProofType\": \"Proof of Authority\", \"TotalCoinsMined\": 55454734800.0, \"TotalCoinSupply\": 86712634466.0, \"PC 1\": 7.050552344544671, \"PC 2\": -1.1481096854632735, \"PC 3\": 1.847614502442192, \"Class\": 0}, {\"CoinName\": \"Sojourn Coin\", \"Algorithm\": \"Scrypt\", \"ProofType\": \"PoW\", \"TotalCoinsMined\": 485214.0, \"TotalCoinSupply\": 10500000000.0, \"PC 1\": -0.321901415541863, \"PC 2\": 1.0520873769008228, \"PC 3\": 0.017643281461516343, \"Class\": 1}, {\"CoinName\": \"Stakecoin\", \"Algorithm\": \"PoS\", \"ProofType\": \"PoS\", \"TotalCoinsMined\": 4000000.0, \"TotalCoinSupply\": 61599965.0, \"PC 1\": 0.1603591341876226, \"PC 2\": -1.5491025001198633, \"PC 3\": -0.11344613746902671, \"Class\": 0}, {\"CoinName\": \"LiteBitcoin\", \"Algorithm\": \"Scrypt\", \"ProofType\": \"PoW\", \"TotalCoinsMined\": 0.0, \"TotalCoinSupply\": 1000000000.0, \"PC 1\": -0.3219081016815021, \"PC 2\": 1.052086601083984, \"PC 3\": 0.017643403575700486, \"Class\": 1}, {\"CoinName\": \"FrazCoin\", \"Algorithm\": \"Scrypt\", \"ProofType\": \"PoW\", \"TotalCoinsMined\": 9704042.0, \"TotalCoinSupply\": 20000000.0, \"PC 1\": -0.32177411121680943, \"PC 2\": 1.0521043305110214, \"PC 3\": 0.017641457058719043, \"Class\": 1}, {\"CoinName\": \"Kronecoin\", \"Algorithm\": \"Scrypt\", \"ProofType\": \"PoW\", \"TotalCoinsMined\": 17453749.4042601, \"TotalCoinSupply\": 84000000.0, \"PC 1\": -0.321667106811843, \"PC 2\": 1.0521184795273104, \"PC 3\": 0.017639900360757025, \"Class\": 1}, {\"CoinName\": \"AdCoin\", \"Algorithm\": \"Scrypt\", \"ProofType\": \"PoW\", \"TotalCoinsMined\": 32646731.063036, \"TotalCoinSupply\": 100000000.0, \"PC 1\": -0.32145732893496537, \"PC 2\": 1.052146219358827, \"PC 3\": 0.017636848802768126, \"Class\": 1}, {\"CoinName\": \"Linx\", \"Algorithm\": \"Scrypt\", \"ProofType\": \"PoW\", \"TotalCoinsMined\": 33716526.0, \"TotalCoinSupply\": 100000000.0, \"PC 1\": -0.32144255768466723, \"PC 2\": 1.052148172637674, \"PC 3\": 0.01763663393402615, \"Class\": 1}, {\"CoinName\": \"CoinonatX\", \"Algorithm\": \"Scrypt\", \"ProofType\": \"PoW/PoS\", \"TotalCoinsMined\": 19539588.0, \"TotalCoinSupply\": 48252000.0, \"PC 1\": -0.1721734524933763, \"PC 2\": -1.1933683660590164, \"PC 3\": -0.30177926401802235, \"Class\": 0}, {\"CoinName\": \"Ethereum Dark\", \"Algorithm\": \"Scrypt\", \"ProofType\": \"PoW/PoS\", \"TotalCoinsMined\": 4200000.0, \"TotalCoinSupply\": 4200000.0, \"PC 1\": -0.1723852546052818, \"PC 2\": -1.1933963732457342, \"PC 3\": -0.3017761829412774, \"Class\": 0}, {\"CoinName\": \"Sumokoin\", \"Algorithm\": \"CryptoNight\", \"ProofType\": \"PoW\", \"TotalCoinsMined\": 8946653.0, \"TotalCoinSupply\": 88888888.0, \"PC 1\": -0.207110772867814, \"PC 2\": 2.2399395744325665, \"PC 3\": 0.22100134975742244, \"Class\": 1}, {\"CoinName\": \"Obsidian\", \"Algorithm\": \"SHA-512\", \"ProofType\": \"PoS\", \"TotalCoinsMined\": 25000000.0, \"TotalCoinSupply\": 91388946.0, \"PC 1\": 0.2939312456467383, \"PC 2\": -1.6202843106227907, \"PC 3\": -0.2427042312575422, \"Class\": 0}, {\"CoinName\": \"Cardano\", \"Algorithm\": \"Ouroboros\", \"ProofType\": \"PoS\", \"TotalCoinsMined\": 25927070538.0, \"TotalCoinSupply\": 45000000000.0, \"PC 1\": 0.7769159541132805, \"PC 2\": -1.2850579867247665, \"PC 3\": 0.02184203867343198, \"Class\": 0}, {\"CoinName\": \"Regalcoin\", \"Algorithm\": \"X11\", \"ProofType\": \"PoW/PoS\", \"TotalCoinsMined\": 7262402.04264803, \"TotalCoinSupply\": 27000000.0, \"PC 1\": -0.13938085019039972, \"PC 2\": -1.468754800489362, \"PC 3\": -0.316384967055366, \"Class\": 0}, {\"CoinName\": \"BitcoinZ\", \"Algorithm\": \"Equihash\", \"ProofType\": \"PoW\", \"TotalCoinsMined\": 5211553258.01514, \"TotalCoinSupply\": 21000000000.0, \"PC 1\": -0.2723460479754469, \"PC 2\": 1.9293398668429473, \"PC 3\": 0.15822694140832705, \"Class\": 1}, {\"CoinName\": \"TrezarCoin\", \"Algorithm\": \"NeoScrypt\", \"ProofType\": \"PoW/PoS\", \"TotalCoinsMined\": 182638400.0, \"TotalCoinSupply\": 400000000.0, \"PC 1\": -0.18529474367937573, \"PC 2\": -0.7096886165598353, \"PC 3\": -0.19322569826754166, \"Class\": 0}, {\"CoinName\": \"Elements\", \"Algorithm\": \"X11\", \"ProofType\": \"PoW\", \"TotalCoinsMined\": 2702855668.85288, \"TotalCoinSupply\": 1800000000.0, \"PC 1\": -0.2516261597316059, \"PC 2\": 0.7816575666244251, \"PC 3\": 0.0024923628840366175, \"Class\": 1}, {\"CoinName\": \"TerraNovaCoin\", \"Algorithm\": \"Scrypt\", \"ProofType\": \"PoW/PoS\", \"TotalCoinsMined\": 1140734.91680375, \"TotalCoinSupply\": 15733333.0, \"PC 1\": -0.17242749558644185, \"PC 2\": -1.1934019591207208, \"PC 3\": -0.3017755685165953, \"Class\": 0}, {\"CoinName\": \"VIVO Coin\", \"Algorithm\": \"NeoScrypt\", \"ProofType\": \"PoW\", \"TotalCoinsMined\": 4165967.57499639, \"TotalCoinSupply\": 27000000.0, \"PC 1\": -0.33722386466182847, \"PC 2\": 1.535476179330297, \"PC 3\": 0.126228894490308, \"Class\": 1}, {\"CoinName\": \"Rupee\", \"Algorithm\": \"Lyra2REv2\", \"ProofType\": \"PoS\", \"TotalCoinsMined\": 24000000.0, \"TotalCoinSupply\": 24000000.0, \"PC 1\": -0.045489576096447146, \"PC 2\": -0.5661999123906349, \"PC 3\": -0.031068863892030195, \"Class\": 0}, {\"CoinName\": \"Bitcoin Gold\", \"Algorithm\": \"Equihash\", \"ProofType\": \"PoW\", \"TotalCoinsMined\": 17202361.088994, \"TotalCoinSupply\": 21000000.0, \"PC 1\": -0.34406729355384097, \"PC 2\": 1.9198560347031055, \"PC 3\": 0.15927028332318294, \"Class\": 1}, {\"CoinName\": \"WomenCoin\", \"Algorithm\": \"Scrypt\", \"ProofType\": \"PoW/PoS\", \"TotalCoinsMined\": 48459472454.0, \"TotalCoinSupply\": 25000000000.0, \"PC 1\": 0.49666345277731244, \"PC 2\": -1.1049248863174643, \"PC 3\": -0.31150850872432245, \"Class\": 0}, {\"CoinName\": \"Theresa May Coin\", \"Algorithm\": \"SHA-256\", \"ProofType\": \"PoW/PoS\", \"TotalCoinsMined\": 92050800.0, \"TotalCoinSupply\": 100000000.0, \"PC 1\": -0.0976919698585005, \"PC 2\": -0.8414930549521759, \"PC 3\": -0.21354909522072163, \"Class\": 0}, {\"CoinName\": \"NamoCoin\", \"Algorithm\": \"NIST5\", \"ProofType\": \"PoW/PoS\", \"TotalCoinsMined\": 560563220.0, \"TotalCoinSupply\": 1200000000.0, \"PC 1\": -0.0866138892767767, \"PC 2\": -1.7815027270244184, \"PC 3\": -0.33569746716178656, \"Class\": 0}, {\"CoinName\": \"LUXCoin\", \"Algorithm\": \"PHI1612\", \"ProofType\": \"PoW/PoS\", \"TotalCoinsMined\": 8305775.31777569, \"TotalCoinSupply\": 60000000.0, \"PC 1\": -0.0276230087522869, \"PC 2\": -1.9611745645662884, \"PC 3\": -0.3750686322066353, \"Class\": 0}, {\"CoinName\": \"Pirl\", \"Algorithm\": \"Dagger\", \"ProofType\": \"PoW\", \"TotalCoinsMined\": 33986980.0, \"TotalCoinSupply\": 156306732.71, \"PC 1\": -0.3633881620557881, \"PC 2\": 2.1410678673965045, \"PC 3\": 0.16638025019748331, \"Class\": 1}, {\"CoinName\": \"Xios\", \"Algorithm\": \"Scrypt\", \"ProofType\": \"PoW/PoS\", \"TotalCoinsMined\": 2149688.0, \"TotalCoinSupply\": 21000000.0, \"PC 1\": -0.17241356442073705, \"PC 2\": -1.1934001169906607, \"PC 3\": -0.3017757711788973, \"Class\": 0}, {\"CoinName\": \"Bitcloud 2.0\", \"Algorithm\": \"Quark\", \"ProofType\": \"PoW/PoS\", \"TotalCoinsMined\": 30711550.5294042, \"TotalCoinSupply\": 200000000.0, \"PC 1\": 0.07487508156237743, \"PC 2\": -1.751892650501038, \"PC 3\": -0.27192068060791125, \"Class\": 0}, {\"CoinName\": \"eBoost\", \"Algorithm\": \"Scrypt\", \"ProofType\": \"PoW\", \"TotalCoinsMined\": 99990001.493466, \"TotalCoinSupply\": 100000000.0, \"PC 1\": -0.32052748315887575, \"PC 2\": 1.0522691776764233, \"PC 3\": 0.017623322879898314, \"Class\": 1}, {\"CoinName\": \"KekCoin\", \"Algorithm\": \"POS 2.0\", \"ProofType\": \"PoS\", \"TotalCoinsMined\": 12330806.30517, \"TotalCoinSupply\": 21000000.0, \"PC 1\": 0.17694805076239908, \"PC 2\": -1.4650735162934072, \"PC 3\": -0.041878913360250285, \"Class\": 0}, {\"CoinName\": \"BlackholeCoin\", \"Algorithm\": \"Scrypt\", \"ProofType\": \"PoW/PoS\", \"TotalCoinsMined\": 16362544.992, \"TotalCoinSupply\": 14788275.990999999, \"PC 1\": -0.17221731963563502, \"PC 2\": -1.1933741664566089, \"PC 3\": -0.3017786258207998, \"Class\": 0}, {\"CoinName\": \"AltCommunity Coin\", \"Algorithm\": \"SkunkHash\", \"ProofType\": \"PoW/PoS\", \"TotalCoinsMined\": 0.0, \"TotalCoinSupply\": 5000000.0, \"PC 1\": -0.11479651752867187, \"PC 2\": -0.7734985046121391, \"PC 3\": -0.15902704868400114, \"Class\": 0}, {\"CoinName\": \"Pure\", \"Algorithm\": \"X11\", \"ProofType\": \"PoW/PoS\", \"TotalCoinsMined\": 0.0, \"TotalCoinSupply\": 3686860.0, \"PC 1\": -0.13948112615848074, \"PC 2\": -1.4687680602335718, \"PC 3\": -0.31638350833849044, \"Class\": 0}, {\"CoinName\": \"Rupaya\", \"Algorithm\": \"Quark\", \"ProofType\": \"PoS\", \"TotalCoinsMined\": 0.0, \"TotalCoinSupply\": 75000000.0, \"PC 1\": 0.20077200742956644, \"PC 2\": -1.408307073807097, \"PC 3\": -0.11297187921462094, \"Class\": 0}, {\"CoinName\": \"Infinity Economics\", \"Algorithm\": \"SHA-256\", \"ProofType\": \"PoS\", \"TotalCoinsMined\": 8999999990.0, \"TotalCoinSupply\": 9000000000.0, \"PC 1\": 0.1516259751849242, \"PC 2\": -0.48158698127474286, \"PC 3\": -0.05639565084730178, \"Class\": 0}, {\"CoinName\": \"Pura\", \"Algorithm\": \"X11\", \"ProofType\": \"PoW\", \"TotalCoinsMined\": 175215859.0, \"TotalCoinSupply\": 350000000.0, \"PC 1\": -0.28652667832990036, \"PC 2\": 0.7770425070237983, \"PC 3\": 0.003000044117109749, \"Class\": 1}, {\"CoinName\": \"Innova\", \"Algorithm\": \"NeoScrypt\", \"ProofType\": \"PoW\", \"TotalCoinsMined\": 6375259.04, \"TotalCoinSupply\": 45000000.0, \"PC 1\": -0.337193359778357, \"PC 2\": 1.5354802129436078, \"PC 3\": 0.12622845070650943, \"Class\": 1}, {\"CoinName\": \"Bitdeal\", \"Algorithm\": \"Scrypt\", \"ProofType\": \"PoW\", \"TotalCoinsMined\": 0.0, \"TotalCoinSupply\": 300000000.0, \"PC 1\": -0.32190810068835823, \"PC 2\": 1.0520866091972285, \"PC 3\": 0.017643405392661567, \"Class\": 1}, {\"CoinName\": \"Ellaism\", \"Algorithm\": \"Ethash\", \"ProofType\": \"PoW\", \"TotalCoinsMined\": 12756367.0, \"TotalCoinSupply\": 280000000.0, \"PC 1\": -0.34326245426697827, \"PC 2\": 2.0238839943333145, \"PC 3\": 0.1603905903766323, \"Class\": 1}, {\"CoinName\": \"Sakuracoin\", \"Algorithm\": \"Scrypt\", \"ProofType\": \"PoW\", \"TotalCoinsMined\": 0.0, \"TotalCoinSupply\": 105100000.0, \"PC 1\": -0.3219081004118383, \"PC 2\": 1.0520866114561875, \"PC 3\": 0.01764340589855531, \"Class\": 1}, {\"CoinName\": \"GoByte\", \"Algorithm\": \"NeoScrypt\", \"ProofType\": \"PoW\", \"TotalCoinsMined\": 5832306.875, \"TotalCoinSupply\": 31800000.0, \"PC 1\": -0.3372008566004271, \"PC 2\": 1.5354792217505566, \"PC 3\": 0.12622855979293224, \"Class\": 1}, {\"CoinName\": \"Castle\", \"Algorithm\": \"Quark\", \"ProofType\": \"DPoS\", \"TotalCoinsMined\": 0.0, \"TotalCoinSupply\": 50000000.0, \"PC 1\": 4.366339754403242, \"PC 2\": -0.5972342470511249, \"PC 3\": -0.05490498839731156, \"Class\": 0}, {\"CoinName\": \"Magnet\", \"Algorithm\": \"X11\", \"ProofType\": \"PoW/PoS\", \"TotalCoinsMined\": 38198594.8342105, \"TotalCoinSupply\": 144000000.0, \"PC 1\": -0.1389536972346124, \"PC 2\": -1.4686983171782317, \"PC 3\": -0.31639118090578533, \"Class\": 0}, {\"CoinName\": \"Lamden Tau\", \"Algorithm\": \"DPoS\", \"ProofType\": \"DPoS\", \"TotalCoinsMined\": 288090567.493887, \"TotalCoinSupply\": 500000000.0, \"PC 1\": 6.899444696533391, \"PC 2\": -0.0830409888802224, \"PC 3\": 0.035922143093285855, \"Class\": 0}, {\"CoinName\": \"Electra\", \"Algorithm\": \"NIST5\", \"ProofType\": \"PoW/PoS\", \"TotalCoinsMined\": 28399150208.0, \"TotalCoinSupply\": 30000000000.0, \"PC 1\": 0.2977688353213214, \"PC 2\": -1.730674139117961, \"PC 3\": -0.34128893327629967, \"Class\": 0}, {\"CoinName\": \"Bitcoin Diamond\", \"Algorithm\": \"X13\", \"ProofType\": \"PoW/PoS\", \"TotalCoinsMined\": 183534024.88980702, \"TotalCoinSupply\": 210000000.0, \"PC 1\": 0.01433354681914738, \"PC 2\": -1.9499103900185901, \"PC 3\": -0.3639308075124804, \"Class\": 0}, {\"CoinName\": \"SHIELD\", \"Algorithm\": \"Multiple\", \"ProofType\": \"PoW\", \"TotalCoinsMined\": 481730566.566176, \"TotalCoinSupply\": 660000000.0, \"PC 1\": -0.28558157291950986, \"PC 2\": 1.7405323736689906, \"PC 3\": 0.17519990619142112, \"Class\": 1}, {\"CoinName\": \"Cash & Back Coin\", \"Algorithm\": \"Scrypt\", \"ProofType\": \"PoW/PoS\", \"TotalCoinsMined\": 110976977.29338, \"TotalCoinSupply\": 210000000.0, \"PC 1\": -0.17091092612342934, \"PC 2\": -1.1932014175097172, \"PC 3\": -0.3017976296741699, \"Class\": 0}, {\"CoinName\": \"UltraNote\", \"Algorithm\": \"CryptoNight\", \"ProofType\": \"PoW\", \"TotalCoinsMined\": 19281821413.4924, \"TotalCoinSupply\": 85000000000.0, \"PC 1\": 0.059000346502596855, \"PC 2\": 2.2751278562728974, \"PC 3\": 0.21713016473327817, \"Class\": 1}, {\"CoinName\": \"BitCoal\", \"Algorithm\": \"CryptoNight\", \"ProofType\": \"PoW\", \"TotalCoinsMined\": 4500000.0, \"TotalCoinSupply\": 12500000.0, \"PC 1\": -0.2071721701564336, \"PC 2\": 2.2399314564224917, \"PC 3\": 0.22100224306774002, \"Class\": 1}, {\"CoinName\": \"DaxxCoin\", \"Algorithm\": \"Ethash\", \"ProofType\": \"PoW\", \"TotalCoinsMined\": 520891780.0, \"TotalCoinSupply\": 10000000000.0, \"PC 1\": -0.33624636140809017, \"PC 2\": 2.024811657755707, \"PC 3\": 0.1602885059453714, \"Class\": 1}, {\"CoinName\": \"Bulwark\", \"Algorithm\": \"NIST5\", \"ProofType\": \"PoS\", \"TotalCoinsMined\": 13247178.880728599, \"TotalCoinSupply\": 27716121.0, \"PC 1\": 0.03214999418913371, \"PC 2\": -1.4388603774886046, \"PC 3\": -0.1766449028310157, \"Class\": 0}, {\"CoinName\": \"Kalkulus\", \"Algorithm\": \"Quark\", \"ProofType\": \"PoS\", \"TotalCoinsMined\": 16955764.902064003, \"TotalCoinSupply\": 20000000.0, \"PC 1\": 0.20100612513024763, \"PC 2\": -1.4082761145851614, \"PC 3\": -0.11297528464403951, \"Class\": 0}, {\"CoinName\": \"AC3\", \"Algorithm\": \"X11\", \"ProofType\": \"PoW\", \"TotalCoinsMined\": 80316207.0, \"TotalCoinSupply\": 550000000.0, \"PC 1\": -0.2878370105889305, \"PC 2\": 0.7768692327295416, \"PC 3\": 0.003019104231136077, \"Class\": 1}, {\"CoinName\": \"CHIPS\", \"Algorithm\": \"SHA-256\", \"ProofType\": \"PoW\", \"TotalCoinsMined\": 0.0, \"TotalCoinSupply\": 21000000.0, \"PC 1\": -0.24842781998746952, \"PC 2\": 1.4038295299639798, \"PC 3\": 0.10588813895447773, \"Class\": 1}, {\"CoinName\": \"Lethean\", \"Algorithm\": \"CryptoNight-V7\", \"ProofType\": \"PoW\", \"TotalCoinsMined\": 441250233.377, \"TotalCoinSupply\": 999481516.0, \"PC 1\": -0.35267496131721343, \"PC 2\": 2.134866779742873, \"PC 3\": 0.19312855928494793, \"Class\": 1}, {\"CoinName\": \"GermanCoin\", \"Algorithm\": \"Scrypt\", \"ProofType\": \"PoW/PoS\", \"TotalCoinsMined\": 4911500269.41, \"TotalCoinSupply\": 50000000000.0, \"PC 1\": -0.10462751695020513, \"PC 2\": -1.18443698713501, \"PC 3\": -0.3027619459402012, \"Class\": 0}, {\"CoinName\": \"LiteCoin Ultra\", \"Algorithm\": \"Scrypt\", \"ProofType\": \"PoW/PoS\", \"TotalCoinsMined\": 8419402.321, \"TotalCoinSupply\": 150000000.0, \"PC 1\": -0.17232699519093717, \"PC 2\": -1.193388670964485, \"PC 3\": -0.3017770307883725, \"Class\": 0}, {\"CoinName\": \"PopularCoin\", \"Algorithm\": \"Scrypt\", \"ProofType\": \"PoW\", \"TotalCoinsMined\": 3964201248.87125, \"TotalCoinSupply\": 4999999999.0, \"PC 1\": -0.26717218848495583, \"PC 2\": 1.0593245684551997, \"PC 3\": 0.01684718178262367, \"Class\": 1}, {\"CoinName\": \"PhantomX\", \"Algorithm\": \"X11\", \"ProofType\": \"PoW/PoS\", \"TotalCoinsMined\": 45174214.1078625, \"TotalCoinSupply\": 50000000.0, \"PC 1\": -0.1388573808683739, \"PC 2\": -1.4686855796949667, \"PC 3\": -0.31639258171772155, \"Class\": 0}, {\"CoinName\": \"HTML Coin\", \"Algorithm\": \"SHA-256\", \"ProofType\": \"PoW/PoS\", \"TotalCoinsMined\": 0.0, \"TotalCoinSupply\": 90000000000.0, \"PC 1\": -0.09896309370686619, \"PC 2\": -0.8416621673409086, \"PC 3\": -0.21353084013034637, \"Class\": 0}, {\"CoinName\": \"Photon\", \"Algorithm\": \"BLAKE256\", \"ProofType\": \"PoW\", \"TotalCoinsMined\": 30089671530.5228, \"TotalCoinSupply\": 90000000000.0, \"PC 1\": 0.33911506661063356, \"PC 2\": 1.2049724702584699, \"PC 3\": 0.0822405564515121, \"Class\": 1}, {\"CoinName\": \"Sucre\", \"Algorithm\": \"X11\", \"ProofType\": \"PoW\", \"TotalCoinsMined\": 4229040.50393462, \"TotalCoinSupply\": 19800000.0, \"PC 1\": -0.2888875874211926, \"PC 2\": 0.7767303155655074, \"PC 3\": 0.0030343877452552724, \"Class\": 1}, {\"CoinName\": \"Fantasy Cash\", \"Algorithm\": \"Scrypt\", \"ProofType\": \"PoW/PoS\", \"TotalCoinsMined\": 0.0, \"TotalCoinSupply\": 4600000.0, \"PC 1\": -0.17244324632847616, \"PC 2\": -1.1934040417958776, \"PC 3\": -0.30177533937063156, \"Class\": 0}, {\"CoinName\": \"SparksPay\", \"Algorithm\": \"NeoScrypt\", \"ProofType\": \"PoW\", \"TotalCoinsMined\": 7847417.33355824, \"TotalCoinSupply\": 21000000.0, \"PC 1\": -0.337173032840634, \"PC 2\": 1.5354829011534112, \"PC 3\": 0.12622815508522173, \"Class\": 1}, {\"CoinName\": \"Digiwage\", \"Algorithm\": \"Quark\", \"ProofType\": \"PoS\", \"TotalCoinsMined\": 27299680.0, \"TotalCoinSupply\": 120000000.0, \"PC 1\": 0.20114894914437806, \"PC 2\": -1.4082572293671363, \"PC 3\": -0.11297736248310049, \"Class\": 0}, {\"CoinName\": \"GunCoin\", \"Algorithm\": \"NeoScrypt\", \"ProofType\": \"PoW\", \"TotalCoinsMined\": 299797953.0, \"TotalCoinSupply\": 500000000.0, \"PC 1\": -0.3331419110237801, \"PC 2\": 1.5360159517846423, \"PC 3\": 0.1261695154597432, \"Class\": 1}, {\"CoinName\": \"IrishCoin\", \"Algorithm\": \"Scrypt\", \"ProofType\": \"PoW\", \"TotalCoinsMined\": 45483049.3398182, \"TotalCoinSupply\": 64000000.0, \"PC 1\": -0.32128009073887615, \"PC 2\": 1.0521696568929488, \"PC 3\": 0.017634270716538798, \"Class\": 1}, {\"CoinName\": \"Trollcoin\", \"Algorithm\": \"Scrypt\", \"ProofType\": \"PoW/PoS\", \"TotalCoinsMined\": 591022748.0, \"TotalCoinSupply\": 900000000.0, \"PC 1\": -0.16428266967787664, \"PC 2\": -1.192324936736049, \"PC 3\": -0.30189404885071464, \"Class\": 0}, {\"CoinName\": \"Litecoin Plus\", \"Algorithm\": \"Scrypt\", \"ProofType\": \"PoW/PoS\", \"TotalCoinsMined\": 2504486.227718, \"TotalCoinSupply\": 4000000.0, \"PC 1\": -0.17240866550128203, \"PC 2\": -1.19339946898735, \"PC 3\": -0.3017758423961374, \"Class\": 0}, {\"CoinName\": \"Monkey Project\", \"Algorithm\": \"X11\", \"ProofType\": \"PoS\", \"TotalCoinsMined\": 4407252.0, \"TotalCoinSupply\": 21000000.0, \"PC 1\": -0.013099295765757715, \"PC 2\": -1.125118363728292, \"PC 3\": -0.15744176094016593, \"Class\": 0}, {\"CoinName\": \"Pioneer Coin\", \"Algorithm\": \"X11\", \"ProofType\": \"PoW\", \"TotalCoinsMined\": 8478104.33969947, \"TotalCoinSupply\": 23000000.0, \"PC 1\": -0.28882891825159285, \"PC 2\": 0.7767380736568442, \"PC 3\": 0.003033534310773847, \"Class\": 1}, {\"CoinName\": \"UnitedBitcoin\", \"Algorithm\": \"SHA-256\", \"ProofType\": \"PoW\", \"TotalCoinsMined\": 20166000.0, \"TotalCoinSupply\": 20166000.0, \"PC 1\": -0.24814937687236013, \"PC 2\": 1.4038663499471464, \"PC 3\": 0.105884088607456, \"Class\": 1}, {\"CoinName\": \"Interzone\", \"Algorithm\": \"C11\", \"ProofType\": \"PoW\", \"TotalCoinsMined\": 11916588.09471, \"TotalCoinSupply\": 23000000.0, \"PC 1\": -0.3232304636806928, \"PC 2\": 1.089712241522602, \"PC 3\": 0.029589044337591658, \"Class\": 1}, {\"CoinName\": \"OP Coin\", \"Algorithm\": \"Scrypt\", \"ProofType\": \"PoW/PoS\", \"TotalCoinsMined\": 0.0, \"TotalCoinSupply\": 2000000000.0, \"PC 1\": -0.17244324915950454, \"PC 2\": -1.1934040649232596, \"PC 3\": -0.30177534455000904, \"Class\": 0}, {\"CoinName\": \"Valorbit\", \"Algorithm\": \"Scrypt\", \"ProofType\": \"PoW/PoS\", \"TotalCoinsMined\": 0.0, \"TotalCoinSupply\": 9.223372e+16, \"PC 1\": -0.30330236382289155, \"PC 2\": -2.262425026830229, \"PC 3\": -0.5411825965400209, \"Class\": 0}, {\"CoinName\": \"TokenPay\", \"Algorithm\": \"POS 3.0\", \"ProofType\": \"PoS\", \"TotalCoinsMined\": 20445861.534425102, \"TotalCoinSupply\": 25000000.0, \"PC 1\": 0.1324999952435964, \"PC 2\": -1.495051010760363, \"PC 3\": -0.11590185640470602, \"Class\": 0}, {\"CoinName\": \"1717 Masonic Commemorative Token\", \"Algorithm\": \"Ethash\", \"ProofType\": \"PoS\", \"TotalCoinsMined\": 1618033.0, \"TotalCoinSupply\": 1618033.0, \"PC 1\": -0.06763041601666463, \"PC 2\": 0.12201465603136703, \"PC 3\": -8.328465038876914e-05, \"Class\": 1}, {\"CoinName\": \"My Big Coin\", \"Algorithm\": \"Scrypt\", \"ProofType\": \"PoW and PoS\", \"TotalCoinsMined\": 9399342.52839847, \"TotalCoinSupply\": 30000000.0, \"PC 1\": -0.2269897260365703, \"PC 2\": -0.4544556084713521, \"PC 3\": -0.024393356020338416, \"Class\": 0}, {\"CoinName\": \"TurtleCoin\", \"Algorithm\": \"CryptoNight\", \"ProofType\": \"PoW\", \"TotalCoinsMined\": 53139835213.77, \"TotalCoinSupply\": 1000000000000.0, \"PC 1\": 0.5264953685585718, \"PC 2\": 2.336936708154556, \"PC 3\": 0.21032739405705314, \"Class\": 1}, {\"CoinName\": \"MUNcoin\", \"Algorithm\": \"SkunkHash\", \"ProofType\": \"PoW\", \"TotalCoinsMined\": 4818338.98949984, \"TotalCoinSupply\": 16600000.0, \"PC 1\": -0.2641948420149046, \"PC 2\": 1.4720009472064532, \"PC 3\": 0.1603907290506218, \"Class\": 1}, {\"CoinName\": \"Unified Society USDEX\", \"Algorithm\": \"Scrypt\", \"ProofType\": \"PoW/PoS\", \"TotalCoinsMined\": 234846265.78215697, \"TotalCoinSupply\": 232000000.0, \"PC 1\": -0.16920059438797394, \"PC 2\": -1.1929752517466745, \"PC 3\": -0.30182250892753787, \"Class\": 0}, {\"CoinName\": \"Niobio Cash\", \"Algorithm\": \"CryptoNight\", \"ProofType\": \"PoW\", \"TotalCoinsMined\": 133932467.77410801, \"TotalCoinSupply\": 336000000.0, \"PC 1\": -0.20538502495587344, \"PC 2\": 2.2401677761895002, \"PC 3\": 0.2209762456649909, \"Class\": 1}, {\"CoinName\": \"Bitcoin Private\", \"Algorithm\": \"Equihash\", \"ProofType\": \"PoW\", \"TotalCoinsMined\": 0.0, \"TotalCoinSupply\": 21000000.0, \"PC 1\": -0.34430481606641156, \"PC 2\": 1.9198246258724285, \"PC 3\": 0.1592737384243055, \"Class\": 1}, {\"CoinName\": \"Skeincoin\", \"Algorithm\": \"Skein\", \"ProofType\": \"PoW\", \"TotalCoinsMined\": 0.0, \"TotalCoinSupply\": 17000000.0, \"PC 1\": -0.3119632689892206, \"PC 2\": 0.7403417357421069, \"PC 3\": -0.00850283471594846, \"Class\": 1}, {\"CoinName\": \"ShareChain\", \"Algorithm\": \"Scrypt\", \"ProofType\": \"PoW\", \"TotalCoinsMined\": 10000000000.0, \"TotalCoinSupply\": 10000000000.0, \"PC 1\": -0.1838325843869298, \"PC 2\": 1.0703449384548325, \"PC 3\": 0.01563487620486935, \"Class\": 1}, {\"CoinName\": \"Travelflex\", \"Algorithm\": \"Dagger\", \"ProofType\": \"PoW\", \"TotalCoinsMined\": 107325266.02778299, \"TotalCoinSupply\": 100000000.0, \"PC 1\": -0.3623755397041771, \"PC 2\": 2.1412017723309837, \"PC 3\": 0.16636552031947982, \"Class\": 1}, {\"CoinName\": \"KREDS\", \"Algorithm\": \"Lyra2REv2\", \"ProofType\": \"PoW\", \"TotalCoinsMined\": 643795911.540095, \"TotalCoinSupply\": 1100000000.0, \"PC 1\": -0.31271754371379773, \"PC 2\": 1.3367807305551447, \"PC 3\": 0.12928275994613214, \"Class\": 1}, {\"CoinName\": \"Tokyo Coin\", \"Algorithm\": \"X13\", \"ProofType\": \"PoS\", \"TotalCoinsMined\": 230298925.0, \"TotalCoinSupply\": 800000000.0, \"PC 1\": 0.1413002318708618, \"PC 2\": -1.6061833616861607, \"PC 3\": -0.20499756915126346, \"Class\": 0}, {\"CoinName\": \"BiblePay\", \"Algorithm\": \"Proof-of-BibleHash\", \"ProofType\": \"POBh\", \"TotalCoinsMined\": 1772091549.88818, \"TotalCoinSupply\": 5200000000.0, \"PC 1\": 0.5023187406422729, \"PC 2\": -3.0514171288672514, \"PC 3\": 16.684816887973902, \"Class\": 3}, {\"CoinName\": \"LitecoinCash\", \"Algorithm\": \"SHA-256 + Hive\", \"ProofType\": \"PoW + Hive\", \"TotalCoinsMined\": 638382332.208514, \"TotalCoinSupply\": 840000000.0, \"PC 1\": 0.2702045006463695, \"PC 2\": -3.1529795894651436, \"PC 3\": 24.893166745630225, \"Class\": 3}, {\"CoinName\": \"BitFlip\", \"Algorithm\": \"Scrypt\", \"ProofType\": \"PoW\", \"TotalCoinsMined\": 12446100.00278, \"TotalCoinSupply\": 40000000.0, \"PC 1\": -0.32173625013396506, \"PC 2\": 1.052109336849828, \"PC 3\": 0.0176409062633565, \"Class\": 1}, {\"CoinName\": \"LottoCoin\", \"Algorithm\": \"Scrypt\", \"ProofType\": \"PoW\", \"TotalCoinsMined\": 14491014421.0, \"TotalCoinSupply\": 18406979840.0, \"PC 1\": -0.12182267664429237, \"PC 2\": 1.0785447335057814, \"PC 3\": 0.014732832335908021, \"Class\": 1}, {\"CoinName\": \"LeafCoin\", \"Algorithm\": \"Scrypt\", \"ProofType\": \"PoW\", \"TotalCoinsMined\": 0.0, \"TotalCoinSupply\": 21000000000.0, \"PC 1\": -0.3219081300570503, \"PC 2\": 1.0520863692770084, \"PC 3\": 0.017643351662526608, \"Class\": 1}, {\"CoinName\": \"Cerberus\", \"Algorithm\": \"NeoScrypt\", \"ProofType\": \"PoW\", \"TotalCoinsMined\": 0.0, \"TotalCoinSupply\": 31500000.0, \"PC 1\": -0.3372813864863277, \"PC 2\": 1.535468572870537, \"PC 3\": 0.12622973121488545, \"Class\": 1}, {\"CoinName\": \"Bitcoin Hush\", \"Algorithm\": \"Equihash\", \"ProofType\": \"PoW\", \"TotalCoinsMined\": 0.0, \"TotalCoinSupply\": 21000000.0, \"PC 1\": -0.34430481606641156, \"PC 2\": 1.9198246258724285, \"PC 3\": 0.1592737384243055, \"Class\": 1}, {\"CoinName\": \"Crypto Improvement Fund\", \"Algorithm\": \"X11\", \"ProofType\": \"PoW\", \"TotalCoinsMined\": 211297638.500483, \"TotalCoinSupply\": 500000000.0, \"PC 1\": -0.2860284774597002, \"PC 2\": 0.7771083849919326, \"PC 3\": 0.0029927966878798722, \"Class\": 1}, {\"CoinName\": \"Stipend\", \"Algorithm\": \"C11\", \"ProofType\": \"PoW/PoS\", \"TotalCoinsMined\": 11251342.1879021, \"TotalCoinSupply\": 19340594.0, \"PC 1\": -0.1737747951528464, \"PC 2\": -1.1557796274872385, \"PC 3\": -0.2898295675680536, \"Class\": 0}, {\"CoinName\": \"Poa Network\", \"Algorithm\": \"Proof-of-Authority\", \"ProofType\": \"PoA\", \"TotalCoinsMined\": 204479039.0, \"TotalCoinSupply\": 252460800.0, \"PC 1\": 0.1572203954038814, \"PC 2\": -2.989304772415327, \"PC 3\": 4.132391473008436, \"Class\": 0}, {\"CoinName\": \"Pushi\", \"Algorithm\": \"X11\", \"ProofType\": \"PoW/PoS\", \"TotalCoinsMined\": 2167827.1, \"TotalCoinSupply\": 25000000.0, \"PC 1\": -0.13945119380112742, \"PC 2\": -1.4687641023661304, \"PC 3\": -0.31638394380275414, \"Class\": 0}, {\"CoinName\": \"Ellerium\", \"Algorithm\": \"XEVAN\", \"ProofType\": \"PoW/PoS\", \"TotalCoinsMined\": 419275.38, \"TotalCoinSupply\": 60000000.0, \"PC 1\": -0.2592266484431251, \"PC 2\": -1.6005857449213534, \"PC 3\": -0.2205060960347894, \"Class\": 0}, {\"CoinName\": \"Velox\", \"Algorithm\": \"Scrypt\", \"ProofType\": \"PoS\", \"TotalCoinsMined\": 25570013.1348022, \"TotalCoinSupply\": 124000000.0, \"PC 1\": -0.045769210134461794, \"PC 2\": -0.849715706569814, \"PC 3\": -0.14283784278634995, \"Class\": 0}, {\"CoinName\": \"Ontology\", \"Algorithm\": \"VBFT\", \"ProofType\": \"PoS\", \"TotalCoinsMined\": 650848625.0, \"TotalCoinSupply\": 1000000000.0, \"PC 1\": 0.09395860849067014, \"PC 2\": -1.4879983210380792, \"PC 3\": -0.060694050749396454, \"Class\": 0}, {\"CoinName\": \"Callisto Network\", \"Algorithm\": \"Ethash\", \"ProofType\": \"PoW\", \"TotalCoinsMined\": 247612453.0, \"TotalCoinSupply\": 6500000000.0, \"PC 1\": -0.34001967523546334, \"PC 2\": 2.0243127328563806, \"PC 3\": 0.1603434032925872, \"Class\": 1}, {\"CoinName\": \"Curium\", \"Algorithm\": \"X11\", \"ProofType\": \"PoW\", \"TotalCoinsMined\": 0.0, \"TotalCoinSupply\": 22000000.0, \"PC 1\": -0.28894598012523814, \"PC 2\": 0.7767225939710667, \"PC 3\": 0.0030352371440258287, \"Class\": 1}, {\"CoinName\": \"BitTube\", \"Algorithm\": \"CryptoNight\", \"ProofType\": \"PoW\", \"TotalCoinsMined\": 80049082.9057215, \"TotalCoinSupply\": 1000000000.0, \"PC 1\": -0.20612902359067378, \"PC 2\": 2.240069385829474, \"PC 3\": 0.2209870664409311, \"Class\": 1}, {\"CoinName\": \"Dinero\", \"Algorithm\": \"NeoScrypt\", \"ProofType\": \"PoW\", \"TotalCoinsMined\": 0.0, \"TotalCoinSupply\": 100000000.0, \"PC 1\": -0.33728138658351364, \"PC 2\": 1.5354685720765986, \"PC 3\": 0.12622973103708285, \"Class\": 1}, {\"CoinName\": \"Poseidon\", \"Algorithm\": \"Scrypt\", \"ProofType\": \"PoW\", \"TotalCoinsMined\": 4070212.1493015997, \"TotalCoinSupply\": 21000000.0, \"PC 1\": -0.3218519006225206, \"PC 2\": 1.0520940440040523, \"PC 3\": 0.01764258861310805, \"Class\": 1}, {\"CoinName\": \"Aidos Kuneen\", \"Algorithm\": \"IMesh\", \"ProofType\": \"PoW\", \"TotalCoinsMined\": 25000000.0, \"TotalCoinSupply\": 25000000.0, \"PC 1\": -0.32326702262423257, \"PC 2\": 2.181647655701938, \"PC 3\": 0.22447549333369768, \"Class\": 1}, {\"CoinName\": \"Bitspace\", \"Algorithm\": \"NIST5\", \"ProofType\": \"PoW/PoS\", \"TotalCoinsMined\": 13787854.6277781, \"TotalCoinSupply\": 50000000.0, \"PC 1\": -0.09416351748512998, \"PC 2\": -1.7825010403078057, \"PC 3\": -0.3355876441253926, \"Class\": 0}, {\"CoinName\": \"Snowgem\", \"Algorithm\": \"Equihash\", \"ProofType\": \"PoW\", \"TotalCoinsMined\": 0.0, \"TotalCoinSupply\": 84096000.0, \"PC 1\": -0.3443048161559309, \"PC 2\": 1.9198246251411242, \"PC 3\": 0.15927373826052982, \"Class\": 1}, {\"CoinName\": \"Briacoin\", \"Algorithm\": \"Scrypt\", \"ProofType\": \"PoW/PoS\", \"TotalCoinsMined\": 845637.81347436, \"TotalCoinSupply\": 3000000.0, \"PC 1\": -0.17243157013727234, \"PC 2\": -1.1934024977744624, \"PC 3\": -0.30177550921317237, \"Class\": 0}, {\"CoinName\": \"Ignition\", \"Algorithm\": \"Scrypt\", \"ProofType\": \"PoW/PoS\", \"TotalCoinsMined\": 1182153.5, \"TotalCoinSupply\": 5000000.0, \"PC 1\": -0.1724269236819308, \"PC 2\": -1.1934018833724394, \"PC 3\": -0.30177557680767475, \"Class\": 0}, {\"CoinName\": \"Bitrolium\", \"Algorithm\": \"Equihash\", \"ProofType\": \"PoW\", \"TotalCoinsMined\": 71355477.0, \"TotalCoinSupply\": 70000000.0, \"PC 1\": -0.3433195716049602, \"PC 2\": 1.9199549092860657, \"PC 3\": 0.15925940652095005, \"Class\": 1}, {\"CoinName\": \"Bitcoin Interest\", \"Algorithm\": \"Equihash\", \"ProofType\": \"PoW\", \"TotalCoinsMined\": 0.0, \"TotalCoinSupply\": 22300000.0, \"PC 1\": -0.34430481606825625, \"PC 2\": 1.919824625857361, \"PC 3\": 0.1592737384209311, \"Class\": 1}, {\"CoinName\": \"MedicCoin\", \"Algorithm\": \"Scrypt\", \"ProofType\": \"PoS\", \"TotalCoinsMined\": 267297676.3125, \"TotalCoinSupply\": 500000000.0, \"PC 1\": -0.04243154314549324, \"PC 2\": -0.8492743538836314, \"PC 3\": -0.1428863948603974, \"Class\": 0}, {\"CoinName\": \"Alpenschillling\", \"Algorithm\": \"Lyra2Z\", \"ProofType\": \"PoW\", \"TotalCoinsMined\": 27340501.6514783, \"TotalCoinSupply\": 300000000.0, \"PC 1\": -0.3468691746488149, \"PC 2\": 2.165090716861554, \"PC 3\": 0.2124504900151495, \"Class\": 1}, {\"CoinName\": \"Zelcash\", \"Algorithm\": \"Equihash\", \"ProofType\": \"PoW/PoS\", \"TotalCoinsMined\": 0.0, \"TotalCoinSupply\": 210000000.0, \"PC 1\": -0.19483996239378573, \"PC 2\": -0.3256660307350422, \"PC 3\": -0.16014500759632444, \"Class\": 0}, {\"CoinName\": \"Bitcoin Green\", \"Algorithm\": \"Green Protocol\", \"ProofType\": \"PoS\", \"TotalCoinsMined\": 9803691.3618195, \"TotalCoinSupply\": 21000000.0, \"PC 1\": 0.18758993834903834, \"PC 2\": -1.4091153957076208, \"PC 3\": -0.08517299814404732, \"Class\": 0}, {\"CoinName\": \"Deviant Coin\", \"Algorithm\": \"PoS\", \"ProofType\": \"PoS\", \"TotalCoinsMined\": 21876586.8530324, \"TotalCoinSupply\": 88000000.0, \"PC 1\": 0.16060596607071267, \"PC 2\": -1.5490698605639923, \"PC 3\": -0.11344972805718988, \"Class\": 0}, {\"CoinName\": \"Abjcoin\", \"Algorithm\": \"Scrypt\", \"ProofType\": \"PoW/PoS\", \"TotalCoinsMined\": 9880502.37178894, \"TotalCoinSupply\": 30000000.0, \"PC 1\": -0.17230682080428528, \"PC 2\": -1.193386001832636, \"PC 3\": -0.3017773239394245, \"Class\": 0}, {\"CoinName\": \"Profit Hunters Coin\", \"Algorithm\": \"Scrypt\", \"ProofType\": \"PoW/PoS\", \"TotalCoinsMined\": 0.0, \"TotalCoinSupply\": 100000000.0, \"PC 1\": -0.17244324646382755, \"PC 2\": -1.1934040429015969, \"PC 3\": -0.30177533961825753, \"Class\": 0}, {\"CoinName\": \"Semux\", \"Algorithm\": \"Semux BFT consensus\", \"ProofType\": \"DPoS\", \"TotalCoinsMined\": 1231147.0, \"TotalCoinSupply\": 100000000.0, \"PC 1\": 7.548372144572433, \"PC 2\": 0.13875459011641947, \"PC 3\": -0.016616739078074257, \"Class\": 0}, {\"CoinName\": \"BitBlocks\", \"Algorithm\": \"Scrypt\", \"ProofType\": \"PoW/PoS\", \"TotalCoinsMined\": 0.0, \"TotalCoinSupply\": 500000000.0, \"PC 1\": -0.17244324703133848, \"PC 2\": -1.1934040475377363, \"PC 3\": -0.30177534065652095, \"Class\": 0}, {\"CoinName\": \"FuturoCoin\", \"Algorithm\": \"X11\", \"ProofType\": \"PoW\", \"TotalCoinsMined\": 31801461.1867843, \"TotalCoinSupply\": 100000000.0, \"PC 1\": -0.28850687987488655, \"PC 2\": 0.7767806575794738, \"PC 3\": 0.0030288496053329345, \"Class\": 1}, {\"CoinName\": \"Carebit\", \"Algorithm\": \"Quark\", \"ProofType\": \"PoW/PoS\", \"TotalCoinsMined\": 139739596.506702, \"TotalCoinSupply\": 200000000.0, \"PC 1\": 0.07638049208638838, \"PC 2\": -1.751693582279098, \"PC 3\": -0.2719425789346652, \"Class\": 0}, {\"CoinName\": \"Zealium\", \"Algorithm\": \"PoS\", \"ProofType\": \"PoS\", \"TotalCoinsMined\": 11075254.0929996, \"TotalCoinSupply\": 80000000.0, \"PC 1\": 0.1604568261074396, \"PC 2\": -1.549089582021701, \"PC 3\": -0.11344755858440841, \"Class\": 0}, {\"CoinName\": \"Monero Classic\", \"Algorithm\": \"CryptoNight\", \"ProofType\": \"PoW\", \"TotalCoinsMined\": 16016864.0, \"TotalCoinSupply\": 18400000.0, \"PC 1\": -0.20701315045465743, \"PC 2\": 2.239952484353081, \"PC 3\": 0.22099992988567302, \"Class\": 1}, {\"CoinName\": \"Proton\", \"Algorithm\": \"X16R\", \"ProofType\": \"PoS\", \"TotalCoinsMined\": 4403800.0, \"TotalCoinSupply\": 45000000.0, \"PC 1\": -0.03514715071768478, \"PC 2\": -0.7449913560948068, \"PC 3\": -0.048435502218887275, \"Class\": 0}, {\"CoinName\": \"iDealCash\", \"Algorithm\": \"Scrypt\", \"ProofType\": \"PoW/PoS\", \"TotalCoinsMined\": 1404157529.46026, \"TotalCoinSupply\": 5121951220.0, \"PC 1\": -0.15305527407156072, \"PC 2\": -1.1908403282710847, \"PC 3\": -0.3020573782563745, \"Class\": 0}, {\"CoinName\": \"Jumpcoin\", \"Algorithm\": \"NIST5\", \"ProofType\": \"PoW\", \"TotalCoinsMined\": 21069346.252259802, \"TotalCoinSupply\": 21000000.0, \"PC 1\": -0.2435278318031902, \"PC 2\": 0.4630029093142288, \"PC 3\": -0.016170361010580222, \"Class\": 1}, {\"CoinName\": \"Infinex\", \"Algorithm\": \"Lyra2RE\", \"ProofType\": \"PoW\", \"TotalCoinsMined\": 5097689.71077377, \"TotalCoinSupply\": 26280000.0, \"PC 1\": -0.4010703161318653, \"PC 2\": 2.096335654041532, \"PC 3\": 0.23666063863468614, \"Class\": 1}, {\"CoinName\": \"Bitcoin Incognito\", \"Algorithm\": \"XEVAN\", \"ProofType\": \"PoS/PoW\", \"TotalCoinsMined\": 10904963.0923455, \"TotalCoinSupply\": 21000000.0, \"PC 1\": -0.5055164731951776, \"PC 2\": -1.1501779886247507, \"PC 3\": 0.07212334113288808, \"Class\": 0}, {\"CoinName\": \"KEYCO\", \"Algorithm\": \"Tribus\", \"ProofType\": \"PoW\", \"TotalCoinsMined\": 795447.0, \"TotalCoinSupply\": 18000000.0, \"PC 1\": -0.3671197089766083, \"PC 2\": 2.1726388459580757, \"PC 3\": 0.12892260243959827, \"Class\": 1}, {\"CoinName\": \"HollyWoodCoin\", \"Algorithm\": \"Scrypt\", \"ProofType\": \"PoS\", \"TotalCoinsMined\": 38706809.466534995, \"TotalCoinSupply\": 26000000.0, \"PC 1\": -0.0455878229837374, \"PC 2\": -0.849691719690986, \"PC 3\": -0.14284048106278638, \"Class\": 0}, {\"CoinName\": \"GINcoin\", \"Algorithm\": \"Lyra2Z\", \"ProofType\": \"PoW\", \"TotalCoinsMined\": 6986399.70430446, \"TotalCoinSupply\": 10500000.0, \"PC 1\": -0.3471502145796115, \"PC 2\": 2.165053556798616, \"PC 3\": 0.21245457889613031, \"Class\": 1}, {\"CoinName\": \"PlatinCoin\", \"Algorithm\": \"CryptoNight\", \"ProofType\": \"PoW\", \"TotalCoinsMined\": 84300.0, \"TotalCoinSupply\": 600000518.0, \"PC 1\": -0.20723314100177623, \"PC 2\": 2.2399233872330613, \"PC 3\": 0.22100312843790487, \"Class\": 1}, {\"CoinName\": \"Loki\", \"Algorithm\": \"CryptoNight Heavy\", \"ProofType\": \"PoW\", \"TotalCoinsMined\": 19153632.0, \"TotalCoinSupply\": 150000000.0, \"PC 1\": 0.26029139123717454, \"PC 2\": 2.2511931117409127, \"PC 3\": 0.23109802696223217, \"Class\": 1}, {\"CoinName\": \"Newton Coin\", \"Algorithm\": \"CryptoNight\", \"ProofType\": \"PoW\", \"TotalCoinsMined\": 41294520017.0, \"TotalCoinSupply\": 184000000000.0, \"PC 1\": 0.36294170882452403, \"PC 2\": 2.315318466204301, \"PC 3\": 0.21270864842167514, \"Class\": 1}, {\"CoinName\": \"Swisscoin\", \"Algorithm\": \"Scrypt\", \"ProofType\": \"PoW/PoS\", \"TotalCoinsMined\": 10200000000.0, \"TotalCoinSupply\": 10200000000.0, \"PC 1\": -0.031606220128638854, \"PC 2\": -1.1747805494464518, \"PC 3\": -0.3038240399245111, \"Class\": 0}, {\"CoinName\": \"Xt3ch\", \"Algorithm\": \"Scrypt\", \"ProofType\": \"PoS\", \"TotalCoinsMined\": 7630000.0154, \"TotalCoinSupply\": 44000000.0, \"PC 1\": -0.04601691770304044, \"PC 2\": -0.8497484613109211, \"PC 3\": -0.14283423931986855, \"Class\": 0}, {\"CoinName\": \"MassGrid\", \"Algorithm\": \"Jump Consistent Hash\", \"ProofType\": \"PoW\", \"TotalCoinsMined\": 135862416.039898, \"TotalCoinSupply\": 168000000.0, \"PC 1\": -0.41282522882769473, \"PC 2\": 2.045769920662563, \"PC 3\": 0.33195538814651987, \"Class\": 1}, {\"CoinName\": \"TheVig\", \"Algorithm\": \"SHA-256D\", \"ProofType\": \"PoW/PoS\", \"TotalCoinsMined\": 33238183.7225834, \"TotalCoinSupply\": 100000000.0, \"PC 1\": -0.0654911628021571, \"PC 2\": -2.1593026379914684, \"PC 3\": -0.46823546388603227, \"Class\": 0}, {\"CoinName\": \"PluraCoin\", \"Algorithm\": \"CryptoNight\", \"ProofType\": \"PoW\", \"TotalCoinsMined\": 560085952.404637, \"TotalCoinSupply\": 1000000000.0, \"PC 1\": -0.19950088907006197, \"PC 2\": 2.240945858348265, \"PC 3\": 0.22089065084320217, \"Class\": 1}, {\"CoinName\": \"EmaratCoin\", \"Algorithm\": \"Scrypt\", \"ProofType\": \"PoW/PoS\", \"TotalCoinsMined\": 21599339.6728, \"TotalCoinSupply\": 84000000.0, \"PC 1\": -0.17214501241369257, \"PC 2\": -1.193364605687768, \"PC 3\": -0.3017796778127614, \"Class\": 0}, {\"CoinName\": \"Dekado\", \"Algorithm\": \"X15\", \"ProofType\": \"PoS\", \"TotalCoinsMined\": 30284196.369129, \"TotalCoinSupply\": 90000000.0, \"PC 1\": 0.121590673285385, \"PC 2\": -1.7190352532894815, \"PC 3\": -0.2777433387177362, \"Class\": 0}, {\"CoinName\": \"Lynx\", \"Algorithm\": \"Scrypt\", \"ProofType\": \"HPoW\", \"TotalCoinsMined\": 77872059787.8998, \"TotalCoinSupply\": 92000000000.0, \"PC 1\": 1.7383977009861498, \"PC 2\": -0.16676591373132924, \"PC 3\": -0.17189061265387362, \"Class\": 0}, {\"CoinName\": \"Poseidon Quark\", \"Algorithm\": \"Quark\", \"ProofType\": \"PoS\", \"TotalCoinsMined\": 2716264.95302831, \"TotalCoinSupply\": 650000000.0, \"PC 1\": 0.20080951158608762, \"PC 2\": -1.4083021209950237, \"PC 3\": -0.11297242627002954, \"Class\": 0}, {\"CoinName\": \"BitcoinWSpectrum\", \"Algorithm\": \"SHA-256\", \"ProofType\": \"PoS\", \"TotalCoinsMined\": 57811001.000889, \"TotalCoinSupply\": 100262205.0, \"PC 1\": 0.028156239353204823, \"PC 2\": -0.4979139217419616, \"PC 3\": -0.05459958550244861, \"Class\": 0}, {\"CoinName\": \"Muse\", \"Algorithm\": \"DPoS\", \"ProofType\": \"PoS\", \"TotalCoinsMined\": 18194936.0, \"TotalCoinSupply\": 18081806.0, \"PC 1\": 2.7301503520408845, \"PC 2\": -0.894606597125675, \"PC 3\": -0.02209053776242685, \"Class\": 0}, {\"CoinName\": \"Motion\", \"Algorithm\": \"X16R\", \"ProofType\": \"PoW\", \"TotalCoinsMined\": 8125865.02097646, \"TotalCoinSupply\": 22075700.0, \"PC 1\": -0.31088158906754976, \"PC 2\": 1.1568644447479182, \"PC 3\": 0.11203986315082022, \"Class\": 1}, {\"CoinName\": \"PlusOneCoin\", \"Algorithm\": \"HMQ1725\", \"ProofType\": \"PoW\", \"TotalCoinsMined\": 8645406.16776286, \"TotalCoinSupply\": 21000000.0, \"PC 1\": -0.2943861818163181, \"PC 2\": 2.240714256024411, \"PC 3\": 0.2610063224669337, \"Class\": 1}, {\"CoinName\": \"Axe\", \"Algorithm\": \"X11\", \"ProofType\": \"PoW\", \"TotalCoinsMined\": 4993030.69736615, \"TotalCoinSupply\": 21000000.0, \"PC 1\": -0.2888770385878031, \"PC 2\": 0.7767317104786386, \"PC 3\": 0.0030342342944037026, \"Class\": 1}, {\"CoinName\": \"Trivechain\", \"Algorithm\": \"X16R\", \"ProofType\": \"PoW/PoS\", \"TotalCoinsMined\": 36923120.6205934, \"TotalCoinSupply\": 82546564.0, \"PC 1\": -0.16101911557943968, \"PC 2\": -1.0885736310686522, \"PC 3\": -0.2073846664765263, \"Class\": 0}, {\"CoinName\": \"Dystem\", \"Algorithm\": \"Quark\", \"ProofType\": \"PoS\", \"TotalCoinsMined\": 7082392.24744494, \"TotalCoinSupply\": 21000000.0, \"PC 1\": 0.20086979801254878, \"PC 2\": -1.4082941418366355, \"PC 3\": -0.11297330157577806, \"Class\": 0}, {\"CoinName\": \"Giant\", \"Algorithm\": \"Quark\", \"ProofType\": \"PoW/PoS\", \"TotalCoinsMined\": 5919489.76813523, \"TotalCoinSupply\": 5151000.0, \"PC 1\": 0.07453276414572642, \"PC 2\": -1.7519379146822334, \"PC 3\": -0.27191570060680453, \"Class\": 0}, {\"CoinName\": \"Peony Coin\", \"Algorithm\": \"Scrypt\", \"ProofType\": \"PoS\", \"TotalCoinsMined\": 1042012.45227735, \"TotalCoinSupply\": 16880000000.0, \"PC 1\": -0.04610790557705995, \"PC 2\": -0.8497606850847073, \"PC 3\": -0.14283295982043456, \"Class\": 0}, {\"CoinName\": \"SafeCoin\", \"Algorithm\": \"Zhash\", \"ProofType\": \"PoW/PoS\", \"TotalCoinsMined\": 0.0, \"TotalCoinSupply\": 36000000.0, \"PC 1\": -0.05394926208776098, \"PC 2\": -2.1484365475708254, \"PC 3\": -0.41185464657939563, \"Class\": 0}, {\"CoinName\": \"Absolute Coin\", \"Algorithm\": \"Lyra2REv2\", \"ProofType\": \"PoW/PoS\", \"TotalCoinsMined\": 13332617.9413708, \"TotalCoinSupply\": 52500000.0, \"PC 1\": -0.1719578436317801, \"PC 2\": -0.9098610394488669, \"PC 3\": -0.1900093540596368, \"Class\": 0}, {\"CoinName\": \"Vitae\", \"Algorithm\": \"Quark\", \"ProofType\": \"PoS\", \"TotalCoinsMined\": 66053877.6256106, \"TotalCoinSupply\": 100000000.0, \"PC 1\": 0.20168404981068813, \"PC 2\": -1.408186470009593, \"PC 3\": -0.11298514622732052, \"Class\": 0}, {\"CoinName\": \"HexCoin\", \"Algorithm\": \"Scrypt\", \"ProofType\": \"PoW\", \"TotalCoinsMined\": 1416663.06600024, \"TotalCoinSupply\": 22105263.0, \"PC 1\": -0.3218885396437111, \"PC 2\": 1.0520891990241228, \"PC 3\": 0.01764312157663647, \"Class\": 1}, {\"CoinName\": \"TPCash\", \"Algorithm\": \"Scrypt\", \"ProofType\": \"PoW/PoS\", \"TotalCoinsMined\": 5403802.49590733, \"TotalCoinSupply\": 1000000000.0, \"PC 1\": -0.17236863445132897, \"PC 2\": -1.193394186831637, \"PC 3\": -0.30177642731024834, \"Class\": 0}, {\"CoinName\": \"Webchain\", \"Algorithm\": \"CryptoNight-V7\", \"ProofType\": \"PoW\", \"TotalCoinsMined\": 15580199.3087496, \"TotalCoinSupply\": 1750000000.0, \"PC 1\": -0.3585524239406474, \"PC 2\": 2.134089563894736, \"PC 3\": 0.19321405333389052, \"Class\": 1}, {\"CoinName\": \"Ryo\", \"Algorithm\": \"Cryptonight-GPU\", \"ProofType\": \"PoW\", \"TotalCoinsMined\": 4890897.0, \"TotalCoinSupply\": 88188888.0, \"PC 1\": -0.33867615840347426, \"PC 2\": 2.1481080008200086, \"PC 3\": 0.23548434511025856, \"Class\": 1}, {\"CoinName\": \"MUSDcoin\", \"Algorithm\": \"Scrypt\", \"ProofType\": \"PoW/PoS\", \"TotalCoinsMined\": 0.0, \"TotalCoinSupply\": 100000000.0, \"PC 1\": -0.17244324646382755, \"PC 2\": -1.1934040429015969, \"PC 3\": -0.30177533961825753, \"Class\": 0}, {\"CoinName\": \"Urals Coin\", \"Algorithm\": \"XEVAN\", \"ProofType\": \"PoW\", \"TotalCoinsMined\": 14746153.0962884, \"TotalCoinSupply\": 210000000.0, \"PC 1\": -0.40849368347323445, \"PC 2\": 0.6449310664031177, \"PC 3\": 0.09890977154677795, \"Class\": 1}, {\"CoinName\": \"Qwertycoin\", \"Algorithm\": \"CryptoNight Heavy\", \"ProofType\": \"PoW\", \"TotalCoinsMined\": 99553110528.8022, \"TotalCoinSupply\": 184470000000.0, \"PC 1\": 1.634611515513162, \"PC 2\": 2.4329244701655046, \"PC 3\": 0.2111061133755495, \"Class\": 1}, {\"CoinName\": \"ARENON\", \"Algorithm\": \"X11\", \"ProofType\": \"PoS\", \"TotalCoinsMined\": 19269509.94, \"TotalCoinSupply\": 55000000.0, \"PC 1\": -0.01289408439969533, \"PC 2\": -1.1250912279553746, \"PC 3\": -0.15744474611888515, \"Class\": 0}, {\"CoinName\": \"EUNO\", \"Algorithm\": \"X11\", \"ProofType\": \"PoW/PoS\", \"TotalCoinsMined\": 30771125.976086702, \"TotalCoinSupply\": 50000000.0, \"PC 1\": -0.13905625227120852, \"PC 2\": -1.468711877489439, \"PC 3\": -0.31638968885169433, \"Class\": 0}, {\"CoinName\": \"MMOCoin\", \"Algorithm\": \"Scrypt\", \"ProofType\": \"PoS\", \"TotalCoinsMined\": 107763867.917675, \"TotalCoinSupply\": 260000000.0, \"PC 1\": -0.044634314320704166, \"PC 2\": -0.849565634975668, \"PC 3\": -0.14285435180805167, \"Class\": 0}, {\"CoinName\": \"Ketan\", \"Algorithm\": \"PoS\", \"ProofType\": \"PoS\", \"TotalCoinsMined\": 9327131.59708692, \"TotalCoinSupply\": 210000000.0, \"PC 1\": 0.16043268862897472, \"PC 2\": -1.5490927753277106, \"PC 3\": -0.11344720781073973, \"Class\": 0}, {\"CoinName\": \"NIX\", \"Algorithm\": \"Lyra2REv2\", \"ProofType\": \"PoW\", \"TotalCoinsMined\": 0.0, \"TotalCoinSupply\": 175000000.0, \"PC 1\": -0.32160678857529434, \"PC 2\": 1.3356052702654926, \"PC 3\": 0.12941206901410532, \"Class\": 1}, {\"CoinName\": \"Safe Trade Coin\", \"Algorithm\": \"Scrypt\", \"ProofType\": \"PoS\", \"TotalCoinsMined\": 0.0, \"TotalCoinSupply\": 840000000.0, \"PC 1\": -0.04612227046203849, \"PC 2\": -0.8497624017278717, \"PC 3\": -0.14283270889745023, \"Class\": 0}, {\"CoinName\": \"Project Pai\", \"Algorithm\": \"SHA-256\", \"ProofType\": \"PoW\", \"TotalCoinsMined\": 2100000000.0, \"TotalCoinSupply\": 2100000000.0, \"PC 1\": -0.21943196162375836, \"PC 2\": 1.4076637786212824, \"PC 3\": 0.10546634771602346, \"Class\": 1}, {\"CoinName\": \"Mont Blanc\", \"Algorithm\": \"Scrypt\", \"ProofType\": \"PoS\", \"TotalCoinsMined\": 0.0, \"TotalCoinSupply\": 70000000.0, \"PC 1\": -0.04612226936957976, \"PC 2\": -0.8497623928033031, \"PC 3\": -0.142832706898793, \"Class\": 0}, {\"CoinName\": \"XDNA\", \"Algorithm\": \"Keccak\", \"ProofType\": \"PoW/PoS\", \"TotalCoinsMined\": 4672513.84432375, \"TotalCoinSupply\": 366000000.0, \"PC 1\": -0.1810590746230096, \"PC 2\": -0.8016731552555566, \"PC 3\": -0.20364313906649362, \"Class\": 0}, {\"CoinName\": \"PAXEX\", \"Algorithm\": \"X11\", \"ProofType\": \"PoS\", \"TotalCoinsMined\": 4504639.0, \"TotalCoinSupply\": 100000000.0, \"PC 1\": -0.013097951201676348, \"PC 2\": -1.1251181868304436, \"PC 3\": -0.1574417807054409, \"Class\": 0}, {\"CoinName\": \"Azart\", \"Algorithm\": \"X11\", \"ProofType\": \"PoW\", \"TotalCoinsMined\": 5015881.37315389, \"TotalCoinSupply\": 25000000.0, \"PC 1\": -0.28887672308156104, \"PC 2\": 0.7767317521540501, \"PC 3\": 0.0030342296944536233, \"Class\": 1}, {\"CoinName\": \"Apollon\", \"Algorithm\": \"Quark\", \"ProofType\": \"PoW/PoS\", \"TotalCoinsMined\": 0.0, \"TotalCoinSupply\": 250000000.0, \"PC 1\": 0.07445103012959603, \"PC 2\": -1.7519487255859916, \"PC 3\": -0.27191451231045555, \"Class\": 0}, {\"CoinName\": \"ThunderStake\", \"Algorithm\": \"Scrypt\", \"ProofType\": \"PoW/PoS\", \"TotalCoinsMined\": 1059954080.4343901, \"TotalCoinSupply\": 18000000000.0, \"PC 1\": -0.15780789971004075, \"PC 2\": -1.1914689393923088, \"PC 3\": -0.3019882782826344, \"Class\": 0}, {\"CoinName\": \"Kcash\", \"Algorithm\": \"SHA-512\", \"ProofType\": \"Zero-Knowledge Proof\", \"TotalCoinsMined\": 1000000000.0, \"TotalCoinSupply\": 1000000000.0, \"PC 1\": 0.5778686702384224, \"PC 2\": -1.9402750336995096, \"PC 3\": -0.46272695207587006, \"Class\": 0}, {\"CoinName\": \"Xchange\", \"Algorithm\": \"X16R\", \"ProofType\": \"PoW\", \"TotalCoinsMined\": 9753753.61515394, \"TotalCoinSupply\": 100000000.0, \"PC 1\": -0.31085911202005423, \"PC 2\": 1.1568674161156456, \"PC 3\": 0.11203953598647844, \"Class\": 1}, {\"CoinName\": \"Acute Angle Cloud\", \"Algorithm\": \"ECC 256K1\", \"ProofType\": \"DPOS\", \"TotalCoinsMined\": 1000000000.0, \"TotalCoinSupply\": 1000000000.0, \"PC 1\": 0.2933768121007806, \"PC 2\": -2.9376091830236377, \"PC 3\": -9.961230862114576, \"Class\": 0}, {\"CoinName\": \"Traid\", \"Algorithm\": \"NeoScrypt\", \"ProofType\": \"PoW/PoS\", \"TotalCoinsMined\": 0.0, \"TotalCoinSupply\": 252000000.0, \"PC 1\": -0.18781653285839284, \"PC 2\": -0.7100220841020296, \"PC 3\": -0.19318901488750786, \"Class\": 0}, {\"CoinName\": \"CrypticCoin\", \"Algorithm\": \"Equihash\", \"ProofType\": \"PoW\", \"TotalCoinsMined\": 4235111504.0, \"TotalCoinSupply\": 7600000000.0, \"PC 1\": -0.2858283002400135, \"PC 2\": 1.9275571916712722, \"PC 3\": 0.1584230949079914, \"Class\": 1}, {\"CoinName\": \"Bettex coin\", \"Algorithm\": \"XEVAN\", \"ProofType\": \"PoS\", \"TotalCoinsMined\": 6787405.18013774, \"TotalCoinSupply\": 50000000.0, \"PC 1\": -0.1328177430874875, \"PC 2\": -1.256932467842209, \"PC 3\": -0.0615647424086622, \"Class\": 0}, {\"CoinName\": \"ZestCoin\", \"Algorithm\": \"Quark\", \"ProofType\": \"PoW\", \"TotalCoinsMined\": 0.0, \"TotalCoinSupply\": 29300000.0, \"PC 1\": -0.07501382349805484, \"PC 2\": 0.49354193138889313, \"PC 3\": 0.04750423379245684, \"Class\": 1}, {\"CoinName\": \"X-CASH\", \"Algorithm\": \"CryptoNight Heavy X\", \"ProofType\": \"PoW\", \"TotalCoinsMined\": 0.0, \"TotalCoinSupply\": 100000000000.0, \"PC 1\": -0.2929617942568747, \"PC 2\": 2.1716045562475825, \"PC 3\": 0.24226578028354845, \"Class\": 1}, {\"CoinName\": \"Actinium\", \"Algorithm\": \"Lyra2Z\", \"ProofType\": \"PoW\", \"TotalCoinsMined\": 13634850.0, \"TotalCoinSupply\": 84000000.0, \"PC 1\": -0.3470584158540234, \"PC 2\": 2.1650656949809273, \"PC 3\": 0.21245324336144153, \"Class\": 1}, {\"CoinName\": \"ETHER-1\", \"Algorithm\": \"Ethash\", \"ProofType\": \"PoW\", \"TotalCoinsMined\": 0.0, \"TotalCoinSupply\": 13666237.0, \"PC 1\": -0.34343858810263156, \"PC 2\": 2.0238607062819187, \"PC 3\": 0.16039315318937103, \"Class\": 1}, {\"CoinName\": \"Bitcoin SV\", \"Algorithm\": \"SHA-256\", \"ProofType\": \"PoW\", \"TotalCoinsMined\": 17992514.6469233, \"TotalCoinSupply\": 21000000.0, \"PC 1\": -0.24817938738776432, \"PC 2\": 1.4038623814919229, \"PC 3\": 0.1058845251506961, \"Class\": 1}, {\"CoinName\": \"BitMoney\", \"Algorithm\": \"XEVAN\", \"ProofType\": \"Pos\", \"TotalCoinsMined\": 208515864.36734298, \"TotalCoinSupply\": 70000000000.0, \"PC 1\": -0.4976294091281389, \"PC 2\": -1.1512747537058203, \"PC 3\": 0.0493532742252858, \"Class\": 0}, {\"CoinName\": \"Bitcoiin2Gen\", \"Algorithm\": \"Ethash\", \"ProofType\": \"PoW\", \"TotalCoinsMined\": 0.0, \"TotalCoinSupply\": 100000000.0, \"PC 1\": -0.3434385882251197, \"PC 2\": 2.02386070528128, \"PC 3\": 0.16039315296527784, \"Class\": 1}, {\"CoinName\": \"FREDEnergy\", \"Algorithm\": \"CryptoNight\", \"ProofType\": \"PoW\", \"TotalCoinsMined\": 1867054873.2839699, \"TotalCoinSupply\": 8080000000.0, \"PC 1\": -0.18145485646230322, \"PC 2\": 2.243332097871061, \"PC 3\": 0.22062812723409847, \"Class\": 1}, {\"CoinName\": \"Zenad\", \"Algorithm\": \"Quark\", \"ProofType\": \"POS / MN\", \"TotalCoinsMined\": 0.0, \"TotalCoinSupply\": 46000000.0, \"PC 1\": 0.14763569456857814, \"PC 2\": -1.7079903354698303, \"PC 3\": -0.0005316027898310028, \"Class\": 0}, {\"CoinName\": \"C25 Coin\", \"Algorithm\": \"SkunkHash\", \"ProofType\": \"PoW\", \"TotalCoinsMined\": 0.0, \"TotalCoinSupply\": 6100000.0, \"PC 1\": -0.26426137147100753, \"PC 2\": 1.4719921497920065, \"PC 3\": 0.16039169684319443, \"Class\": 1}, {\"CoinName\": \"HerbCoin\", \"Algorithm\": \"Quark\", \"ProofType\": \"PoW/PoS\", \"TotalCoinsMined\": 35312185.7437239, \"TotalCoinSupply\": 54000000.0, \"PC 1\": 0.07493860528410334, \"PC 2\": -1.75188424876587, \"PC 3\": -0.2719216042683727, \"Class\": 0}, {\"CoinName\": \"Aquachain\", \"Algorithm\": \"Argon2\", \"ProofType\": \"PoW\", \"TotalCoinsMined\": 0.0, \"TotalCoinSupply\": 42000000.0, \"PC 1\": -0.3851816392866301, \"PC 2\": 2.1206753861982204, \"PC 3\": 0.22255619277437907, \"Class\": 1}, {\"CoinName\": \"Universal Molecule\", \"Algorithm\": \"Blake\", \"ProofType\": \"PoW\", \"TotalCoinsMined\": 1578281.31341127, \"TotalCoinSupply\": 105120001.44, \"PC 1\": -0.3139366358124625, \"PC 2\": 1.7269214592103896, \"PC 3\": 0.18833223801965207, \"Class\": 1}, {\"CoinName\": \"Lithium\", \"Algorithm\": \"Blake\", \"ProofType\": \"PoW\", \"TotalCoinsMined\": 15846721.248274697, \"TotalCoinSupply\": 25228800.0, \"PC 1\": -0.31373962345839596, \"PC 2\": 1.7269475120842042, \"PC 3\": 0.18832937240513992, \"Class\": 1}, {\"CoinName\": \"Smart Bitcoin\", \"Algorithm\": \"SHA-256\", \"ProofType\": \"PoW\", \"TotalCoinsMined\": 0.0, \"TotalCoinSupply\": 20999764.0, \"PC 1\": -0.248427819987469, \"PC 2\": 1.4038295299639825, \"PC 3\": 0.10588813895447839, \"Class\": 1}, {\"CoinName\": \"PirateCash\", \"Algorithm\": \"Equihash\", \"ProofType\": \"PoS\", \"TotalCoinsMined\": 13475920.0, \"TotalCoinSupply\": 105000000.0, \"PC 1\": -0.06833291571342043, \"PC 2\": 0.018000225162473137, \"PC 3\": -0.0012050813261216186, \"Class\": 0}, {\"CoinName\": \"Exosis\", \"Algorithm\": \"Exosis\", \"ProofType\": \"PoW\", \"TotalCoinsMined\": 406091.925, \"TotalCoinSupply\": 21000000.0, \"PC 1\": -0.37106534616043896, \"PC 2\": 2.086229969176603, \"PC 3\": 0.22361440548331424, \"Class\": 1}, {\"CoinName\": \"Block-Logic\", \"Algorithm\": \"Scrypt\", \"ProofType\": \"PoW\", \"TotalCoinsMined\": 35284717.173946, \"TotalCoinSupply\": 120000000.0, \"PC 1\": -0.32142090483028474, \"PC 2\": 1.0521510356785768, \"PC 3\": 0.017636318910286837, \"Class\": 1}, {\"CoinName\": \"Oduwa\", \"Algorithm\": \"Scrypt\", \"ProofType\": \"PoW/PoS\", \"TotalCoinsMined\": 14777549.394076401, \"TotalCoinSupply\": 21000000.0, \"PC 1\": -0.17223920455518135, \"PC 2\": -1.193377060483575, \"PC 3\": -0.3017783074899218, \"Class\": 0}, {\"CoinName\": \"Beam\", \"Algorithm\": \"Equihash\", \"ProofType\": \"PoW\", \"TotalCoinsMined\": 35687520.0, \"TotalCoinSupply\": 262800000.0, \"PC 1\": -0.34381205908540663, \"PC 2\": 1.9198897829201587, \"PC 3\": 0.15926656994397292, \"Class\": 1}, {\"CoinName\": \"Galilel\", \"Algorithm\": \"Quark\", \"ProofType\": \"PoW/PoS\", \"TotalCoinsMined\": 18265011.248600602, \"TotalCoinSupply\": 19035999.0, \"PC 1\": 0.07470322556825938, \"PC 2\": -1.751915373844764, \"PC 3\": -0.27191818024578523, \"Class\": 0}, {\"CoinName\": \"Bithereum\", \"Algorithm\": \"Equihash\", \"ProofType\": \"PoW\", \"TotalCoinsMined\": 25150787.5, \"TotalCoinSupply\": 30886000.0, \"PC 1\": -0.3439575452488797, \"PC 2\": 1.9198705471765338, \"PC 3\": 0.15926868685289028, \"Class\": 1}, {\"CoinName\": \"Crypto Sports\", \"Algorithm\": \"Quark\", \"ProofType\": \"PoS\", \"TotalCoinsMined\": 1934701.67524713, \"TotalCoinSupply\": 13370000.0, \"PC 1\": 0.20079872101293822, \"PC 2\": -1.4083035406290128, \"PC 3\": -0.11297226764025771, \"Class\": 0}, {\"CoinName\": \"Credit\", \"Algorithm\": \"Scrypt\", \"ProofType\": \"PoW/PoS\", \"TotalCoinsMined\": 30825710000.0296, \"TotalCoinSupply\": 74800000000.0, \"PC 1\": 0.25318427233749535, \"PC 2\": -1.1371219658603455, \"PC 3\": -0.3079668897282778, \"Class\": 0}, {\"CoinName\": \"SLICE\", \"Algorithm\": \"QuBit\", \"ProofType\": \"PoW\", \"TotalCoinsMined\": 12925790.4226959, \"TotalCoinSupply\": 100000000.0, \"PC 1\": -0.27512350305247135, \"PC 2\": 1.1267594662672782, \"PC 3\": 0.06481819566881249, \"Class\": 1}, {\"CoinName\": \"Dash Platinum\", \"Algorithm\": \"X11\", \"ProofType\": \"PoS\", \"TotalCoinsMined\": 715659.44237941, \"TotalCoinSupply\": 19700000.0, \"PC 1\": -0.013150267623830363, \"PC 2\": -1.1251251039859678, \"PC 3\": -0.15744101947894612, \"Class\": 0}, {\"CoinName\": \"Nasdacoin\", \"Algorithm\": \"Scrypt\", \"ProofType\": \"PoW/PoS\", \"TotalCoinsMined\": 20546528.2059957, \"TotalCoinSupply\": 84000000.0, \"PC 1\": -0.17215954916382625, \"PC 2\": -1.1933665279574452, \"PC 3\": -0.30177946635515607, \"Class\": 0}, {\"CoinName\": \"Vidulum\", \"Algorithm\": \"Equihash1927\", \"ProofType\": \"PoW\", \"TotalCoinsMined\": 0.0, \"TotalCoinSupply\": 100000000.0, \"PC 1\": -0.30335919933692074, \"PC 2\": 2.2644578393387067, \"PC 3\": 0.19262693889440943, \"Class\": 1}, {\"CoinName\": \"Beetle Coin\", \"Algorithm\": \"XEVAN\", \"ProofType\": \"PoW/PoS\", \"TotalCoinsMined\": 198938144.363399, \"TotalCoinSupply\": 500000000.0, \"PC 1\": -0.25648558926113785, \"PC 2\": -1.6002232855018566, \"PC 3\": -0.2205459697713192, \"Class\": 0}, {\"CoinName\": \"Titan Coin\", \"Algorithm\": \"SHA-256D\", \"ProofType\": \"PoW/PoS\", \"TotalCoinsMined\": 896361168.0, \"TotalCoinSupply\": 5000000000.0, \"PC 1\": -0.05357355339775071, \"PC 2\": -2.157726766716723, \"PC 3\": -0.4684088352022554, \"Class\": 0}, {\"CoinName\": \"Award\", \"Algorithm\": \"X11\", \"ProofType\": \"PoW/PoS\", \"TotalCoinsMined\": 15420234.5389336, \"TotalCoinSupply\": 420000000.0, \"PC 1\": -0.13926821104336987, \"PC 2\": -1.4687399101134788, \"PC 3\": -0.3163866065793879, \"Class\": 0}, {\"CoinName\": \"BlockStamp\", \"Algorithm\": \"SHA-256\", \"ProofType\": \"PoW\", \"TotalCoinsMined\": 0.0, \"TotalCoinSupply\": 105000000.0, \"PC 1\": -0.24842782010664677, \"PC 2\": 1.403829528990391, \"PC 3\": 0.10588813873644244, \"Class\": 1}, {\"CoinName\": \"BLAST\", \"Algorithm\": \"SHA-256\", \"ProofType\": \"PoW\", \"TotalCoinsMined\": 52293836.62779579, \"TotalCoinSupply\": 64000000.0, \"PC 1\": -0.24770577012733283, \"PC 2\": 1.403925009862245, \"PC 3\": 0.10587763560480837, \"Class\": 1}, {\"CoinName\": \"Bitcoin Rhodium\", \"Algorithm\": \"X13\", \"ProofType\": \"PoW\", \"TotalCoinsMined\": 1170292.5, \"TotalCoinSupply\": 2100000.0, \"PC 1\": -0.13764930372807327, \"PC 2\": 0.2952472990506269, \"PC 3\": -0.04447543361401561, \"Class\": 1}, {\"CoinName\": \"GlobalToken\", \"Algorithm\": \"SHA-256\", \"ProofType\": \"PoW\", \"TotalCoinsMined\": 84613099.9999955, \"TotalCoinSupply\": 168000000.0, \"PC 1\": -0.24725952033274773, \"PC 2\": 1.403984018595404, \"PC 3\": 0.10587114399785191, \"Class\": 1}, {\"CoinName\": \"Insane Coin\", \"Algorithm\": \"X11\", \"ProofType\": \"PoW/PoS\", \"TotalCoinsMined\": 23775960.3207514, \"TotalCoinSupply\": 30000000.0, \"PC 1\": -0.13915283836340747, \"PC 2\": -1.4687246493400508, \"PC 3\": -0.31638828381795436, \"Class\": 0}, {\"CoinName\": \"ALAX\", \"Algorithm\": \"DPoS\", \"ProofType\": \"DPoS\", \"TotalCoinsMined\": 1000000000.0, \"TotalCoinSupply\": 1000000000.0, \"PC 1\": 6.909274423049058, \"PC 2\": -0.08174115898962687, \"PC 3\": 0.035779154500467876, \"Class\": 0}, {\"CoinName\": \"The Freedom Coin\", \"Algorithm\": \"X11\", \"ProofType\": \"PoS\", \"TotalCoinsMined\": 0.0, \"TotalCoinSupply\": 25000000.0, \"PC 1\": -0.01316014913703503, \"PC 2\": -1.1251264107300163, \"PC 3\": -0.15744087575221716, \"Class\": 0}, {\"CoinName\": \"LiteDoge\", \"Algorithm\": \"Scrypt\", \"ProofType\": \"PoW/PoS\", \"TotalCoinsMined\": 15318887081.0146, \"TotalCoinSupply\": 35000000000.0, \"PC 1\": 0.03907304939034612, \"PC 2\": -1.1654345467615395, \"PC 3\": -0.3048522348196927, \"Class\": 0}, {\"CoinName\": \"Boolberry\", \"Algorithm\": \"X11\", \"ProofType\": \"PoW\", \"TotalCoinsMined\": 0.0, \"TotalCoinSupply\": 18450000.0, \"PC 1\": -0.28894598012020134, \"PC 2\": 0.7767225940122126, \"PC 3\": 0.003035237153240352, \"Class\": 1}, {\"CoinName\": \"SolarCoin\", \"Algorithm\": \"Scrypt\", \"ProofType\": \"PoW\", \"TotalCoinsMined\": 55565076.3863525, \"TotalCoinSupply\": 98100000000.0, \"PC 1\": -0.32114102170728087, \"PC 2\": 1.0521869288318035, \"PC 3\": 0.0176319912693681, \"Class\": 1}, {\"CoinName\": \"UFO Coin\", \"Algorithm\": \"NeoScrypt\", \"ProofType\": \"PoW\", \"TotalCoinsMined\": 3824685012.0, \"TotalCoinSupply\": 4000000000.0, \"PC 1\": -0.2844718510809373, \"PC 2\": 1.5424518056993604, \"PC 3\": 0.1254615313956922, \"Class\": 1}, {\"CoinName\": \"OrangeCoin\", \"Algorithm\": \"Scrypt\", \"ProofType\": \"PoW/PoS\", \"TotalCoinsMined\": 3537150.0, \"TotalCoinSupply\": 200000000.0, \"PC 1\": -0.17239440721958865, \"PC 2\": -1.1933975857759314, \"PC 3\": -0.30177605031581906, \"Class\": 0}, {\"CoinName\": \"BlakeCoin\", \"Algorithm\": \"Blake\", \"ProofType\": \"PoW\", \"TotalCoinsMined\": 23356790.1494191, \"TotalCoinSupply\": 7000000000.0, \"PC 1\": -0.31363593767960973, \"PC 2\": 1.7269611434596808, \"PC 3\": 0.1883278459006643, \"Class\": 1}, {\"CoinName\": \"BitstarCoin\", \"Algorithm\": \"Scrypt\", \"ProofType\": \"PoW/PoS\", \"TotalCoinsMined\": 20576532.0, \"TotalCoinSupply\": 54256119.0, \"PC 1\": -0.17215913484265, \"PC 2\": -1.193366472830451, \"PC 3\": -0.30177947230422497, \"Class\": 0}, {\"CoinName\": \"NeosCoin\", \"Algorithm\": \"SHA-256\", \"ProofType\": \"PoS\", \"TotalCoinsMined\": 4392258.24647793, \"TotalCoinSupply\": 21000000.0, \"PC 1\": 0.0274186573435457, \"PC 2\": -0.49801145512322653, \"PC 3\": -0.05458885612080832, \"Class\": 0}, {\"CoinName\": \"PinkCoin\", \"Algorithm\": \"X11\", \"ProofType\": \"PoW/PoS\", \"TotalCoinsMined\": 436353624.49031204, \"TotalCoinSupply\": 500000000.0, \"PC 1\": -0.13345615106297265, \"PC 2\": -1.46797135226538, \"PC 3\": -0.316471151427202, \"Class\": 0}, {\"CoinName\": \"FantomCoin \", \"Algorithm\": \"CryptoNight\", \"ProofType\": \"PoW\", \"TotalCoinsMined\": 0.0, \"TotalCoinSupply\": 18400000.0, \"PC 1\": -0.207234304153333, \"PC 2\": 2.23992324005535, \"PC 3\": 0.2210031468792303, \"Class\": 1}, {\"CoinName\": \"Crypto Escudo\", \"Algorithm\": \"Scrypt\", \"ProofType\": \"PoW\", \"TotalCoinsMined\": 780210700.0, \"TotalCoinSupply\": 1000000000.0, \"PC 1\": -0.31113530108512544, \"PC 2\": 1.0535111442407017, \"PC 3\": 0.017486697943748405, \"Class\": 1}, {\"CoinName\": \"AudioCoin\", \"Algorithm\": \"Scrypt\", \"ProofType\": \"PoW/PoS\", \"TotalCoinsMined\": 980732528.97974, \"TotalCoinSupply\": 10500000000.0, \"PC 1\": -0.15890174484016617, \"PC 2\": -1.1916134986724274, \"PC 3\": -0.3019723471348176, \"Class\": 0}, {\"CoinName\": \"IncaKoin\", \"Algorithm\": \"SHA-256\", \"ProofType\": \"PoW/PoS\", \"TotalCoinsMined\": 17939725045.334, \"TotalCoinSupply\": 190000000.0, \"PC 1\": 0.1487407381964499, \"PC 2\": -0.8089059840549833, \"PC 3\": -0.21713380798324983, \"Class\": 0}, {\"CoinName\": \"Piggy Coin\", \"Algorithm\": \"X11\", \"ProofType\": \"PoW/PoS\", \"TotalCoinsMined\": 494240666.028571, \"TotalCoinSupply\": 1000000000.0, \"PC 1\": -0.13265687337794088, \"PC 2\": -1.4678656653433348, \"PC 3\": -0.3164827793605369, \"Class\": 0}, {\"CoinName\": \"Crown Coin\", \"Algorithm\": \"SHA-256\", \"ProofType\": \"PoW\", \"TotalCoinsMined\": 22986929.0854247, \"TotalCoinSupply\": 42000000.0, \"PC 1\": -0.24811042677546358, \"PC 2\": 1.4038715002710025, \"PC 3\": 0.10588352196604475, \"Class\": 1}, {\"CoinName\": \"Genstake\", \"Algorithm\": \"Scrypt\", \"ProofType\": \"PoW/PoS\", \"TotalCoinsMined\": 60000000.0, \"TotalCoinSupply\": 15000000.0, \"PC 1\": -0.17161479316284994, \"PC 2\": -1.1932944912663133, \"PC 3\": -0.30178739042168623, \"Class\": 0}, {\"CoinName\": \"Quazar Coin\", \"Algorithm\": \"CryptoNight\", \"ProofType\": \"PoW\", \"TotalCoinsMined\": 0.0, \"TotalCoinSupply\": 18446744.0, \"PC 1\": -0.2072343041533993, \"PC 2\": 2.2399232400548086, \"PC 3\": 0.221003146879109, \"Class\": 1}, {\"CoinName\": \"SmileyCoin\", \"Algorithm\": \"Scrypt\", \"ProofType\": \"PoW\", \"TotalCoinsMined\": 29583989322.9213, \"TotalCoinSupply\": 50000000000.0, \"PC 1\": 0.08657432951413714, \"PC 2\": 1.106101787540121, \"PC 3\": 0.011701320270023106, \"Class\": 1}, {\"CoinName\": \"ParkByte\", \"Algorithm\": \"SHA-256\", \"ProofType\": \"PoW/PoS\", \"TotalCoinsMined\": 0.0, \"TotalCoinSupply\": 25000000.0, \"PC 1\": -0.09896296605236966, \"PC 2\": -0.8416611244992763, \"PC 3\": -0.21353060658595543, \"Class\": 0}, {\"CoinName\": \"XiaoMiCoin\", \"Algorithm\": \"Scrypt\", \"ProofType\": \"PoW/PoS\", \"TotalCoinsMined\": 404316475.545465, \"TotalCoinSupply\": 400000000.0, \"PC 1\": -0.16686062572202331, \"PC 2\": -1.192665827499639, \"PC 3\": -0.30185654752319524, \"Class\": 0}, {\"CoinName\": \"Groestlcoin\", \"Algorithm\": \"Groestl\", \"ProofType\": \"PoW\", \"TotalCoinsMined\": 73298203.8873662, \"TotalCoinSupply\": 105000000.0, \"PC 1\": -0.3437789131691433, \"PC 2\": 1.4453245266403738, \"PC 3\": 0.10776675722225165, \"Class\": 1}, {\"CoinName\": \"CapriCoin\", \"Algorithm\": \"X11\", \"ProofType\": \"PoW/PoS\", \"TotalCoinsMined\": 201364327.427503, \"TotalCoinSupply\": 208000000.0, \"PC 1\": -0.1367007778238112, \"PC 2\": -1.4684004027186761, \"PC 3\": -0.3164239529747267, \"Class\": 0}, {\"CoinName\": \" ClubCoin\", \"Algorithm\": \"Scrypt\", \"ProofType\": \"PoW/PoS\", \"TotalCoinsMined\": 103621876.167052, \"TotalCoinSupply\": 160000000.0, \"PC 1\": -0.17101248200115937, \"PC 2\": -1.1932148461986993, \"PC 3\": -0.30179615226937667, \"Class\": 0}, {\"CoinName\": \"Radium\", \"Algorithm\": \"PoS\", \"ProofType\": \"PoS\", \"TotalCoinsMined\": 3821245.74150193, \"TotalCoinSupply\": 9000000.0, \"PC 1\": 0.16035666610335114, \"PC 2\": -1.5491028258876316, \"PC 3\": -0.11344610142963042, \"Class\": 0}, {\"CoinName\": \"Bata\", \"Algorithm\": \"Scrypt\", \"ProofType\": \"PoW\", \"TotalCoinsMined\": 5052555.91981545, \"TotalCoinSupply\": 5000000.0, \"PC 1\": -0.32183833683613816, \"PC 2\": 1.0520958377961431, \"PC 3\": 0.017642391350498273, \"Class\": 1}, {\"CoinName\": \"Pakcoin\", \"Algorithm\": \"Scrypt\", \"ProofType\": \"PoW\", \"TotalCoinsMined\": 69684455.4387001, \"TotalCoinSupply\": 182000000.0, \"PC 1\": -0.3209459287087533, \"PC 2\": 1.0522138435214803, \"PC 3\": 0.017629409548131577, \"Class\": 1}, {\"CoinName\": \"Creditbit \", \"Algorithm\": \"X11\", \"ProofType\": \"Proof of Trust\", \"TotalCoinsMined\": 16901016.6609755, \"TotalCoinSupply\": 16504333.0, \"PC 1\": -0.0801596325395675, \"PC 2\": -0.9131874095279188, \"PC 3\": -0.2059951190069294, \"Class\": 0}, {\"CoinName\": \"OKCash\", \"Algorithm\": \"SHA-256\", \"ProofType\": \"PoW/PoS\", \"TotalCoinsMined\": 74676064.9488608, \"TotalCoinSupply\": 105000000.0, \"PC 1\": -0.09793187244078434, \"PC 2\": -0.8415247785687984, \"PC 3\": -0.21354560551119747, \"Class\": 0}, {\"CoinName\": \"Lisk\", \"Algorithm\": \"DPoS\", \"ProofType\": \"DPoS\", \"TotalCoinsMined\": 120012140.0, \"TotalCoinSupply\": 159918400.0, \"PC 1\": 6.897123945219046, \"PC 2\": -0.08334786995523086, \"PC 3\": 0.035955902595581485, \"Class\": 0}, {\"CoinName\": \"HiCoin\", \"Algorithm\": \"Scrypt\", \"ProofType\": \"PoS\", \"TotalCoinsMined\": 10000244677.7002, \"TotalCoinSupply\": 10008835635.0, \"PC 1\": 0.09195662499330885, \"PC 2\": -0.8315036195705346, \"PC 3\": -0.14484128585013514, \"Class\": 0}, {\"CoinName\": \"WhiteCoin\", \"Algorithm\": \"Scrypt\", \"ProofType\": \"PoW/PoS\", \"TotalCoinsMined\": 252005564.19257003, \"TotalCoinSupply\": 300000000.0, \"PC 1\": -0.16896366656209724, \"PC 2\": -1.1929439223298812, \"PC 3\": -0.30182595555600905, \"Class\": 0}, {\"CoinName\": \"Dotcoin\", \"Algorithm\": \"Scrypt\", \"ProofType\": \"PoW\", \"TotalCoinsMined\": 0.0, \"TotalCoinSupply\": 890000000.0, \"PC 1\": -0.32190810152543653, \"PC 2\": 1.0520866023589228, \"PC 3\": 0.017643403861222887, \"Class\": 1}, {\"CoinName\": \"FriendshipCoin\", \"Algorithm\": \"NeoScrypt\", \"ProofType\": \"PoW/PoS\", \"TotalCoinsMined\": 1120385.00502, \"TotalCoinSupply\": 60168145.0, \"PC 1\": -0.18780106281088194, \"PC 2\": -0.7100200362302036, \"PC 3\": -0.19318923941935526, \"Class\": 0}, {\"CoinName\": \"The Hempcoin\", \"Algorithm\": \"Scrypt\", \"ProofType\": \"PoW/PoS\", \"TotalCoinsMined\": 0.0, \"TotalCoinSupply\": 300000000.0, \"PC 1\": -0.17244324674758296, \"PC 2\": -1.1934040452196666, \"PC 3\": -0.30177534013738894, \"Class\": 0}, {\"CoinName\": \"Fiii\", \"Algorithm\": \"SHA3-256\", \"ProofType\": \"DPoC\", \"TotalCoinsMined\": -5917977547.96773, \"TotalCoinSupply\": 5000000000.0, \"PC 1\": -0.5650134816104555, \"PC 2\": -3.2482142163600627, \"PC 3\": 15.094171771576693, \"Class\": 3}, {\"CoinName\": \"JoinCoin\", \"Algorithm\": \"Multiple\", \"ProofType\": \"PoW\", \"TotalCoinsMined\": 3332922.5, \"TotalCoinSupply\": 2800000.0, \"PC 1\": -0.29218707281564915, \"PC 2\": 1.739658901737574, \"PC 3\": 0.1752959942559314, \"Class\": 1}, {\"CoinName\": \"Triangles Coin\", \"Algorithm\": \"X13\", \"ProofType\": \"PoW/PoS\", \"TotalCoinsMined\": 140777.753365, \"TotalCoinSupply\": 120000.0, \"PC 1\": 0.011801335136076094, \"PC 2\": -1.950245235076815, \"PC 3\": -0.3638939723604771, \"Class\": 0}, {\"CoinName\": \"Vollar\", \"Algorithm\": \"Equihash+Scrypt\", \"ProofType\": \"PoW\", \"TotalCoinsMined\": 100000000.0, \"TotalCoinSupply\": 2100000000.0, \"PC 1\": -0.3537957354765998, \"PC 2\": 2.091102742489976, \"PC 3\": 0.12729946968703962, \"Class\": 1}, {\"CoinName\": \"Reality Clash\", \"Algorithm\": \"Ethash\", \"ProofType\": \"PoW\", \"TotalCoinsMined\": 24487944.095820397, \"TotalCoinSupply\": 24487944.0, \"PC 1\": -0.34310046953186507, \"PC 2\": 2.0239054173264144, \"PC 3\": 0.16038823474789066, \"Class\": 1}, {\"CoinName\": \"iOlite\", \"Algorithm\": \"Ethash\", \"ProofType\": \"PoW\", \"TotalCoinsMined\": 0.0, \"TotalCoinSupply\": 1000000000.0, \"PC 1\": -0.3434385895020196, \"PC 2\": 2.0238606948499664, \"PC 3\": 0.16039315062918505, \"Class\": 1}, {\"CoinName\": \"TigerCash\", \"Algorithm\": \"SHA-256\", \"ProofType\": \"PoS\", \"TotalCoinsMined\": 1000000000.0, \"TotalCoinSupply\": 1000000000.0, \"PC 1\": 0.041165562622363754, \"PC 2\": -0.4961936418808842, \"PC 3\": -0.05478882687611846, \"Class\": 0}, {\"CoinName\": \"Waves\", \"Algorithm\": \"Leased POS\", \"ProofType\": \"LPoS\", \"TotalCoinsMined\": 100000000.0, \"TotalCoinSupply\": 100000000.0, \"PC 1\": 0.26197406160105463, \"PC 2\": -2.8357309358047007, \"PC 3\": 0.3199296498611601, \"Class\": 0}, {\"CoinName\": \"Particl\", \"Algorithm\": \"PoS\", \"ProofType\": \"PoS\", \"TotalCoinsMined\": 9283137.5558676, \"TotalCoinSupply\": 8634140.0, \"PC 1\": 0.16043208146461171, \"PC 2\": -1.5490928533200736, \"PC 3\": -0.11344719845184215, \"Class\": 0}, {\"CoinName\": \"BitTorrent\", \"Algorithm\": \"TRC10\", \"ProofType\": \"DPoS\", \"TotalCoinsMined\": 989988713439.649, \"TotalCoinSupply\": 990000000000.0, \"PC 1\": 32.24695208890699, \"PC 2\": 3.4571169632425933, \"PC 3\": -0.3860912452238707, \"Class\": 2}, {\"CoinName\": \"Nxt\", \"Algorithm\": \"PoS\", \"ProofType\": \"PoS/LPoS\", \"TotalCoinsMined\": 1000000000.0, \"TotalCoinSupply\": 1000000000.0, \"PC 1\": 0.29866591806904846, \"PC 2\": -1.7992076750675066, \"PC 3\": -0.10875053803459118, \"Class\": 0}, {\"CoinName\": \"ZEPHYR\", \"Algorithm\": \"SHA-256\", \"ProofType\": \"DPoS\", \"TotalCoinsMined\": 1999999995.3056, \"TotalCoinSupply\": 2000000000.0, \"PC 1\": 4.220540861083331, \"PC 2\": 0.3167050171548085, \"PC 3\": 0.0030772108805928507, \"Class\": 0}, {\"CoinName\": \"Gapcoin\", \"Algorithm\": \"Scrypt\", \"ProofType\": \"PoW/PoS\", \"TotalCoinsMined\": 14931046.1546605, \"TotalCoinSupply\": 250000000.0, \"PC 1\": -0.17223708546542318, \"PC 2\": -1.1933767828765998, \"PC 3\": -0.3017783389142134, \"Class\": 0}, {\"CoinName\": \"Beldex\", \"Algorithm\": \"CryptoNight\", \"ProofType\": \"PoW\", \"TotalCoinsMined\": 980222595.0, \"TotalCoinSupply\": 1400222610.0, \"PC 1\": -0.19369983067534008, \"PC 2\": 2.2417129577483585, \"PC 3\": 0.22080626519122487, \"Class\": 1}, {\"CoinName\": \"Horizen\", \"Algorithm\": \"Equihash\", \"ProofType\": \"PoW\", \"TotalCoinsMined\": 7296537.5, \"TotalCoinSupply\": 21000000.0, \"PC 1\": -0.34420406873811765, \"PC 2\": 1.9198379482128725, \"PC 3\": 0.1592722729118228, \"Class\": 1}, {\"CoinName\": \"BitcoinPlus\", \"Algorithm\": \"Scrypt\", \"ProofType\": \"PoS\", \"TotalCoinsMined\": 128326.99633965, \"TotalCoinSupply\": 1000000.0, \"PC 1\": -0.04612049738988025, \"PC 2\": -0.8497621576984712, \"PC 3\": -0.14283273249422124, \"Class\": 0}]}}, {\"mode\": \"vega-lite\"});\n",
       "</script>"
      ],
      "text/plain": [
       "alt.Chart(...)"
      ]
     },
     "execution_count": 118,
     "metadata": {},
     "output_type": "execute_result"
    }
   ],
   "source": [
    "# alair\n",
    "# import altair as alt\n",
    "# from vega_datasets import data\n",
    "\n",
    "# source = data.cars()\n",
    "\n",
    "alt.Chart(clustered_df).mark_circle(size=60).encode(\n",
    "    x='PC 1',\n",
    "    y='PC 2',\n",
    "    color='Algorithm',\n",
    "    tooltip=[\"CoinName\", \"Algorithm\", \"TotalCoinsMined\", \"TotalCoinSupply\"]\n",
    ").interactive()"
   ]
  },
  {
   "cell_type": "markdown",
   "metadata": {},
   "source": [
    "#### Table of Tradable Cryptocurrencies"
   ]
  },
  {
   "cell_type": "code",
   "execution_count": 97,
   "metadata": {},
   "outputs": [
    {
     "data": {},
     "metadata": {},
     "output_type": "display_data"
    },
    {
     "data": {
      "application/vnd.holoviews_exec.v0+json": "",
      "text/html": [
       "<div id='1360'>\n",
       "\n",
       "\n",
       "\n",
       "\n",
       "\n",
       "  <div class=\"bk-root\" id=\"590b5837-def1-4f47-a87d-5766df562430\" data-root-id=\"1360\"></div>\n",
       "</div>\n",
       "<script type=\"application/javascript\">(function(root) {\n",
       "  function embed_document(root) {\n",
       "    var docs_json = {\"32457bcc-d6c5-464f-a37e-6b68a1312776\":{\"roots\":{\"references\":[{\"attributes\":{\"editor\":{\"id\":\"1365\"},\"field\":\"CoinName\",\"formatter\":{\"id\":\"1364\"},\"title\":\"CoinName\"},\"id\":\"1366\",\"type\":\"TableColumn\"},{\"attributes\":{\"editor\":{\"id\":\"1370\"},\"field\":\"Algorithm\",\"formatter\":{\"id\":\"1369\"},\"title\":\"Algorithm\"},\"id\":\"1371\",\"type\":\"TableColumn\"},{\"attributes\":{\"data\":{\"Algorithm\":[\"Scrypt\",\"Scrypt\",\"X13\",\"SHA-256\",\"Scrypt\",\"X11\",\"Ethash\",\"Equihash\",\"SHA-512\",\"Multiple\",\"SHA-256\",\"X11\",\"SHA-256\",\"Scrypt\",\"X15\",\"X11\",\"SHA-256\",\"X13\",\"X13\",\"Scrypt\",\"Scrypt\",\"Scrypt\",\"SHA-256\",\"Multiple\",\"Scrypt\",\"SHA-256\",\"Scrypt\",\"Scrypt\",\"Quark\",\"Groestl\",\"Scrypt\",\"X11\",\"Scrypt\",\"Scrypt\",\"Scrypt\",\"Scrypt\",\"Scrypt\",\"Scrypt\",\"Multiple\",\"Scrypt\",\"X11\",\"Scrypt\",\"Groestl\",\"Multiple\",\"X11\",\"Scrypt\",\"SHA-256\",\"Scrypt\",\"Scrypt\",\"Scrypt\",\"Scrypt\",\"Scrypt\",\"Scrypt\",\"X11\",\"NIST5\",\"SHA-256\",\"Scrypt\",\"NeoScrypt\",\"Scrypt\",\"Scrypt\",\"Scrypt\",\"X11\",\"Scrypt\",\"Multiple\",\"Scrypt\",\"X11\",\"SHA-256\",\"X11\",\"X13\",\"Scrypt\",\"Scrypt\",\"Scrypt\",\"Scrypt\",\"X11\",\"SHA3\",\"Scrypt\",\"HybridScryptHash256\",\"Scrypt\",\"SHA-256\",\"Scrypt\",\"SHA-256\",\"Scrypt\",\"SHA-256\",\"Scrypt\",\"NeoScrypt\",\"Scrypt\",\"Scrypt\",\"Scrypt\",\"Scrypt\",\"Scrypt\",\"X15\",\"Scrypt\",\"Scrypt\",\"Scrypt-n\",\"Scrypt\",\"X11\",\"SHA-256\",\"Multiple\",\"SHA-256\",\"PHI1612\",\"X11\",\"SHA-256\",\"SHA-256\",\"SHA-256\",\"SHA-256\",\"Scrypt\",\"Scrypt\",\"Scrypt\",\"Lyra2REv2\",\"Scrypt\",\"Scrypt\",\"X11\",\"SHA-256\",\"Scrypt\",\"Scrypt\",\"CryptoNight\",\"CryptoNight\",\"Shabal256\",\"Counterparty\",\"Scrypt\",\"SHA-256\",\"SHA-256\",\"Scrypt\",\"Scrypt\",\"Scrypt\",\"X13\",\"Scrypt\",\"Scrypt\",\"Scrypt\",\"SHA-256\",\"X13\",\"X13\",\"Scrypt\",\"X11\",\"Momentum\",\"Stanford Folding\",\"X11\",\"Scrypt\",\"Scrypt\",\"Scrypt\",\"M7 POW\",\"Scrypt\",\"X11\",\"Scrypt\",\"SHA-256\",\"Scrypt\",\"X11\",\"SHA3\",\"X11\",\"Lyra2RE\",\"SHA-256\",\"QUAIT\",\"X11\",\"Scrypt\",\"Scrypt\",\"Scrypt\",\"Ethash\",\"X11\",\"X13\",\"SHA-256\",\"X13\",\"X15\",\"X11\",\"SHA-256\",\"BLAKE256\",\"Scrypt\",\"Scrypt\",\"1GB AES Pattern Search\",\"SHA-256\",\"X11\",\"Scrypt\",\"CryptoNight\",\"SHA-256\",\"Quark\",\"SHA-256\",\"Blake\",\"Scrypt\",\"Scrypt\",\"SHA-256\",\"X11\",\"Scrypt\",\"Scrypt-n\",\"X11\",\"Scrypt\",\"Dagger\",\"Scrypt\",\"SHA-256\",\"CryptoNight-Lite\",\"X11GOST\",\"X11\",\"SHA-256\",\"Scrypt\",\"SHA-256\",\"Scrypt\",\"PoS\",\"Scrypt\",\"X11\",\"X11\",\"X11\",\"X11\",\"PoS\",\"SHA-256\",\"SHA-256\",\"SHA-256\",\"NIST5\",\"X15\",\"X11\",\"NIST5\",\"Scrypt\",\"Scrypt\",\"Scrypt\",\"POS 3.0\",\"Scrypt\",\"Scrypt\",\"Scrypt\",\"X13\",\"X11\",\"X11\",\"Equihash\",\"X11\",\"X11\",\"Scrypt\",\"CryptoNight\",\"SHA-256\",\"SHA-256\",\"X11\",\"Scrypt\",\"Multiple\",\"Scrypt\",\"X11\",\"SHA-256\",\"Scrypt\",\"Scrypt\",\"SHA-256D\",\"PoS\",\"Scrypt\",\"X11\",\"Scrypt-n\",\"Lyra2Z\",\"SHA-256\",\"PoS\",\"X13\",\"Quark\",\"X14\",\"PoS\",\"SHA-256D\",\"Ethash\",\"SHA-256\",\"Equihash\",\"DPoS\",\"X11\",\"Scrypt\",\"Scrypt\",\"Equihash\",\"X11\",\"X13\",\"X11\",\"PoS\",\"SHA-256D\",\"Scrypt\",\"Scrypt\",\"Scrypt\",\"X11\",\"PoS\",\"X11\",\"SHA-256\",\"Scrypt\",\"X11\",\"Scrypt\",\"Scrypt\",\"X11\",\"CryptoNight\",\"Scrypt\",\"Scrypt\",\"Scrypt\",\"Scrypt\",\"Quark\",\"QuBit\",\"Scrypt\",\"CryptoNight\",\"X11\",\"Lyra2RE\",\"X13\",\"PoS\",\"Scrypt\",\"SHA-256\",\"X11\",\"X11\",\"X11\",\"Scrypt\",\"X11\",\"Scrypt\",\"Scrypt\",\"CryptoNight-V7\",\"Scrypt\",\"Scrypt\",\"Keccak\",\"Scrypt\",\"X13\",\"X11\",\"Equihash\",\"Scrypt\",\"Scrypt\",\"Lyra2RE\",\"Ethash\",\"X11\",\"Scrypt\",\"Dagger-Hashimoto\",\"X11\",\"Blake2S\",\"X11\",\"Scrypt\",\"Scrypt\",\"PoS\",\"X11\",\"NIST5\",\"PoS\",\"X11\",\"Scrypt\",\"Scrypt\",\"Scrypt\",\"Scrypt\",\"SHA-256\",\"X11\",\"Scrypt\",\"Scrypt\",\"Scrypt\",\"SHA-256\",\"PoS\",\"Scrypt\",\"X11\",\"X15\",\"SHA-256\",\"Scrypt\",\"POS 3.0\",\"CryptoNight-V7\",\"536\",\"Blake2b\",\"Cloverhash\",\"CryptoNight\",\"NIST5\",\"X11\",\"NIST5\",\"Skein\",\"Scrypt\",\"X13\",\"Scrypt\",\"X11\",\"X11\",\"X11\",\"Scrypt\",\"CryptoNight\",\"X13\",\"Time Travel\",\"Scrypt\",\"Keccak\",\"SkunkHash v2 Raptor\",\"X11\",\"Skein\",\"SHA-256\",\"X11\",\"Scrypt\",\"Scrypt\",\"VeChainThor Authority\",\"Scrypt\",\"PoS\",\"Scrypt\",\"Scrypt\",\"Scrypt\",\"Scrypt\",\"Scrypt\",\"Scrypt\",\"Scrypt\",\"CryptoNight\",\"SHA-512\",\"Ouroboros\",\"X11\",\"Equihash\",\"NeoScrypt\",\"X11\",\"Scrypt\",\"NeoScrypt\",\"Lyra2REv2\",\"Equihash\",\"Scrypt\",\"SHA-256\",\"NIST5\",\"PHI1612\",\"Dagger\",\"Scrypt\",\"Quark\",\"Scrypt\",\"POS 2.0\",\"Scrypt\",\"SkunkHash\",\"X11\",\"Quark\",\"SHA-256\",\"X11\",\"NeoScrypt\",\"Scrypt\",\"Ethash\",\"Scrypt\",\"NeoScrypt\",\"Quark\",\"X11\",\"DPoS\",\"NIST5\",\"X13\",\"Multiple\",\"Scrypt\",\"CryptoNight\",\"CryptoNight\",\"Ethash\",\"NIST5\",\"Quark\",\"X11\",\"SHA-256\",\"CryptoNight-V7\",\"Scrypt\",\"Scrypt\",\"Scrypt\",\"X11\",\"SHA-256\",\"BLAKE256\",\"X11\",\"Scrypt\",\"NeoScrypt\",\"Quark\",\"NeoScrypt\",\"Scrypt\",\"Scrypt\",\"Scrypt\",\"X11\",\"X11\",\"SHA-256\",\"C11\",\"Scrypt\",\"Scrypt\",\"POS 3.0\",\"Ethash\",\"Scrypt\",\"CryptoNight\",\"SkunkHash\",\"Scrypt\",\"CryptoNight\",\"Equihash\",\"Skein\",\"Scrypt\",\"Dagger\",\"Lyra2REv2\",\"X13\",\"Proof-of-BibleHash\",\"SHA-256 + Hive\",\"Scrypt\",\"Scrypt\",\"Scrypt\",\"NeoScrypt\",\"Equihash\",\"X11\",\"C11\",\"Proof-of-Authority\",\"X11\",\"XEVAN\",\"Scrypt\",\"VBFT\",\"Ethash\",\"X11\",\"CryptoNight\",\"NeoScrypt\",\"Scrypt\",\"IMesh\",\"NIST5\",\"Equihash\",\"Scrypt\",\"Scrypt\",\"Equihash\",\"Equihash\",\"Scrypt\",\"Lyra2Z\",\"Equihash\",\"Green Protocol\",\"PoS\",\"Scrypt\",\"Scrypt\",\"Semux BFT consensus\",\"Scrypt\",\"X11\",\"Quark\",\"PoS\",\"CryptoNight\",\"X16R\",\"Scrypt\",\"NIST5\",\"Lyra2RE\",\"XEVAN\",\"Tribus\",\"Scrypt\",\"Lyra2Z\",\"CryptoNight\",\"CryptoNight Heavy\",\"CryptoNight\",\"Scrypt\",\"Scrypt\",\"Jump Consistent Hash\",\"SHA-256D\",\"CryptoNight\",\"Scrypt\",\"X15\",\"Scrypt\",\"Quark\",\"SHA-256\",\"DPoS\",\"X16R\",\"HMQ1725\",\"X11\",\"X16R\",\"Quark\",\"Quark\",\"Scrypt\",\"Zhash\",\"Lyra2REv2\",\"Quark\",\"Scrypt\",\"Scrypt\",\"CryptoNight-V7\",\"Cryptonight-GPU\",\"Scrypt\",\"XEVAN\",\"CryptoNight Heavy\",\"X11\",\"X11\",\"Scrypt\",\"PoS\",\"Lyra2REv2\",\"Scrypt\",\"SHA-256\",\"Scrypt\",\"Keccak\",\"X11\",\"X11\",\"Quark\",\"Scrypt\",\"SHA-512\",\"X16R\",\"ECC 256K1\",\"NeoScrypt\",\"Equihash\",\"XEVAN\",\"Quark\",\"CryptoNight Heavy X\",\"Lyra2Z\",\"Ethash\",\"SHA-256\",\"XEVAN\",\"Ethash\",\"CryptoNight\",\"Quark\",\"SkunkHash\",\"Quark\",\"Argon2\",\"Blake\",\"Blake\",\"SHA-256\",\"Equihash\",\"Exosis\",\"Scrypt\",\"Scrypt\",\"Equihash\",\"Quark\",\"Equihash\",\"Quark\",\"Scrypt\",\"QuBit\",\"X11\",\"Scrypt\",\"Equihash1927\",\"XEVAN\",\"SHA-256D\",\"X11\",\"SHA-256\",\"SHA-256\",\"X13\",\"SHA-256\",\"X11\",\"DPoS\",\"X11\",\"Scrypt\",\"X11\",\"Scrypt\",\"NeoScrypt\",\"Scrypt\",\"Blake\",\"Scrypt\",\"SHA-256\",\"X11\",\"CryptoNight\",\"Scrypt\",\"Scrypt\",\"SHA-256\",\"X11\",\"SHA-256\",\"Scrypt\",\"CryptoNight\",\"Scrypt\",\"SHA-256\",\"Scrypt\",\"Groestl\",\"X11\",\"Scrypt\",\"PoS\",\"Scrypt\",\"Scrypt\",\"X11\",\"SHA-256\",\"DPoS\",\"Scrypt\",\"Scrypt\",\"Scrypt\",\"NeoScrypt\",\"Scrypt\",\"SHA3-256\",\"Multiple\",\"X13\",\"Equihash+Scrypt\",\"Ethash\",\"Ethash\",\"SHA-256\",\"Leased POS\",\"PoS\",\"TRC10\",\"PoS\",\"SHA-256\",\"Scrypt\",\"CryptoNight\",\"Equihash\",\"Scrypt\"],\"Class\":{\"__ndarray__\":\"AAAAAAAAAAAAAAAAAQAAAAEAAAAAAAAAAQAAAAEAAAAAAAAAAQAAAAAAAAAAAAAAAAAAAAEAAAAAAAAAAQAAAAEAAAAAAAAAAAAAAAAAAAABAAAAAAAAAAEAAAABAAAAAQAAAAEAAAABAAAAAQAAAAEAAAABAAAAAQAAAAEAAAAAAAAAAQAAAAAAAAABAAAAAAAAAAEAAAAAAAAAAAAAAAEAAAAAAAAAAAAAAAEAAAAAAAAAAQAAAAEAAAABAAAAAQAAAAEAAAABAAAAAQAAAAEAAAAAAAAAAAAAAAEAAAABAAAAAQAAAAEAAAABAAAAAQAAAAAAAAAAAAAAAQAAAAEAAAAAAAAAAQAAAAAAAAAAAAAAAQAAAAEAAAABAAAAAQAAAAAAAAAAAAAAAQAAAAEAAAABAAAAAAAAAAAAAAABAAAAAQAAAAEAAAABAAAAAAAAAAAAAAAAAAAAAQAAAAEAAAABAAAAAAAAAAAAAAABAAAAAQAAAAEAAAAAAAAAAQAAAAAAAAABAAAAAAAAAAAAAAABAAAAAQAAAAEAAAABAAAAAAAAAAAAAAABAAAAAQAAAAEAAAAAAAAAAAAAAAEAAAAAAAAAAAAAAAEAAAABAAAAAAAAAAAAAAABAAAAAAAAAAEAAAAAAAAAAQAAAAEAAAAAAAAAAQAAAAAAAAABAAAAAAAAAAAAAAAAAAAAAQAAAAAAAAABAAAAAQAAAAAAAAABAAAAAAAAAAEAAAABAAAAAQAAAAEAAAABAAAAAQAAAAEAAAABAAAAAAAAAAEAAAABAAAAAQAAAAAAAAABAAAAAQAAAAEAAAAAAAAAAQAAAAAAAAAAAAAAAAAAAAAAAAAAAAAAAQAAAAEAAAAAAAAAAQAAAAEAAAABAAAAAAAAAAAAAAABAAAAAQAAAAAAAAAAAAAAAQAAAAAAAAAAAAAAAAAAAAEAAAABAAAAAAAAAAEAAAABAAAAAQAAAAEAAAABAAAAAAAAAAEAAAABAAAAAAAAAAEAAAAAAAAAAAAAAAAAAAAAAAAAAQAAAAEAAAAAAAAAAAAAAAAAAAAAAAAAAAAAAAEAAAAAAAAAAAAAAAAAAAAAAAAAAAAAAAAAAAAAAAAAAQAAAAAAAAAAAAAAAAAAAAAAAAAAAAAAAQAAAAAAAAABAAAAAAAAAAAAAAAAAAAAAQAAAAAAAAABAAAAAAAAAAAAAAABAAAAAQAAAAAAAAABAAAAAAAAAAEAAAAAAAAAAAAAAAEAAAAAAAAAAQAAAAEAAAABAAAAAAAAAAAAAAABAAAAAAAAAAAAAAAAAAAAAQAAAAEAAAABAAAAAAAAAAAAAAAAAAAAAQAAAAEAAAABAAAAAAAAAAAAAAAAAAAAAAAAAAAAAAAAAAAAAAAAAAEAAAAAAAAAAAAAAAAAAAAAAAAAAAAAAAAAAAAAAAAAAAAAAAEAAAAAAAAAAAAAAAAAAAAAAAAAAAAAAAAAAAABAAAAAQAAAAAAAAABAAAAAAAAAAAAAAAAAAAAAAAAAAAAAAAAAAAAAQAAAAAAAAABAAAAAAAAAAEAAAABAAAAAAAAAAAAAAABAAAAAQAAAAAAAAABAAAAAQAAAAAAAAABAAAAAQAAAAEAAAABAAAAAAAAAAEAAAAAAAAAAAAAAAAAAAABAAAAAAAAAAAAAAAAAAAAAQAAAAAAAAAAAAAAAAAAAAAAAAAAAAAAAQAAAAAAAAAAAAAAAQAAAAEAAAAAAAAAAQAAAAAAAAAAAAAAAAAAAAAAAAAAAAAAAQAAAAAAAAABAAAAAAAAAAEAAAABAAAAAQAAAAAAAAABAAAAAAAAAAAAAAABAAAAAAAAAAEAAAAAAAAAAQAAAAEAAAAAAAAAAQAAAAAAAAABAAAAAQAAAAEAAAAAAAAAAQAAAAAAAAABAAAAAAAAAAEAAAAAAAAAAAAAAAEAAAAAAAAAAQAAAAEAAAABAAAAAQAAAAEAAAAAAAAAAAAAAAEAAAAAAAAAAAAAAAAAAAABAAAAAAAAAAEAAAAAAAAAAQAAAAAAAAABAAAAAAAAAAAAAAAAAAAAAAAAAAEAAAAAAAAAAAAAAAEAAAAAAAAAAAAAAAAAAAAAAAAAAAAAAAAAAAABAAAAAQAAAAEAAAABAAAAAQAAAAEAAAAAAAAAAAAAAAAAAAAAAAAAAAAAAAEAAAAAAAAAAQAAAAEAAAABAAAAAAAAAAAAAAABAAAAAQAAAAEAAAAAAAAAAAAAAAEAAAAAAAAAAAAAAAEAAAABAAAAAAAAAAEAAAAAAAAAAQAAAAEAAAAAAAAAAAAAAAAAAAABAAAAAQAAAAEAAAAAAAAAAAAAAAAAAAABAAAAAAAAAAEAAAABAAAAAAAAAAEAAAABAAAAAQAAAAEAAAABAAAAAQAAAAAAAAADAAAAAwAAAAEAAAABAAAAAQAAAAEAAAABAAAAAQAAAAAAAAAAAAAAAAAAAAAAAAAAAAAAAAAAAAEAAAABAAAAAQAAAAEAAAABAAAAAQAAAAAAAAABAAAAAAAAAAAAAAABAAAAAQAAAAAAAAABAAAAAAAAAAAAAAAAAAAAAAAAAAAAAAAAAAAAAAAAAAEAAAAAAAAAAAAAAAEAAAAAAAAAAAAAAAEAAAABAAAAAAAAAAEAAAAAAAAAAQAAAAEAAAABAAAAAQAAAAAAAAAAAAAAAQAAAAAAAAABAAAAAAAAAAAAAAAAAAAAAAAAAAAAAAAAAAAAAQAAAAEAAAABAAAAAAAAAAAAAAAAAAAAAAAAAAAAAAAAAAAAAAAAAAEAAAAAAAAAAQAAAAEAAAAAAAAAAQAAAAEAAAAAAAAAAAAAAAAAAAAAAAAAAQAAAAAAAAABAAAAAAAAAAAAAAAAAAAAAQAAAAAAAAAAAAAAAAAAAAEAAAAAAAAAAAAAAAEAAAAAAAAAAQAAAAEAAAABAAAAAQAAAAEAAAAAAAAAAQAAAAEAAAAAAAAAAQAAAAAAAAABAAAAAQAAAAEAAAABAAAAAAAAAAEAAAABAAAAAAAAAAEAAAAAAAAAAQAAAAAAAAAAAAAAAQAAAAAAAAAAAAAAAQAAAAAAAAAAAAAAAAAAAAEAAAABAAAAAQAAAAEAAAAAAAAAAAAAAAAAAAAAAAAAAQAAAAEAAAABAAAAAAAAAAEAAAAAAAAAAAAAAAAAAAABAAAAAQAAAAAAAAAAAAAAAAAAAAEAAAAAAAAAAQAAAAEAAAAAAAAAAAAAAAEAAAAAAAAAAAAAAAAAAAABAAAAAQAAAAAAAAAAAAAAAAAAAAAAAAAAAAAAAQAAAAAAAAAAAAAAAwAAAAEAAAAAAAAAAQAAAAEAAAABAAAAAAAAAAAAAAAAAAAAAgAAAAAAAAAAAAAAAAAAAAEAAAABAAAAAAAAAA==\",\"dtype\":\"int32\",\"order\":\"little\",\"shape\":[637]},\"CoinName\":[\"42 Coin\",\"404Coin\",\"EliteCoin\",\"Bitcoin\",\"Litecoin\",\"Dash\",\"Ethereum Classic\",\"ZCash\",\"Bitshares\",\"DigiByte\",\"BitcoinDark\",\"Bitstake\",\"PayCoin\",\"ProsperCoin\",\"KoboCoin\",\"Spreadcoin\",\"ACoin\",\"Aero Coin\",\"ApexCoin\",\"ArchCoin\",\"Argentum\",\"Aurora Coin\",\"BetaCoin\",\"MyriadCoin\",\"MoonCoin\",\"ZetaCoin\",\"SexCoin\",\"Quatloo\",\"QuarkCoin\",\"Riecoin\",\"Digitalcoin \",\"LimeCoinX\",\"BitBar\",\"BitMark\",\"CashCoin\",\"Catcoin\",\"CryptoBullion\",\"CannaCoin\",\"CinderCoin\",\"CoolCoin\",\"CryptCoin\",\"CasinoCoin\",\"Diamond\",\"Verge\",\"DarkCash\",\"DarkShibe\",\"DevCoin\",\"EarthCoin\",\"E-Gulden\",\"Elacoin\",\"Einsteinium\",\"Emerald\",\"Flappy Coin\",\"Fuel2Coin\",\"FIBRE\",\"FireRoosterCoin\",\"Franko\",\"FeatherCoin\",\"GrandCoin\",\"GlobalCoin\",\"GoldCoin\",\"GlyphCoin\",\"HoboNickels\",\"HunterCoin\",\"Infinite Coin\",\"IOCoin\",\"IXcoin\",\"JumBucks Coin\",\"JudgeCoin\",\"KrugerCoin\",\"LuckyCoin\",\"Litebar \",\"LitecoinDark\",\"LibrexCoin\",\"MaxCoin\",\"MegaCoin\",\"MediterraneanCoin\",\"MinCoin\",\"MazaCoin\",\"Nautilus Coin\",\"NoirBits\",\"NobleCoin\",\"Namecoin\",\"NyanCoin\",\"Orbitcoin\",\"PotCoin\",\"PhoenixCoin\",\"RipOffCoin\",\"RonPaulCoin\",\"StableCoin\",\"ShieldCoin\",\"SilkCoin\",\"SmartCoin\",\"SpainCoin\",\"SecureCoin\",\"SyncCoin\",\"SysCoin\",\"TeslaCoin\",\"TigerCoin\",\"TittieCoin\",\"TorCoin\",\"TerraCoin\",\"Umbrella\",\"UnbreakableCoin\",\"Unobtanium\",\"UnitaryStatus Dollar\",\"UltraCoin\",\"ViaCoin\",\"Vertcoin\",\"WorldCoin\",\"SocialXbotCoin\",\"X11 Coin\",\"JouleCoin\",\"XXXCoin\",\"ZCC Coin\",\"ByteCoin\",\"DigitalNote \",\"BurstCoin\",\"StorjCoin\",\"MonaCoin\",\"Neutron\",\"Sling Coin\",\"KryptCoin\",\"Gulden\",\"PesetaCoin\",\"Kore\",\"Wild Beast Coin\",\"Dnotes\",\"Flo\",\"MaieutiCoin\",\"Sativa Coin\",\"AeroMe\",\"ArtByte\",\"MasterTraderCoin\",\"BitCredit\",\"Folding Coin\",\"Ucoin\",\"OmniCron\",\"Vtorrent\",\"GreenCoin\",\"Cryptonite\",\"Gridmaster\",\"ConSpiracy Coin \",\"MasterCoin\",\"SoonCoin\",\"1Credit\",\"Quicksilver coin\",\"Nexus\",\"MarsCoin \",\"Crypto\",\"Anarchists Prime\",\"Droidz\",\"BowsCoin\",\"Song Coin\",\"BitZeny\",\"Diggits\",\"Expanse\",\"MapCoin\",\"Paycon\",\"Emercoin\",\"BlitzCoin\",\"EverGreenCoin\",\"MindCoin\",\"I0coin\",\"Decred\",\"DogeCoinDark\",\"Revolution VR\",\"HOdlcoin\",\"EDRCoin\",\"Hitcoin\",\"Gamecredits\",\"Dashcoin\",\"DubaiCoin\",\"BiosCrypto\",\"CarpeDiemCoin\",\"TrumpCoin\",\"BillaryCoin\",\"EthereumScrypt\",\"Phalanx\",\"SunShotCoin\",\"GPU Coin\",\"HempCoin\",\"Adzcoin\",\"VirtaCoin\",\"SoilCoin\",\"YoCoin\",\"Universal Currency\",\"AEON\",\"SibCoin\",\"EuropeCoin\",\"Anti Bitcoin\",\"ZeitCoin\",\"SwingCoin\",\"SafeExchangeCoin\",\"Nebuchadnezzar\",\"Francs\",\"BolivarCoin\",\"GIZMOcoin\",\"SecretCoin\",\"Ratecoin\",\"Digital Bullion Gold\",\"Revenu\",\"Clinton\",\"Clockcoin\",\"VIP Tokens\",\"OrlyCoin\",\"BitSend\",\"16BitCoin\",\"ChessCoin\",\"ReeCoin\",\"Omni\",\"Let it Ride\",\"PutinCoin\",\"iBankCoin\",\"Frankywillcoin\",\"MudraCoin\",\"PizzaCoin\",\"Lutetium Coin\",\"Komodo\",\"GoldBlocks\",\"WayCoin\",\"CarterCoin\",\"Karbo\",\"BitTokens\",\"ZayedCoin\",\"MustangCoin\",\"ZoneCoin\",\"Circuits of Value\",\"DopeCoin\",\"PROUD Money\",\"DollarCoin\",\"Swiscoin\",\"Shilling\",\"BuzzCoin\",\"Opair\",\"GBR Coin\",\"Halloween Coin\",\"FujiCoin\",\"ZCoin\",\"LeaCoin\",\"CoffeeCoin\",\"RoyalCoin\",\"Zurcoin\",\"GanjaCoin V2\",\"TeamUP\",\"LanaCoin\",\"Elementrem\",\"CashOut\",\"ZClassic\",\"ARK\",\"InsaneCoin\",\"LuckChain\",\"KiloCoin\",\"Hush\",\"ArtexCoin\",\"EmberCoin\",\"XenixCoin\",\"FreeCoin\",\"NPCcoin\",\"PLNCoin\",\"Icobid\",\"AquariusCoin\",\"Kurrent\",\"Creatio\",\"Eternity\",\"Eurocoin\",\"BitcoinFast\",\"Stakenet\",\"BitConnect Coin\",\"MoneyCoin\",\"Enigma\",\"Cannabis Industry Coin\",\"Russiacoin\",\"PandaCoin\",\"GameUnits\",\"GAKHcoin\",\"Allsafe\",\"LiteCreed\",\"OsmiumCoin\",\"Bikercoins\",\"NeptuneClassic\",\"HexxCoin\",\"GoldenBird\",\"Ride My Car\",\"Klingon Empire Darsek\",\"Internet of People\",\"KushCoin\",\"Eryllium\",\"MarxCoin\",\"Printerium\",\"PacCoin\",\"Impeach\",\"Solarflarecoin\",\"Citadel\",\"Zilbercoin\",\"FirstCoin\",\"CreativeChain\",\"BeaverCoin\",\"FindCoin\",\"VaultCoin\",\"Zero\",\"OpenChat\",\"Canada eCoin\",\"Zoin\",\"Musicoin\",\"BnrtxCoin\",\"RenosCoin\",\"DubaiCoin\",\"VirtacoinPlus\",\"TajCoin\",\"Impact\",\"EB3coin\",\"Universe\",\"Atmos\",\"HappyCoin\",\"Coinonat\",\"MacronCoin\",\"Condensate\",\"Independent Money System\",\"ArgusCoin\",\"LomoCoin\",\"Bitcoin Scrypt\",\"ProCurrency\",\"GoldReserve\",\"BenjiRolls\",\"ParallelCoin\",\"GrowthCoin\",\"ILCoin\",\"Phreak\",\"Degas Coin\",\"ZSEcoin\",\"HTML5 Coin\",\"Ultimate Secure Cash\",\"EquiTrader\",\"QTUM\",\"Quantum Resistant Ledger\",\"Espers\",\"Nano\",\"ChanCoin\",\"Dinastycoin\",\"Denarius\",\"DigitalPrice\",\"Virta Unique Coin\",\"Bitcoin Planet\",\"Unify\",\"BritCoin\",\"SocialCoin\",\"Octanox\",\"ArcticCoin\",\"DAS\",\"Linda\",\"LeviarCoin\",\"DeepOnion\",\"Bitcore\",\"gCn Coin\",\"SmartCash\",\"Signatum\",\"Onix\",\"Cream\",\"Bitcoin Cash\",\"Monoeci\",\"CampusCoin\",\"Draftcoin\",\"Vechain\",\"Sojourn Coin\",\"Stakecoin\",\"LiteBitcoin\",\"FrazCoin\",\"Kronecoin\",\"AdCoin\",\"Linx\",\"CoinonatX\",\"Ethereum Dark\",\"Sumokoin\",\"Obsidian\",\"Cardano\",\"Regalcoin\",\"BitcoinZ\",\"TrezarCoin\",\"Elements\",\"TerraNovaCoin\",\"VIVO Coin\",\"Rupee\",\"Bitcoin Gold\",\"WomenCoin\",\"Theresa May Coin\",\"NamoCoin\",\"LUXCoin\",\"Pirl\",\"Xios\",\"Bitcloud 2.0\",\"eBoost\",\"KekCoin\",\"BlackholeCoin\",\"AltCommunity Coin\",\"Pure\",\"Rupaya\",\"Infinity Economics\",\"Pura\",\"Innova\",\"Bitdeal\",\"Ellaism\",\"Sakuracoin\",\"GoByte\",\"Castle\",\"Magnet\",\"Lamden Tau\",\"Electra\",\"Bitcoin Diamond\",\"SHIELD\",\"Cash & Back Coin\",\"UltraNote\",\"BitCoal\",\"DaxxCoin\",\"Bulwark\",\"Kalkulus\",\"AC3\",\"CHIPS\",\"Lethean\",\"GermanCoin\",\"LiteCoin Ultra\",\"PopularCoin\",\"PhantomX\",\"HTML Coin\",\"Photon\",\"Sucre\",\"Fantasy Cash\",\"SparksPay\",\"Digiwage\",\"GunCoin\",\"IrishCoin\",\"Trollcoin\",\"Litecoin Plus\",\"Monkey Project\",\"Pioneer Coin\",\"UnitedBitcoin\",\"Interzone\",\"OP Coin\",\"Valorbit\",\"TokenPay\",\"1717 Masonic Commemorative Token\",\"My Big Coin\",\"TurtleCoin\",\"MUNcoin\",\"Unified Society USDEX\",\"Niobio Cash\",\"Bitcoin Private\",\"Skeincoin\",\"ShareChain\",\"Travelflex\",\"KREDS\",\"Tokyo Coin\",\"BiblePay\",\"LitecoinCash\",\"BitFlip\",\"LottoCoin\",\"LeafCoin\",\"Cerberus\",\"Bitcoin Hush\",\"Crypto Improvement Fund\",\"Stipend\",\"Poa Network\",\"Pushi\",\"Ellerium\",\"Velox\",\"Ontology\",\"Callisto Network\",\"Curium\",\"BitTube\",\"Dinero\",\"Poseidon\",\"Aidos Kuneen\",\"Bitspace\",\"Snowgem\",\"Briacoin\",\"Ignition\",\"Bitrolium\",\"Bitcoin Interest\",\"MedicCoin\",\"Alpenschillling\",\"Zelcash\",\"Bitcoin Green\",\"Deviant Coin\",\"Abjcoin\",\"Profit Hunters Coin\",\"Semux\",\"BitBlocks\",\"FuturoCoin\",\"Carebit\",\"Zealium\",\"Monero Classic\",\"Proton\",\"iDealCash\",\"Jumpcoin\",\"Infinex\",\"Bitcoin Incognito\",\"KEYCO\",\"HollyWoodCoin\",\"GINcoin\",\"PlatinCoin\",\"Loki\",\"Newton Coin\",\"Swisscoin\",\"Xt3ch\",\"MassGrid\",\"TheVig\",\"PluraCoin\",\"EmaratCoin\",\"Dekado\",\"Lynx\",\"Poseidon Quark\",\"BitcoinWSpectrum\",\"Muse\",\"Motion\",\"PlusOneCoin\",\"Axe\",\"Trivechain\",\"Dystem\",\"Giant\",\"Peony Coin\",\"SafeCoin\",\"Absolute Coin\",\"Vitae\",\"HexCoin\",\"TPCash\",\"Webchain\",\"Ryo\",\"MUSDcoin\",\"Urals Coin\",\"Qwertycoin\",\"ARENON\",\"EUNO\",\"MMOCoin\",\"Ketan\",\"NIX\",\"Safe Trade Coin\",\"Project Pai\",\"Mont Blanc\",\"XDNA\",\"PAXEX\",\"Azart\",\"Apollon\",\"ThunderStake\",\"Kcash\",\"Xchange\",\"Acute Angle Cloud\",\"Traid\",\"CrypticCoin\",\"Bettex coin\",\"ZestCoin\",\"X-CASH\",\"Actinium\",\"ETHER-1\",\"Bitcoin SV\",\"BitMoney\",\"Bitcoiin2Gen\",\"FREDEnergy\",\"Zenad\",\"C25 Coin\",\"HerbCoin\",\"Aquachain\",\"Universal Molecule\",\"Lithium\",\"Smart Bitcoin\",\"PirateCash\",\"Exosis\",\"Block-Logic\",\"Oduwa\",\"Beam\",\"Galilel\",\"Bithereum\",\"Crypto Sports\",\"Credit\",\"SLICE\",\"Dash Platinum\",\"Nasdacoin\",\"Vidulum\",\"Beetle Coin\",\"Titan Coin\",\"Award\",\"BlockStamp\",\"BLAST\",\"Bitcoin Rhodium\",\"GlobalToken\",\"Insane Coin\",\"ALAX\",\"The Freedom Coin\",\"LiteDoge\",\"Boolberry\",\"SolarCoin\",\"UFO Coin\",\"OrangeCoin\",\"BlakeCoin\",\"BitstarCoin\",\"NeosCoin\",\"PinkCoin\",\"FantomCoin \",\"Crypto Escudo\",\"AudioCoin\",\"IncaKoin\",\"Piggy Coin\",\"Crown Coin\",\"Genstake\",\"Quazar Coin\",\"SmileyCoin\",\"ParkByte\",\"XiaoMiCoin\",\"Groestlcoin\",\"CapriCoin\",\" ClubCoin\",\"Radium\",\"Bata\",\"Pakcoin\",\"Creditbit \",\"OKCash\",\"Lisk\",\"HiCoin\",\"WhiteCoin\",\"Dotcoin\",\"FriendshipCoin\",\"The Hempcoin\",\"Fiii\",\"JoinCoin\",\"Triangles Coin\",\"Vollar\",\"Reality Clash\",\"iOlite\",\"TigerCash\",\"Waves\",\"Particl\",\"BitTorrent\",\"Nxt\",\"ZEPHYR\",\"Gapcoin\",\"Beldex\",\"Horizen\",\"BitcoinPlus\"],\"ProofType\":[\"PoW/PoS\",\"PoW/PoS\",\"PoW/PoS\",\"PoW\",\"PoW\",\"PoW/PoS\",\"PoW\",\"PoW\",\"PoS\",\"PoW\",\"PoW/PoS\",\"PoW/PoS\",\"PoS\",\"PoW\",\"PoW/PoS\",\"PoW\",\"PoW\",\"PoS\",\"PoW/PoS\",\"PoS\",\"PoW\",\"PoW/PoS\",\"PoW\",\"PoW\",\"PoW\",\"PoW\",\"PoW\",\"PoW\",\"PoW\",\"PoW\",\"PoW\",\"PoW\",\"PoW/PoS\",\"PoW\",\"PoW/PoS\",\"PoW\",\"PoW/PoS\",\"PoW\",\"PoW/PoS\",\"PoS\",\"PoW\",\"PoC\",\"PoW/PoS\",\"PoW\",\"PoW/PoS\",\"PoW\",\"PoW\",\"PoW\",\"PoW\",\"PoW\",\"PoW\",\"PoW\",\"PoW\",\"PoS\",\"PoW/PoS\",\"PoW\",\"PoW\",\"PoW\",\"PoW\",\"PoW\",\"PoW\",\"PoW/PoS\",\"PoW/PoS\",\"PoW\",\"PoW\",\"PoW/PoS\",\"PoW\",\"PoW/PoS\",\"PoW/PoS\",\"PoW\",\"PoW\",\"PoW\",\"PoW\",\"PoW/PoS\",\"PoW/PoS\",\"PoW\",\"PoW\",\"PoW\",\"PoW/PoS\",\"PoS\",\"PoW\",\"PoW\",\"PoW\",\"PoW\",\"PoW/PoS\",\"PoW/PoS\",\"PoW/PoS\",\"PoW\",\"PoW\",\"PoW\",\"PoW/PoS\",\"PoW/PoS\",\"PoW\",\"PoW\",\"PoW\",\"PoW/PoS\",\"PoW\",\"PoS\",\"PoW\",\"PoS\",\"PoW/PoS\",\"PoW\",\"PoW\",\"PoW\",\"PoW\",\"PoW/PoS\",\"PoW/PoS\",\"PoW\",\"PoW\",\"PoW\",\"PoW/PoS\",\"PoW/PoS\",\"PoW\",\"PoW/PoS\",\"PoW/PoS\",\"PoW\",\"PoW\",\"PoC\",\"PoS\",\"PoW\",\"PoW/PoS\",\"PoW\",\"PoS\",\"PoW\",\"PoW\",\"PoW/PoS\",\"PoW\",\"PoS\",\"PoW\",\"PoS\",\"PoW/PoS\",\"PoW/PoS\",\"PoW\",\"PoW/PoS\",\"PoW\",\"PoW\",\"PoS\",\"PoW\",\"PoW/PoS\",\"PoW\",\"PoW\",\"PoW\",\"PoW\",\"PoW\",\"PoW\",\"PoW\",\"PoW\",\"PoW/nPoS\",\"PoW\",\"PoW\",\"PoW\",\"PoW/PoS\",\"PoW\",\"PoW\",\"PoW\",\"PoS\",\"PoW\",\"PoS\",\"PoW/PoS\",\"PoW/PoS\",\"PoS\",\"PoW/PoS\",\"PoW\",\"PoW\",\"PoW/PoS\",\"PoW\",\"PoW\",\"PoW\",\"PoW/PoS\",\"PoW/PoS\",\"PoW\",\"PoW\",\"PoW/PoS\",\"PoW/PoS\",\"PoW\",\"PoS\",\"PoW/PoS\",\"PoW/PoS\",\"PoW\",\"PoW\",\"PoS\",\"PoW\",\"PoW\",\"PoW\",\"PoW\",\"PoW\",\"PoW/PoS\",\"PoW\",\"PoW\",\"PoW/PoS\",\"PoW\",\"PoS\",\"PoW/PoS\",\"PoC\",\"PoS\",\"PoW\",\"PoW\",\"PoW/PoS\",\"PoW/PoS\",\"PoW/PoS\",\"PoS\",\"PoW/PoS\",\"PoW\",\"PoW/PoS\",\"PoW/PoS\",\"PoW/PoS\",\"PoW/PoS\",\"PoW/PoS\",\"PoW/PoS\",\"PoW/PoS\",\"PoW\",\"PoS\",\"PoW/PoS\",\"PoW/PoS\",\"PoW/PoS\",\"PoS\",\"PoW\",\"PoS\",\"dPoW/PoW\",\"PoW/PoS\",\"PoS\",\"PoW/PoS\",\"PoW\",\"PoW/PoS\",\"PoW\",\"PoW/PoS\",\"PoW/PoS\",\"PoW\",\"PoW\",\"PoW/PoS\",\"PoW\",\"PoW/PoW\",\"PoW\",\"PoW/PoS\",\"PoS\",\"PoW\",\"PoW/PoS\",\"PoW\",\"PoW\",\"PoW\",\"PoS\",\"PoS\",\"PoW\",\"PoW/PoS\",\"PoS\",\"PoW/PoS\",\"PoW\",\"PoW\",\"PoW\",\"DPoS\",\"PoW/PoS\",\"PoW/PoS\",\"PoW\",\"PoW\",\"PoW\",\"PoW/PoS\",\"PoW/PoS\",\"PoS\",\"PoW/PoS\",\"PoW/PoS\",\"PoW/PoS\",\"PoW/PoS\",\"PoW\",\"PoS\",\"PoW/PoS\",\"PoW/PoS\",\"PoW/PoS\",\"TPoS\",\"PoW/PoS\",\"PoW/PoS\",\"PoW/PoS\",\"PoW\",\"PoW/PoS\",\"PoS\",\"PoW/PoS\",\"PoW/PoS\",\"PoS\",\"PoW/PoS\",\"PoW\",\"PoW\",\"PoW/PoS\",\"PoW\",\"PoW/PoS\",\"PoS\",\"PoW/PoS\",\"PoW/PoS\",\"PoW/PoS\",\"PoW/PoS\",\"PoW\",\"PoW/PoS\",\"PoW\",\"PoW/PoS\",\"PoW\",\"PoW\",\"PoS\",\"PoW/PoS \",\"PoW\",\"PoW\",\"PoS\",\"PoW\",\"PoW\",\"PoW/PoS\",\"PoW\",\"PoW\",\"PoW\",\"PoW\",\"PoS\",\"PoW\",\"PoW/PoS\",\"PoW/PoS\",\"PoW/PoS\",\"PoW\",\"PoS\",\"PoS\",\"PoW/PoS\",\"PoW\",\"PoS\",\"PoW/PoS\",\"PoW/PoS\",\"PoW/PoS\",\"PoW/PoS\",\"PoW\",\"PoS\",\"PoW/PoS\",\"PoW\",\"PoW\",\"PoS\",\"PoW\",\"PoS\",\"PoW/PoS\",\"PoW/PoS\",\"PoW/PoS\",\"PoS\",\"PoW\",\"PoS\",\"PoW\",\"PoW/PoS\",\"PoW\",\"PoW\",\"PoW\",\"PoW/PoS\",\"PoW\",\"PoW/PoS\",\"PoW/PoS\",\"PoW\",\"PoW/PoS\",\"PoW\",\"PoW/PoS\",\"PoW\",\"PoW\",\"PoW/PoS\",\"PoW\",\"PoW/PoS\",\"PoW\",\"PoW\",\"PoW\",\"PoS\",\"PoW\",\"PoW/PoS\",\"PoW\",\"PoW/PoS\",\"PoW\",\"PoS\",\"Proof of Authority\",\"PoW\",\"PoS\",\"PoW\",\"PoW\",\"PoW\",\"PoW\",\"PoW\",\"PoW/PoS\",\"PoW/PoS\",\"PoW\",\"PoS\",\"PoS\",\"PoW/PoS\",\"PoW\",\"PoW/PoS\",\"PoW\",\"PoW/PoS\",\"PoW\",\"PoS\",\"PoW\",\"PoW/PoS\",\"PoW/PoS\",\"PoW/PoS\",\"PoW/PoS\",\"PoW\",\"PoW/PoS\",\"PoW/PoS\",\"PoW\",\"PoS\",\"PoW/PoS\",\"PoW/PoS\",\"PoW/PoS\",\"PoS\",\"PoS\",\"PoW\",\"PoW\",\"PoW\",\"PoW\",\"PoW\",\"PoW\",\"DPoS\",\"PoW/PoS\",\"DPoS\",\"PoW/PoS\",\"PoW/PoS\",\"PoW\",\"PoW/PoS\",\"PoW\",\"PoW\",\"PoW\",\"PoS\",\"PoS\",\"PoW\",\"PoW\",\"PoW\",\"PoW/PoS\",\"PoW/PoS\",\"PoW\",\"PoW/PoS\",\"PoW/PoS\",\"PoW\",\"PoW\",\"PoW/PoS\",\"PoW\",\"PoS\",\"PoW\",\"PoW\",\"PoW/PoS\",\"PoW/PoS\",\"PoS\",\"PoW\",\"PoW\",\"PoW\",\"PoW/PoS\",\"PoW/PoS\",\"PoS\",\"PoS\",\"PoW and PoS\",\"PoW\",\"PoW\",\"PoW/PoS\",\"PoW\",\"PoW\",\"PoW\",\"PoW\",\"PoW\",\"PoW\",\"PoS\",\"POBh\",\"PoW + Hive\",\"PoW\",\"PoW\",\"PoW\",\"PoW\",\"PoW\",\"PoW\",\"PoW/PoS\",\"PoA\",\"PoW/PoS\",\"PoW/PoS\",\"PoS\",\"PoS\",\"PoW\",\"PoW\",\"PoW\",\"PoW\",\"PoW\",\"PoW\",\"PoW/PoS\",\"PoW\",\"PoW/PoS\",\"PoW/PoS\",\"PoW\",\"PoW\",\"PoS\",\"PoW\",\"PoW/PoS\",\"PoS\",\"PoS\",\"PoW/PoS\",\"PoW/PoS\",\"DPoS\",\"PoW/PoS\",\"PoW\",\"PoW/PoS\",\"PoS\",\"PoW\",\"PoS\",\"PoW/PoS\",\"PoW\",\"PoW\",\"PoS/PoW\",\"PoW\",\"PoS\",\"PoW\",\"PoW\",\"PoW\",\"PoW\",\"PoW/PoS\",\"PoS\",\"PoW\",\"PoW/PoS\",\"PoW\",\"PoW/PoS\",\"PoS\",\"HPoW\",\"PoS\",\"PoS\",\"PoS\",\"PoW\",\"PoW\",\"PoW\",\"PoW/PoS\",\"PoS\",\"PoW/PoS\",\"PoS\",\"PoW/PoS\",\"PoW/PoS\",\"PoS\",\"PoW\",\"PoW/PoS\",\"PoW\",\"PoW\",\"PoW/PoS\",\"PoW\",\"PoW\",\"PoS\",\"PoW/PoS\",\"PoS\",\"PoS\",\"PoW\",\"PoS\",\"PoW\",\"PoS\",\"PoW/PoS\",\"PoS\",\"PoW\",\"PoW/PoS\",\"PoW/PoS\",\"Zero-Knowledge Proof\",\"PoW\",\"DPOS\",\"PoW/PoS\",\"PoW\",\"PoS\",\"PoW\",\"PoW\",\"PoW\",\"PoW\",\"PoW\",\"Pos\",\"PoW\",\"PoW\",\"POS / MN\",\"PoW\",\"PoW/PoS\",\"PoW\",\"PoW\",\"PoW\",\"PoW\",\"PoS\",\"PoW\",\"PoW\",\"PoW/PoS\",\"PoW\",\"PoW/PoS\",\"PoW\",\"PoS\",\"PoW/PoS\",\"PoW\",\"PoS\",\"PoW/PoS\",\"PoW\",\"PoW/PoS\",\"PoW/PoS\",\"PoW/PoS\",\"PoW\",\"PoW\",\"PoW\",\"PoW\",\"PoW/PoS\",\"DPoS\",\"PoS\",\"PoW/PoS\",\"PoW\",\"PoW\",\"PoW\",\"PoW/PoS\",\"PoW\",\"PoW/PoS\",\"PoS\",\"PoW/PoS\",\"PoW\",\"PoW\",\"PoW/PoS\",\"PoW/PoS\",\"PoW/PoS\",\"PoW\",\"PoW/PoS\",\"PoW\",\"PoW\",\"PoW/PoS\",\"PoW/PoS\",\"PoW\",\"PoW/PoS\",\"PoW/PoS\",\"PoS\",\"PoW\",\"PoW\",\"Proof of Trust\",\"PoW/PoS\",\"DPoS\",\"PoS\",\"PoW/PoS\",\"PoW\",\"PoW/PoS\",\"PoW/PoS\",\"DPoC\",\"PoW\",\"PoW/PoS\",\"PoW\",\"PoW\",\"PoW\",\"PoS\",\"LPoS\",\"PoS\",\"DPoS\",\"PoS/LPoS\",\"DPoS\",\"PoW/PoS\",\"PoW\",\"PoW\",\"PoS\"],\"TotalCoinSupply\":{\"__ndarray__\":\"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\",\"dtype\":\"float64\",\"order\":\"little\",\"shape\":[637]},\"TotalCoinsMined\":{\"__ndarray__\":\"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\",\"dtype\":\"float64\",\"order\":\"little\",\"shape\":[637]}},\"selected\":{\"id\":\"1363\"},\"selection_policy\":{\"id\":\"1396\"}},\"id\":\"1362\",\"type\":\"ColumnDataSource\"},{\"attributes\":{},\"id\":\"1396\",\"type\":\"UnionRenderers\"},{\"attributes\":{},\"id\":\"1375\",\"type\":\"StringEditor\"},{\"attributes\":{\"format\":\"0,0.0[00000]\"},\"id\":\"1384\",\"type\":\"NumberFormatter\"},{\"attributes\":{\"children\":[{\"id\":\"1361\"},{\"id\":\"1394\"},{\"id\":\"1400\"}],\"margin\":[0,0,0,0],\"name\":\"Row02167\",\"tags\":[\"embedded\"]},\"id\":\"1360\",\"type\":\"Row\"},{\"attributes\":{\"editor\":{\"id\":\"1380\"},\"field\":\"TotalCoinSupply\",\"formatter\":{\"id\":\"1379\"},\"title\":\"TotalCoinSupply\"},\"id\":\"1381\",\"type\":\"TableColumn\"},{\"attributes\":{},\"id\":\"1369\",\"type\":\"StringFormatter\"},{\"attributes\":{},\"id\":\"1374\",\"type\":\"StringFormatter\"},{\"attributes\":{\"margin\":[5,5,5,5],\"name\":\"HSpacer02171\",\"sizing_mode\":\"stretch_width\"},\"id\":\"1361\",\"type\":\"Spacer\"},{\"attributes\":{},\"id\":\"1370\",\"type\":\"StringEditor\"},{\"attributes\":{},\"id\":\"1389\",\"type\":\"NumberFormatter\"},{\"attributes\":{},\"id\":\"1365\",\"type\":\"StringEditor\"},{\"attributes\":{\"editor\":{\"id\":\"1390\"},\"field\":\"Class\",\"formatter\":{\"id\":\"1389\"},\"title\":\"Class\"},\"id\":\"1391\",\"type\":\"TableColumn\"},{\"attributes\":{\"editor\":{\"id\":\"1375\"},\"field\":\"ProofType\",\"formatter\":{\"id\":\"1374\"},\"title\":\"ProofType\"},\"id\":\"1376\",\"type\":\"TableColumn\"},{\"attributes\":{},\"id\":\"1385\",\"type\":\"NumberEditor\"},{\"attributes\":{\"editor\":{\"id\":\"1385\"},\"field\":\"TotalCoinsMined\",\"formatter\":{\"id\":\"1384\"},\"title\":\"TotalCoinsMined\"},\"id\":\"1386\",\"type\":\"TableColumn\"},{\"attributes\":{\"margin\":[5,5,5,5],\"name\":\"HSpacer02172\",\"sizing_mode\":\"stretch_width\"},\"id\":\"1400\",\"type\":\"Spacer\"},{\"attributes\":{},\"id\":\"1380\",\"type\":\"NumberEditor\"},{\"attributes\":{\"columns\":[{\"id\":\"1366\"},{\"id\":\"1371\"},{\"id\":\"1376\"},{\"id\":\"1381\"},{\"id\":\"1386\"},{\"id\":\"1391\"}],\"height\":300,\"reorderable\":false,\"source\":{\"id\":\"1362\"},\"view\":{\"id\":\"1395\"},\"width\":700},\"id\":\"1394\",\"type\":\"DataTable\"},{\"attributes\":{\"source\":{\"id\":\"1362\"}},\"id\":\"1395\",\"type\":\"CDSView\"},{\"attributes\":{},\"id\":\"1363\",\"type\":\"Selection\"},{\"attributes\":{\"format\":\"0,0.0[00000]\"},\"id\":\"1379\",\"type\":\"NumberFormatter\"},{\"attributes\":{},\"id\":\"1390\",\"type\":\"IntEditor\"},{\"attributes\":{},\"id\":\"1364\",\"type\":\"StringFormatter\"}],\"root_ids\":[\"1360\"]},\"title\":\"Bokeh Application\",\"version\":\"2.2.3\"}};\n",
       "    var render_items = [{\"docid\":\"32457bcc-d6c5-464f-a37e-6b68a1312776\",\"root_ids\":[\"1360\"],\"roots\":{\"1360\":\"590b5837-def1-4f47-a87d-5766df562430\"}}];\n",
       "    root.Bokeh.embed.embed_items_notebook(docs_json, render_items);\n",
       "  }\n",
       "  if (root.Bokeh !== undefined && root.Bokeh.Panel !== undefined) {\n",
       "    embed_document(root);\n",
       "  } else {\n",
       "    var attempts = 0;\n",
       "    var timer = setInterval(function(root) {\n",
       "      if (root.Bokeh !== undefined && root.Bokeh.Panel !== undefined) {\n",
       "        clearInterval(timer);\n",
       "        embed_document(root);\n",
       "      } else if (document.readyState == \"complete\") {\n",
       "        attempts++;\n",
       "        if (attempts > 100) {\n",
       "          clearInterval(timer);\n",
       "          console.log(\"Bokeh: ERROR: Unable to run BokehJS code because BokehJS library is missing\");\n",
       "        }\n",
       "      }\n",
       "    }, 10, root)\n",
       "  }\n",
       "})(window);</script>"
      ],
      "text/plain": [
       ":Table   [CoinName,Algorithm,ProofType,TotalCoinSupply,TotalCoinsMined,Class]"
      ]
     },
     "execution_count": 97,
     "metadata": {
      "application/vnd.holoviews_exec.v0+json": {
       "id": "1360"
      }
     },
     "output_type": "execute_result"
    }
   ],
   "source": [
    "# Table with tradable cryptos\n",
    "# df.hvplot.table(columns=['origin', 'name', 'yr'], sortable=True, selectable=True)\n",
    "col_list = [\"CoinName\", \"Algorithm\", \"ProofType\", \"TotalCoinSupply\", \"TotalCoinsMined\", \"Class\"]\n",
    "clustered_df.hvplot.table(columns =col_list)"
   ]
  },
  {
   "cell_type": "code",
   "execution_count": 121,
   "metadata": {},
   "outputs": [
    {
     "name": "stdout",
     "output_type": "stream",
     "text": [
      "                              CoinName               Algorithm             ProofType  TotalCoinsMined  TotalCoinSupply       PC 1      PC 2       PC 3  Class\n",
      "0                              42 Coin                  Scrypt               PoW/PoS     4.199995e+01     4.200000e+01  -0.172443 -1.193404  -0.301775      0\n",
      "2                              404Coin                  Scrypt               PoW/PoS     1.055185e+09     5.320000e+08  -0.157874 -1.191477  -0.301987      0\n",
      "5                            EliteCoin                     X13               PoW/PoS     2.927942e+10     3.141593e+11   0.416076 -1.896789  -0.369776      0\n",
      "7                              Bitcoin                 SHA-256                   PoW     1.792718e+07     2.100000e+07  -0.248180  1.403862   0.105885      1\n",
      "9                             Litecoin                  Scrypt                   PoW     6.303924e+07     8.400000e+07  -0.321038  1.052202   0.017631      1\n",
      "10                                Dash                     X11               PoW/PoS     9.031294e+06     2.200000e+07  -0.139356 -1.468752  -0.316385      0\n",
      "12                    Ethereum Classic                  Ethash                   PoW     1.133597e+08     2.100000e+08  -0.341873  2.024068   0.160370      1\n",
      "13                               ZCash                Equihash                   PoW     7.383056e+06     2.100000e+07  -0.344203  1.919838   0.159272      1\n",
      "14                           Bitshares                 SHA-512                   PoS     2.741570e+09     3.600571e+09   0.331440 -1.615324  -0.243250      0\n",
      "15                            DigiByte                Multiple                   PoW     1.140622e+10     2.100000e+10  -0.134741  1.760479   0.173006      1\n",
      "16                         BitcoinDark                 SHA-256               PoW/PoS     1.288862e+06     2.200000e+07  -0.098945 -0.841659  -0.213531      0\n",
      "18                            Bitstake                     X11               PoW/PoS     0.000000e+00     1.300000e+06  -0.139481 -1.468768  -0.316384      0\n",
      "19                             PayCoin                 SHA-256                   PoS     1.199533e+07     1.250000e+07   0.027524 -0.497998  -0.054590      0\n",
      "20                         ProsperCoin                  Scrypt                   PoW     5.768310e+06     2.100000e+07  -0.321828  1.052097   0.017642      1\n",
      "24                            KoboCoin                     X15               PoW/PoS     2.554254e+07     3.500000e+08  -0.004796 -2.062686  -0.436685      0\n",
      "27                          Spreadcoin                     X11                   PoW     1.114973e+07     2.000000e+07  -0.288792  0.776743   0.003033      1\n",
      "29                               ACoin                 SHA-256                   PoW     0.000000e+00     1.600000e+06  -0.248428  1.403830   0.105888      1\n",
      "30                           Aero Coin                     X13                   PoS     0.000000e+00     7.000000e+06   0.138120 -1.606604  -0.204951      0\n",
      "35                            ApexCoin                     X13               PoW/PoS     0.000000e+00     6.000000e+06   0.011799 -1.950245  -0.363894      0\n",
      "36                            ArchCoin                  Scrypt                   PoS     0.000000e+00     1.640314e+07  -0.046122 -0.849762  -0.142833      0\n",
      "37                            Argentum                  Scrypt                   PoW     1.220580e+07     6.400000e+07  -0.321740  1.052109   0.017641      1\n",
      "39                         Aurora Coin                  Scrypt               PoW/PoS     1.813510e+07     1.676858e+07  -0.172193 -1.193371  -0.301779      0\n",
      "40                            BetaCoin                 SHA-256                   PoW     0.000000e+00     3.200000e+07  -0.248428  1.403830   0.105888      1\n",
      "44                          MyriadCoin                Multiple                   PoW     1.688254e+09     2.000000e+09  -0.268922  1.742735   0.174958      1\n",
      "45                            MoonCoin                  Scrypt                   PoW     8.800000e+01     3.840000e+11  -0.321909  1.052082   0.017642      1\n",
      "46                            ZetaCoin                 SHA-256                   PoW     1.702044e+08     1.697956e+08  -0.246078  1.404140   0.105854      1\n",
      "47                             SexCoin                  Scrypt                   PoW     1.289410e+08     2.500000e+08  -0.320128  1.052322   0.017618      1\n",
      "48                             Quatloo                  Scrypt                   PoW     7.357795e+06     1.000000e+08  -0.321807  1.052100   0.017642      1\n",
      "50                           QuarkCoin                   Quark                   PoW     2.595572e+08     2.470000e+08  -0.071430  0.494016   0.047452      1\n",
      "51                             Riecoin                 Groestl                   PoW     4.954859e+07     8.400000e+07  -0.344107  1.445281   0.107772      1\n",
      "52                        Digitalcoin                   Scrypt                   PoW     3.344299e+07     4.816600e+07  -0.321446  1.052148   0.017637      1\n",
      "53                           LimeCoinX                     X11                   PoW     0.000000e+00     2.100000e+07  -0.288946  0.776723   0.003035      1\n",
      "54                              BitBar                  Scrypt               PoW/PoS     4.257948e+04     5.000000e+05  -0.172443 -1.193404  -0.301775      0\n",
      "56                             BitMark                  Scrypt                   PoW     0.000000e+00     2.758000e+07  -0.321908  1.052087   0.017643      1\n",
      "60                            CashCoin                  Scrypt               PoW/PoS     0.000000e+00     4.743360e+07  -0.172443 -1.193404  -0.301775      0\n",
      "61                             Catcoin                  Scrypt                   PoW     7.219957e+06     2.100000e+07  -0.321808  1.052100   0.017642      1\n",
      "62                       CryptoBullion                  Scrypt               PoW/PoS     1.039117e+06     1.000000e+06  -0.172429 -1.193402  -0.301776      0\n",
      "63                           CannaCoin                  Scrypt                   PoW     4.703880e+06     1.314000e+07  -0.321843  1.052095   0.017642      1\n",
      "64                          CinderCoin                Multiple               PoW/PoS     0.000000e+00     1.140000e+08  -0.142768 -0.505838  -0.144122      0\n",
      "71                            CoolCoin                  Scrypt                   PoS     0.000000e+00     1.000000e+08  -0.046122 -0.849762  -0.142833      0\n",
      "73                           CryptCoin                     X11                   PoW     4.996986e+06     1.800000e+07  -0.288877  0.776732   0.003034      1\n",
      "74                          CasinoCoin                  Scrypt                   PoC     4.000000e+10     4.000000e+10   0.988307 -0.437227  -0.554885      0\n",
      "76                             Diamond                 Groestl               PoW/PoS     3.304488e+06     4.380000e+06  -0.195281 -0.800294  -0.211638      0\n",
      "77                               Verge                Multiple                   PoW     1.592953e+10     1.655500e+10  -0.072285  1.768737   0.172097      1\n",
      "78                            DarkCash                     X11               PoW/PoS     0.000000e+00     3.720000e+06  -0.139481 -1.468768  -0.316384      0\n",
      "79                           DarkShibe                  Scrypt                   PoW     0.000000e+00     2.043962e+06  -0.321908  1.052087   0.017643      1\n",
      "80                             DevCoin                 SHA-256                   PoW     1.877386e+10     2.100000e+10   0.010793  1.438107   0.102117      1\n",
      "81                           EarthCoin                  Scrypt                   PoW     1.253902e+10     1.350000e+10  -0.148775  1.074981   0.015125      1\n",
      "82                            E-Gulden                  Scrypt                   PoW     2.091048e+07     2.100000e+07  -0.321619  1.052125   0.017639      1\n",
      "83                             Elacoin                  Scrypt                   PoW     0.000000e+00     7.500000e+07  -0.321908  1.052087   0.017643      1\n",
      "84                         Einsteinium                  Scrypt                   PoW     2.188719e+08     2.997925e+08  -0.318886  1.052486   0.017599      1\n",
      "85                             Emerald                  Scrypt                   PoW     1.949679e+07     3.200000e+07  -0.321639  1.052122   0.017639      1\n",
      "89                         Flappy Coin                  Scrypt                   PoW     0.000000e+00     1.000000e+11  -0.321908  1.052085   0.017643      1\n",
      "90                           Fuel2Coin                     X11                   PoS     0.000000e+00     1.000000e+08  -0.013160 -1.125126  -0.157441      0\n",
      "92                               FIBRE                   NIST5               PoW/PoS     0.000000e+00     6.240000e+05  -0.094354 -1.782526  -0.335585      0\n",
      "93                     FireRoosterCoin                 SHA-256                   PoW     0.000000e+00     2.602410e+06  -0.248428  1.403830   0.105888      1\n",
      "95                              Franko                  Scrypt                   PoW     1.142732e+06     1.123581e+07  -0.321892  1.052089   0.017643      1\n",
      "98                         FeatherCoin               NeoScrypt                   PoW     2.086691e+08     3.360000e+08  -0.334400  1.535850   0.126188      1\n",
      "99                           GrandCoin                  Scrypt                   PoW     8.841258e+08     1.420610e+09  -0.309700  1.053701   0.017466      1\n",
      "100                         GlobalCoin                  Scrypt                   PoW     6.567272e+07     7.000000e+07  -0.321001  1.052207   0.017630      1\n",
      "101                           GoldCoin                  Scrypt                   PoW     4.165865e+07     7.224570e+07  -0.321333  1.052163   0.017635      1\n",
      "103                          GlyphCoin                     X11               PoW/PoS     0.000000e+00     7.000000e+06  -0.139481 -1.468768  -0.316384      0\n",
      "107                        HoboNickels                  Scrypt               PoW/PoS     8.926693e+07     1.200000e+08  -0.171211 -1.193241  -0.301793      0\n",
      "108                         HunterCoin                Multiple                   PoW     0.000000e+00     4.200000e+07  -0.292233  1.739653   0.175297      1\n",
      "112                      Infinite Coin                  Scrypt                   PoW     9.059575e+10     9.060000e+10   0.928997  1.217499  -0.000553      1\n",
      "113                             IOCoin                     X11               PoW/PoS     1.765091e+07     2.200000e+07  -0.139237 -1.468736  -0.316387      0\n",
      "114                             IXcoin                 SHA-256                   PoW     2.108935e+07     2.100000e+07  -0.248137  1.403868   0.105884      1\n",
      "115                      JumBucks Coin                     X11               PoW/PoS     0.000000e+00     3.293010e+06  -0.139481 -1.468768  -0.316384      0\n",
      "117                          JudgeCoin                     X13               PoW/PoS     0.000000e+00     2.160000e+07   0.011799 -1.950245  -0.363894      0\n",
      "120                         KrugerCoin                  Scrypt                   PoW     1.514476e+08     2.654208e+08  -0.319817  1.052363   0.017613      1\n",
      "122                          LuckyCoin                  Scrypt                   PoW     1.932632e+07     2.000000e+07  -0.321641  1.052122   0.017640      1\n",
      "124                           Litebar                   Scrypt                   PoW     1.104344e+06     1.350000e+06  -0.321893  1.052089   0.017643      1\n",
      "125                       LitecoinDark                  Scrypt                   PoW     0.000000e+00     8.200320e+07  -0.321908  1.052087   0.017643      1\n",
      "127                         LibrexCoin                     X11               PoW/PoS     0.000000e+00     1.000000e+06  -0.139481 -1.468768  -0.316384      0\n",
      "129                            MaxCoin                    SHA3               PoW/PoS     6.144580e+07     1.000000e+08   0.008573 -2.199804  -0.622366      0\n",
      "130                           MegaCoin                  Scrypt                   PoW     3.815200e+07     4.200000e+07  -0.321381  1.052156   0.017636      1\n",
      "131                  MediterraneanCoin     HybridScryptHash256                   PoW     4.043186e+07     2.000000e+08  -0.372605  2.131262   0.356095      1\n",
      "135                            MinCoin                  Scrypt                   PoW     5.804205e+06     1.000000e+07  -0.321828  1.052097   0.017642      1\n",
      "137                           MazaCoin                 SHA-256               PoW/PoS     1.613836e+09     2.419200e+09  -0.076680 -0.838715  -0.213855      0\n",
      "139                      Nautilus Coin                  Scrypt                   PoS     1.618000e+07     1.618000e+07  -0.045899 -0.849733  -0.142836      0\n",
      "143                           NoirBits                 SHA-256                   PoW     0.000000e+00     5.000000e+07  -0.248428  1.403830   0.105888      1\n",
      "144                          NobleCoin                  Scrypt                   PoW     2.366066e+09     1.500000e+10  -0.289239  1.056407   0.017168      1\n",
      "146                           Namecoin                 SHA-256                   PoW     1.473640e+07     2.100000e+07  -0.248224  1.403856   0.105885      1\n",
      "147                           NyanCoin                  Scrypt                   PoW     3.347092e+08     3.370000e+08  -0.317287  1.052698   0.017576      1\n",
      "149                          Orbitcoin               NeoScrypt               PoW/PoS     3.220616e+06     3.770000e+06  -0.187772 -0.710016  -0.193190      0\n",
      "151                            PotCoin                  Scrypt               PoW/PoS     2.226772e+08     4.200000e+08  -0.169369 -1.192997  -0.301820      0\n",
      "153                        PhoenixCoin                  Scrypt               PoW/PoS     7.395927e+07     9.800000e+07  -0.171422 -1.193269  -0.301790      0\n",
      "156                         RipOffCoin                  Scrypt                   PoW     0.000000e+00     1.200000e+07  -0.321908  1.052087   0.017643      1\n",
      "157                        RonPaulCoin                  Scrypt                   PoW     1.104157e+06     2.100000e+07  -0.321893  1.052089   0.017643      1\n",
      "162                         StableCoin                  Scrypt                   PoW     2.421518e+07     2.500000e+08  -0.321574  1.052131   0.017639      1\n",
      "165                         ShieldCoin                     X15               PoW/PoS     0.000000e+00     1.000000e+06  -0.005148 -2.062732  -0.436680      0\n",
      "166                           SilkCoin                  Scrypt               PoW/PoS     0.000000e+00     1.000000e+06  -0.172443 -1.193404  -0.301775      0\n",
      "168                          SmartCoin                  Scrypt                   PoW     2.559374e+07     5.120000e+07  -0.321555  1.052133   0.017638      1\n",
      "170                          SpainCoin                Scrypt-n                   PoW     0.000000e+00     5.000000e+07  -0.368110  2.150422   0.231448      1\n",
      "172                         SecureCoin                  Scrypt                   PoW     0.000000e+00     2.100000e+07  -0.321908  1.052087   0.017643      1\n",
      "175                           SyncCoin                     X11               PoW/PoS     1.177000e+03     1.000000e+03  -0.139481 -1.468768  -0.316384      0\n",
      "176                            SysCoin                 SHA-256                   PoW     5.633365e+08     8.880000e+08  -0.240650  1.404858   0.105775      1\n",
      "179                          TeslaCoin                Multiple                   PoS     8.026046e+07     1.000000e+08  -0.015339 -0.162050   0.014804      0\n",
      "180                          TigerCoin                 SHA-256                   PoW     4.353680e+07     4.701197e+07  -0.247827  1.403909   0.105879      1\n",
      "181                         TittieCoin                 PHI1612                   PoS     1.622326e+09     2.300000e+09   0.120984 -1.614586  -0.216450      0\n",
      "182                            TorCoin                     X11               PoW/PoS     1.431851e+06     1.000000e+07  -0.139461 -1.468765  -0.316384      0\n",
      "183                          TerraCoin                 SHA-256                   PoW     2.293540e+07     4.200000e+07  -0.248111  1.403871   0.105884      1\n",
      "185                           Umbrella                 SHA-256                   PoW     0.000000e+00     2.625000e+06  -0.248428  1.403830   0.105888      1\n",
      "186                    UnbreakableCoin                 SHA-256                   PoW     2.278150e+06     8.000000e+07  -0.248396  1.403834   0.105888      1\n",
      "187                         Unobtanium                 SHA-256                   PoW     2.009118e+05     2.500000e+05  -0.248425  1.403830   0.105888      1\n",
      "189               UnitaryStatus Dollar                  Scrypt               PoW/PoS     1.098953e+09     1.600000e+09  -0.157269 -1.191398  -0.301996      0\n",
      "190                          UltraCoin                  Scrypt               PoW/PoS     5.023521e+07     1.000000e+08  -0.171750 -1.193312  -0.301785      0\n",
      "193                            ViaCoin                  Scrypt                   PoW     2.315089e+07     2.300000e+07  -0.321588  1.052129   0.017639      1\n",
      "196                           Vertcoin               Lyra2REv2                   PoW     5.117372e+07     8.400000e+07  -0.320900  1.335699   0.129402      1\n",
      "197                          WorldCoin                  Scrypt                   PoW     1.196069e+08     2.654208e+08  -0.320257  1.052305   0.017619      1\n",
      "199                     SocialXbotCoin                  Scrypt               PoW/PoS     0.000000e+00     2.000000e+06  -0.172443 -1.193404  -0.301775      0\n",
      "200                           X11 Coin                     X11               PoW/PoS     6.950831e+06     5.500000e+06  -0.139385 -1.468755  -0.316385      0\n",
      "203                          JouleCoin                 SHA-256                   PoW     3.919574e+07     4.500000e+07  -0.247887  1.403901   0.105880      1\n",
      "206                            XXXCoin                  Scrypt               PoW/PoS     0.000000e+00     5.000000e+07  -0.172443 -1.193404  -0.301775      0\n",
      "208                           ZCC Coin                  Scrypt               PoW/PoS     1.479902e+08     1.000000e+09  -0.170400 -1.193134  -0.301805      0\n",
      "210                           ByteCoin             CryptoNight                   PoW     1.840668e+11     1.844674e+11   2.334278  2.575998   0.184033      1\n",
      "212                       DigitalNote              CryptoNight                   PoW     6.906588e+09     1.000000e+10  -0.111871  2.252533   0.219616      1\n",
      "214                          BurstCoin               Shabal256                   PoC     1.813034e+09     2.158813e+09   1.410207 -0.846947  -1.224006      0\n",
      "215                          StorjCoin            Counterparty                   PoS     5.117314e+07     5.000000e+08   0.156610 -1.399518  -0.163764      0\n",
      "218                           MonaCoin                  Scrypt                   PoW     6.819467e+07     1.051200e+08  -0.320966  1.052211   0.017630      1\n",
      "220                            Neutron                 SHA-256               PoW/PoS     3.912169e+07     6.800000e+07  -0.098423 -0.841590  -0.213538      0\n",
      "221                         Sling Coin                 SHA-256                   PoW     0.000000e+00     1.000000e+06  -0.248428  1.403830   0.105888      1\n",
      "223                          KryptCoin                  Scrypt                   PoS     0.000000e+00     1.700000e+07  -0.046122 -0.849762  -0.142833      0\n",
      "225                             Gulden                  Scrypt                   PoW     4.150324e+08     1.680000e+09  -0.316178  1.052844   0.017560      1\n",
      "227                         PesetaCoin                  Scrypt                   PoW     1.375177e+08     1.663860e+08  -0.320009  1.052338   0.017616      1\n",
      "228                               Kore                     X13               PoW/PoS     2.022465e+06     1.200000e+07   0.011827 -1.950242  -0.363894      0\n",
      "229                    Wild Beast Coin                  Scrypt                   PoW     1.819192e+05     2.628000e+06  -0.321906  1.052087   0.017643      1\n",
      "231                             Dnotes                  Scrypt                   PoS     1.746461e+08     5.000000e+08  -0.043711 -0.849444  -0.142868      0\n",
      "232                                Flo                  Scrypt                   PoW     1.522707e+08     1.600000e+08  -0.319806  1.052365   0.017613      1\n",
      "233                        MaieutiCoin                 SHA-256                   PoS     0.000000e+00     2.014000e+03   0.027358 -0.498019  -0.054588      0\n",
      "235                        Sativa Coin                     X13               PoW/PoS     7.096834e+06     1.000000e+07   0.011897 -1.950233  -0.363895      0\n",
      "236                             AeroMe                     X13               PoW/PoS     0.000000e+00     1.200000e+07   0.011799 -1.950245  -0.363894      0\n",
      "239                            ArtByte                  Scrypt                   PoW     7.925372e+08     1.000000e+09  -0.310965  1.053534   0.017484      1\n",
      "240                   MasterTraderCoin                     X11               PoW/PoS     0.000000e+00     1.011000e+07  -0.139481 -1.468768  -0.316384      0\n",
      "241                          BitCredit                Momentum                   PoW     0.000000e+00     2.100000e+08  -0.367162  2.078799   0.231727      1\n",
      "244                       Folding Coin        Stanford Folding                   PoW     7.194170e+08     1.000000e+09  -0.357921  2.134718   0.193713      1\n",
      "246                              Ucoin                     X11                   PoS     2.689812e+06     2.000000e+07  -0.013123 -1.125121  -0.157441      0\n",
      "251                           OmniCron                  Scrypt                   PoW     1.014004e+07     3.371337e+06  -0.321768  1.052105   0.017641      1\n",
      "254                           Vtorrent                  Scrypt               PoW/PoS     1.160472e+07     2.000000e+07  -0.172283 -1.193383  -0.301778      0\n",
      "256                          GreenCoin                  Scrypt                   PoW     4.610341e+09     1.000000e+10  -0.258251  1.060504   0.016717      1\n",
      "263                         Cryptonite                  M7 POW                   PoW     7.085065e+08     1.840000e+09  -0.390951  2.119480   0.289271      1\n",
      "264                         Gridmaster                  Scrypt                   PoW     0.000000e+00     8.400000e+07  -0.321908  1.052087   0.017643      1\n",
      "266                   ConSpiracy Coin                      X11                   PoW     0.000000e+00     3.300000e+07  -0.288946  0.776723   0.003035      1\n",
      "267                         MasterCoin                  Scrypt                   PoW     6.194780e+05     6.194780e+05  -0.321900  1.052088   0.017643      1\n",
      "273                           SoonCoin                 SHA-256                   PoW     1.246262e+07     2.100000e+07  -0.248256  1.403852   0.105886      1\n",
      "276                            1Credit                  Scrypt                   PoW     8.821300e+04     9.200000e+10  -0.321907  1.052086   0.017643      1\n",
      "282                   Quicksilver coin                     X11                   PoW     0.000000e+00     3.300000e+07  -0.288946  0.776723   0.003035      1\n",
      "286                              Nexus                    SHA3              PoW/nPoS     6.365722e+07     7.800000e+07   0.184324 -2.327254  -0.885715      0\n",
      "289                          MarsCoin                      X11                   PoW     3.222157e+07     3.300000e+07  -0.288501  0.776781   0.003029      1\n",
      "294                             Crypto                 Lyra2RE                   PoW     1.374274e+07     6.578910e+07  -0.400951  2.096351   0.236659      1\n",
      "301                   Anarchists Prime                 SHA-256                   PoW     1.474720e+07     5.376000e+07  -0.248224  1.403856   0.105885      1\n",
      "302                             Droidz                   QUAIT               PoW/PoS     8.568038e+06     5.060000e+06  -0.121502 -2.183958  -0.438207      0\n",
      "303                           BowsCoin                     X11                   PoW     1.586384e+07     2.100000e+07  -0.288727  0.776752   0.003032      1\n",
      "315                          Song Coin                  Scrypt                   PoW     3.256530e+07     2.102400e+08  -0.321458  1.052146   0.017637      1\n",
      "320                            BitZeny                  Scrypt                   PoW     7.561450e+07     2.500000e+08  -0.320864  1.052225   0.017628      1\n",
      "321                            Diggits                  Scrypt                   PoS     1.000000e+08     1.000000e+08  -0.044742 -0.849580  -0.142853      0\n",
      "322                            Expanse                  Ethash                   PoW     1.049528e+07     1.690640e+07  -0.343294  2.023880   0.160391      1\n",
      "323                            MapCoin                     X11                   PoS     0.000000e+00     2.228921e+06  -0.013160 -1.125126  -0.157441      0\n",
      "324                             Paycon                     X13               PoW/PoS     2.304260e+07     5.000000e+07   0.012118 -1.950203  -0.363899      0\n",
      "327                           Emercoin                 SHA-256               PoW/PoS     4.305979e+07     1.000000e+09  -0.098368 -0.841583  -0.213539      0\n",
      "328                          BlitzCoin                     X13                   PoS     0.000000e+00     3.852156e+06   0.138120 -1.606604  -0.204951      0\n",
      "330                      EverGreenCoin                     X15               PoW/PoS     1.353056e+07     2.629800e+07  -0.004962 -2.062707  -0.436683      0\n",
      "331                           MindCoin                     X11                   PoW     1.586770e+07     1.600000e+07  -0.288727  0.776752   0.003032      1\n",
      "332                             I0coin                 SHA-256                   PoW     2.099748e+07     2.100000e+07  -0.248138  1.403868   0.105884      1\n",
      "333                             Decred                BLAKE256               PoW/PoS     1.036505e+07     2.100000e+07   0.073258 -1.095437  -0.231137      0\n",
      "334                       DogeCoinDark                  Scrypt                   PoW     0.000000e+00     1.650000e+10  -0.321908  1.052086   0.017643      1\n",
      "335                      Revolution VR                  Scrypt                   PoW     2.100000e+08     2.100000e+08  -0.319009  1.052470   0.017601      1\n",
      "336                           HOdlcoin  1GB AES Pattern Search                   PoW     1.144895e+07     8.196210e+07  -0.404931  2.105390   0.244832      1\n",
      "337                            EDRCoin                 SHA-256               PoW/PoS     3.669692e+06     2.200000e+07  -0.098912 -0.841654  -0.213531      0\n",
      "338                            Hitcoin                     X11               PoW/PoS     1.099632e+10     2.655000e+10   0.012351 -1.448691  -0.318592      0\n",
      "339                        Gamecredits                  Scrypt                   PoW     6.983610e+07     8.400000e+07  -0.320944  1.052214   0.017629      1\n",
      "340                           Dashcoin             CryptoNight                   PoW     0.000000e+00     1.844674e+07  -0.207234  2.239923   0.221003      1\n",
      "341                          DubaiCoin                 SHA-256               PoW/PoS     5.129014e+06     1.050000e+07  -0.098892 -0.841652  -0.213532      0\n",
      "342                         BiosCrypto                   Quark               PoW/PoS     0.000000e+00     2.019046e+07   0.074451 -1.751949  -0.271915      0\n",
      "343                      CarpeDiemCoin                 SHA-256                   PoW     2.173997e+10     2.162628e+10   0.051748  1.443523   0.101522      1\n",
      "346                          TrumpCoin                   Blake                   PoS     0.000000e+00     1.200000e+07  -0.038173 -0.174930   0.027856      0\n",
      "347                        BillaryCoin                  Scrypt               PoW/PoS     8.998743e+06     4.200000e+07  -0.172319 -1.193388  -0.301777      0\n",
      "348                     EthereumScrypt                  Scrypt               PoW/PoS     0.000000e+00     4.200000e+06  -0.172443 -1.193404  -0.301775      0\n",
      "349                            Phalanx                 SHA-256                   PoW     0.000000e+00     1.500000e+07  -0.248428  1.403830   0.105888      1\n",
      "351                        SunShotCoin                     X11                   PoW     0.000000e+00     2.250000e+09  -0.288946  0.776723   0.003035      1\n",
      "352                           GPU Coin                  Scrypt                   PoS     4.047704e+07     2.210526e+08  -0.045563 -0.849688  -0.142841      0\n",
      "354                           HempCoin                Scrypt-n                   PoW     0.000000e+00     5.000000e+09  -0.368110  2.150422   0.231448      1\n",
      "355                            Adzcoin                     X11                   PoW     4.511032e+07     8.400000e+07  -0.288323  0.776805   0.003026      1\n",
      "357                          VirtaCoin                  Scrypt                   PoW     0.000000e+00     2.100000e+10  -0.321908  1.052086   0.017643      1\n",
      "358                           SoilCoin                  Dagger                   PoW     5.702048e+06     3.000000e+07  -0.363779  2.141016   0.166386      1\n",
      "359                             YoCoin                  Scrypt                   PoW     6.364626e+05     1.683513e+08  -0.321899  1.052088   0.017643      1\n",
      "360                 Universal Currency                 SHA-256               PoW/PoS     0.000000e+00     2.100000e+08  -0.098963 -0.841661  -0.213531      0\n",
      "361                               AEON        CryptoNight-Lite                   PoW     0.000000e+00     1.840000e+07  -0.396185  2.111671   0.171416      1\n",
      "362                            SibCoin                 X11GOST                   PoW     1.726336e+07     2.400000e+07  -0.337285  2.117890   0.253297      1\n",
      "363                         EuropeCoin                     X11               PoW/PoS     1.040727e+07     3.840000e+08  -0.139337 -1.468749  -0.316386      0\n",
      "366                       Anti Bitcoin                 SHA-256                   PoW     0.000000e+00     4.200000e+07  -0.248428  1.403830   0.105888      1\n",
      "369                           ZeitCoin                  Scrypt                   PoS     3.697124e+10     9.900000e+10   0.464360 -0.782260  -0.150259      0\n",
      "371                          SwingCoin                 SHA-256               PoW/PoS     4.377082e+06     4.000000e+07  -0.098903 -0.841653  -0.213531      0\n",
      "372                   SafeExchangeCoin                  Scrypt                   PoC     2.147484e+09     2.147484e+09   0.465656 -0.506339  -0.547282      0\n",
      "373                     Nebuchadnezzar                     PoS                   PoS     2.000000e+07     2.000000e+07   0.160580 -1.549073  -0.113449      0\n",
      "375                             Francs                  Scrypt                   PoW     6.570808e+06     2.000000e+07  -0.321817  1.052099   0.017642      1\n",
      "385                        BolivarCoin                     X11                   PoW     1.365408e+07     2.500000e+07  -0.288757  0.776748   0.003032      1\n",
      "388                          GIZMOcoin                     X11               PoW/PoS     0.000000e+00     1.000000e+05  -0.139481 -1.468768  -0.316384      0\n",
      "390                         SecretCoin                     X11               PoW/PoS     0.000000e+00     2.100000e+07  -0.139481 -1.468768  -0.316384      0\n",
      "391                           Ratecoin                     X11               PoW/PoS     1.345549e+08     7.500000e+07  -0.137623 -1.468522  -0.316411      0\n",
      "393               Digital Bullion Gold                     PoS                   PoS     0.000000e+00     1.500000e+07   0.160304 -1.549110  -0.113445      0\n",
      "397                             Revenu                 SHA-256               PoW/PoS     1.195525e+06     2.227250e+08  -0.098946 -0.841659  -0.213531      0\n",
      "402                            Clinton                 SHA-256                   PoW     0.000000e+00     2.421227e+06  -0.248428  1.403830   0.105888      1\n",
      "403                          Clockcoin                 SHA-256               PoW/PoS     1.666282e+07     5.250000e+08  -0.098733 -0.841631  -0.213534      0\n",
      "404                         VIP Tokens                   NIST5               PoW/PoS     8.345040e+07     9.000000e+07  -0.093202 -1.782374  -0.335602      0\n",
      "408                           OrlyCoin                     X15               PoW/PoS     0.000000e+00     3.600000e+07  -0.005148 -2.062732  -0.436680      0\n",
      "413                            BitSend                     X11               PoW/PoS     2.438772e+07     1.390000e+08  -0.139144 -1.468724  -0.316388      0\n",
      "415                          16BitCoin                   NIST5               PoW/PoS     0.000000e+00     1.600000e+07  -0.094354 -1.782526  -0.335585      0\n",
      "417                          ChessCoin                  Scrypt               PoW/PoS     0.000000e+00     7.466667e+07  -0.172443 -1.193404  -0.301775      0\n",
      "418                            ReeCoin                  Scrypt               PoW/PoS     0.000000e+00     3.500000e+08  -0.172443 -1.193404  -0.301775      0\n",
      "420                               Omni                  Scrypt                   PoW     6.164480e+05     6.164480e+05  -0.321900  1.052088   0.017643      1\n",
      "422                        Let it Ride                 POS 3.0                   PoS     3.858981e+07     3.350000e+07   0.132751 -1.495018  -0.115906      0\n",
      "426                          PutinCoin                  Scrypt               PoW/PoS     8.130923e+08     2.000000e+09  -0.161216 -1.191919  -0.301939      0\n",
      "428                          iBankCoin                  Scrypt               PoW/PoS     4.526324e+06     4.433333e+07  -0.172381 -1.193396  -0.301776      0\n",
      "431                     Frankywillcoin                  Scrypt               PoW/PoS     1.000000e+08     1.000000e+08  -0.171062 -1.193221  -0.301795      0\n",
      "436                          MudraCoin                     X13                   PoS     5.000000e+06     2.000000e+08   0.138189 -1.606595  -0.204952      0\n",
      "437                          PizzaCoin                     X11                   PoW     1.377917e+06     2.500000e+07  -0.288927  0.776725   0.003035      1\n",
      "438                      Lutetium Coin                     X11                   PoS     6.570000e+08     6.570000e+08  -0.004089 -1.123927  -0.157573      0\n",
      "440                             Komodo                Equihash              dPoW/PoW     1.158981e+08     2.000000e+08  -0.234430  1.188828   0.013237      1\n",
      "441                         GoldBlocks                     X11               PoW/PoS     1.556387e+07     5.000000e+07  -0.139266 -1.468740  -0.316387      0\n",
      "443                            WayCoin                     X11                   PoS     0.000000e+00     1.000000e+08  -0.013160 -1.125126  -0.157441      0\n",
      "446                         CarterCoin                  Scrypt               PoW/PoS     4.316550e+07     9.000000e+07  -0.171847 -1.193325  -0.301784      0\n",
      "452                              Karbo             CryptoNight                   PoW     7.822433e+06     1.000000e+07  -0.207126  2.239938   0.221002      1\n",
      "454                          BitTokens                 SHA-256               PoW/PoS     5.954290e+05     2.100000e+07  -0.098955 -0.841660  -0.213531      0\n",
      "455                          ZayedCoin                 SHA-256                   PoW     6.243840e+06     9.736000e+06  -0.248342  1.403841   0.105887      1\n",
      "456                        MustangCoin                     X11               PoW/PoS     6.576363e+05     3.000000e+06  -0.139472 -1.468767  -0.316384      0\n",
      "458                           ZoneCoin                  Scrypt               PoW/PoS     2.581970e+06     2.100000e+07  -0.172408 -1.193399  -0.301776      0\n",
      "459                  Circuits of Value                Multiple                   PoW     1.000000e+09     1.200000e+09  -0.278426  1.741479   0.175096      1\n",
      "463                           DopeCoin                  Scrypt                   PoW     1.168452e+08     2.000000e+08  -0.320295  1.052300   0.017620      1\n",
      "466                        PROUD Money                     X11               PoW/PoS     0.000000e+00     1.000000e+10  -0.139481 -1.468768  -0.316384      0\n",
      "475                         DollarCoin                 SHA-256                   PoW     9.106714e+06     1.063830e+07  -0.248302  1.403846   0.105886      1\n",
      "476                           Swiscoin                  Scrypt               PoW/PoW     6.652001e+08     3.100000e+09  -0.134680 -0.384666  -0.107780      0\n",
      "478                           Shilling                  Scrypt                   PoW     1.111920e+07     3.000000e+07  -0.321755  1.052107   0.017641      1\n",
      "479                           BuzzCoin                SHA-256D               PoW/PoS     1.957779e+10     2.000000e+10   0.204371 -2.123618  -0.472161      0\n",
      "482                              Opair                     PoS                   PoS     7.403381e+07     7.400000e+07   0.161326 -1.548975  -0.113460      0\n",
      "490                           GBR Coin                  Scrypt                   PoW     0.000000e+00     8.750000e+07  -0.321908  1.052087   0.017643      1\n",
      "491                     Halloween Coin                     X11               PoW/PoS     2.646785e+08     1.500000e+09  -0.135827 -1.468285  -0.316437      0\n",
      "502                           FujiCoin                Scrypt-n                   PoW     0.000000e+00     1.000000e+07  -0.368110  2.150422   0.231448      1\n",
      "504                              ZCoin                  Lyra2Z                   PoW     7.568281e+06     2.140000e+07  -0.347142  2.165055   0.212454      1\n",
      "507                            LeaCoin                 SHA-256                   PoW     0.000000e+00     2.000000e+09  -0.248428  1.403830   0.105888      1\n",
      "509                         CoffeeCoin                     PoS                   PoS     1.487168e+08     3.999990e+07   0.162357 -1.548838  -0.113475      0\n",
      "516                          RoyalCoin                     X13                   PoS     2.500124e+06     2.500124e+06   0.138155 -1.606599  -0.204952      0\n",
      "518                            Zurcoin                   Quark                   PoW     0.000000e+00     1.260000e+08  -0.075014  0.493542   0.047504      1\n",
      "522                       GanjaCoin V2                     X14               PoW/PoS     1.000000e+08     1.000000e+08  -0.111736 -2.091776  -0.441477      0\n",
      "523                             TeamUP                     PoS                   PoS     1.781868e+07     3.010000e+08   0.160550 -1.549077  -0.113449      0\n",
      "525                           LanaCoin                SHA-256D               PoW/PoS     1.082163e+09     7.506000e+09  -0.051008 -2.157388  -0.468446      0\n",
      "526                         Elementrem                  Ethash                   PoW     2.620554e+07     2.620554e+07  -0.343077  2.023909   0.160388      1\n",
      "533                            CashOut                 SHA-256                   PoW     0.000000e+00     1.000000e+08  -0.248428  1.403830   0.105888      1\n",
      "534                           ZClassic                Equihash                   PoW     5.613550e+06     2.100000e+07  -0.344227  1.919835   0.159273      1\n",
      "539                                ARK                    DPoS                  DPoS     1.082021e+08     1.250000e+08   6.896961 -0.083369   0.035958      0\n",
      "543                         InsaneCoin                     X11               PoW/PoS     1.834281e+07     3.000000e+07  -0.139228 -1.468735  -0.316387      0\n",
      "544                          LuckChain                  Scrypt               PoW/PoS     0.000000e+00     1.000000e+09  -0.172443 -1.193404  -0.301775      0\n",
      "548                           KiloCoin                  Scrypt                   PoW     1.962980e+08     1.000000e+10  -0.319198  1.052445   0.017604      1\n",
      "549                               Hush                Equihash                   PoW     0.000000e+00     2.100000e+07  -0.344305  1.919825   0.159274      1\n",
      "555                          ArtexCoin                     X11                   PoW     8.240000e+08     5.000000e+08  -0.277569  0.778227   0.002870      1\n",
      "560                          EmberCoin                     X13               PoW/PoS     9.219282e+10     8.500000e+08   1.284757 -1.781916  -0.382411      0\n",
      "563                          XenixCoin                     X11               PoW/PoS     3.853327e+06     3.853327e+06  -0.139428 -1.468761  -0.316384      0\n",
      "565                           FreeCoin                     PoS                   PoS     5.000000e+07     5.000000e+07   0.160994 -1.549019  -0.113455      0\n",
      "566                            NPCcoin                SHA-256D               PoW/PoS     0.000000e+00     7.000000e+09  -0.065950 -2.159363  -0.468229      0\n",
      "567                            PLNCoin                  Scrypt               PoW/PoS     1.708960e+07     3.854000e+07  -0.172207 -1.193373  -0.301779      0\n",
      "569                             Icobid                  Scrypt               PoW/PoS     0.000000e+00     2.000000e+08  -0.172443 -1.193404  -0.301775      0\n",
      "570                       AquariusCoin                  Scrypt               PoW/PoS     2.449577e+06     4.200000e+07  -0.172409 -1.193400  -0.301776      0\n",
      "571                            Kurrent                     X11                   PoW     6.136481e+07     2.280000e+08  -0.288099  0.776835   0.003023      1\n",
      "572                            Creatio                     PoS                   PoS     2.000000e+07     2.000000e+07   0.160580 -1.549073  -0.113449      0\n",
      "573                           Eternity                     X11               PoW/PoS     6.069482e+06     6.000000e+07  -0.139397 -1.468757  -0.316385      0\n",
      "576                           Eurocoin                 SHA-256               PoW/PoS     1.241655e+07     2.000000e+07  -0.098792 -0.841638  -0.213533      0\n",
      "578                        BitcoinFast                  Scrypt               PoW/PoS     2.024402e+07     3.300000e+07  -0.172164 -1.193367  -0.301779      0\n",
      "580                           Stakenet                     X11                  TPoS     7.559037e+07     7.650000e+07  -0.141786 -1.044898  -0.126555      0\n",
      "581                    BitConnect Coin                  Scrypt               PoW/PoS     1.108072e+07     2.800000e+07  -0.172290 -1.193384  -0.301778      0\n",
      "585                          MoneyCoin                  Scrypt               PoW/PoS     1.091442e+07     6.506598e+08  -0.172293 -1.193384  -0.301778      0\n",
      "592                             Enigma                     X11               PoW/PoS     8.146710e+05     5.000000e+06  -0.139470 -1.468767  -0.316384      0\n",
      "593             Cannabis Industry Coin             CryptoNight                   PoW     9.781450e+05     2.100000e+07  -0.207221  2.239925   0.221003      1\n",
      "599                         Russiacoin                  Scrypt               PoW/PoS     8.377873e+06     1.440000e+08  -0.172328 -1.193389  -0.301777      0\n",
      "600                          PandaCoin                  Scrypt                   PoS     3.381314e+10     3.251492e+10   0.420754 -0.788025  -0.149624      0\n",
      "605                          GameUnits                  Scrypt               PoW/PoS     3.472983e+06     1.300000e+07  -0.172395 -1.193398  -0.301776      0\n",
      "606                           GAKHcoin                  Scrypt               PoW/PoS     3.315789e+06     3.315789e+06  -0.172397 -1.193398  -0.301776      0\n",
      "608                            Allsafe                   Quark                   PoS     1.051777e+07     1.500000e+07   0.200917 -1.408288  -0.112974      0\n",
      "609                          LiteCreed                   QuBit               PoW/PoS     3.022775e+07     7.883520e+07  -0.125420 -1.118700  -0.254604      0\n",
      "622                         OsmiumCoin                  Scrypt                   PoW     8.940260e+05     2.714286e+06  -0.321896  1.052088   0.017643      1\n",
      "623                         Bikercoins             CryptoNight                   PoW     9.357088e+06     2.500000e+07  -0.207105  2.239940   0.221001      1\n",
      "625                     NeptuneClassic                     X11               PoW/PoS     0.000000e+00     2.500000e+08  -0.139481 -1.468768  -0.316384      0\n",
      "626                           HexxCoin                 Lyra2RE                   PoW     1.876146e+06     9.999999e+06  -0.401115  2.096330   0.236661      1\n",
      "632                         GoldenBird                     X13               PoW/PoS     0.000000e+00     4.500000e+08   0.011799 -1.950245  -0.363894      0\n",
      "638                        Ride My Car                     PoS                   PoS     0.000000e+00     1.000000e+08   0.160304 -1.549110  -0.113445      0\n",
      "639              Klingon Empire Darsek                  Scrypt               PoW/PoS     2.396537e+07     5.000000e+08  -0.172112 -1.193360  -0.301780      0\n",
      "640                 Internet of People                 SHA-256               PoW/PoS     2.526078e+06     2.100000e+07  -0.098928 -0.841657  -0.213531      0\n",
      "642                           KushCoin                     X11               PoW/PoS     5.659097e+06     9.354000e+06  -0.139403 -1.468758  -0.316385      0\n",
      "643                           Eryllium                     X11               PoW/PoS     0.000000e+00     1.000000e+08  -0.139481 -1.468768  -0.316384      0\n",
      "650                           MarxCoin                     X11                   PoW     0.000000e+00     1.006400e+08  -0.288946  0.776723   0.003035      1\n",
      "652                         Printerium                  Scrypt               PoW/PoS     1.182173e+07     2.000000e+07  -0.172280 -1.193382  -0.301778      0\n",
      "653                            PacCoin                     X11                   PoW     5.369821e+08     1.000000e+11  -0.281532  0.777702   0.002927      1\n",
      "654                            Impeach                  Scrypt               PoW/PoS     3.081790e+05     2.193333e+07  -0.172439 -1.193403  -0.301775      0\n",
      "658                     Solarflarecoin                  Scrypt                   PoW     0.000000e+00     2.000000e+07  -0.321908  1.052087   0.017643      1\n",
      "662                            Citadel          CryptoNight-V7                   PoW     1.096932e+07     1.850000e+08  -0.358616  2.134081   0.193215      1\n",
      "663                         Zilbercoin                  Scrypt                   PoS     2.922614e+06     5.500000e+07  -0.046082 -0.849757  -0.142833      0\n",
      "664                          FirstCoin                  Scrypt              PoW/PoS      1.100000e+08     1.100000e+08  -0.134455 -0.403408  -0.169592      0\n",
      "673                      CreativeChain                  Keccak                   PoW     0.000000e+00     1.150000e+08  -0.330588  1.443809   0.115777      1\n",
      "674                         BeaverCoin                  Scrypt                   PoW     3.115258e+06     3.360000e+06  -0.321865  1.052092   0.017643      1\n",
      "675                           FindCoin                     X13                   PoS     1.452485e+07     1.452485e+07   0.138321 -1.606577  -0.204954      0\n",
      "679                          VaultCoin                     X11                   PoW     3.038554e+07     1.000000e+09  -0.288526  0.776778   0.003029      1\n",
      "681                               Zero                Equihash                   PoW     6.921654e+06     1.700000e+07  -0.344209  1.919837   0.159272      1\n",
      "682                           OpenChat                  Scrypt               PoW/PoS     1.000000e+09     1.000000e+09  -0.158636 -1.191578  -0.301976      0\n",
      "683                       Canada eCoin                  Scrypt                   PoW     9.984341e+07     1.000000e+08  -0.320530  1.052269   0.017623      1\n",
      "684                               Zoin                 Lyra2RE                   PoW     1.854576e+07     2.100000e+07  -0.400885  2.096360   0.236658      1\n",
      "687                           Musicoin                  Ethash                   PoW     0.000000e+00     4.548984e+08  -0.343439  2.023861   0.160393      1\n",
      "693                          BnrtxCoin                     X11                   PoW     0.000000e+00     2.100000e+08  -0.288946  0.776723   0.003035      1\n",
      "694                          RenosCoin                  Scrypt                   PoS     3.605036e+07     3.442642e+07  -0.045625 -0.849697  -0.142840      0\n",
      "695                          DubaiCoin        Dagger-Hashimoto                   PoW     2.232901e+06     2.232901e+06  -0.356665  2.104141   0.225180      1\n",
      "696                      VirtacoinPlus                     X11               PoW/PoS     1.316275e+07     1.000000e+08  -0.139299 -1.468744  -0.316386      0\n",
      "698                            TajCoin                 Blake2S               PoW/PoS     1.218420e+07     3.690000e+07  -0.096785 -2.091759  -0.461663      0\n",
      "699                             Impact                     X11               PoW/PoS     1.106304e+08     1.100000e+08  -0.137954 -1.468566  -0.316406      0\n",
      "703                            EB3coin                  Scrypt                   PoW     6.409605e+07     4.000000e+09  -0.321023  1.052204   0.017631      1\n",
      "707                           Universe                  Scrypt                   PoS     0.000000e+00     1.120000e+08  -0.046122 -0.849762  -0.142833      0\n",
      "711                              Atmos                     PoS                   PoS     1.111358e+08     1.102900e+08   0.161838 -1.548907  -0.113468      0\n",
      "712                          HappyCoin                     X11               PoW/PoS     2.152132e+07     1.000000e+08  -0.139184 -1.468729  -0.316388      0\n",
      "713                           Coinonat                   NIST5                   PoW     1.012320e+07     4.825200e+07  -0.243679  0.462983  -0.016168      1\n",
      "714                         MacronCoin                     PoS                   PoS     4.014214e+08     4.000000e+08   0.165847 -1.548377  -0.113526      0\n",
      "715                         Condensate                     X11               PoW/PoS     1.216655e+08     5.000000e+08  -0.137801 -1.468546  -0.316408      0\n",
      "717           Independent Money System                  Scrypt               PoW/PoS     5.368934e+06     2.121212e+07  -0.172369 -1.193394  -0.301776      0\n",
      "718                          ArgusCoin                  Scrypt               PoW/PoS     1.148324e+06     2.860000e+07  -0.172427 -1.193402  -0.301776      0\n",
      "719                           LomoCoin                  Scrypt               PoW/PoS     5.000000e+05     1.000000e+09  -0.172436 -1.193403  -0.301775      0\n",
      "720                     Bitcoin Scrypt                  Scrypt                   PoW     0.000000e+00     2.100000e+07  -0.321908  1.052087   0.017643      1\n",
      "721                        ProCurrency                 SHA-256                   PoS     1.005457e+08     7.500000e+10   0.028746 -0.497837  -0.054608      0\n",
      "722                        GoldReserve                     X11               PoW/PoS     1.717138e+07     4.000000e+07  -0.139244 -1.468737  -0.316387      0\n",
      "723                         BenjiRolls                  Scrypt                   PoW     2.027610e+07     3.552040e+07  -0.321628  1.052124   0.017639      1\n",
      "724                       ParallelCoin                  Scrypt                   PoW     0.000000e+00     1.000000e+06  -0.321908  1.052087   0.017643      1\n",
      "725                         GrowthCoin                  Scrypt                   PoS     2.951355e+08     2.000000e+09  -0.042047 -0.849224  -0.142892      0\n",
      "726                             ILCoin                 SHA-256                   PoW     1.317748e+09     2.500000e+09  -0.230233  1.406236   0.105623      1\n",
      "728                             Phreak                     PoS                   PoS     1.139023e+07     3.000000e+07   0.160461 -1.549089  -0.113448      0\n",
      "732                         Degas Coin                  Scrypt               PoW/PoS     2.135876e+07     1.050000e+08  -0.172148 -1.193365  -0.301780      0\n",
      "733                            ZSEcoin                     X11               PoW/PoS     0.000000e+00     2.093500e+09  -0.139481 -1.468768  -0.316384      0\n",
      "737                         HTML5 Coin                     X15               PoW/PoS     4.065902e+10     9.000000e+10   0.556253 -1.988496  -0.444847      0\n",
      "739               Ultimate Secure Cash                 SHA-256                   PoS     1.034311e+07     2.000842e+08   0.027501 -0.498001  -0.054590      0\n",
      "742                         EquiTrader                  Scrypt                   PoW     1.367341e+07     7.200000e+07  -0.321719  1.052112   0.017641      1\n",
      "745                               QTUM                 POS 3.0                   PoS     1.000000e+08     1.000000e+08   0.133598 -1.494906  -0.115918      0\n",
      "747           Quantum Resistant Ledger          CryptoNight-V7                   PoW     6.903602e+07     1.050000e+08  -0.357814  2.134187   0.193203      1\n",
      "748                             Espers                     536               PoW/PoS     2.280188e+10     5.000000e+10   0.542190 -2.040065  -0.519914      0\n",
      "750                               Nano                 Blake2b                   PoW     1.332483e+08     3.402824e+08  -0.433016  2.051971   0.279204      1\n",
      "751                           ChanCoin              Cloverhash                   PoW     1.840726e+07     3.000000e+07  -0.348964  2.140035   0.203502      1\n",
      "752                        Dinastycoin             CryptoNight                   PoW     1.809467e+09     2.000000e+09  -0.182250  2.243227   0.220640      1\n",
      "753                           Denarius                   NIST5               PoW/PoS     4.171382e+06     1.000000e+07  -0.094296 -1.782519  -0.335586      0\n",
      "754                       DigitalPrice                     X11                   PoW     3.513898e+07     1.000000e+08  -0.288461  0.776787   0.003028      1\n",
      "755                  Virta Unique Coin                   NIST5               PoW/PoS     6.294208e+07     1.200000e+08  -0.093485 -1.782411  -0.335598      0\n",
      "756                     Bitcoin Planet                   Skein               PoW/PoS     6.804362e+06     1.000000e+08  -0.162404 -1.505136  -0.327923      0\n",
      "757                              Unify                  Scrypt                   PoW     1.813320e+07     1.927680e+07  -0.321658  1.052120   0.017640      1\n",
      "758                           BritCoin                     X13               PoW/PoS     2.126809e+07     3.000000e+07   0.012093 -1.950207  -0.363898      0\n",
      "759                         SocialCoin                  Scrypt                   PoW     5.167775e+06     7.500000e+07  -0.321837  1.052096   0.017642      1\n",
      "760                            Octanox                     X11               PoW/PoS     0.000000e+00     7.905634e+06  -0.139481 -1.468768  -0.316384      0\n",
      "761                         ArcticCoin                     X11                   PoW     2.604236e+07     6.000000e+07  -0.288586  0.776770   0.003030      1\n",
      "764                                DAS                     X11                   PoW     2.622886e+06     1.890000e+07  -0.288910  0.776727   0.003035      1\n",
      "765                              Linda                  Scrypt               PoW/PoS     9.044931e+09     5.000000e+10  -0.047555 -1.176890  -0.303592      0\n",
      "766                         LeviarCoin             CryptoNight                   PoW     1.416180e+07     5.400000e+07  -0.207039  2.239949   0.221000      1\n",
      "767                          DeepOnion                     X13               PoW/PoS     2.191702e+07     1.889819e+07   0.012102 -1.950205  -0.363898      0\n",
      "768                            Bitcore             Time Travel                   PoW     1.780187e+07     2.100000e+07  -0.324452  2.056817   0.138637      1\n",
      "769                           gCn Coin                  Scrypt                   PoW     1.630551e+11     2.000000e+11   1.929484  1.349797  -0.015107      1\n",
      "770                          SmartCash                  Keccak                   PoW     2.241009e+09     5.000000e+09  -0.299646  1.447901   0.115326      1\n",
      "771                           Signatum     SkunkHash v2 Raptor                   PoS     1.079728e+08     1.375000e+08   0.140260 -1.459737  -0.105302      0\n",
      "772                               Onix                     X11                   PoW     1.224756e+08     1.100000e+09  -0.287255  0.776946   0.003011      1\n",
      "774                              Cream                   Skein               PoW/PoS     4.733180e+07     1.000000e+08  -0.161845 -1.505062  -0.327931      0\n",
      "775                       Bitcoin Cash                 SHA-256                   PoW     1.799559e+07     2.100000e+07  -0.248179  1.403862   0.105885      1\n",
      "777                            Monoeci                     X11               PoW/PoS     1.256926e+07     9.507271e+06  -0.139308 -1.468745  -0.316386      0\n",
      "778                         CampusCoin                  Scrypt                   PoW     0.000000e+00     1.010000e+09  -0.321908  1.052087   0.017643      1\n",
      "779                          Draftcoin                  Scrypt                   PoS     1.866330e+07     1.740589e+07  -0.045865 -0.849728  -0.142836      0\n",
      "780                            Vechain   VeChainThor Authority    Proof of Authority     5.545473e+10     8.671263e+10   7.050552 -1.148110   1.847615      0\n",
      "781                       Sojourn Coin                  Scrypt                   PoW     4.852140e+05     1.050000e+10  -0.321901  1.052087   0.017643      1\n",
      "782                          Stakecoin                     PoS                   PoS     4.000000e+06     6.159996e+07   0.160359 -1.549103  -0.113446      0\n",
      "784                        LiteBitcoin                  Scrypt                   PoW     0.000000e+00     1.000000e+09  -0.321908  1.052087   0.017643      1\n",
      "785                           FrazCoin                  Scrypt                   PoW     9.704042e+06     2.000000e+07  -0.321774  1.052104   0.017641      1\n",
      "786                          Kronecoin                  Scrypt                   PoW     1.745375e+07     8.400000e+07  -0.321667  1.052118   0.017640      1\n",
      "787                             AdCoin                  Scrypt                   PoW     3.264673e+07     1.000000e+08  -0.321457  1.052146   0.017637      1\n",
      "788                               Linx                  Scrypt                   PoW     3.371653e+07     1.000000e+08  -0.321443  1.052148   0.017637      1\n",
      "789                          CoinonatX                  Scrypt               PoW/PoS     1.953959e+07     4.825200e+07  -0.172173 -1.193368  -0.301779      0\n",
      "791                      Ethereum Dark                  Scrypt               PoW/PoS     4.200000e+06     4.200000e+06  -0.172385 -1.193396  -0.301776      0\n",
      "792                           Sumokoin             CryptoNight                   PoW     8.946653e+06     8.888889e+07  -0.207111  2.239940   0.221001      1\n",
      "793                           Obsidian                 SHA-512                   PoS     2.500000e+07     9.138895e+07   0.293931 -1.620284  -0.242704      0\n",
      "794                            Cardano               Ouroboros                   PoS     2.592707e+10     4.500000e+10   0.776916 -1.285058   0.021842      0\n",
      "795                          Regalcoin                     X11               PoW/PoS     7.262402e+06     2.700000e+07  -0.139381 -1.468755  -0.316385      0\n",
      "796                           BitcoinZ                Equihash                   PoW     5.211553e+09     2.100000e+10  -0.272346  1.929340   0.158227      1\n",
      "798                         TrezarCoin               NeoScrypt               PoW/PoS     1.826384e+08     4.000000e+08  -0.185295 -0.709689  -0.193226      0\n",
      "799                           Elements                     X11                   PoW     2.702856e+09     1.800000e+09  -0.251626  0.781658   0.002492      1\n",
      "800                      TerraNovaCoin                  Scrypt               PoW/PoS     1.140735e+06     1.573333e+07  -0.172427 -1.193402  -0.301776      0\n",
      "801                          VIVO Coin               NeoScrypt                   PoW     4.165968e+06     2.700000e+07  -0.337224  1.535476   0.126229      1\n",
      "803                              Rupee               Lyra2REv2                   PoS     2.400000e+07     2.400000e+07  -0.045490 -0.566200  -0.031069      0\n",
      "804                       Bitcoin Gold                Equihash                   PoW     1.720236e+07     2.100000e+07  -0.344067  1.919856   0.159270      1\n",
      "805                          WomenCoin                  Scrypt               PoW/PoS     4.845947e+10     2.500000e+10   0.496663 -1.104925  -0.311509      0\n",
      "806                   Theresa May Coin                 SHA-256               PoW/PoS     9.205080e+07     1.000000e+08  -0.097692 -0.841493  -0.213549      0\n",
      "808                           NamoCoin                   NIST5               PoW/PoS     5.605632e+08     1.200000e+09  -0.086614 -1.781503  -0.335697      0\n",
      "809                            LUXCoin                 PHI1612               PoW/PoS     8.305775e+06     6.000000e+07  -0.027623 -1.961175  -0.375069      0\n",
      "810                               Pirl                  Dagger                   PoW     3.398698e+07     1.563067e+08  -0.363388  2.141068   0.166380      1\n",
      "811                               Xios                  Scrypt               PoW/PoS     2.149688e+06     2.100000e+07  -0.172414 -1.193400  -0.301776      0\n",
      "812                       Bitcloud 2.0                   Quark               PoW/PoS     3.071155e+07     2.000000e+08   0.074875 -1.751893  -0.271921      0\n",
      "813                             eBoost                  Scrypt                   PoW     9.999000e+07     1.000000e+08  -0.320527  1.052269   0.017623      1\n",
      "814                            KekCoin                 POS 2.0                   PoS     1.233081e+07     2.100000e+07   0.176948 -1.465074  -0.041879      0\n",
      "815                      BlackholeCoin                  Scrypt               PoW/PoS     1.636254e+07     1.478828e+07  -0.172217 -1.193374  -0.301779      0\n",
      "816                  AltCommunity Coin               SkunkHash               PoW/PoS     0.000000e+00     5.000000e+06  -0.114797 -0.773499  -0.159027      0\n",
      "817                               Pure                     X11               PoW/PoS     0.000000e+00     3.686860e+06  -0.139481 -1.468768  -0.316384      0\n",
      "818                             Rupaya                   Quark                   PoS     0.000000e+00     7.500000e+07   0.200772 -1.408307  -0.112972      0\n",
      "819                 Infinity Economics                 SHA-256                   PoS     9.000000e+09     9.000000e+09   0.151626 -0.481587  -0.056396      0\n",
      "822                               Pura                     X11                   PoW     1.752159e+08     3.500000e+08  -0.286527  0.777043   0.003000      1\n",
      "823                             Innova               NeoScrypt                   PoW     6.375259e+06     4.500000e+07  -0.337193  1.535480   0.126228      1\n",
      "824                            Bitdeal                  Scrypt                   PoW     0.000000e+00     3.000000e+08  -0.321908  1.052087   0.017643      1\n",
      "827                            Ellaism                  Ethash                   PoW     1.275637e+07     2.800000e+08  -0.343262  2.023884   0.160391      1\n",
      "828                         Sakuracoin                  Scrypt                   PoW     0.000000e+00     1.051000e+08  -0.321908  1.052087   0.017643      1\n",
      "830                             GoByte               NeoScrypt                   PoW     5.832307e+06     3.180000e+07  -0.337201  1.535479   0.126229      1\n",
      "831                             Castle                   Quark                  DPoS     0.000000e+00     5.000000e+07   4.366340 -0.597234  -0.054905      0\n",
      "835                             Magnet                     X11               PoW/PoS     3.819859e+07     1.440000e+08  -0.138954 -1.468698  -0.316391      0\n",
      "836                         Lamden Tau                    DPoS                  DPoS     2.880906e+08     5.000000e+08   6.899445 -0.083041   0.035922      0\n",
      "837                            Electra                   NIST5               PoW/PoS     2.839915e+10     3.000000e+10   0.297769 -1.730674  -0.341289      0\n",
      "838                    Bitcoin Diamond                     X13               PoW/PoS     1.835340e+08     2.100000e+08   0.014334 -1.949910  -0.363931      0\n",
      "840                             SHIELD                Multiple                   PoW     4.817306e+08     6.600000e+08  -0.285582  1.740532   0.175200      1\n",
      "844                   Cash & Back Coin                  Scrypt               PoW/PoS     1.109770e+08     2.100000e+08  -0.170911 -1.193201  -0.301798      0\n",
      "845                          UltraNote             CryptoNight                   PoW     1.928182e+10     8.500000e+10   0.059000  2.275128   0.217130      1\n",
      "850                            BitCoal             CryptoNight                   PoW     4.500000e+06     1.250000e+07  -0.207172  2.239931   0.221002      1\n",
      "851                           DaxxCoin                  Ethash                   PoW     5.208918e+08     1.000000e+10  -0.336246  2.024812   0.160289      1\n",
      "852                            Bulwark                   NIST5                   PoS     1.324718e+07     2.771612e+07   0.032150 -1.438860  -0.176645      0\n",
      "855                           Kalkulus                   Quark                   PoS     1.695576e+07     2.000000e+07   0.201006 -1.408276  -0.112975      0\n",
      "856                                AC3                     X11                   PoW     8.031621e+07     5.500000e+08  -0.287837  0.776869   0.003019      1\n",
      "857                              CHIPS                 SHA-256                   PoW     0.000000e+00     2.100000e+07  -0.248428  1.403830   0.105888      1\n",
      "858                            Lethean          CryptoNight-V7                   PoW     4.412502e+08     9.994815e+08  -0.352675  2.134867   0.193129      1\n",
      "859                         GermanCoin                  Scrypt               PoW/PoS     4.911500e+09     5.000000e+10  -0.104628 -1.184437  -0.302762      0\n",
      "860                     LiteCoin Ultra                  Scrypt               PoW/PoS     8.419402e+06     1.500000e+08  -0.172327 -1.193389  -0.301777      0\n",
      "862                        PopularCoin                  Scrypt                   PoW     3.964201e+09     5.000000e+09  -0.267172  1.059325   0.016847      1\n",
      "863                           PhantomX                     X11               PoW/PoS     4.517421e+07     5.000000e+07  -0.138857 -1.468686  -0.316393      0\n",
      "865                          HTML Coin                 SHA-256               PoW/PoS     0.000000e+00     9.000000e+10  -0.098963 -0.841662  -0.213531      0\n",
      "866                             Photon                BLAKE256                   PoW     3.008967e+10     9.000000e+10   0.339115  1.204972   0.082241      1\n",
      "867                              Sucre                     X11                   PoW     4.229041e+06     1.980000e+07  -0.288888  0.776730   0.003034      1\n",
      "870                       Fantasy Cash                  Scrypt               PoW/PoS     0.000000e+00     4.600000e+06  -0.172443 -1.193404  -0.301775      0\n",
      "873                          SparksPay               NeoScrypt                   PoW     7.847417e+06     2.100000e+07  -0.337173  1.535483   0.126228      1\n",
      "875                           Digiwage                   Quark                   PoS     2.729968e+07     1.200000e+08   0.201149 -1.408257  -0.112977      0\n",
      "876                            GunCoin               NeoScrypt                   PoW     2.997980e+08     5.000000e+08  -0.333142  1.536016   0.126170      1\n",
      "878                          IrishCoin                  Scrypt                   PoW     4.548305e+07     6.400000e+07  -0.321280  1.052170   0.017634      1\n",
      "879                          Trollcoin                  Scrypt               PoW/PoS     5.910227e+08     9.000000e+08  -0.164283 -1.192325  -0.301894      0\n",
      "880                      Litecoin Plus                  Scrypt               PoW/PoS     2.504486e+06     4.000000e+06  -0.172409 -1.193399  -0.301776      0\n",
      "882                     Monkey Project                     X11                   PoS     4.407252e+06     2.100000e+07  -0.013099 -1.125118  -0.157442      0\n",
      "887                       Pioneer Coin                     X11                   PoW     8.478104e+06     2.300000e+07  -0.288829  0.776738   0.003034      1\n",
      "888                      UnitedBitcoin                 SHA-256                   PoW     2.016600e+07     2.016600e+07  -0.248149  1.403866   0.105884      1\n",
      "889                          Interzone                     C11                   PoW     1.191659e+07     2.300000e+07  -0.323230  1.089712   0.029589      1\n",
      "892                            OP Coin                  Scrypt               PoW/PoS     0.000000e+00     2.000000e+09  -0.172443 -1.193404  -0.301775      0\n",
      "896                           Valorbit                  Scrypt               PoW/PoS     0.000000e+00     9.223372e+16  -0.303302 -2.262425  -0.541183      0\n",
      "897                           TokenPay                 POS 3.0                   PoS     2.044586e+07     2.500000e+07   0.132500 -1.495051  -0.115902      0\n",
      "899   1717 Masonic Commemorative Token                  Ethash                   PoS     1.618033e+06     1.618033e+06  -0.067630  0.122015  -0.000083      1\n",
      "901                        My Big Coin                  Scrypt           PoW and PoS     9.399343e+06     3.000000e+07  -0.226990 -0.454456  -0.024393      0\n",
      "903                         TurtleCoin             CryptoNight                   PoW     5.313984e+10     1.000000e+12   0.526495  2.336937   0.210327      1\n",
      "905                            MUNcoin               SkunkHash                   PoW     4.818339e+06     1.660000e+07  -0.264195  1.472001   0.160391      1\n",
      "906              Unified Society USDEX                  Scrypt               PoW/PoS     2.348463e+08     2.320000e+08  -0.169201 -1.192975  -0.301823      0\n",
      "909                        Niobio Cash             CryptoNight                   PoW     1.339325e+08     3.360000e+08  -0.205385  2.240168   0.220976      1\n",
      "914                    Bitcoin Private                Equihash                   PoW     0.000000e+00     2.100000e+07  -0.344305  1.919825   0.159274      1\n",
      "915                          Skeincoin                   Skein                   PoW     0.000000e+00     1.700000e+07  -0.311963  0.740342  -0.008503      1\n",
      "918                         ShareChain                  Scrypt                   PoW     1.000000e+10     1.000000e+10  -0.183833  1.070345   0.015635      1\n",
      "920                         Travelflex                  Dagger                   PoW     1.073253e+08     1.000000e+08  -0.362376  2.141202   0.166366      1\n",
      "921                              KREDS               Lyra2REv2                   PoW     6.437959e+08     1.100000e+09  -0.312718  1.336781   0.129283      1\n",
      "923                         Tokyo Coin                     X13                   PoS     2.302989e+08     8.000000e+08   0.141300 -1.606183  -0.204998      0\n",
      "924                           BiblePay      Proof-of-BibleHash                  POBh     1.772092e+09     5.200000e+09   0.502319 -3.051417  16.684817      3\n",
      "925                       LitecoinCash          SHA-256 + Hive            PoW + Hive     6.383823e+08     8.400000e+08   0.270205 -3.152980  24.893167      3\n",
      "926                            BitFlip                  Scrypt                   PoW     1.244610e+07     4.000000e+07  -0.321736  1.052109   0.017641      1\n",
      "927                          LottoCoin                  Scrypt                   PoW     1.449101e+10     1.840698e+10  -0.121823  1.078545   0.014733      1\n",
      "929                           LeafCoin                  Scrypt                   PoW     0.000000e+00     2.100000e+10  -0.321908  1.052086   0.017643      1\n",
      "932                           Cerberus               NeoScrypt                   PoW     0.000000e+00     3.150000e+07  -0.337281  1.535469   0.126230      1\n",
      "933                       Bitcoin Hush                Equihash                   PoW     0.000000e+00     2.100000e+07  -0.344305  1.919825   0.159274      1\n",
      "935            Crypto Improvement Fund                     X11                   PoW     2.112976e+08     5.000000e+08  -0.286028  0.777108   0.002993      1\n",
      "936                            Stipend                     C11               PoW/PoS     1.125134e+07     1.934059e+07  -0.173775 -1.155780  -0.289830      0\n",
      "937                        Poa Network      Proof-of-Authority                   PoA     2.044790e+08     2.524608e+08   0.157220 -2.989305   4.132391      0\n",
      "938                              Pushi                     X11               PoW/PoS     2.167827e+06     2.500000e+07  -0.139451 -1.468764  -0.316384      0\n",
      "940                           Ellerium                   XEVAN               PoW/PoS     4.192754e+05     6.000000e+07  -0.259227 -1.600586  -0.220506      0\n",
      "941                              Velox                  Scrypt                   PoS     2.557001e+07     1.240000e+08  -0.045769 -0.849716  -0.142838      0\n",
      "942                           Ontology                    VBFT                   PoS     6.508486e+08     1.000000e+09   0.093959 -1.487998  -0.060694      0\n",
      "943                   Callisto Network                  Ethash                   PoW     2.476125e+08     6.500000e+09  -0.340020  2.024313   0.160343      1\n",
      "944                             Curium                     X11                   PoW     0.000000e+00     2.200000e+07  -0.288946  0.776723   0.003035      1\n",
      "946                            BitTube             CryptoNight                   PoW     8.004908e+07     1.000000e+09  -0.206129  2.240069   0.220987      1\n",
      "947                             Dinero               NeoScrypt                   PoW     0.000000e+00     1.000000e+08  -0.337281  1.535469   0.126230      1\n",
      "948                           Poseidon                  Scrypt                   PoW     4.070212e+06     2.100000e+07  -0.321852  1.052094   0.017643      1\n",
      "952                       Aidos Kuneen                   IMesh                   PoW     2.500000e+07     2.500000e+07  -0.323267  2.181648   0.224475      1\n",
      "958                           Bitspace                   NIST5               PoW/PoS     1.378785e+07     5.000000e+07  -0.094164 -1.782501  -0.335588      0\n",
      "960                            Snowgem                Equihash                   PoW     0.000000e+00     8.409600e+07  -0.344305  1.919825   0.159274      1\n",
      "963                           Briacoin                  Scrypt               PoW/PoS     8.456378e+05     3.000000e+06  -0.172432 -1.193402  -0.301776      0\n",
      "964                           Ignition                  Scrypt               PoW/PoS     1.182154e+06     5.000000e+06  -0.172427 -1.193402  -0.301776      0\n",
      "966                          Bitrolium                Equihash                   PoW     7.135548e+07     7.000000e+07  -0.343320  1.919955   0.159259      1\n",
      "967                   Bitcoin Interest                Equihash                   PoW     0.000000e+00     2.230000e+07  -0.344305  1.919825   0.159274      1\n",
      "968                          MedicCoin                  Scrypt                   PoS     2.672977e+08     5.000000e+08  -0.042432 -0.849274  -0.142886      0\n",
      "970                    Alpenschillling                  Lyra2Z                   PoW     2.734050e+07     3.000000e+08  -0.346869  2.165091   0.212450      1\n",
      "971                            Zelcash                Equihash               PoW/PoS     0.000000e+00     2.100000e+08  -0.194840 -0.325666  -0.160145      0\n",
      "972                      Bitcoin Green          Green Protocol                   PoS     9.803691e+06     2.100000e+07   0.187590 -1.409115  -0.085173      0\n",
      "973                       Deviant Coin                     PoS                   PoS     2.187659e+07     8.800000e+07   0.160606 -1.549070  -0.113450      0\n",
      "974                            Abjcoin                  Scrypt               PoW/PoS     9.880502e+06     3.000000e+07  -0.172307 -1.193386  -0.301777      0\n",
      "977                Profit Hunters Coin                  Scrypt               PoW/PoS     0.000000e+00     1.000000e+08  -0.172443 -1.193404  -0.301775      0\n",
      "978                              Semux     Semux BFT consensus                  DPoS     1.231147e+06     1.000000e+08   7.548372  0.138755  -0.016617      0\n",
      "979                          BitBlocks                  Scrypt               PoW/PoS     0.000000e+00     5.000000e+08  -0.172443 -1.193404  -0.301775      0\n",
      "981                         FuturoCoin                     X11                   PoW     3.180146e+07     1.000000e+08  -0.288507  0.776781   0.003029      1\n",
      "982                            Carebit                   Quark               PoW/PoS     1.397396e+08     2.000000e+08   0.076380 -1.751694  -0.271943      0\n",
      "983                            Zealium                     PoS                   PoS     1.107525e+07     8.000000e+07   0.160457 -1.549090  -0.113448      0\n",
      "984                     Monero Classic             CryptoNight                   PoW     1.601686e+07     1.840000e+07  -0.207013  2.239952   0.221000      1\n",
      "987                             Proton                    X16R                   PoS     4.403800e+06     4.500000e+07  -0.035147 -0.744991  -0.048436      0\n",
      "989                          iDealCash                  Scrypt               PoW/PoS     1.404158e+09     5.121951e+09  -0.153055 -1.190840  -0.302057      0\n",
      "990                           Jumpcoin                   NIST5                   PoW     2.106935e+07     2.100000e+07  -0.243528  0.463003  -0.016170      1\n",
      "991                            Infinex                 Lyra2RE                   PoW     5.097690e+06     2.628000e+07  -0.401070  2.096336   0.236661      1\n",
      "992                  Bitcoin Incognito                   XEVAN               PoS/PoW     1.090496e+07     2.100000e+07  -0.505516 -1.150178   0.072123      0\n",
      "993                              KEYCO                  Tribus                   PoW     7.954470e+05     1.800000e+07  -0.367120  2.172639   0.128923      1\n",
      "995                      HollyWoodCoin                  Scrypt                   PoS     3.870681e+07     2.600000e+07  -0.045588 -0.849692  -0.142840      0\n",
      "996                            GINcoin                  Lyra2Z                   PoW     6.986400e+06     1.050000e+07  -0.347150  2.165054   0.212455      1\n",
      "1001                        PlatinCoin             CryptoNight                   PoW     8.430000e+04     6.000005e+08  -0.207233  2.239923   0.221003      1\n",
      "1005                              Loki       CryptoNight Heavy                   PoW     1.915363e+07     1.500000e+08   0.260291  2.251193   0.231098      1\n",
      "1006                       Newton Coin             CryptoNight                   PoW     4.129452e+10     1.840000e+11   0.362942  2.315318   0.212709      1\n",
      "1009                         Swisscoin                  Scrypt               PoW/PoS     1.020000e+10     1.020000e+10  -0.031606 -1.174781  -0.303824      0\n",
      "1013                             Xt3ch                  Scrypt                   PoS     7.630000e+06     4.400000e+07  -0.046017 -0.849748  -0.142834      0\n",
      "1014                          MassGrid    Jump Consistent Hash                   PoW     1.358624e+08     1.680000e+08  -0.412825  2.045770   0.331955      1\n",
      "1015                            TheVig                SHA-256D               PoW/PoS     3.323818e+07     1.000000e+08  -0.065491 -2.159303  -0.468235      0\n",
      "1016                         PluraCoin             CryptoNight                   PoW     5.600860e+08     1.000000e+09  -0.199501  2.240946   0.220891      1\n",
      "1017                        EmaratCoin                  Scrypt               PoW/PoS     2.159934e+07     8.400000e+07  -0.172145 -1.193365  -0.301780      0\n",
      "1021                            Dekado                     X15                   PoS     3.028420e+07     9.000000e+07   0.121591 -1.719035  -0.277743      0\n",
      "1022                              Lynx                  Scrypt                  HPoW     7.787206e+10     9.200000e+10   1.738398 -0.166766  -0.171891      0\n",
      "1023                    Poseidon Quark                   Quark                   PoS     2.716265e+06     6.500000e+08   0.200810 -1.408302  -0.112972      0\n",
      "1026                  BitcoinWSpectrum                 SHA-256                   PoS     5.781100e+07     1.002622e+08   0.028156 -0.497914  -0.054600      0\n",
      "1029                              Muse                    DPoS                   PoS     1.819494e+07     1.808181e+07   2.730150 -0.894607  -0.022091      0\n",
      "1030                            Motion                    X16R                   PoW     8.125865e+06     2.207570e+07  -0.310882  1.156864   0.112040      1\n",
      "1031                       PlusOneCoin                 HMQ1725                   PoW     8.645406e+06     2.100000e+07  -0.294386  2.240714   0.261006      1\n",
      "1032                               Axe                     X11                   PoW     4.993031e+06     2.100000e+07  -0.288877  0.776732   0.003034      1\n",
      "1034                        Trivechain                    X16R               PoW/PoS     3.692312e+07     8.254656e+07  -0.161019 -1.088574  -0.207385      0\n",
      "1035                            Dystem                   Quark                   PoS     7.082392e+06     2.100000e+07   0.200870 -1.408294  -0.112973      0\n",
      "1036                             Giant                   Quark               PoW/PoS     5.919490e+06     5.151000e+06   0.074533 -1.751938  -0.271916      0\n",
      "1037                        Peony Coin                  Scrypt                   PoS     1.042012e+06     1.688000e+10  -0.046108 -0.849761  -0.142833      0\n",
      "1038                          SafeCoin                   Zhash               PoW/PoS     0.000000e+00     3.600000e+07  -0.053949 -2.148437  -0.411855      0\n",
      "1039                     Absolute Coin               Lyra2REv2               PoW/PoS     1.333262e+07     5.250000e+07  -0.171958 -0.909861  -0.190009      0\n",
      "1040                             Vitae                   Quark                   PoS     6.605388e+07     1.000000e+08   0.201684 -1.408186  -0.112985      0\n",
      "1044                           HexCoin                  Scrypt                   PoW     1.416663e+06     2.210526e+07  -0.321889  1.052089   0.017643      1\n",
      "1046                            TPCash                  Scrypt               PoW/PoS     5.403802e+06     1.000000e+09  -0.172369 -1.193394  -0.301776      0\n",
      "1048                          Webchain          CryptoNight-V7                   PoW     1.558020e+07     1.750000e+09  -0.358552  2.134090   0.193214      1\n",
      "1049                               Ryo         Cryptonight-GPU                   PoW     4.890897e+06     8.818889e+07  -0.338676  2.148108   0.235484      1\n",
      "1050                          MUSDcoin                  Scrypt               PoW/PoS     0.000000e+00     1.000000e+08  -0.172443 -1.193404  -0.301775      0\n",
      "1051                        Urals Coin                   XEVAN                   PoW     1.474615e+07     2.100000e+08  -0.408494  0.644931   0.098910      1\n",
      "1052                        Qwertycoin       CryptoNight Heavy                   PoW     9.955311e+10     1.844700e+11   1.634612  2.432924   0.211106      1\n",
      "1054                            ARENON                     X11                   PoS     1.926951e+07     5.500000e+07  -0.012894 -1.125091  -0.157445      0\n",
      "1056                              EUNO                     X11               PoW/PoS     3.077113e+07     5.000000e+07  -0.139056 -1.468712  -0.316390      0\n",
      "1057                           MMOCoin                  Scrypt                   PoS     1.077639e+08     2.600000e+08  -0.044634 -0.849566  -0.142854      0\n",
      "1059                             Ketan                     PoS                   PoS     9.327132e+06     2.100000e+08   0.160433 -1.549093  -0.113447      0\n",
      "1060                               NIX               Lyra2REv2                   PoW     0.000000e+00     1.750000e+08  -0.321607  1.335605   0.129412      1\n",
      "1062                   Safe Trade Coin                  Scrypt                   PoS     0.000000e+00     8.400000e+08  -0.046122 -0.849762  -0.142833      0\n",
      "1063                       Project Pai                 SHA-256                   PoW     2.100000e+09     2.100000e+09  -0.219432  1.407664   0.105466      1\n",
      "1064                        Mont Blanc                  Scrypt                   PoS     0.000000e+00     7.000000e+07  -0.046122 -0.849762  -0.142833      0\n",
      "1065                              XDNA                  Keccak               PoW/PoS     4.672514e+06     3.660000e+08  -0.181059 -0.801673  -0.203643      0\n",
      "1066                             PAXEX                     X11                   PoS     4.504639e+06     1.000000e+08  -0.013098 -1.125118  -0.157442      0\n",
      "1068                             Azart                     X11                   PoW     5.015881e+06     2.500000e+07  -0.288877  0.776732   0.003034      1\n",
      "1070                           Apollon                   Quark               PoW/PoS     0.000000e+00     2.500000e+08   0.074451 -1.751949  -0.271915      0\n",
      "1071                      ThunderStake                  Scrypt               PoW/PoS     1.059954e+09     1.800000e+10  -0.157808 -1.191469  -0.301988      0\n",
      "1074                             Kcash                 SHA-512  Zero-Knowledge Proof     1.000000e+09     1.000000e+09   0.577869 -1.940275  -0.462727      0\n",
      "1075                           Xchange                    X16R                   PoW     9.753754e+06     1.000000e+08  -0.310859  1.156867   0.112040      1\n",
      "1076                 Acute Angle Cloud               ECC 256K1                  DPOS     1.000000e+09     1.000000e+09   0.293377 -2.937609  -9.961231      0\n",
      "1080                             Traid               NeoScrypt               PoW/PoS     0.000000e+00     2.520000e+08  -0.187817 -0.710022  -0.193189      0\n",
      "1086                       CrypticCoin                Equihash                   PoW     4.235112e+09     7.600000e+09  -0.285828  1.927557   0.158423      1\n",
      "1087                       Bettex coin                   XEVAN                   PoS     6.787405e+06     5.000000e+07  -0.132818 -1.256932  -0.061565      0\n",
      "1088                          ZestCoin                   Quark                   PoW     0.000000e+00     2.930000e+07  -0.075014  0.493542   0.047504      1\n",
      "1089                            X-CASH     CryptoNight Heavy X                   PoW     0.000000e+00     1.000000e+11  -0.292962  2.171605   0.242266      1\n",
      "1091                          Actinium                  Lyra2Z                   PoW     1.363485e+07     8.400000e+07  -0.347058  2.165066   0.212453      1\n",
      "1093                           ETHER-1                  Ethash                   PoW     0.000000e+00     1.366624e+07  -0.343439  2.023861   0.160393      1\n",
      "1097                        Bitcoin SV                 SHA-256                   PoW     1.799251e+07     2.100000e+07  -0.248179  1.403862   0.105885      1\n",
      "1101                          BitMoney                   XEVAN                   Pos     2.085159e+08     7.000000e+10  -0.497629 -1.151275   0.049353      0\n",
      "1102                      Bitcoiin2Gen                  Ethash                   PoW     0.000000e+00     1.000000e+08  -0.343439  2.023861   0.160393      1\n",
      "1105                        FREDEnergy             CryptoNight                   PoW     1.867055e+09     8.080000e+09  -0.181455  2.243332   0.220628      1\n",
      "1106                             Zenad                   Quark              POS / MN     0.000000e+00     4.600000e+07   0.147636 -1.707990  -0.000532      0\n",
      "1110                          C25 Coin               SkunkHash                   PoW     0.000000e+00     6.100000e+06  -0.264261  1.471992   0.160392      1\n",
      "1111                          HerbCoin                   Quark               PoW/PoS     3.531219e+07     5.400000e+07   0.074939 -1.751884  -0.271922      0\n",
      "1112                         Aquachain                  Argon2                   PoW     0.000000e+00     4.200000e+07  -0.385182  2.120675   0.222556      1\n",
      "1114                Universal Molecule                   Blake                   PoW     1.578281e+06     1.051200e+08  -0.313937  1.726921   0.188332      1\n",
      "1115                           Lithium                   Blake                   PoW     1.584672e+07     2.522880e+07  -0.313740  1.726948   0.188329      1\n",
      "1118                     Smart Bitcoin                 SHA-256                   PoW     0.000000e+00     2.099976e+07  -0.248428  1.403830   0.105888      1\n",
      "1119                        PirateCash                Equihash                   PoS     1.347592e+07     1.050000e+08  -0.068333  0.018000  -0.001205      0\n",
      "1120                            Exosis                  Exosis                   PoW     4.060919e+05     2.100000e+07  -0.371065  2.086230   0.223614      1\n",
      "1121                       Block-Logic                  Scrypt                   PoW     3.528472e+07     1.200000e+08  -0.321421  1.052151   0.017636      1\n",
      "1123                             Oduwa                  Scrypt               PoW/PoS     1.477755e+07     2.100000e+07  -0.172239 -1.193377  -0.301778      0\n",
      "1124                              Beam                Equihash                   PoW     3.568752e+07     2.628000e+08  -0.343812  1.919890   0.159267      1\n",
      "1125                           Galilel                   Quark               PoW/PoS     1.826501e+07     1.903600e+07   0.074703 -1.751915  -0.271918      0\n",
      "1127                         Bithereum                Equihash                   PoW     2.515079e+07     3.088600e+07  -0.343958  1.919871   0.159269      1\n",
      "1130                     Crypto Sports                   Quark                   PoS     1.934702e+06     1.337000e+07   0.200799 -1.408304  -0.112972      0\n",
      "1131                            Credit                  Scrypt               PoW/PoS     3.082571e+10     7.480000e+10   0.253184 -1.137122  -0.307967      0\n",
      "1136                             SLICE                   QuBit                   PoW     1.292579e+07     1.000000e+08  -0.275124  1.126759   0.064818      1\n",
      "1137                     Dash Platinum                     X11                   PoS     7.156594e+05     1.970000e+07  -0.013150 -1.125125  -0.157441      0\n",
      "1138                         Nasdacoin                  Scrypt               PoW/PoS     2.054653e+07     8.400000e+07  -0.172160 -1.193367  -0.301779      0\n",
      "1139                           Vidulum            Equihash1927                   PoW     0.000000e+00     1.000000e+08  -0.303359  2.264458   0.192627      1\n",
      "1140                       Beetle Coin                   XEVAN               PoW/PoS     1.989381e+08     5.000000e+08  -0.256486 -1.600223  -0.220546      0\n",
      "1141                        Titan Coin                SHA-256D               PoW/PoS     8.963612e+08     5.000000e+09  -0.053574 -2.157727  -0.468409      0\n",
      "1142                             Award                     X11               PoW/PoS     1.542023e+07     4.200000e+08  -0.139268 -1.468740  -0.316387      0\n",
      "1143                        BlockStamp                 SHA-256                   PoW     0.000000e+00     1.050000e+08  -0.248428  1.403830   0.105888      1\n",
      "1144                             BLAST                 SHA-256                   PoW     5.229384e+07     6.400000e+07  -0.247706  1.403925   0.105878      1\n",
      "1147                   Bitcoin Rhodium                     X13                   PoW     1.170292e+06     2.100000e+06  -0.137649  0.295247  -0.044475      1\n",
      "1148                       GlobalToken                 SHA-256                   PoW     8.461310e+07     1.680000e+08  -0.247260  1.403984   0.105871      1\n",
      "1149                       Insane Coin                     X11               PoW/PoS     2.377596e+07     3.000000e+07  -0.139153 -1.468725  -0.316388      0\n",
      "1151                              ALAX                    DPoS                  DPoS     1.000000e+09     1.000000e+09   6.909274 -0.081741   0.035779      0\n",
      "1152                  The Freedom Coin                     X11                   PoS     0.000000e+00     2.500000e+07  -0.013160 -1.125126  -0.157441      0\n",
      "1155                          LiteDoge                  Scrypt               PoW/PoS     1.531889e+10     3.500000e+10   0.039073 -1.165435  -0.304852      0\n",
      "1156                         Boolberry                     X11                   PoW     0.000000e+00     1.845000e+07  -0.288946  0.776723   0.003035      1\n",
      "1157                         SolarCoin                  Scrypt                   PoW     5.556508e+07     9.810000e+10  -0.321141  1.052187   0.017632      1\n",
      "1159                          UFO Coin               NeoScrypt                   PoW     3.824685e+09     4.000000e+09  -0.284472  1.542452   0.125462      1\n",
      "1161                        OrangeCoin                  Scrypt               PoW/PoS     3.537150e+06     2.000000e+08  -0.172394 -1.193398  -0.301776      0\n",
      "1163                         BlakeCoin                   Blake                   PoW     2.335679e+07     7.000000e+09  -0.313636  1.726961   0.188328      1\n",
      "1164                       BitstarCoin                  Scrypt               PoW/PoS     2.057653e+07     5.425612e+07  -0.172159 -1.193366  -0.301779      0\n",
      "1165                          NeosCoin                 SHA-256                   PoS     4.392258e+06     2.100000e+07   0.027419 -0.498011  -0.054589      0\n",
      "1167                          PinkCoin                     X11               PoW/PoS     4.363536e+08     5.000000e+08  -0.133456 -1.467971  -0.316471      0\n",
      "1168                       FantomCoin              CryptoNight                   PoW     0.000000e+00     1.840000e+07  -0.207234  2.239923   0.221003      1\n",
      "1170                     Crypto Escudo                  Scrypt                   PoW     7.802107e+08     1.000000e+09  -0.311135  1.053511   0.017487      1\n",
      "1172                         AudioCoin                  Scrypt               PoW/PoS     9.807325e+08     1.050000e+10  -0.158902 -1.191613  -0.301972      0\n",
      "1175                          IncaKoin                 SHA-256               PoW/PoS     1.793973e+10     1.900000e+08   0.148741 -0.808906  -0.217134      0\n",
      "1176                        Piggy Coin                     X11               PoW/PoS     4.942407e+08     1.000000e+09  -0.132657 -1.467866  -0.316483      0\n",
      "1177                        Crown Coin                 SHA-256                   PoW     2.298693e+07     4.200000e+07  -0.248110  1.403872   0.105884      1\n",
      "1178                          Genstake                  Scrypt               PoW/PoS     6.000000e+07     1.500000e+07  -0.171615 -1.193294  -0.301787      0\n",
      "1180                       Quazar Coin             CryptoNight                   PoW     0.000000e+00     1.844674e+07  -0.207234  2.239923   0.221003      1\n",
      "1181                        SmileyCoin                  Scrypt                   PoW     2.958399e+10     5.000000e+10   0.086574  1.106102   0.011701      1\n",
      "1183                          ParkByte                 SHA-256               PoW/PoS     0.000000e+00     2.500000e+07  -0.098963 -0.841661  -0.213531      0\n",
      "1185                        XiaoMiCoin                  Scrypt               PoW/PoS     4.043165e+08     4.000000e+08  -0.166861 -1.192666  -0.301857      0\n",
      "1186                       Groestlcoin                 Groestl                   PoW     7.329820e+07     1.050000e+08  -0.343779  1.445325   0.107767      1\n",
      "1187                         CapriCoin                     X11               PoW/PoS     2.013643e+08     2.080000e+08  -0.136701 -1.468400  -0.316424      0\n",
      "1188                          ClubCoin                  Scrypt               PoW/PoS     1.036219e+08     1.600000e+08  -0.171012 -1.193215  -0.301796      0\n",
      "1189                            Radium                     PoS                   PoS     3.821246e+06     9.000000e+06   0.160357 -1.549103  -0.113446      0\n",
      "1190                              Bata                  Scrypt                   PoW     5.052556e+06     5.000000e+06  -0.321838  1.052096   0.017642      1\n",
      "1191                           Pakcoin                  Scrypt                   PoW     6.968446e+07     1.820000e+08  -0.320946  1.052214   0.017629      1\n",
      "1192                        Creditbit                      X11        Proof of Trust     1.690102e+07     1.650433e+07  -0.080160 -0.913187  -0.205995      0\n",
      "1193                            OKCash                 SHA-256               PoW/PoS     7.467606e+07     1.050000e+08  -0.097932 -0.841525  -0.213546      0\n",
      "1194                              Lisk                    DPoS                  DPoS     1.200121e+08     1.599184e+08   6.897124 -0.083348   0.035956      0\n",
      "1195                            HiCoin                  Scrypt                   PoS     1.000024e+10     1.000884e+10   0.091957 -0.831504  -0.144841      0\n",
      "1196                         WhiteCoin                  Scrypt               PoW/PoS     2.520056e+08     3.000000e+08  -0.168964 -1.192944  -0.301826      0\n",
      "1197                           Dotcoin                  Scrypt                   PoW     0.000000e+00     8.900000e+08  -0.321908  1.052087   0.017643      1\n",
      "1198                    FriendshipCoin               NeoScrypt               PoW/PoS     1.120385e+06     6.016814e+07  -0.187801 -0.710020  -0.193189      0\n",
      "1199                      The Hempcoin                  Scrypt               PoW/PoS     0.000000e+00     3.000000e+08  -0.172443 -1.193404  -0.301775      0\n",
      "1200                              Fiii                SHA3-256                  DPoC    -5.917978e+09     5.000000e+09  -0.565013 -3.248214  15.094172      3\n",
      "1201                          JoinCoin                Multiple                   PoW     3.332922e+06     2.800000e+06  -0.292187  1.739659   0.175296      1\n",
      "1202                    Triangles Coin                     X13               PoW/PoS     1.407778e+05     1.200000e+05   0.011801 -1.950245  -0.363894      0\n",
      "1204                            Vollar         Equihash+Scrypt                   PoW     1.000000e+08     2.100000e+09  -0.353796  2.091103   0.127299      1\n",
      "1213                     Reality Clash                  Ethash                   PoW     2.448794e+07     2.448794e+07  -0.343100  2.023905   0.160388      1\n",
      "1223                            iOlite                  Ethash                   PoW     0.000000e+00     1.000000e+09  -0.343439  2.023861   0.160393      1\n",
      "1226                         TigerCash                 SHA-256                   PoS     1.000000e+09     1.000000e+09   0.041166 -0.496194  -0.054789      0\n",
      "1230                             Waves              Leased POS                  LPoS     1.000000e+08     1.000000e+08   0.261974 -2.835731   0.319930      0\n",
      "1231                           Particl                     PoS                   PoS     9.283138e+06     8.634140e+06   0.160432 -1.549093  -0.113447      0\n",
      "1234                        BitTorrent                   TRC10                  DPoS     9.899887e+11     9.900000e+11  32.246952  3.457117  -0.386091      2\n",
      "1237                               Nxt                     PoS              PoS/LPoS     1.000000e+09     1.000000e+09   0.298666 -1.799208  -0.108751      0\n",
      "1238                            ZEPHYR                 SHA-256                  DPoS     2.000000e+09     2.000000e+09   4.220541  0.316705   0.003077      0\n",
      "1242                           Gapcoin                  Scrypt               PoW/PoS     1.493105e+07     2.500000e+08  -0.172237 -1.193377  -0.301778      0\n",
      "1245                            Beldex             CryptoNight                   PoW     9.802226e+08     1.400223e+09  -0.193700  2.241713   0.220806      1\n",
      "1246                           Horizen                Equihash                   PoW     7.296538e+06     2.100000e+07  -0.344204  1.919838   0.159272      1\n",
      "1247                       BitcoinPlus                  Scrypt                   PoS     1.283270e+05     1.000000e+06  -0.046120 -0.849762  -0.142833      0\n"
     ]
    }
   ],
   "source": [
    "# with pd.option_context('display.max_rows', None, 'display.max_columns', None):  # more options can be specified also\n",
    "#     print(df)\n",
    "    \n",
    "# with pd.option_context('display.max_rows', None, 'display.max_columns', None):  # more options can be specified also\n",
    "#     print(clustered_df)\n",
    "print(clustered_df.to_string())"
   ]
  },
  {
   "cell_type": "code",
   "execution_count": 98,
   "metadata": {},
   "outputs": [
    {
     "name": "stdout",
     "output_type": "stream",
     "text": [
      "Total Tradable Currencies: 9.223962144580946e+16\n"
     ]
    }
   ],
   "source": [
    "# Print the total number of tradable cryptocurrencies\n",
    "print (f'Total Tradable Currencies: {clustered_df[\"TotalCoinSupply\"].sum()}')"
   ]
  },
  {
   "cell_type": "markdown",
   "metadata": {},
   "source": [
    "#### Scatter Plot with Tradable Cryptocurrencies"
   ]
  },
  {
   "cell_type": "code",
   "execution_count": 99,
   "metadata": {},
   "outputs": [
    {
     "data": {
      "text/html": [
       "<div>\n",
       "<style scoped>\n",
       "    .dataframe tbody tr th:only-of-type {\n",
       "        vertical-align: middle;\n",
       "    }\n",
       "\n",
       "    .dataframe tbody tr th {\n",
       "        vertical-align: top;\n",
       "    }\n",
       "\n",
       "    .dataframe thead th {\n",
       "        text-align: right;\n",
       "    }\n",
       "</style>\n",
       "<table border=\"1\" class=\"dataframe\">\n",
       "  <thead>\n",
       "    <tr style=\"text-align: right;\">\n",
       "      <th></th>\n",
       "      <th>TotalCoinsMined</th>\n",
       "      <th>TotalCoinSupply</th>\n",
       "    </tr>\n",
       "  </thead>\n",
       "  <tbody>\n",
       "    <tr>\n",
       "      <th>0</th>\n",
       "      <td>-0.097821</td>\n",
       "      <td>-0.039655</td>\n",
       "    </tr>\n",
       "  </tbody>\n",
       "</table>\n",
       "</div>"
      ],
      "text/plain": [
       "   TotalCoinsMined  TotalCoinSupply\n",
       "0        -0.097821        -0.039655"
      ]
     },
     "execution_count": 99,
     "metadata": {},
     "output_type": "execute_result"
    }
   ],
   "source": [
    "# Scale data to create the scatter plot\n",
    "# select columns to be charted\n",
    "cluster_for_chart = clustered_df.filter(['TotalCoinsMined',\"TotalCoinSupply\" ], axis=1)\n",
    "# scale them to data \n",
    "culster_scaled_np = StandardScaler().fit_transform(cluster_for_chart)\n",
    "# transform to np array to dataframe\n",
    "cluster_scaled_df = pd.DataFrame(culster_scaled_np, columns = ['TotalCoinsMined',\"TotalCoinSupply\"])\n",
    "cluster_scaled_df.head(1)"
   ]
  },
  {
   "cell_type": "code",
   "execution_count": 100,
   "metadata": {},
   "outputs": [
    {
     "data": {
      "text/plain": [
       "numpy.ndarray"
      ]
     },
     "execution_count": 100,
     "metadata": {},
     "output_type": "execute_result"
    }
   ],
   "source": [
    "type(culster_scaled)"
   ]
  },
  {
   "cell_type": "code",
   "execution_count": 101,
   "metadata": {},
   "outputs": [
    {
     "data": {},
     "metadata": {},
     "output_type": "display_data"
    },
    {
     "data": {
      "application/vnd.holoviews_exec.v0+json": "",
      "text/html": [
       "<div id='1412'>\n",
       "\n",
       "\n",
       "\n",
       "\n",
       "\n",
       "  <div class=\"bk-root\" id=\"3fe73c3e-ea8a-459c-9467-50ce5cb1c532\" data-root-id=\"1412\"></div>\n",
       "</div>\n",
       "<script type=\"application/javascript\">(function(root) {\n",
       "  function embed_document(root) {\n",
       "    var docs_json = {\"e25944b3-ea03-4fe8-932f-4c42ae7e213b\":{\"roots\":{\"references\":[{\"attributes\":{\"children\":[{\"id\":\"1413\"},{\"id\":\"1417\"},{\"id\":\"1475\"}],\"margin\":[0,0,0,0],\"name\":\"Row02285\",\"tags\":[\"embedded\"]},\"id\":\"1412\",\"type\":\"Row\"},{\"attributes\":{\"below\":[{\"id\":\"1426\"}],\"center\":[{\"id\":\"1429\"},{\"id\":\"1433\"}],\"left\":[{\"id\":\"1430\"}],\"margin\":[5,5,5,5],\"min_border_bottom\":10,\"min_border_left\":10,\"min_border_right\":10,\"min_border_top\":10,\"plot_height\":300,\"plot_width\":700,\"renderers\":[{\"id\":\"1453\"}],\"sizing_mode\":\"fixed\",\"title\":{\"id\":\"1418\"},\"toolbar\":{\"id\":\"1440\"},\"x_range\":{\"id\":\"1414\"},\"x_scale\":{\"id\":\"1422\"},\"y_range\":{\"id\":\"1415\"},\"y_scale\":{\"id\":\"1424\"}},\"id\":\"1417\",\"subtype\":\"Figure\",\"type\":\"Plot\"},{\"attributes\":{},\"id\":\"1448\",\"type\":\"Selection\"},{\"attributes\":{\"margin\":[5,5,5,5],\"name\":\"HSpacer02289\",\"sizing_mode\":\"stretch_width\"},\"id\":\"1413\",\"type\":\"Spacer\"},{\"attributes\":{},\"id\":\"1434\",\"type\":\"SaveTool\"},{\"attributes\":{\"fill_alpha\":{\"value\":0.1},\"fill_color\":{\"value\":\"#30a2da\"},\"line_alpha\":{\"value\":0.1},\"line_color\":{\"value\":\"#30a2da\"},\"size\":{\"units\":\"screen\",\"value\":5.477225575051661},\"x\":{\"field\":\"TotalCoinsMined\"},\"y\":{\"field\":\"TotalCoinSupply\"}},\"id\":\"1451\",\"type\":\"Scatter\"},{\"attributes\":{},\"id\":\"1435\",\"type\":\"PanTool\"},{\"attributes\":{},\"id\":\"1438\",\"type\":\"ResetTool\"},{\"attributes\":{},\"id\":\"1436\",\"type\":\"WheelZoomTool\"},{\"attributes\":{\"axis_label\":\"TotalCoinsMined\",\"bounds\":\"auto\",\"formatter\":{\"id\":\"1456\"},\"major_label_orientation\":\"horizontal\",\"ticker\":{\"id\":\"1427\"}},\"id\":\"1426\",\"type\":\"LinearAxis\"},{\"attributes\":{\"overlay\":{\"id\":\"1439\"}},\"id\":\"1437\",\"type\":\"BoxZoomTool\"},{\"attributes\":{},\"id\":\"1456\",\"type\":\"BasicTickFormatter\"},{\"attributes\":{\"end\":27.744909976428747,\"reset_end\":27.744909976428747,\"reset_start\":-2.5655246746402414,\"start\":-2.5655246746402414,\"tags\":[[[\"TotalCoinSupply\",\"TotalCoinSupply\",null]]]},\"id\":\"1415\",\"type\":\"Range1d\"},{\"attributes\":{},\"id\":\"1424\",\"type\":\"LinearScale\"},{\"attributes\":{},\"id\":\"1427\",\"type\":\"BasicTicker\"},{\"attributes\":{\"margin\":[5,5,5,5],\"name\":\"HSpacer02290\",\"sizing_mode\":\"stretch_width\"},\"id\":\"1475\",\"type\":\"Spacer\"},{\"attributes\":{\"axis_label\":\"TotalCoinSupply\",\"bounds\":\"auto\",\"formatter\":{\"id\":\"1458\"},\"major_label_orientation\":\"horizontal\",\"ticker\":{\"id\":\"1431\"}},\"id\":\"1430\",\"type\":\"LinearAxis\"},{\"attributes\":{\"axis\":{\"id\":\"1426\"},\"grid_line_color\":null,\"ticker\":null},\"id\":\"1429\",\"type\":\"Grid\"},{\"attributes\":{},\"id\":\"1422\",\"type\":\"LinearScale\"},{\"attributes\":{},\"id\":\"1458\",\"type\":\"BasicTickFormatter\"},{\"attributes\":{},\"id\":\"1465\",\"type\":\"UnionRenderers\"},{\"attributes\":{},\"id\":\"1431\",\"type\":\"BasicTicker\"},{\"attributes\":{\"axis\":{\"id\":\"1430\"},\"dimension\":1,\"grid_line_color\":null,\"ticker\":null},\"id\":\"1433\",\"type\":\"Grid\"},{\"attributes\":{\"data_source\":{\"id\":\"1447\"},\"glyph\":{\"id\":\"1450\"},\"hover_glyph\":null,\"muted_glyph\":{\"id\":\"1452\"},\"nonselection_glyph\":{\"id\":\"1451\"},\"selection_glyph\":null,\"view\":{\"id\":\"1454\"}},\"id\":\"1453\",\"type\":\"GlyphRenderer\"},{\"attributes\":{\"callback\":null,\"renderers\":[{\"id\":\"1453\"}],\"tags\":[\"hv_created\"],\"tooltips\":[[\"TotalCoinsMined\",\"@{TotalCoinsMined}\"],[\"TotalCoinSupply\",\"@{TotalCoinSupply}\"]]},\"id\":\"1416\",\"type\":\"HoverTool\"},{\"attributes\":{\"data\":{\"TotalCoinSupply\":{\"__ndarray__\":\"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\",\"dtype\":\"float64\",\"order\":\"little\",\"shape\":[637]},\"TotalCoinsMined\":{\"__ndarray__\":\"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\",\"dtype\":\"float64\",\"order\":\"little\",\"shape\":[637]}},\"selected\":{\"id\":\"1448\"},\"selection_policy\":{\"id\":\"1465\"}},\"id\":\"1447\",\"type\":\"ColumnDataSource\"},{\"attributes\":{\"active_drag\":\"auto\",\"active_inspect\":\"auto\",\"active_multi\":null,\"active_scroll\":\"auto\",\"active_tap\":\"auto\",\"tools\":[{\"id\":\"1416\"},{\"id\":\"1434\"},{\"id\":\"1435\"},{\"id\":\"1436\"},{\"id\":\"1437\"},{\"id\":\"1438\"}]},\"id\":\"1440\",\"type\":\"Toolbar\"},{\"attributes\":{\"bottom_units\":\"screen\",\"fill_alpha\":0.5,\"fill_color\":\"lightgrey\",\"left_units\":\"screen\",\"level\":\"overlay\",\"line_alpha\":1.0,\"line_color\":\"black\",\"line_dash\":[4,4],\"line_width\":2,\"right_units\":\"screen\",\"top_units\":\"screen\"},\"id\":\"1439\",\"type\":\"BoxAnnotation\"},{\"attributes\":{\"text\":\"\",\"text_color\":{\"value\":\"black\"},\"text_font_size\":{\"value\":\"12pt\"}},\"id\":\"1418\",\"type\":\"Title\"},{\"attributes\":{\"fill_alpha\":{\"value\":0.2},\"fill_color\":{\"value\":\"#30a2da\"},\"line_alpha\":{\"value\":0.2},\"line_color\":{\"value\":\"#30a2da\"},\"size\":{\"units\":\"screen\",\"value\":5.477225575051661},\"x\":{\"field\":\"TotalCoinsMined\"},\"y\":{\"field\":\"TotalCoinSupply\"}},\"id\":\"1452\",\"type\":\"Scatter\"},{\"attributes\":{\"fill_color\":{\"value\":\"#30a2da\"},\"line_color\":{\"value\":\"#30a2da\"},\"size\":{\"units\":\"screen\",\"value\":5.477225575051661},\"x\":{\"field\":\"TotalCoinsMined\"},\"y\":{\"field\":\"TotalCoinSupply\"}},\"id\":\"1450\",\"type\":\"Scatter\"},{\"attributes\":{\"source\":{\"id\":\"1447\"}},\"id\":\"1454\",\"type\":\"CDSView\"},{\"attributes\":{\"end\":24.89062384578652,\"reset_end\":24.89062384578652,\"reset_start\":-1.2738313225405586,\"start\":-1.2738313225405586,\"tags\":[[[\"TotalCoinsMined\",\"TotalCoinsMined\",null]]]},\"id\":\"1414\",\"type\":\"Range1d\"}],\"root_ids\":[\"1412\"]},\"title\":\"Bokeh Application\",\"version\":\"2.2.3\"}};\n",
       "    var render_items = [{\"docid\":\"e25944b3-ea03-4fe8-932f-4c42ae7e213b\",\"root_ids\":[\"1412\"],\"roots\":{\"1412\":\"3fe73c3e-ea8a-459c-9467-50ce5cb1c532\"}}];\n",
       "    root.Bokeh.embed.embed_items_notebook(docs_json, render_items);\n",
       "  }\n",
       "  if (root.Bokeh !== undefined && root.Bokeh.Panel !== undefined) {\n",
       "    embed_document(root);\n",
       "  } else {\n",
       "    var attempts = 0;\n",
       "    var timer = setInterval(function(root) {\n",
       "      if (root.Bokeh !== undefined && root.Bokeh.Panel !== undefined) {\n",
       "        clearInterval(timer);\n",
       "        embed_document(root);\n",
       "      } else if (document.readyState == \"complete\") {\n",
       "        attempts++;\n",
       "        if (attempts > 100) {\n",
       "          clearInterval(timer);\n",
       "          console.log(\"Bokeh: ERROR: Unable to run BokehJS code because BokehJS library is missing\");\n",
       "        }\n",
       "      }\n",
       "    }, 10, root)\n",
       "  }\n",
       "})(window);</script>"
      ],
      "text/plain": [
       ":Scatter   [TotalCoinsMined]   (TotalCoinSupply)"
      ]
     },
     "execution_count": 101,
     "metadata": {
      "application/vnd.holoviews_exec.v0+json": {
       "id": "1412"
      }
     },
     "output_type": "execute_result"
    }
   ],
   "source": [
    "# Plot the scatter with x=\"TotalCoinsMined\" and y=\"TotalCoinSupply\"\n",
    "cluster_scaled_df.hvplot.scatter(\n",
    "        x=\"TotalCoinsMined\",\n",
    "        y=\"TotalCoinSupply\",\n",
    "        hover_cols=[\"CoinName\"]\n",
    "        )"
   ]
  },
  {
   "cell_type": "code",
   "execution_count": 153,
   "metadata": {},
   "outputs": [
    {
     "data": {
      "text/html": [
       "\n",
       "<div id=\"altair-viz-9ee827b91e72402fa0526123fe434c40\"></div>\n",
       "<script type=\"text/javascript\">\n",
       "  (function(spec, embedOpt){\n",
       "    let outputDiv = document.currentScript.previousElementSibling;\n",
       "    if (outputDiv.id !== \"altair-viz-9ee827b91e72402fa0526123fe434c40\") {\n",
       "      outputDiv = document.getElementById(\"altair-viz-9ee827b91e72402fa0526123fe434c40\");\n",
       "    }\n",
       "    const paths = {\n",
       "      \"vega\": \"https://cdn.jsdelivr.net/npm//vega@5?noext\",\n",
       "      \"vega-lib\": \"https://cdn.jsdelivr.net/npm//vega-lib?noext\",\n",
       "      \"vega-lite\": \"https://cdn.jsdelivr.net/npm//vega-lite@4.8.1?noext\",\n",
       "      \"vega-embed\": \"https://cdn.jsdelivr.net/npm//vega-embed@6?noext\",\n",
       "    };\n",
       "\n",
       "    function loadScript(lib) {\n",
       "      return new Promise(function(resolve, reject) {\n",
       "        var s = document.createElement('script');\n",
       "        s.src = paths[lib];\n",
       "        s.async = true;\n",
       "        s.onload = () => resolve(paths[lib]);\n",
       "        s.onerror = () => reject(`Error loading script: ${paths[lib]}`);\n",
       "        document.getElementsByTagName(\"head\")[0].appendChild(s);\n",
       "      });\n",
       "    }\n",
       "\n",
       "    function showError(err) {\n",
       "      outputDiv.innerHTML = `<div class=\"error\" style=\"color:red;\">${err}</div>`;\n",
       "      throw err;\n",
       "    }\n",
       "\n",
       "    function displayChart(vegaEmbed) {\n",
       "      vegaEmbed(outputDiv, spec, embedOpt)\n",
       "        .catch(err => showError(`Javascript Error: ${err.message}<br>This usually means there's a typo in your chart specification. See the javascript console for the full traceback.`));\n",
       "    }\n",
       "\n",
       "    if(typeof define === \"function\" && define.amd) {\n",
       "      requirejs.config({paths});\n",
       "      require([\"vega-embed\"], displayChart, err => showError(`Error loading script: ${err.message}`));\n",
       "    } else if (typeof vegaEmbed === \"function\") {\n",
       "      displayChart(vegaEmbed);\n",
       "    } else {\n",
       "      loadScript(\"vega\")\n",
       "        .then(() => loadScript(\"vega-lite\"))\n",
       "        .then(() => loadScript(\"vega-embed\"))\n",
       "        .catch(showError)\n",
       "        .then(() => displayChart(vegaEmbed));\n",
       "    }\n",
       "  })({\"config\": {\"view\": {\"continuousWidth\": 400, \"continuousHeight\": 300}}, \"data\": {\"name\": \"data-6528a8f064c9d5c8a1697407778c3293\"}, \"mark\": {\"type\": \"circle\", \"size\": 60}, \"encoding\": {\"x\": {\"type\": \"quantitative\", \"field\": \"TotalCoinsMined\"}, \"y\": {\"type\": \"quantitative\", \"field\": \"TotalCoinSupply\"}}, \"selection\": {\"selector024\": {\"type\": \"interval\", \"bind\": \"scales\", \"encodings\": [\"x\", \"y\"]}}, \"$schema\": \"https://vega.github.io/schema/vega-lite/v4.8.1.json\", \"datasets\": {\"data-6528a8f064c9d5c8a1697407778c3293\": [{\"TotalCoinsMined\": -0.09782131255832749, \"TotalCoinSupply\": -0.03965512038449224}, {\"TotalCoinsMined\": -0.07228806567377812, \"TotalCoinSupply\": -0.039654974693469826}, {\"TotalCoinsMined\": 0.6106789747023779, \"TotalCoinSupply\": -0.03956908619618762}, {\"TotalCoinsMined\": -0.09738751377087619, \"TotalCoinSupply\": -0.03965511463354188}, {\"TotalCoinsMined\": -0.0962958969168086, \"TotalCoinSupply\": -0.03965509738065628}, {\"TotalCoinsMined\": -0.09760277530924664, \"TotalCoinSupply\": -0.03965511435968655}, {\"TotalCoinsMined\": -0.09507824798199045, \"TotalCoinSupply\": -0.039655062874885086}, {\"TotalCoinsMined\": -0.0976426591936541, \"TotalCoinSupply\": -0.03965511463354188}, {\"TotalCoinsMined\": -0.03148110503656477, \"TotalCoinSupply\": -0.03965413434909186}, {\"TotalCoinsMined\": 0.17818511939803836, \"TotalCoinSupply\": -0.03964936942263867}, {\"TotalCoinsMined\": -0.09779012583408878, \"TotalCoinSupply\": -0.03965511435968655}, {\"TotalCoinsMined\": -0.09782131357463773, \"TotalCoinSupply\": -0.039655120028491815}, {\"TotalCoinsMined\": -0.09753105178386194, \"TotalCoinSupply\": -0.03965511696131215}, {\"TotalCoinsMined\": -0.09768173264534823, \"TotalCoinSupply\": -0.03965511463354188}, {\"TotalCoinsMined\": -0.09720323811513414, \"TotalCoinSupply\": -0.03965502453513932}, {\"TotalCoinsMined\": -0.09755151354088111, \"TotalCoinSupply\": -0.039655114907397204}, {\"TotalCoinsMined\": -0.09782131357463773, \"TotalCoinSupply\": -0.039655119946335214}, {\"TotalCoinsMined\": -0.09782131357463773, \"TotalCoinSupply\": -0.03965511846751645}, {\"TotalCoinsMined\": -0.09782131357463773, \"TotalCoinSupply\": -0.03965511874137178}, {\"TotalCoinsMined\": -0.09782131357463773, \"TotalCoinSupply\": -0.03965511589241784}, {\"TotalCoinsMined\": -0.09752595908243386, \"TotalCoinSupply\": -0.03965510285776282}, {\"TotalCoinsMined\": -0.09738248242482514, \"TotalCoinSupply\": -0.039655115792337686}, {\"TotalCoinsMined\": -0.09782131357463773, \"TotalCoinSupply\": -0.03965511162113328}, {\"TotalCoinsMined\": -0.056969123402478, \"TotalCoinSupply\": -0.039654572673849926}, {\"TotalCoinsMined\": -0.09782131144522344, \"TotalCoinSupply\": -0.039549959938971}, {\"TotalCoinsMined\": -0.0937027265203469, \"TotalCoinSupply\": -0.03965507388507748}, {\"TotalCoinsMined\": -0.09470121465665252, \"TotalCoinSupply\": -0.039655051920672015}, {\"TotalCoinsMined\": -0.09764327046761702, \"TotalCoinSupply\": -0.03965509299897105}, {\"TotalCoinsMined\": -0.09154057792025107, \"TotalCoinSupply\": -0.03965505274223799}, {\"TotalCoinsMined\": -0.09662234237527396, \"TotalCoinSupply\": -0.03965509738065628}, {\"TotalCoinsMined\": -0.09701206383055688, \"TotalCoinSupply\": -0.039655107193988064}, {\"TotalCoinsMined\": -0.09782131357463773, \"TotalCoinSupply\": -0.03965511463354188}, {\"TotalCoinsMined\": -0.09782028324115107, \"TotalCoinSupply\": -0.03965512024757607}, {\"TotalCoinsMined\": -0.09782131357463773, \"TotalCoinSupply\": -0.03965511283157382}, {\"TotalCoinsMined\": -0.09782131357463773, \"TotalCoinSupply\": -0.039655107394559706}, {\"TotalCoinsMined\": -0.09764660585987983, \"TotalCoinSupply\": -0.03965511463354188}, {\"TotalCoinsMined\": -0.09779616914449286, \"TotalCoinSupply\": -0.03965512011064841}, {\"TotalCoinsMined\": -0.0977074896167675, \"TotalCoinSupply\": -0.03965511678604474}, {\"TotalCoinsMined\": -0.09782131357463773, \"TotalCoinSupply\": -0.03965508916499647}, {\"TotalCoinsMined\": -0.09782131357463773, \"TotalCoinSupply\": -0.03965509299897105}, {\"TotalCoinsMined\": -0.097700397053465, \"TotalCoinSupply\": -0.03965511545510785}, {\"TotalCoinsMined\": 0.8700942101562376, \"TotalCoinSupply\": -0.039644166171427415}, {\"TotalCoinsMined\": -0.09774135194452392, \"TotalCoinSupply\": -0.03965511918501741}, {\"TotalCoinsMined\": 0.28763971295508417, \"TotalCoinSupply\": -0.039650586709566775}, {\"TotalCoinsMined\": -0.09782131357463773, \"TotalCoinSupply\": -0.03965511936576192}, {\"TotalCoinsMined\": -0.09782131357463773, \"TotalCoinSupply\": -0.03965511982475386}, {\"TotalCoinsMined\": 0.3564664199554437, \"TotalCoinSupply\": -0.03964936942263867}, {\"TotalCoinsMined\": 0.20559639319769907, \"TotalCoinSupply\": -0.03965142333759048}, {\"TotalCoinsMined\": -0.09731532411435126, \"TotalCoinSupply\": -0.03965511463354188}, {\"TotalCoinsMined\": -0.09782131357463773, \"TotalCoinSupply\": -0.03965509984535422}, {\"TotalCoinsMined\": -0.09252507555885355, \"TotalCoinSupply\": -0.03965503828474215}, {\"TotalCoinsMined\": -0.09734953248947696, \"TotalCoinSupply\": -0.03965511162113328}, {\"TotalCoinsMined\": -0.09782131357463773, \"TotalCoinSupply\": -0.039627734851812924}, {\"TotalCoinsMined\": -0.09782131357463773, \"TotalCoinSupply\": -0.03965509299897105}, {\"TotalCoinsMined\": -0.09782131357463773, \"TotalCoinSupply\": -0.039655120213618014}, {\"TotalCoinsMined\": -0.09782131357463773, \"TotalCoinSupply\": -0.0396551196718199}, {\"TotalCoinsMined\": -0.09779366186810597, \"TotalCoinSupply\": -0.039655117307516495}, {\"TotalCoinsMined\": -0.09277196187266283, \"TotalCoinSupply\": -0.0396550283691139}, {\"TotalCoinsMined\": -0.07642733491329733, \"TotalCoinSupply\": -0.039654731342993486}, {\"TotalCoinsMined\": -0.09623217232663006, \"TotalCoinSupply\": -0.03965510121463085}, {\"TotalCoinsMined\": -0.09681326220417034, \"TotalCoinSupply\": -0.039655100599633945}, {\"TotalCoinsMined\": -0.09782131357463773, \"TotalCoinSupply\": -0.03965511846751645}, {\"TotalCoinsMined\": -0.0956612421570932, \"TotalCoinSupply\": -0.03965508752186451}, {\"TotalCoinsMined\": -0.09782131357463773, \"TotalCoinSupply\": -0.03965510888258001}, {\"TotalCoinsMined\": 2.094404727679009, \"TotalCoinSupply\": -0.039630309091885856}, {\"TotalCoinsMined\": -0.09739419870471076, \"TotalCoinSupply\": -0.03965511435968655}, {\"TotalCoinsMined\": -0.0973109958331517, \"TotalCoinSupply\": -0.03965511463354188}, {\"TotalCoinsMined\": -0.09782131357463773, \"TotalCoinSupply\": -0.03965511948269541}, {\"TotalCoinsMined\": -0.09782131357463773, \"TotalCoinSupply\": -0.039655114469228675}, {\"TotalCoinsMined\": -0.09415660004540702, \"TotalCoinSupply\": -0.039655047697603786}, {\"TotalCoinsMined\": -0.09735365743517395, \"TotalCoinSupply\": -0.039655114907397204}, {\"TotalCoinsMined\": -0.09779459077475484, \"TotalCoinSupply\": -0.039655120014799046}, {\"TotalCoinsMined\": -0.09782131357463773, \"TotalCoinSupply\": -0.0396550979274906}, {\"TotalCoinsMined\": -0.09782131357463773, \"TotalCoinSupply\": -0.03965512011064841}, {\"TotalCoinsMined\": -0.09633445476107844, \"TotalCoinSupply\": -0.03965509299897105}, {\"TotalCoinsMined\": -0.09689811568595104, \"TotalCoinSupply\": -0.03965510888258001}, {\"TotalCoinsMined\": -0.09684294795992517, \"TotalCoinSupply\": -0.03965506561343836}, {\"TotalCoinsMined\": -0.09768086406480789, \"TotalCoinSupply\": -0.03965511764595047}, {\"TotalCoinsMined\": -0.05876988558984445, \"TotalCoinSupply\": -0.03965445787369688}, {\"TotalCoinsMined\": -0.09742979171885947, \"TotalCoinSupply\": -0.03965511595352455}, {\"TotalCoinsMined\": -0.09782131357463773, \"TotalCoinSupply\": -0.03965510669173739}, {\"TotalCoinsMined\": -0.04056750202164216, \"TotalCoinSupply\": -0.039651012554600115}, {\"TotalCoinsMined\": -0.09746472379246895, \"TotalCoinSupply\": -0.03965511463354188}, {\"TotalCoinsMined\": -0.08972205669427799, \"TotalCoinSupply\": -0.039655028095258574}, {\"TotalCoinsMined\": -0.09774338145706099, \"TotalCoinSupply\": -0.039655119352069154}, {\"TotalCoinsMined\": -0.09243299461489494, \"TotalCoinSupply\": -0.039655005365266435}, {\"TotalCoinsMined\": -0.09603165520299407, \"TotalCoinSupply\": -0.0396550935466817}, {\"TotalCoinsMined\": -0.09782131357463773, \"TotalCoinSupply\": -0.039655117098239816}, {\"TotalCoinsMined\": -0.09779459529510653, \"TotalCoinSupply\": -0.03965511463354188}, {\"TotalCoinsMined\": -0.0972353572775438, \"TotalCoinSupply\": -0.039655051920672015}, {\"TotalCoinsMined\": -0.09782131357463773, \"TotalCoinSupply\": -0.03965512011064841}, {\"TotalCoinsMined\": -0.09782131357463773, \"TotalCoinSupply\": -0.03965512011064841}, {\"TotalCoinsMined\": -0.09720199914573825, \"TotalCoinSupply\": -0.039655106363111}, {\"TotalCoinsMined\": -0.09782131357463773, \"TotalCoinSupply\": -0.03965510669173739}, {\"TotalCoinsMined\": -0.09782131357463773, \"TotalCoinSupply\": -0.03965511463354188}, {\"TotalCoinsMined\": -0.09782128509372152, \"TotalCoinSupply\": -0.039655120384229886}, {\"TotalCoinsMined\": -0.08418975806923153, \"TotalCoinSupply\": -0.039654877200973444}, {\"TotalCoinsMined\": -0.09587917972380813, \"TotalCoinSupply\": -0.03965509299897105}, {\"TotalCoinsMined\": -0.09676781488918365, \"TotalCoinSupply\": -0.03965510751002587}, {\"TotalCoinsMined\": -0.05856443605767507, \"TotalCoinSupply\": -0.03965449051725185}, {\"TotalCoinsMined\": -0.09778666580203405, \"TotalCoinSupply\": -0.03965511764595047}, {\"TotalCoinsMined\": -0.09726632539139117, \"TotalCoinSupply\": -0.03965510888258001}, {\"TotalCoinsMined\": -0.09782131357463773, \"TotalCoinSupply\": -0.03965511966563351}, {\"TotalCoinsMined\": -0.09776618715215682, \"TotalCoinSupply\": -0.03965509847607759}, {\"TotalCoinsMined\": -0.09781645193326176, \"TotalCoinSupply\": -0.039655120316039905}, {\"TotalCoinsMined\": -0.07122897992401421, \"TotalCoinSupply\": -0.03965468221598069}, {\"TotalCoinsMined\": -0.0966057274750268, \"TotalCoinSupply\": -0.03965509299897105}, {\"TotalCoinsMined\": -0.09726111083888213, \"TotalCoinSupply\": -0.03965511408583122}, {\"TotalCoinsMined\": -0.0965830174488174, \"TotalCoinSupply\": -0.03965509738065628}, {\"TotalCoinsMined\": -0.0949270780057699, \"TotalCoinSupply\": -0.039655047697603786}, {\"TotalCoinsMined\": -0.09782131357463773, \"TotalCoinSupply\": -0.03965511983679309}, {\"TotalCoinsMined\": -0.09765311813024204, \"TotalCoinSupply\": -0.03965511887829944}, {\"TotalCoinsMined\": -0.09687285939579682, \"TotalCoinSupply\": -0.03965510806101403}, {\"TotalCoinsMined\": -0.09782131357463773, \"TotalCoinSupply\": -0.03965510669173739}, {\"TotalCoinsMined\": -0.09424026211540762, \"TotalCoinSupply\": -0.03965484652917683}, {\"TotalCoinsMined\": 4.356207512412858, \"TotalCoinSupply\": -0.03960460299321734}, {\"TotalCoinsMined\": 0.0693035318093116, \"TotalCoinSupply\": -0.03965238183123466}, {\"TotalCoinsMined\": -0.053949718707681976, \"TotalCoinSupply\": -0.03965452918211866}, {\"TotalCoinsMined\": -0.09658303147915638, \"TotalCoinSupply\": -0.039654983456840286}, {\"TotalCoinsMined\": -0.09617114635215596, \"TotalCoinSupply\": -0.039655091596831775}, {\"TotalCoinsMined\": -0.09687465113730341, \"TotalCoinSupply\": -0.03965510176234151}, {\"TotalCoinsMined\": -0.09782131357463773, \"TotalCoinSupply\": -0.03965512011064841}, {\"TotalCoinsMined\": -0.09782131357463773, \"TotalCoinSupply\": -0.03965511572896318}, {\"TotalCoinsMined\": -0.08777840484246563, \"TotalCoinSupply\": -0.03965466030755453}, {\"TotalCoinsMined\": -0.09449367653765184, \"TotalCoinSupply\": -0.039655074818811316}, {\"TotalCoinsMined\": -0.09777237419232661, \"TotalCoinSupply\": -0.039655117098239816}, {\"TotalCoinsMined\": -0.097816911512842, \"TotalCoinSupply\": -0.03965511966481194}, {\"TotalCoinsMined\": -0.09359524616844746, \"TotalCoinSupply\": -0.039654983456840286}, {\"TotalCoinsMined\": -0.09413668481772604, \"TotalCoinSupply\": -0.03965507656765144}, {\"TotalCoinsMined\": -0.09782131357463773, \"TotalCoinSupply\": -0.03965512038395219}, {\"TotalCoinsMined\": -0.09764958516809692, \"TotalCoinSupply\": -0.03965511764595047}, {\"TotalCoinsMined\": -0.09782131357463773, \"TotalCoinSupply\": -0.039655117098239816}, {\"TotalCoinsMined\": -0.07864358459482293, \"TotalCoinSupply\": -0.03965484652917683}, {\"TotalCoinsMined\": -0.09782131357463773, \"TotalCoinSupply\": -0.03965511761582639}, {\"TotalCoinsMined\": -0.09782131357463773, \"TotalCoinSupply\": -0.039655062874885086}, {\"TotalCoinsMined\": -0.08041294058309174, \"TotalCoinSupply\": -0.03965484652917683}, {\"TotalCoinsMined\": -0.09775622580047615, \"TotalCoinSupply\": -0.039655114907397204}, {\"TotalCoinsMined\": -0.0975759458973813, \"TotalCoinSupply\": -0.03965511946124514}, {\"TotalCoinsMined\": -0.09754050379137254, \"TotalCoinSupply\": -0.039655114907397204}, {\"TotalCoinsMined\": 0.013739200856215978, \"TotalCoinSupply\": -0.03965238183123466}, {\"TotalCoinsMined\": -0.08067695093301838, \"TotalCoinSupply\": -0.039654616490702226}, {\"TotalCoinsMined\": -0.09782131357463773, \"TotalCoinSupply\": -0.03965509738065628}, {\"TotalCoinsMined\": -0.09782131357463773, \"TotalCoinSupply\": -0.03965511134727795}, {\"TotalCoinsMined\": -0.09780632351430561, \"TotalCoinSupply\": -0.03965512021485639}, {\"TotalCoinsMined\": -0.09751974447017177, \"TotalCoinSupply\": -0.03965511463354188}, {\"TotalCoinsMined\": -0.09781917900619128, \"TotalCoinSupply\": -0.039629925694428185}, {\"TotalCoinsMined\": -0.09782131357463773, \"TotalCoinSupply\": -0.03965511134727795}, {\"TotalCoinsMined\": -0.09628094318476843, \"TotalCoinSupply\": -0.03965509902378824}, {\"TotalCoinsMined\": -0.09704161946029814, \"TotalCoinSupply\": -0.03965511134727795}, {\"TotalCoinsMined\": -0.09748876831597059, \"TotalCoinSupply\": -0.039655102367808254}, {\"TotalCoinsMined\": -0.09746446245525507, \"TotalCoinSupply\": -0.03965510566204136}, {\"TotalCoinsMined\": -0.0976139851272439, \"TotalCoinSupply\": -0.039655118998795785}, {\"TotalCoinsMined\": -0.09743744218417019, \"TotalCoinSupply\": -0.03965511463354188}, {\"TotalCoinsMined\": -0.09703330203632031, \"TotalCoinSupply\": -0.03965506280915981}, {\"TotalCoinsMined\": -0.09599160224189697, \"TotalCoinSupply\": -0.039655051920672015}, {\"TotalCoinsMined\": -0.09540152460196613, \"TotalCoinSupply\": -0.03965509299897105}, {\"TotalCoinsMined\": -0.0975673499949425, \"TotalCoinSupply\": -0.03965511575459686}, {\"TotalCoinsMined\": -0.09782131357463773, \"TotalCoinSupply\": -0.0396551197741018}, {\"TotalCoinsMined\": -0.09726373118402935, \"TotalCoinSupply\": -0.03965510669173739}, {\"TotalCoinsMined\": -0.0967793574082967, \"TotalCoinSupply\": -0.03965484652917683}, {\"TotalCoinsMined\": -0.09782131357463773, \"TotalCoinSupply\": -0.0396551193295703}, {\"TotalCoinsMined\": -0.09749390266249204, \"TotalCoinSupply\": -0.039655113182656354}, {\"TotalCoinsMined\": -0.09743734884081057, \"TotalCoinSupply\": -0.039655116002818507}, {\"TotalCoinsMined\": -0.09731321894491864, \"TotalCoinSupply\": -0.03965511463354188}, {\"TotalCoinsMined\": -0.09757050131205774, \"TotalCoinSupply\": -0.03965511463354188}, {\"TotalCoinsMined\": -0.09782131357463773, \"TotalCoinSupply\": -0.039650601771609756}, {\"TotalCoinsMined\": -0.09273975673202736, \"TotalCoinSupply\": -0.039655062874885086}, {\"TotalCoinsMined\": -0.09754427316924894, \"TotalCoinSupply\": -0.039655097938746046}, {\"TotalCoinsMined\": -0.09773251477604268, \"TotalCoinSupply\": -0.03965511435968655}, {\"TotalCoinsMined\": 0.16826637918485632, \"TotalCoinSupply\": -0.039647849525574326}, {\"TotalCoinsMined\": -0.09613142732789381, \"TotalCoinSupply\": -0.03965509738065628}, {\"TotalCoinsMined\": -0.09782131357463773, \"TotalCoinSupply\": -0.03965511533276463}, {\"TotalCoinsMined\": -0.09769720225945895, \"TotalCoinSupply\": -0.03965511750902281}, {\"TotalCoinsMined\": -0.09782131357463773, \"TotalCoinSupply\": -0.03965511485523774}, {\"TotalCoinsMined\": 0.4282401298252071, \"TotalCoinSupply\": -0.03964919791252453}, {\"TotalCoinsMined\": -0.09782131357463773, \"TotalCoinSupply\": -0.039655117098239816}, {\"TotalCoinsMined\": -0.09760356297800837, \"TotalCoinSupply\": -0.03965510888258001}, {\"TotalCoinsMined\": -0.09782131357463773, \"TotalCoinSupply\": -0.039655119234311365}, {\"TotalCoinsMined\": -0.09782131357463773, \"TotalCoinSupply\": -0.039655116276673834}, {\"TotalCoinsMined\": -0.09782131357463773, \"TotalCoinSupply\": -0.0396545042100182}, {\"TotalCoinsMined\": -0.09684185457585809, \"TotalCoinSupply\": -0.03965505984806294}, {\"TotalCoinsMined\": -0.09782131357463773, \"TotalCoinSupply\": -0.0396537511078692}, {\"TotalCoinsMined\": -0.0967297389289493, \"TotalCoinSupply\": -0.03965509738065628}, {\"TotalCoinsMined\": -0.09782131357463773, \"TotalCoinSupply\": -0.03964936942263867}, {\"TotalCoinsMined\": -0.0976833360459173, \"TotalCoinSupply\": -0.03965511216884393}, {\"TotalCoinsMined\": -0.0978059125237997, \"TotalCoinSupply\": -0.03965507428060344}, {\"TotalCoinsMined\": -0.09782131357463773, \"TotalCoinSupply\": -0.039655062874885086}, {\"TotalCoinsMined\": -0.09782131357463773, \"TotalCoinSupply\": -0.03965511534556573}, {\"TotalCoinsMined\": -0.09740357681403458, \"TotalCoinSupply\": -0.039655113811975895}, {\"TotalCoinsMined\": -0.097569479607947, \"TotalCoinSupply\": -0.039655015224058204}, {\"TotalCoinsMined\": -0.09782131357463773, \"TotalCoinSupply\": -0.03965510888258001}, {\"TotalCoinsMined\": 0.7968045793463954, \"TotalCoinSupply\": -0.03962800870713983}, {\"TotalCoinsMined\": -0.09771539743652526, \"TotalCoinSupply\": -0.039655109430290665}, {\"TotalCoinsMined\": -0.045856741094605684, \"TotalCoinSupply\": -0.03965453228466756}, {\"TotalCoinsMined\": -0.09733735578010341, \"TotalCoinSupply\": -0.039655114907397204}, {\"TotalCoinsMined\": -0.09766231389554361, \"TotalCoinSupply\": -0.039655114907397204}, {\"TotalCoinsMined\": -0.0974909135920123, \"TotalCoinSupply\": -0.03965511353812057}, {\"TotalCoinsMined\": -0.09782131357463773, \"TotalCoinSupply\": -0.039655120357118205}, {\"TotalCoinsMined\": -0.09782131357463773, \"TotalCoinSupply\": -0.03965511463354188}, {\"TotalCoinsMined\": -0.09456536794647648, \"TotalCoinSupply\": -0.03965509984535422}, {\"TotalCoinsMined\": -0.09782131357463773, \"TotalCoinSupply\": -0.039655116276673834}, {\"TotalCoinsMined\": -0.0977923843925222, \"TotalCoinSupply\": -0.039655059390076054}, {\"TotalCoinsMined\": -0.09782131357463773, \"TotalCoinSupply\": -0.03965511972143783}, {\"TotalCoinsMined\": -0.09741810849374162, \"TotalCoinSupply\": -0.03965497661045711}, {\"TotalCoinsMined\": -0.09580198992519372, \"TotalCoinSupply\": -0.03965509573752432}, {\"TotalCoinsMined\": -0.09782131357463773, \"TotalCoinSupply\": -0.03965511052571197}, {\"TotalCoinsMined\": -0.097231182106475, \"TotalCoinSupply\": -0.0396550823186133}, {\"TotalCoinsMined\": -0.09782131357463773, \"TotalCoinSupply\": -0.039655116002818507}, {\"TotalCoinsMined\": -0.09782131357463773, \"TotalCoinSupply\": -0.03965509993663924}, {\"TotalCoinsMined\": -0.09782131357463773, \"TotalCoinSupply\": -0.03965502453513932}, {\"TotalCoinsMined\": -0.09780639683391149, \"TotalCoinSupply\": -0.03965512021568617}, {\"TotalCoinsMined\": -0.0968875216399674, \"TotalCoinSupply\": -0.039655111210350286}, {\"TotalCoinsMined\": -0.07814619482814594, \"TotalCoinSupply\": -0.039654572673849926}, {\"TotalCoinsMined\": -0.09771178608561835, \"TotalCoinSupply\": -0.039655108243584335}, {\"TotalCoinsMined\": -0.09540152460196613, \"TotalCoinSupply\": -0.03965509299897105}, {\"TotalCoinsMined\": -0.09770032412600416, \"TotalCoinSupply\": -0.03965506561343836}, {\"TotalCoinsMined\": -0.09778797089101916, \"TotalCoinSupply\": -0.03965511353812057}, {\"TotalCoinsMined\": -0.08192330002418528, \"TotalCoinSupply\": -0.03965494046155396}, {\"TotalCoinsMined\": -0.09501682338116724, \"TotalCoinSupply\": -0.03965506561343836}, {\"TotalCoinsMined\": -0.09744470069206312, \"TotalCoinSupply\": -0.03965510669173739}, {\"TotalCoinsMined\": -0.09782131357463773, \"TotalCoinSupply\": -0.03965509299897105}, {\"TotalCoinsMined\": -0.09677679956563917, \"TotalCoinSupply\": -0.03965509573752432}, {\"TotalCoinsMined\": -0.09763202721017811, \"TotalCoinSupply\": -0.03965511764595047}, {\"TotalCoinsMined\": -0.09780690544935565, \"TotalCoinSupply\": -0.03965511463354188}, {\"TotalCoinsMined\": -0.09767022582284647, \"TotalCoinSupply\": -0.03965511771824828}, {\"TotalCoinsMined\": -0.0978054001628691, \"TotalCoinSupply\": -0.03965511956293776}, {\"TotalCoinsMined\": -0.09775883534930005, \"TotalCoinSupply\": -0.03965511463354188}, {\"TotalCoinsMined\": -0.07362342384792167, \"TotalCoinSupply\": -0.03965479175811145}, {\"TotalCoinsMined\": -0.09499390563240075, \"TotalCoinSupply\": -0.03965506561343836}, {\"TotalCoinsMined\": -0.09782131357463773, \"TotalCoinSupply\": -0.03965238183123466}, {\"TotalCoinsMined\": -0.097600950313493, \"TotalCoinSupply\": -0.039655117471149165}, {\"TotalCoinsMined\": -0.0817248759491465, \"TotalCoinSupply\": -0.03965427143299032}, {\"TotalCoinsMined\": -0.09755225239918844, \"TotalCoinSupply\": -0.03965511216884393}, {\"TotalCoinsMined\": 0.3759198236117511, \"TotalCoinSupply\": -0.03964964327796557}, {\"TotalCoinsMined\": -0.09602985168176409, \"TotalCoinSupply\": -0.03965510011920955}, {\"TotalCoinsMined\": -0.09782131357463773, \"TotalCoinSupply\": -0.03965509642216263}, {\"TotalCoinsMined\": -0.09141665342793251, \"TotalCoinSupply\": -0.03965470960151338}, {\"TotalCoinsMined\": -0.09782131357463773, \"TotalCoinSupply\": -0.03965511764595047}, {\"TotalCoinsMined\": -0.0976381771395401, \"TotalCoinSupply\": -0.039655114523999745}, {\"TotalCoinsMined\": -0.09782131357463773, \"TotalCoinSupply\": -0.039654572673849926}, {\"TotalCoinsMined\": -0.09422268046056141, \"TotalCoinSupply\": -0.039655109430318594}, {\"TotalCoinsMined\": -0.09776081584978262, \"TotalCoinSupply\": -0.039655119699831466}, {\"TotalCoinsMined\": -0.09782131357463773, \"TotalCoinSupply\": -0.03965508587873255}, {\"TotalCoinsMined\": -0.09540152460196613, \"TotalCoinSupply\": -0.03965509299897105}, {\"TotalCoinsMined\": -0.09739013906852398, \"TotalCoinSupply\": -0.03965503795405034}, {\"TotalCoinsMined\": -0.0716352614535451, \"TotalCoinSupply\": -0.03965306482641997}, {\"TotalCoinsMined\": -0.09718719483168659, \"TotalCoinSupply\": -0.03965511320797729}, {\"TotalCoinsMined\": -0.09782131357463773, \"TotalCoinSupply\": -0.03965509299897105}, {\"TotalCoinsMined\": -0.09768547751076233, \"TotalCoinSupply\": -0.03965511463354188}, {\"TotalCoinsMined\": -0.09520305147780486, \"TotalCoinSupply\": -0.03965508615258788}, {\"TotalCoinsMined\": -0.09737745620838596, \"TotalCoinSupply\": -0.03965511216884393}, {\"TotalCoinsMined\": -0.09782131357463773, \"TotalCoinSupply\": -0.03965484652917683}, {\"TotalCoinsMined\": -0.09307131691880163, \"TotalCoinSupply\": -0.03965238183123466}, {\"TotalCoinsMined\": -0.09782131357463773, \"TotalCoinSupply\": -0.03965511463354188}, {\"TotalCoinsMined\": -0.07788225243982369, \"TotalCoinSupply\": -0.039654983456840286}, {\"TotalCoinsMined\": 2.1330504442711997, \"TotalCoinSupply\": -0.03965488760747587}, {\"TotalCoinsMined\": -0.09772807119820512, \"TotalCoinSupply\": -0.03965511932924967}, {\"TotalCoinsMined\": -0.09661141908830194, \"TotalCoinSupply\": -0.03965510669173739}, {\"TotalCoinsMined\": -0.09782131357463773, \"TotalCoinSupply\": -0.039653203397215384}, {\"TotalCoinsMined\": -0.09740778131836406, \"TotalCoinSupply\": -0.03965510983011944}, {\"TotalCoinsMined\": -0.09782131357463773, \"TotalCoinSupply\": -0.03965506561343836}, {\"TotalCoinsMined\": -0.09776203897046448, \"TotalCoinSupply\": -0.03965510888258001}, {\"TotalCoinsMined\": -0.09633641459656318, \"TotalCoinSupply\": -0.0396550579454892}, {\"TotalCoinsMined\": -0.09733735578010341, \"TotalCoinSupply\": -0.039655114907397204}, {\"TotalCoinsMined\": -0.09767444491663504, \"TotalCoinSupply\": -0.039655103953184126}, {\"TotalCoinsMined\": -0.09752085917015992, \"TotalCoinSupply\": -0.039655114907397204}, {\"TotalCoinsMined\": -0.09733145092295437, \"TotalCoinSupply\": -0.03965511134727795}, {\"TotalCoinsMined\": -0.09599218616117396, \"TotalCoinSupply\": -0.03965509943457123}, {\"TotalCoinsMined\": -0.09755318347646776, \"TotalCoinSupply\": -0.039655112716554586}, {\"TotalCoinsMined\": -0.09755720769144245, \"TotalCoinSupply\": -0.03965494219784247}, {\"TotalCoinsMined\": -0.09780160025561618, \"TotalCoinSupply\": -0.03965511901522711}, {\"TotalCoinsMined\": -0.09779764452979099, \"TotalCoinSupply\": -0.03965511463354188}, {\"TotalCoinsMined\": -0.0976185867276393, \"TotalCoinSupply\": -0.03965508094933667}, {\"TotalCoinsMined\": 0.7203854119396847, \"TotalCoinSupply\": -0.039646216001307244}, {\"TotalCoinsMined\": -0.09773727471498098, \"TotalCoinSupply\": -0.03965511682438449}, {\"TotalCoinsMined\": -0.09774107847805868, \"TotalCoinSupply\": -0.03965511947645726}, {\"TotalCoinsMined\": -0.09756680566972471, \"TotalCoinSupply\": -0.039655116276673834}, {\"TotalCoinsMined\": -0.097089865813451, \"TotalCoinSupply\": -0.03965509879506427}, {\"TotalCoinsMined\": -0.09779968003207692, \"TotalCoinSupply\": -0.03965511964118206}, {\"TotalCoinsMined\": -0.09759489179105056, \"TotalCoinSupply\": -0.03965511353812057}, {\"TotalCoinsMined\": -0.09782131357463773, \"TotalCoinSupply\": -0.039655051920672015}, {\"TotalCoinsMined\": -0.09777591478988443, \"TotalCoinSupply\": -0.03965511764595074}, {\"TotalCoinsMined\": -0.09782131357463773, \"TotalCoinSupply\": -0.03965499714960663}, {\"TotalCoinsMined\": -0.09782131357463773, \"TotalCoinSupply\": -0.03965509299897105}, {\"TotalCoinsMined\": -0.09724140214572201, \"TotalCoinSupply\": -0.039654983456840286}, {\"TotalCoinsMined\": -0.0977601878062525, \"TotalCoinSupply\": -0.03965511463354188}, {\"TotalCoinsMined\": -0.09768437537051249, \"TotalCoinSupply\": -0.03965511782286101}, {\"TotalCoinsMined\": -0.09782131357463773, \"TotalCoinSupply\": -0.03965509299897105}, {\"TotalCoinsMined\": -0.09782131357463773, \"TotalCoinSupply\": -0.039655092823703636}, {\"TotalCoinsMined\": -0.0975352527041145, \"TotalCoinSupply\": -0.039655114907397204}, {\"TotalCoinsMined\": -0.08482748056276244, \"TotalCoinSupply\": -0.039627734851812924}, {\"TotalCoinsMined\": -0.09781385629317965, \"TotalCoinSupply\": -0.03965511437794366}, {\"TotalCoinsMined\": -0.09782131357463773, \"TotalCoinSupply\": -0.039655114907397204}, {\"TotalCoinsMined\": -0.09755587921464207, \"TotalCoinSupply\": -0.03965506972126826}, {\"TotalCoinsMined\": -0.09775059248421708, \"TotalCoinSupply\": -0.03965510532246076}, {\"TotalCoinsMined\": -0.09515954570469896, \"TotalCoinSupply\": -0.03965509026041778}, {\"TotalCoinsMined\": -0.09782131357463773, \"TotalCoinSupply\": -0.039655088891141145}, {\"TotalCoinsMined\": -0.09774593090508346, \"TotalCoinSupply\": -0.03965511946434984}, {\"TotalCoinsMined\": -0.09746984282016244, \"TotalCoinSupply\": -0.03965511640679579}, {\"TotalCoinsMined\": -0.09708604762843101, \"TotalCoinSupply\": -0.03965484652917683}, {\"TotalCoinsMined\": -0.09765382415684366, \"TotalCoinSupply\": -0.03965511572896318}, {\"TotalCoinsMined\": -0.07362342384792167, \"TotalCoinSupply\": -0.03965484652917683}, {\"TotalCoinsMined\": -0.09540531379027137, \"TotalCoinSupply\": -0.03965509299897105}, {\"TotalCoinsMined\": -0.09737254537975432, \"TotalCoinSupply\": -0.03965511463354188}, {\"TotalCoinsMined\": -0.09782131357463773, \"TotalCoinSupply\": -0.03965499580815534}, {\"TotalCoinsMined\": -0.09782131357463773, \"TotalCoinSupply\": -0.039655062874885086}, {\"TotalCoinsMined\": -0.09694897081775987, \"TotalCoinSupply\": -0.03965511095664442}, {\"TotalCoinsMined\": -0.09776728208246906, \"TotalCoinSupply\": -0.03965511977301191}, {\"TotalCoinsMined\": -0.09750280282375906, \"TotalCoinSupply\": -0.03965509299897105}, {\"TotalCoinsMined\": -0.09752648174521533, \"TotalCoinSupply\": -0.03965511027924218}, {\"TotalCoinsMined\": -0.09514429164900821, \"TotalCoinSupply\": -0.03965509026041778}, {\"TotalCoinsMined\": -0.09627032437642388, \"TotalCoinSupply\": -0.03965402496319611}, {\"TotalCoinsMined\": -0.09782131357463773, \"TotalCoinSupply\": -0.03965508971270713}, {\"TotalCoinsMined\": -0.09513206084891142, \"TotalCoinSupply\": -0.03965509018099152}, {\"TotalCoinsMined\": -0.09730054299786868, \"TotalCoinSupply\": -0.03965509299897105}, {\"TotalCoinsMined\": -0.09757635349735624, \"TotalCoinSupply\": -0.03965510717043651}, {\"TotalCoinsMined\": -0.08810776277929587, \"TotalCoinSupply\": -0.039655010842372974}, {\"TotalCoinsMined\": -0.09487726639220811, \"TotalCoinSupply\": -0.039654983456840286}, {\"TotalCoinsMined\": -0.09769139670175572, \"TotalCoinSupply\": -0.03965511457545141}, {\"TotalCoinsMined\": -0.09779352655711519, \"TotalCoinSupply\": -0.03965511255224139}, {\"TotalCoinsMined\": -0.09780921462977438, \"TotalCoinSupply\": -0.03965484652917683}, {\"TotalCoinsMined\": -0.09782131357463773, \"TotalCoinSupply\": -0.03965511463354188}, {\"TotalCoinsMined\": -0.09538831872463722, \"TotalCoinSupply\": -0.03963458123498562}, {\"TotalCoinsMined\": -0.09740580236654642, \"TotalCoinSupply\": -0.039655109430290665}, {\"TotalCoinsMined\": -0.0973306747634022, \"TotalCoinSupply\": -0.03965511065705299}, {\"TotalCoinsMined\": -0.09782131357463773, \"TotalCoinSupply\": -0.03965512011064841}, {\"TotalCoinsMined\": -0.09067965810517009, \"TotalCoinSupply\": -0.039654572673849926}, {\"TotalCoinsMined\": -0.06593460488198195, \"TotalCoinSupply\": -0.03965443574618647}, {\"TotalCoinsMined\": -0.09754569414254981, \"TotalCoinSupply\": -0.03965511216884393}, {\"TotalCoinsMined\": -0.09730447655866678, \"TotalCoinSupply\": -0.03965509162969441}, {\"TotalCoinsMined\": -0.09782131357463773, \"TotalCoinSupply\": -0.03965454706837686}, {\"TotalCoinsMined\": 0.8860411687817055, \"TotalCoinSupply\": -0.039630473405082}, {\"TotalCoinsMined\": -0.09757103206683278, \"TotalCoinSupply\": -0.03965506559037974}, {\"TotalCoinsMined\": -0.09749044599359488, \"TotalCoinSupply\": -0.039655100666920205}, {\"TotalCoinsMined\": -0.09540152460196613, \"TotalCoinSupply\": -0.03965509299897105}, {\"TotalCoinsMined\": -0.0961507876521165, \"TotalCoinSupply\": -0.03965509162969441}, {\"TotalCoinsMined\": 0.4539361336993163, \"TotalCoinSupply\": -0.03964142761815833}, {\"TotalCoinsMined\": -0.09459698597755903, \"TotalCoinSupply\": -0.039655027196364885}, {\"TotalCoinsMined\": -0.09737589674904099, \"TotalCoinSupply\": -0.03965511216884393}, {\"TotalCoinsMined\": -0.05403602718420776, \"TotalCoinSupply\": -0.039654572673849926}, {\"TotalCoinsMined\": -0.09772037493299372, \"TotalCoinSupply\": -0.03965511764595047}, {\"TotalCoinsMined\": -0.0969710245324779, \"TotalCoinSupply\": -0.03965509299897105}, {\"TotalCoinsMined\": -0.09629824818461705, \"TotalCoinSupply\": -0.03965508752186451}, {\"TotalCoinsMined\": -0.09765666237330108, \"TotalCoinSupply\": -0.03965509299897105}, {\"TotalCoinsMined\": -0.0973825285216347, \"TotalCoinSupply\": -0.039655115105449376}, {\"TotalCoinsMined\": -0.09730667062972409, \"TotalCoinSupply\": -0.03965511216884393}, {\"TotalCoinsMined\": -0.09769626432505525, \"TotalCoinSupply\": -0.03965509984535422}, {\"TotalCoinsMined\": -0.09782131357463773, \"TotalCoinSupply\": -0.03965511821950376}, {\"TotalCoinsMined\": -0.09719114331330349, \"TotalCoinSupply\": -0.039655103953184126}, {\"TotalCoinsMined\": -0.09775784526844399, \"TotalCoinSupply\": -0.03965511520863806}, {\"TotalCoinsMined\": 0.12104692797570453, \"TotalCoinSupply\": -0.03964142761815833}, {\"TotalCoinsMined\": -0.09747862782731226, \"TotalCoinSupply\": -0.03965510559631608}, {\"TotalCoinsMined\": -0.09729096798874273, \"TotalCoinSupply\": -0.03965511520913439}, {\"TotalCoinsMined\": -0.09739054600455294, \"TotalCoinSupply\": -0.03965511463354188}, {\"TotalCoinsMined\": 3.8477679551092994, \"TotalCoinSupply\": -0.039600349319122104}, {\"TotalCoinsMined\": -0.04359362130518819, \"TotalCoinSupply\": -0.0396537511078692}, {\"TotalCoinsMined\": -0.09520860048948122, \"TotalCoinSupply\": -0.03965508272939629}, {\"TotalCoinsMined\": -0.09485766158267359, \"TotalCoinSupply\": -0.03965481914364414}, {\"TotalCoinsMined\": -0.09667598383772233, \"TotalCoinSupply\": -0.03965509299897105}, {\"TotalCoinsMined\": -0.09738585828079462, \"TotalCoinSupply\": -0.03965511463354188}, {\"TotalCoinsMined\": -0.09751716394584714, \"TotalCoinSupply\": -0.03965511778088693}, {\"TotalCoinsMined\": -0.09782131357463773, \"TotalCoinSupply\": -0.03965484379062356}, {\"TotalCoinsMined\": -0.0973697011634502, \"TotalCoinSupply\": -0.03965511561780772}, {\"TotalCoinsMined\": 1.2440662439400463, \"TotalCoinSupply\": -0.039631373667644985}, {\"TotalCoinsMined\": -0.09780957241977188, \"TotalCoinSupply\": -0.0396522449035712}, {\"TotalCoinsMined\": -0.09772452201573087, \"TotalCoinSupply\": -0.039655103515025186}, {\"TotalCoinsMined\": -0.09782131357463773, \"TotalCoinSupply\": -0.03965484652917683}, {\"TotalCoinsMined\": -0.09758649623641831, \"TotalCoinSupply\": -0.039655114907397204}, {\"TotalCoinsMined\": -0.09739896967123571, \"TotalCoinSupply\": -0.03965509738065628}, {\"TotalCoinsMined\": -0.09703133157643663, \"TotalCoinSupply\": -0.03965509299897105}, {\"TotalCoinsMined\": -0.09700544479652178, \"TotalCoinSupply\": -0.03965509299897105}, {\"TotalCoinsMined\": -0.09734849677890828, \"TotalCoinSupply\": -0.03965510717043651}, {\"TotalCoinsMined\": -0.09771968243778553, \"TotalCoinSupply\": -0.039655119234311365}, {\"TotalCoinsMined\": -0.09760482345192055, \"TotalCoinSupply\": -0.03965509604180826}, {\"TotalCoinsMined\": -0.09721636633146984, \"TotalCoinSupply\": -0.03965509535715406}, {\"TotalCoinsMined\": 0.5295590802406753, \"TotalCoinSupply\": -0.03964279689479287}, {\"TotalCoinsMined\": -0.09764557877085867, \"TotalCoinSupply\": -0.03965511299040991}, {\"TotalCoinsMined\": 0.028287277467720466, \"TotalCoinSupply\": -0.03964936942263867}, {\"TotalCoinsMined\": -0.09340184971157388, \"TotalCoinSupply\": -0.039655010842372974}, {\"TotalCoinsMined\": -0.03241791015250634, \"TotalCoinSupply\": -0.039654627444915304}, {\"TotalCoinsMined\": -0.0977937101969135, \"TotalCoinSupply\": -0.03965511607584669}, {\"TotalCoinsMined\": -0.0977205059506529, \"TotalCoinSupply\": -0.03965511299040991}, {\"TotalCoinsMined\": -0.09724056422119655, \"TotalCoinSupply\": -0.039655113811975895}, {\"TotalCoinsMined\": -0.09740505273796711, \"TotalCoinSupply\": -0.03965511463354188}, {\"TotalCoinsMined\": 1.0747956570820891, \"TotalCoinSupply\": -0.03964827400133104}, {\"TotalCoinsMined\": -0.09559387846698174, \"TotalCoinSupply\": -0.03965509299897105}, {\"TotalCoinsMined\": -0.08425686659222485, \"TotalCoinSupply\": -0.03965479175811145}, {\"TotalCoinsMined\": -0.09762033133940332, \"TotalCoinSupply\": -0.039655103953184126}, {\"TotalCoinsMined\": -0.09699890038045363, \"TotalCoinSupply\": -0.03965507757907235}, {\"TotalCoinsMined\": -0.09776929566146689, \"TotalCoinSupply\": -0.03965511463354188}, {\"TotalCoinsMined\": -0.09707815886159074, \"TotalCoinSupply\": -0.03965506561343836}, {\"TotalCoinsMined\": -0.09540176654472467, \"TotalCoinSupply\": -0.03965509299897105}, {\"TotalCoinsMined\": -0.09752293408342373, \"TotalCoinSupply\": -0.03965511463354188}, {\"TotalCoinsMined\": -0.09742537451527289, \"TotalCoinSupply\": -0.03965511633465558}, {\"TotalCoinsMined\": -0.09782131357463773, \"TotalCoinSupply\": -0.03965511901522711}, {\"TotalCoinsMined\": -0.09782131357463773, \"TotalCoinSupply\": -0.03965511937483749}, {\"TotalCoinsMined\": -0.09782131357463773, \"TotalCoinSupply\": -0.03965509984535422}, {\"TotalCoinsMined\": 0.11995969372382798, \"TotalCoinSupply\": -0.039652655686561566}, {\"TotalCoinsMined\": -0.0935814595401839, \"TotalCoinSupply\": -0.03965502453513932}, {\"TotalCoinsMined\": -0.09766704575940857, \"TotalCoinSupply\": -0.03965510806101403}, {\"TotalCoinsMined\": -0.09782131357463773, \"TotalCoinSupply\": -0.03965503822790567}, {\"TotalCoinsMined\": -0.09751263641265821, \"TotalCoinSupply\": -0.0396550437050122}, {\"TotalCoinsMined\": -0.09782131357463773, \"TotalCoinSupply\": -0.03965509160230888}, {\"TotalCoinsMined\": -0.09768018405602412, \"TotalCoinSupply\": -0.039655111675904346}, {\"TotalCoinsMined\": -0.09782131357463773, \"TotalCoinSupply\": -0.03965510669173739}, {\"TotalCoinsMined\": -0.09689698818912401, \"TotalCoinSupply\": -0.03965508094933667}, {\"TotalCoinsMined\": -0.0908501297911136, \"TotalCoinSupply\": -0.039654983456840286}, {\"TotalCoinsMined\": 0.589378191490992, \"TotalCoinSupply\": -0.039646904724696494}, {\"TotalCoinsMined\": -0.09338017747925383, \"TotalCoinSupply\": -0.039655062874885086}, {\"TotalCoinsMined\": -0.08616445044688095, \"TotalCoinSupply\": -0.03965493963998798}, {\"TotalCoinsMined\": -0.09513590491588826, \"TotalCoinSupply\": -0.039655062874885086}, {\"TotalCoinsMined\": 0.36875807471928396, \"TotalCoinSupply\": -0.039631842681716545}, {\"TotalCoinsMined\": -0.09771242307086751, \"TotalCoinSupply\": -0.03965511696131215}, {\"TotalCoinsMined\": -0.0852168317226449, \"TotalCoinSupply\": -0.03965238183123466}, {\"TotalCoinsMined\": -0.09750075980089178, \"TotalCoinSupply\": -0.039655112794296364}, {\"TotalCoinsMined\": -0.09741101984530548, \"TotalCoinSupply\": -0.039655114907397204}, {\"TotalCoinsMined\": -0.09587783085438363, \"TotalCoinSupply\": -0.03965496976407394}, {\"TotalCoinsMined\": -0.09782131357463773, \"TotalCoinSupply\": -0.03965511463354188}, {\"TotalCoinsMined\": -0.08714398908549337, \"TotalCoinSupply\": -0.039654846671166435}, {\"TotalCoinsMined\": 0.0210266283372817, \"TotalCoinSupply\": -0.03964142761815833}, {\"TotalCoinsMined\": -0.09761758180570931, \"TotalCoinSupply\": -0.0396550793062047}, {\"TotalCoinsMined\": -0.0018960088999411039, \"TotalCoinSupply\": -0.03965375110786947}, {\"TotalCoinsMined\": -0.09672819292316462, \"TotalCoinSupply\": -0.03965510669173739}, {\"TotalCoinsMined\": -0.09782131357463773, \"TotalCoinSupply\": -0.039630473405082}, {\"TotalCoinsMined\": 0.6302852400340608, \"TotalCoinSupply\": -0.039630473405082}, {\"TotalCoinsMined\": -0.09771897971887372, \"TotalCoinSupply\": -0.03965511496216827}, {\"TotalCoinsMined\": -0.09782131357463773, \"TotalCoinSupply\": -0.03965511912476923}, {\"TotalCoinsMined\": -0.09763142263536077, \"TotalCoinSupply\": -0.03965511463354188}, {\"TotalCoinsMined\": -0.0971607189284231, \"TotalCoinSupply\": -0.03965508752186451}, {\"TotalCoinsMined\": -0.09056683576764853, \"TotalCoinSupply\": -0.039654983456840286}, {\"TotalCoinsMined\": -0.09672071976227803, \"TotalCoinSupply\": -0.03965510285776282}, {\"TotalCoinsMined\": -0.08351981029255304, \"TotalCoinSupply\": -0.039654873914709524}, {\"TotalCoinsMined\": -0.09776071029307734, \"TotalCoinSupply\": -0.039655119289082434}, {\"TotalCoinsMined\": -0.09771466737674389, \"TotalCoinSupply\": -0.03965511463354188}, {\"TotalCoinsMined\": -0.0976161613407341, \"TotalCoinSupply\": -0.03965511408583122}, {\"TotalCoinsMined\": -0.09733333893040878, \"TotalCoinSupply\": -0.039655114861937214}, {\"TotalCoinsMined\": -0.09753295729000325, \"TotalCoinSupply\": -0.03965511408583122}, {\"TotalCoinsMined\": -0.09782131357463773, \"TotalCoinSupply\": -0.039654572673849926}, {\"TotalCoinsMined\": -0.09782131357463773, \"TotalCoinSupply\": 25.219040422173}, {\"TotalCoinsMined\": -0.09732656687186, \"TotalCoinSupply\": -0.03965511353812057}, {\"TotalCoinsMined\": -0.09778216059052955, \"TotalCoinSupply\": -0.03965511994139678}, {\"TotalCoinsMined\": -0.09759386932063192, \"TotalCoinSupply\": -0.03965511216884393}, {\"TotalCoinsMined\": 1.188050559024032, \"TotalCoinSupply\": -0.03938126505759556}, {\"TotalCoinsMined\": -0.09770471993910387, \"TotalCoinSupply\": -0.03965511583850531}, {\"TotalCoinsMined\": -0.09213852953251005, \"TotalCoinSupply\": -0.0396550568500679}, {\"TotalCoinsMined\": -0.09458043048861292, \"TotalCoinSupply\": -0.0396550283691139}, {\"TotalCoinsMined\": -0.09782131357463773, \"TotalCoinSupply\": -0.03965511463354188}, {\"TotalCoinsMined\": -0.09782131357463773, \"TotalCoinSupply\": -0.03965511572896318}, {\"TotalCoinsMined\": 0.14415758369252296, \"TotalCoinSupply\": -0.03965238183123466}, {\"TotalCoinsMined\": -0.09522426862240697, \"TotalCoinSupply\": -0.03965509299897105}, {\"TotalCoinsMined\": -0.08224281110067987, \"TotalCoinSupply\": -0.03965481914364414}, {\"TotalCoinsMined\": -0.09224856558330648, \"TotalCoinSupply\": -0.03965490130024221}, {\"TotalCoinsMined\": -0.0549404376647982, \"TotalCoinSupply\": -0.039653696336803816}, {\"TotalCoinsMined\": -0.08237380829637228, \"TotalCoinSupply\": -0.039654890346029134}, {\"TotalCoinsMined\": -0.09752014421924278, \"TotalCoinSupply\": -0.039655109430290665}, {\"TotalCoinsMined\": 0.25283065541297256, \"TotalCoinSupply\": -0.03965007953502226}, {\"TotalCoinsMined\": -0.09782131357463773, \"TotalCoinSupply\": -0.03964936942263867}, {\"TotalCoinsMined\": -0.09782131357463773, \"TotalCoinSupply\": -0.03965511175806094}, {\"TotalCoinsMined\": -0.09782131357463773, \"TotalCoinSupply\": -0.03965511463354188}, {\"TotalCoinsMined\": -0.09270835661868754, \"TotalCoinSupply\": -0.039654983456840286}, {\"TotalCoinsMined\": -0.09754905483709733, \"TotalCoinSupply\": -0.039655115087979045}, {\"TotalCoinsMined\": -0.09287335233749086, \"TotalCoinSupply\": -0.039655051246768824}, {\"TotalCoinsMined\": -0.09776885673352535, \"TotalCoinSupply\": -0.03965511353812057}, {\"TotalCoinsMined\": -0.09781116799522736, \"TotalCoinSupply\": -0.039655103953184126}, {\"TotalCoinsMined\": -0.0972025732164911, \"TotalCoinSupply\": -0.0396550864264432}, {\"TotalCoinsMined\": -0.08207215031810296, \"TotalCoinSupply\": -0.03965484652917683}, {\"TotalCoinsMined\": -0.09182961474198208, \"TotalCoinSupply\": -0.039653340324878834}, {\"TotalCoinsMined\": -0.09782131357463773, \"TotalCoinSupply\": -0.03965511435968655}, {\"TotalCoinsMined\": -0.09588429469376034, \"TotalCoinSupply\": -0.03965484652917683}, {\"TotalCoinsMined\": -0.09782131357463773, \"TotalCoinSupply\": -0.03965509299897105}, {\"TotalCoinsMined\": -0.0977228230298846, \"TotalCoinSupply\": -0.03965511463354188}, {\"TotalCoinsMined\": -0.09721636633146984, \"TotalCoinSupply\": -0.03965511353812057}, {\"TotalCoinsMined\": -0.09748767658878676, \"TotalCoinSupply\": -0.03965510669173739}, {\"TotalCoinsMined\": -0.09782131357463773, \"TotalCoinSupply\": -0.03965509735436617}, {\"TotalCoinsMined\": -0.09780085092407854, \"TotalCoinSupply\": -0.03965511956293776}, {\"TotalCoinsMined\": -0.09779270795460468, \"TotalCoinSupply\": -0.03965511901522711}, {\"TotalCoinsMined\": -0.09609466161079451, \"TotalCoinSupply\": -0.03965510121463085}, {\"TotalCoinsMined\": -0.09782131357463773, \"TotalCoinSupply\": -0.03965511427752995}, {\"TotalCoinsMined\": -0.09135327387902041, \"TotalCoinSupply\": -0.039654983456840286}, {\"TotalCoinsMined\": -0.09715973113060217, \"TotalCoinSupply\": -0.03965503822790567}, {\"TotalCoinsMined\": -0.09782131357463773, \"TotalCoinSupply\": -0.039655062874885086}, {\"TotalCoinsMined\": -0.09758408493214968, \"TotalCoinSupply\": -0.03965511463354188}, {\"TotalCoinsMined\": -0.09729194633837113, \"TotalCoinSupply\": -0.03965509628523497}, {\"TotalCoinsMined\": -0.09758222626780064, \"TotalCoinSupply\": -0.03965511216884393}, {\"TotalCoinsMined\": -0.09782131357463773, \"TotalCoinSupply\": -0.03965509299897105}, {\"TotalCoinsMined\": -0.09779152241529436, \"TotalCoinSupply\": -0.03965509299897105}, {\"TotalCoinsMined\": -0.09782131357463773, \"TotalCoinSupply\": -0.039654983456840286}, {\"TotalCoinsMined\": -0.09705178532369149, \"TotalCoinSupply\": -0.03965509299897105}, {\"TotalCoinsMined\": -0.09443991022791276, \"TotalCoinSupply\": -0.03965506561343836}, {\"TotalCoinsMined\": -0.09755331579739998, \"TotalCoinSupply\": -0.03965509847607759}, {\"TotalCoinsMined\": -0.09743373926579793, \"TotalCoinSupply\": -0.03965511534556573}, {\"TotalCoinsMined\": -0.09771475090785922, \"TotalCoinSupply\": -0.03965510806101403}, {\"TotalCoinsMined\": -0.0638436645178203, \"TotalCoinSupply\": -0.03965371771087798}, {\"TotalCoinsMined\": -0.09731147985741155, \"TotalCoinSupply\": -0.03965511463354188}, {\"TotalCoinsMined\": -0.09769796024115542, \"TotalCoinSupply\": -0.03965511318758575}, {\"TotalCoinsMined\": -0.09755743648025525, \"TotalCoinSupply\": -0.03965511463354188}, {\"TotalCoinsMined\": -0.0978020654358483, \"TotalCoinSupply\": -0.03965511545510785}, {\"TotalCoinsMined\": -0.09688469046749351, \"TotalCoinSupply\": -0.03965511326426524}, {\"TotalCoinsMined\": -0.0976522574450062, \"TotalCoinSupply\": -0.03965511750902281}, {\"TotalCoinsMined\": -0.09781927369253378, \"TotalCoinSupply\": -0.03965495607116574}, {\"TotalCoinsMined\": -0.09735783609963564, \"TotalCoinSupply\": -0.0396550793062047}, {\"TotalCoinsMined\": 0.9014189281143976, \"TotalCoinSupply\": -0.039604731004352633}, {\"TotalCoinsMined\": 0.14899716163786617, \"TotalCoinSupply\": -0.03965232706016927}, {\"TotalCoinsMined\": -0.09763668367565025, \"TotalCoinSupply\": -0.039655108334869356}, {\"TotalCoinsMined\": -0.09453372981329906, \"TotalCoinSupply\": -0.03965507437680882}, {\"TotalCoinsMined\": -0.09701701967020233, \"TotalCoinSupply\": -0.03965509299897105}, {\"TotalCoinsMined\": -0.0842684154608676, \"TotalCoinSupply\": -0.03965484652917683}, {\"TotalCoinsMined\": -0.09729865513506544, \"TotalCoinSupply\": -0.03965509738065628}, {\"TotalCoinsMined\": -0.09708849993043533, \"TotalCoinSupply\": -0.03965509573752432}, {\"TotalCoinsMined\": 1.7865182019652022, \"TotalCoinSupply\": -0.039629925694428185}, {\"TotalCoinsMined\": -0.09775558569483582, \"TotalCoinSupply\": -0.039654942378541246}, {\"TotalCoinsMined\": -0.09642240934742716, \"TotalCoinSupply\": -0.03965509292716481}, {\"TotalCoinsMined\": -0.09738103451972507, \"TotalCoinSupply\": -0.03965511543270485}, {\"TotalCoinsMined\": -0.09762468478892597, \"TotalCoinSupply\": -0.0396551143389557}, {\"TotalCoinsMined\": -0.09761211298954754, \"TotalCoinSupply\": -0.03965511463354188}, {\"TotalCoinsMined\": -0.09770049276842076, \"TotalCoinSupply\": -0.03965511463354188}, {\"TotalCoinsMined\": -0.09692785197349438, \"TotalCoinSupply\": -0.03965509777868747}, {\"TotalCoinsMined\": -0.09764993462803272, \"TotalCoinSupply\": -0.03965511463354188}, {\"TotalCoinsMined\": -0.09767807441398998, \"TotalCoinSupply\": -0.03965511897387495}, {\"TotalCoinsMined\": -0.09779609907222367, \"TotalCoinSupply\": -0.039650497706585526}, {\"TotalCoinsMined\": -0.09782131357463773, \"TotalCoinSupply\": -0.03965511052571197}, {\"TotalCoinsMined\": -0.09749869235592401, \"TotalCoinSupply\": -0.039655106007099074}, {\"TotalCoinsMined\": -0.0962229491278312, \"TotalCoinSupply\": -0.03965509299897105}, {\"TotalCoinsMined\": -0.09778703331798674, \"TotalCoinSupply\": -0.03965511433085971}, {\"TotalCoinsMined\": -0.09769055295773682, \"TotalCoinSupply\": -0.03965484652917683}, {\"TotalCoinsMined\": -0.09744430562984435, \"TotalCoinSupply\": -0.03965464113768165}, {\"TotalCoinsMined\": -0.097702964188367, \"TotalCoinSupply\": -0.039655096233506985}, {\"TotalCoinsMined\": -0.09782131357463773, \"TotalCoinSupply\": -0.03965509299897105}, {\"TotalCoinsMined\": -0.09746448778812049, \"TotalCoinSupply\": -0.039655062874885086}, {\"TotalCoinsMined\": 2.3111538769528943, \"TotalCoinSupply\": -0.03960460229234899}, {\"TotalCoinsMined\": -0.09735503209802175, \"TotalCoinSupply\": -0.03965510532246076}, {\"TotalCoinsMined\": -0.09707671726150151, \"TotalCoinSupply\": -0.03965510669173739}, {\"TotalCoinsMined\": -0.09521365538224144, \"TotalCoinSupply\": -0.03965504918211874}, {\"TotalCoinsMined\": -0.09759561667278485, \"TotalCoinSupply\": -0.039655062874885086}, {\"TotalCoinsMined\": -0.09782131357463773, \"TotalCoinSupply\": -0.03965507245982153}, {\"TotalCoinsMined\": -0.09782131357463773, \"TotalCoinSupply\": -0.039654890346029134}, {\"TotalCoinsMined\": -0.04700574514853399, \"TotalCoinSupply\": -0.03965454528831723}, {\"TotalCoinsMined\": -0.09782131357463773, \"TotalCoinSupply\": -0.03965510121463085}, {\"TotalCoinsMined\": -0.09770824859988624, \"TotalCoinSupply\": -0.03965502015345409}, {\"TotalCoinsMined\": -0.09771231081685708, \"TotalCoinSupply\": -0.03965509299897105}, {\"TotalCoinsMined\": -0.09769993983028788, \"TotalCoinSupply\": -0.03965511353812057}, {\"TotalCoinsMined\": -0.09782131357463773, \"TotalCoinSupply\": -0.039655051920672015}, {\"TotalCoinsMined\": -0.07217266162090363, \"TotalCoinSupply\": -0.03965019098861939}, {\"TotalCoinsMined\": -0.07362342384792167, \"TotalCoinSupply\": -0.03965484652917683}, {\"TotalCoinsMined\": -0.09758529332023669, \"TotalCoinSupply\": -0.03965509299897105}, {\"TotalCoinsMined\": -0.07362342384792167, \"TotalCoinSupply\": -0.03965484652917683}, {\"TotalCoinsMined\": -0.09782131357463773, \"TotalCoinSupply\": -0.03965505137296136}, {\"TotalCoinsMined\": 0.004659447579500901, \"TotalCoinSupply\": -0.03965303908401924}, {\"TotalCoinsMined\": -0.09765707269255823, \"TotalCoinSupply\": -0.03965510669173739}, {\"TotalCoinsMined\": -0.09782131357463773, \"TotalCoinSupply\": -0.03965511236054266}, {\"TotalCoinsMined\": -0.09782131357463773, \"TotalCoinSupply\": -0.039627734851812924}, {\"TotalCoinsMined\": -0.09749137897789742, \"TotalCoinSupply\": -0.03965509738065628}, {\"TotalCoinsMined\": -0.09782131357463773, \"TotalCoinSupply\": -0.039655116641931935}, {\"TotalCoinsMined\": -0.09738593268930516, \"TotalCoinSupply\": -0.03965511463354188}, {\"TotalCoinsMined\": -0.09277566968240589, \"TotalCoinSupply\": -0.039635950511620166}, {\"TotalCoinsMined\": -0.09782131357463773, \"TotalCoinSupply\": -0.03965509299897105}, {\"TotalCoinsMined\": -0.05264252563718439, \"TotalCoinSupply\": -0.03965290763346232}, {\"TotalCoinsMined\": -0.09782131357463773, \"TotalCoinSupply\": -0.0396551077871587}, {\"TotalCoinsMined\": -0.09782131357463773, \"TotalCoinSupply\": -0.03965511871398625}, {\"TotalCoinsMined\": -0.0969668331980018, \"TotalCoinSupply\": -0.03965510559631608}, {\"TotalCoinsMined\": -0.09782131357463773, \"TotalCoinSupply\": -0.03965510888258001}, {\"TotalCoinsMined\": -0.09778312249745807, \"TotalCoinSupply\": -0.03965509159683138}, {\"TotalCoinsMined\": -0.09743785636134197, \"TotalCoinSupply\": -0.03965511347546247}, {\"TotalCoinsMined\": -0.09782131357463773, \"TotalCoinSupply\": -0.039655114633606506}, {\"TotalCoinsMined\": -0.09749522474851169, \"TotalCoinSupply\": -0.03965509162969441}, {\"TotalCoinsMined\": -0.09781148700701767, \"TotalCoinSupply\": -0.03965511463354188}, {\"TotalCoinsMined\": -0.09696749787942423, \"TotalCoinSupply\": -0.03965508752186451}, {\"TotalCoinsMined\": -0.09746372806396877, \"TotalCoinSupply\": -0.03965511463354188}, {\"TotalCoinsMined\": -0.09695775090105777, \"TotalCoinSupply\": -0.03965504841532383}, {\"TotalCoinsMined\": -0.09737933884658688, \"TotalCoinSupply\": -0.03965511517139401}, {\"TotalCoinsMined\": -0.09721271759217266, \"TotalCoinSupply\": -0.03965511192620811}, {\"TotalCoinsMined\": -0.09777449787684601, \"TotalCoinSupply\": -0.03965511672305802}, {\"TotalCoinsMined\": 0.6480958177538072, \"TotalCoinSupply\": -0.03963463600605101}, {\"TotalCoinsMined\": -0.0975085367233587, \"TotalCoinSupply\": -0.03965509299897105}, {\"TotalCoinsMined\": -0.09780399612636916, \"TotalCoinSupply\": -0.0396551149895538}, {\"TotalCoinsMined\": -0.09732413095084219, \"TotalCoinSupply\": -0.03965509738065628}, {\"TotalCoinsMined\": -0.09782131357463773, \"TotalCoinSupply\": -0.03965509299897105}, {\"TotalCoinsMined\": -0.09300743029489468, \"TotalCoinSupply\": -0.039654983456840286}, {\"TotalCoinsMined\": -0.07613126487606332, \"TotalCoinSupply\": -0.0396537511078692}, {\"TotalCoinsMined\": -0.09744817643970452, \"TotalCoinSupply\": -0.039655005365266435}, {\"TotalCoinsMined\": -0.09782131357463773, \"TotalCoinSupply\": -0.03965509162969441}, {\"TotalCoinsMined\": -0.09655591308253143, \"TotalCoinSupply\": -0.03965510285776282}, {\"TotalCoinsMined\": -0.09779299496577473, \"TotalCoinSupply\": -0.03965511980940755}, {\"TotalCoinsMined\": -0.09577385511140224, \"TotalCoinSupply\": -0.03965507437680882}, {\"TotalCoinsMined\": -0.09724598550864942, \"TotalCoinSupply\": -0.03965511216884393}, {\"TotalCoinsMined\": -0.07362342384792167, \"TotalCoinSupply\": -0.03965484652917683}, {\"TotalCoinsMined\": -0.09782131357463773, \"TotalCoinSupply\": -0.03965511353812057}, {\"TotalCoinsMined\": 0.272863426747769, \"TotalCoinSupply\": -0.03964553544806195}, {\"TotalCoinsMined\": -0.09782131357463773, \"TotalCoinSupply\": -0.03965511533187296}, {\"TotalCoinsMined\": -0.09647675598358423, \"TotalCoinSupply\": -0.039628255176934045}, {\"TotalCoinsMined\": -0.005272007414838013, \"TotalCoinSupply\": -0.03965402496319611}, {\"TotalCoinsMined\": -0.09773572200899089, \"TotalCoinSupply\": -0.03965506561343836}, {\"TotalCoinsMined\": -0.09725612854223203, \"TotalCoinSupply\": -0.039653203397215384}, {\"TotalCoinsMined\": -0.0973234049223435, \"TotalCoinSupply\": -0.039655105526176536}, {\"TotalCoinsMined\": -0.09771503019393821, \"TotalCoinSupply\": -0.03965511463354188}, {\"TotalCoinsMined\": -0.08726247668736829, \"TotalCoinSupply\": -0.039654983456840286}, {\"TotalCoinsMined\": -0.09782131357463773, \"TotalCoinSupply\": -0.03965511534556573}, {\"TotalCoinsMined\": -0.07894186109243378, \"TotalCoinSupply\": -0.03965484652917683}, {\"TotalCoinsMined\": -0.07408965598698261, \"TotalCoinSupply\": -0.0396522449035712}, {\"TotalCoinsMined\": 0.3362821747999608, \"TotalCoinSupply\": -0.039655068351991625}, {\"TotalCoinsMined\": -0.08586173243961967, \"TotalCoinSupply\": -0.03965484652917683}, {\"TotalCoinsMined\": -0.09726507839947278, \"TotalCoinSupply\": -0.03965510888258001}, {\"TotalCoinsMined\": -0.09636944019103477, \"TotalCoinSupply\": -0.039655116276673834}, {\"TotalCoinsMined\": -0.09782131357463773, \"TotalCoinSupply\": -0.03965511533276463}, {\"TotalCoinsMined\": 0.6180487977377573, \"TotalCoinSupply\": -0.03964142761815833}, {\"TotalCoinsMined\": -0.09782131357463773, \"TotalCoinSupply\": -0.03965511353812057}, {\"TotalCoinsMined\": -0.08803770808469408, \"TotalCoinSupply\": -0.039655010842372974}, {\"TotalCoinsMined\": -0.0960476517198049, \"TotalCoinSupply\": -0.03965509162969441}, {\"TotalCoinsMined\": -0.09294872178465267, \"TotalCoinSupply\": -0.03965506342259574}, {\"TotalCoinsMined\": -0.09531388284187199, \"TotalCoinSupply\": -0.03965507656765144}, {\"TotalCoinsMined\": -0.0977288474915662, \"TotalCoinSupply\": -0.0396551179198058}, {\"TotalCoinsMined\": -0.09769905238365198, \"TotalCoinSupply\": -0.03965511901522711}, {\"TotalCoinsMined\": -0.09613509680626581, \"TotalCoinSupply\": -0.03965507054283424}, {\"TotalCoinsMined\": -0.09741234463720606, \"TotalCoinSupply\": -0.03965511586470423}, {\"TotalCoinsMined\": -0.09601431038978012, \"TotalCoinSupply\": -0.03965509162969441}, {\"TotalCoinsMined\": -0.09491727304505053, \"TotalCoinSupply\": -0.03965507658999803}, {\"TotalCoinsMined\": 0.14416350437653094, \"TotalCoinSupply\": -0.03965237941154895}, {\"TotalCoinsMined\": -0.09172331072178705, \"TotalCoinSupply\": -0.03965503822790567}, {\"TotalCoinsMined\": -0.09782131357463773, \"TotalCoinSupply\": -0.03965487665326279}, {\"TotalCoinsMined\": -0.09779420262183479, \"TotalCoinSupply\": -0.039655103907136724}, {\"TotalCoinsMined\": -0.09782131357463773, \"TotalCoinSupply\": -0.03965503822790567}, {\"TotalCoinsMined\": -0.2410238816855424, \"TotalCoinSupply\": -0.0396537511078692}, {\"TotalCoinsMined\": -0.09774066388351504, \"TotalCoinSupply\": -0.039655119617708824}, {\"TotalCoinsMined\": -0.09781790705008583, \"TotalCoinSupply\": -0.0396551203516411}, {\"TotalCoinsMined\": -0.09540152460196613, \"TotalCoinSupply\": -0.03965454528831723}, {\"TotalCoinsMined\": -0.09722875700377309, \"TotalCoinSupply\": -0.039655113678349826}, {\"TotalCoinsMined\": -0.09782131357463773, \"TotalCoinSupply\": -0.03965484652917683}, {\"TotalCoinsMined\": -0.07362342384792167, \"TotalCoinSupply\": -0.03965484652917683}, {\"TotalCoinsMined\": -0.09540152460196613, \"TotalCoinSupply\": -0.03965509299897105}, {\"TotalCoinsMined\": -0.09759668123574292, \"TotalCoinSupply\": -0.039655118019998506}, {\"TotalCoinsMined\": 23.857816404931505, \"TotalCoinSupply\": -0.039384003610864644}, {\"TotalCoinsMined\": -0.07362342384792167, \"TotalCoinSupply\": -0.03965484652917683}, {\"TotalCoinsMined\": -0.04942553423480017, \"TotalCoinSupply\": -0.039654572673849926}, {\"TotalCoinsMined\": -0.09746001376628274, \"TotalCoinSupply\": -0.039655051920672015}, {\"TotalCoinsMined\": -0.07410199531319227, \"TotalCoinSupply\": -0.03965473692608314}, {\"TotalCoinsMined\": -0.09764475276482588, \"TotalCoinSupply\": -0.03965511463354188}, {\"TotalCoinsMined\": -0.09781820833213134, \"TotalCoinSupply\": -0.03965512011064841}]}}, {\"mode\": \"vega-lite\"});\n",
       "</script>"
      ],
      "text/plain": [
       "alt.Chart(...)"
      ]
     },
     "execution_count": 153,
     "metadata": {},
     "output_type": "execute_result"
    }
   ],
   "source": [
    "alt.Chart(df_temp).mark_circle(size=60).encode(\n",
    "    x=\"TotalCoinsMined\",\n",
    "    y='TotalCoinSupply',\n",
    "#     color='indx'\n",
    "#     tooltip=['indx']\n",
    ").interactive()"
   ]
  },
  {
   "cell_type": "code",
   "execution_count": null,
   "metadata": {},
   "outputs": [],
   "source": []
  },
  {
   "cell_type": "code",
   "execution_count": null,
   "metadata": {},
   "outputs": [],
   "source": []
  }
 ],
 "metadata": {
  "file_extension": ".py",
  "kernelspec": {
   "display_name": "Python [conda env:pyvizenv] *",
   "language": "python",
   "name": "conda-env-pyvizenv-py"
  },
  "language_info": {
   "codemirror_mode": {
    "name": "ipython",
    "version": 3
   },
   "file_extension": ".py",
   "mimetype": "text/x-python",
   "name": "python",
   "nbconvert_exporter": "python",
   "pygments_lexer": "ipython3",
   "version": "3.7.9"
  },
  "mimetype": "text/x-python",
  "name": "python",
  "npconvert_exporter": "python",
  "pygments_lexer": "ipython3",
  "version": 3
 },
 "nbformat": 4,
 "nbformat_minor": 4
}

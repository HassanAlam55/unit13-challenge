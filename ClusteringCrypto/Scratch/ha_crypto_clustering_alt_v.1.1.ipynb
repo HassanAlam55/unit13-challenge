{
 "cells": [
  {
   "cell_type": "markdown",
   "metadata": {},
   "source": [
    "# Clustering Crypto"
   ]
  },
  {
   "cell_type": "code",
   "execution_count": 154,
   "metadata": {},
   "outputs": [],
   "source": [
    "# Initial imports\n",
    "import requests\n",
    "import pandas as pd\n",
    "import matplotlib.pyplot as plt\n",
    "# import hvplot.pandas\n",
    "# import plotly.express as px\n",
    "from sklearn.preprocessing import StandardScaler, MinMaxScaler\n",
    "from sklearn.decomposition import PCA\n",
    "from sklearn.cluster import KMeans"
   ]
  },
  {
   "cell_type": "code",
   "execution_count": 155,
   "metadata": {},
   "outputs": [],
   "source": [
    "import numpy as np"
   ]
  },
  {
   "cell_type": "markdown",
   "metadata": {},
   "source": [
    "### additional imports"
   ]
  },
  {
   "cell_type": "code",
   "execution_count": 156,
   "metadata": {},
   "outputs": [],
   "source": [
    "from pathlib import Path\n",
    "# import holoviews.plotting.bokeh\n",
    "# import holoviews as hv\n",
    "# hv.extension('bokeh')\n",
    "# from bokeh.plotting import show\n",
    "import altair as alt\n",
    "# from vega_datasets import data"
   ]
  },
  {
   "cell_type": "markdown",
   "metadata": {},
   "source": [
    "### Fetching Cryptocurrency Data"
   ]
  },
  {
   "cell_type": "code",
   "execution_count": 157,
   "metadata": {},
   "outputs": [],
   "source": [
    "# Use the following endpoint to fetch json data\n",
    "url = \"https://min-api.cryptocompare.com/data/all/coinlist\""
   ]
  },
  {
   "cell_type": "code",
   "execution_count": 158,
   "metadata": {},
   "outputs": [],
   "source": [
    "# Create a DataFrame \n",
    "# HINT: You will need to use the 'Data' key from the json response, then transpose the DataFrame."
   ]
  },
  {
   "cell_type": "code",
   "execution_count": 159,
   "metadata": {},
   "outputs": [],
   "source": [
    "# Alternatively, use the provided csv file:\n",
    "file_path = Path(\"Resources/crypto_data.csv\")\n",
    "\n",
    "# Create a DataFrame\n",
    "df = pd.read_csv(file_path)"
   ]
  },
  {
   "cell_type": "code",
   "execution_count": 160,
   "metadata": {},
   "outputs": [
    {
     "data": {
      "text/html": [
       "<div>\n",
       "<style scoped>\n",
       "    .dataframe tbody tr th:only-of-type {\n",
       "        vertical-align: middle;\n",
       "    }\n",
       "\n",
       "    .dataframe tbody tr th {\n",
       "        vertical-align: top;\n",
       "    }\n",
       "\n",
       "    .dataframe thead th {\n",
       "        text-align: right;\n",
       "    }\n",
       "</style>\n",
       "<table border=\"1\" class=\"dataframe\">\n",
       "  <thead>\n",
       "    <tr style=\"text-align: right;\">\n",
       "      <th></th>\n",
       "      <th>Unnamed: 0</th>\n",
       "      <th>CoinName</th>\n",
       "      <th>Algorithm</th>\n",
       "      <th>IsTrading</th>\n",
       "      <th>ProofType</th>\n",
       "      <th>TotalCoinsMined</th>\n",
       "      <th>TotalCoinSupply</th>\n",
       "    </tr>\n",
       "  </thead>\n",
       "  <tbody>\n",
       "    <tr>\n",
       "      <th>0</th>\n",
       "      <td>42</td>\n",
       "      <td>42 Coin</td>\n",
       "      <td>Scrypt</td>\n",
       "      <td>True</td>\n",
       "      <td>PoW/PoS</td>\n",
       "      <td>4.199995e+01</td>\n",
       "      <td>42</td>\n",
       "    </tr>\n",
       "    <tr>\n",
       "      <th>1</th>\n",
       "      <td>365</td>\n",
       "      <td>365Coin</td>\n",
       "      <td>X11</td>\n",
       "      <td>True</td>\n",
       "      <td>PoW/PoS</td>\n",
       "      <td>NaN</td>\n",
       "      <td>2300000000</td>\n",
       "    </tr>\n",
       "    <tr>\n",
       "      <th>2</th>\n",
       "      <td>404</td>\n",
       "      <td>404Coin</td>\n",
       "      <td>Scrypt</td>\n",
       "      <td>True</td>\n",
       "      <td>PoW/PoS</td>\n",
       "      <td>1.055185e+09</td>\n",
       "      <td>532000000</td>\n",
       "    </tr>\n",
       "    <tr>\n",
       "      <th>3</th>\n",
       "      <td>611</td>\n",
       "      <td>SixEleven</td>\n",
       "      <td>SHA-256</td>\n",
       "      <td>True</td>\n",
       "      <td>PoW</td>\n",
       "      <td>NaN</td>\n",
       "      <td>611000</td>\n",
       "    </tr>\n",
       "    <tr>\n",
       "      <th>4</th>\n",
       "      <td>808</td>\n",
       "      <td>808</td>\n",
       "      <td>SHA-256</td>\n",
       "      <td>True</td>\n",
       "      <td>PoW/PoS</td>\n",
       "      <td>0.000000e+00</td>\n",
       "      <td>0</td>\n",
       "    </tr>\n",
       "  </tbody>\n",
       "</table>\n",
       "</div>"
      ],
      "text/plain": [
       "  Unnamed: 0   CoinName Algorithm  IsTrading ProofType  TotalCoinsMined  \\\n",
       "0         42    42 Coin    Scrypt       True   PoW/PoS     4.199995e+01   \n",
       "1        365    365Coin       X11       True   PoW/PoS              NaN   \n",
       "2        404    404Coin    Scrypt       True   PoW/PoS     1.055185e+09   \n",
       "3        611  SixEleven   SHA-256       True       PoW              NaN   \n",
       "4        808        808   SHA-256       True   PoW/PoS     0.000000e+00   \n",
       "\n",
       "  TotalCoinSupply  \n",
       "0              42  \n",
       "1      2300000000  \n",
       "2       532000000  \n",
       "3          611000  \n",
       "4               0  "
      ]
     },
     "execution_count": 160,
     "metadata": {},
     "output_type": "execute_result"
    }
   ],
   "source": [
    "df.head(5)"
   ]
  },
  {
   "cell_type": "markdown",
   "metadata": {},
   "source": [
    "### Data Preprocessing"
   ]
  },
  {
   "cell_type": "code",
   "execution_count": 161,
   "metadata": {},
   "outputs": [
    {
     "data": {
      "text/html": [
       "<div>\n",
       "<style scoped>\n",
       "    .dataframe tbody tr th:only-of-type {\n",
       "        vertical-align: middle;\n",
       "    }\n",
       "\n",
       "    .dataframe tbody tr th {\n",
       "        vertical-align: top;\n",
       "    }\n",
       "\n",
       "    .dataframe thead th {\n",
       "        text-align: right;\n",
       "    }\n",
       "</style>\n",
       "<table border=\"1\" class=\"dataframe\">\n",
       "  <thead>\n",
       "    <tr style=\"text-align: right;\">\n",
       "      <th></th>\n",
       "      <th>CoinName</th>\n",
       "      <th>Algorithm</th>\n",
       "      <th>IsTrading</th>\n",
       "      <th>ProofType</th>\n",
       "      <th>TotalCoinsMined</th>\n",
       "      <th>TotalCoinSupply</th>\n",
       "    </tr>\n",
       "  </thead>\n",
       "  <tbody>\n",
       "    <tr>\n",
       "      <th>0</th>\n",
       "      <td>42 Coin</td>\n",
       "      <td>Scrypt</td>\n",
       "      <td>True</td>\n",
       "      <td>PoW/PoS</td>\n",
       "      <td>4.199995e+01</td>\n",
       "      <td>42</td>\n",
       "    </tr>\n",
       "    <tr>\n",
       "      <th>1</th>\n",
       "      <td>365Coin</td>\n",
       "      <td>X11</td>\n",
       "      <td>True</td>\n",
       "      <td>PoW/PoS</td>\n",
       "      <td>NaN</td>\n",
       "      <td>2300000000</td>\n",
       "    </tr>\n",
       "    <tr>\n",
       "      <th>2</th>\n",
       "      <td>404Coin</td>\n",
       "      <td>Scrypt</td>\n",
       "      <td>True</td>\n",
       "      <td>PoW/PoS</td>\n",
       "      <td>1.055185e+09</td>\n",
       "      <td>532000000</td>\n",
       "    </tr>\n",
       "    <tr>\n",
       "      <th>3</th>\n",
       "      <td>SixEleven</td>\n",
       "      <td>SHA-256</td>\n",
       "      <td>True</td>\n",
       "      <td>PoW</td>\n",
       "      <td>NaN</td>\n",
       "      <td>611000</td>\n",
       "    </tr>\n",
       "    <tr>\n",
       "      <th>4</th>\n",
       "      <td>808</td>\n",
       "      <td>SHA-256</td>\n",
       "      <td>True</td>\n",
       "      <td>PoW/PoS</td>\n",
       "      <td>0.000000e+00</td>\n",
       "      <td>0</td>\n",
       "    </tr>\n",
       "  </tbody>\n",
       "</table>\n",
       "</div>"
      ],
      "text/plain": [
       "    CoinName Algorithm  IsTrading ProofType  TotalCoinsMined TotalCoinSupply\n",
       "0    42 Coin    Scrypt       True   PoW/PoS     4.199995e+01              42\n",
       "1    365Coin       X11       True   PoW/PoS              NaN      2300000000\n",
       "2    404Coin    Scrypt       True   PoW/PoS     1.055185e+09       532000000\n",
       "3  SixEleven   SHA-256       True       PoW              NaN          611000\n",
       "4        808   SHA-256       True   PoW/PoS     0.000000e+00               0"
      ]
     },
     "execution_count": 161,
     "metadata": {},
     "output_type": "execute_result"
    }
   ],
   "source": [
    "# Keep only necessary columns:\n",
    "# 'CoinName','Algorithm','IsTrading','ProofType','TotalCoinsMined','TotalCoinSupply'\n",
    "crypto_df = df.iloc[: , 1:]\n",
    "crypto_df.head(5)"
   ]
  },
  {
   "cell_type": "code",
   "execution_count": 162,
   "metadata": {},
   "outputs": [],
   "source": [
    "# Keep only cryptocurrencies that are trading\n",
    "crypto_df = crypto_df [crypto_df['IsTrading'] == True]"
   ]
  },
  {
   "cell_type": "code",
   "execution_count": 163,
   "metadata": {},
   "outputs": [],
   "source": [
    "# Keep only cryptocurrencies with a working algorithm\n",
    "\n",
    "crypto_df.dropna(subset = ['Algorithm'], inplace = True)\n"
   ]
  },
  {
   "cell_type": "code",
   "execution_count": 164,
   "metadata": {},
   "outputs": [],
   "source": [
    "# Remove the \"IsTrading\" column\n",
    "crypto_df.drop('IsTrading', inplace = True, axis = 1)\n"
   ]
  },
  {
   "cell_type": "code",
   "execution_count": 165,
   "metadata": {},
   "outputs": [
    {
     "data": {
      "text/plain": [
       "CoinName             0\n",
       "Algorithm            0\n",
       "ProofType            0\n",
       "TotalCoinsMined    459\n",
       "TotalCoinSupply      0\n",
       "dtype: int64"
      ]
     },
     "execution_count": 165,
     "metadata": {},
     "output_type": "execute_result"
    }
   ],
   "source": [
    "crypto_df.isnull().sum()"
   ]
  },
  {
   "cell_type": "code",
   "execution_count": 166,
   "metadata": {},
   "outputs": [
    {
     "data": {
      "text/html": [
       "<div>\n",
       "<style scoped>\n",
       "    .dataframe tbody tr th:only-of-type {\n",
       "        vertical-align: middle;\n",
       "    }\n",
       "\n",
       "    .dataframe tbody tr th {\n",
       "        vertical-align: top;\n",
       "    }\n",
       "\n",
       "    .dataframe thead th {\n",
       "        text-align: right;\n",
       "    }\n",
       "</style>\n",
       "<table border=\"1\" class=\"dataframe\">\n",
       "  <thead>\n",
       "    <tr style=\"text-align: right;\">\n",
       "      <th></th>\n",
       "      <th>CoinName</th>\n",
       "      <th>Algorithm</th>\n",
       "      <th>ProofType</th>\n",
       "      <th>TotalCoinsMined</th>\n",
       "      <th>TotalCoinSupply</th>\n",
       "    </tr>\n",
       "  </thead>\n",
       "  <tbody>\n",
       "    <tr>\n",
       "      <th>0</th>\n",
       "      <td>42 Coin</td>\n",
       "      <td>Scrypt</td>\n",
       "      <td>PoW/PoS</td>\n",
       "      <td>4.199995e+01</td>\n",
       "      <td>42</td>\n",
       "    </tr>\n",
       "    <tr>\n",
       "      <th>2</th>\n",
       "      <td>404Coin</td>\n",
       "      <td>Scrypt</td>\n",
       "      <td>PoW/PoS</td>\n",
       "      <td>1.055185e+09</td>\n",
       "      <td>532000000</td>\n",
       "    </tr>\n",
       "    <tr>\n",
       "      <th>4</th>\n",
       "      <td>808</td>\n",
       "      <td>SHA-256</td>\n",
       "      <td>PoW/PoS</td>\n",
       "      <td>0.000000e+00</td>\n",
       "      <td>0</td>\n",
       "    </tr>\n",
       "    <tr>\n",
       "      <th>5</th>\n",
       "      <td>EliteCoin</td>\n",
       "      <td>X13</td>\n",
       "      <td>PoW/PoS</td>\n",
       "      <td>2.927942e+10</td>\n",
       "      <td>314159265359</td>\n",
       "    </tr>\n",
       "    <tr>\n",
       "      <th>7</th>\n",
       "      <td>Bitcoin</td>\n",
       "      <td>SHA-256</td>\n",
       "      <td>PoW</td>\n",
       "      <td>1.792718e+07</td>\n",
       "      <td>21000000</td>\n",
       "    </tr>\n",
       "  </tbody>\n",
       "</table>\n",
       "</div>"
      ],
      "text/plain": [
       "    CoinName Algorithm ProofType  TotalCoinsMined TotalCoinSupply\n",
       "0    42 Coin    Scrypt   PoW/PoS     4.199995e+01              42\n",
       "2    404Coin    Scrypt   PoW/PoS     1.055185e+09       532000000\n",
       "4        808   SHA-256   PoW/PoS     0.000000e+00               0\n",
       "5  EliteCoin       X13   PoW/PoS     2.927942e+10    314159265359\n",
       "7    Bitcoin   SHA-256       PoW     1.792718e+07        21000000"
      ]
     },
     "execution_count": 166,
     "metadata": {},
     "output_type": "execute_result"
    }
   ],
   "source": [
    "# Remove rows with at least 1 null value\n",
    "crypto_df.dropna(inplace = True)\n",
    "crypto_df.head()"
   ]
  },
  {
   "cell_type": "code",
   "execution_count": 167,
   "metadata": {},
   "outputs": [
    {
     "data": {
      "text/plain": [
       "CoinName            object\n",
       "Algorithm           object\n",
       "ProofType           object\n",
       "TotalCoinsMined    float64\n",
       "TotalCoinSupply    float64\n",
       "dtype: object"
      ]
     },
     "execution_count": 167,
     "metadata": {},
     "output_type": "execute_result"
    }
   ],
   "source": [
    "crypto_df.dtypes\n",
    "# df['a'] = pd.to_numeric(df['a'],errors = 'coerce')\n",
    "crypto_df['TotalCoinSupply'] = pd.to_numeric(crypto_df['TotalCoinSupply'] ,errors = 'coerce')\n",
    "crypto_df.dtypes"
   ]
  },
  {
   "cell_type": "code",
   "execution_count": 168,
   "metadata": {},
   "outputs": [
    {
     "data": {
      "text/html": [
       "<div>\n",
       "<style scoped>\n",
       "    .dataframe tbody tr th:only-of-type {\n",
       "        vertical-align: middle;\n",
       "    }\n",
       "\n",
       "    .dataframe tbody tr th {\n",
       "        vertical-align: top;\n",
       "    }\n",
       "\n",
       "    .dataframe thead th {\n",
       "        text-align: right;\n",
       "    }\n",
       "</style>\n",
       "<table border=\"1\" class=\"dataframe\">\n",
       "  <thead>\n",
       "    <tr style=\"text-align: right;\">\n",
       "      <th></th>\n",
       "      <th>CoinName</th>\n",
       "      <th>Algorithm</th>\n",
       "      <th>ProofType</th>\n",
       "      <th>TotalCoinsMined</th>\n",
       "      <th>TotalCoinSupply</th>\n",
       "    </tr>\n",
       "  </thead>\n",
       "  <tbody>\n",
       "    <tr>\n",
       "      <th>0</th>\n",
       "      <td>42 Coin</td>\n",
       "      <td>Scrypt</td>\n",
       "      <td>PoW/PoS</td>\n",
       "      <td>4.199995e+01</td>\n",
       "      <td>4.200000e+01</td>\n",
       "    </tr>\n",
       "    <tr>\n",
       "      <th>2</th>\n",
       "      <td>404Coin</td>\n",
       "      <td>Scrypt</td>\n",
       "      <td>PoW/PoS</td>\n",
       "      <td>1.055185e+09</td>\n",
       "      <td>5.320000e+08</td>\n",
       "    </tr>\n",
       "    <tr>\n",
       "      <th>5</th>\n",
       "      <td>EliteCoin</td>\n",
       "      <td>X13</td>\n",
       "      <td>PoW/PoS</td>\n",
       "      <td>2.927942e+10</td>\n",
       "      <td>3.141593e+11</td>\n",
       "    </tr>\n",
       "    <tr>\n",
       "      <th>7</th>\n",
       "      <td>Bitcoin</td>\n",
       "      <td>SHA-256</td>\n",
       "      <td>PoW</td>\n",
       "      <td>1.792718e+07</td>\n",
       "      <td>2.100000e+07</td>\n",
       "    </tr>\n",
       "    <tr>\n",
       "      <th>9</th>\n",
       "      <td>Litecoin</td>\n",
       "      <td>Scrypt</td>\n",
       "      <td>PoW</td>\n",
       "      <td>6.303924e+07</td>\n",
       "      <td>8.400000e+07</td>\n",
       "    </tr>\n",
       "  </tbody>\n",
       "</table>\n",
       "</div>"
      ],
      "text/plain": [
       "    CoinName Algorithm ProofType  TotalCoinsMined  TotalCoinSupply\n",
       "0    42 Coin    Scrypt   PoW/PoS     4.199995e+01     4.200000e+01\n",
       "2    404Coin    Scrypt   PoW/PoS     1.055185e+09     5.320000e+08\n",
       "5  EliteCoin       X13   PoW/PoS     2.927942e+10     3.141593e+11\n",
       "7    Bitcoin   SHA-256       PoW     1.792718e+07     2.100000e+07\n",
       "9   Litecoin    Scrypt       PoW     6.303924e+07     8.400000e+07"
      ]
     },
     "execution_count": 168,
     "metadata": {},
     "output_type": "execute_result"
    }
   ],
   "source": [
    "# Remove rows with cryptocurrencies having no coins mined\n",
    "crypto_df = crypto_df [crypto_df['TotalCoinSupply'] != 0]\n",
    "crypto_df.head(5)"
   ]
  },
  {
   "cell_type": "code",
   "execution_count": 169,
   "metadata": {},
   "outputs": [],
   "source": [
    "# create dataframe to add later\n",
    "coin_df = crypto_df.copy()"
   ]
  },
  {
   "cell_type": "code",
   "execution_count": 170,
   "metadata": {},
   "outputs": [],
   "source": [
    "# Drop rows where there are 'N/A' text values\n",
    "# aldready done..???"
   ]
  },
  {
   "cell_type": "code",
   "execution_count": 171,
   "metadata": {},
   "outputs": [
    {
     "data": {
      "text/html": [
       "<div>\n",
       "<style scoped>\n",
       "    .dataframe tbody tr th:only-of-type {\n",
       "        vertical-align: middle;\n",
       "    }\n",
       "\n",
       "    .dataframe tbody tr th {\n",
       "        vertical-align: top;\n",
       "    }\n",
       "\n",
       "    .dataframe thead th {\n",
       "        text-align: right;\n",
       "    }\n",
       "</style>\n",
       "<table border=\"1\" class=\"dataframe\">\n",
       "  <thead>\n",
       "    <tr style=\"text-align: right;\">\n",
       "      <th></th>\n",
       "      <th>CoinName</th>\n",
       "    </tr>\n",
       "  </thead>\n",
       "  <tbody>\n",
       "    <tr>\n",
       "      <th>0</th>\n",
       "      <td>42 Coin</td>\n",
       "    </tr>\n",
       "    <tr>\n",
       "      <th>2</th>\n",
       "      <td>404Coin</td>\n",
       "    </tr>\n",
       "    <tr>\n",
       "      <th>5</th>\n",
       "      <td>EliteCoin</td>\n",
       "    </tr>\n",
       "    <tr>\n",
       "      <th>7</th>\n",
       "      <td>Bitcoin</td>\n",
       "    </tr>\n",
       "    <tr>\n",
       "      <th>9</th>\n",
       "      <td>Litecoin</td>\n",
       "    </tr>\n",
       "  </tbody>\n",
       "</table>\n",
       "</div>"
      ],
      "text/plain": [
       "    CoinName\n",
       "0    42 Coin\n",
       "2    404Coin\n",
       "5  EliteCoin\n",
       "7    Bitcoin\n",
       "9   Litecoin"
      ]
     },
     "execution_count": 171,
     "metadata": {},
     "output_type": "execute_result"
    }
   ],
   "source": [
    "# Store the 'CoinName'column in its own DataFrame prior to dropping it from crypto_df\n",
    "coin_name = crypto_df.filter(['CoinName'], axis = 1)\n",
    "# df_CoinName.column = ['CoinName']\n",
    "coin_name.head()"
   ]
  },
  {
   "cell_type": "code",
   "execution_count": 172,
   "metadata": {},
   "outputs": [],
   "source": [
    "coin_name = crypto_df"
   ]
  },
  {
   "cell_type": "code",
   "execution_count": 173,
   "metadata": {},
   "outputs": [
    {
     "data": {
      "text/html": [
       "<div>\n",
       "<style scoped>\n",
       "    .dataframe tbody tr th:only-of-type {\n",
       "        vertical-align: middle;\n",
       "    }\n",
       "\n",
       "    .dataframe tbody tr th {\n",
       "        vertical-align: top;\n",
       "    }\n",
       "\n",
       "    .dataframe thead th {\n",
       "        text-align: right;\n",
       "    }\n",
       "</style>\n",
       "<table border=\"1\" class=\"dataframe\">\n",
       "  <thead>\n",
       "    <tr style=\"text-align: right;\">\n",
       "      <th></th>\n",
       "      <th>Algorithm</th>\n",
       "      <th>ProofType</th>\n",
       "      <th>TotalCoinsMined</th>\n",
       "      <th>TotalCoinSupply</th>\n",
       "    </tr>\n",
       "  </thead>\n",
       "  <tbody>\n",
       "    <tr>\n",
       "      <th>0</th>\n",
       "      <td>Scrypt</td>\n",
       "      <td>PoW/PoS</td>\n",
       "      <td>4.199995e+01</td>\n",
       "      <td>4.200000e+01</td>\n",
       "    </tr>\n",
       "    <tr>\n",
       "      <th>2</th>\n",
       "      <td>Scrypt</td>\n",
       "      <td>PoW/PoS</td>\n",
       "      <td>1.055185e+09</td>\n",
       "      <td>5.320000e+08</td>\n",
       "    </tr>\n",
       "    <tr>\n",
       "      <th>5</th>\n",
       "      <td>X13</td>\n",
       "      <td>PoW/PoS</td>\n",
       "      <td>2.927942e+10</td>\n",
       "      <td>3.141593e+11</td>\n",
       "    </tr>\n",
       "    <tr>\n",
       "      <th>7</th>\n",
       "      <td>SHA-256</td>\n",
       "      <td>PoW</td>\n",
       "      <td>1.792718e+07</td>\n",
       "      <td>2.100000e+07</td>\n",
       "    </tr>\n",
       "    <tr>\n",
       "      <th>9</th>\n",
       "      <td>Scrypt</td>\n",
       "      <td>PoW</td>\n",
       "      <td>6.303924e+07</td>\n",
       "      <td>8.400000e+07</td>\n",
       "    </tr>\n",
       "  </tbody>\n",
       "</table>\n",
       "</div>"
      ],
      "text/plain": [
       "  Algorithm ProofType  TotalCoinsMined  TotalCoinSupply\n",
       "0    Scrypt   PoW/PoS     4.199995e+01     4.200000e+01\n",
       "2    Scrypt   PoW/PoS     1.055185e+09     5.320000e+08\n",
       "5       X13   PoW/PoS     2.927942e+10     3.141593e+11\n",
       "7   SHA-256       PoW     1.792718e+07     2.100000e+07\n",
       "9    Scrypt       PoW     6.303924e+07     8.400000e+07"
      ]
     },
     "execution_count": 173,
     "metadata": {},
     "output_type": "execute_result"
    }
   ],
   "source": [
    "# Drop the 'CoinName' column since it's not going to be used on the clustering algorithm\n",
    "crypto_df.drop(['CoinName'], axis = 1, inplace = True)\n",
    "crypto_df.head()\n"
   ]
  },
  {
   "cell_type": "code",
   "execution_count": 174,
   "metadata": {},
   "outputs": [
    {
     "data": {
      "text/html": [
       "<div>\n",
       "<style scoped>\n",
       "    .dataframe tbody tr th:only-of-type {\n",
       "        vertical-align: middle;\n",
       "    }\n",
       "\n",
       "    .dataframe tbody tr th {\n",
       "        vertical-align: top;\n",
       "    }\n",
       "\n",
       "    .dataframe thead th {\n",
       "        text-align: right;\n",
       "    }\n",
       "</style>\n",
       "<table border=\"1\" class=\"dataframe\">\n",
       "  <thead>\n",
       "    <tr style=\"text-align: right;\">\n",
       "      <th></th>\n",
       "      <th>TotalCoinsMined</th>\n",
       "      <th>TotalCoinSupply</th>\n",
       "      <th>Algorithm_1GB AES Pattern Search</th>\n",
       "      <th>Algorithm_536</th>\n",
       "      <th>Algorithm_Argon2</th>\n",
       "      <th>Algorithm_BLAKE256</th>\n",
       "      <th>Algorithm_Blake</th>\n",
       "      <th>Algorithm_Blake2S</th>\n",
       "      <th>Algorithm_Blake2b</th>\n",
       "      <th>Algorithm_C11</th>\n",
       "      <th>...</th>\n",
       "      <th>ProofType_PoW/PoS</th>\n",
       "      <th>ProofType_PoW/PoS</th>\n",
       "      <th>ProofType_PoW/PoW</th>\n",
       "      <th>ProofType_PoW/nPoS</th>\n",
       "      <th>ProofType_Pos</th>\n",
       "      <th>ProofType_Proof of Authority</th>\n",
       "      <th>ProofType_Proof of Trust</th>\n",
       "      <th>ProofType_TPoS</th>\n",
       "      <th>ProofType_Zero-Knowledge Proof</th>\n",
       "      <th>ProofType_dPoW/PoW</th>\n",
       "    </tr>\n",
       "  </thead>\n",
       "  <tbody>\n",
       "    <tr>\n",
       "      <th>0</th>\n",
       "      <td>4.199995e+01</td>\n",
       "      <td>4.200000e+01</td>\n",
       "      <td>0</td>\n",
       "      <td>0</td>\n",
       "      <td>0</td>\n",
       "      <td>0</td>\n",
       "      <td>0</td>\n",
       "      <td>0</td>\n",
       "      <td>0</td>\n",
       "      <td>0</td>\n",
       "      <td>...</td>\n",
       "      <td>1</td>\n",
       "      <td>0</td>\n",
       "      <td>0</td>\n",
       "      <td>0</td>\n",
       "      <td>0</td>\n",
       "      <td>0</td>\n",
       "      <td>0</td>\n",
       "      <td>0</td>\n",
       "      <td>0</td>\n",
       "      <td>0</td>\n",
       "    </tr>\n",
       "    <tr>\n",
       "      <th>2</th>\n",
       "      <td>1.055185e+09</td>\n",
       "      <td>5.320000e+08</td>\n",
       "      <td>0</td>\n",
       "      <td>0</td>\n",
       "      <td>0</td>\n",
       "      <td>0</td>\n",
       "      <td>0</td>\n",
       "      <td>0</td>\n",
       "      <td>0</td>\n",
       "      <td>0</td>\n",
       "      <td>...</td>\n",
       "      <td>1</td>\n",
       "      <td>0</td>\n",
       "      <td>0</td>\n",
       "      <td>0</td>\n",
       "      <td>0</td>\n",
       "      <td>0</td>\n",
       "      <td>0</td>\n",
       "      <td>0</td>\n",
       "      <td>0</td>\n",
       "      <td>0</td>\n",
       "    </tr>\n",
       "    <tr>\n",
       "      <th>5</th>\n",
       "      <td>2.927942e+10</td>\n",
       "      <td>3.141593e+11</td>\n",
       "      <td>0</td>\n",
       "      <td>0</td>\n",
       "      <td>0</td>\n",
       "      <td>0</td>\n",
       "      <td>0</td>\n",
       "      <td>0</td>\n",
       "      <td>0</td>\n",
       "      <td>0</td>\n",
       "      <td>...</td>\n",
       "      <td>1</td>\n",
       "      <td>0</td>\n",
       "      <td>0</td>\n",
       "      <td>0</td>\n",
       "      <td>0</td>\n",
       "      <td>0</td>\n",
       "      <td>0</td>\n",
       "      <td>0</td>\n",
       "      <td>0</td>\n",
       "      <td>0</td>\n",
       "    </tr>\n",
       "    <tr>\n",
       "      <th>7</th>\n",
       "      <td>1.792718e+07</td>\n",
       "      <td>2.100000e+07</td>\n",
       "      <td>0</td>\n",
       "      <td>0</td>\n",
       "      <td>0</td>\n",
       "      <td>0</td>\n",
       "      <td>0</td>\n",
       "      <td>0</td>\n",
       "      <td>0</td>\n",
       "      <td>0</td>\n",
       "      <td>...</td>\n",
       "      <td>0</td>\n",
       "      <td>0</td>\n",
       "      <td>0</td>\n",
       "      <td>0</td>\n",
       "      <td>0</td>\n",
       "      <td>0</td>\n",
       "      <td>0</td>\n",
       "      <td>0</td>\n",
       "      <td>0</td>\n",
       "      <td>0</td>\n",
       "    </tr>\n",
       "    <tr>\n",
       "      <th>9</th>\n",
       "      <td>6.303924e+07</td>\n",
       "      <td>8.400000e+07</td>\n",
       "      <td>0</td>\n",
       "      <td>0</td>\n",
       "      <td>0</td>\n",
       "      <td>0</td>\n",
       "      <td>0</td>\n",
       "      <td>0</td>\n",
       "      <td>0</td>\n",
       "      <td>0</td>\n",
       "      <td>...</td>\n",
       "      <td>0</td>\n",
       "      <td>0</td>\n",
       "      <td>0</td>\n",
       "      <td>0</td>\n",
       "      <td>0</td>\n",
       "      <td>0</td>\n",
       "      <td>0</td>\n",
       "      <td>0</td>\n",
       "      <td>0</td>\n",
       "      <td>0</td>\n",
       "    </tr>\n",
       "  </tbody>\n",
       "</table>\n",
       "<p>5 rows × 105 columns</p>\n",
       "</div>"
      ],
      "text/plain": [
       "   TotalCoinsMined  TotalCoinSupply  Algorithm_1GB AES Pattern Search  \\\n",
       "0     4.199995e+01     4.200000e+01                                 0   \n",
       "2     1.055185e+09     5.320000e+08                                 0   \n",
       "5     2.927942e+10     3.141593e+11                                 0   \n",
       "7     1.792718e+07     2.100000e+07                                 0   \n",
       "9     6.303924e+07     8.400000e+07                                 0   \n",
       "\n",
       "   Algorithm_536  Algorithm_Argon2  Algorithm_BLAKE256  Algorithm_Blake  \\\n",
       "0              0                 0                   0                0   \n",
       "2              0                 0                   0                0   \n",
       "5              0                 0                   0                0   \n",
       "7              0                 0                   0                0   \n",
       "9              0                 0                   0                0   \n",
       "\n",
       "   Algorithm_Blake2S  Algorithm_Blake2b  Algorithm_C11  ...  \\\n",
       "0                  0                  0              0  ...   \n",
       "2                  0                  0              0  ...   \n",
       "5                  0                  0              0  ...   \n",
       "7                  0                  0              0  ...   \n",
       "9                  0                  0              0  ...   \n",
       "\n",
       "   ProofType_PoW/PoS  ProofType_PoW/PoS   ProofType_PoW/PoW  \\\n",
       "0                  1                   0                  0   \n",
       "2                  1                   0                  0   \n",
       "5                  1                   0                  0   \n",
       "7                  0                   0                  0   \n",
       "9                  0                   0                  0   \n",
       "\n",
       "   ProofType_PoW/nPoS  ProofType_Pos  ProofType_Proof of Authority  \\\n",
       "0                   0              0                             0   \n",
       "2                   0              0                             0   \n",
       "5                   0              0                             0   \n",
       "7                   0              0                             0   \n",
       "9                   0              0                             0   \n",
       "\n",
       "   ProofType_Proof of Trust  ProofType_TPoS  ProofType_Zero-Knowledge Proof  \\\n",
       "0                         0               0                               0   \n",
       "2                         0               0                               0   \n",
       "5                         0               0                               0   \n",
       "7                         0               0                               0   \n",
       "9                         0               0                               0   \n",
       "\n",
       "   ProofType_dPoW/PoW  \n",
       "0                   0  \n",
       "2                   0  \n",
       "5                   0  \n",
       "7                   0  \n",
       "9                   0  \n",
       "\n",
       "[5 rows x 105 columns]"
      ]
     },
     "execution_count": 174,
     "metadata": {},
     "output_type": "execute_result"
    }
   ],
   "source": [
    "# Create dummy variables for text features\n",
    "# -- delete\n",
    "# test = crypto_df.copy()\n",
    "# # df.dtypes[df.dtypes == 'float64'].index.tolist()\n",
    "# -- end delete\n",
    "# # get a list of object types\n",
    "obj_columns = crypto_df.dtypes[crypto_df.dtypes == 'object'].index.tolist()\n",
    "# convert text columns to dummies\n",
    "crypto_df = pd.get_dummies(crypto_df, columns= obj_columns)\n",
    "crypto_df.head()"
   ]
  },
  {
   "cell_type": "code",
   "execution_count": 175,
   "metadata": {},
   "outputs": [
    {
     "name": "stdout",
     "output_type": "stream",
     "text": [
      "[[-0.09782131 -0.03965512 -0.03965258 -0.03965258 -0.03965258 -0.05612135\n",
      "  -0.07949286 -0.03965258 -0.03965258 -0.05612135 -0.03965258 -0.03965258\n",
      "  -0.18913582 -0.05612135 -0.03965258 -0.03965258 -0.07949286 -0.03965258\n",
      "  -0.08894601 -0.06878853 -0.03965258 -0.03965258 -0.17052613 -0.03965258\n",
      "  -0.03965258 -0.13856406 -0.03965258 -0.03965258 -0.06878853 -0.03965258\n",
      "  -0.03965258 -0.03965258 -0.03965258 -0.06878853 -0.03965258 -0.07949286\n",
      "  -0.08894601 -0.07949286 -0.03965258 -0.03965258 -0.11971303 -0.13255899\n",
      "  -0.14433757 -0.03965258 -0.05612135 -0.03965258 -0.06878853 -0.17052613\n",
      "  -0.03965258 -0.03965258 -0.03965258 -0.05612135 -0.18004141 -0.33998043\n",
      "  -0.03965258 -0.08894601 -0.06878853 -0.05612135 -0.03965258  1.42090019\n",
      "  -0.06878853 -0.03965258 -0.03965258 -0.06878853 -0.06878853 -0.03965258\n",
      "  -0.03965258 -0.03965258 -0.03965258 -0.03965258 -0.03965258 -0.03965258\n",
      "  -0.4108617  -0.03965258 -0.18004141 -0.03965258 -0.09751265 -0.07949286\n",
      "  -0.09751265 -0.03965258 -0.03965258 -0.03965258 -0.11277677 -0.03965258\n",
      "  -0.03965258 -0.03965258 -0.03965258 -0.03965258 -0.06878853 -0.41866067\n",
      "  -0.03965258 -0.03965258 -0.9435082  -0.03965258 -0.03965258  1.42090019\n",
      "  -0.03965258 -0.03965258 -0.03965258 -0.03965258 -0.03965258 -0.03965258\n",
      "  -0.03965258 -0.03965258 -0.03965258]]\n"
     ]
    }
   ],
   "source": [
    "# Standardize data\n",
    "# test = crypto_df.copy()\n",
    "cryto_scaled = StandardScaler().fit_transform(crypto_df)\n",
    "print(cryto_scaled[:1])\n"
   ]
  },
  {
   "cell_type": "markdown",
   "metadata": {},
   "source": [
    "### Reducing Dimensions Using PCA"
   ]
  },
  {
   "cell_type": "code",
   "execution_count": 176,
   "metadata": {},
   "outputs": [],
   "source": [
    "# Use PCA to reduce dimensions to 3 principal components\n",
    "pca = PCA(n_components=3)\n",
    "crypto_pca = pca.fit_transform(cryto_scaled)"
   ]
  },
  {
   "cell_type": "code",
   "execution_count": 177,
   "metadata": {},
   "outputs": [
    {
     "data": {
      "text/html": [
       "<div>\n",
       "<style scoped>\n",
       "    .dataframe tbody tr th:only-of-type {\n",
       "        vertical-align: middle;\n",
       "    }\n",
       "\n",
       "    .dataframe tbody tr th {\n",
       "        vertical-align: top;\n",
       "    }\n",
       "\n",
       "    .dataframe thead th {\n",
       "        text-align: right;\n",
       "    }\n",
       "</style>\n",
       "<table border=\"1\" class=\"dataframe\">\n",
       "  <thead>\n",
       "    <tr style=\"text-align: right;\">\n",
       "      <th></th>\n",
       "      <th>PC 1</th>\n",
       "      <th>PC 2</th>\n",
       "      <th>PC 3</th>\n",
       "    </tr>\n",
       "  </thead>\n",
       "  <tbody>\n",
       "    <tr>\n",
       "      <th>0</th>\n",
       "      <td>-0.175351</td>\n",
       "      <td>-1.198256</td>\n",
       "      <td>-0.536964</td>\n",
       "    </tr>\n",
       "    <tr>\n",
       "      <th>2</th>\n",
       "      <td>-0.160733</td>\n",
       "      <td>-1.195831</td>\n",
       "      <td>-0.537458</td>\n",
       "    </tr>\n",
       "    <tr>\n",
       "      <th>5</th>\n",
       "      <td>0.443656</td>\n",
       "      <td>-1.900323</td>\n",
       "      <td>-0.614962</td>\n",
       "    </tr>\n",
       "    <tr>\n",
       "      <th>7</th>\n",
       "      <td>-0.260557</td>\n",
       "      <td>1.370584</td>\n",
       "      <td>0.196769</td>\n",
       "    </tr>\n",
       "    <tr>\n",
       "      <th>9</th>\n",
       "      <td>-0.353428</td>\n",
       "      <td>1.038882</td>\n",
       "      <td>-0.008358</td>\n",
       "    </tr>\n",
       "  </tbody>\n",
       "</table>\n",
       "</div>"
      ],
      "text/plain": [
       "       PC 1      PC 2      PC 3\n",
       "0 -0.175351 -1.198256 -0.536964\n",
       "2 -0.160733 -1.195831 -0.537458\n",
       "5  0.443656 -1.900323 -0.614962\n",
       "7 -0.260557  1.370584  0.196769\n",
       "9 -0.353428  1.038882 -0.008358"
      ]
     },
     "execution_count": 177,
     "metadata": {},
     "output_type": "execute_result"
    }
   ],
   "source": [
    "# Create a DataFrame with the principal components data\n",
    "# df_iris_pca = pd.DataFrame(\n",
    "#     data=iris_pca, columns=[\"principal component 1\", \"principal component 2\"]\n",
    "# )\n",
    "# df_iris_pca.head()\n",
    "pcs_df  = pd.DataFrame(\n",
    "    data=crypto_pca, columns=[\"PC 1\", \"PC 2\", \"PC 3\"], index = crypto_df.index\n",
    ")\n",
    "pcs_df.head()"
   ]
  },
  {
   "cell_type": "markdown",
   "metadata": {},
   "source": [
    "### Clustering Crytocurrencies Using K-Means\n",
    "\n",
    "#### Find the Best Value for `k` Using the Elbow Curve"
   ]
  },
  {
   "cell_type": "code",
   "execution_count": 178,
   "metadata": {},
   "outputs": [
    {
     "name": "stderr",
     "output_type": "stream",
     "text": [
      "C:\\Users\\Hassan\\Anaconda3\\envs\\pyvizenv\\lib\\site-packages\\sklearn\\cluster\\_kmeans.py:882: UserWarning:\n",
      "\n",
      "KMeans is known to have a memory leak on Windows with MKL, when there are less chunks than available threads. You can avoid it by setting the environment variable OMP_NUM_THREADS=3.\n",
      "\n"
     ]
    }
   ],
   "source": [
    "inertia = []\n",
    "k = list(range(1, 11))\n",
    "\n",
    "# Calculate the inertia for the range of k values\n",
    "for i in k:\n",
    "    km = KMeans(n_clusters=i, random_state=0)\n",
    "    km.fit(pcs_df)\n",
    "    inertia.append(km.inertia_)\n",
    "\n",
    "# Create the Elbow Curve using hvPlot\n",
    "elbow_data = {\"k\": k, \"inertia\": inertia}\n",
    "df_elbow = pd.DataFrame(elbow_data)\n",
    "# df_elbow.hvplot.line(x=\"k\", y=\"inertia\", xticks=k, title=\"Elbow Curve\")\n",
    "\n",
    "# show(hv.render(plot))"
   ]
  },
  {
   "cell_type": "code",
   "execution_count": 179,
   "metadata": {},
   "outputs": [
    {
     "data": {
      "text/html": [
       "\n",
       "<div id=\"altair-viz-5d590bb2393a4566aadffaf95c37e0ab\"></div>\n",
       "<script type=\"text/javascript\">\n",
       "  (function(spec, embedOpt){\n",
       "    let outputDiv = document.currentScript.previousElementSibling;\n",
       "    if (outputDiv.id !== \"altair-viz-5d590bb2393a4566aadffaf95c37e0ab\") {\n",
       "      outputDiv = document.getElementById(\"altair-viz-5d590bb2393a4566aadffaf95c37e0ab\");\n",
       "    }\n",
       "    const paths = {\n",
       "      \"vega\": \"https://cdn.jsdelivr.net/npm//vega@5?noext\",\n",
       "      \"vega-lib\": \"https://cdn.jsdelivr.net/npm//vega-lib?noext\",\n",
       "      \"vega-lite\": \"https://cdn.jsdelivr.net/npm//vega-lite@4.8.1?noext\",\n",
       "      \"vega-embed\": \"https://cdn.jsdelivr.net/npm//vega-embed@6?noext\",\n",
       "    };\n",
       "\n",
       "    function loadScript(lib) {\n",
       "      return new Promise(function(resolve, reject) {\n",
       "        var s = document.createElement('script');\n",
       "        s.src = paths[lib];\n",
       "        s.async = true;\n",
       "        s.onload = () => resolve(paths[lib]);\n",
       "        s.onerror = () => reject(`Error loading script: ${paths[lib]}`);\n",
       "        document.getElementsByTagName(\"head\")[0].appendChild(s);\n",
       "      });\n",
       "    }\n",
       "\n",
       "    function showError(err) {\n",
       "      outputDiv.innerHTML = `<div class=\"error\" style=\"color:red;\">${err}</div>`;\n",
       "      throw err;\n",
       "    }\n",
       "\n",
       "    function displayChart(vegaEmbed) {\n",
       "      vegaEmbed(outputDiv, spec, embedOpt)\n",
       "        .catch(err => showError(`Javascript Error: ${err.message}<br>This usually means there's a typo in your chart specification. See the javascript console for the full traceback.`));\n",
       "    }\n",
       "\n",
       "    if(typeof define === \"function\" && define.amd) {\n",
       "      requirejs.config({paths});\n",
       "      require([\"vega-embed\"], displayChart, err => showError(`Error loading script: ${err.message}`));\n",
       "    } else if (typeof vegaEmbed === \"function\") {\n",
       "      displayChart(vegaEmbed);\n",
       "    } else {\n",
       "      loadScript(\"vega\")\n",
       "        .then(() => loadScript(\"vega-lite\"))\n",
       "        .then(() => loadScript(\"vega-embed\"))\n",
       "        .catch(showError)\n",
       "        .then(() => displayChart(vegaEmbed));\n",
       "    }\n",
       "  })({\"config\": {\"view\": {\"continuousWidth\": 400, \"continuousHeight\": 300}}, \"data\": {\"name\": \"data-6e024f2811de3c80f4972809cd27858a\"}, \"mark\": \"line\", \"encoding\": {\"x\": {\"type\": \"quantitative\", \"field\": \"k\"}, \"y\": {\"type\": \"quantitative\", \"field\": \"inertia\"}}, \"$schema\": \"https://vega.github.io/schema/vega-lite/v4.8.1.json\", \"datasets\": {\"data-6e024f2811de3c80f4972809cd27858a\": [{\"k\": 1, \"inertia\": 4061.0200020957277}, {\"k\": 2, \"inertia\": 2853.367450133743}, {\"k\": 3, \"inertia\": 1669.0077732717566}, {\"k\": 4, \"inertia\": 597.9986113658482}, {\"k\": 5, \"inertia\": 316.8377557595051}, {\"k\": 6, \"inertia\": 245.43940378400723}, {\"k\": 7, \"inertia\": 185.48747724303763}, {\"k\": 8, \"inertia\": 153.44474971592223}, {\"k\": 9, \"inertia\": 124.37272374525502}, {\"k\": 10, \"inertia\": 106.34543604003834}]}}, {\"mode\": \"vega-lite\"});\n",
       "</script>"
      ],
      "text/plain": [
       "alt.Chart(...)"
      ]
     },
     "execution_count": 179,
     "metadata": {},
     "output_type": "execute_result"
    }
   ],
   "source": [
    "# altair plot\n",
    "# import altair as alt\n",
    "# import numpy as np\n",
    "# import pandas as pd\n",
    "\n",
    "# x = np.arange(100)\n",
    "# source = pd.DataFrame({\n",
    "#   'x': x,\n",
    "#   'f(x)': np.sin(x / 5)\n",
    "# })\n",
    "\n",
    "alt.Chart(df_elbow).mark_line().encode(\n",
    "    x='k',\n",
    "    y='inertia'\n",
    ")"
   ]
  },
  {
   "cell_type": "markdown",
   "metadata": {},
   "source": [
    "Running K-Means with `k=<your best value for k here>`"
   ]
  },
  {
   "cell_type": "code",
   "execution_count": 180,
   "metadata": {},
   "outputs": [
    {
     "data": {
      "text/html": [
       "<div>\n",
       "<style scoped>\n",
       "    .dataframe tbody tr th:only-of-type {\n",
       "        vertical-align: middle;\n",
       "    }\n",
       "\n",
       "    .dataframe tbody tr th {\n",
       "        vertical-align: top;\n",
       "    }\n",
       "\n",
       "    .dataframe thead th {\n",
       "        text-align: right;\n",
       "    }\n",
       "</style>\n",
       "<table border=\"1\" class=\"dataframe\">\n",
       "  <thead>\n",
       "    <tr style=\"text-align: right;\">\n",
       "      <th></th>\n",
       "      <th>PC 1</th>\n",
       "      <th>PC 2</th>\n",
       "      <th>PC 3</th>\n",
       "      <th>Class</th>\n",
       "    </tr>\n",
       "  </thead>\n",
       "  <tbody>\n",
       "    <tr>\n",
       "      <th>0</th>\n",
       "      <td>-0.175351</td>\n",
       "      <td>-1.198256</td>\n",
       "      <td>-0.536964</td>\n",
       "      <td>0</td>\n",
       "    </tr>\n",
       "    <tr>\n",
       "      <th>2</th>\n",
       "      <td>-0.160733</td>\n",
       "      <td>-1.195831</td>\n",
       "      <td>-0.537458</td>\n",
       "      <td>0</td>\n",
       "    </tr>\n",
       "    <tr>\n",
       "      <th>5</th>\n",
       "      <td>0.443656</td>\n",
       "      <td>-1.900323</td>\n",
       "      <td>-0.614962</td>\n",
       "      <td>0</td>\n",
       "    </tr>\n",
       "    <tr>\n",
       "      <th>7</th>\n",
       "      <td>-0.260557</td>\n",
       "      <td>1.370584</td>\n",
       "      <td>0.196769</td>\n",
       "      <td>1</td>\n",
       "    </tr>\n",
       "    <tr>\n",
       "      <th>9</th>\n",
       "      <td>-0.353428</td>\n",
       "      <td>1.038882</td>\n",
       "      <td>-0.008358</td>\n",
       "      <td>1</td>\n",
       "    </tr>\n",
       "  </tbody>\n",
       "</table>\n",
       "</div>"
      ],
      "text/plain": [
       "       PC 1      PC 2      PC 3  Class\n",
       "0 -0.175351 -1.198256 -0.536964      0\n",
       "2 -0.160733 -1.195831 -0.537458      0\n",
       "5  0.443656 -1.900323 -0.614962      0\n",
       "7 -0.260557  1.370584  0.196769      1\n",
       "9 -0.353428  1.038882 -0.008358      1"
      ]
     },
     "execution_count": 180,
     "metadata": {},
     "output_type": "execute_result"
    }
   ],
   "source": [
    "# Initialize the K-Means model\n",
    "model = KMeans(n_clusters=4, random_state=0)\n",
    "# Fit the model\n",
    "model.fit(pcs_df)\n",
    "# Predict clusters\n",
    "predictions = model.predict(pcs_df)\n",
    "# Create a new DataFrame including predicted clusters and cryptocurrencies features\n",
    "pcs_df[\"Class\"] = model.labels_\n",
    "pcs_df.head()"
   ]
  },
  {
   "cell_type": "code",
   "execution_count": 181,
   "metadata": {},
   "outputs": [
    {
     "data": {
      "text/html": [
       "<div>\n",
       "<style scoped>\n",
       "    .dataframe tbody tr th:only-of-type {\n",
       "        vertical-align: middle;\n",
       "    }\n",
       "\n",
       "    .dataframe tbody tr th {\n",
       "        vertical-align: top;\n",
       "    }\n",
       "\n",
       "    .dataframe thead th {\n",
       "        text-align: right;\n",
       "    }\n",
       "</style>\n",
       "<table border=\"1\" class=\"dataframe\">\n",
       "  <thead>\n",
       "    <tr style=\"text-align: right;\">\n",
       "      <th></th>\n",
       "      <th>CoinName</th>\n",
       "      <th>Algorithm</th>\n",
       "      <th>ProofType</th>\n",
       "      <th>TotalCoinsMined</th>\n",
       "      <th>TotalCoinSupply</th>\n",
       "      <th>PC 1</th>\n",
       "      <th>PC 2</th>\n",
       "      <th>PC 3</th>\n",
       "      <th>Class</th>\n",
       "    </tr>\n",
       "  </thead>\n",
       "  <tbody>\n",
       "    <tr>\n",
       "      <th>0</th>\n",
       "      <td>42 Coin</td>\n",
       "      <td>Scrypt</td>\n",
       "      <td>PoW/PoS</td>\n",
       "      <td>4.199995e+01</td>\n",
       "      <td>4.200000e+01</td>\n",
       "      <td>-0.175351</td>\n",
       "      <td>-1.198256</td>\n",
       "      <td>-0.536964</td>\n",
       "      <td>0</td>\n",
       "    </tr>\n",
       "    <tr>\n",
       "      <th>2</th>\n",
       "      <td>404Coin</td>\n",
       "      <td>Scrypt</td>\n",
       "      <td>PoW/PoS</td>\n",
       "      <td>1.055185e+09</td>\n",
       "      <td>5.320000e+08</td>\n",
       "      <td>-0.160733</td>\n",
       "      <td>-1.195831</td>\n",
       "      <td>-0.537458</td>\n",
       "      <td>0</td>\n",
       "    </tr>\n",
       "    <tr>\n",
       "      <th>5</th>\n",
       "      <td>EliteCoin</td>\n",
       "      <td>X13</td>\n",
       "      <td>PoW/PoS</td>\n",
       "      <td>2.927942e+10</td>\n",
       "      <td>3.141593e+11</td>\n",
       "      <td>0.443656</td>\n",
       "      <td>-1.900323</td>\n",
       "      <td>-0.614962</td>\n",
       "      <td>0</td>\n",
       "    </tr>\n",
       "    <tr>\n",
       "      <th>7</th>\n",
       "      <td>Bitcoin</td>\n",
       "      <td>SHA-256</td>\n",
       "      <td>PoW</td>\n",
       "      <td>1.792718e+07</td>\n",
       "      <td>2.100000e+07</td>\n",
       "      <td>-0.260557</td>\n",
       "      <td>1.370584</td>\n",
       "      <td>0.196769</td>\n",
       "      <td>1</td>\n",
       "    </tr>\n",
       "    <tr>\n",
       "      <th>9</th>\n",
       "      <td>Litecoin</td>\n",
       "      <td>Scrypt</td>\n",
       "      <td>PoW</td>\n",
       "      <td>6.303924e+07</td>\n",
       "      <td>8.400000e+07</td>\n",
       "      <td>-0.353428</td>\n",
       "      <td>1.038882</td>\n",
       "      <td>-0.008358</td>\n",
       "      <td>1</td>\n",
       "    </tr>\n",
       "  </tbody>\n",
       "</table>\n",
       "</div>"
      ],
      "text/plain": [
       "    CoinName Algorithm ProofType  TotalCoinsMined  TotalCoinSupply      PC 1  \\\n",
       "0    42 Coin    Scrypt   PoW/PoS     4.199995e+01     4.200000e+01 -0.175351   \n",
       "2    404Coin    Scrypt   PoW/PoS     1.055185e+09     5.320000e+08 -0.160733   \n",
       "5  EliteCoin       X13   PoW/PoS     2.927942e+10     3.141593e+11  0.443656   \n",
       "7    Bitcoin   SHA-256       PoW     1.792718e+07     2.100000e+07 -0.260557   \n",
       "9   Litecoin    Scrypt       PoW     6.303924e+07     8.400000e+07 -0.353428   \n",
       "\n",
       "       PC 2      PC 3  Class  \n",
       "0 -1.198256 -0.536964      0  \n",
       "2 -1.195831 -0.537458      0  \n",
       "5 -1.900323 -0.614962      0  \n",
       "7  1.370584  0.196769      1  \n",
       "9  1.038882 -0.008358      1  "
      ]
     },
     "execution_count": 181,
     "metadata": {},
     "output_type": "execute_result"
    }
   ],
   "source": [
    "# clustered_df = pd.concat ([coin_df, df_crypto_pca], join = 'outer')\n",
    "# clustered_df.head()\n",
    "clustered_df = coin_df.copy().dropna()\n",
    "\n",
    "col_list = pcs_df.columns.tolist()\n",
    "for columnName in col_list:\n",
    "    clustered_df[columnName] = pcs_df[columnName]\n",
    "clustered_df.head()\n"
   ]
  },
  {
   "cell_type": "markdown",
   "metadata": {},
   "source": [
    "### Visualizing Results\n",
    "\n",
    "#### 3D-Scatter with Clusters"
   ]
  },
  {
   "cell_type": "code",
   "execution_count": 182,
   "metadata": {},
   "outputs": [
    {
     "data": {
      "application/vnd.plotly.v1+json": {
       "config": {
        "plotlyServerURL": "https://plot.ly"
       },
       "data": [
        {
         "customdata": [
          [
           "Scrypt"
          ],
          [
           "Scrypt"
          ],
          [
           "X13"
          ],
          [
           "SHA-256"
          ],
          [
           "Scrypt"
          ],
          [
           "X11"
          ],
          [
           "Ethash"
          ],
          [
           "Equihash"
          ],
          [
           "SHA-512"
          ],
          [
           "Multiple"
          ],
          [
           "SHA-256"
          ],
          [
           "X11"
          ],
          [
           "SHA-256"
          ],
          [
           "Scrypt"
          ],
          [
           "X15"
          ],
          [
           "X11"
          ],
          [
           "SHA-256"
          ],
          [
           "X13"
          ],
          [
           "X13"
          ],
          [
           "Scrypt"
          ],
          [
           "Scrypt"
          ],
          [
           "Scrypt"
          ],
          [
           "SHA-256"
          ],
          [
           "Multiple"
          ],
          [
           "Scrypt"
          ],
          [
           "SHA-256"
          ],
          [
           "Scrypt"
          ],
          [
           "Scrypt"
          ],
          [
           "Quark"
          ],
          [
           "Groestl"
          ],
          [
           "Scrypt"
          ],
          [
           "X11"
          ],
          [
           "Scrypt"
          ],
          [
           "Scrypt"
          ],
          [
           "Scrypt"
          ],
          [
           "Scrypt"
          ],
          [
           "Scrypt"
          ],
          [
           "Scrypt"
          ],
          [
           "Multiple"
          ],
          [
           "Scrypt"
          ],
          [
           "X11"
          ],
          [
           "Scrypt"
          ],
          [
           "Groestl"
          ],
          [
           "Multiple"
          ],
          [
           "X11"
          ],
          [
           "Scrypt"
          ],
          [
           "SHA-256"
          ],
          [
           "Scrypt"
          ],
          [
           "Scrypt"
          ],
          [
           "Scrypt"
          ],
          [
           "Scrypt"
          ],
          [
           "Scrypt"
          ],
          [
           "Scrypt"
          ],
          [
           "X11"
          ],
          [
           "NIST5"
          ],
          [
           "SHA-256"
          ],
          [
           "Scrypt"
          ],
          [
           "NeoScrypt"
          ],
          [
           "Scrypt"
          ],
          [
           "Scrypt"
          ],
          [
           "Scrypt"
          ],
          [
           "X11"
          ],
          [
           "Scrypt"
          ],
          [
           "Multiple"
          ],
          [
           "Scrypt"
          ],
          [
           "X11"
          ],
          [
           "SHA-256"
          ],
          [
           "X11"
          ],
          [
           "X13"
          ],
          [
           "Scrypt"
          ],
          [
           "Scrypt"
          ],
          [
           "Scrypt"
          ],
          [
           "Scrypt"
          ],
          [
           "X11"
          ],
          [
           "SHA3"
          ],
          [
           "Scrypt"
          ],
          [
           "HybridScryptHash256"
          ],
          [
           "Scrypt"
          ],
          [
           "SHA-256"
          ],
          [
           "Scrypt"
          ],
          [
           "SHA-256"
          ],
          [
           "Scrypt"
          ],
          [
           "SHA-256"
          ],
          [
           "Scrypt"
          ],
          [
           "NeoScrypt"
          ],
          [
           "Scrypt"
          ],
          [
           "Scrypt"
          ],
          [
           "Scrypt"
          ],
          [
           "Scrypt"
          ],
          [
           "Scrypt"
          ],
          [
           "X15"
          ],
          [
           "Scrypt"
          ],
          [
           "Scrypt"
          ],
          [
           "Scrypt-n"
          ],
          [
           "Scrypt"
          ],
          [
           "X11"
          ],
          [
           "SHA-256"
          ],
          [
           "Multiple"
          ],
          [
           "SHA-256"
          ],
          [
           "PHI1612"
          ],
          [
           "X11"
          ],
          [
           "SHA-256"
          ],
          [
           "SHA-256"
          ],
          [
           "SHA-256"
          ],
          [
           "SHA-256"
          ],
          [
           "Scrypt"
          ],
          [
           "Scrypt"
          ],
          [
           "Scrypt"
          ],
          [
           "Lyra2REv2"
          ],
          [
           "Scrypt"
          ],
          [
           "Scrypt"
          ],
          [
           "X11"
          ],
          [
           "SHA-256"
          ],
          [
           "Scrypt"
          ],
          [
           "Scrypt"
          ],
          [
           "CryptoNight"
          ],
          [
           "CryptoNight"
          ],
          [
           "Shabal256"
          ],
          [
           "Counterparty"
          ],
          [
           "Scrypt"
          ],
          [
           "SHA-256"
          ],
          [
           "SHA-256"
          ],
          [
           "Scrypt"
          ],
          [
           "Scrypt"
          ],
          [
           "Scrypt"
          ],
          [
           "X13"
          ],
          [
           "Scrypt"
          ],
          [
           "Scrypt"
          ],
          [
           "Scrypt"
          ],
          [
           "SHA-256"
          ],
          [
           "X13"
          ],
          [
           "X13"
          ],
          [
           "Scrypt"
          ],
          [
           "X11"
          ],
          [
           "Momentum"
          ],
          [
           "Stanford Folding"
          ],
          [
           "X11"
          ],
          [
           "Scrypt"
          ],
          [
           "Scrypt"
          ],
          [
           "Scrypt"
          ],
          [
           "M7 POW"
          ],
          [
           "Scrypt"
          ],
          [
           "X11"
          ],
          [
           "Scrypt"
          ],
          [
           "SHA-256"
          ],
          [
           "Scrypt"
          ],
          [
           "X11"
          ],
          [
           "SHA3"
          ],
          [
           "X11"
          ],
          [
           "Lyra2RE"
          ],
          [
           "SHA-256"
          ],
          [
           "QUAIT"
          ],
          [
           "X11"
          ],
          [
           "Scrypt"
          ],
          [
           "Scrypt"
          ],
          [
           "Scrypt"
          ],
          [
           "Ethash"
          ],
          [
           "X11"
          ],
          [
           "X13"
          ],
          [
           "SHA-256"
          ],
          [
           "X13"
          ],
          [
           "X15"
          ],
          [
           "X11"
          ],
          [
           "SHA-256"
          ],
          [
           "BLAKE256"
          ],
          [
           "Scrypt"
          ],
          [
           "Scrypt"
          ],
          [
           "1GB AES Pattern Search"
          ],
          [
           "SHA-256"
          ],
          [
           "X11"
          ],
          [
           "Scrypt"
          ],
          [
           "CryptoNight"
          ],
          [
           "SHA-256"
          ],
          [
           "Quark"
          ],
          [
           "SHA-256"
          ],
          [
           "Blake"
          ],
          [
           "Scrypt"
          ],
          [
           "Scrypt"
          ],
          [
           "SHA-256"
          ],
          [
           "X11"
          ],
          [
           "Scrypt"
          ],
          [
           "Scrypt-n"
          ],
          [
           "X11"
          ],
          [
           "Scrypt"
          ],
          [
           "Dagger"
          ],
          [
           "Scrypt"
          ],
          [
           "SHA-256"
          ],
          [
           "CryptoNight-Lite"
          ],
          [
           "X11GOST"
          ],
          [
           "X11"
          ],
          [
           "SHA-256"
          ],
          [
           "Scrypt"
          ],
          [
           "SHA-256"
          ],
          [
           "Scrypt"
          ],
          [
           "PoS"
          ],
          [
           "Scrypt"
          ],
          [
           "X11"
          ],
          [
           "X11"
          ],
          [
           "X11"
          ],
          [
           "X11"
          ],
          [
           "PoS"
          ],
          [
           "SHA-256"
          ],
          [
           "SHA-256"
          ],
          [
           "SHA-256"
          ],
          [
           "NIST5"
          ],
          [
           "X15"
          ],
          [
           "X11"
          ],
          [
           "NIST5"
          ],
          [
           "Scrypt"
          ],
          [
           "Scrypt"
          ],
          [
           "Scrypt"
          ],
          [
           "POS 3.0"
          ],
          [
           "Scrypt"
          ],
          [
           "Scrypt"
          ],
          [
           "Scrypt"
          ],
          [
           "X13"
          ],
          [
           "X11"
          ],
          [
           "X11"
          ],
          [
           "Equihash"
          ],
          [
           "X11"
          ],
          [
           "X11"
          ],
          [
           "Scrypt"
          ],
          [
           "CryptoNight"
          ],
          [
           "SHA-256"
          ],
          [
           "SHA-256"
          ],
          [
           "X11"
          ],
          [
           "Scrypt"
          ],
          [
           "Multiple"
          ],
          [
           "Scrypt"
          ],
          [
           "X11"
          ],
          [
           "SHA-256"
          ],
          [
           "Scrypt"
          ],
          [
           "Scrypt"
          ],
          [
           "SHA-256D"
          ],
          [
           "PoS"
          ],
          [
           "Scrypt"
          ],
          [
           "X11"
          ],
          [
           "Scrypt-n"
          ],
          [
           "Lyra2Z"
          ],
          [
           "SHA-256"
          ],
          [
           "PoS"
          ],
          [
           "X13"
          ],
          [
           "Quark"
          ],
          [
           "X14"
          ],
          [
           "PoS"
          ],
          [
           "SHA-256D"
          ],
          [
           "Ethash"
          ],
          [
           "SHA-256"
          ],
          [
           "Equihash"
          ],
          [
           "DPoS"
          ],
          [
           "X11"
          ],
          [
           "Scrypt"
          ],
          [
           "Scrypt"
          ],
          [
           "Equihash"
          ],
          [
           "X11"
          ],
          [
           "X13"
          ],
          [
           "X11"
          ],
          [
           "PoS"
          ],
          [
           "SHA-256D"
          ],
          [
           "Scrypt"
          ],
          [
           "Scrypt"
          ],
          [
           "Scrypt"
          ],
          [
           "X11"
          ],
          [
           "PoS"
          ],
          [
           "X11"
          ],
          [
           "SHA-256"
          ],
          [
           "Scrypt"
          ],
          [
           "X11"
          ],
          [
           "Scrypt"
          ],
          [
           "Scrypt"
          ],
          [
           "X11"
          ],
          [
           "CryptoNight"
          ],
          [
           "Scrypt"
          ],
          [
           "Scrypt"
          ],
          [
           "Scrypt"
          ],
          [
           "Scrypt"
          ],
          [
           "Quark"
          ],
          [
           "QuBit"
          ],
          [
           "Scrypt"
          ],
          [
           "CryptoNight"
          ],
          [
           "X11"
          ],
          [
           "Lyra2RE"
          ],
          [
           "X13"
          ],
          [
           "PoS"
          ],
          [
           "Scrypt"
          ],
          [
           "SHA-256"
          ],
          [
           "X11"
          ],
          [
           "X11"
          ],
          [
           "X11"
          ],
          [
           "Scrypt"
          ],
          [
           "X11"
          ],
          [
           "Scrypt"
          ],
          [
           "Scrypt"
          ],
          [
           "CryptoNight-V7"
          ],
          [
           "Scrypt"
          ],
          [
           "Scrypt"
          ],
          [
           "Keccak"
          ],
          [
           "Scrypt"
          ],
          [
           "X13"
          ],
          [
           "X11"
          ],
          [
           "Equihash"
          ],
          [
           "Scrypt"
          ],
          [
           "Scrypt"
          ],
          [
           "Lyra2RE"
          ],
          [
           "Ethash"
          ],
          [
           "X11"
          ],
          [
           "Scrypt"
          ],
          [
           "Dagger-Hashimoto"
          ],
          [
           "X11"
          ],
          [
           "Blake2S"
          ],
          [
           "X11"
          ],
          [
           "Scrypt"
          ],
          [
           "Scrypt"
          ],
          [
           "PoS"
          ],
          [
           "X11"
          ],
          [
           "NIST5"
          ],
          [
           "PoS"
          ],
          [
           "X11"
          ],
          [
           "Scrypt"
          ],
          [
           "Scrypt"
          ],
          [
           "Scrypt"
          ],
          [
           "Scrypt"
          ],
          [
           "SHA-256"
          ],
          [
           "X11"
          ],
          [
           "Scrypt"
          ],
          [
           "Scrypt"
          ],
          [
           "Scrypt"
          ],
          [
           "SHA-256"
          ],
          [
           "PoS"
          ],
          [
           "Scrypt"
          ],
          [
           "X11"
          ],
          [
           "X15"
          ],
          [
           "SHA-256"
          ],
          [
           "Scrypt"
          ],
          [
           "POS 3.0"
          ],
          [
           "CryptoNight-V7"
          ],
          [
           "536"
          ],
          [
           "Blake2b"
          ],
          [
           "Cloverhash"
          ],
          [
           "CryptoNight"
          ],
          [
           "NIST5"
          ],
          [
           "X11"
          ],
          [
           "NIST5"
          ],
          [
           "Skein"
          ],
          [
           "Scrypt"
          ],
          [
           "X13"
          ],
          [
           "Scrypt"
          ],
          [
           "X11"
          ],
          [
           "X11"
          ],
          [
           "X11"
          ],
          [
           "Scrypt"
          ],
          [
           "CryptoNight"
          ],
          [
           "X13"
          ],
          [
           "Time Travel"
          ],
          [
           "Scrypt"
          ],
          [
           "Keccak"
          ],
          [
           "SkunkHash v2 Raptor"
          ],
          [
           "X11"
          ],
          [
           "Skein"
          ],
          [
           "SHA-256"
          ],
          [
           "X11"
          ],
          [
           "Scrypt"
          ],
          [
           "Scrypt"
          ],
          [
           "VeChainThor Authority"
          ],
          [
           "Scrypt"
          ],
          [
           "PoS"
          ],
          [
           "Scrypt"
          ],
          [
           "Scrypt"
          ],
          [
           "Scrypt"
          ],
          [
           "Scrypt"
          ],
          [
           "Scrypt"
          ],
          [
           "Scrypt"
          ],
          [
           "Scrypt"
          ],
          [
           "CryptoNight"
          ],
          [
           "SHA-512"
          ],
          [
           "Ouroboros"
          ],
          [
           "X11"
          ],
          [
           "Equihash"
          ],
          [
           "NeoScrypt"
          ],
          [
           "X11"
          ],
          [
           "Scrypt"
          ],
          [
           "NeoScrypt"
          ],
          [
           "Lyra2REv2"
          ],
          [
           "Equihash"
          ],
          [
           "Scrypt"
          ],
          [
           "SHA-256"
          ],
          [
           "NIST5"
          ],
          [
           "PHI1612"
          ],
          [
           "Dagger"
          ],
          [
           "Scrypt"
          ],
          [
           "Quark"
          ],
          [
           "Scrypt"
          ],
          [
           "POS 2.0"
          ],
          [
           "Scrypt"
          ],
          [
           "SkunkHash"
          ],
          [
           "X11"
          ],
          [
           "Quark"
          ],
          [
           "SHA-256"
          ],
          [
           "X11"
          ],
          [
           "NeoScrypt"
          ],
          [
           "Scrypt"
          ],
          [
           "Ethash"
          ],
          [
           "Scrypt"
          ],
          [
           "NeoScrypt"
          ],
          [
           "Quark"
          ],
          [
           "X11"
          ],
          [
           "DPoS"
          ],
          [
           "NIST5"
          ],
          [
           "X13"
          ],
          [
           "Multiple"
          ],
          [
           "Scrypt"
          ],
          [
           "CryptoNight"
          ],
          [
           "CryptoNight"
          ],
          [
           "Ethash"
          ],
          [
           "NIST5"
          ],
          [
           "Quark"
          ],
          [
           "X11"
          ],
          [
           "SHA-256"
          ],
          [
           "CryptoNight-V7"
          ],
          [
           "Scrypt"
          ],
          [
           "Scrypt"
          ],
          [
           "Scrypt"
          ],
          [
           "X11"
          ],
          [
           "SHA-256"
          ],
          [
           "BLAKE256"
          ],
          [
           "X11"
          ],
          [
           "Scrypt"
          ],
          [
           "NeoScrypt"
          ],
          [
           "Quark"
          ],
          [
           "NeoScrypt"
          ],
          [
           "Scrypt"
          ],
          [
           "Scrypt"
          ],
          [
           "Scrypt"
          ],
          [
           "X11"
          ],
          [
           "X11"
          ],
          [
           "SHA-256"
          ],
          [
           "C11"
          ],
          [
           "Scrypt"
          ],
          [
           "Scrypt"
          ],
          [
           "POS 3.0"
          ],
          [
           "Ethash"
          ],
          [
           "Scrypt"
          ],
          [
           "CryptoNight"
          ],
          [
           "SkunkHash"
          ],
          [
           "Scrypt"
          ],
          [
           "CryptoNight"
          ],
          [
           "Equihash"
          ],
          [
           "Skein"
          ],
          [
           "Scrypt"
          ],
          [
           "Dagger"
          ],
          [
           "Lyra2REv2"
          ],
          [
           "X13"
          ],
          [
           "Proof-of-BibleHash"
          ],
          [
           "SHA-256 + Hive"
          ],
          [
           "Scrypt"
          ],
          [
           "Scrypt"
          ],
          [
           "Scrypt"
          ],
          [
           "NeoScrypt"
          ],
          [
           "Equihash"
          ],
          [
           "X11"
          ],
          [
           "C11"
          ],
          [
           "Proof-of-Authority"
          ],
          [
           "X11"
          ],
          [
           "XEVAN"
          ],
          [
           "Scrypt"
          ],
          [
           "VBFT"
          ],
          [
           "Ethash"
          ],
          [
           "X11"
          ],
          [
           "CryptoNight"
          ],
          [
           "NeoScrypt"
          ],
          [
           "Scrypt"
          ],
          [
           "IMesh"
          ],
          [
           "NIST5"
          ],
          [
           "Equihash"
          ],
          [
           "Scrypt"
          ],
          [
           "Scrypt"
          ],
          [
           "Equihash"
          ],
          [
           "Equihash"
          ],
          [
           "Scrypt"
          ],
          [
           "Lyra2Z"
          ],
          [
           "Equihash"
          ],
          [
           "Green Protocol"
          ],
          [
           "PoS"
          ],
          [
           "Scrypt"
          ],
          [
           "Scrypt"
          ],
          [
           "Semux BFT consensus"
          ],
          [
           "Scrypt"
          ],
          [
           "X11"
          ],
          [
           "Quark"
          ],
          [
           "PoS"
          ],
          [
           "CryptoNight"
          ],
          [
           "X16R"
          ],
          [
           "Scrypt"
          ],
          [
           "NIST5"
          ],
          [
           "Lyra2RE"
          ],
          [
           "XEVAN"
          ],
          [
           "Tribus"
          ],
          [
           "Scrypt"
          ],
          [
           "Lyra2Z"
          ],
          [
           "CryptoNight"
          ],
          [
           "CryptoNight Heavy"
          ],
          [
           "CryptoNight"
          ],
          [
           "Scrypt"
          ],
          [
           "Scrypt"
          ],
          [
           "Jump Consistent Hash"
          ],
          [
           "SHA-256D"
          ],
          [
           "CryptoNight"
          ],
          [
           "Scrypt"
          ],
          [
           "X15"
          ],
          [
           "Scrypt"
          ],
          [
           "Quark"
          ],
          [
           "SHA-256"
          ],
          [
           "DPoS"
          ],
          [
           "X16R"
          ],
          [
           "HMQ1725"
          ],
          [
           "X11"
          ],
          [
           "X16R"
          ],
          [
           "Quark"
          ],
          [
           "Quark"
          ],
          [
           "Scrypt"
          ],
          [
           "Zhash"
          ],
          [
           "Lyra2REv2"
          ],
          [
           "Quark"
          ],
          [
           "Scrypt"
          ],
          [
           "Scrypt"
          ],
          [
           "CryptoNight-V7"
          ],
          [
           "Cryptonight-GPU"
          ],
          [
           "Scrypt"
          ],
          [
           "XEVAN"
          ],
          [
           "CryptoNight Heavy"
          ],
          [
           "X11"
          ],
          [
           "X11"
          ],
          [
           "Scrypt"
          ],
          [
           "PoS"
          ],
          [
           "Lyra2REv2"
          ],
          [
           "Scrypt"
          ],
          [
           "SHA-256"
          ],
          [
           "Scrypt"
          ],
          [
           "Keccak"
          ],
          [
           "X11"
          ],
          [
           "X11"
          ],
          [
           "Quark"
          ],
          [
           "Scrypt"
          ],
          [
           "SHA-512"
          ],
          [
           "X16R"
          ],
          [
           "ECC 256K1"
          ],
          [
           "NeoScrypt"
          ],
          [
           "Equihash"
          ],
          [
           "XEVAN"
          ],
          [
           "Quark"
          ],
          [
           "CryptoNight Heavy X"
          ],
          [
           "Lyra2Z"
          ],
          [
           "Ethash"
          ],
          [
           "SHA-256"
          ],
          [
           "XEVAN"
          ],
          [
           "Ethash"
          ],
          [
           "CryptoNight"
          ],
          [
           "Quark"
          ],
          [
           "SkunkHash"
          ],
          [
           "Quark"
          ],
          [
           "Argon2"
          ],
          [
           "Blake"
          ],
          [
           "Blake"
          ],
          [
           "SHA-256"
          ],
          [
           "Equihash"
          ],
          [
           "Exosis"
          ],
          [
           "Scrypt"
          ],
          [
           "Scrypt"
          ],
          [
           "Equihash"
          ],
          [
           "Quark"
          ],
          [
           "Equihash"
          ],
          [
           "Quark"
          ],
          [
           "Scrypt"
          ],
          [
           "QuBit"
          ],
          [
           "X11"
          ],
          [
           "Scrypt"
          ],
          [
           "Equihash1927"
          ],
          [
           "XEVAN"
          ],
          [
           "SHA-256D"
          ],
          [
           "X11"
          ],
          [
           "SHA-256"
          ],
          [
           "SHA-256"
          ],
          [
           "X13"
          ],
          [
           "SHA-256"
          ],
          [
           "X11"
          ],
          [
           "DPoS"
          ],
          [
           "X11"
          ],
          [
           "Scrypt"
          ],
          [
           "X11"
          ],
          [
           "Scrypt"
          ],
          [
           "NeoScrypt"
          ],
          [
           "Scrypt"
          ],
          [
           "Blake"
          ],
          [
           "Scrypt"
          ],
          [
           "SHA-256"
          ],
          [
           "X11"
          ],
          [
           "CryptoNight"
          ],
          [
           "Scrypt"
          ],
          [
           "Scrypt"
          ],
          [
           "SHA-256"
          ],
          [
           "X11"
          ],
          [
           "SHA-256"
          ],
          [
           "Scrypt"
          ],
          [
           "CryptoNight"
          ],
          [
           "Scrypt"
          ],
          [
           "SHA-256"
          ],
          [
           "Scrypt"
          ],
          [
           "Groestl"
          ],
          [
           "X11"
          ],
          [
           "Scrypt"
          ],
          [
           "PoS"
          ],
          [
           "Scrypt"
          ],
          [
           "Scrypt"
          ],
          [
           "X11"
          ],
          [
           "SHA-256"
          ],
          [
           "DPoS"
          ],
          [
           "Scrypt"
          ],
          [
           "Scrypt"
          ],
          [
           "Scrypt"
          ],
          [
           "NeoScrypt"
          ],
          [
           "Scrypt"
          ],
          [
           "SHA3-256"
          ],
          [
           "Multiple"
          ],
          [
           "X13"
          ],
          [
           "Equihash+Scrypt"
          ],
          [
           "Ethash"
          ],
          [
           "Ethash"
          ],
          [
           "SHA-256"
          ],
          [
           "Leased POS"
          ],
          [
           "PoS"
          ],
          [
           "TRC10"
          ],
          [
           "PoS"
          ],
          [
           "SHA-256"
          ],
          [
           "Scrypt"
          ],
          [
           "CryptoNight"
          ],
          [
           "Equihash"
          ],
          [
           "Scrypt"
          ]
         ],
         "hovertemplate": "<b>%{hovertext}</b><br><br>PC 1=%{z}<br>PC 2=%{y}<br>Algorithm=%{customdata[0]}<br>Class=%{marker.color}<extra></extra>",
         "hovertext": [
          "42 Coin",
          "404Coin",
          "EliteCoin",
          "Bitcoin",
          "Litecoin",
          "Dash",
          "Ethereum Classic",
          "ZCash",
          "Bitshares",
          "DigiByte",
          "BitcoinDark",
          "Bitstake",
          "PayCoin",
          "ProsperCoin",
          "KoboCoin",
          "Spreadcoin",
          "ACoin",
          "Aero Coin",
          "ApexCoin",
          "ArchCoin",
          "Argentum",
          "Aurora Coin",
          "BetaCoin",
          "MyriadCoin",
          "MoonCoin",
          "ZetaCoin",
          "SexCoin",
          "Quatloo",
          "QuarkCoin",
          "Riecoin",
          "Digitalcoin ",
          "LimeCoinX",
          "BitBar",
          "BitMark",
          "CashCoin",
          "Catcoin",
          "CryptoBullion",
          "CannaCoin",
          "CinderCoin",
          "CoolCoin",
          "CryptCoin",
          "CasinoCoin",
          "Diamond",
          "Verge",
          "DarkCash",
          "DarkShibe",
          "DevCoin",
          "EarthCoin",
          "E-Gulden",
          "Elacoin",
          "Einsteinium",
          "Emerald",
          "Flappy Coin",
          "Fuel2Coin",
          "FIBRE",
          "FireRoosterCoin",
          "Franko",
          "FeatherCoin",
          "GrandCoin",
          "GlobalCoin",
          "GoldCoin",
          "GlyphCoin",
          "HoboNickels",
          "HunterCoin",
          "Infinite Coin",
          "IOCoin",
          "IXcoin",
          "JumBucks Coin",
          "JudgeCoin",
          "KrugerCoin",
          "LuckyCoin",
          "Litebar ",
          "LitecoinDark",
          "LibrexCoin",
          "MaxCoin",
          "MegaCoin",
          "MediterraneanCoin",
          "MinCoin",
          "MazaCoin",
          "Nautilus Coin",
          "NoirBits",
          "NobleCoin",
          "Namecoin",
          "NyanCoin",
          "Orbitcoin",
          "PotCoin",
          "PhoenixCoin",
          "RipOffCoin",
          "RonPaulCoin",
          "StableCoin",
          "ShieldCoin",
          "SilkCoin",
          "SmartCoin",
          "SpainCoin",
          "SecureCoin",
          "SyncCoin",
          "SysCoin",
          "TeslaCoin",
          "TigerCoin",
          "TittieCoin",
          "TorCoin",
          "TerraCoin",
          "Umbrella",
          "UnbreakableCoin",
          "Unobtanium",
          "UnitaryStatus Dollar",
          "UltraCoin",
          "ViaCoin",
          "Vertcoin",
          "WorldCoin",
          "SocialXbotCoin",
          "X11 Coin",
          "JouleCoin",
          "XXXCoin",
          "ZCC Coin",
          "ByteCoin",
          "DigitalNote ",
          "BurstCoin",
          "StorjCoin",
          "MonaCoin",
          "Neutron",
          "Sling Coin",
          "KryptCoin",
          "Gulden",
          "PesetaCoin",
          "Kore",
          "Wild Beast Coin",
          "Dnotes",
          "Flo",
          "MaieutiCoin",
          "Sativa Coin",
          "AeroMe",
          "ArtByte",
          "MasterTraderCoin",
          "BitCredit",
          "Folding Coin",
          "Ucoin",
          "OmniCron",
          "Vtorrent",
          "GreenCoin",
          "Cryptonite",
          "Gridmaster",
          "ConSpiracy Coin ",
          "MasterCoin",
          "SoonCoin",
          "1Credit",
          "Quicksilver coin",
          "Nexus",
          "MarsCoin ",
          "Crypto",
          "Anarchists Prime",
          "Droidz",
          "BowsCoin",
          "Song Coin",
          "BitZeny",
          "Diggits",
          "Expanse",
          "MapCoin",
          "Paycon",
          "Emercoin",
          "BlitzCoin",
          "EverGreenCoin",
          "MindCoin",
          "I0coin",
          "Decred",
          "DogeCoinDark",
          "Revolution VR",
          "HOdlcoin",
          "EDRCoin",
          "Hitcoin",
          "Gamecredits",
          "Dashcoin",
          "DubaiCoin",
          "BiosCrypto",
          "CarpeDiemCoin",
          "TrumpCoin",
          "BillaryCoin",
          "EthereumScrypt",
          "Phalanx",
          "SunShotCoin",
          "GPU Coin",
          "HempCoin",
          "Adzcoin",
          "VirtaCoin",
          "SoilCoin",
          "YoCoin",
          "Universal Currency",
          "AEON",
          "SibCoin",
          "EuropeCoin",
          "Anti Bitcoin",
          "ZeitCoin",
          "SwingCoin",
          "SafeExchangeCoin",
          "Nebuchadnezzar",
          "Francs",
          "BolivarCoin",
          "GIZMOcoin",
          "SecretCoin",
          "Ratecoin",
          "Digital Bullion Gold",
          "Revenu",
          "Clinton",
          "Clockcoin",
          "VIP Tokens",
          "OrlyCoin",
          "BitSend",
          "16BitCoin",
          "ChessCoin",
          "ReeCoin",
          "Omni",
          "Let it Ride",
          "PutinCoin",
          "iBankCoin",
          "Frankywillcoin",
          "MudraCoin",
          "PizzaCoin",
          "Lutetium Coin",
          "Komodo",
          "GoldBlocks",
          "WayCoin",
          "CarterCoin",
          "Karbo",
          "BitTokens",
          "ZayedCoin",
          "MustangCoin",
          "ZoneCoin",
          "Circuits of Value",
          "DopeCoin",
          "PROUD Money",
          "DollarCoin",
          "Swiscoin",
          "Shilling",
          "BuzzCoin",
          "Opair",
          "GBR Coin",
          "Halloween Coin",
          "FujiCoin",
          "ZCoin",
          "LeaCoin",
          "CoffeeCoin",
          "RoyalCoin",
          "Zurcoin",
          "GanjaCoin V2",
          "TeamUP",
          "LanaCoin",
          "Elementrem",
          "CashOut",
          "ZClassic",
          "ARK",
          "InsaneCoin",
          "LuckChain",
          "KiloCoin",
          "Hush",
          "ArtexCoin",
          "EmberCoin",
          "XenixCoin",
          "FreeCoin",
          "NPCcoin",
          "PLNCoin",
          "Icobid",
          "AquariusCoin",
          "Kurrent",
          "Creatio",
          "Eternity",
          "Eurocoin",
          "BitcoinFast",
          "Stakenet",
          "BitConnect Coin",
          "MoneyCoin",
          "Enigma",
          "Cannabis Industry Coin",
          "Russiacoin",
          "PandaCoin",
          "GameUnits",
          "GAKHcoin",
          "Allsafe",
          "LiteCreed",
          "OsmiumCoin",
          "Bikercoins",
          "NeptuneClassic",
          "HexxCoin",
          "GoldenBird",
          "Ride My Car",
          "Klingon Empire Darsek",
          "Internet of People",
          "KushCoin",
          "Eryllium",
          "MarxCoin",
          "Printerium",
          "PacCoin",
          "Impeach",
          "Solarflarecoin",
          "Citadel",
          "Zilbercoin",
          "FirstCoin",
          "CreativeChain",
          "BeaverCoin",
          "FindCoin",
          "VaultCoin",
          "Zero",
          "OpenChat",
          "Canada eCoin",
          "Zoin",
          "Musicoin",
          "BnrtxCoin",
          "RenosCoin",
          "DubaiCoin",
          "VirtacoinPlus",
          "TajCoin",
          "Impact",
          "EB3coin",
          "Universe",
          "Atmos",
          "HappyCoin",
          "Coinonat",
          "MacronCoin",
          "Condensate",
          "Independent Money System",
          "ArgusCoin",
          "LomoCoin",
          "Bitcoin Scrypt",
          "ProCurrency",
          "GoldReserve",
          "BenjiRolls",
          "ParallelCoin",
          "GrowthCoin",
          "ILCoin",
          "Phreak",
          "Degas Coin",
          "ZSEcoin",
          "HTML5 Coin",
          "Ultimate Secure Cash",
          "EquiTrader",
          "QTUM",
          "Quantum Resistant Ledger",
          "Espers",
          "Nano",
          "ChanCoin",
          "Dinastycoin",
          "Denarius",
          "DigitalPrice",
          "Virta Unique Coin",
          "Bitcoin Planet",
          "Unify",
          "BritCoin",
          "SocialCoin",
          "Octanox",
          "ArcticCoin",
          "DAS",
          "Linda",
          "LeviarCoin",
          "DeepOnion",
          "Bitcore",
          "gCn Coin",
          "SmartCash",
          "Signatum",
          "Onix",
          "Cream",
          "Bitcoin Cash",
          "Monoeci",
          "CampusCoin",
          "Draftcoin",
          "Vechain",
          "Sojourn Coin",
          "Stakecoin",
          "LiteBitcoin",
          "FrazCoin",
          "Kronecoin",
          "AdCoin",
          "Linx",
          "CoinonatX",
          "Ethereum Dark",
          "Sumokoin",
          "Obsidian",
          "Cardano",
          "Regalcoin",
          "BitcoinZ",
          "TrezarCoin",
          "Elements",
          "TerraNovaCoin",
          "VIVO Coin",
          "Rupee",
          "Bitcoin Gold",
          "WomenCoin",
          "Theresa May Coin",
          "NamoCoin",
          "LUXCoin",
          "Pirl",
          "Xios",
          "Bitcloud 2.0",
          "eBoost",
          "KekCoin",
          "BlackholeCoin",
          "AltCommunity Coin",
          "Pure",
          "Rupaya",
          "Infinity Economics",
          "Pura",
          "Innova",
          "Bitdeal",
          "Ellaism",
          "Sakuracoin",
          "GoByte",
          "Castle",
          "Magnet",
          "Lamden Tau",
          "Electra",
          "Bitcoin Diamond",
          "SHIELD",
          "Cash & Back Coin",
          "UltraNote",
          "BitCoal",
          "DaxxCoin",
          "Bulwark",
          "Kalkulus",
          "AC3",
          "CHIPS",
          "Lethean",
          "GermanCoin",
          "LiteCoin Ultra",
          "PopularCoin",
          "PhantomX",
          "HTML Coin",
          "Photon",
          "Sucre",
          "Fantasy Cash",
          "SparksPay",
          "Digiwage",
          "GunCoin",
          "IrishCoin",
          "Trollcoin",
          "Litecoin Plus",
          "Monkey Project",
          "Pioneer Coin",
          "UnitedBitcoin",
          "Interzone",
          "OP Coin",
          "Valorbit",
          "TokenPay",
          "1717 Masonic Commemorative Token",
          "My Big Coin",
          "TurtleCoin",
          "MUNcoin",
          "Unified Society USDEX",
          "Niobio Cash",
          "Bitcoin Private",
          "Skeincoin",
          "ShareChain",
          "Travelflex",
          "KREDS",
          "Tokyo Coin",
          "BiblePay",
          "LitecoinCash",
          "BitFlip",
          "LottoCoin",
          "LeafCoin",
          "Cerberus",
          "Bitcoin Hush",
          "Crypto Improvement Fund",
          "Stipend",
          "Poa Network",
          "Pushi",
          "Ellerium",
          "Velox",
          "Ontology",
          "Callisto Network",
          "Curium",
          "BitTube",
          "Dinero",
          "Poseidon",
          "Aidos Kuneen",
          "Bitspace",
          "Snowgem",
          "Briacoin",
          "Ignition",
          "Bitrolium",
          "Bitcoin Interest",
          "MedicCoin",
          "Alpenschillling",
          "Zelcash",
          "Bitcoin Green",
          "Deviant Coin",
          "Abjcoin",
          "Profit Hunters Coin",
          "Semux",
          "BitBlocks",
          "FuturoCoin",
          "Carebit",
          "Zealium",
          "Monero Classic",
          "Proton",
          "iDealCash",
          "Jumpcoin",
          "Infinex",
          "Bitcoin Incognito",
          "KEYCO",
          "HollyWoodCoin",
          "GINcoin",
          "PlatinCoin",
          "Loki",
          "Newton Coin",
          "Swisscoin",
          "Xt3ch",
          "MassGrid",
          "TheVig",
          "PluraCoin",
          "EmaratCoin",
          "Dekado",
          "Lynx",
          "Poseidon Quark",
          "BitcoinWSpectrum",
          "Muse",
          "Motion",
          "PlusOneCoin",
          "Axe",
          "Trivechain",
          "Dystem",
          "Giant",
          "Peony Coin",
          "SafeCoin",
          "Absolute Coin",
          "Vitae",
          "HexCoin",
          "TPCash",
          "Webchain",
          "Ryo",
          "MUSDcoin",
          "Urals Coin",
          "Qwertycoin",
          "ARENON",
          "EUNO",
          "MMOCoin",
          "Ketan",
          "NIX",
          "Safe Trade Coin",
          "Project Pai",
          "Mont Blanc",
          "XDNA",
          "PAXEX",
          "Azart",
          "Apollon",
          "ThunderStake",
          "Kcash",
          "Xchange",
          "Acute Angle Cloud",
          "Traid",
          "CrypticCoin",
          "Bettex coin",
          "ZestCoin",
          "X-CASH",
          "Actinium",
          "ETHER-1",
          "Bitcoin SV",
          "BitMoney",
          "Bitcoiin2Gen",
          "FREDEnergy",
          "Zenad",
          "C25 Coin",
          "HerbCoin",
          "Aquachain",
          "Universal Molecule",
          "Lithium",
          "Smart Bitcoin",
          "PirateCash",
          "Exosis",
          "Block-Logic",
          "Oduwa",
          "Beam",
          "Galilel",
          "Bithereum",
          "Crypto Sports",
          "Credit",
          "SLICE",
          "Dash Platinum",
          "Nasdacoin",
          "Vidulum",
          "Beetle Coin",
          "Titan Coin",
          "Award",
          "BlockStamp",
          "BLAST",
          "Bitcoin Rhodium",
          "GlobalToken",
          "Insane Coin",
          "ALAX",
          "The Freedom Coin",
          "LiteDoge",
          "Boolberry",
          "SolarCoin",
          "UFO Coin",
          "OrangeCoin",
          "BlakeCoin",
          "BitstarCoin",
          "NeosCoin",
          "PinkCoin",
          "FantomCoin ",
          "Crypto Escudo",
          "AudioCoin",
          "IncaKoin",
          "Piggy Coin",
          "Crown Coin",
          "Genstake",
          "Quazar Coin",
          "SmileyCoin",
          "ParkByte",
          "XiaoMiCoin",
          "Groestlcoin",
          "CapriCoin",
          " ClubCoin",
          "Radium",
          "Bata",
          "Pakcoin",
          "Creditbit ",
          "OKCash",
          "Lisk",
          "HiCoin",
          "WhiteCoin",
          "Dotcoin",
          "FriendshipCoin",
          "The Hempcoin",
          "Fiii",
          "JoinCoin",
          "Triangles Coin",
          "Vollar",
          "Reality Clash",
          "iOlite",
          "TigerCash",
          "Waves",
          "Particl",
          "BitTorrent",
          "Nxt",
          "ZEPHYR",
          "Gapcoin",
          "Beldex",
          "Horizen",
          "BitcoinPlus"
         ],
         "legendgroup": "",
         "marker": {
          "color": [
           0,
           0,
           0,
           1,
           1,
           0,
           1,
           1,
           0,
           1,
           0,
           0,
           0,
           1,
           0,
           1,
           1,
           0,
           0,
           0,
           1,
           0,
           1,
           1,
           1,
           1,
           1,
           1,
           1,
           1,
           1,
           1,
           0,
           1,
           0,
           1,
           0,
           1,
           0,
           0,
           1,
           0,
           0,
           1,
           0,
           1,
           1,
           1,
           1,
           1,
           1,
           1,
           1,
           0,
           0,
           1,
           1,
           1,
           1,
           1,
           1,
           0,
           0,
           1,
           1,
           0,
           1,
           0,
           0,
           1,
           1,
           1,
           1,
           0,
           0,
           1,
           1,
           1,
           0,
           0,
           1,
           1,
           1,
           1,
           0,
           0,
           0,
           1,
           1,
           1,
           0,
           0,
           1,
           1,
           1,
           0,
           1,
           0,
           1,
           0,
           0,
           1,
           1,
           1,
           1,
           0,
           0,
           1,
           1,
           1,
           0,
           0,
           1,
           0,
           0,
           1,
           1,
           0,
           0,
           1,
           0,
           1,
           0,
           1,
           1,
           0,
           1,
           0,
           1,
           0,
           0,
           0,
           1,
           0,
           1,
           1,
           0,
           1,
           0,
           1,
           1,
           1,
           1,
           1,
           1,
           1,
           1,
           0,
           1,
           1,
           1,
           0,
           1,
           1,
           1,
           0,
           1,
           0,
           0,
           0,
           0,
           0,
           1,
           1,
           0,
           1,
           1,
           1,
           0,
           0,
           1,
           1,
           0,
           0,
           1,
           0,
           0,
           0,
           1,
           1,
           0,
           1,
           1,
           1,
           1,
           1,
           0,
           1,
           1,
           0,
           1,
           0,
           0,
           0,
           0,
           1,
           1,
           0,
           0,
           0,
           0,
           0,
           1,
           0,
           0,
           0,
           0,
           0,
           0,
           0,
           1,
           0,
           0,
           0,
           0,
           0,
           1,
           0,
           1,
           0,
           0,
           0,
           1,
           0,
           1,
           0,
           0,
           1,
           1,
           0,
           1,
           0,
           1,
           0,
           0,
           1,
           0,
           1,
           1,
           1,
           0,
           0,
           1,
           0,
           0,
           0,
           1,
           1,
           1,
           0,
           0,
           0,
           1,
           1,
           1,
           0,
           0,
           0,
           0,
           0,
           0,
           0,
           1,
           0,
           0,
           0,
           0,
           0,
           0,
           0,
           0,
           1,
           0,
           0,
           0,
           0,
           0,
           0,
           1,
           1,
           0,
           1,
           0,
           0,
           0,
           0,
           0,
           0,
           1,
           0,
           1,
           0,
           1,
           1,
           0,
           0,
           1,
           1,
           0,
           1,
           1,
           0,
           1,
           1,
           1,
           1,
           0,
           1,
           0,
           0,
           0,
           1,
           0,
           0,
           0,
           1,
           0,
           0,
           0,
           0,
           0,
           1,
           0,
           0,
           1,
           1,
           0,
           1,
           0,
           0,
           0,
           0,
           0,
           1,
           0,
           1,
           0,
           1,
           1,
           1,
           0,
           1,
           0,
           0,
           1,
           0,
           1,
           0,
           1,
           1,
           0,
           1,
           0,
           1,
           1,
           1,
           0,
           1,
           0,
           1,
           0,
           1,
           0,
           2,
           1,
           0,
           1,
           1,
           1,
           1,
           1,
           0,
           0,
           1,
           0,
           0,
           0,
           1,
           0,
           1,
           0,
           1,
           0,
           1,
           0,
           0,
           0,
           0,
           1,
           0,
           0,
           1,
           0,
           0,
           0,
           0,
           0,
           0,
           1,
           1,
           1,
           1,
           1,
           1,
           0,
           0,
           0,
           0,
           0,
           1,
           0,
           1,
           1,
           1,
           0,
           0,
           1,
           1,
           1,
           0,
           0,
           1,
           0,
           0,
           1,
           1,
           0,
           1,
           0,
           1,
           1,
           0,
           0,
           0,
           1,
           1,
           1,
           0,
           0,
           0,
           1,
           0,
           1,
           1,
           0,
           1,
           1,
           1,
           1,
           1,
           1,
           0,
           2,
           2,
           1,
           1,
           1,
           1,
           1,
           1,
           0,
           2,
           0,
           0,
           0,
           0,
           1,
           1,
           1,
           1,
           1,
           1,
           0,
           1,
           0,
           0,
           1,
           1,
           0,
           1,
           0,
           0,
           0,
           0,
           0,
           0,
           0,
           1,
           0,
           0,
           1,
           0,
           0,
           1,
           1,
           0,
           1,
           0,
           1,
           1,
           1,
           1,
           0,
           0,
           1,
           0,
           1,
           0,
           0,
           0,
           0,
           0,
           0,
           1,
           1,
           1,
           0,
           0,
           0,
           0,
           0,
           0,
           0,
           1,
           0,
           1,
           1,
           0,
           1,
           1,
           0,
           0,
           0,
           0,
           1,
           0,
           1,
           0,
           0,
           0,
           1,
           0,
           0,
           0,
           1,
           2,
           0,
           1,
           0,
           1,
           1,
           1,
           1,
           1,
           0,
           1,
           1,
           0,
           1,
           0,
           1,
           1,
           1,
           1,
           1,
           1,
           1,
           0,
           1,
           0,
           1,
           0,
           0,
           1,
           0,
           0,
           1,
           0,
           0,
           0,
           1,
           1,
           1,
           1,
           0,
           0,
           0,
           0,
           1,
           1,
           1,
           0,
           1,
           0,
           0,
           0,
           1,
           1,
           0,
           0,
           0,
           1,
           0,
           1,
           1,
           0,
           0,
           1,
           0,
           0,
           0,
           1,
           1,
           0,
           0,
           0,
           0,
           0,
           1,
           0,
           0,
           2,
           1,
           0,
           1,
           1,
           1,
           0,
           2,
           0,
           3,
           0,
           0,
           0,
           1,
           1,
           0
          ],
          "coloraxis": "coloraxis",
          "symbol": "circle"
         },
         "mode": "markers",
         "name": "",
         "scene": "scene",
         "showlegend": false,
         "type": "scatter3d",
         "x": [
          -0.1753506962057823,
          -0.1607331971718766,
          0.44365627084616177,
          -0.2605566292694821,
          -0.35342781509319454,
          -0.10097915503737202,
          -0.340569413818195,
          -0.3379477663502091,
          0.16162031949334182,
          -0.14948118503370159,
          -0.08183671794597114,
          -0.10110426573350247,
          0.04162422814661038,
          -0.35422119054072865,
          0.0200975230948338,
          -0.2799002104946478,
          -0.2608049748035149,
          0.1613608169372915,
          0.03804818787144391,
          -0.05203806774383594,
          -0.35413201197050614,
          -0.17509947086015487,
          -0.26080497484709375,
          -0.28410434582426797,
          -0.3543016482924388,
          -0.2584471297733101,
          -0.35251487747728016,
          -0.3541991714850985,
          -0.044574196047893595,
          -0.32367195573713026,
          -0.3538378126329415,
          -0.2800546680140136,
          -0.17535010693386022,
          -0.35430109907941,
          -0.17535069685559967,
          -0.35420108084681634,
          -0.1753363018824977,
          -0.35423593610906506,
          -0.12854136528132015,
          -0.05203806786367361,
          -0.2799854446464789,
          0.7032388839780692,
          -0.1453621739006842,
          -0.08681964147907603,
          -0.10110426573697161,
          -0.3543010990428035,
          -0.0007303311878447244,
          -0.18059785663870476,
          -0.35401142573284844,
          -0.35430109914738744,
          -0.35126906212365117,
          -0.35403100966282514,
          -0.35430124239186084,
          0.022208363192290158,
          -0.041579073425194304,
          -0.2608049748049518,
          -0.35428526876160255,
          -0.3454238527763814,
          -0.34205328629026943,
          -0.35339133345415413,
          -0.35372400094792467,
          -0.10110426574167354,
          -0.17411408010281798,
          -0.3074917674303776,
          0.9007237922592461,
          -0.10085974725158711,
          -0.26051282360135947,
          -0.10110426573635954,
          0.038048187849081025,
          -0.3522030916930192,
          -0.3540333711311466,
          -0.3542858005361538,
          -0.35430109915742675,
          -0.10110426573307235,
          -0.21479815856820053,
          -0.35377257857893285,
          -0.4084370870635816,
          -0.35422069327226313,
          -0.05949806792364952,
          -0.05181392583657204,
          -0.26080497487289717,
          -0.32152395034921144,
          -0.2606008311479202,
          -0.3496643650592322,
          -0.16931953245531048,
          -0.1722659447276393,
          -0.17432613741939496,
          -0.35430109905707563,
          -0.35428580315217356,
          -0.35396564593664415,
          0.01974368227035334,
          -0.17535069678903611,
          -0.3539465484922945,
          -0.3921210980523391,
          -0.3543010990699774,
          -0.10110424942663253,
          -0.25300106219172463,
          -0.004116886169658422,
          -0.26020185859084843,
          0.17348579678440929,
          -0.10108443028159804,
          -0.2604872503004923,
          -0.26080497480498416,
          -0.2607734156522868,
          -0.26080219156597517,
          -0.1601268838929485,
          -0.17465478741172777,
          -0.35398038923860564,
          -0.3192593356547906,
          -0.35264418175413675,
          -0.1753506967904695,
          -0.10100797571869863,
          -0.26026199539943173,
          -0.1753506968592786,
          -0.17330058609815793,
          2.315925289229697,
          -0.1382792998547952,
          0.6994843623786035,
          0.13260265495579804,
          -0.35335639681299696,
          -0.08131261893221194,
          -0.26080497480265463,
          -0.05203806774469157,
          -0.3485516479214623,
          -0.35239606409305,
          0.03807620511478947,
          -0.35429857891223343,
          -0.04961869185996906,
          -0.35219169029559616,
          0.04145805651832777,
          0.03814650046806002,
          0.038048187862842885,
          -0.34332206397529746,
          -0.10110426574613167,
          -0.39115802125177995,
          -0.4079695596486148,
          0.02224562533360945,
          -0.3541606287790723,
          -0.1751899363392252,
          -0.29043395991952664,
          -0.3611413516584154,
          -0.354301099160289,
          -0.28005466803121587,
          -0.3542925173979784,
          -0.2606323298738271,
          -0.35430000890701235,
          -0.28005466803121587,
          -0.4020683968927178,
          -0.27960830182447194,
          -0.4192994802671575,
          -0.26060068158223454,
          -0.05269643501724392,
          -0.2798349059133523,
          -0.35384997150181263,
          -0.3532536100149024,
          -0.05065276559578712,
          -0.34199439675376675,
          0.022208363332446808,
          0.03836739752416116,
          -0.08125806566849227,
          0.161360816941804,
          0.019931121339005396,
          -0.2798348524681497,
          -0.26051409630811506,
          0.02525496967485886,
          -0.35430112269295133,
          -0.3513919645783509,
          -0.34272645893611453,
          -0.08180373625613518,
          0.05122794021787769,
          -0.35333365808318573,
          -0.2339564003462481,
          -0.08178352021673994,
          0.1307805552374866,
          0.04035931836741852,
          -0.020253439127515288,
          -0.17522603705360879,
          -0.17535069679362325,
          -0.260804974822724,
          -0.28005467120932953,
          -0.051477338656405615,
          -0.39212110514826226,
          -0.27942975376290247,
          -0.3543011291437908,
          -0.3936174138521029,
          -0.35429228235093263,
          -0.08185457284998945,
          -0.3508404612852408,
          -0.3713527479695652,
          -0.10096009413770955,
          -0.26080497486142906,
          0.4601251617833314,
          -0.08179393679548687,
          0.17886720815530271,
          0.18293236544667632,
          -0.3542100735210561,
          -0.27986551770523266,
          -0.10110426573178241,
          -0.10110426576174288,
          -0.09924027318783202,
          0.1826553050002668,
          -0.08183801123329279,
          -0.26080497480469195,
          -0.08162374287819434,
          -0.04042303322799723,
          0.01974368222018026,
          -0.10076642223029866,
          -0.04157907344723611,
          -0.17535069689463867,
          -0.17535069728933453,
          -0.35429255937263293,
          0.1795420898267205,
          -0.16408691304834172,
          -0.17528799358213137,
          -0.17396539466306796,
          0.1614300817740165,
          -0.2800355797042971,
          0.031309798293834325,
          -0.11766160762328902,
          -0.1008886591176746,
          0.022208363192290158,
          -0.17475272426617497,
          -0.23384803599620463,
          -0.0818463240876135,
          -0.2607184787580546,
          -0.1010951554847308,
          -0.1753149287287403,
          -0.29363874641152765,
          -0.3526824397331764,
          -0.10110428006683744,
          -0.2606788193008994,
          -0.2502618700423989,
          -0.3541470645531083,
          0.2738113041350704,
          0.1836808969202222,
          -0.35430109916530633,
          -0.09743767119663903,
          -0.39212109799499806,
          -0.3637087367799584,
          -0.2608049776682609,
          0.1847154823892055,
          0.16139545121821414,
          -0.048169847166464226,
          -0.04320145140425294,
          0.1829021471984244,
          0.017591014676843906,
          -0.34177676216517344,
          -0.2608049749445731,
          -0.3379722793604203,
          6.923656242922776,
          -0.10085016237016144,
          -0.17535069822112256,
          -0.35158179313099386,
          -0.3380500439958794,
          -0.26863977801328415,
          1.3151974506719213,
          -0.10105088551393084,
          0.18334795608403667,
          0.00259979186989208,
          -0.1751139542264778,
          -0.17535069707430676,
          -0.1753167627963224,
          -0.27920458016457883,
          0.18293236544667632,
          -0.10102018514478553,
          -0.08168256577346525,
          -0.17507025591630235,
          0.029127152285388102,
          -0.17519719532935485,
          -0.1751995000402558,
          -0.10109298008296753,
          -0.23394285008504007,
          -0.1752346381293598,
          0.4163761338765103,
          -0.17530258549397615,
          -0.1753047630921405,
          0.25423888725649507,
          -0.18368368916314343,
          -0.35428871408131096,
          -0.23382677640337005,
          -0.10110426609001869,
          -0.41946386834913446,
          0.03804818723496118,
          0.18265530487841722,
          -0.17501870466253922,
          -0.08181957875664789,
          -0.10102587014655665,
          -0.10110426587499098,
          -0.28005466812817914,
          -0.17518693015018566,
          -0.2726159864866307,
          -0.1753464276083685,
          -0.35430109906854385,
          -0.32716869307003865,
          -0.051997580761636845,
          -0.26297565240314447,
          -0.30303995030139236,
          -0.3542579433049656,
          0.16156203002350136,
          -0.27963373784270007,
          -0.337954158161696,
          -0.16149767554225683,
          -0.3529179661834908,
          -0.419232943864891,
          -0.3421397887057921,
          -0.28005466828494874,
          -0.05153866124574624,
          -0.3738710805043857,
          -0.100921922013389,
          -0.10661793335869563,
          -0.09957170061746184,
          -0.35341318071197114,
          -0.05203806788087595,
          0.18419487213252442,
          -0.10080613051310845,
          -0.22038923882655806,
          0.18821620422019666,
          -0.09941883218754188,
          -0.1752763208535474,
          -0.17533478907018668,
          -0.1753437717097829,
          -0.3543010990699774,
          0.04285081149008862,
          -0.10086639024470617,
          -0.35402021382947696,
          -0.3543010990413072,
          -0.047949552278512775,
          -0.24255019238250228,
          0.18281309403750293,
          -0.1750548134960376,
          -0.1011042687327127,
          0.5829938794154549,
          0.041601339610465055,
          -0.35411168113367975,
          0.18039280650465747,
          -0.3263642936667668,
          0.49697962441927446,
          -0.44553397666161415,
          -0.39235763397167406,
          -0.20888981381820254,
          -0.04152128718918674,
          -0.2795678871096746,
          -0.04070713560389251,
          -0.11368612114885923,
          -0.35404989950593185,
          0.038342815197851605,
          -0.35422950984311324,
          -0.10110426574297159,
          -0.27969390260564275,
          -0.2800183331117612,
          -0.05005113497808439,
          -0.23376021661908145,
          0.03835180480104411,
          -0.41675768884736747,
          1.9045045778283167,
          -0.271995206736411,
          0.23853711634972077,
          -0.27835801176456,
          -0.1131246935968091,
          -0.2605556815198268,
          -0.10093014346630096,
          -0.3543011004877285,
          -0.05177952466383557,
          6.107730768044977,
          -0.3542943924112859,
          0.1827107170241798,
          -0.3543011004733934,
          -0.35416666875464137,
          -0.3540593119739608,
          -0.3538488432774184,
          -0.35383402338389497,
          -0.17508001450107305,
          -0.1752925140983723,
          -0.23383246226031937,
          0.12398761870509654,
          0.8086171163291466,
          -0.10100365955014413,
          -0.2658543085942924,
          -0.16683405439643842,
          -0.24261194968592564,
          -0.17533489418348355,
          -0.3482568387679424,
          -0.017372742461528715,
          -0.33781173929758346,
          0.4959594382855323,
          -0.08057939087229457,
          -0.033813580144925505,
          0.02781410535714209,
          -0.39322558222869963,
          -0.17532091714108997,
          0.13120600278571304,
          -0.3529159354248767,
          0.1027315350652929,
          -0.1751240261019439,
          -0.13177932321596691,
          -0.10110426573692399,
          0.2540931842261971,
          0.1661352475879135,
          -0.27762739921721774,
          -0.34822623342897674,
          -0.3543010994699295,
          -0.34196307421372074,
          -0.35430109919053643,
          -0.34823375493870984,
          4.424355390933124,
          -0.10057509993752672,
          6.926148241626715,
          0.35183495546204313,
          0.04059068858814788,
          -0.3008183438525488,
          -0.17381333050536468,
          0.03315498716195639,
          -0.2338940617356685,
          -0.33492387674731033,
          0.08191706907271534,
          0.25432807290076653,
          -0.27894204653529425,
          -0.26080497483132503,
          -0.32120800296585766,
          -0.10731164384420436,
          -0.17523406283133522,
          -0.2993849364032715,
          -0.10047846639077862,
          -0.08185470156573886,
          0.2629937533176933,
          -0.2799960830182826,
          -0.17535069679419693,
          -0.3482058395523447,
          0.25447136724785463,
          -0.3441614428473067,
          -0.35367102141761053,
          -0.16716324654600118,
          -0.1753160020888252,
          0.02226941706744545,
          -0.27993722064518906,
          -0.26052561477478753,
          -0.2890996292888347,
          -0.17535069965464234,
          -0.307569567383195,
          0.17929074132781045,
          -0.039854342088609905,
          -0.3139128479619066,
          0.5021895085278666,
          -0.31066297692557066,
          -0.17209736647425233,
          -0.23210103128795576,
          -0.3380500439958794,
          -0.29273078426324906,
          -0.21577088658641488,
          -0.39220962520841085,
          -0.31104972850471474,
          0.16455115203145348,
          0.7530997465690354,
          0.23568609992413977,
          -0.35412868299161243,
          -0.15355677401276152,
          -0.3543011291437908,
          -0.3483145500176892,
          -0.3380500439958794,
          -0.27712755772253167,
          -0.11015844269795191,
          -0.34851777682595975,
          -0.1010742348094968,
          0.06948509705011408,
          -0.0516838459262228,
          0.2155709855183307,
          -0.33870961644458686,
          -0.2800546680154472,
          -0.2328474799924089,
          -0.348314550115885,
          -0.35424471432876525,
          -0.4485089583516321,
          -0.04138807003312418,
          -0.3380500440863288,
          -0.17533898215209495,
          -0.17533432039552468,
          -0.3370615550249793,
          -0.33805004399774286,
          -0.04833518766511652,
          -0.36343483216169753,
          -0.1590996420145438,
          0.17575913429821655,
          0.18295836174943078,
          -0.17521382200717317,
          -0.17535069693095467,
          7.535118238172994,
          -0.17535069750436255,
          -0.2796141217642201,
          0.13271637077926887,
          0.18280873065321226,
          -0.23373451836594458,
          -0.014241597242114991,
          -0.15589887802970837,
          -0.22023760157521297,
          -0.41941924026053123,
          0.34593650277701715,
          -0.4335288720281046,
          -0.0515018614482268,
          -0.36371679758257575,
          -0.23395523337010507,
          0.20436527140376928,
          0.3380972582209156,
          -0.03404988008507487,
          -0.05193236922014349,
          -0.3522000702589296,
          0.003060251074092411,
          -0.22619751835254837,
          -0.17505148076568253,
          0.14347583886916385,
          1.681008942088555,
          0.2541308118819193,
          0.04225891348255611,
          2.752147165342454,
          -0.3164530666776566,
          -0.3690759230285262,
          -0.2799854994465266,
          -0.13710373547716134,
          0.25419129684403186,
          0.13086255808505118,
          -0.052023656896003995,
          -0.037343511551061886,
          -0.14083314705524724,
          0.2550082300551337,
          -0.35428147400598026,
          -0.17527583922259465,
          -0.327104820677402,
          -0.43210118181695684,
          -0.17535069693095467,
          -0.10926683485526364,
          1.5832111693860325,
          0.022475304215008065,
          -0.10067799269731387,
          -0.050545212786811,
          0.1827845136862732,
          -0.319968246541835,
          -0.052038068924478265,
          -0.23171363018599495,
          -0.05203806782066806,
          -0.12402481996868207,
          0.022270766058517147,
          -0.2799851829013309,
          0.13078055490805013,
          -0.16066715467614645,
          0.06229532445166679,
          -0.3164305156117489,
          -0.1918779891991319,
          -0.1693641480815091,
          -0.27938095914808914,
          0.19288594397827333,
          -0.04816984702784278,
          -0.3793558273612475,
          -0.36362469655521407,
          -0.34213978807327683,
          -0.2605557241178715,
          0.32727759964395264,
          -0.34213978819703805,
          -0.20809205840035488,
          0.2944013198395564,
          -0.31072972546981475,
          0.13126973569896816,
          -0.3865304000917057,
          -0.3224946066137279,
          -0.3222969454771924,
          -0.26080497483132475,
          -0.03560033057136478,
          -0.39993918099631154,
          -0.3538122992246679,
          -0.17514598309081247,
          -0.33755566431859196,
          0.13103358085419803,
          -0.3377016295804222,
          0.2541199857807289,
          0.25167845570765973,
          -0.36287377588416747,
          0.022218277353887254,
          -0.17506606538680877,
          -0.4031206406544538,
          0.07223518281357522,
          0.015017106325690532,
          -0.1008906494749361,
          -0.26080497495174076,
          -0.2600805471881966,
          -0.1408860022866927,
          -0.2596328278488234,
          -0.10077489685710933,
          6.936010338423759,
          0.022208363299804048,
          0.036862143187480406,
          -0.2800546680103583,
          -0.35353149540484,
          -0.29533110749585867,
          -0.1753016968551382,
          -0.32219291832085845,
          -0.17506564970093152,
          0.04151890254132676,
          -0.09505944979232915,
          -0.23395640034618087,
          -0.34349282395199976,
          -0.16176460187370367,
          0.16666484508430865,
          -0.09425754000984743,
          -0.26048653641149117,
          -0.17451951544837352,
          -0.2339564003462481,
          0.05552650430588368,
          -0.08185457258478818,
          -0.16974969205584017,
          -0.32334295176013034,
          -0.09831476143524331,
          -0.17391522081639696,
          0.18270824081278594,
          -0.35423110587529755,
          -0.3533357589592173,
          -0.023141349103873592,
          -0.08082008347816468,
          6.923819847846327,
          0.08649553424620082,
          -0.1718596584216986,
          -0.3543011003157062,
          -0.16934862708763068,
          -0.17535069721765847,
          -0.15794750184684309,
          -0.3074455963232041,
          0.03805013807728305,
          -0.3673753379391192,
          -0.341800556043872,
          -0.3421397894872061,
          0.05531107776367652,
          0.3514370794549923,
          0.18278390452448437,
          32.41505939362833,
          0.2516779936711365,
          4.239426305615081,
          -0.17514385702498275,
          -0.2203773564881796,
          -0.3379489648964145,
          -0.052036290004964646
         ],
         "y": [
          -1.198255836468285,
          -1.1958307516125204,
          -1.9003229018053096,
          1.3705835283563874,
          1.0388820834947412,
          -1.4476249007293291,
          1.9504971035567407,
          1.907058344526199,
          -1.6851770082381,
          1.7479578052255658,
          -0.8664477511490704,
          -1.4476456567824503,
          -0.4941177492544527,
          1.03875046059796,
          -2.142158709387094,
          0.7893730083235189,
          1.3705423272310522,
          -1.5953059154781404,
          -1.9676113109879991,
          -0.8259504412196848,
          1.0387652551618578,
          -1.1982141575453658,
          1.370542326905932,
          1.7256235856436688,
          1.0387330971569133,
          1.3709334995970806,
          1.0390335410653193,
          1.0387541128044857,
          0.5507210377635181,
          1.415571102461344,
          1.0388140639501056,
          0.7893473833104904,
          -1.1982557387113941,
          1.038737203443855,
          -1.198255837072102,
          1.0387537968612917,
          -1.1982534484139027,
          1.0387480143426204,
          -0.5152494839245149,
          -0.8259504421137324,
          0.7893588677226696,
          -0.23941465903026599,
          -0.8215282180109146,
          1.7583536046703883,
          -1.4476456568083311,
          1.0387372037169562,
          1.4136893331084002,
          1.0675549929080672,
          1.0387852612587718,
          1.0387372029367095,
          1.039240225345562,
          1.0387820121063531,
          1.038736134263777,
          -1.0753402623174684,
          -1.7448833529176155,
          1.3705423272203316,
          1.038739829915745,
          1.4905939387726193,
          1.040769140675231,
          1.0388881360631779,
          1.0388329454253542,
          -1.44764565684341,
          -1.1980506791076688,
          1.7217435571491342,
          1.2469489493782953,
          -1.4476050905910467,
          1.3705907958585641,
          -1.4476456568037646,
          -1.9676113111548372,
          1.0390852671751871,
          1.0387816204565956,
          1.0387397417960003,
          1.0387372028618125,
          -1.4476456567792417,
          -2.4387627744887324,
          1.03882488655536,
          2.096921048515789,
          1.0387505432114343,
          -0.8627417218487238,
          -0.8259132553492007,
          1.3705423267134258,
          1.0441748819799024,
          1.3705761951216353,
          1.0395064493952255,
          -0.7468712722644485,
          -1.1977440706020366,
          -1.1980858598730444,
          1.038737203610479,
          1.0387397411565156,
          1.0387928538805542,
          -2.1422174090760886,
          -1.1982558365755058,
          1.0387960242872427,
          2.128900823986989,
          1.0387372035142264,
          -1.4476456540635039,
          1.3718370123321542,
          -0.1427596287352086,
          1.3706423856886578,
          -1.544654503340598,
          -1.447642366107731,
          1.3705950383323853,
          1.37054232722009,
          1.3705475621766012,
          1.3705427889932886,
          -1.1957301734443904,
          -1.1981403839918023,
          1.0387904102927443,
          1.36753525754073,
          1.0390120889058683,
          -1.1982558365862008,
          -1.4476296820011414,
          1.3706324088184398,
          -1.1982558370995489,
          -1.1979157270204257,
          2.670154563394638,
          2.2629959001355693,
          -0.3482537587908562,
          -1.442653984248994,
          1.038893931797818,
          -0.866360801906758,
          1.370542327237469,
          -0.8259504412260678,
          1.039691038727532,
          1.0390532534648074,
          -1.9676066628993543,
          1.0387376218086706,
          -0.8255490639839347,
          1.0390871598063125,
          -0.4941453175349312,
          -1.9675950006517273,
          -1.967611311052168,
          1.0405586507474682,
          -1.4476456568766707,
          2.1431595765029803,
          2.2112342098707742,
          -1.0753340795710205,
          1.0387605081746494,
          -1.1982291660950468,
          1.0493328643412392,
          2.240560757811395,
          1.038737202840457,
          0.7893473831821535,
          1.0387386274545145,
          1.37057096938102,
          1.0387364225583058,
          0.7893473831821535,
          -2.9015555713892005,
          0.789421436781115,
          2.142995847519486,
          1.3705762195924978,
          -2.16663948262134,
          0.7893838425545449,
          1.0388120450595952,
          1.0389109829454297,
          -0.8257206159821022,
          1.9502606962930327,
          -1.0753402612718308,
          -1.967558353533168,
          -0.8663517610895259,
          -1.595305915444475,
          -2.1421863125922407,
          0.7893838514735617,
          1.370590584712393,
          -1.096006921072036,
          1.0387370272754344,
          1.0392198363693417,
          2.032653816092743,
          -0.8664422793799379,
          -1.4223735282054988,
          1.0388977044475682,
          2.247122863753205,
          -0.8664389253532913,
          -1.68686853030593,
          1.4205062324623836,
          -0.18218863387622128,
          -1.1982351555505037,
          -1.198255836609729,
          1.3705423270877428,
          0.789347359471892,
          -0.8258574165885333,
          2.1289007710479746,
          0.7894510579493362,
          1.038736979149058,
          2.123628755794025,
          1.0387386646956212,
          -0.8664507153013612,
          2.201155691879508,
          2.0457984373485987,
          -1.4476217422497684,
          1.3705423267989845,
          -0.7409819382023418,
          -0.866440653805912,
          -0.32640922206016204,
          -1.4246305543189608,
          1.0387523049579754,
          0.7893787639173281,
          -1.4476456567696163,
          -1.4476456569931364,
          -1.447336415154488,
          -1.4246765194918143,
          -0.8664479678085913,
          1.3705423272222692,
          -0.8664124231555809,
          -1.7446915630404243,
          -2.142217409450405,
          -1.4475896088913038,
          -1.7448833530820578,
          -1.1982558373633523,
          -1.1982558403079742,
          1.038738620490815,
          -1.436944494397769,
          -1.1963871592859832,
          -1.1982454343635904,
          -1.1980260115026562,
          -1.595294426235646,
          0.7893505500810496,
          -1.0738303105896343,
          1.216986198962054,
          -1.447609887456037,
          -1.0753402623174684,
          -1.19815663192849,
          2.2471408418380707,
          -0.8664493448286157,
          1.3705566771199769,
          -1.447644145380458,
          -1.1982499027476297,
          1.724041806080914,
          1.0390057424673729,
          -1.4476457637160502,
          1.3705632567428947,
          -0.38689116668915785,
          1.038762758245202,
          -2.142160188777931,
          -1.4245063710885488,
          1.0387372028030255,
          -1.4470373725487298,
          2.12890082441478,
          2.0542469712690257,
          1.3705423058586625,
          -1.424334729653885,
          -1.5953001694917404,
          0.5501245088660907,
          -2.1151560922812194,
          -1.424635570562584,
          -2.1846678337506473,
          1.950296802478706,
          1.3705423261786884,
          1.9070542777384347,
          -0.36980117025840875,
          -1.447603500511839,
          -1.1982558472595617,
          1.0391882408245297,
          1.9070413763336225,
          0.7912411455123366,
          -1.7557281219095175,
          -1.4476368008578862,
          -1.4245616068003153,
          -2.187154920862304,
          -1.1982165606103956,
          -1.1982558387037612,
          -1.1982502072449754,
          0.789488413472577,
          -1.4246305543189608,
          -1.4476317081543637,
          -0.8664221767836185,
          -1.1982093108613183,
          -0.8368609813099815,
          -1.198230370468668,
          -1.1982307593387762,
          -1.4476437844951755,
          2.247125111758713,
          -1.198236583563426,
          -0.7482393483549408,
          -1.1982478548813615,
          -1.1982482160506809,
          -1.3145389621396455,
          -1.183105094951973,
          1.038739258415159,
          2.2471443687165027,
          -1.447645659442234,
          2.142968575587807,
          -1.9676113157364685,
          -1.4246765204008678,
          -1.1982007632247882,
          -0.8664449076916113,
          -1.4476326507849635,
          -1.4476456578380217,
          0.7893473824587608,
          -1.198228667358552,
          0.7905804391882625,
          -1.1982551285235081,
          1.0387372035249212,
          2.0975986181645756,
          -0.8259437247018523,
          -0.4522944435178184,
          1.4481657637066712,
          1.0387443633798334,
          -1.595272533654329,
          0.7894172067514869,
          1.9070572841458044,
          -1.1959575859432605,
          1.0389666689123607,
          2.143006886592414,
          1.9502365707173863,
          0.7893473812891827,
          -0.8258675882531213,
          1.9984481029246037,
          -1.4476154064009819,
          -2.13047050877404,
          -1.447391400404165,
          1.0388844704366538,
          -0.8259504422420691,
          -1.4244211013161403,
          -1.4475961962161707,
          0.4921329526355993,
          -1.4237539523318399,
          -1.4473660431148785,
          -1.1982434975783476,
          -1.198253197722053,
          -1.1982546981289033,
          1.0387372035142264,
          -0.49391503924493674,
          -1.4476061928733386,
          1.0387838031332481,
          1.0387372037281215,
          -0.8252721640083502,
          1.37357082861519,
          -1.4246503419364949,
          -1.1982067496666948,
          -1.447645679158007,
          -2.0487733187682275,
          -0.49412154849826223,
          1.0387686280298598,
          -1.4368033584417998,
          2.097732071466649,
          -2.0897919243408887,
          2.2641463699879876,
          2.0284526960691514,
          2.2512814708988613,
          -1.7448737660920028,
          0.7894281410125422,
          -1.7447386968581715,
          -1.4357400951864285,
          1.038778878353265,
          -1.9675624316115579,
          1.0387490798340837,
          -1.4476456568530955,
          0.7894072350520199,
          0.7893534114103803,
          -1.1774687564068644,
          2.2471554108969745,
          -1.9675609400911909,
          2.21945557346251,
          1.4134782877986485,
          1.4533161360999498,
          -1.4757573302654903,
          0.7896288527927554,
          -1.435646952537731,
          1.3705836855911238,
          -1.4476167694203639,
          1.0387371929371179,
          -0.8259075480960774,
          -2.572315105801264,
          1.0387382065925035,
          -1.424667326944923,
          1.0387371930440656,
          1.0387595059492611,
          1.0387773161175373,
          1.0388122333884469,
          1.0388146920567665,
          -1.198210930001617,
          -1.1982461839122003,
          2.247143424746344,
          -1.6914203584523022,
          -1.3747804958173,
          -1.447628966159627,
          1.919018663219192,
          -0.7464589275502479,
          0.7955592329117985,
          -1.1982532150261436,
          1.4901239404550528,
          -0.4972148389189257,
          1.9070809118546623,
          -1.086883572984197,
          -0.8662391573321637,
          -1.743595044980775,
          -1.9206693162782382,
          2.1236937606082558,
          -1.1982508962446285,
          -1.6867979490604026,
          1.0389670058217901,
          -1.2625949446595452,
          -1.1982182313187766,
          -0.7556447559136568,
          -1.4476456568079767,
          -1.3145631353715506,
          -0.47346106196393845,
          0.7897500716226598,
          1.490129017791657,
          1.038737200530391,
          1.9502658900526935,
          1.0387372026147976,
          1.4901277700868714,
          -0.6283930194358348,
          -1.4475578679557461,
          -0.36938774352607695,
          -1.6796150054145902,
          -1.9671895040200988,
          1.7228506932657968,
          -1.198000784716795,
          2.291436619159156,
          2.2471332059927267,
          1.9514336140628605,
          -1.3725475122080328,
          -1.3145241660047766,
          0.7895319652845877,
          1.3705423270235737,
          2.0985875074356506,
          -1.1869684602281443,
          -1.1982364881823628,
          1.0478479206453764,
          -1.4475418351545062,
          -0.8664516755829985,
          1.210115263441048,
          0.7893571027635196,
          -1.1982558366140066,
          1.4901324014527897,
          -1.314500394054323,
          1.4908033749523997,
          1.0388417349871972,
          -1.1968975214713045,
          -1.198250080643776,
          -1.0753301324557998,
          0.7893668681883407,
          1.3705886737701982,
          1.158892834227383,
          -1.1982558579543119,
          -2.1846724495036383,
          -1.436986193838681,
          0.08555264944468552,
          -0.4581794593155938,
          2.369241396826506,
          1.4813593580680198,
          -1.1977161009580686,
          2.2474306721667334,
          1.9070413763336225,
          0.801237307802896,
          1.0617197099543205,
          2.123862311756224,
          1.3688972473240901,
          -1.5947766368485634,
          -2.058194370972111,
          -2.862505237317375,
          1.0387658077012012,
          1.072041144758503,
          1.038736979149058,
          1.4901143659248042,
          1.9070413763336225,
          0.7898329953764964,
          -1.0781017349460411,
          -4.315414914894251,
          -1.4476406748027508,
          -1.606350145556704,
          -0.8258916757983614,
          -1.4085807762701843,
          1.950805584188698,
          0.7893473832997957,
          2.247306826966385,
          1.4901143651922133,
          1.038746557925358,
          2.1325144712333226,
          -1.744851665352754,
          1.9070413756588263,
          -1.198253893100221,
          -1.1982531197206256,
          1.9072053693420745,
          1.907041376319719,
          -0.8253361264822264,
          2.054292410018755,
          -0.3299516659913123,
          -1.4178913678983913,
          -1.424626242159233,
          -1.1982331289092667,
          -1.1982558376342858,
          -0.3129145765469269,
          -1.1982558419121863,
          0.7894204705336527,
          -1.6865473741199408,
          -1.424651066358923,
          2.2471596746926434,
          -0.6354120890455913,
          -1.1950287704108498,
          0.4921581100315469,
          2.1429759793619665,
          -1.1921838825361053,
          2.136657547772219,
          -0.8258614829594463,
          2.054245634069752,
          2.247123051277061,
          2.2943961590974378,
          2.3420264940466984,
          -1.1748136802249962,
          -0.8259329057809479,
          2.164521221468489,
          -2.187078457036652,
          2.248410077133953,
          -1.1982061965363426,
          -1.7698424135103574,
          -0.15306842533060255,
          -1.314556898834366,
          -0.4940124538199319,
          -1.0561781447297307,
          1.2292841102607066,
          2.04582751724793,
          0.7893588585997933,
          -1.0076427470710811,
          -1.3145468576059052,
          -1.6868549256107397,
          -0.8259482267547341,
          -2.172610073038352,
          -0.8695447511758114,
          -1.3144113265671808,
          1.0387404593643286,
          -1.1982434279093237,
          2.0976091984362353,
          2.0949766977044004,
          -1.1982558376342858,
          0.6306758200515493,
          2.52314923063532,
          -1.0752959754669256,
          -1.4475749372147944,
          -0.8257027742959623,
          -1.4246550853915483,
          1.3674176459776493,
          -0.8259504500278477,
          1.3753686535534195,
          -0.8259504417928901,
          -0.78881654062352,
          -1.0753299094799107,
          0.7893589110738387,
          -1.6868685327636856,
          -1.1958199776102005,
          -2.2275658465725106,
          1.2292878507407083,
          -4.240059401274404,
          -0.7468786767370157,
          1.9167746882179733,
          -1.2340301143028252,
          0.5501245099002728,
          2.2861785420264478,
          2.054260913159816,
          1.9502365754362538,
          1.3705836785239705,
          -1.1412330988540846,
          1.9502365745129357,
          2.251413757527584,
          -1.3537505305892865,
          1.481348284378206,
          -1.6867873740370252,
          2.226687755276095,
          1.6825026372138459,
          1.6825354306718083,
          1.3705423270235766,
          0.042384701837827866,
          2.0464281044170485,
          1.0388182959559833,
          -1.198221874119279,
          1.9071233929943228,
          -1.6868265525247885,
          1.9070991793098802,
          -1.314558688262414,
          -1.1274110996915647,
          1.0538481807009092,
          -1.0753386166862675,
          -1.19820861617221,
          2.1797464883642315,
          -1.6058939020252534,
          -2.185094827274954,
          -1.4476102215318132,
          1.370542326125215,
          1.3706625114655022,
          0.2693844189953189,
          1.3707367884660278,
          -1.4475910137195258,
          -0.36775159496401477,
          -1.075340261515362,
          -1.1630494052939984,
          0.7893473833377622,
          1.0388638576493987,
          1.4989044490928018,
          -1.1982477094087465,
          1.68255261617921,
          -1.198208546897547,
          -0.4941352232022803,
          -1.446642807460528,
          2.247122863753704,
          1.0405303211144394,
          -1.196001969226698,
          -0.8252205389907012,
          -1.4465097732596208,
          1.3705951567688817,
          -1.1981179410462541,
          2.247122863753205,
          1.1067284072440235,
          -0.8664507133228322,
          -1.1973266159274216,
          1.4156256850667954,
          -1.4471828711488453,
          -1.1980176881264541,
          -1.4246677372063776,
          1.0387488157791611,
          1.0388973548806537,
          -0.8836547137807997,
          -0.8662790890670865,
          -0.36977402803700404,
          -0.8029673725899544,
          -1.19767666513356,
          1.0387371942204882,
          -0.7468760997479058,
          -1.1982558397732364,
          -2.340631802064111,
          1.7217512174952208,
          -1.967610987381049,
          2.177973759909926,
          1.9502928550151495,
          1.950236564887661,
          -0.49184706691335905,
          -2.7064065444889676,
          -1.4246551843477937,
          4.36321218001716,
          -1.3623468017567637,
          0.19662129936574957,
          -1.1982215237927096,
          2.249375656646909,
          1.9070581456835016,
          -0.8259501461259805
         ],
         "z": [
          -0.1753506962057823,
          -0.1607331971718766,
          0.44365627084616177,
          -0.2605566292694821,
          -0.35342781509319454,
          -0.10097915503737202,
          -0.340569413818195,
          -0.3379477663502091,
          0.16162031949334182,
          -0.14948118503370159,
          -0.08183671794597114,
          -0.10110426573350247,
          0.04162422814661038,
          -0.35422119054072865,
          0.0200975230948338,
          -0.2799002104946478,
          -0.2608049748035149,
          0.1613608169372915,
          0.03804818787144391,
          -0.05203806774383594,
          -0.35413201197050614,
          -0.17509947086015487,
          -0.26080497484709375,
          -0.28410434582426797,
          -0.3543016482924388,
          -0.2584471297733101,
          -0.35251487747728016,
          -0.3541991714850985,
          -0.044574196047893595,
          -0.32367195573713026,
          -0.3538378126329415,
          -0.2800546680140136,
          -0.17535010693386022,
          -0.35430109907941,
          -0.17535069685559967,
          -0.35420108084681634,
          -0.1753363018824977,
          -0.35423593610906506,
          -0.12854136528132015,
          -0.05203806786367361,
          -0.2799854446464789,
          0.7032388839780692,
          -0.1453621739006842,
          -0.08681964147907603,
          -0.10110426573697161,
          -0.3543010990428035,
          -0.0007303311878447244,
          -0.18059785663870476,
          -0.35401142573284844,
          -0.35430109914738744,
          -0.35126906212365117,
          -0.35403100966282514,
          -0.35430124239186084,
          0.022208363192290158,
          -0.041579073425194304,
          -0.2608049748049518,
          -0.35428526876160255,
          -0.3454238527763814,
          -0.34205328629026943,
          -0.35339133345415413,
          -0.35372400094792467,
          -0.10110426574167354,
          -0.17411408010281798,
          -0.3074917674303776,
          0.9007237922592461,
          -0.10085974725158711,
          -0.26051282360135947,
          -0.10110426573635954,
          0.038048187849081025,
          -0.3522030916930192,
          -0.3540333711311466,
          -0.3542858005361538,
          -0.35430109915742675,
          -0.10110426573307235,
          -0.21479815856820053,
          -0.35377257857893285,
          -0.4084370870635816,
          -0.35422069327226313,
          -0.05949806792364952,
          -0.05181392583657204,
          -0.26080497487289717,
          -0.32152395034921144,
          -0.2606008311479202,
          -0.3496643650592322,
          -0.16931953245531048,
          -0.1722659447276393,
          -0.17432613741939496,
          -0.35430109905707563,
          -0.35428580315217356,
          -0.35396564593664415,
          0.01974368227035334,
          -0.17535069678903611,
          -0.3539465484922945,
          -0.3921210980523391,
          -0.3543010990699774,
          -0.10110424942663253,
          -0.25300106219172463,
          -0.004116886169658422,
          -0.26020185859084843,
          0.17348579678440929,
          -0.10108443028159804,
          -0.2604872503004923,
          -0.26080497480498416,
          -0.2607734156522868,
          -0.26080219156597517,
          -0.1601268838929485,
          -0.17465478741172777,
          -0.35398038923860564,
          -0.3192593356547906,
          -0.35264418175413675,
          -0.1753506967904695,
          -0.10100797571869863,
          -0.26026199539943173,
          -0.1753506968592786,
          -0.17330058609815793,
          2.315925289229697,
          -0.1382792998547952,
          0.6994843623786035,
          0.13260265495579804,
          -0.35335639681299696,
          -0.08131261893221194,
          -0.26080497480265463,
          -0.05203806774469157,
          -0.3485516479214623,
          -0.35239606409305,
          0.03807620511478947,
          -0.35429857891223343,
          -0.04961869185996906,
          -0.35219169029559616,
          0.04145805651832777,
          0.03814650046806002,
          0.038048187862842885,
          -0.34332206397529746,
          -0.10110426574613167,
          -0.39115802125177995,
          -0.4079695596486148,
          0.02224562533360945,
          -0.3541606287790723,
          -0.1751899363392252,
          -0.29043395991952664,
          -0.3611413516584154,
          -0.354301099160289,
          -0.28005466803121587,
          -0.3542925173979784,
          -0.2606323298738271,
          -0.35430000890701235,
          -0.28005466803121587,
          -0.4020683968927178,
          -0.27960830182447194,
          -0.4192994802671575,
          -0.26060068158223454,
          -0.05269643501724392,
          -0.2798349059133523,
          -0.35384997150181263,
          -0.3532536100149024,
          -0.05065276559578712,
          -0.34199439675376675,
          0.022208363332446808,
          0.03836739752416116,
          -0.08125806566849227,
          0.161360816941804,
          0.019931121339005396,
          -0.2798348524681497,
          -0.26051409630811506,
          0.02525496967485886,
          -0.35430112269295133,
          -0.3513919645783509,
          -0.34272645893611453,
          -0.08180373625613518,
          0.05122794021787769,
          -0.35333365808318573,
          -0.2339564003462481,
          -0.08178352021673994,
          0.1307805552374866,
          0.04035931836741852,
          -0.020253439127515288,
          -0.17522603705360879,
          -0.17535069679362325,
          -0.260804974822724,
          -0.28005467120932953,
          -0.051477338656405615,
          -0.39212110514826226,
          -0.27942975376290247,
          -0.3543011291437908,
          -0.3936174138521029,
          -0.35429228235093263,
          -0.08185457284998945,
          -0.3508404612852408,
          -0.3713527479695652,
          -0.10096009413770955,
          -0.26080497486142906,
          0.4601251617833314,
          -0.08179393679548687,
          0.17886720815530271,
          0.18293236544667632,
          -0.3542100735210561,
          -0.27986551770523266,
          -0.10110426573178241,
          -0.10110426576174288,
          -0.09924027318783202,
          0.1826553050002668,
          -0.08183801123329279,
          -0.26080497480469195,
          -0.08162374287819434,
          -0.04042303322799723,
          0.01974368222018026,
          -0.10076642223029866,
          -0.04157907344723611,
          -0.17535069689463867,
          -0.17535069728933453,
          -0.35429255937263293,
          0.1795420898267205,
          -0.16408691304834172,
          -0.17528799358213137,
          -0.17396539466306796,
          0.1614300817740165,
          -0.2800355797042971,
          0.031309798293834325,
          -0.11766160762328902,
          -0.1008886591176746,
          0.022208363192290158,
          -0.17475272426617497,
          -0.23384803599620463,
          -0.0818463240876135,
          -0.2607184787580546,
          -0.1010951554847308,
          -0.1753149287287403,
          -0.29363874641152765,
          -0.3526824397331764,
          -0.10110428006683744,
          -0.2606788193008994,
          -0.2502618700423989,
          -0.3541470645531083,
          0.2738113041350704,
          0.1836808969202222,
          -0.35430109916530633,
          -0.09743767119663903,
          -0.39212109799499806,
          -0.3637087367799584,
          -0.2608049776682609,
          0.1847154823892055,
          0.16139545121821414,
          -0.048169847166464226,
          -0.04320145140425294,
          0.1829021471984244,
          0.017591014676843906,
          -0.34177676216517344,
          -0.2608049749445731,
          -0.3379722793604203,
          6.923656242922776,
          -0.10085016237016144,
          -0.17535069822112256,
          -0.35158179313099386,
          -0.3380500439958794,
          -0.26863977801328415,
          1.3151974506719213,
          -0.10105088551393084,
          0.18334795608403667,
          0.00259979186989208,
          -0.1751139542264778,
          -0.17535069707430676,
          -0.1753167627963224,
          -0.27920458016457883,
          0.18293236544667632,
          -0.10102018514478553,
          -0.08168256577346525,
          -0.17507025591630235,
          0.029127152285388102,
          -0.17519719532935485,
          -0.1751995000402558,
          -0.10109298008296753,
          -0.23394285008504007,
          -0.1752346381293598,
          0.4163761338765103,
          -0.17530258549397615,
          -0.1753047630921405,
          0.25423888725649507,
          -0.18368368916314343,
          -0.35428871408131096,
          -0.23382677640337005,
          -0.10110426609001869,
          -0.41946386834913446,
          0.03804818723496118,
          0.18265530487841722,
          -0.17501870466253922,
          -0.08181957875664789,
          -0.10102587014655665,
          -0.10110426587499098,
          -0.28005466812817914,
          -0.17518693015018566,
          -0.2726159864866307,
          -0.1753464276083685,
          -0.35430109906854385,
          -0.32716869307003865,
          -0.051997580761636845,
          -0.26297565240314447,
          -0.30303995030139236,
          -0.3542579433049656,
          0.16156203002350136,
          -0.27963373784270007,
          -0.337954158161696,
          -0.16149767554225683,
          -0.3529179661834908,
          -0.419232943864891,
          -0.3421397887057921,
          -0.28005466828494874,
          -0.05153866124574624,
          -0.3738710805043857,
          -0.100921922013389,
          -0.10661793335869563,
          -0.09957170061746184,
          -0.35341318071197114,
          -0.05203806788087595,
          0.18419487213252442,
          -0.10080613051310845,
          -0.22038923882655806,
          0.18821620422019666,
          -0.09941883218754188,
          -0.1752763208535474,
          -0.17533478907018668,
          -0.1753437717097829,
          -0.3543010990699774,
          0.04285081149008862,
          -0.10086639024470617,
          -0.35402021382947696,
          -0.3543010990413072,
          -0.047949552278512775,
          -0.24255019238250228,
          0.18281309403750293,
          -0.1750548134960376,
          -0.1011042687327127,
          0.5829938794154549,
          0.041601339610465055,
          -0.35411168113367975,
          0.18039280650465747,
          -0.3263642936667668,
          0.49697962441927446,
          -0.44553397666161415,
          -0.39235763397167406,
          -0.20888981381820254,
          -0.04152128718918674,
          -0.2795678871096746,
          -0.04070713560389251,
          -0.11368612114885923,
          -0.35404989950593185,
          0.038342815197851605,
          -0.35422950984311324,
          -0.10110426574297159,
          -0.27969390260564275,
          -0.2800183331117612,
          -0.05005113497808439,
          -0.23376021661908145,
          0.03835180480104411,
          -0.41675768884736747,
          1.9045045778283167,
          -0.271995206736411,
          0.23853711634972077,
          -0.27835801176456,
          -0.1131246935968091,
          -0.2605556815198268,
          -0.10093014346630096,
          -0.3543011004877285,
          -0.05177952466383557,
          6.107730768044977,
          -0.3542943924112859,
          0.1827107170241798,
          -0.3543011004733934,
          -0.35416666875464137,
          -0.3540593119739608,
          -0.3538488432774184,
          -0.35383402338389497,
          -0.17508001450107305,
          -0.1752925140983723,
          -0.23383246226031937,
          0.12398761870509654,
          0.8086171163291466,
          -0.10100365955014413,
          -0.2658543085942924,
          -0.16683405439643842,
          -0.24261194968592564,
          -0.17533489418348355,
          -0.3482568387679424,
          -0.017372742461528715,
          -0.33781173929758346,
          0.4959594382855323,
          -0.08057939087229457,
          -0.033813580144925505,
          0.02781410535714209,
          -0.39322558222869963,
          -0.17532091714108997,
          0.13120600278571304,
          -0.3529159354248767,
          0.1027315350652929,
          -0.1751240261019439,
          -0.13177932321596691,
          -0.10110426573692399,
          0.2540931842261971,
          0.1661352475879135,
          -0.27762739921721774,
          -0.34822623342897674,
          -0.3543010994699295,
          -0.34196307421372074,
          -0.35430109919053643,
          -0.34823375493870984,
          4.424355390933124,
          -0.10057509993752672,
          6.926148241626715,
          0.35183495546204313,
          0.04059068858814788,
          -0.3008183438525488,
          -0.17381333050536468,
          0.03315498716195639,
          -0.2338940617356685,
          -0.33492387674731033,
          0.08191706907271534,
          0.25432807290076653,
          -0.27894204653529425,
          -0.26080497483132503,
          -0.32120800296585766,
          -0.10731164384420436,
          -0.17523406283133522,
          -0.2993849364032715,
          -0.10047846639077862,
          -0.08185470156573886,
          0.2629937533176933,
          -0.2799960830182826,
          -0.17535069679419693,
          -0.3482058395523447,
          0.25447136724785463,
          -0.3441614428473067,
          -0.35367102141761053,
          -0.16716324654600118,
          -0.1753160020888252,
          0.02226941706744545,
          -0.27993722064518906,
          -0.26052561477478753,
          -0.2890996292888347,
          -0.17535069965464234,
          -0.307569567383195,
          0.17929074132781045,
          -0.039854342088609905,
          -0.3139128479619066,
          0.5021895085278666,
          -0.31066297692557066,
          -0.17209736647425233,
          -0.23210103128795576,
          -0.3380500439958794,
          -0.29273078426324906,
          -0.21577088658641488,
          -0.39220962520841085,
          -0.31104972850471474,
          0.16455115203145348,
          0.7530997465690354,
          0.23568609992413977,
          -0.35412868299161243,
          -0.15355677401276152,
          -0.3543011291437908,
          -0.3483145500176892,
          -0.3380500439958794,
          -0.27712755772253167,
          -0.11015844269795191,
          -0.34851777682595975,
          -0.1010742348094968,
          0.06948509705011408,
          -0.0516838459262228,
          0.2155709855183307,
          -0.33870961644458686,
          -0.2800546680154472,
          -0.2328474799924089,
          -0.348314550115885,
          -0.35424471432876525,
          -0.4485089583516321,
          -0.04138807003312418,
          -0.3380500440863288,
          -0.17533898215209495,
          -0.17533432039552468,
          -0.3370615550249793,
          -0.33805004399774286,
          -0.04833518766511652,
          -0.36343483216169753,
          -0.1590996420145438,
          0.17575913429821655,
          0.18295836174943078,
          -0.17521382200717317,
          -0.17535069693095467,
          7.535118238172994,
          -0.17535069750436255,
          -0.2796141217642201,
          0.13271637077926887,
          0.18280873065321226,
          -0.23373451836594458,
          -0.014241597242114991,
          -0.15589887802970837,
          -0.22023760157521297,
          -0.41941924026053123,
          0.34593650277701715,
          -0.4335288720281046,
          -0.0515018614482268,
          -0.36371679758257575,
          -0.23395523337010507,
          0.20436527140376928,
          0.3380972582209156,
          -0.03404988008507487,
          -0.05193236922014349,
          -0.3522000702589296,
          0.003060251074092411,
          -0.22619751835254837,
          -0.17505148076568253,
          0.14347583886916385,
          1.681008942088555,
          0.2541308118819193,
          0.04225891348255611,
          2.752147165342454,
          -0.3164530666776566,
          -0.3690759230285262,
          -0.2799854994465266,
          -0.13710373547716134,
          0.25419129684403186,
          0.13086255808505118,
          -0.052023656896003995,
          -0.037343511551061886,
          -0.14083314705524724,
          0.2550082300551337,
          -0.35428147400598026,
          -0.17527583922259465,
          -0.327104820677402,
          -0.43210118181695684,
          -0.17535069693095467,
          -0.10926683485526364,
          1.5832111693860325,
          0.022475304215008065,
          -0.10067799269731387,
          -0.050545212786811,
          0.1827845136862732,
          -0.319968246541835,
          -0.052038068924478265,
          -0.23171363018599495,
          -0.05203806782066806,
          -0.12402481996868207,
          0.022270766058517147,
          -0.2799851829013309,
          0.13078055490805013,
          -0.16066715467614645,
          0.06229532445166679,
          -0.3164305156117489,
          -0.1918779891991319,
          -0.1693641480815091,
          -0.27938095914808914,
          0.19288594397827333,
          -0.04816984702784278,
          -0.3793558273612475,
          -0.36362469655521407,
          -0.34213978807327683,
          -0.2605557241178715,
          0.32727759964395264,
          -0.34213978819703805,
          -0.20809205840035488,
          0.2944013198395564,
          -0.31072972546981475,
          0.13126973569896816,
          -0.3865304000917057,
          -0.3224946066137279,
          -0.3222969454771924,
          -0.26080497483132475,
          -0.03560033057136478,
          -0.39993918099631154,
          -0.3538122992246679,
          -0.17514598309081247,
          -0.33755566431859196,
          0.13103358085419803,
          -0.3377016295804222,
          0.2541199857807289,
          0.25167845570765973,
          -0.36287377588416747,
          0.022218277353887254,
          -0.17506606538680877,
          -0.4031206406544538,
          0.07223518281357522,
          0.015017106325690532,
          -0.1008906494749361,
          -0.26080497495174076,
          -0.2600805471881966,
          -0.1408860022866927,
          -0.2596328278488234,
          -0.10077489685710933,
          6.936010338423759,
          0.022208363299804048,
          0.036862143187480406,
          -0.2800546680103583,
          -0.35353149540484,
          -0.29533110749585867,
          -0.1753016968551382,
          -0.32219291832085845,
          -0.17506564970093152,
          0.04151890254132676,
          -0.09505944979232915,
          -0.23395640034618087,
          -0.34349282395199976,
          -0.16176460187370367,
          0.16666484508430865,
          -0.09425754000984743,
          -0.26048653641149117,
          -0.17451951544837352,
          -0.2339564003462481,
          0.05552650430588368,
          -0.08185457258478818,
          -0.16974969205584017,
          -0.32334295176013034,
          -0.09831476143524331,
          -0.17391522081639696,
          0.18270824081278594,
          -0.35423110587529755,
          -0.3533357589592173,
          -0.023141349103873592,
          -0.08082008347816468,
          6.923819847846327,
          0.08649553424620082,
          -0.1718596584216986,
          -0.3543011003157062,
          -0.16934862708763068,
          -0.17535069721765847,
          -0.15794750184684309,
          -0.3074455963232041,
          0.03805013807728305,
          -0.3673753379391192,
          -0.341800556043872,
          -0.3421397894872061,
          0.05531107776367652,
          0.3514370794549923,
          0.18278390452448437,
          32.41505939362833,
          0.2516779936711365,
          4.239426305615081,
          -0.17514385702498275,
          -0.2203773564881796,
          -0.3379489648964145,
          -0.052036290004964646
         ]
        }
       ],
       "layout": {
        "autosize": true,
        "coloraxis": {
         "colorbar": {
          "title": {
           "text": "Class"
          }
         },
         "colorscale": [
          [
           0,
           "#0d0887"
          ],
          [
           0.1111111111111111,
           "#46039f"
          ],
          [
           0.2222222222222222,
           "#7201a8"
          ],
          [
           0.3333333333333333,
           "#9c179e"
          ],
          [
           0.4444444444444444,
           "#bd3786"
          ],
          [
           0.5555555555555556,
           "#d8576b"
          ],
          [
           0.6666666666666666,
           "#ed7953"
          ],
          [
           0.7777777777777778,
           "#fb9f3a"
          ],
          [
           0.8888888888888888,
           "#fdca26"
          ],
          [
           1,
           "#f0f921"
          ]
         ]
        },
        "legend": {
         "tracegroupgap": 0,
         "x": 0,
         "y": 1
        },
        "margin": {
         "t": 60
        },
        "scene": {
         "aspectmode": "auto",
         "aspectratio": {
          "x": 1.5586713879213592,
          "y": 0.41161469729632993,
          "z": 1.5586713879213592
         },
         "domain": {
          "x": [
           0,
           1
          ],
          "y": [
           0,
           1
          ]
         },
         "xaxis": {
          "title": {
           "text": "PC 1"
          },
          "type": "linear"
         },
         "yaxis": {
          "title": {
           "text": "PC 2"
          },
          "type": "linear"
         },
         "zaxis": {
          "title": {
           "text": "PC 1"
          },
          "type": "linear"
         }
        },
        "template": {
         "data": {
          "bar": [
           {
            "error_x": {
             "color": "#2a3f5f"
            },
            "error_y": {
             "color": "#2a3f5f"
            },
            "marker": {
             "line": {
              "color": "#E5ECF6",
              "width": 0.5
             }
            },
            "type": "bar"
           }
          ],
          "barpolar": [
           {
            "marker": {
             "line": {
              "color": "#E5ECF6",
              "width": 0.5
             }
            },
            "type": "barpolar"
           }
          ],
          "carpet": [
           {
            "aaxis": {
             "endlinecolor": "#2a3f5f",
             "gridcolor": "white",
             "linecolor": "white",
             "minorgridcolor": "white",
             "startlinecolor": "#2a3f5f"
            },
            "baxis": {
             "endlinecolor": "#2a3f5f",
             "gridcolor": "white",
             "linecolor": "white",
             "minorgridcolor": "white",
             "startlinecolor": "#2a3f5f"
            },
            "type": "carpet"
           }
          ],
          "choropleth": [
           {
            "colorbar": {
             "outlinewidth": 0,
             "ticks": ""
            },
            "type": "choropleth"
           }
          ],
          "contour": [
           {
            "colorbar": {
             "outlinewidth": 0,
             "ticks": ""
            },
            "colorscale": [
             [
              0,
              "#0d0887"
             ],
             [
              0.1111111111111111,
              "#46039f"
             ],
             [
              0.2222222222222222,
              "#7201a8"
             ],
             [
              0.3333333333333333,
              "#9c179e"
             ],
             [
              0.4444444444444444,
              "#bd3786"
             ],
             [
              0.5555555555555556,
              "#d8576b"
             ],
             [
              0.6666666666666666,
              "#ed7953"
             ],
             [
              0.7777777777777778,
              "#fb9f3a"
             ],
             [
              0.8888888888888888,
              "#fdca26"
             ],
             [
              1,
              "#f0f921"
             ]
            ],
            "type": "contour"
           }
          ],
          "contourcarpet": [
           {
            "colorbar": {
             "outlinewidth": 0,
             "ticks": ""
            },
            "type": "contourcarpet"
           }
          ],
          "heatmap": [
           {
            "colorbar": {
             "outlinewidth": 0,
             "ticks": ""
            },
            "colorscale": [
             [
              0,
              "#0d0887"
             ],
             [
              0.1111111111111111,
              "#46039f"
             ],
             [
              0.2222222222222222,
              "#7201a8"
             ],
             [
              0.3333333333333333,
              "#9c179e"
             ],
             [
              0.4444444444444444,
              "#bd3786"
             ],
             [
              0.5555555555555556,
              "#d8576b"
             ],
             [
              0.6666666666666666,
              "#ed7953"
             ],
             [
              0.7777777777777778,
              "#fb9f3a"
             ],
             [
              0.8888888888888888,
              "#fdca26"
             ],
             [
              1,
              "#f0f921"
             ]
            ],
            "type": "heatmap"
           }
          ],
          "heatmapgl": [
           {
            "colorbar": {
             "outlinewidth": 0,
             "ticks": ""
            },
            "colorscale": [
             [
              0,
              "#0d0887"
             ],
             [
              0.1111111111111111,
              "#46039f"
             ],
             [
              0.2222222222222222,
              "#7201a8"
             ],
             [
              0.3333333333333333,
              "#9c179e"
             ],
             [
              0.4444444444444444,
              "#bd3786"
             ],
             [
              0.5555555555555556,
              "#d8576b"
             ],
             [
              0.6666666666666666,
              "#ed7953"
             ],
             [
              0.7777777777777778,
              "#fb9f3a"
             ],
             [
              0.8888888888888888,
              "#fdca26"
             ],
             [
              1,
              "#f0f921"
             ]
            ],
            "type": "heatmapgl"
           }
          ],
          "histogram": [
           {
            "marker": {
             "colorbar": {
              "outlinewidth": 0,
              "ticks": ""
             }
            },
            "type": "histogram"
           }
          ],
          "histogram2d": [
           {
            "colorbar": {
             "outlinewidth": 0,
             "ticks": ""
            },
            "colorscale": [
             [
              0,
              "#0d0887"
             ],
             [
              0.1111111111111111,
              "#46039f"
             ],
             [
              0.2222222222222222,
              "#7201a8"
             ],
             [
              0.3333333333333333,
              "#9c179e"
             ],
             [
              0.4444444444444444,
              "#bd3786"
             ],
             [
              0.5555555555555556,
              "#d8576b"
             ],
             [
              0.6666666666666666,
              "#ed7953"
             ],
             [
              0.7777777777777778,
              "#fb9f3a"
             ],
             [
              0.8888888888888888,
              "#fdca26"
             ],
             [
              1,
              "#f0f921"
             ]
            ],
            "type": "histogram2d"
           }
          ],
          "histogram2dcontour": [
           {
            "colorbar": {
             "outlinewidth": 0,
             "ticks": ""
            },
            "colorscale": [
             [
              0,
              "#0d0887"
             ],
             [
              0.1111111111111111,
              "#46039f"
             ],
             [
              0.2222222222222222,
              "#7201a8"
             ],
             [
              0.3333333333333333,
              "#9c179e"
             ],
             [
              0.4444444444444444,
              "#bd3786"
             ],
             [
              0.5555555555555556,
              "#d8576b"
             ],
             [
              0.6666666666666666,
              "#ed7953"
             ],
             [
              0.7777777777777778,
              "#fb9f3a"
             ],
             [
              0.8888888888888888,
              "#fdca26"
             ],
             [
              1,
              "#f0f921"
             ]
            ],
            "type": "histogram2dcontour"
           }
          ],
          "mesh3d": [
           {
            "colorbar": {
             "outlinewidth": 0,
             "ticks": ""
            },
            "type": "mesh3d"
           }
          ],
          "parcoords": [
           {
            "line": {
             "colorbar": {
              "outlinewidth": 0,
              "ticks": ""
             }
            },
            "type": "parcoords"
           }
          ],
          "pie": [
           {
            "automargin": true,
            "type": "pie"
           }
          ],
          "scatter": [
           {
            "marker": {
             "colorbar": {
              "outlinewidth": 0,
              "ticks": ""
             }
            },
            "type": "scatter"
           }
          ],
          "scatter3d": [
           {
            "line": {
             "colorbar": {
              "outlinewidth": 0,
              "ticks": ""
             }
            },
            "marker": {
             "colorbar": {
              "outlinewidth": 0,
              "ticks": ""
             }
            },
            "type": "scatter3d"
           }
          ],
          "scattercarpet": [
           {
            "marker": {
             "colorbar": {
              "outlinewidth": 0,
              "ticks": ""
             }
            },
            "type": "scattercarpet"
           }
          ],
          "scattergeo": [
           {
            "marker": {
             "colorbar": {
              "outlinewidth": 0,
              "ticks": ""
             }
            },
            "type": "scattergeo"
           }
          ],
          "scattergl": [
           {
            "marker": {
             "colorbar": {
              "outlinewidth": 0,
              "ticks": ""
             }
            },
            "type": "scattergl"
           }
          ],
          "scattermapbox": [
           {
            "marker": {
             "colorbar": {
              "outlinewidth": 0,
              "ticks": ""
             }
            },
            "type": "scattermapbox"
           }
          ],
          "scatterpolar": [
           {
            "marker": {
             "colorbar": {
              "outlinewidth": 0,
              "ticks": ""
             }
            },
            "type": "scatterpolar"
           }
          ],
          "scatterpolargl": [
           {
            "marker": {
             "colorbar": {
              "outlinewidth": 0,
              "ticks": ""
             }
            },
            "type": "scatterpolargl"
           }
          ],
          "scatterternary": [
           {
            "marker": {
             "colorbar": {
              "outlinewidth": 0,
              "ticks": ""
             }
            },
            "type": "scatterternary"
           }
          ],
          "surface": [
           {
            "colorbar": {
             "outlinewidth": 0,
             "ticks": ""
            },
            "colorscale": [
             [
              0,
              "#0d0887"
             ],
             [
              0.1111111111111111,
              "#46039f"
             ],
             [
              0.2222222222222222,
              "#7201a8"
             ],
             [
              0.3333333333333333,
              "#9c179e"
             ],
             [
              0.4444444444444444,
              "#bd3786"
             ],
             [
              0.5555555555555556,
              "#d8576b"
             ],
             [
              0.6666666666666666,
              "#ed7953"
             ],
             [
              0.7777777777777778,
              "#fb9f3a"
             ],
             [
              0.8888888888888888,
              "#fdca26"
             ],
             [
              1,
              "#f0f921"
             ]
            ],
            "type": "surface"
           }
          ],
          "table": [
           {
            "cells": {
             "fill": {
              "color": "#EBF0F8"
             },
             "line": {
              "color": "white"
             }
            },
            "header": {
             "fill": {
              "color": "#C8D4E3"
             },
             "line": {
              "color": "white"
             }
            },
            "type": "table"
           }
          ]
         },
         "layout": {
          "annotationdefaults": {
           "arrowcolor": "#2a3f5f",
           "arrowhead": 0,
           "arrowwidth": 1
          },
          "autotypenumbers": "strict",
          "coloraxis": {
           "colorbar": {
            "outlinewidth": 0,
            "ticks": ""
           }
          },
          "colorscale": {
           "diverging": [
            [
             0,
             "#8e0152"
            ],
            [
             0.1,
             "#c51b7d"
            ],
            [
             0.2,
             "#de77ae"
            ],
            [
             0.3,
             "#f1b6da"
            ],
            [
             0.4,
             "#fde0ef"
            ],
            [
             0.5,
             "#f7f7f7"
            ],
            [
             0.6,
             "#e6f5d0"
            ],
            [
             0.7,
             "#b8e186"
            ],
            [
             0.8,
             "#7fbc41"
            ],
            [
             0.9,
             "#4d9221"
            ],
            [
             1,
             "#276419"
            ]
           ],
           "sequential": [
            [
             0,
             "#0d0887"
            ],
            [
             0.1111111111111111,
             "#46039f"
            ],
            [
             0.2222222222222222,
             "#7201a8"
            ],
            [
             0.3333333333333333,
             "#9c179e"
            ],
            [
             0.4444444444444444,
             "#bd3786"
            ],
            [
             0.5555555555555556,
             "#d8576b"
            ],
            [
             0.6666666666666666,
             "#ed7953"
            ],
            [
             0.7777777777777778,
             "#fb9f3a"
            ],
            [
             0.8888888888888888,
             "#fdca26"
            ],
            [
             1,
             "#f0f921"
            ]
           ],
           "sequentialminus": [
            [
             0,
             "#0d0887"
            ],
            [
             0.1111111111111111,
             "#46039f"
            ],
            [
             0.2222222222222222,
             "#7201a8"
            ],
            [
             0.3333333333333333,
             "#9c179e"
            ],
            [
             0.4444444444444444,
             "#bd3786"
            ],
            [
             0.5555555555555556,
             "#d8576b"
            ],
            [
             0.6666666666666666,
             "#ed7953"
            ],
            [
             0.7777777777777778,
             "#fb9f3a"
            ],
            [
             0.8888888888888888,
             "#fdca26"
            ],
            [
             1,
             "#f0f921"
            ]
           ]
          },
          "colorway": [
           "#636efa",
           "#EF553B",
           "#00cc96",
           "#ab63fa",
           "#FFA15A",
           "#19d3f3",
           "#FF6692",
           "#B6E880",
           "#FF97FF",
           "#FECB52"
          ],
          "font": {
           "color": "#2a3f5f"
          },
          "geo": {
           "bgcolor": "white",
           "lakecolor": "white",
           "landcolor": "#E5ECF6",
           "showlakes": true,
           "showland": true,
           "subunitcolor": "white"
          },
          "hoverlabel": {
           "align": "left"
          },
          "hovermode": "closest",
          "mapbox": {
           "style": "light"
          },
          "paper_bgcolor": "white",
          "plot_bgcolor": "#E5ECF6",
          "polar": {
           "angularaxis": {
            "gridcolor": "white",
            "linecolor": "white",
            "ticks": ""
           },
           "bgcolor": "#E5ECF6",
           "radialaxis": {
            "gridcolor": "white",
            "linecolor": "white",
            "ticks": ""
           }
          },
          "scene": {
           "xaxis": {
            "backgroundcolor": "#E5ECF6",
            "gridcolor": "white",
            "gridwidth": 2,
            "linecolor": "white",
            "showbackground": true,
            "ticks": "",
            "zerolinecolor": "white"
           },
           "yaxis": {
            "backgroundcolor": "#E5ECF6",
            "gridcolor": "white",
            "gridwidth": 2,
            "linecolor": "white",
            "showbackground": true,
            "ticks": "",
            "zerolinecolor": "white"
           },
           "zaxis": {
            "backgroundcolor": "#E5ECF6",
            "gridcolor": "white",
            "gridwidth": 2,
            "linecolor": "white",
            "showbackground": true,
            "ticks": "",
            "zerolinecolor": "white"
           }
          },
          "shapedefaults": {
           "line": {
            "color": "#2a3f5f"
           }
          },
          "ternary": {
           "aaxis": {
            "gridcolor": "white",
            "linecolor": "white",
            "ticks": ""
           },
           "baxis": {
            "gridcolor": "white",
            "linecolor": "white",
            "ticks": ""
           },
           "bgcolor": "#E5ECF6",
           "caxis": {
            "gridcolor": "white",
            "linecolor": "white",
            "ticks": ""
           }
          },
          "title": {
           "x": 0.05
          },
          "xaxis": {
           "automargin": true,
           "gridcolor": "white",
           "linecolor": "white",
           "ticks": "",
           "title": {
            "standoff": 15
           },
           "zerolinecolor": "white",
           "zerolinewidth": 2
          },
          "yaxis": {
           "automargin": true,
           "gridcolor": "white",
           "linecolor": "white",
           "ticks": "",
           "title": {
            "standoff": 15
           },
           "zerolinecolor": "white",
           "zerolinewidth": 2
          }
         }
        }
       }
      },
      "image/png": "[encoded data removed]",
      "text/html": [
       "<div>                            <div id=\"f278362c-772d-4a33-9f05-b911213141fb\" class=\"plotly-graph-div\" style=\"height:525px; width:800px;\"></div>            <script type=\"text/javascript\">                require([\"plotly\"], function(Plotly) {                    window.PLOTLYENV=window.PLOTLYENV || {};                                    if (document.getElementById(\"f278362c-772d-4a33-9f05-b911213141fb\")) {                    Plotly.newPlot(                        \"f278362c-772d-4a33-9f05-b911213141fb\",                        [{\"customdata\": [[\"Scrypt\"], [\"Scrypt\"], [\"X13\"], [\"SHA-256\"], [\"Scrypt\"], [\"X11\"], [\"Ethash\"], [\"Equihash\"], [\"SHA-512\"], [\"Multiple\"], [\"SHA-256\"], [\"X11\"], [\"SHA-256\"], [\"Scrypt\"], [\"X15\"], [\"X11\"], [\"SHA-256\"], [\"X13\"], [\"X13\"], [\"Scrypt\"], [\"Scrypt\"], [\"Scrypt\"], [\"SHA-256\"], [\"Multiple\"], [\"Scrypt\"], [\"SHA-256\"], [\"Scrypt\"], [\"Scrypt\"], [\"Quark\"], [\"Groestl\"], [\"Scrypt\"], [\"X11\"], [\"Scrypt\"], [\"Scrypt\"], [\"Scrypt\"], [\"Scrypt\"], [\"Scrypt\"], [\"Scrypt\"], [\"Multiple\"], [\"Scrypt\"], [\"X11\"], [\"Scrypt\"], [\"Groestl\"], [\"Multiple\"], [\"X11\"], [\"Scrypt\"], [\"SHA-256\"], [\"Scrypt\"], [\"Scrypt\"], [\"Scrypt\"], [\"Scrypt\"], [\"Scrypt\"], [\"Scrypt\"], [\"X11\"], [\"NIST5\"], [\"SHA-256\"], [\"Scrypt\"], [\"NeoScrypt\"], [\"Scrypt\"], [\"Scrypt\"], [\"Scrypt\"], [\"X11\"], [\"Scrypt\"], [\"Multiple\"], [\"Scrypt\"], [\"X11\"], [\"SHA-256\"], [\"X11\"], [\"X13\"], [\"Scrypt\"], [\"Scrypt\"], [\"Scrypt\"], [\"Scrypt\"], [\"X11\"], [\"SHA3\"], [\"Scrypt\"], [\"HybridScryptHash256\"], [\"Scrypt\"], [\"SHA-256\"], [\"Scrypt\"], [\"SHA-256\"], [\"Scrypt\"], [\"SHA-256\"], [\"Scrypt\"], [\"NeoScrypt\"], [\"Scrypt\"], [\"Scrypt\"], [\"Scrypt\"], [\"Scrypt\"], [\"Scrypt\"], [\"X15\"], [\"Scrypt\"], [\"Scrypt\"], [\"Scrypt-n\"], [\"Scrypt\"], [\"X11\"], [\"SHA-256\"], [\"Multiple\"], [\"SHA-256\"], [\"PHI1612\"], [\"X11\"], [\"SHA-256\"], [\"SHA-256\"], [\"SHA-256\"], [\"SHA-256\"], [\"Scrypt\"], [\"Scrypt\"], [\"Scrypt\"], [\"Lyra2REv2\"], [\"Scrypt\"], [\"Scrypt\"], [\"X11\"], [\"SHA-256\"], [\"Scrypt\"], [\"Scrypt\"], [\"CryptoNight\"], [\"CryptoNight\"], [\"Shabal256\"], [\"Counterparty\"], [\"Scrypt\"], [\"SHA-256\"], [\"SHA-256\"], [\"Scrypt\"], [\"Scrypt\"], [\"Scrypt\"], [\"X13\"], [\"Scrypt\"], [\"Scrypt\"], [\"Scrypt\"], [\"SHA-256\"], [\"X13\"], [\"X13\"], [\"Scrypt\"], [\"X11\"], [\"Momentum\"], [\"Stanford Folding\"], [\"X11\"], [\"Scrypt\"], [\"Scrypt\"], [\"Scrypt\"], [\"M7 POW\"], [\"Scrypt\"], [\"X11\"], [\"Scrypt\"], [\"SHA-256\"], [\"Scrypt\"], [\"X11\"], [\"SHA3\"], [\"X11\"], [\"Lyra2RE\"], [\"SHA-256\"], [\"QUAIT\"], [\"X11\"], [\"Scrypt\"], [\"Scrypt\"], [\"Scrypt\"], [\"Ethash\"], [\"X11\"], [\"X13\"], [\"SHA-256\"], [\"X13\"], [\"X15\"], [\"X11\"], [\"SHA-256\"], [\"BLAKE256\"], [\"Scrypt\"], [\"Scrypt\"], [\"1GB AES Pattern Search\"], [\"SHA-256\"], [\"X11\"], [\"Scrypt\"], [\"CryptoNight\"], [\"SHA-256\"], [\"Quark\"], [\"SHA-256\"], [\"Blake\"], [\"Scrypt\"], [\"Scrypt\"], [\"SHA-256\"], [\"X11\"], [\"Scrypt\"], [\"Scrypt-n\"], [\"X11\"], [\"Scrypt\"], [\"Dagger\"], [\"Scrypt\"], [\"SHA-256\"], [\"CryptoNight-Lite\"], [\"X11GOST\"], [\"X11\"], [\"SHA-256\"], [\"Scrypt\"], [\"SHA-256\"], [\"Scrypt\"], [\"PoS\"], [\"Scrypt\"], [\"X11\"], [\"X11\"], [\"X11\"], [\"X11\"], [\"PoS\"], [\"SHA-256\"], [\"SHA-256\"], [\"SHA-256\"], [\"NIST5\"], [\"X15\"], [\"X11\"], [\"NIST5\"], [\"Scrypt\"], [\"Scrypt\"], [\"Scrypt\"], [\"POS 3.0\"], [\"Scrypt\"], [\"Scrypt\"], [\"Scrypt\"], [\"X13\"], [\"X11\"], [\"X11\"], [\"Equihash\"], [\"X11\"], [\"X11\"], [\"Scrypt\"], [\"CryptoNight\"], [\"SHA-256\"], [\"SHA-256\"], [\"X11\"], [\"Scrypt\"], [\"Multiple\"], [\"Scrypt\"], [\"X11\"], [\"SHA-256\"], [\"Scrypt\"], [\"Scrypt\"], [\"SHA-256D\"], [\"PoS\"], [\"Scrypt\"], [\"X11\"], [\"Scrypt-n\"], [\"Lyra2Z\"], [\"SHA-256\"], [\"PoS\"], [\"X13\"], [\"Quark\"], [\"X14\"], [\"PoS\"], [\"SHA-256D\"], [\"Ethash\"], [\"SHA-256\"], [\"Equihash\"], [\"DPoS\"], [\"X11\"], [\"Scrypt\"], [\"Scrypt\"], [\"Equihash\"], [\"X11\"], [\"X13\"], [\"X11\"], [\"PoS\"], [\"SHA-256D\"], [\"Scrypt\"], [\"Scrypt\"], [\"Scrypt\"], [\"X11\"], [\"PoS\"], [\"X11\"], [\"SHA-256\"], [\"Scrypt\"], [\"X11\"], [\"Scrypt\"], [\"Scrypt\"], [\"X11\"], [\"CryptoNight\"], [\"Scrypt\"], [\"Scrypt\"], [\"Scrypt\"], [\"Scrypt\"], [\"Quark\"], [\"QuBit\"], [\"Scrypt\"], [\"CryptoNight\"], [\"X11\"], [\"Lyra2RE\"], [\"X13\"], [\"PoS\"], [\"Scrypt\"], [\"SHA-256\"], [\"X11\"], [\"X11\"], [\"X11\"], [\"Scrypt\"], [\"X11\"], [\"Scrypt\"], [\"Scrypt\"], [\"CryptoNight-V7\"], [\"Scrypt\"], [\"Scrypt\"], [\"Keccak\"], [\"Scrypt\"], [\"X13\"], [\"X11\"], [\"Equihash\"], [\"Scrypt\"], [\"Scrypt\"], [\"Lyra2RE\"], [\"Ethash\"], [\"X11\"], [\"Scrypt\"], [\"Dagger-Hashimoto\"], [\"X11\"], [\"Blake2S\"], [\"X11\"], [\"Scrypt\"], [\"Scrypt\"], [\"PoS\"], [\"X11\"], [\"NIST5\"], [\"PoS\"], [\"X11\"], [\"Scrypt\"], [\"Scrypt\"], [\"Scrypt\"], [\"Scrypt\"], [\"SHA-256\"], [\"X11\"], [\"Scrypt\"], [\"Scrypt\"], [\"Scrypt\"], [\"SHA-256\"], [\"PoS\"], [\"Scrypt\"], [\"X11\"], [\"X15\"], [\"SHA-256\"], [\"Scrypt\"], [\"POS 3.0\"], [\"CryptoNight-V7\"], [\"536\"], [\"Blake2b\"], [\"Cloverhash\"], [\"CryptoNight\"], [\"NIST5\"], [\"X11\"], [\"NIST5\"], [\"Skein\"], [\"Scrypt\"], [\"X13\"], [\"Scrypt\"], [\"X11\"], [\"X11\"], [\"X11\"], [\"Scrypt\"], [\"CryptoNight\"], [\"X13\"], [\"Time Travel\"], [\"Scrypt\"], [\"Keccak\"], [\"SkunkHash v2 Raptor\"], [\"X11\"], [\"Skein\"], [\"SHA-256\"], [\"X11\"], [\"Scrypt\"], [\"Scrypt\"], [\"VeChainThor Authority\"], [\"Scrypt\"], [\"PoS\"], [\"Scrypt\"], [\"Scrypt\"], [\"Scrypt\"], [\"Scrypt\"], [\"Scrypt\"], [\"Scrypt\"], [\"Scrypt\"], [\"CryptoNight\"], [\"SHA-512\"], [\"Ouroboros\"], [\"X11\"], [\"Equihash\"], [\"NeoScrypt\"], [\"X11\"], [\"Scrypt\"], [\"NeoScrypt\"], [\"Lyra2REv2\"], [\"Equihash\"], [\"Scrypt\"], [\"SHA-256\"], [\"NIST5\"], [\"PHI1612\"], [\"Dagger\"], [\"Scrypt\"], [\"Quark\"], [\"Scrypt\"], [\"POS 2.0\"], [\"Scrypt\"], [\"SkunkHash\"], [\"X11\"], [\"Quark\"], [\"SHA-256\"], [\"X11\"], [\"NeoScrypt\"], [\"Scrypt\"], [\"Ethash\"], [\"Scrypt\"], [\"NeoScrypt\"], [\"Quark\"], [\"X11\"], [\"DPoS\"], [\"NIST5\"], [\"X13\"], [\"Multiple\"], [\"Scrypt\"], [\"CryptoNight\"], [\"CryptoNight\"], [\"Ethash\"], [\"NIST5\"], [\"Quark\"], [\"X11\"], [\"SHA-256\"], [\"CryptoNight-V7\"], [\"Scrypt\"], [\"Scrypt\"], [\"Scrypt\"], [\"X11\"], [\"SHA-256\"], [\"BLAKE256\"], [\"X11\"], [\"Scrypt\"], [\"NeoScrypt\"], [\"Quark\"], [\"NeoScrypt\"], [\"Scrypt\"], [\"Scrypt\"], [\"Scrypt\"], [\"X11\"], [\"X11\"], [\"SHA-256\"], [\"C11\"], [\"Scrypt\"], [\"Scrypt\"], [\"POS 3.0\"], [\"Ethash\"], [\"Scrypt\"], [\"CryptoNight\"], [\"SkunkHash\"], [\"Scrypt\"], [\"CryptoNight\"], [\"Equihash\"], [\"Skein\"], [\"Scrypt\"], [\"Dagger\"], [\"Lyra2REv2\"], [\"X13\"], [\"Proof-of-BibleHash\"], [\"SHA-256 + Hive\"], [\"Scrypt\"], [\"Scrypt\"], [\"Scrypt\"], [\"NeoScrypt\"], [\"Equihash\"], [\"X11\"], [\"C11\"], [\"Proof-of-Authority\"], [\"X11\"], [\"XEVAN\"], [\"Scrypt\"], [\"VBFT\"], [\"Ethash\"], [\"X11\"], [\"CryptoNight\"], [\"NeoScrypt\"], [\"Scrypt\"], [\"IMesh\"], [\"NIST5\"], [\"Equihash\"], [\"Scrypt\"], [\"Scrypt\"], [\"Equihash\"], [\"Equihash\"], [\"Scrypt\"], [\"Lyra2Z\"], [\"Equihash\"], [\"Green Protocol\"], [\"PoS\"], [\"Scrypt\"], [\"Scrypt\"], [\"Semux BFT consensus\"], [\"Scrypt\"], [\"X11\"], [\"Quark\"], [\"PoS\"], [\"CryptoNight\"], [\"X16R\"], [\"Scrypt\"], [\"NIST5\"], [\"Lyra2RE\"], [\"XEVAN\"], [\"Tribus\"], [\"Scrypt\"], [\"Lyra2Z\"], [\"CryptoNight\"], [\"CryptoNight Heavy\"], [\"CryptoNight\"], [\"Scrypt\"], [\"Scrypt\"], [\"Jump Consistent Hash\"], [\"SHA-256D\"], [\"CryptoNight\"], [\"Scrypt\"], [\"X15\"], [\"Scrypt\"], [\"Quark\"], [\"SHA-256\"], [\"DPoS\"], [\"X16R\"], [\"HMQ1725\"], [\"X11\"], [\"X16R\"], [\"Quark\"], [\"Quark\"], [\"Scrypt\"], [\"Zhash\"], [\"Lyra2REv2\"], [\"Quark\"], [\"Scrypt\"], [\"Scrypt\"], [\"CryptoNight-V7\"], [\"Cryptonight-GPU\"], [\"Scrypt\"], [\"XEVAN\"], [\"CryptoNight Heavy\"], [\"X11\"], [\"X11\"], [\"Scrypt\"], [\"PoS\"], [\"Lyra2REv2\"], [\"Scrypt\"], [\"SHA-256\"], [\"Scrypt\"], [\"Keccak\"], [\"X11\"], [\"X11\"], [\"Quark\"], [\"Scrypt\"], [\"SHA-512\"], [\"X16R\"], [\"ECC 256K1\"], [\"NeoScrypt\"], [\"Equihash\"], [\"XEVAN\"], [\"Quark\"], [\"CryptoNight Heavy X\"], [\"Lyra2Z\"], [\"Ethash\"], [\"SHA-256\"], [\"XEVAN\"], [\"Ethash\"], [\"CryptoNight\"], [\"Quark\"], [\"SkunkHash\"], [\"Quark\"], [\"Argon2\"], [\"Blake\"], [\"Blake\"], [\"SHA-256\"], [\"Equihash\"], [\"Exosis\"], [\"Scrypt\"], [\"Scrypt\"], [\"Equihash\"], [\"Quark\"], [\"Equihash\"], [\"Quark\"], [\"Scrypt\"], [\"QuBit\"], [\"X11\"], [\"Scrypt\"], [\"Equihash1927\"], [\"XEVAN\"], [\"SHA-256D\"], [\"X11\"], [\"SHA-256\"], [\"SHA-256\"], [\"X13\"], [\"SHA-256\"], [\"X11\"], [\"DPoS\"], [\"X11\"], [\"Scrypt\"], [\"X11\"], [\"Scrypt\"], [\"NeoScrypt\"], [\"Scrypt\"], [\"Blake\"], [\"Scrypt\"], [\"SHA-256\"], [\"X11\"], [\"CryptoNight\"], [\"Scrypt\"], [\"Scrypt\"], [\"SHA-256\"], [\"X11\"], [\"SHA-256\"], [\"Scrypt\"], [\"CryptoNight\"], [\"Scrypt\"], [\"SHA-256\"], [\"Scrypt\"], [\"Groestl\"], [\"X11\"], [\"Scrypt\"], [\"PoS\"], [\"Scrypt\"], [\"Scrypt\"], [\"X11\"], [\"SHA-256\"], [\"DPoS\"], [\"Scrypt\"], [\"Scrypt\"], [\"Scrypt\"], [\"NeoScrypt\"], [\"Scrypt\"], [\"SHA3-256\"], [\"Multiple\"], [\"X13\"], [\"Equihash+Scrypt\"], [\"Ethash\"], [\"Ethash\"], [\"SHA-256\"], [\"Leased POS\"], [\"PoS\"], [\"TRC10\"], [\"PoS\"], [\"SHA-256\"], [\"Scrypt\"], [\"CryptoNight\"], [\"Equihash\"], [\"Scrypt\"]], \"hovertemplate\": \"<b>%{hovertext}</b><br><br>PC 1=%{z}<br>PC 2=%{y}<br>Algorithm=%{customdata[0]}<br>Class=%{marker.color}<extra></extra>\", \"hovertext\": [\"42 Coin\", \"404Coin\", \"EliteCoin\", \"Bitcoin\", \"Litecoin\", \"Dash\", \"Ethereum Classic\", \"ZCash\", \"Bitshares\", \"DigiByte\", \"BitcoinDark\", \"Bitstake\", \"PayCoin\", \"ProsperCoin\", \"KoboCoin\", \"Spreadcoin\", \"ACoin\", \"Aero Coin\", \"ApexCoin\", \"ArchCoin\", \"Argentum\", \"Aurora Coin\", \"BetaCoin\", \"MyriadCoin\", \"MoonCoin\", \"ZetaCoin\", \"SexCoin\", \"Quatloo\", \"QuarkCoin\", \"Riecoin\", \"Digitalcoin \", \"LimeCoinX\", \"BitBar\", \"BitMark\", \"CashCoin\", \"Catcoin\", \"CryptoBullion\", \"CannaCoin\", \"CinderCoin\", \"CoolCoin\", \"CryptCoin\", \"CasinoCoin\", \"Diamond\", \"Verge\", \"DarkCash\", \"DarkShibe\", \"DevCoin\", \"EarthCoin\", \"E-Gulden\", \"Elacoin\", \"Einsteinium\", \"Emerald\", \"Flappy Coin\", \"Fuel2Coin\", \"FIBRE\", \"FireRoosterCoin\", \"Franko\", \"FeatherCoin\", \"GrandCoin\", \"GlobalCoin\", \"GoldCoin\", \"GlyphCoin\", \"HoboNickels\", \"HunterCoin\", \"Infinite Coin\", \"IOCoin\", \"IXcoin\", \"JumBucks Coin\", \"JudgeCoin\", \"KrugerCoin\", \"LuckyCoin\", \"Litebar \", \"LitecoinDark\", \"LibrexCoin\", \"MaxCoin\", \"MegaCoin\", \"MediterraneanCoin\", \"MinCoin\", \"MazaCoin\", \"Nautilus Coin\", \"NoirBits\", \"NobleCoin\", \"Namecoin\", \"NyanCoin\", \"Orbitcoin\", \"PotCoin\", \"PhoenixCoin\", \"RipOffCoin\", \"RonPaulCoin\", \"StableCoin\", \"ShieldCoin\", \"SilkCoin\", \"SmartCoin\", \"SpainCoin\", \"SecureCoin\", \"SyncCoin\", \"SysCoin\", \"TeslaCoin\", \"TigerCoin\", \"TittieCoin\", \"TorCoin\", \"TerraCoin\", \"Umbrella\", \"UnbreakableCoin\", \"Unobtanium\", \"UnitaryStatus Dollar\", \"UltraCoin\", \"ViaCoin\", \"Vertcoin\", \"WorldCoin\", \"SocialXbotCoin\", \"X11 Coin\", \"JouleCoin\", \"XXXCoin\", \"ZCC Coin\", \"ByteCoin\", \"DigitalNote \", \"BurstCoin\", \"StorjCoin\", \"MonaCoin\", \"Neutron\", \"Sling Coin\", \"KryptCoin\", \"Gulden\", \"PesetaCoin\", \"Kore\", \"Wild Beast Coin\", \"Dnotes\", \"Flo\", \"MaieutiCoin\", \"Sativa Coin\", \"AeroMe\", \"ArtByte\", \"MasterTraderCoin\", \"BitCredit\", \"Folding Coin\", \"Ucoin\", \"OmniCron\", \"Vtorrent\", \"GreenCoin\", \"Cryptonite\", \"Gridmaster\", \"ConSpiracy Coin \", \"MasterCoin\", \"SoonCoin\", \"1Credit\", \"Quicksilver coin\", \"Nexus\", \"MarsCoin \", \"Crypto\", \"Anarchists Prime\", \"Droidz\", \"BowsCoin\", \"Song Coin\", \"BitZeny\", \"Diggits\", \"Expanse\", \"MapCoin\", \"Paycon\", \"Emercoin\", \"BlitzCoin\", \"EverGreenCoin\", \"MindCoin\", \"I0coin\", \"Decred\", \"DogeCoinDark\", \"Revolution VR\", \"HOdlcoin\", \"EDRCoin\", \"Hitcoin\", \"Gamecredits\", \"Dashcoin\", \"DubaiCoin\", \"BiosCrypto\", \"CarpeDiemCoin\", \"TrumpCoin\", \"BillaryCoin\", \"EthereumScrypt\", \"Phalanx\", \"SunShotCoin\", \"GPU Coin\", \"HempCoin\", \"Adzcoin\", \"VirtaCoin\", \"SoilCoin\", \"YoCoin\", \"Universal Currency\", \"AEON\", \"SibCoin\", \"EuropeCoin\", \"Anti Bitcoin\", \"ZeitCoin\", \"SwingCoin\", \"SafeExchangeCoin\", \"Nebuchadnezzar\", \"Francs\", \"BolivarCoin\", \"GIZMOcoin\", \"SecretCoin\", \"Ratecoin\", \"Digital Bullion Gold\", \"Revenu\", \"Clinton\", \"Clockcoin\", \"VIP Tokens\", \"OrlyCoin\", \"BitSend\", \"16BitCoin\", \"ChessCoin\", \"ReeCoin\", \"Omni\", \"Let it Ride\", \"PutinCoin\", \"iBankCoin\", \"Frankywillcoin\", \"MudraCoin\", \"PizzaCoin\", \"Lutetium Coin\", \"Komodo\", \"GoldBlocks\", \"WayCoin\", \"CarterCoin\", \"Karbo\", \"BitTokens\", \"ZayedCoin\", \"MustangCoin\", \"ZoneCoin\", \"Circuits of Value\", \"DopeCoin\", \"PROUD Money\", \"DollarCoin\", \"Swiscoin\", \"Shilling\", \"BuzzCoin\", \"Opair\", \"GBR Coin\", \"Halloween Coin\", \"FujiCoin\", \"ZCoin\", \"LeaCoin\", \"CoffeeCoin\", \"RoyalCoin\", \"Zurcoin\", \"GanjaCoin V2\", \"TeamUP\", \"LanaCoin\", \"Elementrem\", \"CashOut\", \"ZClassic\", \"ARK\", \"InsaneCoin\", \"LuckChain\", \"KiloCoin\", \"Hush\", \"ArtexCoin\", \"EmberCoin\", \"XenixCoin\", \"FreeCoin\", \"NPCcoin\", \"PLNCoin\", \"Icobid\", \"AquariusCoin\", \"Kurrent\", \"Creatio\", \"Eternity\", \"Eurocoin\", \"BitcoinFast\", \"Stakenet\", \"BitConnect Coin\", \"MoneyCoin\", \"Enigma\", \"Cannabis Industry Coin\", \"Russiacoin\", \"PandaCoin\", \"GameUnits\", \"GAKHcoin\", \"Allsafe\", \"LiteCreed\", \"OsmiumCoin\", \"Bikercoins\", \"NeptuneClassic\", \"HexxCoin\", \"GoldenBird\", \"Ride My Car\", \"Klingon Empire Darsek\", \"Internet of People\", \"KushCoin\", \"Eryllium\", \"MarxCoin\", \"Printerium\", \"PacCoin\", \"Impeach\", \"Solarflarecoin\", \"Citadel\", \"Zilbercoin\", \"FirstCoin\", \"CreativeChain\", \"BeaverCoin\", \"FindCoin\", \"VaultCoin\", \"Zero\", \"OpenChat\", \"Canada eCoin\", \"Zoin\", \"Musicoin\", \"BnrtxCoin\", \"RenosCoin\", \"DubaiCoin\", \"VirtacoinPlus\", \"TajCoin\", \"Impact\", \"EB3coin\", \"Universe\", \"Atmos\", \"HappyCoin\", \"Coinonat\", \"MacronCoin\", \"Condensate\", \"Independent Money System\", \"ArgusCoin\", \"LomoCoin\", \"Bitcoin Scrypt\", \"ProCurrency\", \"GoldReserve\", \"BenjiRolls\", \"ParallelCoin\", \"GrowthCoin\", \"ILCoin\", \"Phreak\", \"Degas Coin\", \"ZSEcoin\", \"HTML5 Coin\", \"Ultimate Secure Cash\", \"EquiTrader\", \"QTUM\", \"Quantum Resistant Ledger\", \"Espers\", \"Nano\", \"ChanCoin\", \"Dinastycoin\", \"Denarius\", \"DigitalPrice\", \"Virta Unique Coin\", \"Bitcoin Planet\", \"Unify\", \"BritCoin\", \"SocialCoin\", \"Octanox\", \"ArcticCoin\", \"DAS\", \"Linda\", \"LeviarCoin\", \"DeepOnion\", \"Bitcore\", \"gCn Coin\", \"SmartCash\", \"Signatum\", \"Onix\", \"Cream\", \"Bitcoin Cash\", \"Monoeci\", \"CampusCoin\", \"Draftcoin\", \"Vechain\", \"Sojourn Coin\", \"Stakecoin\", \"LiteBitcoin\", \"FrazCoin\", \"Kronecoin\", \"AdCoin\", \"Linx\", \"CoinonatX\", \"Ethereum Dark\", \"Sumokoin\", \"Obsidian\", \"Cardano\", \"Regalcoin\", \"BitcoinZ\", \"TrezarCoin\", \"Elements\", \"TerraNovaCoin\", \"VIVO Coin\", \"Rupee\", \"Bitcoin Gold\", \"WomenCoin\", \"Theresa May Coin\", \"NamoCoin\", \"LUXCoin\", \"Pirl\", \"Xios\", \"Bitcloud 2.0\", \"eBoost\", \"KekCoin\", \"BlackholeCoin\", \"AltCommunity Coin\", \"Pure\", \"Rupaya\", \"Infinity Economics\", \"Pura\", \"Innova\", \"Bitdeal\", \"Ellaism\", \"Sakuracoin\", \"GoByte\", \"Castle\", \"Magnet\", \"Lamden Tau\", \"Electra\", \"Bitcoin Diamond\", \"SHIELD\", \"Cash & Back Coin\", \"UltraNote\", \"BitCoal\", \"DaxxCoin\", \"Bulwark\", \"Kalkulus\", \"AC3\", \"CHIPS\", \"Lethean\", \"GermanCoin\", \"LiteCoin Ultra\", \"PopularCoin\", \"PhantomX\", \"HTML Coin\", \"Photon\", \"Sucre\", \"Fantasy Cash\", \"SparksPay\", \"Digiwage\", \"GunCoin\", \"IrishCoin\", \"Trollcoin\", \"Litecoin Plus\", \"Monkey Project\", \"Pioneer Coin\", \"UnitedBitcoin\", \"Interzone\", \"OP Coin\", \"Valorbit\", \"TokenPay\", \"1717 Masonic Commemorative Token\", \"My Big Coin\", \"TurtleCoin\", \"MUNcoin\", \"Unified Society USDEX\", \"Niobio Cash\", \"Bitcoin Private\", \"Skeincoin\", \"ShareChain\", \"Travelflex\", \"KREDS\", \"Tokyo Coin\", \"BiblePay\", \"LitecoinCash\", \"BitFlip\", \"LottoCoin\", \"LeafCoin\", \"Cerberus\", \"Bitcoin Hush\", \"Crypto Improvement Fund\", \"Stipend\", \"Poa Network\", \"Pushi\", \"Ellerium\", \"Velox\", \"Ontology\", \"Callisto Network\", \"Curium\", \"BitTube\", \"Dinero\", \"Poseidon\", \"Aidos Kuneen\", \"Bitspace\", \"Snowgem\", \"Briacoin\", \"Ignition\", \"Bitrolium\", \"Bitcoin Interest\", \"MedicCoin\", \"Alpenschillling\", \"Zelcash\", \"Bitcoin Green\", \"Deviant Coin\", \"Abjcoin\", \"Profit Hunters Coin\", \"Semux\", \"BitBlocks\", \"FuturoCoin\", \"Carebit\", \"Zealium\", \"Monero Classic\", \"Proton\", \"iDealCash\", \"Jumpcoin\", \"Infinex\", \"Bitcoin Incognito\", \"KEYCO\", \"HollyWoodCoin\", \"GINcoin\", \"PlatinCoin\", \"Loki\", \"Newton Coin\", \"Swisscoin\", \"Xt3ch\", \"MassGrid\", \"TheVig\", \"PluraCoin\", \"EmaratCoin\", \"Dekado\", \"Lynx\", \"Poseidon Quark\", \"BitcoinWSpectrum\", \"Muse\", \"Motion\", \"PlusOneCoin\", \"Axe\", \"Trivechain\", \"Dystem\", \"Giant\", \"Peony Coin\", \"SafeCoin\", \"Absolute Coin\", \"Vitae\", \"HexCoin\", \"TPCash\", \"Webchain\", \"Ryo\", \"MUSDcoin\", \"Urals Coin\", \"Qwertycoin\", \"ARENON\", \"EUNO\", \"MMOCoin\", \"Ketan\", \"NIX\", \"Safe Trade Coin\", \"Project Pai\", \"Mont Blanc\", \"XDNA\", \"PAXEX\", \"Azart\", \"Apollon\", \"ThunderStake\", \"Kcash\", \"Xchange\", \"Acute Angle Cloud\", \"Traid\", \"CrypticCoin\", \"Bettex coin\", \"ZestCoin\", \"X-CASH\", \"Actinium\", \"ETHER-1\", \"Bitcoin SV\", \"BitMoney\", \"Bitcoiin2Gen\", \"FREDEnergy\", \"Zenad\", \"C25 Coin\", \"HerbCoin\", \"Aquachain\", \"Universal Molecule\", \"Lithium\", \"Smart Bitcoin\", \"PirateCash\", \"Exosis\", \"Block-Logic\", \"Oduwa\", \"Beam\", \"Galilel\", \"Bithereum\", \"Crypto Sports\", \"Credit\", \"SLICE\", \"Dash Platinum\", \"Nasdacoin\", \"Vidulum\", \"Beetle Coin\", \"Titan Coin\", \"Award\", \"BlockStamp\", \"BLAST\", \"Bitcoin Rhodium\", \"GlobalToken\", \"Insane Coin\", \"ALAX\", \"The Freedom Coin\", \"LiteDoge\", \"Boolberry\", \"SolarCoin\", \"UFO Coin\", \"OrangeCoin\", \"BlakeCoin\", \"BitstarCoin\", \"NeosCoin\", \"PinkCoin\", \"FantomCoin \", \"Crypto Escudo\", \"AudioCoin\", \"IncaKoin\", \"Piggy Coin\", \"Crown Coin\", \"Genstake\", \"Quazar Coin\", \"SmileyCoin\", \"ParkByte\", \"XiaoMiCoin\", \"Groestlcoin\", \"CapriCoin\", \" ClubCoin\", \"Radium\", \"Bata\", \"Pakcoin\", \"Creditbit \", \"OKCash\", \"Lisk\", \"HiCoin\", \"WhiteCoin\", \"Dotcoin\", \"FriendshipCoin\", \"The Hempcoin\", \"Fiii\", \"JoinCoin\", \"Triangles Coin\", \"Vollar\", \"Reality Clash\", \"iOlite\", \"TigerCash\", \"Waves\", \"Particl\", \"BitTorrent\", \"Nxt\", \"ZEPHYR\", \"Gapcoin\", \"Beldex\", \"Horizen\", \"BitcoinPlus\"], \"legendgroup\": \"\", \"marker\": {\"color\": [0, 0, 0, 1, 1, 0, 1, 1, 0, 1, 0, 0, 0, 1, 0, 1, 1, 0, 0, 0, 1, 0, 1, 1, 1, 1, 1, 1, 1, 1, 1, 1, 0, 1, 0, 1, 0, 1, 0, 0, 1, 0, 0, 1, 0, 1, 1, 1, 1, 1, 1, 1, 1, 0, 0, 1, 1, 1, 1, 1, 1, 0, 0, 1, 1, 0, 1, 0, 0, 1, 1, 1, 1, 0, 0, 1, 1, 1, 0, 0, 1, 1, 1, 1, 0, 0, 0, 1, 1, 1, 0, 0, 1, 1, 1, 0, 1, 0, 1, 0, 0, 1, 1, 1, 1, 0, 0, 1, 1, 1, 0, 0, 1, 0, 0, 1, 1, 0, 0, 1, 0, 1, 0, 1, 1, 0, 1, 0, 1, 0, 0, 0, 1, 0, 1, 1, 0, 1, 0, 1, 1, 1, 1, 1, 1, 1, 1, 0, 1, 1, 1, 0, 1, 1, 1, 0, 1, 0, 0, 0, 0, 0, 1, 1, 0, 1, 1, 1, 0, 0, 1, 1, 0, 0, 1, 0, 0, 0, 1, 1, 0, 1, 1, 1, 1, 1, 0, 1, 1, 0, 1, 0, 0, 0, 0, 1, 1, 0, 0, 0, 0, 0, 1, 0, 0, 0, 0, 0, 0, 0, 1, 0, 0, 0, 0, 0, 1, 0, 1, 0, 0, 0, 1, 0, 1, 0, 0, 1, 1, 0, 1, 0, 1, 0, 0, 1, 0, 1, 1, 1, 0, 0, 1, 0, 0, 0, 1, 1, 1, 0, 0, 0, 1, 1, 1, 0, 0, 0, 0, 0, 0, 0, 1, 0, 0, 0, 0, 0, 0, 0, 0, 1, 0, 0, 0, 0, 0, 0, 1, 1, 0, 1, 0, 0, 0, 0, 0, 0, 1, 0, 1, 0, 1, 1, 0, 0, 1, 1, 0, 1, 1, 0, 1, 1, 1, 1, 0, 1, 0, 0, 0, 1, 0, 0, 0, 1, 0, 0, 0, 0, 0, 1, 0, 0, 1, 1, 0, 1, 0, 0, 0, 0, 0, 1, 0, 1, 0, 1, 1, 1, 0, 1, 0, 0, 1, 0, 1, 0, 1, 1, 0, 1, 0, 1, 1, 1, 0, 1, 0, 1, 0, 1, 0, 2, 1, 0, 1, 1, 1, 1, 1, 0, 0, 1, 0, 0, 0, 1, 0, 1, 0, 1, 0, 1, 0, 0, 0, 0, 1, 0, 0, 1, 0, 0, 0, 0, 0, 0, 1, 1, 1, 1, 1, 1, 0, 0, 0, 0, 0, 1, 0, 1, 1, 1, 0, 0, 1, 1, 1, 0, 0, 1, 0, 0, 1, 1, 0, 1, 0, 1, 1, 0, 0, 0, 1, 1, 1, 0, 0, 0, 1, 0, 1, 1, 0, 1, 1, 1, 1, 1, 1, 0, 2, 2, 1, 1, 1, 1, 1, 1, 0, 2, 0, 0, 0, 0, 1, 1, 1, 1, 1, 1, 0, 1, 0, 0, 1, 1, 0, 1, 0, 0, 0, 0, 0, 0, 0, 1, 0, 0, 1, 0, 0, 1, 1, 0, 1, 0, 1, 1, 1, 1, 0, 0, 1, 0, 1, 0, 0, 0, 0, 0, 0, 1, 1, 1, 0, 0, 0, 0, 0, 0, 0, 1, 0, 1, 1, 0, 1, 1, 0, 0, 0, 0, 1, 0, 1, 0, 0, 0, 1, 0, 0, 0, 1, 2, 0, 1, 0, 1, 1, 1, 1, 1, 0, 1, 1, 0, 1, 0, 1, 1, 1, 1, 1, 1, 1, 0, 1, 0, 1, 0, 0, 1, 0, 0, 1, 0, 0, 0, 1, 1, 1, 1, 0, 0, 0, 0, 1, 1, 1, 0, 1, 0, 0, 0, 1, 1, 0, 0, 0, 1, 0, 1, 1, 0, 0, 1, 0, 0, 0, 1, 1, 0, 0, 0, 0, 0, 1, 0, 0, 2, 1, 0, 1, 1, 1, 0, 2, 0, 3, 0, 0, 0, 1, 1, 0], \"coloraxis\": \"coloraxis\", \"symbol\": \"circle\"}, \"mode\": \"markers\", \"name\": \"\", \"scene\": \"scene\", \"showlegend\": false, \"type\": \"scatter3d\", \"x\": [-0.1753506962057823, -0.1607331971718766, 0.44365627084616177, -0.2605566292694821, -0.35342781509319454, -0.10097915503737202, -0.340569413818195, -0.3379477663502091, 0.16162031949334182, -0.14948118503370159, -0.08183671794597114, -0.10110426573350247, 0.04162422814661038, -0.35422119054072865, 0.0200975230948338, -0.2799002104946478, -0.2608049748035149, 0.1613608169372915, 0.03804818787144391, -0.05203806774383594, -0.35413201197050614, -0.17509947086015487, -0.26080497484709375, -0.28410434582426797, -0.3543016482924388, -0.2584471297733101, -0.35251487747728016, -0.3541991714850985, -0.044574196047893595, -0.32367195573713026, -0.3538378126329415, -0.2800546680140136, -0.17535010693386022, -0.35430109907941, -0.17535069685559967, -0.35420108084681634, -0.1753363018824977, -0.35423593610906506, -0.12854136528132015, -0.05203806786367361, -0.2799854446464789, 0.7032388839780692, -0.1453621739006842, -0.08681964147907603, -0.10110426573697161, -0.3543010990428035, -0.0007303311878447244, -0.18059785663870476, -0.35401142573284844, -0.35430109914738744, -0.35126906212365117, -0.35403100966282514, -0.35430124239186084, 0.022208363192290158, -0.041579073425194304, -0.2608049748049518, -0.35428526876160255, -0.3454238527763814, -0.34205328629026943, -0.35339133345415413, -0.35372400094792467, -0.10110426574167354, -0.17411408010281798, -0.3074917674303776, 0.9007237922592461, -0.10085974725158711, -0.26051282360135947, -0.10110426573635954, 0.038048187849081025, -0.3522030916930192, -0.3540333711311466, -0.3542858005361538, -0.35430109915742675, -0.10110426573307235, -0.21479815856820053, -0.35377257857893285, -0.4084370870635816, -0.35422069327226313, -0.05949806792364952, -0.05181392583657204, -0.26080497487289717, -0.32152395034921144, -0.2606008311479202, -0.3496643650592322, -0.16931953245531048, -0.1722659447276393, -0.17432613741939496, -0.35430109905707563, -0.35428580315217356, -0.35396564593664415, 0.01974368227035334, -0.17535069678903611, -0.3539465484922945, -0.3921210980523391, -0.3543010990699774, -0.10110424942663253, -0.25300106219172463, -0.004116886169658422, -0.26020185859084843, 0.17348579678440929, -0.10108443028159804, -0.2604872503004923, -0.26080497480498416, -0.2607734156522868, -0.26080219156597517, -0.1601268838929485, -0.17465478741172777, -0.35398038923860564, -0.3192593356547906, -0.35264418175413675, -0.1753506967904695, -0.10100797571869863, -0.26026199539943173, -0.1753506968592786, -0.17330058609815793, 2.315925289229697, -0.1382792998547952, 0.6994843623786035, 0.13260265495579804, -0.35335639681299696, -0.08131261893221194, -0.26080497480265463, -0.05203806774469157, -0.3485516479214623, -0.35239606409305, 0.03807620511478947, -0.35429857891223343, -0.04961869185996906, -0.35219169029559616, 0.04145805651832777, 0.03814650046806002, 0.038048187862842885, -0.34332206397529746, -0.10110426574613167, -0.39115802125177995, -0.4079695596486148, 0.02224562533360945, -0.3541606287790723, -0.1751899363392252, -0.29043395991952664, -0.3611413516584154, -0.354301099160289, -0.28005466803121587, -0.3542925173979784, -0.2606323298738271, -0.35430000890701235, -0.28005466803121587, -0.4020683968927178, -0.27960830182447194, -0.4192994802671575, -0.26060068158223454, -0.05269643501724392, -0.2798349059133523, -0.35384997150181263, -0.3532536100149024, -0.05065276559578712, -0.34199439675376675, 0.022208363332446808, 0.03836739752416116, -0.08125806566849227, 0.161360816941804, 0.019931121339005396, -0.2798348524681497, -0.26051409630811506, 0.02525496967485886, -0.35430112269295133, -0.3513919645783509, -0.34272645893611453, -0.08180373625613518, 0.05122794021787769, -0.35333365808318573, -0.2339564003462481, -0.08178352021673994, 0.1307805552374866, 0.04035931836741852, -0.020253439127515288, -0.17522603705360879, -0.17535069679362325, -0.260804974822724, -0.28005467120932953, -0.051477338656405615, -0.39212110514826226, -0.27942975376290247, -0.3543011291437908, -0.3936174138521029, -0.35429228235093263, -0.08185457284998945, -0.3508404612852408, -0.3713527479695652, -0.10096009413770955, -0.26080497486142906, 0.4601251617833314, -0.08179393679548687, 0.17886720815530271, 0.18293236544667632, -0.3542100735210561, -0.27986551770523266, -0.10110426573178241, -0.10110426576174288, -0.09924027318783202, 0.1826553050002668, -0.08183801123329279, -0.26080497480469195, -0.08162374287819434, -0.04042303322799723, 0.01974368222018026, -0.10076642223029866, -0.04157907344723611, -0.17535069689463867, -0.17535069728933453, -0.35429255937263293, 0.1795420898267205, -0.16408691304834172, -0.17528799358213137, -0.17396539466306796, 0.1614300817740165, -0.2800355797042971, 0.031309798293834325, -0.11766160762328902, -0.1008886591176746, 0.022208363192290158, -0.17475272426617497, -0.23384803599620463, -0.0818463240876135, -0.2607184787580546, -0.1010951554847308, -0.1753149287287403, -0.29363874641152765, -0.3526824397331764, -0.10110428006683744, -0.2606788193008994, -0.2502618700423989, -0.3541470645531083, 0.2738113041350704, 0.1836808969202222, -0.35430109916530633, -0.09743767119663903, -0.39212109799499806, -0.3637087367799584, -0.2608049776682609, 0.1847154823892055, 0.16139545121821414, -0.048169847166464226, -0.04320145140425294, 0.1829021471984244, 0.017591014676843906, -0.34177676216517344, -0.2608049749445731, -0.3379722793604203, 6.923656242922776, -0.10085016237016144, -0.17535069822112256, -0.35158179313099386, -0.3380500439958794, -0.26863977801328415, 1.3151974506719213, -0.10105088551393084, 0.18334795608403667, 0.00259979186989208, -0.1751139542264778, -0.17535069707430676, -0.1753167627963224, -0.27920458016457883, 0.18293236544667632, -0.10102018514478553, -0.08168256577346525, -0.17507025591630235, 0.029127152285388102, -0.17519719532935485, -0.1751995000402558, -0.10109298008296753, -0.23394285008504007, -0.1752346381293598, 0.4163761338765103, -0.17530258549397615, -0.1753047630921405, 0.25423888725649507, -0.18368368916314343, -0.35428871408131096, -0.23382677640337005, -0.10110426609001869, -0.41946386834913446, 0.03804818723496118, 0.18265530487841722, -0.17501870466253922, -0.08181957875664789, -0.10102587014655665, -0.10110426587499098, -0.28005466812817914, -0.17518693015018566, -0.2726159864866307, -0.1753464276083685, -0.35430109906854385, -0.32716869307003865, -0.051997580761636845, -0.26297565240314447, -0.30303995030139236, -0.3542579433049656, 0.16156203002350136, -0.27963373784270007, -0.337954158161696, -0.16149767554225683, -0.3529179661834908, -0.419232943864891, -0.3421397887057921, -0.28005466828494874, -0.05153866124574624, -0.3738710805043857, -0.100921922013389, -0.10661793335869563, -0.09957170061746184, -0.35341318071197114, -0.05203806788087595, 0.18419487213252442, -0.10080613051310845, -0.22038923882655806, 0.18821620422019666, -0.09941883218754188, -0.1752763208535474, -0.17533478907018668, -0.1753437717097829, -0.3543010990699774, 0.04285081149008862, -0.10086639024470617, -0.35402021382947696, -0.3543010990413072, -0.047949552278512775, -0.24255019238250228, 0.18281309403750293, -0.1750548134960376, -0.1011042687327127, 0.5829938794154549, 0.041601339610465055, -0.35411168113367975, 0.18039280650465747, -0.3263642936667668, 0.49697962441927446, -0.44553397666161415, -0.39235763397167406, -0.20888981381820254, -0.04152128718918674, -0.2795678871096746, -0.04070713560389251, -0.11368612114885923, -0.35404989950593185, 0.038342815197851605, -0.35422950984311324, -0.10110426574297159, -0.27969390260564275, -0.2800183331117612, -0.05005113497808439, -0.23376021661908145, 0.03835180480104411, -0.41675768884736747, 1.9045045778283167, -0.271995206736411, 0.23853711634972077, -0.27835801176456, -0.1131246935968091, -0.2605556815198268, -0.10093014346630096, -0.3543011004877285, -0.05177952466383557, 6.107730768044977, -0.3542943924112859, 0.1827107170241798, -0.3543011004733934, -0.35416666875464137, -0.3540593119739608, -0.3538488432774184, -0.35383402338389497, -0.17508001450107305, -0.1752925140983723, -0.23383246226031937, 0.12398761870509654, 0.8086171163291466, -0.10100365955014413, -0.2658543085942924, -0.16683405439643842, -0.24261194968592564, -0.17533489418348355, -0.3482568387679424, -0.017372742461528715, -0.33781173929758346, 0.4959594382855323, -0.08057939087229457, -0.033813580144925505, 0.02781410535714209, -0.39322558222869963, -0.17532091714108997, 0.13120600278571304, -0.3529159354248767, 0.1027315350652929, -0.1751240261019439, -0.13177932321596691, -0.10110426573692399, 0.2540931842261971, 0.1661352475879135, -0.27762739921721774, -0.34822623342897674, -0.3543010994699295, -0.34196307421372074, -0.35430109919053643, -0.34823375493870984, 4.424355390933124, -0.10057509993752672, 6.926148241626715, 0.35183495546204313, 0.04059068858814788, -0.3008183438525488, -0.17381333050536468, 0.03315498716195639, -0.2338940617356685, -0.33492387674731033, 0.08191706907271534, 0.25432807290076653, -0.27894204653529425, -0.26080497483132503, -0.32120800296585766, -0.10731164384420436, -0.17523406283133522, -0.2993849364032715, -0.10047846639077862, -0.08185470156573886, 0.2629937533176933, -0.2799960830182826, -0.17535069679419693, -0.3482058395523447, 0.25447136724785463, -0.3441614428473067, -0.35367102141761053, -0.16716324654600118, -0.1753160020888252, 0.02226941706744545, -0.27993722064518906, -0.26052561477478753, -0.2890996292888347, -0.17535069965464234, -0.307569567383195, 0.17929074132781045, -0.039854342088609905, -0.3139128479619066, 0.5021895085278666, -0.31066297692557066, -0.17209736647425233, -0.23210103128795576, -0.3380500439958794, -0.29273078426324906, -0.21577088658641488, -0.39220962520841085, -0.31104972850471474, 0.16455115203145348, 0.7530997465690354, 0.23568609992413977, -0.35412868299161243, -0.15355677401276152, -0.3543011291437908, -0.3483145500176892, -0.3380500439958794, -0.27712755772253167, -0.11015844269795191, -0.34851777682595975, -0.1010742348094968, 0.06948509705011408, -0.0516838459262228, 0.2155709855183307, -0.33870961644458686, -0.2800546680154472, -0.2328474799924089, -0.348314550115885, -0.35424471432876525, -0.4485089583516321, -0.04138807003312418, -0.3380500440863288, -0.17533898215209495, -0.17533432039552468, -0.3370615550249793, -0.33805004399774286, -0.04833518766511652, -0.36343483216169753, -0.1590996420145438, 0.17575913429821655, 0.18295836174943078, -0.17521382200717317, -0.17535069693095467, 7.535118238172994, -0.17535069750436255, -0.2796141217642201, 0.13271637077926887, 0.18280873065321226, -0.23373451836594458, -0.014241597242114991, -0.15589887802970837, -0.22023760157521297, -0.41941924026053123, 0.34593650277701715, -0.4335288720281046, -0.0515018614482268, -0.36371679758257575, -0.23395523337010507, 0.20436527140376928, 0.3380972582209156, -0.03404988008507487, -0.05193236922014349, -0.3522000702589296, 0.003060251074092411, -0.22619751835254837, -0.17505148076568253, 0.14347583886916385, 1.681008942088555, 0.2541308118819193, 0.04225891348255611, 2.752147165342454, -0.3164530666776566, -0.3690759230285262, -0.2799854994465266, -0.13710373547716134, 0.25419129684403186, 0.13086255808505118, -0.052023656896003995, -0.037343511551061886, -0.14083314705524724, 0.2550082300551337, -0.35428147400598026, -0.17527583922259465, -0.327104820677402, -0.43210118181695684, -0.17535069693095467, -0.10926683485526364, 1.5832111693860325, 0.022475304215008065, -0.10067799269731387, -0.050545212786811, 0.1827845136862732, -0.319968246541835, -0.052038068924478265, -0.23171363018599495, -0.05203806782066806, -0.12402481996868207, 0.022270766058517147, -0.2799851829013309, 0.13078055490805013, -0.16066715467614645, 0.06229532445166679, -0.3164305156117489, -0.1918779891991319, -0.1693641480815091, -0.27938095914808914, 0.19288594397827333, -0.04816984702784278, -0.3793558273612475, -0.36362469655521407, -0.34213978807327683, -0.2605557241178715, 0.32727759964395264, -0.34213978819703805, -0.20809205840035488, 0.2944013198395564, -0.31072972546981475, 0.13126973569896816, -0.3865304000917057, -0.3224946066137279, -0.3222969454771924, -0.26080497483132475, -0.03560033057136478, -0.39993918099631154, -0.3538122992246679, -0.17514598309081247, -0.33755566431859196, 0.13103358085419803, -0.3377016295804222, 0.2541199857807289, 0.25167845570765973, -0.36287377588416747, 0.022218277353887254, -0.17506606538680877, -0.4031206406544538, 0.07223518281357522, 0.015017106325690532, -0.1008906494749361, -0.26080497495174076, -0.2600805471881966, -0.1408860022866927, -0.2596328278488234, -0.10077489685710933, 6.936010338423759, 0.022208363299804048, 0.036862143187480406, -0.2800546680103583, -0.35353149540484, -0.29533110749585867, -0.1753016968551382, -0.32219291832085845, -0.17506564970093152, 0.04151890254132676, -0.09505944979232915, -0.23395640034618087, -0.34349282395199976, -0.16176460187370367, 0.16666484508430865, -0.09425754000984743, -0.26048653641149117, -0.17451951544837352, -0.2339564003462481, 0.05552650430588368, -0.08185457258478818, -0.16974969205584017, -0.32334295176013034, -0.09831476143524331, -0.17391522081639696, 0.18270824081278594, -0.35423110587529755, -0.3533357589592173, -0.023141349103873592, -0.08082008347816468, 6.923819847846327, 0.08649553424620082, -0.1718596584216986, -0.3543011003157062, -0.16934862708763068, -0.17535069721765847, -0.15794750184684309, -0.3074455963232041, 0.03805013807728305, -0.3673753379391192, -0.341800556043872, -0.3421397894872061, 0.05531107776367652, 0.3514370794549923, 0.18278390452448437, 32.41505939362833, 0.2516779936711365, 4.239426305615081, -0.17514385702498275, -0.2203773564881796, -0.3379489648964145, -0.052036290004964646], \"y\": [-1.198255836468285, -1.1958307516125204, -1.9003229018053096, 1.3705835283563874, 1.0388820834947412, -1.4476249007293291, 1.9504971035567407, 1.907058344526199, -1.6851770082381, 1.7479578052255658, -0.8664477511490704, -1.4476456567824503, -0.4941177492544527, 1.03875046059796, -2.142158709387094, 0.7893730083235189, 1.3705423272310522, -1.5953059154781404, -1.9676113109879991, -0.8259504412196848, 1.0387652551618578, -1.1982141575453658, 1.370542326905932, 1.7256235856436688, 1.0387330971569133, 1.3709334995970806, 1.0390335410653193, 1.0387541128044857, 0.5507210377635181, 1.415571102461344, 1.0388140639501056, 0.7893473833104904, -1.1982557387113941, 1.038737203443855, -1.198255837072102, 1.0387537968612917, -1.1982534484139027, 1.0387480143426204, -0.5152494839245149, -0.8259504421137324, 0.7893588677226696, -0.23941465903026599, -0.8215282180109146, 1.7583536046703883, -1.4476456568083311, 1.0387372037169562, 1.4136893331084002, 1.0675549929080672, 1.0387852612587718, 1.0387372029367095, 1.039240225345562, 1.0387820121063531, 1.038736134263777, -1.0753402623174684, -1.7448833529176155, 1.3705423272203316, 1.038739829915745, 1.4905939387726193, 1.040769140675231, 1.0388881360631779, 1.0388329454253542, -1.44764565684341, -1.1980506791076688, 1.7217435571491342, 1.2469489493782953, -1.4476050905910467, 1.3705907958585641, -1.4476456568037646, -1.9676113111548372, 1.0390852671751871, 1.0387816204565956, 1.0387397417960003, 1.0387372028618125, -1.4476456567792417, -2.4387627744887324, 1.03882488655536, 2.096921048515789, 1.0387505432114343, -0.8627417218487238, -0.8259132553492007, 1.3705423267134258, 1.0441748819799024, 1.3705761951216353, 1.0395064493952255, -0.7468712722644485, -1.1977440706020366, -1.1980858598730444, 1.038737203610479, 1.0387397411565156, 1.0387928538805542, -2.1422174090760886, -1.1982558365755058, 1.0387960242872427, 2.128900823986989, 1.0387372035142264, -1.4476456540635039, 1.3718370123321542, -0.1427596287352086, 1.3706423856886578, -1.544654503340598, -1.447642366107731, 1.3705950383323853, 1.37054232722009, 1.3705475621766012, 1.3705427889932886, -1.1957301734443904, -1.1981403839918023, 1.0387904102927443, 1.36753525754073, 1.0390120889058683, -1.1982558365862008, -1.4476296820011414, 1.3706324088184398, -1.1982558370995489, -1.1979157270204257, 2.670154563394638, 2.2629959001355693, -0.3482537587908562, -1.442653984248994, 1.038893931797818, -0.866360801906758, 1.370542327237469, -0.8259504412260678, 1.039691038727532, 1.0390532534648074, -1.9676066628993543, 1.0387376218086706, -0.8255490639839347, 1.0390871598063125, -0.4941453175349312, -1.9675950006517273, -1.967611311052168, 1.0405586507474682, -1.4476456568766707, 2.1431595765029803, 2.2112342098707742, -1.0753340795710205, 1.0387605081746494, -1.1982291660950468, 1.0493328643412392, 2.240560757811395, 1.038737202840457, 0.7893473831821535, 1.0387386274545145, 1.37057096938102, 1.0387364225583058, 0.7893473831821535, -2.9015555713892005, 0.789421436781115, 2.142995847519486, 1.3705762195924978, -2.16663948262134, 0.7893838425545449, 1.0388120450595952, 1.0389109829454297, -0.8257206159821022, 1.9502606962930327, -1.0753402612718308, -1.967558353533168, -0.8663517610895259, -1.595305915444475, -2.1421863125922407, 0.7893838514735617, 1.370590584712393, -1.096006921072036, 1.0387370272754344, 1.0392198363693417, 2.032653816092743, -0.8664422793799379, -1.4223735282054988, 1.0388977044475682, 2.247122863753205, -0.8664389253532913, -1.68686853030593, 1.4205062324623836, -0.18218863387622128, -1.1982351555505037, -1.198255836609729, 1.3705423270877428, 0.789347359471892, -0.8258574165885333, 2.1289007710479746, 0.7894510579493362, 1.038736979149058, 2.123628755794025, 1.0387386646956212, -0.8664507153013612, 2.201155691879508, 2.0457984373485987, -1.4476217422497684, 1.3705423267989845, -0.7409819382023418, -0.866440653805912, -0.32640922206016204, -1.4246305543189608, 1.0387523049579754, 0.7893787639173281, -1.4476456567696163, -1.4476456569931364, -1.447336415154488, -1.4246765194918143, -0.8664479678085913, 1.3705423272222692, -0.8664124231555809, -1.7446915630404243, -2.142217409450405, -1.4475896088913038, -1.7448833530820578, -1.1982558373633523, -1.1982558403079742, 1.038738620490815, -1.436944494397769, -1.1963871592859832, -1.1982454343635904, -1.1980260115026562, -1.595294426235646, 0.7893505500810496, -1.0738303105896343, 1.216986198962054, -1.447609887456037, -1.0753402623174684, -1.19815663192849, 2.2471408418380707, -0.8664493448286157, 1.3705566771199769, -1.447644145380458, -1.1982499027476297, 1.724041806080914, 1.0390057424673729, -1.4476457637160502, 1.3705632567428947, -0.38689116668915785, 1.038762758245202, -2.142160188777931, -1.4245063710885488, 1.0387372028030255, -1.4470373725487298, 2.12890082441478, 2.0542469712690257, 1.3705423058586625, -1.424334729653885, -1.5953001694917404, 0.5501245088660907, -2.1151560922812194, -1.424635570562584, -2.1846678337506473, 1.950296802478706, 1.3705423261786884, 1.9070542777384347, -0.36980117025840875, -1.447603500511839, -1.1982558472595617, 1.0391882408245297, 1.9070413763336225, 0.7912411455123366, -1.7557281219095175, -1.4476368008578862, -1.4245616068003153, -2.187154920862304, -1.1982165606103956, -1.1982558387037612, -1.1982502072449754, 0.789488413472577, -1.4246305543189608, -1.4476317081543637, -0.8664221767836185, -1.1982093108613183, -0.8368609813099815, -1.198230370468668, -1.1982307593387762, -1.4476437844951755, 2.247125111758713, -1.198236583563426, -0.7482393483549408, -1.1982478548813615, -1.1982482160506809, -1.3145389621396455, -1.183105094951973, 1.038739258415159, 2.2471443687165027, -1.447645659442234, 2.142968575587807, -1.9676113157364685, -1.4246765204008678, -1.1982007632247882, -0.8664449076916113, -1.4476326507849635, -1.4476456578380217, 0.7893473824587608, -1.198228667358552, 0.7905804391882625, -1.1982551285235081, 1.0387372035249212, 2.0975986181645756, -0.8259437247018523, -0.4522944435178184, 1.4481657637066712, 1.0387443633798334, -1.595272533654329, 0.7894172067514869, 1.9070572841458044, -1.1959575859432605, 1.0389666689123607, 2.143006886592414, 1.9502365707173863, 0.7893473812891827, -0.8258675882531213, 1.9984481029246037, -1.4476154064009819, -2.13047050877404, -1.447391400404165, 1.0388844704366538, -0.8259504422420691, -1.4244211013161403, -1.4475961962161707, 0.4921329526355993, -1.4237539523318399, -1.4473660431148785, -1.1982434975783476, -1.198253197722053, -1.1982546981289033, 1.0387372035142264, -0.49391503924493674, -1.4476061928733386, 1.0387838031332481, 1.0387372037281215, -0.8252721640083502, 1.37357082861519, -1.4246503419364949, -1.1982067496666948, -1.447645679158007, -2.0487733187682275, -0.49412154849826223, 1.0387686280298598, -1.4368033584417998, 2.097732071466649, -2.0897919243408887, 2.2641463699879876, 2.0284526960691514, 2.2512814708988613, -1.7448737660920028, 0.7894281410125422, -1.7447386968581715, -1.4357400951864285, 1.038778878353265, -1.9675624316115579, 1.0387490798340837, -1.4476456568530955, 0.7894072350520199, 0.7893534114103803, -1.1774687564068644, 2.2471554108969745, -1.9675609400911909, 2.21945557346251, 1.4134782877986485, 1.4533161360999498, -1.4757573302654903, 0.7896288527927554, -1.435646952537731, 1.3705836855911238, -1.4476167694203639, 1.0387371929371179, -0.8259075480960774, -2.572315105801264, 1.0387382065925035, -1.424667326944923, 1.0387371930440656, 1.0387595059492611, 1.0387773161175373, 1.0388122333884469, 1.0388146920567665, -1.198210930001617, -1.1982461839122003, 2.247143424746344, -1.6914203584523022, -1.3747804958173, -1.447628966159627, 1.919018663219192, -0.7464589275502479, 0.7955592329117985, -1.1982532150261436, 1.4901239404550528, -0.4972148389189257, 1.9070809118546623, -1.086883572984197, -0.8662391573321637, -1.743595044980775, -1.9206693162782382, 2.1236937606082558, -1.1982508962446285, -1.6867979490604026, 1.0389670058217901, -1.2625949446595452, -1.1982182313187766, -0.7556447559136568, -1.4476456568079767, -1.3145631353715506, -0.47346106196393845, 0.7897500716226598, 1.490129017791657, 1.038737200530391, 1.9502658900526935, 1.0387372026147976, 1.4901277700868714, -0.6283930194358348, -1.4475578679557461, -0.36938774352607695, -1.6796150054145902, -1.9671895040200988, 1.7228506932657968, -1.198000784716795, 2.291436619159156, 2.2471332059927267, 1.9514336140628605, -1.3725475122080328, -1.3145241660047766, 0.7895319652845877, 1.3705423270235737, 2.0985875074356506, -1.1869684602281443, -1.1982364881823628, 1.0478479206453764, -1.4475418351545062, -0.8664516755829985, 1.210115263441048, 0.7893571027635196, -1.1982558366140066, 1.4901324014527897, -1.314500394054323, 1.4908033749523997, 1.0388417349871972, -1.1968975214713045, -1.198250080643776, -1.0753301324557998, 0.7893668681883407, 1.3705886737701982, 1.158892834227383, -1.1982558579543119, -2.1846724495036383, -1.436986193838681, 0.08555264944468552, -0.4581794593155938, 2.369241396826506, 1.4813593580680198, -1.1977161009580686, 2.2474306721667334, 1.9070413763336225, 0.801237307802896, 1.0617197099543205, 2.123862311756224, 1.3688972473240901, -1.5947766368485634, -2.058194370972111, -2.862505237317375, 1.0387658077012012, 1.072041144758503, 1.038736979149058, 1.4901143659248042, 1.9070413763336225, 0.7898329953764964, -1.0781017349460411, -4.315414914894251, -1.4476406748027508, -1.606350145556704, -0.8258916757983614, -1.4085807762701843, 1.950805584188698, 0.7893473832997957, 2.247306826966385, 1.4901143651922133, 1.038746557925358, 2.1325144712333226, -1.744851665352754, 1.9070413756588263, -1.198253893100221, -1.1982531197206256, 1.9072053693420745, 1.907041376319719, -0.8253361264822264, 2.054292410018755, -0.3299516659913123, -1.4178913678983913, -1.424626242159233, -1.1982331289092667, -1.1982558376342858, -0.3129145765469269, -1.1982558419121863, 0.7894204705336527, -1.6865473741199408, -1.424651066358923, 2.2471596746926434, -0.6354120890455913, -1.1950287704108498, 0.4921581100315469, 2.1429759793619665, -1.1921838825361053, 2.136657547772219, -0.8258614829594463, 2.054245634069752, 2.247123051277061, 2.2943961590974378, 2.3420264940466984, -1.1748136802249962, -0.8259329057809479, 2.164521221468489, -2.187078457036652, 2.248410077133953, -1.1982061965363426, -1.7698424135103574, -0.15306842533060255, -1.314556898834366, -0.4940124538199319, -1.0561781447297307, 1.2292841102607066, 2.04582751724793, 0.7893588585997933, -1.0076427470710811, -1.3145468576059052, -1.6868549256107397, -0.8259482267547341, -2.172610073038352, -0.8695447511758114, -1.3144113265671808, 1.0387404593643286, -1.1982434279093237, 2.0976091984362353, 2.0949766977044004, -1.1982558376342858, 0.6306758200515493, 2.52314923063532, -1.0752959754669256, -1.4475749372147944, -0.8257027742959623, -1.4246550853915483, 1.3674176459776493, -0.8259504500278477, 1.3753686535534195, -0.8259504417928901, -0.78881654062352, -1.0753299094799107, 0.7893589110738387, -1.6868685327636856, -1.1958199776102005, -2.2275658465725106, 1.2292878507407083, -4.240059401274404, -0.7468786767370157, 1.9167746882179733, -1.2340301143028252, 0.5501245099002728, 2.2861785420264478, 2.054260913159816, 1.9502365754362538, 1.3705836785239705, -1.1412330988540846, 1.9502365745129357, 2.251413757527584, -1.3537505305892865, 1.481348284378206, -1.6867873740370252, 2.226687755276095, 1.6825026372138459, 1.6825354306718083, 1.3705423270235766, 0.042384701837827866, 2.0464281044170485, 1.0388182959559833, -1.198221874119279, 1.9071233929943228, -1.6868265525247885, 1.9070991793098802, -1.314558688262414, -1.1274110996915647, 1.0538481807009092, -1.0753386166862675, -1.19820861617221, 2.1797464883642315, -1.6058939020252534, -2.185094827274954, -1.4476102215318132, 1.370542326125215, 1.3706625114655022, 0.2693844189953189, 1.3707367884660278, -1.4475910137195258, -0.36775159496401477, -1.075340261515362, -1.1630494052939984, 0.7893473833377622, 1.0388638576493987, 1.4989044490928018, -1.1982477094087465, 1.68255261617921, -1.198208546897547, -0.4941352232022803, -1.446642807460528, 2.247122863753704, 1.0405303211144394, -1.196001969226698, -0.8252205389907012, -1.4465097732596208, 1.3705951567688817, -1.1981179410462541, 2.247122863753205, 1.1067284072440235, -0.8664507133228322, -1.1973266159274216, 1.4156256850667954, -1.4471828711488453, -1.1980176881264541, -1.4246677372063776, 1.0387488157791611, 1.0388973548806537, -0.8836547137807997, -0.8662790890670865, -0.36977402803700404, -0.8029673725899544, -1.19767666513356, 1.0387371942204882, -0.7468760997479058, -1.1982558397732364, -2.340631802064111, 1.7217512174952208, -1.967610987381049, 2.177973759909926, 1.9502928550151495, 1.950236564887661, -0.49184706691335905, -2.7064065444889676, -1.4246551843477937, 4.36321218001716, -1.3623468017567637, 0.19662129936574957, -1.1982215237927096, 2.249375656646909, 1.9070581456835016, -0.8259501461259805], \"z\": [-0.1753506962057823, -0.1607331971718766, 0.44365627084616177, -0.2605566292694821, -0.35342781509319454, -0.10097915503737202, -0.340569413818195, -0.3379477663502091, 0.16162031949334182, -0.14948118503370159, -0.08183671794597114, -0.10110426573350247, 0.04162422814661038, -0.35422119054072865, 0.0200975230948338, -0.2799002104946478, -0.2608049748035149, 0.1613608169372915, 0.03804818787144391, -0.05203806774383594, -0.35413201197050614, -0.17509947086015487, -0.26080497484709375, -0.28410434582426797, -0.3543016482924388, -0.2584471297733101, -0.35251487747728016, -0.3541991714850985, -0.044574196047893595, -0.32367195573713026, -0.3538378126329415, -0.2800546680140136, -0.17535010693386022, -0.35430109907941, -0.17535069685559967, -0.35420108084681634, -0.1753363018824977, -0.35423593610906506, -0.12854136528132015, -0.05203806786367361, -0.2799854446464789, 0.7032388839780692, -0.1453621739006842, -0.08681964147907603, -0.10110426573697161, -0.3543010990428035, -0.0007303311878447244, -0.18059785663870476, -0.35401142573284844, -0.35430109914738744, -0.35126906212365117, -0.35403100966282514, -0.35430124239186084, 0.022208363192290158, -0.041579073425194304, -0.2608049748049518, -0.35428526876160255, -0.3454238527763814, -0.34205328629026943, -0.35339133345415413, -0.35372400094792467, -0.10110426574167354, -0.17411408010281798, -0.3074917674303776, 0.9007237922592461, -0.10085974725158711, -0.26051282360135947, -0.10110426573635954, 0.038048187849081025, -0.3522030916930192, -0.3540333711311466, -0.3542858005361538, -0.35430109915742675, -0.10110426573307235, -0.21479815856820053, -0.35377257857893285, -0.4084370870635816, -0.35422069327226313, -0.05949806792364952, -0.05181392583657204, -0.26080497487289717, -0.32152395034921144, -0.2606008311479202, -0.3496643650592322, -0.16931953245531048, -0.1722659447276393, -0.17432613741939496, -0.35430109905707563, -0.35428580315217356, -0.35396564593664415, 0.01974368227035334, -0.17535069678903611, -0.3539465484922945, -0.3921210980523391, -0.3543010990699774, -0.10110424942663253, -0.25300106219172463, -0.004116886169658422, -0.26020185859084843, 0.17348579678440929, -0.10108443028159804, -0.2604872503004923, -0.26080497480498416, -0.2607734156522868, -0.26080219156597517, -0.1601268838929485, -0.17465478741172777, -0.35398038923860564, -0.3192593356547906, -0.35264418175413675, -0.1753506967904695, -0.10100797571869863, -0.26026199539943173, -0.1753506968592786, -0.17330058609815793, 2.315925289229697, -0.1382792998547952, 0.6994843623786035, 0.13260265495579804, -0.35335639681299696, -0.08131261893221194, -0.26080497480265463, -0.05203806774469157, -0.3485516479214623, -0.35239606409305, 0.03807620511478947, -0.35429857891223343, -0.04961869185996906, -0.35219169029559616, 0.04145805651832777, 0.03814650046806002, 0.038048187862842885, -0.34332206397529746, -0.10110426574613167, -0.39115802125177995, -0.4079695596486148, 0.02224562533360945, -0.3541606287790723, -0.1751899363392252, -0.29043395991952664, -0.3611413516584154, -0.354301099160289, -0.28005466803121587, -0.3542925173979784, -0.2606323298738271, -0.35430000890701235, -0.28005466803121587, -0.4020683968927178, -0.27960830182447194, -0.4192994802671575, -0.26060068158223454, -0.05269643501724392, -0.2798349059133523, -0.35384997150181263, -0.3532536100149024, -0.05065276559578712, -0.34199439675376675, 0.022208363332446808, 0.03836739752416116, -0.08125806566849227, 0.161360816941804, 0.019931121339005396, -0.2798348524681497, -0.26051409630811506, 0.02525496967485886, -0.35430112269295133, -0.3513919645783509, -0.34272645893611453, -0.08180373625613518, 0.05122794021787769, -0.35333365808318573, -0.2339564003462481, -0.08178352021673994, 0.1307805552374866, 0.04035931836741852, -0.020253439127515288, -0.17522603705360879, -0.17535069679362325, -0.260804974822724, -0.28005467120932953, -0.051477338656405615, -0.39212110514826226, -0.27942975376290247, -0.3543011291437908, -0.3936174138521029, -0.35429228235093263, -0.08185457284998945, -0.3508404612852408, -0.3713527479695652, -0.10096009413770955, -0.26080497486142906, 0.4601251617833314, -0.08179393679548687, 0.17886720815530271, 0.18293236544667632, -0.3542100735210561, -0.27986551770523266, -0.10110426573178241, -0.10110426576174288, -0.09924027318783202, 0.1826553050002668, -0.08183801123329279, -0.26080497480469195, -0.08162374287819434, -0.04042303322799723, 0.01974368222018026, -0.10076642223029866, -0.04157907344723611, -0.17535069689463867, -0.17535069728933453, -0.35429255937263293, 0.1795420898267205, -0.16408691304834172, -0.17528799358213137, -0.17396539466306796, 0.1614300817740165, -0.2800355797042971, 0.031309798293834325, -0.11766160762328902, -0.1008886591176746, 0.022208363192290158, -0.17475272426617497, -0.23384803599620463, -0.0818463240876135, -0.2607184787580546, -0.1010951554847308, -0.1753149287287403, -0.29363874641152765, -0.3526824397331764, -0.10110428006683744, -0.2606788193008994, -0.2502618700423989, -0.3541470645531083, 0.2738113041350704, 0.1836808969202222, -0.35430109916530633, -0.09743767119663903, -0.39212109799499806, -0.3637087367799584, -0.2608049776682609, 0.1847154823892055, 0.16139545121821414, -0.048169847166464226, -0.04320145140425294, 0.1829021471984244, 0.017591014676843906, -0.34177676216517344, -0.2608049749445731, -0.3379722793604203, 6.923656242922776, -0.10085016237016144, -0.17535069822112256, -0.35158179313099386, -0.3380500439958794, -0.26863977801328415, 1.3151974506719213, -0.10105088551393084, 0.18334795608403667, 0.00259979186989208, -0.1751139542264778, -0.17535069707430676, -0.1753167627963224, -0.27920458016457883, 0.18293236544667632, -0.10102018514478553, -0.08168256577346525, -0.17507025591630235, 0.029127152285388102, -0.17519719532935485, -0.1751995000402558, -0.10109298008296753, -0.23394285008504007, -0.1752346381293598, 0.4163761338765103, -0.17530258549397615, -0.1753047630921405, 0.25423888725649507, -0.18368368916314343, -0.35428871408131096, -0.23382677640337005, -0.10110426609001869, -0.41946386834913446, 0.03804818723496118, 0.18265530487841722, -0.17501870466253922, -0.08181957875664789, -0.10102587014655665, -0.10110426587499098, -0.28005466812817914, -0.17518693015018566, -0.2726159864866307, -0.1753464276083685, -0.35430109906854385, -0.32716869307003865, -0.051997580761636845, -0.26297565240314447, -0.30303995030139236, -0.3542579433049656, 0.16156203002350136, -0.27963373784270007, -0.337954158161696, -0.16149767554225683, -0.3529179661834908, -0.419232943864891, -0.3421397887057921, -0.28005466828494874, -0.05153866124574624, -0.3738710805043857, -0.100921922013389, -0.10661793335869563, -0.09957170061746184, -0.35341318071197114, -0.05203806788087595, 0.18419487213252442, -0.10080613051310845, -0.22038923882655806, 0.18821620422019666, -0.09941883218754188, -0.1752763208535474, -0.17533478907018668, -0.1753437717097829, -0.3543010990699774, 0.04285081149008862, -0.10086639024470617, -0.35402021382947696, -0.3543010990413072, -0.047949552278512775, -0.24255019238250228, 0.18281309403750293, -0.1750548134960376, -0.1011042687327127, 0.5829938794154549, 0.041601339610465055, -0.35411168113367975, 0.18039280650465747, -0.3263642936667668, 0.49697962441927446, -0.44553397666161415, -0.39235763397167406, -0.20888981381820254, -0.04152128718918674, -0.2795678871096746, -0.04070713560389251, -0.11368612114885923, -0.35404989950593185, 0.038342815197851605, -0.35422950984311324, -0.10110426574297159, -0.27969390260564275, -0.2800183331117612, -0.05005113497808439, -0.23376021661908145, 0.03835180480104411, -0.41675768884736747, 1.9045045778283167, -0.271995206736411, 0.23853711634972077, -0.27835801176456, -0.1131246935968091, -0.2605556815198268, -0.10093014346630096, -0.3543011004877285, -0.05177952466383557, 6.107730768044977, -0.3542943924112859, 0.1827107170241798, -0.3543011004733934, -0.35416666875464137, -0.3540593119739608, -0.3538488432774184, -0.35383402338389497, -0.17508001450107305, -0.1752925140983723, -0.23383246226031937, 0.12398761870509654, 0.8086171163291466, -0.10100365955014413, -0.2658543085942924, -0.16683405439643842, -0.24261194968592564, -0.17533489418348355, -0.3482568387679424, -0.017372742461528715, -0.33781173929758346, 0.4959594382855323, -0.08057939087229457, -0.033813580144925505, 0.02781410535714209, -0.39322558222869963, -0.17532091714108997, 0.13120600278571304, -0.3529159354248767, 0.1027315350652929, -0.1751240261019439, -0.13177932321596691, -0.10110426573692399, 0.2540931842261971, 0.1661352475879135, -0.27762739921721774, -0.34822623342897674, -0.3543010994699295, -0.34196307421372074, -0.35430109919053643, -0.34823375493870984, 4.424355390933124, -0.10057509993752672, 6.926148241626715, 0.35183495546204313, 0.04059068858814788, -0.3008183438525488, -0.17381333050536468, 0.03315498716195639, -0.2338940617356685, -0.33492387674731033, 0.08191706907271534, 0.25432807290076653, -0.27894204653529425, -0.26080497483132503, -0.32120800296585766, -0.10731164384420436, -0.17523406283133522, -0.2993849364032715, -0.10047846639077862, -0.08185470156573886, 0.2629937533176933, -0.2799960830182826, -0.17535069679419693, -0.3482058395523447, 0.25447136724785463, -0.3441614428473067, -0.35367102141761053, -0.16716324654600118, -0.1753160020888252, 0.02226941706744545, -0.27993722064518906, -0.26052561477478753, -0.2890996292888347, -0.17535069965464234, -0.307569567383195, 0.17929074132781045, -0.039854342088609905, -0.3139128479619066, 0.5021895085278666, -0.31066297692557066, -0.17209736647425233, -0.23210103128795576, -0.3380500439958794, -0.29273078426324906, -0.21577088658641488, -0.39220962520841085, -0.31104972850471474, 0.16455115203145348, 0.7530997465690354, 0.23568609992413977, -0.35412868299161243, -0.15355677401276152, -0.3543011291437908, -0.3483145500176892, -0.3380500439958794, -0.27712755772253167, -0.11015844269795191, -0.34851777682595975, -0.1010742348094968, 0.06948509705011408, -0.0516838459262228, 0.2155709855183307, -0.33870961644458686, -0.2800546680154472, -0.2328474799924089, -0.348314550115885, -0.35424471432876525, -0.4485089583516321, -0.04138807003312418, -0.3380500440863288, -0.17533898215209495, -0.17533432039552468, -0.3370615550249793, -0.33805004399774286, -0.04833518766511652, -0.36343483216169753, -0.1590996420145438, 0.17575913429821655, 0.18295836174943078, -0.17521382200717317, -0.17535069693095467, 7.535118238172994, -0.17535069750436255, -0.2796141217642201, 0.13271637077926887, 0.18280873065321226, -0.23373451836594458, -0.014241597242114991, -0.15589887802970837, -0.22023760157521297, -0.41941924026053123, 0.34593650277701715, -0.4335288720281046, -0.0515018614482268, -0.36371679758257575, -0.23395523337010507, 0.20436527140376928, 0.3380972582209156, -0.03404988008507487, -0.05193236922014349, -0.3522000702589296, 0.003060251074092411, -0.22619751835254837, -0.17505148076568253, 0.14347583886916385, 1.681008942088555, 0.2541308118819193, 0.04225891348255611, 2.752147165342454, -0.3164530666776566, -0.3690759230285262, -0.2799854994465266, -0.13710373547716134, 0.25419129684403186, 0.13086255808505118, -0.052023656896003995, -0.037343511551061886, -0.14083314705524724, 0.2550082300551337, -0.35428147400598026, -0.17527583922259465, -0.327104820677402, -0.43210118181695684, -0.17535069693095467, -0.10926683485526364, 1.5832111693860325, 0.022475304215008065, -0.10067799269731387, -0.050545212786811, 0.1827845136862732, -0.319968246541835, -0.052038068924478265, -0.23171363018599495, -0.05203806782066806, -0.12402481996868207, 0.022270766058517147, -0.2799851829013309, 0.13078055490805013, -0.16066715467614645, 0.06229532445166679, -0.3164305156117489, -0.1918779891991319, -0.1693641480815091, -0.27938095914808914, 0.19288594397827333, -0.04816984702784278, -0.3793558273612475, -0.36362469655521407, -0.34213978807327683, -0.2605557241178715, 0.32727759964395264, -0.34213978819703805, -0.20809205840035488, 0.2944013198395564, -0.31072972546981475, 0.13126973569896816, -0.3865304000917057, -0.3224946066137279, -0.3222969454771924, -0.26080497483132475, -0.03560033057136478, -0.39993918099631154, -0.3538122992246679, -0.17514598309081247, -0.33755566431859196, 0.13103358085419803, -0.3377016295804222, 0.2541199857807289, 0.25167845570765973, -0.36287377588416747, 0.022218277353887254, -0.17506606538680877, -0.4031206406544538, 0.07223518281357522, 0.015017106325690532, -0.1008906494749361, -0.26080497495174076, -0.2600805471881966, -0.1408860022866927, -0.2596328278488234, -0.10077489685710933, 6.936010338423759, 0.022208363299804048, 0.036862143187480406, -0.2800546680103583, -0.35353149540484, -0.29533110749585867, -0.1753016968551382, -0.32219291832085845, -0.17506564970093152, 0.04151890254132676, -0.09505944979232915, -0.23395640034618087, -0.34349282395199976, -0.16176460187370367, 0.16666484508430865, -0.09425754000984743, -0.26048653641149117, -0.17451951544837352, -0.2339564003462481, 0.05552650430588368, -0.08185457258478818, -0.16974969205584017, -0.32334295176013034, -0.09831476143524331, -0.17391522081639696, 0.18270824081278594, -0.35423110587529755, -0.3533357589592173, -0.023141349103873592, -0.08082008347816468, 6.923819847846327, 0.08649553424620082, -0.1718596584216986, -0.3543011003157062, -0.16934862708763068, -0.17535069721765847, -0.15794750184684309, -0.3074455963232041, 0.03805013807728305, -0.3673753379391192, -0.341800556043872, -0.3421397894872061, 0.05531107776367652, 0.3514370794549923, 0.18278390452448437, 32.41505939362833, 0.2516779936711365, 4.239426305615081, -0.17514385702498275, -0.2203773564881796, -0.3379489648964145, -0.052036290004964646]}],                        {\"coloraxis\": {\"colorbar\": {\"title\": {\"text\": \"Class\"}}, \"colorscale\": [[0.0, \"#0d0887\"], [0.1111111111111111, \"#46039f\"], [0.2222222222222222, \"#7201a8\"], [0.3333333333333333, \"#9c179e\"], [0.4444444444444444, \"#bd3786\"], [0.5555555555555556, \"#d8576b\"], [0.6666666666666666, \"#ed7953\"], [0.7777777777777778, \"#fb9f3a\"], [0.8888888888888888, \"#fdca26\"], [1.0, \"#f0f921\"]]}, \"legend\": {\"tracegroupgap\": 0, \"x\": 0, \"y\": 1}, \"margin\": {\"t\": 60}, \"scene\": {\"domain\": {\"x\": [0.0, 1.0], \"y\": [0.0, 1.0]}, \"xaxis\": {\"title\": {\"text\": \"PC 1\"}}, \"yaxis\": {\"title\": {\"text\": \"PC 2\"}}, \"zaxis\": {\"title\": {\"text\": \"PC 1\"}}}, \"template\": {\"data\": {\"bar\": [{\"error_x\": {\"color\": \"#2a3f5f\"}, \"error_y\": {\"color\": \"#2a3f5f\"}, \"marker\": {\"line\": {\"color\": \"#E5ECF6\", \"width\": 0.5}}, \"type\": \"bar\"}], \"barpolar\": [{\"marker\": {\"line\": {\"color\": \"#E5ECF6\", \"width\": 0.5}}, \"type\": \"barpolar\"}], \"carpet\": [{\"aaxis\": {\"endlinecolor\": \"#2a3f5f\", \"gridcolor\": \"white\", \"linecolor\": \"white\", \"minorgridcolor\": \"white\", \"startlinecolor\": \"#2a3f5f\"}, \"baxis\": {\"endlinecolor\": \"#2a3f5f\", \"gridcolor\": \"white\", \"linecolor\": \"white\", \"minorgridcolor\": \"white\", \"startlinecolor\": \"#2a3f5f\"}, \"type\": \"carpet\"}], \"choropleth\": [{\"colorbar\": {\"outlinewidth\": 0, \"ticks\": \"\"}, \"type\": \"choropleth\"}], \"contour\": [{\"colorbar\": {\"outlinewidth\": 0, \"ticks\": \"\"}, \"colorscale\": [[0.0, \"#0d0887\"], [0.1111111111111111, \"#46039f\"], [0.2222222222222222, \"#7201a8\"], [0.3333333333333333, \"#9c179e\"], [0.4444444444444444, \"#bd3786\"], [0.5555555555555556, \"#d8576b\"], [0.6666666666666666, \"#ed7953\"], [0.7777777777777778, \"#fb9f3a\"], [0.8888888888888888, \"#fdca26\"], [1.0, \"#f0f921\"]], \"type\": \"contour\"}], \"contourcarpet\": [{\"colorbar\": {\"outlinewidth\": 0, \"ticks\": \"\"}, \"type\": \"contourcarpet\"}], \"heatmap\": [{\"colorbar\": {\"outlinewidth\": 0, \"ticks\": \"\"}, \"colorscale\": [[0.0, \"#0d0887\"], [0.1111111111111111, \"#46039f\"], [0.2222222222222222, \"#7201a8\"], [0.3333333333333333, \"#9c179e\"], [0.4444444444444444, \"#bd3786\"], [0.5555555555555556, \"#d8576b\"], [0.6666666666666666, \"#ed7953\"], [0.7777777777777778, \"#fb9f3a\"], [0.8888888888888888, \"#fdca26\"], [1.0, \"#f0f921\"]], \"type\": \"heatmap\"}], \"heatmapgl\": [{\"colorbar\": {\"outlinewidth\": 0, \"ticks\": \"\"}, \"colorscale\": [[0.0, \"#0d0887\"], [0.1111111111111111, \"#46039f\"], [0.2222222222222222, \"#7201a8\"], [0.3333333333333333, \"#9c179e\"], [0.4444444444444444, \"#bd3786\"], [0.5555555555555556, \"#d8576b\"], [0.6666666666666666, \"#ed7953\"], [0.7777777777777778, \"#fb9f3a\"], [0.8888888888888888, \"#fdca26\"], [1.0, \"#f0f921\"]], \"type\": \"heatmapgl\"}], \"histogram\": [{\"marker\": {\"colorbar\": {\"outlinewidth\": 0, \"ticks\": \"\"}}, \"type\": \"histogram\"}], \"histogram2d\": [{\"colorbar\": {\"outlinewidth\": 0, \"ticks\": \"\"}, \"colorscale\": [[0.0, \"#0d0887\"], [0.1111111111111111, \"#46039f\"], [0.2222222222222222, \"#7201a8\"], [0.3333333333333333, \"#9c179e\"], [0.4444444444444444, \"#bd3786\"], [0.5555555555555556, \"#d8576b\"], [0.6666666666666666, \"#ed7953\"], [0.7777777777777778, \"#fb9f3a\"], [0.8888888888888888, \"#fdca26\"], [1.0, \"#f0f921\"]], \"type\": \"histogram2d\"}], \"histogram2dcontour\": [{\"colorbar\": {\"outlinewidth\": 0, \"ticks\": \"\"}, \"colorscale\": [[0.0, \"#0d0887\"], [0.1111111111111111, \"#46039f\"], [0.2222222222222222, \"#7201a8\"], [0.3333333333333333, \"#9c179e\"], [0.4444444444444444, \"#bd3786\"], [0.5555555555555556, \"#d8576b\"], [0.6666666666666666, \"#ed7953\"], [0.7777777777777778, \"#fb9f3a\"], [0.8888888888888888, \"#fdca26\"], [1.0, \"#f0f921\"]], \"type\": \"histogram2dcontour\"}], \"mesh3d\": [{\"colorbar\": {\"outlinewidth\": 0, \"ticks\": \"\"}, \"type\": \"mesh3d\"}], \"parcoords\": [{\"line\": {\"colorbar\": {\"outlinewidth\": 0, \"ticks\": \"\"}}, \"type\": \"parcoords\"}], \"pie\": [{\"automargin\": true, \"type\": \"pie\"}], \"scatter\": [{\"marker\": {\"colorbar\": {\"outlinewidth\": 0, \"ticks\": \"\"}}, \"type\": \"scatter\"}], \"scatter3d\": [{\"line\": {\"colorbar\": {\"outlinewidth\": 0, \"ticks\": \"\"}}, \"marker\": {\"colorbar\": {\"outlinewidth\": 0, \"ticks\": \"\"}}, \"type\": \"scatter3d\"}], \"scattercarpet\": [{\"marker\": {\"colorbar\": {\"outlinewidth\": 0, \"ticks\": \"\"}}, \"type\": \"scattercarpet\"}], \"scattergeo\": [{\"marker\": {\"colorbar\": {\"outlinewidth\": 0, \"ticks\": \"\"}}, \"type\": \"scattergeo\"}], \"scattergl\": [{\"marker\": {\"colorbar\": {\"outlinewidth\": 0, \"ticks\": \"\"}}, \"type\": \"scattergl\"}], \"scattermapbox\": [{\"marker\": {\"colorbar\": {\"outlinewidth\": 0, \"ticks\": \"\"}}, \"type\": \"scattermapbox\"}], \"scatterpolar\": [{\"marker\": {\"colorbar\": {\"outlinewidth\": 0, \"ticks\": \"\"}}, \"type\": \"scatterpolar\"}], \"scatterpolargl\": [{\"marker\": {\"colorbar\": {\"outlinewidth\": 0, \"ticks\": \"\"}}, \"type\": \"scatterpolargl\"}], \"scatterternary\": [{\"marker\": {\"colorbar\": {\"outlinewidth\": 0, \"ticks\": \"\"}}, \"type\": \"scatterternary\"}], \"surface\": [{\"colorbar\": {\"outlinewidth\": 0, \"ticks\": \"\"}, \"colorscale\": [[0.0, \"#0d0887\"], [0.1111111111111111, \"#46039f\"], [0.2222222222222222, \"#7201a8\"], [0.3333333333333333, \"#9c179e\"], [0.4444444444444444, \"#bd3786\"], [0.5555555555555556, \"#d8576b\"], [0.6666666666666666, \"#ed7953\"], [0.7777777777777778, \"#fb9f3a\"], [0.8888888888888888, \"#fdca26\"], [1.0, \"#f0f921\"]], \"type\": \"surface\"}], \"table\": [{\"cells\": {\"fill\": {\"color\": \"#EBF0F8\"}, \"line\": {\"color\": \"white\"}}, \"header\": {\"fill\": {\"color\": \"#C8D4E3\"}, \"line\": {\"color\": \"white\"}}, \"type\": \"table\"}]}, \"layout\": {\"annotationdefaults\": {\"arrowcolor\": \"#2a3f5f\", \"arrowhead\": 0, \"arrowwidth\": 1}, \"autotypenumbers\": \"strict\", \"coloraxis\": {\"colorbar\": {\"outlinewidth\": 0, \"ticks\": \"\"}}, \"colorscale\": {\"diverging\": [[0, \"#8e0152\"], [0.1, \"#c51b7d\"], [0.2, \"#de77ae\"], [0.3, \"#f1b6da\"], [0.4, \"#fde0ef\"], [0.5, \"#f7f7f7\"], [0.6, \"#e6f5d0\"], [0.7, \"#b8e186\"], [0.8, \"#7fbc41\"], [0.9, \"#4d9221\"], [1, \"#276419\"]], \"sequential\": [[0.0, \"#0d0887\"], [0.1111111111111111, \"#46039f\"], [0.2222222222222222, \"#7201a8\"], [0.3333333333333333, \"#9c179e\"], [0.4444444444444444, \"#bd3786\"], [0.5555555555555556, \"#d8576b\"], [0.6666666666666666, \"#ed7953\"], [0.7777777777777778, \"#fb9f3a\"], [0.8888888888888888, \"#fdca26\"], [1.0, \"#f0f921\"]], \"sequentialminus\": [[0.0, \"#0d0887\"], [0.1111111111111111, \"#46039f\"], [0.2222222222222222, \"#7201a8\"], [0.3333333333333333, \"#9c179e\"], [0.4444444444444444, \"#bd3786\"], [0.5555555555555556, \"#d8576b\"], [0.6666666666666666, \"#ed7953\"], [0.7777777777777778, \"#fb9f3a\"], [0.8888888888888888, \"#fdca26\"], [1.0, \"#f0f921\"]]}, \"colorway\": [\"#636efa\", \"#EF553B\", \"#00cc96\", \"#ab63fa\", \"#FFA15A\", \"#19d3f3\", \"#FF6692\", \"#B6E880\", \"#FF97FF\", \"#FECB52\"], \"font\": {\"color\": \"#2a3f5f\"}, \"geo\": {\"bgcolor\": \"white\", \"lakecolor\": \"white\", \"landcolor\": \"#E5ECF6\", \"showlakes\": true, \"showland\": true, \"subunitcolor\": \"white\"}, \"hoverlabel\": {\"align\": \"left\"}, \"hovermode\": \"closest\", \"mapbox\": {\"style\": \"light\"}, \"paper_bgcolor\": \"white\", \"plot_bgcolor\": \"#E5ECF6\", \"polar\": {\"angularaxis\": {\"gridcolor\": \"white\", \"linecolor\": \"white\", \"ticks\": \"\"}, \"bgcolor\": \"#E5ECF6\", \"radialaxis\": {\"gridcolor\": \"white\", \"linecolor\": \"white\", \"ticks\": \"\"}}, \"scene\": {\"xaxis\": {\"backgroundcolor\": \"#E5ECF6\", \"gridcolor\": \"white\", \"gridwidth\": 2, \"linecolor\": \"white\", \"showbackground\": true, \"ticks\": \"\", \"zerolinecolor\": \"white\"}, \"yaxis\": {\"backgroundcolor\": \"#E5ECF6\", \"gridcolor\": \"white\", \"gridwidth\": 2, \"linecolor\": \"white\", \"showbackground\": true, \"ticks\": \"\", \"zerolinecolor\": \"white\"}, \"zaxis\": {\"backgroundcolor\": \"#E5ECF6\", \"gridcolor\": \"white\", \"gridwidth\": 2, \"linecolor\": \"white\", \"showbackground\": true, \"ticks\": \"\", \"zerolinecolor\": \"white\"}}, \"shapedefaults\": {\"line\": {\"color\": \"#2a3f5f\"}}, \"ternary\": {\"aaxis\": {\"gridcolor\": \"white\", \"linecolor\": \"white\", \"ticks\": \"\"}, \"baxis\": {\"gridcolor\": \"white\", \"linecolor\": \"white\", \"ticks\": \"\"}, \"bgcolor\": \"#E5ECF6\", \"caxis\": {\"gridcolor\": \"white\", \"linecolor\": \"white\", \"ticks\": \"\"}}, \"title\": {\"x\": 0.05}, \"xaxis\": {\"automargin\": true, \"gridcolor\": \"white\", \"linecolor\": \"white\", \"ticks\": \"\", \"title\": {\"standoff\": 15}, \"zerolinecolor\": \"white\", \"zerolinewidth\": 2}, \"yaxis\": {\"automargin\": true, \"gridcolor\": \"white\", \"linecolor\": \"white\", \"ticks\": \"\", \"title\": {\"standoff\": 15}, \"zerolinecolor\": \"white\", \"zerolinewidth\": 2}}}, \"width\": 800},                        {\"responsive\": true}                    ).then(function(){\n",
       "                            \n",
       "var gd = document.getElementById('f278362c-772d-4a33-9f05-b911213141fb');\n",
       "var x = new MutationObserver(function (mutations, observer) {{\n",
       "        var display = window.getComputedStyle(gd).display;\n",
       "        if (!display || display === 'none') {{\n",
       "            console.log([gd, 'removed!']);\n",
       "            Plotly.purge(gd);\n",
       "            observer.disconnect();\n",
       "        }}\n",
       "}});\n",
       "\n",
       "// Listen for the removal of the full notebook cells\n",
       "var notebookContainer = gd.closest('#notebook-container');\n",
       "if (notebookContainer) {{\n",
       "    x.observe(notebookContainer, {childList: true});\n",
       "}}\n",
       "\n",
       "// Listen for the clearing of the current output cell\n",
       "var outputEl = gd.closest('.output');\n",
       "if (outputEl) {{\n",
       "    x.observe(outputEl, {childList: true});\n",
       "}}\n",
       "\n",
       "                        })                };                });            </script>        </div>"
      ]
     },
     "metadata": {},
     "output_type": "display_data"
    }
   ],
   "source": [
    "# Create a 3D-Scatter with the PCA data and the clusters\n",
    "\n",
    "# fig.update_layout(legend=dict(x=0, y=1))\n",
    "# fig.show()\n",
    "fig = px.scatter_3d(\n",
    "    clustered_df,\n",
    "    x=\"PC 1\",\n",
    "    y=\"PC 2\",\n",
    "    z=\"PC 1\",\n",
    "    color=\"Class\",\n",
    "#     symbol=\"class\",\n",
    "    hover_name=\"CoinName\",\n",
    "    hover_data=[\"Algorithm\"],\n",
    "    width=800,\n",
    ")\n",
    "fig.update_layout(legend=dict(x=0, y=1))\n",
    "fig.show()"
   ]
  },
  {
   "cell_type": "code",
   "execution_count": 183,
   "metadata": {},
   "outputs": [],
   "source": [
    "# delete\n",
    "# transform objects to strings.\n",
    "# clustered_df.dtypes"
   ]
  },
  {
   "cell_type": "code",
   "execution_count": 184,
   "metadata": {},
   "outputs": [],
   "source": [
    "# delete\n",
    "# df['column'] = df['column'].astype('str') \n",
    "# change objects columns to string\n",
    "# make a copy\n",
    "# alt_clust_df = clustered_df.copy()\n",
    "# change objects to sting (assuming all objects are strings)\n",
    "\n",
    "# sample code\n",
    "# all_btc_tokens = []\n",
    "# for index, row in bitcoin_df.iterrows():\n",
    "#     all_btc_tokens.extend(row['tokens'])"
   ]
  },
  {
   "cell_type": "code",
   "execution_count": 185,
   "metadata": {},
   "outputs": [
    {
     "data": {
      "text/html": [
       "\n",
       "<div id=\"altair-viz-b22c6f7f283444a78bcce0dfa6e15792\"></div>\n",
       "<script type=\"text/javascript\">\n",
       "  (function(spec, embedOpt){\n",
       "    let outputDiv = document.currentScript.previousElementSibling;\n",
       "    if (outputDiv.id !== \"altair-viz-b22c6f7f283444a78bcce0dfa6e15792\") {\n",
       "      outputDiv = document.getElementById(\"altair-viz-b22c6f7f283444a78bcce0dfa6e15792\");\n",
       "    }\n",
       "    const paths = {\n",
       "      \"vega\": \"https://cdn.jsdelivr.net/npm//vega@5?noext\",\n",
       "      \"vega-lib\": \"https://cdn.jsdelivr.net/npm//vega-lib?noext\",\n",
       "      \"vega-lite\": \"https://cdn.jsdelivr.net/npm//vega-lite@4.8.1?noext\",\n",
       "      \"vega-embed\": \"https://cdn.jsdelivr.net/npm//vega-embed@6?noext\",\n",
       "    };\n",
       "\n",
       "    function loadScript(lib) {\n",
       "      return new Promise(function(resolve, reject) {\n",
       "        var s = document.createElement('script');\n",
       "        s.src = paths[lib];\n",
       "        s.async = true;\n",
       "        s.onload = () => resolve(paths[lib]);\n",
       "        s.onerror = () => reject(`Error loading script: ${paths[lib]}`);\n",
       "        document.getElementsByTagName(\"head\")[0].appendChild(s);\n",
       "      });\n",
       "    }\n",
       "\n",
       "    function showError(err) {\n",
       "      outputDiv.innerHTML = `<div class=\"error\" style=\"color:red;\">${err}</div>`;\n",
       "      throw err;\n",
       "    }\n",
       "\n",
       "    function displayChart(vegaEmbed) {\n",
       "      vegaEmbed(outputDiv, spec, embedOpt)\n",
       "        .catch(err => showError(`Javascript Error: ${err.message}<br>This usually means there's a typo in your chart specification. See the javascript console for the full traceback.`));\n",
       "    }\n",
       "\n",
       "    if(typeof define === \"function\" && define.amd) {\n",
       "      requirejs.config({paths});\n",
       "      require([\"vega-embed\"], displayChart, err => showError(`Error loading script: ${err.message}`));\n",
       "    } else if (typeof vegaEmbed === \"function\") {\n",
       "      displayChart(vegaEmbed);\n",
       "    } else {\n",
       "      loadScript(\"vega\")\n",
       "        .then(() => loadScript(\"vega-lite\"))\n",
       "        .then(() => loadScript(\"vega-embed\"))\n",
       "        .catch(showError)\n",
       "        .then(() => displayChart(vegaEmbed));\n",
       "    }\n",
       "  })({\"config\": {\"view\": {\"continuousWidth\": 400, \"continuousHeight\": 300}}, \"data\": {\"name\": \"data-f8040e4a3d22cf6c5c2f70248d9c6484\"}, \"mark\": {\"type\": \"circle\", \"size\": 60}, \"encoding\": {\"color\": {\"type\": \"nominal\", \"field\": \"Algorithm\"}, \"tooltip\": [{\"type\": \"nominal\", \"field\": \"CoinName\"}, {\"type\": \"nominal\", \"field\": \"Algorithm\"}, {\"type\": \"quantitative\", \"field\": \"TotalCoinsMined\"}, {\"type\": \"quantitative\", \"field\": \"TotalCoinSupply\"}], \"x\": {\"type\": \"quantitative\", \"field\": \"PC 1\"}, \"y\": {\"type\": \"quantitative\", \"field\": \"PC 2\"}}, \"selection\": {\"selector025\": {\"type\": \"interval\", \"bind\": \"scales\", \"encodings\": [\"x\", \"y\"]}}, \"$schema\": \"https://vega.github.io/schema/vega-lite/v4.8.1.json\", \"datasets\": {\"data-f8040e4a3d22cf6c5c2f70248d9c6484\": [{\"CoinName\": \"42 Coin\", \"Algorithm\": \"Scrypt\", \"ProofType\": \"PoW/PoS\", \"TotalCoinsMined\": 41.99995383, \"TotalCoinSupply\": 42.0, \"PC 1\": -0.1753506962057823, \"PC 2\": -1.198255836468285, \"PC 3\": -0.5369643735107295, \"Class\": 0}, {\"CoinName\": \"404Coin\", \"Algorithm\": \"Scrypt\", \"ProofType\": \"PoW/PoS\", \"TotalCoinsMined\": 1055184902.04, \"TotalCoinSupply\": 532000000.0, \"PC 1\": -0.1607331971718766, \"PC 2\": -1.1958307516125204, \"PC 3\": -0.5374581503622439, \"Class\": 0}, {\"CoinName\": \"EliteCoin\", \"Algorithm\": \"X13\", \"ProofType\": \"PoW/PoS\", \"TotalCoinsMined\": 29279424622.5027, \"TotalCoinSupply\": 314159265359.0, \"PC 1\": 0.44365627084616177, \"PC 2\": -1.9003229018053096, \"PC 3\": -0.614961740292176, \"Class\": 0}, {\"CoinName\": \"Bitcoin\", \"Algorithm\": \"SHA-256\", \"ProofType\": \"PoW\", \"TotalCoinsMined\": 17927175.0, \"TotalCoinSupply\": 21000000.0, \"PC 1\": -0.2605566292694821, \"PC 2\": 1.3705835283563874, \"PC 3\": 0.19676852909678802, \"Class\": 1}, {\"CoinName\": \"Litecoin\", \"Algorithm\": \"Scrypt\", \"ProofType\": \"PoW\", \"TotalCoinsMined\": 63039243.30000489, \"TotalCoinSupply\": 84000000.0, \"PC 1\": -0.35342781509319454, \"PC 2\": 1.0388820834947412, \"PC 3\": -0.008358335821700083, \"Class\": 1}, {\"CoinName\": \"Dash\", \"Algorithm\": \"X11\", \"ProofType\": \"PoW/PoS\", \"TotalCoinsMined\": 9031294.37563393, \"TotalCoinSupply\": 22000000.0, \"PC 1\": -0.10097915503737202, \"PC 2\": -1.4476249007293291, \"PC 3\": -0.5203821408266448, \"Class\": 0}, {\"CoinName\": \"Ethereum Classic\", \"Algorithm\": \"Ethash\", \"ProofType\": \"PoW\", \"TotalCoinsMined\": 113359703.0, \"TotalCoinSupply\": 210000000.0, \"PC 1\": -0.340569413818195, \"PC 2\": 1.9504971035567407, \"PC 3\": 0.305574104751738, \"Class\": 1}, {\"CoinName\": \"ZCash\", \"Algorithm\": \"Equihash\", \"ProofType\": \"PoW\", \"TotalCoinsMined\": 7383056.25, \"TotalCoinSupply\": 21000000.0, \"PC 1\": -0.3379477663502091, \"PC 2\": 1.907058344526199, \"PC 3\": 0.38452512687726353, \"Class\": 1}, {\"CoinName\": \"Bitshares\", \"Algorithm\": \"SHA-512\", \"ProofType\": \"PoS\", \"TotalCoinsMined\": 2741570000.0, \"TotalCoinSupply\": 3600570502.0, \"PC 1\": 0.16162031949334182, \"PC 2\": -1.6851770082381, \"PC 3\": -0.029796921016008605, \"Class\": 0}, {\"CoinName\": \"DigiByte\", \"Algorithm\": \"Multiple\", \"ProofType\": \"PoW\", \"TotalCoinsMined\": 11406219141.0, \"TotalCoinSupply\": 21000000000.0, \"PC 1\": -0.14948118503370159, \"PC 2\": 1.7479578052255658, \"PC 3\": 0.2814535362720776, \"Class\": 1}, {\"CoinName\": \"BitcoinDark\", \"Algorithm\": \"SHA-256\", \"ProofType\": \"PoW/PoS\", \"TotalCoinsMined\": 1288862.0, \"TotalCoinSupply\": 22000000.0, \"PC 1\": -0.08183671794597114, \"PC 2\": -0.8664477511490704, \"PC 3\": -0.33185922232660425, \"Class\": 0}, {\"CoinName\": \"Bitstake\", \"Algorithm\": \"X11\", \"ProofType\": \"PoW/PoS\", \"TotalCoinsMined\": 0.0, \"TotalCoinSupply\": 1300000.0, \"PC 1\": -0.10110426573350247, \"PC 2\": -1.4476456567824503, \"PC 3\": -0.520377914526647, \"Class\": 0}, {\"CoinName\": \"PayCoin\", \"Algorithm\": \"SHA-256\", \"ProofType\": \"PoS\", \"TotalCoinsMined\": 11995334.8847328, \"TotalCoinSupply\": 12500000.0, \"PC 1\": 0.04162422814661038, \"PC 2\": -0.4941177492544527, \"PC 3\": -0.05598247580332223, \"Class\": 0}, {\"CoinName\": \"ProsperCoin\", \"Algorithm\": \"Scrypt\", \"ProofType\": \"PoW\", \"TotalCoinsMined\": 5768310.0, \"TotalCoinSupply\": 21000000.0, \"PC 1\": -0.35422119054072865, \"PC 2\": 1.03875046059796, \"PC 3\": -0.008331535552832888, \"Class\": 1}, {\"CoinName\": \"KoboCoin\", \"Algorithm\": \"X15\", \"ProofType\": \"PoW/PoS\", \"TotalCoinsMined\": 25542535.5881841, \"TotalCoinSupply\": 350000000.0, \"PC 1\": 0.0200975230948338, \"PC 2\": -2.142158709387094, \"PC 3\": -0.6768702914031235, \"Class\": 0}, {\"CoinName\": \"Spreadcoin\", \"Algorithm\": \"X11\", \"ProofType\": \"PoW\", \"TotalCoinsMined\": 11149733.9976203, \"TotalCoinSupply\": 20000000.0, \"PC 1\": -0.2799002104946478, \"PC 2\": 0.7893730083235189, \"PC 3\": 0.0082524051830646, \"Class\": 1}, {\"CoinName\": \"ACoin\", \"Algorithm\": \"SHA-256\", \"ProofType\": \"PoW\", \"TotalCoinsMined\": 0.0, \"TotalCoinSupply\": 1600000.0, \"PC 1\": -0.2608049748035149, \"PC 2\": 1.3705423272310522, \"PC 3\": 0.1967769182218178, \"Class\": 1}, {\"CoinName\": \"Aero Coin\", \"Algorithm\": \"X13\", \"ProofType\": \"PoS\", \"TotalCoinsMined\": 0.0, \"TotalCoinSupply\": 7000000.0, \"PC 1\": 0.1613608169372915, \"PC 2\": -1.5953059154781404, \"PC 3\": -0.32537712082787507, \"Class\": 0}, {\"CoinName\": \"ApexCoin\", \"Algorithm\": \"X13\", \"ProofType\": \"PoW/PoS\", \"TotalCoinsMined\": 0.0, \"TotalCoinSupply\": 6000000.0, \"PC 1\": 0.03804818787144391, \"PC 2\": -1.9676113109879991, \"PC 3\": -0.6012588773984879, \"Class\": 0}, {\"CoinName\": \"ArchCoin\", \"Algorithm\": \"Scrypt\", \"ProofType\": \"PoS\", \"TotalCoinsMined\": 0.0, \"TotalCoinSupply\": 16403135.0, \"PC 1\": -0.05203806774383594, \"PC 2\": -0.8259504412196848, \"PC 3\": -0.2610826169961045, \"Class\": 0}, {\"CoinName\": \"Argentum\", \"Algorithm\": \"Scrypt\", \"ProofType\": \"PoW\", \"TotalCoinsMined\": 12205795.444954902, \"TotalCoinSupply\": 64000000.0, \"PC 1\": -0.35413201197050614, \"PC 2\": 1.0387652551618578, \"PC 3\": -0.008334548188258836, \"Class\": 1}, {\"CoinName\": \"Aurora Coin\", \"Algorithm\": \"Scrypt\", \"ProofType\": \"PoW/PoS\", \"TotalCoinsMined\": 18135099.992959, \"TotalCoinSupply\": 16768584.0, \"PC 1\": -0.17509947086015487, \"PC 2\": -1.1982141575453658, \"PC 3\": -0.5369728599017782, \"Class\": 0}, {\"CoinName\": \"BetaCoin\", \"Algorithm\": \"SHA-256\", \"ProofType\": \"PoW\", \"TotalCoinsMined\": 0.0, \"TotalCoinSupply\": 32000000.0, \"PC 1\": -0.26080497484709375, \"PC 2\": 1.370542326905932, \"PC 3\": 0.19677691807253192, \"Class\": 1}, {\"CoinName\": \"MyriadCoin\", \"Algorithm\": \"Multiple\", \"ProofType\": \"PoW\", \"TotalCoinsMined\": 1688254250.0, \"TotalCoinSupply\": 2000000000.0, \"PC 1\": -0.28410434582426797, \"PC 2\": 1.7256235856436688, \"PC 3\": 0.28600115570167606, \"Class\": 1}, {\"CoinName\": \"MoonCoin\", \"Algorithm\": \"Scrypt\", \"ProofType\": \"PoW\", \"TotalCoinsMined\": 88.0, \"TotalCoinSupply\": 384000000000.0, \"PC 1\": -0.3543016482924388, \"PC 2\": 1.0387330971569133, \"PC 3\": -0.008330721923751125, \"Class\": 1}, {\"CoinName\": \"ZetaCoin\", \"Algorithm\": \"SHA-256\", \"ProofType\": \"PoW\", \"TotalCoinsMined\": 170204389.754849, \"TotalCoinSupply\": 169795588.0, \"PC 1\": -0.2584471297733101, \"PC 2\": 1.3709334995970806, \"PC 3\": 0.19669727017364072, \"Class\": 1}, {\"CoinName\": \"SexCoin\", \"Algorithm\": \"Scrypt\", \"ProofType\": \"PoW\", \"TotalCoinsMined\": 128940951.183046, \"TotalCoinSupply\": 250000000.0, \"PC 1\": -0.35251487747728016, \"PC 2\": 1.0390335410653193, \"PC 3\": -0.008389175371297313, \"Class\": 1}, {\"CoinName\": \"Quatloo\", \"Algorithm\": \"Scrypt\", \"ProofType\": \"PoW\", \"TotalCoinsMined\": 7357794.7925, \"TotalCoinSupply\": 100000000.0, \"PC 1\": -0.3541991714850985, \"PC 2\": 1.0387541128044857, \"PC 3\": -0.008332279740916862, \"Class\": 1}, {\"CoinName\": \"QuarkCoin\", \"Algorithm\": \"Quark\", \"ProofType\": \"PoW\", \"TotalCoinsMined\": 259557164.91477, \"TotalCoinSupply\": 247000000.0, \"PC 1\": -0.044574196047893595, \"PC 2\": 0.5507210377635181, \"PC 3\": -0.03435445419418889, \"Class\": 1}, {\"CoinName\": \"Riecoin\", \"Algorithm\": \"Groestl\", \"ProofType\": \"PoW\", \"TotalCoinsMined\": 49548585.14129171, \"TotalCoinSupply\": 84000000.0, \"PC 1\": -0.32367195573713026, \"PC 2\": 1.415571102461344, \"PC 3\": 0.14877400021945125, \"Class\": 1}, {\"CoinName\": \"Digitalcoin \", \"Algorithm\": \"Scrypt\", \"ProofType\": \"PoW\", \"TotalCoinsMined\": 33442988.3440364, \"TotalCoinSupply\": 48166000.0, \"PC 1\": -0.3538378126329415, \"PC 2\": 1.0388140639501056, \"PC 3\": -0.008344486064655831, \"Class\": 1}, {\"CoinName\": \"LimeCoinX\", \"Algorithm\": \"X11\", \"ProofType\": \"PoW\", \"TotalCoinsMined\": 0.0, \"TotalCoinSupply\": 21000000.0, \"PC 1\": -0.2800546680140136, \"PC 2\": 0.7893473833104904, \"PC 3\": 0.008257622701289744, \"Class\": 1}, {\"CoinName\": \"BitBar\", \"Algorithm\": \"Scrypt\", \"ProofType\": \"PoW/PoS\", \"TotalCoinsMined\": 42579.476901, \"TotalCoinSupply\": 500000.0, \"PC 1\": -0.17535010693386022, \"PC 2\": -1.1982557387113941, \"PC 3\": -0.5369643934186178, \"Class\": 0}, {\"CoinName\": \"BitMark\", \"Algorithm\": \"Scrypt\", \"ProofType\": \"PoW\", \"TotalCoinsMined\": 0.0, \"TotalCoinSupply\": 27580000.0, \"PC 1\": -0.35430109907941, \"PC 2\": 1.038737203443855, \"PC 3\": -0.008328836301836099, \"Class\": 1}, {\"CoinName\": \"CashCoin\", \"Algorithm\": \"Scrypt\", \"ProofType\": \"PoW/PoS\", \"TotalCoinsMined\": 0.0, \"TotalCoinSupply\": 47433600.0, \"PC 1\": -0.17535069685559967, \"PC 2\": -1.198255837072102, \"PC 3\": -0.5369643737240098, \"Class\": 0}, {\"CoinName\": \"Catcoin\", \"Algorithm\": \"Scrypt\", \"ProofType\": \"PoW\", \"TotalCoinsMined\": 7219956.64626131, \"TotalCoinSupply\": 21000000.0, \"PC 1\": -0.35420108084681634, \"PC 2\": 1.0387537968612917, \"PC 3\": -0.008332214851546286, \"Class\": 1}, {\"CoinName\": \"CryptoBullion\", \"Algorithm\": \"Scrypt\", \"ProofType\": \"PoW/PoS\", \"TotalCoinsMined\": 1039116.65144562, \"TotalCoinSupply\": 1000000.0, \"PC 1\": -0.1753363018824977, \"PC 2\": -1.1982534484139027, \"PC 3\": -0.536964859751101, \"Class\": 0}, {\"CoinName\": \"CannaCoin\", \"Algorithm\": \"Scrypt\", \"ProofType\": \"PoW\", \"TotalCoinsMined\": 4703879.51824446, \"TotalCoinSupply\": 13140000.0, \"PC 1\": -0.35423593610906506, \"PC 2\": 1.0387480143426204, \"PC 3\": -0.008331037413502546, \"Class\": 1}, {\"CoinName\": \"CinderCoin\", \"Algorithm\": \"Multiple\", \"ProofType\": \"PoW/PoS\", \"TotalCoinsMined\": 0.0, \"TotalCoinSupply\": 114000000.0, \"PC 1\": -0.12854136528132015, \"PC 2\": -0.5152494839245149, \"PC 3\": -0.24184435301112026, \"Class\": 0}, {\"CoinName\": \"CoolCoin\", \"Algorithm\": \"Scrypt\", \"ProofType\": \"PoS\", \"TotalCoinsMined\": 0.0, \"TotalCoinSupply\": 100000000.0, \"PC 1\": -0.05203806786367361, \"PC 2\": -0.8259504421137324, \"PC 3\": -0.2610826174066254, \"Class\": 0}, {\"CoinName\": \"CryptCoin\", \"Algorithm\": \"X11\", \"ProofType\": \"PoW\", \"TotalCoinsMined\": 4996986.20575291, \"TotalCoinSupply\": 18000000.0, \"PC 1\": -0.2799854446464789, \"PC 2\": 0.7893588677226696, \"PC 3\": 0.008255284374036066, \"Class\": 1}, {\"CoinName\": \"CasinoCoin\", \"Algorithm\": \"Scrypt\", \"ProofType\": \"PoC\", \"TotalCoinsMined\": 39999997299.8568, \"TotalCoinSupply\": 40000000000.0, \"PC 1\": 0.7032388839780692, \"PC 2\": -0.23941465903026599, \"PC 3\": -0.10162513190496664, \"Class\": 0}, {\"CoinName\": \"Diamond\", \"Algorithm\": \"Groestl\", \"ProofType\": \"PoW/PoS\", \"TotalCoinsMined\": 3304487.74735637, \"TotalCoinSupply\": 4380000.0, \"PC 1\": -0.1453621739006842, \"PC 2\": -0.8215282180109146, \"PC 3\": -0.3798398967676593, \"Class\": 0}, {\"CoinName\": \"Verge\", \"Algorithm\": \"Multiple\", \"ProofType\": \"PoW\", \"TotalCoinsMined\": 15929530669.1206, \"TotalCoinSupply\": 16555000000.0, \"PC 1\": -0.08681964147907603, \"PC 2\": 1.7583536046703883, \"PC 3\": 0.27933687239693283, \"Class\": 1}, {\"CoinName\": \"DarkCash\", \"Algorithm\": \"X11\", \"ProofType\": \"PoW/PoS\", \"TotalCoinsMined\": 0.0, \"TotalCoinSupply\": 3720000.0, \"PC 1\": -0.10110426573697161, \"PC 2\": -1.4476456568083311, \"PC 3\": -0.5203779145385309, \"Class\": 0}, {\"CoinName\": \"DarkShibe\", \"Algorithm\": \"Scrypt\", \"ProofType\": \"PoW\", \"TotalCoinsMined\": 0.0, \"TotalCoinSupply\": 2043962.0, \"PC 1\": -0.3543010990428035, \"PC 2\": 1.0387372037169562, \"PC 3\": -0.008328836176435924, \"Class\": 1}, {\"CoinName\": \"DevCoin\", \"Algorithm\": \"SHA-256\", \"ProofType\": \"PoW\", \"TotalCoinsMined\": 18773857500.0, \"TotalCoinSupply\": 21000000000.0, \"PC 1\": -0.0007303311878447244, \"PC 2\": 1.4136893331084002, \"PC 3\": 0.1879915798805927, \"Class\": 1}, {\"CoinName\": \"EarthCoin\", \"Algorithm\": \"Scrypt\", \"ProofType\": \"PoW\", \"TotalCoinsMined\": 12539015186.821999, \"TotalCoinSupply\": 13500000000.0, \"PC 1\": -0.18059785663870476, \"PC 2\": 1.0675549929080672, \"PC 3\": -0.014196540366278718, \"Class\": 1}, {\"CoinName\": \"E-Gulden\", \"Algorithm\": \"Scrypt\", \"ProofType\": \"PoW\", \"TotalCoinsMined\": 20910478.806249898, \"TotalCoinSupply\": 21000000.0, \"PC 1\": -0.35401142573284844, \"PC 2\": 1.0387852612587718, \"PC 3\": -0.008338621337667452, \"Class\": 1}, {\"CoinName\": \"Elacoin\", \"Algorithm\": \"Scrypt\", \"ProofType\": \"PoW\", \"TotalCoinsMined\": 0.0, \"TotalCoinSupply\": 75000000.0, \"PC 1\": -0.35430109914738744, \"PC 2\": 1.0387372029367095, \"PC 3\": -0.008328836534702568, \"Class\": 1}, {\"CoinName\": \"Einsteinium\", \"Algorithm\": \"Scrypt\", \"ProofType\": \"PoW\", \"TotalCoinsMined\": 218871896.499999, \"TotalCoinSupply\": 299792458.0, \"PC 1\": -0.35126906212365117, \"PC 2\": 1.039240225345562, \"PC 3\": -0.008431258842904023, \"Class\": 1}, {\"CoinName\": \"Emerald\", \"Algorithm\": \"Scrypt\", \"ProofType\": \"PoW\", \"TotalCoinsMined\": 19496786.31025, \"TotalCoinSupply\": 32000000.0, \"PC 1\": -0.35403100966282514, \"PC 2\": 1.0387820121063531, \"PC 3\": -0.008337959853633791, \"Class\": 1}, {\"CoinName\": \"Flappy Coin\", \"Algorithm\": \"Scrypt\", \"ProofType\": \"PoW\", \"TotalCoinsMined\": 0.0, \"TotalCoinSupply\": 100000000000.0, \"PC 1\": -0.35430124239186084, \"PC 2\": 1.038736134263777, \"PC 3\": -0.008329327238318552, \"Class\": 1}, {\"CoinName\": \"Fuel2Coin\", \"Algorithm\": \"X11\", \"ProofType\": \"PoS\", \"TotalCoinsMined\": 0.0, \"TotalCoinSupply\": 100000000.0, \"PC 1\": 0.022208363192290158, \"PC 2\": -1.0753402623174684, \"PC 3\": -0.24449615843581213, \"Class\": 0}, {\"CoinName\": \"FIBRE\", \"Algorithm\": \"NIST5\", \"ProofType\": \"PoW/PoS\", \"TotalCoinsMined\": 0.0, \"TotalCoinSupply\": 624000.0, \"PC 1\": -0.041579073425194304, \"PC 2\": -1.7448833529176155, \"PC 3\": -0.5637964680315519, \"Class\": 0}, {\"CoinName\": \"FireRoosterCoin\", \"Algorithm\": \"SHA-256\", \"ProofType\": \"PoW\", \"TotalCoinsMined\": 0.0, \"TotalCoinSupply\": 2602410.0, \"PC 1\": -0.2608049748049518, \"PC 2\": 1.3705423272203316, \"PC 3\": 0.19677691821689536, \"Class\": 1}, {\"CoinName\": \"Franko\", \"Algorithm\": \"Scrypt\", \"ProofType\": \"PoW\", \"TotalCoinsMined\": 1142732.14912776, \"TotalCoinSupply\": 11235813.0, \"PC 1\": -0.35428526876160255, \"PC 2\": 1.038739829915745, \"PC 3\": -0.008329370963607493, \"Class\": 1}, {\"CoinName\": \"FeatherCoin\", \"Algorithm\": \"NeoScrypt\", \"ProofType\": \"PoW\", \"TotalCoinsMined\": 208669093.00773, \"TotalCoinSupply\": 336000000.0, \"PC 1\": -0.3454238527763814, \"PC 2\": 1.4905939387726193, \"PC 3\": 0.17120058770722033, \"Class\": 1}, {\"CoinName\": \"GrandCoin\", \"Algorithm\": \"Scrypt\", \"ProofType\": \"PoW\", \"TotalCoinsMined\": 884125802.0, \"TotalCoinSupply\": 1420609614.0, \"PC 1\": -0.34205328629026943, \"PC 2\": 1.040769140675231, \"PC 3\": -0.00874257021698581, \"Class\": 1}, {\"CoinName\": \"GlobalCoin\", \"Algorithm\": \"Scrypt\", \"ProofType\": \"PoW\", \"TotalCoinsMined\": 65672720.470874794, \"TotalCoinSupply\": 70000000.0, \"PC 1\": -0.35339133345415413, \"PC 2\": 1.0388881360631779, \"PC 3\": -0.008359568089800836, \"Class\": 1}, {\"CoinName\": \"GoldCoin\", \"Algorithm\": \"Scrypt\", \"ProofType\": \"PoW\", \"TotalCoinsMined\": 41658647.9999715, \"TotalCoinSupply\": 72245700.0, \"PC 1\": -0.35372400094792467, \"PC 2\": 1.0388329454253542, \"PC 3\": -0.008348330704606874, \"Class\": 1}, {\"CoinName\": \"GlyphCoin\", \"Algorithm\": \"X11\", \"ProofType\": \"PoW/PoS\", \"TotalCoinsMined\": 0.0, \"TotalCoinSupply\": 7000000.0, \"PC 1\": -0.10110426574167354, \"PC 2\": -1.44764565684341, \"PC 3\": -0.5203779145546384, \"Class\": 0}, {\"CoinName\": \"HoboNickels\", \"Algorithm\": \"Scrypt\", \"ProofType\": \"PoW/PoS\", \"TotalCoinsMined\": 89266933.684704, \"TotalCoinSupply\": 120000000.0, \"PC 1\": -0.17411408010281798, \"PC 2\": -1.1980506791076688, \"PC 3\": -0.5370061465829052, \"Class\": 0}, {\"CoinName\": \"HunterCoin\", \"Algorithm\": \"Multiple\", \"ProofType\": \"PoW\", \"TotalCoinsMined\": 0.0, \"TotalCoinSupply\": 42000000.0, \"PC 1\": -0.3074917674303776, \"PC 2\": 1.7217435571491342, \"PC 3\": 0.2867911846671299, \"Class\": 1}, {\"CoinName\": \"Infinite Coin\", \"Algorithm\": \"Scrypt\", \"ProofType\": \"PoW\", \"TotalCoinsMined\": 90595753018.6314, \"TotalCoinSupply\": 90600000000.0, \"PC 1\": 0.9007237922592461, \"PC 2\": 1.2469489493782953, \"PC 3\": -0.05072360523614952, \"Class\": 1}, {\"CoinName\": \"IOCoin\", \"Algorithm\": \"X11\", \"ProofType\": \"PoW/PoS\", \"TotalCoinsMined\": 17650913.974345602, \"TotalCoinSupply\": 22000000.0, \"PC 1\": -0.10085974725158711, \"PC 2\": -1.4476050905910467, \"PC 3\": -0.5203861743815853, \"Class\": 0}, {\"CoinName\": \"IXcoin\", \"Algorithm\": \"SHA-256\", \"ProofType\": \"PoW\", \"TotalCoinsMined\": 21089348.999, \"TotalCoinSupply\": 21000000.0, \"PC 1\": -0.26051282360135947, \"PC 2\": 1.3705907958585641, \"PC 3\": 0.1967670493560173, \"Class\": 1}, {\"CoinName\": \"JumBucks Coin\", \"Algorithm\": \"X11\", \"ProofType\": \"PoW/PoS\", \"TotalCoinsMined\": 0.0, \"TotalCoinSupply\": 3293010.0, \"PC 1\": -0.10110426573635954, \"PC 2\": -1.4476456568037646, \"PC 3\": -0.5203779145364342, \"Class\": 0}, {\"CoinName\": \"JudgeCoin\", \"Algorithm\": \"X13\", \"ProofType\": \"PoW/PoS\", \"TotalCoinsMined\": 0.0, \"TotalCoinSupply\": 21600000.0, \"PC 1\": 0.038048187849081025, \"PC 2\": -1.9676113111548372, \"PC 3\": -0.6012588774750951, \"Class\": 0}, {\"CoinName\": \"KrugerCoin\", \"Algorithm\": \"Scrypt\", \"ProofType\": \"PoW\", \"TotalCoinsMined\": 151447649.8, \"TotalCoinSupply\": 265420800.0, \"PC 1\": -0.3522030916930192, \"PC 2\": 1.0390852671751871, \"PC 3\": -0.008399707466960385, \"Class\": 1}, {\"CoinName\": \"LuckyCoin\", \"Algorithm\": \"Scrypt\", \"ProofType\": \"PoW\", \"TotalCoinsMined\": 19326319.14375, \"TotalCoinSupply\": 20000000.0, \"PC 1\": -0.3540333711311466, \"PC 2\": 1.0387816204565956, \"PC 3\": -0.008337880024516417, \"Class\": 1}, {\"CoinName\": \"Litebar \", \"Algorithm\": \"Scrypt\", \"ProofType\": \"PoW\", \"TotalCoinsMined\": 1104344.22938102, \"TotalCoinSupply\": 1350000.0, \"PC 1\": -0.3542858005361538, \"PC 2\": 1.0387397417960003, \"PC 3\": -0.00832935295141641, \"Class\": 1}, {\"CoinName\": \"LitecoinDark\", \"Algorithm\": \"Scrypt\", \"ProofType\": \"PoW\", \"TotalCoinsMined\": 0.0, \"TotalCoinSupply\": 82003200.0, \"PC 1\": -0.35430109915742675, \"PC 2\": 1.0387372028618125, \"PC 3\": -0.008328836569093159, \"Class\": 1}, {\"CoinName\": \"LibrexCoin\", \"Algorithm\": \"X11\", \"ProofType\": \"PoW/PoS\", \"TotalCoinsMined\": 0.0, \"TotalCoinSupply\": 1000000.0, \"PC 1\": -0.10110426573307235, \"PC 2\": -1.4476456567792417, \"PC 3\": -0.520377914525174, \"Class\": 0}, {\"CoinName\": \"MaxCoin\", \"Algorithm\": \"SHA3\", \"ProofType\": \"PoW/PoS\", \"TotalCoinsMined\": 61445805.0, \"TotalCoinSupply\": 100000000.0, \"PC 1\": -0.21479815856820053, \"PC 2\": -2.4387627744887324, \"PC 3\": -0.7524251236617201, \"Class\": 0}, {\"CoinName\": \"MegaCoin\", \"Algorithm\": \"Scrypt\", \"ProofType\": \"PoW\", \"TotalCoinsMined\": 38151999.993099704, \"TotalCoinSupply\": 42000000.0, \"PC 1\": -0.35377257857893285, \"PC 2\": 1.03882488655536, \"PC 3\": -0.008346689618536329, \"Class\": 1}, {\"CoinName\": \"MediterraneanCoin\", \"Algorithm\": \"HybridScryptHash256\", \"ProofType\": \"PoW\", \"TotalCoinsMined\": 40431856.9, \"TotalCoinSupply\": 200000000.0, \"PC 1\": -0.4084370870635816, \"PC 2\": 2.096921048515789, \"PC 3\": 0.30771244022221095, \"Class\": 1}, {\"CoinName\": \"MinCoin\", \"Algorithm\": \"Scrypt\", \"ProofType\": \"PoW\", \"TotalCoinsMined\": 5804204.88794916, \"TotalCoinSupply\": 10000000.0, \"PC 1\": -0.35422069327226313, \"PC 2\": 1.0387505432114343, \"PC 3\": -0.008331552295843958, \"Class\": 1}, {\"CoinName\": \"MazaCoin\", \"Algorithm\": \"SHA-256\", \"ProofType\": \"PoW/PoS\", \"TotalCoinsMined\": 1613836099.99999, \"TotalCoinSupply\": 2419200000.0, \"PC 1\": -0.05949806792364952, \"PC 2\": -0.8627417218487238, \"PC 3\": -0.3326138263178715, \"Class\": 0}, {\"CoinName\": \"Nautilus Coin\", \"Algorithm\": \"Scrypt\", \"ProofType\": \"PoS\", \"TotalCoinsMined\": 16180000.0, \"TotalCoinSupply\": 16180000.0, \"PC 1\": -0.05181392583657204, \"PC 2\": -0.8259132553492007, \"PC 3\": -0.2610901884334264, \"Class\": 0}, {\"CoinName\": \"NoirBits\", \"Algorithm\": \"SHA-256\", \"ProofType\": \"PoW\", \"TotalCoinsMined\": 0.0, \"TotalCoinSupply\": 50000000.0, \"PC 1\": -0.26080497487289717, \"PC 2\": 1.3705423267134258, \"PC 3\": 0.19677691798413888, \"Class\": 1}, {\"CoinName\": \"NobleCoin\", \"Algorithm\": \"Scrypt\", \"ProofType\": \"PoW\", \"TotalCoinsMined\": 2366066305.76482, \"TotalCoinSupply\": 15000000000.0, \"PC 1\": -0.32152395034921144, \"PC 2\": 1.0441748819799024, \"PC 3\": -0.009436111639689755, \"Class\": 1}, {\"CoinName\": \"Namecoin\", \"Algorithm\": \"SHA-256\", \"ProofType\": \"PoW\", \"TotalCoinsMined\": 14736400.0, \"TotalCoinSupply\": 21000000.0, \"PC 1\": -0.2606008311479202, \"PC 2\": 1.3705761951216353, \"PC 3\": 0.196770022221414, \"Class\": 1}, {\"CoinName\": \"NyanCoin\", \"Algorithm\": \"Scrypt\", \"ProofType\": \"PoW\", \"TotalCoinsMined\": 334709223.48313797, \"TotalCoinSupply\": 337000000.0, \"PC 1\": -0.3496643650592322, \"PC 2\": 1.0395064493952255, \"PC 3\": -0.008485465155886917, \"Class\": 1}, {\"CoinName\": \"Orbitcoin\", \"Algorithm\": \"NeoScrypt\", \"ProofType\": \"PoW/PoS\", \"TotalCoinsMined\": 3220616.279225, \"TotalCoinSupply\": 3770000.0, \"PC 1\": -0.16931953245531048, \"PC 2\": -0.7468712722644485, \"PC 3\": -0.35733880827709685, \"Class\": 0}, {\"CoinName\": \"PotCoin\", \"Algorithm\": \"Scrypt\", \"ProofType\": \"PoW/PoS\", \"TotalCoinsMined\": 222677226.014206, \"TotalCoinSupply\": 420000000.0, \"PC 1\": -0.1722659447276393, \"PC 2\": -1.1977440706020366, \"PC 3\": -0.5370685774635782, \"Class\": 0}, {\"CoinName\": \"PhoenixCoin\", \"Algorithm\": \"Scrypt\", \"ProofType\": \"PoW/PoS\", \"TotalCoinsMined\": 73959274.625, \"TotalCoinSupply\": 98000000.0, \"PC 1\": -0.17432613741939496, \"PC 2\": -1.1980858598730444, \"PC 3\": -0.5369989832487946, \"Class\": 0}, {\"CoinName\": \"RipOffCoin\", \"Algorithm\": \"Scrypt\", \"ProofType\": \"PoW\", \"TotalCoinsMined\": 0.0, \"TotalCoinSupply\": 12000000.0, \"PC 1\": -0.35430109905707563, \"PC 2\": 1.038737203610479, \"PC 3\": -0.008328836225327194, \"Class\": 1}, {\"CoinName\": \"RonPaulCoin\", \"Algorithm\": \"Scrypt\", \"ProofType\": \"PoW\", \"TotalCoinsMined\": 1104157.42169891, \"TotalCoinSupply\": 21000000.0, \"PC 1\": -0.35428580315217356, \"PC 2\": 1.0387397411565156, \"PC 3\": -0.008329352960495508, \"Class\": 1}, {\"CoinName\": \"StableCoin\", \"Algorithm\": \"Scrypt\", \"ProofType\": \"PoW\", \"TotalCoinsMined\": 24215181.725, \"TotalCoinSupply\": 250000000.0, \"PC 1\": -0.35396564593664415, \"PC 2\": 1.0387928538805542, \"PC 3\": -0.008340168899468007, \"Class\": 1}, {\"CoinName\": \"ShieldCoin\", \"Algorithm\": \"X15\", \"ProofType\": \"PoW/PoS\", \"TotalCoinsMined\": 0.0, \"TotalCoinSupply\": 1000000.0, \"PC 1\": 0.01974368227035334, \"PC 2\": -2.1422174090760886, \"PC 3\": -0.6768583370480443, \"Class\": 0}, {\"CoinName\": \"SilkCoin\", \"Algorithm\": \"Scrypt\", \"ProofType\": \"PoW/PoS\", \"TotalCoinsMined\": 0.0, \"TotalCoinSupply\": 1000000.0, \"PC 1\": -0.17535069678903611, \"PC 2\": -1.1982558365755058, \"PC 3\": -0.5369643734959876, \"Class\": 0}, {\"CoinName\": \"SmartCoin\", \"Algorithm\": \"Scrypt\", \"ProofType\": \"PoW\", \"TotalCoinsMined\": 25593737.1355044, \"TotalCoinSupply\": 51200000.0, \"PC 1\": -0.3539465484922945, \"PC 2\": 1.0387960242872427, \"PC 3\": -0.00834081301885347, \"Class\": 1}, {\"CoinName\": \"SpainCoin\", \"Algorithm\": \"Scrypt-n\", \"ProofType\": \"PoW\", \"TotalCoinsMined\": 0.0, \"TotalCoinSupply\": 50000000.0, \"PC 1\": -0.3921210980523391, \"PC 2\": 2.128900823986989, \"PC 3\": 0.3888318637862182, \"Class\": 1}, {\"CoinName\": \"SecureCoin\", \"Algorithm\": \"Scrypt\", \"ProofType\": \"PoW\", \"TotalCoinsMined\": 0.0, \"TotalCoinSupply\": 21000000.0, \"PC 1\": -0.3543010990699774, \"PC 2\": 1.0387372035142264, \"PC 3\": -0.008328836269523642, \"Class\": 1}, {\"CoinName\": \"SyncCoin\", \"Algorithm\": \"X11\", \"ProofType\": \"PoW/PoS\", \"TotalCoinsMined\": 1177.0, \"TotalCoinSupply\": 1000.0, \"PC 1\": -0.10110424942663253, \"PC 2\": -1.4476456540635039, \"PC 3\": -0.520377915071046, \"Class\": 0}, {\"CoinName\": \"SysCoin\", \"Algorithm\": \"SHA-256\", \"ProofType\": \"PoW\", \"TotalCoinsMined\": 563336541.299966, \"TotalCoinSupply\": 888000000.0, \"PC 1\": -0.25300106219172463, \"PC 2\": 1.3718370123321542, \"PC 3\": 0.19651330027619407, \"Class\": 1}, {\"CoinName\": \"TeslaCoin\", \"Algorithm\": \"Multiple\", \"ProofType\": \"PoS\", \"TotalCoinsMined\": 80260463.7331396, \"TotalCoinSupply\": 100000000.0, \"PC 1\": -0.004116886169658422, \"PC 2\": -0.1427596287352086, \"PC 3\": 0.033999845712353864, \"Class\": 0}, {\"CoinName\": \"TigerCoin\", \"Algorithm\": \"SHA-256\", \"ProofType\": \"PoW\", \"TotalCoinsMined\": 43536800.0, \"TotalCoinSupply\": 47011968.0, \"PC 1\": -0.26020185859084843, \"PC 2\": 1.3706423856886578, \"PC 3\": 0.19675654493329273, \"Class\": 1}, {\"CoinName\": \"TittieCoin\", \"Algorithm\": \"PHI1612\", \"ProofType\": \"PoS\", \"TotalCoinsMined\": 1622326490.46336, \"TotalCoinSupply\": 2300000000.0, \"PC 1\": 0.17348579678440929, \"PC 2\": -1.544654503340598, \"PC 3\": -0.13175908399702493, \"Class\": 0}, {\"CoinName\": \"TorCoin\", \"Algorithm\": \"X11\", \"ProofType\": \"PoW/PoS\", \"TotalCoinsMined\": 1431851.00002479, \"TotalCoinSupply\": 10000000.0, \"PC 1\": -0.10108443028159804, \"PC 2\": -1.447642366107731, \"PC 3\": -0.5203785846047022, \"Class\": 0}, {\"CoinName\": \"TerraCoin\", \"Algorithm\": \"SHA-256\", \"ProofType\": \"PoW\", \"TotalCoinsMined\": 22935396.0, \"TotalCoinSupply\": 42000000.0, \"PC 1\": -0.2604872503004923, \"PC 2\": 1.3705950383323853, \"PC 3\": 0.19676618539435192, \"Class\": 1}, {\"CoinName\": \"Umbrella\", \"Algorithm\": \"SHA-256\", \"ProofType\": \"PoW\", \"TotalCoinsMined\": 0.0, \"TotalCoinSupply\": 2625000.0, \"PC 1\": -0.26080497480498416, \"PC 2\": 1.37054232722009, \"PC 3\": 0.19677691821678425, \"Class\": 1}, {\"CoinName\": \"UnbreakableCoin\", \"Algorithm\": \"SHA-256\", \"ProofType\": \"PoW\", \"TotalCoinsMined\": 2278150.0, \"TotalCoinSupply\": 80000000.0, \"PC 1\": -0.2607734156522868, \"PC 2\": 1.3705475621766012, \"PC 3\": 0.1967758517754803, \"Class\": 1}, {\"CoinName\": \"Unobtanium\", \"Algorithm\": \"SHA-256\", \"ProofType\": \"PoW\", \"TotalCoinsMined\": 200911.79151896, \"TotalCoinSupply\": 250000.0, \"PC 1\": -0.26080219156597517, \"PC 2\": 1.3705427889932886, \"PC 3\": 0.1967768242116823, \"Class\": 1}, {\"CoinName\": \"UnitaryStatus Dollar\", \"Algorithm\": \"Scrypt\", \"ProofType\": \"PoW/PoS\", \"TotalCoinsMined\": 1098952592.6, \"TotalCoinSupply\": 1600000000.0, \"PC 1\": -0.1601268838929485, \"PC 2\": -1.1957301734443904, \"PC 3\": -0.5374786367177483, \"Class\": 0}, {\"CoinName\": \"UltraCoin\", \"Algorithm\": \"Scrypt\", \"ProofType\": \"PoW/PoS\", \"TotalCoinsMined\": 50235211.141939, \"TotalCoinSupply\": 100000000.0, \"PC 1\": -0.17465478741172777, \"PC 2\": -1.1981403839918023, \"PC 3\": -0.5369878815722329, \"Class\": 0}, {\"CoinName\": \"ViaCoin\", \"Algorithm\": \"Scrypt\", \"ProofType\": \"PoW\", \"TotalCoinsMined\": 23150892.167968698, \"TotalCoinSupply\": 23000000.0, \"PC 1\": -0.35398038923860564, \"PC 2\": 1.0387904102927443, \"PC 3\": -0.00833966974994868, \"Class\": 1}, {\"CoinName\": \"Vertcoin\", \"Algorithm\": \"Lyra2REv2\", \"ProofType\": \"PoW\", \"TotalCoinsMined\": 51173723.81663471, \"TotalCoinSupply\": 84000000.0, \"PC 1\": -0.3192593356547906, \"PC 2\": 1.36753525754073, \"PC 3\": 0.2535041824385622, \"Class\": 1}, {\"CoinName\": \"WorldCoin\", \"Algorithm\": \"Scrypt\", \"ProofType\": \"PoW\", \"TotalCoinsMined\": 119606941.0, \"TotalCoinSupply\": 265420800.0, \"PC 1\": -0.35264418175413675, \"PC 2\": 1.0390120889058683, \"PC 3\": -0.008384807592680262, \"Class\": 1}, {\"CoinName\": \"SocialXbotCoin\", \"Algorithm\": \"Scrypt\", \"ProofType\": \"PoW/PoS\", \"TotalCoinsMined\": 0.0, \"TotalCoinSupply\": 2000000.0, \"PC 1\": -0.1753506967904695, \"PC 2\": -1.1982558365862008, \"PC 3\": -0.5369643735008983, \"Class\": 0}, {\"CoinName\": \"X11 Coin\", \"Algorithm\": \"X11\", \"ProofType\": \"PoW/PoS\", \"TotalCoinsMined\": 6950831.0970606, \"TotalCoinSupply\": 5500000.0, \"PC 1\": -0.10100797571869863, \"PC 2\": -1.4476296820011414, \"PC 3\": -0.5203811671918709, \"Class\": 0}, {\"CoinName\": \"JouleCoin\", \"Algorithm\": \"SHA-256\", \"ProofType\": \"PoW\", \"TotalCoinsMined\": 39195739.362088, \"TotalCoinSupply\": 45000000.0, \"PC 1\": -0.26026199539943173, \"PC 2\": 1.3706324088184398, \"PC 3\": 0.19675857634448882, \"Class\": 1}, {\"CoinName\": \"XXXCoin\", \"Algorithm\": \"Scrypt\", \"ProofType\": \"PoW/PoS\", \"TotalCoinsMined\": 0.0, \"TotalCoinSupply\": 50000000.0, \"PC 1\": -0.1753506968592786, \"PC 2\": -1.1982558370995489, \"PC 3\": -0.5369643737366129, \"Class\": 0}, {\"CoinName\": \"ZCC Coin\", \"Algorithm\": \"Scrypt\", \"ProofType\": \"PoW/PoS\", \"TotalCoinsMined\": 147990237.978331, \"TotalCoinSupply\": 1000000000.0, \"PC 1\": -0.17330058609815793, \"PC 2\": -1.1979157270204257, \"PC 3\": -0.5370336305015039, \"Class\": 0}, {\"CoinName\": \"ByteCoin\", \"Algorithm\": \"CryptoNight\", \"ProofType\": \"PoW\", \"TotalCoinsMined\": 184066828814.0, \"TotalCoinSupply\": 184467440735.0, \"PC 1\": 2.315925289229697, \"PC 2\": 2.670154563394638, \"PC 3\": 0.2605113285175295, \"Class\": 1}, {\"CoinName\": \"DigitalNote \", \"Algorithm\": \"CryptoNight\", \"ProofType\": \"PoW\", \"TotalCoinsMined\": 6906587610.38292, \"TotalCoinSupply\": 10000000000.0, \"PC 1\": -0.1382792998547952, \"PC 2\": 2.2629959001355693, \"PC 3\": 0.34341440136829016, \"Class\": 1}, {\"CoinName\": \"BurstCoin\", \"Algorithm\": \"Shabal256\", \"ProofType\": \"PoC\", \"TotalCoinsMined\": 1813033920.0, \"TotalCoinSupply\": 2158812800.0, \"PC 1\": 0.6994843623786035, \"PC 2\": -0.3482537587908562, \"PC 3\": 0.3431354426576965, \"Class\": 0}, {\"CoinName\": \"StorjCoin\", \"Algorithm\": \"Counterparty\", \"ProofType\": \"PoS\", \"TotalCoinsMined\": 51173144.0, \"TotalCoinSupply\": 500000000.0, \"PC 1\": 0.13260265495579804, \"PC 2\": -1.442653984248994, \"PC 3\": -0.0634415893683821, \"Class\": 0}, {\"CoinName\": \"MonaCoin\", \"Algorithm\": \"Scrypt\", \"ProofType\": \"PoW\", \"TotalCoinsMined\": 68194674.8711679, \"TotalCoinSupply\": 105120000.0, \"PC 1\": -0.35335639681299696, \"PC 2\": 1.038893931797818, \"PC 3\": -0.008360748411983117, \"Class\": 1}, {\"CoinName\": \"Neutron\", \"Algorithm\": \"SHA-256\", \"ProofType\": \"PoW/PoS\", \"TotalCoinsMined\": 39121694.0, \"TotalCoinSupply\": 68000000.0, \"PC 1\": -0.08131261893221194, \"PC 2\": -0.866360801906758, \"PC 3\": -0.33187692644357475, \"Class\": 0}, {\"CoinName\": \"Sling Coin\", \"Algorithm\": \"SHA-256\", \"ProofType\": \"PoW\", \"TotalCoinsMined\": 0.0, \"TotalCoinSupply\": 1000000.0, \"PC 1\": -0.26080497480265463, \"PC 2\": 1.370542327237469, \"PC 3\": 0.19677691822476415, \"Class\": 1}, {\"CoinName\": \"KryptCoin\", \"Algorithm\": \"Scrypt\", \"ProofType\": \"PoS\", \"TotalCoinsMined\": 0.0, \"TotalCoinSupply\": 17000000.0, \"PC 1\": -0.05203806774469157, \"PC 2\": -0.8259504412260678, \"PC 3\": -0.2610826169990357, \"Class\": 0}, {\"CoinName\": \"Gulden\", \"Algorithm\": \"Scrypt\", \"ProofType\": \"PoW\", \"TotalCoinsMined\": 415032420.0, \"TotalCoinSupply\": 1680000000.0, \"PC 1\": -0.3485516479214623, \"PC 2\": 1.039691038727532, \"PC 3\": -0.00852305902761692, \"Class\": 1}, {\"CoinName\": \"PesetaCoin\", \"Algorithm\": \"Scrypt\", \"ProofType\": \"PoW\", \"TotalCoinsMined\": 137517654.41397, \"TotalCoinSupply\": 166386000.0, \"PC 1\": -0.35239606409305, \"PC 2\": 1.0390532534648074, \"PC 3\": -0.008393188432901415, \"Class\": 1}, {\"CoinName\": \"Kore\", \"Algorithm\": \"X13\", \"ProofType\": \"PoW/PoS\", \"TotalCoinsMined\": 2022464.886973, \"TotalCoinSupply\": 12000000.0, \"PC 1\": 0.03807620511478947, \"PC 2\": -1.9676066628993543, \"PC 3\": -0.601259823841323, \"Class\": 0}, {\"CoinName\": \"Wild Beast Coin\", \"Algorithm\": \"Scrypt\", \"ProofType\": \"PoW\", \"TotalCoinsMined\": 181919.2435974, \"TotalCoinSupply\": 2628000.0, \"PC 1\": -0.35429857891223343, \"PC 2\": 1.0387376218086706, \"PC 3\": -0.008328921308497548, \"Class\": 1}, {\"CoinName\": \"Dnotes\", \"Algorithm\": \"Scrypt\", \"ProofType\": \"PoS\", \"TotalCoinsMined\": 174646113.934655, \"TotalCoinSupply\": 500000000.0, \"PC 1\": -0.04961869185996906, \"PC 2\": -0.8255490639839347, \"PC 3\": -0.26116434509999525, \"Class\": 0}, {\"CoinName\": \"Flo\", \"Algorithm\": \"Scrypt\", \"ProofType\": \"PoW\", \"TotalCoinsMined\": 152270664.860648, \"TotalCoinSupply\": 160000000.0, \"PC 1\": -0.35219169029559616, \"PC 2\": 1.0390871598063125, \"PC 3\": -0.00840009207954346, \"Class\": 1}, {\"CoinName\": \"MaieutiCoin\", \"Algorithm\": \"SHA-256\", \"ProofType\": \"PoS\", \"TotalCoinsMined\": 0.0, \"TotalCoinSupply\": 2014.0, \"PC 1\": 0.04145805651832777, \"PC 2\": -0.4941453175349312, \"PC 3\": -0.05597686251948969, \"Class\": 0}, {\"CoinName\": \"Sativa Coin\", \"Algorithm\": \"X13\", \"ProofType\": \"PoW/PoS\", \"TotalCoinsMined\": 7096834.0, \"TotalCoinSupply\": 10000000.0, \"PC 1\": 0.03814650046806002, \"PC 2\": -1.9675950006517273, \"PC 3\": -0.6012621983848544, \"Class\": 0}, {\"CoinName\": \"AeroMe\", \"Algorithm\": \"X13\", \"ProofType\": \"PoW/PoS\", \"TotalCoinsMined\": 0.0, \"TotalCoinSupply\": 12000000.0, \"PC 1\": 0.038048187862842885, \"PC 2\": -1.967611311052168, \"PC 3\": -0.6012588774279518, \"Class\": 0}, {\"CoinName\": \"ArtByte\", \"Algorithm\": \"Scrypt\", \"ProofType\": \"PoW\", \"TotalCoinsMined\": 792537250.0, \"TotalCoinSupply\": 1000000000.0, \"PC 1\": -0.34332206397529746, \"PC 2\": 1.0405586507474682, \"PC 3\": -0.008699709246593128, \"Class\": 1}, {\"CoinName\": \"MasterTraderCoin\", \"Algorithm\": \"X11\", \"ProofType\": \"PoW/PoS\", \"TotalCoinsMined\": 0.0, \"TotalCoinSupply\": 10110000.0, \"PC 1\": -0.10110426574613167, \"PC 2\": -1.4476456568766707, \"PC 3\": -0.5203779145699107, \"Class\": 0}, {\"CoinName\": \"BitCredit\", \"Algorithm\": \"Momentum\", \"ProofType\": \"PoW\", \"TotalCoinsMined\": 0.0, \"TotalCoinSupply\": 210000000.0, \"PC 1\": -0.39115802125177995, \"PC 2\": 2.1431595765029803, \"PC 3\": 0.36237012625328496, \"Class\": 1}, {\"CoinName\": \"Folding Coin\", \"Algorithm\": \"Stanford Folding\", \"ProofType\": \"PoW\", \"TotalCoinsMined\": 719416990.0, \"TotalCoinSupply\": 1000000000.0, \"PC 1\": -0.4079695596486148, \"PC 2\": 2.2112342098707742, \"PC 3\": 0.4003492314402981, \"Class\": 1}, {\"CoinName\": \"Ucoin\", \"Algorithm\": \"X11\", \"ProofType\": \"PoS\", \"TotalCoinsMined\": 2689812.0, \"TotalCoinSupply\": 20000000.0, \"PC 1\": 0.02224562533360945, \"PC 2\": -1.0753340795710205, \"PC 3\": -0.24449741674171319, \"Class\": 0}, {\"CoinName\": \"OmniCron\", \"Algorithm\": \"Scrypt\", \"ProofType\": \"PoW\", \"TotalCoinsMined\": 10140044.443029301, \"TotalCoinSupply\": 3371337.0, \"PC 1\": -0.3541606287790723, \"PC 2\": 1.0387605081746494, \"PC 3\": -0.00833358122140008, \"Class\": 1}, {\"CoinName\": \"Vtorrent\", \"Algorithm\": \"Scrypt\", \"ProofType\": \"PoW/PoS\", \"TotalCoinsMined\": 11604722.0, \"TotalCoinSupply\": 20000000.0, \"PC 1\": -0.1751899363392252, \"PC 2\": -1.1982291660950468, \"PC 3\": -0.5369698040242712, \"Class\": 0}, {\"CoinName\": \"GreenCoin\", \"Algorithm\": \"Scrypt\", \"ProofType\": \"PoW\", \"TotalCoinsMined\": 4610340640.89, \"TotalCoinSupply\": 10000000000.0, \"PC 1\": -0.29043395991952664, \"PC 2\": 1.0493328643412392, \"PC 3\": -0.010486296290100599, \"Class\": 1}, {\"CoinName\": \"Cryptonite\", \"Algorithm\": \"M7 POW\", \"ProofType\": \"PoW\", \"TotalCoinsMined\": 708506520.0, \"TotalCoinSupply\": 1840000000.0, \"PC 1\": -0.3611413516584154, \"PC 2\": 2.240560757811395, \"PC 3\": 0.432117989988879, \"Class\": 1}, {\"CoinName\": \"Gridmaster\", \"Algorithm\": \"Scrypt\", \"ProofType\": \"PoW\", \"TotalCoinsMined\": 0.0, \"TotalCoinSupply\": 84000000.0, \"PC 1\": -0.354301099160289, \"PC 2\": 1.038737202840457, \"PC 3\": -0.008328836578898973, \"Class\": 1}, {\"CoinName\": \"ConSpiracy Coin \", \"Algorithm\": \"X11\", \"ProofType\": \"PoW\", \"TotalCoinsMined\": 0.0, \"TotalCoinSupply\": 33000000.0, \"PC 1\": -0.28005466803121587, \"PC 2\": 0.7893473831821535, \"PC 3\": 0.008257622642361075, \"Class\": 1}, {\"CoinName\": \"MasterCoin\", \"Algorithm\": \"Scrypt\", \"ProofType\": \"PoW\", \"TotalCoinsMined\": 619478.0, \"TotalCoinSupply\": 619478.0, \"PC 1\": -0.3542925173979784, \"PC 2\": 1.0387386274545145, \"PC 3\": -0.008329126054454837, \"Class\": 1}, {\"CoinName\": \"SoonCoin\", \"Algorithm\": \"SHA-256\", \"ProofType\": \"PoW\", \"TotalCoinsMined\": 12462620.0, \"TotalCoinSupply\": 21000000.0, \"PC 1\": -0.2606323298738271, \"PC 2\": 1.37057096938102, \"PC 3\": 0.19677108623780734, \"Class\": 1}, {\"CoinName\": \"1Credit\", \"Algorithm\": \"Scrypt\", \"ProofType\": \"PoW\", \"TotalCoinsMined\": 88213.0, \"TotalCoinSupply\": 92000000000.0, \"PC 1\": -0.35430000890701235, \"PC 2\": 1.0387364225583058, \"PC 3\": -0.008329329231878662, \"Class\": 1}, {\"CoinName\": \"Quicksilver coin\", \"Algorithm\": \"X11\", \"ProofType\": \"PoW\", \"TotalCoinsMined\": 0.0, \"TotalCoinSupply\": 33000000.0, \"PC 1\": -0.28005466803121587, \"PC 2\": 0.7893473831821535, \"PC 3\": 0.008257622642361075, \"Class\": 1}, {\"CoinName\": \"Nexus\", \"Algorithm\": \"SHA3\", \"ProofType\": \"PoW/nPoS\", \"TotalCoinsMined\": 63657220.0, \"TotalCoinSupply\": 78000000.0, \"PC 1\": -0.4020683968927178, \"PC 2\": -2.9015555713892005, \"PC 3\": -0.7830601882253013, \"Class\": 0}, {\"CoinName\": \"MarsCoin \", \"Algorithm\": \"X11\", \"ProofType\": \"PoW\", \"TotalCoinsMined\": 32221574.820996, \"TotalCoinSupply\": 33000000.0, \"PC 1\": -0.27960830182447194, \"PC 2\": 0.789421436781115, \"PC 3\": 0.0082425445416518, \"Class\": 1}, {\"CoinName\": \"Crypto\", \"Algorithm\": \"Lyra2RE\", \"ProofType\": \"PoW\", \"TotalCoinsMined\": 13742738.0, \"TotalCoinSupply\": 65789100.0, \"PC 1\": -0.4192994802671575, \"PC 2\": 2.142995847519486, \"PC 3\": 0.3799800186248665, \"Class\": 1}, {\"CoinName\": \"Anarchists Prime\", \"Algorithm\": \"SHA-256\", \"ProofType\": \"PoW\", \"TotalCoinsMined\": 14747200.0002, \"TotalCoinSupply\": 53760000.0, \"PC 1\": -0.26060068158223454, \"PC 2\": 1.3705762195924978, \"PC 3\": 0.1967700170066736, \"Class\": 1}, {\"CoinName\": \"Droidz\", \"Algorithm\": \"QUAIT\", \"ProofType\": \"PoW/PoS\", \"TotalCoinsMined\": 8568038.35935056, \"TotalCoinSupply\": 5060000.0, \"PC 1\": -0.05269643501724392, \"PC 2\": -2.16663948262134, \"PC 3\": -0.7597899838339358, \"Class\": 0}, {\"CoinName\": \"BowsCoin\", \"Algorithm\": \"X11\", \"ProofType\": \"PoW\", \"TotalCoinsMined\": 15863837.5, \"TotalCoinSupply\": 21000000.0, \"PC 1\": -0.2798349059133523, \"PC 2\": 0.7893838425545449, \"PC 3\": 0.008250199211258972, \"Class\": 1}, {\"CoinName\": \"Song Coin\", \"Algorithm\": \"Scrypt\", \"ProofType\": \"PoW\", \"TotalCoinsMined\": 32565300.0, \"TotalCoinSupply\": 210240000.0, \"PC 1\": -0.35384997150181263, \"PC 2\": 1.0388120450595952, \"PC 3\": -0.008344076145892828, \"Class\": 1}, {\"CoinName\": \"BitZeny\", \"Algorithm\": \"Scrypt\", \"ProofType\": \"PoW\", \"TotalCoinsMined\": 75614500.0, \"TotalCoinSupply\": 250000000.0, \"PC 1\": -0.3532536100149024, \"PC 2\": 1.0389109829454297, \"PC 3\": -0.008364221234018825, \"Class\": 1}, {\"CoinName\": \"Diggits\", \"Algorithm\": \"Scrypt\", \"ProofType\": \"PoS\", \"TotalCoinsMined\": 100000000.0, \"TotalCoinSupply\": 100000000.0, \"PC 1\": -0.05065276559578712, \"PC 2\": -0.8257206159821022, \"PC 3\": -0.26112941245247007, \"Class\": 0}, {\"CoinName\": \"Expanse\", \"Algorithm\": \"Ethash\", \"ProofType\": \"PoW\", \"TotalCoinsMined\": 10495278.0, \"TotalCoinSupply\": 16906397.0, \"PC 1\": -0.34199439675376675, \"PC 2\": 1.9502606962930327, \"PC 3\": 0.3056222411548012, \"Class\": 1}, {\"CoinName\": \"MapCoin\", \"Algorithm\": \"X11\", \"ProofType\": \"PoS\", \"TotalCoinsMined\": 0.0, \"TotalCoinSupply\": 2228921.184, \"PC 1\": 0.022208363332446808, \"PC 2\": -1.0753402612718308, \"PC 3\": -0.24449615795568558, \"Class\": 0}, {\"CoinName\": \"Paycon\", \"Algorithm\": \"X13\", \"ProofType\": \"PoW/PoS\", \"TotalCoinsMined\": 23042604.0, \"TotalCoinSupply\": 50000000.0, \"PC 1\": 0.03836739752416116, \"PC 2\": -1.967558353533168, \"PC 3\": -0.601269660411665, \"Class\": 0}, {\"CoinName\": \"Emercoin\", \"Algorithm\": \"SHA-256\", \"ProofType\": \"PoW/PoS\", \"TotalCoinsMined\": 43059794.804778, \"TotalCoinSupply\": 1000000000.0, \"PC 1\": -0.08125806566849227, \"PC 2\": -0.8663517610895259, \"PC 3\": -0.33187877385644216, \"Class\": 0}, {\"CoinName\": \"BlitzCoin\", \"Algorithm\": \"X13\", \"ProofType\": \"PoS\", \"TotalCoinsMined\": 0.0, \"TotalCoinSupply\": 3852156.0, \"PC 1\": 0.161360816941804, \"PC 2\": -1.595305915444475, \"PC 3\": -0.32537712081241704, \"Class\": 0}, {\"CoinName\": \"EverGreenCoin\", \"Algorithm\": \"X15\", \"ProofType\": \"PoW/PoS\", \"TotalCoinsMined\": 13530556.4180753, \"TotalCoinSupply\": 26298000.0, \"PC 1\": 0.019931121339005396, \"PC 2\": -2.1421863125922407, \"PC 3\": -0.6768646688023546, \"Class\": 0}, {\"CoinName\": \"MindCoin\", \"Algorithm\": \"X11\", \"ProofType\": \"PoW\", \"TotalCoinsMined\": 15867695.0, \"TotalCoinSupply\": 16000000.0, \"PC 1\": -0.2798348524681497, \"PC 2\": 0.7893838514735617, \"PC 3\": 0.008250197430693555, \"Class\": 1}, {\"CoinName\": \"I0coin\", \"Algorithm\": \"SHA-256\", \"ProofType\": \"PoW\", \"TotalCoinsMined\": 20997476.865023103, \"TotalCoinSupply\": 21000000.0, \"PC 1\": -0.26051409630811506, \"PC 2\": 1.370590584712393, \"PC 3\": 0.19676709234762474, \"Class\": 1}, {\"CoinName\": \"Decred\", \"Algorithm\": \"BLAKE256\", \"ProofType\": \"PoW/PoS\", \"TotalCoinsMined\": 10365046.928166099, \"TotalCoinSupply\": 21000000.0, \"PC 1\": 0.02525496967485886, \"PC 2\": -1.096006921072036, \"PC 3\": -0.40336726936107087, \"Class\": 0}, {\"CoinName\": \"DogeCoinDark\", \"Algorithm\": \"Scrypt\", \"ProofType\": \"PoW\", \"TotalCoinsMined\": 0.0, \"TotalCoinSupply\": 16500000000.0, \"PC 1\": -0.35430112269295133, \"PC 2\": 1.0387370272754344, \"PC 3\": -0.008328917193265516, \"Class\": 1}, {\"CoinName\": \"Revolution VR\", \"Algorithm\": \"Scrypt\", \"ProofType\": \"PoW\", \"TotalCoinsMined\": 210000000.0, \"TotalCoinSupply\": 210000000.0, \"PC 1\": -0.3513919645783509, \"PC 2\": 1.0392198363693417, \"PC 3\": -0.008427106793923847, \"Class\": 1}, {\"CoinName\": \"HOdlcoin\", \"Algorithm\": \"1GB AES Pattern Search\", \"ProofType\": \"PoW\", \"TotalCoinsMined\": 11448949.0, \"TotalCoinSupply\": 81962100.0, \"PC 1\": -0.34272645893611453, \"PC 2\": 2.032653816092743, \"PC 3\": 0.2826652822135105, \"Class\": 1}, {\"CoinName\": \"EDRCoin\", \"Algorithm\": \"SHA-256\", \"ProofType\": \"PoW/PoS\", \"TotalCoinsMined\": 3669691.84494672, \"TotalCoinSupply\": 22000000.0, \"PC 1\": -0.08180373625613518, \"PC 2\": -0.8664422793799379, \"PC 3\": -0.33186033643702045, \"Class\": 0}, {\"CoinName\": \"Hitcoin\", \"Algorithm\": \"X11\", \"ProofType\": \"PoW/PoS\", \"TotalCoinsMined\": 10996318099.0, \"TotalCoinSupply\": 26550000000.0, \"PC 1\": 0.05122794021787769, \"PC 2\": -1.4223735282054988, \"PC 3\": -0.525523776995535, \"Class\": 0}, {\"CoinName\": \"Gamecredits\", \"Algorithm\": \"Scrypt\", \"ProofType\": \"PoW\", \"TotalCoinsMined\": 69836100.0, \"TotalCoinSupply\": 84000000.0, \"PC 1\": -0.35333365808318573, \"PC 2\": 1.0388977044475682, \"PC 3\": -0.008361516413910391, \"Class\": 1}, {\"CoinName\": \"Dashcoin\", \"Algorithm\": \"CryptoNight\", \"ProofType\": \"PoW\", \"TotalCoinsMined\": 0.0, \"TotalCoinSupply\": 18446744.0, \"PC 1\": -0.2339564003462481, \"PC 2\": 2.247122863753205, \"PC 3\": 0.3466463912234914, \"Class\": 1}, {\"CoinName\": \"DubaiCoin\", \"Algorithm\": \"SHA-256\", \"ProofType\": \"PoW/PoS\", \"TotalCoinsMined\": 5129014.0, \"TotalCoinSupply\": 10500000.0, \"PC 1\": -0.08178352021673994, \"PC 2\": -0.8664389253532913, \"PC 3\": -0.33186101927101846, \"Class\": 0}, {\"CoinName\": \"BiosCrypto\", \"Algorithm\": \"Quark\", \"ProofType\": \"PoW/PoS\", \"TotalCoinsMined\": 0.0, \"TotalCoinSupply\": 20190463.54969237, \"PC 1\": 0.1307805552374866, \"PC 2\": -1.68686853030593, \"PC 3\": -0.5628685305107531, \"Class\": 0}, {\"CoinName\": \"CarpeDiemCoin\", \"Algorithm\": \"SHA-256\", \"ProofType\": \"PoW\", \"TotalCoinsMined\": 21739971929.0, \"TotalCoinSupply\": 21626280000.0, \"PC 1\": 0.04035931836741852, \"PC 2\": 1.4205062324623836, \"PC 3\": 0.1866035821982446, \"Class\": 1}, {\"CoinName\": \"TrumpCoin\", \"Algorithm\": \"Blake\", \"ProofType\": \"PoS\", \"TotalCoinsMined\": 0.0, \"TotalCoinSupply\": 12000000.0, \"PC 1\": -0.020253439127515288, \"PC 2\": -0.18218863387622128, \"PC 3\": 0.011724314077706282, \"Class\": 0}, {\"CoinName\": \"BillaryCoin\", \"Algorithm\": \"Scrypt\", \"ProofType\": \"PoW/PoS\", \"TotalCoinsMined\": 8998743.2411911, \"TotalCoinSupply\": 42000000.0, \"PC 1\": -0.17522603705360879, \"PC 2\": -1.1982351555505037, \"PC 3\": -0.5369685846633522, \"Class\": 0}, {\"CoinName\": \"EthereumScrypt\", \"Algorithm\": \"Scrypt\", \"ProofType\": \"PoW/PoS\", \"TotalCoinsMined\": 0.0, \"TotalCoinSupply\": 4200000.0, \"PC 1\": -0.17535069679362325, \"PC 2\": -1.198255836609729, \"PC 3\": -0.5369643735117018, \"Class\": 0}, {\"CoinName\": \"Phalanx\", \"Algorithm\": \"SHA-256\", \"ProofType\": \"PoW\", \"TotalCoinsMined\": 0.0, \"TotalCoinSupply\": 15000000.0, \"PC 1\": -0.260804974822724, \"PC 2\": 1.3705423270877428, \"PC 3\": 0.19677691815601425, \"Class\": 1}, {\"CoinName\": \"SunShotCoin\", \"Algorithm\": \"X11\", \"ProofType\": \"PoW\", \"TotalCoinsMined\": 0.0, \"TotalCoinSupply\": 2250000000.0, \"PC 1\": -0.28005467120932953, \"PC 2\": 0.789347359471892, \"PC 3\": 0.008257611755296752, \"Class\": 1}, {\"CoinName\": \"GPU Coin\", \"Algorithm\": \"Scrypt\", \"ProofType\": \"PoS\", \"TotalCoinsMined\": 40477042.0, \"TotalCoinSupply\": 221052632.0, \"PC 1\": -0.051477338656405615, \"PC 2\": -0.8258574165885333, \"PC 3\": -0.2611015592514412, \"Class\": 0}, {\"CoinName\": \"HempCoin\", \"Algorithm\": \"Scrypt-n\", \"ProofType\": \"PoW\", \"TotalCoinsMined\": 0.0, \"TotalCoinSupply\": 5000000000.0, \"PC 1\": -0.39212110514826226, \"PC 2\": 2.1289007710479746, \"PC 3\": 0.38883183947815786, \"Class\": 1}, {\"CoinName\": \"Adzcoin\", \"Algorithm\": \"X11\", \"ProofType\": \"PoW\", \"TotalCoinsMined\": 45110324.0, \"TotalCoinSupply\": 84000000.0, \"PC 1\": -0.27942975376290247, \"PC 2\": 0.7894510579493362, \"PC 3\": 0.008236512995117969, \"Class\": 1}, {\"CoinName\": \"VirtaCoin\", \"Algorithm\": \"Scrypt\", \"ProofType\": \"PoW\", \"TotalCoinsMined\": 0.0, \"TotalCoinSupply\": 21000000000.0, \"PC 1\": -0.3543011291437908, \"PC 2\": 1.038736979149058, \"PC 3\": -0.008328939291501752, \"Class\": 1}, {\"CoinName\": \"SoilCoin\", \"Algorithm\": \"Dagger\", \"ProofType\": \"PoW\", \"TotalCoinsMined\": 5702048.0, \"TotalCoinSupply\": 30000000.0, \"PC 1\": -0.3936174138521029, \"PC 2\": 2.123628755794025, \"PC 3\": 0.36283439983789295, \"Class\": 1}, {\"CoinName\": \"YoCoin\", \"Algorithm\": \"Scrypt\", \"ProofType\": \"PoW\", \"TotalCoinsMined\": 636462.55983338, \"TotalCoinSupply\": 168351300.0, \"PC 1\": -0.35429228235093263, \"PC 2\": 1.0387386646956212, \"PC 3\": -0.008329134826071321, \"Class\": 1}, {\"CoinName\": \"Universal Currency\", \"Algorithm\": \"SHA-256\", \"ProofType\": \"PoW/PoS\", \"TotalCoinsMined\": 0.0, \"TotalCoinSupply\": 210000000.0, \"PC 1\": -0.08185457284998945, \"PC 2\": -0.8664507153013612, \"PC 3\": -0.33185862012625417, \"Class\": 0}, {\"CoinName\": \"AEON\", \"Algorithm\": \"CryptoNight-Lite\", \"ProofType\": \"PoW\", \"TotalCoinsMined\": 0.0, \"TotalCoinSupply\": 18400000.0, \"PC 1\": -0.3508404612852408, \"PC 2\": 2.201155691879508, \"PC 3\": 0.3251296069710345, \"Class\": 1}, {\"CoinName\": \"SibCoin\", \"Algorithm\": \"X11GOST\", \"ProofType\": \"PoW\", \"TotalCoinsMined\": 17263355.0, \"TotalCoinSupply\": 24000000.0, \"PC 1\": -0.3713527479695652, \"PC 2\": 2.0457984373485987, \"PC 3\": 0.3245379990906964, \"Class\": 1}, {\"CoinName\": \"EuropeCoin\", \"Algorithm\": \"X11\", \"ProofType\": \"PoW/PoS\", \"TotalCoinsMined\": 10407269.788186802, \"TotalCoinSupply\": 384000000.0, \"PC 1\": -0.10096009413770955, \"PC 2\": -1.4476217422497684, \"PC 3\": -0.5203827864926478, \"Class\": 0}, {\"CoinName\": \"Anti Bitcoin\", \"Algorithm\": \"SHA-256\", \"ProofType\": \"PoW\", \"TotalCoinsMined\": 0.0, \"TotalCoinSupply\": 42000000.0, \"PC 1\": -0.26080497486142906, \"PC 2\": 1.3705423267989845, \"PC 3\": 0.19677691802342484, \"Class\": 1}, {\"CoinName\": \"ZeitCoin\", \"Algorithm\": \"Scrypt\", \"ProofType\": \"PoS\", \"TotalCoinsMined\": 36971236046.8073, \"TotalCoinSupply\": 99000000000.0, \"PC 1\": 0.4601251617833314, \"PC 2\": -0.7409819382023418, \"PC 3\": -0.2783838099342799, \"Class\": 0}, {\"CoinName\": \"SwingCoin\", \"Algorithm\": \"SHA-256\", \"ProofType\": \"PoW/PoS\", \"TotalCoinsMined\": 4377081.60953993, \"TotalCoinSupply\": 40000000.0, \"PC 1\": -0.08179393679548687, \"PC 2\": -0.866440653805912, \"PC 3\": -0.3318606675487778, \"Class\": 0}, {\"CoinName\": \"SafeExchangeCoin\", \"Algorithm\": \"Scrypt\", \"ProofType\": \"PoC\", \"TotalCoinsMined\": 2147483647.0, \"TotalCoinSupply\": 2147483647.0, \"PC 1\": 0.17886720815530271, \"PC 2\": -0.32640922206016204, \"PC 3\": -0.08391184490459025, \"Class\": 0}, {\"CoinName\": \"Nebuchadnezzar\", \"Algorithm\": \"PoS\", \"ProofType\": \"PoS\", \"TotalCoinsMined\": 20000000.0, \"TotalCoinSupply\": 20000000.0, \"PC 1\": 0.18293236544667632, \"PC 2\": -1.4246305543189608, \"PC 3\": -0.14290899598059958, \"Class\": 0}, {\"CoinName\": \"Francs\", \"Algorithm\": \"Scrypt\", \"ProofType\": \"PoW\", \"TotalCoinsMined\": 6570807.65677618, \"TotalCoinSupply\": 20000000.0, \"PC 1\": -0.3542100735210561, \"PC 2\": 1.0387523049579754, \"PC 3\": -0.00833191107706833, \"Class\": 1}, {\"CoinName\": \"BolivarCoin\", \"Algorithm\": \"X11\", \"ProofType\": \"PoW\", \"TotalCoinsMined\": 13654082.4987998, \"TotalCoinSupply\": 25000000.0, \"PC 1\": -0.27986551770523266, \"PC 2\": 0.7893787639173281, \"PC 3\": 0.008251233247481908, \"Class\": 1}, {\"CoinName\": \"GIZMOcoin\", \"Algorithm\": \"X11\", \"ProofType\": \"PoW/PoS\", \"TotalCoinsMined\": 0.0, \"TotalCoinSupply\": 100000.0, \"PC 1\": -0.10110426573178241, \"PC 2\": -1.4476456567696163, \"PC 3\": -0.5203779145207542, \"Class\": 0}, {\"CoinName\": \"SecretCoin\", \"Algorithm\": \"X11\", \"ProofType\": \"PoW/PoS\", \"TotalCoinsMined\": 0.0, \"TotalCoinSupply\": 21000000.0, \"PC 1\": -0.10110426576174288, \"PC 2\": -1.4476456569931364, \"PC 3\": -0.5203779146233882, \"Class\": 0}, {\"CoinName\": \"Ratecoin\", \"Algorithm\": \"X11\", \"ProofType\": \"PoW/PoS\", \"TotalCoinsMined\": 134554941.15118998, \"TotalCoinSupply\": 75000000.0, \"PC 1\": -0.09924027318783202, \"PC 2\": -1.447336415154488, \"PC 3\": -0.5204408799349655, \"Class\": 0}, {\"CoinName\": \"Digital Bullion Gold\", \"Algorithm\": \"PoS\", \"ProofType\": \"PoS\", \"TotalCoinsMined\": 0.0, \"TotalCoinSupply\": 15000000.0, \"PC 1\": 0.1826553050002668, \"PC 2\": -1.4246765194918143, \"PC 3\": -0.14289963694687663, \"Class\": 0}, {\"CoinName\": \"Revenu\", \"Algorithm\": \"SHA-256\", \"ProofType\": \"PoW/PoS\", \"TotalCoinsMined\": 1195525.0, \"TotalCoinSupply\": 222725000.0, \"PC 1\": -0.08183801123329279, \"PC 2\": -0.8664479678085913, \"PC 3\": -0.33185917963521494, \"Class\": 0}, {\"CoinName\": \"Clinton\", \"Algorithm\": \"SHA-256\", \"ProofType\": \"PoW\", \"TotalCoinsMined\": 0.0, \"TotalCoinSupply\": 2421227.0, \"PC 1\": -0.26080497480469195, \"PC 2\": 1.3705423272222692, \"PC 3\": 0.196776918217785, \"Class\": 1}, {\"CoinName\": \"Clockcoin\", \"Algorithm\": \"SHA-256\", \"ProofType\": \"PoW/PoS\", \"TotalCoinsMined\": 16662820.0, \"TotalCoinSupply\": 525000000.0, \"PC 1\": -0.08162374287819434, \"PC 2\": -0.8664124231555809, \"PC 3\": -0.33186641904738884, \"Class\": 0}, {\"CoinName\": \"VIP Tokens\", \"Algorithm\": \"NIST5\", \"ProofType\": \"PoW/PoS\", \"TotalCoinsMined\": 83450403.0, \"TotalCoinSupply\": 90000000.0, \"PC 1\": -0.04042303322799723, \"PC 2\": -1.7446915630404243, \"PC 3\": -0.5638355191247939, \"Class\": 0}, {\"CoinName\": \"OrlyCoin\", \"Algorithm\": \"X15\", \"ProofType\": \"PoW/PoS\", \"TotalCoinsMined\": 0.0, \"TotalCoinSupply\": 36000000.0, \"PC 1\": 0.01974368222018026, \"PC 2\": -2.142217409450405, \"PC 3\": -0.6768583372199194, \"Class\": 0}, {\"CoinName\": \"BitSend\", \"Algorithm\": \"X11\", \"ProofType\": \"PoW/PoS\", \"TotalCoinsMined\": 24387724.5010828, \"TotalCoinSupply\": 139000000.0, \"PC 1\": -0.10076642223029866, \"PC 2\": -1.4475896088913038, \"PC 3\": -0.5203893274497139, \"Class\": 0}, {\"CoinName\": \"16BitCoin\", \"Algorithm\": \"NIST5\", \"ProofType\": \"PoW/PoS\", \"TotalCoinsMined\": 0.0, \"TotalCoinSupply\": 16000000.0, \"PC 1\": -0.04157907344723611, \"PC 2\": -1.7448833530820578, \"PC 3\": -0.563796468107059, \"Class\": 0}, {\"CoinName\": \"ChessCoin\", \"Algorithm\": \"Scrypt\", \"ProofType\": \"PoW/PoS\", \"TotalCoinsMined\": 0.0, \"TotalCoinSupply\": 74666667.0, \"PC 1\": -0.17535069689463867, \"PC 2\": -1.1982558373633523, \"PC 3\": -0.5369643738577438, \"Class\": 0}, {\"CoinName\": \"ReeCoin\", \"Algorithm\": \"Scrypt\", \"ProofType\": \"PoW/PoS\", \"TotalCoinsMined\": 0.0, \"TotalCoinSupply\": 350000000.0, \"PC 1\": -0.17535069728933453, \"PC 2\": -1.1982558403079742, \"PC 3\": -0.5369643752098284, \"Class\": 0}, {\"CoinName\": \"Omni\", \"Algorithm\": \"Scrypt\", \"ProofType\": \"PoW\", \"TotalCoinsMined\": 616448.0, \"TotalCoinSupply\": 616448.0, \"PC 1\": -0.35429255937263293, \"PC 2\": 1.038738620490815, \"PC 3\": -0.008329124636550117, \"Class\": 1}, {\"CoinName\": \"Let it Ride\", \"Algorithm\": \"POS 3.0\", \"ProofType\": \"PoS\", \"TotalCoinsMined\": 38589808.6658096, \"TotalCoinSupply\": 33500000.0, \"PC 1\": 0.1795420898267205, \"PC 2\": -1.436944494397769, \"PC 3\": -0.20841549977348123, \"Class\": 0}, {\"CoinName\": \"PutinCoin\", \"Algorithm\": \"Scrypt\", \"ProofType\": \"PoW/PoS\", \"TotalCoinsMined\": 813092338.575672, \"TotalCoinSupply\": 2000000000.0, \"PC 1\": -0.16408691304834172, \"PC 2\": -1.1963871592859832, \"PC 3\": -0.5373448702451131, \"Class\": 0}, {\"CoinName\": \"iBankCoin\", \"Algorithm\": \"Scrypt\", \"ProofType\": \"PoW/PoS\", \"TotalCoinsMined\": 4526324.0, \"TotalCoinSupply\": 44333333.0, \"PC 1\": -0.17528799358213137, \"PC 2\": -1.1982454343635904, \"PC 3\": -0.5369664918041762, \"Class\": 0}, {\"CoinName\": \"Frankywillcoin\", \"Algorithm\": \"Scrypt\", \"ProofType\": \"PoW/PoS\", \"TotalCoinsMined\": 100000000.0, \"TotalCoinSupply\": 100000000.0, \"PC 1\": -0.17396539466306796, \"PC 2\": -1.1980260115026562, \"PC 3\": -0.5370111690279937, \"Class\": 0}, {\"CoinName\": \"MudraCoin\", \"Algorithm\": \"X13\", \"ProofType\": \"PoS\", \"TotalCoinsMined\": 5000000.0, \"TotalCoinSupply\": 200000000.0, \"PC 1\": 0.1614300817740165, \"PC 2\": -1.595294426235646, \"PC 3\": -0.3253794615279364, \"Class\": 0}, {\"CoinName\": \"PizzaCoin\", \"Algorithm\": \"X11\", \"ProofType\": \"PoW\", \"TotalCoinsMined\": 1377917.0, \"TotalCoinSupply\": 25000000.0, \"PC 1\": -0.2800355797042971, \"PC 2\": 0.7893505500810496, \"PC 3\": 0.00825697788475485, \"Class\": 1}, {\"CoinName\": \"Lutetium Coin\", \"Algorithm\": \"X11\", \"ProofType\": \"PoS\", \"TotalCoinsMined\": 657000000.0, \"TotalCoinSupply\": 657000000.0, \"PC 1\": 0.031309798293834325, \"PC 2\": -1.0738303105896343, \"PC 3\": -0.2448036046222834, \"Class\": 0}, {\"CoinName\": \"Komodo\", \"Algorithm\": \"Equihash\", \"ProofType\": \"dPoW/PoW\", \"TotalCoinsMined\": 115898131.0, \"TotalCoinSupply\": 200000000.0, \"PC 1\": -0.11766160762328902, \"PC 2\": 1.216986198962054, \"PC 3\": 0.6750366179652233, \"Class\": 1}, {\"CoinName\": \"GoldBlocks\", \"Algorithm\": \"X11\", \"ProofType\": \"PoW/PoS\", \"TotalCoinsMined\": 15563873.0, \"TotalCoinSupply\": 50000000.0, \"PC 1\": -0.1008886591176746, \"PC 2\": -1.447609887456037, \"PC 3\": -0.520385197887305, \"Class\": 0}, {\"CoinName\": \"WayCoin\", \"Algorithm\": \"X11\", \"ProofType\": \"PoS\", \"TotalCoinsMined\": 0.0, \"TotalCoinSupply\": 100000000.0, \"PC 1\": 0.022208363192290158, \"PC 2\": -1.0753402623174684, \"PC 3\": -0.24449615843581213, \"Class\": 0}, {\"CoinName\": \"CarterCoin\", \"Algorithm\": \"Scrypt\", \"ProofType\": \"PoW/PoS\", \"TotalCoinsMined\": 43165500.0, \"TotalCoinSupply\": 90000000.0, \"PC 1\": -0.17475272426617497, \"PC 2\": -1.19815663192849, \"PC 3\": -0.5369845732485556, \"Class\": 0}, {\"CoinName\": \"Karbo\", \"Algorithm\": \"CryptoNight\", \"ProofType\": \"PoW\", \"TotalCoinsMined\": 7822432.72439746, \"TotalCoinSupply\": 10000000.0, \"PC 1\": -0.23384803599620463, \"PC 2\": 2.2471408418380707, \"PC 3\": 0.3466427307539915, \"Class\": 1}, {\"CoinName\": \"BitTokens\", \"Algorithm\": \"SHA-256\", \"ProofType\": \"PoW/PoS\", \"TotalCoinsMined\": 595429.0, \"TotalCoinSupply\": 21000000.0, \"PC 1\": -0.0818463240876135, \"PC 2\": -0.8664493448286157, \"PC 3\": -0.331858897829402, \"Class\": 0}, {\"CoinName\": \"ZayedCoin\", \"Algorithm\": \"SHA-256\", \"ProofType\": \"PoW\", \"TotalCoinsMined\": 6243840.0, \"TotalCoinSupply\": 9736000.0, \"PC 1\": -0.2607184787580546, \"PC 2\": 1.3705566771199769, \"PC 3\": 0.1967739963740736, \"Class\": 1}, {\"CoinName\": \"MustangCoin\", \"Algorithm\": \"X11\", \"ProofType\": \"PoW/PoS\", \"TotalCoinsMined\": 657636.34549789, \"TotalCoinSupply\": 3000000.0, \"PC 1\": -0.1010951554847308, \"PC 2\": -1.447644145380458, \"PC 3\": -0.5203782222762248, \"Class\": 0}, {\"CoinName\": \"ZoneCoin\", \"Algorithm\": \"Scrypt\", \"ProofType\": \"PoW/PoS\", \"TotalCoinsMined\": 2581970.0, \"TotalCoinSupply\": 21000000.0, \"PC 1\": -0.1753149287287403, \"PC 2\": -1.1982499027476297, \"PC 3\": -0.5369655818282472, \"Class\": 0}, {\"CoinName\": \"Circuits of Value\", \"Algorithm\": \"Multiple\", \"ProofType\": \"PoW\", \"TotalCoinsMined\": 1000000000.0, \"TotalCoinSupply\": 1200000000.0, \"PC 1\": -0.29363874641152765, \"PC 2\": 1.724041806080914, \"PC 3\": 0.2863232285220679, \"Class\": 1}, {\"CoinName\": \"DopeCoin\", \"Algorithm\": \"Scrypt\", \"ProofType\": \"PoW\", \"TotalCoinsMined\": 116845228.0, \"TotalCoinSupply\": 200000000.0, \"PC 1\": -0.3526824397331764, \"PC 2\": 1.0390057424673729, \"PC 3\": -0.00838351492655259, \"Class\": 1}, {\"CoinName\": \"PROUD Money\", \"Algorithm\": \"X11\", \"ProofType\": \"PoW/PoS\", \"TotalCoinsMined\": 0.0, \"TotalCoinSupply\": 10000000000.0, \"PC 1\": -0.10110428006683744, \"PC 2\": -1.4476457637160502, \"PC 3\": -0.5203779636274551, \"Class\": 0}, {\"CoinName\": \"DollarCoin\", \"Algorithm\": \"SHA-256\", \"ProofType\": \"PoW\", \"TotalCoinsMined\": 9106714.0, \"TotalCoinSupply\": 10638298.0, \"PC 1\": -0.2606788193008994, \"PC 2\": 1.3705632567428947, \"PC 3\": 0.1967726566864421, \"Class\": 1}, {\"CoinName\": \"Swiscoin\", \"Algorithm\": \"Scrypt\", \"ProofType\": \"PoW/PoW\", \"TotalCoinsMined\": 665200057.0, \"TotalCoinSupply\": 3100000000.0, \"PC 1\": -0.2502618700423989, \"PC 2\": -0.38689116668915785, \"PC 3\": -0.3160947687122901, \"Class\": 0}, {\"CoinName\": \"Shilling\", \"Algorithm\": \"Scrypt\", \"ProofType\": \"PoW\", \"TotalCoinsMined\": 11119200.0, \"TotalCoinSupply\": 30000000.0, \"PC 1\": -0.3541470645531083, \"PC 2\": 1.038762758245202, \"PC 3\": -0.008334039548457553, \"Class\": 1}, {\"CoinName\": \"BuzzCoin\", \"Algorithm\": \"SHA-256D\", \"ProofType\": \"PoW/PoS\", \"TotalCoinsMined\": 19577787259.0, \"TotalCoinSupply\": 20000000000.0, \"PC 1\": 0.2738113041350704, \"PC 2\": -2.142160188777931, \"PC 3\": -0.7167759989513324, \"Class\": 0}, {\"CoinName\": \"Opair\", \"Algorithm\": \"PoS\", \"ProofType\": \"PoS\", \"TotalCoinsMined\": 74033806.79496829, \"TotalCoinSupply\": 74000000.0, \"PC 1\": 0.1836808969202222, \"PC 2\": -1.4245063710885488, \"PC 3\": -0.14293428139043976, \"Class\": 0}, {\"CoinName\": \"GBR Coin\", \"Algorithm\": \"Scrypt\", \"ProofType\": \"PoW\", \"TotalCoinsMined\": 0.0, \"TotalCoinSupply\": 87500000.0, \"PC 1\": -0.35430109916530633, \"PC 2\": 1.0387372028030255, \"PC 3\": -0.008328836596086499, \"Class\": 1}, {\"CoinName\": \"Halloween Coin\", \"Algorithm\": \"X11\", \"ProofType\": \"PoW/PoS\", \"TotalCoinsMined\": 264678458.28861898, \"TotalCoinSupply\": 1500000000.0, \"PC 1\": -0.09743767119663903, \"PC 2\": -1.4470373725487298, \"PC 3\": -0.5205017782922396, \"Class\": 0}, {\"CoinName\": \"FujiCoin\", \"Algorithm\": \"Scrypt-n\", \"ProofType\": \"PoW\", \"TotalCoinsMined\": 0.0, \"TotalCoinSupply\": 10000000.0, \"PC 1\": -0.39212109799499806, \"PC 2\": 2.12890082441478, \"PC 3\": 0.3888318639826471, \"Class\": 1}, {\"CoinName\": \"ZCoin\", \"Algorithm\": \"Lyra2Z\", \"ProofType\": \"PoW\", \"TotalCoinsMined\": 7568281.24956067, \"TotalCoinSupply\": 21400000.0, \"PC 1\": -0.3637087367799584, \"PC 2\": 2.0542469712690257, \"PC 3\": 0.27096678768072396, \"Class\": 1}, {\"CoinName\": \"LeaCoin\", \"Algorithm\": \"SHA-256\", \"ProofType\": \"PoW\", \"TotalCoinsMined\": 0.0, \"TotalCoinSupply\": 2000000000.0, \"PC 1\": -0.2608049776682609, \"PC 2\": 1.3705423058586625, \"PC 3\": 0.19677690840823645, \"Class\": 1}, {\"CoinName\": \"CoffeeCoin\", \"Algorithm\": \"PoS\", \"ProofType\": \"PoS\", \"TotalCoinsMined\": 148716816.0, \"TotalCoinSupply\": 39999898.0, \"PC 1\": 0.1847154823892055, \"PC 2\": -1.424334729653885, \"PC 3\": -0.14296922917187052, \"Class\": 0}, {\"CoinName\": \"RoyalCoin\", \"Algorithm\": \"X13\", \"ProofType\": \"PoS\", \"TotalCoinsMined\": 2500124.0, \"TotalCoinSupply\": 2500124.0, \"PC 1\": 0.16139545121821414, \"PC 2\": -1.5953001694917404, \"PC 3\": -0.32537829073994967, \"Class\": 0}, {\"CoinName\": \"Zurcoin\", \"Algorithm\": \"Quark\", \"ProofType\": \"PoW\", \"TotalCoinsMined\": 0.0, \"TotalCoinSupply\": 126000000.0, \"PC 1\": -0.048169847166464226, \"PC 2\": 0.5501245088660907, \"PC 3\": -0.0342329937056763, \"Class\": 1}, {\"CoinName\": \"GanjaCoin V2\", \"Algorithm\": \"X14\", \"ProofType\": \"PoW/PoS\", \"TotalCoinsMined\": 100000000.0, \"TotalCoinSupply\": 100000000.0, \"PC 1\": -0.04320145140425294, \"PC 2\": -2.1151560922812194, \"PC 3\": -0.7870766051552736, \"Class\": 0}, {\"CoinName\": \"TeamUP\", \"Algorithm\": \"PoS\", \"ProofType\": \"PoS\", \"TotalCoinsMined\": 17818682.1654, \"TotalCoinSupply\": 301000000.0, \"PC 1\": 0.1829021471984244, \"PC 2\": -1.424635570562584, \"PC 3\": -0.14290797661183077, \"Class\": 0}, {\"CoinName\": \"LanaCoin\", \"Algorithm\": \"SHA-256D\", \"ProofType\": \"PoW/PoS\", \"TotalCoinsMined\": 1082162635.5368302, \"TotalCoinSupply\": 7506000000.0, \"PC 1\": 0.017591014676843906, \"PC 2\": -2.1846678337506473, \"PC 3\": -0.7081209015749583, \"Class\": 0}, {\"CoinName\": \"Elementrem\", \"Algorithm\": \"Ethash\", \"ProofType\": \"PoW\", \"TotalCoinsMined\": 26205539.0, \"TotalCoinSupply\": 26205539.0, \"PC 1\": -0.34177676216517344, \"PC 2\": 1.950296802478706, \"PC 3\": 0.30561488948529814, \"Class\": 1}, {\"CoinName\": \"CashOut\", \"Algorithm\": \"SHA-256\", \"ProofType\": \"PoW\", \"TotalCoinsMined\": 0.0, \"TotalCoinSupply\": 100000000.0, \"PC 1\": -0.2608049749445731, \"PC 2\": 1.3705423261786884, \"PC 3\": 0.19677691773860273, \"Class\": 1}, {\"CoinName\": \"ZClassic\", \"Algorithm\": \"Equihash\", \"ProofType\": \"PoW\", \"TotalCoinsMined\": 5613550.0, \"TotalCoinSupply\": 21000000.0, \"PC 1\": -0.3379722793604203, \"PC 2\": 1.9070542777384347, \"PC 3\": 0.38452595491852803, \"Class\": 1}, {\"CoinName\": \"ARK\", \"Algorithm\": \"DPoS\", \"ProofType\": \"DPoS\", \"TotalCoinsMined\": 108202084.0, \"TotalCoinSupply\": 125000000.0, \"PC 1\": 6.923656242922776, \"PC 2\": -0.36980117025840875, \"PC 3\": -0.18509707577025017, \"Class\": 0}, {\"CoinName\": \"InsaneCoin\", \"Algorithm\": \"X11\", \"ProofType\": \"PoW/PoS\", \"TotalCoinsMined\": 18342813.0, \"TotalCoinSupply\": 30000000.0, \"PC 1\": -0.10085016237016144, \"PC 2\": -1.447603500511839, \"PC 3\": -0.5203864981953376, \"Class\": 0}, {\"CoinName\": \"LuckChain\", \"Algorithm\": \"Scrypt\", \"ProofType\": \"PoW/PoS\", \"TotalCoinsMined\": 0.0, \"TotalCoinSupply\": 1000000000.0, \"PC 1\": -0.17535069822112256, \"PC 2\": -1.1982558472595617, \"PC 3\": -0.5369643784017959, \"Class\": 0}, {\"CoinName\": \"KiloCoin\", \"Algorithm\": \"Scrypt\", \"ProofType\": \"PoW\", \"TotalCoinsMined\": 196297971.0, \"TotalCoinSupply\": 10000000000.0, \"PC 1\": -0.35158179313099386, \"PC 2\": 1.0391882408245297, \"PC 3\": -0.008420742999112704, \"Class\": 1}, {\"CoinName\": \"Hush\", \"Algorithm\": \"Equihash\", \"ProofType\": \"PoW\", \"TotalCoinsMined\": 0.0, \"TotalCoinSupply\": 21000000.0, \"PC 1\": -0.3380500439958794, \"PC 2\": 1.9070413763336225, \"PC 3\": 0.38452858178182425, \"Class\": 1}, {\"CoinName\": \"ArtexCoin\", \"Algorithm\": \"X11\", \"ProofType\": \"PoW\", \"TotalCoinsMined\": 824000000.0, \"TotalCoinSupply\": 500000000.0, \"PC 1\": -0.26863977801328415, \"PC 2\": 0.7912411455123366, \"PC 3\": 0.007872029171293291, \"Class\": 1}, {\"CoinName\": \"EmberCoin\", \"Algorithm\": \"X13\", \"ProofType\": \"PoW/PoS\", \"TotalCoinsMined\": 92192822723.0, \"TotalCoinSupply\": 850000000.0, \"PC 1\": 1.3151974506719213, \"PC 2\": -1.7557281219095175, \"PC 3\": -0.64440055520206, \"Class\": 0}, {\"CoinName\": \"XenixCoin\", \"Algorithm\": \"X11\", \"ProofType\": \"PoW/PoS\", \"TotalCoinsMined\": 3853326.77707314, \"TotalCoinSupply\": 3853326.77707314, \"PC 1\": -0.10105088551393084, \"PC 2\": -1.4476368008578862, \"PC 3\": -0.5203797177052175, \"Class\": 0}, {\"CoinName\": \"FreeCoin\", \"Algorithm\": \"PoS\", \"ProofType\": \"PoS\", \"TotalCoinsMined\": 50000000.0, \"TotalCoinSupply\": 50000000.0, \"PC 1\": 0.18334795608403667, \"PC 2\": -1.4245616068003153, \"PC 3\": -0.142923034641674, \"Class\": 0}, {\"CoinName\": \"NPCcoin\", \"Algorithm\": \"SHA-256D\", \"ProofType\": \"PoW/PoS\", \"TotalCoinsMined\": 0.0, \"TotalCoinSupply\": 7000000000.0, \"PC 1\": 0.00259979186989208, \"PC 2\": -2.187154920862304, \"PC 3\": -0.7076145005887189, \"Class\": 0}, {\"CoinName\": \"PLNCoin\", \"Algorithm\": \"Scrypt\", \"ProofType\": \"PoW/PoS\", \"TotalCoinsMined\": 17089600.0, \"TotalCoinSupply\": 38540000.0, \"PC 1\": -0.1751139542264778, \"PC 2\": -1.1982165606103956, \"PC 3\": -0.5369723707664905, \"Class\": 0}, {\"CoinName\": \"Icobid\", \"Algorithm\": \"Scrypt\", \"ProofType\": \"PoW/PoS\", \"TotalCoinsMined\": 0.0, \"TotalCoinSupply\": 200000000.0, \"PC 1\": -0.17535069707430676, \"PC 2\": -1.1982558387037612, \"PC 3\": -0.5369643744732205, \"Class\": 0}, {\"CoinName\": \"AquariusCoin\", \"Algorithm\": \"Scrypt\", \"ProofType\": \"PoW/PoS\", \"TotalCoinsMined\": 2449577.41533168, \"TotalCoinSupply\": 42000000.0, \"PC 1\": -0.1753167627963224, \"PC 2\": -1.1982502072449754, \"PC 3\": -0.5369655199782014, \"Class\": 0}, {\"CoinName\": \"Kurrent\", \"Algorithm\": \"X11\", \"ProofType\": \"PoW\", \"TotalCoinsMined\": 61364813.0, \"TotalCoinSupply\": 228000000.0, \"PC 1\": -0.27920458016457883, \"PC 2\": 0.789488413472577, \"PC 3\": 0.008228905992394836, \"Class\": 1}, {\"CoinName\": \"Creatio\", \"Algorithm\": \"PoS\", \"ProofType\": \"PoS\", \"TotalCoinsMined\": 20000000.0, \"TotalCoinSupply\": 20000000.0, \"PC 1\": 0.18293236544667632, \"PC 2\": -1.4246305543189608, \"PC 3\": -0.14290899598059958, \"Class\": 0}, {\"CoinName\": \"Eternity\", \"Algorithm\": \"X11\", \"ProofType\": \"PoW/PoS\", \"TotalCoinsMined\": 6069482.07721352, \"TotalCoinSupply\": 60000000.0, \"PC 1\": -0.10102018514478553, \"PC 2\": -1.4476317081543637, \"PC 3\": -0.520380755031827, \"Class\": 0}, {\"CoinName\": \"Eurocoin\", \"Algorithm\": \"SHA-256\", \"ProofType\": \"PoW/PoS\", \"TotalCoinsMined\": 12416554.0, \"TotalCoinSupply\": 20000000.0, \"PC 1\": -0.08168256577346525, \"PC 2\": -0.8664221767836185, \"PC 3\": -0.33186442952535417, \"Class\": 0}, {\"CoinName\": \"BitcoinFast\", \"Algorithm\": \"Scrypt\", \"ProofType\": \"PoW/PoS\", \"TotalCoinsMined\": 20244023.640728, \"TotalCoinSupply\": 33000000.0, \"PC 1\": -0.17507025591630235, \"PC 2\": -1.1982093108613183, \"PC 3\": -0.5369738468532741, \"Class\": 0}, {\"CoinName\": \"Stakenet\", \"Algorithm\": \"X11\", \"ProofType\": \"TPoS\", \"TotalCoinsMined\": 75590369.0, \"TotalCoinSupply\": 76500000.0, \"PC 1\": 0.029127152285388102, \"PC 2\": -0.8368609813099815, \"PC 3\": -0.28050994746315105, \"Class\": 0}, {\"CoinName\": \"BitConnect Coin\", \"Algorithm\": \"Scrypt\", \"ProofType\": \"PoW/PoS\", \"TotalCoinsMined\": 11080722.3769581, \"TotalCoinSupply\": 28000000.0, \"PC 1\": -0.17519719532935485, \"PC 2\": -1.198230370468668, \"PC 3\": -0.5369695588576932, \"Class\": 0}, {\"CoinName\": \"MoneyCoin\", \"Algorithm\": \"Scrypt\", \"ProofType\": \"PoW/PoS\", \"TotalCoinsMined\": 10914418.0, \"TotalCoinSupply\": 650659833.0, \"PC 1\": -0.1751995000402558, \"PC 2\": -1.1982307593387762, \"PC 3\": -0.5369694840931913, \"Class\": 0}, {\"CoinName\": \"Enigma\", \"Algorithm\": \"X11\", \"ProofType\": \"PoW/PoS\", \"TotalCoinsMined\": 814671.0, \"TotalCoinSupply\": 5000000.0, \"PC 1\": -0.10109298008296753, \"PC 2\": -1.4476437844951755, \"PC 3\": -0.5203782957704848, \"Class\": 0}, {\"CoinName\": \"Cannabis Industry Coin\", \"Algorithm\": \"CryptoNight\", \"ProofType\": \"PoW\", \"TotalCoinsMined\": 978145.0, \"TotalCoinSupply\": 21000000.0, \"PC 1\": -0.23394285008504007, \"PC 2\": 2.247125111758713, \"PC 3\": 0.3466459334875523, \"Class\": 1}, {\"CoinName\": \"Russiacoin\", \"Algorithm\": \"Scrypt\", \"ProofType\": \"PoW/PoS\", \"TotalCoinsMined\": 8377873.0, \"TotalCoinSupply\": 144000000.0, \"PC 1\": -0.1752346381293598, \"PC 2\": -1.198236583563426, \"PC 3\": -0.5369682946277317, \"Class\": 0}, {\"CoinName\": \"PandaCoin\", \"Algorithm\": \"Scrypt\", \"ProofType\": \"PoS\", \"TotalCoinsMined\": 33813143821.8337, \"TotalCoinSupply\": 32514916898.0, \"PC 1\": 0.4163761338765103, \"PC 2\": -0.7482393483549408, \"PC 3\": -0.27690565274020545, \"Class\": 0}, {\"CoinName\": \"GameUnits\", \"Algorithm\": \"Scrypt\", \"ProofType\": \"PoW/PoS\", \"TotalCoinsMined\": 3472983.0, \"TotalCoinSupply\": 13000000.0, \"PC 1\": -0.17530258549397615, \"PC 2\": -1.1982478548813615, \"PC 3\": -0.536965998738903, \"Class\": 0}, {\"CoinName\": \"GAKHcoin\", \"Algorithm\": \"Scrypt\", \"ProofType\": \"PoW/PoS\", \"TotalCoinsMined\": 3315789.0, \"TotalCoinSupply\": 3315789.0, \"PC 1\": -0.1753047630921405, \"PC 2\": -1.1982482160506809, \"PC 3\": -0.5369659251323423, \"Class\": 0}, {\"CoinName\": \"Allsafe\", \"Algorithm\": \"Quark\", \"ProofType\": \"PoS\", \"TotalCoinsMined\": 10517772.7391666, \"TotalCoinSupply\": 15000000.0, \"PC 1\": 0.25423888725649507, \"PC 2\": -1.3145389621396455, \"PC 3\": -0.28699169570631633, \"Class\": 0}, {\"CoinName\": \"LiteCreed\", \"Algorithm\": \"QuBit\", \"ProofType\": \"PoW/PoS\", \"TotalCoinsMined\": 30227750.0, \"TotalCoinSupply\": 78835200.0, \"PC 1\": -0.18368368916314343, \"PC 2\": -1.183105094951973, \"PC 3\": -0.42187479279398526, \"Class\": 0}, {\"CoinName\": \"OsmiumCoin\", \"Algorithm\": \"Scrypt\", \"ProofType\": \"PoW\", \"TotalCoinsMined\": 894026.0, \"TotalCoinSupply\": 2714286.0, \"PC 1\": -0.35428871408131096, \"PC 2\": 1.038739258415159, \"PC 3\": -0.008329254539604316, \"Class\": 1}, {\"CoinName\": \"Bikercoins\", \"Algorithm\": \"CryptoNight\", \"ProofType\": \"PoW\", \"TotalCoinsMined\": 9357088.0, \"TotalCoinSupply\": 25000000.0, \"PC 1\": -0.23382677640337005, \"PC 2\": 2.2471443687165027, \"PC 3\": 0.34664201253769106, \"Class\": 1}, {\"CoinName\": \"NeptuneClassic\", \"Algorithm\": \"X11\", \"ProofType\": \"PoW/PoS\", \"TotalCoinsMined\": 0.0, \"TotalCoinSupply\": 250000000.0, \"PC 1\": -0.10110426609001869, \"PC 2\": -1.447645659442234, \"PC 3\": -0.5203779157479431, \"Class\": 0}, {\"CoinName\": \"HexxCoin\", \"Algorithm\": \"Lyra2RE\", \"ProofType\": \"PoW\", \"TotalCoinsMined\": 1876146.4435959999, \"TotalCoinSupply\": 9999999.0, \"PC 1\": -0.41946386834913446, \"PC 2\": 2.142968575587807, \"PC 3\": 0.37998557187579096, \"Class\": 1}, {\"CoinName\": \"GoldenBird\", \"Algorithm\": \"X13\", \"ProofType\": \"PoW/PoS\", \"TotalCoinsMined\": 0.0, \"TotalCoinSupply\": 450000000.0, \"PC 1\": 0.03804818723496118, \"PC 2\": -1.9676113157364685, \"PC 3\": -0.601258879578847, \"Class\": 0}, {\"CoinName\": \"Ride My Car\", \"Algorithm\": \"PoS\", \"ProofType\": \"PoS\", \"TotalCoinsMined\": 0.0, \"TotalCoinSupply\": 100000000.0, \"PC 1\": 0.18265530487841722, \"PC 2\": -1.4246765204008678, \"PC 3\": -0.1428996373642879, \"Class\": 0}, {\"CoinName\": \"Klingon Empire Darsek\", \"Algorithm\": \"Scrypt\", \"ProofType\": \"PoW/PoS\", \"TotalCoinsMined\": 23965372.0, \"TotalCoinSupply\": 500000000.0, \"PC 1\": -0.17501870466253922, \"PC 2\": -1.1982007632247882, \"PC 3\": -0.5369755905532505, \"Class\": 0}, {\"CoinName\": \"Internet of People\", \"Algorithm\": \"SHA-256\", \"ProofType\": \"PoW/PoS\", \"TotalCoinsMined\": 2526078.47525448, \"TotalCoinSupply\": 21000000.0, \"PC 1\": -0.08181957875664789, \"PC 2\": -0.8664449076916113, \"PC 3\": -0.331859801277709, \"Class\": 0}, {\"CoinName\": \"KushCoin\", \"Algorithm\": \"X11\", \"ProofType\": \"PoW/PoS\", \"TotalCoinsMined\": 5659096.95728771, \"TotalCoinSupply\": 9354000.0, \"PC 1\": -0.10102587014655665, \"PC 2\": -1.4476326507849635, \"PC 3\": -0.5203805627432136, \"Class\": 0}, {\"CoinName\": \"Eryllium\", \"Algorithm\": \"X11\", \"ProofType\": \"PoW/PoS\", \"TotalCoinsMined\": 0.0, \"TotalCoinSupply\": 100000000.0, \"PC 1\": -0.10110426587499098, \"PC 2\": -1.4476456578380217, \"PC 3\": -0.520377915011335, \"Class\": 0}, {\"CoinName\": \"MarxCoin\", \"Algorithm\": \"X11\", \"ProofType\": \"PoW\", \"TotalCoinsMined\": 0.0, \"TotalCoinSupply\": 100640000.0, \"PC 1\": -0.28005466812817914, \"PC 2\": 0.7893473824587608, \"PC 3\": 0.008257622310199966, \"Class\": 1}, {\"CoinName\": \"Printerium\", \"Algorithm\": \"Scrypt\", \"ProofType\": \"PoW/PoS\", \"TotalCoinsMined\": 11821728.0, \"TotalCoinSupply\": 20000000.0, \"PC 1\": -0.17518693015018566, \"PC 2\": -1.198228667358552, \"PC 3\": -0.5369699055723284, \"Class\": 0}, {\"CoinName\": \"PacCoin\", \"Algorithm\": \"X11\", \"ProofType\": \"PoW\", \"TotalCoinsMined\": 536982074.0, \"TotalCoinSupply\": 100000000000.0, \"PC 1\": -0.2726159864866307, \"PC 2\": 0.7905804391882625, \"PC 3\": 0.008005850724787726, \"Class\": 1}, {\"CoinName\": \"Impeach\", \"Algorithm\": \"Scrypt\", \"ProofType\": \"PoW/PoS\", \"TotalCoinsMined\": 308179.0, \"TotalCoinSupply\": 21933333.0, \"PC 1\": -0.1753464276083685, \"PC 2\": -1.1982551285235081, \"PC 3\": -0.5369645178112896, \"Class\": 0}, {\"CoinName\": \"Solarflarecoin\", \"Algorithm\": \"Scrypt\", \"ProofType\": \"PoW\", \"TotalCoinsMined\": 0.0, \"TotalCoinSupply\": 20000000.0, \"PC 1\": -0.35430109906854385, \"PC 2\": 1.0387372035249212, \"PC 3\": -0.008328836264613053, \"Class\": 1}, {\"CoinName\": \"Citadel\", \"Algorithm\": \"CryptoNight-V7\", \"ProofType\": \"PoW\", \"TotalCoinsMined\": 10969318.522954, \"TotalCoinSupply\": 185000000.0, \"PC 1\": -0.32716869307003865, \"PC 2\": 2.0975986181645756, \"PC 3\": 0.3528431063642532, \"Class\": 1}, {\"CoinName\": \"Zilbercoin\", \"Algorithm\": \"Scrypt\", \"ProofType\": \"PoS\", \"TotalCoinsMined\": 2922613.96424908, \"TotalCoinSupply\": 55000000.0, \"PC 1\": -0.051997580761636845, \"PC 2\": -0.8259437247018523, \"PC 3\": -0.2610839848241875, \"Class\": 0}, {\"CoinName\": \"FirstCoin\", \"Algorithm\": \"Scrypt\", \"ProofType\": \"PoW/PoS \", \"TotalCoinsMined\": 110000000.0, \"TotalCoinSupply\": 110000000.0, \"PC 1\": -0.26297565240314447, \"PC 2\": -0.4522944435178184, \"PC 3\": -0.2999624588819285, \"Class\": 0}, {\"CoinName\": \"CreativeChain\", \"Algorithm\": \"Keccak\", \"ProofType\": \"PoW\", \"TotalCoinsMined\": 0.0, \"TotalCoinSupply\": 115000000.0, \"PC 1\": -0.30303995030139236, \"PC 2\": 1.4481657637066712, \"PC 3\": 0.19018912977187313, \"Class\": 1}, {\"CoinName\": \"BeaverCoin\", \"Algorithm\": \"Scrypt\", \"ProofType\": \"PoW\", \"TotalCoinsMined\": 3115258.0, \"TotalCoinSupply\": 3360000.0, \"PC 1\": -0.3542579433049656, \"PC 2\": 1.0387443633798334, \"PC 3\": -0.008330293969307956, \"Class\": 1}, {\"CoinName\": \"FindCoin\", \"Algorithm\": \"X13\", \"ProofType\": \"PoS\", \"TotalCoinsMined\": 14524851.4827, \"TotalCoinSupply\": 14524851.4827, \"PC 1\": 0.16156203002350136, \"PC 2\": -1.595272533654329, \"PC 3\": -0.3253839177757378, \"Class\": 0}, {\"CoinName\": \"VaultCoin\", \"Algorithm\": \"X11\", \"ProofType\": \"PoW\", \"TotalCoinsMined\": 30385540.0, \"TotalCoinSupply\": 1000000000.0, \"PC 1\": -0.27963373784270007, \"PC 2\": 0.7894172067514869, \"PC 3\": 0.008243398966322485, \"Class\": 1}, {\"CoinName\": \"Zero\", \"Algorithm\": \"Equihash\", \"ProofType\": \"PoW\", \"TotalCoinsMined\": 6921653.89980891, \"TotalCoinSupply\": 17000000.0, \"PC 1\": -0.337954158161696, \"PC 2\": 1.9070572841458044, \"PC 3\": 0.3845253428103513, \"Class\": 1}, {\"CoinName\": \"OpenChat\", \"Algorithm\": \"Scrypt\", \"ProofType\": \"PoW/PoS\", \"TotalCoinsMined\": 1000000000.0, \"TotalCoinSupply\": 1000000000.0, \"PC 1\": -0.16149767554225683, \"PC 2\": -1.1959575859432605, \"PC 3\": -0.5374323288602448, \"Class\": 0}, {\"CoinName\": \"Canada eCoin\", \"Algorithm\": \"Scrypt\", \"ProofType\": \"PoW\", \"TotalCoinsMined\": 99843408.3158479, \"TotalCoinSupply\": 100000000.0, \"PC 1\": -0.3529179661834908, \"PC 2\": 1.0389666689123607, \"PC 3\": -0.008375558426165115, \"Class\": 1}, {\"CoinName\": \"Zoin\", \"Algorithm\": \"Lyra2RE\", \"ProofType\": \"PoW\", \"TotalCoinsMined\": 18545757.5, \"TotalCoinSupply\": 21000000.0, \"PC 1\": -0.419232943864891, \"PC 2\": 2.143006886592414, \"PC 3\": 0.379977771269637, \"Class\": 1}, {\"CoinName\": \"Musicoin\", \"Algorithm\": \"Ethash\", \"ProofType\": \"PoW\", \"TotalCoinsMined\": 0.0, \"TotalCoinSupply\": 454898394.0, \"PC 1\": -0.3421397887057921, \"PC 2\": 1.9502365707173863, \"PC 3\": 0.3056271502740971, \"Class\": 1}, {\"CoinName\": \"BnrtxCoin\", \"Algorithm\": \"X11\", \"ProofType\": \"PoW\", \"TotalCoinsMined\": 0.0, \"TotalCoinSupply\": 210000000.0, \"PC 1\": -0.28005466828494874, \"PC 2\": 0.7893473812891827, \"PC 3\": 0.00825762177316383, \"Class\": 1}, {\"CoinName\": \"RenosCoin\", \"Algorithm\": \"Scrypt\", \"ProofType\": \"PoS\", \"TotalCoinsMined\": 36050365.0, \"TotalCoinSupply\": 34426423.0, \"PC 1\": -0.05153866124574624, \"PC 2\": -0.8258675882531213, \"PC 3\": -0.26109948686944084, \"Class\": 0}, {\"CoinName\": \"DubaiCoin\", \"Algorithm\": \"Dagger-Hashimoto\", \"ProofType\": \"PoW\", \"TotalCoinsMined\": 2232901.0, \"TotalCoinSupply\": 2232901.0, \"PC 1\": -0.3738710805043857, \"PC 2\": 1.9984481029246037, \"PC 3\": 0.30359880528723016, \"Class\": 1}, {\"CoinName\": \"VirtacoinPlus\", \"Algorithm\": \"X11\", \"ProofType\": \"PoW/PoS\", \"TotalCoinsMined\": 13162749.085802699, \"TotalCoinSupply\": 100000000.0, \"PC 1\": -0.100921922013389, \"PC 2\": -1.4476154064009819, \"PC 3\": -0.5203840745258045, \"Class\": 0}, {\"CoinName\": \"TajCoin\", \"Algorithm\": \"Blake2S\", \"ProofType\": \"PoW/PoS\", \"TotalCoinsMined\": 12184195.9258495, \"TotalCoinSupply\": 36900000.0, \"PC 1\": -0.10661793335869563, \"PC 2\": -2.13047050877404, \"PC 3\": -0.6483990514918814, \"Class\": 0}, {\"CoinName\": \"Impact\", \"Algorithm\": \"X11\", \"ProofType\": \"PoW/PoS\", \"TotalCoinsMined\": 110630387.85047099, \"TotalCoinSupply\": 110000000.0, \"PC 1\": -0.09957170061746184, \"PC 2\": -1.447391400404165, \"PC 3\": -0.5204296846011555, \"Class\": 0}, {\"CoinName\": \"EB3coin\", \"Algorithm\": \"Scrypt\", \"ProofType\": \"PoW\", \"TotalCoinsMined\": 64096052.0, \"TotalCoinSupply\": 4000000000.0, \"PC 1\": -0.35341318071197114, \"PC 2\": 1.0388844704366538, \"PC 3\": -0.008358849586193616, \"Class\": 1}, {\"CoinName\": \"Universe\", \"Algorithm\": \"Scrypt\", \"ProofType\": \"PoS\", \"TotalCoinsMined\": 0.0, \"TotalCoinSupply\": 112000000.0, \"PC 1\": -0.05203806788087595, \"PC 2\": -0.8259504422420691, \"PC 3\": -0.26108261746555383, \"Class\": 0}, {\"CoinName\": \"Atmos\", \"Algorithm\": \"PoS\", \"ProofType\": \"PoS\", \"TotalCoinsMined\": 111135836.889, \"TotalCoinSupply\": 110290030.0, \"PC 1\": 0.18419487213252442, \"PC 2\": -1.4244211013161403, \"PC 3\": -0.14295164348064202, \"Class\": 0}, {\"CoinName\": \"HappyCoin\", \"Algorithm\": \"X11\", \"ProofType\": \"PoW/PoS\", \"TotalCoinsMined\": 21521322.0099142, \"TotalCoinSupply\": 100000000.0, \"PC 1\": -0.10080613051310845, \"PC 2\": -1.4475961962161707, \"PC 3\": -0.5203879859238363, \"Class\": 0}, {\"CoinName\": \"Coinonat\", \"Algorithm\": \"NIST5\", \"ProofType\": \"PoW\", \"TotalCoinsMined\": 10123200.0, \"TotalCoinSupply\": 48252000.0, \"PC 1\": -0.22038923882655806, \"PC 2\": 0.4921329526355993, \"PC 3\": -0.035165668096842594, \"Class\": 1}, {\"CoinName\": \"MacronCoin\", \"Algorithm\": \"PoS\", \"ProofType\": \"PoS\", \"TotalCoinsMined\": 401421401.0, \"TotalCoinSupply\": 400000000.0, \"PC 1\": 0.18821620422019666, \"PC 2\": -1.4237539523318399, \"PC 3\": -0.1430874841661331, \"Class\": 0}, {\"CoinName\": \"Condensate\", \"Algorithm\": \"X11\", \"ProofType\": \"PoW/PoS\", \"TotalCoinsMined\": 121665451.643876, \"TotalCoinSupply\": 500000000.0, \"PC 1\": -0.09941883218754188, \"PC 2\": -1.4473660431148785, \"PC 3\": -0.5204348503794968, \"Class\": 0}, {\"CoinName\": \"Independent Money System\", \"Algorithm\": \"Scrypt\", \"ProofType\": \"PoW/PoS\", \"TotalCoinsMined\": 5368934.0, \"TotalCoinSupply\": 21212121.0, \"PC 1\": -0.1752763208535474, \"PC 2\": -1.1982434975783476, \"PC 3\": -0.5369668859903703, \"Class\": 0}, {\"CoinName\": \"ArgusCoin\", \"Algorithm\": \"Scrypt\", \"ProofType\": \"PoW/PoS\", \"TotalCoinsMined\": 1148324.0, \"TotalCoinSupply\": 28600000.0, \"PC 1\": -0.17533478907018668, \"PC 2\": -1.198253197722053, \"PC 3\": -0.5369649109902656, \"Class\": 0}, {\"CoinName\": \"LomoCoin\", \"Algorithm\": \"Scrypt\", \"ProofType\": \"PoW/PoS\", \"TotalCoinsMined\": 500000.0, \"TotalCoinSupply\": 1000000000.0, \"PC 1\": -0.1753437717097829, \"PC 2\": -1.1982546981289033, \"PC 3\": -0.5369646123770253, \"Class\": 0}, {\"CoinName\": \"Bitcoin Scrypt\", \"Algorithm\": \"Scrypt\", \"ProofType\": \"PoW\", \"TotalCoinsMined\": 0.0, \"TotalCoinSupply\": 21000000.0, \"PC 1\": -0.3543010990699774, \"PC 2\": 1.0387372035142264, \"PC 3\": -0.008328836269523642, \"Class\": 1}, {\"CoinName\": \"ProCurrency\", \"Algorithm\": \"SHA-256\", \"ProofType\": \"PoS\", \"TotalCoinsMined\": 100545745.0, \"TotalCoinSupply\": 75000000000.0, \"PC 1\": 0.04285081149008862, \"PC 2\": -0.49391503924493674, \"PC 3\": -0.056024281250887605, \"Class\": 0}, {\"CoinName\": \"GoldReserve\", \"Algorithm\": \"X11\", \"ProofType\": \"PoW/PoS\", \"TotalCoinsMined\": 17171382.0, \"TotalCoinSupply\": 40000000.0, \"PC 1\": -0.10086639024470617, \"PC 2\": -1.4476061928733386, \"PC 3\": -0.5203859500727712, \"Class\": 0}, {\"CoinName\": \"BenjiRolls\", \"Algorithm\": \"Scrypt\", \"ProofType\": \"PoW\", \"TotalCoinsMined\": 20276099.146523997, \"TotalCoinSupply\": 35520400.0, \"PC 1\": -0.35402021382947696, \"PC 2\": 1.0387838031332481, \"PC 3\": -0.008338324550720509, \"Class\": 1}, {\"CoinName\": \"ParallelCoin\", \"Algorithm\": \"Scrypt\", \"ProofType\": \"PoW\", \"TotalCoinsMined\": 0.0, \"TotalCoinSupply\": 1000000.0, \"PC 1\": -0.3543010990413072, \"PC 2\": 1.0387372037281215, \"PC 3\": -0.00832883617130935, \"Class\": 1}, {\"CoinName\": \"GrowthCoin\", \"Algorithm\": \"Scrypt\", \"ProofType\": \"PoS\", \"TotalCoinsMined\": 295135466.361878, \"TotalCoinSupply\": 2000000000.0, \"PC 1\": -0.047949552278512775, \"PC 2\": -0.8252721640083502, \"PC 3\": -0.2612207355137802, \"Class\": 0}, {\"CoinName\": \"ILCoin\", \"Algorithm\": \"SHA-256\", \"ProofType\": \"PoW\", \"TotalCoinsMined\": 1317747500.0, \"TotalCoinSupply\": 2500000000.0, \"PC 1\": -0.24255019238250228, \"PC 2\": 1.37357082861519, \"PC 3\": 0.19616026540613185, \"Class\": 1}, {\"CoinName\": \"Phreak\", \"Algorithm\": \"PoS\", \"ProofType\": \"PoS\", \"TotalCoinsMined\": 11390225.974277198, \"TotalCoinSupply\": 30000000.0, \"PC 1\": 0.18281309403750293, \"PC 2\": -1.4246503419364949, \"PC 3\": -0.14290496708200429, \"Class\": 0}, {\"CoinName\": \"Degas Coin\", \"Algorithm\": \"Scrypt\", \"ProofType\": \"PoW/PoS\", \"TotalCoinsMined\": 21358764.0, \"TotalCoinSupply\": 105000000.0, \"PC 1\": -0.1750548134960376, \"PC 2\": -1.1982067496666948, \"PC 3\": -0.5369743688501082, \"Class\": 0}, {\"CoinName\": \"ZSEcoin\", \"Algorithm\": \"X11\", \"ProofType\": \"PoW/PoS\", \"TotalCoinsMined\": 0.0, \"TotalCoinSupply\": 2093500000.0, \"PC 1\": -0.1011042687327127, \"PC 2\": -1.447645679158007, \"PC 3\": -0.520377924800854, \"Class\": 0}, {\"CoinName\": \"HTML5 Coin\", \"Algorithm\": \"X15\", \"ProofType\": \"PoW/PoS\", \"TotalCoinsMined\": 40659020000.0, \"TotalCoinSupply\": 90000000000.0, \"PC 1\": 0.5829938794154549, \"PC 2\": -2.0487733187682275, \"PC 3\": -0.6958851860569438, \"Class\": 0}, {\"CoinName\": \"Ultimate Secure Cash\", \"Algorithm\": \"SHA-256\", \"ProofType\": \"PoS\", \"TotalCoinsMined\": 10343113.0, \"TotalCoinSupply\": 200084200.0, \"PC 1\": 0.041601339610465055, \"PC 2\": -0.49412154849826223, \"PC 3\": -0.05598170356650736, \"Class\": 0}, {\"CoinName\": \"EquiTrader\", \"Algorithm\": \"Scrypt\", \"ProofType\": \"PoW\", \"TotalCoinsMined\": 13673406.4325268, \"TotalCoinSupply\": 72000000.0, \"PC 1\": -0.35411168113367975, \"PC 2\": 1.0387686280298598, \"PC 3\": -0.008335234996778972, \"Class\": 1}, {\"CoinName\": \"QTUM\", \"Algorithm\": \"POS 3.0\", \"ProofType\": \"PoS\", \"TotalCoinsMined\": 100000000.0, \"TotalCoinSupply\": 100000000.0, \"PC 1\": 0.18039280650465747, \"PC 2\": -1.4368033584417998, \"PC 3\": -0.20844423702723242, \"Class\": 0}, {\"CoinName\": \"Quantum Resistant Ledger\", \"Algorithm\": \"CryptoNight-V7\", \"ProofType\": \"PoW\", \"TotalCoinsMined\": 69036016.8340164, \"TotalCoinSupply\": 105000000.0, \"PC 1\": -0.3263642936667668, \"PC 2\": 2.097732071466649, \"PC 3\": 0.3528159344190151, \"Class\": 1}, {\"CoinName\": \"Espers\", \"Algorithm\": \"536\", \"ProofType\": \"PoW/PoS\", \"TotalCoinsMined\": 22801882871.0, \"TotalCoinSupply\": 50000000000.0, \"PC 1\": 0.49697962441927446, \"PC 2\": -2.0897919243408887, \"PC 3\": -0.7617904709805918, \"Class\": 0}, {\"CoinName\": \"Nano\", \"Algorithm\": \"Blake2b\", \"ProofType\": \"PoW\", \"TotalCoinsMined\": 133248297.0, \"TotalCoinSupply\": 340282367.0, \"PC 1\": -0.44553397666161415, \"PC 2\": 2.2641463699879876, \"PC 3\": 0.3926853588536848, \"Class\": 1}, {\"CoinName\": \"ChanCoin\", \"Algorithm\": \"Cloverhash\", \"ProofType\": \"PoW\", \"TotalCoinsMined\": 18407259.0885883, \"TotalCoinSupply\": 30000000.0, \"PC 1\": -0.39235763397167406, \"PC 2\": 2.0284526960691514, \"PC 3\": 0.44186818962012087, \"Class\": 1}, {\"CoinName\": \"Dinastycoin\", \"Algorithm\": \"CryptoNight\", \"ProofType\": \"PoW\", \"TotalCoinsMined\": 1809467143.0, \"TotalCoinSupply\": 2000000000.0, \"PC 1\": -0.20888981381820254, \"PC 2\": 2.2512814708988613, \"PC 3\": 0.3457996405135247, \"Class\": 1}, {\"CoinName\": \"Denarius\", \"Algorithm\": \"NIST5\", \"ProofType\": \"PoW/PoS\", \"TotalCoinsMined\": 4171382.0, \"TotalCoinSupply\": 10000000.0, \"PC 1\": -0.04152128718918674, \"PC 2\": -1.7448737660920028, \"PC 3\": -0.5637984200777141, \"Class\": 0}, {\"CoinName\": \"DigitalPrice\", \"Algorithm\": \"X11\", \"ProofType\": \"PoW\", \"TotalCoinsMined\": 35138975.0, \"TotalCoinSupply\": 100000000.0, \"PC 1\": -0.2795678871096746, \"PC 2\": 0.7894281410125422, \"PC 3\": 0.008241179013882268, \"Class\": 1}, {\"CoinName\": \"Virta Unique Coin\", \"Algorithm\": \"NIST5\", \"ProofType\": \"PoW/PoS\", \"TotalCoinsMined\": 62942075.0, \"TotalCoinSupply\": 120000000.0, \"PC 1\": -0.04070713560389251, \"PC 2\": -1.7447386968581715, \"PC 3\": -0.5638259223906259, \"Class\": 0}, {\"CoinName\": \"Bitcoin Planet\", \"Algorithm\": \"Skein\", \"ProofType\": \"PoW/PoS\", \"TotalCoinsMined\": 6804362.0, \"TotalCoinSupply\": 100000000.0, \"PC 1\": -0.11368612114885923, \"PC 2\": -1.4357400951864285, \"PC 3\": -0.5915599041496512, \"Class\": 0}, {\"CoinName\": \"Unify\", \"Algorithm\": \"Scrypt\", \"ProofType\": \"PoW\", \"TotalCoinsMined\": 18133195.0, \"TotalCoinSupply\": 19276800.0, \"PC 1\": -0.35404989950593185, \"PC 2\": 1.038778878353265, \"PC 3\": -0.008337321697974886, \"Class\": 1}, {\"CoinName\": \"BritCoin\", \"Algorithm\": \"X13\", \"ProofType\": \"PoW/PoS\", \"TotalCoinsMined\": 21268092.0, \"TotalCoinSupply\": 30000000.0, \"PC 1\": 0.038342815197851605, \"PC 2\": -1.9675624316115579, \"PC 3\": -0.6012688299297466, \"Class\": 0}, {\"CoinName\": \"SocialCoin\", \"Algorithm\": \"Scrypt\", \"ProofType\": \"PoW\", \"TotalCoinsMined\": 5167775.0, \"TotalCoinSupply\": 75000000.0, \"PC 1\": -0.35422950984311324, \"PC 2\": 1.0387490798340837, \"PC 3\": -0.008331254797382861, \"Class\": 1}, {\"CoinName\": \"Octanox\", \"Algorithm\": \"X11\", \"ProofType\": \"PoW/PoS\", \"TotalCoinsMined\": 0.0, \"TotalCoinSupply\": 7905634.0, \"PC 1\": -0.10110426574297159, \"PC 2\": -1.4476456568530955, \"PC 3\": -0.5203779145590857, \"Class\": 0}, {\"CoinName\": \"ArcticCoin\", \"Algorithm\": \"X11\", \"ProofType\": \"PoW\", \"TotalCoinsMined\": 26042364.373555303, \"TotalCoinSupply\": 60000000.0, \"PC 1\": -0.27969390260564275, \"PC 2\": 0.7894072350520199, \"PC 3\": 0.008245435973424108, \"Class\": 1}, {\"CoinName\": \"DAS\", \"Algorithm\": \"X11\", \"ProofType\": \"PoW\", \"TotalCoinsMined\": 2622886.0, \"TotalCoinSupply\": 18900000.0, \"PC 1\": -0.2800183331117612, \"PC 2\": 0.7893534114103803, \"PC 3\": 0.00825639533089611, \"Class\": 1}, {\"CoinName\": \"Linda\", \"Algorithm\": \"Scrypt\", \"ProofType\": \"PoW/PoS\", \"TotalCoinsMined\": 9044930943.24243, \"TotalCoinSupply\": 50000000000.0, \"PC 1\": -0.05005113497808439, \"PC 2\": -1.1774687564068644, \"PC 3\": -0.5411971986085656, \"Class\": 0}, {\"CoinName\": \"LeviarCoin\", \"Algorithm\": \"CryptoNight\", \"ProofType\": \"PoW\", \"TotalCoinsMined\": 14161803.0, \"TotalCoinSupply\": 54000000.0, \"PC 1\": -0.23376021661908145, \"PC 2\": 2.2471554108969745, \"PC 3\": 0.346639764026693, \"Class\": 1}, {\"CoinName\": \"DeepOnion\", \"Algorithm\": \"X13\", \"ProofType\": \"PoW/PoS\", \"TotalCoinsMined\": 21917018.0492836, \"TotalCoinSupply\": 18898187.6216583, \"PC 1\": 0.03835180480104411, \"PC 2\": -1.9675609400911909, \"PC 3\": -0.6012691335404708, \"Class\": 0}, {\"CoinName\": \"Bitcore\", \"Algorithm\": \"Time Travel\", \"ProofType\": \"PoW\", \"TotalCoinsMined\": 17801865.1605478, \"TotalCoinSupply\": 21000000.0, \"PC 1\": -0.41675768884736747, \"PC 2\": 2.21945557346251, \"PC 3\": 0.43241622618380926, \"Class\": 1}, {\"CoinName\": \"gCn Coin\", \"Algorithm\": \"Scrypt\", \"ProofType\": \"PoW\", \"TotalCoinsMined\": 163055097500.0, \"TotalCoinSupply\": 200000000000.0, \"PC 1\": 1.9045045778283167, \"PC 2\": 1.4134782877986485, \"PC 3\": -0.08463152593779266, \"Class\": 1}, {\"CoinName\": \"SmartCash\", \"Algorithm\": \"Keccak\", \"ProofType\": \"PoW\", \"TotalCoinsMined\": 2241009149.22257, \"TotalCoinSupply\": 5000000000.0, \"PC 1\": -0.271995206736411, \"PC 2\": 1.4533161360999498, \"PC 3\": 0.18914042452424285, \"Class\": 1}, {\"CoinName\": \"Signatum\", \"Algorithm\": \"SkunkHash v2 Raptor\", \"ProofType\": \"PoS\", \"TotalCoinsMined\": 107972766.0, \"TotalCoinSupply\": 137500000.0, \"PC 1\": 0.23853711634972077, \"PC 2\": -1.4757573302654903, \"PC 3\": -0.19065169129807671, \"Class\": 0}, {\"CoinName\": \"Onix\", \"Algorithm\": \"X11\", \"ProofType\": \"PoW\", \"TotalCoinsMined\": 122475638.389743, \"TotalCoinSupply\": 1100000000.0, \"PC 1\": -0.27835801176456, \"PC 2\": 0.7896288527927554, \"PC 3\": 0.008200304871490472, \"Class\": 1}, {\"CoinName\": \"Cream\", \"Algorithm\": \"Skein\", \"ProofType\": \"PoW/PoS\", \"TotalCoinsMined\": 47331802.477423795, \"TotalCoinSupply\": 100000000.0, \"PC 1\": -0.1131246935968091, \"PC 2\": -1.435646952537731, \"PC 3\": -0.5915788689840024, \"Class\": 0}, {\"CoinName\": \"Bitcoin Cash\", \"Algorithm\": \"SHA-256\", \"ProofType\": \"PoW\", \"TotalCoinsMined\": 17995589.6469082, \"TotalCoinSupply\": 21000000.0, \"PC 1\": -0.2605556815198268, \"PC 2\": 1.3705836855911238, \"PC 3\": 0.19676849708212432, \"Class\": 1}, {\"CoinName\": \"Monoeci\", \"Algorithm\": \"X11\", \"ProofType\": \"PoW/PoS\", \"TotalCoinsMined\": 12569262.535930699, \"TotalCoinSupply\": 9507271.0, \"PC 1\": -0.10093014346630096, \"PC 2\": -1.4476167694203639, \"PC 3\": -0.5203837963591167, \"Class\": 0}, {\"CoinName\": \"CampusCoin\", \"Algorithm\": \"Scrypt\", \"ProofType\": \"PoW\", \"TotalCoinsMined\": 0.0, \"TotalCoinSupply\": 1010000000.0, \"PC 1\": -0.3543011004877285, \"PC 2\": 1.0387371929371179, \"PC 3\": -0.008328841126224918, \"Class\": 1}, {\"CoinName\": \"Draftcoin\", \"Algorithm\": \"Scrypt\", \"ProofType\": \"PoS\", \"TotalCoinsMined\": 18663297.348979898, \"TotalCoinSupply\": 17405891.19707116, \"PC 1\": -0.05177952466383557, \"PC 2\": -0.8259075480960774, \"PC 3\": -0.2610913504995795, \"Class\": 0}, {\"CoinName\": \"Vechain\", \"Algorithm\": \"VeChainThor Authority\", \"ProofType\": \"Proof of Authority\", \"TotalCoinsMined\": 55454734800.0, \"TotalCoinSupply\": 86712634466.0, \"PC 1\": 6.107730768044977, \"PC 2\": -2.572315105801264, \"PC 3\": 7.539018573268176, \"Class\": 2}, {\"CoinName\": \"Sojourn Coin\", \"Algorithm\": \"Scrypt\", \"ProofType\": \"PoW\", \"TotalCoinsMined\": 485214.0, \"TotalCoinSupply\": 10500000000.0, \"PC 1\": -0.3542943924112859, \"PC 2\": 1.0387382065925035, \"PC 3\": -0.00832911478506398, \"Class\": 1}, {\"CoinName\": \"Stakecoin\", \"Algorithm\": \"PoS\", \"ProofType\": \"PoS\", \"TotalCoinsMined\": 4000000.0, \"TotalCoinSupply\": 61599965.0, \"PC 1\": 0.1827107170241798, \"PC 2\": -1.424667326944923, \"PC 3\": -0.1429015089775498, \"Class\": 0}, {\"CoinName\": \"LiteBitcoin\", \"Algorithm\": \"Scrypt\", \"ProofType\": \"PoW\", \"TotalCoinsMined\": 0.0, \"TotalCoinSupply\": 1000000000.0, \"PC 1\": -0.3543011004733934, \"PC 2\": 1.0387371930440656, \"PC 3\": -0.008328841077117644, \"Class\": 1}, {\"CoinName\": \"FrazCoin\", \"Algorithm\": \"Scrypt\", \"ProofType\": \"PoW\", \"TotalCoinsMined\": 9704042.0, \"TotalCoinSupply\": 20000000.0, \"PC 1\": -0.35416666875464137, \"PC 2\": 1.0387595059492611, \"PC 3\": -0.008333377275515658, \"Class\": 1}, {\"CoinName\": \"Kronecoin\", \"Algorithm\": \"Scrypt\", \"ProofType\": \"PoW\", \"TotalCoinsMined\": 17453749.4042601, \"TotalCoinSupply\": 84000000.0, \"PC 1\": -0.3540593119739608, \"PC 2\": 1.0387773161175373, \"PC 3\": -0.008337004068934539, \"Class\": 1}, {\"CoinName\": \"AdCoin\", \"Algorithm\": \"Scrypt\", \"ProofType\": \"PoW\", \"TotalCoinsMined\": 32646731.063036, \"TotalCoinSupply\": 100000000.0, \"PC 1\": -0.3538488432774184, \"PC 2\": 1.0388122333884469, \"PC 3\": -0.008344113710238271, \"Class\": 1}, {\"CoinName\": \"Linx\", \"Algorithm\": \"Scrypt\", \"ProofType\": \"PoW\", \"TotalCoinsMined\": 33716526.0, \"TotalCoinSupply\": 100000000.0, \"PC 1\": -0.35383402338389497, \"PC 2\": 1.0388146920567665, \"PC 3\": -0.008344614321269542, \"Class\": 1}, {\"CoinName\": \"CoinonatX\", \"Algorithm\": \"Scrypt\", \"ProofType\": \"PoW/PoS\", \"TotalCoinsMined\": 19539588.0, \"TotalCoinSupply\": 48252000.0, \"PC 1\": -0.17508001450107305, \"PC 2\": -1.198210930001617, \"PC 3\": -0.5369735172871911, \"Class\": 0}, {\"CoinName\": \"Ethereum Dark\", \"Algorithm\": \"Scrypt\", \"ProofType\": \"PoW/PoS\", \"TotalCoinsMined\": 4200000.0, \"TotalCoinSupply\": 4200000.0, \"PC 1\": -0.1752925140983723, \"PC 2\": -1.1982461839122003, \"PC 3\": -0.5369663389036272, \"Class\": 0}, {\"CoinName\": \"Sumokoin\", \"Algorithm\": \"CryptoNight\", \"ProofType\": \"PoW\", \"TotalCoinsMined\": 8946653.0, \"TotalCoinSupply\": 88888888.0, \"PC 1\": -0.23383246226031937, \"PC 2\": 2.247143424746344, \"PC 3\": 0.3466422042871972, \"Class\": 1}, {\"CoinName\": \"Obsidian\", \"Algorithm\": \"SHA-512\", \"ProofType\": \"PoS\", \"TotalCoinsMined\": 25000000.0, \"TotalCoinSupply\": 91388946.0, \"PC 1\": 0.12398761870509654, \"PC 2\": -1.6914203584523022, \"PC 3\": -0.028525683606493456, \"Class\": 0}, {\"CoinName\": \"Cardano\", \"Algorithm\": \"Ouroboros\", \"ProofType\": \"PoS\", \"TotalCoinsMined\": 25927070538.0, \"TotalCoinSupply\": 45000000000.0, \"PC 1\": 0.8086171163291466, \"PC 2\": -1.3747804958173, \"PC 3\": -0.22000072003028448, \"Class\": 0}, {\"CoinName\": \"Regalcoin\", \"Algorithm\": \"X11\", \"ProofType\": \"PoW/PoS\", \"TotalCoinsMined\": 7262402.04264803, \"TotalCoinSupply\": 27000000.0, \"PC 1\": -0.10100365955014413, \"PC 2\": -1.447628966159627, \"PC 3\": -0.5203813130972181, \"Class\": 0}, {\"CoinName\": \"BitcoinZ\", \"Algorithm\": \"Equihash\", \"ProofType\": \"PoW\", \"TotalCoinsMined\": 5211553258.01514, \"TotalCoinSupply\": 21000000000.0, \"PC 1\": -0.2658543085942924, \"PC 2\": 1.919018663219192, \"PC 3\": 0.3820897300235272, \"Class\": 1}, {\"CoinName\": \"TrezarCoin\", \"Algorithm\": \"NeoScrypt\", \"ProofType\": \"PoW/PoS\", \"TotalCoinsMined\": 182638400.0, \"TotalCoinSupply\": 400000000.0, \"PC 1\": -0.16683405439643842, \"PC 2\": -0.7464589275502479, \"PC 3\": -0.3574227688570171, \"Class\": 0}, {\"CoinName\": \"Elements\", \"Algorithm\": \"X11\", \"ProofType\": \"PoW\", \"TotalCoinsMined\": 2702855668.85288, \"TotalCoinSupply\": 1800000000.0, \"PC 1\": -0.24261194968592564, \"PC 2\": 0.7955592329117985, \"PC 3\": 0.006992811415759424, \"Class\": 1}, {\"CoinName\": \"TerraNovaCoin\", \"Algorithm\": \"Scrypt\", \"ProofType\": \"PoW/PoS\", \"TotalCoinsMined\": 1140734.91680375, \"TotalCoinSupply\": 15733333.0, \"PC 1\": -0.17533489418348355, \"PC 2\": -1.1982532150261436, \"PC 3\": -0.536964907375766, \"Class\": 0}, {\"CoinName\": \"VIVO Coin\", \"Algorithm\": \"NeoScrypt\", \"ProofType\": \"PoW\", \"TotalCoinsMined\": 4165967.57499639, \"TotalCoinSupply\": 27000000.0, \"PC 1\": -0.3482568387679424, \"PC 2\": 1.4901239404550528, \"PC 3\": 0.17129628655593326, \"Class\": 1}, {\"CoinName\": \"Rupee\", \"Algorithm\": \"Lyra2REv2\", \"ProofType\": \"PoS\", \"TotalCoinsMined\": 24000000.0, \"TotalCoinSupply\": 24000000.0, \"PC 1\": -0.017372742461528715, \"PC 2\": -0.4972148389189257, \"PC 3\": 0.000763117940568481, \"Class\": 0}, {\"CoinName\": \"Bitcoin Gold\", \"Algorithm\": \"Equihash\", \"ProofType\": \"PoW\", \"TotalCoinsMined\": 17202361.088994, \"TotalCoinSupply\": 21000000.0, \"PC 1\": -0.33781173929758346, \"PC 2\": 1.9070809118546623, \"PC 3\": 0.3845205319290662, \"Class\": 1}, {\"CoinName\": \"WomenCoin\", \"Algorithm\": \"Scrypt\", \"ProofType\": \"PoW/PoS\", \"TotalCoinsMined\": 48459472454.0, \"TotalCoinSupply\": 25000000000.0, \"PC 1\": 0.4959594382855323, \"PC 2\": -1.086883572984197, \"PC 3\": -0.5596411286100976, \"Class\": 0}, {\"CoinName\": \"Theresa May Coin\", \"Algorithm\": \"SHA-256\", \"ProofType\": \"PoW/PoS\", \"TotalCoinsMined\": 92050800.0, \"TotalCoinSupply\": 100000000.0, \"PC 1\": -0.08057939087229457, \"PC 2\": -0.8662391573321637, \"PC 3\": -0.3319016948001357, \"Class\": 0}, {\"CoinName\": \"NamoCoin\", \"Algorithm\": \"NIST5\", \"ProofType\": \"PoW/PoS\", \"TotalCoinsMined\": 560563220.0, \"TotalCoinSupply\": 1200000000.0, \"PC 1\": -0.033813580144925505, \"PC 2\": -1.743595044980775, \"PC 3\": -0.5640587897371394, \"Class\": 0}, {\"CoinName\": \"LUXCoin\", \"Algorithm\": \"PHI1612\", \"ProofType\": \"PoW/PoS\", \"TotalCoinsMined\": 8305775.31777569, \"TotalCoinSupply\": 60000000.0, \"PC 1\": 0.02781410535714209, \"PC 2\": -1.9206693162782382, \"PC 3\": -0.4068855478389386, \"Class\": 0}, {\"CoinName\": \"Pirl\", \"Algorithm\": \"Dagger\", \"ProofType\": \"PoW\", \"TotalCoinsMined\": 33986980.0, \"TotalCoinSupply\": 156306732.71, \"PC 1\": -0.39322558222869963, \"PC 2\": 2.1236937606082558, \"PC 3\": 0.3628211632707396, \"Class\": 1}, {\"CoinName\": \"Xios\", \"Algorithm\": \"Scrypt\", \"ProofType\": \"PoW/PoS\", \"TotalCoinsMined\": 2149688.0, \"TotalCoinSupply\": 21000000.0, \"PC 1\": -0.17532091714108997, \"PC 2\": -1.1982508962446285, \"PC 3\": -0.536965379541687, \"Class\": 0}, {\"CoinName\": \"Bitcloud 2.0\", \"Algorithm\": \"Quark\", \"ProofType\": \"PoW/PoS\", \"TotalCoinsMined\": 30711550.5294042, \"TotalCoinSupply\": 200000000.0, \"PC 1\": 0.13120600278571304, \"PC 2\": -1.6867979490604026, \"PC 3\": -0.5628829028778977, \"Class\": 0}, {\"CoinName\": \"eBoost\", \"Algorithm\": \"Scrypt\", \"ProofType\": \"PoW\", \"TotalCoinsMined\": 99990001.493466, \"TotalCoinSupply\": 100000000.0, \"PC 1\": -0.3529159354248767, \"PC 2\": 1.0389670058217901, \"PC 3\": -0.008375627024509813, \"Class\": 1}, {\"CoinName\": \"KekCoin\", \"Algorithm\": \"POS 2.0\", \"ProofType\": \"PoS\", \"TotalCoinsMined\": 12330806.30517, \"TotalCoinSupply\": 21000000.0, \"PC 1\": 0.1027315350652929, \"PC 2\": -1.2625949446595452, \"PC 3\": -0.06430971304583255, \"Class\": 0}, {\"CoinName\": \"BlackholeCoin\", \"Algorithm\": \"Scrypt\", \"ProofType\": \"PoW/PoS\", \"TotalCoinsMined\": 16362544.992, \"TotalCoinSupply\": 14788275.990999999, \"PC 1\": -0.1751240261019439, \"PC 2\": -1.1982182313187766, \"PC 3\": -0.5369720304241282, \"Class\": 0}, {\"CoinName\": \"AltCommunity Coin\", \"Algorithm\": \"SkunkHash\", \"ProofType\": \"PoW/PoS\", \"TotalCoinsMined\": 0.0, \"TotalCoinSupply\": 5000000.0, \"PC 1\": -0.13177932321596691, \"PC 2\": -0.7556447559136568, \"PC 3\": -0.3373252530712824, \"Class\": 0}, {\"CoinName\": \"Pure\", \"Algorithm\": \"X11\", \"ProofType\": \"PoW/PoS\", \"TotalCoinsMined\": 0.0, \"TotalCoinSupply\": 3686860.0, \"PC 1\": -0.10110426573692399, \"PC 2\": -1.4476456568079767, \"PC 3\": -0.5203779145383681, \"Class\": 0}, {\"CoinName\": \"Rupaya\", \"Algorithm\": \"Quark\", \"ProofType\": \"PoS\", \"TotalCoinsMined\": 0.0, \"TotalCoinSupply\": 75000000.0, \"PC 1\": 0.2540931842261971, \"PC 2\": -1.3145631353715506, \"PC 3\": -0.28698677420438407, \"Class\": 0}, {\"CoinName\": \"Infinity Economics\", \"Algorithm\": \"SHA-256\", \"ProofType\": \"PoS\", \"TotalCoinsMined\": 8999999990.0, \"TotalCoinSupply\": 9000000000.0, \"PC 1\": 0.1661352475879135, \"PC 2\": -0.47346106196393845, \"PC 3\": -0.060188460837313176, \"Class\": 0}, {\"CoinName\": \"Pura\", \"Algorithm\": \"X11\", \"ProofType\": \"PoW\", \"TotalCoinsMined\": 175215859.0, \"TotalCoinSupply\": 350000000.0, \"PC 1\": -0.27762739921721774, \"PC 2\": 0.7897500716226598, \"PC 3\": 0.008175628744116616, \"Class\": 1}, {\"CoinName\": \"Innova\", \"Algorithm\": \"NeoScrypt\", \"ProofType\": \"PoW\", \"TotalCoinsMined\": 6375259.04, \"TotalCoinSupply\": 45000000.0, \"PC 1\": -0.34822623342897674, \"PC 2\": 1.490129017791657, \"PC 3\": 0.17129525262858633, \"Class\": 1}, {\"CoinName\": \"Bitdeal\", \"Algorithm\": \"Scrypt\", \"ProofType\": \"PoW\", \"TotalCoinsMined\": 0.0, \"TotalCoinSupply\": 300000000.0, \"PC 1\": -0.3543010994699295, \"PC 2\": 1.038737200530391, \"PC 3\": -0.008328837639614315, \"Class\": 1}, {\"CoinName\": \"Ellaism\", \"Algorithm\": \"Ethash\", \"ProofType\": \"PoW\", \"TotalCoinsMined\": 12756367.0, \"TotalCoinSupply\": 280000000.0, \"PC 1\": -0.34196307421372074, \"PC 2\": 1.9502658900526935, \"PC 3\": 0.30562118178518827, \"Class\": 1}, {\"CoinName\": \"Sakuracoin\", \"Algorithm\": \"Scrypt\", \"ProofType\": \"PoW\", \"TotalCoinsMined\": 0.0, \"TotalCoinSupply\": 105100000.0, \"PC 1\": -0.35430109919053643, \"PC 2\": 1.0387372026147976, \"PC 3\": -0.008328836682515184, \"Class\": 1}, {\"CoinName\": \"GoByte\", \"Algorithm\": \"NeoScrypt\", \"ProofType\": \"PoW\", \"TotalCoinsMined\": 5832306.875, \"TotalCoinSupply\": 31800000.0, \"PC 1\": -0.34823375493870984, \"PC 2\": 1.4901277700868714, \"PC 3\": 0.17129550676812239, \"Class\": 1}, {\"CoinName\": \"Castle\", \"Algorithm\": \"Quark\", \"ProofType\": \"DPoS\", \"TotalCoinsMined\": 0.0, \"TotalCoinSupply\": 50000000.0, \"PC 1\": 4.424355390933124, \"PC 2\": -0.6283930194358348, \"PC 3\": -0.3314844591519894, \"Class\": 0}, {\"CoinName\": \"Magnet\", \"Algorithm\": \"X11\", \"ProofType\": \"PoW/PoS\", \"TotalCoinsMined\": 38198594.8342105, \"TotalCoinSupply\": 144000000.0, \"PC 1\": -0.10057509993752672, \"PC 2\": -1.4475578679557461, \"PC 3\": -0.5203957902773716, \"Class\": 0}, {\"CoinName\": \"Lamden Tau\", \"Algorithm\": \"DPoS\", \"ProofType\": \"DPoS\", \"TotalCoinsMined\": 288090567.493887, \"TotalCoinSupply\": 500000000.0, \"PC 1\": 6.926148241626715, \"PC 2\": -0.36938774352607695, \"PC 3\": -0.18518125651009032, \"Class\": 0}, {\"CoinName\": \"Electra\", \"Algorithm\": \"NIST5\", \"ProofType\": \"PoW/PoS\", \"TotalCoinsMined\": 28399150208.0, \"TotalCoinSupply\": 30000000000.0, \"PC 1\": 0.35183495546204313, \"PC 2\": -1.6796150054145902, \"PC 3\": -0.5770860107094562, \"Class\": 0}, {\"CoinName\": \"Bitcoin Diamond\", \"Algorithm\": \"X13\", \"ProofType\": \"PoW/PoS\", \"TotalCoinsMined\": 183534024.88980702, \"TotalCoinSupply\": 210000000.0, \"PC 1\": 0.04059068858814788, \"PC 2\": -1.9671895040200988, \"PC 3\": -0.6013447632313627, \"Class\": 0}, {\"CoinName\": \"SHIELD\", \"Algorithm\": \"Multiple\", \"ProofType\": \"PoW\", \"TotalCoinsMined\": 481730566.566176, \"TotalCoinSupply\": 660000000.0, \"PC 1\": -0.3008183438525488, \"PC 2\": 1.7228506932657968, \"PC 3\": 0.28656575559283204, \"Class\": 1}, {\"CoinName\": \"Cash & Back Coin\", \"Algorithm\": \"Scrypt\", \"ProofType\": \"PoW/PoS\", \"TotalCoinsMined\": 110976977.29338, \"TotalCoinSupply\": 210000000.0, \"PC 1\": -0.17381333050536468, \"PC 2\": -1.198000784716795, \"PC 3\": -0.5370163062497294, \"Class\": 0}, {\"CoinName\": \"UltraNote\", \"Algorithm\": \"CryptoNight\", \"ProofType\": \"PoW\", \"TotalCoinsMined\": 19281821413.4924, \"TotalCoinSupply\": 85000000000.0, \"PC 1\": 0.03315498716195639, \"PC 2\": 2.291436619159156, \"PC 3\": 0.33762303673277294, \"Class\": 1}, {\"CoinName\": \"BitCoal\", \"Algorithm\": \"CryptoNight\", \"ProofType\": \"PoW\", \"TotalCoinsMined\": 4500000.0, \"TotalCoinSupply\": 12500000.0, \"PC 1\": -0.2338940617356685, \"PC 2\": 2.2471332059927267, \"PC 3\": 0.3466442854756311, \"Class\": 1}, {\"CoinName\": \"DaxxCoin\", \"Algorithm\": \"Ethash\", \"ProofType\": \"PoW\", \"TotalCoinsMined\": 520891780.0, \"TotalCoinSupply\": 10000000000.0, \"PC 1\": -0.33492387674731033, \"PC 2\": 1.9514336140628605, \"PC 3\": 0.3053833518535302, \"Class\": 1}, {\"CoinName\": \"Bulwark\", \"Algorithm\": \"NIST5\", \"ProofType\": \"PoS\", \"TotalCoinsMined\": 13247178.880728599, \"TotalCoinSupply\": 27716121.0, \"PC 1\": 0.08191706907271534, \"PC 2\": -1.3725475122080328, \"PC 3\": -0.287920910612501, \"Class\": 0}, {\"CoinName\": \"Kalkulus\", \"Algorithm\": \"Quark\", \"ProofType\": \"PoS\", \"TotalCoinsMined\": 16955764.902064003, \"TotalCoinSupply\": 20000000.0, \"PC 1\": 0.25432807290076653, \"PC 2\": -1.3145241660047766, \"PC 3\": -0.28699470839225427, \"Class\": 0}, {\"CoinName\": \"AC3\", \"Algorithm\": \"X11\", \"ProofType\": \"PoW\", \"TotalCoinsMined\": 80316207.0, \"TotalCoinSupply\": 550000000.0, \"PC 1\": -0.27894204653529425, \"PC 2\": 0.7895319652845877, \"PC 3\": 0.008220036097632898, \"Class\": 1}, {\"CoinName\": \"CHIPS\", \"Algorithm\": \"SHA-256\", \"ProofType\": \"PoW\", \"TotalCoinsMined\": 0.0, \"TotalCoinSupply\": 21000000.0, \"PC 1\": -0.26080497483132503, \"PC 2\": 1.3705423270235737, \"PC 3\": 0.1967769181265498, \"Class\": 1}, {\"CoinName\": \"Lethean\", \"Algorithm\": \"CryptoNight-V7\", \"ProofType\": \"PoW\", \"TotalCoinsMined\": 441250233.377, \"TotalCoinSupply\": 999481516.0, \"PC 1\": -0.32120800296585766, \"PC 2\": 2.0985875074356506, \"PC 3\": 0.35264175221319527, \"Class\": 1}, {\"CoinName\": \"GermanCoin\", \"Algorithm\": \"Scrypt\", \"ProofType\": \"PoW/PoS\", \"TotalCoinsMined\": 4911500269.41, \"TotalCoinSupply\": 50000000000.0, \"PC 1\": -0.10731164384420436, \"PC 2\": -1.1869684602281443, \"PC 3\": -0.5392629578297791, \"Class\": 0}, {\"CoinName\": \"LiteCoin Ultra\", \"Algorithm\": \"Scrypt\", \"ProofType\": \"PoW/PoS\", \"TotalCoinsMined\": 8419402.321, \"TotalCoinSupply\": 150000000.0, \"PC 1\": -0.17523406283133522, \"PC 2\": -1.1982364881823628, \"PC 3\": -0.5369683140908605, \"Class\": 0}, {\"CoinName\": \"PopularCoin\", \"Algorithm\": \"Scrypt\", \"ProofType\": \"PoW\", \"TotalCoinsMined\": 3964201248.87125, \"TotalCoinSupply\": 4999999999.0, \"PC 1\": -0.2993849364032715, \"PC 2\": 1.0478479206453764, \"PC 3\": -0.010183910511787483, \"Class\": 1}, {\"CoinName\": \"PhantomX\", \"Algorithm\": \"X11\", \"ProofType\": \"PoW/PoS\", \"TotalCoinsMined\": 45174214.1078625, \"TotalCoinSupply\": 50000000.0, \"PC 1\": -0.10047846639077862, \"PC 2\": -1.4475418351545062, \"PC 3\": -0.5203990540600009, \"Class\": 0}, {\"CoinName\": \"HTML Coin\", \"Algorithm\": \"SHA-256\", \"ProofType\": \"PoW/PoS\", \"TotalCoinsMined\": 0.0, \"TotalCoinSupply\": 90000000000.0, \"PC 1\": -0.08185470156573886, \"PC 2\": -0.8664516755829985, \"PC 3\": -0.33185906105973123, \"Class\": 0}, {\"CoinName\": \"Photon\", \"Algorithm\": \"BLAKE256\", \"ProofType\": \"PoW\", \"TotalCoinsMined\": 30089671530.5228, \"TotalCoinSupply\": 90000000000.0, \"PC 1\": 0.2629937533176933, \"PC 2\": 1.210115263441048, \"PC 3\": 0.11119220084318157, \"Class\": 1}, {\"CoinName\": \"Sucre\", \"Algorithm\": \"X11\", \"ProofType\": \"PoW\", \"TotalCoinsMined\": 4229040.50393462, \"TotalCoinSupply\": 19800000.0, \"PC 1\": -0.2799960830182826, \"PC 2\": 0.7893571027635196, \"PC 3\": 0.008255643725740142, \"Class\": 1}, {\"CoinName\": \"Fantasy Cash\", \"Algorithm\": \"Scrypt\", \"ProofType\": \"PoW/PoS\", \"TotalCoinsMined\": 0.0, \"TotalCoinSupply\": 4600000.0, \"PC 1\": -0.17535069679419693, \"PC 2\": -1.1982558366140066, \"PC 3\": -0.536964373513666, \"Class\": 0}, {\"CoinName\": \"SparksPay\", \"Algorithm\": \"NeoScrypt\", \"ProofType\": \"PoW\", \"TotalCoinsMined\": 7847417.33355824, \"TotalCoinSupply\": 21000000.0, \"PC 1\": -0.3482058395523447, \"PC 2\": 1.4901324014527897, \"PC 3\": 0.1712945638492952, \"Class\": 1}, {\"CoinName\": \"Digiwage\", \"Algorithm\": \"Quark\", \"ProofType\": \"PoS\", \"TotalCoinsMined\": 27299680.0, \"TotalCoinSupply\": 120000000.0, \"PC 1\": 0.25447136724785463, \"PC 2\": -1.314500394054323, \"PC 3\": -0.2869995493231384, \"Class\": 0}, {\"CoinName\": \"GunCoin\", \"Algorithm\": \"NeoScrypt\", \"ProofType\": \"PoW\", \"TotalCoinsMined\": 299797953.0, \"TotalCoinSupply\": 500000000.0, \"PC 1\": -0.3441614428473067, \"PC 2\": 1.4908033749523997, \"PC 3\": 0.17115794311005125, \"Class\": 1}, {\"CoinName\": \"IrishCoin\", \"Algorithm\": \"Scrypt\", \"ProofType\": \"PoW\", \"TotalCoinsMined\": 45483049.3398182, \"TotalCoinSupply\": 64000000.0, \"PC 1\": -0.35367102141761053, \"PC 2\": 1.0388417349871972, \"PC 3\": -0.008350120294474909, \"Class\": 1}, {\"CoinName\": \"Trollcoin\", \"Algorithm\": \"Scrypt\", \"ProofType\": \"PoW/PoS\", \"TotalCoinsMined\": 591022748.0, \"TotalCoinSupply\": 900000000.0, \"PC 1\": -0.16716324654600118, \"PC 2\": -1.1968975214713045, \"PC 3\": -0.5372409472766043, \"Class\": 0}, {\"CoinName\": \"Litecoin Plus\", \"Algorithm\": \"Scrypt\", \"ProofType\": \"PoW/PoS\", \"TotalCoinsMined\": 2504486.227718, \"TotalCoinSupply\": 4000000.0, \"PC 1\": -0.1753160020888252, \"PC 2\": -1.198250080643776, \"PC 3\": -0.536965545486198, \"Class\": 0}, {\"CoinName\": \"Monkey Project\", \"Algorithm\": \"X11\", \"ProofType\": \"PoS\", \"TotalCoinsMined\": 4407252.0, \"TotalCoinSupply\": 21000000.0, \"PC 1\": 0.02226941706744545, \"PC 2\": -1.0753301324557998, \"PC 3\": -0.24449822042345898, \"Class\": 0}, {\"CoinName\": \"Pioneer Coin\", \"Algorithm\": \"X11\", \"ProofType\": \"PoW\", \"TotalCoinsMined\": 8478104.33969947, \"TotalCoinSupply\": 23000000.0, \"PC 1\": -0.27993722064518906, \"PC 2\": 0.7893668681883407, \"PC 3\": 0.008253655358655595, \"Class\": 1}, {\"CoinName\": \"UnitedBitcoin\", \"Algorithm\": \"SHA-256\", \"ProofType\": \"PoW\", \"TotalCoinsMined\": 20166000.0, \"TotalCoinSupply\": 20166000.0, \"PC 1\": -0.26052561477478753, \"PC 2\": 1.3705886737701982, \"PC 3\": 0.19676748144170034, \"Class\": 1}, {\"CoinName\": \"Interzone\", \"Algorithm\": \"C11\", \"ProofType\": \"PoW\", \"TotalCoinsMined\": 11916588.09471, \"TotalCoinSupply\": 23000000.0, \"PC 1\": -0.2890996292888347, \"PC 2\": 1.158892834227383, \"PC 3\": 0.039107806340958645, \"Class\": 1}, {\"CoinName\": \"OP Coin\", \"Algorithm\": \"Scrypt\", \"ProofType\": \"PoW/PoS\", \"TotalCoinsMined\": 0.0, \"TotalCoinSupply\": 2000000000.0, \"PC 1\": -0.17535069965464234, \"PC 2\": -1.1982558579543119, \"PC 3\": -0.5369643833125151, \"Class\": 0}, {\"CoinName\": \"Valorbit\", \"Algorithm\": \"Scrypt\", \"ProofType\": \"PoW/PoS\", \"TotalCoinsMined\": 0.0, \"TotalCoinSupply\": 9.223372e+16, \"PC 1\": -0.307569567383195, \"PC 2\": -2.1846724495036383, \"PC 3\": -0.9898982731984011, \"Class\": 0}, {\"CoinName\": \"TokenPay\", \"Algorithm\": \"POS 3.0\", \"ProofType\": \"PoS\", \"TotalCoinsMined\": 20445861.534425102, \"TotalCoinSupply\": 25000000.0, \"PC 1\": 0.17929074132781045, \"PC 2\": -1.436986193838681, \"PC 3\": -0.20840700926336225, \"Class\": 0}, {\"CoinName\": \"1717 Masonic Commemorative Token\", \"Algorithm\": \"Ethash\", \"ProofType\": \"PoS\", \"TotalCoinsMined\": 1618033.0, \"TotalCoinSupply\": 1618033.0, \"PC 1\": -0.039854342088609905, \"PC 2\": 0.08555264944468552, \"PC 3\": 0.05287261459159069, \"Class\": 1}, {\"CoinName\": \"My Big Coin\", \"Algorithm\": \"Scrypt\", \"ProofType\": \"PoW and PoS\", \"TotalCoinsMined\": 9399342.52839847, \"TotalCoinSupply\": 30000000.0, \"PC 1\": -0.3139128479619066, \"PC 2\": -0.4581794593155938, \"PC 3\": -0.2119421750531498, \"Class\": 0}, {\"CoinName\": \"TurtleCoin\", \"Algorithm\": \"CryptoNight\", \"ProofType\": \"PoW\", \"TotalCoinsMined\": 53139835213.77, \"TotalCoinSupply\": 1000000000000.0, \"PC 1\": 0.5021895085278666, \"PC 2\": 2.369241396826506, \"PC 3\": 0.3217746703446962, \"Class\": 1}, {\"CoinName\": \"MUNcoin\", \"Algorithm\": \"SkunkHash\", \"ProofType\": \"PoW\", \"TotalCoinsMined\": 4818338.98949984, \"TotalCoinSupply\": 16600000.0, \"PC 1\": -0.31066297692557066, \"PC 2\": 1.4813593580680198, \"PC 3\": 0.19130802945249265, \"Class\": 1}, {\"CoinName\": \"Unified Society USDEX\", \"Algorithm\": \"Scrypt\", \"ProofType\": \"PoW/PoS\", \"TotalCoinsMined\": 234846265.78215697, \"TotalCoinSupply\": 232000000.0, \"PC 1\": -0.17209736647425233, \"PC 2\": -1.1977161009580686, \"PC 3\": -0.5370742710481013, \"Class\": 0}, {\"CoinName\": \"Niobio Cash\", \"Algorithm\": \"CryptoNight\", \"ProofType\": \"PoW\", \"TotalCoinsMined\": 133932467.77410801, \"TotalCoinSupply\": 336000000.0, \"PC 1\": -0.23210103128795576, \"PC 2\": 2.2474306721667334, \"PC 3\": 0.3465837159043804, \"Class\": 1}, {\"CoinName\": \"Bitcoin Private\", \"Algorithm\": \"Equihash\", \"ProofType\": \"PoW\", \"TotalCoinsMined\": 0.0, \"TotalCoinSupply\": 21000000.0, \"PC 1\": -0.3380500439958794, \"PC 2\": 1.9070413763336225, \"PC 3\": 0.38452858178182425, \"Class\": 1}, {\"CoinName\": \"Skeincoin\", \"Algorithm\": \"Skein\", \"ProofType\": \"PoW\", \"TotalCoinsMined\": 0.0, \"TotalCoinSupply\": 17000000.0, \"PC 1\": -0.29273078426324906, \"PC 2\": 0.801237307802896, \"PC 3\": -0.06292118231306632, \"Class\": 1}, {\"CoinName\": \"ShareChain\", \"Algorithm\": \"Scrypt\", \"ProofType\": \"PoW\", \"TotalCoinsMined\": 10000000000.0, \"TotalCoinSupply\": 10000000000.0, \"PC 1\": -0.21577088658641488, \"PC 2\": 1.0617197099543205, \"PC 3\": -0.013008389858079644, \"Class\": 1}, {\"CoinName\": \"Travelflex\", \"Algorithm\": \"Dagger\", \"ProofType\": \"PoW\", \"TotalCoinsMined\": 107325266.02778299, \"TotalCoinSupply\": 100000000.0, \"PC 1\": -0.39220962520841085, \"PC 2\": 2.123862311756224, \"PC 3\": 0.3627868448626772, \"Class\": 1}, {\"CoinName\": \"KREDS\", \"Algorithm\": \"Lyra2REv2\", \"ProofType\": \"PoW\", \"TotalCoinsMined\": 643795911.540095, \"TotalCoinSupply\": 1100000000.0, \"PC 1\": -0.31104972850471474, \"PC 2\": 1.3688972473240901, \"PC 3\": 0.2532268596248396, \"Class\": 1}, {\"CoinName\": \"Tokyo Coin\", \"Algorithm\": \"X13\", \"ProofType\": \"PoS\", \"TotalCoinsMined\": 230298925.0, \"TotalCoinSupply\": 800000000.0, \"PC 1\": 0.16455115203145348, \"PC 2\": -1.5947766368485634, \"PC 3\": -0.3254848932096096, \"Class\": 0}, {\"CoinName\": \"BiblePay\", \"Algorithm\": \"Proof-of-BibleHash\", \"ProofType\": \"POBh\", \"TotalCoinsMined\": 1772091549.88818, \"TotalCoinSupply\": 5200000000.0, \"PC 1\": 0.7530997465690354, \"PC 2\": -2.058194370972111, \"PC 3\": 14.167454847979158, \"Class\": 2}, {\"CoinName\": \"LitecoinCash\", \"Algorithm\": \"SHA-256 + Hive\", \"ProofType\": \"PoW + Hive\", \"TotalCoinsMined\": 638382332.208514, \"TotalCoinSupply\": 840000000.0, \"PC 1\": 0.23568609992413977, \"PC 2\": -2.862505237317375, \"PC 3\": 9.27327535358466, \"Class\": 2}, {\"CoinName\": \"BitFlip\", \"Algorithm\": \"Scrypt\", \"ProofType\": \"PoW\", \"TotalCoinsMined\": 12446100.00278, \"TotalCoinSupply\": 40000000.0, \"PC 1\": -0.35412868299161243, \"PC 2\": 1.0387658077012012, \"PC 3\": -0.008334660521029576, \"Class\": 1}, {\"CoinName\": \"LottoCoin\", \"Algorithm\": \"Scrypt\", \"ProofType\": \"PoW\", \"TotalCoinsMined\": 14491014421.0, \"TotalCoinSupply\": 18406979840.0, \"PC 1\": -0.15355677401276152, \"PC 2\": 1.072041144758503, \"PC 3\": -0.015110003399604407, \"Class\": 1}, {\"CoinName\": \"LeafCoin\", \"Algorithm\": \"Scrypt\", \"ProofType\": \"PoW\", \"TotalCoinsMined\": 0.0, \"TotalCoinSupply\": 21000000000.0, \"PC 1\": -0.3543011291437908, \"PC 2\": 1.038736979149058, \"PC 3\": -0.008328939291501752, \"Class\": 1}, {\"CoinName\": \"Cerberus\", \"Algorithm\": \"NeoScrypt\", \"ProofType\": \"PoW\", \"TotalCoinsMined\": 0.0, \"TotalCoinSupply\": 31500000.0, \"PC 1\": -0.3483145500176892, \"PC 2\": 1.4901143659248042, \"PC 3\": 0.17129823600027175, \"Class\": 1}, {\"CoinName\": \"Bitcoin Hush\", \"Algorithm\": \"Equihash\", \"ProofType\": \"PoW\", \"TotalCoinsMined\": 0.0, \"TotalCoinSupply\": 21000000.0, \"PC 1\": -0.3380500439958794, \"PC 2\": 1.9070413763336225, \"PC 3\": 0.38452858178182425, \"Class\": 1}, {\"CoinName\": \"Crypto Improvement Fund\", \"Algorithm\": \"X11\", \"ProofType\": \"PoW\", \"TotalCoinsMined\": 211297638.500483, \"TotalCoinSupply\": 500000000.0, \"PC 1\": -0.27712755772253167, \"PC 2\": 0.7898329953764964, \"PC 3\": 0.008158743522249946, \"Class\": 1}, {\"CoinName\": \"Stipend\", \"Algorithm\": \"C11\", \"ProofType\": \"PoW/PoS\", \"TotalCoinsMined\": 11251342.1879021, \"TotalCoinSupply\": 19340594.0, \"PC 1\": -0.11015844269795191, \"PC 2\": -1.0781017349460411, \"PC 3\": -0.4895274196636224, \"Class\": 0}, {\"CoinName\": \"Poa Network\", \"Algorithm\": \"Proof-of-Authority\", \"ProofType\": \"PoA\", \"TotalCoinsMined\": 204479039.0, \"TotalCoinSupply\": 252460800.0, \"PC 1\": -0.34851777682595975, \"PC 2\": -4.315414914894251, \"PC 3\": 11.649032972587364, \"Class\": 2}, {\"CoinName\": \"Pushi\", \"Algorithm\": \"X11\", \"ProofType\": \"PoW/PoS\", \"TotalCoinsMined\": 2167827.1, \"TotalCoinSupply\": 25000000.0, \"PC 1\": -0.1010742348094968, \"PC 2\": -1.4476406748027508, \"PC 3\": -0.5203789290787165, \"Class\": 0}, {\"CoinName\": \"Ellerium\", \"Algorithm\": \"XEVAN\", \"ProofType\": \"PoW/PoS\", \"TotalCoinsMined\": 419275.38, \"TotalCoinSupply\": 60000000.0, \"PC 1\": 0.06948509705011408, \"PC 2\": -1.606350145556704, \"PC 3\": -0.41360183151639407, \"Class\": 0}, {\"CoinName\": \"Velox\", \"Algorithm\": \"Scrypt\", \"ProofType\": \"PoS\", \"TotalCoinsMined\": 25570013.1348022, \"TotalCoinSupply\": 124000000.0, \"PC 1\": -0.0516838459262228, \"PC 2\": -0.8258916757983614, \"PC 3\": -0.26109458302385163, \"Class\": 0}, {\"CoinName\": \"Ontology\", \"Algorithm\": \"VBFT\", \"ProofType\": \"PoS\", \"TotalCoinsMined\": 650848625.0, \"TotalCoinSupply\": 1000000000.0, \"PC 1\": 0.2155709855183307, \"PC 2\": -1.4085807762701843, \"PC 3\": -0.19713488509692795, \"Class\": 0}, {\"CoinName\": \"Callisto Network\", \"Algorithm\": \"Ethash\", \"ProofType\": \"PoW\", \"TotalCoinsMined\": 247612453.0, \"TotalCoinSupply\": 6500000000.0, \"PC 1\": -0.33870961644458686, \"PC 2\": 1.950805584188698, \"PC 3\": 0.30551125022740155, \"Class\": 1}, {\"CoinName\": \"Curium\", \"Algorithm\": \"X11\", \"ProofType\": \"PoW\", \"TotalCoinsMined\": 0.0, \"TotalCoinSupply\": 22000000.0, \"PC 1\": -0.2800546680154472, \"PC 2\": 0.7893473832997957, \"PC 3\": 0.00825762269637901, \"Class\": 1}, {\"CoinName\": \"BitTube\", \"Algorithm\": \"CryptoNight\", \"ProofType\": \"PoW\", \"TotalCoinsMined\": 80049082.9057215, \"TotalCoinSupply\": 1000000000.0, \"PC 1\": -0.2328474799924089, \"PC 2\": 2.247306826966385, \"PC 3\": 0.34660892739831517, \"Class\": 1}, {\"CoinName\": \"Dinero\", \"Algorithm\": \"NeoScrypt\", \"ProofType\": \"PoW\", \"TotalCoinsMined\": 0.0, \"TotalCoinSupply\": 100000000.0, \"PC 1\": -0.348314550115885, \"PC 2\": 1.4901143651922133, \"PC 3\": 0.1712982356638872, \"Class\": 1}, {\"CoinName\": \"Poseidon\", \"Algorithm\": \"Scrypt\", \"ProofType\": \"PoW\", \"TotalCoinsMined\": 4070212.1493015997, \"TotalCoinSupply\": 21000000.0, \"PC 1\": -0.35424471432876525, \"PC 2\": 1.038746557925358, \"PC 3\": -0.008330740927165082, \"Class\": 1}, {\"CoinName\": \"Aidos Kuneen\", \"Algorithm\": \"IMesh\", \"ProofType\": \"PoW\", \"TotalCoinsMined\": 25000000.0, \"TotalCoinSupply\": 25000000.0, \"PC 1\": -0.4485089583516321, \"PC 2\": 2.1325144712333226, \"PC 3\": 0.36248282512929114, \"Class\": 1}, {\"CoinName\": \"Bitspace\", \"Algorithm\": \"NIST5\", \"ProofType\": \"PoW/PoS\", \"TotalCoinsMined\": 13787854.6277781, \"TotalCoinSupply\": 50000000.0, \"PC 1\": -0.04138807003312418, \"PC 2\": -1.744851665352754, \"PC 3\": -0.5638029203069177, \"Class\": 0}, {\"CoinName\": \"Snowgem\", \"Algorithm\": \"Equihash\", \"ProofType\": \"PoW\", \"TotalCoinsMined\": 0.0, \"TotalCoinSupply\": 84096000.0, \"PC 1\": -0.3380500440863288, \"PC 2\": 1.9070413756588263, \"PC 3\": 0.3845285814719774, \"Class\": 1}, {\"CoinName\": \"Briacoin\", \"Algorithm\": \"Scrypt\", \"ProofType\": \"PoW/PoS\", \"TotalCoinsMined\": 845637.81347436, \"TotalCoinSupply\": 3000000.0, \"PC 1\": -0.17533898215209495, \"PC 2\": -1.198253893100221, \"PC 3\": -0.5369647692224115, \"Class\": 0}, {\"CoinName\": \"Ignition\", \"Algorithm\": \"Scrypt\", \"ProofType\": \"PoW/PoS\", \"TotalCoinsMined\": 1182153.5, \"TotalCoinSupply\": 5000000.0, \"PC 1\": -0.17533432039552468, \"PC 2\": -1.1982531197206256, \"PC 3\": -0.5369649267049026, \"Class\": 0}, {\"CoinName\": \"Bitrolium\", \"Algorithm\": \"Equihash\", \"ProofType\": \"PoW\", \"TotalCoinsMined\": 71355477.0, \"TotalCoinSupply\": 70000000.0, \"PC 1\": -0.3370615550249793, \"PC 2\": 1.9072053693420745, \"PC 3\": 0.3844951907130235, \"Class\": 1}, {\"CoinName\": \"Bitcoin Interest\", \"Algorithm\": \"Equihash\", \"ProofType\": \"PoW\", \"TotalCoinsMined\": 0.0, \"TotalCoinSupply\": 22300000.0, \"PC 1\": -0.33805004399774286, \"PC 2\": 1.907041376319719, \"PC 3\": 0.3845285817754402, \"Class\": 1}, {\"CoinName\": \"MedicCoin\", \"Algorithm\": \"Scrypt\", \"ProofType\": \"PoS\", \"TotalCoinsMined\": 267297676.3125, \"TotalCoinSupply\": 500000000.0, \"PC 1\": -0.04833518766511652, \"PC 2\": -0.8253361264822264, \"PC 3\": -0.2612077014410856, \"Class\": 0}, {\"CoinName\": \"Alpenschillling\", \"Algorithm\": \"Lyra2Z\", \"ProofType\": \"PoW\", \"TotalCoinsMined\": 27340501.6514783, \"TotalCoinSupply\": 300000000.0, \"PC 1\": -0.36343483216169753, \"PC 2\": 2.054292410018755, \"PC 3\": 0.270957533892996, \"Class\": 1}, {\"CoinName\": \"Zelcash\", \"Algorithm\": \"Equihash\", \"ProofType\": \"PoW/PoS\", \"TotalCoinsMined\": 0.0, \"TotalCoinSupply\": 210000000.0, \"PC 1\": -0.1590996420145438, \"PC 2\": -0.3299516659913123, \"PC 3\": -0.14410695647097996, \"Class\": 0}, {\"CoinName\": \"Bitcoin Green\", \"Algorithm\": \"Green Protocol\", \"ProofType\": \"PoS\", \"TotalCoinsMined\": 9803691.3618195, \"TotalCoinSupply\": 21000000.0, \"PC 1\": 0.17575913429821655, \"PC 2\": -1.4178913678983913, \"PC 3\": -0.11769559182254888, \"Class\": 0}, {\"CoinName\": \"Deviant Coin\", \"Algorithm\": \"PoS\", \"ProofType\": \"PoS\", \"TotalCoinsMined\": 21876586.8530324, \"TotalCoinSupply\": 88000000.0, \"PC 1\": 0.18295836174943078, \"PC 2\": -1.424626242159233, \"PC 3\": -0.14290987446420625, \"Class\": 0}, {\"CoinName\": \"Abjcoin\", \"Algorithm\": \"Scrypt\", \"ProofType\": \"PoW/PoS\", \"TotalCoinsMined\": 9880502.37178894, \"TotalCoinSupply\": 30000000.0, \"PC 1\": -0.17521382200717317, \"PC 2\": -1.1982331289092667, \"PC 3\": -0.536968997224013, \"Class\": 0}, {\"CoinName\": \"Profit Hunters Coin\", \"Algorithm\": \"Scrypt\", \"ProofType\": \"PoW/PoS\", \"TotalCoinsMined\": 0.0, \"TotalCoinSupply\": 100000000.0, \"PC 1\": -0.17535069693095467, \"PC 2\": -1.1982558376342858, \"PC 3\": -0.5369643739821486, \"Class\": 0}, {\"CoinName\": \"Semux\", \"Algorithm\": \"Semux BFT consensus\", \"ProofType\": \"DPoS\", \"TotalCoinsMined\": 1231147.0, \"TotalCoinSupply\": 100000000.0, \"PC 1\": 7.535118238172994, \"PC 2\": -0.3129145765469269, \"PC 3\": -0.24924453558822637, \"Class\": 0}, {\"CoinName\": \"BitBlocks\", \"Algorithm\": \"Scrypt\", \"ProofType\": \"PoW/PoS\", \"TotalCoinsMined\": 0.0, \"TotalCoinSupply\": 500000000.0, \"PC 1\": -0.17535069750436255, \"PC 2\": -1.1982558419121863, \"PC 3\": -0.5369643759464363, \"Class\": 0}, {\"CoinName\": \"FuturoCoin\", \"Algorithm\": \"X11\", \"ProofType\": \"PoW\", \"TotalCoinsMined\": 31801461.1867843, \"TotalCoinSupply\": 100000000.0, \"PC 1\": -0.2796141217642201, \"PC 2\": 0.7894204705336527, \"PC 3\": 0.008242740805001245, \"Class\": 1}, {\"CoinName\": \"Carebit\", \"Algorithm\": \"Quark\", \"ProofType\": \"PoW/PoS\", \"TotalCoinsMined\": 139739596.506702, \"TotalCoinSupply\": 200000000.0, \"PC 1\": 0.13271637077926887, \"PC 2\": -1.6865473741199408, \"PC 3\": -0.5629339226019964, \"Class\": 0}, {\"CoinName\": \"Zealium\", \"Algorithm\": \"PoS\", \"ProofType\": \"PoS\", \"TotalCoinsMined\": 11075254.0929996, \"TotalCoinSupply\": 80000000.0, \"PC 1\": 0.18280873065321226, \"PC 2\": -1.424651066358923, \"PC 3\": -0.14290481993630408, \"Class\": 0}, {\"CoinName\": \"Monero Classic\", \"Algorithm\": \"CryptoNight\", \"ProofType\": \"PoW\", \"TotalCoinsMined\": 16016864.0, \"TotalCoinSupply\": 18400000.0, \"PC 1\": -0.23373451836594458, \"PC 2\": 2.2471596746926434, \"PC 3\": 0.3466388961248692, \"Class\": 1}, {\"CoinName\": \"Proton\", \"Algorithm\": \"X16R\", \"ProofType\": \"PoS\", \"TotalCoinsMined\": 4403800.0, \"TotalCoinSupply\": 45000000.0, \"PC 1\": -0.014241597242114991, \"PC 2\": -0.6354120890455913, \"PC 3\": -0.10031454456642454, \"Class\": 0}, {\"CoinName\": \"iDealCash\", \"Algorithm\": \"Scrypt\", \"ProofType\": \"PoW/PoS\", \"TotalCoinsMined\": 1404157529.46026, \"TotalCoinSupply\": 5121951220.0, \"PC 1\": -0.15589887802970837, \"PC 2\": -1.1950287704108498, \"PC 3\": -0.5376214748031863, \"Class\": 0}, {\"CoinName\": \"Jumpcoin\", \"Algorithm\": \"NIST5\", \"ProofType\": \"PoW\", \"TotalCoinsMined\": 21069346.252259802, \"TotalCoinSupply\": 21000000.0, \"PC 1\": -0.22023760157521297, \"PC 2\": 0.4921581100315469, \"PC 3\": -0.03517079021717289, \"Class\": 1}, {\"CoinName\": \"Infinex\", \"Algorithm\": \"Lyra2RE\", \"ProofType\": \"PoW\", \"TotalCoinsMined\": 5097689.71077377, \"TotalCoinSupply\": 26280000.0, \"PC 1\": -0.41941924026053123, \"PC 2\": 2.1429759793619665, \"PC 3\": 0.3799840642731956, \"Class\": 1}, {\"CoinName\": \"Bitcoin Incognito\", \"Algorithm\": \"XEVAN\", \"ProofType\": \"PoS/PoW\", \"TotalCoinsMined\": 10904963.0923455, \"TotalCoinSupply\": 21000000.0, \"PC 1\": 0.34593650277701715, \"PC 2\": -1.1921838825361053, \"PC 3\": -0.044543168877282754, \"Class\": 0}, {\"CoinName\": \"KEYCO\", \"Algorithm\": \"Tribus\", \"ProofType\": \"PoW\", \"TotalCoinsMined\": 795447.0, \"TotalCoinSupply\": 18000000.0, \"PC 1\": -0.4335288720281046, \"PC 2\": 2.136657547772219, \"PC 3\": 0.3647181537100312, \"Class\": 1}, {\"CoinName\": \"HollyWoodCoin\", \"Algorithm\": \"Scrypt\", \"ProofType\": \"PoS\", \"TotalCoinsMined\": 38706809.466534995, \"TotalCoinSupply\": 26000000.0, \"PC 1\": -0.0515018614482268, \"PC 2\": -0.8258614829594463, \"PC 3\": -0.2611007299124672, \"Class\": 0}, {\"CoinName\": \"GINcoin\", \"Algorithm\": \"Lyra2Z\", \"ProofType\": \"PoW\", \"TotalCoinsMined\": 6986399.70430446, \"TotalCoinSupply\": 10500000.0, \"PC 1\": -0.36371679758257575, \"PC 2\": 2.054245634069752, \"PC 3\": 0.27096706002598664, \"Class\": 1}, {\"CoinName\": \"PlatinCoin\", \"Algorithm\": \"CryptoNight\", \"ProofType\": \"PoW\", \"TotalCoinsMined\": 84300.0, \"TotalCoinSupply\": 600000518.0, \"PC 1\": -0.23395523337010507, \"PC 2\": 2.247123051277061, \"PC 3\": 0.3466463489194207, \"Class\": 1}, {\"CoinName\": \"Loki\", \"Algorithm\": \"CryptoNight Heavy\", \"ProofType\": \"PoW\", \"TotalCoinsMined\": 19153632.0, \"TotalCoinSupply\": 150000000.0, \"PC 1\": 0.20436527140376928, \"PC 2\": 2.2943961590974378, \"PC 3\": 0.3161465922088126, \"Class\": 1}, {\"CoinName\": \"Newton Coin\", \"Algorithm\": \"CryptoNight\", \"ProofType\": \"PoW\", \"TotalCoinsMined\": 41294520017.0, \"TotalCoinSupply\": 184000000000.0, \"PC 1\": 0.3380972582209156, \"PC 2\": 2.3420264940466984, \"PC 3\": 0.32732169816836365, \"Class\": 1}, {\"CoinName\": \"Swisscoin\", \"Algorithm\": \"Scrypt\", \"ProofType\": \"PoW/PoS\", \"TotalCoinsMined\": 10200000000.0, \"TotalCoinSupply\": 10200000000.0, \"PC 1\": -0.03404988008507487, \"PC 2\": -1.1748136802249962, \"PC 3\": -0.5417375182565913, \"Class\": 0}, {\"CoinName\": \"Xt3ch\", \"Algorithm\": \"Scrypt\", \"ProofType\": \"PoS\", \"TotalCoinsMined\": 7630000.0154, \"TotalCoinSupply\": 44000000.0, \"PC 1\": -0.05193236922014349, \"PC 2\": -0.8259329057809479, \"PC 3\": -0.26108618759363034, \"Class\": 0}, {\"CoinName\": \"MassGrid\", \"Algorithm\": \"Jump Consistent Hash\", \"ProofType\": \"PoW\", \"TotalCoinsMined\": 135862416.039898, \"TotalCoinSupply\": 168000000.0, \"PC 1\": -0.3522000702589296, \"PC 2\": 2.164521221468489, \"PC 3\": 0.40979535551524443, \"Class\": 1}, {\"CoinName\": \"TheVig\", \"Algorithm\": \"SHA-256D\", \"ProofType\": \"PoW/PoS\", \"TotalCoinsMined\": 33238183.7225834, \"TotalCoinSupply\": 100000000.0, \"PC 1\": 0.003060251074092411, \"PC 2\": -2.187078457036652, \"PC 3\": -0.7076300205280678, \"Class\": 0}, {\"CoinName\": \"PluraCoin\", \"Algorithm\": \"CryptoNight\", \"ProofType\": \"PoW\", \"TotalCoinsMined\": 560085952.404637, \"TotalCoinSupply\": 1000000000.0, \"PC 1\": -0.22619751835254837, \"PC 2\": 2.248410077133953, \"PC 3\": 0.3463842939251603, \"Class\": 1}, {\"CoinName\": \"EmaratCoin\", \"Algorithm\": \"Scrypt\", \"ProofType\": \"PoW/PoS\", \"TotalCoinsMined\": 21599339.6728, \"TotalCoinSupply\": 84000000.0, \"PC 1\": -0.17505148076568253, \"PC 2\": -1.1982061965363426, \"PC 3\": -0.5369744813244792, \"Class\": 0}, {\"CoinName\": \"Dekado\", \"Algorithm\": \"X15\", \"ProofType\": \"PoS\", \"TotalCoinsMined\": 30284196.369129, \"TotalCoinSupply\": 90000000.0, \"PC 1\": 0.14347583886916385, \"PC 2\": -1.7698424135103574, \"PC 3\": -0.4009907524131495, \"Class\": 0}, {\"CoinName\": \"Lynx\", \"Algorithm\": \"Scrypt\", \"ProofType\": \"HPoW\", \"TotalCoinsMined\": 77872059787.8998, \"TotalCoinSupply\": 92000000000.0, \"PC 1\": 1.681008942088555, \"PC 2\": -0.15306842533060255, \"PC 3\": -0.27987009296854976, \"Class\": 0}, {\"CoinName\": \"Poseidon Quark\", \"Algorithm\": \"Quark\", \"ProofType\": \"PoS\", \"TotalCoinsMined\": 2716264.95302831, \"TotalCoinSupply\": 650000000.0, \"PC 1\": 0.2541308118819193, \"PC 2\": -1.314556898834366, \"PC 3\": -0.2869880481054782, \"Class\": 0}, {\"CoinName\": \"BitcoinWSpectrum\", \"Algorithm\": \"SHA-256\", \"ProofType\": \"PoS\", \"TotalCoinsMined\": 57811001.000889, \"TotalCoinSupply\": 100262205.0, \"PC 1\": 0.04225891348255611, \"PC 2\": -0.4940124538199319, \"PC 3\": -0.056003915696261175, \"Class\": 0}, {\"CoinName\": \"Muse\", \"Algorithm\": \"DPoS\", \"ProofType\": \"PoS\", \"TotalCoinsMined\": 18194936.0, \"TotalCoinSupply\": 18081806.0, \"PC 1\": 2.752147165342454, \"PC 2\": -1.0561781447297307, \"PC 3\": -0.14055727128866236, \"Class\": 0}, {\"CoinName\": \"Motion\", \"Algorithm\": \"X16R\", \"ProofType\": \"PoW\", \"TotalCoinsMined\": 8125865.02097646, \"TotalCoinSupply\": 22075700.0, \"PC 1\": -0.3164530666776566, \"PC 2\": 1.2292841102607066, \"PC 3\": 0.15243749455327207, \"Class\": 1}, {\"CoinName\": \"PlusOneCoin\", \"Algorithm\": \"HMQ1725\", \"ProofType\": \"PoW\", \"TotalCoinsMined\": 8645406.16776286, \"TotalCoinSupply\": 21000000.0, \"PC 1\": -0.3690759230285262, \"PC 2\": 2.04582751724793, \"PC 3\": 0.3663950654123866, \"Class\": 1}, {\"CoinName\": \"Axe\", \"Algorithm\": \"X11\", \"ProofType\": \"PoW\", \"TotalCoinsMined\": 4993030.69736615, \"TotalCoinSupply\": 21000000.0, \"PC 1\": -0.2799854994465266, \"PC 2\": 0.7893588585997933, \"PC 3\": 0.008255286210285848, \"Class\": 1}, {\"CoinName\": \"Trivechain\", \"Algorithm\": \"X16R\", \"ProofType\": \"PoW/PoS\", \"TotalCoinsMined\": 36923120.6205934, \"TotalCoinSupply\": 82546564.0, \"PC 1\": -0.13710373547716134, \"PC 2\": -1.0076427470710811, \"PC 3\": -0.3762115187573214, \"Class\": 0}, {\"CoinName\": \"Dystem\", \"Algorithm\": \"Quark\", \"ProofType\": \"PoS\", \"TotalCoinsMined\": 7082392.24744494, \"TotalCoinSupply\": 21000000.0, \"PC 1\": 0.25419129684403186, \"PC 2\": -1.3145468576059052, \"PC 3\": -0.2869900881479051, \"Class\": 0}, {\"CoinName\": \"Giant\", \"Algorithm\": \"Quark\", \"ProofType\": \"PoW/PoS\", \"TotalCoinsMined\": 5919489.76813523, \"TotalCoinSupply\": 5151000.0, \"PC 1\": 0.13086255808505118, \"PC 2\": -1.6868549256107397, \"PC 3\": -0.5628713004648497, \"Class\": 0}, {\"CoinName\": \"Peony Coin\", \"Algorithm\": \"Scrypt\", \"ProofType\": \"PoS\", \"TotalCoinsMined\": 1042012.45227735, \"TotalCoinSupply\": 16880000000.0, \"PC 1\": -0.052023656896003995, \"PC 2\": -0.8259482267547341, \"PC 3\": -0.2610831874186985, \"Class\": 0}, {\"CoinName\": \"SafeCoin\", \"Algorithm\": \"Zhash\", \"ProofType\": \"PoW/PoS\", \"TotalCoinsMined\": 0.0, \"TotalCoinSupply\": 36000000.0, \"PC 1\": -0.037343511551061886, \"PC 2\": -2.172610073038352, \"PC 3\": -0.627456045270525, \"Class\": 0}, {\"CoinName\": \"Absolute Coin\", \"Algorithm\": \"Lyra2REv2\", \"ProofType\": \"PoW/PoS\", \"TotalCoinsMined\": 13332617.9413708, \"TotalCoinSupply\": 52500000.0, \"PC 1\": -0.14083314705524724, \"PC 2\": -0.8695447511758114, \"PC 3\": -0.27511364696858565, \"Class\": 0}, {\"CoinName\": \"Vitae\", \"Algorithm\": \"Quark\", \"ProofType\": \"PoS\", \"TotalCoinsMined\": 66053877.6256106, \"TotalCoinSupply\": 100000000.0, \"PC 1\": 0.2550082300551337, \"PC 2\": -1.3144113265671808, \"PC 3\": -0.2870176842694692, \"Class\": 0}, {\"CoinName\": \"HexCoin\", \"Algorithm\": \"Scrypt\", \"ProofType\": \"PoW\", \"TotalCoinsMined\": 1416663.06600024, \"TotalCoinSupply\": 22105263.0, \"PC 1\": -0.35428147400598026, \"PC 2\": 1.0387404593643286, \"PC 3\": -0.008329499203082352, \"Class\": 1}, {\"CoinName\": \"TPCash\", \"Algorithm\": \"Scrypt\", \"ProofType\": \"PoW/PoS\", \"TotalCoinsMined\": 5403802.49590733, \"TotalCoinSupply\": 1000000000.0, \"PC 1\": -0.17527583922259465, \"PC 2\": -1.1982434279093237, \"PC 3\": -0.5369669071136512, \"Class\": 0}, {\"CoinName\": \"Webchain\", \"Algorithm\": \"CryptoNight-V7\", \"ProofType\": \"PoW\", \"TotalCoinsMined\": 15580199.3087496, \"TotalCoinSupply\": 1750000000.0, \"PC 1\": -0.327104820677402, \"PC 2\": 2.0976091984362353, \"PC 3\": 0.3528409410151997, \"Class\": 1}, {\"CoinName\": \"Ryo\", \"Algorithm\": \"Cryptonight-GPU\", \"ProofType\": \"PoW\", \"TotalCoinsMined\": 4890897.0, \"TotalCoinSupply\": 88188888.0, \"PC 1\": -0.43210118181695684, \"PC 2\": 2.0949766977044004, \"PC 3\": 0.4073673874331784, \"Class\": 1}, {\"CoinName\": \"MUSDcoin\", \"Algorithm\": \"Scrypt\", \"ProofType\": \"PoW/PoS\", \"TotalCoinsMined\": 0.0, \"TotalCoinSupply\": 100000000.0, \"PC 1\": -0.17535069693095467, \"PC 2\": -1.1982558376342858, \"PC 3\": -0.5369643739821486, \"Class\": 0}, {\"CoinName\": \"Urals Coin\", \"Algorithm\": \"XEVAN\", \"ProofType\": \"PoW\", \"TotalCoinsMined\": 14746153.0962884, \"TotalCoinSupply\": 210000000.0, \"PC 1\": -0.10926683485526364, \"PC 2\": 0.6306758200515493, \"PC 3\": 0.11502700080268084, \"Class\": 1}, {\"CoinName\": \"Qwertycoin\", \"Algorithm\": \"CryptoNight Heavy\", \"ProofType\": \"PoW\", \"TotalCoinsMined\": 99553110528.8022, \"TotalCoinSupply\": 184470000000.0, \"PC 1\": 1.5832111693860325, \"PC 2\": 2.52314923063532, \"PC 3\": 0.26956872630395856, \"Class\": 1}, {\"CoinName\": \"ARENON\", \"Algorithm\": \"X11\", \"ProofType\": \"PoS\", \"TotalCoinsMined\": 19269509.94, \"TotalCoinSupply\": 55000000.0, \"PC 1\": 0.022475304215008065, \"PC 2\": -1.0752959754669256, \"PC 3\": -0.2445051753908404, \"Class\": 0}, {\"CoinName\": \"EUNO\", \"Algorithm\": \"X11\", \"ProofType\": \"PoW/PoS\", \"TotalCoinsMined\": 30771125.976086702, \"TotalCoinSupply\": 50000000.0, \"PC 1\": -0.10067799269731387, \"PC 2\": -1.4475749372147944, \"PC 3\": -0.5203923141283067, \"Class\": 0}, {\"CoinName\": \"MMOCoin\", \"Algorithm\": \"Scrypt\", \"ProofType\": \"PoS\", \"TotalCoinsMined\": 107763867.917675, \"TotalCoinSupply\": 260000000.0, \"PC 1\": -0.050545212786811, \"PC 2\": -0.8257027742959623, \"PC 3\": -0.2611330463437368, \"Class\": 0}, {\"CoinName\": \"Ketan\", \"Algorithm\": \"PoS\", \"ProofType\": \"PoS\", \"TotalCoinsMined\": 9327131.59708692, \"TotalCoinSupply\": 210000000.0, \"PC 1\": 0.1827845136862732, \"PC 2\": -1.4246550853915483, \"PC 3\": -0.1429040025399737, \"Class\": 0}, {\"CoinName\": \"NIX\", \"Algorithm\": \"Lyra2REv2\", \"ProofType\": \"PoW\", \"TotalCoinsMined\": 0.0, \"TotalCoinSupply\": 175000000.0, \"PC 1\": -0.319968246541835, \"PC 2\": 1.3674176459776493, \"PC 3\": 0.2535281287592075, \"Class\": 1}, {\"CoinName\": \"Safe Trade Coin\", \"Algorithm\": \"Scrypt\", \"ProofType\": \"PoS\", \"TotalCoinsMined\": 0.0, \"TotalCoinSupply\": 840000000.0, \"PC 1\": -0.052038068924478265, \"PC 2\": -0.8259504500278477, \"PC 3\": -0.2610826210405575, \"Class\": 0}, {\"CoinName\": \"Project Pai\", \"Algorithm\": \"SHA-256\", \"ProofType\": \"PoW\", \"TotalCoinsMined\": 2100000000.0, \"TotalCoinSupply\": 2100000000.0, \"PC 1\": -0.23171363018599495, \"PC 2\": 1.3753686535534195, \"PC 3\": 0.195794211954422, \"Class\": 1}, {\"CoinName\": \"Mont Blanc\", \"Algorithm\": \"Scrypt\", \"ProofType\": \"PoS\", \"TotalCoinsMined\": 0.0, \"TotalCoinSupply\": 70000000.0, \"PC 1\": -0.05203806782066806, \"PC 2\": -0.8259504417928901, \"PC 3\": -0.26108261725930376, \"Class\": 0}, {\"CoinName\": \"XDNA\", \"Algorithm\": \"Keccak\", \"ProofType\": \"PoW/PoS\", \"TotalCoinsMined\": 4672513.84432375, \"TotalCoinSupply\": 366000000.0, \"PC 1\": -0.12402481996868207, \"PC 2\": -0.78881654062352, \"PC 3\": -0.33844859529039123, \"Class\": 0}, {\"CoinName\": \"PAXEX\", \"Algorithm\": \"X11\", \"ProofType\": \"PoS\", \"TotalCoinsMined\": 4504639.0, \"TotalCoinSupply\": 100000000.0, \"PC 1\": 0.022270766058517147, \"PC 2\": -1.0753299094799107, \"PC 3\": -0.24449826638369737, \"Class\": 0}, {\"CoinName\": \"Azart\", \"Algorithm\": \"X11\", \"ProofType\": \"PoW\", \"TotalCoinsMined\": 5015881.37315389, \"TotalCoinSupply\": 25000000.0, \"PC 1\": -0.2799851829013309, \"PC 2\": 0.7893589110738387, \"PC 3\": 0.008255275497658867, \"Class\": 1}, {\"CoinName\": \"Apollon\", \"Algorithm\": \"Quark\", \"ProofType\": \"PoW/PoS\", \"TotalCoinsMined\": 0.0, \"TotalCoinSupply\": 250000000.0, \"PC 1\": 0.13078055490805013, \"PC 2\": -1.6868685327636856, \"PC 3\": -0.5628685316392837, \"Class\": 0}, {\"CoinName\": \"ThunderStake\", \"Algorithm\": \"Scrypt\", \"ProofType\": \"PoW/PoS\", \"TotalCoinsMined\": 1059954080.4343901, \"TotalCoinSupply\": 18000000000.0, \"PC 1\": -0.16066715467614645, \"PC 2\": -1.1958199776102005, \"PC 3\": -0.5374604678818963, \"Class\": 0}, {\"CoinName\": \"Kcash\", \"Algorithm\": \"SHA-512\", \"ProofType\": \"Zero-Knowledge Proof\", \"TotalCoinsMined\": 1000000000.0, \"TotalCoinSupply\": 1000000000.0, \"PC 1\": 0.06229532445166679, \"PC 2\": -2.2275658465725106, \"PC 3\": 0.22377651009118935, \"Class\": 0}, {\"CoinName\": \"Xchange\", \"Algorithm\": \"X16R\", \"ProofType\": \"PoW\", \"TotalCoinsMined\": 9753753.61515394, \"TotalCoinSupply\": 100000000.0, \"PC 1\": -0.3164305156117489, \"PC 2\": 1.2292878507407083, \"PC 3\": 0.15243673239939384, \"Class\": 1}, {\"CoinName\": \"Acute Angle Cloud\", \"Algorithm\": \"ECC 256K1\", \"ProofType\": \"DPOS\", \"TotalCoinsMined\": 1000000000.0, \"TotalCoinSupply\": 1000000000.0, \"PC 1\": -0.1918779891991319, \"PC 2\": -4.240059401274404, \"PC 3\": 13.926757633705034, \"Class\": 2}, {\"CoinName\": \"Traid\", \"Algorithm\": \"NeoScrypt\", \"ProofType\": \"PoW/PoS\", \"TotalCoinsMined\": 0.0, \"TotalCoinSupply\": 252000000.0, \"PC 1\": -0.1693641480815091, \"PC 2\": -0.7468786767370157, \"PC 3\": -0.3573373024072202, \"Class\": 0}, {\"CoinName\": \"CrypticCoin\", \"Algorithm\": \"Equihash\", \"ProofType\": \"PoW\", \"TotalCoinsMined\": 4235111504.0, \"TotalCoinSupply\": 7600000000.0, \"PC 1\": -0.27938095914808914, \"PC 2\": 1.9167746882179733, \"PC 3\": 0.3825467221936046, \"Class\": 1}, {\"CoinName\": \"Bettex coin\", \"Algorithm\": \"XEVAN\", \"ProofType\": \"PoS\", \"TotalCoinsMined\": 6787405.18013774, \"TotalCoinSupply\": 50000000.0, \"PC 1\": 0.19288594397827333, \"PC 2\": -1.2340301143028252, \"PC 3\": -0.13772305486102243, \"Class\": 0}, {\"CoinName\": \"ZestCoin\", \"Algorithm\": \"Quark\", \"ProofType\": \"PoW\", \"TotalCoinsMined\": 0.0, \"TotalCoinSupply\": 29300000.0, \"PC 1\": -0.04816984702784278, \"PC 2\": 0.5501245099002728, \"PC 3\": -0.034232993230809805, \"Class\": 1}, {\"CoinName\": \"X-CASH\", \"Algorithm\": \"CryptoNight Heavy X\", \"ProofType\": \"PoW\", \"TotalCoinsMined\": 0.0, \"TotalCoinSupply\": 100000000000.0, \"PC 1\": -0.3793558273612475, \"PC 2\": 2.2861785420264478, \"PC 3\": 0.3789050103885716, \"Class\": 1}, {\"CoinName\": \"Actinium\", \"Algorithm\": \"Lyra2Z\", \"ProofType\": \"PoW\", \"TotalCoinsMined\": 13634850.0, \"TotalCoinSupply\": 84000000.0, \"PC 1\": -0.36362469655521407, \"PC 2\": 2.054260913159816, \"PC 3\": 0.27096394851968497, \"Class\": 1}, {\"CoinName\": \"ETHER-1\", \"Algorithm\": \"Ethash\", \"ProofType\": \"PoW\", \"TotalCoinsMined\": 0.0, \"TotalCoinSupply\": 13666237.0, \"PC 1\": -0.34213978807327683, \"PC 2\": 1.9502365754362538, \"PC 3\": 0.3056271524408643, \"Class\": 1}, {\"CoinName\": \"Bitcoin SV\", \"Algorithm\": \"SHA-256\", \"ProofType\": \"PoW\", \"TotalCoinsMined\": 17992514.6469233, \"TotalCoinSupply\": 21000000.0, \"PC 1\": -0.2605557241178715, \"PC 2\": 1.3705836785239705, \"PC 3\": 0.19676849852107214, \"Class\": 1}, {\"CoinName\": \"BitMoney\", \"Algorithm\": \"XEVAN\", \"ProofType\": \"Pos\", \"TotalCoinsMined\": 208515864.36734298, \"TotalCoinSupply\": 70000000000.0, \"PC 1\": 0.32727759964395264, \"PC 2\": -1.1412330988540846, \"PC 3\": 0.008261301636492547, \"Class\": 0}, {\"CoinName\": \"Bitcoiin2Gen\", \"Algorithm\": \"Ethash\", \"ProofType\": \"PoW\", \"TotalCoinsMined\": 0.0, \"TotalCoinSupply\": 100000000.0, \"PC 1\": -0.34213978819703805, \"PC 2\": 1.9502365745129357, \"PC 3\": 0.3056271520169035, \"Class\": 1}, {\"CoinName\": \"FREDEnergy\", \"Algorithm\": \"CryptoNight\", \"ProofType\": \"PoW\", \"TotalCoinsMined\": 1867054873.2839699, \"TotalCoinSupply\": 8080000000.0, \"PC 1\": -0.20809205840035488, \"PC 2\": 2.251413757527584, \"PC 3\": 0.34577266245156474, \"Class\": 1}, {\"CoinName\": \"Zenad\", \"Algorithm\": \"Quark\", \"ProofType\": \"POS / MN\", \"TotalCoinsMined\": 0.0, \"TotalCoinSupply\": 46000000.0, \"PC 1\": 0.2944013198395564, \"PC 2\": -1.3537505305892865, \"PC 3\": -0.586562775288422, \"Class\": 0}, {\"CoinName\": \"C25 Coin\", \"Algorithm\": \"SkunkHash\", \"ProofType\": \"PoW\", \"TotalCoinsMined\": 0.0, \"TotalCoinSupply\": 6100000.0, \"PC 1\": -0.31072972546981475, \"PC 2\": 1.481348284378206, \"PC 3\": 0.19131028424799407, \"Class\": 1}, {\"CoinName\": \"HerbCoin\", \"Algorithm\": \"Quark\", \"ProofType\": \"PoW/PoS\", \"TotalCoinsMined\": 35312185.7437239, \"TotalCoinSupply\": 54000000.0, \"PC 1\": 0.13126973569896816, \"PC 2\": -1.6867873740370252, \"PC 3\": -0.5628850550302902, \"Class\": 0}, {\"CoinName\": \"Aquachain\", \"Algorithm\": \"Argon2\", \"ProofType\": \"PoW\", \"TotalCoinsMined\": 0.0, \"TotalCoinSupply\": 42000000.0, \"PC 1\": -0.3865304000917057, \"PC 2\": 2.226687755276095, \"PC 3\": 0.3200226660225455, \"Class\": 1}, {\"CoinName\": \"Universal Molecule\", \"Algorithm\": \"Blake\", \"ProofType\": \"PoW\", \"TotalCoinsMined\": 1578281.31341127, \"TotalCoinSupply\": 105120001.44, \"PC 1\": -0.3224946066137279, \"PC 2\": 1.6825026372138459, \"PC 3\": 0.264477355812111, \"Class\": 1}, {\"CoinName\": \"Lithium\", \"Algorithm\": \"Blake\", \"ProofType\": \"PoW\", \"TotalCoinsMined\": 15846721.248274697, \"TotalCoinSupply\": 25228800.0, \"PC 1\": -0.3222969454771924, \"PC 2\": 1.6825354306718083, \"PC 3\": 0.26447067928142537, \"Class\": 1}, {\"CoinName\": \"Smart Bitcoin\", \"Algorithm\": \"SHA-256\", \"ProofType\": \"PoW\", \"TotalCoinsMined\": 0.0, \"TotalCoinSupply\": 20999764.0, \"PC 1\": -0.26080497483132475, \"PC 2\": 1.3705423270235766, \"PC 3\": 0.196776918126551, \"Class\": 1}, {\"CoinName\": \"PirateCash\", \"Algorithm\": \"Equihash\", \"ProofType\": \"PoS\", \"TotalCoinsMined\": 13475920.0, \"TotalCoinSupply\": 105000000.0, \"PC 1\": -0.03560033057136478, \"PC 2\": 0.042384701837827866, \"PC 3\": 0.1317684945572267, \"Class\": 1}, {\"CoinName\": \"Exosis\", \"Algorithm\": \"Exosis\", \"ProofType\": \"PoW\", \"TotalCoinsMined\": 406091.925, \"TotalCoinSupply\": 21000000.0, \"PC 1\": -0.39993918099631154, \"PC 2\": 2.0464281044170485, \"PC 3\": 0.40619598710260885, \"Class\": 1}, {\"CoinName\": \"Block-Logic\", \"Algorithm\": \"Scrypt\", \"ProofType\": \"PoW\", \"TotalCoinsMined\": 35284717.173946, \"TotalCoinSupply\": 120000000.0, \"PC 1\": -0.3538122992246679, \"PC 2\": 1.0388182959559833, \"PC 3\": -0.008345348255262841, \"Class\": 1}, {\"CoinName\": \"Oduwa\", \"Algorithm\": \"Scrypt\", \"ProofType\": \"PoW/PoS\", \"TotalCoinsMined\": 14777549.394076401, \"TotalCoinSupply\": 21000000.0, \"PC 1\": -0.17514598309081247, \"PC 2\": -1.198221874119279, \"PC 3\": -0.5369712887552156, \"Class\": 0}, {\"CoinName\": \"Beam\", \"Algorithm\": \"Equihash\", \"ProofType\": \"PoW\", \"TotalCoinsMined\": 35687520.0, \"TotalCoinSupply\": 262800000.0, \"PC 1\": -0.33755566431859196, \"PC 2\": 1.9071233929943228, \"PC 3\": 0.3845118806030672, \"Class\": 1}, {\"CoinName\": \"Galilel\", \"Algorithm\": \"Quark\", \"ProofType\": \"PoW/PoS\", \"TotalCoinsMined\": 18265011.248600602, \"TotalCoinSupply\": 19035999.0, \"PC 1\": 0.13103358085419803, \"PC 2\": -1.6868265525247885, \"PC 3\": -0.5628770776254713, \"Class\": 0}, {\"CoinName\": \"Bithereum\", \"Algorithm\": \"Equihash\", \"ProofType\": \"PoW\", \"TotalCoinsMined\": 25150787.5, \"TotalCoinSupply\": 30886000.0, \"PC 1\": -0.3377016295804222, \"PC 2\": 1.9070991793098802, \"PC 3\": 0.38451681241073593, \"Class\": 1}, {\"CoinName\": \"Crypto Sports\", \"Algorithm\": \"Quark\", \"ProofType\": \"PoS\", \"TotalCoinsMined\": 1934701.67524713, \"TotalCoinSupply\": 13370000.0, \"PC 1\": 0.2541199857807289, \"PC 2\": -1.314558688262414, \"PC 3\": -0.2869876792462726, \"Class\": 0}, {\"CoinName\": \"Credit\", \"Algorithm\": \"Scrypt\", \"ProofType\": \"PoW/PoS\", \"TotalCoinsMined\": 30825710000.0296, \"TotalCoinSupply\": 74800000000.0, \"PC 1\": 0.25167845570765973, \"PC 2\": -1.1274110996915647, \"PC 3\": -0.5513896459393995, \"Class\": 0}, {\"CoinName\": \"SLICE\", \"Algorithm\": \"QuBit\", \"ProofType\": \"PoW\", \"TotalCoinsMined\": 12925790.4226959, \"TotalCoinSupply\": 100000000.0, \"PC 1\": -0.36287377588416747, \"PC 2\": 1.0538481807009092, \"PC 3\": 0.10676884088667471, \"Class\": 1}, {\"CoinName\": \"Dash Platinum\", \"Algorithm\": \"X11\", \"ProofType\": \"PoS\", \"TotalCoinsMined\": 715659.44237941, \"TotalCoinSupply\": 19700000.0, \"PC 1\": 0.022218277353887254, \"PC 2\": -1.0753386166862675, \"PC 3\": -0.2444964929346454, \"Class\": 0}, {\"CoinName\": \"Nasdacoin\", \"Algorithm\": \"Scrypt\", \"ProofType\": \"PoW/PoS\", \"TotalCoinsMined\": 20546528.2059957, \"TotalCoinSupply\": 84000000.0, \"PC 1\": -0.17506606538680877, \"PC 2\": -1.19820861617221, \"PC 3\": -0.5369739886608706, \"Class\": 0}, {\"CoinName\": \"Vidulum\", \"Algorithm\": \"Equihash1927\", \"ProofType\": \"PoW\", \"TotalCoinsMined\": 0.0, \"TotalCoinSupply\": 100000000.0, \"PC 1\": -0.4031206406544538, \"PC 2\": 2.1797464883642315, \"PC 3\": 0.49551220500106163, \"Class\": 1}, {\"CoinName\": \"Beetle Coin\", \"Algorithm\": \"XEVAN\", \"ProofType\": \"PoW/PoS\", \"TotalCoinsMined\": 198938144.363399, \"TotalCoinSupply\": 500000000.0, \"PC 1\": 0.07223518281357522, \"PC 2\": -1.6058939020252534, \"PC 3\": -0.41369473067286167, \"Class\": 0}, {\"CoinName\": \"Titan Coin\", \"Algorithm\": \"SHA-256D\", \"ProofType\": \"PoW/PoS\", \"TotalCoinsMined\": 896361168.0, \"TotalCoinSupply\": 5000000000.0, \"PC 1\": 0.015017106325690532, \"PC 2\": -2.185094827274954, \"PC 3\": -0.708033943386782, \"Class\": 0}, {\"CoinName\": \"Award\", \"Algorithm\": \"X11\", \"ProofType\": \"PoW/PoS\", \"TotalCoinsMined\": 15420234.5389336, \"TotalCoinSupply\": 420000000.0, \"PC 1\": -0.1008906494749361, \"PC 2\": -1.4476102215318132, \"PC 3\": -0.5203851324885873, \"Class\": 0}, {\"CoinName\": \"BlockStamp\", \"Algorithm\": \"SHA-256\", \"ProofType\": \"PoW\", \"TotalCoinsMined\": 0.0, \"TotalCoinSupply\": 105000000.0, \"PC 1\": -0.26080497495174076, \"PC 2\": 1.370542326125215, \"PC 3\": 0.19677691771404943, \"Class\": 1}, {\"CoinName\": \"BLAST\", \"Algorithm\": \"SHA-256\", \"ProofType\": \"PoW\", \"TotalCoinsMined\": 52293836.62779579, \"TotalCoinSupply\": 64000000.0, \"PC 1\": -0.2600805471881966, \"PC 2\": 1.3706625114655022, \"PC 3\": 0.19675244699056477, \"Class\": 1}, {\"CoinName\": \"Bitcoin Rhodium\", \"Algorithm\": \"X13\", \"ProofType\": \"PoW\", \"TotalCoinsMined\": 1170292.5, \"TotalCoinSupply\": 2100000.0, \"PC 1\": -0.1408860022866927, \"PC 2\": 0.2693844189953189, \"PC 3\": -0.07262388769356982, \"Class\": 1}, {\"CoinName\": \"GlobalToken\", \"Algorithm\": \"SHA-256\", \"ProofType\": \"PoW\", \"TotalCoinsMined\": 84613099.9999955, \"TotalCoinSupply\": 168000000.0, \"PC 1\": -0.2596328278488234, \"PC 2\": 1.3707367884660278, \"PC 3\": 0.19673732266573837, \"Class\": 1}, {\"CoinName\": \"Insane Coin\", \"Algorithm\": \"X11\", \"ProofType\": \"PoW/PoS\", \"TotalCoinsMined\": 23775960.3207514, \"TotalCoinSupply\": 30000000.0, \"PC 1\": -0.10077489685710933, \"PC 2\": -1.4475910137195258, \"PC 3\": -0.520389040639117, \"Class\": 0}, {\"CoinName\": \"ALAX\", \"Algorithm\": \"DPoS\", \"ProofType\": \"DPoS\", \"TotalCoinsMined\": 1000000000.0, \"TotalCoinSupply\": 1000000000.0, \"PC 1\": 6.936010338423759, \"PC 2\": -0.36775159496401477, \"PC 3\": -0.18551439731076552, \"Class\": 0}, {\"CoinName\": \"The Freedom Coin\", \"Algorithm\": \"X11\", \"ProofType\": \"PoS\", \"TotalCoinsMined\": 0.0, \"TotalCoinSupply\": 25000000.0, \"PC 1\": 0.022208363299804048, \"PC 2\": -1.075340261515362, \"PC 3\": -0.2444961580675081, \"Class\": 0}, {\"CoinName\": \"LiteDoge\", \"Algorithm\": \"Scrypt\", \"ProofType\": \"PoW/PoS\", \"TotalCoinsMined\": 15318887081.0146, \"TotalCoinSupply\": 35000000000.0, \"PC 1\": 0.036862143187480406, \"PC 2\": -1.1630494052939984, \"PC 3\": -0.5441330255987364, \"Class\": 0}, {\"CoinName\": \"Boolberry\", \"Algorithm\": \"X11\", \"ProofType\": \"PoW\", \"TotalCoinsMined\": 0.0, \"TotalCoinSupply\": 18450000.0, \"PC 1\": -0.2800546680103583, \"PC 2\": 0.7893473833377622, \"PC 3\": 0.008257622713812222, \"Class\": 1}, {\"CoinName\": \"SolarCoin\", \"Algorithm\": \"Scrypt\", \"ProofType\": \"PoW\", \"TotalCoinsMined\": 55565076.3863525, \"TotalCoinSupply\": 98100000000.0, \"PC 1\": -0.35353149540484, \"PC 2\": 1.0388638576493987, \"PC 3\": -0.008355319610920958, \"Class\": 1}, {\"CoinName\": \"UFO Coin\", \"Algorithm\": \"NeoScrypt\", \"ProofType\": \"PoW\", \"TotalCoinsMined\": 3824685012.0, \"TotalCoinSupply\": 4000000000.0, \"PC 1\": -0.29533110749585867, \"PC 2\": 1.4989044490928018, \"PC 3\": 0.1695084534072943, \"Class\": 1}, {\"CoinName\": \"OrangeCoin\", \"Algorithm\": \"Scrypt\", \"ProofType\": \"PoW/PoS\", \"TotalCoinsMined\": 3537150.0, \"TotalCoinSupply\": 200000000.0, \"PC 1\": -0.1753016968551382, \"PC 2\": -1.1982477094087465, \"PC 3\": -0.5369660296841848, \"Class\": 0}, {\"CoinName\": \"BlakeCoin\", \"Algorithm\": \"Blake\", \"ProofType\": \"PoW\", \"TotalCoinsMined\": 23356790.1494191, \"TotalCoinSupply\": 7000000000.0, \"PC 1\": -0.32219291832085845, \"PC 2\": 1.68255261617921, \"PC 3\": 0.26446713069009736, \"Class\": 1}, {\"CoinName\": \"BitstarCoin\", \"Algorithm\": \"Scrypt\", \"ProofType\": \"PoW/PoS\", \"TotalCoinsMined\": 20576532.0, \"TotalCoinSupply\": 54256119.0, \"PC 1\": -0.17506564970093152, \"PC 2\": -1.198208546897547, \"PC 3\": -0.536974002555096, \"Class\": 0}, {\"CoinName\": \"NeosCoin\", \"Algorithm\": \"SHA-256\", \"ProofType\": \"PoS\", \"TotalCoinsMined\": 4392258.24647793, \"TotalCoinSupply\": 21000000.0, \"PC 1\": 0.04151890254132676, \"PC 2\": -0.4941352232022803, \"PC 3\": -0.05597891798186509, \"Class\": 0}, {\"CoinName\": \"PinkCoin\", \"Algorithm\": \"X11\", \"ProofType\": \"PoW/PoS\", \"TotalCoinsMined\": 436353624.49031204, \"TotalCoinSupply\": 500000000.0, \"PC 1\": -0.09505944979232915, \"PC 2\": -1.446642807460528, \"PC 3\": -0.520582108854249, \"Class\": 0}, {\"CoinName\": \"FantomCoin \", \"Algorithm\": \"CryptoNight\", \"ProofType\": \"PoW\", \"TotalCoinsMined\": 0.0, \"TotalCoinSupply\": 18400000.0, \"PC 1\": -0.23395640034618087, \"PC 2\": 2.247122863753704, \"PC 3\": 0.34664639122372104, \"Class\": 1}, {\"CoinName\": \"Crypto Escudo\", \"Algorithm\": \"Scrypt\", \"ProofType\": \"PoW\", \"TotalCoinsMined\": 780210700.0, \"TotalCoinSupply\": 1000000000.0, \"PC 1\": -0.34349282395199976, \"PC 2\": 1.0405303211144394, \"PC 3\": -0.008693941031869526, \"Class\": 1}, {\"CoinName\": \"AudioCoin\", \"Algorithm\": \"Scrypt\", \"ProofType\": \"PoW/PoS\", \"TotalCoinsMined\": 980732528.97974, \"TotalCoinSupply\": 10500000000.0, \"PC 1\": -0.16176460187370367, \"PC 2\": -1.196001969226698, \"PC 3\": -0.5374233592901801, \"Class\": 0}, {\"CoinName\": \"IncaKoin\", \"Algorithm\": \"SHA-256\", \"ProofType\": \"PoW/PoS\", \"TotalCoinsMined\": 17939725045.334, \"TotalCoinSupply\": 190000000.0, \"PC 1\": 0.16666484508430865, \"PC 2\": -0.8252205389907012, \"PC 3\": -0.3402535225874509, \"Class\": 0}, {\"CoinName\": \"Piggy Coin\", \"Algorithm\": \"X11\", \"ProofType\": \"PoW/PoS\", \"TotalCoinsMined\": 494240666.028571, \"TotalCoinSupply\": 1000000000.0, \"PC 1\": -0.09425754000984743, \"PC 2\": -1.4465097732596208, \"PC 3\": -0.5206091995772346, \"Class\": 0}, {\"CoinName\": \"Crown Coin\", \"Algorithm\": \"SHA-256\", \"ProofType\": \"PoW\", \"TotalCoinsMined\": 22986929.0854247, \"TotalCoinSupply\": 42000000.0, \"PC 1\": -0.26048653641149117, \"PC 2\": 1.3705951567688817, \"PC 3\": 0.1967661612794206, \"Class\": 1}, {\"CoinName\": \"Genstake\", \"Algorithm\": \"Scrypt\", \"ProofType\": \"PoW/PoS\", \"TotalCoinsMined\": 60000000.0, \"TotalCoinSupply\": 15000000.0, \"PC 1\": -0.17451951544837352, \"PC 2\": -1.1981179410462541, \"PC 3\": -0.5369924505922445, \"Class\": 0}, {\"CoinName\": \"Quazar Coin\", \"Algorithm\": \"CryptoNight\", \"ProofType\": \"PoW\", \"TotalCoinsMined\": 0.0, \"TotalCoinSupply\": 18446744.0, \"PC 1\": -0.2339564003462481, \"PC 2\": 2.247122863753205, \"PC 3\": 0.3466463912234914, \"Class\": 1}, {\"CoinName\": \"SmileyCoin\", \"Algorithm\": \"Scrypt\", \"ProofType\": \"PoW\", \"TotalCoinsMined\": 29583989322.9213, \"TotalCoinSupply\": 50000000000.0, \"PC 1\": 0.05552650430588368, \"PC 2\": 1.1067284072440235, \"PC 3\": -0.022172923068766955, \"Class\": 1}, {\"CoinName\": \"ParkByte\", \"Algorithm\": \"SHA-256\", \"ProofType\": \"PoW/PoS\", \"TotalCoinsMined\": 0.0, \"TotalCoinSupply\": 25000000.0, \"PC 1\": -0.08185457258478818, \"PC 2\": -0.8664507133228322, \"PC 3\": -0.3318586192177712, \"Class\": 0}, {\"CoinName\": \"XiaoMiCoin\", \"Algorithm\": \"Scrypt\", \"ProofType\": \"PoW/PoS\", \"TotalCoinsMined\": 404316475.545465, \"TotalCoinSupply\": 400000000.0, \"PC 1\": -0.16974969205584017, \"PC 2\": -1.1973266159274216, \"PC 3\": -0.5371535755354545, \"Class\": 0}, {\"CoinName\": \"Groestlcoin\", \"Algorithm\": \"Groestl\", \"ProofType\": \"PoW\", \"TotalCoinsMined\": 73298203.8873662, \"TotalCoinSupply\": 105000000.0, \"PC 1\": -0.32334295176013034, \"PC 2\": 1.4156256850667954, \"PC 3\": 0.148762886471346, \"Class\": 1}, {\"CoinName\": \"CapriCoin\", \"Algorithm\": \"X11\", \"ProofType\": \"PoW/PoS\", \"TotalCoinsMined\": 201364327.427503, \"TotalCoinSupply\": 208000000.0, \"PC 1\": -0.09831476143524331, \"PC 2\": -1.4471828711488453, \"PC 3\": -0.5204721440710278, \"Class\": 0}, {\"CoinName\": \" ClubCoin\", \"Algorithm\": \"Scrypt\", \"ProofType\": \"PoW/PoS\", \"TotalCoinsMined\": 103621876.167052, \"TotalCoinSupply\": 160000000.0, \"PC 1\": -0.17391522081639696, \"PC 2\": -1.1980176881264541, \"PC 3\": -0.5370128641812495, \"Class\": 0}, {\"CoinName\": \"Radium\", \"Algorithm\": \"PoS\", \"ProofType\": \"PoS\", \"TotalCoinsMined\": 3821245.74150193, \"TotalCoinSupply\": 9000000.0, \"PC 1\": 0.18270824081278594, \"PC 2\": -1.4246677372063776, \"PC 3\": -0.14290142507110895, \"Class\": 0}, {\"CoinName\": \"Bata\", \"Algorithm\": \"Scrypt\", \"ProofType\": \"PoW\", \"TotalCoinsMined\": 5052555.91981545, \"TotalCoinSupply\": 5000000.0, \"PC 1\": -0.35423110587529755, \"PC 2\": 1.0387488157791611, \"PC 3\": -0.008331200536811207, \"Class\": 1}, {\"CoinName\": \"Pakcoin\", \"Algorithm\": \"Scrypt\", \"ProofType\": \"PoW\", \"TotalCoinsMined\": 69684455.4387001, \"TotalCoinSupply\": 182000000.0, \"PC 1\": -0.3533357589592173, \"PC 2\": 1.0388973548806537, \"PC 3\": -0.008361445933018819, \"Class\": 1}, {\"CoinName\": \"Creditbit \", \"Algorithm\": \"X11\", \"ProofType\": \"Proof of Trust\", \"TotalCoinsMined\": 16901016.6609755, \"TotalCoinSupply\": 16504333.0, \"PC 1\": -0.023141349103873592, \"PC 2\": -0.8836547137807997, \"PC 3\": -0.3056380569249948, \"Class\": 0}, {\"CoinName\": \"OKCash\", \"Algorithm\": \"SHA-256\", \"ProofType\": \"PoW/PoS\", \"TotalCoinsMined\": 74676064.9488608, \"TotalCoinSupply\": 105000000.0, \"PC 1\": -0.08082008347816468, \"PC 2\": -0.8662790890670865, \"PC 3\": -0.33189356430945677, \"Class\": 0}, {\"CoinName\": \"Lisk\", \"Algorithm\": \"DPoS\", \"ProofType\": \"DPoS\", \"TotalCoinsMined\": 120012140.0, \"TotalCoinSupply\": 159918400.0, \"PC 1\": 6.923819847846327, \"PC 2\": -0.36977402803700404, \"PC 3\": -0.18510260246284418, \"Class\": 0}, {\"CoinName\": \"HiCoin\", \"Algorithm\": \"Scrypt\", \"ProofType\": \"PoS\", \"TotalCoinsMined\": 10000244677.7002, \"TotalCoinSupply\": 10008835635.0, \"PC 1\": 0.08649553424620082, \"PC 2\": -0.8029673725899544, \"PC 3\": -0.2657622851476657, \"Class\": 0}, {\"CoinName\": \"WhiteCoin\", \"Algorithm\": \"Scrypt\", \"ProofType\": \"PoW/PoS\", \"TotalCoinsMined\": 252005564.19257003, \"TotalCoinSupply\": 300000000.0, \"PC 1\": -0.1718596584216986, \"PC 2\": -1.19767666513356, \"PC 3\": -0.5370823010835882, \"Class\": 0}, {\"CoinName\": \"Dotcoin\", \"Algorithm\": \"Scrypt\", \"ProofType\": \"PoW\", \"TotalCoinsMined\": 0.0, \"TotalCoinSupply\": 890000000.0, \"PC 1\": -0.3543011003157062, \"PC 2\": 1.0387371942204882, \"PC 3\": -0.008328840536938638, \"Class\": 1}, {\"CoinName\": \"FriendshipCoin\", \"Algorithm\": \"NeoScrypt\", \"ProofType\": \"PoW/PoS\", \"TotalCoinsMined\": 1120385.00502, \"TotalCoinSupply\": 60168145.0, \"PC 1\": -0.16934862708763068, \"PC 2\": -0.7468760997479058, \"PC 3\": -0.35733782574986456, \"Class\": 0}, {\"CoinName\": \"The Hempcoin\", \"Algorithm\": \"Scrypt\", \"ProofType\": \"PoW/PoS\", \"TotalCoinsMined\": 0.0, \"TotalCoinSupply\": 300000000.0, \"PC 1\": -0.17535069721765847, \"PC 2\": -1.1982558397732364, \"PC 3\": -0.5369643749642927, \"Class\": 0}, {\"CoinName\": \"Fiii\", \"Algorithm\": \"SHA3-256\", \"ProofType\": \"DPoC\", \"TotalCoinsMined\": -5917977547.96773, \"TotalCoinSupply\": 5000000000.0, \"PC 1\": -0.15794750184684309, \"PC 2\": -2.340631802064111, \"PC 3\": 17.879311514017473, \"Class\": 2}, {\"CoinName\": \"JoinCoin\", \"Algorithm\": \"Multiple\", \"ProofType\": \"PoW\", \"TotalCoinsMined\": 3332922.5, \"TotalCoinSupply\": 2800000.0, \"PC 1\": -0.3074455963232041, \"PC 2\": 1.7217512174952208, \"PC 3\": 0.2867896252170181, \"Class\": 1}, {\"CoinName\": \"Triangles Coin\", \"Algorithm\": \"X13\", \"ProofType\": \"PoW/PoS\", \"TotalCoinsMined\": 140777.753365, \"TotalCoinSupply\": 120000.0, \"PC 1\": 0.03805013807728305, \"PC 2\": -1.967610987381049, \"PC 3\": -0.6012589432466267, \"Class\": 0}, {\"CoinName\": \"Vollar\", \"Algorithm\": \"Equihash+Scrypt\", \"ProofType\": \"PoW\", \"TotalCoinsMined\": 100000000.0, \"TotalCoinSupply\": 2100000000.0, \"PC 1\": -0.3673753379391192, \"PC 2\": 2.177973759909926, \"PC 3\": 0.38162452812719194, \"Class\": 1}, {\"CoinName\": \"Reality Clash\", \"Algorithm\": \"Ethash\", \"ProofType\": \"PoW\", \"TotalCoinsMined\": 24487944.095820397, \"TotalCoinSupply\": 24487944.0, \"PC 1\": -0.341800556043872, \"PC 2\": 1.9502928550151495, \"PC 3\": 0.30561569324305604, \"Class\": 1}, {\"CoinName\": \"iOlite\", \"Algorithm\": \"Ethash\", \"ProofType\": \"PoW\", \"TotalCoinsMined\": 0.0, \"TotalCoinSupply\": 1000000000.0, \"PC 1\": -0.3421397894872061, \"PC 2\": 1.950236564887661, \"PC 3\": 0.3056271475972561, \"Class\": 1}, {\"CoinName\": \"TigerCash\", \"Algorithm\": \"SHA-256\", \"ProofType\": \"PoS\", \"TotalCoinsMined\": 1000000000.0, \"TotalCoinSupply\": 1000000000.0, \"PC 1\": 0.05531107776367652, \"PC 2\": -0.49184706691335905, \"PC 3\": -0.05644481788864785, \"Class\": 0}, {\"CoinName\": \"Waves\", \"Algorithm\": \"Leased POS\", \"ProofType\": \"LPoS\", \"TotalCoinsMined\": 100000000.0, \"TotalCoinSupply\": 100000000.0, \"PC 1\": 0.3514370794549923, \"PC 2\": -2.7064065444889676, \"PC 3\": 14.278693715434411, \"Class\": 2}, {\"CoinName\": \"Particl\", \"Algorithm\": \"PoS\", \"ProofType\": \"PoS\", \"TotalCoinsMined\": 9283137.5558676, \"TotalCoinSupply\": 8634140.0, \"PC 1\": 0.18278390452448437, \"PC 2\": -1.4246551843477937, \"PC 3\": -0.14290398096409113, \"Class\": 0}, {\"CoinName\": \"BitTorrent\", \"Algorithm\": \"TRC10\", \"ProofType\": \"DPoS\", \"TotalCoinsMined\": 989988713439.649, \"TotalCoinSupply\": 990000000000.0, \"PC 1\": 32.41505939362833, \"PC 2\": 4.36321218001716, \"PC 3\": -1.189688022783577, \"Class\": 3}, {\"CoinName\": \"Nxt\", \"Algorithm\": \"PoS\", \"ProofType\": \"PoS/LPoS\", \"TotalCoinsMined\": 1000000000.0, \"TotalCoinSupply\": 1000000000.0, \"PC 1\": 0.2516779936711365, \"PC 2\": -1.3623468017567637, \"PC 3\": -0.08738749078528492, \"Class\": 0}, {\"CoinName\": \"ZEPHYR\", \"Algorithm\": \"SHA-256\", \"ProofType\": \"DPoS\", \"TotalCoinsMined\": 1999999995.3056, \"TotalCoinSupply\": 2000000000.0, \"PC 1\": 4.239426305615081, \"PC 2\": 0.19662129936574957, \"PC 3\": -0.10141045832599226, \"Class\": 0}, {\"CoinName\": \"Gapcoin\", \"Algorithm\": \"Scrypt\", \"ProofType\": \"PoW/PoS\", \"TotalCoinsMined\": 14931046.1546605, \"TotalCoinSupply\": 250000000.0, \"PC 1\": -0.17514385702498275, \"PC 2\": -1.1982215237927096, \"PC 3\": -0.5369713617086498, \"Class\": 0}, {\"CoinName\": \"Beldex\", \"Algorithm\": \"CryptoNight\", \"ProofType\": \"PoW\", \"TotalCoinsMined\": 980222595.0, \"TotalCoinSupply\": 1400222610.0, \"PC 1\": -0.2203773564881796, \"PC 2\": 2.249375656646909, \"PC 3\": 0.34618768882526624, \"Class\": 1}, {\"CoinName\": \"Horizen\", \"Algorithm\": \"Equihash\", \"ProofType\": \"PoW\", \"TotalCoinsMined\": 7296537.5, \"TotalCoinSupply\": 21000000.0, \"PC 1\": -0.3379489648964145, \"PC 2\": 1.9070581456835016, \"PC 3\": 0.3845251673637558, \"Class\": 1}, {\"CoinName\": \"BitcoinPlus\", \"Algorithm\": \"Scrypt\", \"ProofType\": \"PoS\", \"TotalCoinsMined\": 128326.99633965, \"TotalCoinSupply\": 1000000.0, \"PC 1\": -0.052036290004964646, \"PC 2\": -0.8259501461259805, \"PC 3\": -0.2610826769711407, \"Class\": 0}]}}, {\"mode\": \"vega-lite\"});\n",
       "</script>"
      ],
      "text/plain": [
       "alt.Chart(...)"
      ]
     },
     "execution_count": 185,
     "metadata": {},
     "output_type": "execute_result"
    }
   ],
   "source": [
    "# alair\n",
    "# import altair as alt\n",
    "# from vega_datasets import data\n",
    "\n",
    "# source = data.cars()\n",
    "\n",
    "alt.Chart(clustered_df).mark_circle(size=60).encode(\n",
    "    x='PC 1',\n",
    "    y='PC 2',\n",
    "    color='Algorithm',\n",
    "    tooltip=[\"CoinName\", \"Algorithm\", \"TotalCoinsMined\", \"TotalCoinSupply\"]\n",
    ").interactive()"
   ]
  },
  {
   "cell_type": "markdown",
   "metadata": {},
   "source": [
    "#### Table of Tradable Cryptocurrencies"
   ]
  },
  {
   "cell_type": "code",
   "execution_count": 186,
   "metadata": {},
   "outputs": [],
   "source": [
    "# Table with tradable cryptos\n",
    "# df.hvplot.table(columns=['origin', 'name', 'yr'], sortable=True, selectable=True)\n",
    "col_list = [\"CoinName\", \"Algorithm\", \"ProofType\", \"TotalCoinSupply\", \"TotalCoinsMined\", \"Class\"]\n",
    "# clustered_df.hvplot.table(columns =col_list)"
   ]
  },
  {
   "cell_type": "code",
   "execution_count": 187,
   "metadata": {},
   "outputs": [
    {
     "name": "stdout",
     "output_type": "stream",
     "text": [
      "                              CoinName               Algorithm             ProofType  TotalCoinsMined  TotalCoinSupply       PC 1      PC 2       PC 3  Class\n",
      "0                              42 Coin                  Scrypt               PoW/PoS     4.199995e+01     4.200000e+01  -0.175351 -1.198256  -0.536964      0\n",
      "2                              404Coin                  Scrypt               PoW/PoS     1.055185e+09     5.320000e+08  -0.160733 -1.195831  -0.537458      0\n",
      "5                            EliteCoin                     X13               PoW/PoS     2.927942e+10     3.141593e+11   0.443656 -1.900323  -0.614962      0\n",
      "7                              Bitcoin                 SHA-256                   PoW     1.792718e+07     2.100000e+07  -0.260557  1.370584   0.196769      1\n",
      "9                             Litecoin                  Scrypt                   PoW     6.303924e+07     8.400000e+07  -0.353428  1.038882  -0.008358      1\n",
      "10                                Dash                     X11               PoW/PoS     9.031294e+06     2.200000e+07  -0.100979 -1.447625  -0.520382      0\n",
      "12                    Ethereum Classic                  Ethash                   PoW     1.133597e+08     2.100000e+08  -0.340569  1.950497   0.305574      1\n",
      "13                               ZCash                Equihash                   PoW     7.383056e+06     2.100000e+07  -0.337948  1.907058   0.384525      1\n",
      "14                           Bitshares                 SHA-512                   PoS     2.741570e+09     3.600571e+09   0.161620 -1.685177  -0.029797      0\n",
      "15                            DigiByte                Multiple                   PoW     1.140622e+10     2.100000e+10  -0.149481  1.747958   0.281454      1\n",
      "16                         BitcoinDark                 SHA-256               PoW/PoS     1.288862e+06     2.200000e+07  -0.081837 -0.866448  -0.331859      0\n",
      "18                            Bitstake                     X11               PoW/PoS     0.000000e+00     1.300000e+06  -0.101104 -1.447646  -0.520378      0\n",
      "19                             PayCoin                 SHA-256                   PoS     1.199533e+07     1.250000e+07   0.041624 -0.494118  -0.055982      0\n",
      "20                         ProsperCoin                  Scrypt                   PoW     5.768310e+06     2.100000e+07  -0.354221  1.038750  -0.008332      1\n",
      "24                            KoboCoin                     X15               PoW/PoS     2.554254e+07     3.500000e+08   0.020098 -2.142159  -0.676870      0\n",
      "27                          Spreadcoin                     X11                   PoW     1.114973e+07     2.000000e+07  -0.279900  0.789373   0.008252      1\n",
      "29                               ACoin                 SHA-256                   PoW     0.000000e+00     1.600000e+06  -0.260805  1.370542   0.196777      1\n",
      "30                           Aero Coin                     X13                   PoS     0.000000e+00     7.000000e+06   0.161361 -1.595306  -0.325377      0\n",
      "35                            ApexCoin                     X13               PoW/PoS     0.000000e+00     6.000000e+06   0.038048 -1.967611  -0.601259      0\n",
      "36                            ArchCoin                  Scrypt                   PoS     0.000000e+00     1.640314e+07  -0.052038 -0.825950  -0.261083      0\n",
      "37                            Argentum                  Scrypt                   PoW     1.220580e+07     6.400000e+07  -0.354132  1.038765  -0.008335      1\n",
      "39                         Aurora Coin                  Scrypt               PoW/PoS     1.813510e+07     1.676858e+07  -0.175099 -1.198214  -0.536973      0\n",
      "40                            BetaCoin                 SHA-256                   PoW     0.000000e+00     3.200000e+07  -0.260805  1.370542   0.196777      1\n",
      "44                          MyriadCoin                Multiple                   PoW     1.688254e+09     2.000000e+09  -0.284104  1.725624   0.286001      1\n",
      "45                            MoonCoin                  Scrypt                   PoW     8.800000e+01     3.840000e+11  -0.354302  1.038733  -0.008331      1\n",
      "46                            ZetaCoin                 SHA-256                   PoW     1.702044e+08     1.697956e+08  -0.258447  1.370933   0.196697      1\n",
      "47                             SexCoin                  Scrypt                   PoW     1.289410e+08     2.500000e+08  -0.352515  1.039034  -0.008389      1\n",
      "48                             Quatloo                  Scrypt                   PoW     7.357795e+06     1.000000e+08  -0.354199  1.038754  -0.008332      1\n",
      "50                           QuarkCoin                   Quark                   PoW     2.595572e+08     2.470000e+08  -0.044574  0.550721  -0.034354      1\n",
      "51                             Riecoin                 Groestl                   PoW     4.954859e+07     8.400000e+07  -0.323672  1.415571   0.148774      1\n",
      "52                        Digitalcoin                   Scrypt                   PoW     3.344299e+07     4.816600e+07  -0.353838  1.038814  -0.008344      1\n",
      "53                           LimeCoinX                     X11                   PoW     0.000000e+00     2.100000e+07  -0.280055  0.789347   0.008258      1\n",
      "54                              BitBar                  Scrypt               PoW/PoS     4.257948e+04     5.000000e+05  -0.175350 -1.198256  -0.536964      0\n",
      "56                             BitMark                  Scrypt                   PoW     0.000000e+00     2.758000e+07  -0.354301  1.038737  -0.008329      1\n",
      "60                            CashCoin                  Scrypt               PoW/PoS     0.000000e+00     4.743360e+07  -0.175351 -1.198256  -0.536964      0\n",
      "61                             Catcoin                  Scrypt                   PoW     7.219957e+06     2.100000e+07  -0.354201  1.038754  -0.008332      1\n",
      "62                       CryptoBullion                  Scrypt               PoW/PoS     1.039117e+06     1.000000e+06  -0.175336 -1.198253  -0.536965      0\n",
      "63                           CannaCoin                  Scrypt                   PoW     4.703880e+06     1.314000e+07  -0.354236  1.038748  -0.008331      1\n",
      "64                          CinderCoin                Multiple               PoW/PoS     0.000000e+00     1.140000e+08  -0.128541 -0.515249  -0.241844      0\n",
      "71                            CoolCoin                  Scrypt                   PoS     0.000000e+00     1.000000e+08  -0.052038 -0.825950  -0.261083      0\n",
      "73                           CryptCoin                     X11                   PoW     4.996986e+06     1.800000e+07  -0.279985  0.789359   0.008255      1\n",
      "74                          CasinoCoin                  Scrypt                   PoC     4.000000e+10     4.000000e+10   0.703239 -0.239415  -0.101625      0\n",
      "76                             Diamond                 Groestl               PoW/PoS     3.304488e+06     4.380000e+06  -0.145362 -0.821528  -0.379840      0\n",
      "77                               Verge                Multiple                   PoW     1.592953e+10     1.655500e+10  -0.086820  1.758354   0.279337      1\n",
      "78                            DarkCash                     X11               PoW/PoS     0.000000e+00     3.720000e+06  -0.101104 -1.447646  -0.520378      0\n",
      "79                           DarkShibe                  Scrypt                   PoW     0.000000e+00     2.043962e+06  -0.354301  1.038737  -0.008329      1\n",
      "80                             DevCoin                 SHA-256                   PoW     1.877386e+10     2.100000e+10  -0.000730  1.413689   0.187992      1\n",
      "81                           EarthCoin                  Scrypt                   PoW     1.253902e+10     1.350000e+10  -0.180598  1.067555  -0.014197      1\n",
      "82                            E-Gulden                  Scrypt                   PoW     2.091048e+07     2.100000e+07  -0.354011  1.038785  -0.008339      1\n",
      "83                             Elacoin                  Scrypt                   PoW     0.000000e+00     7.500000e+07  -0.354301  1.038737  -0.008329      1\n",
      "84                         Einsteinium                  Scrypt                   PoW     2.188719e+08     2.997925e+08  -0.351269  1.039240  -0.008431      1\n",
      "85                             Emerald                  Scrypt                   PoW     1.949679e+07     3.200000e+07  -0.354031  1.038782  -0.008338      1\n",
      "89                         Flappy Coin                  Scrypt                   PoW     0.000000e+00     1.000000e+11  -0.354301  1.038736  -0.008329      1\n",
      "90                           Fuel2Coin                     X11                   PoS     0.000000e+00     1.000000e+08   0.022208 -1.075340  -0.244496      0\n",
      "92                               FIBRE                   NIST5               PoW/PoS     0.000000e+00     6.240000e+05  -0.041579 -1.744883  -0.563796      0\n",
      "93                     FireRoosterCoin                 SHA-256                   PoW     0.000000e+00     2.602410e+06  -0.260805  1.370542   0.196777      1\n",
      "95                              Franko                  Scrypt                   PoW     1.142732e+06     1.123581e+07  -0.354285  1.038740  -0.008329      1\n",
      "98                         FeatherCoin               NeoScrypt                   PoW     2.086691e+08     3.360000e+08  -0.345424  1.490594   0.171201      1\n",
      "99                           GrandCoin                  Scrypt                   PoW     8.841258e+08     1.420610e+09  -0.342053  1.040769  -0.008743      1\n",
      "100                         GlobalCoin                  Scrypt                   PoW     6.567272e+07     7.000000e+07  -0.353391  1.038888  -0.008360      1\n",
      "101                           GoldCoin                  Scrypt                   PoW     4.165865e+07     7.224570e+07  -0.353724  1.038833  -0.008348      1\n",
      "103                          GlyphCoin                     X11               PoW/PoS     0.000000e+00     7.000000e+06  -0.101104 -1.447646  -0.520378      0\n",
      "107                        HoboNickels                  Scrypt               PoW/PoS     8.926693e+07     1.200000e+08  -0.174114 -1.198051  -0.537006      0\n",
      "108                         HunterCoin                Multiple                   PoW     0.000000e+00     4.200000e+07  -0.307492  1.721744   0.286791      1\n",
      "112                      Infinite Coin                  Scrypt                   PoW     9.059575e+10     9.060000e+10   0.900724  1.246949  -0.050724      1\n",
      "113                             IOCoin                     X11               PoW/PoS     1.765091e+07     2.200000e+07  -0.100860 -1.447605  -0.520386      0\n",
      "114                             IXcoin                 SHA-256                   PoW     2.108935e+07     2.100000e+07  -0.260513  1.370591   0.196767      1\n",
      "115                      JumBucks Coin                     X11               PoW/PoS     0.000000e+00     3.293010e+06  -0.101104 -1.447646  -0.520378      0\n",
      "117                          JudgeCoin                     X13               PoW/PoS     0.000000e+00     2.160000e+07   0.038048 -1.967611  -0.601259      0\n",
      "120                         KrugerCoin                  Scrypt                   PoW     1.514476e+08     2.654208e+08  -0.352203  1.039085  -0.008400      1\n",
      "122                          LuckyCoin                  Scrypt                   PoW     1.932632e+07     2.000000e+07  -0.354033  1.038782  -0.008338      1\n",
      "124                           Litebar                   Scrypt                   PoW     1.104344e+06     1.350000e+06  -0.354286  1.038740  -0.008329      1\n",
      "125                       LitecoinDark                  Scrypt                   PoW     0.000000e+00     8.200320e+07  -0.354301  1.038737  -0.008329      1\n",
      "127                         LibrexCoin                     X11               PoW/PoS     0.000000e+00     1.000000e+06  -0.101104 -1.447646  -0.520378      0\n",
      "129                            MaxCoin                    SHA3               PoW/PoS     6.144580e+07     1.000000e+08  -0.214798 -2.438763  -0.752425      0\n",
      "130                           MegaCoin                  Scrypt                   PoW     3.815200e+07     4.200000e+07  -0.353773  1.038825  -0.008347      1\n",
      "131                  MediterraneanCoin     HybridScryptHash256                   PoW     4.043186e+07     2.000000e+08  -0.408437  2.096921   0.307712      1\n",
      "135                            MinCoin                  Scrypt                   PoW     5.804205e+06     1.000000e+07  -0.354221  1.038751  -0.008332      1\n",
      "137                           MazaCoin                 SHA-256               PoW/PoS     1.613836e+09     2.419200e+09  -0.059498 -0.862742  -0.332614      0\n",
      "139                      Nautilus Coin                  Scrypt                   PoS     1.618000e+07     1.618000e+07  -0.051814 -0.825913  -0.261090      0\n",
      "143                           NoirBits                 SHA-256                   PoW     0.000000e+00     5.000000e+07  -0.260805  1.370542   0.196777      1\n",
      "144                          NobleCoin                  Scrypt                   PoW     2.366066e+09     1.500000e+10  -0.321524  1.044175  -0.009436      1\n",
      "146                           Namecoin                 SHA-256                   PoW     1.473640e+07     2.100000e+07  -0.260601  1.370576   0.196770      1\n",
      "147                           NyanCoin                  Scrypt                   PoW     3.347092e+08     3.370000e+08  -0.349664  1.039506  -0.008485      1\n",
      "149                          Orbitcoin               NeoScrypt               PoW/PoS     3.220616e+06     3.770000e+06  -0.169320 -0.746871  -0.357339      0\n",
      "151                            PotCoin                  Scrypt               PoW/PoS     2.226772e+08     4.200000e+08  -0.172266 -1.197744  -0.537069      0\n",
      "153                        PhoenixCoin                  Scrypt               PoW/PoS     7.395927e+07     9.800000e+07  -0.174326 -1.198086  -0.536999      0\n",
      "156                         RipOffCoin                  Scrypt                   PoW     0.000000e+00     1.200000e+07  -0.354301  1.038737  -0.008329      1\n",
      "157                        RonPaulCoin                  Scrypt                   PoW     1.104157e+06     2.100000e+07  -0.354286  1.038740  -0.008329      1\n",
      "162                         StableCoin                  Scrypt                   PoW     2.421518e+07     2.500000e+08  -0.353966  1.038793  -0.008340      1\n",
      "165                         ShieldCoin                     X15               PoW/PoS     0.000000e+00     1.000000e+06   0.019744 -2.142217  -0.676858      0\n",
      "166                           SilkCoin                  Scrypt               PoW/PoS     0.000000e+00     1.000000e+06  -0.175351 -1.198256  -0.536964      0\n",
      "168                          SmartCoin                  Scrypt                   PoW     2.559374e+07     5.120000e+07  -0.353947  1.038796  -0.008341      1\n",
      "170                          SpainCoin                Scrypt-n                   PoW     0.000000e+00     5.000000e+07  -0.392121  2.128901   0.388832      1\n",
      "172                         SecureCoin                  Scrypt                   PoW     0.000000e+00     2.100000e+07  -0.354301  1.038737  -0.008329      1\n",
      "175                           SyncCoin                     X11               PoW/PoS     1.177000e+03     1.000000e+03  -0.101104 -1.447646  -0.520378      0\n",
      "176                            SysCoin                 SHA-256                   PoW     5.633365e+08     8.880000e+08  -0.253001  1.371837   0.196513      1\n",
      "179                          TeslaCoin                Multiple                   PoS     8.026046e+07     1.000000e+08  -0.004117 -0.142760   0.034000      0\n",
      "180                          TigerCoin                 SHA-256                   PoW     4.353680e+07     4.701197e+07  -0.260202  1.370642   0.196757      1\n",
      "181                         TittieCoin                 PHI1612                   PoS     1.622326e+09     2.300000e+09   0.173486 -1.544655  -0.131759      0\n",
      "182                            TorCoin                     X11               PoW/PoS     1.431851e+06     1.000000e+07  -0.101084 -1.447642  -0.520379      0\n",
      "183                          TerraCoin                 SHA-256                   PoW     2.293540e+07     4.200000e+07  -0.260487  1.370595   0.196766      1\n",
      "185                           Umbrella                 SHA-256                   PoW     0.000000e+00     2.625000e+06  -0.260805  1.370542   0.196777      1\n",
      "186                    UnbreakableCoin                 SHA-256                   PoW     2.278150e+06     8.000000e+07  -0.260773  1.370548   0.196776      1\n",
      "187                         Unobtanium                 SHA-256                   PoW     2.009118e+05     2.500000e+05  -0.260802  1.370543   0.196777      1\n",
      "189               UnitaryStatus Dollar                  Scrypt               PoW/PoS     1.098953e+09     1.600000e+09  -0.160127 -1.195730  -0.537479      0\n",
      "190                          UltraCoin                  Scrypt               PoW/PoS     5.023521e+07     1.000000e+08  -0.174655 -1.198140  -0.536988      0\n",
      "193                            ViaCoin                  Scrypt                   PoW     2.315089e+07     2.300000e+07  -0.353980  1.038790  -0.008340      1\n",
      "196                           Vertcoin               Lyra2REv2                   PoW     5.117372e+07     8.400000e+07  -0.319259  1.367535   0.253504      1\n",
      "197                          WorldCoin                  Scrypt                   PoW     1.196069e+08     2.654208e+08  -0.352644  1.039012  -0.008385      1\n",
      "199                     SocialXbotCoin                  Scrypt               PoW/PoS     0.000000e+00     2.000000e+06  -0.175351 -1.198256  -0.536964      0\n",
      "200                           X11 Coin                     X11               PoW/PoS     6.950831e+06     5.500000e+06  -0.101008 -1.447630  -0.520381      0\n",
      "203                          JouleCoin                 SHA-256                   PoW     3.919574e+07     4.500000e+07  -0.260262  1.370632   0.196759      1\n",
      "206                            XXXCoin                  Scrypt               PoW/PoS     0.000000e+00     5.000000e+07  -0.175351 -1.198256  -0.536964      0\n",
      "208                           ZCC Coin                  Scrypt               PoW/PoS     1.479902e+08     1.000000e+09  -0.173301 -1.197916  -0.537034      0\n",
      "210                           ByteCoin             CryptoNight                   PoW     1.840668e+11     1.844674e+11   2.315925  2.670155   0.260511      1\n",
      "212                       DigitalNote              CryptoNight                   PoW     6.906588e+09     1.000000e+10  -0.138279  2.262996   0.343414      1\n",
      "214                          BurstCoin               Shabal256                   PoC     1.813034e+09     2.158813e+09   0.699484 -0.348254   0.343135      0\n",
      "215                          StorjCoin            Counterparty                   PoS     5.117314e+07     5.000000e+08   0.132603 -1.442654  -0.063442      0\n",
      "218                           MonaCoin                  Scrypt                   PoW     6.819467e+07     1.051200e+08  -0.353356  1.038894  -0.008361      1\n",
      "220                            Neutron                 SHA-256               PoW/PoS     3.912169e+07     6.800000e+07  -0.081313 -0.866361  -0.331877      0\n",
      "221                         Sling Coin                 SHA-256                   PoW     0.000000e+00     1.000000e+06  -0.260805  1.370542   0.196777      1\n",
      "223                          KryptCoin                  Scrypt                   PoS     0.000000e+00     1.700000e+07  -0.052038 -0.825950  -0.261083      0\n",
      "225                             Gulden                  Scrypt                   PoW     4.150324e+08     1.680000e+09  -0.348552  1.039691  -0.008523      1\n",
      "227                         PesetaCoin                  Scrypt                   PoW     1.375177e+08     1.663860e+08  -0.352396  1.039053  -0.008393      1\n",
      "228                               Kore                     X13               PoW/PoS     2.022465e+06     1.200000e+07   0.038076 -1.967607  -0.601260      0\n",
      "229                    Wild Beast Coin                  Scrypt                   PoW     1.819192e+05     2.628000e+06  -0.354299  1.038738  -0.008329      1\n",
      "231                             Dnotes                  Scrypt                   PoS     1.746461e+08     5.000000e+08  -0.049619 -0.825549  -0.261164      0\n",
      "232                                Flo                  Scrypt                   PoW     1.522707e+08     1.600000e+08  -0.352192  1.039087  -0.008400      1\n",
      "233                        MaieutiCoin                 SHA-256                   PoS     0.000000e+00     2.014000e+03   0.041458 -0.494145  -0.055977      0\n",
      "235                        Sativa Coin                     X13               PoW/PoS     7.096834e+06     1.000000e+07   0.038147 -1.967595  -0.601262      0\n",
      "236                             AeroMe                     X13               PoW/PoS     0.000000e+00     1.200000e+07   0.038048 -1.967611  -0.601259      0\n",
      "239                            ArtByte                  Scrypt                   PoW     7.925372e+08     1.000000e+09  -0.343322  1.040559  -0.008700      1\n",
      "240                   MasterTraderCoin                     X11               PoW/PoS     0.000000e+00     1.011000e+07  -0.101104 -1.447646  -0.520378      0\n",
      "241                          BitCredit                Momentum                   PoW     0.000000e+00     2.100000e+08  -0.391158  2.143160   0.362370      1\n",
      "244                       Folding Coin        Stanford Folding                   PoW     7.194170e+08     1.000000e+09  -0.407970  2.211234   0.400349      1\n",
      "246                              Ucoin                     X11                   PoS     2.689812e+06     2.000000e+07   0.022246 -1.075334  -0.244497      0\n",
      "251                           OmniCron                  Scrypt                   PoW     1.014004e+07     3.371337e+06  -0.354161  1.038761  -0.008334      1\n",
      "254                           Vtorrent                  Scrypt               PoW/PoS     1.160472e+07     2.000000e+07  -0.175190 -1.198229  -0.536970      0\n",
      "256                          GreenCoin                  Scrypt                   PoW     4.610341e+09     1.000000e+10  -0.290434  1.049333  -0.010486      1\n",
      "263                         Cryptonite                  M7 POW                   PoW     7.085065e+08     1.840000e+09  -0.361141  2.240561   0.432118      1\n",
      "264                         Gridmaster                  Scrypt                   PoW     0.000000e+00     8.400000e+07  -0.354301  1.038737  -0.008329      1\n",
      "266                   ConSpiracy Coin                      X11                   PoW     0.000000e+00     3.300000e+07  -0.280055  0.789347   0.008258      1\n",
      "267                         MasterCoin                  Scrypt                   PoW     6.194780e+05     6.194780e+05  -0.354293  1.038739  -0.008329      1\n",
      "273                           SoonCoin                 SHA-256                   PoW     1.246262e+07     2.100000e+07  -0.260632  1.370571   0.196771      1\n",
      "276                            1Credit                  Scrypt                   PoW     8.821300e+04     9.200000e+10  -0.354300  1.038736  -0.008329      1\n",
      "282                   Quicksilver coin                     X11                   PoW     0.000000e+00     3.300000e+07  -0.280055  0.789347   0.008258      1\n",
      "286                              Nexus                    SHA3              PoW/nPoS     6.365722e+07     7.800000e+07  -0.402068 -2.901556  -0.783060      0\n",
      "289                          MarsCoin                      X11                   PoW     3.222157e+07     3.300000e+07  -0.279608  0.789421   0.008243      1\n",
      "294                             Crypto                 Lyra2RE                   PoW     1.374274e+07     6.578910e+07  -0.419299  2.142996   0.379980      1\n",
      "301                   Anarchists Prime                 SHA-256                   PoW     1.474720e+07     5.376000e+07  -0.260601  1.370576   0.196770      1\n",
      "302                             Droidz                   QUAIT               PoW/PoS     8.568038e+06     5.060000e+06  -0.052696 -2.166639  -0.759790      0\n",
      "303                           BowsCoin                     X11                   PoW     1.586384e+07     2.100000e+07  -0.279835  0.789384   0.008250      1\n",
      "315                          Song Coin                  Scrypt                   PoW     3.256530e+07     2.102400e+08  -0.353850  1.038812  -0.008344      1\n",
      "320                            BitZeny                  Scrypt                   PoW     7.561450e+07     2.500000e+08  -0.353254  1.038911  -0.008364      1\n",
      "321                            Diggits                  Scrypt                   PoS     1.000000e+08     1.000000e+08  -0.050653 -0.825721  -0.261129      0\n",
      "322                            Expanse                  Ethash                   PoW     1.049528e+07     1.690640e+07  -0.341994  1.950261   0.305622      1\n",
      "323                            MapCoin                     X11                   PoS     0.000000e+00     2.228921e+06   0.022208 -1.075340  -0.244496      0\n",
      "324                             Paycon                     X13               PoW/PoS     2.304260e+07     5.000000e+07   0.038367 -1.967558  -0.601270      0\n",
      "327                           Emercoin                 SHA-256               PoW/PoS     4.305979e+07     1.000000e+09  -0.081258 -0.866352  -0.331879      0\n",
      "328                          BlitzCoin                     X13                   PoS     0.000000e+00     3.852156e+06   0.161361 -1.595306  -0.325377      0\n",
      "330                      EverGreenCoin                     X15               PoW/PoS     1.353056e+07     2.629800e+07   0.019931 -2.142186  -0.676865      0\n",
      "331                           MindCoin                     X11                   PoW     1.586770e+07     1.600000e+07  -0.279835  0.789384   0.008250      1\n",
      "332                             I0coin                 SHA-256                   PoW     2.099748e+07     2.100000e+07  -0.260514  1.370591   0.196767      1\n",
      "333                             Decred                BLAKE256               PoW/PoS     1.036505e+07     2.100000e+07   0.025255 -1.096007  -0.403367      0\n",
      "334                       DogeCoinDark                  Scrypt                   PoW     0.000000e+00     1.650000e+10  -0.354301  1.038737  -0.008329      1\n",
      "335                      Revolution VR                  Scrypt                   PoW     2.100000e+08     2.100000e+08  -0.351392  1.039220  -0.008427      1\n",
      "336                           HOdlcoin  1GB AES Pattern Search                   PoW     1.144895e+07     8.196210e+07  -0.342726  2.032654   0.282665      1\n",
      "337                            EDRCoin                 SHA-256               PoW/PoS     3.669692e+06     2.200000e+07  -0.081804 -0.866442  -0.331860      0\n",
      "338                            Hitcoin                     X11               PoW/PoS     1.099632e+10     2.655000e+10   0.051228 -1.422374  -0.525524      0\n",
      "339                        Gamecredits                  Scrypt                   PoW     6.983610e+07     8.400000e+07  -0.353334  1.038898  -0.008362      1\n",
      "340                           Dashcoin             CryptoNight                   PoW     0.000000e+00     1.844674e+07  -0.233956  2.247123   0.346646      1\n",
      "341                          DubaiCoin                 SHA-256               PoW/PoS     5.129014e+06     1.050000e+07  -0.081784 -0.866439  -0.331861      0\n",
      "342                         BiosCrypto                   Quark               PoW/PoS     0.000000e+00     2.019046e+07   0.130781 -1.686869  -0.562869      0\n",
      "343                      CarpeDiemCoin                 SHA-256                   PoW     2.173997e+10     2.162628e+10   0.040359  1.420506   0.186604      1\n",
      "346                          TrumpCoin                   Blake                   PoS     0.000000e+00     1.200000e+07  -0.020253 -0.182189   0.011724      0\n",
      "347                        BillaryCoin                  Scrypt               PoW/PoS     8.998743e+06     4.200000e+07  -0.175226 -1.198235  -0.536969      0\n",
      "348                     EthereumScrypt                  Scrypt               PoW/PoS     0.000000e+00     4.200000e+06  -0.175351 -1.198256  -0.536964      0\n",
      "349                            Phalanx                 SHA-256                   PoW     0.000000e+00     1.500000e+07  -0.260805  1.370542   0.196777      1\n",
      "351                        SunShotCoin                     X11                   PoW     0.000000e+00     2.250000e+09  -0.280055  0.789347   0.008258      1\n",
      "352                           GPU Coin                  Scrypt                   PoS     4.047704e+07     2.210526e+08  -0.051477 -0.825857  -0.261102      0\n",
      "354                           HempCoin                Scrypt-n                   PoW     0.000000e+00     5.000000e+09  -0.392121  2.128901   0.388832      1\n",
      "355                            Adzcoin                     X11                   PoW     4.511032e+07     8.400000e+07  -0.279430  0.789451   0.008237      1\n",
      "357                          VirtaCoin                  Scrypt                   PoW     0.000000e+00     2.100000e+10  -0.354301  1.038737  -0.008329      1\n",
      "358                           SoilCoin                  Dagger                   PoW     5.702048e+06     3.000000e+07  -0.393617  2.123629   0.362834      1\n",
      "359                             YoCoin                  Scrypt                   PoW     6.364626e+05     1.683513e+08  -0.354292  1.038739  -0.008329      1\n",
      "360                 Universal Currency                 SHA-256               PoW/PoS     0.000000e+00     2.100000e+08  -0.081855 -0.866451  -0.331859      0\n",
      "361                               AEON        CryptoNight-Lite                   PoW     0.000000e+00     1.840000e+07  -0.350840  2.201156   0.325130      1\n",
      "362                            SibCoin                 X11GOST                   PoW     1.726336e+07     2.400000e+07  -0.371353  2.045798   0.324538      1\n",
      "363                         EuropeCoin                     X11               PoW/PoS     1.040727e+07     3.840000e+08  -0.100960 -1.447622  -0.520383      0\n",
      "366                       Anti Bitcoin                 SHA-256                   PoW     0.000000e+00     4.200000e+07  -0.260805  1.370542   0.196777      1\n",
      "369                           ZeitCoin                  Scrypt                   PoS     3.697124e+10     9.900000e+10   0.460125 -0.740982  -0.278384      0\n",
      "371                          SwingCoin                 SHA-256               PoW/PoS     4.377082e+06     4.000000e+07  -0.081794 -0.866441  -0.331861      0\n",
      "372                   SafeExchangeCoin                  Scrypt                   PoC     2.147484e+09     2.147484e+09   0.178867 -0.326409  -0.083912      0\n",
      "373                     Nebuchadnezzar                     PoS                   PoS     2.000000e+07     2.000000e+07   0.182932 -1.424631  -0.142909      0\n",
      "375                             Francs                  Scrypt                   PoW     6.570808e+06     2.000000e+07  -0.354210  1.038752  -0.008332      1\n",
      "385                        BolivarCoin                     X11                   PoW     1.365408e+07     2.500000e+07  -0.279866  0.789379   0.008251      1\n",
      "388                          GIZMOcoin                     X11               PoW/PoS     0.000000e+00     1.000000e+05  -0.101104 -1.447646  -0.520378      0\n",
      "390                         SecretCoin                     X11               PoW/PoS     0.000000e+00     2.100000e+07  -0.101104 -1.447646  -0.520378      0\n",
      "391                           Ratecoin                     X11               PoW/PoS     1.345549e+08     7.500000e+07  -0.099240 -1.447336  -0.520441      0\n",
      "393               Digital Bullion Gold                     PoS                   PoS     0.000000e+00     1.500000e+07   0.182655 -1.424677  -0.142900      0\n",
      "397                             Revenu                 SHA-256               PoW/PoS     1.195525e+06     2.227250e+08  -0.081838 -0.866448  -0.331859      0\n",
      "402                            Clinton                 SHA-256                   PoW     0.000000e+00     2.421227e+06  -0.260805  1.370542   0.196777      1\n",
      "403                          Clockcoin                 SHA-256               PoW/PoS     1.666282e+07     5.250000e+08  -0.081624 -0.866412  -0.331866      0\n",
      "404                         VIP Tokens                   NIST5               PoW/PoS     8.345040e+07     9.000000e+07  -0.040423 -1.744692  -0.563836      0\n",
      "408                           OrlyCoin                     X15               PoW/PoS     0.000000e+00     3.600000e+07   0.019744 -2.142217  -0.676858      0\n",
      "413                            BitSend                     X11               PoW/PoS     2.438772e+07     1.390000e+08  -0.100766 -1.447590  -0.520389      0\n",
      "415                          16BitCoin                   NIST5               PoW/PoS     0.000000e+00     1.600000e+07  -0.041579 -1.744883  -0.563796      0\n",
      "417                          ChessCoin                  Scrypt               PoW/PoS     0.000000e+00     7.466667e+07  -0.175351 -1.198256  -0.536964      0\n",
      "418                            ReeCoin                  Scrypt               PoW/PoS     0.000000e+00     3.500000e+08  -0.175351 -1.198256  -0.536964      0\n",
      "420                               Omni                  Scrypt                   PoW     6.164480e+05     6.164480e+05  -0.354293  1.038739  -0.008329      1\n",
      "422                        Let it Ride                 POS 3.0                   PoS     3.858981e+07     3.350000e+07   0.179542 -1.436944  -0.208415      0\n",
      "426                          PutinCoin                  Scrypt               PoW/PoS     8.130923e+08     2.000000e+09  -0.164087 -1.196387  -0.537345      0\n",
      "428                          iBankCoin                  Scrypt               PoW/PoS     4.526324e+06     4.433333e+07  -0.175288 -1.198245  -0.536966      0\n",
      "431                     Frankywillcoin                  Scrypt               PoW/PoS     1.000000e+08     1.000000e+08  -0.173965 -1.198026  -0.537011      0\n",
      "436                          MudraCoin                     X13                   PoS     5.000000e+06     2.000000e+08   0.161430 -1.595294  -0.325379      0\n",
      "437                          PizzaCoin                     X11                   PoW     1.377917e+06     2.500000e+07  -0.280036  0.789351   0.008257      1\n",
      "438                      Lutetium Coin                     X11                   PoS     6.570000e+08     6.570000e+08   0.031310 -1.073830  -0.244804      0\n",
      "440                             Komodo                Equihash              dPoW/PoW     1.158981e+08     2.000000e+08  -0.117662  1.216986   0.675037      1\n",
      "441                         GoldBlocks                     X11               PoW/PoS     1.556387e+07     5.000000e+07  -0.100889 -1.447610  -0.520385      0\n",
      "443                            WayCoin                     X11                   PoS     0.000000e+00     1.000000e+08   0.022208 -1.075340  -0.244496      0\n",
      "446                         CarterCoin                  Scrypt               PoW/PoS     4.316550e+07     9.000000e+07  -0.174753 -1.198157  -0.536985      0\n",
      "452                              Karbo             CryptoNight                   PoW     7.822433e+06     1.000000e+07  -0.233848  2.247141   0.346643      1\n",
      "454                          BitTokens                 SHA-256               PoW/PoS     5.954290e+05     2.100000e+07  -0.081846 -0.866449  -0.331859      0\n",
      "455                          ZayedCoin                 SHA-256                   PoW     6.243840e+06     9.736000e+06  -0.260718  1.370557   0.196774      1\n",
      "456                        MustangCoin                     X11               PoW/PoS     6.576363e+05     3.000000e+06  -0.101095 -1.447644  -0.520378      0\n",
      "458                           ZoneCoin                  Scrypt               PoW/PoS     2.581970e+06     2.100000e+07  -0.175315 -1.198250  -0.536966      0\n",
      "459                  Circuits of Value                Multiple                   PoW     1.000000e+09     1.200000e+09  -0.293639  1.724042   0.286323      1\n",
      "463                           DopeCoin                  Scrypt                   PoW     1.168452e+08     2.000000e+08  -0.352682  1.039006  -0.008384      1\n",
      "466                        PROUD Money                     X11               PoW/PoS     0.000000e+00     1.000000e+10  -0.101104 -1.447646  -0.520378      0\n",
      "475                         DollarCoin                 SHA-256                   PoW     9.106714e+06     1.063830e+07  -0.260679  1.370563   0.196773      1\n",
      "476                           Swiscoin                  Scrypt               PoW/PoW     6.652001e+08     3.100000e+09  -0.250262 -0.386891  -0.316095      0\n",
      "478                           Shilling                  Scrypt                   PoW     1.111920e+07     3.000000e+07  -0.354147  1.038763  -0.008334      1\n",
      "479                           BuzzCoin                SHA-256D               PoW/PoS     1.957779e+10     2.000000e+10   0.273811 -2.142160  -0.716776      0\n",
      "482                              Opair                     PoS                   PoS     7.403381e+07     7.400000e+07   0.183681 -1.424506  -0.142934      0\n",
      "490                           GBR Coin                  Scrypt                   PoW     0.000000e+00     8.750000e+07  -0.354301  1.038737  -0.008329      1\n",
      "491                     Halloween Coin                     X11               PoW/PoS     2.646785e+08     1.500000e+09  -0.097438 -1.447037  -0.520502      0\n",
      "502                           FujiCoin                Scrypt-n                   PoW     0.000000e+00     1.000000e+07  -0.392121  2.128901   0.388832      1\n",
      "504                              ZCoin                  Lyra2Z                   PoW     7.568281e+06     2.140000e+07  -0.363709  2.054247   0.270967      1\n",
      "507                            LeaCoin                 SHA-256                   PoW     0.000000e+00     2.000000e+09  -0.260805  1.370542   0.196777      1\n",
      "509                         CoffeeCoin                     PoS                   PoS     1.487168e+08     3.999990e+07   0.184715 -1.424335  -0.142969      0\n",
      "516                          RoyalCoin                     X13                   PoS     2.500124e+06     2.500124e+06   0.161395 -1.595300  -0.325378      0\n",
      "518                            Zurcoin                   Quark                   PoW     0.000000e+00     1.260000e+08  -0.048170  0.550125  -0.034233      1\n",
      "522                       GanjaCoin V2                     X14               PoW/PoS     1.000000e+08     1.000000e+08  -0.043201 -2.115156  -0.787077      0\n",
      "523                             TeamUP                     PoS                   PoS     1.781868e+07     3.010000e+08   0.182902 -1.424636  -0.142908      0\n",
      "525                           LanaCoin                SHA-256D               PoW/PoS     1.082163e+09     7.506000e+09   0.017591 -2.184668  -0.708121      0\n",
      "526                         Elementrem                  Ethash                   PoW     2.620554e+07     2.620554e+07  -0.341777  1.950297   0.305615      1\n",
      "533                            CashOut                 SHA-256                   PoW     0.000000e+00     1.000000e+08  -0.260805  1.370542   0.196777      1\n",
      "534                           ZClassic                Equihash                   PoW     5.613550e+06     2.100000e+07  -0.337972  1.907054   0.384526      1\n",
      "539                                ARK                    DPoS                  DPoS     1.082021e+08     1.250000e+08   6.923656 -0.369801  -0.185097      0\n",
      "543                         InsaneCoin                     X11               PoW/PoS     1.834281e+07     3.000000e+07  -0.100850 -1.447604  -0.520386      0\n",
      "544                          LuckChain                  Scrypt               PoW/PoS     0.000000e+00     1.000000e+09  -0.175351 -1.198256  -0.536964      0\n",
      "548                           KiloCoin                  Scrypt                   PoW     1.962980e+08     1.000000e+10  -0.351582  1.039188  -0.008421      1\n",
      "549                               Hush                Equihash                   PoW     0.000000e+00     2.100000e+07  -0.338050  1.907041   0.384529      1\n",
      "555                          ArtexCoin                     X11                   PoW     8.240000e+08     5.000000e+08  -0.268640  0.791241   0.007872      1\n",
      "560                          EmberCoin                     X13               PoW/PoS     9.219282e+10     8.500000e+08   1.315197 -1.755728  -0.644401      0\n",
      "563                          XenixCoin                     X11               PoW/PoS     3.853327e+06     3.853327e+06  -0.101051 -1.447637  -0.520380      0\n",
      "565                           FreeCoin                     PoS                   PoS     5.000000e+07     5.000000e+07   0.183348 -1.424562  -0.142923      0\n",
      "566                            NPCcoin                SHA-256D               PoW/PoS     0.000000e+00     7.000000e+09   0.002600 -2.187155  -0.707615      0\n",
      "567                            PLNCoin                  Scrypt               PoW/PoS     1.708960e+07     3.854000e+07  -0.175114 -1.198217  -0.536972      0\n",
      "569                             Icobid                  Scrypt               PoW/PoS     0.000000e+00     2.000000e+08  -0.175351 -1.198256  -0.536964      0\n",
      "570                       AquariusCoin                  Scrypt               PoW/PoS     2.449577e+06     4.200000e+07  -0.175317 -1.198250  -0.536966      0\n",
      "571                            Kurrent                     X11                   PoW     6.136481e+07     2.280000e+08  -0.279205  0.789488   0.008229      1\n",
      "572                            Creatio                     PoS                   PoS     2.000000e+07     2.000000e+07   0.182932 -1.424631  -0.142909      0\n",
      "573                           Eternity                     X11               PoW/PoS     6.069482e+06     6.000000e+07  -0.101020 -1.447632  -0.520381      0\n",
      "576                           Eurocoin                 SHA-256               PoW/PoS     1.241655e+07     2.000000e+07  -0.081683 -0.866422  -0.331864      0\n",
      "578                        BitcoinFast                  Scrypt               PoW/PoS     2.024402e+07     3.300000e+07  -0.175070 -1.198209  -0.536974      0\n",
      "580                           Stakenet                     X11                  TPoS     7.559037e+07     7.650000e+07   0.029127 -0.836861  -0.280510      0\n",
      "581                    BitConnect Coin                  Scrypt               PoW/PoS     1.108072e+07     2.800000e+07  -0.175197 -1.198230  -0.536970      0\n",
      "585                          MoneyCoin                  Scrypt               PoW/PoS     1.091442e+07     6.506598e+08  -0.175200 -1.198231  -0.536969      0\n",
      "592                             Enigma                     X11               PoW/PoS     8.146710e+05     5.000000e+06  -0.101093 -1.447644  -0.520378      0\n",
      "593             Cannabis Industry Coin             CryptoNight                   PoW     9.781450e+05     2.100000e+07  -0.233943  2.247125   0.346646      1\n",
      "599                         Russiacoin                  Scrypt               PoW/PoS     8.377873e+06     1.440000e+08  -0.175235 -1.198237  -0.536968      0\n",
      "600                          PandaCoin                  Scrypt                   PoS     3.381314e+10     3.251492e+10   0.416376 -0.748239  -0.276906      0\n",
      "605                          GameUnits                  Scrypt               PoW/PoS     3.472983e+06     1.300000e+07  -0.175303 -1.198248  -0.536966      0\n",
      "606                           GAKHcoin                  Scrypt               PoW/PoS     3.315789e+06     3.315789e+06  -0.175305 -1.198248  -0.536966      0\n",
      "608                            Allsafe                   Quark                   PoS     1.051777e+07     1.500000e+07   0.254239 -1.314539  -0.286992      0\n",
      "609                          LiteCreed                   QuBit               PoW/PoS     3.022775e+07     7.883520e+07  -0.183684 -1.183105  -0.421875      0\n",
      "622                         OsmiumCoin                  Scrypt                   PoW     8.940260e+05     2.714286e+06  -0.354289  1.038739  -0.008329      1\n",
      "623                         Bikercoins             CryptoNight                   PoW     9.357088e+06     2.500000e+07  -0.233827  2.247144   0.346642      1\n",
      "625                     NeptuneClassic                     X11               PoW/PoS     0.000000e+00     2.500000e+08  -0.101104 -1.447646  -0.520378      0\n",
      "626                           HexxCoin                 Lyra2RE                   PoW     1.876146e+06     9.999999e+06  -0.419464  2.142969   0.379986      1\n",
      "632                         GoldenBird                     X13               PoW/PoS     0.000000e+00     4.500000e+08   0.038048 -1.967611  -0.601259      0\n",
      "638                        Ride My Car                     PoS                   PoS     0.000000e+00     1.000000e+08   0.182655 -1.424677  -0.142900      0\n",
      "639              Klingon Empire Darsek                  Scrypt               PoW/PoS     2.396537e+07     5.000000e+08  -0.175019 -1.198201  -0.536976      0\n",
      "640                 Internet of People                 SHA-256               PoW/PoS     2.526078e+06     2.100000e+07  -0.081820 -0.866445  -0.331860      0\n",
      "642                           KushCoin                     X11               PoW/PoS     5.659097e+06     9.354000e+06  -0.101026 -1.447633  -0.520381      0\n",
      "643                           Eryllium                     X11               PoW/PoS     0.000000e+00     1.000000e+08  -0.101104 -1.447646  -0.520378      0\n",
      "650                           MarxCoin                     X11                   PoW     0.000000e+00     1.006400e+08  -0.280055  0.789347   0.008258      1\n",
      "652                         Printerium                  Scrypt               PoW/PoS     1.182173e+07     2.000000e+07  -0.175187 -1.198229  -0.536970      0\n",
      "653                            PacCoin                     X11                   PoW     5.369821e+08     1.000000e+11  -0.272616  0.790580   0.008006      1\n",
      "654                            Impeach                  Scrypt               PoW/PoS     3.081790e+05     2.193333e+07  -0.175346 -1.198255  -0.536965      0\n",
      "658                     Solarflarecoin                  Scrypt                   PoW     0.000000e+00     2.000000e+07  -0.354301  1.038737  -0.008329      1\n",
      "662                            Citadel          CryptoNight-V7                   PoW     1.096932e+07     1.850000e+08  -0.327169  2.097599   0.352843      1\n",
      "663                         Zilbercoin                  Scrypt                   PoS     2.922614e+06     5.500000e+07  -0.051998 -0.825944  -0.261084      0\n",
      "664                          FirstCoin                  Scrypt              PoW/PoS      1.100000e+08     1.100000e+08  -0.262976 -0.452294  -0.299962      0\n",
      "673                      CreativeChain                  Keccak                   PoW     0.000000e+00     1.150000e+08  -0.303040  1.448166   0.190189      1\n",
      "674                         BeaverCoin                  Scrypt                   PoW     3.115258e+06     3.360000e+06  -0.354258  1.038744  -0.008330      1\n",
      "675                           FindCoin                     X13                   PoS     1.452485e+07     1.452485e+07   0.161562 -1.595273  -0.325384      0\n",
      "679                          VaultCoin                     X11                   PoW     3.038554e+07     1.000000e+09  -0.279634  0.789417   0.008243      1\n",
      "681                               Zero                Equihash                   PoW     6.921654e+06     1.700000e+07  -0.337954  1.907057   0.384525      1\n",
      "682                           OpenChat                  Scrypt               PoW/PoS     1.000000e+09     1.000000e+09  -0.161498 -1.195958  -0.537432      0\n",
      "683                       Canada eCoin                  Scrypt                   PoW     9.984341e+07     1.000000e+08  -0.352918  1.038967  -0.008376      1\n",
      "684                               Zoin                 Lyra2RE                   PoW     1.854576e+07     2.100000e+07  -0.419233  2.143007   0.379978      1\n",
      "687                           Musicoin                  Ethash                   PoW     0.000000e+00     4.548984e+08  -0.342140  1.950237   0.305627      1\n",
      "693                          BnrtxCoin                     X11                   PoW     0.000000e+00     2.100000e+08  -0.280055  0.789347   0.008258      1\n",
      "694                          RenosCoin                  Scrypt                   PoS     3.605036e+07     3.442642e+07  -0.051539 -0.825868  -0.261099      0\n",
      "695                          DubaiCoin        Dagger-Hashimoto                   PoW     2.232901e+06     2.232901e+06  -0.373871  1.998448   0.303599      1\n",
      "696                      VirtacoinPlus                     X11               PoW/PoS     1.316275e+07     1.000000e+08  -0.100922 -1.447615  -0.520384      0\n",
      "698                            TajCoin                 Blake2S               PoW/PoS     1.218420e+07     3.690000e+07  -0.106618 -2.130471  -0.648399      0\n",
      "699                             Impact                     X11               PoW/PoS     1.106304e+08     1.100000e+08  -0.099572 -1.447391  -0.520430      0\n",
      "703                            EB3coin                  Scrypt                   PoW     6.409605e+07     4.000000e+09  -0.353413  1.038884  -0.008359      1\n",
      "707                           Universe                  Scrypt                   PoS     0.000000e+00     1.120000e+08  -0.052038 -0.825950  -0.261083      0\n",
      "711                              Atmos                     PoS                   PoS     1.111358e+08     1.102900e+08   0.184195 -1.424421  -0.142952      0\n",
      "712                          HappyCoin                     X11               PoW/PoS     2.152132e+07     1.000000e+08  -0.100806 -1.447596  -0.520388      0\n",
      "713                           Coinonat                   NIST5                   PoW     1.012320e+07     4.825200e+07  -0.220389  0.492133  -0.035166      1\n",
      "714                         MacronCoin                     PoS                   PoS     4.014214e+08     4.000000e+08   0.188216 -1.423754  -0.143087      0\n",
      "715                         Condensate                     X11               PoW/PoS     1.216655e+08     5.000000e+08  -0.099419 -1.447366  -0.520435      0\n",
      "717           Independent Money System                  Scrypt               PoW/PoS     5.368934e+06     2.121212e+07  -0.175276 -1.198243  -0.536967      0\n",
      "718                          ArgusCoin                  Scrypt               PoW/PoS     1.148324e+06     2.860000e+07  -0.175335 -1.198253  -0.536965      0\n",
      "719                           LomoCoin                  Scrypt               PoW/PoS     5.000000e+05     1.000000e+09  -0.175344 -1.198255  -0.536965      0\n",
      "720                     Bitcoin Scrypt                  Scrypt                   PoW     0.000000e+00     2.100000e+07  -0.354301  1.038737  -0.008329      1\n",
      "721                        ProCurrency                 SHA-256                   PoS     1.005457e+08     7.500000e+10   0.042851 -0.493915  -0.056024      0\n",
      "722                        GoldReserve                     X11               PoW/PoS     1.717138e+07     4.000000e+07  -0.100866 -1.447606  -0.520386      0\n",
      "723                         BenjiRolls                  Scrypt                   PoW     2.027610e+07     3.552040e+07  -0.354020  1.038784  -0.008338      1\n",
      "724                       ParallelCoin                  Scrypt                   PoW     0.000000e+00     1.000000e+06  -0.354301  1.038737  -0.008329      1\n",
      "725                         GrowthCoin                  Scrypt                   PoS     2.951355e+08     2.000000e+09  -0.047950 -0.825272  -0.261221      0\n",
      "726                             ILCoin                 SHA-256                   PoW     1.317748e+09     2.500000e+09  -0.242550  1.373571   0.196160      1\n",
      "728                             Phreak                     PoS                   PoS     1.139023e+07     3.000000e+07   0.182813 -1.424650  -0.142905      0\n",
      "732                         Degas Coin                  Scrypt               PoW/PoS     2.135876e+07     1.050000e+08  -0.175055 -1.198207  -0.536974      0\n",
      "733                            ZSEcoin                     X11               PoW/PoS     0.000000e+00     2.093500e+09  -0.101104 -1.447646  -0.520378      0\n",
      "737                         HTML5 Coin                     X15               PoW/PoS     4.065902e+10     9.000000e+10   0.582994 -2.048773  -0.695885      0\n",
      "739               Ultimate Secure Cash                 SHA-256                   PoS     1.034311e+07     2.000842e+08   0.041601 -0.494122  -0.055982      0\n",
      "742                         EquiTrader                  Scrypt                   PoW     1.367341e+07     7.200000e+07  -0.354112  1.038769  -0.008335      1\n",
      "745                               QTUM                 POS 3.0                   PoS     1.000000e+08     1.000000e+08   0.180393 -1.436803  -0.208444      0\n",
      "747           Quantum Resistant Ledger          CryptoNight-V7                   PoW     6.903602e+07     1.050000e+08  -0.326364  2.097732   0.352816      1\n",
      "748                             Espers                     536               PoW/PoS     2.280188e+10     5.000000e+10   0.496980 -2.089792  -0.761790      0\n",
      "750                               Nano                 Blake2b                   PoW     1.332483e+08     3.402824e+08  -0.445534  2.264146   0.392685      1\n",
      "751                           ChanCoin              Cloverhash                   PoW     1.840726e+07     3.000000e+07  -0.392358  2.028453   0.441868      1\n",
      "752                        Dinastycoin             CryptoNight                   PoW     1.809467e+09     2.000000e+09  -0.208890  2.251281   0.345800      1\n",
      "753                           Denarius                   NIST5               PoW/PoS     4.171382e+06     1.000000e+07  -0.041521 -1.744874  -0.563798      0\n",
      "754                       DigitalPrice                     X11                   PoW     3.513898e+07     1.000000e+08  -0.279568  0.789428   0.008241      1\n",
      "755                  Virta Unique Coin                   NIST5               PoW/PoS     6.294208e+07     1.200000e+08  -0.040707 -1.744739  -0.563826      0\n",
      "756                     Bitcoin Planet                   Skein               PoW/PoS     6.804362e+06     1.000000e+08  -0.113686 -1.435740  -0.591560      0\n",
      "757                              Unify                  Scrypt                   PoW     1.813320e+07     1.927680e+07  -0.354050  1.038779  -0.008337      1\n",
      "758                           BritCoin                     X13               PoW/PoS     2.126809e+07     3.000000e+07   0.038343 -1.967562  -0.601269      0\n",
      "759                         SocialCoin                  Scrypt                   PoW     5.167775e+06     7.500000e+07  -0.354230  1.038749  -0.008331      1\n",
      "760                            Octanox                     X11               PoW/PoS     0.000000e+00     7.905634e+06  -0.101104 -1.447646  -0.520378      0\n",
      "761                         ArcticCoin                     X11                   PoW     2.604236e+07     6.000000e+07  -0.279694  0.789407   0.008245      1\n",
      "764                                DAS                     X11                   PoW     2.622886e+06     1.890000e+07  -0.280018  0.789353   0.008256      1\n",
      "765                              Linda                  Scrypt               PoW/PoS     9.044931e+09     5.000000e+10  -0.050051 -1.177469  -0.541197      0\n",
      "766                         LeviarCoin             CryptoNight                   PoW     1.416180e+07     5.400000e+07  -0.233760  2.247155   0.346640      1\n",
      "767                          DeepOnion                     X13               PoW/PoS     2.191702e+07     1.889819e+07   0.038352 -1.967561  -0.601269      0\n",
      "768                            Bitcore             Time Travel                   PoW     1.780187e+07     2.100000e+07  -0.416758  2.219456   0.432416      1\n",
      "769                           gCn Coin                  Scrypt                   PoW     1.630551e+11     2.000000e+11   1.904505  1.413478  -0.084632      1\n",
      "770                          SmartCash                  Keccak                   PoW     2.241009e+09     5.000000e+09  -0.271995  1.453316   0.189140      1\n",
      "771                           Signatum     SkunkHash v2 Raptor                   PoS     1.079728e+08     1.375000e+08   0.238537 -1.475757  -0.190652      0\n",
      "772                               Onix                     X11                   PoW     1.224756e+08     1.100000e+09  -0.278358  0.789629   0.008200      1\n",
      "774                              Cream                   Skein               PoW/PoS     4.733180e+07     1.000000e+08  -0.113125 -1.435647  -0.591579      0\n",
      "775                       Bitcoin Cash                 SHA-256                   PoW     1.799559e+07     2.100000e+07  -0.260556  1.370584   0.196768      1\n",
      "777                            Monoeci                     X11               PoW/PoS     1.256926e+07     9.507271e+06  -0.100930 -1.447617  -0.520384      0\n",
      "778                         CampusCoin                  Scrypt                   PoW     0.000000e+00     1.010000e+09  -0.354301  1.038737  -0.008329      1\n",
      "779                          Draftcoin                  Scrypt                   PoS     1.866330e+07     1.740589e+07  -0.051780 -0.825908  -0.261091      0\n",
      "780                            Vechain   VeChainThor Authority    Proof of Authority     5.545473e+10     8.671263e+10   6.107731 -2.572315   7.539019      2\n",
      "781                       Sojourn Coin                  Scrypt                   PoW     4.852140e+05     1.050000e+10  -0.354294  1.038738  -0.008329      1\n",
      "782                          Stakecoin                     PoS                   PoS     4.000000e+06     6.159996e+07   0.182711 -1.424667  -0.142902      0\n",
      "784                        LiteBitcoin                  Scrypt                   PoW     0.000000e+00     1.000000e+09  -0.354301  1.038737  -0.008329      1\n",
      "785                           FrazCoin                  Scrypt                   PoW     9.704042e+06     2.000000e+07  -0.354167  1.038760  -0.008333      1\n",
      "786                          Kronecoin                  Scrypt                   PoW     1.745375e+07     8.400000e+07  -0.354059  1.038777  -0.008337      1\n",
      "787                             AdCoin                  Scrypt                   PoW     3.264673e+07     1.000000e+08  -0.353849  1.038812  -0.008344      1\n",
      "788                               Linx                  Scrypt                   PoW     3.371653e+07     1.000000e+08  -0.353834  1.038815  -0.008345      1\n",
      "789                          CoinonatX                  Scrypt               PoW/PoS     1.953959e+07     4.825200e+07  -0.175080 -1.198211  -0.536974      0\n",
      "791                      Ethereum Dark                  Scrypt               PoW/PoS     4.200000e+06     4.200000e+06  -0.175293 -1.198246  -0.536966      0\n",
      "792                           Sumokoin             CryptoNight                   PoW     8.946653e+06     8.888889e+07  -0.233832  2.247143   0.346642      1\n",
      "793                           Obsidian                 SHA-512                   PoS     2.500000e+07     9.138895e+07   0.123988 -1.691420  -0.028526      0\n",
      "794                            Cardano               Ouroboros                   PoS     2.592707e+10     4.500000e+10   0.808617 -1.374780  -0.220001      0\n",
      "795                          Regalcoin                     X11               PoW/PoS     7.262402e+06     2.700000e+07  -0.101004 -1.447629  -0.520381      0\n",
      "796                           BitcoinZ                Equihash                   PoW     5.211553e+09     2.100000e+10  -0.265854  1.919019   0.382090      1\n",
      "798                         TrezarCoin               NeoScrypt               PoW/PoS     1.826384e+08     4.000000e+08  -0.166834 -0.746459  -0.357423      0\n",
      "799                           Elements                     X11                   PoW     2.702856e+09     1.800000e+09  -0.242612  0.795559   0.006993      1\n",
      "800                      TerraNovaCoin                  Scrypt               PoW/PoS     1.140735e+06     1.573333e+07  -0.175335 -1.198253  -0.536965      0\n",
      "801                          VIVO Coin               NeoScrypt                   PoW     4.165968e+06     2.700000e+07  -0.348257  1.490124   0.171296      1\n",
      "803                              Rupee               Lyra2REv2                   PoS     2.400000e+07     2.400000e+07  -0.017373 -0.497215   0.000763      0\n",
      "804                       Bitcoin Gold                Equihash                   PoW     1.720236e+07     2.100000e+07  -0.337812  1.907081   0.384521      1\n",
      "805                          WomenCoin                  Scrypt               PoW/PoS     4.845947e+10     2.500000e+10   0.495959 -1.086884  -0.559641      0\n",
      "806                   Theresa May Coin                 SHA-256               PoW/PoS     9.205080e+07     1.000000e+08  -0.080579 -0.866239  -0.331902      0\n",
      "808                           NamoCoin                   NIST5               PoW/PoS     5.605632e+08     1.200000e+09  -0.033814 -1.743595  -0.564059      0\n",
      "809                            LUXCoin                 PHI1612               PoW/PoS     8.305775e+06     6.000000e+07   0.027814 -1.920669  -0.406886      0\n",
      "810                               Pirl                  Dagger                   PoW     3.398698e+07     1.563067e+08  -0.393226  2.123694   0.362821      1\n",
      "811                               Xios                  Scrypt               PoW/PoS     2.149688e+06     2.100000e+07  -0.175321 -1.198251  -0.536965      0\n",
      "812                       Bitcloud 2.0                   Quark               PoW/PoS     3.071155e+07     2.000000e+08   0.131206 -1.686798  -0.562883      0\n",
      "813                             eBoost                  Scrypt                   PoW     9.999000e+07     1.000000e+08  -0.352916  1.038967  -0.008376      1\n",
      "814                            KekCoin                 POS 2.0                   PoS     1.233081e+07     2.100000e+07   0.102732 -1.262595  -0.064310      0\n",
      "815                      BlackholeCoin                  Scrypt               PoW/PoS     1.636254e+07     1.478828e+07  -0.175124 -1.198218  -0.536972      0\n",
      "816                  AltCommunity Coin               SkunkHash               PoW/PoS     0.000000e+00     5.000000e+06  -0.131779 -0.755645  -0.337325      0\n",
      "817                               Pure                     X11               PoW/PoS     0.000000e+00     3.686860e+06  -0.101104 -1.447646  -0.520378      0\n",
      "818                             Rupaya                   Quark                   PoS     0.000000e+00     7.500000e+07   0.254093 -1.314563  -0.286987      0\n",
      "819                 Infinity Economics                 SHA-256                   PoS     9.000000e+09     9.000000e+09   0.166135 -0.473461  -0.060188      0\n",
      "822                               Pura                     X11                   PoW     1.752159e+08     3.500000e+08  -0.277627  0.789750   0.008176      1\n",
      "823                             Innova               NeoScrypt                   PoW     6.375259e+06     4.500000e+07  -0.348226  1.490129   0.171295      1\n",
      "824                            Bitdeal                  Scrypt                   PoW     0.000000e+00     3.000000e+08  -0.354301  1.038737  -0.008329      1\n",
      "827                            Ellaism                  Ethash                   PoW     1.275637e+07     2.800000e+08  -0.341963  1.950266   0.305621      1\n",
      "828                         Sakuracoin                  Scrypt                   PoW     0.000000e+00     1.051000e+08  -0.354301  1.038737  -0.008329      1\n",
      "830                             GoByte               NeoScrypt                   PoW     5.832307e+06     3.180000e+07  -0.348234  1.490128   0.171296      1\n",
      "831                             Castle                   Quark                  DPoS     0.000000e+00     5.000000e+07   4.424355 -0.628393  -0.331484      0\n",
      "835                             Magnet                     X11               PoW/PoS     3.819859e+07     1.440000e+08  -0.100575 -1.447558  -0.520396      0\n",
      "836                         Lamden Tau                    DPoS                  DPoS     2.880906e+08     5.000000e+08   6.926148 -0.369388  -0.185181      0\n",
      "837                            Electra                   NIST5               PoW/PoS     2.839915e+10     3.000000e+10   0.351835 -1.679615  -0.577086      0\n",
      "838                    Bitcoin Diamond                     X13               PoW/PoS     1.835340e+08     2.100000e+08   0.040591 -1.967190  -0.601345      0\n",
      "840                             SHIELD                Multiple                   PoW     4.817306e+08     6.600000e+08  -0.300818  1.722851   0.286566      1\n",
      "844                   Cash & Back Coin                  Scrypt               PoW/PoS     1.109770e+08     2.100000e+08  -0.173813 -1.198001  -0.537016      0\n",
      "845                          UltraNote             CryptoNight                   PoW     1.928182e+10     8.500000e+10   0.033155  2.291437   0.337623      1\n",
      "850                            BitCoal             CryptoNight                   PoW     4.500000e+06     1.250000e+07  -0.233894  2.247133   0.346644      1\n",
      "851                           DaxxCoin                  Ethash                   PoW     5.208918e+08     1.000000e+10  -0.334924  1.951434   0.305383      1\n",
      "852                            Bulwark                   NIST5                   PoS     1.324718e+07     2.771612e+07   0.081917 -1.372548  -0.287921      0\n",
      "855                           Kalkulus                   Quark                   PoS     1.695576e+07     2.000000e+07   0.254328 -1.314524  -0.286995      0\n",
      "856                                AC3                     X11                   PoW     8.031621e+07     5.500000e+08  -0.278942  0.789532   0.008220      1\n",
      "857                              CHIPS                 SHA-256                   PoW     0.000000e+00     2.100000e+07  -0.260805  1.370542   0.196777      1\n",
      "858                            Lethean          CryptoNight-V7                   PoW     4.412502e+08     9.994815e+08  -0.321208  2.098588   0.352642      1\n",
      "859                         GermanCoin                  Scrypt               PoW/PoS     4.911500e+09     5.000000e+10  -0.107312 -1.186968  -0.539263      0\n",
      "860                     LiteCoin Ultra                  Scrypt               PoW/PoS     8.419402e+06     1.500000e+08  -0.175234 -1.198236  -0.536968      0\n",
      "862                        PopularCoin                  Scrypt                   PoW     3.964201e+09     5.000000e+09  -0.299385  1.047848  -0.010184      1\n",
      "863                           PhantomX                     X11               PoW/PoS     4.517421e+07     5.000000e+07  -0.100478 -1.447542  -0.520399      0\n",
      "865                          HTML Coin                 SHA-256               PoW/PoS     0.000000e+00     9.000000e+10  -0.081855 -0.866452  -0.331859      0\n",
      "866                             Photon                BLAKE256                   PoW     3.008967e+10     9.000000e+10   0.262994  1.210115   0.111192      1\n",
      "867                              Sucre                     X11                   PoW     4.229041e+06     1.980000e+07  -0.279996  0.789357   0.008256      1\n",
      "870                       Fantasy Cash                  Scrypt               PoW/PoS     0.000000e+00     4.600000e+06  -0.175351 -1.198256  -0.536964      0\n",
      "873                          SparksPay               NeoScrypt                   PoW     7.847417e+06     2.100000e+07  -0.348206  1.490132   0.171295      1\n",
      "875                           Digiwage                   Quark                   PoS     2.729968e+07     1.200000e+08   0.254471 -1.314500  -0.287000      0\n",
      "876                            GunCoin               NeoScrypt                   PoW     2.997980e+08     5.000000e+08  -0.344161  1.490803   0.171158      1\n",
      "878                          IrishCoin                  Scrypt                   PoW     4.548305e+07     6.400000e+07  -0.353671  1.038842  -0.008350      1\n",
      "879                          Trollcoin                  Scrypt               PoW/PoS     5.910227e+08     9.000000e+08  -0.167163 -1.196898  -0.537241      0\n",
      "880                      Litecoin Plus                  Scrypt               PoW/PoS     2.504486e+06     4.000000e+06  -0.175316 -1.198250  -0.536966      0\n",
      "882                     Monkey Project                     X11                   PoS     4.407252e+06     2.100000e+07   0.022269 -1.075330  -0.244498      0\n",
      "887                       Pioneer Coin                     X11                   PoW     8.478104e+06     2.300000e+07  -0.279937  0.789367   0.008254      1\n",
      "888                      UnitedBitcoin                 SHA-256                   PoW     2.016600e+07     2.016600e+07  -0.260526  1.370589   0.196767      1\n",
      "889                          Interzone                     C11                   PoW     1.191659e+07     2.300000e+07  -0.289100  1.158893   0.039108      1\n",
      "892                            OP Coin                  Scrypt               PoW/PoS     0.000000e+00     2.000000e+09  -0.175351 -1.198256  -0.536964      0\n",
      "896                           Valorbit                  Scrypt               PoW/PoS     0.000000e+00     9.223372e+16  -0.307570 -2.184672  -0.989898      0\n",
      "897                           TokenPay                 POS 3.0                   PoS     2.044586e+07     2.500000e+07   0.179291 -1.436986  -0.208407      0\n",
      "899   1717 Masonic Commemorative Token                  Ethash                   PoS     1.618033e+06     1.618033e+06  -0.039854  0.085553   0.052873      1\n",
      "901                        My Big Coin                  Scrypt           PoW and PoS     9.399343e+06     3.000000e+07  -0.313913 -0.458179  -0.211942      0\n",
      "903                         TurtleCoin             CryptoNight                   PoW     5.313984e+10     1.000000e+12   0.502190  2.369241   0.321775      1\n",
      "905                            MUNcoin               SkunkHash                   PoW     4.818339e+06     1.660000e+07  -0.310663  1.481359   0.191308      1\n",
      "906              Unified Society USDEX                  Scrypt               PoW/PoS     2.348463e+08     2.320000e+08  -0.172097 -1.197716  -0.537074      0\n",
      "909                        Niobio Cash             CryptoNight                   PoW     1.339325e+08     3.360000e+08  -0.232101  2.247431   0.346584      1\n",
      "914                    Bitcoin Private                Equihash                   PoW     0.000000e+00     2.100000e+07  -0.338050  1.907041   0.384529      1\n",
      "915                          Skeincoin                   Skein                   PoW     0.000000e+00     1.700000e+07  -0.292731  0.801237  -0.062921      1\n",
      "918                         ShareChain                  Scrypt                   PoW     1.000000e+10     1.000000e+10  -0.215771  1.061720  -0.013008      1\n",
      "920                         Travelflex                  Dagger                   PoW     1.073253e+08     1.000000e+08  -0.392210  2.123862   0.362787      1\n",
      "921                              KREDS               Lyra2REv2                   PoW     6.437959e+08     1.100000e+09  -0.311050  1.368897   0.253227      1\n",
      "923                         Tokyo Coin                     X13                   PoS     2.302989e+08     8.000000e+08   0.164551 -1.594777  -0.325485      0\n",
      "924                           BiblePay      Proof-of-BibleHash                  POBh     1.772092e+09     5.200000e+09   0.753100 -2.058194  14.167455      2\n",
      "925                       LitecoinCash          SHA-256 + Hive            PoW + Hive     6.383823e+08     8.400000e+08   0.235686 -2.862505   9.273275      2\n",
      "926                            BitFlip                  Scrypt                   PoW     1.244610e+07     4.000000e+07  -0.354129  1.038766  -0.008335      1\n",
      "927                          LottoCoin                  Scrypt                   PoW     1.449101e+10     1.840698e+10  -0.153557  1.072041  -0.015110      1\n",
      "929                           LeafCoin                  Scrypt                   PoW     0.000000e+00     2.100000e+10  -0.354301  1.038737  -0.008329      1\n",
      "932                           Cerberus               NeoScrypt                   PoW     0.000000e+00     3.150000e+07  -0.348315  1.490114   0.171298      1\n",
      "933                       Bitcoin Hush                Equihash                   PoW     0.000000e+00     2.100000e+07  -0.338050  1.907041   0.384529      1\n",
      "935            Crypto Improvement Fund                     X11                   PoW     2.112976e+08     5.000000e+08  -0.277128  0.789833   0.008159      1\n",
      "936                            Stipend                     C11               PoW/PoS     1.125134e+07     1.934059e+07  -0.110158 -1.078102  -0.489527      0\n",
      "937                        Poa Network      Proof-of-Authority                   PoA     2.044790e+08     2.524608e+08  -0.348518 -4.315415  11.649033      2\n",
      "938                              Pushi                     X11               PoW/PoS     2.167827e+06     2.500000e+07  -0.101074 -1.447641  -0.520379      0\n",
      "940                           Ellerium                   XEVAN               PoW/PoS     4.192754e+05     6.000000e+07   0.069485 -1.606350  -0.413602      0\n",
      "941                              Velox                  Scrypt                   PoS     2.557001e+07     1.240000e+08  -0.051684 -0.825892  -0.261095      0\n",
      "942                           Ontology                    VBFT                   PoS     6.508486e+08     1.000000e+09   0.215571 -1.408581  -0.197135      0\n",
      "943                   Callisto Network                  Ethash                   PoW     2.476125e+08     6.500000e+09  -0.338710  1.950806   0.305511      1\n",
      "944                             Curium                     X11                   PoW     0.000000e+00     2.200000e+07  -0.280055  0.789347   0.008258      1\n",
      "946                            BitTube             CryptoNight                   PoW     8.004908e+07     1.000000e+09  -0.232847  2.247307   0.346609      1\n",
      "947                             Dinero               NeoScrypt                   PoW     0.000000e+00     1.000000e+08  -0.348315  1.490114   0.171298      1\n",
      "948                           Poseidon                  Scrypt                   PoW     4.070212e+06     2.100000e+07  -0.354245  1.038747  -0.008331      1\n",
      "952                       Aidos Kuneen                   IMesh                   PoW     2.500000e+07     2.500000e+07  -0.448509  2.132514   0.362483      1\n",
      "958                           Bitspace                   NIST5               PoW/PoS     1.378785e+07     5.000000e+07  -0.041388 -1.744852  -0.563803      0\n",
      "960                            Snowgem                Equihash                   PoW     0.000000e+00     8.409600e+07  -0.338050  1.907041   0.384529      1\n",
      "963                           Briacoin                  Scrypt               PoW/PoS     8.456378e+05     3.000000e+06  -0.175339 -1.198254  -0.536965      0\n",
      "964                           Ignition                  Scrypt               PoW/PoS     1.182154e+06     5.000000e+06  -0.175334 -1.198253  -0.536965      0\n",
      "966                          Bitrolium                Equihash                   PoW     7.135548e+07     7.000000e+07  -0.337062  1.907205   0.384495      1\n",
      "967                   Bitcoin Interest                Equihash                   PoW     0.000000e+00     2.230000e+07  -0.338050  1.907041   0.384529      1\n",
      "968                          MedicCoin                  Scrypt                   PoS     2.672977e+08     5.000000e+08  -0.048335 -0.825336  -0.261208      0\n",
      "970                    Alpenschillling                  Lyra2Z                   PoW     2.734050e+07     3.000000e+08  -0.363435  2.054292   0.270958      1\n",
      "971                            Zelcash                Equihash               PoW/PoS     0.000000e+00     2.100000e+08  -0.159100 -0.329952  -0.144107      0\n",
      "972                      Bitcoin Green          Green Protocol                   PoS     9.803691e+06     2.100000e+07   0.175759 -1.417891  -0.117696      0\n",
      "973                       Deviant Coin                     PoS                   PoS     2.187659e+07     8.800000e+07   0.182958 -1.424626  -0.142910      0\n",
      "974                            Abjcoin                  Scrypt               PoW/PoS     9.880502e+06     3.000000e+07  -0.175214 -1.198233  -0.536969      0\n",
      "977                Profit Hunters Coin                  Scrypt               PoW/PoS     0.000000e+00     1.000000e+08  -0.175351 -1.198256  -0.536964      0\n",
      "978                              Semux     Semux BFT consensus                  DPoS     1.231147e+06     1.000000e+08   7.535118 -0.312915  -0.249245      0\n",
      "979                          BitBlocks                  Scrypt               PoW/PoS     0.000000e+00     5.000000e+08  -0.175351 -1.198256  -0.536964      0\n",
      "981                         FuturoCoin                     X11                   PoW     3.180146e+07     1.000000e+08  -0.279614  0.789420   0.008243      1\n",
      "982                            Carebit                   Quark               PoW/PoS     1.397396e+08     2.000000e+08   0.132716 -1.686547  -0.562934      0\n",
      "983                            Zealium                     PoS                   PoS     1.107525e+07     8.000000e+07   0.182809 -1.424651  -0.142905      0\n",
      "984                     Monero Classic             CryptoNight                   PoW     1.601686e+07     1.840000e+07  -0.233735  2.247160   0.346639      1\n",
      "987                             Proton                    X16R                   PoS     4.403800e+06     4.500000e+07  -0.014242 -0.635412  -0.100315      0\n",
      "989                          iDealCash                  Scrypt               PoW/PoS     1.404158e+09     5.121951e+09  -0.155899 -1.195029  -0.537621      0\n",
      "990                           Jumpcoin                   NIST5                   PoW     2.106935e+07     2.100000e+07  -0.220238  0.492158  -0.035171      1\n",
      "991                            Infinex                 Lyra2RE                   PoW     5.097690e+06     2.628000e+07  -0.419419  2.142976   0.379984      1\n",
      "992                  Bitcoin Incognito                   XEVAN               PoS/PoW     1.090496e+07     2.100000e+07   0.345937 -1.192184  -0.044543      0\n",
      "993                              KEYCO                  Tribus                   PoW     7.954470e+05     1.800000e+07  -0.433529  2.136658   0.364718      1\n",
      "995                      HollyWoodCoin                  Scrypt                   PoS     3.870681e+07     2.600000e+07  -0.051502 -0.825861  -0.261101      0\n",
      "996                            GINcoin                  Lyra2Z                   PoW     6.986400e+06     1.050000e+07  -0.363717  2.054246   0.270967      1\n",
      "1001                        PlatinCoin             CryptoNight                   PoW     8.430000e+04     6.000005e+08  -0.233955  2.247123   0.346646      1\n",
      "1005                              Loki       CryptoNight Heavy                   PoW     1.915363e+07     1.500000e+08   0.204365  2.294396   0.316147      1\n",
      "1006                       Newton Coin             CryptoNight                   PoW     4.129452e+10     1.840000e+11   0.338097  2.342026   0.327322      1\n",
      "1009                         Swisscoin                  Scrypt               PoW/PoS     1.020000e+10     1.020000e+10  -0.034050 -1.174814  -0.541738      0\n",
      "1013                             Xt3ch                  Scrypt                   PoS     7.630000e+06     4.400000e+07  -0.051932 -0.825933  -0.261086      0\n",
      "1014                          MassGrid    Jump Consistent Hash                   PoW     1.358624e+08     1.680000e+08  -0.352200  2.164521   0.409795      1\n",
      "1015                            TheVig                SHA-256D               PoW/PoS     3.323818e+07     1.000000e+08   0.003060 -2.187078  -0.707630      0\n",
      "1016                         PluraCoin             CryptoNight                   PoW     5.600860e+08     1.000000e+09  -0.226198  2.248410   0.346384      1\n",
      "1017                        EmaratCoin                  Scrypt               PoW/PoS     2.159934e+07     8.400000e+07  -0.175051 -1.198206  -0.536974      0\n",
      "1021                            Dekado                     X15                   PoS     3.028420e+07     9.000000e+07   0.143476 -1.769842  -0.400991      0\n",
      "1022                              Lynx                  Scrypt                  HPoW     7.787206e+10     9.200000e+10   1.681009 -0.153068  -0.279870      0\n",
      "1023                    Poseidon Quark                   Quark                   PoS     2.716265e+06     6.500000e+08   0.254131 -1.314557  -0.286988      0\n",
      "1026                  BitcoinWSpectrum                 SHA-256                   PoS     5.781100e+07     1.002622e+08   0.042259 -0.494012  -0.056004      0\n",
      "1029                              Muse                    DPoS                   PoS     1.819494e+07     1.808181e+07   2.752147 -1.056178  -0.140557      0\n",
      "1030                            Motion                    X16R                   PoW     8.125865e+06     2.207570e+07  -0.316453  1.229284   0.152437      1\n",
      "1031                       PlusOneCoin                 HMQ1725                   PoW     8.645406e+06     2.100000e+07  -0.369076  2.045828   0.366395      1\n",
      "1032                               Axe                     X11                   PoW     4.993031e+06     2.100000e+07  -0.279985  0.789359   0.008255      1\n",
      "1034                        Trivechain                    X16R               PoW/PoS     3.692312e+07     8.254656e+07  -0.137104 -1.007643  -0.376212      0\n",
      "1035                            Dystem                   Quark                   PoS     7.082392e+06     2.100000e+07   0.254191 -1.314547  -0.286990      0\n",
      "1036                             Giant                   Quark               PoW/PoS     5.919490e+06     5.151000e+06   0.130863 -1.686855  -0.562871      0\n",
      "1037                        Peony Coin                  Scrypt                   PoS     1.042012e+06     1.688000e+10  -0.052024 -0.825948  -0.261083      0\n",
      "1038                          SafeCoin                   Zhash               PoW/PoS     0.000000e+00     3.600000e+07  -0.037344 -2.172610  -0.627456      0\n",
      "1039                     Absolute Coin               Lyra2REv2               PoW/PoS     1.333262e+07     5.250000e+07  -0.140833 -0.869545  -0.275114      0\n",
      "1040                             Vitae                   Quark                   PoS     6.605388e+07     1.000000e+08   0.255008 -1.314411  -0.287018      0\n",
      "1044                           HexCoin                  Scrypt                   PoW     1.416663e+06     2.210526e+07  -0.354281  1.038740  -0.008329      1\n",
      "1046                            TPCash                  Scrypt               PoW/PoS     5.403802e+06     1.000000e+09  -0.175276 -1.198243  -0.536967      0\n",
      "1048                          Webchain          CryptoNight-V7                   PoW     1.558020e+07     1.750000e+09  -0.327105  2.097609   0.352841      1\n",
      "1049                               Ryo         Cryptonight-GPU                   PoW     4.890897e+06     8.818889e+07  -0.432101  2.094977   0.407367      1\n",
      "1050                          MUSDcoin                  Scrypt               PoW/PoS     0.000000e+00     1.000000e+08  -0.175351 -1.198256  -0.536964      0\n",
      "1051                        Urals Coin                   XEVAN                   PoW     1.474615e+07     2.100000e+08  -0.109267  0.630676   0.115027      1\n",
      "1052                        Qwertycoin       CryptoNight Heavy                   PoW     9.955311e+10     1.844700e+11   1.583211  2.523149   0.269569      1\n",
      "1054                            ARENON                     X11                   PoS     1.926951e+07     5.500000e+07   0.022475 -1.075296  -0.244505      0\n",
      "1056                              EUNO                     X11               PoW/PoS     3.077113e+07     5.000000e+07  -0.100678 -1.447575  -0.520392      0\n",
      "1057                           MMOCoin                  Scrypt                   PoS     1.077639e+08     2.600000e+08  -0.050545 -0.825703  -0.261133      0\n",
      "1059                             Ketan                     PoS                   PoS     9.327132e+06     2.100000e+08   0.182785 -1.424655  -0.142904      0\n",
      "1060                               NIX               Lyra2REv2                   PoW     0.000000e+00     1.750000e+08  -0.319968  1.367418   0.253528      1\n",
      "1062                   Safe Trade Coin                  Scrypt                   PoS     0.000000e+00     8.400000e+08  -0.052038 -0.825950  -0.261083      0\n",
      "1063                       Project Pai                 SHA-256                   PoW     2.100000e+09     2.100000e+09  -0.231714  1.375369   0.195794      1\n",
      "1064                        Mont Blanc                  Scrypt                   PoS     0.000000e+00     7.000000e+07  -0.052038 -0.825950  -0.261083      0\n",
      "1065                              XDNA                  Keccak               PoW/PoS     4.672514e+06     3.660000e+08  -0.124025 -0.788817  -0.338449      0\n",
      "1066                             PAXEX                     X11                   PoS     4.504639e+06     1.000000e+08   0.022271 -1.075330  -0.244498      0\n",
      "1068                             Azart                     X11                   PoW     5.015881e+06     2.500000e+07  -0.279985  0.789359   0.008255      1\n",
      "1070                           Apollon                   Quark               PoW/PoS     0.000000e+00     2.500000e+08   0.130781 -1.686869  -0.562869      0\n",
      "1071                      ThunderStake                  Scrypt               PoW/PoS     1.059954e+09     1.800000e+10  -0.160667 -1.195820  -0.537460      0\n",
      "1074                             Kcash                 SHA-512  Zero-Knowledge Proof     1.000000e+09     1.000000e+09   0.062295 -2.227566   0.223777      0\n",
      "1075                           Xchange                    X16R                   PoW     9.753754e+06     1.000000e+08  -0.316431  1.229288   0.152437      1\n",
      "1076                 Acute Angle Cloud               ECC 256K1                  DPOS     1.000000e+09     1.000000e+09  -0.191878 -4.240059  13.926758      2\n",
      "1080                             Traid               NeoScrypt               PoW/PoS     0.000000e+00     2.520000e+08  -0.169364 -0.746879  -0.357337      0\n",
      "1086                       CrypticCoin                Equihash                   PoW     4.235112e+09     7.600000e+09  -0.279381  1.916775   0.382547      1\n",
      "1087                       Bettex coin                   XEVAN                   PoS     6.787405e+06     5.000000e+07   0.192886 -1.234030  -0.137723      0\n",
      "1088                          ZestCoin                   Quark                   PoW     0.000000e+00     2.930000e+07  -0.048170  0.550125  -0.034233      1\n",
      "1089                            X-CASH     CryptoNight Heavy X                   PoW     0.000000e+00     1.000000e+11  -0.379356  2.286179   0.378905      1\n",
      "1091                          Actinium                  Lyra2Z                   PoW     1.363485e+07     8.400000e+07  -0.363625  2.054261   0.270964      1\n",
      "1093                           ETHER-1                  Ethash                   PoW     0.000000e+00     1.366624e+07  -0.342140  1.950237   0.305627      1\n",
      "1097                        Bitcoin SV                 SHA-256                   PoW     1.799251e+07     2.100000e+07  -0.260556  1.370584   0.196768      1\n",
      "1101                          BitMoney                   XEVAN                   Pos     2.085159e+08     7.000000e+10   0.327278 -1.141233   0.008261      0\n",
      "1102                      Bitcoiin2Gen                  Ethash                   PoW     0.000000e+00     1.000000e+08  -0.342140  1.950237   0.305627      1\n",
      "1105                        FREDEnergy             CryptoNight                   PoW     1.867055e+09     8.080000e+09  -0.208092  2.251414   0.345773      1\n",
      "1106                             Zenad                   Quark              POS / MN     0.000000e+00     4.600000e+07   0.294401 -1.353751  -0.586563      0\n",
      "1110                          C25 Coin               SkunkHash                   PoW     0.000000e+00     6.100000e+06  -0.310730  1.481348   0.191310      1\n",
      "1111                          HerbCoin                   Quark               PoW/PoS     3.531219e+07     5.400000e+07   0.131270 -1.686787  -0.562885      0\n",
      "1112                         Aquachain                  Argon2                   PoW     0.000000e+00     4.200000e+07  -0.386530  2.226688   0.320023      1\n",
      "1114                Universal Molecule                   Blake                   PoW     1.578281e+06     1.051200e+08  -0.322495  1.682503   0.264477      1\n",
      "1115                           Lithium                   Blake                   PoW     1.584672e+07     2.522880e+07  -0.322297  1.682535   0.264471      1\n",
      "1118                     Smart Bitcoin                 SHA-256                   PoW     0.000000e+00     2.099976e+07  -0.260805  1.370542   0.196777      1\n",
      "1119                        PirateCash                Equihash                   PoS     1.347592e+07     1.050000e+08  -0.035600  0.042385   0.131768      1\n",
      "1120                            Exosis                  Exosis                   PoW     4.060919e+05     2.100000e+07  -0.399939  2.046428   0.406196      1\n",
      "1121                       Block-Logic                  Scrypt                   PoW     3.528472e+07     1.200000e+08  -0.353812  1.038818  -0.008345      1\n",
      "1123                             Oduwa                  Scrypt               PoW/PoS     1.477755e+07     2.100000e+07  -0.175146 -1.198222  -0.536971      0\n",
      "1124                              Beam                Equihash                   PoW     3.568752e+07     2.628000e+08  -0.337556  1.907123   0.384512      1\n",
      "1125                           Galilel                   Quark               PoW/PoS     1.826501e+07     1.903600e+07   0.131034 -1.686827  -0.562877      0\n",
      "1127                         Bithereum                Equihash                   PoW     2.515079e+07     3.088600e+07  -0.337702  1.907099   0.384517      1\n",
      "1130                     Crypto Sports                   Quark                   PoS     1.934702e+06     1.337000e+07   0.254120 -1.314559  -0.286988      0\n",
      "1131                            Credit                  Scrypt               PoW/PoS     3.082571e+10     7.480000e+10   0.251678 -1.127411  -0.551390      0\n",
      "1136                             SLICE                   QuBit                   PoW     1.292579e+07     1.000000e+08  -0.362874  1.053848   0.106769      1\n",
      "1137                     Dash Platinum                     X11                   PoS     7.156594e+05     1.970000e+07   0.022218 -1.075339  -0.244496      0\n",
      "1138                         Nasdacoin                  Scrypt               PoW/PoS     2.054653e+07     8.400000e+07  -0.175066 -1.198209  -0.536974      0\n",
      "1139                           Vidulum            Equihash1927                   PoW     0.000000e+00     1.000000e+08  -0.403121  2.179746   0.495512      1\n",
      "1140                       Beetle Coin                   XEVAN               PoW/PoS     1.989381e+08     5.000000e+08   0.072235 -1.605894  -0.413695      0\n",
      "1141                        Titan Coin                SHA-256D               PoW/PoS     8.963612e+08     5.000000e+09   0.015017 -2.185095  -0.708034      0\n",
      "1142                             Award                     X11               PoW/PoS     1.542023e+07     4.200000e+08  -0.100891 -1.447610  -0.520385      0\n",
      "1143                        BlockStamp                 SHA-256                   PoW     0.000000e+00     1.050000e+08  -0.260805  1.370542   0.196777      1\n",
      "1144                             BLAST                 SHA-256                   PoW     5.229384e+07     6.400000e+07  -0.260081  1.370663   0.196752      1\n",
      "1147                   Bitcoin Rhodium                     X13                   PoW     1.170292e+06     2.100000e+06  -0.140886  0.269384  -0.072624      1\n",
      "1148                       GlobalToken                 SHA-256                   PoW     8.461310e+07     1.680000e+08  -0.259633  1.370737   0.196737      1\n",
      "1149                       Insane Coin                     X11               PoW/PoS     2.377596e+07     3.000000e+07  -0.100775 -1.447591  -0.520389      0\n",
      "1151                              ALAX                    DPoS                  DPoS     1.000000e+09     1.000000e+09   6.936010 -0.367752  -0.185514      0\n",
      "1152                  The Freedom Coin                     X11                   PoS     0.000000e+00     2.500000e+07   0.022208 -1.075340  -0.244496      0\n",
      "1155                          LiteDoge                  Scrypt               PoW/PoS     1.531889e+10     3.500000e+10   0.036862 -1.163049  -0.544133      0\n",
      "1156                         Boolberry                     X11                   PoW     0.000000e+00     1.845000e+07  -0.280055  0.789347   0.008258      1\n",
      "1157                         SolarCoin                  Scrypt                   PoW     5.556508e+07     9.810000e+10  -0.353531  1.038864  -0.008355      1\n",
      "1159                          UFO Coin               NeoScrypt                   PoW     3.824685e+09     4.000000e+09  -0.295331  1.498904   0.169508      1\n",
      "1161                        OrangeCoin                  Scrypt               PoW/PoS     3.537150e+06     2.000000e+08  -0.175302 -1.198248  -0.536966      0\n",
      "1163                         BlakeCoin                   Blake                   PoW     2.335679e+07     7.000000e+09  -0.322193  1.682553   0.264467      1\n",
      "1164                       BitstarCoin                  Scrypt               PoW/PoS     2.057653e+07     5.425612e+07  -0.175066 -1.198209  -0.536974      0\n",
      "1165                          NeosCoin                 SHA-256                   PoS     4.392258e+06     2.100000e+07   0.041519 -0.494135  -0.055979      0\n",
      "1167                          PinkCoin                     X11               PoW/PoS     4.363536e+08     5.000000e+08  -0.095059 -1.446643  -0.520582      0\n",
      "1168                       FantomCoin              CryptoNight                   PoW     0.000000e+00     1.840000e+07  -0.233956  2.247123   0.346646      1\n",
      "1170                     Crypto Escudo                  Scrypt                   PoW     7.802107e+08     1.000000e+09  -0.343493  1.040530  -0.008694      1\n",
      "1172                         AudioCoin                  Scrypt               PoW/PoS     9.807325e+08     1.050000e+10  -0.161765 -1.196002  -0.537423      0\n",
      "1175                          IncaKoin                 SHA-256               PoW/PoS     1.793973e+10     1.900000e+08   0.166665 -0.825221  -0.340254      0\n",
      "1176                        Piggy Coin                     X11               PoW/PoS     4.942407e+08     1.000000e+09  -0.094258 -1.446510  -0.520609      0\n",
      "1177                        Crown Coin                 SHA-256                   PoW     2.298693e+07     4.200000e+07  -0.260487  1.370595   0.196766      1\n",
      "1178                          Genstake                  Scrypt               PoW/PoS     6.000000e+07     1.500000e+07  -0.174520 -1.198118  -0.536992      0\n",
      "1180                       Quazar Coin             CryptoNight                   PoW     0.000000e+00     1.844674e+07  -0.233956  2.247123   0.346646      1\n",
      "1181                        SmileyCoin                  Scrypt                   PoW     2.958399e+10     5.000000e+10   0.055527  1.106728  -0.022173      1\n",
      "1183                          ParkByte                 SHA-256               PoW/PoS     0.000000e+00     2.500000e+07  -0.081855 -0.866451  -0.331859      0\n",
      "1185                        XiaoMiCoin                  Scrypt               PoW/PoS     4.043165e+08     4.000000e+08  -0.169750 -1.197327  -0.537154      0\n",
      "1186                       Groestlcoin                 Groestl                   PoW     7.329820e+07     1.050000e+08  -0.323343  1.415626   0.148763      1\n",
      "1187                         CapriCoin                     X11               PoW/PoS     2.013643e+08     2.080000e+08  -0.098315 -1.447183  -0.520472      0\n",
      "1188                          ClubCoin                  Scrypt               PoW/PoS     1.036219e+08     1.600000e+08  -0.173915 -1.198018  -0.537013      0\n",
      "1189                            Radium                     PoS                   PoS     3.821246e+06     9.000000e+06   0.182708 -1.424668  -0.142901      0\n",
      "1190                              Bata                  Scrypt                   PoW     5.052556e+06     5.000000e+06  -0.354231  1.038749  -0.008331      1\n",
      "1191                           Pakcoin                  Scrypt                   PoW     6.968446e+07     1.820000e+08  -0.353336  1.038897  -0.008361      1\n",
      "1192                        Creditbit                      X11        Proof of Trust     1.690102e+07     1.650433e+07  -0.023141 -0.883655  -0.305638      0\n",
      "1193                            OKCash                 SHA-256               PoW/PoS     7.467606e+07     1.050000e+08  -0.080820 -0.866279  -0.331894      0\n",
      "1194                              Lisk                    DPoS                  DPoS     1.200121e+08     1.599184e+08   6.923820 -0.369774  -0.185103      0\n",
      "1195                            HiCoin                  Scrypt                   PoS     1.000024e+10     1.000884e+10   0.086496 -0.802967  -0.265762      0\n",
      "1196                         WhiteCoin                  Scrypt               PoW/PoS     2.520056e+08     3.000000e+08  -0.171860 -1.197677  -0.537082      0\n",
      "1197                           Dotcoin                  Scrypt                   PoW     0.000000e+00     8.900000e+08  -0.354301  1.038737  -0.008329      1\n",
      "1198                    FriendshipCoin               NeoScrypt               PoW/PoS     1.120385e+06     6.016814e+07  -0.169349 -0.746876  -0.357338      0\n",
      "1199                      The Hempcoin                  Scrypt               PoW/PoS     0.000000e+00     3.000000e+08  -0.175351 -1.198256  -0.536964      0\n",
      "1200                              Fiii                SHA3-256                  DPoC    -5.917978e+09     5.000000e+09  -0.157948 -2.340632  17.879312      2\n",
      "1201                          JoinCoin                Multiple                   PoW     3.332922e+06     2.800000e+06  -0.307446  1.721751   0.286790      1\n",
      "1202                    Triangles Coin                     X13               PoW/PoS     1.407778e+05     1.200000e+05   0.038050 -1.967611  -0.601259      0\n",
      "1204                            Vollar         Equihash+Scrypt                   PoW     1.000000e+08     2.100000e+09  -0.367375  2.177974   0.381625      1\n",
      "1213                     Reality Clash                  Ethash                   PoW     2.448794e+07     2.448794e+07  -0.341801  1.950293   0.305616      1\n",
      "1223                            iOlite                  Ethash                   PoW     0.000000e+00     1.000000e+09  -0.342140  1.950237   0.305627      1\n",
      "1226                         TigerCash                 SHA-256                   PoS     1.000000e+09     1.000000e+09   0.055311 -0.491847  -0.056445      0\n",
      "1230                             Waves              Leased POS                  LPoS     1.000000e+08     1.000000e+08   0.351437 -2.706407  14.278694      2\n",
      "1231                           Particl                     PoS                   PoS     9.283138e+06     8.634140e+06   0.182784 -1.424655  -0.142904      0\n",
      "1234                        BitTorrent                   TRC10                  DPoS     9.899887e+11     9.900000e+11  32.415059  4.363212  -1.189688      3\n",
      "1237                               Nxt                     PoS              PoS/LPoS     1.000000e+09     1.000000e+09   0.251678 -1.362347  -0.087387      0\n",
      "1238                            ZEPHYR                 SHA-256                  DPoS     2.000000e+09     2.000000e+09   4.239426  0.196621  -0.101410      0\n",
      "1242                           Gapcoin                  Scrypt               PoW/PoS     1.493105e+07     2.500000e+08  -0.175144 -1.198222  -0.536971      0\n",
      "1245                            Beldex             CryptoNight                   PoW     9.802226e+08     1.400223e+09  -0.220377  2.249376   0.346188      1\n",
      "1246                           Horizen                Equihash                   PoW     7.296538e+06     2.100000e+07  -0.337949  1.907058   0.384525      1\n",
      "1247                       BitcoinPlus                  Scrypt                   PoS     1.283270e+05     1.000000e+06  -0.052036 -0.825950  -0.261083      0\n"
     ]
    }
   ],
   "source": [
    "# with pd.option_context('display.max_rows', None, 'display.max_columns', None):  # more options can be specified also\n",
    "#     print(df)\n",
    "    \n",
    "# with pd.option_context('display.max_rows', None, 'display.max_columns', None):  # more options can be specified also\n",
    "#     print(clustered_df)\n",
    "print(clustered_df.to_string())"
   ]
  },
  {
   "cell_type": "code",
   "execution_count": 188,
   "metadata": {},
   "outputs": [
    {
     "name": "stdout",
     "output_type": "stream",
     "text": [
      "Total Tradable Currencies: 9.223962144580946e+16\n"
     ]
    }
   ],
   "source": [
    "# Print the total number of tradable cryptocurrencies\n",
    "print (f'Total Tradable Currencies: {clustered_df[\"TotalCoinSupply\"].sum()}')"
   ]
  },
  {
   "cell_type": "markdown",
   "metadata": {},
   "source": [
    "#### Scatter Plot with Tradable Cryptocurrencies"
   ]
  },
  {
   "cell_type": "code",
   "execution_count": 189,
   "metadata": {},
   "outputs": [
    {
     "data": {
      "text/html": [
       "<div>\n",
       "<style scoped>\n",
       "    .dataframe tbody tr th:only-of-type {\n",
       "        vertical-align: middle;\n",
       "    }\n",
       "\n",
       "    .dataframe tbody tr th {\n",
       "        vertical-align: top;\n",
       "    }\n",
       "\n",
       "    .dataframe thead th {\n",
       "        text-align: right;\n",
       "    }\n",
       "</style>\n",
       "<table border=\"1\" class=\"dataframe\">\n",
       "  <thead>\n",
       "    <tr style=\"text-align: right;\">\n",
       "      <th></th>\n",
       "      <th>TotalCoinsMined</th>\n",
       "      <th>TotalCoinSupply</th>\n",
       "    </tr>\n",
       "  </thead>\n",
       "  <tbody>\n",
       "    <tr>\n",
       "      <th>0</th>\n",
       "      <td>-0.097821</td>\n",
       "      <td>-0.039655</td>\n",
       "    </tr>\n",
       "  </tbody>\n",
       "</table>\n",
       "</div>"
      ],
      "text/plain": [
       "   TotalCoinsMined  TotalCoinSupply\n",
       "0        -0.097821        -0.039655"
      ]
     },
     "execution_count": 189,
     "metadata": {},
     "output_type": "execute_result"
    }
   ],
   "source": [
    "# Scale data to create the scatter plot\n",
    "# select columns to be charted\n",
    "cluster_for_chart = clustered_df.filter(['TotalCoinsMined',\"TotalCoinSupply\" ], axis=1)\n",
    "# scale them to data \n",
    "culster_scaled_np = StandardScaler().fit_transform(cluster_for_chart)\n",
    "# transform to np array to dataframe\n",
    "cluster_scaled_df = pd.DataFrame(culster_scaled_np, columns = ['TotalCoinsMined',\"TotalCoinSupply\"])\n",
    "cluster_scaled_df.head(1)"
   ]
  },
  {
   "cell_type": "code",
   "execution_count": 190,
   "metadata": {},
   "outputs": [
    {
     "data": {
      "text/plain": [
       "numpy.ndarray"
      ]
     },
     "execution_count": 190,
     "metadata": {},
     "output_type": "execute_result"
    }
   ],
   "source": [
    "type(culster_scaled)"
   ]
  },
  {
   "cell_type": "code",
   "execution_count": 191,
   "metadata": {},
   "outputs": [],
   "source": [
    "# delete\n",
    "# Plot the scatter with x=\"TotalCoinsMined\" and y=\"TotalCoinSupply\"\n",
    "# cluster_scaled_df.hvplot.scatter(\n",
    "#         x=\"TotalCoinsMined\",\n",
    "#         y=\"TotalCoinSupply\",\n",
    "#         hover_cols=[\"CoinName\"]\n",
    "#         )"
   ]
  },
  {
   "cell_type": "code",
   "execution_count": 192,
   "metadata": {},
   "outputs": [
    {
     "data": {
      "text/html": [
       "\n",
       "<div id=\"altair-viz-67cbe17ab3984c4b8f466933ffb1509d\"></div>\n",
       "<script type=\"text/javascript\">\n",
       "  (function(spec, embedOpt){\n",
       "    let outputDiv = document.currentScript.previousElementSibling;\n",
       "    if (outputDiv.id !== \"altair-viz-67cbe17ab3984c4b8f466933ffb1509d\") {\n",
       "      outputDiv = document.getElementById(\"altair-viz-67cbe17ab3984c4b8f466933ffb1509d\");\n",
       "    }\n",
       "    const paths = {\n",
       "      \"vega\": \"https://cdn.jsdelivr.net/npm//vega@5?noext\",\n",
       "      \"vega-lib\": \"https://cdn.jsdelivr.net/npm//vega-lib?noext\",\n",
       "      \"vega-lite\": \"https://cdn.jsdelivr.net/npm//vega-lite@4.8.1?noext\",\n",
       "      \"vega-embed\": \"https://cdn.jsdelivr.net/npm//vega-embed@6?noext\",\n",
       "    };\n",
       "\n",
       "    function loadScript(lib) {\n",
       "      return new Promise(function(resolve, reject) {\n",
       "        var s = document.createElement('script');\n",
       "        s.src = paths[lib];\n",
       "        s.async = true;\n",
       "        s.onload = () => resolve(paths[lib]);\n",
       "        s.onerror = () => reject(`Error loading script: ${paths[lib]}`);\n",
       "        document.getElementsByTagName(\"head\")[0].appendChild(s);\n",
       "      });\n",
       "    }\n",
       "\n",
       "    function showError(err) {\n",
       "      outputDiv.innerHTML = `<div class=\"error\" style=\"color:red;\">${err}</div>`;\n",
       "      throw err;\n",
       "    }\n",
       "\n",
       "    function displayChart(vegaEmbed) {\n",
       "      vegaEmbed(outputDiv, spec, embedOpt)\n",
       "        .catch(err => showError(`Javascript Error: ${err.message}<br>This usually means there's a typo in your chart specification. See the javascript console for the full traceback.`));\n",
       "    }\n",
       "\n",
       "    if(typeof define === \"function\" && define.amd) {\n",
       "      requirejs.config({paths});\n",
       "      require([\"vega-embed\"], displayChart, err => showError(`Error loading script: ${err.message}`));\n",
       "    } else if (typeof vegaEmbed === \"function\") {\n",
       "      displayChart(vegaEmbed);\n",
       "    } else {\n",
       "      loadScript(\"vega\")\n",
       "        .then(() => loadScript(\"vega-lite\"))\n",
       "        .then(() => loadScript(\"vega-embed\"))\n",
       "        .catch(showError)\n",
       "        .then(() => displayChart(vegaEmbed));\n",
       "    }\n",
       "  })({\"config\": {\"view\": {\"continuousWidth\": 400, \"continuousHeight\": 300}}, \"data\": {\"name\": \"data-6528a8f064c9d5c8a1697407778c3293\"}, \"mark\": {\"type\": \"circle\", \"size\": 60}, \"encoding\": {\"x\": {\"type\": \"quantitative\", \"field\": \"TotalCoinsMined\"}, \"y\": {\"type\": \"quantitative\", \"field\": \"TotalCoinSupply\"}}, \"selection\": {\"selector026\": {\"type\": \"interval\", \"bind\": \"scales\", \"encodings\": [\"x\", \"y\"]}}, \"$schema\": \"https://vega.github.io/schema/vega-lite/v4.8.1.json\", \"datasets\": {\"data-6528a8f064c9d5c8a1697407778c3293\": [{\"TotalCoinsMined\": -0.09782131255832749, \"TotalCoinSupply\": -0.03965512038449224}, {\"TotalCoinsMined\": -0.07228806567377812, \"TotalCoinSupply\": -0.039654974693469826}, {\"TotalCoinsMined\": 0.6106789747023779, \"TotalCoinSupply\": -0.03956908619618762}, {\"TotalCoinsMined\": -0.09738751377087619, \"TotalCoinSupply\": -0.03965511463354188}, {\"TotalCoinsMined\": -0.0962958969168086, \"TotalCoinSupply\": -0.03965509738065628}, {\"TotalCoinsMined\": -0.09760277530924664, \"TotalCoinSupply\": -0.03965511435968655}, {\"TotalCoinsMined\": -0.09507824798199045, \"TotalCoinSupply\": -0.039655062874885086}, {\"TotalCoinsMined\": -0.0976426591936541, \"TotalCoinSupply\": -0.03965511463354188}, {\"TotalCoinsMined\": -0.03148110503656477, \"TotalCoinSupply\": -0.03965413434909186}, {\"TotalCoinsMined\": 0.17818511939803836, \"TotalCoinSupply\": -0.03964936942263867}, {\"TotalCoinsMined\": -0.09779012583408878, \"TotalCoinSupply\": -0.03965511435968655}, {\"TotalCoinsMined\": -0.09782131357463773, \"TotalCoinSupply\": -0.039655120028491815}, {\"TotalCoinsMined\": -0.09753105178386194, \"TotalCoinSupply\": -0.03965511696131215}, {\"TotalCoinsMined\": -0.09768173264534823, \"TotalCoinSupply\": -0.03965511463354188}, {\"TotalCoinsMined\": -0.09720323811513414, \"TotalCoinSupply\": -0.03965502453513932}, {\"TotalCoinsMined\": -0.09755151354088111, \"TotalCoinSupply\": -0.039655114907397204}, {\"TotalCoinsMined\": -0.09782131357463773, \"TotalCoinSupply\": -0.039655119946335214}, {\"TotalCoinsMined\": -0.09782131357463773, \"TotalCoinSupply\": -0.03965511846751645}, {\"TotalCoinsMined\": -0.09782131357463773, \"TotalCoinSupply\": -0.03965511874137178}, {\"TotalCoinsMined\": -0.09782131357463773, \"TotalCoinSupply\": -0.03965511589241784}, {\"TotalCoinsMined\": -0.09752595908243386, \"TotalCoinSupply\": -0.03965510285776282}, {\"TotalCoinsMined\": -0.09738248242482514, \"TotalCoinSupply\": -0.039655115792337686}, {\"TotalCoinsMined\": -0.09782131357463773, \"TotalCoinSupply\": -0.03965511162113328}, {\"TotalCoinsMined\": -0.056969123402478, \"TotalCoinSupply\": -0.039654572673849926}, {\"TotalCoinsMined\": -0.09782131144522344, \"TotalCoinSupply\": -0.039549959938971}, {\"TotalCoinsMined\": -0.0937027265203469, \"TotalCoinSupply\": -0.03965507388507748}, {\"TotalCoinsMined\": -0.09470121465665252, \"TotalCoinSupply\": -0.039655051920672015}, {\"TotalCoinsMined\": -0.09764327046761702, \"TotalCoinSupply\": -0.03965509299897105}, {\"TotalCoinsMined\": -0.09154057792025107, \"TotalCoinSupply\": -0.03965505274223799}, {\"TotalCoinsMined\": -0.09662234237527396, \"TotalCoinSupply\": -0.03965509738065628}, {\"TotalCoinsMined\": -0.09701206383055688, \"TotalCoinSupply\": -0.039655107193988064}, {\"TotalCoinsMined\": -0.09782131357463773, \"TotalCoinSupply\": -0.03965511463354188}, {\"TotalCoinsMined\": -0.09782028324115107, \"TotalCoinSupply\": -0.03965512024757607}, {\"TotalCoinsMined\": -0.09782131357463773, \"TotalCoinSupply\": -0.03965511283157382}, {\"TotalCoinsMined\": -0.09782131357463773, \"TotalCoinSupply\": -0.039655107394559706}, {\"TotalCoinsMined\": -0.09764660585987983, \"TotalCoinSupply\": -0.03965511463354188}, {\"TotalCoinsMined\": -0.09779616914449286, \"TotalCoinSupply\": -0.03965512011064841}, {\"TotalCoinsMined\": -0.0977074896167675, \"TotalCoinSupply\": -0.03965511678604474}, {\"TotalCoinsMined\": -0.09782131357463773, \"TotalCoinSupply\": -0.03965508916499647}, {\"TotalCoinsMined\": -0.09782131357463773, \"TotalCoinSupply\": -0.03965509299897105}, {\"TotalCoinsMined\": -0.097700397053465, \"TotalCoinSupply\": -0.03965511545510785}, {\"TotalCoinsMined\": 0.8700942101562376, \"TotalCoinSupply\": -0.039644166171427415}, {\"TotalCoinsMined\": -0.09774135194452392, \"TotalCoinSupply\": -0.03965511918501741}, {\"TotalCoinsMined\": 0.28763971295508417, \"TotalCoinSupply\": -0.039650586709566775}, {\"TotalCoinsMined\": -0.09782131357463773, \"TotalCoinSupply\": -0.03965511936576192}, {\"TotalCoinsMined\": -0.09782131357463773, \"TotalCoinSupply\": -0.03965511982475386}, {\"TotalCoinsMined\": 0.3564664199554437, \"TotalCoinSupply\": -0.03964936942263867}, {\"TotalCoinsMined\": 0.20559639319769907, \"TotalCoinSupply\": -0.03965142333759048}, {\"TotalCoinsMined\": -0.09731532411435126, \"TotalCoinSupply\": -0.03965511463354188}, {\"TotalCoinsMined\": -0.09782131357463773, \"TotalCoinSupply\": -0.03965509984535422}, {\"TotalCoinsMined\": -0.09252507555885355, \"TotalCoinSupply\": -0.03965503828474215}, {\"TotalCoinsMined\": -0.09734953248947696, \"TotalCoinSupply\": -0.03965511162113328}, {\"TotalCoinsMined\": -0.09782131357463773, \"TotalCoinSupply\": -0.039627734851812924}, {\"TotalCoinsMined\": -0.09782131357463773, \"TotalCoinSupply\": -0.03965509299897105}, {\"TotalCoinsMined\": -0.09782131357463773, \"TotalCoinSupply\": -0.039655120213618014}, {\"TotalCoinsMined\": -0.09782131357463773, \"TotalCoinSupply\": -0.0396551196718199}, {\"TotalCoinsMined\": -0.09779366186810597, \"TotalCoinSupply\": -0.039655117307516495}, {\"TotalCoinsMined\": -0.09277196187266283, \"TotalCoinSupply\": -0.0396550283691139}, {\"TotalCoinsMined\": -0.07642733491329733, \"TotalCoinSupply\": -0.039654731342993486}, {\"TotalCoinsMined\": -0.09623217232663006, \"TotalCoinSupply\": -0.03965510121463085}, {\"TotalCoinsMined\": -0.09681326220417034, \"TotalCoinSupply\": -0.039655100599633945}, {\"TotalCoinsMined\": -0.09782131357463773, \"TotalCoinSupply\": -0.03965511846751645}, {\"TotalCoinsMined\": -0.0956612421570932, \"TotalCoinSupply\": -0.03965508752186451}, {\"TotalCoinsMined\": -0.09782131357463773, \"TotalCoinSupply\": -0.03965510888258001}, {\"TotalCoinsMined\": 2.094404727679009, \"TotalCoinSupply\": -0.039630309091885856}, {\"TotalCoinsMined\": -0.09739419870471076, \"TotalCoinSupply\": -0.03965511435968655}, {\"TotalCoinsMined\": -0.0973109958331517, \"TotalCoinSupply\": -0.03965511463354188}, {\"TotalCoinsMined\": -0.09782131357463773, \"TotalCoinSupply\": -0.03965511948269541}, {\"TotalCoinsMined\": -0.09782131357463773, \"TotalCoinSupply\": -0.039655114469228675}, {\"TotalCoinsMined\": -0.09415660004540702, \"TotalCoinSupply\": -0.039655047697603786}, {\"TotalCoinsMined\": -0.09735365743517395, \"TotalCoinSupply\": -0.039655114907397204}, {\"TotalCoinsMined\": -0.09779459077475484, \"TotalCoinSupply\": -0.039655120014799046}, {\"TotalCoinsMined\": -0.09782131357463773, \"TotalCoinSupply\": -0.0396550979274906}, {\"TotalCoinsMined\": -0.09782131357463773, \"TotalCoinSupply\": -0.03965512011064841}, {\"TotalCoinsMined\": -0.09633445476107844, \"TotalCoinSupply\": -0.03965509299897105}, {\"TotalCoinsMined\": -0.09689811568595104, \"TotalCoinSupply\": -0.03965510888258001}, {\"TotalCoinsMined\": -0.09684294795992517, \"TotalCoinSupply\": -0.03965506561343836}, {\"TotalCoinsMined\": -0.09768086406480789, \"TotalCoinSupply\": -0.03965511764595047}, {\"TotalCoinsMined\": -0.05876988558984445, \"TotalCoinSupply\": -0.03965445787369688}, {\"TotalCoinsMined\": -0.09742979171885947, \"TotalCoinSupply\": -0.03965511595352455}, {\"TotalCoinsMined\": -0.09782131357463773, \"TotalCoinSupply\": -0.03965510669173739}, {\"TotalCoinsMined\": -0.04056750202164216, \"TotalCoinSupply\": -0.039651012554600115}, {\"TotalCoinsMined\": -0.09746472379246895, \"TotalCoinSupply\": -0.03965511463354188}, {\"TotalCoinsMined\": -0.08972205669427799, \"TotalCoinSupply\": -0.039655028095258574}, {\"TotalCoinsMined\": -0.09774338145706099, \"TotalCoinSupply\": -0.039655119352069154}, {\"TotalCoinsMined\": -0.09243299461489494, \"TotalCoinSupply\": -0.039655005365266435}, {\"TotalCoinsMined\": -0.09603165520299407, \"TotalCoinSupply\": -0.0396550935466817}, {\"TotalCoinsMined\": -0.09782131357463773, \"TotalCoinSupply\": -0.039655117098239816}, {\"TotalCoinsMined\": -0.09779459529510653, \"TotalCoinSupply\": -0.03965511463354188}, {\"TotalCoinsMined\": -0.0972353572775438, \"TotalCoinSupply\": -0.039655051920672015}, {\"TotalCoinsMined\": -0.09782131357463773, \"TotalCoinSupply\": -0.03965512011064841}, {\"TotalCoinsMined\": -0.09782131357463773, \"TotalCoinSupply\": -0.03965512011064841}, {\"TotalCoinsMined\": -0.09720199914573825, \"TotalCoinSupply\": -0.039655106363111}, {\"TotalCoinsMined\": -0.09782131357463773, \"TotalCoinSupply\": -0.03965510669173739}, {\"TotalCoinsMined\": -0.09782131357463773, \"TotalCoinSupply\": -0.03965511463354188}, {\"TotalCoinsMined\": -0.09782128509372152, \"TotalCoinSupply\": -0.039655120384229886}, {\"TotalCoinsMined\": -0.08418975806923153, \"TotalCoinSupply\": -0.039654877200973444}, {\"TotalCoinsMined\": -0.09587917972380813, \"TotalCoinSupply\": -0.03965509299897105}, {\"TotalCoinsMined\": -0.09676781488918365, \"TotalCoinSupply\": -0.03965510751002587}, {\"TotalCoinsMined\": -0.05856443605767507, \"TotalCoinSupply\": -0.03965449051725185}, {\"TotalCoinsMined\": -0.09778666580203405, \"TotalCoinSupply\": -0.03965511764595047}, {\"TotalCoinsMined\": -0.09726632539139117, \"TotalCoinSupply\": -0.03965510888258001}, {\"TotalCoinsMined\": -0.09782131357463773, \"TotalCoinSupply\": -0.03965511966563351}, {\"TotalCoinsMined\": -0.09776618715215682, \"TotalCoinSupply\": -0.03965509847607759}, {\"TotalCoinsMined\": -0.09781645193326176, \"TotalCoinSupply\": -0.039655120316039905}, {\"TotalCoinsMined\": -0.07122897992401421, \"TotalCoinSupply\": -0.03965468221598069}, {\"TotalCoinsMined\": -0.0966057274750268, \"TotalCoinSupply\": -0.03965509299897105}, {\"TotalCoinsMined\": -0.09726111083888213, \"TotalCoinSupply\": -0.03965511408583122}, {\"TotalCoinsMined\": -0.0965830174488174, \"TotalCoinSupply\": -0.03965509738065628}, {\"TotalCoinsMined\": -0.0949270780057699, \"TotalCoinSupply\": -0.039655047697603786}, {\"TotalCoinsMined\": -0.09782131357463773, \"TotalCoinSupply\": -0.03965511983679309}, {\"TotalCoinsMined\": -0.09765311813024204, \"TotalCoinSupply\": -0.03965511887829944}, {\"TotalCoinsMined\": -0.09687285939579682, \"TotalCoinSupply\": -0.03965510806101403}, {\"TotalCoinsMined\": -0.09782131357463773, \"TotalCoinSupply\": -0.03965510669173739}, {\"TotalCoinsMined\": -0.09424026211540762, \"TotalCoinSupply\": -0.03965484652917683}, {\"TotalCoinsMined\": 4.356207512412858, \"TotalCoinSupply\": -0.03960460299321734}, {\"TotalCoinsMined\": 0.0693035318093116, \"TotalCoinSupply\": -0.03965238183123466}, {\"TotalCoinsMined\": -0.053949718707681976, \"TotalCoinSupply\": -0.03965452918211866}, {\"TotalCoinsMined\": -0.09658303147915638, \"TotalCoinSupply\": -0.039654983456840286}, {\"TotalCoinsMined\": -0.09617114635215596, \"TotalCoinSupply\": -0.039655091596831775}, {\"TotalCoinsMined\": -0.09687465113730341, \"TotalCoinSupply\": -0.03965510176234151}, {\"TotalCoinsMined\": -0.09782131357463773, \"TotalCoinSupply\": -0.03965512011064841}, {\"TotalCoinsMined\": -0.09782131357463773, \"TotalCoinSupply\": -0.03965511572896318}, {\"TotalCoinsMined\": -0.08777840484246563, \"TotalCoinSupply\": -0.03965466030755453}, {\"TotalCoinsMined\": -0.09449367653765184, \"TotalCoinSupply\": -0.039655074818811316}, {\"TotalCoinsMined\": -0.09777237419232661, \"TotalCoinSupply\": -0.039655117098239816}, {\"TotalCoinsMined\": -0.097816911512842, \"TotalCoinSupply\": -0.03965511966481194}, {\"TotalCoinsMined\": -0.09359524616844746, \"TotalCoinSupply\": -0.039654983456840286}, {\"TotalCoinsMined\": -0.09413668481772604, \"TotalCoinSupply\": -0.03965507656765144}, {\"TotalCoinsMined\": -0.09782131357463773, \"TotalCoinSupply\": -0.03965512038395219}, {\"TotalCoinsMined\": -0.09764958516809692, \"TotalCoinSupply\": -0.03965511764595047}, {\"TotalCoinsMined\": -0.09782131357463773, \"TotalCoinSupply\": -0.039655117098239816}, {\"TotalCoinsMined\": -0.07864358459482293, \"TotalCoinSupply\": -0.03965484652917683}, {\"TotalCoinsMined\": -0.09782131357463773, \"TotalCoinSupply\": -0.03965511761582639}, {\"TotalCoinsMined\": -0.09782131357463773, \"TotalCoinSupply\": -0.039655062874885086}, {\"TotalCoinsMined\": -0.08041294058309174, \"TotalCoinSupply\": -0.03965484652917683}, {\"TotalCoinsMined\": -0.09775622580047615, \"TotalCoinSupply\": -0.039655114907397204}, {\"TotalCoinsMined\": -0.0975759458973813, \"TotalCoinSupply\": -0.03965511946124514}, {\"TotalCoinsMined\": -0.09754050379137254, \"TotalCoinSupply\": -0.039655114907397204}, {\"TotalCoinsMined\": 0.013739200856215978, \"TotalCoinSupply\": -0.03965238183123466}, {\"TotalCoinsMined\": -0.08067695093301838, \"TotalCoinSupply\": -0.039654616490702226}, {\"TotalCoinsMined\": -0.09782131357463773, \"TotalCoinSupply\": -0.03965509738065628}, {\"TotalCoinsMined\": -0.09782131357463773, \"TotalCoinSupply\": -0.03965511134727795}, {\"TotalCoinsMined\": -0.09780632351430561, \"TotalCoinSupply\": -0.03965512021485639}, {\"TotalCoinsMined\": -0.09751974447017177, \"TotalCoinSupply\": -0.03965511463354188}, {\"TotalCoinsMined\": -0.09781917900619128, \"TotalCoinSupply\": -0.039629925694428185}, {\"TotalCoinsMined\": -0.09782131357463773, \"TotalCoinSupply\": -0.03965511134727795}, {\"TotalCoinsMined\": -0.09628094318476843, \"TotalCoinSupply\": -0.03965509902378824}, {\"TotalCoinsMined\": -0.09704161946029814, \"TotalCoinSupply\": -0.03965511134727795}, {\"TotalCoinsMined\": -0.09748876831597059, \"TotalCoinSupply\": -0.039655102367808254}, {\"TotalCoinsMined\": -0.09746446245525507, \"TotalCoinSupply\": -0.03965510566204136}, {\"TotalCoinsMined\": -0.0976139851272439, \"TotalCoinSupply\": -0.039655118998795785}, {\"TotalCoinsMined\": -0.09743744218417019, \"TotalCoinSupply\": -0.03965511463354188}, {\"TotalCoinsMined\": -0.09703330203632031, \"TotalCoinSupply\": -0.03965506280915981}, {\"TotalCoinsMined\": -0.09599160224189697, \"TotalCoinSupply\": -0.039655051920672015}, {\"TotalCoinsMined\": -0.09540152460196613, \"TotalCoinSupply\": -0.03965509299897105}, {\"TotalCoinsMined\": -0.0975673499949425, \"TotalCoinSupply\": -0.03965511575459686}, {\"TotalCoinsMined\": -0.09782131357463773, \"TotalCoinSupply\": -0.0396551197741018}, {\"TotalCoinsMined\": -0.09726373118402935, \"TotalCoinSupply\": -0.03965510669173739}, {\"TotalCoinsMined\": -0.0967793574082967, \"TotalCoinSupply\": -0.03965484652917683}, {\"TotalCoinsMined\": -0.09782131357463773, \"TotalCoinSupply\": -0.0396551193295703}, {\"TotalCoinsMined\": -0.09749390266249204, \"TotalCoinSupply\": -0.039655113182656354}, {\"TotalCoinsMined\": -0.09743734884081057, \"TotalCoinSupply\": -0.039655116002818507}, {\"TotalCoinsMined\": -0.09731321894491864, \"TotalCoinSupply\": -0.03965511463354188}, {\"TotalCoinsMined\": -0.09757050131205774, \"TotalCoinSupply\": -0.03965511463354188}, {\"TotalCoinsMined\": -0.09782131357463773, \"TotalCoinSupply\": -0.039650601771609756}, {\"TotalCoinsMined\": -0.09273975673202736, \"TotalCoinSupply\": -0.039655062874885086}, {\"TotalCoinsMined\": -0.09754427316924894, \"TotalCoinSupply\": -0.039655097938746046}, {\"TotalCoinsMined\": -0.09773251477604268, \"TotalCoinSupply\": -0.03965511435968655}, {\"TotalCoinsMined\": 0.16826637918485632, \"TotalCoinSupply\": -0.039647849525574326}, {\"TotalCoinsMined\": -0.09613142732789381, \"TotalCoinSupply\": -0.03965509738065628}, {\"TotalCoinsMined\": -0.09782131357463773, \"TotalCoinSupply\": -0.03965511533276463}, {\"TotalCoinsMined\": -0.09769720225945895, \"TotalCoinSupply\": -0.03965511750902281}, {\"TotalCoinsMined\": -0.09782131357463773, \"TotalCoinSupply\": -0.03965511485523774}, {\"TotalCoinsMined\": 0.4282401298252071, \"TotalCoinSupply\": -0.03964919791252453}, {\"TotalCoinsMined\": -0.09782131357463773, \"TotalCoinSupply\": -0.039655117098239816}, {\"TotalCoinsMined\": -0.09760356297800837, \"TotalCoinSupply\": -0.03965510888258001}, {\"TotalCoinsMined\": -0.09782131357463773, \"TotalCoinSupply\": -0.039655119234311365}, {\"TotalCoinsMined\": -0.09782131357463773, \"TotalCoinSupply\": -0.039655116276673834}, {\"TotalCoinsMined\": -0.09782131357463773, \"TotalCoinSupply\": -0.0396545042100182}, {\"TotalCoinsMined\": -0.09684185457585809, \"TotalCoinSupply\": -0.03965505984806294}, {\"TotalCoinsMined\": -0.09782131357463773, \"TotalCoinSupply\": -0.0396537511078692}, {\"TotalCoinsMined\": -0.0967297389289493, \"TotalCoinSupply\": -0.03965509738065628}, {\"TotalCoinsMined\": -0.09782131357463773, \"TotalCoinSupply\": -0.03964936942263867}, {\"TotalCoinsMined\": -0.0976833360459173, \"TotalCoinSupply\": -0.03965511216884393}, {\"TotalCoinsMined\": -0.0978059125237997, \"TotalCoinSupply\": -0.03965507428060344}, {\"TotalCoinsMined\": -0.09782131357463773, \"TotalCoinSupply\": -0.039655062874885086}, {\"TotalCoinsMined\": -0.09782131357463773, \"TotalCoinSupply\": -0.03965511534556573}, {\"TotalCoinsMined\": -0.09740357681403458, \"TotalCoinSupply\": -0.039655113811975895}, {\"TotalCoinsMined\": -0.097569479607947, \"TotalCoinSupply\": -0.039655015224058204}, {\"TotalCoinsMined\": -0.09782131357463773, \"TotalCoinSupply\": -0.03965510888258001}, {\"TotalCoinsMined\": 0.7968045793463954, \"TotalCoinSupply\": -0.03962800870713983}, {\"TotalCoinsMined\": -0.09771539743652526, \"TotalCoinSupply\": -0.039655109430290665}, {\"TotalCoinsMined\": -0.045856741094605684, \"TotalCoinSupply\": -0.03965453228466756}, {\"TotalCoinsMined\": -0.09733735578010341, \"TotalCoinSupply\": -0.039655114907397204}, {\"TotalCoinsMined\": -0.09766231389554361, \"TotalCoinSupply\": -0.039655114907397204}, {\"TotalCoinsMined\": -0.0974909135920123, \"TotalCoinSupply\": -0.03965511353812057}, {\"TotalCoinsMined\": -0.09782131357463773, \"TotalCoinSupply\": -0.039655120357118205}, {\"TotalCoinsMined\": -0.09782131357463773, \"TotalCoinSupply\": -0.03965511463354188}, {\"TotalCoinsMined\": -0.09456536794647648, \"TotalCoinSupply\": -0.03965509984535422}, {\"TotalCoinsMined\": -0.09782131357463773, \"TotalCoinSupply\": -0.039655116276673834}, {\"TotalCoinsMined\": -0.0977923843925222, \"TotalCoinSupply\": -0.039655059390076054}, {\"TotalCoinsMined\": -0.09782131357463773, \"TotalCoinSupply\": -0.03965511972143783}, {\"TotalCoinsMined\": -0.09741810849374162, \"TotalCoinSupply\": -0.03965497661045711}, {\"TotalCoinsMined\": -0.09580198992519372, \"TotalCoinSupply\": -0.03965509573752432}, {\"TotalCoinsMined\": -0.09782131357463773, \"TotalCoinSupply\": -0.03965511052571197}, {\"TotalCoinsMined\": -0.097231182106475, \"TotalCoinSupply\": -0.0396550823186133}, {\"TotalCoinsMined\": -0.09782131357463773, \"TotalCoinSupply\": -0.039655116002818507}, {\"TotalCoinsMined\": -0.09782131357463773, \"TotalCoinSupply\": -0.03965509993663924}, {\"TotalCoinsMined\": -0.09782131357463773, \"TotalCoinSupply\": -0.03965502453513932}, {\"TotalCoinsMined\": -0.09780639683391149, \"TotalCoinSupply\": -0.03965512021568617}, {\"TotalCoinsMined\": -0.0968875216399674, \"TotalCoinSupply\": -0.039655111210350286}, {\"TotalCoinsMined\": -0.07814619482814594, \"TotalCoinSupply\": -0.039654572673849926}, {\"TotalCoinsMined\": -0.09771178608561835, \"TotalCoinSupply\": -0.039655108243584335}, {\"TotalCoinsMined\": -0.09540152460196613, \"TotalCoinSupply\": -0.03965509299897105}, {\"TotalCoinsMined\": -0.09770032412600416, \"TotalCoinSupply\": -0.03965506561343836}, {\"TotalCoinsMined\": -0.09778797089101916, \"TotalCoinSupply\": -0.03965511353812057}, {\"TotalCoinsMined\": -0.08192330002418528, \"TotalCoinSupply\": -0.03965494046155396}, {\"TotalCoinsMined\": -0.09501682338116724, \"TotalCoinSupply\": -0.03965506561343836}, {\"TotalCoinsMined\": -0.09744470069206312, \"TotalCoinSupply\": -0.03965510669173739}, {\"TotalCoinsMined\": -0.09782131357463773, \"TotalCoinSupply\": -0.03965509299897105}, {\"TotalCoinsMined\": -0.09677679956563917, \"TotalCoinSupply\": -0.03965509573752432}, {\"TotalCoinsMined\": -0.09763202721017811, \"TotalCoinSupply\": -0.03965511764595047}, {\"TotalCoinsMined\": -0.09780690544935565, \"TotalCoinSupply\": -0.03965511463354188}, {\"TotalCoinsMined\": -0.09767022582284647, \"TotalCoinSupply\": -0.03965511771824828}, {\"TotalCoinsMined\": -0.0978054001628691, \"TotalCoinSupply\": -0.03965511956293776}, {\"TotalCoinsMined\": -0.09775883534930005, \"TotalCoinSupply\": -0.03965511463354188}, {\"TotalCoinsMined\": -0.07362342384792167, \"TotalCoinSupply\": -0.03965479175811145}, {\"TotalCoinsMined\": -0.09499390563240075, \"TotalCoinSupply\": -0.03965506561343836}, {\"TotalCoinsMined\": -0.09782131357463773, \"TotalCoinSupply\": -0.03965238183123466}, {\"TotalCoinsMined\": -0.097600950313493, \"TotalCoinSupply\": -0.039655117471149165}, {\"TotalCoinsMined\": -0.0817248759491465, \"TotalCoinSupply\": -0.03965427143299032}, {\"TotalCoinsMined\": -0.09755225239918844, \"TotalCoinSupply\": -0.03965511216884393}, {\"TotalCoinsMined\": 0.3759198236117511, \"TotalCoinSupply\": -0.03964964327796557}, {\"TotalCoinsMined\": -0.09602985168176409, \"TotalCoinSupply\": -0.03965510011920955}, {\"TotalCoinsMined\": -0.09782131357463773, \"TotalCoinSupply\": -0.03965509642216263}, {\"TotalCoinsMined\": -0.09141665342793251, \"TotalCoinSupply\": -0.03965470960151338}, {\"TotalCoinsMined\": -0.09782131357463773, \"TotalCoinSupply\": -0.03965511764595047}, {\"TotalCoinsMined\": -0.0976381771395401, \"TotalCoinSupply\": -0.039655114523999745}, {\"TotalCoinsMined\": -0.09782131357463773, \"TotalCoinSupply\": -0.039654572673849926}, {\"TotalCoinsMined\": -0.09422268046056141, \"TotalCoinSupply\": -0.039655109430318594}, {\"TotalCoinsMined\": -0.09776081584978262, \"TotalCoinSupply\": -0.039655119699831466}, {\"TotalCoinsMined\": -0.09782131357463773, \"TotalCoinSupply\": -0.03965508587873255}, {\"TotalCoinsMined\": -0.09540152460196613, \"TotalCoinSupply\": -0.03965509299897105}, {\"TotalCoinsMined\": -0.09739013906852398, \"TotalCoinSupply\": -0.03965503795405034}, {\"TotalCoinsMined\": -0.0716352614535451, \"TotalCoinSupply\": -0.03965306482641997}, {\"TotalCoinsMined\": -0.09718719483168659, \"TotalCoinSupply\": -0.03965511320797729}, {\"TotalCoinsMined\": -0.09782131357463773, \"TotalCoinSupply\": -0.03965509299897105}, {\"TotalCoinsMined\": -0.09768547751076233, \"TotalCoinSupply\": -0.03965511463354188}, {\"TotalCoinsMined\": -0.09520305147780486, \"TotalCoinSupply\": -0.03965508615258788}, {\"TotalCoinsMined\": -0.09737745620838596, \"TotalCoinSupply\": -0.03965511216884393}, {\"TotalCoinsMined\": -0.09782131357463773, \"TotalCoinSupply\": -0.03965484652917683}, {\"TotalCoinsMined\": -0.09307131691880163, \"TotalCoinSupply\": -0.03965238183123466}, {\"TotalCoinsMined\": -0.09782131357463773, \"TotalCoinSupply\": -0.03965511463354188}, {\"TotalCoinsMined\": -0.07788225243982369, \"TotalCoinSupply\": -0.039654983456840286}, {\"TotalCoinsMined\": 2.1330504442711997, \"TotalCoinSupply\": -0.03965488760747587}, {\"TotalCoinsMined\": -0.09772807119820512, \"TotalCoinSupply\": -0.03965511932924967}, {\"TotalCoinsMined\": -0.09661141908830194, \"TotalCoinSupply\": -0.03965510669173739}, {\"TotalCoinsMined\": -0.09782131357463773, \"TotalCoinSupply\": -0.039653203397215384}, {\"TotalCoinsMined\": -0.09740778131836406, \"TotalCoinSupply\": -0.03965510983011944}, {\"TotalCoinsMined\": -0.09782131357463773, \"TotalCoinSupply\": -0.03965506561343836}, {\"TotalCoinsMined\": -0.09776203897046448, \"TotalCoinSupply\": -0.03965510888258001}, {\"TotalCoinsMined\": -0.09633641459656318, \"TotalCoinSupply\": -0.0396550579454892}, {\"TotalCoinsMined\": -0.09733735578010341, \"TotalCoinSupply\": -0.039655114907397204}, {\"TotalCoinsMined\": -0.09767444491663504, \"TotalCoinSupply\": -0.039655103953184126}, {\"TotalCoinsMined\": -0.09752085917015992, \"TotalCoinSupply\": -0.039655114907397204}, {\"TotalCoinsMined\": -0.09733145092295437, \"TotalCoinSupply\": -0.03965511134727795}, {\"TotalCoinsMined\": -0.09599218616117396, \"TotalCoinSupply\": -0.03965509943457123}, {\"TotalCoinsMined\": -0.09755318347646776, \"TotalCoinSupply\": -0.039655112716554586}, {\"TotalCoinsMined\": -0.09755720769144245, \"TotalCoinSupply\": -0.03965494219784247}, {\"TotalCoinsMined\": -0.09780160025561618, \"TotalCoinSupply\": -0.03965511901522711}, {\"TotalCoinsMined\": -0.09779764452979099, \"TotalCoinSupply\": -0.03965511463354188}, {\"TotalCoinsMined\": -0.0976185867276393, \"TotalCoinSupply\": -0.03965508094933667}, {\"TotalCoinsMined\": 0.7203854119396847, \"TotalCoinSupply\": -0.039646216001307244}, {\"TotalCoinsMined\": -0.09773727471498098, \"TotalCoinSupply\": -0.03965511682438449}, {\"TotalCoinsMined\": -0.09774107847805868, \"TotalCoinSupply\": -0.03965511947645726}, {\"TotalCoinsMined\": -0.09756680566972471, \"TotalCoinSupply\": -0.039655116276673834}, {\"TotalCoinsMined\": -0.097089865813451, \"TotalCoinSupply\": -0.03965509879506427}, {\"TotalCoinsMined\": -0.09779968003207692, \"TotalCoinSupply\": -0.03965511964118206}, {\"TotalCoinsMined\": -0.09759489179105056, \"TotalCoinSupply\": -0.03965511353812057}, {\"TotalCoinsMined\": -0.09782131357463773, \"TotalCoinSupply\": -0.039655051920672015}, {\"TotalCoinsMined\": -0.09777591478988443, \"TotalCoinSupply\": -0.03965511764595074}, {\"TotalCoinsMined\": -0.09782131357463773, \"TotalCoinSupply\": -0.03965499714960663}, {\"TotalCoinsMined\": -0.09782131357463773, \"TotalCoinSupply\": -0.03965509299897105}, {\"TotalCoinsMined\": -0.09724140214572201, \"TotalCoinSupply\": -0.039654983456840286}, {\"TotalCoinsMined\": -0.0977601878062525, \"TotalCoinSupply\": -0.03965511463354188}, {\"TotalCoinsMined\": -0.09768437537051249, \"TotalCoinSupply\": -0.03965511782286101}, {\"TotalCoinsMined\": -0.09782131357463773, \"TotalCoinSupply\": -0.03965509299897105}, {\"TotalCoinsMined\": -0.09782131357463773, \"TotalCoinSupply\": -0.039655092823703636}, {\"TotalCoinsMined\": -0.0975352527041145, \"TotalCoinSupply\": -0.039655114907397204}, {\"TotalCoinsMined\": -0.08482748056276244, \"TotalCoinSupply\": -0.039627734851812924}, {\"TotalCoinsMined\": -0.09781385629317965, \"TotalCoinSupply\": -0.03965511437794366}, {\"TotalCoinsMined\": -0.09782131357463773, \"TotalCoinSupply\": -0.039655114907397204}, {\"TotalCoinsMined\": -0.09755587921464207, \"TotalCoinSupply\": -0.03965506972126826}, {\"TotalCoinsMined\": -0.09775059248421708, \"TotalCoinSupply\": -0.03965510532246076}, {\"TotalCoinsMined\": -0.09515954570469896, \"TotalCoinSupply\": -0.03965509026041778}, {\"TotalCoinsMined\": -0.09782131357463773, \"TotalCoinSupply\": -0.039655088891141145}, {\"TotalCoinsMined\": -0.09774593090508346, \"TotalCoinSupply\": -0.03965511946434984}, {\"TotalCoinsMined\": -0.09746984282016244, \"TotalCoinSupply\": -0.03965511640679579}, {\"TotalCoinsMined\": -0.09708604762843101, \"TotalCoinSupply\": -0.03965484652917683}, {\"TotalCoinsMined\": -0.09765382415684366, \"TotalCoinSupply\": -0.03965511572896318}, {\"TotalCoinsMined\": -0.07362342384792167, \"TotalCoinSupply\": -0.03965484652917683}, {\"TotalCoinsMined\": -0.09540531379027137, \"TotalCoinSupply\": -0.03965509299897105}, {\"TotalCoinsMined\": -0.09737254537975432, \"TotalCoinSupply\": -0.03965511463354188}, {\"TotalCoinsMined\": -0.09782131357463773, \"TotalCoinSupply\": -0.03965499580815534}, {\"TotalCoinsMined\": -0.09782131357463773, \"TotalCoinSupply\": -0.039655062874885086}, {\"TotalCoinsMined\": -0.09694897081775987, \"TotalCoinSupply\": -0.03965511095664442}, {\"TotalCoinsMined\": -0.09776728208246906, \"TotalCoinSupply\": -0.03965511977301191}, {\"TotalCoinsMined\": -0.09750280282375906, \"TotalCoinSupply\": -0.03965509299897105}, {\"TotalCoinsMined\": -0.09752648174521533, \"TotalCoinSupply\": -0.03965511027924218}, {\"TotalCoinsMined\": -0.09514429164900821, \"TotalCoinSupply\": -0.03965509026041778}, {\"TotalCoinsMined\": -0.09627032437642388, \"TotalCoinSupply\": -0.03965402496319611}, {\"TotalCoinsMined\": -0.09782131357463773, \"TotalCoinSupply\": -0.03965508971270713}, {\"TotalCoinsMined\": -0.09513206084891142, \"TotalCoinSupply\": -0.03965509018099152}, {\"TotalCoinsMined\": -0.09730054299786868, \"TotalCoinSupply\": -0.03965509299897105}, {\"TotalCoinsMined\": -0.09757635349735624, \"TotalCoinSupply\": -0.03965510717043651}, {\"TotalCoinsMined\": -0.08810776277929587, \"TotalCoinSupply\": -0.039655010842372974}, {\"TotalCoinsMined\": -0.09487726639220811, \"TotalCoinSupply\": -0.039654983456840286}, {\"TotalCoinsMined\": -0.09769139670175572, \"TotalCoinSupply\": -0.03965511457545141}, {\"TotalCoinsMined\": -0.09779352655711519, \"TotalCoinSupply\": -0.03965511255224139}, {\"TotalCoinsMined\": -0.09780921462977438, \"TotalCoinSupply\": -0.03965484652917683}, {\"TotalCoinsMined\": -0.09782131357463773, \"TotalCoinSupply\": -0.03965511463354188}, {\"TotalCoinsMined\": -0.09538831872463722, \"TotalCoinSupply\": -0.03963458123498562}, {\"TotalCoinsMined\": -0.09740580236654642, \"TotalCoinSupply\": -0.039655109430290665}, {\"TotalCoinsMined\": -0.0973306747634022, \"TotalCoinSupply\": -0.03965511065705299}, {\"TotalCoinsMined\": -0.09782131357463773, \"TotalCoinSupply\": -0.03965512011064841}, {\"TotalCoinsMined\": -0.09067965810517009, \"TotalCoinSupply\": -0.039654572673849926}, {\"TotalCoinsMined\": -0.06593460488198195, \"TotalCoinSupply\": -0.03965443574618647}, {\"TotalCoinsMined\": -0.09754569414254981, \"TotalCoinSupply\": -0.03965511216884393}, {\"TotalCoinsMined\": -0.09730447655866678, \"TotalCoinSupply\": -0.03965509162969441}, {\"TotalCoinsMined\": -0.09782131357463773, \"TotalCoinSupply\": -0.03965454706837686}, {\"TotalCoinsMined\": 0.8860411687817055, \"TotalCoinSupply\": -0.039630473405082}, {\"TotalCoinsMined\": -0.09757103206683278, \"TotalCoinSupply\": -0.03965506559037974}, {\"TotalCoinsMined\": -0.09749044599359488, \"TotalCoinSupply\": -0.039655100666920205}, {\"TotalCoinsMined\": -0.09540152460196613, \"TotalCoinSupply\": -0.03965509299897105}, {\"TotalCoinsMined\": -0.0961507876521165, \"TotalCoinSupply\": -0.03965509162969441}, {\"TotalCoinsMined\": 0.4539361336993163, \"TotalCoinSupply\": -0.03964142761815833}, {\"TotalCoinsMined\": -0.09459698597755903, \"TotalCoinSupply\": -0.039655027196364885}, {\"TotalCoinsMined\": -0.09737589674904099, \"TotalCoinSupply\": -0.03965511216884393}, {\"TotalCoinsMined\": -0.05403602718420776, \"TotalCoinSupply\": -0.039654572673849926}, {\"TotalCoinsMined\": -0.09772037493299372, \"TotalCoinSupply\": -0.03965511764595047}, {\"TotalCoinsMined\": -0.0969710245324779, \"TotalCoinSupply\": -0.03965509299897105}, {\"TotalCoinsMined\": -0.09629824818461705, \"TotalCoinSupply\": -0.03965508752186451}, {\"TotalCoinsMined\": -0.09765666237330108, \"TotalCoinSupply\": -0.03965509299897105}, {\"TotalCoinsMined\": -0.0973825285216347, \"TotalCoinSupply\": -0.039655115105449376}, {\"TotalCoinsMined\": -0.09730667062972409, \"TotalCoinSupply\": -0.03965511216884393}, {\"TotalCoinsMined\": -0.09769626432505525, \"TotalCoinSupply\": -0.03965509984535422}, {\"TotalCoinsMined\": -0.09782131357463773, \"TotalCoinSupply\": -0.03965511821950376}, {\"TotalCoinsMined\": -0.09719114331330349, \"TotalCoinSupply\": -0.039655103953184126}, {\"TotalCoinsMined\": -0.09775784526844399, \"TotalCoinSupply\": -0.03965511520863806}, {\"TotalCoinsMined\": 0.12104692797570453, \"TotalCoinSupply\": -0.03964142761815833}, {\"TotalCoinsMined\": -0.09747862782731226, \"TotalCoinSupply\": -0.03965510559631608}, {\"TotalCoinsMined\": -0.09729096798874273, \"TotalCoinSupply\": -0.03965511520913439}, {\"TotalCoinsMined\": -0.09739054600455294, \"TotalCoinSupply\": -0.03965511463354188}, {\"TotalCoinsMined\": 3.8477679551092994, \"TotalCoinSupply\": -0.039600349319122104}, {\"TotalCoinsMined\": -0.04359362130518819, \"TotalCoinSupply\": -0.0396537511078692}, {\"TotalCoinsMined\": -0.09520860048948122, \"TotalCoinSupply\": -0.03965508272939629}, {\"TotalCoinsMined\": -0.09485766158267359, \"TotalCoinSupply\": -0.03965481914364414}, {\"TotalCoinsMined\": -0.09667598383772233, \"TotalCoinSupply\": -0.03965509299897105}, {\"TotalCoinsMined\": -0.09738585828079462, \"TotalCoinSupply\": -0.03965511463354188}, {\"TotalCoinsMined\": -0.09751716394584714, \"TotalCoinSupply\": -0.03965511778088693}, {\"TotalCoinsMined\": -0.09782131357463773, \"TotalCoinSupply\": -0.03965484379062356}, {\"TotalCoinsMined\": -0.0973697011634502, \"TotalCoinSupply\": -0.03965511561780772}, {\"TotalCoinsMined\": 1.2440662439400463, \"TotalCoinSupply\": -0.039631373667644985}, {\"TotalCoinsMined\": -0.09780957241977188, \"TotalCoinSupply\": -0.0396522449035712}, {\"TotalCoinsMined\": -0.09772452201573087, \"TotalCoinSupply\": -0.039655103515025186}, {\"TotalCoinsMined\": -0.09782131357463773, \"TotalCoinSupply\": -0.03965484652917683}, {\"TotalCoinsMined\": -0.09758649623641831, \"TotalCoinSupply\": -0.039655114907397204}, {\"TotalCoinsMined\": -0.09739896967123571, \"TotalCoinSupply\": -0.03965509738065628}, {\"TotalCoinsMined\": -0.09703133157643663, \"TotalCoinSupply\": -0.03965509299897105}, {\"TotalCoinsMined\": -0.09700544479652178, \"TotalCoinSupply\": -0.03965509299897105}, {\"TotalCoinsMined\": -0.09734849677890828, \"TotalCoinSupply\": -0.03965510717043651}, {\"TotalCoinsMined\": -0.09771968243778553, \"TotalCoinSupply\": -0.039655119234311365}, {\"TotalCoinsMined\": -0.09760482345192055, \"TotalCoinSupply\": -0.03965509604180826}, {\"TotalCoinsMined\": -0.09721636633146984, \"TotalCoinSupply\": -0.03965509535715406}, {\"TotalCoinsMined\": 0.5295590802406753, \"TotalCoinSupply\": -0.03964279689479287}, {\"TotalCoinsMined\": -0.09764557877085867, \"TotalCoinSupply\": -0.03965511299040991}, {\"TotalCoinsMined\": 0.028287277467720466, \"TotalCoinSupply\": -0.03964936942263867}, {\"TotalCoinsMined\": -0.09340184971157388, \"TotalCoinSupply\": -0.039655010842372974}, {\"TotalCoinsMined\": -0.03241791015250634, \"TotalCoinSupply\": -0.039654627444915304}, {\"TotalCoinsMined\": -0.0977937101969135, \"TotalCoinSupply\": -0.03965511607584669}, {\"TotalCoinsMined\": -0.0977205059506529, \"TotalCoinSupply\": -0.03965511299040991}, {\"TotalCoinsMined\": -0.09724056422119655, \"TotalCoinSupply\": -0.039655113811975895}, {\"TotalCoinsMined\": -0.09740505273796711, \"TotalCoinSupply\": -0.03965511463354188}, {\"TotalCoinsMined\": 1.0747956570820891, \"TotalCoinSupply\": -0.03964827400133104}, {\"TotalCoinsMined\": -0.09559387846698174, \"TotalCoinSupply\": -0.03965509299897105}, {\"TotalCoinsMined\": -0.08425686659222485, \"TotalCoinSupply\": -0.03965479175811145}, {\"TotalCoinsMined\": -0.09762033133940332, \"TotalCoinSupply\": -0.039655103953184126}, {\"TotalCoinsMined\": -0.09699890038045363, \"TotalCoinSupply\": -0.03965507757907235}, {\"TotalCoinsMined\": -0.09776929566146689, \"TotalCoinSupply\": -0.03965511463354188}, {\"TotalCoinsMined\": -0.09707815886159074, \"TotalCoinSupply\": -0.03965506561343836}, {\"TotalCoinsMined\": -0.09540176654472467, \"TotalCoinSupply\": -0.03965509299897105}, {\"TotalCoinsMined\": -0.09752293408342373, \"TotalCoinSupply\": -0.03965511463354188}, {\"TotalCoinsMined\": -0.09742537451527289, \"TotalCoinSupply\": -0.03965511633465558}, {\"TotalCoinsMined\": -0.09782131357463773, \"TotalCoinSupply\": -0.03965511901522711}, {\"TotalCoinsMined\": -0.09782131357463773, \"TotalCoinSupply\": -0.03965511937483749}, {\"TotalCoinsMined\": -0.09782131357463773, \"TotalCoinSupply\": -0.03965509984535422}, {\"TotalCoinsMined\": 0.11995969372382798, \"TotalCoinSupply\": -0.039652655686561566}, {\"TotalCoinsMined\": -0.0935814595401839, \"TotalCoinSupply\": -0.03965502453513932}, {\"TotalCoinsMined\": -0.09766704575940857, \"TotalCoinSupply\": -0.03965510806101403}, {\"TotalCoinsMined\": -0.09782131357463773, \"TotalCoinSupply\": -0.03965503822790567}, {\"TotalCoinsMined\": -0.09751263641265821, \"TotalCoinSupply\": -0.0396550437050122}, {\"TotalCoinsMined\": -0.09782131357463773, \"TotalCoinSupply\": -0.03965509160230888}, {\"TotalCoinsMined\": -0.09768018405602412, \"TotalCoinSupply\": -0.039655111675904346}, {\"TotalCoinsMined\": -0.09782131357463773, \"TotalCoinSupply\": -0.03965510669173739}, {\"TotalCoinsMined\": -0.09689698818912401, \"TotalCoinSupply\": -0.03965508094933667}, {\"TotalCoinsMined\": -0.0908501297911136, \"TotalCoinSupply\": -0.039654983456840286}, {\"TotalCoinsMined\": 0.589378191490992, \"TotalCoinSupply\": -0.039646904724696494}, {\"TotalCoinsMined\": -0.09338017747925383, \"TotalCoinSupply\": -0.039655062874885086}, {\"TotalCoinsMined\": -0.08616445044688095, \"TotalCoinSupply\": -0.03965493963998798}, {\"TotalCoinsMined\": -0.09513590491588826, \"TotalCoinSupply\": -0.039655062874885086}, {\"TotalCoinsMined\": 0.36875807471928396, \"TotalCoinSupply\": -0.039631842681716545}, {\"TotalCoinsMined\": -0.09771242307086751, \"TotalCoinSupply\": -0.03965511696131215}, {\"TotalCoinsMined\": -0.0852168317226449, \"TotalCoinSupply\": -0.03965238183123466}, {\"TotalCoinsMined\": -0.09750075980089178, \"TotalCoinSupply\": -0.039655112794296364}, {\"TotalCoinsMined\": -0.09741101984530548, \"TotalCoinSupply\": -0.039655114907397204}, {\"TotalCoinsMined\": -0.09587783085438363, \"TotalCoinSupply\": -0.03965496976407394}, {\"TotalCoinsMined\": -0.09782131357463773, \"TotalCoinSupply\": -0.03965511463354188}, {\"TotalCoinsMined\": -0.08714398908549337, \"TotalCoinSupply\": -0.039654846671166435}, {\"TotalCoinsMined\": 0.0210266283372817, \"TotalCoinSupply\": -0.03964142761815833}, {\"TotalCoinsMined\": -0.09761758180570931, \"TotalCoinSupply\": -0.0396550793062047}, {\"TotalCoinsMined\": -0.0018960088999411039, \"TotalCoinSupply\": -0.03965375110786947}, {\"TotalCoinsMined\": -0.09672819292316462, \"TotalCoinSupply\": -0.03965510669173739}, {\"TotalCoinsMined\": -0.09782131357463773, \"TotalCoinSupply\": -0.039630473405082}, {\"TotalCoinsMined\": 0.6302852400340608, \"TotalCoinSupply\": -0.039630473405082}, {\"TotalCoinsMined\": -0.09771897971887372, \"TotalCoinSupply\": -0.03965511496216827}, {\"TotalCoinsMined\": -0.09782131357463773, \"TotalCoinSupply\": -0.03965511912476923}, {\"TotalCoinsMined\": -0.09763142263536077, \"TotalCoinSupply\": -0.03965511463354188}, {\"TotalCoinsMined\": -0.0971607189284231, \"TotalCoinSupply\": -0.03965508752186451}, {\"TotalCoinsMined\": -0.09056683576764853, \"TotalCoinSupply\": -0.039654983456840286}, {\"TotalCoinsMined\": -0.09672071976227803, \"TotalCoinSupply\": -0.03965510285776282}, {\"TotalCoinsMined\": -0.08351981029255304, \"TotalCoinSupply\": -0.039654873914709524}, {\"TotalCoinsMined\": -0.09776071029307734, \"TotalCoinSupply\": -0.039655119289082434}, {\"TotalCoinsMined\": -0.09771466737674389, \"TotalCoinSupply\": -0.03965511463354188}, {\"TotalCoinsMined\": -0.0976161613407341, \"TotalCoinSupply\": -0.03965511408583122}, {\"TotalCoinsMined\": -0.09733333893040878, \"TotalCoinSupply\": -0.039655114861937214}, {\"TotalCoinsMined\": -0.09753295729000325, \"TotalCoinSupply\": -0.03965511408583122}, {\"TotalCoinsMined\": -0.09782131357463773, \"TotalCoinSupply\": -0.039654572673849926}, {\"TotalCoinsMined\": -0.09782131357463773, \"TotalCoinSupply\": 25.219040422173}, {\"TotalCoinsMined\": -0.09732656687186, \"TotalCoinSupply\": -0.03965511353812057}, {\"TotalCoinsMined\": -0.09778216059052955, \"TotalCoinSupply\": -0.03965511994139678}, {\"TotalCoinsMined\": -0.09759386932063192, \"TotalCoinSupply\": -0.03965511216884393}, {\"TotalCoinsMined\": 1.188050559024032, \"TotalCoinSupply\": -0.03938126505759556}, {\"TotalCoinsMined\": -0.09770471993910387, \"TotalCoinSupply\": -0.03965511583850531}, {\"TotalCoinsMined\": -0.09213852953251005, \"TotalCoinSupply\": -0.0396550568500679}, {\"TotalCoinsMined\": -0.09458043048861292, \"TotalCoinSupply\": -0.0396550283691139}, {\"TotalCoinsMined\": -0.09782131357463773, \"TotalCoinSupply\": -0.03965511463354188}, {\"TotalCoinsMined\": -0.09782131357463773, \"TotalCoinSupply\": -0.03965511572896318}, {\"TotalCoinsMined\": 0.14415758369252296, \"TotalCoinSupply\": -0.03965238183123466}, {\"TotalCoinsMined\": -0.09522426862240697, \"TotalCoinSupply\": -0.03965509299897105}, {\"TotalCoinsMined\": -0.08224281110067987, \"TotalCoinSupply\": -0.03965481914364414}, {\"TotalCoinsMined\": -0.09224856558330648, \"TotalCoinSupply\": -0.03965490130024221}, {\"TotalCoinsMined\": -0.0549404376647982, \"TotalCoinSupply\": -0.039653696336803816}, {\"TotalCoinsMined\": -0.08237380829637228, \"TotalCoinSupply\": -0.039654890346029134}, {\"TotalCoinsMined\": -0.09752014421924278, \"TotalCoinSupply\": -0.039655109430290665}, {\"TotalCoinsMined\": 0.25283065541297256, \"TotalCoinSupply\": -0.03965007953502226}, {\"TotalCoinsMined\": -0.09782131357463773, \"TotalCoinSupply\": -0.03964936942263867}, {\"TotalCoinsMined\": -0.09782131357463773, \"TotalCoinSupply\": -0.03965511175806094}, {\"TotalCoinsMined\": -0.09782131357463773, \"TotalCoinSupply\": -0.03965511463354188}, {\"TotalCoinsMined\": -0.09270835661868754, \"TotalCoinSupply\": -0.039654983456840286}, {\"TotalCoinsMined\": -0.09754905483709733, \"TotalCoinSupply\": -0.039655115087979045}, {\"TotalCoinsMined\": -0.09287335233749086, \"TotalCoinSupply\": -0.039655051246768824}, {\"TotalCoinsMined\": -0.09776885673352535, \"TotalCoinSupply\": -0.03965511353812057}, {\"TotalCoinsMined\": -0.09781116799522736, \"TotalCoinSupply\": -0.039655103953184126}, {\"TotalCoinsMined\": -0.0972025732164911, \"TotalCoinSupply\": -0.0396550864264432}, {\"TotalCoinsMined\": -0.08207215031810296, \"TotalCoinSupply\": -0.03965484652917683}, {\"TotalCoinsMined\": -0.09182961474198208, \"TotalCoinSupply\": -0.039653340324878834}, {\"TotalCoinsMined\": -0.09782131357463773, \"TotalCoinSupply\": -0.03965511435968655}, {\"TotalCoinsMined\": -0.09588429469376034, \"TotalCoinSupply\": -0.03965484652917683}, {\"TotalCoinsMined\": -0.09782131357463773, \"TotalCoinSupply\": -0.03965509299897105}, {\"TotalCoinsMined\": -0.0977228230298846, \"TotalCoinSupply\": -0.03965511463354188}, {\"TotalCoinsMined\": -0.09721636633146984, \"TotalCoinSupply\": -0.03965511353812057}, {\"TotalCoinsMined\": -0.09748767658878676, \"TotalCoinSupply\": -0.03965510669173739}, {\"TotalCoinsMined\": -0.09782131357463773, \"TotalCoinSupply\": -0.03965509735436617}, {\"TotalCoinsMined\": -0.09780085092407854, \"TotalCoinSupply\": -0.03965511956293776}, {\"TotalCoinsMined\": -0.09779270795460468, \"TotalCoinSupply\": -0.03965511901522711}, {\"TotalCoinsMined\": -0.09609466161079451, \"TotalCoinSupply\": -0.03965510121463085}, {\"TotalCoinsMined\": -0.09782131357463773, \"TotalCoinSupply\": -0.03965511427752995}, {\"TotalCoinsMined\": -0.09135327387902041, \"TotalCoinSupply\": -0.039654983456840286}, {\"TotalCoinsMined\": -0.09715973113060217, \"TotalCoinSupply\": -0.03965503822790567}, {\"TotalCoinsMined\": -0.09782131357463773, \"TotalCoinSupply\": -0.039655062874885086}, {\"TotalCoinsMined\": -0.09758408493214968, \"TotalCoinSupply\": -0.03965511463354188}, {\"TotalCoinsMined\": -0.09729194633837113, \"TotalCoinSupply\": -0.03965509628523497}, {\"TotalCoinsMined\": -0.09758222626780064, \"TotalCoinSupply\": -0.03965511216884393}, {\"TotalCoinsMined\": -0.09782131357463773, \"TotalCoinSupply\": -0.03965509299897105}, {\"TotalCoinsMined\": -0.09779152241529436, \"TotalCoinSupply\": -0.03965509299897105}, {\"TotalCoinsMined\": -0.09782131357463773, \"TotalCoinSupply\": -0.039654983456840286}, {\"TotalCoinsMined\": -0.09705178532369149, \"TotalCoinSupply\": -0.03965509299897105}, {\"TotalCoinsMined\": -0.09443991022791276, \"TotalCoinSupply\": -0.03965506561343836}, {\"TotalCoinsMined\": -0.09755331579739998, \"TotalCoinSupply\": -0.03965509847607759}, {\"TotalCoinsMined\": -0.09743373926579793, \"TotalCoinSupply\": -0.03965511534556573}, {\"TotalCoinsMined\": -0.09771475090785922, \"TotalCoinSupply\": -0.03965510806101403}, {\"TotalCoinsMined\": -0.0638436645178203, \"TotalCoinSupply\": -0.03965371771087798}, {\"TotalCoinsMined\": -0.09731147985741155, \"TotalCoinSupply\": -0.03965511463354188}, {\"TotalCoinsMined\": -0.09769796024115542, \"TotalCoinSupply\": -0.03965511318758575}, {\"TotalCoinsMined\": -0.09755743648025525, \"TotalCoinSupply\": -0.03965511463354188}, {\"TotalCoinsMined\": -0.0978020654358483, \"TotalCoinSupply\": -0.03965511545510785}, {\"TotalCoinsMined\": -0.09688469046749351, \"TotalCoinSupply\": -0.03965511326426524}, {\"TotalCoinsMined\": -0.0976522574450062, \"TotalCoinSupply\": -0.03965511750902281}, {\"TotalCoinsMined\": -0.09781927369253378, \"TotalCoinSupply\": -0.03965495607116574}, {\"TotalCoinsMined\": -0.09735783609963564, \"TotalCoinSupply\": -0.0396550793062047}, {\"TotalCoinsMined\": 0.9014189281143976, \"TotalCoinSupply\": -0.039604731004352633}, {\"TotalCoinsMined\": 0.14899716163786617, \"TotalCoinSupply\": -0.03965232706016927}, {\"TotalCoinsMined\": -0.09763668367565025, \"TotalCoinSupply\": -0.039655108334869356}, {\"TotalCoinsMined\": -0.09453372981329906, \"TotalCoinSupply\": -0.03965507437680882}, {\"TotalCoinsMined\": -0.09701701967020233, \"TotalCoinSupply\": -0.03965509299897105}, {\"TotalCoinsMined\": -0.0842684154608676, \"TotalCoinSupply\": -0.03965484652917683}, {\"TotalCoinsMined\": -0.09729865513506544, \"TotalCoinSupply\": -0.03965509738065628}, {\"TotalCoinsMined\": -0.09708849993043533, \"TotalCoinSupply\": -0.03965509573752432}, {\"TotalCoinsMined\": 1.7865182019652022, \"TotalCoinSupply\": -0.039629925694428185}, {\"TotalCoinsMined\": -0.09775558569483582, \"TotalCoinSupply\": -0.039654942378541246}, {\"TotalCoinsMined\": -0.09642240934742716, \"TotalCoinSupply\": -0.03965509292716481}, {\"TotalCoinsMined\": -0.09738103451972507, \"TotalCoinSupply\": -0.03965511543270485}, {\"TotalCoinsMined\": -0.09762468478892597, \"TotalCoinSupply\": -0.0396551143389557}, {\"TotalCoinsMined\": -0.09761211298954754, \"TotalCoinSupply\": -0.03965511463354188}, {\"TotalCoinsMined\": -0.09770049276842076, \"TotalCoinSupply\": -0.03965511463354188}, {\"TotalCoinsMined\": -0.09692785197349438, \"TotalCoinSupply\": -0.03965509777868747}, {\"TotalCoinsMined\": -0.09764993462803272, \"TotalCoinSupply\": -0.03965511463354188}, {\"TotalCoinsMined\": -0.09767807441398998, \"TotalCoinSupply\": -0.03965511897387495}, {\"TotalCoinsMined\": -0.09779609907222367, \"TotalCoinSupply\": -0.039650497706585526}, {\"TotalCoinsMined\": -0.09782131357463773, \"TotalCoinSupply\": -0.03965511052571197}, {\"TotalCoinsMined\": -0.09749869235592401, \"TotalCoinSupply\": -0.039655106007099074}, {\"TotalCoinsMined\": -0.0962229491278312, \"TotalCoinSupply\": -0.03965509299897105}, {\"TotalCoinsMined\": -0.09778703331798674, \"TotalCoinSupply\": -0.03965511433085971}, {\"TotalCoinsMined\": -0.09769055295773682, \"TotalCoinSupply\": -0.03965484652917683}, {\"TotalCoinsMined\": -0.09744430562984435, \"TotalCoinSupply\": -0.03965464113768165}, {\"TotalCoinsMined\": -0.097702964188367, \"TotalCoinSupply\": -0.039655096233506985}, {\"TotalCoinsMined\": -0.09782131357463773, \"TotalCoinSupply\": -0.03965509299897105}, {\"TotalCoinsMined\": -0.09746448778812049, \"TotalCoinSupply\": -0.039655062874885086}, {\"TotalCoinsMined\": 2.3111538769528943, \"TotalCoinSupply\": -0.03960460229234899}, {\"TotalCoinsMined\": -0.09735503209802175, \"TotalCoinSupply\": -0.03965510532246076}, {\"TotalCoinsMined\": -0.09707671726150151, \"TotalCoinSupply\": -0.03965510669173739}, {\"TotalCoinsMined\": -0.09521365538224144, \"TotalCoinSupply\": -0.03965504918211874}, {\"TotalCoinsMined\": -0.09759561667278485, \"TotalCoinSupply\": -0.039655062874885086}, {\"TotalCoinsMined\": -0.09782131357463773, \"TotalCoinSupply\": -0.03965507245982153}, {\"TotalCoinsMined\": -0.09782131357463773, \"TotalCoinSupply\": -0.039654890346029134}, {\"TotalCoinsMined\": -0.04700574514853399, \"TotalCoinSupply\": -0.03965454528831723}, {\"TotalCoinsMined\": -0.09782131357463773, \"TotalCoinSupply\": -0.03965510121463085}, {\"TotalCoinsMined\": -0.09770824859988624, \"TotalCoinSupply\": -0.03965502015345409}, {\"TotalCoinsMined\": -0.09771231081685708, \"TotalCoinSupply\": -0.03965509299897105}, {\"TotalCoinsMined\": -0.09769993983028788, \"TotalCoinSupply\": -0.03965511353812057}, {\"TotalCoinsMined\": -0.09782131357463773, \"TotalCoinSupply\": -0.039655051920672015}, {\"TotalCoinsMined\": -0.07217266162090363, \"TotalCoinSupply\": -0.03965019098861939}, {\"TotalCoinsMined\": -0.07362342384792167, \"TotalCoinSupply\": -0.03965484652917683}, {\"TotalCoinsMined\": -0.09758529332023669, \"TotalCoinSupply\": -0.03965509299897105}, {\"TotalCoinsMined\": -0.07362342384792167, \"TotalCoinSupply\": -0.03965484652917683}, {\"TotalCoinsMined\": -0.09782131357463773, \"TotalCoinSupply\": -0.03965505137296136}, {\"TotalCoinsMined\": 0.004659447579500901, \"TotalCoinSupply\": -0.03965303908401924}, {\"TotalCoinsMined\": -0.09765707269255823, \"TotalCoinSupply\": -0.03965510669173739}, {\"TotalCoinsMined\": -0.09782131357463773, \"TotalCoinSupply\": -0.03965511236054266}, {\"TotalCoinsMined\": -0.09782131357463773, \"TotalCoinSupply\": -0.039627734851812924}, {\"TotalCoinsMined\": -0.09749137897789742, \"TotalCoinSupply\": -0.03965509738065628}, {\"TotalCoinsMined\": -0.09782131357463773, \"TotalCoinSupply\": -0.039655116641931935}, {\"TotalCoinsMined\": -0.09738593268930516, \"TotalCoinSupply\": -0.03965511463354188}, {\"TotalCoinsMined\": -0.09277566968240589, \"TotalCoinSupply\": -0.039635950511620166}, {\"TotalCoinsMined\": -0.09782131357463773, \"TotalCoinSupply\": -0.03965509299897105}, {\"TotalCoinsMined\": -0.05264252563718439, \"TotalCoinSupply\": -0.03965290763346232}, {\"TotalCoinsMined\": -0.09782131357463773, \"TotalCoinSupply\": -0.0396551077871587}, {\"TotalCoinsMined\": -0.09782131357463773, \"TotalCoinSupply\": -0.03965511871398625}, {\"TotalCoinsMined\": -0.0969668331980018, \"TotalCoinSupply\": -0.03965510559631608}, {\"TotalCoinsMined\": -0.09782131357463773, \"TotalCoinSupply\": -0.03965510888258001}, {\"TotalCoinsMined\": -0.09778312249745807, \"TotalCoinSupply\": -0.03965509159683138}, {\"TotalCoinsMined\": -0.09743785636134197, \"TotalCoinSupply\": -0.03965511347546247}, {\"TotalCoinsMined\": -0.09782131357463773, \"TotalCoinSupply\": -0.039655114633606506}, {\"TotalCoinsMined\": -0.09749522474851169, \"TotalCoinSupply\": -0.03965509162969441}, {\"TotalCoinsMined\": -0.09781148700701767, \"TotalCoinSupply\": -0.03965511463354188}, {\"TotalCoinsMined\": -0.09696749787942423, \"TotalCoinSupply\": -0.03965508752186451}, {\"TotalCoinsMined\": -0.09746372806396877, \"TotalCoinSupply\": -0.03965511463354188}, {\"TotalCoinsMined\": -0.09695775090105777, \"TotalCoinSupply\": -0.03965504841532383}, {\"TotalCoinsMined\": -0.09737933884658688, \"TotalCoinSupply\": -0.03965511517139401}, {\"TotalCoinsMined\": -0.09721271759217266, \"TotalCoinSupply\": -0.03965511192620811}, {\"TotalCoinsMined\": -0.09777449787684601, \"TotalCoinSupply\": -0.03965511672305802}, {\"TotalCoinsMined\": 0.6480958177538072, \"TotalCoinSupply\": -0.03963463600605101}, {\"TotalCoinsMined\": -0.0975085367233587, \"TotalCoinSupply\": -0.03965509299897105}, {\"TotalCoinsMined\": -0.09780399612636916, \"TotalCoinSupply\": -0.0396551149895538}, {\"TotalCoinsMined\": -0.09732413095084219, \"TotalCoinSupply\": -0.03965509738065628}, {\"TotalCoinsMined\": -0.09782131357463773, \"TotalCoinSupply\": -0.03965509299897105}, {\"TotalCoinsMined\": -0.09300743029489468, \"TotalCoinSupply\": -0.039654983456840286}, {\"TotalCoinsMined\": -0.07613126487606332, \"TotalCoinSupply\": -0.0396537511078692}, {\"TotalCoinsMined\": -0.09744817643970452, \"TotalCoinSupply\": -0.039655005365266435}, {\"TotalCoinsMined\": -0.09782131357463773, \"TotalCoinSupply\": -0.03965509162969441}, {\"TotalCoinsMined\": -0.09655591308253143, \"TotalCoinSupply\": -0.03965510285776282}, {\"TotalCoinsMined\": -0.09779299496577473, \"TotalCoinSupply\": -0.03965511980940755}, {\"TotalCoinsMined\": -0.09577385511140224, \"TotalCoinSupply\": -0.03965507437680882}, {\"TotalCoinsMined\": -0.09724598550864942, \"TotalCoinSupply\": -0.03965511216884393}, {\"TotalCoinsMined\": -0.07362342384792167, \"TotalCoinSupply\": -0.03965484652917683}, {\"TotalCoinsMined\": -0.09782131357463773, \"TotalCoinSupply\": -0.03965511353812057}, {\"TotalCoinsMined\": 0.272863426747769, \"TotalCoinSupply\": -0.03964553544806195}, {\"TotalCoinsMined\": -0.09782131357463773, \"TotalCoinSupply\": -0.03965511533187296}, {\"TotalCoinsMined\": -0.09647675598358423, \"TotalCoinSupply\": -0.039628255176934045}, {\"TotalCoinsMined\": -0.005272007414838013, \"TotalCoinSupply\": -0.03965402496319611}, {\"TotalCoinsMined\": -0.09773572200899089, \"TotalCoinSupply\": -0.03965506561343836}, {\"TotalCoinsMined\": -0.09725612854223203, \"TotalCoinSupply\": -0.039653203397215384}, {\"TotalCoinsMined\": -0.0973234049223435, \"TotalCoinSupply\": -0.039655105526176536}, {\"TotalCoinsMined\": -0.09771503019393821, \"TotalCoinSupply\": -0.03965511463354188}, {\"TotalCoinsMined\": -0.08726247668736829, \"TotalCoinSupply\": -0.039654983456840286}, {\"TotalCoinsMined\": -0.09782131357463773, \"TotalCoinSupply\": -0.03965511534556573}, {\"TotalCoinsMined\": -0.07894186109243378, \"TotalCoinSupply\": -0.03965484652917683}, {\"TotalCoinsMined\": -0.07408965598698261, \"TotalCoinSupply\": -0.0396522449035712}, {\"TotalCoinsMined\": 0.3362821747999608, \"TotalCoinSupply\": -0.039655068351991625}, {\"TotalCoinsMined\": -0.08586173243961967, \"TotalCoinSupply\": -0.03965484652917683}, {\"TotalCoinsMined\": -0.09726507839947278, \"TotalCoinSupply\": -0.03965510888258001}, {\"TotalCoinsMined\": -0.09636944019103477, \"TotalCoinSupply\": -0.039655116276673834}, {\"TotalCoinsMined\": -0.09782131357463773, \"TotalCoinSupply\": -0.03965511533276463}, {\"TotalCoinsMined\": 0.6180487977377573, \"TotalCoinSupply\": -0.03964142761815833}, {\"TotalCoinsMined\": -0.09782131357463773, \"TotalCoinSupply\": -0.03965511353812057}, {\"TotalCoinsMined\": -0.08803770808469408, \"TotalCoinSupply\": -0.039655010842372974}, {\"TotalCoinsMined\": -0.0960476517198049, \"TotalCoinSupply\": -0.03965509162969441}, {\"TotalCoinsMined\": -0.09294872178465267, \"TotalCoinSupply\": -0.03965506342259574}, {\"TotalCoinsMined\": -0.09531388284187199, \"TotalCoinSupply\": -0.03965507656765144}, {\"TotalCoinsMined\": -0.0977288474915662, \"TotalCoinSupply\": -0.0396551179198058}, {\"TotalCoinsMined\": -0.09769905238365198, \"TotalCoinSupply\": -0.03965511901522711}, {\"TotalCoinsMined\": -0.09613509680626581, \"TotalCoinSupply\": -0.03965507054283424}, {\"TotalCoinsMined\": -0.09741234463720606, \"TotalCoinSupply\": -0.03965511586470423}, {\"TotalCoinsMined\": -0.09601431038978012, \"TotalCoinSupply\": -0.03965509162969441}, {\"TotalCoinsMined\": -0.09491727304505053, \"TotalCoinSupply\": -0.03965507658999803}, {\"TotalCoinsMined\": 0.14416350437653094, \"TotalCoinSupply\": -0.03965237941154895}, {\"TotalCoinsMined\": -0.09172331072178705, \"TotalCoinSupply\": -0.03965503822790567}, {\"TotalCoinsMined\": -0.09782131357463773, \"TotalCoinSupply\": -0.03965487665326279}, {\"TotalCoinsMined\": -0.09779420262183479, \"TotalCoinSupply\": -0.039655103907136724}, {\"TotalCoinsMined\": -0.09782131357463773, \"TotalCoinSupply\": -0.03965503822790567}, {\"TotalCoinsMined\": -0.2410238816855424, \"TotalCoinSupply\": -0.0396537511078692}, {\"TotalCoinsMined\": -0.09774066388351504, \"TotalCoinSupply\": -0.039655119617708824}, {\"TotalCoinsMined\": -0.09781790705008583, \"TotalCoinSupply\": -0.0396551203516411}, {\"TotalCoinsMined\": -0.09540152460196613, \"TotalCoinSupply\": -0.03965454528831723}, {\"TotalCoinsMined\": -0.09722875700377309, \"TotalCoinSupply\": -0.039655113678349826}, {\"TotalCoinsMined\": -0.09782131357463773, \"TotalCoinSupply\": -0.03965484652917683}, {\"TotalCoinsMined\": -0.07362342384792167, \"TotalCoinSupply\": -0.03965484652917683}, {\"TotalCoinsMined\": -0.09540152460196613, \"TotalCoinSupply\": -0.03965509299897105}, {\"TotalCoinsMined\": -0.09759668123574292, \"TotalCoinSupply\": -0.039655118019998506}, {\"TotalCoinsMined\": 23.857816404931505, \"TotalCoinSupply\": -0.039384003610864644}, {\"TotalCoinsMined\": -0.07362342384792167, \"TotalCoinSupply\": -0.03965484652917683}, {\"TotalCoinsMined\": -0.04942553423480017, \"TotalCoinSupply\": -0.039654572673849926}, {\"TotalCoinsMined\": -0.09746001376628274, \"TotalCoinSupply\": -0.039655051920672015}, {\"TotalCoinsMined\": -0.07410199531319227, \"TotalCoinSupply\": -0.03965473692608314}, {\"TotalCoinsMined\": -0.09764475276482588, \"TotalCoinSupply\": -0.03965511463354188}, {\"TotalCoinsMined\": -0.09781820833213134, \"TotalCoinSupply\": -0.03965512011064841}]}}, {\"mode\": \"vega-lite\"});\n",
       "</script>"
      ],
      "text/plain": [
       "alt.Chart(...)"
      ]
     },
     "execution_count": 192,
     "metadata": {},
     "output_type": "execute_result"
    }
   ],
   "source": [
    "alt.Chart(df_temp).mark_circle(size=60).encode(\n",
    "    x=\"TotalCoinsMined\",\n",
    "    y='TotalCoinSupply',\n",
    "#     color='indx'\n",
    "#     tooltip=['indx']\n",
    ").interactive()"
   ]
  },
  {
   "cell_type": "code",
   "execution_count": null,
   "metadata": {},
   "outputs": [],
   "source": []
  },
  {
   "cell_type": "code",
   "execution_count": null,
   "metadata": {},
   "outputs": [],
   "source": []
  }
 ],
 "metadata": {
  "file_extension": ".py",
  "kernelspec": {
   "display_name": "Python [conda env:pyvizenv] *",
   "language": "python",
   "name": "conda-env-pyvizenv-py"
  },
  "language_info": {
   "codemirror_mode": {
    "name": "ipython",
    "version": 3
   },
   "file_extension": ".py",
   "mimetype": "text/x-python",
   "name": "python",
   "nbconvert_exporter": "python",
   "pygments_lexer": "ipython3",
   "version": "3.7.9"
  },
  "mimetype": "text/x-python",
  "name": "python",
  "npconvert_exporter": "python",
  "pygments_lexer": "ipython3",
  "version": 3
 },
 "nbformat": 4,
 "nbformat_minor": 4
}
